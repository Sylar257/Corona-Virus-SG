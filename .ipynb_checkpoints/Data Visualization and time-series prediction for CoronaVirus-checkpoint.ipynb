{
 "cells": [
  {
   "cell_type": "code",
   "execution_count": 1,
   "metadata": {},
   "outputs": [],
   "source": [
    "import numpy as np\n",
    "import pandas as pd"
   ]
  },
  {
   "cell_type": "code",
   "execution_count": 91,
   "metadata": {
    "scrolled": true
   },
   "outputs": [],
   "source": [
    "from fbprophet import Prophet\n",
    "from fbprophet.diagnostics import cross_validation, performance_metrics\n",
    "from fbprophet.plot import plot_cross_validation_metric, add_changepoints_to_plot, plot_plotly\n",
    "import seaborn as sns\n",
    "import matplotlib.pyplot as plt\n",
    "import plotly.express as px\n",
    "import plotly.graph_objs as go\n",
    "from plotly.offline import iplot, init_notebook_mode\n",
    "%matplotlib inline\n",
    "plt.style.use('ggplot')"
   ]
  },
  {
   "cell_type": "markdown",
   "metadata": {},
   "source": [
    "# Read in the data from Kaggle"
   ]
  },
  {
   "cell_type": "code",
   "execution_count": 88,
   "metadata": {},
   "outputs": [],
   "source": [
    "df = pd.read_csv('2019_nCoV_data.csv')\n",
    "# conf_df = pd.read_csv('time_series_2019_ncov_confirmed.csv')\n",
    "# deaths_df = pd.read_csv('time_series_2019_ncov_deaths.csv')\n",
    "# recv_df = pd.read_csv('time_series_2019_ncov_recovered.csv')\n",
    "\n",
    "conf_df = pd.read_csv('time_series_2019-ncov-Confirmed.csv')\n",
    "deaths_df = pd.read_csv('time_series_2019-ncov-Deaths.csv')\n",
    "recv_df = pd.read_csv('time_series_2019-ncov-Recovered.csv')"
   ]
  },
  {
   "cell_type": "code",
   "execution_count": 94,
   "metadata": {
    "scrolled": false
   },
   "outputs": [
    {
     "data": {
      "text/html": [
       "<div>\n",
       "<style scoped>\n",
       "    .dataframe tbody tr th:only-of-type {\n",
       "        vertical-align: middle;\n",
       "    }\n",
       "\n",
       "    .dataframe tbody tr th {\n",
       "        vertical-align: top;\n",
       "    }\n",
       "\n",
       "    .dataframe thead th {\n",
       "        text-align: right;\n",
       "    }\n",
       "</style>\n",
       "<table border=\"1\" class=\"dataframe\">\n",
       "  <thead>\n",
       "    <tr style=\"text-align: right;\">\n",
       "      <th></th>\n",
       "      <th>Sno</th>\n",
       "      <th>Date</th>\n",
       "      <th>Province/State</th>\n",
       "      <th>Country</th>\n",
       "      <th>Last Update</th>\n",
       "      <th>Confirmed</th>\n",
       "      <th>Deaths</th>\n",
       "      <th>Recovered</th>\n",
       "    </tr>\n",
       "  </thead>\n",
       "  <tbody>\n",
       "    <tr>\n",
       "      <th>0</th>\n",
       "      <td>1</td>\n",
       "      <td>01/22/2020 12:00:00</td>\n",
       "      <td>Anhui</td>\n",
       "      <td>China</td>\n",
       "      <td>01/22/2020 12:00:00</td>\n",
       "      <td>1.0</td>\n",
       "      <td>0.0</td>\n",
       "      <td>0.0</td>\n",
       "    </tr>\n",
       "    <tr>\n",
       "      <th>1</th>\n",
       "      <td>2</td>\n",
       "      <td>01/22/2020 12:00:00</td>\n",
       "      <td>Beijing</td>\n",
       "      <td>China</td>\n",
       "      <td>01/22/2020 12:00:00</td>\n",
       "      <td>14.0</td>\n",
       "      <td>0.0</td>\n",
       "      <td>0.0</td>\n",
       "    </tr>\n",
       "    <tr>\n",
       "      <th>2</th>\n",
       "      <td>3</td>\n",
       "      <td>01/22/2020 12:00:00</td>\n",
       "      <td>Chongqing</td>\n",
       "      <td>China</td>\n",
       "      <td>01/22/2020 12:00:00</td>\n",
       "      <td>6.0</td>\n",
       "      <td>0.0</td>\n",
       "      <td>0.0</td>\n",
       "    </tr>\n",
       "    <tr>\n",
       "      <th>3</th>\n",
       "      <td>4</td>\n",
       "      <td>01/22/2020 12:00:00</td>\n",
       "      <td>Fujian</td>\n",
       "      <td>China</td>\n",
       "      <td>01/22/2020 12:00:00</td>\n",
       "      <td>1.0</td>\n",
       "      <td>0.0</td>\n",
       "      <td>0.0</td>\n",
       "    </tr>\n",
       "    <tr>\n",
       "      <th>4</th>\n",
       "      <td>5</td>\n",
       "      <td>01/22/2020 12:00:00</td>\n",
       "      <td>Gansu</td>\n",
       "      <td>China</td>\n",
       "      <td>01/22/2020 12:00:00</td>\n",
       "      <td>0.0</td>\n",
       "      <td>0.0</td>\n",
       "      <td>0.0</td>\n",
       "    </tr>\n",
       "    <tr>\n",
       "      <th>5</th>\n",
       "      <td>6</td>\n",
       "      <td>01/22/2020 12:00:00</td>\n",
       "      <td>Guangdong</td>\n",
       "      <td>China</td>\n",
       "      <td>01/22/2020 12:00:00</td>\n",
       "      <td>26.0</td>\n",
       "      <td>0.0</td>\n",
       "      <td>0.0</td>\n",
       "    </tr>\n",
       "    <tr>\n",
       "      <th>6</th>\n",
       "      <td>7</td>\n",
       "      <td>01/22/2020 12:00:00</td>\n",
       "      <td>Guangxi</td>\n",
       "      <td>China</td>\n",
       "      <td>01/22/2020 12:00:00</td>\n",
       "      <td>2.0</td>\n",
       "      <td>0.0</td>\n",
       "      <td>0.0</td>\n",
       "    </tr>\n",
       "    <tr>\n",
       "      <th>7</th>\n",
       "      <td>8</td>\n",
       "      <td>01/22/2020 12:00:00</td>\n",
       "      <td>Guizhou</td>\n",
       "      <td>China</td>\n",
       "      <td>01/22/2020 12:00:00</td>\n",
       "      <td>1.0</td>\n",
       "      <td>0.0</td>\n",
       "      <td>0.0</td>\n",
       "    </tr>\n",
       "    <tr>\n",
       "      <th>8</th>\n",
       "      <td>9</td>\n",
       "      <td>01/22/2020 12:00:00</td>\n",
       "      <td>Hainan</td>\n",
       "      <td>China</td>\n",
       "      <td>01/22/2020 12:00:00</td>\n",
       "      <td>4.0</td>\n",
       "      <td>0.0</td>\n",
       "      <td>0.0</td>\n",
       "    </tr>\n",
       "    <tr>\n",
       "      <th>9</th>\n",
       "      <td>10</td>\n",
       "      <td>01/22/2020 12:00:00</td>\n",
       "      <td>Hebei</td>\n",
       "      <td>China</td>\n",
       "      <td>01/22/2020 12:00:00</td>\n",
       "      <td>1.0</td>\n",
       "      <td>0.0</td>\n",
       "      <td>0.0</td>\n",
       "    </tr>\n",
       "  </tbody>\n",
       "</table>\n",
       "</div>"
      ],
      "text/plain": [
       "   Sno                 Date Province/State Country          Last Update  \\\n",
       "0    1  01/22/2020 12:00:00          Anhui   China  01/22/2020 12:00:00   \n",
       "1    2  01/22/2020 12:00:00        Beijing   China  01/22/2020 12:00:00   \n",
       "2    3  01/22/2020 12:00:00      Chongqing   China  01/22/2020 12:00:00   \n",
       "3    4  01/22/2020 12:00:00         Fujian   China  01/22/2020 12:00:00   \n",
       "4    5  01/22/2020 12:00:00          Gansu   China  01/22/2020 12:00:00   \n",
       "5    6  01/22/2020 12:00:00      Guangdong   China  01/22/2020 12:00:00   \n",
       "6    7  01/22/2020 12:00:00        Guangxi   China  01/22/2020 12:00:00   \n",
       "7    8  01/22/2020 12:00:00        Guizhou   China  01/22/2020 12:00:00   \n",
       "8    9  01/22/2020 12:00:00         Hainan   China  01/22/2020 12:00:00   \n",
       "9   10  01/22/2020 12:00:00          Hebei   China  01/22/2020 12:00:00   \n",
       "\n",
       "   Confirmed  Deaths  Recovered  \n",
       "0        1.0     0.0        0.0  \n",
       "1       14.0     0.0        0.0  \n",
       "2        6.0     0.0        0.0  \n",
       "3        1.0     0.0        0.0  \n",
       "4        0.0     0.0        0.0  \n",
       "5       26.0     0.0        0.0  \n",
       "6        2.0     0.0        0.0  \n",
       "7        1.0     0.0        0.0  \n",
       "8        4.0     0.0        0.0  \n",
       "9        1.0     0.0        0.0  "
      ]
     },
     "execution_count": 94,
     "metadata": {},
     "output_type": "execute_result"
    }
   ],
   "source": [
    "df.head(10)"
   ]
  },
  {
   "cell_type": "markdown",
   "metadata": {},
   "source": [
    "# Data wrangling"
   ]
  },
  {
   "cell_type": "code",
   "execution_count": 72,
   "metadata": {},
   "outputs": [],
   "source": [
    "dates = list(conf_df.columns[4:])\n",
    "dates1 = list(recv_df.columns[4:])"
   ]
  },
  {
   "cell_type": "markdown",
   "metadata": {},
   "source": [
    "### We would want to aggregate the confirmed/death/recovered data under one date frame"
   ]
  },
  {
   "cell_type": "code",
   "execution_count": 73,
   "metadata": {
    "scrolled": true
   },
   "outputs": [],
   "source": [
    "conf_df_long = conf_df.melt(id_vars=['Province/State', 'Country/Region', 'Lat', 'Long'], \n",
    "                            value_vars=dates, var_name='Date', value_name='Confirmed')\n",
    "\n",
    "deaths_df_long = deaths_df.melt(id_vars=['Province/State', 'Country/Region', 'Lat', 'Long'], \n",
    "                            value_vars=dates, var_name='Date', value_name='Deaths')\n",
    "\n",
    "recv_df_long = recv_df.melt(id_vars=['Province/State', 'Country/Region', 'Lat', 'Long'], \n",
    "                            value_vars=dates, var_name='Date', value_name='Recovered')\n",
    "\n",
    "full_table = pd.concat([conf_df_long, deaths_df_long['Deaths'], recv_df_long['Recovered']], \n",
    "                       axis=1, sort=False)"
   ]
  },
  {
   "cell_type": "code",
   "execution_count": 74,
   "metadata": {},
   "outputs": [
    {
     "data": {
      "text/plain": [
       "Province/State            object\n",
       "Country/Region            object\n",
       "Lat                      float64\n",
       "Long                     float64\n",
       "Date              datetime64[ns]\n",
       "Confirmed                  int64\n",
       "Deaths                     int64\n",
       "Recovered                  int64\n",
       "dtype: object"
      ]
     },
     "execution_count": 74,
     "metadata": {},
     "output_type": "execute_result"
    }
   ],
   "source": [
    "full_table['Date'] = pd.to_datetime(full_table['Date'])\n",
    "full_table['Recovered'] = full_table['Recovered'].astype('int')\n",
    "full_table.dtypes"
   ]
  },
  {
   "cell_type": "code",
   "execution_count": 75,
   "metadata": {
    "scrolled": true
   },
   "outputs": [
    {
     "data": {
      "text/html": [
       "<div>\n",
       "<style scoped>\n",
       "    .dataframe tbody tr th:only-of-type {\n",
       "        vertical-align: middle;\n",
       "    }\n",
       "\n",
       "    .dataframe tbody tr th {\n",
       "        vertical-align: top;\n",
       "    }\n",
       "\n",
       "    .dataframe thead th {\n",
       "        text-align: right;\n",
       "    }\n",
       "</style>\n",
       "<table border=\"1\" class=\"dataframe\">\n",
       "  <thead>\n",
       "    <tr style=\"text-align: right;\">\n",
       "      <th></th>\n",
       "      <th>Province/State</th>\n",
       "      <th>Country/Region</th>\n",
       "      <th>Lat</th>\n",
       "      <th>Long</th>\n",
       "      <th>Date</th>\n",
       "      <th>Confirmed</th>\n",
       "      <th>Deaths</th>\n",
       "      <th>Recovered</th>\n",
       "    </tr>\n",
       "  </thead>\n",
       "  <tbody>\n",
       "    <tr>\n",
       "      <th>0</th>\n",
       "      <td>Anhui</td>\n",
       "      <td>Mainland China</td>\n",
       "      <td>31.82571</td>\n",
       "      <td>117.2264</td>\n",
       "      <td>2020-01-22</td>\n",
       "      <td>1</td>\n",
       "      <td>0</td>\n",
       "      <td>0</td>\n",
       "    </tr>\n",
       "    <tr>\n",
       "      <th>1</th>\n",
       "      <td>Beijing</td>\n",
       "      <td>Mainland China</td>\n",
       "      <td>40.18238</td>\n",
       "      <td>116.4142</td>\n",
       "      <td>2020-01-22</td>\n",
       "      <td>14</td>\n",
       "      <td>0</td>\n",
       "      <td>0</td>\n",
       "    </tr>\n",
       "    <tr>\n",
       "      <th>2</th>\n",
       "      <td>Chongqing</td>\n",
       "      <td>Mainland China</td>\n",
       "      <td>30.05718</td>\n",
       "      <td>107.8740</td>\n",
       "      <td>2020-01-22</td>\n",
       "      <td>6</td>\n",
       "      <td>0</td>\n",
       "      <td>0</td>\n",
       "    </tr>\n",
       "    <tr>\n",
       "      <th>3</th>\n",
       "      <td>Fujian</td>\n",
       "      <td>Mainland China</td>\n",
       "      <td>26.07783</td>\n",
       "      <td>117.9895</td>\n",
       "      <td>2020-01-22</td>\n",
       "      <td>1</td>\n",
       "      <td>0</td>\n",
       "      <td>0</td>\n",
       "    </tr>\n",
       "    <tr>\n",
       "      <th>4</th>\n",
       "      <td>Gansu</td>\n",
       "      <td>Mainland China</td>\n",
       "      <td>36.06110</td>\n",
       "      <td>103.8343</td>\n",
       "      <td>2020-01-22</td>\n",
       "      <td>0</td>\n",
       "      <td>0</td>\n",
       "      <td>0</td>\n",
       "    </tr>\n",
       "  </tbody>\n",
       "</table>\n",
       "</div>"
      ],
      "text/plain": [
       "  Province/State  Country/Region       Lat      Long       Date  Confirmed  \\\n",
       "0          Anhui  Mainland China  31.82571  117.2264 2020-01-22          1   \n",
       "1        Beijing  Mainland China  40.18238  116.4142 2020-01-22         14   \n",
       "2      Chongqing  Mainland China  30.05718  107.8740 2020-01-22          6   \n",
       "3         Fujian  Mainland China  26.07783  117.9895 2020-01-22          1   \n",
       "4          Gansu  Mainland China  36.06110  103.8343 2020-01-22          0   \n",
       "\n",
       "   Deaths  Recovered  \n",
       "0       0          0  \n",
       "1       0          0  \n",
       "2       0          0  \n",
       "3       0          0  \n",
       "4       0          0  "
      ]
     },
     "execution_count": 75,
     "metadata": {},
     "output_type": "execute_result"
    }
   ],
   "source": [
    "full_table.head()"
   ]
  },
  {
   "cell_type": "code",
   "execution_count": 76,
   "metadata": {},
   "outputs": [
    {
     "data": {
      "text/plain": [
       "array(['Mainland China', 'Thailand', 'Japan', 'South Korea', 'Taiwan',\n",
       "       'US', 'Macau', 'Hong Kong', 'Singapore', 'Vietnam', 'France',\n",
       "       'Nepal', 'Malaysia', 'Canada', 'Australia', 'Cambodia',\n",
       "       'Sri Lanka', 'Germany', 'Finland', 'United Arab Emirates',\n",
       "       'Philippines', 'India', 'Italy', 'UK', 'Russia', 'Sweden', 'Spain',\n",
       "       'Belgium', 'Others', 'Egypt', 'Iran'], dtype=object)"
      ]
     },
     "execution_count": 76,
     "metadata": {},
     "output_type": "execute_result"
    }
   ],
   "source": [
    "full_table['Country/Region'].unique()"
   ]
  },
  {
   "cell_type": "markdown",
   "metadata": {},
   "source": [
    "## Add a column for population of the city"
   ]
  },
  {
   "cell_type": "code",
   "execution_count": 77,
   "metadata": {},
   "outputs": [
    {
     "data": {
      "text/plain": [
       "array(['Anhui', 'Beijing', 'Chongqing', 'Fujian', 'Gansu', 'Guangdong',\n",
       "       'Guangxi', 'Guizhou', 'Hainan', 'Hebei', 'Heilongjiang', 'Henan',\n",
       "       'Hubei', 'Hunan', 'Inner Mongolia', 'Jiangsu', 'Jiangxi', 'Jilin',\n",
       "       'Liaoning', 'Ningxia', 'Qinghai', 'Shaanxi', 'Shandong',\n",
       "       'Shanghai', 'Shanxi', 'Sichuan', 'Tianjin', 'Tibet', 'Xinjiang',\n",
       "       'Yunnan', 'Zhejiang', nan, 'Taiwan', 'Seattle, WA', 'Chicago, IL',\n",
       "       'Tempe, AZ', 'Macau', 'Hong Kong', 'Toronto, ON',\n",
       "       'British Columbia', 'Orange, CA', 'Los Angeles, CA',\n",
       "       'New South Wales', 'Victoria', 'Queensland', 'London, ON',\n",
       "       'Santa Clara, CA', 'South Australia', 'Boston, MA',\n",
       "       'San Benito, CA', 'Madison, WI', 'Diamond Princess cruise ship',\n",
       "       'San Diego County, CA', 'San Antonio, TX'], dtype=object)"
      ]
     },
     "execution_count": 77,
     "metadata": {},
     "output_type": "execute_result"
    }
   ],
   "source": [
    "full_table['Province/State'].unique()"
   ]
  },
  {
   "cell_type": "code",
   "execution_count": 78,
   "metadata": {},
   "outputs": [],
   "source": [
    "def label_race (row):\n",
    "    if row['Province/State'] == 'Anhui' :\n",
    "        return 62.0\n",
    "    if row['Province/State'] == 'Beijing' :\n",
    "        return 21.54\n",
    "    if row['Province/State'] == 'Chongqing':\n",
    "        return 30.48\n",
    "    if row['Province/State'] == 'Fujian':\n",
    "        return 38.56\n",
    "    if row['Province/State']  == 'Gansu':\n",
    "        return 25.58\n",
    "    if row['Province/State']  == 'Guangdong':\n",
    "        return 113.46 \n",
    "    if row['Province/State']  == 'Guangxi':\n",
    "        return 48.38 \n",
    "    if row['Province/State']  == 'Guizhou':\n",
    "        return 34.75 \n",
    "    if row['Province/State']  == 'Hainan':\n",
    "        return 9.3\n",
    "    if row['Province/State']  == 'Hebei':\n",
    "        return 74.7\n",
    "    if row['Province/State']  == 'Heilongjiang':\n",
    "        return 38.31\n",
    "    if row['Province/State']  == 'Henan':\n",
    "        return 94 \n",
    "    if row['Province/State']  == 'Hubei':\n",
    "        return 58.5\n",
    "    if row['Province/State']  == 'Hunan':\n",
    "        return 67.37\n",
    "    if row['Province/State']  == 'Inner Mongolia':\n",
    "        return 24.71\n",
    "    if row['Province/State']  == 'Jiangsu':\n",
    "        return 80.4\n",
    "    if row['Province/State']  == 'Jiangxi':\n",
    "        return 45.2\n",
    "    if row['Province/State']  == 'Jilin':\n",
    "        return 27.46\n",
    "    if row['Province/State']  == 'Liaoning':\n",
    "        return 43.9 \n",
    "    if row['Province/State']  == 'Ningxia':\n",
    "        return 6.3\n",
    "    if row['Province/State']  == 'Qinghai':\n",
    "        return 5.6 \n",
    "    if row['Province/State']  == 'Shaanxi':\n",
    "        return 37.33\n",
    "    if row['Province/State']  == 'Shandong':\n",
    "        return 90.0\n",
    "    if row['Province/State']  == 'Shanghai':\n",
    "        return 24.24\n",
    "    if row['Province/State']  == 'Shanxi':\n",
    "        return 36.5\n",
    "    if row['Province/State']  == 'Sichuan':\n",
    "        return 81.1\n",
    "    if row['Province/State']  == 'Tianjin':\n",
    "        return 15.0 \n",
    "    if row['Province/State']  == 'Tibet':\n",
    "        return 3.2\n",
    "    if row['Province/State']  == 'Xinjiang':\n",
    "        return 22.0\n",
    "    if row['Province/State']  == 'Yunnan':\n",
    "        return 46.0\n",
    "    if row['Province/State']  == 'Zhejiang':\n",
    "        return 57.4\n",
    "    if row['Province/State']  == 'Taiwan':\n",
    "        return 23.78\n",
    "    if row['Province/State']  == 'Seattle, WA':\n",
    "        return 0.72\n",
    "    if row['Province/State']  == 'Chicago, IL':\n",
    "        return 2.7\n",
    "    if row['Province/State']  == 'Tempe, AZ':\n",
    "        return 0.185\n",
    "    if row['Province/State']  == 'Macau':\n",
    "        return 0.62\n",
    "    if row['Province/State']  == 'Hong Kong':\n",
    "        return 7.4\n",
    "    if row['Province/State']  == 'Toronto, ON':\n",
    "        return 2.93\n",
    "    if row['Province/State']  == 'British Columbia':\n",
    "        return 5.07\n",
    "    if row['Province/State']  == 'Orange, CA':\n",
    "        return 0.14\n",
    "    if row['Province/State']  == 'Los Angeles, CA':\n",
    "        return 4.0\n",
    "    if row['Province/State']  == 'New South Wales':\n",
    "        return 7.54\n",
    "    if row['Province/State']  == 'Victoria':\n",
    "        return 6.4\n",
    "    if row['Province/State']  == 'Queensland':\n",
    "        return 5.07\n",
    "    if row['Province/State']  == 'London, ON':\n",
    "        return 0.4\n",
    "    if row['Province/State']  == 'Santa Clara, CA':\n",
    "        return 0.127\n",
    "    if row['Province/State']  == 'South Australia':\n",
    "        return 1.677\n",
    "    if row['Province/State']  == 'Boston, MA':\n",
    "        return 0.685\n",
    "    if row['Province/State']  == 'San Benito, CA':\n",
    "        return 0.06\n",
    "    if row['Province/State']  == 'Madison, WI':\n",
    "        return 0.255\n",
    "    if row['Province/State']  == 'Diamond Princess cruise ship':\n",
    "        return 4/1000\n",
    "    \n",
    "    # Below are countries without going to specific cities\n",
    "    if row['Country/Region']  == 'Thailand':\n",
    "        return 69.04\n",
    "    if row['Country/Region']  == 'Japan':\n",
    "        return 126.8\n",
    "    if row['Country/Region']  == 'South Korea':\n",
    "        return 51.47\n",
    "    if row['Country/Region']  == 'Singapore':\n",
    "        return 5.6\n",
    "    if row['Country/Region']  == 'Vietnam':\n",
    "        return 95.54\n",
    "    if row['Country/Region']  == 'France':\n",
    "        return 67.0\n",
    "    if row['Country/Region']  == 'Nepal':\n",
    "        return 29.3\n",
    "    if row['Country/Region']  == 'Malaysia':\n",
    "        return 31.62\n",
    "    if row['Country/Region']  == 'Cambodia':\n",
    "        return 16.01\n",
    "    if row['Country/Region']  == 'Sri Lanka':\n",
    "        return 21.44\n",
    "    if row['Country/Region']  == 'Germany':\n",
    "        return 82.79\n",
    "    if row['Country/Region']  == 'Finland':\n",
    "        return 5.5\n",
    "    if row['Country/Region']  == 'United Arab Emirates':\n",
    "        return 9.4\n",
    "    if row['Country/Region']  == 'Philippines':\n",
    "        return 104.9\n",
    "    if row['Country/Region']  == 'India':\n",
    "        return 1339\n",
    "    if row['Country/Region']  == 'Italy':\n",
    "        return 60.48\n",
    "    if row['Country/Region']  == 'UK':\n",
    "        return 66.44\n",
    "    if row['Country/Region']  == 'Russia':\n",
    "        return 144.5\n",
    "    if row['Country/Region']  == 'Sweden':\n",
    "        return 10.12\n",
    "    if row['Country/Region']  == 'Spain':\n",
    "        return 46.66\n",
    "    if row['Country/Region']  == 'Belgium':\n",
    "        return 11.4\n",
    "        \n",
    "    return 10"
   ]
  },
  {
   "cell_type": "code",
   "execution_count": 79,
   "metadata": {},
   "outputs": [
    {
     "data": {
      "text/plain": [
       "array(['Thailand', 'Japan', 'South Korea', 'Singapore', 'Vietnam',\n",
       "       'France', 'Nepal', 'Malaysia', 'Cambodia', 'Sri Lanka', 'Germany',\n",
       "       'Finland', 'United Arab Emirates', 'Philippines', 'India', 'Italy',\n",
       "       'UK', 'Russia', 'Sweden', 'Spain', 'Belgium', 'Egypt', 'Iran'],\n",
       "      dtype=object)"
      ]
     },
     "execution_count": 79,
     "metadata": {},
     "output_type": "execute_result"
    }
   ],
   "source": [
    "full_table.loc[full_table['Province/State'].isna()]['Country/Region'].unique()"
   ]
  },
  {
   "cell_type": "markdown",
   "metadata": {},
   "source": [
    "## Create a new column for the population of the country"
   ]
  },
  {
   "cell_type": "code",
   "execution_count": 80,
   "metadata": {},
   "outputs": [],
   "source": [
    "full_table['population'] = full_table.apply (lambda row: label_race(row), axis=1)"
   ]
  },
  {
   "cell_type": "code",
   "execution_count": 81,
   "metadata": {},
   "outputs": [
    {
     "data": {
      "text/html": [
       "<div>\n",
       "<style scoped>\n",
       "    .dataframe tbody tr th:only-of-type {\n",
       "        vertical-align: middle;\n",
       "    }\n",
       "\n",
       "    .dataframe tbody tr th {\n",
       "        vertical-align: top;\n",
       "    }\n",
       "\n",
       "    .dataframe thead th {\n",
       "        text-align: right;\n",
       "    }\n",
       "</style>\n",
       "<table border=\"1\" class=\"dataframe\">\n",
       "  <thead>\n",
       "    <tr style=\"text-align: right;\">\n",
       "      <th></th>\n",
       "      <th>Province/State</th>\n",
       "      <th>Country/Region</th>\n",
       "      <th>Lat</th>\n",
       "      <th>Long</th>\n",
       "      <th>Date</th>\n",
       "      <th>Confirmed</th>\n",
       "      <th>Deaths</th>\n",
       "      <th>Recovered</th>\n",
       "      <th>population</th>\n",
       "    </tr>\n",
       "  </thead>\n",
       "  <tbody>\n",
       "    <tr>\n",
       "      <th>0</th>\n",
       "      <td>Anhui</td>\n",
       "      <td>Mainland China</td>\n",
       "      <td>31.82571</td>\n",
       "      <td>117.2264</td>\n",
       "      <td>2020-01-22</td>\n",
       "      <td>1</td>\n",
       "      <td>0</td>\n",
       "      <td>0</td>\n",
       "      <td>62.00</td>\n",
       "    </tr>\n",
       "    <tr>\n",
       "      <th>1</th>\n",
       "      <td>Beijing</td>\n",
       "      <td>Mainland China</td>\n",
       "      <td>40.18238</td>\n",
       "      <td>116.4142</td>\n",
       "      <td>2020-01-22</td>\n",
       "      <td>14</td>\n",
       "      <td>0</td>\n",
       "      <td>0</td>\n",
       "      <td>21.54</td>\n",
       "    </tr>\n",
       "    <tr>\n",
       "      <th>2</th>\n",
       "      <td>Chongqing</td>\n",
       "      <td>Mainland China</td>\n",
       "      <td>30.05718</td>\n",
       "      <td>107.8740</td>\n",
       "      <td>2020-01-22</td>\n",
       "      <td>6</td>\n",
       "      <td>0</td>\n",
       "      <td>0</td>\n",
       "      <td>30.48</td>\n",
       "    </tr>\n",
       "    <tr>\n",
       "      <th>3</th>\n",
       "      <td>Fujian</td>\n",
       "      <td>Mainland China</td>\n",
       "      <td>26.07783</td>\n",
       "      <td>117.9895</td>\n",
       "      <td>2020-01-22</td>\n",
       "      <td>1</td>\n",
       "      <td>0</td>\n",
       "      <td>0</td>\n",
       "      <td>38.56</td>\n",
       "    </tr>\n",
       "    <tr>\n",
       "      <th>4</th>\n",
       "      <td>Gansu</td>\n",
       "      <td>Mainland China</td>\n",
       "      <td>36.06110</td>\n",
       "      <td>103.8343</td>\n",
       "      <td>2020-01-22</td>\n",
       "      <td>0</td>\n",
       "      <td>0</td>\n",
       "      <td>0</td>\n",
       "      <td>25.58</td>\n",
       "    </tr>\n",
       "  </tbody>\n",
       "</table>\n",
       "</div>"
      ],
      "text/plain": [
       "  Province/State  Country/Region       Lat      Long       Date  Confirmed  \\\n",
       "0          Anhui  Mainland China  31.82571  117.2264 2020-01-22          1   \n",
       "1        Beijing  Mainland China  40.18238  116.4142 2020-01-22         14   \n",
       "2      Chongqing  Mainland China  30.05718  107.8740 2020-01-22          6   \n",
       "3         Fujian  Mainland China  26.07783  117.9895 2020-01-22          1   \n",
       "4          Gansu  Mainland China  36.06110  103.8343 2020-01-22          0   \n",
       "\n",
       "   Deaths  Recovered  population  \n",
       "0       0          0       62.00  \n",
       "1       0          0       21.54  \n",
       "2       0          0       30.48  \n",
       "3       0          0       38.56  \n",
       "4       0          0       25.58  "
      ]
     },
     "execution_count": 81,
     "metadata": {},
     "output_type": "execute_result"
    }
   ],
   "source": [
    "# filling missing values with 0 in columns ('Confirmed', 'Deaths', 'Recovered')\n",
    "full_table[['Confirmed', 'Deaths', 'Recovered']] = full_table[['Confirmed', 'Deaths', 'Recovered']].fillna(0)\n",
    "full_table[['Province/State']] = full_table[['Province/State']].fillna('NA')\n",
    "\n",
    "# cases in the Diamond Princess cruise ship\n",
    "ship = full_table[full_table['Province/State']=='Diamond Princess cruise ship']\n",
    "\n",
    "# full table\n",
    "full_table = full_table[full_table['Province/State']!='Diamond Princess cruise ship']\n",
    "full_table.head()"
   ]
  },
  {
   "cell_type": "markdown",
   "metadata": {},
   "source": [
    "## Severity computed by No.Confirmed / Population"
   ]
  },
  {
   "cell_type": "code",
   "execution_count": 82,
   "metadata": {},
   "outputs": [],
   "source": [
    "full_table['Severity'] = full_table['Confirmed']/full_table['population']"
   ]
  },
  {
   "cell_type": "code",
   "execution_count": 83,
   "metadata": {},
   "outputs": [],
   "source": [
    "# derived dataframes\n",
    "china = full_table[full_table['Country/Region']=='Mainland China']\n",
    "row = full_table[full_table['Country/Region']!='Mainland China']\n",
    "\n",
    "full_latest = full_table[full_table['Date'] == max(full_table['Date'])].reset_index()\n",
    "china_latest = full_latest[full_latest['Country/Region']=='Mainland China']\n",
    "row_latest = full_latest[full_latest['Country/Region']!='Mainland China']\n",
    "\n",
    "full_latest_grouped = full_latest.groupby('Country/Region')['Confirmed', 'Deaths', 'Recovered','population'].sum().reset_index()\n",
    "china_latest_grouped = china_latest.groupby('Province/State')['Confirmed', 'Deaths', 'Recovered','population'].sum().reset_index()\n",
    "row_latest_grouped = row_latest.groupby('Country/Region')['Confirmed', 'Deaths', 'Recovered','population'].sum().reset_index()"
   ]
  },
  {
   "cell_type": "code",
   "execution_count": 84,
   "metadata": {},
   "outputs": [
    {
     "data": {
      "text/html": [
       "<style  type=\"text/css\" >\n",
       "    #T_83277630_545a_11ea_8ba6_a932fe296c86row0_col0 {\n",
       "            background-color:  #f2f2f2;\n",
       "            color:  #000000;\n",
       "        }    #T_83277630_545a_11ea_8ba6_a932fe296c86row0_col1 {\n",
       "            background-color:  #f2f2f2;\n",
       "            color:  #000000;\n",
       "        }    #T_83277630_545a_11ea_8ba6_a932fe296c86row0_col2 {\n",
       "            background-color:  #f2f2f2;\n",
       "            color:  #000000;\n",
       "        }    #T_83277630_545a_11ea_8ba6_a932fe296c86row0_col3 {\n",
       "            background-color:  #f2f2f2;\n",
       "            color:  #000000;\n",
       "        }    #T_83277630_545a_11ea_8ba6_a932fe296c86row1_col0 {\n",
       "            background-color:  #f2f2f2;\n",
       "            color:  #000000;\n",
       "        }    #T_83277630_545a_11ea_8ba6_a932fe296c86row1_col1 {\n",
       "            background-color:  #f2f2f2;\n",
       "            color:  #000000;\n",
       "        }    #T_83277630_545a_11ea_8ba6_a932fe296c86row1_col2 {\n",
       "            background-color:  #f2f2f2;\n",
       "            color:  #000000;\n",
       "        }    #T_83277630_545a_11ea_8ba6_a932fe296c86row1_col3 {\n",
       "            background-color:  #f2f2f2;\n",
       "            color:  #000000;\n",
       "        }    #T_83277630_545a_11ea_8ba6_a932fe296c86row2_col0 {\n",
       "            background-color:  #f2f2f2;\n",
       "            color:  #000000;\n",
       "        }    #T_83277630_545a_11ea_8ba6_a932fe296c86row2_col1 {\n",
       "            background-color:  #f2f2f2;\n",
       "            color:  #000000;\n",
       "        }    #T_83277630_545a_11ea_8ba6_a932fe296c86row2_col2 {\n",
       "            background-color:  #f2f2f2;\n",
       "            color:  #000000;\n",
       "        }    #T_83277630_545a_11ea_8ba6_a932fe296c86row2_col3 {\n",
       "            background-color:  #f2f2f2;\n",
       "            color:  #000000;\n",
       "        }    #T_83277630_545a_11ea_8ba6_a932fe296c86row3_col0 {\n",
       "            background-color:  #f2f2f2;\n",
       "            color:  #000000;\n",
       "        }    #T_83277630_545a_11ea_8ba6_a932fe296c86row3_col1 {\n",
       "            background-color:  #f2f2f2;\n",
       "            color:  #000000;\n",
       "        }    #T_83277630_545a_11ea_8ba6_a932fe296c86row3_col2 {\n",
       "            background-color:  #f2f2f2;\n",
       "            color:  #000000;\n",
       "        }    #T_83277630_545a_11ea_8ba6_a932fe296c86row3_col3 {\n",
       "            background-color:  #f2f2f2;\n",
       "            color:  #000000;\n",
       "        }    #T_83277630_545a_11ea_8ba6_a932fe296c86row4_col0 {\n",
       "            background-color:  #f2f2f2;\n",
       "            color:  #000000;\n",
       "        }    #T_83277630_545a_11ea_8ba6_a932fe296c86row4_col1 {\n",
       "            background-color:  #f2f2f2;\n",
       "            color:  #000000;\n",
       "        }    #T_83277630_545a_11ea_8ba6_a932fe296c86row4_col2 {\n",
       "            background-color:  #f2f2f2;\n",
       "            color:  #000000;\n",
       "        }    #T_83277630_545a_11ea_8ba6_a932fe296c86row4_col3 {\n",
       "            background-color:  #f2f2f2;\n",
       "            color:  #000000;\n",
       "        }    #T_83277630_545a_11ea_8ba6_a932fe296c86row5_col0 {\n",
       "            background-color:  #f2f2f2;\n",
       "            color:  #000000;\n",
       "        }    #T_83277630_545a_11ea_8ba6_a932fe296c86row5_col1 {\n",
       "            background-color:  #f2f2f2;\n",
       "            color:  #000000;\n",
       "        }    #T_83277630_545a_11ea_8ba6_a932fe296c86row5_col2 {\n",
       "            background-color:  #f2f2f2;\n",
       "            color:  #000000;\n",
       "        }    #T_83277630_545a_11ea_8ba6_a932fe296c86row5_col3 {\n",
       "            background-color:  #f2f2f2;\n",
       "            color:  #000000;\n",
       "        }    #T_83277630_545a_11ea_8ba6_a932fe296c86row6_col0 {\n",
       "            background-color:  #f2f2f2;\n",
       "            color:  #000000;\n",
       "        }    #T_83277630_545a_11ea_8ba6_a932fe296c86row6_col1 {\n",
       "            background-color:  #f2f2f2;\n",
       "            color:  #000000;\n",
       "        }    #T_83277630_545a_11ea_8ba6_a932fe296c86row6_col2 {\n",
       "            background-color:  #f2f2f2;\n",
       "            color:  #000000;\n",
       "        }    #T_83277630_545a_11ea_8ba6_a932fe296c86row6_col3 {\n",
       "            background-color:  #f2f2f2;\n",
       "            color:  #000000;\n",
       "        }    #T_83277630_545a_11ea_8ba6_a932fe296c86row7_col0 {\n",
       "            background-color:  #f2f2f2;\n",
       "            color:  #000000;\n",
       "        }    #T_83277630_545a_11ea_8ba6_a932fe296c86row7_col1 {\n",
       "            background-color:  #f2f2f2;\n",
       "            color:  #000000;\n",
       "        }    #T_83277630_545a_11ea_8ba6_a932fe296c86row7_col2 {\n",
       "            background-color:  #f2f2f2;\n",
       "            color:  #000000;\n",
       "        }    #T_83277630_545a_11ea_8ba6_a932fe296c86row7_col3 {\n",
       "            background-color:  #f2f2f2;\n",
       "            color:  #000000;\n",
       "        }    #T_83277630_545a_11ea_8ba6_a932fe296c86row8_col0 {\n",
       "            background-color:  #f2f2f2;\n",
       "            color:  #000000;\n",
       "        }    #T_83277630_545a_11ea_8ba6_a932fe296c86row8_col1 {\n",
       "            background-color:  #f2f2f2;\n",
       "            color:  #000000;\n",
       "        }    #T_83277630_545a_11ea_8ba6_a932fe296c86row8_col2 {\n",
       "            background-color:  #f2f2f2;\n",
       "            color:  #000000;\n",
       "        }    #T_83277630_545a_11ea_8ba6_a932fe296c86row8_col3 {\n",
       "            background-color:  #f2f2f2;\n",
       "            color:  #000000;\n",
       "        }    #T_83277630_545a_11ea_8ba6_a932fe296c86row9_col0 {\n",
       "            background-color:  #f2f2f2;\n",
       "            color:  #000000;\n",
       "        }    #T_83277630_545a_11ea_8ba6_a932fe296c86row9_col1 {\n",
       "            background-color:  #f2f2f2;\n",
       "            color:  #000000;\n",
       "        }    #T_83277630_545a_11ea_8ba6_a932fe296c86row9_col2 {\n",
       "            background-color:  #f2f2f2;\n",
       "            color:  #000000;\n",
       "        }    #T_83277630_545a_11ea_8ba6_a932fe296c86row9_col3 {\n",
       "            background-color:  #f2f2f2;\n",
       "            color:  #000000;\n",
       "        }    #T_83277630_545a_11ea_8ba6_a932fe296c86row10_col0 {\n",
       "            background-color:  #f2f2f2;\n",
       "            color:  #000000;\n",
       "        }    #T_83277630_545a_11ea_8ba6_a932fe296c86row10_col1 {\n",
       "            background-color:  #f2f2f2;\n",
       "            color:  #000000;\n",
       "        }    #T_83277630_545a_11ea_8ba6_a932fe296c86row10_col2 {\n",
       "            background-color:  #f2f2f2;\n",
       "            color:  #000000;\n",
       "        }    #T_83277630_545a_11ea_8ba6_a932fe296c86row10_col3 {\n",
       "            background-color:  #f2f2f2;\n",
       "            color:  #000000;\n",
       "        }    #T_83277630_545a_11ea_8ba6_a932fe296c86row11_col0 {\n",
       "            background-color:  #f2f2f2;\n",
       "            color:  #000000;\n",
       "        }    #T_83277630_545a_11ea_8ba6_a932fe296c86row11_col1 {\n",
       "            background-color:  #f2f2f2;\n",
       "            color:  #000000;\n",
       "        }    #T_83277630_545a_11ea_8ba6_a932fe296c86row11_col2 {\n",
       "            background-color:  #f2f2f2;\n",
       "            color:  #000000;\n",
       "        }    #T_83277630_545a_11ea_8ba6_a932fe296c86row11_col3 {\n",
       "            background-color:  #f2f2f2;\n",
       "            color:  #000000;\n",
       "        }    #T_83277630_545a_11ea_8ba6_a932fe296c86row12_col0 {\n",
       "            background-color:  #f2f2f2;\n",
       "            color:  #000000;\n",
       "        }    #T_83277630_545a_11ea_8ba6_a932fe296c86row12_col1 {\n",
       "            background-color:  #f2f2f2;\n",
       "            color:  #000000;\n",
       "        }    #T_83277630_545a_11ea_8ba6_a932fe296c86row12_col2 {\n",
       "            background-color:  #f2f2f2;\n",
       "            color:  #000000;\n",
       "        }    #T_83277630_545a_11ea_8ba6_a932fe296c86row12_col3 {\n",
       "            background-color:  #f2f2f2;\n",
       "            color:  #000000;\n",
       "        }    #T_83277630_545a_11ea_8ba6_a932fe296c86row13_col0 {\n",
       "            background-color:  #f2f2f2;\n",
       "            color:  #000000;\n",
       "        }    #T_83277630_545a_11ea_8ba6_a932fe296c86row13_col1 {\n",
       "            background-color:  #f2f2f2;\n",
       "            color:  #000000;\n",
       "        }    #T_83277630_545a_11ea_8ba6_a932fe296c86row13_col2 {\n",
       "            background-color:  #f2f2f2;\n",
       "            color:  #000000;\n",
       "        }    #T_83277630_545a_11ea_8ba6_a932fe296c86row13_col3 {\n",
       "            background-color:  #f2f2f2;\n",
       "            color:  #000000;\n",
       "        }    #T_83277630_545a_11ea_8ba6_a932fe296c86row14_col0 {\n",
       "            background-color:  #f2f2f2;\n",
       "            color:  #000000;\n",
       "        }    #T_83277630_545a_11ea_8ba6_a932fe296c86row14_col1 {\n",
       "            background-color:  #f2f2f2;\n",
       "            color:  #000000;\n",
       "        }    #T_83277630_545a_11ea_8ba6_a932fe296c86row14_col2 {\n",
       "            background-color:  #f2f2f2;\n",
       "            color:  #000000;\n",
       "        }    #T_83277630_545a_11ea_8ba6_a932fe296c86row14_col3 {\n",
       "            background-color:  #f2f2f2;\n",
       "            color:  #000000;\n",
       "        }    #T_83277630_545a_11ea_8ba6_a932fe296c86row15_col0 {\n",
       "            background-color:  #f2f2f2;\n",
       "            color:  #000000;\n",
       "        }    #T_83277630_545a_11ea_8ba6_a932fe296c86row15_col1 {\n",
       "            background-color:  #f2f2f2;\n",
       "            color:  #000000;\n",
       "        }    #T_83277630_545a_11ea_8ba6_a932fe296c86row15_col2 {\n",
       "            background-color:  #f2f2f2;\n",
       "            color:  #000000;\n",
       "        }    #T_83277630_545a_11ea_8ba6_a932fe296c86row15_col3 {\n",
       "            background-color:  #f2f2f2;\n",
       "            color:  #000000;\n",
       "        }    #T_83277630_545a_11ea_8ba6_a932fe296c86row16_col0 {\n",
       "            background-color:  #f2f2f2;\n",
       "            color:  #000000;\n",
       "        }    #T_83277630_545a_11ea_8ba6_a932fe296c86row16_col1 {\n",
       "            background-color:  #f2f2f2;\n",
       "            color:  #000000;\n",
       "        }    #T_83277630_545a_11ea_8ba6_a932fe296c86row16_col2 {\n",
       "            background-color:  #f2f2f2;\n",
       "            color:  #000000;\n",
       "        }    #T_83277630_545a_11ea_8ba6_a932fe296c86row16_col3 {\n",
       "            background-color:  #f2f2f2;\n",
       "            color:  #000000;\n",
       "        }    #T_83277630_545a_11ea_8ba6_a932fe296c86row17_col0 {\n",
       "            background-color:  #f2f2f2;\n",
       "            color:  #000000;\n",
       "        }    #T_83277630_545a_11ea_8ba6_a932fe296c86row17_col1 {\n",
       "            background-color:  #f2f2f2;\n",
       "            color:  #000000;\n",
       "        }    #T_83277630_545a_11ea_8ba6_a932fe296c86row17_col2 {\n",
       "            background-color:  #f2f2f2;\n",
       "            color:  #000000;\n",
       "        }    #T_83277630_545a_11ea_8ba6_a932fe296c86row17_col3 {\n",
       "            background-color:  #f2f2f2;\n",
       "            color:  #000000;\n",
       "        }    #T_83277630_545a_11ea_8ba6_a932fe296c86row18_col0 {\n",
       "            background-color:  #f2f2f2;\n",
       "            color:  #000000;\n",
       "        }    #T_83277630_545a_11ea_8ba6_a932fe296c86row18_col1 {\n",
       "            background-color:  #f2f2f2;\n",
       "            color:  #000000;\n",
       "        }    #T_83277630_545a_11ea_8ba6_a932fe296c86row18_col2 {\n",
       "            background-color:  #f2f2f2;\n",
       "            color:  #000000;\n",
       "        }    #T_83277630_545a_11ea_8ba6_a932fe296c86row18_col3 {\n",
       "            background-color:  #f2f2f2;\n",
       "            color:  #000000;\n",
       "        }    #T_83277630_545a_11ea_8ba6_a932fe296c86row19_col0 {\n",
       "            background-color:  #f2f2f2;\n",
       "            color:  #000000;\n",
       "        }    #T_83277630_545a_11ea_8ba6_a932fe296c86row19_col1 {\n",
       "            background-color:  #f2f2f2;\n",
       "            color:  #000000;\n",
       "        }    #T_83277630_545a_11ea_8ba6_a932fe296c86row19_col2 {\n",
       "            background-color:  #f2f2f2;\n",
       "            color:  #000000;\n",
       "        }    #T_83277630_545a_11ea_8ba6_a932fe296c86row19_col3 {\n",
       "            background-color:  #f2f2f2;\n",
       "            color:  #000000;\n",
       "        }    #T_83277630_545a_11ea_8ba6_a932fe296c86row20_col0 {\n",
       "            background-color:  #f2f2f2;\n",
       "            color:  #000000;\n",
       "        }    #T_83277630_545a_11ea_8ba6_a932fe296c86row20_col1 {\n",
       "            background-color:  #f2f2f2;\n",
       "            color:  #000000;\n",
       "        }    #T_83277630_545a_11ea_8ba6_a932fe296c86row20_col2 {\n",
       "            background-color:  #f2f2f2;\n",
       "            color:  #000000;\n",
       "        }    #T_83277630_545a_11ea_8ba6_a932fe296c86row20_col3 {\n",
       "            background-color:  #f2f2f2;\n",
       "            color:  #000000;\n",
       "        }    #T_83277630_545a_11ea_8ba6_a932fe296c86row21_col0 {\n",
       "            background-color:  #f2f2f2;\n",
       "            color:  #000000;\n",
       "        }    #T_83277630_545a_11ea_8ba6_a932fe296c86row21_col1 {\n",
       "            background-color:  #f2f2f2;\n",
       "            color:  #000000;\n",
       "        }    #T_83277630_545a_11ea_8ba6_a932fe296c86row21_col2 {\n",
       "            background-color:  #f2f2f2;\n",
       "            color:  #000000;\n",
       "        }    #T_83277630_545a_11ea_8ba6_a932fe296c86row21_col3 {\n",
       "            background-color:  #f2f2f2;\n",
       "            color:  #000000;\n",
       "        }    #T_83277630_545a_11ea_8ba6_a932fe296c86row22_col0 {\n",
       "            background-color:  #f2f2f2;\n",
       "            color:  #000000;\n",
       "        }    #T_83277630_545a_11ea_8ba6_a932fe296c86row22_col1 {\n",
       "            background-color:  #f2f2f2;\n",
       "            color:  #000000;\n",
       "        }    #T_83277630_545a_11ea_8ba6_a932fe296c86row22_col2 {\n",
       "            background-color:  #f2f2f2;\n",
       "            color:  #000000;\n",
       "        }    #T_83277630_545a_11ea_8ba6_a932fe296c86row22_col3 {\n",
       "            background-color:  #f2f2f2;\n",
       "            color:  #000000;\n",
       "        }    #T_83277630_545a_11ea_8ba6_a932fe296c86row23_col0 {\n",
       "            background-color:  #f2f2f2;\n",
       "            color:  #000000;\n",
       "        }    #T_83277630_545a_11ea_8ba6_a932fe296c86row23_col1 {\n",
       "            background-color:  #f2f2f2;\n",
       "            color:  #000000;\n",
       "        }    #T_83277630_545a_11ea_8ba6_a932fe296c86row23_col2 {\n",
       "            background-color:  #f2f2f2;\n",
       "            color:  #000000;\n",
       "        }    #T_83277630_545a_11ea_8ba6_a932fe296c86row23_col3 {\n",
       "            background-color:  #f2f2f2;\n",
       "            color:  #000000;\n",
       "        }    #T_83277630_545a_11ea_8ba6_a932fe296c86row24_col0 {\n",
       "            background-color:  #f2f2f2;\n",
       "            color:  #000000;\n",
       "        }    #T_83277630_545a_11ea_8ba6_a932fe296c86row24_col1 {\n",
       "            background-color:  #f2f2f2;\n",
       "            color:  #000000;\n",
       "        }    #T_83277630_545a_11ea_8ba6_a932fe296c86row24_col2 {\n",
       "            background-color:  #f2f2f2;\n",
       "            color:  #000000;\n",
       "        }    #T_83277630_545a_11ea_8ba6_a932fe296c86row24_col3 {\n",
       "            background-color:  #f2f2f2;\n",
       "            color:  #000000;\n",
       "        }    #T_83277630_545a_11ea_8ba6_a932fe296c86row25_col0 {\n",
       "            background-color:  #f2f2f2;\n",
       "            color:  #000000;\n",
       "        }    #T_83277630_545a_11ea_8ba6_a932fe296c86row25_col1 {\n",
       "            background-color:  #f2f2f2;\n",
       "            color:  #000000;\n",
       "        }    #T_83277630_545a_11ea_8ba6_a932fe296c86row25_col2 {\n",
       "            background-color:  #f2f2f2;\n",
       "            color:  #000000;\n",
       "        }    #T_83277630_545a_11ea_8ba6_a932fe296c86row25_col3 {\n",
       "            background-color:  #f2f2f2;\n",
       "            color:  #000000;\n",
       "        }    #T_83277630_545a_11ea_8ba6_a932fe296c86row26_col0 {\n",
       "            background-color:  #f2f2f2;\n",
       "            color:  #000000;\n",
       "        }    #T_83277630_545a_11ea_8ba6_a932fe296c86row26_col1 {\n",
       "            background-color:  #f2f2f2;\n",
       "            color:  #000000;\n",
       "        }    #T_83277630_545a_11ea_8ba6_a932fe296c86row26_col2 {\n",
       "            background-color:  #f2f2f2;\n",
       "            color:  #000000;\n",
       "        }    #T_83277630_545a_11ea_8ba6_a932fe296c86row26_col3 {\n",
       "            background-color:  #f2f2f2;\n",
       "            color:  #000000;\n",
       "        }    #T_83277630_545a_11ea_8ba6_a932fe296c86row27_col0 {\n",
       "            background-color:  #f2f2f2;\n",
       "            color:  #000000;\n",
       "        }    #T_83277630_545a_11ea_8ba6_a932fe296c86row27_col1 {\n",
       "            background-color:  #f2f2f2;\n",
       "            color:  #000000;\n",
       "        }    #T_83277630_545a_11ea_8ba6_a932fe296c86row27_col2 {\n",
       "            background-color:  #f2f2f2;\n",
       "            color:  #000000;\n",
       "        }    #T_83277630_545a_11ea_8ba6_a932fe296c86row27_col3 {\n",
       "            background-color:  #f2f2f2;\n",
       "            color:  #000000;\n",
       "        }    #T_83277630_545a_11ea_8ba6_a932fe296c86row28_col0 {\n",
       "            background-color:  #f2f2f2;\n",
       "            color:  #000000;\n",
       "        }    #T_83277630_545a_11ea_8ba6_a932fe296c86row28_col1 {\n",
       "            background-color:  #f2f2f2;\n",
       "            color:  #000000;\n",
       "        }    #T_83277630_545a_11ea_8ba6_a932fe296c86row28_col2 {\n",
       "            background-color:  #f2f2f2;\n",
       "            color:  #000000;\n",
       "        }    #T_83277630_545a_11ea_8ba6_a932fe296c86row28_col3 {\n",
       "            background-color:  #f2f2f2;\n",
       "            color:  #000000;\n",
       "        }    #T_83277630_545a_11ea_8ba6_a932fe296c86row29_col0 {\n",
       "            background-color:  #f2f2f2;\n",
       "            color:  #000000;\n",
       "        }    #T_83277630_545a_11ea_8ba6_a932fe296c86row29_col1 {\n",
       "            background-color:  #f2f2f2;\n",
       "            color:  #000000;\n",
       "        }    #T_83277630_545a_11ea_8ba6_a932fe296c86row29_col2 {\n",
       "            background-color:  #f2f2f2;\n",
       "            color:  #000000;\n",
       "        }    #T_83277630_545a_11ea_8ba6_a932fe296c86row29_col3 {\n",
       "            background-color:  #f2f2f2;\n",
       "            color:  #000000;\n",
       "        }    #T_83277630_545a_11ea_8ba6_a932fe296c86row30_col0 {\n",
       "            background-color:  #f2f2f2;\n",
       "            color:  #000000;\n",
       "        }    #T_83277630_545a_11ea_8ba6_a932fe296c86row30_col1 {\n",
       "            background-color:  #f2f2f2;\n",
       "            color:  #000000;\n",
       "        }    #T_83277630_545a_11ea_8ba6_a932fe296c86row30_col2 {\n",
       "            background-color:  #f2f2f2;\n",
       "            color:  #000000;\n",
       "        }    #T_83277630_545a_11ea_8ba6_a932fe296c86row30_col3 {\n",
       "            background-color:  #f2f2f2;\n",
       "            color:  #000000;\n",
       "        }    #T_83277630_545a_11ea_8ba6_a932fe296c86row31_col0 {\n",
       "            background-color:  #fbb4ae;\n",
       "            color:  #000000;\n",
       "        }    #T_83277630_545a_11ea_8ba6_a932fe296c86row31_col1 {\n",
       "            background-color:  #fbb4ae;\n",
       "            color:  #000000;\n",
       "        }    #T_83277630_545a_11ea_8ba6_a932fe296c86row31_col2 {\n",
       "            background-color:  #fbb4ae;\n",
       "            color:  #000000;\n",
       "        }    #T_83277630_545a_11ea_8ba6_a932fe296c86row31_col3 {\n",
       "            background-color:  #fbb4ae;\n",
       "            color:  #000000;\n",
       "        }    #T_83277630_545a_11ea_8ba6_a932fe296c86row32_col0 {\n",
       "            background-color:  #f2f2f2;\n",
       "            color:  #000000;\n",
       "        }    #T_83277630_545a_11ea_8ba6_a932fe296c86row32_col1 {\n",
       "            background-color:  #f2f2f2;\n",
       "            color:  #000000;\n",
       "        }    #T_83277630_545a_11ea_8ba6_a932fe296c86row32_col2 {\n",
       "            background-color:  #f2f2f2;\n",
       "            color:  #000000;\n",
       "        }    #T_83277630_545a_11ea_8ba6_a932fe296c86row32_col3 {\n",
       "            background-color:  #f2f2f2;\n",
       "            color:  #000000;\n",
       "        }    #T_83277630_545a_11ea_8ba6_a932fe296c86row33_col0 {\n",
       "            background-color:  #f2f2f2;\n",
       "            color:  #000000;\n",
       "        }    #T_83277630_545a_11ea_8ba6_a932fe296c86row33_col1 {\n",
       "            background-color:  #f2f2f2;\n",
       "            color:  #000000;\n",
       "        }    #T_83277630_545a_11ea_8ba6_a932fe296c86row33_col2 {\n",
       "            background-color:  #f2f2f2;\n",
       "            color:  #000000;\n",
       "        }    #T_83277630_545a_11ea_8ba6_a932fe296c86row33_col3 {\n",
       "            background-color:  #f2f2f2;\n",
       "            color:  #000000;\n",
       "        }    #T_83277630_545a_11ea_8ba6_a932fe296c86row34_col0 {\n",
       "            background-color:  #f2f2f2;\n",
       "            color:  #000000;\n",
       "        }    #T_83277630_545a_11ea_8ba6_a932fe296c86row34_col1 {\n",
       "            background-color:  #f2f2f2;\n",
       "            color:  #000000;\n",
       "        }    #T_83277630_545a_11ea_8ba6_a932fe296c86row34_col2 {\n",
       "            background-color:  #f2f2f2;\n",
       "            color:  #000000;\n",
       "        }    #T_83277630_545a_11ea_8ba6_a932fe296c86row34_col3 {\n",
       "            background-color:  #f2f2f2;\n",
       "            color:  #000000;\n",
       "        }    #T_83277630_545a_11ea_8ba6_a932fe296c86row35_col0 {\n",
       "            background-color:  #f2f2f2;\n",
       "            color:  #000000;\n",
       "        }    #T_83277630_545a_11ea_8ba6_a932fe296c86row35_col1 {\n",
       "            background-color:  #f2f2f2;\n",
       "            color:  #000000;\n",
       "        }    #T_83277630_545a_11ea_8ba6_a932fe296c86row35_col2 {\n",
       "            background-color:  #f2f2f2;\n",
       "            color:  #000000;\n",
       "        }    #T_83277630_545a_11ea_8ba6_a932fe296c86row35_col3 {\n",
       "            background-color:  #f2f2f2;\n",
       "            color:  #000000;\n",
       "        }    #T_83277630_545a_11ea_8ba6_a932fe296c86row36_col0 {\n",
       "            background-color:  #f2f2f2;\n",
       "            color:  #000000;\n",
       "        }    #T_83277630_545a_11ea_8ba6_a932fe296c86row36_col1 {\n",
       "            background-color:  #f2f2f2;\n",
       "            color:  #000000;\n",
       "        }    #T_83277630_545a_11ea_8ba6_a932fe296c86row36_col2 {\n",
       "            background-color:  #f2f2f2;\n",
       "            color:  #000000;\n",
       "        }    #T_83277630_545a_11ea_8ba6_a932fe296c86row36_col3 {\n",
       "            background-color:  #f2f2f2;\n",
       "            color:  #000000;\n",
       "        }    #T_83277630_545a_11ea_8ba6_a932fe296c86row37_col0 {\n",
       "            background-color:  #f2f2f2;\n",
       "            color:  #000000;\n",
       "        }    #T_83277630_545a_11ea_8ba6_a932fe296c86row37_col1 {\n",
       "            background-color:  #f2f2f2;\n",
       "            color:  #000000;\n",
       "        }    #T_83277630_545a_11ea_8ba6_a932fe296c86row37_col2 {\n",
       "            background-color:  #f2f2f2;\n",
       "            color:  #000000;\n",
       "        }    #T_83277630_545a_11ea_8ba6_a932fe296c86row37_col3 {\n",
       "            background-color:  #f2f2f2;\n",
       "            color:  #000000;\n",
       "        }    #T_83277630_545a_11ea_8ba6_a932fe296c86row38_col0 {\n",
       "            background-color:  #f2f2f2;\n",
       "            color:  #000000;\n",
       "        }    #T_83277630_545a_11ea_8ba6_a932fe296c86row38_col1 {\n",
       "            background-color:  #f2f2f2;\n",
       "            color:  #000000;\n",
       "        }    #T_83277630_545a_11ea_8ba6_a932fe296c86row38_col2 {\n",
       "            background-color:  #f2f2f2;\n",
       "            color:  #000000;\n",
       "        }    #T_83277630_545a_11ea_8ba6_a932fe296c86row38_col3 {\n",
       "            background-color:  #f2f2f2;\n",
       "            color:  #000000;\n",
       "        }    #T_83277630_545a_11ea_8ba6_a932fe296c86row39_col0 {\n",
       "            background-color:  #f2f2f2;\n",
       "            color:  #000000;\n",
       "        }    #T_83277630_545a_11ea_8ba6_a932fe296c86row39_col1 {\n",
       "            background-color:  #f2f2f2;\n",
       "            color:  #000000;\n",
       "        }    #T_83277630_545a_11ea_8ba6_a932fe296c86row39_col2 {\n",
       "            background-color:  #f2f2f2;\n",
       "            color:  #000000;\n",
       "        }    #T_83277630_545a_11ea_8ba6_a932fe296c86row39_col3 {\n",
       "            background-color:  #f2f2f2;\n",
       "            color:  #000000;\n",
       "        }    #T_83277630_545a_11ea_8ba6_a932fe296c86row40_col0 {\n",
       "            background-color:  #f2f2f2;\n",
       "            color:  #000000;\n",
       "        }    #T_83277630_545a_11ea_8ba6_a932fe296c86row40_col1 {\n",
       "            background-color:  #f2f2f2;\n",
       "            color:  #000000;\n",
       "        }    #T_83277630_545a_11ea_8ba6_a932fe296c86row40_col2 {\n",
       "            background-color:  #f2f2f2;\n",
       "            color:  #000000;\n",
       "        }    #T_83277630_545a_11ea_8ba6_a932fe296c86row40_col3 {\n",
       "            background-color:  #f2f2f2;\n",
       "            color:  #000000;\n",
       "        }    #T_83277630_545a_11ea_8ba6_a932fe296c86row41_col0 {\n",
       "            background-color:  #f2f2f2;\n",
       "            color:  #000000;\n",
       "        }    #T_83277630_545a_11ea_8ba6_a932fe296c86row41_col1 {\n",
       "            background-color:  #f2f2f2;\n",
       "            color:  #000000;\n",
       "        }    #T_83277630_545a_11ea_8ba6_a932fe296c86row41_col2 {\n",
       "            background-color:  #f2f2f2;\n",
       "            color:  #000000;\n",
       "        }    #T_83277630_545a_11ea_8ba6_a932fe296c86row41_col3 {\n",
       "            background-color:  #f2f2f2;\n",
       "            color:  #000000;\n",
       "        }    #T_83277630_545a_11ea_8ba6_a932fe296c86row42_col0 {\n",
       "            background-color:  #f2f2f2;\n",
       "            color:  #000000;\n",
       "        }    #T_83277630_545a_11ea_8ba6_a932fe296c86row42_col1 {\n",
       "            background-color:  #f2f2f2;\n",
       "            color:  #000000;\n",
       "        }    #T_83277630_545a_11ea_8ba6_a932fe296c86row42_col2 {\n",
       "            background-color:  #f2f2f2;\n",
       "            color:  #000000;\n",
       "        }    #T_83277630_545a_11ea_8ba6_a932fe296c86row42_col3 {\n",
       "            background-color:  #f2f2f2;\n",
       "            color:  #000000;\n",
       "        }    #T_83277630_545a_11ea_8ba6_a932fe296c86row43_col0 {\n",
       "            background-color:  #f2f2f2;\n",
       "            color:  #000000;\n",
       "        }    #T_83277630_545a_11ea_8ba6_a932fe296c86row43_col1 {\n",
       "            background-color:  #f2f2f2;\n",
       "            color:  #000000;\n",
       "        }    #T_83277630_545a_11ea_8ba6_a932fe296c86row43_col2 {\n",
       "            background-color:  #f2f2f2;\n",
       "            color:  #000000;\n",
       "        }    #T_83277630_545a_11ea_8ba6_a932fe296c86row43_col3 {\n",
       "            background-color:  #f2f2f2;\n",
       "            color:  #000000;\n",
       "        }    #T_83277630_545a_11ea_8ba6_a932fe296c86row44_col0 {\n",
       "            background-color:  #f2f2f2;\n",
       "            color:  #000000;\n",
       "        }    #T_83277630_545a_11ea_8ba6_a932fe296c86row44_col1 {\n",
       "            background-color:  #f2f2f2;\n",
       "            color:  #000000;\n",
       "        }    #T_83277630_545a_11ea_8ba6_a932fe296c86row44_col2 {\n",
       "            background-color:  #f2f2f2;\n",
       "            color:  #000000;\n",
       "        }    #T_83277630_545a_11ea_8ba6_a932fe296c86row44_col3 {\n",
       "            background-color:  #f2f2f2;\n",
       "            color:  #000000;\n",
       "        }    #T_83277630_545a_11ea_8ba6_a932fe296c86row45_col0 {\n",
       "            background-color:  #f2f2f2;\n",
       "            color:  #000000;\n",
       "        }    #T_83277630_545a_11ea_8ba6_a932fe296c86row45_col1 {\n",
       "            background-color:  #f2f2f2;\n",
       "            color:  #000000;\n",
       "        }    #T_83277630_545a_11ea_8ba6_a932fe296c86row45_col2 {\n",
       "            background-color:  #f2f2f2;\n",
       "            color:  #000000;\n",
       "        }    #T_83277630_545a_11ea_8ba6_a932fe296c86row45_col3 {\n",
       "            background-color:  #f2f2f2;\n",
       "            color:  #000000;\n",
       "        }    #T_83277630_545a_11ea_8ba6_a932fe296c86row46_col0 {\n",
       "            background-color:  #f2f2f2;\n",
       "            color:  #000000;\n",
       "        }    #T_83277630_545a_11ea_8ba6_a932fe296c86row46_col1 {\n",
       "            background-color:  #f2f2f2;\n",
       "            color:  #000000;\n",
       "        }    #T_83277630_545a_11ea_8ba6_a932fe296c86row46_col2 {\n",
       "            background-color:  #f2f2f2;\n",
       "            color:  #000000;\n",
       "        }    #T_83277630_545a_11ea_8ba6_a932fe296c86row46_col3 {\n",
       "            background-color:  #f2f2f2;\n",
       "            color:  #000000;\n",
       "        }    #T_83277630_545a_11ea_8ba6_a932fe296c86row47_col0 {\n",
       "            background-color:  #f2f2f2;\n",
       "            color:  #000000;\n",
       "        }    #T_83277630_545a_11ea_8ba6_a932fe296c86row47_col1 {\n",
       "            background-color:  #f2f2f2;\n",
       "            color:  #000000;\n",
       "        }    #T_83277630_545a_11ea_8ba6_a932fe296c86row47_col2 {\n",
       "            background-color:  #f2f2f2;\n",
       "            color:  #000000;\n",
       "        }    #T_83277630_545a_11ea_8ba6_a932fe296c86row47_col3 {\n",
       "            background-color:  #f2f2f2;\n",
       "            color:  #000000;\n",
       "        }    #T_83277630_545a_11ea_8ba6_a932fe296c86row48_col0 {\n",
       "            background-color:  #f2f2f2;\n",
       "            color:  #000000;\n",
       "        }    #T_83277630_545a_11ea_8ba6_a932fe296c86row48_col1 {\n",
       "            background-color:  #f2f2f2;\n",
       "            color:  #000000;\n",
       "        }    #T_83277630_545a_11ea_8ba6_a932fe296c86row48_col2 {\n",
       "            background-color:  #f2f2f2;\n",
       "            color:  #000000;\n",
       "        }    #T_83277630_545a_11ea_8ba6_a932fe296c86row48_col3 {\n",
       "            background-color:  #f2f2f2;\n",
       "            color:  #000000;\n",
       "        }    #T_83277630_545a_11ea_8ba6_a932fe296c86row49_col0 {\n",
       "            background-color:  #f2f2f2;\n",
       "            color:  #000000;\n",
       "        }    #T_83277630_545a_11ea_8ba6_a932fe296c86row49_col1 {\n",
       "            background-color:  #f2f2f2;\n",
       "            color:  #000000;\n",
       "        }    #T_83277630_545a_11ea_8ba6_a932fe296c86row49_col2 {\n",
       "            background-color:  #f2f2f2;\n",
       "            color:  #000000;\n",
       "        }    #T_83277630_545a_11ea_8ba6_a932fe296c86row49_col3 {\n",
       "            background-color:  #f2f2f2;\n",
       "            color:  #000000;\n",
       "        }    #T_83277630_545a_11ea_8ba6_a932fe296c86row50_col0 {\n",
       "            background-color:  #f2f2f2;\n",
       "            color:  #000000;\n",
       "        }    #T_83277630_545a_11ea_8ba6_a932fe296c86row50_col1 {\n",
       "            background-color:  #f2f2f2;\n",
       "            color:  #000000;\n",
       "        }    #T_83277630_545a_11ea_8ba6_a932fe296c86row50_col2 {\n",
       "            background-color:  #f2f2f2;\n",
       "            color:  #000000;\n",
       "        }    #T_83277630_545a_11ea_8ba6_a932fe296c86row50_col3 {\n",
       "            background-color:  #f2f2f2;\n",
       "            color:  #000000;\n",
       "        }    #T_83277630_545a_11ea_8ba6_a932fe296c86row51_col0 {\n",
       "            background-color:  #f2f2f2;\n",
       "            color:  #000000;\n",
       "        }    #T_83277630_545a_11ea_8ba6_a932fe296c86row51_col1 {\n",
       "            background-color:  #f2f2f2;\n",
       "            color:  #000000;\n",
       "        }    #T_83277630_545a_11ea_8ba6_a932fe296c86row51_col2 {\n",
       "            background-color:  #f2f2f2;\n",
       "            color:  #000000;\n",
       "        }    #T_83277630_545a_11ea_8ba6_a932fe296c86row51_col3 {\n",
       "            background-color:  #f2f2f2;\n",
       "            color:  #000000;\n",
       "        }    #T_83277630_545a_11ea_8ba6_a932fe296c86row52_col0 {\n",
       "            background-color:  #f2f2f2;\n",
       "            color:  #000000;\n",
       "        }    #T_83277630_545a_11ea_8ba6_a932fe296c86row52_col1 {\n",
       "            background-color:  #f2f2f2;\n",
       "            color:  #000000;\n",
       "        }    #T_83277630_545a_11ea_8ba6_a932fe296c86row52_col2 {\n",
       "            background-color:  #f2f2f2;\n",
       "            color:  #000000;\n",
       "        }    #T_83277630_545a_11ea_8ba6_a932fe296c86row52_col3 {\n",
       "            background-color:  #f2f2f2;\n",
       "            color:  #000000;\n",
       "        }    #T_83277630_545a_11ea_8ba6_a932fe296c86row53_col0 {\n",
       "            background-color:  #f2f2f2;\n",
       "            color:  #000000;\n",
       "        }    #T_83277630_545a_11ea_8ba6_a932fe296c86row53_col1 {\n",
       "            background-color:  #f2f2f2;\n",
       "            color:  #000000;\n",
       "        }    #T_83277630_545a_11ea_8ba6_a932fe296c86row53_col2 {\n",
       "            background-color:  #f2f2f2;\n",
       "            color:  #000000;\n",
       "        }    #T_83277630_545a_11ea_8ba6_a932fe296c86row53_col3 {\n",
       "            background-color:  #f2f2f2;\n",
       "            color:  #000000;\n",
       "        }    #T_83277630_545a_11ea_8ba6_a932fe296c86row54_col0 {\n",
       "            background-color:  #f2f2f2;\n",
       "            color:  #000000;\n",
       "        }    #T_83277630_545a_11ea_8ba6_a932fe296c86row54_col1 {\n",
       "            background-color:  #f2f2f2;\n",
       "            color:  #000000;\n",
       "        }    #T_83277630_545a_11ea_8ba6_a932fe296c86row54_col2 {\n",
       "            background-color:  #f2f2f2;\n",
       "            color:  #000000;\n",
       "        }    #T_83277630_545a_11ea_8ba6_a932fe296c86row54_col3 {\n",
       "            background-color:  #f2f2f2;\n",
       "            color:  #000000;\n",
       "        }    #T_83277630_545a_11ea_8ba6_a932fe296c86row55_col0 {\n",
       "            background-color:  #f2f2f2;\n",
       "            color:  #000000;\n",
       "        }    #T_83277630_545a_11ea_8ba6_a932fe296c86row55_col1 {\n",
       "            background-color:  #f2f2f2;\n",
       "            color:  #000000;\n",
       "        }    #T_83277630_545a_11ea_8ba6_a932fe296c86row55_col2 {\n",
       "            background-color:  #f2f2f2;\n",
       "            color:  #000000;\n",
       "        }    #T_83277630_545a_11ea_8ba6_a932fe296c86row55_col3 {\n",
       "            background-color:  #f2f2f2;\n",
       "            color:  #000000;\n",
       "        }    #T_83277630_545a_11ea_8ba6_a932fe296c86row56_col0 {\n",
       "            background-color:  #f2f2f2;\n",
       "            color:  #000000;\n",
       "        }    #T_83277630_545a_11ea_8ba6_a932fe296c86row56_col1 {\n",
       "            background-color:  #f2f2f2;\n",
       "            color:  #000000;\n",
       "        }    #T_83277630_545a_11ea_8ba6_a932fe296c86row56_col2 {\n",
       "            background-color:  #f2f2f2;\n",
       "            color:  #000000;\n",
       "        }    #T_83277630_545a_11ea_8ba6_a932fe296c86row56_col3 {\n",
       "            background-color:  #f2f2f2;\n",
       "            color:  #000000;\n",
       "        }    #T_83277630_545a_11ea_8ba6_a932fe296c86row57_col0 {\n",
       "            background-color:  #f2f2f2;\n",
       "            color:  #000000;\n",
       "        }    #T_83277630_545a_11ea_8ba6_a932fe296c86row57_col1 {\n",
       "            background-color:  #f2f2f2;\n",
       "            color:  #000000;\n",
       "        }    #T_83277630_545a_11ea_8ba6_a932fe296c86row57_col2 {\n",
       "            background-color:  #f2f2f2;\n",
       "            color:  #000000;\n",
       "        }    #T_83277630_545a_11ea_8ba6_a932fe296c86row57_col3 {\n",
       "            background-color:  #f2f2f2;\n",
       "            color:  #000000;\n",
       "        }    #T_83277630_545a_11ea_8ba6_a932fe296c86row58_col0 {\n",
       "            background-color:  #f2f2f2;\n",
       "            color:  #000000;\n",
       "        }    #T_83277630_545a_11ea_8ba6_a932fe296c86row58_col1 {\n",
       "            background-color:  #f2f2f2;\n",
       "            color:  #000000;\n",
       "        }    #T_83277630_545a_11ea_8ba6_a932fe296c86row58_col2 {\n",
       "            background-color:  #f2f2f2;\n",
       "            color:  #000000;\n",
       "        }    #T_83277630_545a_11ea_8ba6_a932fe296c86row58_col3 {\n",
       "            background-color:  #f2f2f2;\n",
       "            color:  #000000;\n",
       "        }    #T_83277630_545a_11ea_8ba6_a932fe296c86row59_col0 {\n",
       "            background-color:  #f2f2f2;\n",
       "            color:  #000000;\n",
       "        }    #T_83277630_545a_11ea_8ba6_a932fe296c86row59_col1 {\n",
       "            background-color:  #f2f2f2;\n",
       "            color:  #000000;\n",
       "        }    #T_83277630_545a_11ea_8ba6_a932fe296c86row59_col2 {\n",
       "            background-color:  #f2f2f2;\n",
       "            color:  #000000;\n",
       "        }    #T_83277630_545a_11ea_8ba6_a932fe296c86row59_col3 {\n",
       "            background-color:  #f2f2f2;\n",
       "            color:  #000000;\n",
       "        }    #T_83277630_545a_11ea_8ba6_a932fe296c86row60_col0 {\n",
       "            background-color:  #f2f2f2;\n",
       "            color:  #000000;\n",
       "        }    #T_83277630_545a_11ea_8ba6_a932fe296c86row60_col1 {\n",
       "            background-color:  #f2f2f2;\n",
       "            color:  #000000;\n",
       "        }    #T_83277630_545a_11ea_8ba6_a932fe296c86row60_col2 {\n",
       "            background-color:  #f2f2f2;\n",
       "            color:  #000000;\n",
       "        }    #T_83277630_545a_11ea_8ba6_a932fe296c86row60_col3 {\n",
       "            background-color:  #f2f2f2;\n",
       "            color:  #000000;\n",
       "        }    #T_83277630_545a_11ea_8ba6_a932fe296c86row61_col0 {\n",
       "            background-color:  #f2f2f2;\n",
       "            color:  #000000;\n",
       "        }    #T_83277630_545a_11ea_8ba6_a932fe296c86row61_col1 {\n",
       "            background-color:  #f2f2f2;\n",
       "            color:  #000000;\n",
       "        }    #T_83277630_545a_11ea_8ba6_a932fe296c86row61_col2 {\n",
       "            background-color:  #f2f2f2;\n",
       "            color:  #000000;\n",
       "        }    #T_83277630_545a_11ea_8ba6_a932fe296c86row61_col3 {\n",
       "            background-color:  #f2f2f2;\n",
       "            color:  #000000;\n",
       "        }    #T_83277630_545a_11ea_8ba6_a932fe296c86row62_col0 {\n",
       "            background-color:  #f2f2f2;\n",
       "            color:  #000000;\n",
       "        }    #T_83277630_545a_11ea_8ba6_a932fe296c86row62_col1 {\n",
       "            background-color:  #f2f2f2;\n",
       "            color:  #000000;\n",
       "        }    #T_83277630_545a_11ea_8ba6_a932fe296c86row62_col2 {\n",
       "            background-color:  #f2f2f2;\n",
       "            color:  #000000;\n",
       "        }    #T_83277630_545a_11ea_8ba6_a932fe296c86row62_col3 {\n",
       "            background-color:  #f2f2f2;\n",
       "            color:  #000000;\n",
       "        }    #T_83277630_545a_11ea_8ba6_a932fe296c86row63_col0 {\n",
       "            background-color:  #f2f2f2;\n",
       "            color:  #000000;\n",
       "        }    #T_83277630_545a_11ea_8ba6_a932fe296c86row63_col1 {\n",
       "            background-color:  #f2f2f2;\n",
       "            color:  #000000;\n",
       "        }    #T_83277630_545a_11ea_8ba6_a932fe296c86row63_col2 {\n",
       "            background-color:  #f2f2f2;\n",
       "            color:  #000000;\n",
       "        }    #T_83277630_545a_11ea_8ba6_a932fe296c86row63_col3 {\n",
       "            background-color:  #f2f2f2;\n",
       "            color:  #000000;\n",
       "        }    #T_83277630_545a_11ea_8ba6_a932fe296c86row64_col0 {\n",
       "            background-color:  #f2f2f2;\n",
       "            color:  #000000;\n",
       "        }    #T_83277630_545a_11ea_8ba6_a932fe296c86row64_col1 {\n",
       "            background-color:  #f2f2f2;\n",
       "            color:  #000000;\n",
       "        }    #T_83277630_545a_11ea_8ba6_a932fe296c86row64_col2 {\n",
       "            background-color:  #f2f2f2;\n",
       "            color:  #000000;\n",
       "        }    #T_83277630_545a_11ea_8ba6_a932fe296c86row64_col3 {\n",
       "            background-color:  #f2f2f2;\n",
       "            color:  #000000;\n",
       "        }    #T_83277630_545a_11ea_8ba6_a932fe296c86row65_col0 {\n",
       "            background-color:  #f2f2f2;\n",
       "            color:  #000000;\n",
       "        }    #T_83277630_545a_11ea_8ba6_a932fe296c86row65_col1 {\n",
       "            background-color:  #f2f2f2;\n",
       "            color:  #000000;\n",
       "        }    #T_83277630_545a_11ea_8ba6_a932fe296c86row65_col2 {\n",
       "            background-color:  #f2f2f2;\n",
       "            color:  #000000;\n",
       "        }    #T_83277630_545a_11ea_8ba6_a932fe296c86row65_col3 {\n",
       "            background-color:  #f2f2f2;\n",
       "            color:  #000000;\n",
       "        }    #T_83277630_545a_11ea_8ba6_a932fe296c86row66_col0 {\n",
       "            background-color:  #f2f2f2;\n",
       "            color:  #000000;\n",
       "        }    #T_83277630_545a_11ea_8ba6_a932fe296c86row66_col1 {\n",
       "            background-color:  #f2f2f2;\n",
       "            color:  #000000;\n",
       "        }    #T_83277630_545a_11ea_8ba6_a932fe296c86row66_col2 {\n",
       "            background-color:  #f2f2f2;\n",
       "            color:  #000000;\n",
       "        }    #T_83277630_545a_11ea_8ba6_a932fe296c86row66_col3 {\n",
       "            background-color:  #f2f2f2;\n",
       "            color:  #000000;\n",
       "        }    #T_83277630_545a_11ea_8ba6_a932fe296c86row67_col0 {\n",
       "            background-color:  #f2f2f2;\n",
       "            color:  #000000;\n",
       "        }    #T_83277630_545a_11ea_8ba6_a932fe296c86row67_col1 {\n",
       "            background-color:  #f2f2f2;\n",
       "            color:  #000000;\n",
       "        }    #T_83277630_545a_11ea_8ba6_a932fe296c86row67_col2 {\n",
       "            background-color:  #f2f2f2;\n",
       "            color:  #000000;\n",
       "        }    #T_83277630_545a_11ea_8ba6_a932fe296c86row67_col3 {\n",
       "            background-color:  #f2f2f2;\n",
       "            color:  #000000;\n",
       "        }    #T_83277630_545a_11ea_8ba6_a932fe296c86row68_col0 {\n",
       "            background-color:  #f2f2f2;\n",
       "            color:  #000000;\n",
       "        }    #T_83277630_545a_11ea_8ba6_a932fe296c86row68_col1 {\n",
       "            background-color:  #f2f2f2;\n",
       "            color:  #000000;\n",
       "        }    #T_83277630_545a_11ea_8ba6_a932fe296c86row68_col2 {\n",
       "            background-color:  #f2f2f2;\n",
       "            color:  #000000;\n",
       "        }    #T_83277630_545a_11ea_8ba6_a932fe296c86row68_col3 {\n",
       "            background-color:  #f2f2f2;\n",
       "            color:  #000000;\n",
       "        }    #T_83277630_545a_11ea_8ba6_a932fe296c86row69_col0 {\n",
       "            background-color:  #f2f2f2;\n",
       "            color:  #000000;\n",
       "        }    #T_83277630_545a_11ea_8ba6_a932fe296c86row69_col1 {\n",
       "            background-color:  #f2f2f2;\n",
       "            color:  #000000;\n",
       "        }    #T_83277630_545a_11ea_8ba6_a932fe296c86row69_col2 {\n",
       "            background-color:  #f2f2f2;\n",
       "            color:  #000000;\n",
       "        }    #T_83277630_545a_11ea_8ba6_a932fe296c86row69_col3 {\n",
       "            background-color:  #f2f2f2;\n",
       "            color:  #000000;\n",
       "        }    #T_83277630_545a_11ea_8ba6_a932fe296c86row70_col0 {\n",
       "            background-color:  #f2f2f2;\n",
       "            color:  #000000;\n",
       "        }    #T_83277630_545a_11ea_8ba6_a932fe296c86row70_col1 {\n",
       "            background-color:  #f2f2f2;\n",
       "            color:  #000000;\n",
       "        }    #T_83277630_545a_11ea_8ba6_a932fe296c86row70_col2 {\n",
       "            background-color:  #f2f2f2;\n",
       "            color:  #000000;\n",
       "        }    #T_83277630_545a_11ea_8ba6_a932fe296c86row70_col3 {\n",
       "            background-color:  #f2f2f2;\n",
       "            color:  #000000;\n",
       "        }    #T_83277630_545a_11ea_8ba6_a932fe296c86row71_col0 {\n",
       "            background-color:  #f2f2f2;\n",
       "            color:  #000000;\n",
       "        }    #T_83277630_545a_11ea_8ba6_a932fe296c86row71_col1 {\n",
       "            background-color:  #f2f2f2;\n",
       "            color:  #000000;\n",
       "        }    #T_83277630_545a_11ea_8ba6_a932fe296c86row71_col2 {\n",
       "            background-color:  #f2f2f2;\n",
       "            color:  #000000;\n",
       "        }    #T_83277630_545a_11ea_8ba6_a932fe296c86row71_col3 {\n",
       "            background-color:  #f2f2f2;\n",
       "            color:  #000000;\n",
       "        }    #T_83277630_545a_11ea_8ba6_a932fe296c86row72_col0 {\n",
       "            background-color:  #f2f2f2;\n",
       "            color:  #000000;\n",
       "        }    #T_83277630_545a_11ea_8ba6_a932fe296c86row72_col1 {\n",
       "            background-color:  #f2f2f2;\n",
       "            color:  #000000;\n",
       "        }    #T_83277630_545a_11ea_8ba6_a932fe296c86row72_col2 {\n",
       "            background-color:  #f2f2f2;\n",
       "            color:  #000000;\n",
       "        }    #T_83277630_545a_11ea_8ba6_a932fe296c86row72_col3 {\n",
       "            background-color:  #f2f2f2;\n",
       "            color:  #000000;\n",
       "        }    #T_83277630_545a_11ea_8ba6_a932fe296c86row73_col0 {\n",
       "            background-color:  #f2f2f2;\n",
       "            color:  #000000;\n",
       "        }    #T_83277630_545a_11ea_8ba6_a932fe296c86row73_col1 {\n",
       "            background-color:  #f2f2f2;\n",
       "            color:  #000000;\n",
       "        }    #T_83277630_545a_11ea_8ba6_a932fe296c86row73_col2 {\n",
       "            background-color:  #f2f2f2;\n",
       "            color:  #000000;\n",
       "        }    #T_83277630_545a_11ea_8ba6_a932fe296c86row73_col3 {\n",
       "            background-color:  #f2f2f2;\n",
       "            color:  #000000;\n",
       "        }    #T_83277630_545a_11ea_8ba6_a932fe296c86row74_col0 {\n",
       "            background-color:  #f2f2f2;\n",
       "            color:  #000000;\n",
       "        }    #T_83277630_545a_11ea_8ba6_a932fe296c86row74_col1 {\n",
       "            background-color:  #f2f2f2;\n",
       "            color:  #000000;\n",
       "        }    #T_83277630_545a_11ea_8ba6_a932fe296c86row74_col2 {\n",
       "            background-color:  #f2f2f2;\n",
       "            color:  #000000;\n",
       "        }    #T_83277630_545a_11ea_8ba6_a932fe296c86row74_col3 {\n",
       "            background-color:  #f2f2f2;\n",
       "            color:  #000000;\n",
       "        }</style><table id=\"T_83277630_545a_11ea_8ba6_a932fe296c86\" ><thead>    <tr>        <th class=\"blank\" ></th>        <th class=\"blank level0\" ></th>        <th class=\"col_heading level0 col0\" >Confirmed</th>        <th class=\"col_heading level0 col1\" >Deaths</th>        <th class=\"col_heading level0 col2\" >Recovered</th>        <th class=\"col_heading level0 col3\" >severity</th>    </tr>    <tr>        <th class=\"index_name level0\" >Country/Region</th>        <th class=\"index_name level1\" >Province/State</th>        <th class=\"blank\" ></th>        <th class=\"blank\" ></th>        <th class=\"blank\" ></th>        <th class=\"blank\" ></th>    </tr></thead><tbody>\n",
       "                <tr>\n",
       "                        <th id=\"T_83277630_545a_11ea_8ba6_a932fe296c86level0_row0\" class=\"row_heading level0 row0\" rowspan=4>Australia</th>\n",
       "                        <th id=\"T_83277630_545a_11ea_8ba6_a932fe296c86level1_row0\" class=\"row_heading level1 row0\" >New South Wales</th>\n",
       "                        <td id=\"T_83277630_545a_11ea_8ba6_a932fe296c86row0_col0\" class=\"data row0 col0\" >4</td>\n",
       "                        <td id=\"T_83277630_545a_11ea_8ba6_a932fe296c86row0_col1\" class=\"data row0 col1\" >0</td>\n",
       "                        <td id=\"T_83277630_545a_11ea_8ba6_a932fe296c86row0_col2\" class=\"data row0 col2\" >4</td>\n",
       "                        <td id=\"T_83277630_545a_11ea_8ba6_a932fe296c86row0_col3\" class=\"data row0 col3\" >0.530504</td>\n",
       "            </tr>\n",
       "            <tr>\n",
       "                                <th id=\"T_83277630_545a_11ea_8ba6_a932fe296c86level1_row1\" class=\"row_heading level1 row1\" >Queensland</th>\n",
       "                        <td id=\"T_83277630_545a_11ea_8ba6_a932fe296c86row1_col0\" class=\"data row1 col0\" >5</td>\n",
       "                        <td id=\"T_83277630_545a_11ea_8ba6_a932fe296c86row1_col1\" class=\"data row1 col1\" >0</td>\n",
       "                        <td id=\"T_83277630_545a_11ea_8ba6_a932fe296c86row1_col2\" class=\"data row1 col2\" >0</td>\n",
       "                        <td id=\"T_83277630_545a_11ea_8ba6_a932fe296c86row1_col3\" class=\"data row1 col3\" >0.986193</td>\n",
       "            </tr>\n",
       "            <tr>\n",
       "                                <th id=\"T_83277630_545a_11ea_8ba6_a932fe296c86level1_row2\" class=\"row_heading level1 row2\" >South Australia</th>\n",
       "                        <td id=\"T_83277630_545a_11ea_8ba6_a932fe296c86row2_col0\" class=\"data row2 col0\" >2</td>\n",
       "                        <td id=\"T_83277630_545a_11ea_8ba6_a932fe296c86row2_col1\" class=\"data row2 col1\" >0</td>\n",
       "                        <td id=\"T_83277630_545a_11ea_8ba6_a932fe296c86row2_col2\" class=\"data row2 col2\" >2</td>\n",
       "                        <td id=\"T_83277630_545a_11ea_8ba6_a932fe296c86row2_col3\" class=\"data row2 col3\" >1.19261</td>\n",
       "            </tr>\n",
       "            <tr>\n",
       "                                <th id=\"T_83277630_545a_11ea_8ba6_a932fe296c86level1_row3\" class=\"row_heading level1 row3\" >Victoria</th>\n",
       "                        <td id=\"T_83277630_545a_11ea_8ba6_a932fe296c86row3_col0\" class=\"data row3 col0\" >4</td>\n",
       "                        <td id=\"T_83277630_545a_11ea_8ba6_a932fe296c86row3_col1\" class=\"data row3 col1\" >0</td>\n",
       "                        <td id=\"T_83277630_545a_11ea_8ba6_a932fe296c86row3_col2\" class=\"data row3 col2\" >4</td>\n",
       "                        <td id=\"T_83277630_545a_11ea_8ba6_a932fe296c86row3_col3\" class=\"data row3 col3\" >0.625</td>\n",
       "            </tr>\n",
       "            <tr>\n",
       "                        <th id=\"T_83277630_545a_11ea_8ba6_a932fe296c86level0_row4\" class=\"row_heading level0 row4\" >Belgium</th>\n",
       "                        <th id=\"T_83277630_545a_11ea_8ba6_a932fe296c86level1_row4\" class=\"row_heading level1 row4\" >NA</th>\n",
       "                        <td id=\"T_83277630_545a_11ea_8ba6_a932fe296c86row4_col0\" class=\"data row4 col0\" >1</td>\n",
       "                        <td id=\"T_83277630_545a_11ea_8ba6_a932fe296c86row4_col1\" class=\"data row4 col1\" >0</td>\n",
       "                        <td id=\"T_83277630_545a_11ea_8ba6_a932fe296c86row4_col2\" class=\"data row4 col2\" >1</td>\n",
       "                        <td id=\"T_83277630_545a_11ea_8ba6_a932fe296c86row4_col3\" class=\"data row4 col3\" >0.0877193</td>\n",
       "            </tr>\n",
       "            <tr>\n",
       "                        <th id=\"T_83277630_545a_11ea_8ba6_a932fe296c86level0_row5\" class=\"row_heading level0 row5\" >Cambodia</th>\n",
       "                        <th id=\"T_83277630_545a_11ea_8ba6_a932fe296c86level1_row5\" class=\"row_heading level1 row5\" >NA</th>\n",
       "                        <td id=\"T_83277630_545a_11ea_8ba6_a932fe296c86row5_col0\" class=\"data row5 col0\" >1</td>\n",
       "                        <td id=\"T_83277630_545a_11ea_8ba6_a932fe296c86row5_col1\" class=\"data row5 col1\" >0</td>\n",
       "                        <td id=\"T_83277630_545a_11ea_8ba6_a932fe296c86row5_col2\" class=\"data row5 col2\" >1</td>\n",
       "                        <td id=\"T_83277630_545a_11ea_8ba6_a932fe296c86row5_col3\" class=\"data row5 col3\" >0.062461</td>\n",
       "            </tr>\n",
       "            <tr>\n",
       "                        <th id=\"T_83277630_545a_11ea_8ba6_a932fe296c86level0_row6\" class=\"row_heading level0 row6\" rowspan=3>Canada</th>\n",
       "                        <th id=\"T_83277630_545a_11ea_8ba6_a932fe296c86level1_row6\" class=\"row_heading level1 row6\" >British Columbia</th>\n",
       "                        <td id=\"T_83277630_545a_11ea_8ba6_a932fe296c86row6_col0\" class=\"data row6 col0\" >5</td>\n",
       "                        <td id=\"T_83277630_545a_11ea_8ba6_a932fe296c86row6_col1\" class=\"data row6 col1\" >0</td>\n",
       "                        <td id=\"T_83277630_545a_11ea_8ba6_a932fe296c86row6_col2\" class=\"data row6 col2\" >0</td>\n",
       "                        <td id=\"T_83277630_545a_11ea_8ba6_a932fe296c86row6_col3\" class=\"data row6 col3\" >0.986193</td>\n",
       "            </tr>\n",
       "            <tr>\n",
       "                                <th id=\"T_83277630_545a_11ea_8ba6_a932fe296c86level1_row7\" class=\"row_heading level1 row7\" >London, ON</th>\n",
       "                        <td id=\"T_83277630_545a_11ea_8ba6_a932fe296c86row7_col0\" class=\"data row7 col0\" >1</td>\n",
       "                        <td id=\"T_83277630_545a_11ea_8ba6_a932fe296c86row7_col1\" class=\"data row7 col1\" >0</td>\n",
       "                        <td id=\"T_83277630_545a_11ea_8ba6_a932fe296c86row7_col2\" class=\"data row7 col2\" >1</td>\n",
       "                        <td id=\"T_83277630_545a_11ea_8ba6_a932fe296c86row7_col3\" class=\"data row7 col3\" >2.5</td>\n",
       "            </tr>\n",
       "            <tr>\n",
       "                                <th id=\"T_83277630_545a_11ea_8ba6_a932fe296c86level1_row8\" class=\"row_heading level1 row8\" >Toronto, ON</th>\n",
       "                        <td id=\"T_83277630_545a_11ea_8ba6_a932fe296c86row8_col0\" class=\"data row8 col0\" >2</td>\n",
       "                        <td id=\"T_83277630_545a_11ea_8ba6_a932fe296c86row8_col1\" class=\"data row8 col1\" >0</td>\n",
       "                        <td id=\"T_83277630_545a_11ea_8ba6_a932fe296c86row8_col2\" class=\"data row8 col2\" >0</td>\n",
       "                        <td id=\"T_83277630_545a_11ea_8ba6_a932fe296c86row8_col3\" class=\"data row8 col3\" >0.682594</td>\n",
       "            </tr>\n",
       "            <tr>\n",
       "                        <th id=\"T_83277630_545a_11ea_8ba6_a932fe296c86level0_row9\" class=\"row_heading level0 row9\" >Egypt</th>\n",
       "                        <th id=\"T_83277630_545a_11ea_8ba6_a932fe296c86level1_row9\" class=\"row_heading level1 row9\" >NA</th>\n",
       "                        <td id=\"T_83277630_545a_11ea_8ba6_a932fe296c86row9_col0\" class=\"data row9 col0\" >1</td>\n",
       "                        <td id=\"T_83277630_545a_11ea_8ba6_a932fe296c86row9_col1\" class=\"data row9 col1\" >0</td>\n",
       "                        <td id=\"T_83277630_545a_11ea_8ba6_a932fe296c86row9_col2\" class=\"data row9 col2\" >0</td>\n",
       "                        <td id=\"T_83277630_545a_11ea_8ba6_a932fe296c86row9_col3\" class=\"data row9 col3\" >0.1</td>\n",
       "            </tr>\n",
       "            <tr>\n",
       "                        <th id=\"T_83277630_545a_11ea_8ba6_a932fe296c86level0_row10\" class=\"row_heading level0 row10\" >Finland</th>\n",
       "                        <th id=\"T_83277630_545a_11ea_8ba6_a932fe296c86level1_row10\" class=\"row_heading level1 row10\" >NA</th>\n",
       "                        <td id=\"T_83277630_545a_11ea_8ba6_a932fe296c86row10_col0\" class=\"data row10 col0\" >1</td>\n",
       "                        <td id=\"T_83277630_545a_11ea_8ba6_a932fe296c86row10_col1\" class=\"data row10 col1\" >0</td>\n",
       "                        <td id=\"T_83277630_545a_11ea_8ba6_a932fe296c86row10_col2\" class=\"data row10 col2\" >1</td>\n",
       "                        <td id=\"T_83277630_545a_11ea_8ba6_a932fe296c86row10_col3\" class=\"data row10 col3\" >0.181818</td>\n",
       "            </tr>\n",
       "            <tr>\n",
       "                        <th id=\"T_83277630_545a_11ea_8ba6_a932fe296c86level0_row11\" class=\"row_heading level0 row11\" >France</th>\n",
       "                        <th id=\"T_83277630_545a_11ea_8ba6_a932fe296c86level1_row11\" class=\"row_heading level1 row11\" >NA</th>\n",
       "                        <td id=\"T_83277630_545a_11ea_8ba6_a932fe296c86row11_col0\" class=\"data row11 col0\" >12</td>\n",
       "                        <td id=\"T_83277630_545a_11ea_8ba6_a932fe296c86row11_col1\" class=\"data row11 col1\" >1</td>\n",
       "                        <td id=\"T_83277630_545a_11ea_8ba6_a932fe296c86row11_col2\" class=\"data row11 col2\" >4</td>\n",
       "                        <td id=\"T_83277630_545a_11ea_8ba6_a932fe296c86row11_col3\" class=\"data row11 col3\" >0.179104</td>\n",
       "            </tr>\n",
       "            <tr>\n",
       "                        <th id=\"T_83277630_545a_11ea_8ba6_a932fe296c86level0_row12\" class=\"row_heading level0 row12\" >Germany</th>\n",
       "                        <th id=\"T_83277630_545a_11ea_8ba6_a932fe296c86level1_row12\" class=\"row_heading level1 row12\" >NA</th>\n",
       "                        <td id=\"T_83277630_545a_11ea_8ba6_a932fe296c86row12_col0\" class=\"data row12 col0\" >16</td>\n",
       "                        <td id=\"T_83277630_545a_11ea_8ba6_a932fe296c86row12_col1\" class=\"data row12 col1\" >0</td>\n",
       "                        <td id=\"T_83277630_545a_11ea_8ba6_a932fe296c86row12_col2\" class=\"data row12 col2\" >12</td>\n",
       "                        <td id=\"T_83277630_545a_11ea_8ba6_a932fe296c86row12_col3\" class=\"data row12 col3\" >0.19326</td>\n",
       "            </tr>\n",
       "            <tr>\n",
       "                        <th id=\"T_83277630_545a_11ea_8ba6_a932fe296c86level0_row13\" class=\"row_heading level0 row13\" >Hong Kong</th>\n",
       "                        <th id=\"T_83277630_545a_11ea_8ba6_a932fe296c86level1_row13\" class=\"row_heading level1 row13\" >Hong Kong</th>\n",
       "                        <td id=\"T_83277630_545a_11ea_8ba6_a932fe296c86row13_col0\" class=\"data row13 col0\" >63</td>\n",
       "                        <td id=\"T_83277630_545a_11ea_8ba6_a932fe296c86row13_col1\" class=\"data row13 col1\" >2</td>\n",
       "                        <td id=\"T_83277630_545a_11ea_8ba6_a932fe296c86row13_col2\" class=\"data row13 col2\" >5</td>\n",
       "                        <td id=\"T_83277630_545a_11ea_8ba6_a932fe296c86row13_col3\" class=\"data row13 col3\" >8.51351</td>\n",
       "            </tr>\n",
       "            <tr>\n",
       "                        <th id=\"T_83277630_545a_11ea_8ba6_a932fe296c86level0_row14\" class=\"row_heading level0 row14\" >India</th>\n",
       "                        <th id=\"T_83277630_545a_11ea_8ba6_a932fe296c86level1_row14\" class=\"row_heading level1 row14\" >NA</th>\n",
       "                        <td id=\"T_83277630_545a_11ea_8ba6_a932fe296c86row14_col0\" class=\"data row14 col0\" >3</td>\n",
       "                        <td id=\"T_83277630_545a_11ea_8ba6_a932fe296c86row14_col1\" class=\"data row14 col1\" >0</td>\n",
       "                        <td id=\"T_83277630_545a_11ea_8ba6_a932fe296c86row14_col2\" class=\"data row14 col2\" >3</td>\n",
       "                        <td id=\"T_83277630_545a_11ea_8ba6_a932fe296c86row14_col3\" class=\"data row14 col3\" >0.00224048</td>\n",
       "            </tr>\n",
       "            <tr>\n",
       "                        <th id=\"T_83277630_545a_11ea_8ba6_a932fe296c86level0_row15\" class=\"row_heading level0 row15\" >Iran</th>\n",
       "                        <th id=\"T_83277630_545a_11ea_8ba6_a932fe296c86level1_row15\" class=\"row_heading level1 row15\" >NA</th>\n",
       "                        <td id=\"T_83277630_545a_11ea_8ba6_a932fe296c86row15_col0\" class=\"data row15 col0\" >2</td>\n",
       "                        <td id=\"T_83277630_545a_11ea_8ba6_a932fe296c86row15_col1\" class=\"data row15 col1\" >2</td>\n",
       "                        <td id=\"T_83277630_545a_11ea_8ba6_a932fe296c86row15_col2\" class=\"data row15 col2\" >0</td>\n",
       "                        <td id=\"T_83277630_545a_11ea_8ba6_a932fe296c86row15_col3\" class=\"data row15 col3\" >0.2</td>\n",
       "            </tr>\n",
       "            <tr>\n",
       "                        <th id=\"T_83277630_545a_11ea_8ba6_a932fe296c86level0_row16\" class=\"row_heading level0 row16\" >Italy</th>\n",
       "                        <th id=\"T_83277630_545a_11ea_8ba6_a932fe296c86level1_row16\" class=\"row_heading level1 row16\" >NA</th>\n",
       "                        <td id=\"T_83277630_545a_11ea_8ba6_a932fe296c86row16_col0\" class=\"data row16 col0\" >3</td>\n",
       "                        <td id=\"T_83277630_545a_11ea_8ba6_a932fe296c86row16_col1\" class=\"data row16 col1\" >0</td>\n",
       "                        <td id=\"T_83277630_545a_11ea_8ba6_a932fe296c86row16_col2\" class=\"data row16 col2\" >0</td>\n",
       "                        <td id=\"T_83277630_545a_11ea_8ba6_a932fe296c86row16_col3\" class=\"data row16 col3\" >0.0496032</td>\n",
       "            </tr>\n",
       "            <tr>\n",
       "                        <th id=\"T_83277630_545a_11ea_8ba6_a932fe296c86level0_row17\" class=\"row_heading level0 row17\" >Japan</th>\n",
       "                        <th id=\"T_83277630_545a_11ea_8ba6_a932fe296c86level1_row17\" class=\"row_heading level1 row17\" >NA</th>\n",
       "                        <td id=\"T_83277630_545a_11ea_8ba6_a932fe296c86row17_col0\" class=\"data row17 col0\" >84</td>\n",
       "                        <td id=\"T_83277630_545a_11ea_8ba6_a932fe296c86row17_col1\" class=\"data row17 col1\" >1</td>\n",
       "                        <td id=\"T_83277630_545a_11ea_8ba6_a932fe296c86row17_col2\" class=\"data row17 col2\" >18</td>\n",
       "                        <td id=\"T_83277630_545a_11ea_8ba6_a932fe296c86row17_col3\" class=\"data row17 col3\" >0.662461</td>\n",
       "            </tr>\n",
       "            <tr>\n",
       "                        <th id=\"T_83277630_545a_11ea_8ba6_a932fe296c86level0_row18\" class=\"row_heading level0 row18\" >Macau</th>\n",
       "                        <th id=\"T_83277630_545a_11ea_8ba6_a932fe296c86level1_row18\" class=\"row_heading level1 row18\" >Macau</th>\n",
       "                        <td id=\"T_83277630_545a_11ea_8ba6_a932fe296c86row18_col0\" class=\"data row18 col0\" >10</td>\n",
       "                        <td id=\"T_83277630_545a_11ea_8ba6_a932fe296c86row18_col1\" class=\"data row18 col1\" >0</td>\n",
       "                        <td id=\"T_83277630_545a_11ea_8ba6_a932fe296c86row18_col2\" class=\"data row18 col2\" >5</td>\n",
       "                        <td id=\"T_83277630_545a_11ea_8ba6_a932fe296c86row18_col3\" class=\"data row18 col3\" >16.129</td>\n",
       "            </tr>\n",
       "            <tr>\n",
       "                        <th id=\"T_83277630_545a_11ea_8ba6_a932fe296c86level0_row19\" class=\"row_heading level0 row19\" rowspan=31>Mainland China</th>\n",
       "                        <th id=\"T_83277630_545a_11ea_8ba6_a932fe296c86level1_row19\" class=\"row_heading level1 row19\" >Anhui</th>\n",
       "                        <td id=\"T_83277630_545a_11ea_8ba6_a932fe296c86row19_col0\" class=\"data row19 col0\" >986</td>\n",
       "                        <td id=\"T_83277630_545a_11ea_8ba6_a932fe296c86row19_col1\" class=\"data row19 col1\" >6</td>\n",
       "                        <td id=\"T_83277630_545a_11ea_8ba6_a932fe296c86row19_col2\" class=\"data row19 col2\" >413</td>\n",
       "                        <td id=\"T_83277630_545a_11ea_8ba6_a932fe296c86row19_col3\" class=\"data row19 col3\" >15.9032</td>\n",
       "            </tr>\n",
       "            <tr>\n",
       "                                <th id=\"T_83277630_545a_11ea_8ba6_a932fe296c86level1_row20\" class=\"row_heading level1 row20\" >Beijing</th>\n",
       "                        <td id=\"T_83277630_545a_11ea_8ba6_a932fe296c86row20_col0\" class=\"data row20 col0\" >393</td>\n",
       "                        <td id=\"T_83277630_545a_11ea_8ba6_a932fe296c86row20_col1\" class=\"data row20 col1\" >4</td>\n",
       "                        <td id=\"T_83277630_545a_11ea_8ba6_a932fe296c86row20_col2\" class=\"data row20 col2\" >145</td>\n",
       "                        <td id=\"T_83277630_545a_11ea_8ba6_a932fe296c86row20_col3\" class=\"data row20 col3\" >18.2451</td>\n",
       "            </tr>\n",
       "            <tr>\n",
       "                                <th id=\"T_83277630_545a_11ea_8ba6_a932fe296c86level1_row21\" class=\"row_heading level1 row21\" >Chongqing</th>\n",
       "                        <td id=\"T_83277630_545a_11ea_8ba6_a932fe296c86row21_col0\" class=\"data row21 col0\" >560</td>\n",
       "                        <td id=\"T_83277630_545a_11ea_8ba6_a932fe296c86row21_col1\" class=\"data row21 col1\" >5</td>\n",
       "                        <td id=\"T_83277630_545a_11ea_8ba6_a932fe296c86row21_col2\" class=\"data row21 col2\" >274</td>\n",
       "                        <td id=\"T_83277630_545a_11ea_8ba6_a932fe296c86row21_col3\" class=\"data row21 col3\" >18.3727</td>\n",
       "            </tr>\n",
       "            <tr>\n",
       "                                <th id=\"T_83277630_545a_11ea_8ba6_a932fe296c86level1_row22\" class=\"row_heading level1 row22\" >Fujian</th>\n",
       "                        <td id=\"T_83277630_545a_11ea_8ba6_a932fe296c86row22_col0\" class=\"data row22 col0\" >293</td>\n",
       "                        <td id=\"T_83277630_545a_11ea_8ba6_a932fe296c86row22_col1\" class=\"data row22 col1\" >0</td>\n",
       "                        <td id=\"T_83277630_545a_11ea_8ba6_a932fe296c86row22_col2\" class=\"data row22 col2\" >112</td>\n",
       "                        <td id=\"T_83277630_545a_11ea_8ba6_a932fe296c86row22_col3\" class=\"data row22 col3\" >7.59855</td>\n",
       "            </tr>\n",
       "            <tr>\n",
       "                                <th id=\"T_83277630_545a_11ea_8ba6_a932fe296c86level1_row23\" class=\"row_heading level1 row23\" >Gansu</th>\n",
       "                        <td id=\"T_83277630_545a_11ea_8ba6_a932fe296c86row23_col0\" class=\"data row23 col0\" >91</td>\n",
       "                        <td id=\"T_83277630_545a_11ea_8ba6_a932fe296c86row23_col1\" class=\"data row23 col1\" >2</td>\n",
       "                        <td id=\"T_83277630_545a_11ea_8ba6_a932fe296c86row23_col2\" class=\"data row23 col2\" >65</td>\n",
       "                        <td id=\"T_83277630_545a_11ea_8ba6_a932fe296c86row23_col3\" class=\"data row23 col3\" >3.55747</td>\n",
       "            </tr>\n",
       "            <tr>\n",
       "                                <th id=\"T_83277630_545a_11ea_8ba6_a932fe296c86level1_row24\" class=\"row_heading level1 row24\" >Guangdong</th>\n",
       "                        <td id=\"T_83277630_545a_11ea_8ba6_a932fe296c86row24_col0\" class=\"data row24 col0\" >1331</td>\n",
       "                        <td id=\"T_83277630_545a_11ea_8ba6_a932fe296c86row24_col1\" class=\"data row24 col1\" >5</td>\n",
       "                        <td id=\"T_83277630_545a_11ea_8ba6_a932fe296c86row24_col2\" class=\"data row24 col2\" >606</td>\n",
       "                        <td id=\"T_83277630_545a_11ea_8ba6_a932fe296c86row24_col3\" class=\"data row24 col3\" >11.731</td>\n",
       "            </tr>\n",
       "            <tr>\n",
       "                                <th id=\"T_83277630_545a_11ea_8ba6_a932fe296c86level1_row25\" class=\"row_heading level1 row25\" >Guangxi</th>\n",
       "                        <td id=\"T_83277630_545a_11ea_8ba6_a932fe296c86row25_col0\" class=\"data row25 col0\" >244</td>\n",
       "                        <td id=\"T_83277630_545a_11ea_8ba6_a932fe296c86row25_col1\" class=\"data row25 col1\" >2</td>\n",
       "                        <td id=\"T_83277630_545a_11ea_8ba6_a932fe296c86row25_col2\" class=\"data row25 col2\" >86</td>\n",
       "                        <td id=\"T_83277630_545a_11ea_8ba6_a932fe296c86row25_col3\" class=\"data row25 col3\" >5.04341</td>\n",
       "            </tr>\n",
       "            <tr>\n",
       "                                <th id=\"T_83277630_545a_11ea_8ba6_a932fe296c86level1_row26\" class=\"row_heading level1 row26\" >Guizhou</th>\n",
       "                        <td id=\"T_83277630_545a_11ea_8ba6_a932fe296c86row26_col0\" class=\"data row26 col0\" >146</td>\n",
       "                        <td id=\"T_83277630_545a_11ea_8ba6_a932fe296c86row26_col1\" class=\"data row26 col1\" >2</td>\n",
       "                        <td id=\"T_83277630_545a_11ea_8ba6_a932fe296c86row26_col2\" class=\"data row26 col2\" >70</td>\n",
       "                        <td id=\"T_83277630_545a_11ea_8ba6_a932fe296c86row26_col3\" class=\"data row26 col3\" >4.20144</td>\n",
       "            </tr>\n",
       "            <tr>\n",
       "                                <th id=\"T_83277630_545a_11ea_8ba6_a932fe296c86level1_row27\" class=\"row_heading level1 row27\" >Hainan</th>\n",
       "                        <td id=\"T_83277630_545a_11ea_8ba6_a932fe296c86row27_col0\" class=\"data row27 col0\" >168</td>\n",
       "                        <td id=\"T_83277630_545a_11ea_8ba6_a932fe296c86row27_col1\" class=\"data row27 col1\" >4</td>\n",
       "                        <td id=\"T_83277630_545a_11ea_8ba6_a932fe296c86row27_col2\" class=\"data row27 col2\" >84</td>\n",
       "                        <td id=\"T_83277630_545a_11ea_8ba6_a932fe296c86row27_col3\" class=\"data row27 col3\" >18.0645</td>\n",
       "            </tr>\n",
       "            <tr>\n",
       "                                <th id=\"T_83277630_545a_11ea_8ba6_a932fe296c86level1_row28\" class=\"row_heading level1 row28\" >Hebei</th>\n",
       "                        <td id=\"T_83277630_545a_11ea_8ba6_a932fe296c86row28_col0\" class=\"data row28 col0\" >306</td>\n",
       "                        <td id=\"T_83277630_545a_11ea_8ba6_a932fe296c86row28_col1\" class=\"data row28 col1\" >4</td>\n",
       "                        <td id=\"T_83277630_545a_11ea_8ba6_a932fe296c86row28_col2\" class=\"data row28 col2\" >152</td>\n",
       "                        <td id=\"T_83277630_545a_11ea_8ba6_a932fe296c86row28_col3\" class=\"data row28 col3\" >4.09639</td>\n",
       "            </tr>\n",
       "            <tr>\n",
       "                                <th id=\"T_83277630_545a_11ea_8ba6_a932fe296c86level1_row29\" class=\"row_heading level1 row29\" >Heilongjiang</th>\n",
       "                        <td id=\"T_83277630_545a_11ea_8ba6_a932fe296c86row29_col0\" class=\"data row29 col0\" >470</td>\n",
       "                        <td id=\"T_83277630_545a_11ea_8ba6_a932fe296c86row29_col1\" class=\"data row29 col1\" >12</td>\n",
       "                        <td id=\"T_83277630_545a_11ea_8ba6_a932fe296c86row29_col2\" class=\"data row29 col2\" >120</td>\n",
       "                        <td id=\"T_83277630_545a_11ea_8ba6_a932fe296c86row29_col3\" class=\"data row29 col3\" >12.2683</td>\n",
       "            </tr>\n",
       "            <tr>\n",
       "                                <th id=\"T_83277630_545a_11ea_8ba6_a932fe296c86level1_row30\" class=\"row_heading level1 row30\" >Henan</th>\n",
       "                        <td id=\"T_83277630_545a_11ea_8ba6_a932fe296c86row30_col0\" class=\"data row30 col0\" >1262</td>\n",
       "                        <td id=\"T_83277630_545a_11ea_8ba6_a932fe296c86row30_col1\" class=\"data row30 col1\" >19</td>\n",
       "                        <td id=\"T_83277630_545a_11ea_8ba6_a932fe296c86row30_col2\" class=\"data row30 col2\" >573</td>\n",
       "                        <td id=\"T_83277630_545a_11ea_8ba6_a932fe296c86row30_col3\" class=\"data row30 col3\" >13.4255</td>\n",
       "            </tr>\n",
       "            <tr>\n",
       "                                <th id=\"T_83277630_545a_11ea_8ba6_a932fe296c86level1_row31\" class=\"row_heading level1 row31\" >Hubei</th>\n",
       "                        <td id=\"T_83277630_545a_11ea_8ba6_a932fe296c86row31_col0\" class=\"data row31 col0\" >62031</td>\n",
       "                        <td id=\"T_83277630_545a_11ea_8ba6_a932fe296c86row31_col1\" class=\"data row31 col1\" >2029</td>\n",
       "                        <td id=\"T_83277630_545a_11ea_8ba6_a932fe296c86row31_col2\" class=\"data row31 col2\" >10337</td>\n",
       "                        <td id=\"T_83277630_545a_11ea_8ba6_a932fe296c86row31_col3\" class=\"data row31 col3\" >1060.36</td>\n",
       "            </tr>\n",
       "            <tr>\n",
       "                                <th id=\"T_83277630_545a_11ea_8ba6_a932fe296c86level1_row32\" class=\"row_heading level1 row32\" >Hunan</th>\n",
       "                        <td id=\"T_83277630_545a_11ea_8ba6_a932fe296c86row32_col0\" class=\"data row32 col0\" >1008</td>\n",
       "                        <td id=\"T_83277630_545a_11ea_8ba6_a932fe296c86row32_col1\" class=\"data row32 col1\" >4</td>\n",
       "                        <td id=\"T_83277630_545a_11ea_8ba6_a932fe296c86row32_col2\" class=\"data row32 col2\" >561</td>\n",
       "                        <td id=\"T_83277630_545a_11ea_8ba6_a932fe296c86row32_col3\" class=\"data row32 col3\" >14.9621</td>\n",
       "            </tr>\n",
       "            <tr>\n",
       "                                <th id=\"T_83277630_545a_11ea_8ba6_a932fe296c86level1_row33\" class=\"row_heading level1 row33\" >Inner Mongolia</th>\n",
       "                        <td id=\"T_83277630_545a_11ea_8ba6_a932fe296c86row33_col0\" class=\"data row33 col0\" >75</td>\n",
       "                        <td id=\"T_83277630_545a_11ea_8ba6_a932fe296c86row33_col1\" class=\"data row33 col1\" >0</td>\n",
       "                        <td id=\"T_83277630_545a_11ea_8ba6_a932fe296c86row33_col2\" class=\"data row33 col2\" >10</td>\n",
       "                        <td id=\"T_83277630_545a_11ea_8ba6_a932fe296c86row33_col3\" class=\"data row33 col3\" >3.03521</td>\n",
       "            </tr>\n",
       "            <tr>\n",
       "                                <th id=\"T_83277630_545a_11ea_8ba6_a932fe296c86level1_row34\" class=\"row_heading level1 row34\" >Jiangsu</th>\n",
       "                        <td id=\"T_83277630_545a_11ea_8ba6_a932fe296c86row34_col0\" class=\"data row34 col0\" >631</td>\n",
       "                        <td id=\"T_83277630_545a_11ea_8ba6_a932fe296c86row34_col1\" class=\"data row34 col1\" >0</td>\n",
       "                        <td id=\"T_83277630_545a_11ea_8ba6_a932fe296c86row34_col2\" class=\"data row34 col2\" >318</td>\n",
       "                        <td id=\"T_83277630_545a_11ea_8ba6_a932fe296c86row34_col3\" class=\"data row34 col3\" >7.84826</td>\n",
       "            </tr>\n",
       "            <tr>\n",
       "                                <th id=\"T_83277630_545a_11ea_8ba6_a932fe296c86level1_row35\" class=\"row_heading level1 row35\" >Jiangxi</th>\n",
       "                        <td id=\"T_83277630_545a_11ea_8ba6_a932fe296c86row35_col0\" class=\"data row35 col0\" >934</td>\n",
       "                        <td id=\"T_83277630_545a_11ea_8ba6_a932fe296c86row35_col1\" class=\"data row35 col1\" >1</td>\n",
       "                        <td id=\"T_83277630_545a_11ea_8ba6_a932fe296c86row35_col2\" class=\"data row35 col2\" >362</td>\n",
       "                        <td id=\"T_83277630_545a_11ea_8ba6_a932fe296c86row35_col3\" class=\"data row35 col3\" >20.6637</td>\n",
       "            </tr>\n",
       "            <tr>\n",
       "                                <th id=\"T_83277630_545a_11ea_8ba6_a932fe296c86level1_row36\" class=\"row_heading level1 row36\" >Jilin</th>\n",
       "                        <td id=\"T_83277630_545a_11ea_8ba6_a932fe296c86row36_col0\" class=\"data row36 col0\" >90</td>\n",
       "                        <td id=\"T_83277630_545a_11ea_8ba6_a932fe296c86row36_col1\" class=\"data row36 col1\" >1</td>\n",
       "                        <td id=\"T_83277630_545a_11ea_8ba6_a932fe296c86row36_col2\" class=\"data row36 col2\" >37</td>\n",
       "                        <td id=\"T_83277630_545a_11ea_8ba6_a932fe296c86row36_col3\" class=\"data row36 col3\" >3.27749</td>\n",
       "            </tr>\n",
       "            <tr>\n",
       "                                <th id=\"T_83277630_545a_11ea_8ba6_a932fe296c86level1_row37\" class=\"row_heading level1 row37\" >Liaoning</th>\n",
       "                        <td id=\"T_83277630_545a_11ea_8ba6_a932fe296c86row37_col0\" class=\"data row37 col0\" >121</td>\n",
       "                        <td id=\"T_83277630_545a_11ea_8ba6_a932fe296c86row37_col1\" class=\"data row37 col1\" >1</td>\n",
       "                        <td id=\"T_83277630_545a_11ea_8ba6_a932fe296c86row37_col2\" class=\"data row37 col2\" >55</td>\n",
       "                        <td id=\"T_83277630_545a_11ea_8ba6_a932fe296c86row37_col3\" class=\"data row37 col3\" >2.75626</td>\n",
       "            </tr>\n",
       "            <tr>\n",
       "                                <th id=\"T_83277630_545a_11ea_8ba6_a932fe296c86level1_row38\" class=\"row_heading level1 row38\" >Ningxia</th>\n",
       "                        <td id=\"T_83277630_545a_11ea_8ba6_a932fe296c86row38_col0\" class=\"data row38 col0\" >71</td>\n",
       "                        <td id=\"T_83277630_545a_11ea_8ba6_a932fe296c86row38_col1\" class=\"data row38 col1\" >0</td>\n",
       "                        <td id=\"T_83277630_545a_11ea_8ba6_a932fe296c86row38_col2\" class=\"data row38 col2\" >42</td>\n",
       "                        <td id=\"T_83277630_545a_11ea_8ba6_a932fe296c86row38_col3\" class=\"data row38 col3\" >11.2698</td>\n",
       "            </tr>\n",
       "            <tr>\n",
       "                                <th id=\"T_83277630_545a_11ea_8ba6_a932fe296c86level1_row39\" class=\"row_heading level1 row39\" >Qinghai</th>\n",
       "                        <td id=\"T_83277630_545a_11ea_8ba6_a932fe296c86row39_col0\" class=\"data row39 col0\" >18</td>\n",
       "                        <td id=\"T_83277630_545a_11ea_8ba6_a932fe296c86row39_col1\" class=\"data row39 col1\" >0</td>\n",
       "                        <td id=\"T_83277630_545a_11ea_8ba6_a932fe296c86row39_col2\" class=\"data row39 col2\" >16</td>\n",
       "                        <td id=\"T_83277630_545a_11ea_8ba6_a932fe296c86row39_col3\" class=\"data row39 col3\" >3.21429</td>\n",
       "            </tr>\n",
       "            <tr>\n",
       "                                <th id=\"T_83277630_545a_11ea_8ba6_a932fe296c86level1_row40\" class=\"row_heading level1 row40\" >Shaanxi</th>\n",
       "                        <td id=\"T_83277630_545a_11ea_8ba6_a932fe296c86row40_col0\" class=\"data row40 col0\" >242</td>\n",
       "                        <td id=\"T_83277630_545a_11ea_8ba6_a932fe296c86row40_col1\" class=\"data row40 col1\" >0</td>\n",
       "                        <td id=\"T_83277630_545a_11ea_8ba6_a932fe296c86row40_col2\" class=\"data row40 col2\" >102</td>\n",
       "                        <td id=\"T_83277630_545a_11ea_8ba6_a932fe296c86row40_col3\" class=\"data row40 col3\" >6.48272</td>\n",
       "            </tr>\n",
       "            <tr>\n",
       "                                <th id=\"T_83277630_545a_11ea_8ba6_a932fe296c86level1_row41\" class=\"row_heading level1 row41\" >Shandong</th>\n",
       "                        <td id=\"T_83277630_545a_11ea_8ba6_a932fe296c86row41_col0\" class=\"data row41 col0\" >544</td>\n",
       "                        <td id=\"T_83277630_545a_11ea_8ba6_a932fe296c86row41_col1\" class=\"data row41 col1\" >3</td>\n",
       "                        <td id=\"T_83277630_545a_11ea_8ba6_a932fe296c86row41_col2\" class=\"data row41 col2\" >231</td>\n",
       "                        <td id=\"T_83277630_545a_11ea_8ba6_a932fe296c86row41_col3\" class=\"data row41 col3\" >6.04444</td>\n",
       "            </tr>\n",
       "            <tr>\n",
       "                                <th id=\"T_83277630_545a_11ea_8ba6_a932fe296c86level1_row42\" class=\"row_heading level1 row42\" >Shanghai</th>\n",
       "                        <td id=\"T_83277630_545a_11ea_8ba6_a932fe296c86row42_col0\" class=\"data row42 col0\" >333</td>\n",
       "                        <td id=\"T_83277630_545a_11ea_8ba6_a932fe296c86row42_col1\" class=\"data row42 col1\" >2</td>\n",
       "                        <td id=\"T_83277630_545a_11ea_8ba6_a932fe296c86row42_col2\" class=\"data row42 col2\" >186</td>\n",
       "                        <td id=\"T_83277630_545a_11ea_8ba6_a932fe296c86row42_col3\" class=\"data row42 col3\" >13.7376</td>\n",
       "            </tr>\n",
       "            <tr>\n",
       "                                <th id=\"T_83277630_545a_11ea_8ba6_a932fe296c86level1_row43\" class=\"row_heading level1 row43\" >Shanxi</th>\n",
       "                        <td id=\"T_83277630_545a_11ea_8ba6_a932fe296c86row43_col0\" class=\"data row43 col0\" >131</td>\n",
       "                        <td id=\"T_83277630_545a_11ea_8ba6_a932fe296c86row43_col1\" class=\"data row43 col1\" >0</td>\n",
       "                        <td id=\"T_83277630_545a_11ea_8ba6_a932fe296c86row43_col2\" class=\"data row43 col2\" >68</td>\n",
       "                        <td id=\"T_83277630_545a_11ea_8ba6_a932fe296c86row43_col3\" class=\"data row43 col3\" >3.58904</td>\n",
       "            </tr>\n",
       "            <tr>\n",
       "                                <th id=\"T_83277630_545a_11ea_8ba6_a932fe296c86level1_row44\" class=\"row_heading level1 row44\" >Sichuan</th>\n",
       "                        <td id=\"T_83277630_545a_11ea_8ba6_a932fe296c86row44_col0\" class=\"data row44 col0\" >514</td>\n",
       "                        <td id=\"T_83277630_545a_11ea_8ba6_a932fe296c86row44_col1\" class=\"data row44 col1\" >3</td>\n",
       "                        <td id=\"T_83277630_545a_11ea_8ba6_a932fe296c86row44_col2\" class=\"data row44 col2\" >188</td>\n",
       "                        <td id=\"T_83277630_545a_11ea_8ba6_a932fe296c86row44_col3\" class=\"data row44 col3\" >6.33785</td>\n",
       "            </tr>\n",
       "            <tr>\n",
       "                                <th id=\"T_83277630_545a_11ea_8ba6_a932fe296c86level1_row45\" class=\"row_heading level1 row45\" >Tianjin</th>\n",
       "                        <td id=\"T_83277630_545a_11ea_8ba6_a932fe296c86row45_col0\" class=\"data row45 col0\" >130</td>\n",
       "                        <td id=\"T_83277630_545a_11ea_8ba6_a932fe296c86row45_col1\" class=\"data row45 col1\" >3</td>\n",
       "                        <td id=\"T_83277630_545a_11ea_8ba6_a932fe296c86row45_col2\" class=\"data row45 col2\" >54</td>\n",
       "                        <td id=\"T_83277630_545a_11ea_8ba6_a932fe296c86row45_col3\" class=\"data row45 col3\" >8.66667</td>\n",
       "            </tr>\n",
       "            <tr>\n",
       "                                <th id=\"T_83277630_545a_11ea_8ba6_a932fe296c86level1_row46\" class=\"row_heading level1 row46\" >Tibet</th>\n",
       "                        <td id=\"T_83277630_545a_11ea_8ba6_a932fe296c86row46_col0\" class=\"data row46 col0\" >1</td>\n",
       "                        <td id=\"T_83277630_545a_11ea_8ba6_a932fe296c86row46_col1\" class=\"data row46 col1\" >0</td>\n",
       "                        <td id=\"T_83277630_545a_11ea_8ba6_a932fe296c86row46_col2\" class=\"data row46 col2\" >1</td>\n",
       "                        <td id=\"T_83277630_545a_11ea_8ba6_a932fe296c86row46_col3\" class=\"data row46 col3\" >0.3125</td>\n",
       "            </tr>\n",
       "            <tr>\n",
       "                                <th id=\"T_83277630_545a_11ea_8ba6_a932fe296c86level1_row47\" class=\"row_heading level1 row47\" >Xinjiang</th>\n",
       "                        <td id=\"T_83277630_545a_11ea_8ba6_a932fe296c86row47_col0\" class=\"data row47 col0\" >76</td>\n",
       "                        <td id=\"T_83277630_545a_11ea_8ba6_a932fe296c86row47_col1\" class=\"data row47 col1\" >1</td>\n",
       "                        <td id=\"T_83277630_545a_11ea_8ba6_a932fe296c86row47_col2\" class=\"data row47 col2\" >20</td>\n",
       "                        <td id=\"T_83277630_545a_11ea_8ba6_a932fe296c86row47_col3\" class=\"data row47 col3\" >3.45455</td>\n",
       "            </tr>\n",
       "            <tr>\n",
       "                                <th id=\"T_83277630_545a_11ea_8ba6_a932fe296c86level1_row48\" class=\"row_heading level1 row48\" >Yunnan</th>\n",
       "                        <td id=\"T_83277630_545a_11ea_8ba6_a932fe296c86row48_col0\" class=\"data row48 col0\" >172</td>\n",
       "                        <td id=\"T_83277630_545a_11ea_8ba6_a932fe296c86row48_col1\" class=\"data row48 col1\" >1</td>\n",
       "                        <td id=\"T_83277630_545a_11ea_8ba6_a932fe296c86row48_col2\" class=\"data row48 col2\" >60</td>\n",
       "                        <td id=\"T_83277630_545a_11ea_8ba6_a932fe296c86row48_col3\" class=\"data row48 col3\" >3.73913</td>\n",
       "            </tr>\n",
       "            <tr>\n",
       "                                <th id=\"T_83277630_545a_11ea_8ba6_a932fe296c86level1_row49\" class=\"row_heading level1 row49\" >Zhejiang</th>\n",
       "                        <td id=\"T_83277630_545a_11ea_8ba6_a932fe296c86row49_col0\" class=\"data row49 col0\" >1174</td>\n",
       "                        <td id=\"T_83277630_545a_11ea_8ba6_a932fe296c86row49_col1\" class=\"data row49 col1\" >0</td>\n",
       "                        <td id=\"T_83277630_545a_11ea_8ba6_a932fe296c86row49_col2\" class=\"data row49 col2\" >604</td>\n",
       "                        <td id=\"T_83277630_545a_11ea_8ba6_a932fe296c86row49_col3\" class=\"data row49 col3\" >20.453</td>\n",
       "            </tr>\n",
       "            <tr>\n",
       "                        <th id=\"T_83277630_545a_11ea_8ba6_a932fe296c86level0_row50\" class=\"row_heading level0 row50\" >Malaysia</th>\n",
       "                        <th id=\"T_83277630_545a_11ea_8ba6_a932fe296c86level1_row50\" class=\"row_heading level1 row50\" >NA</th>\n",
       "                        <td id=\"T_83277630_545a_11ea_8ba6_a932fe296c86row50_col0\" class=\"data row50 col0\" >22</td>\n",
       "                        <td id=\"T_83277630_545a_11ea_8ba6_a932fe296c86row50_col1\" class=\"data row50 col1\" >0</td>\n",
       "                        <td id=\"T_83277630_545a_11ea_8ba6_a932fe296c86row50_col2\" class=\"data row50 col2\" >15</td>\n",
       "                        <td id=\"T_83277630_545a_11ea_8ba6_a932fe296c86row50_col3\" class=\"data row50 col3\" >0.695762</td>\n",
       "            </tr>\n",
       "            <tr>\n",
       "                        <th id=\"T_83277630_545a_11ea_8ba6_a932fe296c86level0_row51\" class=\"row_heading level0 row51\" >Nepal</th>\n",
       "                        <th id=\"T_83277630_545a_11ea_8ba6_a932fe296c86level1_row51\" class=\"row_heading level1 row51\" >NA</th>\n",
       "                        <td id=\"T_83277630_545a_11ea_8ba6_a932fe296c86row51_col0\" class=\"data row51 col0\" >1</td>\n",
       "                        <td id=\"T_83277630_545a_11ea_8ba6_a932fe296c86row51_col1\" class=\"data row51 col1\" >0</td>\n",
       "                        <td id=\"T_83277630_545a_11ea_8ba6_a932fe296c86row51_col2\" class=\"data row51 col2\" >1</td>\n",
       "                        <td id=\"T_83277630_545a_11ea_8ba6_a932fe296c86row51_col3\" class=\"data row51 col3\" >0.0341297</td>\n",
       "            </tr>\n",
       "            <tr>\n",
       "                        <th id=\"T_83277630_545a_11ea_8ba6_a932fe296c86level0_row52\" class=\"row_heading level0 row52\" >Philippines</th>\n",
       "                        <th id=\"T_83277630_545a_11ea_8ba6_a932fe296c86level1_row52\" class=\"row_heading level1 row52\" >NA</th>\n",
       "                        <td id=\"T_83277630_545a_11ea_8ba6_a932fe296c86row52_col0\" class=\"data row52 col0\" >3</td>\n",
       "                        <td id=\"T_83277630_545a_11ea_8ba6_a932fe296c86row52_col1\" class=\"data row52 col1\" >1</td>\n",
       "                        <td id=\"T_83277630_545a_11ea_8ba6_a932fe296c86row52_col2\" class=\"data row52 col2\" >1</td>\n",
       "                        <td id=\"T_83277630_545a_11ea_8ba6_a932fe296c86row52_col3\" class=\"data row52 col3\" >0.0285987</td>\n",
       "            </tr>\n",
       "            <tr>\n",
       "                        <th id=\"T_83277630_545a_11ea_8ba6_a932fe296c86level0_row53\" class=\"row_heading level0 row53\" >Russia</th>\n",
       "                        <th id=\"T_83277630_545a_11ea_8ba6_a932fe296c86level1_row53\" class=\"row_heading level1 row53\" >NA</th>\n",
       "                        <td id=\"T_83277630_545a_11ea_8ba6_a932fe296c86row53_col0\" class=\"data row53 col0\" >2</td>\n",
       "                        <td id=\"T_83277630_545a_11ea_8ba6_a932fe296c86row53_col1\" class=\"data row53 col1\" >0</td>\n",
       "                        <td id=\"T_83277630_545a_11ea_8ba6_a932fe296c86row53_col2\" class=\"data row53 col2\" >2</td>\n",
       "                        <td id=\"T_83277630_545a_11ea_8ba6_a932fe296c86row53_col3\" class=\"data row53 col3\" >0.0138408</td>\n",
       "            </tr>\n",
       "            <tr>\n",
       "                        <th id=\"T_83277630_545a_11ea_8ba6_a932fe296c86level0_row54\" class=\"row_heading level0 row54\" >Singapore</th>\n",
       "                        <th id=\"T_83277630_545a_11ea_8ba6_a932fe296c86level1_row54\" class=\"row_heading level1 row54\" >NA</th>\n",
       "                        <td id=\"T_83277630_545a_11ea_8ba6_a932fe296c86row54_col0\" class=\"data row54 col0\" >84</td>\n",
       "                        <td id=\"T_83277630_545a_11ea_8ba6_a932fe296c86row54_col1\" class=\"data row54 col1\" >0</td>\n",
       "                        <td id=\"T_83277630_545a_11ea_8ba6_a932fe296c86row54_col2\" class=\"data row54 col2\" >34</td>\n",
       "                        <td id=\"T_83277630_545a_11ea_8ba6_a932fe296c86row54_col3\" class=\"data row54 col3\" >15</td>\n",
       "            </tr>\n",
       "            <tr>\n",
       "                        <th id=\"T_83277630_545a_11ea_8ba6_a932fe296c86level0_row55\" class=\"row_heading level0 row55\" >South Korea</th>\n",
       "                        <th id=\"T_83277630_545a_11ea_8ba6_a932fe296c86level1_row55\" class=\"row_heading level1 row55\" >NA</th>\n",
       "                        <td id=\"T_83277630_545a_11ea_8ba6_a932fe296c86row55_col0\" class=\"data row55 col0\" >31</td>\n",
       "                        <td id=\"T_83277630_545a_11ea_8ba6_a932fe296c86row55_col1\" class=\"data row55 col1\" >0</td>\n",
       "                        <td id=\"T_83277630_545a_11ea_8ba6_a932fe296c86row55_col2\" class=\"data row55 col2\" >12</td>\n",
       "                        <td id=\"T_83277630_545a_11ea_8ba6_a932fe296c86row55_col3\" class=\"data row55 col3\" >0.602293</td>\n",
       "            </tr>\n",
       "            <tr>\n",
       "                        <th id=\"T_83277630_545a_11ea_8ba6_a932fe296c86level0_row56\" class=\"row_heading level0 row56\" >Spain</th>\n",
       "                        <th id=\"T_83277630_545a_11ea_8ba6_a932fe296c86level1_row56\" class=\"row_heading level1 row56\" >NA</th>\n",
       "                        <td id=\"T_83277630_545a_11ea_8ba6_a932fe296c86row56_col0\" class=\"data row56 col0\" >2</td>\n",
       "                        <td id=\"T_83277630_545a_11ea_8ba6_a932fe296c86row56_col1\" class=\"data row56 col1\" >0</td>\n",
       "                        <td id=\"T_83277630_545a_11ea_8ba6_a932fe296c86row56_col2\" class=\"data row56 col2\" >2</td>\n",
       "                        <td id=\"T_83277630_545a_11ea_8ba6_a932fe296c86row56_col3\" class=\"data row56 col3\" >0.0428633</td>\n",
       "            </tr>\n",
       "            <tr>\n",
       "                        <th id=\"T_83277630_545a_11ea_8ba6_a932fe296c86level0_row57\" class=\"row_heading level0 row57\" >Sri Lanka</th>\n",
       "                        <th id=\"T_83277630_545a_11ea_8ba6_a932fe296c86level1_row57\" class=\"row_heading level1 row57\" >NA</th>\n",
       "                        <td id=\"T_83277630_545a_11ea_8ba6_a932fe296c86row57_col0\" class=\"data row57 col0\" >1</td>\n",
       "                        <td id=\"T_83277630_545a_11ea_8ba6_a932fe296c86row57_col1\" class=\"data row57 col1\" >0</td>\n",
       "                        <td id=\"T_83277630_545a_11ea_8ba6_a932fe296c86row57_col2\" class=\"data row57 col2\" >1</td>\n",
       "                        <td id=\"T_83277630_545a_11ea_8ba6_a932fe296c86row57_col3\" class=\"data row57 col3\" >0.0466418</td>\n",
       "            </tr>\n",
       "            <tr>\n",
       "                        <th id=\"T_83277630_545a_11ea_8ba6_a932fe296c86level0_row58\" class=\"row_heading level0 row58\" >Sweden</th>\n",
       "                        <th id=\"T_83277630_545a_11ea_8ba6_a932fe296c86level1_row58\" class=\"row_heading level1 row58\" >NA</th>\n",
       "                        <td id=\"T_83277630_545a_11ea_8ba6_a932fe296c86row58_col0\" class=\"data row58 col0\" >1</td>\n",
       "                        <td id=\"T_83277630_545a_11ea_8ba6_a932fe296c86row58_col1\" class=\"data row58 col1\" >0</td>\n",
       "                        <td id=\"T_83277630_545a_11ea_8ba6_a932fe296c86row58_col2\" class=\"data row58 col2\" >0</td>\n",
       "                        <td id=\"T_83277630_545a_11ea_8ba6_a932fe296c86row58_col3\" class=\"data row58 col3\" >0.0988142</td>\n",
       "            </tr>\n",
       "            <tr>\n",
       "                        <th id=\"T_83277630_545a_11ea_8ba6_a932fe296c86level0_row59\" class=\"row_heading level0 row59\" >Taiwan</th>\n",
       "                        <th id=\"T_83277630_545a_11ea_8ba6_a932fe296c86level1_row59\" class=\"row_heading level1 row59\" >Taiwan</th>\n",
       "                        <td id=\"T_83277630_545a_11ea_8ba6_a932fe296c86row59_col0\" class=\"data row59 col0\" >23</td>\n",
       "                        <td id=\"T_83277630_545a_11ea_8ba6_a932fe296c86row59_col1\" class=\"data row59 col1\" >1</td>\n",
       "                        <td id=\"T_83277630_545a_11ea_8ba6_a932fe296c86row59_col2\" class=\"data row59 col2\" >2</td>\n",
       "                        <td id=\"T_83277630_545a_11ea_8ba6_a932fe296c86row59_col3\" class=\"data row59 col3\" >0.967199</td>\n",
       "            </tr>\n",
       "            <tr>\n",
       "                        <th id=\"T_83277630_545a_11ea_8ba6_a932fe296c86level0_row60\" class=\"row_heading level0 row60\" >Thailand</th>\n",
       "                        <th id=\"T_83277630_545a_11ea_8ba6_a932fe296c86level1_row60\" class=\"row_heading level1 row60\" >NA</th>\n",
       "                        <td id=\"T_83277630_545a_11ea_8ba6_a932fe296c86row60_col0\" class=\"data row60 col0\" >35</td>\n",
       "                        <td id=\"T_83277630_545a_11ea_8ba6_a932fe296c86row60_col1\" class=\"data row60 col1\" >0</td>\n",
       "                        <td id=\"T_83277630_545a_11ea_8ba6_a932fe296c86row60_col2\" class=\"data row60 col2\" >15</td>\n",
       "                        <td id=\"T_83277630_545a_11ea_8ba6_a932fe296c86row60_col3\" class=\"data row60 col3\" >0.506952</td>\n",
       "            </tr>\n",
       "            <tr>\n",
       "                        <th id=\"T_83277630_545a_11ea_8ba6_a932fe296c86level0_row61\" class=\"row_heading level0 row61\" >UK</th>\n",
       "                        <th id=\"T_83277630_545a_11ea_8ba6_a932fe296c86level1_row61\" class=\"row_heading level1 row61\" >NA</th>\n",
       "                        <td id=\"T_83277630_545a_11ea_8ba6_a932fe296c86row61_col0\" class=\"data row61 col0\" >9</td>\n",
       "                        <td id=\"T_83277630_545a_11ea_8ba6_a932fe296c86row61_col1\" class=\"data row61 col1\" >0</td>\n",
       "                        <td id=\"T_83277630_545a_11ea_8ba6_a932fe296c86row61_col2\" class=\"data row61 col2\" >8</td>\n",
       "                        <td id=\"T_83277630_545a_11ea_8ba6_a932fe296c86row61_col3\" class=\"data row61 col3\" >0.135461</td>\n",
       "            </tr>\n",
       "            <tr>\n",
       "                        <th id=\"T_83277630_545a_11ea_8ba6_a932fe296c86level0_row62\" class=\"row_heading level0 row62\" rowspan=11>US</th>\n",
       "                        <th id=\"T_83277630_545a_11ea_8ba6_a932fe296c86level1_row62\" class=\"row_heading level1 row62\" >Boston, MA</th>\n",
       "                        <td id=\"T_83277630_545a_11ea_8ba6_a932fe296c86row62_col0\" class=\"data row62 col0\" >1</td>\n",
       "                        <td id=\"T_83277630_545a_11ea_8ba6_a932fe296c86row62_col1\" class=\"data row62 col1\" >0</td>\n",
       "                        <td id=\"T_83277630_545a_11ea_8ba6_a932fe296c86row62_col2\" class=\"data row62 col2\" >0</td>\n",
       "                        <td id=\"T_83277630_545a_11ea_8ba6_a932fe296c86row62_col3\" class=\"data row62 col3\" >1.45985</td>\n",
       "            </tr>\n",
       "            <tr>\n",
       "                                <th id=\"T_83277630_545a_11ea_8ba6_a932fe296c86level1_row63\" class=\"row_heading level1 row63\" >Chicago, IL</th>\n",
       "                        <td id=\"T_83277630_545a_11ea_8ba6_a932fe296c86row63_col0\" class=\"data row63 col0\" >2</td>\n",
       "                        <td id=\"T_83277630_545a_11ea_8ba6_a932fe296c86row63_col1\" class=\"data row63 col1\" >0</td>\n",
       "                        <td id=\"T_83277630_545a_11ea_8ba6_a932fe296c86row63_col2\" class=\"data row63 col2\" >2</td>\n",
       "                        <td id=\"T_83277630_545a_11ea_8ba6_a932fe296c86row63_col3\" class=\"data row63 col3\" >0.740741</td>\n",
       "            </tr>\n",
       "            <tr>\n",
       "                                <th id=\"T_83277630_545a_11ea_8ba6_a932fe296c86level1_row64\" class=\"row_heading level1 row64\" >Los Angeles, CA</th>\n",
       "                        <td id=\"T_83277630_545a_11ea_8ba6_a932fe296c86row64_col0\" class=\"data row64 col0\" >1</td>\n",
       "                        <td id=\"T_83277630_545a_11ea_8ba6_a932fe296c86row64_col1\" class=\"data row64 col1\" >0</td>\n",
       "                        <td id=\"T_83277630_545a_11ea_8ba6_a932fe296c86row64_col2\" class=\"data row64 col2\" >0</td>\n",
       "                        <td id=\"T_83277630_545a_11ea_8ba6_a932fe296c86row64_col3\" class=\"data row64 col3\" >0.25</td>\n",
       "            </tr>\n",
       "            <tr>\n",
       "                                <th id=\"T_83277630_545a_11ea_8ba6_a932fe296c86level1_row65\" class=\"row_heading level1 row65\" >Madison, WI</th>\n",
       "                        <td id=\"T_83277630_545a_11ea_8ba6_a932fe296c86row65_col0\" class=\"data row65 col0\" >1</td>\n",
       "                        <td id=\"T_83277630_545a_11ea_8ba6_a932fe296c86row65_col1\" class=\"data row65 col1\" >0</td>\n",
       "                        <td id=\"T_83277630_545a_11ea_8ba6_a932fe296c86row65_col2\" class=\"data row65 col2\" >0</td>\n",
       "                        <td id=\"T_83277630_545a_11ea_8ba6_a932fe296c86row65_col3\" class=\"data row65 col3\" >3.92157</td>\n",
       "            </tr>\n",
       "            <tr>\n",
       "                                <th id=\"T_83277630_545a_11ea_8ba6_a932fe296c86level1_row66\" class=\"row_heading level1 row66\" >Orange, CA</th>\n",
       "                        <td id=\"T_83277630_545a_11ea_8ba6_a932fe296c86row66_col0\" class=\"data row66 col0\" >1</td>\n",
       "                        <td id=\"T_83277630_545a_11ea_8ba6_a932fe296c86row66_col1\" class=\"data row66 col1\" >0</td>\n",
       "                        <td id=\"T_83277630_545a_11ea_8ba6_a932fe296c86row66_col2\" class=\"data row66 col2\" >0</td>\n",
       "                        <td id=\"T_83277630_545a_11ea_8ba6_a932fe296c86row66_col3\" class=\"data row66 col3\" >7.14286</td>\n",
       "            </tr>\n",
       "            <tr>\n",
       "                                <th id=\"T_83277630_545a_11ea_8ba6_a932fe296c86level1_row67\" class=\"row_heading level1 row67\" >San Antonio, TX</th>\n",
       "                        <td id=\"T_83277630_545a_11ea_8ba6_a932fe296c86row67_col0\" class=\"data row67 col0\" >1</td>\n",
       "                        <td id=\"T_83277630_545a_11ea_8ba6_a932fe296c86row67_col1\" class=\"data row67 col1\" >0</td>\n",
       "                        <td id=\"T_83277630_545a_11ea_8ba6_a932fe296c86row67_col2\" class=\"data row67 col2\" >0</td>\n",
       "                        <td id=\"T_83277630_545a_11ea_8ba6_a932fe296c86row67_col3\" class=\"data row67 col3\" >0.1</td>\n",
       "            </tr>\n",
       "            <tr>\n",
       "                                <th id=\"T_83277630_545a_11ea_8ba6_a932fe296c86level1_row68\" class=\"row_heading level1 row68\" >San Benito, CA</th>\n",
       "                        <td id=\"T_83277630_545a_11ea_8ba6_a932fe296c86row68_col0\" class=\"data row68 col0\" >2</td>\n",
       "                        <td id=\"T_83277630_545a_11ea_8ba6_a932fe296c86row68_col1\" class=\"data row68 col1\" >0</td>\n",
       "                        <td id=\"T_83277630_545a_11ea_8ba6_a932fe296c86row68_col2\" class=\"data row68 col2\" >0</td>\n",
       "                        <td id=\"T_83277630_545a_11ea_8ba6_a932fe296c86row68_col3\" class=\"data row68 col3\" >33.3333</td>\n",
       "            </tr>\n",
       "            <tr>\n",
       "                                <th id=\"T_83277630_545a_11ea_8ba6_a932fe296c86level1_row69\" class=\"row_heading level1 row69\" >San Diego County, CA</th>\n",
       "                        <td id=\"T_83277630_545a_11ea_8ba6_a932fe296c86row69_col0\" class=\"data row69 col0\" >2</td>\n",
       "                        <td id=\"T_83277630_545a_11ea_8ba6_a932fe296c86row69_col1\" class=\"data row69 col1\" >0</td>\n",
       "                        <td id=\"T_83277630_545a_11ea_8ba6_a932fe296c86row69_col2\" class=\"data row69 col2\" >0</td>\n",
       "                        <td id=\"T_83277630_545a_11ea_8ba6_a932fe296c86row69_col3\" class=\"data row69 col3\" >0.2</td>\n",
       "            </tr>\n",
       "            <tr>\n",
       "                                <th id=\"T_83277630_545a_11ea_8ba6_a932fe296c86level1_row70\" class=\"row_heading level1 row70\" >Santa Clara, CA</th>\n",
       "                        <td id=\"T_83277630_545a_11ea_8ba6_a932fe296c86row70_col0\" class=\"data row70 col0\" >2</td>\n",
       "                        <td id=\"T_83277630_545a_11ea_8ba6_a932fe296c86row70_col1\" class=\"data row70 col1\" >0</td>\n",
       "                        <td id=\"T_83277630_545a_11ea_8ba6_a932fe296c86row70_col2\" class=\"data row70 col2\" >0</td>\n",
       "                        <td id=\"T_83277630_545a_11ea_8ba6_a932fe296c86row70_col3\" class=\"data row70 col3\" >15.748</td>\n",
       "            </tr>\n",
       "            <tr>\n",
       "                                <th id=\"T_83277630_545a_11ea_8ba6_a932fe296c86level1_row71\" class=\"row_heading level1 row71\" >Seattle, WA</th>\n",
       "                        <td id=\"T_83277630_545a_11ea_8ba6_a932fe296c86row71_col0\" class=\"data row71 col0\" >1</td>\n",
       "                        <td id=\"T_83277630_545a_11ea_8ba6_a932fe296c86row71_col1\" class=\"data row71 col1\" >0</td>\n",
       "                        <td id=\"T_83277630_545a_11ea_8ba6_a932fe296c86row71_col2\" class=\"data row71 col2\" >1</td>\n",
       "                        <td id=\"T_83277630_545a_11ea_8ba6_a932fe296c86row71_col3\" class=\"data row71 col3\" >1.38889</td>\n",
       "            </tr>\n",
       "            <tr>\n",
       "                                <th id=\"T_83277630_545a_11ea_8ba6_a932fe296c86level1_row72\" class=\"row_heading level1 row72\" >Tempe, AZ</th>\n",
       "                        <td id=\"T_83277630_545a_11ea_8ba6_a932fe296c86row72_col0\" class=\"data row72 col0\" >1</td>\n",
       "                        <td id=\"T_83277630_545a_11ea_8ba6_a932fe296c86row72_col1\" class=\"data row72 col1\" >0</td>\n",
       "                        <td id=\"T_83277630_545a_11ea_8ba6_a932fe296c86row72_col2\" class=\"data row72 col2\" >0</td>\n",
       "                        <td id=\"T_83277630_545a_11ea_8ba6_a932fe296c86row72_col3\" class=\"data row72 col3\" >5.40541</td>\n",
       "            </tr>\n",
       "            <tr>\n",
       "                        <th id=\"T_83277630_545a_11ea_8ba6_a932fe296c86level0_row73\" class=\"row_heading level0 row73\" >United Arab Emirates</th>\n",
       "                        <th id=\"T_83277630_545a_11ea_8ba6_a932fe296c86level1_row73\" class=\"row_heading level1 row73\" >NA</th>\n",
       "                        <td id=\"T_83277630_545a_11ea_8ba6_a932fe296c86row73_col0\" class=\"data row73 col0\" >9</td>\n",
       "                        <td id=\"T_83277630_545a_11ea_8ba6_a932fe296c86row73_col1\" class=\"data row73 col1\" >0</td>\n",
       "                        <td id=\"T_83277630_545a_11ea_8ba6_a932fe296c86row73_col2\" class=\"data row73 col2\" >4</td>\n",
       "                        <td id=\"T_83277630_545a_11ea_8ba6_a932fe296c86row73_col3\" class=\"data row73 col3\" >0.957447</td>\n",
       "            </tr>\n",
       "            <tr>\n",
       "                        <th id=\"T_83277630_545a_11ea_8ba6_a932fe296c86level0_row74\" class=\"row_heading level0 row74\" >Vietnam</th>\n",
       "                        <th id=\"T_83277630_545a_11ea_8ba6_a932fe296c86level1_row74\" class=\"row_heading level1 row74\" >NA</th>\n",
       "                        <td id=\"T_83277630_545a_11ea_8ba6_a932fe296c86row74_col0\" class=\"data row74 col0\" >16</td>\n",
       "                        <td id=\"T_83277630_545a_11ea_8ba6_a932fe296c86row74_col1\" class=\"data row74 col1\" >0</td>\n",
       "                        <td id=\"T_83277630_545a_11ea_8ba6_a932fe296c86row74_col2\" class=\"data row74 col2\" >7</td>\n",
       "                        <td id=\"T_83277630_545a_11ea_8ba6_a932fe296c86row74_col3\" class=\"data row74 col3\" >0.167469</td>\n",
       "            </tr>\n",
       "    </tbody></table>"
      ],
      "text/plain": [
       "<pandas.io.formats.style.Styler at 0x7fba000aa208>"
      ]
     },
     "execution_count": 84,
     "metadata": {},
     "output_type": "execute_result"
    }
   ],
   "source": [
    "temp = full_latest.groupby(['Country/Region', 'Province/State'])['Confirmed', 'Deaths', 'Recovered','population'].max()\n",
    "temp['severity'] = temp.Confirmed/temp.population\n",
    "temp.drop(columns='population', inplace = True)\n",
    "temp.style.background_gradient(cmap='Pastel1_r')"
   ]
  },
  {
   "cell_type": "markdown",
   "metadata": {},
   "source": [
    "# Visualization"
   ]
  },
  {
   "cell_type": "markdown",
   "metadata": {},
   "source": [
    "## Plot for World-wide Severity"
   ]
  },
  {
   "cell_type": "code",
   "execution_count": 85,
   "metadata": {},
   "outputs": [
    {
     "data": {
      "text/html": [
       "<div style=\"width:100%;\"><div style=\"position:relative;width:100%;height:0;padding-bottom:60%;\"><iframe src=\"about:blank\" style=\"position:absolute;width:100%;height:100%;left:0;top:0;border:none !important;\" data-html=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 onload=\"this.contentDocument.open();this.contentDocument.write(atob(this.getAttribute('data-html')));this.contentDocument.close();\" allowfullscreen webkitallowfullscreen mozallowfullscreen></iframe></div></div>"
      ],
      "text/plain": [
       "<folium.folium.Map at 0x7fb9ffebf400>"
      ]
     },
     "execution_count": 85,
     "metadata": {},
     "output_type": "execute_result"
    }
   ],
   "source": [
    "import folium\n",
    "\n",
    "m = folium.Map(location=[0,0], tiles='cartodbpositron',\n",
    "               min_zoom=1, max_zoom=4, zoom_start=1)\n",
    "\n",
    "for i in range(len(full_latest)):\n",
    "    folium.Circle(\n",
    "                location=[full_latest.iloc[i]['Lat'], full_latest.iloc[i]['Long']],\n",
    "                color='crimson', \n",
    "                tooltip =   '<li><bold>Country : '+str(full_latest.iloc[i]['Country/Region'])+\n",
    "                            '<li><bold>Province : '+str(full_latest.iloc[i]['Province/State'])+\n",
    "                            '<li><bold>Confirmed : '+str(full_latest.iloc[i]['Confirmed'])+\n",
    "                            '<li><bold>Deaths : '+str(full_latest.iloc[i]['Deaths'])+\n",
    "                            '<li><bold>Severity : '+str(full_latest.iloc[i]['Severity']),\n",
    "                radius=int(full_latest.iloc[i]['Severity']*200)\n",
    "    ).add_to(m)\n",
    "m"
   ]
  },
  {
   "cell_type": "markdown",
   "metadata": {},
   "source": [
    "## Progression in China"
   ]
  },
  {
   "cell_type": "code",
   "execution_count": 86,
   "metadata": {},
   "outputs": [
    {
     "data": {
      "application/vnd.plotly.v1+json": {
       "config": {
        "plotlyServerURL": "https://plot.ly"
       },
       "data": [
        {
         "customdata": [
          [
           1,
           0,
           0.016129032258064516
          ],
          [
           14,
           0,
           0.6499535747446611
          ],
          [
           6,
           0,
           0.19685039370078738
          ],
          [
           1,
           0,
           0.025933609958506222
          ],
          [
           0,
           0,
           0
          ],
          [
           26,
           0,
           0.22915564956812975
          ],
          [
           2,
           0,
           0.0413393964448119
          ],
          [
           1,
           0,
           0.02877697841726619
          ],
          [
           4,
           0,
           0.4301075268817204
          ],
          [
           1,
           0,
           0.013386880856760375
          ],
          [
           0,
           0,
           0
          ],
          [
           5,
           0,
           0.05319148936170213
          ],
          [
           444,
           17,
           7.589743589743589
          ],
          [
           4,
           0,
           0.059373608431052396
          ],
          [
           0,
           0,
           0
          ],
          [
           1,
           0,
           0.01243781094527363
          ],
          [
           2,
           0,
           0.04424778761061947
          ],
          [
           0,
           0,
           0
          ],
          [
           2,
           0,
           0.04555808656036447
          ],
          [
           1,
           0,
           0.15873015873015872
          ],
          [
           0,
           0,
           0
          ],
          [
           0,
           0,
           0
          ],
          [
           2,
           0,
           0.022222222222222223
          ],
          [
           9,
           0,
           0.3712871287128713
          ],
          [
           1,
           0,
           0.0273972602739726
          ],
          [
           5,
           0,
           0.06165228113440198
          ],
          [
           4,
           0,
           0.26666666666666666
          ],
          [
           0,
           0,
           0
          ],
          [
           0,
           0,
           0
          ],
          [
           1,
           0,
           0.021739130434782608
          ],
          [
           10,
           0,
           0.17421602787456447
          ]
         ],
         "geo": "geo",
         "hoverlabel": {
          "namelength": 0
         },
         "hovertemplate": "<b>%{hovertext}</b><br><br>Date=01/22/2020<br>size=%{marker.color}<br>Confirmed=%{customdata[0]}<br>Deaths=%{customdata[1]}<br>Severity=%{customdata[2]}<br>Lat=%{lat}<br>Long=%{lon}",
         "hovertext": [
          "Anhui",
          "Beijing",
          "Chongqing",
          "Fujian",
          "Gansu",
          "Guangdong",
          "Guangxi",
          "Guizhou",
          "Hainan",
          "Hebei",
          "Heilongjiang",
          "Henan",
          "Hubei",
          "Hunan",
          "Inner Mongolia",
          "Jiangsu",
          "Jiangxi",
          "Jilin",
          "Liaoning",
          "Ningxia",
          "Qinghai",
          "Shaanxi",
          "Shandong",
          "Shanghai",
          "Shanxi",
          "Sichuan",
          "Tianjin",
          "Tibet",
          "Xinjiang",
          "Yunnan",
          "Zhejiang"
         ],
         "lat": [
          31.825709999999997,
          40.18238,
          30.05718,
          26.07783,
          36.0611,
          23.33841,
          23.829079999999998,
          26.81536,
          19.19673,
          38.0428,
          47.861999999999995,
          33.882020000000004,
          30.975640000000002,
          27.610409999999998,
          44.09448,
          32.97027,
          27.614009999999997,
          43.66657,
          41.292840000000005,
          37.26923,
          35.65945,
          35.19165,
          36.34377,
          31.20327,
          37.577690000000004,
          30.617140000000003,
          39.293620000000004,
          30.1534,
          41.11981,
          24.97411,
          29.182509999999997
         ],
         "legendgroup": "",
         "lon": [
          117.2264,
          116.4142,
          107.874,
          117.9895,
          103.8343,
          113.42200000000001,
          108.7881,
          106.8748,
          109.7455,
          114.5149,
          127.7622,
          113.61399999999999,
          112.2707,
          111.7088,
          113.9456,
          119.464,
          115.7221,
          126.1917,
          122.6086,
          106.1655,
          96.02564,
          108.8701,
          118.1529,
          121.4554,
          112.2922,
          102.7103,
          117.333,
          88.7879,
          85.17822,
          101.4868,
          120.0985
         ],
         "marker": {
          "color": [
           0.1270001270001905,
           0.8061969825946145,
           0.4436782547080569,
           0.1610391566002077,
           0,
           0.47870204675573486,
           0.20332091984056117,
           0.16963778593599418,
           0.6558258357839529,
           0.11570168908343721,
           0,
           0.23063280200722128,
           2.754948926884778,
           0.24366700316426185,
           0,
           0.11152493418636762,
           0.21035158095583562,
           0,
           0.2134434036468789,
           0.3984095364447979,
           0,
           0,
           0.14907119849998599,
           0.6093333477767906,
           0.1655211777204736,
           0.24829877392851132,
           0.5163977794943222,
           0,
           0,
           0.14744195615489714,
           0.4173919355648411
          ],
          "coloraxis": "coloraxis",
          "size": [
           0.1270001270001905,
           0.8061969825946145,
           0.4436782547080569,
           0.1610391566002077,
           0,
           0.47870204675573486,
           0.20332091984056117,
           0.16963778593599418,
           0.6558258357839529,
           0.11570168908343721,
           0,
           0.23063280200722128,
           2.754948926884778,
           0.24366700316426185,
           0,
           0.11152493418636762,
           0.21035158095583562,
           0,
           0.2134434036468789,
           0.3984095364447979,
           0,
           0,
           0.14907119849998599,
           0.6093333477767906,
           0.1655211777204736,
           0.24829877392851132,
           0.5163977794943222,
           0,
           0,
           0.14744195615489714,
           0.4173919355648411
          ],
          "sizemode": "area",
          "sizeref": 0.08140788407607454
         },
         "name": "",
         "showlegend": false,
         "type": "scattergeo"
        }
       ],
       "frames": [
        {
         "data": [
          {
           "customdata": [
            [
             1,
             0,
             0.016129032258064516
            ],
            [
             14,
             0,
             0.6499535747446611
            ],
            [
             6,
             0,
             0.19685039370078738
            ],
            [
             1,
             0,
             0.025933609958506222
            ],
            [
             0,
             0,
             0
            ],
            [
             26,
             0,
             0.22915564956812975
            ],
            [
             2,
             0,
             0.0413393964448119
            ],
            [
             1,
             0,
             0.02877697841726619
            ],
            [
             4,
             0,
             0.4301075268817204
            ],
            [
             1,
             0,
             0.013386880856760375
            ],
            [
             0,
             0,
             0
            ],
            [
             5,
             0,
             0.05319148936170213
            ],
            [
             444,
             17,
             7.589743589743589
            ],
            [
             4,
             0,
             0.059373608431052396
            ],
            [
             0,
             0,
             0
            ],
            [
             1,
             0,
             0.01243781094527363
            ],
            [
             2,
             0,
             0.04424778761061947
            ],
            [
             0,
             0,
             0
            ],
            [
             2,
             0,
             0.04555808656036447
            ],
            [
             1,
             0,
             0.15873015873015872
            ],
            [
             0,
             0,
             0
            ],
            [
             0,
             0,
             0
            ],
            [
             2,
             0,
             0.022222222222222223
            ],
            [
             9,
             0,
             0.3712871287128713
            ],
            [
             1,
             0,
             0.0273972602739726
            ],
            [
             5,
             0,
             0.06165228113440198
            ],
            [
             4,
             0,
             0.26666666666666666
            ],
            [
             0,
             0,
             0
            ],
            [
             0,
             0,
             0
            ],
            [
             1,
             0,
             0.021739130434782608
            ],
            [
             10,
             0,
             0.17421602787456447
            ]
           ],
           "geo": "geo",
           "hoverlabel": {
            "namelength": 0
           },
           "hovertemplate": "<b>%{hovertext}</b><br><br>Date=01/22/2020<br>size=%{marker.color}<br>Confirmed=%{customdata[0]}<br>Deaths=%{customdata[1]}<br>Severity=%{customdata[2]}<br>Lat=%{lat}<br>Long=%{lon}",
           "hovertext": [
            "Anhui",
            "Beijing",
            "Chongqing",
            "Fujian",
            "Gansu",
            "Guangdong",
            "Guangxi",
            "Guizhou",
            "Hainan",
            "Hebei",
            "Heilongjiang",
            "Henan",
            "Hubei",
            "Hunan",
            "Inner Mongolia",
            "Jiangsu",
            "Jiangxi",
            "Jilin",
            "Liaoning",
            "Ningxia",
            "Qinghai",
            "Shaanxi",
            "Shandong",
            "Shanghai",
            "Shanxi",
            "Sichuan",
            "Tianjin",
            "Tibet",
            "Xinjiang",
            "Yunnan",
            "Zhejiang"
           ],
           "lat": [
            31.825709999999997,
            40.18238,
            30.05718,
            26.07783,
            36.0611,
            23.33841,
            23.829079999999998,
            26.81536,
            19.19673,
            38.0428,
            47.861999999999995,
            33.882020000000004,
            30.975640000000002,
            27.610409999999998,
            44.09448,
            32.97027,
            27.614009999999997,
            43.66657,
            41.292840000000005,
            37.26923,
            35.65945,
            35.19165,
            36.34377,
            31.20327,
            37.577690000000004,
            30.617140000000003,
            39.293620000000004,
            30.1534,
            41.11981,
            24.97411,
            29.182509999999997
           ],
           "legendgroup": "",
           "lon": [
            117.2264,
            116.4142,
            107.874,
            117.9895,
            103.8343,
            113.42200000000001,
            108.7881,
            106.8748,
            109.7455,
            114.5149,
            127.7622,
            113.61399999999999,
            112.2707,
            111.7088,
            113.9456,
            119.464,
            115.7221,
            126.1917,
            122.6086,
            106.1655,
            96.02564,
            108.8701,
            118.1529,
            121.4554,
            112.2922,
            102.7103,
            117.333,
            88.7879,
            85.17822,
            101.4868,
            120.0985
           ],
           "marker": {
            "color": [
             0.1270001270001905,
             0.8061969825946145,
             0.4436782547080569,
             0.1610391566002077,
             0,
             0.47870204675573486,
             0.20332091984056117,
             0.16963778593599418,
             0.6558258357839529,
             0.11570168908343721,
             0,
             0.23063280200722128,
             2.754948926884778,
             0.24366700316426185,
             0,
             0.11152493418636762,
             0.21035158095583562,
             0,
             0.2134434036468789,
             0.3984095364447979,
             0,
             0,
             0.14907119849998599,
             0.6093333477767906,
             0.1655211777204736,
             0.24829877392851132,
             0.5163977794943222,
             0,
             0,
             0.14744195615489714,
             0.4173919355648411
            ],
            "coloraxis": "coloraxis",
            "size": [
             0.1270001270001905,
             0.8061969825946145,
             0.4436782547080569,
             0.1610391566002077,
             0,
             0.47870204675573486,
             0.20332091984056117,
             0.16963778593599418,
             0.6558258357839529,
             0.11570168908343721,
             0,
             0.23063280200722128,
             2.754948926884778,
             0.24366700316426185,
             0,
             0.11152493418636762,
             0.21035158095583562,
             0,
             0.2134434036468789,
             0.3984095364447979,
             0,
             0,
             0.14907119849998599,
             0.6093333477767906,
             0.1655211777204736,
             0.24829877392851132,
             0.5163977794943222,
             0,
             0,
             0.14744195615489714,
             0.4173919355648411
            ],
            "sizemode": "area",
            "sizeref": 0.08140788407607454
           },
           "name": "",
           "showlegend": false,
           "type": "scattergeo"
          }
         ],
         "name": "01/22/2020"
        },
        {
         "data": [
          {
           "customdata": [
            [
             9,
             0,
             0.14516129032258066
            ],
            [
             22,
             0,
             1.021355617455896
            ],
            [
             9,
             0,
             0.2952755905511811
            ],
            [
             5,
             0,
             0.1296680497925311
            ],
            [
             2,
             0,
             0.07818608287724786
            ],
            [
             32,
             0,
             0.28203772254539045
            ],
            [
             5,
             0,
             0.10334849111202976
            ],
            [
             3,
             0,
             0.08633093525179857
            ],
            [
             5,
             0,
             0.5376344086021505
            ],
            [
             1,
             1,
             0.013386880856760375
            ],
            [
             2,
             0,
             0.0522056904202558
            ],
            [
             5,
             0,
             0.05319148936170213
            ],
            [
             444,
             17,
             7.589743589743589
            ],
            [
             9,
             0,
             0.13359061896986787
            ],
            [
             0,
             0,
             0
            ],
            [
             5,
             0,
             0.062189054726368154
            ],
            [
             7,
             0,
             0.15486725663716813
            ],
            [
             1,
             0,
             0.03641660597232338
            ],
            [
             3,
             0,
             0.0683371298405467
            ],
            [
             1,
             0,
             0.15873015873015872
            ],
            [
             0,
             0,
             0
            ],
            [
             3,
             0,
             0.08036431824270024
            ],
            [
             6,
             0,
             0.06666666666666667
            ],
            [
             16,
             0,
             0.6600660066006601
            ],
            [
             1,
             0,
             0.0273972602739726
            ],
            [
             8,
             0,
             0.09864364981504316
            ],
            [
             4,
             0,
             0.26666666666666666
            ],
            [
             0,
             0,
             0
            ],
            [
             2,
             0,
             0.09090909090909091
            ],
            [
             2,
             0,
             0.043478260869565216
            ],
            [
             27,
             0,
             0.47038327526132406
            ]
           ],
           "geo": "geo",
           "hoverlabel": {
            "namelength": 0
           },
           "hovertemplate": "<b>%{hovertext}</b><br><br>Date=01/23/2020<br>size=%{marker.color}<br>Confirmed=%{customdata[0]}<br>Deaths=%{customdata[1]}<br>Severity=%{customdata[2]}<br>Lat=%{lat}<br>Long=%{lon}",
           "hovertext": [
            "Anhui",
            "Beijing",
            "Chongqing",
            "Fujian",
            "Gansu",
            "Guangdong",
            "Guangxi",
            "Guizhou",
            "Hainan",
            "Hebei",
            "Heilongjiang",
            "Henan",
            "Hubei",
            "Hunan",
            "Inner Mongolia",
            "Jiangsu",
            "Jiangxi",
            "Jilin",
            "Liaoning",
            "Ningxia",
            "Qinghai",
            "Shaanxi",
            "Shandong",
            "Shanghai",
            "Shanxi",
            "Sichuan",
            "Tianjin",
            "Tibet",
            "Xinjiang",
            "Yunnan",
            "Zhejiang"
           ],
           "lat": [
            31.825709999999997,
            40.18238,
            30.05718,
            26.07783,
            36.0611,
            23.33841,
            23.829079999999998,
            26.81536,
            19.19673,
            38.0428,
            47.861999999999995,
            33.882020000000004,
            30.975640000000002,
            27.610409999999998,
            44.09448,
            32.97027,
            27.614009999999997,
            43.66657,
            41.292840000000005,
            37.26923,
            35.65945,
            35.19165,
            36.34377,
            31.20327,
            37.577690000000004,
            30.617140000000003,
            39.293620000000004,
            30.1534,
            41.11981,
            24.97411,
            29.182509999999997
           ],
           "legendgroup": "",
           "lon": [
            117.2264,
            116.4142,
            107.874,
            117.9895,
            103.8343,
            113.42200000000001,
            108.7881,
            106.8748,
            109.7455,
            114.5149,
            127.7622,
            113.61399999999999,
            112.2707,
            111.7088,
            113.9456,
            119.464,
            115.7221,
            126.1917,
            122.6086,
            106.1655,
            96.02564,
            108.8701,
            118.1529,
            121.4554,
            112.2922,
            102.7103,
            117.333,
            88.7879,
            85.17822,
            101.4868,
            120.0985
           ],
           "marker": {
            "color": [
             0.3810003810005715,
             1.0106214016415327,
             0.5433926670016638,
             0.36009450119729836,
             0.27961774421028407,
             0.5310722385376498,
             0.3214786013283462,
             0.29382126412463505,
             0.7332355751067664,
             0.11570168908343721,
             0.22848564598297155,
             0.23063280200722128,
             2.754948926884778,
             0.3655005047463928,
             0,
             0.2493773340269082,
             0.39353177335148953,
             0.19083135479350186,
             0.2614137139488797,
             0.3984095364447979,
             0,
             0.28348601066490076,
             0.2581988897471611,
             0.8124444637023875,
             0.1655211777204736,
             0.31407586633653206,
             0.5163977794943222,
             0,
             0.30151134457776363,
             0.20851441405707477,
             0.6858449352888188
            ],
            "coloraxis": "coloraxis",
            "size": [
             0.3810003810005715,
             1.0106214016415327,
             0.5433926670016638,
             0.36009450119729836,
             0.27961774421028407,
             0.5310722385376498,
             0.3214786013283462,
             0.29382126412463505,
             0.7332355751067664,
             0.11570168908343721,
             0.22848564598297155,
             0.23063280200722128,
             2.754948926884778,
             0.3655005047463928,
             0,
             0.2493773340269082,
             0.39353177335148953,
             0.19083135479350186,
             0.2614137139488797,
             0.3984095364447979,
             0,
             0.28348601066490076,
             0.2581988897471611,
             0.8124444637023875,
             0.1655211777204736,
             0.31407586633653206,
             0.5163977794943222,
             0,
             0.30151134457776363,
             0.20851441405707477,
             0.6858449352888188
            ],
            "sizemode": "area",
            "sizeref": 0.08140788407607454
           },
           "name": "",
           "showlegend": false,
           "type": "scattergeo"
          }
         ],
         "name": "01/23/2020"
        },
        {
         "data": [
          {
           "customdata": [
            [
             15,
             0,
             0.24193548387096775
            ],
            [
             36,
             0,
             1.6713091922005572
            ],
            [
             27,
             0,
             0.8858267716535433
            ],
            [
             10,
             0,
             0.2593360995850622
            ],
            [
             2,
             0,
             0.07818608287724786
            ],
            [
             53,
             0,
             0.46712497796580293
            ],
            [
             23,
             0,
             0.47540305911533687
            ],
            [
             3,
             0,
             0.08633093525179857
            ],
            [
             8,
             0,
             0.8602150537634408
            ],
            [
             2,
             1,
             0.02677376171352075
            ],
            [
             4,
             1,
             0.1044113808405116
            ],
            [
             9,
             0,
             0.09574468085106383
            ],
            [
             549,
             24,
             9.384615384615385
            ],
            [
             24,
             0,
             0.35624165058631435
            ],
            [
             1,
             0,
             0.04046944556859571
            ],
            [
             9,
             0,
             0.11194029850746268
            ],
            [
             18,
             0,
             0.3982300884955752
            ],
            [
             3,
             0,
             0.10924981791697014
            ],
            [
             4,
             0,
             0.09111617312072894
            ],
            [
             2,
             0,
             0.31746031746031744
            ],
            [
             0,
             0,
             0
            ],
            [
             5,
             0,
             0.1339405304045004
            ],
            [
             15,
             0,
             0.16666666666666666
            ],
            [
             20,
             0,
             0.8250825082508252
            ],
            [
             1,
             0,
             0.0273972602739726
            ],
            [
             15,
             0,
             0.18495684340320592
            ],
            [
             8,
             0,
             0.5333333333333333
            ],
            [
             0,
             0,
             0
            ],
            [
             2,
             0,
             0.09090909090909091
            ],
            [
             5,
             0,
             0.10869565217391304
            ],
            [
             43,
             0,
             0.7491289198606272
            ]
           ],
           "geo": "geo",
           "hoverlabel": {
            "namelength": 0
           },
           "hovertemplate": "<b>%{hovertext}</b><br><br>Date=01/24/2020<br>size=%{marker.color}<br>Confirmed=%{customdata[0]}<br>Deaths=%{customdata[1]}<br>Severity=%{customdata[2]}<br>Lat=%{lat}<br>Long=%{lon}",
           "hovertext": [
            "Anhui",
            "Beijing",
            "Chongqing",
            "Fujian",
            "Gansu",
            "Guangdong",
            "Guangxi",
            "Guizhou",
            "Hainan",
            "Hebei",
            "Heilongjiang",
            "Henan",
            "Hubei",
            "Hunan",
            "Inner Mongolia",
            "Jiangsu",
            "Jiangxi",
            "Jilin",
            "Liaoning",
            "Ningxia",
            "Qinghai",
            "Shaanxi",
            "Shandong",
            "Shanghai",
            "Shanxi",
            "Sichuan",
            "Tianjin",
            "Tibet",
            "Xinjiang",
            "Yunnan",
            "Zhejiang"
           ],
           "lat": [
            31.825709999999997,
            40.18238,
            30.05718,
            26.07783,
            36.0611,
            23.33841,
            23.829079999999998,
            26.81536,
            19.19673,
            38.0428,
            47.861999999999995,
            33.882020000000004,
            30.975640000000002,
            27.610409999999998,
            44.09448,
            32.97027,
            27.614009999999997,
            43.66657,
            41.292840000000005,
            37.26923,
            35.65945,
            35.19165,
            36.34377,
            31.20327,
            37.577690000000004,
            30.617140000000003,
            39.293620000000004,
            30.1534,
            41.11981,
            24.97411,
            29.182509999999997
           ],
           "legendgroup": "",
           "lon": [
            117.2264,
            116.4142,
            107.874,
            117.9895,
            103.8343,
            113.42200000000001,
            108.7881,
            106.8748,
            109.7455,
            114.5149,
            127.7622,
            113.61399999999999,
            112.2707,
            111.7088,
            113.9456,
            119.464,
            115.7221,
            126.1917,
            122.6086,
            106.1655,
            96.02564,
            108.8701,
            118.1529,
            121.4554,
            112.2922,
            102.7103,
            117.333,
            88.7879,
            85.17822,
            101.4868,
            120.0985
           ],
           "marker": {
            "color": [
             0.4918693768379647,
             1.2927912407657152,
             0.9411837077072378,
             0.5092505273291941,
             0.27961774421028407,
             0.6834654182662082,
             0.6894947854156236,
             0.29382126412463505,
             0.9274777915203365,
             0.163626897891272,
             0.32312749935669605,
             0.309426373877638,
             3.063431961806135,
             0.5968598249055755,
             0.20117019055664215,
             0.3345748025591029,
             0.6310547428675068,
             0.3305296021795478,
             0.30185455623649105,
             0.563436169819011,
             0,
             0.3659788660626463,
             0.408248290463863,
             0.9083405243909496,
             0.1655211777204736,
             0.4300660919012401,
             0.7302967433402214,
             0,
             0.30151134457776363,
             0.3296902366978935,
             0.8655223393192271
            ],
            "coloraxis": "coloraxis",
            "size": [
             0.4918693768379647,
             1.2927912407657152,
             0.9411837077072378,
             0.5092505273291941,
             0.27961774421028407,
             0.6834654182662082,
             0.6894947854156236,
             0.29382126412463505,
             0.9274777915203365,
             0.163626897891272,
             0.32312749935669605,
             0.309426373877638,
             3.063431961806135,
             0.5968598249055755,
             0.20117019055664215,
             0.3345748025591029,
             0.6310547428675068,
             0.3305296021795478,
             0.30185455623649105,
             0.563436169819011,
             0,
             0.3659788660626463,
             0.408248290463863,
             0.9083405243909496,
             0.1655211777204736,
             0.4300660919012401,
             0.7302967433402214,
             0,
             0.30151134457776363,
             0.3296902366978935,
             0.8655223393192271
            ],
            "sizemode": "area",
            "sizeref": 0.08140788407607454
           },
           "name": "",
           "showlegend": false,
           "type": "scattergeo"
          }
         ],
         "name": "01/24/2020"
        },
        {
         "data": [
          {
           "customdata": [
            [
             39,
             0,
             0.6290322580645161
            ],
            [
             41,
             0,
             1.903435468895079
            ],
            [
             57,
             0,
             1.8700787401574803
            ],
            [
             18,
             0,
             0.466804979253112
            ],
            [
             4,
             0,
             0.15637216575449572
            ],
            [
             78,
             0,
             0.6874669487043893
            ],
            [
             23,
             0,
             0.47540305911533687
            ],
            [
             4,
             0,
             0.11510791366906475
            ],
            [
             19,
             0,
             2.043010752688172
            ],
            [
             8,
             1,
             0.107095046854083
            ],
            [
             9,
             1,
             0.23492560689115113
            ],
            [
             32,
             0,
             0.3404255319148936
            ],
            [
             761,
             40,
             13.008547008547009
            ],
            [
             43,
             0,
             0.6382662906338132
            ],
            [
             7,
             0,
             0.28328611898017
            ],
            [
             18,
             0,
             0.22388059701492535
            ],
            [
             18,
             0,
             0.3982300884955752
            ],
            [
             4,
             0,
             0.14566642388929352
            ],
            [
             17,
             0,
             0.38724373576309795
            ],
            [
             3,
             0,
             0.4761904761904762
            ],
            [
             1,
             0,
             0.17857142857142858
            ],
            [
             15,
             0,
             0.40182159121350125
            ],
            [
             27,
             0,
             0.3
            ],
            [
             33,
             0,
             1.3613861386138615
            ],
            [
             6,
             0,
             0.1643835616438356
            ],
            [
             28,
             0,
             0.34525277435265106
            ],
            [
             10,
             0,
             0.6666666666666666
            ],
            [
             0,
             0,
             0
            ],
            [
             3,
             0,
             0.13636363636363635
            ],
            [
             11,
             0,
             0.2391304347826087
            ],
            [
             62,
             0,
             1.0801393728222997
            ]
           ],
           "geo": "geo",
           "hoverlabel": {
            "namelength": 0
           },
           "hovertemplate": "<b>%{hovertext}</b><br><br>Date=01/25/2020<br>size=%{marker.color}<br>Confirmed=%{customdata[0]}<br>Deaths=%{customdata[1]}<br>Severity=%{customdata[2]}<br>Lat=%{lat}<br>Long=%{lon}",
           "hovertext": [
            "Anhui",
            "Beijing",
            "Chongqing",
            "Fujian",
            "Gansu",
            "Guangdong",
            "Guangxi",
            "Guizhou",
            "Hainan",
            "Hebei",
            "Heilongjiang",
            "Henan",
            "Hubei",
            "Hunan",
            "Inner Mongolia",
            "Jiangsu",
            "Jiangxi",
            "Jilin",
            "Liaoning",
            "Ningxia",
            "Qinghai",
            "Shaanxi",
            "Shandong",
            "Shanghai",
            "Shanxi",
            "Sichuan",
            "Tianjin",
            "Tibet",
            "Xinjiang",
            "Yunnan",
            "Zhejiang"
           ],
           "lat": [
            31.825709999999997,
            40.18238,
            30.05718,
            26.07783,
            36.0611,
            23.33841,
            23.829079999999998,
            26.81536,
            19.19673,
            38.0428,
            47.861999999999995,
            33.882020000000004,
            30.975640000000002,
            27.610409999999998,
            44.09448,
            32.97027,
            27.614009999999997,
            43.66657,
            41.292840000000005,
            37.26923,
            35.65945,
            35.19165,
            36.34377,
            31.20327,
            37.577690000000004,
            30.617140000000003,
            39.293620000000004,
            30.1534,
            41.11981,
            24.97411,
            29.182509999999997
           ],
           "legendgroup": "",
           "lon": [
            117.2264,
            116.4142,
            107.874,
            117.9895,
            103.8343,
            113.42200000000001,
            108.7881,
            106.8748,
            109.7455,
            114.5149,
            127.7622,
            113.61399999999999,
            112.2707,
            111.7088,
            113.9456,
            119.464,
            115.7221,
            126.1917,
            122.6086,
            106.1655,
            96.02564,
            108.8701,
            118.1529,
            121.4554,
            112.2922,
            102.7103,
            117.333,
            88.7879,
            85.17822,
            101.4868,
            120.0985
           ],
           "marker": {
            "color": [
             0.7931155389125321,
             1.3796504879479727,
             1.367508223067591,
             0.6832312780114154,
             0.3954392061423547,
             0.829136266668145,
             0.6894947854156236,
             0.33927557187198837,
             1.4293392713726758,
             0.327253795782544,
             0.48469124903504407,
             0.5834599659915782,
             3.6067363375421566,
             0.7989156968252741,
             0.5322462954123495,
             0.4731602234073838,
             0.6310547428675068,
             0.3816627095870037,
             0.6222891094684994,
             0.6900655593423543,
             0.4225771273642583,
             0.6338939905169485,
             0.5477225575051661,
             1.1667845296428392,
             0.4054424270396916,
             0.5875821426427551,
             0.816496580927726,
             0,
             0.3692744729379982,
             0.48900964692182575,
             1.0392975381584908
            ],
            "coloraxis": "coloraxis",
            "size": [
             0.7931155389125321,
             1.3796504879479727,
             1.367508223067591,
             0.6832312780114154,
             0.3954392061423547,
             0.829136266668145,
             0.6894947854156236,
             0.33927557187198837,
             1.4293392713726758,
             0.327253795782544,
             0.48469124903504407,
             0.5834599659915782,
             3.6067363375421566,
             0.7989156968252741,
             0.5322462954123495,
             0.4731602234073838,
             0.6310547428675068,
             0.3816627095870037,
             0.6222891094684994,
             0.6900655593423543,
             0.4225771273642583,
             0.6338939905169485,
             0.5477225575051661,
             1.1667845296428392,
             0.4054424270396916,
             0.5875821426427551,
             0.816496580927726,
             0,
             0.3692744729379982,
             0.48900964692182575,
             1.0392975381584908
            ],
            "sizemode": "area",
            "sizeref": 0.08140788407607454
           },
           "name": "",
           "showlegend": false,
           "type": "scattergeo"
          }
         ],
         "name": "01/25/2020"
        },
        {
         "data": [
          {
           "customdata": [
            [
             60,
             0,
             0.967741935483871
            ],
            [
             68,
             0,
             3.1569173630454967
            ],
            [
             75,
             0,
             2.4606299212598426
            ],
            [
             35,
             0,
             0.9076763485477178
            ],
            [
             7,
             0,
             0.2736512900703675
            ],
            [
             111,
             0,
             0.9783183500793232
            ],
            [
             36,
             0,
             0.7441091360066142
            ],
            [
             5,
             0,
             0.14388489208633093
            ],
            [
             22,
             0,
             2.365591397849462
            ],
            [
             13,
             1,
             0.17402945113788487
            ],
            [
             15,
             1,
             0.3915426781519185
            ],
            [
             83,
             1,
             0.8829787234042553
            ],
            [
             1058,
             52,
             18.085470085470085
            ],
            [
             69,
             0,
             1.0241947454356537
            ],
            [
             7,
             0,
             0.28328611898017
            ],
            [
             33,
             0,
             0.4104477611940298
            ],
            [
             36,
             0,
             0.7964601769911503
            ],
            [
             4,
             0,
             0.14566642388929352
            ],
            [
             21,
             0,
             0.4783599088838269
            ],
            [
             4,
             0,
             0.6349206349206349
            ],
            [
             1,
             0,
             0.17857142857142858
            ],
            [
             22,
             0,
             0.5893383337798018
            ],
            [
             46,
             0,
             0.5111111111111111
            ],
            [
             40,
             1,
             1.6501650165016504
            ],
            [
             9,
             0,
             0.2465753424657534
            ],
            [
             44,
             0,
             0.5425400739827374
            ],
            [
             14,
             0,
             0.9333333333333333
            ],
            [
             0,
             0,
             0
            ],
            [
             4,
             0,
             0.18181818181818182
            ],
            [
             16,
             0,
             0.34782608695652173
            ],
            [
             104,
             0,
             1.8118466898954704
            ]
           ],
           "geo": "geo",
           "hoverlabel": {
            "namelength": 0
           },
           "hovertemplate": "<b>%{hovertext}</b><br><br>Date=01/26/2020<br>size=%{marker.color}<br>Confirmed=%{customdata[0]}<br>Deaths=%{customdata[1]}<br>Severity=%{customdata[2]}<br>Lat=%{lat}<br>Long=%{lon}",
           "hovertext": [
            "Anhui",
            "Beijing",
            "Chongqing",
            "Fujian",
            "Gansu",
            "Guangdong",
            "Guangxi",
            "Guizhou",
            "Hainan",
            "Hebei",
            "Heilongjiang",
            "Henan",
            "Hubei",
            "Hunan",
            "Inner Mongolia",
            "Jiangsu",
            "Jiangxi",
            "Jilin",
            "Liaoning",
            "Ningxia",
            "Qinghai",
            "Shaanxi",
            "Shandong",
            "Shanghai",
            "Shanxi",
            "Sichuan",
            "Tianjin",
            "Tibet",
            "Xinjiang",
            "Yunnan",
            "Zhejiang"
           ],
           "lat": [
            31.825709999999997,
            40.18238,
            30.05718,
            26.07783,
            36.0611,
            23.33841,
            23.829079999999998,
            26.81536,
            19.19673,
            38.0428,
            47.861999999999995,
            33.882020000000004,
            30.975640000000002,
            27.610409999999998,
            44.09448,
            32.97027,
            27.614009999999997,
            43.66657,
            41.292840000000005,
            37.26923,
            35.65945,
            35.19165,
            36.34377,
            31.20327,
            37.577690000000004,
            30.617140000000003,
            39.293620000000004,
            30.1534,
            41.11981,
            24.97411,
            29.182509999999997
           ],
           "legendgroup": "",
           "lon": [
            117.2264,
            116.4142,
            107.874,
            117.9895,
            103.8343,
            113.42200000000001,
            108.7881,
            106.8748,
            109.7455,
            114.5149,
            127.7622,
            113.61399999999999,
            112.2707,
            111.7088,
            113.9456,
            119.464,
            115.7221,
            126.1917,
            122.6086,
            106.1655,
            96.02564,
            108.8701,
            118.1529,
            121.4554,
            112.2922,
            102.7103,
            117.333,
            88.7879,
            85.17822,
            101.4868,
            120.0985
           ],
           "marker": {
            "color": [
             0.9837387536759294,
             1.7767716125167852,
             1.5686395128453965,
             0.9527204986499019,
             0.5231168990487379,
             0.9890997675054439,
             0.8626176070580835,
             0.3793216209054408,
             1.5380479179302127,
             0.417168372648125,
             0.6257337118550658,
             0.9396694756158972,
             4.252701504393423,
             1.0120250715449957,
             0.5322462954123495,
             0.6406619710846195,
             0.8924461759630944,
             0.3816627095870037,
             0.6916356764105123,
             0.7968190728895957,
             0.4225771273642583,
             0.7676837459395645,
             0.7149203529842405,
             1.2845874888467699,
             0.49656353316142077,
             0.7365731966225335,
             0.9660917830792959,
             0,
             0.4264014327112209,
             0.5897678246195885,
             1.3460485466339875
            ],
            "coloraxis": "coloraxis",
            "size": [
             0.9837387536759294,
             1.7767716125167852,
             1.5686395128453965,
             0.9527204986499019,
             0.5231168990487379,
             0.9890997675054439,
             0.8626176070580835,
             0.3793216209054408,
             1.5380479179302127,
             0.417168372648125,
             0.6257337118550658,
             0.9396694756158972,
             4.252701504393423,
             1.0120250715449957,
             0.5322462954123495,
             0.6406619710846195,
             0.8924461759630944,
             0.3816627095870037,
             0.6916356764105123,
             0.7968190728895957,
             0.4225771273642583,
             0.7676837459395645,
             0.7149203529842405,
             1.2845874888467699,
             0.49656353316142077,
             0.7365731966225335,
             0.9660917830792959,
             0,
             0.4264014327112209,
             0.5897678246195885,
             1.3460485466339875
            ],
            "sizemode": "area",
            "sizeref": 0.08140788407607454
           },
           "name": "",
           "showlegend": false,
           "type": "scattergeo"
          }
         ],
         "name": "01/26/2020"
        },
        {
         "data": [
          {
           "customdata": [
            [
             70,
             0,
             1.1290322580645162
            ],
            [
             80,
             1,
             3.714020427112349
            ],
            [
             110,
             0,
             3.608923884514436
            ],
            [
             59,
             0,
             1.5300829875518671
            ],
            [
             14,
             0,
             0.547302580140735
            ],
            [
             151,
             0,
             1.3308655032610612
            ],
            [
             46,
             0,
             0.9508061182306737
            ],
            [
             7,
             0,
             0.2014388489208633
            ],
            [
             33,
             1,
             3.548387096774193
            ],
            [
             18,
             1,
             0.24096385542168675
            ],
            [
             21,
             1,
             0.548159749412686
            ],
            [
             128,
             1,
             1.3617021276595744
            ],
            [
             1423,
             76,
             24.324786324786324
            ],
            [
             100,
             0,
             1.4843402107763097
            ],
            [
             11,
             0,
             0.4451639012545528
            ],
            [
             47,
             0,
             0.5845771144278606
            ],
            [
             72,
             0,
             1.5929203539823007
            ],
            [
             6,
             0,
             0.21849963583394028
            ],
            [
             27,
             0,
             0.6150341685649203
            ],
            [
             7,
             0,
             1.1111111111111112
            ],
            [
             6,
             0,
             1.0714285714285714
            ],
            [
             35,
             0,
             0.9375837128315029
            ],
            [
             75,
             0,
             0.8333333333333334
            ],
            [
             53,
             1,
             2.186468646864687
            ],
            [
             13,
             0,
             0.3561643835616438
            ],
            [
             69,
             0,
             0.8508014796547473
            ],
            [
             23,
             0,
             1.5333333333333334
            ],
            [
             0,
             0,
             0
            ],
            [
             5,
             0,
             0.22727272727272727
            ],
            [
             26,
             0,
             0.5652173913043478
            ],
            [
             128,
             0,
             2.229965156794425
            ]
           ],
           "geo": "geo",
           "hoverlabel": {
            "namelength": 0
           },
           "hovertemplate": "<b>%{hovertext}</b><br><br>Date=01/27/2020<br>size=%{marker.color}<br>Confirmed=%{customdata[0]}<br>Deaths=%{customdata[1]}<br>Severity=%{customdata[2]}<br>Lat=%{lat}<br>Long=%{lon}",
           "hovertext": [
            "Anhui",
            "Beijing",
            "Chongqing",
            "Fujian",
            "Gansu",
            "Guangdong",
            "Guangxi",
            "Guizhou",
            "Hainan",
            "Hebei",
            "Heilongjiang",
            "Henan",
            "Hubei",
            "Hunan",
            "Inner Mongolia",
            "Jiangsu",
            "Jiangxi",
            "Jilin",
            "Liaoning",
            "Ningxia",
            "Qinghai",
            "Shaanxi",
            "Shandong",
            "Shanghai",
            "Shanxi",
            "Sichuan",
            "Tianjin",
            "Tibet",
            "Xinjiang",
            "Yunnan",
            "Zhejiang"
           ],
           "lat": [
            31.825709999999997,
            40.18238,
            30.05718,
            26.07783,
            36.0611,
            23.33841,
            23.829079999999998,
            26.81536,
            19.19673,
            38.0428,
            47.861999999999995,
            33.882020000000004,
            30.975640000000002,
            27.610409999999998,
            44.09448,
            32.97027,
            27.614009999999997,
            43.66657,
            41.292840000000005,
            37.26923,
            35.65945,
            35.19165,
            36.34377,
            31.20327,
            37.577690000000004,
            30.617140000000003,
            39.293620000000004,
            30.1534,
            41.11981,
            24.97411,
            29.182509999999997
           ],
           "legendgroup": "",
           "lon": [
            117.2264,
            116.4142,
            107.874,
            117.9895,
            103.8343,
            113.42200000000001,
            108.7881,
            106.8748,
            109.7455,
            114.5149,
            127.7622,
            113.61399999999999,
            112.2707,
            111.7088,
            113.9456,
            119.464,
            115.7221,
            126.1917,
            122.6086,
            106.1655,
            96.02564,
            108.8701,
            118.1529,
            121.4554,
            112.2922,
            102.7103,
            117.333,
            88.7879,
            85.17822,
            101.4868,
            120.0985
           ],
           "marker": {
            "color": [
             1.0625592962581036,
             1.9271793967122908,
             1.8997167906070724,
             1.2369652329600322,
             0.7397990133412824,
             1.1536314416923028,
             0.9750928767203019,
             0.44881939454625097,
             1.8837162994395396,
             0.490880693673816,
             0.7403781124619271,
             1.1669199319831565,
             4.932016456256642,
             1.218335015821309,
             0.667206041080679,
             0.7645764281141949,
             1.2621094857350137,
             0.46743944616810024,
             0.7842411418466391,
             1.0540925533894598,
             1.0350983390135313,
             0.9682890647071787,
             0.9128709291752769,
             1.4786712436727396,
             0.5967950934463552,
             0.9223890066857623,
             1.2382783747337807,
             0,
             0.4767312946227962,
             0.7518094115561123,
             1.4933067858931148
            ],
            "coloraxis": "coloraxis",
            "size": [
             1.0625592962581036,
             1.9271793967122908,
             1.8997167906070724,
             1.2369652329600322,
             0.7397990133412824,
             1.1536314416923028,
             0.9750928767203019,
             0.44881939454625097,
             1.8837162994395396,
             0.490880693673816,
             0.7403781124619271,
             1.1669199319831565,
             4.932016456256642,
             1.218335015821309,
             0.667206041080679,
             0.7645764281141949,
             1.2621094857350137,
             0.46743944616810024,
             0.7842411418466391,
             1.0540925533894598,
             1.0350983390135313,
             0.9682890647071787,
             0.9128709291752769,
             1.4786712436727396,
             0.5967950934463552,
             0.9223890066857623,
             1.2382783747337807,
             0,
             0.4767312946227962,
             0.7518094115561123,
             1.4933067858931148
            ],
            "sizemode": "area",
            "sizeref": 0.08140788407607454
           },
           "name": "",
           "showlegend": false,
           "type": "scattergeo"
          }
         ],
         "name": "01/27/2020"
        },
        {
         "data": [
          {
           "customdata": [
            [
             106,
             0,
             1.7096774193548387
            ],
            [
             91,
             1,
             4.224698235840298
            ],
            [
             132,
             0,
             4.330708661417323
            ],
            [
             80,
             0,
             2.0746887966804977
            ],
            [
             19,
             0,
             0.7427677873338546
            ],
            [
             207,
             0,
             1.8244315177154946
            ],
            [
             51,
             0,
             1.0541546093427034
            ],
            [
             9,
             0,
             0.2589928057553957
            ],
            [
             40,
             1,
             4.301075268817204
            ],
            [
             33,
             1,
             0.44176706827309237
            ],
            [
             33,
             1,
             0.8613938919342208
            ],
            [
             168,
             1,
             1.7872340425531914
            ],
            [
             3554,
             125,
             60.75213675213675
            ],
            [
             143,
             0,
             2.122606501410123
            ],
            [
             15,
             0,
             0.6070416835289356
            ],
            [
             70,
             0,
             0.8706467661691542
            ],
            [
             109,
             0,
             2.411504424778761
            ],
            [
             8,
             0,
             0.29133284777858703
            ],
            [
             34,
             0,
             0.7744874715261959
            ],
            [
             11,
             0,
             1.746031746031746
            ],
            [
             6,
             0,
             1.0714285714285714
            ],
            [
             46,
             0,
             1.2322528797214038
            ],
            [
             95,
             0,
             1.0555555555555556
            ],
            [
             66,
             1,
             2.722772277227723
            ],
            [
             27,
             0,
             0.7397260273972602
            ],
            [
             90,
             0,
             1.1097410604192355
            ],
            [
             24,
             0,
             1.6
            ],
            [
             0,
             0,
             0
            ],
            [
             10,
             0,
             0.45454545454545453
            ],
            [
             44,
             0,
             0.9565217391304348
            ],
            [
             173,
             0,
             3.013937282229965
            ]
           ],
           "geo": "geo",
           "hoverlabel": {
            "namelength": 0
           },
           "hovertemplate": "<b>%{hovertext}</b><br><br>Date=01/28/2020<br>size=%{marker.color}<br>Confirmed=%{customdata[0]}<br>Deaths=%{customdata[1]}<br>Severity=%{customdata[2]}<br>Lat=%{lat}<br>Long=%{lon}",
           "hovertext": [
            "Anhui",
            "Beijing",
            "Chongqing",
            "Fujian",
            "Gansu",
            "Guangdong",
            "Guangxi",
            "Guizhou",
            "Hainan",
            "Hebei",
            "Heilongjiang",
            "Henan",
            "Hubei",
            "Hunan",
            "Inner Mongolia",
            "Jiangsu",
            "Jiangxi",
            "Jilin",
            "Liaoning",
            "Ningxia",
            "Qinghai",
            "Shaanxi",
            "Shandong",
            "Shanghai",
            "Shanxi",
            "Sichuan",
            "Tianjin",
            "Tibet",
            "Xinjiang",
            "Yunnan",
            "Zhejiang"
           ],
           "lat": [
            31.825709999999997,
            40.18238,
            30.05718,
            26.07783,
            36.0611,
            23.33841,
            23.829079999999998,
            26.81536,
            19.19673,
            38.0428,
            47.861999999999995,
            33.882020000000004,
            30.975640000000002,
            27.610409999999998,
            44.09448,
            32.97027,
            27.614009999999997,
            43.66657,
            41.292840000000005,
            37.26923,
            35.65945,
            35.19165,
            36.34377,
            31.20327,
            37.577690000000004,
            30.617140000000003,
            39.293620000000004,
            30.1534,
            41.11981,
            24.97411,
            29.182509999999997
           ],
           "legendgroup": "",
           "lon": [
            117.2264,
            116.4142,
            107.874,
            117.9895,
            103.8343,
            113.42200000000001,
            108.7881,
            106.8748,
            109.7455,
            114.5149,
            127.7622,
            113.61399999999999,
            112.2707,
            111.7088,
            113.9456,
            119.464,
            115.7221,
            126.1917,
            122.6086,
            106.1655,
            96.02564,
            108.8701,
            118.1529,
            121.4554,
            112.2922,
            102.7103,
            117.333,
            88.7879,
            85.17822,
            101.4868,
            120.0985
           ],
           "marker": {
            "color": [
             1.3075463354523382,
             2.055407073024781,
             2.0810354781736238,
             1.4403780047891934,
             0.8618397689442363,
             1.350715187489759,
             1.026720317001034,
             0.5089133578079825,
             2.0739033894608503,
             0.6646556012500703,
             0.9281130814368586,
             1.3368747295663836,
             7.794365705568142,
             1.4569167791641782,
             0.7791287977792476,
             0.9330845439557737,
             1.5529019366266374,
             0.5397525801500045,
             0.8800496983274274,
             1.3213749452868198,
             1.0350983390135313,
             1.1100688626033088,
             1.0274023338281628,
             1.6500825061880158,
             0.8600732686214938,
             1.0534424808309353,
             1.2649110640673518,
             0,
             0.674199862463242,
             0.9780192938436515,
             1.7360694923389344
            ],
            "coloraxis": "coloraxis",
            "size": [
             1.3075463354523382,
             2.055407073024781,
             2.0810354781736238,
             1.4403780047891934,
             0.8618397689442363,
             1.350715187489759,
             1.026720317001034,
             0.5089133578079825,
             2.0739033894608503,
             0.6646556012500703,
             0.9281130814368586,
             1.3368747295663836,
             7.794365705568142,
             1.4569167791641782,
             0.7791287977792476,
             0.9330845439557737,
             1.5529019366266374,
             0.5397525801500045,
             0.8800496983274274,
             1.3213749452868198,
             1.0350983390135313,
             1.1100688626033088,
             1.0274023338281628,
             1.6500825061880158,
             0.8600732686214938,
             1.0534424808309353,
             1.2649110640673518,
             0,
             0.674199862463242,
             0.9780192938436515,
             1.7360694923389344
            ],
            "sizemode": "area",
            "sizeref": 0.08140788407607454
           },
           "name": "",
           "showlegend": false,
           "type": "scattergeo"
          }
         ],
         "name": "01/28/2020"
        },
        {
         "data": [
          {
           "customdata": [
            [
             152,
             0,
             2.4516129032258065
            ],
            [
             111,
             1,
             5.153203342618385
            ],
            [
             147,
             0,
             4.822834645669292
            ],
            [
             84,
             0,
             2.1784232365145226
            ],
            [
             24,
             0,
             0.9382329945269743
            ],
            [
             277,
             0,
             2.441389035783536
            ],
            [
             58,
             0,
             1.1988424968995453
            ],
            [
             9,
             0,
             0.2589928057553957
            ],
            [
             43,
             1,
             4.623655913978494
            ],
            [
             48,
             1,
             0.642570281124498
            ],
            [
             38,
             1,
             0.9919081179848603
            ],
            [
             206,
             2,
             2.1914893617021276
            ],
            [
             3554,
             125,
             60.75213675213675
            ],
            [
             221,
             0,
             3.280391865815645
            ],
            [
             16,
             0,
             0.6475111290975314
            ],
            [
             99,
             0,
             1.2313432835820894
            ],
            [
             109,
             0,
             2.411504424778761
            ],
            [
             9,
             0,
             0.3277494537509104
            ],
            [
             39,
             0,
             0.8883826879271071
            ],
            [
             12,
             0,
             1.9047619047619049
            ],
            [
             6,
             0,
             1.0714285714285714
            ],
            [
             56,
             0,
             1.5001339405304046
            ],
            [
             130,
             0,
             1.4444444444444444
            ],
            [
             96,
             1,
             3.960396039603961
            ],
            [
             27,
             0,
             0.7397260273972602
            ],
            [
             108,
             1,
             1.3316892725030827
            ],
            [
             27,
             0,
             1.8
            ],
            [
             0,
             0,
             0
            ],
            [
             13,
             0,
             0.5909090909090909
            ],
            [
             55,
             0,
             1.1956521739130435
            ],
            [
             296,
             0,
             5.156794425087108
            ]
           ],
           "geo": "geo",
           "hoverlabel": {
            "namelength": 0
           },
           "hovertemplate": "<b>%{hovertext}</b><br><br>Date=01/29/2020<br>size=%{marker.color}<br>Confirmed=%{customdata[0]}<br>Deaths=%{customdata[1]}<br>Severity=%{customdata[2]}<br>Lat=%{lat}<br>Long=%{lon}",
           "hovertext": [
            "Anhui",
            "Beijing",
            "Chongqing",
            "Fujian",
            "Gansu",
            "Guangdong",
            "Guangxi",
            "Guizhou",
            "Hainan",
            "Hebei",
            "Heilongjiang",
            "Henan",
            "Hubei",
            "Hunan",
            "Inner Mongolia",
            "Jiangsu",
            "Jiangxi",
            "Jilin",
            "Liaoning",
            "Ningxia",
            "Qinghai",
            "Shaanxi",
            "Shandong",
            "Shanghai",
            "Shanxi",
            "Sichuan",
            "Tianjin",
            "Tibet",
            "Xinjiang",
            "Yunnan",
            "Zhejiang"
           ],
           "lat": [
            31.825709999999997,
            40.18238,
            30.05718,
            26.07783,
            36.0611,
            23.33841,
            23.829079999999998,
            26.81536,
            19.19673,
            38.0428,
            47.861999999999995,
            33.882020000000004,
            30.975640000000002,
            27.610409999999998,
            44.09448,
            32.97027,
            27.614009999999997,
            43.66657,
            41.292840000000005,
            37.26923,
            35.65945,
            35.19165,
            36.34377,
            31.20327,
            37.577690000000004,
            30.617140000000003,
            39.293620000000004,
            30.1534,
            41.11981,
            24.97411,
            29.182509999999997
           ],
           "legendgroup": "",
           "lon": [
            117.2264,
            116.4142,
            107.874,
            117.9895,
            103.8343,
            113.42200000000001,
            108.7881,
            106.8748,
            109.7455,
            114.5149,
            127.7622,
            113.61399999999999,
            112.2707,
            111.7088,
            113.9456,
            119.464,
            115.7221,
            126.1917,
            122.6086,
            106.1655,
            96.02564,
            108.8701,
            118.1529,
            121.4554,
            112.2922,
            102.7103,
            117.333,
            88.7879,
            85.17822,
            101.4868,
            120.0985
           ],
           "marker": {
            "color": [
             1.5657627225176254,
             2.2700668145714094,
             2.196095317983555,
             1.4759482499445984,
             0.9686242793400206,
             1.5624944914410215,
             1.0949166620796056,
             0.5089133578079825,
             2.150268800401125,
             0.8016048160562024,
             0.9959458408893831,
             1.4803679818552304,
             7.794365705568142,
             1.8111852102464963,
             0.8046807622265686,
             1.1096590843957839,
             1.5529019366266374,
             0.5724940643805055,
             0.9425405497521616,
             1.3801311186847085,
             1.0350983390135313,
             1.2247995511635381,
             1.2018504251546631,
             1.9900743804199783,
             0.8600732686214938,
             1.1539884195706136,
             1.3416407864998738,
             0,
             0.7687061147858074,
             1.0934588121703732,
             2.270857640867676
            ],
            "coloraxis": "coloraxis",
            "size": [
             1.5657627225176254,
             2.2700668145714094,
             2.196095317983555,
             1.4759482499445984,
             0.9686242793400206,
             1.5624944914410215,
             1.0949166620796056,
             0.5089133578079825,
             2.150268800401125,
             0.8016048160562024,
             0.9959458408893831,
             1.4803679818552304,
             7.794365705568142,
             1.8111852102464963,
             0.8046807622265686,
             1.1096590843957839,
             1.5529019366266374,
             0.5724940643805055,
             0.9425405497521616,
             1.3801311186847085,
             1.0350983390135313,
             1.2247995511635381,
             1.2018504251546631,
             1.9900743804199783,
             0.8600732686214938,
             1.1539884195706136,
             1.3416407864998738,
             0,
             0.7687061147858074,
             1.0934588121703732,
             2.270857640867676
            ],
            "sizemode": "area",
            "sizeref": 0.08140788407607454
           },
           "name": "",
           "showlegend": false,
           "type": "scattergeo"
          }
         ],
         "name": "01/29/2020"
        },
        {
         "data": [
          {
           "customdata": [
            [
             200,
             0,
             3.225806451612903
            ],
            [
             114,
             1,
             5.2924791086350975
            ],
            [
             182,
             0,
             5.971128608923885
            ],
            [
             101,
             0,
             2.6192946058091287
            ],
            [
             26,
             0,
             1.016419077404222
            ],
            [
             354,
             0,
             3.120042305658382
            ],
            [
             78,
             0,
             1.6122364613476643
            ],
            [
             12,
             0,
             0.34532374100719426
            ],
            [
             46,
             1,
             4.946236559139785
            ],
            [
             65,
             1,
             0.8701472556894243
            ],
            [
             44,
             2,
             1.1485251892456276
            ],
            [
             278,
             2,
             2.9574468085106385
            ],
            [
             4903,
             162,
             83.8119658119658
            ],
            [
             277,
             0,
             4.111622383850378
            ],
            [
             19,
             0,
             0.7689194658033185
            ],
            [
             129,
             0,
             1.6044776119402984
            ],
            [
             162,
             0,
             3.5840707964601766
            ],
            [
             14,
             0,
             0.5098324836125273
            ],
            [
             41,
             0,
             0.9339407744874716
            ],
            [
             17,
             0,
             2.6984126984126986
            ],
            [
             8,
             0,
             1.4285714285714286
            ],
            [
             63,
             0,
             1.687650683096705
            ],
            [
             158,
             0,
             1.7555555555555555
            ],
            [
             112,
             1,
             4.62046204620462
            ],
            [
             35,
             0,
             0.958904109589041
            ],
            [
             142,
             1,
             1.7509247842170161
            ],
            [
             31,
             0,
             2.066666666666667
            ],
            [
             1,
             0,
             0.3125
            ],
            [
             14,
             0,
             0.6363636363636364
            ],
            [
             70,
             0,
             1.5217391304347827
            ],
            [
             428,
             0,
             7.456445993031359
            ]
           ],
           "geo": "geo",
           "hoverlabel": {
            "namelength": 0
           },
           "hovertemplate": "<b>%{hovertext}</b><br><br>Date=01/30/2020<br>size=%{marker.color}<br>Confirmed=%{customdata[0]}<br>Deaths=%{customdata[1]}<br>Severity=%{customdata[2]}<br>Lat=%{lat}<br>Long=%{lon}",
           "hovertext": [
            "Anhui",
            "Beijing",
            "Chongqing",
            "Fujian",
            "Gansu",
            "Guangdong",
            "Guangxi",
            "Guizhou",
            "Hainan",
            "Hebei",
            "Heilongjiang",
            "Henan",
            "Hubei",
            "Hunan",
            "Inner Mongolia",
            "Jiangsu",
            "Jiangxi",
            "Jilin",
            "Liaoning",
            "Ningxia",
            "Qinghai",
            "Shaanxi",
            "Shandong",
            "Shanghai",
            "Shanxi",
            "Sichuan",
            "Tianjin",
            "Tibet",
            "Xinjiang",
            "Yunnan",
            "Zhejiang"
           ],
           "lat": [
            31.825709999999997,
            40.18238,
            30.05718,
            26.07783,
            36.0611,
            23.33841,
            23.829079999999998,
            26.81536,
            19.19673,
            38.0428,
            47.861999999999995,
            33.882020000000004,
            30.975640000000002,
            27.610409999999998,
            44.09448,
            32.97027,
            27.614009999999997,
            43.66657,
            41.292840000000005,
            37.26923,
            35.65945,
            35.19165,
            36.34377,
            31.20327,
            37.577690000000004,
            30.617140000000003,
            39.293620000000004,
            30.1534,
            41.11981,
            24.97411,
            29.182509999999997
           ],
           "legendgroup": "",
           "lon": [
            117.2264,
            116.4142,
            107.874,
            117.9895,
            103.8343,
            113.42200000000001,
            108.7881,
            106.8748,
            109.7455,
            114.5149,
            127.7622,
            113.61399999999999,
            112.2707,
            111.7088,
            113.9456,
            119.464,
            115.7221,
            126.1917,
            122.6086,
            106.1655,
            96.02564,
            108.8701,
            118.1529,
            121.4554,
            112.2922,
            102.7103,
            117.333,
            88.7879,
            85.17822,
            101.4868,
            120.0985
           ],
           "marker": {
            "color": [
             1.796053020267749,
             2.3005388735326986,
             2.4435892881013954,
             1.6184234939622968,
             1.0081761142797532,
             1.7663641486563244,
             1.2697387374368256,
             0.5876425282492701,
             2.224013614872846,
             0.9328168393041714,
             1.0716926748119666,
             1.7197228871276438,
             9.154887536827845,
             2.0277135852605954,
             0.8768805310892234,
             1.2666797590315788,
             1.8931642286025205,
             0.7140255482911849,
             0.9664061126087063,
             1.6426846010152705,
             1.1952286093343936,
             1.2990961023329664,
             1.3249737942901194,
             2.14952600500776,
             0.9792364931869324,
             1.323225144945869,
             1.4375905768565218,
             0.5590169943749475,
             0.7977240352174656,
             1.2335879094879225,
             2.730649372041632
            ],
            "coloraxis": "coloraxis",
            "size": [
             1.796053020267749,
             2.3005388735326986,
             2.4435892881013954,
             1.6184234939622968,
             1.0081761142797532,
             1.7663641486563244,
             1.2697387374368256,
             0.5876425282492701,
             2.224013614872846,
             0.9328168393041714,
             1.0716926748119666,
             1.7197228871276438,
             9.154887536827845,
             2.0277135852605954,
             0.8768805310892234,
             1.2666797590315788,
             1.8931642286025205,
             0.7140255482911849,
             0.9664061126087063,
             1.6426846010152705,
             1.1952286093343936,
             1.2990961023329664,
             1.3249737942901194,
             2.14952600500776,
             0.9792364931869324,
             1.323225144945869,
             1.4375905768565218,
             0.5590169943749475,
             0.7977240352174656,
             1.2335879094879225,
             2.730649372041632
            ],
            "sizemode": "area",
            "sizeref": 0.08140788407607454
           },
           "name": "",
           "showlegend": false,
           "type": "scattergeo"
          }
         ],
         "name": "01/30/2020"
        },
        {
         "data": [
          {
           "customdata": [
            [
             237,
             0,
             3.8225806451612905
            ],
            [
             139,
             1,
             6.453110492107707
            ],
            [
             211,
             0,
             6.92257217847769
            ],
            [
             120,
             0,
             3.1120331950207465
            ],
            [
             29,
             0,
             1.1336982017200938
            ],
            [
             436,
             0,
             3.842763969680945
            ],
            [
             87,
             0,
             1.7982637453493178
            ],
            [
             29,
             0,
             0.8345323741007195
            ],
            [
             52,
             1,
             5.591397849462365
            ],
            [
             82,
             1,
             1.0977242302543506
            ],
            [
             59,
             2,
             1.5400678673975463
            ],
            [
             352,
             2,
             3.74468085106383
            ],
            [
             5806,
             204,
             99.24786324786325
            ],
            [
             332,
             0,
             4.928009499777349
            ],
            [
             20,
             0,
             0.8093889113719142
            ],
            [
             168,
             0,
             2.08955223880597
            ],
            [
             240,
             0,
             5.309734513274336
            ],
            [
             14,
             0,
             0.5098324836125273
            ],
            [
             48,
             0,
             1.0933940774487472
            ],
            [
             21,
             0,
             3.3333333333333335
            ],
            [
             8,
             0,
             1.4285714285714286
            ],
            [
             87,
             0,
             2.330565229038307
            ],
            [
             184,
             0,
             2.0444444444444443
            ],
            [
             135,
             1,
             5.569306930693069
            ],
            [
             39,
             0,
             1.0684931506849316
            ],
            [
             177,
             1,
             2.18249075215783
            ],
            [
             32,
             0,
             2.1333333333333333
            ],
            [
             1,
             0,
             0.3125
            ],
            [
             17,
             0,
             0.7727272727272727
            ],
            [
             83,
             0,
             1.8043478260869565
            ],
            [
             538,
             0,
             9.372822299651569
            ]
           ],
           "geo": "geo",
           "hoverlabel": {
            "namelength": 0
           },
           "hovertemplate": "<b>%{hovertext}</b><br><br>Date=01/31/2020<br>size=%{marker.color}<br>Confirmed=%{customdata[0]}<br>Deaths=%{customdata[1]}<br>Severity=%{customdata[2]}<br>Lat=%{lat}<br>Long=%{lon}",
           "hovertext": [
            "Anhui",
            "Beijing",
            "Chongqing",
            "Fujian",
            "Gansu",
            "Guangdong",
            "Guangxi",
            "Guizhou",
            "Hainan",
            "Hebei",
            "Heilongjiang",
            "Henan",
            "Hubei",
            "Hunan",
            "Inner Mongolia",
            "Jiangsu",
            "Jiangxi",
            "Jilin",
            "Liaoning",
            "Ningxia",
            "Qinghai",
            "Shaanxi",
            "Shandong",
            "Shanghai",
            "Shanxi",
            "Sichuan",
            "Tianjin",
            "Tibet",
            "Xinjiang",
            "Yunnan",
            "Zhejiang"
           ],
           "lat": [
            31.825709999999997,
            40.18238,
            30.05718,
            26.07783,
            36.0611,
            23.33841,
            23.829079999999998,
            26.81536,
            19.19673,
            38.0428,
            47.861999999999995,
            33.882020000000004,
            30.975640000000002,
            27.610409999999998,
            44.09448,
            32.97027,
            27.614009999999997,
            43.66657,
            41.292840000000005,
            37.26923,
            35.65945,
            35.19165,
            36.34377,
            31.20327,
            37.577690000000004,
            30.617140000000003,
            39.293620000000004,
            30.1534,
            41.11981,
            24.97411,
            29.182509999999997
           ],
           "legendgroup": "",
           "lon": [
            117.2264,
            116.4142,
            107.874,
            117.9895,
            103.8343,
            113.42200000000001,
            108.7881,
            106.8748,
            109.7455,
            114.5149,
            127.7622,
            113.61399999999999,
            112.2707,
            111.7088,
            113.9456,
            119.464,
            115.7221,
            126.1917,
            122.6086,
            106.1655,
            96.02564,
            108.8701,
            118.1529,
            121.4554,
            112.2922,
            102.7103,
            117.333,
            88.7879,
            85.17822,
            101.4868,
            120.0985
           ],
           "marker": {
            "color": [
             1.955142103572344,
             2.540297323564253,
             2.6310781399414367,
             1.7640955742308144,
             1.0647526481395075,
             1.9602969085526165,
             1.3409935664831945,
             0.9135274347827325,
             2.3646136786930683,
             1.0477233557835535,
             1.2409947088515512,
             1.9351177873875869,
             9.96232218149279,
             2.2199120477571515,
             0.8996604422624761,
             1.4455283597377016,
             2.3042861179277057,
             0.7140255482911849,
             1.0456548557955188,
             1.8257418583505538,
             1.1952286093343936,
             1.5266188879475804,
             1.429840705968481,
             2.3599379082283223,
             1.0336794235569031,
             1.477325540345739,
             1.4605934866804429,
             0.5590169943749475,
             0.8790490729915326,
             1.3432601483282962,
             3.0615065408474256
            ],
            "coloraxis": "coloraxis",
            "size": [
             1.955142103572344,
             2.540297323564253,
             2.6310781399414367,
             1.7640955742308144,
             1.0647526481395075,
             1.9602969085526165,
             1.3409935664831945,
             0.9135274347827325,
             2.3646136786930683,
             1.0477233557835535,
             1.2409947088515512,
             1.9351177873875869,
             9.96232218149279,
             2.2199120477571515,
             0.8996604422624761,
             1.4455283597377016,
             2.3042861179277057,
             0.7140255482911849,
             1.0456548557955188,
             1.8257418583505538,
             1.1952286093343936,
             1.5266188879475804,
             1.429840705968481,
             2.3599379082283223,
             1.0336794235569031,
             1.477325540345739,
             1.4605934866804429,
             0.5590169943749475,
             0.8790490729915326,
             1.3432601483282962,
             3.0615065408474256
            ],
            "sizemode": "area",
            "sizeref": 0.08140788407607454
           },
           "name": "",
           "showlegend": false,
           "type": "scattergeo"
          }
         ],
         "name": "01/31/2020"
        },
        {
         "data": [
          {
           "customdata": [
            [
             297,
             0,
             4.790322580645161
            ],
            [
             168,
             1,
             7.7994428969359335
            ],
            [
             247,
             1,
             8.103674540682414
            ],
            [
             144,
             0,
             3.734439834024896
            ],
            [
             40,
             0,
             1.563721657544957
            ],
            [
             535,
             0,
             4.715318173805747
            ],
            [
             100,
             0,
             2.066969822240595
            ],
            [
             29,
             0,
             0.8345323741007195
            ],
            [
             62,
             1,
             6.666666666666666
            ],
            [
             96,
             1,
             1.285140562248996
            ],
            [
             80,
             2,
             2.088227616810232
            ],
            [
             422,
             2,
             4.48936170212766
            ],
            [
             7153,
             249,
             122.27350427350427
            ],
            [
             389,
             0,
             5.774083419919846
            ],
            [
             23,
             0,
             0.9307972480777013
            ],
            [
             202,
             0,
             2.5124378109452734
            ],
            [
             286,
             0,
             6.327433628318584
            ],
            [
             17,
             0,
             0.6190823015294974
            ],
            [
             64,
             0,
             1.457858769931663
            ],
            [
             26,
             0,
             4.126984126984127
            ],
            [
             9,
             0,
             1.6071428571428572
            ],
            [
             101,
             0,
             2.7055987141709084
            ],
            [
             206,
             0,
             2.2888888888888888
            ],
            [
             169,
             1,
             6.971947194719473
            ],
            [
             47,
             0,
             1.2876712328767124
            ],
            [
             207,
             1,
             2.552404438964242
            ],
            [
             41,
             0,
             2.7333333333333334
            ],
            [
             1,
             0,
             0.3125
            ],
            [
             18,
             0,
             0.8181818181818182
            ],
            [
             93,
             0,
             2.0217391304347827
            ],
            [
             599,
             0,
             10.435540069686411
            ]
           ],
           "geo": "geo",
           "hoverlabel": {
            "namelength": 0
           },
           "hovertemplate": "<b>%{hovertext}</b><br><br>Date=02/01/2020<br>size=%{marker.color}<br>Confirmed=%{customdata[0]}<br>Deaths=%{customdata[1]}<br>Severity=%{customdata[2]}<br>Lat=%{lat}<br>Long=%{lon}",
           "hovertext": [
            "Anhui",
            "Beijing",
            "Chongqing",
            "Fujian",
            "Gansu",
            "Guangdong",
            "Guangxi",
            "Guizhou",
            "Hainan",
            "Hebei",
            "Heilongjiang",
            "Henan",
            "Hubei",
            "Hunan",
            "Inner Mongolia",
            "Jiangsu",
            "Jiangxi",
            "Jilin",
            "Liaoning",
            "Ningxia",
            "Qinghai",
            "Shaanxi",
            "Shandong",
            "Shanghai",
            "Shanxi",
            "Sichuan",
            "Tianjin",
            "Tibet",
            "Xinjiang",
            "Yunnan",
            "Zhejiang"
           ],
           "lat": [
            31.825709999999997,
            40.18238,
            30.05718,
            26.07783,
            36.0611,
            23.33841,
            23.829079999999998,
            26.81536,
            19.19673,
            38.0428,
            47.861999999999995,
            33.882020000000004,
            30.975640000000002,
            27.610409999999998,
            44.09448,
            32.97027,
            27.614009999999997,
            43.66657,
            41.292840000000005,
            37.26923,
            35.65945,
            35.19165,
            36.34377,
            31.20327,
            37.577690000000004,
            30.617140000000003,
            39.293620000000004,
            30.1534,
            41.11981,
            24.97411,
            29.182509999999997
           ],
           "legendgroup": "",
           "lon": [
            117.2264,
            116.4142,
            107.874,
            117.9895,
            103.8343,
            113.42200000000001,
            108.7881,
            106.8748,
            109.7455,
            114.5149,
            127.7622,
            113.61399999999999,
            112.2707,
            111.7088,
            113.9456,
            119.464,
            115.7221,
            126.1917,
            122.6086,
            106.1655,
            96.02564,
            108.8701,
            118.1529,
            121.4554,
            112.2922,
            102.7103,
            117.333,
            88.7879,
            85.17822,
            101.4868,
            120.0985
           ],
           "marker": {
            "color": [
             2.18868055701264,
             2.7927482695251884,
             2.846695371950152,
             1.9324698792024926,
             1.250488567538687,
             2.1714783383229377,
             1.4376960117634725,
             0.9135274347827325,
             2.581988897471611,
             1.1336404025302715,
             1.445070107922184,
             2.1188113889932865,
             11.057735042652464,
             2.4029322545423217,
             0.9647783414223711,
             1.5850671313686602,
             2.515439052793485,
             0.7868178324933272,
             1.2074182249459642,
             2.0314980007334804,
             1.267731382092775,
             1.6448704247359147,
             1.5129074290546956,
             2.6404445070327593,
             1.1347560235031635,
             1.5976246239227292,
             1.6532795690182993,
             0.5590169943749475,
             0.9045340337332909,
             1.4218787326754636,
             3.2304086536669647
            ],
            "coloraxis": "coloraxis",
            "size": [
             2.18868055701264,
             2.7927482695251884,
             2.846695371950152,
             1.9324698792024926,
             1.250488567538687,
             2.1714783383229377,
             1.4376960117634725,
             0.9135274347827325,
             2.581988897471611,
             1.1336404025302715,
             1.445070107922184,
             2.1188113889932865,
             11.057735042652464,
             2.4029322545423217,
             0.9647783414223711,
             1.5850671313686602,
             2.515439052793485,
             0.7868178324933272,
             1.2074182249459642,
             2.0314980007334804,
             1.267731382092775,
             1.6448704247359147,
             1.5129074290546956,
             2.6404445070327593,
             1.1347560235031635,
             1.5976246239227292,
             1.6532795690182993,
             0.5590169943749475,
             0.9045340337332909,
             1.4218787326754636,
             3.2304086536669647
            ],
            "sizemode": "area",
            "sizeref": 0.08140788407607454
           },
           "name": "",
           "showlegend": false,
           "type": "scattergeo"
          }
         ],
         "name": "02/01/2020"
        },
        {
         "data": [
          {
           "customdata": [
            [
             340,
             0,
             5.483870967741935
            ],
            [
             191,
             1,
             8.867223769730733
            ],
            [
             300,
             2,
             9.84251968503937
            ],
            [
             159,
             0,
             4.123443983402489
            ],
            [
             51,
             0,
             1.9937451133698203
            ],
            [
             632,
             0,
             5.570245020271462
            ],
            [
             111,
             0,
             2.294336502687061
            ],
            [
             38,
             0,
             1.0935251798561152
            ],
            [
             64,
             1,
             6.881720430107526
            ],
            [
             104,
             1,
             1.392235609103079
            ],
            [
             95,
             2,
             2.4797702949621505
            ],
            [
             493,
             2,
             5.24468085106383
            ],
            [
             11177,
             350,
             191.05982905982907
            ],
            [
             463,
             0,
             6.872495175894315
            ],
            [
             27,
             0,
             1.0926750303520842
            ],
            [
             236,
             0,
             2.935323383084577
            ],
            [
             333,
             0,
             7.367256637168141
            ],
            [
             23,
             0,
             0.8375819373634377
            ],
            [
             70,
             0,
             1.5945330296127562
            ],
            [
             28,
             0,
             4.444444444444445
            ],
            [
             11,
             0,
             1.9642857142857144
            ],
            [
             116,
             0,
             3.1074203053844096
            ],
            [
             230,
             0,
             2.5555555555555554
            ],
            [
             182,
             1,
             7.508250825082508
            ],
            [
             66,
             0,
             1.8082191780821917
            ],
            [
             231,
             1,
             2.8483353884093714
            ],
            [
             48,
             0,
             3.2
            ],
            [
             1,
             0,
             0.3125
            ],
            [
             21,
             0,
             0.9545454545454546
            ],
            [
             105,
             0,
             2.282608695652174
            ],
            [
             661,
             0,
             11.515679442508711
            ]
           ],
           "geo": "geo",
           "hoverlabel": {
            "namelength": 0
           },
           "hovertemplate": "<b>%{hovertext}</b><br><br>Date=02/02/2020<br>size=%{marker.color}<br>Confirmed=%{customdata[0]}<br>Deaths=%{customdata[1]}<br>Severity=%{customdata[2]}<br>Lat=%{lat}<br>Long=%{lon}",
           "hovertext": [
            "Anhui",
            "Beijing",
            "Chongqing",
            "Fujian",
            "Gansu",
            "Guangdong",
            "Guangxi",
            "Guizhou",
            "Hainan",
            "Hebei",
            "Heilongjiang",
            "Henan",
            "Hubei",
            "Hunan",
            "Inner Mongolia",
            "Jiangsu",
            "Jiangxi",
            "Jilin",
            "Liaoning",
            "Ningxia",
            "Qinghai",
            "Shaanxi",
            "Shandong",
            "Shanghai",
            "Shanxi",
            "Sichuan",
            "Tianjin",
            "Tibet",
            "Xinjiang",
            "Yunnan",
            "Zhejiang"
           ],
           "lat": [
            31.825709999999997,
            40.18238,
            30.05718,
            26.07783,
            36.0611,
            23.33841,
            23.829079999999998,
            26.81536,
            19.19673,
            38.0428,
            47.861999999999995,
            33.882020000000004,
            30.975640000000002,
            27.610409999999998,
            44.09448,
            32.97027,
            27.614009999999997,
            43.66657,
            41.292840000000005,
            37.26923,
            35.65945,
            35.19165,
            36.34377,
            31.20327,
            37.577690000000004,
            30.617140000000003,
            39.293620000000004,
            30.1534,
            41.11981,
            24.97411,
            29.182509999999997
           ],
           "legendgroup": "",
           "lon": [
            117.2264,
            116.4142,
            107.874,
            117.9895,
            103.8343,
            113.42200000000001,
            108.7881,
            106.8748,
            109.7455,
            114.5149,
            127.7622,
            113.61399999999999,
            112.2707,
            111.7088,
            113.9456,
            119.464,
            115.7221,
            126.1917,
            122.6086,
            106.1655,
            96.02564,
            108.8701,
            118.1529,
            121.4554,
            112.2922,
            102.7103,
            117.333,
            88.7879,
            85.17822,
            101.4868,
            120.0985
           ],
           "marker": {
            "color": [
             2.341766633920198,
             2.977788402444125,
             3.137279025690793,
             2.0306265002216652,
             1.4120003942527142,
             2.360136652880816,
             1.5147067381797246,
             1.0457175430564962,
             2.6233033431358117,
             1.1799303407841832,
             1.5747286416910535,
             2.2901268198647493,
             13.822439331023633,
             2.621544425695341,
             1.045310973037251,
             1.7132785480138881,
             2.714269079728121,
             0.91519502695515,
             1.2627482051512708,
             2.1081851067789197,
             1.4015297764534702,
             1.7627876518130055,
             1.5986105077709065,
             2.7401187611274276,
             1.3447004045817015,
             1.6877012141991756,
             1.7888543819998317,
             0.5590169943749475,
             0.9770084209183945,
             1.5108304655560048,
             3.393476011777409
            ],
            "coloraxis": "coloraxis",
            "size": [
             2.341766633920198,
             2.977788402444125,
             3.137279025690793,
             2.0306265002216652,
             1.4120003942527142,
             2.360136652880816,
             1.5147067381797246,
             1.0457175430564962,
             2.6233033431358117,
             1.1799303407841832,
             1.5747286416910535,
             2.2901268198647493,
             13.822439331023633,
             2.621544425695341,
             1.045310973037251,
             1.7132785480138881,
             2.714269079728121,
             0.91519502695515,
             1.2627482051512708,
             2.1081851067789197,
             1.4015297764534702,
             1.7627876518130055,
             1.5986105077709065,
             2.7401187611274276,
             1.3447004045817015,
             1.6877012141991756,
             1.7888543819998317,
             0.5590169943749475,
             0.9770084209183945,
             1.5108304655560048,
             3.393476011777409
            ],
            "sizemode": "area",
            "sizeref": 0.08140788407607454
           },
           "name": "",
           "showlegend": false,
           "type": "scattergeo"
          }
         ],
         "name": "02/02/2020"
        },
        {
         "data": [
          {
           "customdata": [
            [
             408,
             0,
             6.580645161290323
            ],
            [
             212,
             1,
             9.842154131847726
            ],
            [
             337,
             2,
             11.056430446194225
            ],
            [
             179,
             0,
             4.642116182572614
            ],
            [
             55,
             0,
             2.150117279124316
            ],
            [
             725,
             0,
             6.389917151419002
            ],
            [
             127,
             0,
             2.625051674245556
            ],
            [
             46,
             0,
             1.3237410071942446
            ],
            [
             72,
             1,
             7.741935483870967
            ],
            [
             113,
             1,
             1.5127175368139223
            ],
            [
             121,
             2,
             3.158444270425476
            ],
            [
             566,
             2,
             6.0212765957446805
            ],
            [
             13522,
             414,
             231.14529914529913
            ],
            [
             521,
             0,
             7.733412498144574
            ],
            [
             34,
             0,
             1.375961149332254
            ],
            [
             271,
             0,
             3.370646766169154
            ],
            [
             391,
             0,
             8.650442477876105
            ],
            [
             31,
             0,
             1.1289147851420247
            ],
            [
             74,
             0,
             1.6856492027334853
            ],
            [
             31,
             0,
             4.920634920634921
            ],
            [
             13,
             0,
             2.3214285714285716
            ],
            [
             128,
             0,
             3.4288775783552103
            ],
            [
             259,
             0,
             2.8777777777777778
            ],
            [
             203,
             1,
             8.374587458745875
            ],
            [
             74,
             0,
             2.0273972602739727
            ],
            [
             254,
             1,
             3.1319358816276206
            ],
            [
             60,
             0,
             4
            ],
            [
             1,
             0,
             0.3125
            ],
            [
             24,
             0,
             1.0909090909090908
            ],
            [
             117,
             0,
             2.5434782608695654
            ],
            [
             724,
             0,
             12.613240418118467
            ]
           ],
           "geo": "geo",
           "hoverlabel": {
            "namelength": 0
           },
           "hovertemplate": "<b>%{hovertext}</b><br><br>Date=02/03/2020<br>size=%{marker.color}<br>Confirmed=%{customdata[0]}<br>Deaths=%{customdata[1]}<br>Severity=%{customdata[2]}<br>Lat=%{lat}<br>Long=%{lon}",
           "hovertext": [
            "Anhui",
            "Beijing",
            "Chongqing",
            "Fujian",
            "Gansu",
            "Guangdong",
            "Guangxi",
            "Guizhou",
            "Hainan",
            "Hebei",
            "Heilongjiang",
            "Henan",
            "Hubei",
            "Hunan",
            "Inner Mongolia",
            "Jiangsu",
            "Jiangxi",
            "Jilin",
            "Liaoning",
            "Ningxia",
            "Qinghai",
            "Shaanxi",
            "Shandong",
            "Shanghai",
            "Shanxi",
            "Sichuan",
            "Tianjin",
            "Tibet",
            "Xinjiang",
            "Yunnan",
            "Zhejiang"
           ],
           "lat": [
            31.825709999999997,
            40.18238,
            30.05718,
            26.07783,
            36.0611,
            23.33841,
            23.829079999999998,
            26.81536,
            19.19673,
            38.0428,
            47.861999999999995,
            33.882020000000004,
            30.975640000000002,
            27.610409999999998,
            44.09448,
            32.97027,
            27.614009999999997,
            43.66657,
            41.292840000000005,
            37.26923,
            35.65945,
            35.19165,
            36.34377,
            31.20327,
            37.577690000000004,
            30.617140000000003,
            39.293620000000004,
            30.1534,
            41.11981,
            24.97411,
            29.182509999999997
           ],
           "legendgroup": "",
           "lon": [
            117.2264,
            116.4142,
            107.874,
            117.9895,
            103.8343,
            113.42200000000001,
            108.7881,
            106.8748,
            109.7455,
            114.5149,
            127.7622,
            113.61399999999999,
            112.2707,
            111.7088,
            113.9456,
            119.464,
            115.7221,
            126.1917,
            122.6086,
            106.1655,
            96.02564,
            108.8701,
            118.1529,
            121.4554,
            112.2922,
            102.7103,
            117.333,
            88.7879,
            85.17822,
            101.4868,
            120.0985
           ],
           "marker": {
            "color": [
             2.56527681962207,
             3.1372207655579047,
             3.325121117522522,
             2.154557073408039,
             1.4663278211656205,
             2.527828544703735,
             1.620201121541877,
             1.1505394418246793,
             2.7824333745610095,
             1.2299258257366263,
             1.7772012464618283,
             2.4538289662779436,
             15.203463393098927,
             2.780901382311961,
             1.1730137038126427,
             1.835932124608411,
             2.9411634565042633,
             1.0625040165298316,
             1.2983255380425531,
             2.2182504188289744,
             1.5236235005501102,
             1.851722867589859,
             1.6964014199999298,
             2.8938879485470537,
             1.423867009335483,
             1.7697276292208417,
             2,
             0.5590169943749475,
             1.044465935734187,
             1.5948285992135849,
             3.5515124127783175
            ],
            "coloraxis": "coloraxis",
            "size": [
             2.56527681962207,
             3.1372207655579047,
             3.325121117522522,
             2.154557073408039,
             1.4663278211656205,
             2.527828544703735,
             1.620201121541877,
             1.1505394418246793,
             2.7824333745610095,
             1.2299258257366263,
             1.7772012464618283,
             2.4538289662779436,
             15.203463393098927,
             2.780901382311961,
             1.1730137038126427,
             1.835932124608411,
             2.9411634565042633,
             1.0625040165298316,
             1.2983255380425531,
             2.2182504188289744,
             1.5236235005501102,
             1.851722867589859,
             1.6964014199999298,
             2.8938879485470537,
             1.423867009335483,
             1.7697276292208417,
             2,
             0.5590169943749475,
             1.044465935734187,
             1.5948285992135849,
             3.5515124127783175
            ],
            "sizemode": "area",
            "sizeref": 0.08140788407607454
           },
           "name": "",
           "showlegend": false,
           "type": "scattergeo"
          }
         ],
         "name": "02/03/2020"
        },
        {
         "data": [
          {
           "customdata": [
            [
             480,
             0,
             7.741935483870968
            ],
            [
             228,
             1,
             10.584958217270195
            ],
            [
             366,
             2,
             12.007874015748031
            ],
            [
             194,
             0,
             5.031120331950207
            ],
            [
             57,
             0,
             2.2283033620015638
            ],
            [
             813,
             0,
             7.165520888418826
            ],
            [
             139,
             0,
             2.873088052914427
            ],
            [
             58,
             0,
             1.669064748201439
            ],
            [
             80,
             1,
             8.602150537634408
            ],
            [
             126,
             1,
             1.686746987951807
            ],
            [
             155,
             2,
             4.045941007569825
            ],
            [
             675,
             2,
             7.180851063829787
            ],
            [
             16678,
             479,
             285.0940170940171
            ],
            [
             593,
             0,
             8.802137449903517
            ],
            [
             35,
             0,
             1.4164305949008498
            ],
            [
             308,
             0,
             3.8308457711442783
            ],
            [
             476,
             0,
             10.530973451327434
            ],
            [
             42,
             0,
             1.5294974508375818
            ],
            [
             81,
             0,
             1.845102505694761
            ],
            [
             34,
             0,
             5.396825396825397
            ],
            [
             15,
             0,
             2.678571428571429
            ],
            [
             142,
             0,
             3.8039110634878117
            ],
            [
             275,
             0,
             3.0555555555555554
            ],
            [
             219,
             1,
             9.034653465346535
            ],
            [
             81,
             0,
             2.219178082191781
            ],
            [
             282,
             1,
             3.4771886559802714
            ],
            [
             67,
             0,
             4.466666666666667
            ],
            [
             1,
             0,
             0.3125
            ],
            [
             29,
             0,
             1.3181818181818181
            ],
            [
             122,
             0,
             2.652173913043478
            ],
            [
             829,
             0,
             14.442508710801395
            ]
           ],
           "geo": "geo",
           "hoverlabel": {
            "namelength": 0
           },
           "hovertemplate": "<b>%{hovertext}</b><br><br>Date=02/04/2020<br>size=%{marker.color}<br>Confirmed=%{customdata[0]}<br>Deaths=%{customdata[1]}<br>Severity=%{customdata[2]}<br>Lat=%{lat}<br>Long=%{lon}",
           "hovertext": [
            "Anhui",
            "Beijing",
            "Chongqing",
            "Fujian",
            "Gansu",
            "Guangdong",
            "Guangxi",
            "Guizhou",
            "Hainan",
            "Hebei",
            "Heilongjiang",
            "Henan",
            "Hubei",
            "Hunan",
            "Inner Mongolia",
            "Jiangsu",
            "Jiangxi",
            "Jilin",
            "Liaoning",
            "Ningxia",
            "Qinghai",
            "Shaanxi",
            "Shandong",
            "Shanghai",
            "Shanxi",
            "Sichuan",
            "Tianjin",
            "Tibet",
            "Xinjiang",
            "Yunnan",
            "Zhejiang"
           ],
           "lat": [
            31.825709999999997,
            40.18238,
            30.05718,
            26.07783,
            36.0611,
            23.33841,
            23.829079999999998,
            26.81536,
            19.19673,
            38.0428,
            47.861999999999995,
            33.882020000000004,
            30.975640000000002,
            27.610409999999998,
            44.09448,
            32.97027,
            27.614009999999997,
            43.66657,
            41.292840000000005,
            37.26923,
            35.65945,
            35.19165,
            36.34377,
            31.20327,
            37.577690000000004,
            30.617140000000003,
            39.293620000000004,
            30.1534,
            41.11981,
            24.97411,
            29.182509999999997
           ],
           "legendgroup": "",
           "lon": [
            117.2264,
            116.4142,
            107.874,
            117.9895,
            103.8343,
            113.42200000000001,
            108.7881,
            106.8748,
            109.7455,
            114.5149,
            127.7622,
            113.61399999999999,
            112.2707,
            111.7088,
            113.9456,
            119.464,
            115.7221,
            126.1917,
            122.6086,
            106.1655,
            96.02564,
            108.8701,
            118.1529,
            121.4554,
            112.2922,
            102.7103,
            117.333,
            88.7879,
            85.17822,
            101.4868,
            120.0985
           ],
           "marker": {
            "color": [
             2.7824333745610095,
             3.2534532757164647,
             3.4652379450404314,
             2.2430159009579507,
             1.492750267794839,
             2.676849059700383,
             1.6950185995777236,
             1.2919228878696434,
             2.9329423004270656,
             1.2987482388637943,
             2.011452462170017,
             2.6797110037893614,
             16.884727332533892,
             2.966839640072162,
             1.1901388973144478,
             1.9572546515832523,
             3.2451461371296415,
             1.2367285275425572,
             1.3583455030642098,
             2.323106841457232,
             1.6366341767699428,
             1.950361777590971,
             1.7480147469502525,
             3.0057700286859164,
             1.4896905994842624,
             1.864722139081389,
             2.1134489978863145,
             0.5590169943749475,
             1.1481209945740989,
             1.6285496348111341,
             3.8003300791906742
            ],
            "coloraxis": "coloraxis",
            "size": [
             2.7824333745610095,
             3.2534532757164647,
             3.4652379450404314,
             2.2430159009579507,
             1.492750267794839,
             2.676849059700383,
             1.6950185995777236,
             1.2919228878696434,
             2.9329423004270656,
             1.2987482388637943,
             2.011452462170017,
             2.6797110037893614,
             16.884727332533892,
             2.966839640072162,
             1.1901388973144478,
             1.9572546515832523,
             3.2451461371296415,
             1.2367285275425572,
             1.3583455030642098,
             2.323106841457232,
             1.6366341767699428,
             1.950361777590971,
             1.7480147469502525,
             3.0057700286859164,
             1.4896905994842624,
             1.864722139081389,
             2.1134489978863145,
             0.5590169943749475,
             1.1481209945740989,
             1.6285496348111341,
             3.8003300791906742
            ],
            "sizemode": "area",
            "sizeref": 0.08140788407607454
           },
           "name": "",
           "showlegend": false,
           "type": "scattergeo"
          }
         ],
         "name": "02/04/2020"
        },
        {
         "data": [
          {
           "customdata": [
            [
             530,
             0,
             8.548387096774194
            ],
            [
             253,
             1,
             11.745589600742804
            ],
            [
             389,
             2,
             12.762467191601049
            ],
            [
             205,
             0,
             5.316390041493776
            ],
            [
             62,
             0,
             2.4237685691946833
            ],
            [
             895,
             0,
             7.8882425524413895
            ],
            [
             150,
             0,
             3.100454733360893
            ],
            [
             64,
             1,
             1.841726618705036
            ],
            [
             99,
             1,
             10.64516129032258
            ],
            [
             135,
             1,
             1.8072289156626504
            ],
            [
             190,
             2,
             4.959540589924301
            ],
            [
             764,
             2,
             8.127659574468085
            ],
            [
             19665,
             549,
             336.15384615384613
            ],
            [
             661,
             0,
             9.811488793231408
            ],
            [
             42,
             0,
             1.6997167138810199
            ],
            [
             341,
             0,
             4.241293532338308
            ],
            [
             548,
             0,
             12.123893805309734
            ],
            [
             54,
             0,
             1.9664967225054624
            ],
            [
             89,
             0,
             2.0273348519362187
            ],
            [
             34,
             0,
             5.396825396825397
            ],
            [
             17,
             0,
             3.035714285714286
            ],
            [
             165,
             0,
             4.420037503348514
            ],
            [
             307,
             0,
             3.411111111111111
            ],
            [
             243,
             1,
             10.024752475247526
            ],
            [
             81,
             0,
             2.219178082191781
            ],
            [
             301,
             1,
             3.7114673242909992
            ],
            [
             69,
             1,
             4.6
            ],
            [
             1,
             0,
             0.3125
            ],
            [
             32,
             0,
             1.4545454545454546
            ],
            [
             128,
             0,
             2.782608695652174
            ],
            [
             895,
             0,
             15.59233449477352
            ]
           ],
           "geo": "geo",
           "hoverlabel": {
            "namelength": 0
           },
           "hovertemplate": "<b>%{hovertext}</b><br><br>Date=02/05/2020<br>size=%{marker.color}<br>Confirmed=%{customdata[0]}<br>Deaths=%{customdata[1]}<br>Severity=%{customdata[2]}<br>Lat=%{lat}<br>Long=%{lon}",
           "hovertext": [
            "Anhui",
            "Beijing",
            "Chongqing",
            "Fujian",
            "Gansu",
            "Guangdong",
            "Guangxi",
            "Guizhou",
            "Hainan",
            "Hebei",
            "Heilongjiang",
            "Henan",
            "Hubei",
            "Hunan",
            "Inner Mongolia",
            "Jiangsu",
            "Jiangxi",
            "Jilin",
            "Liaoning",
            "Ningxia",
            "Qinghai",
            "Shaanxi",
            "Shandong",
            "Shanghai",
            "Shanxi",
            "Sichuan",
            "Tianjin",
            "Tibet",
            "Xinjiang",
            "Yunnan",
            "Zhejiang"
           ],
           "lat": [
            31.825709999999997,
            40.18238,
            30.05718,
            26.07783,
            36.0611,
            23.33841,
            23.829079999999998,
            26.81536,
            19.19673,
            38.0428,
            47.861999999999995,
            33.882020000000004,
            30.975640000000002,
            27.610409999999998,
            44.09448,
            32.97027,
            27.614009999999997,
            43.66657,
            41.292840000000005,
            37.26923,
            35.65945,
            35.19165,
            36.34377,
            31.20327,
            37.577690000000004,
            30.617140000000003,
            39.293620000000004,
            30.1534,
            41.11981,
            24.97411,
            29.182509999999997
           ],
           "legendgroup": "",
           "lon": [
            117.2264,
            116.4142,
            107.874,
            117.9895,
            103.8343,
            113.42200000000001,
            108.7881,
            106.8748,
            109.7455,
            114.5149,
            127.7622,
            113.61399999999999,
            112.2707,
            111.7088,
            113.9456,
            119.464,
            115.7221,
            126.1917,
            122.6086,
            106.1655,
            96.02564,
            108.8701,
            118.1529,
            121.4554,
            112.2922,
            102.7103,
            117.333,
            88.7879,
            85.17822,
            101.4868,
            120.0985
           ],
           "marker": {
            "color": [
             2.9237624898021717,
             3.4271839169707254,
             3.572459543731888,
             2.305729828382713,
             1.5568457114289402,
             2.8086015296658564,
             1.7608108170274548,
             1.3571022874879535,
             3.2626923376749115,
             1.3443321448446623,
             2.22700260213685,
             2.85090504480035,
             18.334498797454106,
             3.132329611204959,
             1.3037318412468952,
             2.059440101663146,
             3.481938225372434,
             1.4023183385043008,
             1.4238450940801877,
             2.323106841457232,
             1.742330131092924,
             2.102388523405822,
             1.8469193569593425,
             3.1661889512863137,
             1.4896905994842624,
             1.926516889178758,
             2.1447610589527217,
             0.5590169943749475,
             1.2060453783110545,
             1.6681153124565982,
             3.9487130175252694
            ],
            "coloraxis": "coloraxis",
            "size": [
             2.9237624898021717,
             3.4271839169707254,
             3.572459543731888,
             2.305729828382713,
             1.5568457114289402,
             2.8086015296658564,
             1.7608108170274548,
             1.3571022874879535,
             3.2626923376749115,
             1.3443321448446623,
             2.22700260213685,
             2.85090504480035,
             18.334498797454106,
             3.132329611204959,
             1.3037318412468952,
             2.059440101663146,
             3.481938225372434,
             1.4023183385043008,
             1.4238450940801877,
             2.323106841457232,
             1.742330131092924,
             2.102388523405822,
             1.8469193569593425,
             3.1661889512863137,
             1.4896905994842624,
             1.926516889178758,
             2.1447610589527217,
             0.5590169943749475,
             1.2060453783110545,
             1.6681153124565982,
             3.9487130175252694
            ],
            "sizemode": "area",
            "sizeref": 0.08140788407607454
           },
           "name": "",
           "showlegend": false,
           "type": "scattergeo"
          }
         ],
         "name": "02/05/2020"
        },
        {
         "data": [
          {
           "customdata": [
            [
             591,
             0,
             9.53225806451613
            ],
            [
             274,
             1,
             12.720519962859797
            ],
            [
             411,
             2,
             13.484251968503937
            ],
            [
             215,
             0,
             5.575726141078838
            ],
            [
             62,
             0,
             2.4237685691946833
            ],
            [
             970,
             0,
             8.549268464657148
            ],
            [
             168,
             0,
             3.4725093013642
            ],
            [
             71,
             1,
             2.0431654676258995
            ],
            [
             106,
             1,
             11.39784946236559
            ],
            [
             157,
             1,
             2.101740294511379
            ],
            [
             227,
             3,
             5.925345862699034
            ],
            [
             851,
             2,
             9.053191489361701
            ],
            [
             22112,
             618,
             377.982905982906
            ],
            [
             711,
             0,
             10.553658898619563
            ],
            [
             46,
             0,
             1.8615944961554025
            ],
            [
             373,
             0,
             4.6393034825870645
            ],
            [
             600,
             0,
             13.27433628318584
            ],
            [
             59,
             0,
             2.1485797523670795
            ],
            [
             94,
             0,
             2.14123006833713
            ],
            [
             40,
             0,
             6.34920634920635
            ],
            [
             18,
             0,
             3.2142857142857144
            ],
            [
             173,
             0,
             4.6343423519957145
            ],
            [
             347,
             0,
             3.8555555555555556
            ],
            [
             257,
             1,
             10.602310231023104
            ],
            [
             96,
             0,
             2.6301369863013697
            ],
            [
             321,
             1,
             3.958076448828607
            ],
            [
             79,
             1,
             5.266666666666667
            ],
            [
             1,
             0,
             0.3125
            ],
            [
             36,
             0,
             1.6363636363636365
            ],
            [
             133,
             0,
             2.891304347826087
            ],
            [
             954,
             0,
             16.62020905923345
            ]
           ],
           "geo": "geo",
           "hoverlabel": {
            "namelength": 0
           },
           "hovertemplate": "<b>%{hovertext}</b><br><br>Date=02/06/2020<br>size=%{marker.color}<br>Confirmed=%{customdata[0]}<br>Deaths=%{customdata[1]}<br>Severity=%{customdata[2]}<br>Lat=%{lat}<br>Long=%{lon}",
           "hovertext": [
            "Anhui",
            "Beijing",
            "Chongqing",
            "Fujian",
            "Gansu",
            "Guangdong",
            "Guangxi",
            "Guizhou",
            "Hainan",
            "Hebei",
            "Heilongjiang",
            "Henan",
            "Hubei",
            "Hunan",
            "Inner Mongolia",
            "Jiangsu",
            "Jiangxi",
            "Jilin",
            "Liaoning",
            "Ningxia",
            "Qinghai",
            "Shaanxi",
            "Shandong",
            "Shanghai",
            "Shanxi",
            "Sichuan",
            "Tianjin",
            "Tibet",
            "Xinjiang",
            "Yunnan",
            "Zhejiang"
           ],
           "lat": [
            31.825709999999997,
            40.18238,
            30.05718,
            26.07783,
            36.0611,
            23.33841,
            23.829079999999998,
            26.81536,
            19.19673,
            38.0428,
            47.861999999999995,
            33.882020000000004,
            30.975640000000002,
            27.610409999999998,
            44.09448,
            32.97027,
            27.614009999999997,
            43.66657,
            41.292840000000005,
            37.26923,
            35.65945,
            35.19165,
            36.34377,
            31.20327,
            37.577690000000004,
            30.617140000000003,
            39.293620000000004,
            30.1534,
            41.11981,
            24.97411,
            29.182509999999997
           ],
           "legendgroup": "",
           "lon": [
            117.2264,
            116.4142,
            107.874,
            117.9895,
            103.8343,
            113.42200000000001,
            108.7881,
            106.8748,
            109.7455,
            114.5149,
            127.7622,
            113.61399999999999,
            112.2707,
            111.7088,
            113.9456,
            119.464,
            115.7221,
            126.1917,
            122.6086,
            106.1655,
            96.02564,
            108.8701,
            118.1529,
            121.4554,
            112.2922,
            102.7103,
            117.333,
            88.7879,
            85.17822,
            101.4868,
            120.0985
           ],
           "marker": {
            "color": [
             3.087435515847437,
             3.566583794453706,
             3.6720909531905574,
             2.361297554540477,
             1.5568457114289402,
             2.923913210862653,
             1.8634670110748406,
             1.4293933914867172,
             3.3760701210676283,
             1.4497380089213978,
             2.434203332242201,
             3.008852188021489,
             19.441782479569767,
             3.2486395458129183,
             1.3644026151233375,
             2.1539042417403484,
             3.6433962566794516,
             1.4658034494321124,
             1.463294252136982,
             2.519763153394848,
             1.7928429140015905,
             2.1527522737174647,
             1.9635568633364189,
             3.2561188907997667,
             1.6217697081587663,
             1.9894915050908377,
             2.2949219304078006,
             0.5590169943749475,
             1.2792042981336627,
             1.7003835884370582,
             4.076789062391314
            ],
            "coloraxis": "coloraxis",
            "size": [
             3.087435515847437,
             3.566583794453706,
             3.6720909531905574,
             2.361297554540477,
             1.5568457114289402,
             2.923913210862653,
             1.8634670110748406,
             1.4293933914867172,
             3.3760701210676283,
             1.4497380089213978,
             2.434203332242201,
             3.008852188021489,
             19.441782479569767,
             3.2486395458129183,
             1.3644026151233375,
             2.1539042417403484,
             3.6433962566794516,
             1.4658034494321124,
             1.463294252136982,
             2.519763153394848,
             1.7928429140015905,
             2.1527522737174647,
             1.9635568633364189,
             3.2561188907997667,
             1.6217697081587663,
             1.9894915050908377,
             2.2949219304078006,
             0.5590169943749475,
             1.2792042981336627,
             1.7003835884370582,
             4.076789062391314
            ],
            "sizemode": "area",
            "sizeref": 0.08140788407607454
           },
           "name": "",
           "showlegend": false,
           "type": "scattergeo"
          }
         ],
         "name": "02/06/2020"
        },
        {
         "data": [
          {
           "customdata": [
            [
             665,
             0,
             10.725806451612904
            ],
            [
             297,
             1,
             13.788300835654598
            ],
            [
             426,
             2,
             13.976377952755906
            ],
            [
             224,
             0,
             5.809128630705394
            ],
            [
             67,
             0,
             2.6192337763878033
            ],
            [
             1034,
             1,
             9.113343909747929
            ],
            [
             172,
             0,
             3.5551880942538236
            ],
            [
             81,
             1,
             2.3309352517985613
            ],
            [
             117,
             2,
             12.580645161290322
            ],
            [
             172,
             1,
             2.3025435073627842
            ],
            [
             277,
             3,
             7.230488123205429
            ],
            [
             914,
             3,
             9.72340425531915
            ],
            [
             24953,
             699,
             426.54700854700855
            ],
            [
             772,
             0,
             11.459106427193111
            ],
            [
             50,
             0,
             2.0234722784297854
            ],
            [
             408,
             0,
             5.074626865671641
            ],
            [
             661,
             0,
             14.623893805309734
            ],
            [
             65,
             1,
             2.3670793882010197
            ],
            [
             99,
             0,
             2.255125284738041
            ],
            [
             43,
             0,
             6.825396825396826
            ],
            [
             18,
             0,
             3.2142857142857144
            ],
            [
             184,
             0,
             4.929011518885615
            ],
            [
             386,
             0,
             4.288888888888889
            ],
            [
             277,
             1,
             11.427392739273929
            ],
            [
             104,
             0,
             2.8493150684931505
            ],
            [
             344,
             1,
             4.241676942046856
            ],
            [
             81,
             1,
             5.4
            ],
            [
             1,
             0,
             0.3125
            ],
            [
             39,
             0,
             1.7727272727272727
            ],
            [
             138,
             0,
             3
            ],
            [
             1006,
             0,
             17.526132404181187
            ]
           ],
           "geo": "geo",
           "hoverlabel": {
            "namelength": 0
           },
           "hovertemplate": "<b>%{hovertext}</b><br><br>Date=02/07/2020<br>size=%{marker.color}<br>Confirmed=%{customdata[0]}<br>Deaths=%{customdata[1]}<br>Severity=%{customdata[2]}<br>Lat=%{lat}<br>Long=%{lon}",
           "hovertext": [
            "Anhui",
            "Beijing",
            "Chongqing",
            "Fujian",
            "Gansu",
            "Guangdong",
            "Guangxi",
            "Guizhou",
            "Hainan",
            "Hebei",
            "Heilongjiang",
            "Henan",
            "Hubei",
            "Hunan",
            "Inner Mongolia",
            "Jiangsu",
            "Jiangxi",
            "Jilin",
            "Liaoning",
            "Ningxia",
            "Qinghai",
            "Shaanxi",
            "Shandong",
            "Shanghai",
            "Shanxi",
            "Sichuan",
            "Tianjin",
            "Tibet",
            "Xinjiang",
            "Yunnan",
            "Zhejiang"
           ],
           "lat": [
            31.825709999999997,
            40.18238,
            30.05718,
            26.07783,
            36.0611,
            23.33841,
            23.829079999999998,
            26.81536,
            19.19673,
            38.0428,
            47.861999999999995,
            33.882020000000004,
            30.975640000000002,
            27.610409999999998,
            44.09448,
            32.97027,
            27.614009999999997,
            43.66657,
            41.292840000000005,
            37.26923,
            35.65945,
            35.19165,
            36.34377,
            31.20327,
            37.577690000000004,
            30.617140000000003,
            39.293620000000004,
            30.1534,
            41.11981,
            24.97411,
            29.182509999999997
           ],
           "legendgroup": "",
           "lon": [
            117.2264,
            116.4142,
            107.874,
            117.9895,
            103.8343,
            113.42200000000001,
            108.7881,
            106.8748,
            109.7455,
            114.5149,
            127.7622,
            113.61399999999999,
            112.2707,
            111.7088,
            113.9456,
            119.464,
            115.7221,
            126.1917,
            122.6086,
            106.1655,
            96.02564,
            108.8701,
            118.1529,
            121.4554,
            112.2922,
            102.7103,
            117.333,
            88.7879,
            85.17822,
            101.4868,
            120.0985
           ],
           "marker": {
            "color": [
             3.275027702419157,
             3.7132601357371393,
             3.738499425271576,
             2.4102133994120507,
             1.6184047010521823,
             3.018831547096977,
             1.8855206427546276,
             1.5267400734239478,
             3.5469205180396024,
             1.5174134266450867,
             2.688956697904492,
             3.118237363530741,
             20.653014514762937,
             3.385130193536596,
             1.4224880591519162,
             2.252693247131451,
             3.824120004041418,
             1.5385315688022199,
             1.5017074564435116,
             2.61254604273242,
             1.7928429140015905,
             2.2201377252066177,
             2.070963275601209,
             3.3804426839208395,
             1.6879914302191081,
             2.0595331854687013,
             2.32379000772445,
             0.5590169943749475,
             1.3314380468978917,
             1.7320508075688772,
             4.186422387215746
            ],
            "coloraxis": "coloraxis",
            "size": [
             3.275027702419157,
             3.7132601357371393,
             3.738499425271576,
             2.4102133994120507,
             1.6184047010521823,
             3.018831547096977,
             1.8855206427546276,
             1.5267400734239478,
             3.5469205180396024,
             1.5174134266450867,
             2.688956697904492,
             3.118237363530741,
             20.653014514762937,
             3.385130193536596,
             1.4224880591519162,
             2.252693247131451,
             3.824120004041418,
             1.5385315688022199,
             1.5017074564435116,
             2.61254604273242,
             1.7928429140015905,
             2.2201377252066177,
             2.070963275601209,
             3.3804426839208395,
             1.6879914302191081,
             2.0595331854687013,
             2.32379000772445,
             0.5590169943749475,
             1.3314380468978917,
             1.7320508075688772,
             4.186422387215746
            ],
            "sizemode": "area",
            "sizeref": 0.08140788407607454
           },
           "name": "",
           "showlegend": false,
           "type": "scattergeo"
          }
         ],
         "name": "02/07/2020"
        },
        {
         "data": [
          {
           "customdata": [
            [
             733,
             0,
             11.82258064516129
            ],
            [
             315,
             2,
             14.623955431754876
            ],
            [
             428,
             2,
             14.041994750656167
            ],
            [
             239,
             0,
             6.198132780082987
            ],
            [
             79,
             1,
             3.0883502736512902
            ],
            [
             1095,
             1,
             9.650978318350079
            ],
            [
             183,
             0,
             3.782554774700289
            ],
            [
             89,
             1,
             2.5611510791366907
            ],
            [
             124,
             2,
             13.333333333333332
            ],
            [
             195,
             1,
             2.610441767068273
            ],
            [
             295,
             5,
             7.7003393369877315
            ],
            [
             981,
             4,
             10.436170212765957
            ],
            [
             27100,
             780,
             463.2478632478632
            ],
            [
             803,
             1,
             11.919251892533769
            ],
            [
             52,
             0,
             2.1044111695669767
            ],
            [
             439,
             0,
             5.460199004975124
            ],
            [
             698,
             0,
             15.442477876106194
            ],
            [
             69,
             1,
             2.512745812090313
            ],
            [
             105,
             0,
             2.3917995444191344
            ],
            [
             45,
             0,
             7.142857142857143
            ],
            [
             18,
             0,
             3.2142857142857144
            ],
            [
             195,
             0,
             5.223680685775516
            ],
            [
             416,
             0,
             4.622222222222222
            ],
            [
             286,
             1,
             11.798679867986799
            ],
            [
             115,
             0,
             3.1506849315068495
            ],
            [
             364,
             1,
             4.488286066584464
            ],
            [
             88,
             1,
             5.866666666666666
            ],
            [
             1,
             0,
             0.3125
            ],
            [
             42,
             0,
             1.9090909090909092
            ],
            [
             138,
             0,
             3
            ],
            [
             1048,
             0,
             18.257839721254356
            ]
           ],
           "geo": "geo",
           "hoverlabel": {
            "namelength": 0
           },
           "hovertemplate": "<b>%{hovertext}</b><br><br>Date=02/08/2020<br>size=%{marker.color}<br>Confirmed=%{customdata[0]}<br>Deaths=%{customdata[1]}<br>Severity=%{customdata[2]}<br>Lat=%{lat}<br>Long=%{lon}",
           "hovertext": [
            "Anhui",
            "Beijing",
            "Chongqing",
            "Fujian",
            "Gansu",
            "Guangdong",
            "Guangxi",
            "Guizhou",
            "Hainan",
            "Hebei",
            "Heilongjiang",
            "Henan",
            "Hubei",
            "Hunan",
            "Inner Mongolia",
            "Jiangsu",
            "Jiangxi",
            "Jilin",
            "Liaoning",
            "Ningxia",
            "Qinghai",
            "Shaanxi",
            "Shandong",
            "Shanghai",
            "Shanxi",
            "Sichuan",
            "Tianjin",
            "Tibet",
            "Xinjiang",
            "Yunnan",
            "Zhejiang"
           ],
           "lat": [
            31.825709999999997,
            40.18238,
            30.05718,
            26.07783,
            36.0611,
            23.33841,
            23.829079999999998,
            26.81536,
            19.19673,
            38.0428,
            47.861999999999995,
            33.882020000000004,
            30.975640000000002,
            27.610409999999998,
            44.09448,
            32.97027,
            27.614009999999997,
            43.66657,
            41.292840000000005,
            37.26923,
            35.65945,
            35.19165,
            36.34377,
            31.20327,
            37.577690000000004,
            30.617140000000003,
            39.293620000000004,
            30.1534,
            41.11981,
            24.97411,
            29.182509999999997
           ],
           "legendgroup": "",
           "lon": [
            117.2264,
            116.4142,
            107.874,
            117.9895,
            103.8343,
            113.42200000000001,
            108.7881,
            106.8748,
            109.7455,
            114.5149,
            127.7622,
            113.61399999999999,
            112.2707,
            111.7088,
            113.9456,
            119.464,
            115.7221,
            126.1917,
            122.6086,
            106.1655,
            96.02564,
            108.8701,
            118.1529,
            121.4554,
            112.2922,
            102.7103,
            117.333,
            88.7879,
            85.17822,
            101.4868,
            120.0985
           ],
           "marker": {
            "color": [
             3.4383979765526402,
             3.824128061631158,
             3.7472649693684814,
             2.489604944581165,
             1.7573702722110927,
             3.106602375321,
             1.94487911570367,
             1.6003596718040263,
             3.651483716701107,
             1.6156861598306378,
             2.7749485287096283,
             3.2305061852232937,
             21.523193611726473,
             3.4524269568716104,
             1.4506588742936697,
             2.336706871855159,
             3.929691829661226,
             1.585164285520688,
             1.5465443881179533,
             2.6726124191242437,
             1.7928429140015905,
             2.285537286017342,
             2.1499353995462798,
             3.434920649445457,
             1.7750168820343228,
             2.1185575438454496,
             2.422120283277993,
             0.5590169943749475,
             1.381698559415515,
             1.7320508075688772,
             4.272919344108236
            ],
            "coloraxis": "coloraxis",
            "size": [
             3.4383979765526402,
             3.824128061631158,
             3.7472649693684814,
             2.489604944581165,
             1.7573702722110927,
             3.106602375321,
             1.94487911570367,
             1.6003596718040263,
             3.651483716701107,
             1.6156861598306378,
             2.7749485287096283,
             3.2305061852232937,
             21.523193611726473,
             3.4524269568716104,
             1.4506588742936697,
             2.336706871855159,
             3.929691829661226,
             1.585164285520688,
             1.5465443881179533,
             2.6726124191242437,
             1.7928429140015905,
             2.285537286017342,
             2.1499353995462798,
             3.434920649445457,
             1.7750168820343228,
             2.1185575438454496,
             2.422120283277993,
             0.5590169943749475,
             1.381698559415515,
             1.7320508075688772,
             4.272919344108236
            ],
            "sizemode": "area",
            "sizeref": 0.08140788407607454
           },
           "name": "",
           "showlegend": false,
           "type": "scattergeo"
          }
         ],
         "name": "02/08/2020"
        },
        {
         "data": [
          {
           "customdata": [
            [
             779,
             1,
             12.564516129032258
            ],
            [
             326,
             2,
             15.134633240482824
            ],
            [
             468,
             2,
             15.354330708661417
            ],
            [
             250,
             0,
             6.483402489626556
            ],
            [
             83,
             2,
             3.244722439405786
            ],
            [
             1131,
             1,
             9.968270756213645
            ],
            [
             195,
             1,
             4.03059115336916
            ],
            [
             99,
             1,
             2.8489208633093526
            ],
            [
             131,
             3,
             14.086021505376342
            ],
            [
             206,
             2,
             2.7576974564926373
            ],
            [
             307,
             6,
             8.013573479509265
            ],
            [
             1033,
             6,
             10.98936170212766
            ],
            [
             29631,
             871,
             506.5128205128205
            ],
            [
             838,
             1,
             12.438770966305476
            ],
            [
             54,
             0,
             2.1853500607041685
            ],
            [
             468,
             0,
             5.820895522388059
            ],
            [
             740,
             0,
             16.371681415929203
            ],
            [
             78,
             1,
             2.8404952658412235
            ],
            [
             107,
             0,
             2.437357630979499
            ],
            [
             45,
             0,
             7.142857142857143
            ],
            [
             18,
             0,
             3.2142857142857144
            ],
            [
             208,
             0,
             5.571926064827217
            ],
            [
             444,
             1,
             4.933333333333334
            ],
            [
             293,
             1,
             12.087458745874589
            ],
            [
             119,
             0,
             3.26027397260274
            ],
            [
             386,
             1,
             4.759556103575832
            ],
            [
             91,
             1,
             6.066666666666666
            ],
            [
             1,
             0,
             0.3125
            ],
            [
             45,
             0,
             2.0454545454545454
            ],
            [
             141,
             0,
             3.0652173913043477
            ],
            [
             1075,
             0,
             18.72822299651568
            ]
           ],
           "geo": "geo",
           "hoverlabel": {
            "namelength": 0
           },
           "hovertemplate": "<b>%{hovertext}</b><br><br>Date=02/09/2020<br>size=%{marker.color}<br>Confirmed=%{customdata[0]}<br>Deaths=%{customdata[1]}<br>Severity=%{customdata[2]}<br>Lat=%{lat}<br>Long=%{lon}",
           "hovertext": [
            "Anhui",
            "Beijing",
            "Chongqing",
            "Fujian",
            "Gansu",
            "Guangdong",
            "Guangxi",
            "Guizhou",
            "Hainan",
            "Hebei",
            "Heilongjiang",
            "Henan",
            "Hubei",
            "Hunan",
            "Inner Mongolia",
            "Jiangsu",
            "Jiangxi",
            "Jilin",
            "Liaoning",
            "Ningxia",
            "Qinghai",
            "Shaanxi",
            "Shandong",
            "Shanghai",
            "Shanxi",
            "Sichuan",
            "Tianjin",
            "Tibet",
            "Xinjiang",
            "Yunnan",
            "Zhejiang"
           ],
           "lat": [
            31.825709999999997,
            40.18238,
            30.05718,
            26.07783,
            36.0611,
            23.33841,
            23.829079999999998,
            26.81536,
            19.19673,
            38.0428,
            47.861999999999995,
            33.882020000000004,
            30.975640000000002,
            27.610409999999998,
            44.09448,
            32.97027,
            27.614009999999997,
            43.66657,
            41.292840000000005,
            37.26923,
            35.65945,
            35.19165,
            36.34377,
            31.20327,
            37.577690000000004,
            30.617140000000003,
            39.293620000000004,
            30.1534,
            41.11981,
            24.97411,
            29.182509999999997
           ],
           "legendgroup": "",
           "lon": [
            117.2264,
            116.4142,
            107.874,
            117.9895,
            103.8343,
            113.42200000000001,
            108.7881,
            106.8748,
            109.7455,
            114.5149,
            127.7622,
            113.61399999999999,
            112.2707,
            111.7088,
            113.9456,
            119.464,
            115.7221,
            126.1917,
            122.6086,
            106.1655,
            96.02564,
            108.8701,
            118.1529,
            121.4554,
            112.2922,
            102.7103,
            117.333,
            88.7879,
            85.17822,
            101.4868,
            120.0985
           ],
           "marker": {
            "color": [
             3.5446461218339214,
             3.8903255956902663,
             3.9184602471712555,
             2.5462526366459706,
             1.8013113110747365,
             3.157256840393832,
             2.0076332218234385,
             1.6878746586489628,
             3.7531348903784876,
             1.660631643830936,
             2.8308255826718227,
             3.3150206186579987,
             22.50583969801661,
             3.526864183138539,
             1.4782929549666968,
             2.4126532122101714,
             4.04619344766525,
             1.6853768913335745,
             1.5612039043569865,
             2.6726124191242437,
             1.7928429140015905,
             2.3604927589016698,
             2.2211108331943574,
             3.476702280304511,
             1.8056228766281015,
             2.1816406907590977,
             2.463060426921489,
             0.5590169943749475,
             1.4301938838683885,
             1.7507762253652943,
             4.3276116965961355
            ],
            "coloraxis": "coloraxis",
            "size": [
             3.5446461218339214,
             3.8903255956902663,
             3.9184602471712555,
             2.5462526366459706,
             1.8013113110747365,
             3.157256840393832,
             2.0076332218234385,
             1.6878746586489628,
             3.7531348903784876,
             1.660631643830936,
             2.8308255826718227,
             3.3150206186579987,
             22.50583969801661,
             3.526864183138539,
             1.4782929549666968,
             2.4126532122101714,
             4.04619344766525,
             1.6853768913335745,
             1.5612039043569865,
             2.6726124191242437,
             1.7928429140015905,
             2.3604927589016698,
             2.2211108331943574,
             3.476702280304511,
             1.8056228766281015,
             2.1816406907590977,
             2.463060426921489,
             0.5590169943749475,
             1.4301938838683885,
             1.7507762253652943,
             4.3276116965961355
            ],
            "sizemode": "area",
            "sizeref": 0.08140788407607454
           },
           "name": "",
           "showlegend": false,
           "type": "scattergeo"
          }
         ],
         "name": "02/09/2020"
        },
        {
         "data": [
          {
           "customdata": [
            [
             830,
             3,
             13.387096774193548
            ],
            [
             337,
             2,
             15.645311049210772
            ],
            [
             486,
             2,
             15.94488188976378
            ],
            [
             261,
             0,
             6.768672199170124
            ],
            [
             83,
             2,
             3.244722439405786
            ],
            [
             1159,
             1,
             10.21505376344086
            ],
            [
             210,
             1,
             4.34063662670525
            ],
            [
             109,
             1,
             3.1366906474820144
            ],
            [
             138,
             3,
             14.838709677419354
            ],
            [
             218,
             2,
             2.9183400267737616
            ],
            [
             331,
             7,
             8.640041764552336
            ],
            [
             1073,
             6,
             11.414893617021276
            ],
            [
             31728,
             974,
             542.3589743589744
            ],
            [
             879,
             1,
             13.047350452723764
            ],
            [
             58,
             0,
             2.347227842978551
            ],
            [
             492,
             0,
             6.119402985074626
            ],
            [
             771,
             1,
             17.057522123893804
            ],
            [
             80,
             1,
             2.9133284777858703
            ],
            [
             108,
             0,
             2.4601366742596813
            ],
            [
             49,
             0,
             7.777777777777778
            ],
            [
             18,
             0,
             3.2142857142857144
            ],
            [
             213,
             0,
             5.705866595231718
            ],
            [
             466,
             1,
             5.177777777777778
            ],
            [
             299,
             1,
             12.334983498349835
            ],
            [
             119,
             0,
             3.26027397260274
            ],
            [
             405,
             1,
             4.9938347718865606
            ],
            [
             95,
             1,
             6.333333333333333
            ],
            [
             1,
             0,
             0.3125
            ],
            [
             49,
             0,
             2.227272727272727
            ],
            [
             149,
             0,
             3.239130434782609
            ],
            [
             1092,
             0,
             19.024390243902438
            ]
           ],
           "geo": "geo",
           "hoverlabel": {
            "namelength": 0
           },
           "hovertemplate": "<b>%{hovertext}</b><br><br>Date=02/10/2020<br>size=%{marker.color}<br>Confirmed=%{customdata[0]}<br>Deaths=%{customdata[1]}<br>Severity=%{customdata[2]}<br>Lat=%{lat}<br>Long=%{lon}",
           "hovertext": [
            "Anhui",
            "Beijing",
            "Chongqing",
            "Fujian",
            "Gansu",
            "Guangdong",
            "Guangxi",
            "Guizhou",
            "Hainan",
            "Hebei",
            "Heilongjiang",
            "Henan",
            "Hubei",
            "Hunan",
            "Inner Mongolia",
            "Jiangsu",
            "Jiangxi",
            "Jilin",
            "Liaoning",
            "Ningxia",
            "Qinghai",
            "Shaanxi",
            "Shandong",
            "Shanghai",
            "Shanxi",
            "Sichuan",
            "Tianjin",
            "Tibet",
            "Xinjiang",
            "Yunnan",
            "Zhejiang"
           ],
           "lat": [
            31.825709999999997,
            40.18238,
            30.05718,
            26.07783,
            36.0611,
            23.33841,
            23.829079999999998,
            26.81536,
            19.19673,
            38.0428,
            47.861999999999995,
            33.882020000000004,
            30.975640000000002,
            27.610409999999998,
            44.09448,
            32.97027,
            27.614009999999997,
            43.66657,
            41.292840000000005,
            37.26923,
            35.65945,
            35.19165,
            36.34377,
            31.20327,
            37.577690000000004,
            30.617140000000003,
            39.293620000000004,
            30.1534,
            41.11981,
            24.97411,
            29.182509999999997
           ],
           "legendgroup": "",
           "lon": [
            117.2264,
            116.4142,
            107.874,
            117.9895,
            103.8343,
            113.42200000000001,
            108.7881,
            106.8748,
            109.7455,
            114.5149,
            127.7622,
            113.61399999999999,
            112.2707,
            111.7088,
            113.9456,
            119.464,
            115.7221,
            126.1917,
            122.6086,
            106.1655,
            96.02564,
            108.8701,
            118.1529,
            121.4554,
            112.2922,
            102.7103,
            117.333,
            88.7879,
            85.17822,
            101.4868,
            120.0985
           ],
           "marker": {
            "color": [
             3.6588381727255372,
             3.9554154079199786,
             3.993104292372512,
             2.6016671960821824,
             1.8013113110747365,
             3.1960997736993226,
             2.0834194552958487,
             1.7710704806647346,
             3.8521045776846914,
             1.708314967087089,
             2.9393947956258506,
             3.3785934376632647,
             23.288601812023288,
             3.612111633480306,
             1.5320665269427927,
             2.4737427079376357,
             4.130075316975927,
             1.7068475262266019,
             1.5684822836932781,
             2.788866755113585,
             1.7928429140015905,
             2.3886955844627247,
             2.2754730887834684,
             3.5121195165241508,
             1.8056228766281015,
             2.234688965356602,
             2.516611478423583,
             0.5590169943749475,
             1.4924050144892729,
             1.7997584378973221,
             4.361695799101817
            ],
            "coloraxis": "coloraxis",
            "size": [
             3.6588381727255372,
             3.9554154079199786,
             3.993104292372512,
             2.6016671960821824,
             1.8013113110747365,
             3.1960997736993226,
             2.0834194552958487,
             1.7710704806647346,
             3.8521045776846914,
             1.708314967087089,
             2.9393947956258506,
             3.3785934376632647,
             23.288601812023288,
             3.612111633480306,
             1.5320665269427927,
             2.4737427079376357,
             4.130075316975927,
             1.7068475262266019,
             1.5684822836932781,
             2.788866755113585,
             1.7928429140015905,
             2.3886955844627247,
             2.2754730887834684,
             3.5121195165241508,
             1.8056228766281015,
             2.234688965356602,
             2.516611478423583,
             0.5590169943749475,
             1.4924050144892729,
             1.7997584378973221,
             4.361695799101817
            ],
            "sizemode": "area",
            "sizeref": 0.08140788407607454
           },
           "name": "",
           "showlegend": false,
           "type": "scattergeo"
          }
         ],
         "name": "02/10/2020"
        },
        {
         "data": [
          {
           "customdata": [
            [
             860,
             4,
             13.870967741935484
            ],
            [
             342,
             3,
             15.877437325905293
            ],
            [
             505,
             3,
             16.56824146981627
            ],
            [
             267,
             0,
             6.924273858921161
            ],
            [
             86,
             2,
             3.3620015637216576
            ],
            [
             1177,
             1,
             10.373699982372642
            ],
            [
             215,
             1,
             4.44398511781728
            ],
            [
             127,
             1,
             3.6546762589928057
            ],
            [
             144,
             3,
             15.483870967741934
            ],
            [
             239,
             2,
             3.1994645247657294
            ],
            [
             360,
             8,
             9.397024275646045
            ],
            [
             1105,
             7,
             11.75531914893617
            ],
            [
             33366,
             1068,
             570.3589743589744
            ],
            [
             912,
             1,
             13.537182722279946
            ],
            [
             58,
             0,
             2.347227842978551
            ],
            [
             515,
             0,
             6.40547263681592
            ],
            [
             804,
             1,
             17.787610619469024
            ],
            [
             81,
             1,
             2.9497450837581938
            ],
            [
             111,
             0,
             2.5284738041002277
            ],
            [
             53,
             0,
             8.412698412698413
            ],
            [
             18,
             0,
             3.2142857142857144
            ],
            [
             219,
             0,
             5.866595231717118
            ],
            [
             487,
             1,
             5.411111111111111
            ],
            [
             303,
             1,
             12.5
            ],
            [
             124,
             0,
             3.3972602739726026
            ],
            [
             417,
             1,
             5.141800246609125
            ],
            [
             106,
             2,
             7.066666666666666
            ],
            [
             1,
             0,
             0.3125
            ],
            [
             55,
             0,
             2.5
            ],
            [
             153,
             0,
             3.3260869565217392
            ],
            [
             1117,
             0,
             19.45993031358885
            ]
           ],
           "geo": "geo",
           "hoverlabel": {
            "namelength": 0
           },
           "hovertemplate": "<b>%{hovertext}</b><br><br>Date=02/11/2020<br>size=%{marker.color}<br>Confirmed=%{customdata[0]}<br>Deaths=%{customdata[1]}<br>Severity=%{customdata[2]}<br>Lat=%{lat}<br>Long=%{lon}",
           "hovertext": [
            "Anhui",
            "Beijing",
            "Chongqing",
            "Fujian",
            "Gansu",
            "Guangdong",
            "Guangxi",
            "Guizhou",
            "Hainan",
            "Hebei",
            "Heilongjiang",
            "Henan",
            "Hubei",
            "Hunan",
            "Inner Mongolia",
            "Jiangsu",
            "Jiangxi",
            "Jilin",
            "Liaoning",
            "Ningxia",
            "Qinghai",
            "Shaanxi",
            "Shandong",
            "Shanghai",
            "Shanxi",
            "Sichuan",
            "Tianjin",
            "Tibet",
            "Xinjiang",
            "Yunnan",
            "Zhejiang"
           ],
           "lat": [
            31.825709999999997,
            40.18238,
            30.05718,
            26.07783,
            36.0611,
            23.33841,
            23.829079999999998,
            26.81536,
            19.19673,
            38.0428,
            47.861999999999995,
            33.882020000000004,
            30.975640000000002,
            27.610409999999998,
            44.09448,
            32.97027,
            27.614009999999997,
            43.66657,
            41.292840000000005,
            37.26923,
            35.65945,
            35.19165,
            36.34377,
            31.20327,
            37.577690000000004,
            30.617140000000003,
            39.293620000000004,
            30.1534,
            41.11981,
            24.97411,
            29.182509999999997
           ],
           "legendgroup": "",
           "lon": [
            117.2264,
            116.4142,
            107.874,
            117.9895,
            103.8343,
            113.42200000000001,
            108.7881,
            106.8748,
            109.7455,
            114.5149,
            127.7622,
            113.61399999999999,
            112.2707,
            111.7088,
            113.9456,
            119.464,
            115.7221,
            126.1917,
            122.6086,
            106.1655,
            96.02564,
            108.8701,
            118.1529,
            121.4554,
            112.2922,
            102.7103,
            117.333,
            88.7879,
            85.17822,
            101.4868,
            120.0985
           ],
           "marker": {
            "color": [
             3.72437481222493,
             3.9846502137459057,
             4.070410479278014,
             2.631401500896654,
             1.8335761679629394,
             3.220822873486315,
             2.108076165089222,
             1.9117207586341698,
             3.934955014703718,
             1.7887047058600056,
             3.065456617805257,
             3.4286030900260487,
             23.882189480007362,
             3.6792910624575415,
             1.5320665269427927,
             2.5309035218308735,
             4.2175360839557765,
             1.7174821931415165,
             1.5901175441143425,
             2.9004652062554404,
             1.7928429140015905,
             2.422105536866038,
             2.3261795096490534,
             3.5355339059327378,
             1.8431658292114148,
             2.2675538023626087,
             2.6583202716502514,
             0.5590169943749475,
             1.5811388300841898,
             1.8237562766229864,
             4.4113411014779675
            ],
            "coloraxis": "coloraxis",
            "size": [
             3.72437481222493,
             3.9846502137459057,
             4.070410479278014,
             2.631401500896654,
             1.8335761679629394,
             3.220822873486315,
             2.108076165089222,
             1.9117207586341698,
             3.934955014703718,
             1.7887047058600056,
             3.065456617805257,
             3.4286030900260487,
             23.882189480007362,
             3.6792910624575415,
             1.5320665269427927,
             2.5309035218308735,
             4.2175360839557765,
             1.7174821931415165,
             1.5901175441143425,
             2.9004652062554404,
             1.7928429140015905,
             2.422105536866038,
             2.3261795096490534,
             3.5355339059327378,
             1.8431658292114148,
             2.2675538023626087,
             2.6583202716502514,
             0.5590169943749475,
             1.5811388300841898,
             1.8237562766229864,
             4.4113411014779675
            ],
            "sizemode": "area",
            "sizeref": 0.08140788407607454
           },
           "name": "",
           "showlegend": false,
           "type": "scattergeo"
          }
         ],
         "name": "02/11/2020"
        },
        {
         "data": [
          {
           "customdata": [
            [
             889,
             4,
             14.338709677419354
            ],
            [
             352,
             3,
             16.341689879294336
            ],
            [
             518,
             3,
             16.99475065616798
            ],
            [
             272,
             0,
             7.053941908713693
            ],
            [
             87,
             2,
             3.4010946051602815
            ],
            [
             1219,
             1,
             10.743874493213468
            ],
            [
             222,
             1,
             4.588673005374122
            ],
            [
             133,
             1,
             3.827338129496403
            ],
            [
             157,
             4,
             16.881720430107524
            ],
            [
             251,
             2,
             3.360107095046854
            ],
            [
             378,
             8,
             9.866875489428347
            ],
            [
             1135,
             8,
             12.074468085106384
            ],
            [
             33366,
             1068,
             570.3589743589744
            ],
            [
             946,
             2,
             14.04185839394389
            ],
            [
             60,
             0,
             2.4281667341157425
            ],
            [
             543,
             0,
             6.753731343283581
            ],
            [
             844,
             1,
             18.672566371681416
            ],
            [
             83,
             1,
             3.02257829570284
            ],
            [
             116,
             1,
             2.642369020501139
            ],
            [
             58,
             0,
             9.206349206349207
            ],
            [
             18,
             0,
             3.2142857142857144
            ],
            [
             225,
             0,
             6.027323868202519
            ],
            [
             497,
             2,
             5.522222222222222
            ],
            [
             311,
             1,
             12.830033003300331
            ],
            [
             126,
             0,
             3.452054794520548
            ],
            [
             436,
             1,
             5.3760789149198525
            ],
            [
             112,
             2,
             7.466666666666667
            ],
            [
             1,
             0,
             0.3125
            ],
            [
             59,
             0,
             2.6818181818181817
            ],
            [
             154,
             0,
             3.347826086956522
            ],
            [
             1131,
             0,
             19.70383275261324
            ]
           ],
           "geo": "geo",
           "hoverlabel": {
            "namelength": 0
           },
           "hovertemplate": "<b>%{hovertext}</b><br><br>Date=02/12/2020<br>size=%{marker.color}<br>Confirmed=%{customdata[0]}<br>Deaths=%{customdata[1]}<br>Severity=%{customdata[2]}<br>Lat=%{lat}<br>Long=%{lon}",
           "hovertext": [
            "Anhui",
            "Beijing",
            "Chongqing",
            "Fujian",
            "Gansu",
            "Guangdong",
            "Guangxi",
            "Guizhou",
            "Hainan",
            "Hebei",
            "Heilongjiang",
            "Henan",
            "Hubei",
            "Hunan",
            "Inner Mongolia",
            "Jiangsu",
            "Jiangxi",
            "Jilin",
            "Liaoning",
            "Ningxia",
            "Qinghai",
            "Shaanxi",
            "Shandong",
            "Shanghai",
            "Shanxi",
            "Sichuan",
            "Tianjin",
            "Tibet",
            "Xinjiang",
            "Yunnan",
            "Zhejiang"
           ],
           "lat": [
            31.825709999999997,
            40.18238,
            30.05718,
            26.07783,
            36.0611,
            23.33841,
            23.829079999999998,
            26.81536,
            19.19673,
            38.0428,
            47.861999999999995,
            33.882020000000004,
            30.975640000000002,
            27.610409999999998,
            44.09448,
            32.97027,
            27.614009999999997,
            43.66657,
            41.292840000000005,
            37.26923,
            35.65945,
            35.19165,
            36.34377,
            31.20327,
            37.577690000000004,
            30.617140000000003,
            39.293620000000004,
            30.1534,
            41.11981,
            24.97411,
            29.182509999999997
           ],
           "legendgroup": "",
           "lon": [
            117.2264,
            116.4142,
            107.874,
            117.9895,
            103.8343,
            113.42200000000001,
            108.7881,
            106.8748,
            109.7455,
            114.5149,
            127.7622,
            113.61399999999999,
            112.2707,
            111.7088,
            113.9456,
            119.464,
            115.7221,
            126.1917,
            122.6086,
            106.1655,
            96.02564,
            108.8701,
            118.1529,
            121.4554,
            112.2922,
            102.7103,
            117.333,
            88.7879,
            85.17822,
            101.4868,
            120.0985
           ],
           "marker": {
            "color": [
             3.7866488716831608,
             4.042485606566131,
             4.122469000025104,
             2.6559258100921594,
             1.8442056840711345,
             3.2777849980151945,
             2.142118812151679,
             1.9563583847282182,
             4.108737084568387,
             1.8330594903185369,
             3.1411583037835498,
             3.474833533438168,
             23.882189480007362,
             3.7472467751595824,
             1.5582575955584952,
             2.598794209490929,
             4.321176503185378,
             1.7385563826643184,
             1.6255365331179545,
             3.0341966327759984,
             1.7928429140015905,
             2.455060868533104,
             2.3499408976019422,
             3.581903544667323,
             1.857970611855997,
             2.318637296974206,
             2.7325202042558927,
             0.5590169943749475,
             1.6376257758774382,
             1.8297065576087663,
             4.438899948479718
            ],
            "coloraxis": "coloraxis",
            "size": [
             3.7866488716831608,
             4.042485606566131,
             4.122469000025104,
             2.6559258100921594,
             1.8442056840711345,
             3.2777849980151945,
             2.142118812151679,
             1.9563583847282182,
             4.108737084568387,
             1.8330594903185369,
             3.1411583037835498,
             3.474833533438168,
             23.882189480007362,
             3.7472467751595824,
             1.5582575955584952,
             2.598794209490929,
             4.321176503185378,
             1.7385563826643184,
             1.6255365331179545,
             3.0341966327759984,
             1.7928429140015905,
             2.455060868533104,
             2.3499408976019422,
             3.581903544667323,
             1.857970611855997,
             2.318637296974206,
             2.7325202042558927,
             0.5590169943749475,
             1.6376257758774382,
             1.8297065576087663,
             4.438899948479718
            ],
            "sizemode": "area",
            "sizeref": 0.08140788407607454
           },
           "name": "",
           "showlegend": false,
           "type": "scattergeo"
          }
         ],
         "name": "02/12/2020"
        },
        {
         "data": [
          {
           "customdata": [
            [
             910,
             5,
             14.67741935483871
            ],
            [
             366,
             3,
             16.991643454038996
            ],
            [
             529,
             4,
             17.355643044619423
            ],
            [
             279,
             0,
             7.235477178423236
            ],
            [
             90,
             2,
             3.5183737294761537
            ],
            [
             1241,
             2,
             10.937775427463423
            ],
            [
             222,
             2,
             4.588673005374122
            ],
            [
             135,
             1,
             3.884892086330935
            ],
            [
             157,
             4,
             16.881720430107524
            ],
            [
             265,
             3,
             3.547523427041499
            ],
            [
             395,
             9,
             10.310623858000522
            ],
            [
             1169,
             10,
             12.436170212765957
            ],
            [
             48206,
             1310,
             824.034188034188
            ],
            [
             968,
             2,
             14.368413240314679
            ],
            [
             61,
             0,
             2.468636179684338
            ],
            [
             570,
             0,
             7.08955223880597
            ],
            [
             872,
             1,
             19.292035398230087
            ],
            [
             84,
             1,
             3.0589949016751636
            ],
            [
             117,
             1,
             2.6651480637813214
            ],
            [
             64,
             0,
             10.158730158730158
            ],
            [
             18,
             0,
             3.2142857142857144
            ],
            [
             229,
             0,
             6.134476292526118
            ],
            [
             509,
             2,
             5.655555555555556
            ],
            [
             315,
             1,
             12.995049504950495
            ],
            [
             126,
             0,
             3.452054794520548
            ],
            [
             451,
             1,
             5.561035758323058
            ],
            [
             119,
             3,
             7.933333333333334
            ],
            [
             1,
             0,
             0.3125
            ],
            [
             63,
             1,
             2.8636363636363638
            ],
            [
             156,
             0,
             3.391304347826087
            ],
            [
             1145,
             0,
             19.94773519163763
            ]
           ],
           "geo": "geo",
           "hoverlabel": {
            "namelength": 0
           },
           "hovertemplate": "<b>%{hovertext}</b><br><br>Date=02/13/2020<br>size=%{marker.color}<br>Confirmed=%{customdata[0]}<br>Deaths=%{customdata[1]}<br>Severity=%{customdata[2]}<br>Lat=%{lat}<br>Long=%{lon}",
           "hovertext": [
            "Anhui",
            "Beijing",
            "Chongqing",
            "Fujian",
            "Gansu",
            "Guangdong",
            "Guangxi",
            "Guizhou",
            "Hainan",
            "Hebei",
            "Heilongjiang",
            "Henan",
            "Hubei",
            "Hunan",
            "Inner Mongolia",
            "Jiangsu",
            "Jiangxi",
            "Jilin",
            "Liaoning",
            "Ningxia",
            "Qinghai",
            "Shaanxi",
            "Shandong",
            "Shanghai",
            "Shanxi",
            "Sichuan",
            "Tianjin",
            "Tibet",
            "Xinjiang",
            "Yunnan",
            "Zhejiang"
           ],
           "lat": [
            31.825709999999997,
            40.18238,
            30.05718,
            26.07783,
            36.0611,
            23.33841,
            23.829079999999998,
            26.81536,
            19.19673,
            38.0428,
            47.861999999999995,
            33.882020000000004,
            30.975640000000002,
            27.610409999999998,
            44.09448,
            32.97027,
            27.614009999999997,
            43.66657,
            41.292840000000005,
            37.26923,
            35.65945,
            35.19165,
            36.34377,
            31.20327,
            37.577690000000004,
            30.617140000000003,
            39.293620000000004,
            30.1534,
            41.11981,
            24.97411,
            29.182509999999997
           ],
           "legendgroup": "",
           "lon": [
            117.2264,
            116.4142,
            107.874,
            117.9895,
            103.8343,
            113.42200000000001,
            108.7881,
            106.8748,
            109.7455,
            114.5149,
            127.7622,
            113.61399999999999,
            112.2707,
            111.7088,
            113.9456,
            119.464,
            115.7221,
            126.1917,
            122.6086,
            106.1655,
            96.02564,
            108.8701,
            118.1529,
            121.4554,
            112.2922,
            102.7103,
            117.333,
            88.7879,
            85.17822,
            101.4868,
            120.0985
           ],
           "marker": {
            "color": [
             3.831112025879524,
             4.122092121003483,
             4.166010447012756,
             2.6898842314165186,
             1.8757328513080305,
             3.307230779287019,
             2.142118812151679,
             1.9710129594528127,
             4.108737084568387,
             1.8834870392549823,
             3.211016016465898,
             3.526495457641475,
             28.70599568094073,
             3.7905689863547765,
             1.571189415597094,
             2.66262130968825,
             4.39226995962567,
             1.7489982566243922,
             1.6325281203646451,
             3.187276291558383,
             1.7928429140015905,
             2.4767874944221835,
             2.378141197564929,
             3.6048646999506784,
             1.857970611855997,
             2.3581848439685675,
             2.816617356570348,
             0.5590169943749475,
             1.6922282244532987,
             1.841549442134554,
             4.466288749245578
            ],
            "coloraxis": "coloraxis",
            "size": [
             3.831112025879524,
             4.122092121003483,
             4.166010447012756,
             2.6898842314165186,
             1.8757328513080305,
             3.307230779287019,
             2.142118812151679,
             1.9710129594528127,
             4.108737084568387,
             1.8834870392549823,
             3.211016016465898,
             3.526495457641475,
             28.70599568094073,
             3.7905689863547765,
             1.571189415597094,
             2.66262130968825,
             4.39226995962567,
             1.7489982566243922,
             1.6325281203646451,
             3.187276291558383,
             1.7928429140015905,
             2.4767874944221835,
             2.378141197564929,
             3.6048646999506784,
             1.857970611855997,
             2.3581848439685675,
             2.816617356570348,
             0.5590169943749475,
             1.6922282244532987,
             1.841549442134554,
             4.466288749245578
            ],
            "sizemode": "area",
            "sizeref": 0.08140788407607454
           },
           "name": "",
           "showlegend": false,
           "type": "scattergeo"
          }
         ],
         "name": "02/13/2020"
        },
        {
         "data": [
          {
           "customdata": [
            [
             934,
             6,
             15.064516129032258
            ],
            [
             372,
             3,
             17.270194986072426
            ],
            [
             537,
             5,
             17.61811023622047
            ],
            [
             281,
             0,
             7.287344398340249
            ],
            [
             90,
             2,
             3.5183737294761537
            ],
            [
             1261,
             2,
             11.114049004054293
            ],
            [
             226,
             2,
             4.671351798263745
            ],
            [
             140,
             1,
             4.028776978417266
            ],
            [
             159,
             4,
             17.096774193548384
            ],
            [
             283,
             3,
             3.788487282463186
            ],
            [
             419,
             11,
             10.937092143043591
            ],
            [
             1184,
             11,
             12.595744680851064
            ],
            [
             54406,
             1457,
             930.017094017094
            ],
            [
             988,
             2,
             14.665281282469941
            ],
            [
             65,
             0,
             2.6305139619587212
            ],
            [
             593,
             0,
             7.375621890547263
            ],
            [
             900,
             1,
             19.91150442477876
            ],
            [
             86,
             1,
             3.1318281136198105
            ],
            [
             119,
             1,
             2.710706150341686
            ],
            [
             67,
             0,
             10.634920634920634
            ],
            [
             18,
             0,
             3.2142857142857144
            ],
            [
             230,
             0,
             6.161264398607019
            ],
            [
             523,
             2,
             5.811111111111111
            ],
            [
             318,
             1,
             13.118811881188119
            ],
            [
             127,
             0,
             3.4794520547945207
            ],
            [
             463,
             1,
             5.7090012330456235
            ],
            [
             120,
             3,
             8
            ],
            [
             1,
             0,
             0.3125
            ],
            [
             65,
             1,
             2.9545454545454546
            ],
            [
             162,
             0,
             3.5217391304347827
            ],
            [
             1155,
             0,
             20.121951219512194
            ]
           ],
           "geo": "geo",
           "hoverlabel": {
            "namelength": 0
           },
           "hovertemplate": "<b>%{hovertext}</b><br><br>Date=02/14/2020<br>size=%{marker.color}<br>Confirmed=%{customdata[0]}<br>Deaths=%{customdata[1]}<br>Severity=%{customdata[2]}<br>Lat=%{lat}<br>Long=%{lon}",
           "hovertext": [
            "Anhui",
            "Beijing",
            "Chongqing",
            "Fujian",
            "Gansu",
            "Guangdong",
            "Guangxi",
            "Guizhou",
            "Hainan",
            "Hebei",
            "Heilongjiang",
            "Henan",
            "Hubei",
            "Hunan",
            "Inner Mongolia",
            "Jiangsu",
            "Jiangxi",
            "Jilin",
            "Liaoning",
            "Ningxia",
            "Qinghai",
            "Shaanxi",
            "Shandong",
            "Shanghai",
            "Shanxi",
            "Sichuan",
            "Tianjin",
            "Tibet",
            "Xinjiang",
            "Yunnan",
            "Zhejiang"
           ],
           "lat": [
            31.825709999999997,
            40.18238,
            30.05718,
            26.07783,
            36.0611,
            23.33841,
            23.829079999999998,
            26.81536,
            19.19673,
            38.0428,
            47.861999999999995,
            33.882020000000004,
            30.975640000000002,
            27.610409999999998,
            44.09448,
            32.97027,
            27.614009999999997,
            43.66657,
            41.292840000000005,
            37.26923,
            35.65945,
            35.19165,
            36.34377,
            31.20327,
            37.577690000000004,
            30.617140000000003,
            39.293620000000004,
            30.1534,
            41.11981,
            24.97411,
            29.182509999999997
           ],
           "legendgroup": "",
           "lon": [
            117.2264,
            116.4142,
            107.874,
            117.9895,
            103.8343,
            113.42200000000001,
            108.7881,
            106.8748,
            109.7455,
            114.5149,
            127.7622,
            113.61399999999999,
            112.2707,
            111.7088,
            113.9456,
            119.464,
            115.7221,
            126.1917,
            122.6086,
            106.1655,
            96.02564,
            108.8701,
            118.1529,
            121.4554,
            112.2922,
            102.7103,
            117.333,
            88.7879,
            85.17822,
            101.4868,
            120.0985
           ],
           "marker": {
            "color": [
             3.8813034059491223,
             4.155742410938439,
             4.197393266805062,
             2.699508177120464,
             1.8757328513080305,
             3.3337739881483106,
             2.1613310246844986,
             2.007181351651431,
             4.134824566235959,
             1.9464036792153847,
             3.307127476080048,
             3.5490484190626455,
             30.49618163011714,
             3.829527553428744,
             1.621885927541984,
             2.7158096197169757,
             4.462230879815472,
             1.7696971813335214,
             1.6464222272374986,
             3.261122603478844,
             1.7928429140015905,
             2.482189436486873,
             2.4106246309019395,
             3.621990044324821,
             1.8653289401053426,
             2.389351634449317,
             2.8284271247461903,
             0.5590169943749475,
             1.7188791273808215,
             1.8766297265136729,
             4.485749794573054
            ],
            "coloraxis": "coloraxis",
            "size": [
             3.8813034059491223,
             4.155742410938439,
             4.197393266805062,
             2.699508177120464,
             1.8757328513080305,
             3.3337739881483106,
             2.1613310246844986,
             2.007181351651431,
             4.134824566235959,
             1.9464036792153847,
             3.307127476080048,
             3.5490484190626455,
             30.49618163011714,
             3.829527553428744,
             1.621885927541984,
             2.7158096197169757,
             4.462230879815472,
             1.7696971813335214,
             1.6464222272374986,
             3.261122603478844,
             1.7928429140015905,
             2.482189436486873,
             2.4106246309019395,
             3.621990044324821,
             1.8653289401053426,
             2.389351634449317,
             2.8284271247461903,
             0.5590169943749475,
             1.7188791273808215,
             1.8766297265136729,
             4.485749794573054
            ],
            "sizemode": "area",
            "sizeref": 0.08140788407607454
           },
           "name": "",
           "showlegend": false,
           "type": "scattergeo"
          }
         ],
         "name": "02/14/2020"
        },
        {
         "data": [
          {
           "customdata": [
            [
             950,
             6,
             15.32258064516129
            ],
            [
             375,
             4,
             17.40947075208914
            ],
            [
             544,
             5,
             17.84776902887139
            ],
            [
             285,
             0,
             7.391078838174273
            ],
            [
             90,
             2,
             3.5183737294761537
            ],
            [
             1294,
             2,
             11.404900405429228
            ],
            [
             235,
             2,
             4.857379082265399
            ],
            [
             143,
             1,
             4.115107913669065
            ],
            [
             162,
             4,
             17.419354838709676
            ],
            [
             291,
             3,
             3.895582329317269
            ],
            [
             425,
             11,
             11.093709214304358
            ],
            [
             1212,
             13,
             12.893617021276595
            ],
            [
             56249,
             1596,
             961.5213675213676
            ],
            [
             1001,
             2,
             14.858245509870862
            ],
            [
             68,
             0,
             2.751922298664508
            ],
            [
             604,
             0,
             7.512437810945273
            ],
            [
             913,
             1,
             20.199115044247787
            ],
            [
             88,
             1,
             3.2046613255644574
            ],
            [
             119,
             1,
             2.710706150341686
            ],
            [
             70,
             0,
             11.11111111111111
            ],
            [
             18,
             0,
             3.2142857142857144
            ],
            [
             232,
             0,
             6.214840610768819
            ],
            [
             532,
             2,
             5.911111111111111
            ],
            [
             326,
             1,
             13.44884488448845
            ],
            [
             128,
             0,
             3.506849315068493
            ],
            [
             470,
             1,
             5.7953144266337855
            ],
            [
             122,
             3,
             8.133333333333333
            ],
            [
             1,
             0,
             0.3125
            ],
            [
             70,
             1,
             3.1818181818181817
            ],
            [
             168,
             0,
             3.652173913043478
            ],
            [
             1162,
             0,
             20.243902439024392
            ]
           ],
           "geo": "geo",
           "hoverlabel": {
            "namelength": 0
           },
           "hovertemplate": "<b>%{hovertext}</b><br><br>Date=02/15/2020<br>size=%{marker.color}<br>Confirmed=%{customdata[0]}<br>Deaths=%{customdata[1]}<br>Severity=%{customdata[2]}<br>Lat=%{lat}<br>Long=%{lon}",
           "hovertext": [
            "Anhui",
            "Beijing",
            "Chongqing",
            "Fujian",
            "Gansu",
            "Guangdong",
            "Guangxi",
            "Guizhou",
            "Hainan",
            "Hebei",
            "Heilongjiang",
            "Henan",
            "Hubei",
            "Hunan",
            "Inner Mongolia",
            "Jiangsu",
            "Jiangxi",
            "Jilin",
            "Liaoning",
            "Ningxia",
            "Qinghai",
            "Shaanxi",
            "Shandong",
            "Shanghai",
            "Shanxi",
            "Sichuan",
            "Tianjin",
            "Tibet",
            "Xinjiang",
            "Yunnan",
            "Zhejiang"
           ],
           "lat": [
            31.825709999999997,
            40.18238,
            30.05718,
            26.07783,
            36.0611,
            23.33841,
            23.829079999999998,
            26.81536,
            19.19673,
            38.0428,
            47.861999999999995,
            33.882020000000004,
            30.975640000000002,
            27.610409999999998,
            44.09448,
            32.97027,
            27.614009999999997,
            43.66657,
            41.292840000000005,
            37.26923,
            35.65945,
            35.19165,
            36.34377,
            31.20327,
            37.577690000000004,
            30.617140000000003,
            39.293620000000004,
            30.1534,
            41.11981,
            24.97411,
            29.182509999999997
           ],
           "legendgroup": "",
           "lon": [
            117.2264,
            116.4142,
            107.874,
            117.9895,
            103.8343,
            113.42200000000001,
            108.7881,
            106.8748,
            109.7455,
            114.5149,
            127.7622,
            113.61399999999999,
            112.2707,
            111.7088,
            113.9456,
            119.464,
            115.7221,
            126.1917,
            122.6086,
            106.1655,
            96.02564,
            108.8701,
            118.1529,
            121.4554,
            112.2922,
            102.7103,
            117.333,
            88.7879,
            85.17822,
            101.4868,
            120.0985
           ],
           "marker": {
            "color": [
             3.9144068062940636,
             4.172465788007032,
             4.224662001731191,
             2.7186538650910075,
             1.8757328513080305,
             3.377114212671705,
             2.20394625212717,
             2.028572876105038,
             4.173650061841514,
             1.973722961643115,
             3.330722025973401,
             3.5907683051509456,
             31.008408013333536,
             3.8546394785856255,
             1.658891888781336,
             2.740882670043589,
             4.494342559735271,
             1.7901567879837947,
             1.6464222272374986,
             3.3333333333333335,
             1.7928429140015905,
             2.4929582047777736,
             2.4312776705080625,
             3.6672666775799723,
             1.8726583551380889,
             2.4073459299888302,
             2.851899951494325,
             0.5590169943749475,
             1.7837651700316894,
             1.9110661718118183,
             4.499322442215538
            ],
            "coloraxis": "coloraxis",
            "size": [
             3.9144068062940636,
             4.172465788007032,
             4.224662001731191,
             2.7186538650910075,
             1.8757328513080305,
             3.377114212671705,
             2.20394625212717,
             2.028572876105038,
             4.173650061841514,
             1.973722961643115,
             3.330722025973401,
             3.5907683051509456,
             31.008408013333536,
             3.8546394785856255,
             1.658891888781336,
             2.740882670043589,
             4.494342559735271,
             1.7901567879837947,
             1.6464222272374986,
             3.3333333333333335,
             1.7928429140015905,
             2.4929582047777736,
             2.4312776705080625,
             3.6672666775799723,
             1.8726583551380889,
             2.4073459299888302,
             2.851899951494325,
             0.5590169943749475,
             1.7837651700316894,
             1.9110661718118183,
             4.499322442215538
            ],
            "sizemode": "area",
            "sizeref": 0.08140788407607454
           },
           "name": "",
           "showlegend": false,
           "type": "scattergeo"
          }
         ],
         "name": "02/15/2020"
        },
        {
         "data": [
          {
           "customdata": [
            [
             962,
             6,
             15.516129032258064
            ],
            [
             380,
             4,
             17.64159702878366
            ],
            [
             551,
             5,
             18.07742782152231
            ],
            [
             287,
             0,
             7.442946058091286
            ],
            [
             90,
             2,
             3.5183737294761537
            ],
            [
             1316,
             2,
             11.598801339679182
            ],
            [
             237,
             2,
             4.898718478710211
            ],
            [
             144,
             1,
             4.143884892086331
            ],
            [
             162,
             4,
             17.419354838709676
            ],
            [
             300,
             3,
             4.016064257028113
            ],
            [
             445,
             11,
             11.615766118506917
            ],
            [
             1231,
             13,
             13.095744680851064
            ],
            [
             58182,
             1696,
             994.5641025641025
            ],
            [
             1004,
             3,
             14.902775716194151
            ],
            [
             70,
             0,
             2.8328611898016995
            ],
            [
             617,
             0,
             7.67412935323383
            ],
            [
             925,
             1,
             20.464601769911503
            ],
            [
             89,
             1,
             3.241077931536781
            ],
            [
             121,
             1,
             2.7562642369020502
            ],
            [
             70,
             0,
             11.11111111111111
            ],
            [
             18,
             0,
             3.2142857142857144
            ],
            [
             236,
             0,
             6.32199303509242
            ],
            [
             537,
             2,
             5.966666666666667
            ],
            [
             328,
             1,
             13.531353135313532
            ],
            [
             129,
             0,
             3.5342465753424657
            ],
            [
             481,
             3,
             5.93094944512947
            ],
            [
             124,
             3,
             8.266666666666667
            ],
            [
             1,
             0,
             0.3125
            ],
            [
             71,
             1,
             3.227272727272727
            ],
            [
             171,
             0,
             3.717391304347826
            ],
            [
             1167,
             0,
             20.331010452961674
            ]
           ],
           "geo": "geo",
           "hoverlabel": {
            "namelength": 0
           },
           "hovertemplate": "<b>%{hovertext}</b><br><br>Date=02/16/2020<br>size=%{marker.color}<br>Confirmed=%{customdata[0]}<br>Deaths=%{customdata[1]}<br>Severity=%{customdata[2]}<br>Lat=%{lat}<br>Long=%{lon}",
           "hovertext": [
            "Anhui",
            "Beijing",
            "Chongqing",
            "Fujian",
            "Gansu",
            "Guangdong",
            "Guangxi",
            "Guizhou",
            "Hainan",
            "Hebei",
            "Heilongjiang",
            "Henan",
            "Hubei",
            "Hunan",
            "Inner Mongolia",
            "Jiangsu",
            "Jiangxi",
            "Jilin",
            "Liaoning",
            "Ningxia",
            "Qinghai",
            "Shaanxi",
            "Shandong",
            "Shanghai",
            "Shanxi",
            "Sichuan",
            "Tianjin",
            "Tibet",
            "Xinjiang",
            "Yunnan",
            "Zhejiang"
           ],
           "lat": [
            31.825709999999997,
            40.18238,
            30.05718,
            26.07783,
            36.0611,
            23.33841,
            23.829079999999998,
            26.81536,
            19.19673,
            38.0428,
            47.861999999999995,
            33.882020000000004,
            30.975640000000002,
            27.610409999999998,
            44.09448,
            32.97027,
            27.614009999999997,
            43.66657,
            41.292840000000005,
            37.26923,
            35.65945,
            35.19165,
            36.34377,
            31.20327,
            37.577690000000004,
            30.617140000000003,
            39.293620000000004,
            30.1534,
            41.11981,
            24.97411,
            29.182509999999997
           ],
           "legendgroup": "",
           "lon": [
            117.2264,
            116.4142,
            107.874,
            117.9895,
            103.8343,
            113.42200000000001,
            108.7881,
            106.8748,
            109.7455,
            114.5149,
            127.7622,
            113.61399999999999,
            112.2707,
            111.7088,
            113.9456,
            119.464,
            115.7221,
            126.1917,
            122.6086,
            106.1655,
            96.02564,
            108.8701,
            118.1529,
            121.4554,
            112.2922,
            102.7103,
            117.333,
            88.7879,
            85.17822,
            101.4868,
            120.0985
           ],
           "marker": {
            "color": [
             3.939051793548552,
             4.200190118171279,
             4.2517558515891185,
             2.728176324596943,
             1.8757328513080305,
             3.405701299245015,
             2.2133048770357444,
             2.03565343123193,
             4.173650061841514,
             2.004012040140506,
             3.4081910331592207,
             3.6188043164629757,
             31.536710395412243,
             3.860411340284109,
             1.6831105696898525,
             2.770221896028156,
             4.523781799546868,
             1.800299400526696,
             1.6602000593007007,
             3.3333333333333335,
             1.7928429140015905,
             2.514357380145555,
             2.442676128074835,
             3.678498761086312,
             1.8799591951269756,
             2.4353540697667495,
             2.8751811537130436,
             0.5590169943749475,
             1.796461167760864,
             1.9280537607514543,
             4.508992177079228
            ],
            "coloraxis": "coloraxis",
            "size": [
             3.939051793548552,
             4.200190118171279,
             4.2517558515891185,
             2.728176324596943,
             1.8757328513080305,
             3.405701299245015,
             2.2133048770357444,
             2.03565343123193,
             4.173650061841514,
             2.004012040140506,
             3.4081910331592207,
             3.6188043164629757,
             31.536710395412243,
             3.860411340284109,
             1.6831105696898525,
             2.770221896028156,
             4.523781799546868,
             1.800299400526696,
             1.6602000593007007,
             3.3333333333333335,
             1.7928429140015905,
             2.514357380145555,
             2.442676128074835,
             3.678498761086312,
             1.8799591951269756,
             2.4353540697667495,
             2.8751811537130436,
             0.5590169943749475,
             1.796461167760864,
             1.9280537607514543,
             4.508992177079228
            ],
            "sizemode": "area",
            "sizeref": 0.08140788407607454
           },
           "name": "",
           "showlegend": false,
           "type": "scattergeo"
          }
         ],
         "name": "02/16/2020"
        },
        {
         "data": [
          {
           "customdata": [
            [
             973,
             6,
             15.693548387096774
            ],
            [
             381,
             4,
             17.688022284122564
            ],
            [
             553,
             5,
             18.14304461942257
            ],
            [
             290,
             0,
             7.520746887966805
            ],
            [
             91,
             2,
             3.5574667709147776
            ],
            [
             1322,
             4,
             11.651683412656443
            ],
            [
             238,
             2,
             4.919388176932617
            ],
            [
             146,
             1,
             4.201438848920863
            ],
            [
             163,
             4,
             17.526881720430108
            ],
            [
             301,
             3,
             4.029451137884872
            ],
            [
             457,
             11,
             11.92900026102845
            ],
            [
             1246,
             16,
             13.25531914893617
            ],
            [
             59989,
             1789,
             1025.4529914529915
            ],
            [
             1006,
             3,
             14.932462520409677
            ],
            [
             72,
             0,
             2.913800080938891
            ],
            [
             626,
             0,
             7.786069651741293
            ],
            [
             930,
             1,
             20.575221238938052
            ],
            [
             89,
             1,
             3.241077931536781
            ],
            [
             121,
             1,
             2.7562642369020502
            ],
            [
             70,
             0,
             11.11111111111111
            ],
            [
             18,
             0,
             3.2142857142857144
            ],
            [
             240,
             0,
             6.42914545941602
            ],
            [
             541,
             2,
             6.011111111111111
            ],
            [
             333,
             1,
             13.737623762376238
            ],
            [
             130,
             0,
             3.5616438356164384
            ],
            [
             495,
             3,
             6.103575832305796
            ],
            [
             125,
             3,
             8.333333333333334
            ],
            [
             1,
             0,
             0.3125
            ],
            [
             75,
             1,
             3.409090909090909
            ],
            [
             171,
             0,
             3.717391304347826
            ],
            [
             1171,
             0,
             20.4006968641115
            ]
           ],
           "geo": "geo",
           "hoverlabel": {
            "namelength": 0
           },
           "hovertemplate": "<b>%{hovertext}</b><br><br>Date=02/17/2020<br>size=%{marker.color}<br>Confirmed=%{customdata[0]}<br>Deaths=%{customdata[1]}<br>Severity=%{customdata[2]}<br>Lat=%{lat}<br>Long=%{lon}",
           "hovertext": [
            "Anhui",
            "Beijing",
            "Chongqing",
            "Fujian",
            "Gansu",
            "Guangdong",
            "Guangxi",
            "Guizhou",
            "Hainan",
            "Hebei",
            "Heilongjiang",
            "Henan",
            "Hubei",
            "Hunan",
            "Inner Mongolia",
            "Jiangsu",
            "Jiangxi",
            "Jilin",
            "Liaoning",
            "Ningxia",
            "Qinghai",
            "Shaanxi",
            "Shandong",
            "Shanghai",
            "Shanxi",
            "Sichuan",
            "Tianjin",
            "Tibet",
            "Xinjiang",
            "Yunnan",
            "Zhejiang"
           ],
           "lat": [
            31.825709999999997,
            40.18238,
            30.05718,
            26.07783,
            36.0611,
            23.33841,
            23.829079999999998,
            26.81536,
            19.19673,
            38.0428,
            47.861999999999995,
            33.882020000000004,
            30.975640000000002,
            27.610409999999998,
            44.09448,
            32.97027,
            27.614009999999997,
            43.66657,
            41.292840000000005,
            37.26923,
            35.65945,
            35.19165,
            36.34377,
            31.20327,
            37.577690000000004,
            30.617140000000003,
            39.293620000000004,
            30.1534,
            41.11981,
            24.97411,
            29.182509999999997
           ],
           "legendgroup": "",
           "lon": [
            117.2264,
            116.4142,
            107.874,
            117.9895,
            103.8343,
            113.42200000000001,
            108.7881,
            106.8748,
            109.7455,
            114.5149,
            127.7622,
            113.61399999999999,
            112.2707,
            111.7088,
            113.9456,
            119.464,
            115.7221,
            126.1917,
            122.6086,
            106.1655,
            96.02564,
            108.8701,
            118.1529,
            121.4554,
            112.2922,
            102.7103,
            117.333,
            88.7879,
            85.17822,
            101.4868,
            120.0985
           ],
           "marker": {
            "color": [
             3.9615083474728126,
             4.205713052993816,
             4.259465297360993,
             2.7423980177878637,
             1.8861248025819441,
             3.413456226855186,
             2.2179693814236066,
             2.0497411663234124,
             4.186511879886417,
             2.0073492814866256,
             3.4538384821859363,
             3.6407855126244626,
             32.022694943633205,
             3.8642544585482046,
             1.7069856709822995,
             2.7903529618564913,
             4.535991759134716,
             1.800299400526696,
             1.6602000593007007,
             3.3333333333333335,
             1.7928429140015905,
             2.535575962067794,
             2.4517567397911058,
             3.7064300563178363,
             1.8872317917035095,
             2.4705416070784554,
             2.886751345948129,
             0.5590169943749475,
             1.846372364689991,
             1.9280537607514543,
             4.5167130597494785
            ],
            "coloraxis": "coloraxis",
            "size": [
             3.9615083474728126,
             4.205713052993816,
             4.259465297360993,
             2.7423980177878637,
             1.8861248025819441,
             3.413456226855186,
             2.2179693814236066,
             2.0497411663234124,
             4.186511879886417,
             2.0073492814866256,
             3.4538384821859363,
             3.6407855126244626,
             32.022694943633205,
             3.8642544585482046,
             1.7069856709822995,
             2.7903529618564913,
             4.535991759134716,
             1.800299400526696,
             1.6602000593007007,
             3.3333333333333335,
             1.7928429140015905,
             2.535575962067794,
             2.4517567397911058,
             3.7064300563178363,
             1.8872317917035095,
             2.4705416070784554,
             2.886751345948129,
             0.5590169943749475,
             1.846372364689991,
             1.9280537607514543,
             4.5167130597494785
            ],
            "sizemode": "area",
            "sizeref": 0.08140788407607454
           },
           "name": "",
           "showlegend": false,
           "type": "scattergeo"
          }
         ],
         "name": "02/17/2020"
        },
        {
         "data": [
          {
           "customdata": [
            [
             982,
             6,
             15.838709677419354
            ],
            [
             387,
             4,
             17.96657381615599
            ],
            [
             555,
             5,
             18.208661417322833
            ],
            [
             292,
             0,
             7.572614107883817
            ],
            [
             91,
             2,
             3.5574667709147776
            ],
            [
             1328,
             4,
             11.704565485633704
            ],
            [
             242,
             2,
             5.00206696982224
            ],
            [
             146,
             2,
             4.201438848920863
            ],
            [
             163,
             4,
             17.526881720430108
            ],
            [
             306,
             4,
             4.096385542168674
            ],
            [
             464,
             11,
             12.111720177499347
            ],
            [
             1257,
             19,
             13.372340425531915
            ],
            [
             61682,
             1921,
             1054.3931623931624
            ],
            [
             1007,
             4,
             14.94730592251744
            ],
            [
             73,
             0,
             2.9542695265074865
            ],
            [
             629,
             0,
             7.823383084577114
            ],
            [
             933,
             1,
             20.641592920353983
            ],
            [
             89,
             1,
             3.241077931536781
            ],
            [
             121,
             1,
             2.7562642369020502
            ],
            [
             70,
             0,
             11.11111111111111
            ],
            [
             18,
             0,
             3.2142857142857144
            ],
            [
             240,
             0,
             6.42914545941602
            ],
            [
             543,
             3,
             6.033333333333333
            ],
            [
             333,
             1,
             13.737623762376238
            ],
            [
             131,
             0,
             3.589041095890411
            ],
            [
             508,
             3,
             6.263871763255241
            ],
            [
             128,
             3,
             8.533333333333333
            ],
            [
             1,
             0,
             0.3125
            ],
            [
             76,
             1,
             3.4545454545454546
            ],
            [
             172,
             0,
             3.739130434782609
            ],
            [
             1172,
             0,
             20.418118466898957
            ]
           ],
           "geo": "geo",
           "hoverlabel": {
            "namelength": 0
           },
           "hovertemplate": "<b>%{hovertext}</b><br><br>Date=02/18/2020<br>size=%{marker.color}<br>Confirmed=%{customdata[0]}<br>Deaths=%{customdata[1]}<br>Severity=%{customdata[2]}<br>Lat=%{lat}<br>Long=%{lon}",
           "hovertext": [
            "Anhui",
            "Beijing",
            "Chongqing",
            "Fujian",
            "Gansu",
            "Guangdong",
            "Guangxi",
            "Guizhou",
            "Hainan",
            "Hebei",
            "Heilongjiang",
            "Henan",
            "Hubei",
            "Hunan",
            "Inner Mongolia",
            "Jiangsu",
            "Jiangxi",
            "Jilin",
            "Liaoning",
            "Ningxia",
            "Qinghai",
            "Shaanxi",
            "Shandong",
            "Shanghai",
            "Shanxi",
            "Sichuan",
            "Tianjin",
            "Tibet",
            "Xinjiang",
            "Yunnan",
            "Zhejiang"
           ],
           "lat": [
            31.825709999999997,
            40.18238,
            30.05718,
            26.07783,
            36.0611,
            23.33841,
            23.829079999999998,
            26.81536,
            19.19673,
            38.0428,
            47.861999999999995,
            33.882020000000004,
            30.975640000000002,
            27.610409999999998,
            44.09448,
            32.97027,
            27.614009999999997,
            43.66657,
            41.292840000000005,
            37.26923,
            35.65945,
            35.19165,
            36.34377,
            31.20327,
            37.577690000000004,
            30.617140000000003,
            39.293620000000004,
            30.1534,
            41.11981,
            24.97411,
            29.182509999999997
           ],
           "legendgroup": "",
           "lon": [
            117.2264,
            116.4142,
            107.874,
            117.9895,
            103.8343,
            113.42200000000001,
            108.7881,
            106.8748,
            109.7455,
            114.5149,
            127.7622,
            113.61399999999999,
            112.2707,
            111.7088,
            113.9456,
            119.464,
            115.7221,
            126.1917,
            122.6086,
            106.1655,
            96.02564,
            108.8701,
            118.1529,
            121.4554,
            112.2922,
            102.7103,
            117.333,
            88.7879,
            85.17822,
            101.4868,
            120.0985
           ],
           "marker": {
            "color": [
             3.979787642251701,
             4.238699543038642,
             4.267160814560758,
             2.7518383142699023,
             1.8861248025819441,
             3.421193576170998,
             2.236530118246173,
             2.0497411663234124,
             4.186511879886417,
             2.02395294959361,
             3.4801896755061135,
             3.6568210819688614,
             32.4714207017981,
             3.866174585105727,
             1.7187988615621919,
             2.7970311197012294,
             4.543301984279053,
             1.800299400526696,
             1.6602000593007007,
             3.3333333333333335,
             1.7928429140015905,
             2.535575962067794,
             2.456284456925405,
             3.7064300563178363,
             1.8944764701337442,
             2.5027728149504984,
             2.9211869733608857,
             0.5590169943749475,
             1.8586407545691703,
             1.933683126777138,
             4.518641219094404
            ],
            "coloraxis": "coloraxis",
            "size": [
             3.979787642251701,
             4.238699543038642,
             4.267160814560758,
             2.7518383142699023,
             1.8861248025819441,
             3.421193576170998,
             2.236530118246173,
             2.0497411663234124,
             4.186511879886417,
             2.02395294959361,
             3.4801896755061135,
             3.6568210819688614,
             32.4714207017981,
             3.866174585105727,
             1.7187988615621919,
             2.7970311197012294,
             4.543301984279053,
             1.800299400526696,
             1.6602000593007007,
             3.3333333333333335,
             1.7928429140015905,
             2.535575962067794,
             2.456284456925405,
             3.7064300563178363,
             1.8944764701337442,
             2.5027728149504984,
             2.9211869733608857,
             0.5590169943749475,
             1.8586407545691703,
             1.933683126777138,
             4.518641219094404
            ],
            "sizemode": "area",
            "sizeref": 0.08140788407607454
           },
           "name": "",
           "showlegend": false,
           "type": "scattergeo"
          }
         ],
         "name": "02/18/2020"
        },
        {
         "data": [
          {
           "customdata": [
            [
             986,
             6,
             15.903225806451612
            ],
            [
             393,
             4,
             18.245125348189415
            ],
            [
             560,
             5,
             18.37270341207349
            ],
            [
             293,
             0,
             7.598547717842323
            ],
            [
             91,
             2,
             3.5574667709147776
            ],
            [
             1331,
             5,
             11.731006522122334
            ],
            [
             244,
             2,
             5.043406366267052
            ],
            [
             146,
             2,
             4.201438848920863
            ],
            [
             168,
             4,
             18.064516129032256
            ],
            [
             306,
             4,
             4.096385542168674
            ],
            [
             470,
             12,
             12.268337248760114
            ],
            [
             1262,
             19,
             13.425531914893616
            ],
            [
             62031,
             2029,
             1060.3589743589744
            ],
            [
             1008,
             4,
             14.962149324625203
            ],
            [
             75,
             0,
             3.0352084176446783
            ],
            [
             631,
             0,
             7.848258706467661
            ],
            [
             934,
             1,
             20.66371681415929
            ],
            [
             90,
             1,
             3.2774945375091042
            ],
            [
             121,
             1,
             2.7562642369020502
            ],
            [
             71,
             0,
             11.26984126984127
            ],
            [
             18,
             0,
             3.2142857142857144
            ],
            [
             242,
             0,
             6.48272167157782
            ],
            [
             544,
             3,
             6.044444444444444
            ],
            [
             333,
             2,
             13.737623762376238
            ],
            [
             131,
             0,
             3.589041095890411
            ],
            [
             514,
             3,
             6.3378545006165234
            ],
            [
             130,
             3,
             8.666666666666666
            ],
            [
             1,
             0,
             0.3125
            ],
            [
             76,
             1,
             3.4545454545454546
            ],
            [
             172,
             1,
             3.739130434782609
            ],
            [
             1174,
             0,
             20.45296167247387
            ]
           ],
           "geo": "geo",
           "hoverlabel": {
            "namelength": 0
           },
           "hovertemplate": "<b>%{hovertext}</b><br><br>Date=02/19/2020<br>size=%{marker.color}<br>Confirmed=%{customdata[0]}<br>Deaths=%{customdata[1]}<br>Severity=%{customdata[2]}<br>Lat=%{lat}<br>Long=%{lon}",
           "hovertext": [
            "Anhui",
            "Beijing",
            "Chongqing",
            "Fujian",
            "Gansu",
            "Guangdong",
            "Guangxi",
            "Guizhou",
            "Hainan",
            "Hebei",
            "Heilongjiang",
            "Henan",
            "Hubei",
            "Hunan",
            "Inner Mongolia",
            "Jiangsu",
            "Jiangxi",
            "Jilin",
            "Liaoning",
            "Ningxia",
            "Qinghai",
            "Shaanxi",
            "Shandong",
            "Shanghai",
            "Shanxi",
            "Sichuan",
            "Tianjin",
            "Tibet",
            "Xinjiang",
            "Yunnan",
            "Zhejiang"
           ],
           "lat": [
            31.825709999999997,
            40.18238,
            30.05718,
            26.07783,
            36.0611,
            23.33841,
            23.829079999999998,
            26.81536,
            19.19673,
            38.0428,
            47.861999999999995,
            33.882020000000004,
            30.975640000000002,
            27.610409999999998,
            44.09448,
            32.97027,
            27.614009999999997,
            43.66657,
            41.292840000000005,
            37.26923,
            35.65945,
            35.19165,
            36.34377,
            31.20327,
            37.577690000000004,
            30.617140000000003,
            39.293620000000004,
            30.1534,
            41.11981,
            24.97411,
            29.182509999999997
           ],
           "legendgroup": "",
           "lon": [
            117.2264,
            116.4142,
            107.874,
            117.9895,
            103.8343,
            113.42200000000001,
            108.7881,
            106.8748,
            109.7455,
            114.5149,
            127.7622,
            113.61399999999999,
            112.2707,
            111.7088,
            113.9456,
            119.464,
            115.7221,
            126.1917,
            122.6086,
            106.1655,
            96.02564,
            108.8701,
            118.1529,
            121.4554,
            112.2922,
            102.7103,
            117.333,
            88.7879,
            85.17822,
            101.4868,
            120.0985
           ],
           "marker": {
            "color": [
             3.9878848787861982,
             4.27143129971552,
             4.286339162044167,
             2.756546338780163,
             1.8861248025819441,
             3.425055696207338,
             2.2457529619855903,
             2.0497411663234124,
             4.250237185032414,
             2.02395294959361,
             3.5026186273644058,
             3.6640867777515336,
             32.56315363042982,
             3.8680937585101534,
             1.7421849550620847,
             2.8014743808337177,
             4.545736113563929,
             1.8103851903694705,
             1.6602000593007007,
             3.357058425145632,
             1.7928429140015905,
             2.5461189429360562,
             2.4585451886114367,
             3.7064300563178363,
             1.8944764701337442,
             2.5175095830237715,
             2.943920288775949,
             0.5590169943749475,
             1.8586407545691703,
             1.933683126777138,
             4.522495071580938
            ],
            "coloraxis": "coloraxis",
            "size": [
             3.9878848787861982,
             4.27143129971552,
             4.286339162044167,
             2.756546338780163,
             1.8861248025819441,
             3.425055696207338,
             2.2457529619855903,
             2.0497411663234124,
             4.250237185032414,
             2.02395294959361,
             3.5026186273644058,
             3.6640867777515336,
             32.56315363042982,
             3.8680937585101534,
             1.7421849550620847,
             2.8014743808337177,
             4.545736113563929,
             1.8103851903694705,
             1.6602000593007007,
             3.357058425145632,
             1.7928429140015905,
             2.5461189429360562,
             2.4585451886114367,
             3.7064300563178363,
             1.8944764701337442,
             2.5175095830237715,
             2.943920288775949,
             0.5590169943749475,
             1.8586407545691703,
             1.933683126777138,
             4.522495071580938
            ],
            "sizemode": "area",
            "sizeref": 0.08140788407607454
           },
           "name": "",
           "showlegend": false,
           "type": "scattergeo"
          }
         ],
         "name": "02/19/2020"
        }
       ],
       "layout": {
        "coloraxis": {
         "colorbar": {
          "title": {
           "text": "size"
          }
         },
         "colorscale": [
          [
           0,
           "#0d0887"
          ],
          [
           0.1111111111111111,
           "#46039f"
          ],
          [
           0.2222222222222222,
           "#7201a8"
          ],
          [
           0.3333333333333333,
           "#9c179e"
          ],
          [
           0.4444444444444444,
           "#bd3786"
          ],
          [
           0.5555555555555556,
           "#d8576b"
          ],
          [
           0.6666666666666666,
           "#ed7953"
          ],
          [
           0.7777777777777778,
           "#fb9f3a"
          ],
          [
           0.8888888888888888,
           "#fdca26"
          ],
          [
           1,
           "#f0f921"
          ]
         ],
         "showscale": false
        },
        "geo": {
         "center": {},
         "domain": {
          "x": [
           0,
           1
          ],
          "y": [
           0,
           1
          ]
         },
         "scope": "asia"
        },
        "legend": {
         "itemsizing": "constant",
         "tracegroupgap": 0
        },
        "sliders": [
         {
          "active": 0,
          "currentvalue": {
           "prefix": "Date="
          },
          "len": 0.9,
          "pad": {
           "b": 10,
           "t": 60
          },
          "steps": [
           {
            "args": [
             [
              "01/22/2020"
             ],
             {
              "frame": {
               "duration": 0,
               "redraw": true
              },
              "fromcurrent": true,
              "mode": "immediate",
              "transition": {
               "duration": 0,
               "easing": "linear"
              }
             }
            ],
            "label": "01/22/2020",
            "method": "animate"
           },
           {
            "args": [
             [
              "01/23/2020"
             ],
             {
              "frame": {
               "duration": 0,
               "redraw": true
              },
              "fromcurrent": true,
              "mode": "immediate",
              "transition": {
               "duration": 0,
               "easing": "linear"
              }
             }
            ],
            "label": "01/23/2020",
            "method": "animate"
           },
           {
            "args": [
             [
              "01/24/2020"
             ],
             {
              "frame": {
               "duration": 0,
               "redraw": true
              },
              "fromcurrent": true,
              "mode": "immediate",
              "transition": {
               "duration": 0,
               "easing": "linear"
              }
             }
            ],
            "label": "01/24/2020",
            "method": "animate"
           },
           {
            "args": [
             [
              "01/25/2020"
             ],
             {
              "frame": {
               "duration": 0,
               "redraw": true
              },
              "fromcurrent": true,
              "mode": "immediate",
              "transition": {
               "duration": 0,
               "easing": "linear"
              }
             }
            ],
            "label": "01/25/2020",
            "method": "animate"
           },
           {
            "args": [
             [
              "01/26/2020"
             ],
             {
              "frame": {
               "duration": 0,
               "redraw": true
              },
              "fromcurrent": true,
              "mode": "immediate",
              "transition": {
               "duration": 0,
               "easing": "linear"
              }
             }
            ],
            "label": "01/26/2020",
            "method": "animate"
           },
           {
            "args": [
             [
              "01/27/2020"
             ],
             {
              "frame": {
               "duration": 0,
               "redraw": true
              },
              "fromcurrent": true,
              "mode": "immediate",
              "transition": {
               "duration": 0,
               "easing": "linear"
              }
             }
            ],
            "label": "01/27/2020",
            "method": "animate"
           },
           {
            "args": [
             [
              "01/28/2020"
             ],
             {
              "frame": {
               "duration": 0,
               "redraw": true
              },
              "fromcurrent": true,
              "mode": "immediate",
              "transition": {
               "duration": 0,
               "easing": "linear"
              }
             }
            ],
            "label": "01/28/2020",
            "method": "animate"
           },
           {
            "args": [
             [
              "01/29/2020"
             ],
             {
              "frame": {
               "duration": 0,
               "redraw": true
              },
              "fromcurrent": true,
              "mode": "immediate",
              "transition": {
               "duration": 0,
               "easing": "linear"
              }
             }
            ],
            "label": "01/29/2020",
            "method": "animate"
           },
           {
            "args": [
             [
              "01/30/2020"
             ],
             {
              "frame": {
               "duration": 0,
               "redraw": true
              },
              "fromcurrent": true,
              "mode": "immediate",
              "transition": {
               "duration": 0,
               "easing": "linear"
              }
             }
            ],
            "label": "01/30/2020",
            "method": "animate"
           },
           {
            "args": [
             [
              "01/31/2020"
             ],
             {
              "frame": {
               "duration": 0,
               "redraw": true
              },
              "fromcurrent": true,
              "mode": "immediate",
              "transition": {
               "duration": 0,
               "easing": "linear"
              }
             }
            ],
            "label": "01/31/2020",
            "method": "animate"
           },
           {
            "args": [
             [
              "02/01/2020"
             ],
             {
              "frame": {
               "duration": 0,
               "redraw": true
              },
              "fromcurrent": true,
              "mode": "immediate",
              "transition": {
               "duration": 0,
               "easing": "linear"
              }
             }
            ],
            "label": "02/01/2020",
            "method": "animate"
           },
           {
            "args": [
             [
              "02/02/2020"
             ],
             {
              "frame": {
               "duration": 0,
               "redraw": true
              },
              "fromcurrent": true,
              "mode": "immediate",
              "transition": {
               "duration": 0,
               "easing": "linear"
              }
             }
            ],
            "label": "02/02/2020",
            "method": "animate"
           },
           {
            "args": [
             [
              "02/03/2020"
             ],
             {
              "frame": {
               "duration": 0,
               "redraw": true
              },
              "fromcurrent": true,
              "mode": "immediate",
              "transition": {
               "duration": 0,
               "easing": "linear"
              }
             }
            ],
            "label": "02/03/2020",
            "method": "animate"
           },
           {
            "args": [
             [
              "02/04/2020"
             ],
             {
              "frame": {
               "duration": 0,
               "redraw": true
              },
              "fromcurrent": true,
              "mode": "immediate",
              "transition": {
               "duration": 0,
               "easing": "linear"
              }
             }
            ],
            "label": "02/04/2020",
            "method": "animate"
           },
           {
            "args": [
             [
              "02/05/2020"
             ],
             {
              "frame": {
               "duration": 0,
               "redraw": true
              },
              "fromcurrent": true,
              "mode": "immediate",
              "transition": {
               "duration": 0,
               "easing": "linear"
              }
             }
            ],
            "label": "02/05/2020",
            "method": "animate"
           },
           {
            "args": [
             [
              "02/06/2020"
             ],
             {
              "frame": {
               "duration": 0,
               "redraw": true
              },
              "fromcurrent": true,
              "mode": "immediate",
              "transition": {
               "duration": 0,
               "easing": "linear"
              }
             }
            ],
            "label": "02/06/2020",
            "method": "animate"
           },
           {
            "args": [
             [
              "02/07/2020"
             ],
             {
              "frame": {
               "duration": 0,
               "redraw": true
              },
              "fromcurrent": true,
              "mode": "immediate",
              "transition": {
               "duration": 0,
               "easing": "linear"
              }
             }
            ],
            "label": "02/07/2020",
            "method": "animate"
           },
           {
            "args": [
             [
              "02/08/2020"
             ],
             {
              "frame": {
               "duration": 0,
               "redraw": true
              },
              "fromcurrent": true,
              "mode": "immediate",
              "transition": {
               "duration": 0,
               "easing": "linear"
              }
             }
            ],
            "label": "02/08/2020",
            "method": "animate"
           },
           {
            "args": [
             [
              "02/09/2020"
             ],
             {
              "frame": {
               "duration": 0,
               "redraw": true
              },
              "fromcurrent": true,
              "mode": "immediate",
              "transition": {
               "duration": 0,
               "easing": "linear"
              }
             }
            ],
            "label": "02/09/2020",
            "method": "animate"
           },
           {
            "args": [
             [
              "02/10/2020"
             ],
             {
              "frame": {
               "duration": 0,
               "redraw": true
              },
              "fromcurrent": true,
              "mode": "immediate",
              "transition": {
               "duration": 0,
               "easing": "linear"
              }
             }
            ],
            "label": "02/10/2020",
            "method": "animate"
           },
           {
            "args": [
             [
              "02/11/2020"
             ],
             {
              "frame": {
               "duration": 0,
               "redraw": true
              },
              "fromcurrent": true,
              "mode": "immediate",
              "transition": {
               "duration": 0,
               "easing": "linear"
              }
             }
            ],
            "label": "02/11/2020",
            "method": "animate"
           },
           {
            "args": [
             [
              "02/12/2020"
             ],
             {
              "frame": {
               "duration": 0,
               "redraw": true
              },
              "fromcurrent": true,
              "mode": "immediate",
              "transition": {
               "duration": 0,
               "easing": "linear"
              }
             }
            ],
            "label": "02/12/2020",
            "method": "animate"
           },
           {
            "args": [
             [
              "02/13/2020"
             ],
             {
              "frame": {
               "duration": 0,
               "redraw": true
              },
              "fromcurrent": true,
              "mode": "immediate",
              "transition": {
               "duration": 0,
               "easing": "linear"
              }
             }
            ],
            "label": "02/13/2020",
            "method": "animate"
           },
           {
            "args": [
             [
              "02/14/2020"
             ],
             {
              "frame": {
               "duration": 0,
               "redraw": true
              },
              "fromcurrent": true,
              "mode": "immediate",
              "transition": {
               "duration": 0,
               "easing": "linear"
              }
             }
            ],
            "label": "02/14/2020",
            "method": "animate"
           },
           {
            "args": [
             [
              "02/15/2020"
             ],
             {
              "frame": {
               "duration": 0,
               "redraw": true
              },
              "fromcurrent": true,
              "mode": "immediate",
              "transition": {
               "duration": 0,
               "easing": "linear"
              }
             }
            ],
            "label": "02/15/2020",
            "method": "animate"
           },
           {
            "args": [
             [
              "02/16/2020"
             ],
             {
              "frame": {
               "duration": 0,
               "redraw": true
              },
              "fromcurrent": true,
              "mode": "immediate",
              "transition": {
               "duration": 0,
               "easing": "linear"
              }
             }
            ],
            "label": "02/16/2020",
            "method": "animate"
           },
           {
            "args": [
             [
              "02/17/2020"
             ],
             {
              "frame": {
               "duration": 0,
               "redraw": true
              },
              "fromcurrent": true,
              "mode": "immediate",
              "transition": {
               "duration": 0,
               "easing": "linear"
              }
             }
            ],
            "label": "02/17/2020",
            "method": "animate"
           },
           {
            "args": [
             [
              "02/18/2020"
             ],
             {
              "frame": {
               "duration": 0,
               "redraw": true
              },
              "fromcurrent": true,
              "mode": "immediate",
              "transition": {
               "duration": 0,
               "easing": "linear"
              }
             }
            ],
            "label": "02/18/2020",
            "method": "animate"
           },
           {
            "args": [
             [
              "02/19/2020"
             ],
             {
              "frame": {
               "duration": 0,
               "redraw": true
              },
              "fromcurrent": true,
              "mode": "immediate",
              "transition": {
               "duration": 0,
               "easing": "linear"
              }
             }
            ],
            "label": "02/19/2020",
            "method": "animate"
           }
          ],
          "x": 0.1,
          "xanchor": "left",
          "y": 0,
          "yanchor": "top"
         }
        ],
        "template": {
         "data": {
          "bar": [
           {
            "error_x": {
             "color": "#2a3f5f"
            },
            "error_y": {
             "color": "#2a3f5f"
            },
            "marker": {
             "line": {
              "color": "#E5ECF6",
              "width": 0.5
             }
            },
            "type": "bar"
           }
          ],
          "barpolar": [
           {
            "marker": {
             "line": {
              "color": "#E5ECF6",
              "width": 0.5
             }
            },
            "type": "barpolar"
           }
          ],
          "carpet": [
           {
            "aaxis": {
             "endlinecolor": "#2a3f5f",
             "gridcolor": "white",
             "linecolor": "white",
             "minorgridcolor": "white",
             "startlinecolor": "#2a3f5f"
            },
            "baxis": {
             "endlinecolor": "#2a3f5f",
             "gridcolor": "white",
             "linecolor": "white",
             "minorgridcolor": "white",
             "startlinecolor": "#2a3f5f"
            },
            "type": "carpet"
           }
          ],
          "choropleth": [
           {
            "colorbar": {
             "outlinewidth": 0,
             "ticks": ""
            },
            "type": "choropleth"
           }
          ],
          "contour": [
           {
            "colorbar": {
             "outlinewidth": 0,
             "ticks": ""
            },
            "colorscale": [
             [
              0,
              "#0d0887"
             ],
             [
              0.1111111111111111,
              "#46039f"
             ],
             [
              0.2222222222222222,
              "#7201a8"
             ],
             [
              0.3333333333333333,
              "#9c179e"
             ],
             [
              0.4444444444444444,
              "#bd3786"
             ],
             [
              0.5555555555555556,
              "#d8576b"
             ],
             [
              0.6666666666666666,
              "#ed7953"
             ],
             [
              0.7777777777777778,
              "#fb9f3a"
             ],
             [
              0.8888888888888888,
              "#fdca26"
             ],
             [
              1,
              "#f0f921"
             ]
            ],
            "type": "contour"
           }
          ],
          "contourcarpet": [
           {
            "colorbar": {
             "outlinewidth": 0,
             "ticks": ""
            },
            "type": "contourcarpet"
           }
          ],
          "heatmap": [
           {
            "colorbar": {
             "outlinewidth": 0,
             "ticks": ""
            },
            "colorscale": [
             [
              0,
              "#0d0887"
             ],
             [
              0.1111111111111111,
              "#46039f"
             ],
             [
              0.2222222222222222,
              "#7201a8"
             ],
             [
              0.3333333333333333,
              "#9c179e"
             ],
             [
              0.4444444444444444,
              "#bd3786"
             ],
             [
              0.5555555555555556,
              "#d8576b"
             ],
             [
              0.6666666666666666,
              "#ed7953"
             ],
             [
              0.7777777777777778,
              "#fb9f3a"
             ],
             [
              0.8888888888888888,
              "#fdca26"
             ],
             [
              1,
              "#f0f921"
             ]
            ],
            "type": "heatmap"
           }
          ],
          "heatmapgl": [
           {
            "colorbar": {
             "outlinewidth": 0,
             "ticks": ""
            },
            "colorscale": [
             [
              0,
              "#0d0887"
             ],
             [
              0.1111111111111111,
              "#46039f"
             ],
             [
              0.2222222222222222,
              "#7201a8"
             ],
             [
              0.3333333333333333,
              "#9c179e"
             ],
             [
              0.4444444444444444,
              "#bd3786"
             ],
             [
              0.5555555555555556,
              "#d8576b"
             ],
             [
              0.6666666666666666,
              "#ed7953"
             ],
             [
              0.7777777777777778,
              "#fb9f3a"
             ],
             [
              0.8888888888888888,
              "#fdca26"
             ],
             [
              1,
              "#f0f921"
             ]
            ],
            "type": "heatmapgl"
           }
          ],
          "histogram": [
           {
            "marker": {
             "colorbar": {
              "outlinewidth": 0,
              "ticks": ""
             }
            },
            "type": "histogram"
           }
          ],
          "histogram2d": [
           {
            "colorbar": {
             "outlinewidth": 0,
             "ticks": ""
            },
            "colorscale": [
             [
              0,
              "#0d0887"
             ],
             [
              0.1111111111111111,
              "#46039f"
             ],
             [
              0.2222222222222222,
              "#7201a8"
             ],
             [
              0.3333333333333333,
              "#9c179e"
             ],
             [
              0.4444444444444444,
              "#bd3786"
             ],
             [
              0.5555555555555556,
              "#d8576b"
             ],
             [
              0.6666666666666666,
              "#ed7953"
             ],
             [
              0.7777777777777778,
              "#fb9f3a"
             ],
             [
              0.8888888888888888,
              "#fdca26"
             ],
             [
              1,
              "#f0f921"
             ]
            ],
            "type": "histogram2d"
           }
          ],
          "histogram2dcontour": [
           {
            "colorbar": {
             "outlinewidth": 0,
             "ticks": ""
            },
            "colorscale": [
             [
              0,
              "#0d0887"
             ],
             [
              0.1111111111111111,
              "#46039f"
             ],
             [
              0.2222222222222222,
              "#7201a8"
             ],
             [
              0.3333333333333333,
              "#9c179e"
             ],
             [
              0.4444444444444444,
              "#bd3786"
             ],
             [
              0.5555555555555556,
              "#d8576b"
             ],
             [
              0.6666666666666666,
              "#ed7953"
             ],
             [
              0.7777777777777778,
              "#fb9f3a"
             ],
             [
              0.8888888888888888,
              "#fdca26"
             ],
             [
              1,
              "#f0f921"
             ]
            ],
            "type": "histogram2dcontour"
           }
          ],
          "mesh3d": [
           {
            "colorbar": {
             "outlinewidth": 0,
             "ticks": ""
            },
            "type": "mesh3d"
           }
          ],
          "parcoords": [
           {
            "line": {
             "colorbar": {
              "outlinewidth": 0,
              "ticks": ""
             }
            },
            "type": "parcoords"
           }
          ],
          "pie": [
           {
            "automargin": true,
            "type": "pie"
           }
          ],
          "scatter": [
           {
            "marker": {
             "colorbar": {
              "outlinewidth": 0,
              "ticks": ""
             }
            },
            "type": "scatter"
           }
          ],
          "scatter3d": [
           {
            "line": {
             "colorbar": {
              "outlinewidth": 0,
              "ticks": ""
             }
            },
            "marker": {
             "colorbar": {
              "outlinewidth": 0,
              "ticks": ""
             }
            },
            "type": "scatter3d"
           }
          ],
          "scattercarpet": [
           {
            "marker": {
             "colorbar": {
              "outlinewidth": 0,
              "ticks": ""
             }
            },
            "type": "scattercarpet"
           }
          ],
          "scattergeo": [
           {
            "marker": {
             "colorbar": {
              "outlinewidth": 0,
              "ticks": ""
             }
            },
            "type": "scattergeo"
           }
          ],
          "scattergl": [
           {
            "marker": {
             "colorbar": {
              "outlinewidth": 0,
              "ticks": ""
             }
            },
            "type": "scattergl"
           }
          ],
          "scattermapbox": [
           {
            "marker": {
             "colorbar": {
              "outlinewidth": 0,
              "ticks": ""
             }
            },
            "type": "scattermapbox"
           }
          ],
          "scatterpolar": [
           {
            "marker": {
             "colorbar": {
              "outlinewidth": 0,
              "ticks": ""
             }
            },
            "type": "scatterpolar"
           }
          ],
          "scatterpolargl": [
           {
            "marker": {
             "colorbar": {
              "outlinewidth": 0,
              "ticks": ""
             }
            },
            "type": "scatterpolargl"
           }
          ],
          "scatterternary": [
           {
            "marker": {
             "colorbar": {
              "outlinewidth": 0,
              "ticks": ""
             }
            },
            "type": "scatterternary"
           }
          ],
          "surface": [
           {
            "colorbar": {
             "outlinewidth": 0,
             "ticks": ""
            },
            "colorscale": [
             [
              0,
              "#0d0887"
             ],
             [
              0.1111111111111111,
              "#46039f"
             ],
             [
              0.2222222222222222,
              "#7201a8"
             ],
             [
              0.3333333333333333,
              "#9c179e"
             ],
             [
              0.4444444444444444,
              "#bd3786"
             ],
             [
              0.5555555555555556,
              "#d8576b"
             ],
             [
              0.6666666666666666,
              "#ed7953"
             ],
             [
              0.7777777777777778,
              "#fb9f3a"
             ],
             [
              0.8888888888888888,
              "#fdca26"
             ],
             [
              1,
              "#f0f921"
             ]
            ],
            "type": "surface"
           }
          ],
          "table": [
           {
            "cells": {
             "fill": {
              "color": "#EBF0F8"
             },
             "line": {
              "color": "white"
             }
            },
            "header": {
             "fill": {
              "color": "#C8D4E3"
             },
             "line": {
              "color": "white"
             }
            },
            "type": "table"
           }
          ]
         },
         "layout": {
          "annotationdefaults": {
           "arrowcolor": "#2a3f5f",
           "arrowhead": 0,
           "arrowwidth": 1
          },
          "coloraxis": {
           "colorbar": {
            "outlinewidth": 0,
            "ticks": ""
           }
          },
          "colorscale": {
           "diverging": [
            [
             0,
             "#8e0152"
            ],
            [
             0.1,
             "#c51b7d"
            ],
            [
             0.2,
             "#de77ae"
            ],
            [
             0.3,
             "#f1b6da"
            ],
            [
             0.4,
             "#fde0ef"
            ],
            [
             0.5,
             "#f7f7f7"
            ],
            [
             0.6,
             "#e6f5d0"
            ],
            [
             0.7,
             "#b8e186"
            ],
            [
             0.8,
             "#7fbc41"
            ],
            [
             0.9,
             "#4d9221"
            ],
            [
             1,
             "#276419"
            ]
           ],
           "sequential": [
            [
             0,
             "#0d0887"
            ],
            [
             0.1111111111111111,
             "#46039f"
            ],
            [
             0.2222222222222222,
             "#7201a8"
            ],
            [
             0.3333333333333333,
             "#9c179e"
            ],
            [
             0.4444444444444444,
             "#bd3786"
            ],
            [
             0.5555555555555556,
             "#d8576b"
            ],
            [
             0.6666666666666666,
             "#ed7953"
            ],
            [
             0.7777777777777778,
             "#fb9f3a"
            ],
            [
             0.8888888888888888,
             "#fdca26"
            ],
            [
             1,
             "#f0f921"
            ]
           ],
           "sequentialminus": [
            [
             0,
             "#0d0887"
            ],
            [
             0.1111111111111111,
             "#46039f"
            ],
            [
             0.2222222222222222,
             "#7201a8"
            ],
            [
             0.3333333333333333,
             "#9c179e"
            ],
            [
             0.4444444444444444,
             "#bd3786"
            ],
            [
             0.5555555555555556,
             "#d8576b"
            ],
            [
             0.6666666666666666,
             "#ed7953"
            ],
            [
             0.7777777777777778,
             "#fb9f3a"
            ],
            [
             0.8888888888888888,
             "#fdca26"
            ],
            [
             1,
             "#f0f921"
            ]
           ]
          },
          "colorway": [
           "#636efa",
           "#EF553B",
           "#00cc96",
           "#ab63fa",
           "#FFA15A",
           "#19d3f3",
           "#FF6692",
           "#B6E880",
           "#FF97FF",
           "#FECB52"
          ],
          "font": {
           "color": "#2a3f5f"
          },
          "geo": {
           "bgcolor": "white",
           "lakecolor": "white",
           "landcolor": "#E5ECF6",
           "showlakes": true,
           "showland": true,
           "subunitcolor": "white"
          },
          "hoverlabel": {
           "align": "left"
          },
          "hovermode": "closest",
          "mapbox": {
           "style": "light"
          },
          "paper_bgcolor": "white",
          "plot_bgcolor": "#E5ECF6",
          "polar": {
           "angularaxis": {
            "gridcolor": "white",
            "linecolor": "white",
            "ticks": ""
           },
           "bgcolor": "#E5ECF6",
           "radialaxis": {
            "gridcolor": "white",
            "linecolor": "white",
            "ticks": ""
           }
          },
          "scene": {
           "xaxis": {
            "backgroundcolor": "#E5ECF6",
            "gridcolor": "white",
            "gridwidth": 2,
            "linecolor": "white",
            "showbackground": true,
            "ticks": "",
            "zerolinecolor": "white"
           },
           "yaxis": {
            "backgroundcolor": "#E5ECF6",
            "gridcolor": "white",
            "gridwidth": 2,
            "linecolor": "white",
            "showbackground": true,
            "ticks": "",
            "zerolinecolor": "white"
           },
           "zaxis": {
            "backgroundcolor": "#E5ECF6",
            "gridcolor": "white",
            "gridwidth": 2,
            "linecolor": "white",
            "showbackground": true,
            "ticks": "",
            "zerolinecolor": "white"
           }
          },
          "shapedefaults": {
           "line": {
            "color": "#2a3f5f"
           }
          },
          "ternary": {
           "aaxis": {
            "gridcolor": "white",
            "linecolor": "white",
            "ticks": ""
           },
           "baxis": {
            "gridcolor": "white",
            "linecolor": "white",
            "ticks": ""
           },
           "bgcolor": "#E5ECF6",
           "caxis": {
            "gridcolor": "white",
            "linecolor": "white",
            "ticks": ""
           }
          },
          "title": {
           "x": 0.05
          },
          "xaxis": {
           "automargin": true,
           "gridcolor": "white",
           "linecolor": "white",
           "ticks": "",
           "title": {
            "standoff": 15
           },
           "zerolinecolor": "white",
           "zerolinewidth": 2
          },
          "yaxis": {
           "automargin": true,
           "gridcolor": "white",
           "linecolor": "white",
           "ticks": "",
           "title": {
            "standoff": 15
           },
           "zerolinecolor": "white",
           "zerolinewidth": 2
          }
         }
        },
        "title": {
         "text": "Spread in China over time"
        },
        "updatemenus": [
         {
          "buttons": [
           {
            "args": [
             null,
             {
              "frame": {
               "duration": 500,
               "redraw": true
              },
              "fromcurrent": true,
              "mode": "immediate",
              "transition": {
               "duration": 500,
               "easing": "linear"
              }
             }
            ],
            "label": "&#9654;",
            "method": "animate"
           },
           {
            "args": [
             [
              null
             ],
             {
              "frame": {
               "duration": 0,
               "redraw": true
              },
              "fromcurrent": true,
              "mode": "immediate",
              "transition": {
               "duration": 0,
               "easing": "linear"
              }
             }
            ],
            "label": "&#9724;",
            "method": "animate"
           }
          ],
          "direction": "left",
          "pad": {
           "r": 10,
           "t": 70
          },
          "showactive": false,
          "type": "buttons",
          "x": 0.1,
          "xanchor": "right",
          "y": 0,
          "yanchor": "top"
         }
        ]
       }
      },
      "text/html": [
       "<div>\n",
       "        \n",
       "        \n",
       "            <div id=\"b0f6927d-3816-47dd-a2af-bac9876f4411\" class=\"plotly-graph-div\" style=\"height:525px; width:100%;\"></div>\n",
       "            <script type=\"text/javascript\">\n",
       "                require([\"plotly\"], function(Plotly) {\n",
       "                    window.PLOTLYENV=window.PLOTLYENV || {};\n",
       "                    \n",
       "                if (document.getElementById(\"b0f6927d-3816-47dd-a2af-bac9876f4411\")) {\n",
       "                    Plotly.newPlot(\n",
       "                        'b0f6927d-3816-47dd-a2af-bac9876f4411',\n",
       "                        [{\"customdata\": [[1.0, 0.0, 0.016129032258064516], [14.0, 0.0, 0.6499535747446611], [6.0, 0.0, 0.19685039370078738], [1.0, 0.0, 0.025933609958506222], [0.0, 0.0, 0.0], [26.0, 0.0, 0.22915564956812975], [2.0, 0.0, 0.0413393964448119], [1.0, 0.0, 0.02877697841726619], [4.0, 0.0, 0.4301075268817204], [1.0, 0.0, 0.013386880856760375], [0.0, 0.0, 0.0], [5.0, 0.0, 0.05319148936170213], [444.0, 17.0, 7.589743589743589], [4.0, 0.0, 0.059373608431052396], [0.0, 0.0, 0.0], [1.0, 0.0, 0.01243781094527363], [2.0, 0.0, 0.04424778761061947], [0.0, 0.0, 0.0], [2.0, 0.0, 0.04555808656036447], [1.0, 0.0, 0.15873015873015872], [0.0, 0.0, 0.0], [0.0, 0.0, 0.0], [2.0, 0.0, 0.022222222222222223], [9.0, 0.0, 0.3712871287128713], [1.0, 0.0, 0.0273972602739726], [5.0, 0.0, 0.06165228113440198], [4.0, 0.0, 0.26666666666666666], [0.0, 0.0, 0.0], [0.0, 0.0, 0.0], [1.0, 0.0, 0.021739130434782608], [10.0, 0.0, 0.17421602787456447]], \"geo\": \"geo\", \"hoverlabel\": {\"namelength\": 0}, \"hovertemplate\": \"<b>%{hovertext}</b><br><br>Date=01/22/2020<br>size=%{marker.color}<br>Confirmed=%{customdata[0]}<br>Deaths=%{customdata[1]}<br>Severity=%{customdata[2]}<br>Lat=%{lat}<br>Long=%{lon}\", \"hovertext\": [\"Anhui\", \"Beijing\", \"Chongqing\", \"Fujian\", \"Gansu\", \"Guangdong\", \"Guangxi\", \"Guizhou\", \"Hainan\", \"Hebei\", \"Heilongjiang\", \"Henan\", \"Hubei\", \"Hunan\", \"Inner Mongolia\", \"Jiangsu\", \"Jiangxi\", \"Jilin\", \"Liaoning\", \"Ningxia\", \"Qinghai\", \"Shaanxi\", \"Shandong\", \"Shanghai\", \"Shanxi\", \"Sichuan\", \"Tianjin\", \"Tibet\", \"Xinjiang\", \"Yunnan\", \"Zhejiang\"], \"lat\": [31.825709999999997, 40.18238, 30.05718, 26.07783, 36.0611, 23.33841, 23.829079999999998, 26.81536, 19.19673, 38.0428, 47.861999999999995, 33.882020000000004, 30.975640000000002, 27.610409999999998, 44.09448, 32.97027, 27.614009999999997, 43.66657, 41.292840000000005, 37.26923, 35.65945, 35.19165, 36.34377, 31.20327, 37.577690000000004, 30.617140000000003, 39.293620000000004, 30.1534, 41.11981, 24.97411, 29.182509999999997], \"legendgroup\": \"\", \"lon\": [117.2264, 116.4142, 107.874, 117.9895, 103.8343, 113.42200000000001, 108.7881, 106.8748, 109.7455, 114.5149, 127.7622, 113.61399999999999, 112.2707, 111.7088, 113.9456, 119.464, 115.7221, 126.1917, 122.6086, 106.1655, 96.02564, 108.8701, 118.1529, 121.4554, 112.2922, 102.7103, 117.333, 88.7879, 85.17822, 101.4868, 120.0985], \"marker\": {\"color\": [0.1270001270001905, 0.8061969825946145, 0.4436782547080569, 0.1610391566002077, 0.0, 0.47870204675573486, 0.20332091984056117, 0.16963778593599418, 0.6558258357839529, 0.11570168908343721, 0.0, 0.23063280200722128, 2.754948926884778, 0.24366700316426185, 0.0, 0.11152493418636762, 0.21035158095583562, 0.0, 0.2134434036468789, 0.3984095364447979, 0.0, 0.0, 0.14907119849998599, 0.6093333477767906, 0.1655211777204736, 0.24829877392851132, 0.5163977794943222, 0.0, 0.0, 0.14744195615489714, 0.4173919355648411], \"coloraxis\": \"coloraxis\", \"size\": [0.1270001270001905, 0.8061969825946145, 0.4436782547080569, 0.1610391566002077, 0.0, 0.47870204675573486, 0.20332091984056117, 0.16963778593599418, 0.6558258357839529, 0.11570168908343721, 0.0, 0.23063280200722128, 2.754948926884778, 0.24366700316426185, 0.0, 0.11152493418636762, 0.21035158095583562, 0.0, 0.2134434036468789, 0.3984095364447979, 0.0, 0.0, 0.14907119849998599, 0.6093333477767906, 0.1655211777204736, 0.24829877392851132, 0.5163977794943222, 0.0, 0.0, 0.14744195615489714, 0.4173919355648411], \"sizemode\": \"area\", \"sizeref\": 0.08140788407607454}, \"name\": \"\", \"showlegend\": false, \"type\": \"scattergeo\"}],\n",
       "                        {\"coloraxis\": {\"colorbar\": {\"title\": {\"text\": \"size\"}}, \"colorscale\": [[0.0, \"#0d0887\"], [0.1111111111111111, \"#46039f\"], [0.2222222222222222, \"#7201a8\"], [0.3333333333333333, \"#9c179e\"], [0.4444444444444444, \"#bd3786\"], [0.5555555555555556, \"#d8576b\"], [0.6666666666666666, \"#ed7953\"], [0.7777777777777778, \"#fb9f3a\"], [0.8888888888888888, \"#fdca26\"], [1.0, \"#f0f921\"]], \"showscale\": false}, \"geo\": {\"center\": {}, \"domain\": {\"x\": [0.0, 1.0], \"y\": [0.0, 1.0]}, \"scope\": \"asia\"}, \"legend\": {\"itemsizing\": \"constant\", \"tracegroupgap\": 0}, \"sliders\": [{\"active\": 0, \"currentvalue\": {\"prefix\": \"Date=\"}, \"len\": 0.9, \"pad\": {\"b\": 10, \"t\": 60}, \"steps\": [{\"args\": [[\"01/22/2020\"], {\"frame\": {\"duration\": 0, \"redraw\": true}, \"fromcurrent\": true, \"mode\": \"immediate\", \"transition\": {\"duration\": 0, \"easing\": \"linear\"}}], \"label\": \"01/22/2020\", \"method\": \"animate\"}, {\"args\": [[\"01/23/2020\"], {\"frame\": {\"duration\": 0, \"redraw\": true}, \"fromcurrent\": true, \"mode\": \"immediate\", \"transition\": {\"duration\": 0, \"easing\": \"linear\"}}], \"label\": \"01/23/2020\", \"method\": \"animate\"}, {\"args\": [[\"01/24/2020\"], {\"frame\": {\"duration\": 0, \"redraw\": true}, \"fromcurrent\": true, \"mode\": \"immediate\", \"transition\": {\"duration\": 0, \"easing\": \"linear\"}}], \"label\": \"01/24/2020\", \"method\": \"animate\"}, {\"args\": [[\"01/25/2020\"], {\"frame\": {\"duration\": 0, \"redraw\": true}, \"fromcurrent\": true, \"mode\": \"immediate\", \"transition\": {\"duration\": 0, \"easing\": \"linear\"}}], \"label\": \"01/25/2020\", \"method\": \"animate\"}, {\"args\": [[\"01/26/2020\"], {\"frame\": {\"duration\": 0, \"redraw\": true}, \"fromcurrent\": true, \"mode\": \"immediate\", \"transition\": {\"duration\": 0, \"easing\": \"linear\"}}], \"label\": \"01/26/2020\", \"method\": \"animate\"}, {\"args\": [[\"01/27/2020\"], {\"frame\": {\"duration\": 0, \"redraw\": true}, \"fromcurrent\": true, \"mode\": \"immediate\", \"transition\": {\"duration\": 0, \"easing\": \"linear\"}}], \"label\": \"01/27/2020\", \"method\": \"animate\"}, {\"args\": [[\"01/28/2020\"], {\"frame\": {\"duration\": 0, \"redraw\": true}, \"fromcurrent\": true, \"mode\": \"immediate\", \"transition\": {\"duration\": 0, \"easing\": \"linear\"}}], \"label\": \"01/28/2020\", \"method\": \"animate\"}, {\"args\": [[\"01/29/2020\"], {\"frame\": {\"duration\": 0, \"redraw\": true}, \"fromcurrent\": true, \"mode\": \"immediate\", \"transition\": {\"duration\": 0, \"easing\": \"linear\"}}], \"label\": \"01/29/2020\", \"method\": \"animate\"}, {\"args\": [[\"01/30/2020\"], {\"frame\": {\"duration\": 0, \"redraw\": true}, \"fromcurrent\": true, \"mode\": \"immediate\", \"transition\": {\"duration\": 0, \"easing\": \"linear\"}}], \"label\": \"01/30/2020\", \"method\": \"animate\"}, {\"args\": [[\"01/31/2020\"], {\"frame\": {\"duration\": 0, \"redraw\": true}, \"fromcurrent\": true, \"mode\": \"immediate\", \"transition\": {\"duration\": 0, \"easing\": \"linear\"}}], \"label\": \"01/31/2020\", \"method\": \"animate\"}, {\"args\": [[\"02/01/2020\"], {\"frame\": {\"duration\": 0, \"redraw\": true}, \"fromcurrent\": true, \"mode\": \"immediate\", \"transition\": {\"duration\": 0, \"easing\": \"linear\"}}], \"label\": \"02/01/2020\", \"method\": \"animate\"}, {\"args\": [[\"02/02/2020\"], {\"frame\": {\"duration\": 0, \"redraw\": true}, \"fromcurrent\": true, \"mode\": \"immediate\", \"transition\": {\"duration\": 0, \"easing\": \"linear\"}}], \"label\": \"02/02/2020\", \"method\": \"animate\"}, {\"args\": [[\"02/03/2020\"], {\"frame\": {\"duration\": 0, \"redraw\": true}, \"fromcurrent\": true, \"mode\": \"immediate\", \"transition\": {\"duration\": 0, \"easing\": \"linear\"}}], \"label\": \"02/03/2020\", \"method\": \"animate\"}, {\"args\": [[\"02/04/2020\"], {\"frame\": {\"duration\": 0, \"redraw\": true}, \"fromcurrent\": true, \"mode\": \"immediate\", \"transition\": {\"duration\": 0, \"easing\": \"linear\"}}], \"label\": \"02/04/2020\", \"method\": \"animate\"}, {\"args\": [[\"02/05/2020\"], {\"frame\": {\"duration\": 0, \"redraw\": true}, \"fromcurrent\": true, \"mode\": \"immediate\", \"transition\": {\"duration\": 0, \"easing\": \"linear\"}}], \"label\": \"02/05/2020\", \"method\": \"animate\"}, {\"args\": [[\"02/06/2020\"], {\"frame\": {\"duration\": 0, \"redraw\": true}, \"fromcurrent\": true, \"mode\": \"immediate\", \"transition\": {\"duration\": 0, \"easing\": \"linear\"}}], \"label\": \"02/06/2020\", \"method\": \"animate\"}, {\"args\": [[\"02/07/2020\"], {\"frame\": {\"duration\": 0, \"redraw\": true}, \"fromcurrent\": true, \"mode\": \"immediate\", \"transition\": {\"duration\": 0, \"easing\": \"linear\"}}], \"label\": \"02/07/2020\", \"method\": \"animate\"}, {\"args\": [[\"02/08/2020\"], {\"frame\": {\"duration\": 0, \"redraw\": true}, \"fromcurrent\": true, \"mode\": \"immediate\", \"transition\": {\"duration\": 0, \"easing\": \"linear\"}}], \"label\": \"02/08/2020\", \"method\": \"animate\"}, {\"args\": [[\"02/09/2020\"], {\"frame\": {\"duration\": 0, \"redraw\": true}, \"fromcurrent\": true, \"mode\": \"immediate\", \"transition\": {\"duration\": 0, \"easing\": \"linear\"}}], \"label\": \"02/09/2020\", \"method\": \"animate\"}, {\"args\": [[\"02/10/2020\"], {\"frame\": {\"duration\": 0, \"redraw\": true}, \"fromcurrent\": true, \"mode\": \"immediate\", \"transition\": {\"duration\": 0, \"easing\": \"linear\"}}], \"label\": \"02/10/2020\", \"method\": \"animate\"}, {\"args\": [[\"02/11/2020\"], {\"frame\": {\"duration\": 0, \"redraw\": true}, \"fromcurrent\": true, \"mode\": \"immediate\", \"transition\": {\"duration\": 0, \"easing\": \"linear\"}}], \"label\": \"02/11/2020\", \"method\": \"animate\"}, {\"args\": [[\"02/12/2020\"], {\"frame\": {\"duration\": 0, \"redraw\": true}, \"fromcurrent\": true, \"mode\": \"immediate\", \"transition\": {\"duration\": 0, \"easing\": \"linear\"}}], \"label\": \"02/12/2020\", \"method\": \"animate\"}, {\"args\": [[\"02/13/2020\"], {\"frame\": {\"duration\": 0, \"redraw\": true}, \"fromcurrent\": true, \"mode\": \"immediate\", \"transition\": {\"duration\": 0, \"easing\": \"linear\"}}], \"label\": \"02/13/2020\", \"method\": \"animate\"}, {\"args\": [[\"02/14/2020\"], {\"frame\": {\"duration\": 0, \"redraw\": true}, \"fromcurrent\": true, \"mode\": \"immediate\", \"transition\": {\"duration\": 0, \"easing\": \"linear\"}}], \"label\": \"02/14/2020\", \"method\": \"animate\"}, {\"args\": [[\"02/15/2020\"], {\"frame\": {\"duration\": 0, \"redraw\": true}, \"fromcurrent\": true, \"mode\": \"immediate\", \"transition\": {\"duration\": 0, \"easing\": \"linear\"}}], \"label\": \"02/15/2020\", \"method\": \"animate\"}, {\"args\": [[\"02/16/2020\"], {\"frame\": {\"duration\": 0, \"redraw\": true}, \"fromcurrent\": true, \"mode\": \"immediate\", \"transition\": {\"duration\": 0, \"easing\": \"linear\"}}], \"label\": \"02/16/2020\", \"method\": \"animate\"}, {\"args\": [[\"02/17/2020\"], {\"frame\": {\"duration\": 0, \"redraw\": true}, \"fromcurrent\": true, \"mode\": \"immediate\", \"transition\": {\"duration\": 0, \"easing\": \"linear\"}}], \"label\": \"02/17/2020\", \"method\": \"animate\"}, {\"args\": [[\"02/18/2020\"], {\"frame\": {\"duration\": 0, \"redraw\": true}, \"fromcurrent\": true, \"mode\": \"immediate\", \"transition\": {\"duration\": 0, \"easing\": \"linear\"}}], \"label\": \"02/18/2020\", \"method\": \"animate\"}, {\"args\": [[\"02/19/2020\"], {\"frame\": {\"duration\": 0, \"redraw\": true}, \"fromcurrent\": true, \"mode\": \"immediate\", \"transition\": {\"duration\": 0, \"easing\": \"linear\"}}], \"label\": \"02/19/2020\", \"method\": \"animate\"}], \"x\": 0.1, \"xanchor\": \"left\", \"y\": 0, \"yanchor\": \"top\"}], \"template\": {\"data\": {\"bar\": [{\"error_x\": {\"color\": \"#2a3f5f\"}, \"error_y\": {\"color\": \"#2a3f5f\"}, \"marker\": {\"line\": {\"color\": \"#E5ECF6\", \"width\": 0.5}}, \"type\": \"bar\"}], \"barpolar\": [{\"marker\": {\"line\": {\"color\": \"#E5ECF6\", \"width\": 0.5}}, \"type\": \"barpolar\"}], \"carpet\": [{\"aaxis\": {\"endlinecolor\": \"#2a3f5f\", \"gridcolor\": \"white\", \"linecolor\": \"white\", \"minorgridcolor\": \"white\", \"startlinecolor\": \"#2a3f5f\"}, \"baxis\": {\"endlinecolor\": \"#2a3f5f\", \"gridcolor\": \"white\", \"linecolor\": \"white\", \"minorgridcolor\": \"white\", \"startlinecolor\": \"#2a3f5f\"}, \"type\": \"carpet\"}], \"choropleth\": [{\"colorbar\": {\"outlinewidth\": 0, \"ticks\": \"\"}, \"type\": \"choropleth\"}], \"contour\": [{\"colorbar\": {\"outlinewidth\": 0, \"ticks\": \"\"}, \"colorscale\": [[0.0, \"#0d0887\"], [0.1111111111111111, \"#46039f\"], [0.2222222222222222, \"#7201a8\"], [0.3333333333333333, \"#9c179e\"], [0.4444444444444444, \"#bd3786\"], [0.5555555555555556, \"#d8576b\"], [0.6666666666666666, \"#ed7953\"], [0.7777777777777778, \"#fb9f3a\"], [0.8888888888888888, \"#fdca26\"], [1.0, \"#f0f921\"]], \"type\": \"contour\"}], \"contourcarpet\": [{\"colorbar\": {\"outlinewidth\": 0, \"ticks\": \"\"}, \"type\": \"contourcarpet\"}], \"heatmap\": [{\"colorbar\": {\"outlinewidth\": 0, \"ticks\": \"\"}, \"colorscale\": [[0.0, \"#0d0887\"], [0.1111111111111111, \"#46039f\"], [0.2222222222222222, \"#7201a8\"], [0.3333333333333333, \"#9c179e\"], [0.4444444444444444, \"#bd3786\"], [0.5555555555555556, \"#d8576b\"], [0.6666666666666666, \"#ed7953\"], [0.7777777777777778, \"#fb9f3a\"], [0.8888888888888888, \"#fdca26\"], [1.0, \"#f0f921\"]], \"type\": \"heatmap\"}], \"heatmapgl\": [{\"colorbar\": {\"outlinewidth\": 0, \"ticks\": \"\"}, \"colorscale\": [[0.0, \"#0d0887\"], [0.1111111111111111, \"#46039f\"], [0.2222222222222222, \"#7201a8\"], [0.3333333333333333, \"#9c179e\"], [0.4444444444444444, \"#bd3786\"], [0.5555555555555556, \"#d8576b\"], [0.6666666666666666, \"#ed7953\"], [0.7777777777777778, \"#fb9f3a\"], [0.8888888888888888, \"#fdca26\"], [1.0, \"#f0f921\"]], \"type\": \"heatmapgl\"}], \"histogram\": [{\"marker\": {\"colorbar\": {\"outlinewidth\": 0, \"ticks\": \"\"}}, \"type\": \"histogram\"}], \"histogram2d\": [{\"colorbar\": {\"outlinewidth\": 0, \"ticks\": \"\"}, \"colorscale\": [[0.0, \"#0d0887\"], [0.1111111111111111, \"#46039f\"], [0.2222222222222222, \"#7201a8\"], [0.3333333333333333, \"#9c179e\"], [0.4444444444444444, \"#bd3786\"], [0.5555555555555556, \"#d8576b\"], [0.6666666666666666, \"#ed7953\"], [0.7777777777777778, \"#fb9f3a\"], [0.8888888888888888, \"#fdca26\"], [1.0, \"#f0f921\"]], \"type\": \"histogram2d\"}], \"histogram2dcontour\": [{\"colorbar\": {\"outlinewidth\": 0, \"ticks\": \"\"}, \"colorscale\": [[0.0, \"#0d0887\"], [0.1111111111111111, \"#46039f\"], [0.2222222222222222, \"#7201a8\"], [0.3333333333333333, \"#9c179e\"], [0.4444444444444444, \"#bd3786\"], [0.5555555555555556, \"#d8576b\"], [0.6666666666666666, \"#ed7953\"], [0.7777777777777778, \"#fb9f3a\"], [0.8888888888888888, \"#fdca26\"], [1.0, \"#f0f921\"]], \"type\": \"histogram2dcontour\"}], \"mesh3d\": [{\"colorbar\": {\"outlinewidth\": 0, \"ticks\": \"\"}, \"type\": \"mesh3d\"}], \"parcoords\": [{\"line\": {\"colorbar\": {\"outlinewidth\": 0, \"ticks\": \"\"}}, \"type\": \"parcoords\"}], \"pie\": [{\"automargin\": true, \"type\": \"pie\"}], \"scatter\": [{\"marker\": {\"colorbar\": {\"outlinewidth\": 0, \"ticks\": \"\"}}, \"type\": \"scatter\"}], \"scatter3d\": [{\"line\": {\"colorbar\": {\"outlinewidth\": 0, \"ticks\": \"\"}}, \"marker\": {\"colorbar\": {\"outlinewidth\": 0, \"ticks\": \"\"}}, \"type\": \"scatter3d\"}], \"scattercarpet\": [{\"marker\": {\"colorbar\": {\"outlinewidth\": 0, \"ticks\": \"\"}}, \"type\": \"scattercarpet\"}], \"scattergeo\": [{\"marker\": {\"colorbar\": {\"outlinewidth\": 0, \"ticks\": \"\"}}, \"type\": \"scattergeo\"}], \"scattergl\": [{\"marker\": {\"colorbar\": {\"outlinewidth\": 0, \"ticks\": \"\"}}, \"type\": \"scattergl\"}], \"scattermapbox\": [{\"marker\": {\"colorbar\": {\"outlinewidth\": 0, \"ticks\": \"\"}}, \"type\": \"scattermapbox\"}], \"scatterpolar\": [{\"marker\": {\"colorbar\": {\"outlinewidth\": 0, \"ticks\": \"\"}}, \"type\": \"scatterpolar\"}], \"scatterpolargl\": [{\"marker\": {\"colorbar\": {\"outlinewidth\": 0, \"ticks\": \"\"}}, \"type\": \"scatterpolargl\"}], \"scatterternary\": [{\"marker\": {\"colorbar\": {\"outlinewidth\": 0, \"ticks\": \"\"}}, \"type\": \"scatterternary\"}], \"surface\": [{\"colorbar\": {\"outlinewidth\": 0, \"ticks\": \"\"}, \"colorscale\": [[0.0, \"#0d0887\"], [0.1111111111111111, \"#46039f\"], [0.2222222222222222, \"#7201a8\"], [0.3333333333333333, \"#9c179e\"], [0.4444444444444444, \"#bd3786\"], [0.5555555555555556, \"#d8576b\"], [0.6666666666666666, \"#ed7953\"], [0.7777777777777778, \"#fb9f3a\"], [0.8888888888888888, \"#fdca26\"], [1.0, \"#f0f921\"]], \"type\": \"surface\"}], \"table\": [{\"cells\": {\"fill\": {\"color\": \"#EBF0F8\"}, \"line\": {\"color\": \"white\"}}, \"header\": {\"fill\": {\"color\": \"#C8D4E3\"}, \"line\": {\"color\": \"white\"}}, \"type\": \"table\"}]}, \"layout\": {\"annotationdefaults\": {\"arrowcolor\": \"#2a3f5f\", \"arrowhead\": 0, \"arrowwidth\": 1}, \"coloraxis\": {\"colorbar\": {\"outlinewidth\": 0, \"ticks\": \"\"}}, \"colorscale\": {\"diverging\": [[0, \"#8e0152\"], [0.1, \"#c51b7d\"], [0.2, \"#de77ae\"], [0.3, \"#f1b6da\"], [0.4, \"#fde0ef\"], [0.5, \"#f7f7f7\"], [0.6, \"#e6f5d0\"], [0.7, \"#b8e186\"], [0.8, \"#7fbc41\"], [0.9, \"#4d9221\"], [1, \"#276419\"]], \"sequential\": [[0.0, \"#0d0887\"], [0.1111111111111111, \"#46039f\"], [0.2222222222222222, \"#7201a8\"], [0.3333333333333333, \"#9c179e\"], [0.4444444444444444, \"#bd3786\"], [0.5555555555555556, \"#d8576b\"], [0.6666666666666666, \"#ed7953\"], [0.7777777777777778, \"#fb9f3a\"], [0.8888888888888888, \"#fdca26\"], [1.0, \"#f0f921\"]], \"sequentialminus\": [[0.0, \"#0d0887\"], [0.1111111111111111, \"#46039f\"], [0.2222222222222222, \"#7201a8\"], [0.3333333333333333, \"#9c179e\"], [0.4444444444444444, \"#bd3786\"], [0.5555555555555556, \"#d8576b\"], [0.6666666666666666, \"#ed7953\"], [0.7777777777777778, \"#fb9f3a\"], [0.8888888888888888, \"#fdca26\"], [1.0, \"#f0f921\"]]}, \"colorway\": [\"#636efa\", \"#EF553B\", \"#00cc96\", \"#ab63fa\", \"#FFA15A\", \"#19d3f3\", \"#FF6692\", \"#B6E880\", \"#FF97FF\", \"#FECB52\"], \"font\": {\"color\": \"#2a3f5f\"}, \"geo\": {\"bgcolor\": \"white\", \"lakecolor\": \"white\", \"landcolor\": \"#E5ECF6\", \"showlakes\": true, \"showland\": true, \"subunitcolor\": \"white\"}, \"hoverlabel\": {\"align\": \"left\"}, \"hovermode\": \"closest\", \"mapbox\": {\"style\": \"light\"}, \"paper_bgcolor\": \"white\", \"plot_bgcolor\": \"#E5ECF6\", \"polar\": {\"angularaxis\": {\"gridcolor\": \"white\", \"linecolor\": \"white\", \"ticks\": \"\"}, \"bgcolor\": \"#E5ECF6\", \"radialaxis\": {\"gridcolor\": \"white\", \"linecolor\": \"white\", \"ticks\": \"\"}}, \"scene\": {\"xaxis\": {\"backgroundcolor\": \"#E5ECF6\", \"gridcolor\": \"white\", \"gridwidth\": 2, \"linecolor\": \"white\", \"showbackground\": true, \"ticks\": \"\", \"zerolinecolor\": \"white\"}, \"yaxis\": {\"backgroundcolor\": \"#E5ECF6\", \"gridcolor\": \"white\", \"gridwidth\": 2, \"linecolor\": \"white\", \"showbackground\": true, \"ticks\": \"\", \"zerolinecolor\": \"white\"}, \"zaxis\": {\"backgroundcolor\": \"#E5ECF6\", \"gridcolor\": \"white\", \"gridwidth\": 2, \"linecolor\": \"white\", \"showbackground\": true, \"ticks\": \"\", \"zerolinecolor\": \"white\"}}, \"shapedefaults\": {\"line\": {\"color\": \"#2a3f5f\"}}, \"ternary\": {\"aaxis\": {\"gridcolor\": \"white\", \"linecolor\": \"white\", \"ticks\": \"\"}, \"baxis\": {\"gridcolor\": \"white\", \"linecolor\": \"white\", \"ticks\": \"\"}, \"bgcolor\": \"#E5ECF6\", \"caxis\": {\"gridcolor\": \"white\", \"linecolor\": \"white\", \"ticks\": \"\"}}, \"title\": {\"x\": 0.05}, \"xaxis\": {\"automargin\": true, \"gridcolor\": \"white\", \"linecolor\": \"white\", \"ticks\": \"\", \"title\": {\"standoff\": 15}, \"zerolinecolor\": \"white\", \"zerolinewidth\": 2}, \"yaxis\": {\"automargin\": true, \"gridcolor\": \"white\", \"linecolor\": \"white\", \"ticks\": \"\", \"title\": {\"standoff\": 15}, \"zerolinecolor\": \"white\", \"zerolinewidth\": 2}}}, \"title\": {\"text\": \"Spread in China over time\"}, \"updatemenus\": [{\"buttons\": [{\"args\": [null, {\"frame\": {\"duration\": 500, \"redraw\": true}, \"fromcurrent\": true, \"mode\": \"immediate\", \"transition\": {\"duration\": 500, \"easing\": \"linear\"}}], \"label\": \"&#9654;\", \"method\": \"animate\"}, {\"args\": [[null], {\"frame\": {\"duration\": 0, \"redraw\": true}, \"fromcurrent\": true, \"mode\": \"immediate\", \"transition\": {\"duration\": 0, \"easing\": \"linear\"}}], \"label\": \"&#9724;\", \"method\": \"animate\"}], \"direction\": \"left\", \"pad\": {\"r\": 10, \"t\": 70}, \"showactive\": false, \"type\": \"buttons\", \"x\": 0.1, \"xanchor\": \"right\", \"y\": 0, \"yanchor\": \"top\"}]},\n",
       "                        {\"responsive\": true}\n",
       "                    ).then(function(){\n",
       "                            Plotly.addFrames('b0f6927d-3816-47dd-a2af-bac9876f4411', [{\"data\": [{\"customdata\": [[1.0, 0.0, 0.016129032258064516], [14.0, 0.0, 0.6499535747446611], [6.0, 0.0, 0.19685039370078738], [1.0, 0.0, 0.025933609958506222], [0.0, 0.0, 0.0], [26.0, 0.0, 0.22915564956812975], [2.0, 0.0, 0.0413393964448119], [1.0, 0.0, 0.02877697841726619], [4.0, 0.0, 0.4301075268817204], [1.0, 0.0, 0.013386880856760375], [0.0, 0.0, 0.0], [5.0, 0.0, 0.05319148936170213], [444.0, 17.0, 7.589743589743589], [4.0, 0.0, 0.059373608431052396], [0.0, 0.0, 0.0], [1.0, 0.0, 0.01243781094527363], [2.0, 0.0, 0.04424778761061947], [0.0, 0.0, 0.0], [2.0, 0.0, 0.04555808656036447], [1.0, 0.0, 0.15873015873015872], [0.0, 0.0, 0.0], [0.0, 0.0, 0.0], [2.0, 0.0, 0.022222222222222223], [9.0, 0.0, 0.3712871287128713], [1.0, 0.0, 0.0273972602739726], [5.0, 0.0, 0.06165228113440198], [4.0, 0.0, 0.26666666666666666], [0.0, 0.0, 0.0], [0.0, 0.0, 0.0], [1.0, 0.0, 0.021739130434782608], [10.0, 0.0, 0.17421602787456447]], \"geo\": \"geo\", \"hoverlabel\": {\"namelength\": 0}, \"hovertemplate\": \"<b>%{hovertext}</b><br><br>Date=01/22/2020<br>size=%{marker.color}<br>Confirmed=%{customdata[0]}<br>Deaths=%{customdata[1]}<br>Severity=%{customdata[2]}<br>Lat=%{lat}<br>Long=%{lon}\", \"hovertext\": [\"Anhui\", \"Beijing\", \"Chongqing\", \"Fujian\", \"Gansu\", \"Guangdong\", \"Guangxi\", \"Guizhou\", \"Hainan\", \"Hebei\", \"Heilongjiang\", \"Henan\", \"Hubei\", \"Hunan\", \"Inner Mongolia\", \"Jiangsu\", \"Jiangxi\", \"Jilin\", \"Liaoning\", \"Ningxia\", \"Qinghai\", \"Shaanxi\", \"Shandong\", \"Shanghai\", \"Shanxi\", \"Sichuan\", \"Tianjin\", \"Tibet\", \"Xinjiang\", \"Yunnan\", \"Zhejiang\"], \"lat\": [31.825709999999997, 40.18238, 30.05718, 26.07783, 36.0611, 23.33841, 23.829079999999998, 26.81536, 19.19673, 38.0428, 47.861999999999995, 33.882020000000004, 30.975640000000002, 27.610409999999998, 44.09448, 32.97027, 27.614009999999997, 43.66657, 41.292840000000005, 37.26923, 35.65945, 35.19165, 36.34377, 31.20327, 37.577690000000004, 30.617140000000003, 39.293620000000004, 30.1534, 41.11981, 24.97411, 29.182509999999997], \"legendgroup\": \"\", \"lon\": [117.2264, 116.4142, 107.874, 117.9895, 103.8343, 113.42200000000001, 108.7881, 106.8748, 109.7455, 114.5149, 127.7622, 113.61399999999999, 112.2707, 111.7088, 113.9456, 119.464, 115.7221, 126.1917, 122.6086, 106.1655, 96.02564, 108.8701, 118.1529, 121.4554, 112.2922, 102.7103, 117.333, 88.7879, 85.17822, 101.4868, 120.0985], \"marker\": {\"color\": [0.1270001270001905, 0.8061969825946145, 0.4436782547080569, 0.1610391566002077, 0.0, 0.47870204675573486, 0.20332091984056117, 0.16963778593599418, 0.6558258357839529, 0.11570168908343721, 0.0, 0.23063280200722128, 2.754948926884778, 0.24366700316426185, 0.0, 0.11152493418636762, 0.21035158095583562, 0.0, 0.2134434036468789, 0.3984095364447979, 0.0, 0.0, 0.14907119849998599, 0.6093333477767906, 0.1655211777204736, 0.24829877392851132, 0.5163977794943222, 0.0, 0.0, 0.14744195615489714, 0.4173919355648411], \"coloraxis\": \"coloraxis\", \"size\": [0.1270001270001905, 0.8061969825946145, 0.4436782547080569, 0.1610391566002077, 0.0, 0.47870204675573486, 0.20332091984056117, 0.16963778593599418, 0.6558258357839529, 0.11570168908343721, 0.0, 0.23063280200722128, 2.754948926884778, 0.24366700316426185, 0.0, 0.11152493418636762, 0.21035158095583562, 0.0, 0.2134434036468789, 0.3984095364447979, 0.0, 0.0, 0.14907119849998599, 0.6093333477767906, 0.1655211777204736, 0.24829877392851132, 0.5163977794943222, 0.0, 0.0, 0.14744195615489714, 0.4173919355648411], \"sizemode\": \"area\", \"sizeref\": 0.08140788407607454}, \"name\": \"\", \"showlegend\": false, \"type\": \"scattergeo\"}], \"name\": \"01/22/2020\"}, {\"data\": [{\"customdata\": [[9.0, 0.0, 0.14516129032258066], [22.0, 0.0, 1.021355617455896], [9.0, 0.0, 0.2952755905511811], [5.0, 0.0, 0.1296680497925311], [2.0, 0.0, 0.07818608287724786], [32.0, 0.0, 0.28203772254539045], [5.0, 0.0, 0.10334849111202976], [3.0, 0.0, 0.08633093525179857], [5.0, 0.0, 0.5376344086021505], [1.0, 1.0, 0.013386880856760375], [2.0, 0.0, 0.0522056904202558], [5.0, 0.0, 0.05319148936170213], [444.0, 17.0, 7.589743589743589], [9.0, 0.0, 0.13359061896986787], [0.0, 0.0, 0.0], [5.0, 0.0, 0.062189054726368154], [7.0, 0.0, 0.15486725663716813], [1.0, 0.0, 0.03641660597232338], [3.0, 0.0, 0.0683371298405467], [1.0, 0.0, 0.15873015873015872], [0.0, 0.0, 0.0], [3.0, 0.0, 0.08036431824270024], [6.0, 0.0, 0.06666666666666667], [16.0, 0.0, 0.6600660066006601], [1.0, 0.0, 0.0273972602739726], [8.0, 0.0, 0.09864364981504316], [4.0, 0.0, 0.26666666666666666], [0.0, 0.0, 0.0], [2.0, 0.0, 0.09090909090909091], [2.0, 0.0, 0.043478260869565216], [27.0, 0.0, 0.47038327526132406]], \"geo\": \"geo\", \"hoverlabel\": {\"namelength\": 0}, \"hovertemplate\": \"<b>%{hovertext}</b><br><br>Date=01/23/2020<br>size=%{marker.color}<br>Confirmed=%{customdata[0]}<br>Deaths=%{customdata[1]}<br>Severity=%{customdata[2]}<br>Lat=%{lat}<br>Long=%{lon}\", \"hovertext\": [\"Anhui\", \"Beijing\", \"Chongqing\", \"Fujian\", \"Gansu\", \"Guangdong\", \"Guangxi\", \"Guizhou\", \"Hainan\", \"Hebei\", \"Heilongjiang\", \"Henan\", \"Hubei\", \"Hunan\", \"Inner Mongolia\", \"Jiangsu\", \"Jiangxi\", \"Jilin\", \"Liaoning\", \"Ningxia\", \"Qinghai\", \"Shaanxi\", \"Shandong\", \"Shanghai\", \"Shanxi\", \"Sichuan\", \"Tianjin\", \"Tibet\", \"Xinjiang\", \"Yunnan\", \"Zhejiang\"], \"lat\": [31.825709999999997, 40.18238, 30.05718, 26.07783, 36.0611, 23.33841, 23.829079999999998, 26.81536, 19.19673, 38.0428, 47.861999999999995, 33.882020000000004, 30.975640000000002, 27.610409999999998, 44.09448, 32.97027, 27.614009999999997, 43.66657, 41.292840000000005, 37.26923, 35.65945, 35.19165, 36.34377, 31.20327, 37.577690000000004, 30.617140000000003, 39.293620000000004, 30.1534, 41.11981, 24.97411, 29.182509999999997], \"legendgroup\": \"\", \"lon\": [117.2264, 116.4142, 107.874, 117.9895, 103.8343, 113.42200000000001, 108.7881, 106.8748, 109.7455, 114.5149, 127.7622, 113.61399999999999, 112.2707, 111.7088, 113.9456, 119.464, 115.7221, 126.1917, 122.6086, 106.1655, 96.02564, 108.8701, 118.1529, 121.4554, 112.2922, 102.7103, 117.333, 88.7879, 85.17822, 101.4868, 120.0985], \"marker\": {\"color\": [0.3810003810005715, 1.0106214016415327, 0.5433926670016638, 0.36009450119729836, 0.27961774421028407, 0.5310722385376498, 0.3214786013283462, 0.29382126412463505, 0.7332355751067664, 0.11570168908343721, 0.22848564598297155, 0.23063280200722128, 2.754948926884778, 0.3655005047463928, 0.0, 0.2493773340269082, 0.39353177335148953, 0.19083135479350186, 0.2614137139488797, 0.3984095364447979, 0.0, 0.28348601066490076, 0.2581988897471611, 0.8124444637023875, 0.1655211777204736, 0.31407586633653206, 0.5163977794943222, 0.0, 0.30151134457776363, 0.20851441405707477, 0.6858449352888188], \"coloraxis\": \"coloraxis\", \"size\": [0.3810003810005715, 1.0106214016415327, 0.5433926670016638, 0.36009450119729836, 0.27961774421028407, 0.5310722385376498, 0.3214786013283462, 0.29382126412463505, 0.7332355751067664, 0.11570168908343721, 0.22848564598297155, 0.23063280200722128, 2.754948926884778, 0.3655005047463928, 0.0, 0.2493773340269082, 0.39353177335148953, 0.19083135479350186, 0.2614137139488797, 0.3984095364447979, 0.0, 0.28348601066490076, 0.2581988897471611, 0.8124444637023875, 0.1655211777204736, 0.31407586633653206, 0.5163977794943222, 0.0, 0.30151134457776363, 0.20851441405707477, 0.6858449352888188], \"sizemode\": \"area\", \"sizeref\": 0.08140788407607454}, \"name\": \"\", \"showlegend\": false, \"type\": \"scattergeo\"}], \"name\": \"01/23/2020\"}, {\"data\": [{\"customdata\": [[15.0, 0.0, 0.24193548387096775], [36.0, 0.0, 1.6713091922005572], [27.0, 0.0, 0.8858267716535433], [10.0, 0.0, 0.2593360995850622], [2.0, 0.0, 0.07818608287724786], [53.0, 0.0, 0.46712497796580293], [23.0, 0.0, 0.47540305911533687], [3.0, 0.0, 0.08633093525179857], [8.0, 0.0, 0.8602150537634408], [2.0, 1.0, 0.02677376171352075], [4.0, 1.0, 0.1044113808405116], [9.0, 0.0, 0.09574468085106383], [549.0, 24.0, 9.384615384615385], [24.0, 0.0, 0.35624165058631435], [1.0, 0.0, 0.04046944556859571], [9.0, 0.0, 0.11194029850746268], [18.0, 0.0, 0.3982300884955752], [3.0, 0.0, 0.10924981791697014], [4.0, 0.0, 0.09111617312072894], [2.0, 0.0, 0.31746031746031744], [0.0, 0.0, 0.0], [5.0, 0.0, 0.1339405304045004], [15.0, 0.0, 0.16666666666666666], [20.0, 0.0, 0.8250825082508252], [1.0, 0.0, 0.0273972602739726], [15.0, 0.0, 0.18495684340320592], [8.0, 0.0, 0.5333333333333333], [0.0, 0.0, 0.0], [2.0, 0.0, 0.09090909090909091], [5.0, 0.0, 0.10869565217391304], [43.0, 0.0, 0.7491289198606272]], \"geo\": \"geo\", \"hoverlabel\": {\"namelength\": 0}, \"hovertemplate\": \"<b>%{hovertext}</b><br><br>Date=01/24/2020<br>size=%{marker.color}<br>Confirmed=%{customdata[0]}<br>Deaths=%{customdata[1]}<br>Severity=%{customdata[2]}<br>Lat=%{lat}<br>Long=%{lon}\", \"hovertext\": [\"Anhui\", \"Beijing\", \"Chongqing\", \"Fujian\", \"Gansu\", \"Guangdong\", \"Guangxi\", \"Guizhou\", \"Hainan\", \"Hebei\", \"Heilongjiang\", \"Henan\", \"Hubei\", \"Hunan\", \"Inner Mongolia\", \"Jiangsu\", \"Jiangxi\", \"Jilin\", \"Liaoning\", \"Ningxia\", \"Qinghai\", \"Shaanxi\", \"Shandong\", \"Shanghai\", \"Shanxi\", \"Sichuan\", \"Tianjin\", \"Tibet\", \"Xinjiang\", \"Yunnan\", \"Zhejiang\"], \"lat\": [31.825709999999997, 40.18238, 30.05718, 26.07783, 36.0611, 23.33841, 23.829079999999998, 26.81536, 19.19673, 38.0428, 47.861999999999995, 33.882020000000004, 30.975640000000002, 27.610409999999998, 44.09448, 32.97027, 27.614009999999997, 43.66657, 41.292840000000005, 37.26923, 35.65945, 35.19165, 36.34377, 31.20327, 37.577690000000004, 30.617140000000003, 39.293620000000004, 30.1534, 41.11981, 24.97411, 29.182509999999997], \"legendgroup\": \"\", \"lon\": [117.2264, 116.4142, 107.874, 117.9895, 103.8343, 113.42200000000001, 108.7881, 106.8748, 109.7455, 114.5149, 127.7622, 113.61399999999999, 112.2707, 111.7088, 113.9456, 119.464, 115.7221, 126.1917, 122.6086, 106.1655, 96.02564, 108.8701, 118.1529, 121.4554, 112.2922, 102.7103, 117.333, 88.7879, 85.17822, 101.4868, 120.0985], \"marker\": {\"color\": [0.4918693768379647, 1.2927912407657152, 0.9411837077072378, 0.5092505273291941, 0.27961774421028407, 0.6834654182662082, 0.6894947854156236, 0.29382126412463505, 0.9274777915203365, 0.163626897891272, 0.32312749935669605, 0.309426373877638, 3.063431961806135, 0.5968598249055755, 0.20117019055664215, 0.3345748025591029, 0.6310547428675068, 0.3305296021795478, 0.30185455623649105, 0.563436169819011, 0.0, 0.3659788660626463, 0.408248290463863, 0.9083405243909496, 0.1655211777204736, 0.4300660919012401, 0.7302967433402214, 0.0, 0.30151134457776363, 0.3296902366978935, 0.8655223393192271], \"coloraxis\": \"coloraxis\", \"size\": [0.4918693768379647, 1.2927912407657152, 0.9411837077072378, 0.5092505273291941, 0.27961774421028407, 0.6834654182662082, 0.6894947854156236, 0.29382126412463505, 0.9274777915203365, 0.163626897891272, 0.32312749935669605, 0.309426373877638, 3.063431961806135, 0.5968598249055755, 0.20117019055664215, 0.3345748025591029, 0.6310547428675068, 0.3305296021795478, 0.30185455623649105, 0.563436169819011, 0.0, 0.3659788660626463, 0.408248290463863, 0.9083405243909496, 0.1655211777204736, 0.4300660919012401, 0.7302967433402214, 0.0, 0.30151134457776363, 0.3296902366978935, 0.8655223393192271], \"sizemode\": \"area\", \"sizeref\": 0.08140788407607454}, \"name\": \"\", \"showlegend\": false, \"type\": \"scattergeo\"}], \"name\": \"01/24/2020\"}, {\"data\": [{\"customdata\": [[39.0, 0.0, 0.6290322580645161], [41.0, 0.0, 1.903435468895079], [57.0, 0.0, 1.8700787401574803], [18.0, 0.0, 0.466804979253112], [4.0, 0.0, 0.15637216575449572], [78.0, 0.0, 0.6874669487043893], [23.0, 0.0, 0.47540305911533687], [4.0, 0.0, 0.11510791366906475], [19.0, 0.0, 2.043010752688172], [8.0, 1.0, 0.107095046854083], [9.0, 1.0, 0.23492560689115113], [32.0, 0.0, 0.3404255319148936], [761.0, 40.0, 13.008547008547009], [43.0, 0.0, 0.6382662906338132], [7.0, 0.0, 0.28328611898017], [18.0, 0.0, 0.22388059701492535], [18.0, 0.0, 0.3982300884955752], [4.0, 0.0, 0.14566642388929352], [17.0, 0.0, 0.38724373576309795], [3.0, 0.0, 0.4761904761904762], [1.0, 0.0, 0.17857142857142858], [15.0, 0.0, 0.40182159121350125], [27.0, 0.0, 0.3], [33.0, 0.0, 1.3613861386138615], [6.0, 0.0, 0.1643835616438356], [28.0, 0.0, 0.34525277435265106], [10.0, 0.0, 0.6666666666666666], [0.0, 0.0, 0.0], [3.0, 0.0, 0.13636363636363635], [11.0, 0.0, 0.2391304347826087], [62.0, 0.0, 1.0801393728222997]], \"geo\": \"geo\", \"hoverlabel\": {\"namelength\": 0}, \"hovertemplate\": \"<b>%{hovertext}</b><br><br>Date=01/25/2020<br>size=%{marker.color}<br>Confirmed=%{customdata[0]}<br>Deaths=%{customdata[1]}<br>Severity=%{customdata[2]}<br>Lat=%{lat}<br>Long=%{lon}\", \"hovertext\": [\"Anhui\", \"Beijing\", \"Chongqing\", \"Fujian\", \"Gansu\", \"Guangdong\", \"Guangxi\", \"Guizhou\", \"Hainan\", \"Hebei\", \"Heilongjiang\", \"Henan\", \"Hubei\", \"Hunan\", \"Inner Mongolia\", \"Jiangsu\", \"Jiangxi\", \"Jilin\", \"Liaoning\", \"Ningxia\", \"Qinghai\", \"Shaanxi\", \"Shandong\", \"Shanghai\", \"Shanxi\", \"Sichuan\", \"Tianjin\", \"Tibet\", \"Xinjiang\", \"Yunnan\", \"Zhejiang\"], \"lat\": [31.825709999999997, 40.18238, 30.05718, 26.07783, 36.0611, 23.33841, 23.829079999999998, 26.81536, 19.19673, 38.0428, 47.861999999999995, 33.882020000000004, 30.975640000000002, 27.610409999999998, 44.09448, 32.97027, 27.614009999999997, 43.66657, 41.292840000000005, 37.26923, 35.65945, 35.19165, 36.34377, 31.20327, 37.577690000000004, 30.617140000000003, 39.293620000000004, 30.1534, 41.11981, 24.97411, 29.182509999999997], \"legendgroup\": \"\", \"lon\": [117.2264, 116.4142, 107.874, 117.9895, 103.8343, 113.42200000000001, 108.7881, 106.8748, 109.7455, 114.5149, 127.7622, 113.61399999999999, 112.2707, 111.7088, 113.9456, 119.464, 115.7221, 126.1917, 122.6086, 106.1655, 96.02564, 108.8701, 118.1529, 121.4554, 112.2922, 102.7103, 117.333, 88.7879, 85.17822, 101.4868, 120.0985], \"marker\": {\"color\": [0.7931155389125321, 1.3796504879479727, 1.367508223067591, 0.6832312780114154, 0.3954392061423547, 0.829136266668145, 0.6894947854156236, 0.33927557187198837, 1.4293392713726758, 0.327253795782544, 0.48469124903504407, 0.5834599659915782, 3.6067363375421566, 0.7989156968252741, 0.5322462954123495, 0.4731602234073838, 0.6310547428675068, 0.3816627095870037, 0.6222891094684994, 0.6900655593423543, 0.4225771273642583, 0.6338939905169485, 0.5477225575051661, 1.1667845296428392, 0.4054424270396916, 0.5875821426427551, 0.816496580927726, 0.0, 0.3692744729379982, 0.48900964692182575, 1.0392975381584908], \"coloraxis\": \"coloraxis\", \"size\": [0.7931155389125321, 1.3796504879479727, 1.367508223067591, 0.6832312780114154, 0.3954392061423547, 0.829136266668145, 0.6894947854156236, 0.33927557187198837, 1.4293392713726758, 0.327253795782544, 0.48469124903504407, 0.5834599659915782, 3.6067363375421566, 0.7989156968252741, 0.5322462954123495, 0.4731602234073838, 0.6310547428675068, 0.3816627095870037, 0.6222891094684994, 0.6900655593423543, 0.4225771273642583, 0.6338939905169485, 0.5477225575051661, 1.1667845296428392, 0.4054424270396916, 0.5875821426427551, 0.816496580927726, 0.0, 0.3692744729379982, 0.48900964692182575, 1.0392975381584908], \"sizemode\": \"area\", \"sizeref\": 0.08140788407607454}, \"name\": \"\", \"showlegend\": false, \"type\": \"scattergeo\"}], \"name\": \"01/25/2020\"}, {\"data\": [{\"customdata\": [[60.0, 0.0, 0.967741935483871], [68.0, 0.0, 3.1569173630454967], [75.0, 0.0, 2.4606299212598426], [35.0, 0.0, 0.9076763485477178], [7.0, 0.0, 0.2736512900703675], [111.0, 0.0, 0.9783183500793232], [36.0, 0.0, 0.7441091360066142], [5.0, 0.0, 0.14388489208633093], [22.0, 0.0, 2.365591397849462], [13.0, 1.0, 0.17402945113788487], [15.0, 1.0, 0.3915426781519185], [83.0, 1.0, 0.8829787234042553], [1058.0, 52.0, 18.085470085470085], [69.0, 0.0, 1.0241947454356537], [7.0, 0.0, 0.28328611898017], [33.0, 0.0, 0.4104477611940298], [36.0, 0.0, 0.7964601769911503], [4.0, 0.0, 0.14566642388929352], [21.0, 0.0, 0.4783599088838269], [4.0, 0.0, 0.6349206349206349], [1.0, 0.0, 0.17857142857142858], [22.0, 0.0, 0.5893383337798018], [46.0, 0.0, 0.5111111111111111], [40.0, 1.0, 1.6501650165016504], [9.0, 0.0, 0.2465753424657534], [44.0, 0.0, 0.5425400739827374], [14.0, 0.0, 0.9333333333333333], [0.0, 0.0, 0.0], [4.0, 0.0, 0.18181818181818182], [16.0, 0.0, 0.34782608695652173], [104.0, 0.0, 1.8118466898954704]], \"geo\": \"geo\", \"hoverlabel\": {\"namelength\": 0}, \"hovertemplate\": \"<b>%{hovertext}</b><br><br>Date=01/26/2020<br>size=%{marker.color}<br>Confirmed=%{customdata[0]}<br>Deaths=%{customdata[1]}<br>Severity=%{customdata[2]}<br>Lat=%{lat}<br>Long=%{lon}\", \"hovertext\": [\"Anhui\", \"Beijing\", \"Chongqing\", \"Fujian\", \"Gansu\", \"Guangdong\", \"Guangxi\", \"Guizhou\", \"Hainan\", \"Hebei\", \"Heilongjiang\", \"Henan\", \"Hubei\", \"Hunan\", \"Inner Mongolia\", \"Jiangsu\", \"Jiangxi\", \"Jilin\", \"Liaoning\", \"Ningxia\", \"Qinghai\", \"Shaanxi\", \"Shandong\", \"Shanghai\", \"Shanxi\", \"Sichuan\", \"Tianjin\", \"Tibet\", \"Xinjiang\", \"Yunnan\", \"Zhejiang\"], \"lat\": [31.825709999999997, 40.18238, 30.05718, 26.07783, 36.0611, 23.33841, 23.829079999999998, 26.81536, 19.19673, 38.0428, 47.861999999999995, 33.882020000000004, 30.975640000000002, 27.610409999999998, 44.09448, 32.97027, 27.614009999999997, 43.66657, 41.292840000000005, 37.26923, 35.65945, 35.19165, 36.34377, 31.20327, 37.577690000000004, 30.617140000000003, 39.293620000000004, 30.1534, 41.11981, 24.97411, 29.182509999999997], \"legendgroup\": \"\", \"lon\": [117.2264, 116.4142, 107.874, 117.9895, 103.8343, 113.42200000000001, 108.7881, 106.8748, 109.7455, 114.5149, 127.7622, 113.61399999999999, 112.2707, 111.7088, 113.9456, 119.464, 115.7221, 126.1917, 122.6086, 106.1655, 96.02564, 108.8701, 118.1529, 121.4554, 112.2922, 102.7103, 117.333, 88.7879, 85.17822, 101.4868, 120.0985], \"marker\": {\"color\": [0.9837387536759294, 1.7767716125167852, 1.5686395128453965, 0.9527204986499019, 0.5231168990487379, 0.9890997675054439, 0.8626176070580835, 0.3793216209054408, 1.5380479179302127, 0.417168372648125, 0.6257337118550658, 0.9396694756158972, 4.252701504393423, 1.0120250715449957, 0.5322462954123495, 0.6406619710846195, 0.8924461759630944, 0.3816627095870037, 0.6916356764105123, 0.7968190728895957, 0.4225771273642583, 0.7676837459395645, 0.7149203529842405, 1.2845874888467699, 0.49656353316142077, 0.7365731966225335, 0.9660917830792959, 0.0, 0.4264014327112209, 0.5897678246195885, 1.3460485466339875], \"coloraxis\": \"coloraxis\", \"size\": [0.9837387536759294, 1.7767716125167852, 1.5686395128453965, 0.9527204986499019, 0.5231168990487379, 0.9890997675054439, 0.8626176070580835, 0.3793216209054408, 1.5380479179302127, 0.417168372648125, 0.6257337118550658, 0.9396694756158972, 4.252701504393423, 1.0120250715449957, 0.5322462954123495, 0.6406619710846195, 0.8924461759630944, 0.3816627095870037, 0.6916356764105123, 0.7968190728895957, 0.4225771273642583, 0.7676837459395645, 0.7149203529842405, 1.2845874888467699, 0.49656353316142077, 0.7365731966225335, 0.9660917830792959, 0.0, 0.4264014327112209, 0.5897678246195885, 1.3460485466339875], \"sizemode\": \"area\", \"sizeref\": 0.08140788407607454}, \"name\": \"\", \"showlegend\": false, \"type\": \"scattergeo\"}], \"name\": \"01/26/2020\"}, {\"data\": [{\"customdata\": [[70.0, 0.0, 1.1290322580645162], [80.0, 1.0, 3.714020427112349], [110.0, 0.0, 3.608923884514436], [59.0, 0.0, 1.5300829875518671], [14.0, 0.0, 0.547302580140735], [151.0, 0.0, 1.3308655032610612], [46.0, 0.0, 0.9508061182306737], [7.0, 0.0, 0.2014388489208633], [33.0, 1.0, 3.548387096774193], [18.0, 1.0, 0.24096385542168675], [21.0, 1.0, 0.548159749412686], [128.0, 1.0, 1.3617021276595744], [1423.0, 76.0, 24.324786324786324], [100.0, 0.0, 1.4843402107763097], [11.0, 0.0, 0.4451639012545528], [47.0, 0.0, 0.5845771144278606], [72.0, 0.0, 1.5929203539823007], [6.0, 0.0, 0.21849963583394028], [27.0, 0.0, 0.6150341685649203], [7.0, 0.0, 1.1111111111111112], [6.0, 0.0, 1.0714285714285714], [35.0, 0.0, 0.9375837128315029], [75.0, 0.0, 0.8333333333333334], [53.0, 1.0, 2.186468646864687], [13.0, 0.0, 0.3561643835616438], [69.0, 0.0, 0.8508014796547473], [23.0, 0.0, 1.5333333333333334], [0.0, 0.0, 0.0], [5.0, 0.0, 0.22727272727272727], [26.0, 0.0, 0.5652173913043478], [128.0, 0.0, 2.229965156794425]], \"geo\": \"geo\", \"hoverlabel\": {\"namelength\": 0}, \"hovertemplate\": \"<b>%{hovertext}</b><br><br>Date=01/27/2020<br>size=%{marker.color}<br>Confirmed=%{customdata[0]}<br>Deaths=%{customdata[1]}<br>Severity=%{customdata[2]}<br>Lat=%{lat}<br>Long=%{lon}\", \"hovertext\": [\"Anhui\", \"Beijing\", \"Chongqing\", \"Fujian\", \"Gansu\", \"Guangdong\", \"Guangxi\", \"Guizhou\", \"Hainan\", \"Hebei\", \"Heilongjiang\", \"Henan\", \"Hubei\", \"Hunan\", \"Inner Mongolia\", \"Jiangsu\", \"Jiangxi\", \"Jilin\", \"Liaoning\", \"Ningxia\", \"Qinghai\", \"Shaanxi\", \"Shandong\", \"Shanghai\", \"Shanxi\", \"Sichuan\", \"Tianjin\", \"Tibet\", \"Xinjiang\", \"Yunnan\", \"Zhejiang\"], \"lat\": [31.825709999999997, 40.18238, 30.05718, 26.07783, 36.0611, 23.33841, 23.829079999999998, 26.81536, 19.19673, 38.0428, 47.861999999999995, 33.882020000000004, 30.975640000000002, 27.610409999999998, 44.09448, 32.97027, 27.614009999999997, 43.66657, 41.292840000000005, 37.26923, 35.65945, 35.19165, 36.34377, 31.20327, 37.577690000000004, 30.617140000000003, 39.293620000000004, 30.1534, 41.11981, 24.97411, 29.182509999999997], \"legendgroup\": \"\", \"lon\": [117.2264, 116.4142, 107.874, 117.9895, 103.8343, 113.42200000000001, 108.7881, 106.8748, 109.7455, 114.5149, 127.7622, 113.61399999999999, 112.2707, 111.7088, 113.9456, 119.464, 115.7221, 126.1917, 122.6086, 106.1655, 96.02564, 108.8701, 118.1529, 121.4554, 112.2922, 102.7103, 117.333, 88.7879, 85.17822, 101.4868, 120.0985], \"marker\": {\"color\": [1.0625592962581036, 1.9271793967122908, 1.8997167906070724, 1.2369652329600322, 0.7397990133412824, 1.1536314416923028, 0.9750928767203019, 0.44881939454625097, 1.8837162994395396, 0.490880693673816, 0.7403781124619271, 1.1669199319831565, 4.932016456256642, 1.218335015821309, 0.667206041080679, 0.7645764281141949, 1.2621094857350137, 0.46743944616810024, 0.7842411418466391, 1.0540925533894598, 1.0350983390135313, 0.9682890647071787, 0.9128709291752769, 1.4786712436727396, 0.5967950934463552, 0.9223890066857623, 1.2382783747337807, 0.0, 0.4767312946227962, 0.7518094115561123, 1.4933067858931148], \"coloraxis\": \"coloraxis\", \"size\": [1.0625592962581036, 1.9271793967122908, 1.8997167906070724, 1.2369652329600322, 0.7397990133412824, 1.1536314416923028, 0.9750928767203019, 0.44881939454625097, 1.8837162994395396, 0.490880693673816, 0.7403781124619271, 1.1669199319831565, 4.932016456256642, 1.218335015821309, 0.667206041080679, 0.7645764281141949, 1.2621094857350137, 0.46743944616810024, 0.7842411418466391, 1.0540925533894598, 1.0350983390135313, 0.9682890647071787, 0.9128709291752769, 1.4786712436727396, 0.5967950934463552, 0.9223890066857623, 1.2382783747337807, 0.0, 0.4767312946227962, 0.7518094115561123, 1.4933067858931148], \"sizemode\": \"area\", \"sizeref\": 0.08140788407607454}, \"name\": \"\", \"showlegend\": false, \"type\": \"scattergeo\"}], \"name\": \"01/27/2020\"}, {\"data\": [{\"customdata\": [[106.0, 0.0, 1.7096774193548387], [91.0, 1.0, 4.224698235840298], [132.0, 0.0, 4.330708661417323], [80.0, 0.0, 2.0746887966804977], [19.0, 0.0, 0.7427677873338546], [207.0, 0.0, 1.8244315177154946], [51.0, 0.0, 1.0541546093427034], [9.0, 0.0, 0.2589928057553957], [40.0, 1.0, 4.301075268817204], [33.0, 1.0, 0.44176706827309237], [33.0, 1.0, 0.8613938919342208], [168.0, 1.0, 1.7872340425531914], [3554.0, 125.0, 60.75213675213675], [143.0, 0.0, 2.122606501410123], [15.0, 0.0, 0.6070416835289356], [70.0, 0.0, 0.8706467661691542], [109.0, 0.0, 2.411504424778761], [8.0, 0.0, 0.29133284777858703], [34.0, 0.0, 0.7744874715261959], [11.0, 0.0, 1.746031746031746], [6.0, 0.0, 1.0714285714285714], [46.0, 0.0, 1.2322528797214038], [95.0, 0.0, 1.0555555555555556], [66.0, 1.0, 2.722772277227723], [27.0, 0.0, 0.7397260273972602], [90.0, 0.0, 1.1097410604192355], [24.0, 0.0, 1.6], [0.0, 0.0, 0.0], [10.0, 0.0, 0.45454545454545453], [44.0, 0.0, 0.9565217391304348], [173.0, 0.0, 3.013937282229965]], \"geo\": \"geo\", \"hoverlabel\": {\"namelength\": 0}, \"hovertemplate\": \"<b>%{hovertext}</b><br><br>Date=01/28/2020<br>size=%{marker.color}<br>Confirmed=%{customdata[0]}<br>Deaths=%{customdata[1]}<br>Severity=%{customdata[2]}<br>Lat=%{lat}<br>Long=%{lon}\", \"hovertext\": [\"Anhui\", \"Beijing\", \"Chongqing\", \"Fujian\", \"Gansu\", \"Guangdong\", \"Guangxi\", \"Guizhou\", \"Hainan\", \"Hebei\", \"Heilongjiang\", \"Henan\", \"Hubei\", \"Hunan\", \"Inner Mongolia\", \"Jiangsu\", \"Jiangxi\", \"Jilin\", \"Liaoning\", \"Ningxia\", \"Qinghai\", \"Shaanxi\", \"Shandong\", \"Shanghai\", \"Shanxi\", \"Sichuan\", \"Tianjin\", \"Tibet\", \"Xinjiang\", \"Yunnan\", \"Zhejiang\"], \"lat\": [31.825709999999997, 40.18238, 30.05718, 26.07783, 36.0611, 23.33841, 23.829079999999998, 26.81536, 19.19673, 38.0428, 47.861999999999995, 33.882020000000004, 30.975640000000002, 27.610409999999998, 44.09448, 32.97027, 27.614009999999997, 43.66657, 41.292840000000005, 37.26923, 35.65945, 35.19165, 36.34377, 31.20327, 37.577690000000004, 30.617140000000003, 39.293620000000004, 30.1534, 41.11981, 24.97411, 29.182509999999997], \"legendgroup\": \"\", \"lon\": [117.2264, 116.4142, 107.874, 117.9895, 103.8343, 113.42200000000001, 108.7881, 106.8748, 109.7455, 114.5149, 127.7622, 113.61399999999999, 112.2707, 111.7088, 113.9456, 119.464, 115.7221, 126.1917, 122.6086, 106.1655, 96.02564, 108.8701, 118.1529, 121.4554, 112.2922, 102.7103, 117.333, 88.7879, 85.17822, 101.4868, 120.0985], \"marker\": {\"color\": [1.3075463354523382, 2.055407073024781, 2.0810354781736238, 1.4403780047891934, 0.8618397689442363, 1.350715187489759, 1.026720317001034, 0.5089133578079825, 2.0739033894608503, 0.6646556012500703, 0.9281130814368586, 1.3368747295663836, 7.794365705568142, 1.4569167791641782, 0.7791287977792476, 0.9330845439557737, 1.5529019366266374, 0.5397525801500045, 0.8800496983274274, 1.3213749452868198, 1.0350983390135313, 1.1100688626033088, 1.0274023338281628, 1.6500825061880158, 0.8600732686214938, 1.0534424808309353, 1.2649110640673518, 0.0, 0.674199862463242, 0.9780192938436515, 1.7360694923389344], \"coloraxis\": \"coloraxis\", \"size\": [1.3075463354523382, 2.055407073024781, 2.0810354781736238, 1.4403780047891934, 0.8618397689442363, 1.350715187489759, 1.026720317001034, 0.5089133578079825, 2.0739033894608503, 0.6646556012500703, 0.9281130814368586, 1.3368747295663836, 7.794365705568142, 1.4569167791641782, 0.7791287977792476, 0.9330845439557737, 1.5529019366266374, 0.5397525801500045, 0.8800496983274274, 1.3213749452868198, 1.0350983390135313, 1.1100688626033088, 1.0274023338281628, 1.6500825061880158, 0.8600732686214938, 1.0534424808309353, 1.2649110640673518, 0.0, 0.674199862463242, 0.9780192938436515, 1.7360694923389344], \"sizemode\": \"area\", \"sizeref\": 0.08140788407607454}, \"name\": \"\", \"showlegend\": false, \"type\": \"scattergeo\"}], \"name\": \"01/28/2020\"}, {\"data\": [{\"customdata\": [[152.0, 0.0, 2.4516129032258065], [111.0, 1.0, 5.153203342618385], [147.0, 0.0, 4.822834645669292], [84.0, 0.0, 2.1784232365145226], [24.0, 0.0, 0.9382329945269743], [277.0, 0.0, 2.441389035783536], [58.0, 0.0, 1.1988424968995453], [9.0, 0.0, 0.2589928057553957], [43.0, 1.0, 4.623655913978494], [48.0, 1.0, 0.642570281124498], [38.0, 1.0, 0.9919081179848603], [206.0, 2.0, 2.1914893617021276], [3554.0, 125.0, 60.75213675213675], [221.0, 0.0, 3.280391865815645], [16.0, 0.0, 0.6475111290975314], [99.0, 0.0, 1.2313432835820894], [109.0, 0.0, 2.411504424778761], [9.0, 0.0, 0.3277494537509104], [39.0, 0.0, 0.8883826879271071], [12.0, 0.0, 1.9047619047619049], [6.0, 0.0, 1.0714285714285714], [56.0, 0.0, 1.5001339405304046], [130.0, 0.0, 1.4444444444444444], [96.0, 1.0, 3.960396039603961], [27.0, 0.0, 0.7397260273972602], [108.0, 1.0, 1.3316892725030827], [27.0, 0.0, 1.8], [0.0, 0.0, 0.0], [13.0, 0.0, 0.5909090909090909], [55.0, 0.0, 1.1956521739130435], [296.0, 0.0, 5.156794425087108]], \"geo\": \"geo\", \"hoverlabel\": {\"namelength\": 0}, \"hovertemplate\": \"<b>%{hovertext}</b><br><br>Date=01/29/2020<br>size=%{marker.color}<br>Confirmed=%{customdata[0]}<br>Deaths=%{customdata[1]}<br>Severity=%{customdata[2]}<br>Lat=%{lat}<br>Long=%{lon}\", \"hovertext\": [\"Anhui\", \"Beijing\", \"Chongqing\", \"Fujian\", \"Gansu\", \"Guangdong\", \"Guangxi\", \"Guizhou\", \"Hainan\", \"Hebei\", \"Heilongjiang\", \"Henan\", \"Hubei\", \"Hunan\", \"Inner Mongolia\", \"Jiangsu\", \"Jiangxi\", \"Jilin\", \"Liaoning\", \"Ningxia\", \"Qinghai\", \"Shaanxi\", \"Shandong\", \"Shanghai\", \"Shanxi\", \"Sichuan\", \"Tianjin\", \"Tibet\", \"Xinjiang\", \"Yunnan\", \"Zhejiang\"], \"lat\": [31.825709999999997, 40.18238, 30.05718, 26.07783, 36.0611, 23.33841, 23.829079999999998, 26.81536, 19.19673, 38.0428, 47.861999999999995, 33.882020000000004, 30.975640000000002, 27.610409999999998, 44.09448, 32.97027, 27.614009999999997, 43.66657, 41.292840000000005, 37.26923, 35.65945, 35.19165, 36.34377, 31.20327, 37.577690000000004, 30.617140000000003, 39.293620000000004, 30.1534, 41.11981, 24.97411, 29.182509999999997], \"legendgroup\": \"\", \"lon\": [117.2264, 116.4142, 107.874, 117.9895, 103.8343, 113.42200000000001, 108.7881, 106.8748, 109.7455, 114.5149, 127.7622, 113.61399999999999, 112.2707, 111.7088, 113.9456, 119.464, 115.7221, 126.1917, 122.6086, 106.1655, 96.02564, 108.8701, 118.1529, 121.4554, 112.2922, 102.7103, 117.333, 88.7879, 85.17822, 101.4868, 120.0985], \"marker\": {\"color\": [1.5657627225176254, 2.2700668145714094, 2.196095317983555, 1.4759482499445984, 0.9686242793400206, 1.5624944914410215, 1.0949166620796056, 0.5089133578079825, 2.150268800401125, 0.8016048160562024, 0.9959458408893831, 1.4803679818552304, 7.794365705568142, 1.8111852102464963, 0.8046807622265686, 1.1096590843957839, 1.5529019366266374, 0.5724940643805055, 0.9425405497521616, 1.3801311186847085, 1.0350983390135313, 1.2247995511635381, 1.2018504251546631, 1.9900743804199783, 0.8600732686214938, 1.1539884195706136, 1.3416407864998738, 0.0, 0.7687061147858074, 1.0934588121703732, 2.270857640867676], \"coloraxis\": \"coloraxis\", \"size\": [1.5657627225176254, 2.2700668145714094, 2.196095317983555, 1.4759482499445984, 0.9686242793400206, 1.5624944914410215, 1.0949166620796056, 0.5089133578079825, 2.150268800401125, 0.8016048160562024, 0.9959458408893831, 1.4803679818552304, 7.794365705568142, 1.8111852102464963, 0.8046807622265686, 1.1096590843957839, 1.5529019366266374, 0.5724940643805055, 0.9425405497521616, 1.3801311186847085, 1.0350983390135313, 1.2247995511635381, 1.2018504251546631, 1.9900743804199783, 0.8600732686214938, 1.1539884195706136, 1.3416407864998738, 0.0, 0.7687061147858074, 1.0934588121703732, 2.270857640867676], \"sizemode\": \"area\", \"sizeref\": 0.08140788407607454}, \"name\": \"\", \"showlegend\": false, \"type\": \"scattergeo\"}], \"name\": \"01/29/2020\"}, {\"data\": [{\"customdata\": [[200.0, 0.0, 3.225806451612903], [114.0, 1.0, 5.2924791086350975], [182.0, 0.0, 5.971128608923885], [101.0, 0.0, 2.6192946058091287], [26.0, 0.0, 1.016419077404222], [354.0, 0.0, 3.120042305658382], [78.0, 0.0, 1.6122364613476643], [12.0, 0.0, 0.34532374100719426], [46.0, 1.0, 4.946236559139785], [65.0, 1.0, 0.8701472556894243], [44.0, 2.0, 1.1485251892456276], [278.0, 2.0, 2.9574468085106385], [4903.0, 162.0, 83.8119658119658], [277.0, 0.0, 4.111622383850378], [19.0, 0.0, 0.7689194658033185], [129.0, 0.0, 1.6044776119402984], [162.0, 0.0, 3.5840707964601766], [14.0, 0.0, 0.5098324836125273], [41.0, 0.0, 0.9339407744874716], [17.0, 0.0, 2.6984126984126986], [8.0, 0.0, 1.4285714285714286], [63.0, 0.0, 1.687650683096705], [158.0, 0.0, 1.7555555555555555], [112.0, 1.0, 4.62046204620462], [35.0, 0.0, 0.958904109589041], [142.0, 1.0, 1.7509247842170161], [31.0, 0.0, 2.066666666666667], [1.0, 0.0, 0.3125], [14.0, 0.0, 0.6363636363636364], [70.0, 0.0, 1.5217391304347827], [428.0, 0.0, 7.456445993031359]], \"geo\": \"geo\", \"hoverlabel\": {\"namelength\": 0}, \"hovertemplate\": \"<b>%{hovertext}</b><br><br>Date=01/30/2020<br>size=%{marker.color}<br>Confirmed=%{customdata[0]}<br>Deaths=%{customdata[1]}<br>Severity=%{customdata[2]}<br>Lat=%{lat}<br>Long=%{lon}\", \"hovertext\": [\"Anhui\", \"Beijing\", \"Chongqing\", \"Fujian\", \"Gansu\", \"Guangdong\", \"Guangxi\", \"Guizhou\", \"Hainan\", \"Hebei\", \"Heilongjiang\", \"Henan\", \"Hubei\", \"Hunan\", \"Inner Mongolia\", \"Jiangsu\", \"Jiangxi\", \"Jilin\", \"Liaoning\", \"Ningxia\", \"Qinghai\", \"Shaanxi\", \"Shandong\", \"Shanghai\", \"Shanxi\", \"Sichuan\", \"Tianjin\", \"Tibet\", \"Xinjiang\", \"Yunnan\", \"Zhejiang\"], \"lat\": [31.825709999999997, 40.18238, 30.05718, 26.07783, 36.0611, 23.33841, 23.829079999999998, 26.81536, 19.19673, 38.0428, 47.861999999999995, 33.882020000000004, 30.975640000000002, 27.610409999999998, 44.09448, 32.97027, 27.614009999999997, 43.66657, 41.292840000000005, 37.26923, 35.65945, 35.19165, 36.34377, 31.20327, 37.577690000000004, 30.617140000000003, 39.293620000000004, 30.1534, 41.11981, 24.97411, 29.182509999999997], \"legendgroup\": \"\", \"lon\": [117.2264, 116.4142, 107.874, 117.9895, 103.8343, 113.42200000000001, 108.7881, 106.8748, 109.7455, 114.5149, 127.7622, 113.61399999999999, 112.2707, 111.7088, 113.9456, 119.464, 115.7221, 126.1917, 122.6086, 106.1655, 96.02564, 108.8701, 118.1529, 121.4554, 112.2922, 102.7103, 117.333, 88.7879, 85.17822, 101.4868, 120.0985], \"marker\": {\"color\": [1.796053020267749, 2.3005388735326986, 2.4435892881013954, 1.6184234939622968, 1.0081761142797532, 1.7663641486563244, 1.2697387374368256, 0.5876425282492701, 2.224013614872846, 0.9328168393041714, 1.0716926748119666, 1.7197228871276438, 9.154887536827845, 2.0277135852605954, 0.8768805310892234, 1.2666797590315788, 1.8931642286025205, 0.7140255482911849, 0.9664061126087063, 1.6426846010152705, 1.1952286093343936, 1.2990961023329664, 1.3249737942901194, 2.14952600500776, 0.9792364931869324, 1.323225144945869, 1.4375905768565218, 0.5590169943749475, 0.7977240352174656, 1.2335879094879225, 2.730649372041632], \"coloraxis\": \"coloraxis\", \"size\": [1.796053020267749, 2.3005388735326986, 2.4435892881013954, 1.6184234939622968, 1.0081761142797532, 1.7663641486563244, 1.2697387374368256, 0.5876425282492701, 2.224013614872846, 0.9328168393041714, 1.0716926748119666, 1.7197228871276438, 9.154887536827845, 2.0277135852605954, 0.8768805310892234, 1.2666797590315788, 1.8931642286025205, 0.7140255482911849, 0.9664061126087063, 1.6426846010152705, 1.1952286093343936, 1.2990961023329664, 1.3249737942901194, 2.14952600500776, 0.9792364931869324, 1.323225144945869, 1.4375905768565218, 0.5590169943749475, 0.7977240352174656, 1.2335879094879225, 2.730649372041632], \"sizemode\": \"area\", \"sizeref\": 0.08140788407607454}, \"name\": \"\", \"showlegend\": false, \"type\": \"scattergeo\"}], \"name\": \"01/30/2020\"}, {\"data\": [{\"customdata\": [[237.0, 0.0, 3.8225806451612905], [139.0, 1.0, 6.453110492107707], [211.0, 0.0, 6.92257217847769], [120.0, 0.0, 3.1120331950207465], [29.0, 0.0, 1.1336982017200938], [436.0, 0.0, 3.842763969680945], [87.0, 0.0, 1.7982637453493178], [29.0, 0.0, 0.8345323741007195], [52.0, 1.0, 5.591397849462365], [82.0, 1.0, 1.0977242302543506], [59.0, 2.0, 1.5400678673975463], [352.0, 2.0, 3.74468085106383], [5806.0, 204.0, 99.24786324786325], [332.0, 0.0, 4.928009499777349], [20.0, 0.0, 0.8093889113719142], [168.0, 0.0, 2.08955223880597], [240.0, 0.0, 5.309734513274336], [14.0, 0.0, 0.5098324836125273], [48.0, 0.0, 1.0933940774487472], [21.0, 0.0, 3.3333333333333335], [8.0, 0.0, 1.4285714285714286], [87.0, 0.0, 2.330565229038307], [184.0, 0.0, 2.0444444444444443], [135.0, 1.0, 5.569306930693069], [39.0, 0.0, 1.0684931506849316], [177.0, 1.0, 2.18249075215783], [32.0, 0.0, 2.1333333333333333], [1.0, 0.0, 0.3125], [17.0, 0.0, 0.7727272727272727], [83.0, 0.0, 1.8043478260869565], [538.0, 0.0, 9.372822299651569]], \"geo\": \"geo\", \"hoverlabel\": {\"namelength\": 0}, \"hovertemplate\": \"<b>%{hovertext}</b><br><br>Date=01/31/2020<br>size=%{marker.color}<br>Confirmed=%{customdata[0]}<br>Deaths=%{customdata[1]}<br>Severity=%{customdata[2]}<br>Lat=%{lat}<br>Long=%{lon}\", \"hovertext\": [\"Anhui\", \"Beijing\", \"Chongqing\", \"Fujian\", \"Gansu\", \"Guangdong\", \"Guangxi\", \"Guizhou\", \"Hainan\", \"Hebei\", \"Heilongjiang\", \"Henan\", \"Hubei\", \"Hunan\", \"Inner Mongolia\", \"Jiangsu\", \"Jiangxi\", \"Jilin\", \"Liaoning\", \"Ningxia\", \"Qinghai\", \"Shaanxi\", \"Shandong\", \"Shanghai\", \"Shanxi\", \"Sichuan\", \"Tianjin\", \"Tibet\", \"Xinjiang\", \"Yunnan\", \"Zhejiang\"], \"lat\": [31.825709999999997, 40.18238, 30.05718, 26.07783, 36.0611, 23.33841, 23.829079999999998, 26.81536, 19.19673, 38.0428, 47.861999999999995, 33.882020000000004, 30.975640000000002, 27.610409999999998, 44.09448, 32.97027, 27.614009999999997, 43.66657, 41.292840000000005, 37.26923, 35.65945, 35.19165, 36.34377, 31.20327, 37.577690000000004, 30.617140000000003, 39.293620000000004, 30.1534, 41.11981, 24.97411, 29.182509999999997], \"legendgroup\": \"\", \"lon\": [117.2264, 116.4142, 107.874, 117.9895, 103.8343, 113.42200000000001, 108.7881, 106.8748, 109.7455, 114.5149, 127.7622, 113.61399999999999, 112.2707, 111.7088, 113.9456, 119.464, 115.7221, 126.1917, 122.6086, 106.1655, 96.02564, 108.8701, 118.1529, 121.4554, 112.2922, 102.7103, 117.333, 88.7879, 85.17822, 101.4868, 120.0985], \"marker\": {\"color\": [1.955142103572344, 2.540297323564253, 2.6310781399414367, 1.7640955742308144, 1.0647526481395075, 1.9602969085526165, 1.3409935664831945, 0.9135274347827325, 2.3646136786930683, 1.0477233557835535, 1.2409947088515512, 1.9351177873875869, 9.96232218149279, 2.2199120477571515, 0.8996604422624761, 1.4455283597377016, 2.3042861179277057, 0.7140255482911849, 1.0456548557955188, 1.8257418583505538, 1.1952286093343936, 1.5266188879475804, 1.429840705968481, 2.3599379082283223, 1.0336794235569031, 1.477325540345739, 1.4605934866804429, 0.5590169943749475, 0.8790490729915326, 1.3432601483282962, 3.0615065408474256], \"coloraxis\": \"coloraxis\", \"size\": [1.955142103572344, 2.540297323564253, 2.6310781399414367, 1.7640955742308144, 1.0647526481395075, 1.9602969085526165, 1.3409935664831945, 0.9135274347827325, 2.3646136786930683, 1.0477233557835535, 1.2409947088515512, 1.9351177873875869, 9.96232218149279, 2.2199120477571515, 0.8996604422624761, 1.4455283597377016, 2.3042861179277057, 0.7140255482911849, 1.0456548557955188, 1.8257418583505538, 1.1952286093343936, 1.5266188879475804, 1.429840705968481, 2.3599379082283223, 1.0336794235569031, 1.477325540345739, 1.4605934866804429, 0.5590169943749475, 0.8790490729915326, 1.3432601483282962, 3.0615065408474256], \"sizemode\": \"area\", \"sizeref\": 0.08140788407607454}, \"name\": \"\", \"showlegend\": false, \"type\": \"scattergeo\"}], \"name\": \"01/31/2020\"}, {\"data\": [{\"customdata\": [[297.0, 0.0, 4.790322580645161], [168.0, 1.0, 7.7994428969359335], [247.0, 1.0, 8.103674540682414], [144.0, 0.0, 3.734439834024896], [40.0, 0.0, 1.563721657544957], [535.0, 0.0, 4.715318173805747], [100.0, 0.0, 2.066969822240595], [29.0, 0.0, 0.8345323741007195], [62.0, 1.0, 6.666666666666666], [96.0, 1.0, 1.285140562248996], [80.0, 2.0, 2.088227616810232], [422.0, 2.0, 4.48936170212766], [7153.0, 249.0, 122.27350427350427], [389.0, 0.0, 5.774083419919846], [23.0, 0.0, 0.9307972480777013], [202.0, 0.0, 2.5124378109452734], [286.0, 0.0, 6.327433628318584], [17.0, 0.0, 0.6190823015294974], [64.0, 0.0, 1.457858769931663], [26.0, 0.0, 4.126984126984127], [9.0, 0.0, 1.6071428571428572], [101.0, 0.0, 2.7055987141709084], [206.0, 0.0, 2.2888888888888888], [169.0, 1.0, 6.971947194719473], [47.0, 0.0, 1.2876712328767124], [207.0, 1.0, 2.552404438964242], [41.0, 0.0, 2.7333333333333334], [1.0, 0.0, 0.3125], [18.0, 0.0, 0.8181818181818182], [93.0, 0.0, 2.0217391304347827], [599.0, 0.0, 10.435540069686411]], \"geo\": \"geo\", \"hoverlabel\": {\"namelength\": 0}, \"hovertemplate\": \"<b>%{hovertext}</b><br><br>Date=02/01/2020<br>size=%{marker.color}<br>Confirmed=%{customdata[0]}<br>Deaths=%{customdata[1]}<br>Severity=%{customdata[2]}<br>Lat=%{lat}<br>Long=%{lon}\", \"hovertext\": [\"Anhui\", \"Beijing\", \"Chongqing\", \"Fujian\", \"Gansu\", \"Guangdong\", \"Guangxi\", \"Guizhou\", \"Hainan\", \"Hebei\", \"Heilongjiang\", \"Henan\", \"Hubei\", \"Hunan\", \"Inner Mongolia\", \"Jiangsu\", \"Jiangxi\", \"Jilin\", \"Liaoning\", \"Ningxia\", \"Qinghai\", \"Shaanxi\", \"Shandong\", \"Shanghai\", \"Shanxi\", \"Sichuan\", \"Tianjin\", \"Tibet\", \"Xinjiang\", \"Yunnan\", \"Zhejiang\"], \"lat\": [31.825709999999997, 40.18238, 30.05718, 26.07783, 36.0611, 23.33841, 23.829079999999998, 26.81536, 19.19673, 38.0428, 47.861999999999995, 33.882020000000004, 30.975640000000002, 27.610409999999998, 44.09448, 32.97027, 27.614009999999997, 43.66657, 41.292840000000005, 37.26923, 35.65945, 35.19165, 36.34377, 31.20327, 37.577690000000004, 30.617140000000003, 39.293620000000004, 30.1534, 41.11981, 24.97411, 29.182509999999997], \"legendgroup\": \"\", \"lon\": [117.2264, 116.4142, 107.874, 117.9895, 103.8343, 113.42200000000001, 108.7881, 106.8748, 109.7455, 114.5149, 127.7622, 113.61399999999999, 112.2707, 111.7088, 113.9456, 119.464, 115.7221, 126.1917, 122.6086, 106.1655, 96.02564, 108.8701, 118.1529, 121.4554, 112.2922, 102.7103, 117.333, 88.7879, 85.17822, 101.4868, 120.0985], \"marker\": {\"color\": [2.18868055701264, 2.7927482695251884, 2.846695371950152, 1.9324698792024926, 1.250488567538687, 2.1714783383229377, 1.4376960117634725, 0.9135274347827325, 2.581988897471611, 1.1336404025302715, 1.445070107922184, 2.1188113889932865, 11.057735042652464, 2.4029322545423217, 0.9647783414223711, 1.5850671313686602, 2.515439052793485, 0.7868178324933272, 1.2074182249459642, 2.0314980007334804, 1.267731382092775, 1.6448704247359147, 1.5129074290546956, 2.6404445070327593, 1.1347560235031635, 1.5976246239227292, 1.6532795690182993, 0.5590169943749475, 0.9045340337332909, 1.4218787326754636, 3.2304086536669647], \"coloraxis\": \"coloraxis\", \"size\": [2.18868055701264, 2.7927482695251884, 2.846695371950152, 1.9324698792024926, 1.250488567538687, 2.1714783383229377, 1.4376960117634725, 0.9135274347827325, 2.581988897471611, 1.1336404025302715, 1.445070107922184, 2.1188113889932865, 11.057735042652464, 2.4029322545423217, 0.9647783414223711, 1.5850671313686602, 2.515439052793485, 0.7868178324933272, 1.2074182249459642, 2.0314980007334804, 1.267731382092775, 1.6448704247359147, 1.5129074290546956, 2.6404445070327593, 1.1347560235031635, 1.5976246239227292, 1.6532795690182993, 0.5590169943749475, 0.9045340337332909, 1.4218787326754636, 3.2304086536669647], \"sizemode\": \"area\", \"sizeref\": 0.08140788407607454}, \"name\": \"\", \"showlegend\": false, \"type\": \"scattergeo\"}], \"name\": \"02/01/2020\"}, {\"data\": [{\"customdata\": [[340.0, 0.0, 5.483870967741935], [191.0, 1.0, 8.867223769730733], [300.0, 2.0, 9.84251968503937], [159.0, 0.0, 4.123443983402489], [51.0, 0.0, 1.9937451133698203], [632.0, 0.0, 5.570245020271462], [111.0, 0.0, 2.294336502687061], [38.0, 0.0, 1.0935251798561152], [64.0, 1.0, 6.881720430107526], [104.0, 1.0, 1.392235609103079], [95.0, 2.0, 2.4797702949621505], [493.0, 2.0, 5.24468085106383], [11177.0, 350.0, 191.05982905982907], [463.0, 0.0, 6.872495175894315], [27.0, 0.0, 1.0926750303520842], [236.0, 0.0, 2.935323383084577], [333.0, 0.0, 7.367256637168141], [23.0, 0.0, 0.8375819373634377], [70.0, 0.0, 1.5945330296127562], [28.0, 0.0, 4.444444444444445], [11.0, 0.0, 1.9642857142857144], [116.0, 0.0, 3.1074203053844096], [230.0, 0.0, 2.5555555555555554], [182.0, 1.0, 7.508250825082508], [66.0, 0.0, 1.8082191780821917], [231.0, 1.0, 2.8483353884093714], [48.0, 0.0, 3.2], [1.0, 0.0, 0.3125], [21.0, 0.0, 0.9545454545454546], [105.0, 0.0, 2.282608695652174], [661.0, 0.0, 11.515679442508711]], \"geo\": \"geo\", \"hoverlabel\": {\"namelength\": 0}, \"hovertemplate\": \"<b>%{hovertext}</b><br><br>Date=02/02/2020<br>size=%{marker.color}<br>Confirmed=%{customdata[0]}<br>Deaths=%{customdata[1]}<br>Severity=%{customdata[2]}<br>Lat=%{lat}<br>Long=%{lon}\", \"hovertext\": [\"Anhui\", \"Beijing\", \"Chongqing\", \"Fujian\", \"Gansu\", \"Guangdong\", \"Guangxi\", \"Guizhou\", \"Hainan\", \"Hebei\", \"Heilongjiang\", \"Henan\", \"Hubei\", \"Hunan\", \"Inner Mongolia\", \"Jiangsu\", \"Jiangxi\", \"Jilin\", \"Liaoning\", \"Ningxia\", \"Qinghai\", \"Shaanxi\", \"Shandong\", \"Shanghai\", \"Shanxi\", \"Sichuan\", \"Tianjin\", \"Tibet\", \"Xinjiang\", \"Yunnan\", \"Zhejiang\"], \"lat\": [31.825709999999997, 40.18238, 30.05718, 26.07783, 36.0611, 23.33841, 23.829079999999998, 26.81536, 19.19673, 38.0428, 47.861999999999995, 33.882020000000004, 30.975640000000002, 27.610409999999998, 44.09448, 32.97027, 27.614009999999997, 43.66657, 41.292840000000005, 37.26923, 35.65945, 35.19165, 36.34377, 31.20327, 37.577690000000004, 30.617140000000003, 39.293620000000004, 30.1534, 41.11981, 24.97411, 29.182509999999997], \"legendgroup\": \"\", \"lon\": [117.2264, 116.4142, 107.874, 117.9895, 103.8343, 113.42200000000001, 108.7881, 106.8748, 109.7455, 114.5149, 127.7622, 113.61399999999999, 112.2707, 111.7088, 113.9456, 119.464, 115.7221, 126.1917, 122.6086, 106.1655, 96.02564, 108.8701, 118.1529, 121.4554, 112.2922, 102.7103, 117.333, 88.7879, 85.17822, 101.4868, 120.0985], \"marker\": {\"color\": [2.341766633920198, 2.977788402444125, 3.137279025690793, 2.0306265002216652, 1.4120003942527142, 2.360136652880816, 1.5147067381797246, 1.0457175430564962, 2.6233033431358117, 1.1799303407841832, 1.5747286416910535, 2.2901268198647493, 13.822439331023633, 2.621544425695341, 1.045310973037251, 1.7132785480138881, 2.714269079728121, 0.91519502695515, 1.2627482051512708, 2.1081851067789197, 1.4015297764534702, 1.7627876518130055, 1.5986105077709065, 2.7401187611274276, 1.3447004045817015, 1.6877012141991756, 1.7888543819998317, 0.5590169943749475, 0.9770084209183945, 1.5108304655560048, 3.393476011777409], \"coloraxis\": \"coloraxis\", \"size\": [2.341766633920198, 2.977788402444125, 3.137279025690793, 2.0306265002216652, 1.4120003942527142, 2.360136652880816, 1.5147067381797246, 1.0457175430564962, 2.6233033431358117, 1.1799303407841832, 1.5747286416910535, 2.2901268198647493, 13.822439331023633, 2.621544425695341, 1.045310973037251, 1.7132785480138881, 2.714269079728121, 0.91519502695515, 1.2627482051512708, 2.1081851067789197, 1.4015297764534702, 1.7627876518130055, 1.5986105077709065, 2.7401187611274276, 1.3447004045817015, 1.6877012141991756, 1.7888543819998317, 0.5590169943749475, 0.9770084209183945, 1.5108304655560048, 3.393476011777409], \"sizemode\": \"area\", \"sizeref\": 0.08140788407607454}, \"name\": \"\", \"showlegend\": false, \"type\": \"scattergeo\"}], \"name\": \"02/02/2020\"}, {\"data\": [{\"customdata\": [[408.0, 0.0, 6.580645161290323], [212.0, 1.0, 9.842154131847726], [337.0, 2.0, 11.056430446194225], [179.0, 0.0, 4.642116182572614], [55.0, 0.0, 2.150117279124316], [725.0, 0.0, 6.389917151419002], [127.0, 0.0, 2.625051674245556], [46.0, 0.0, 1.3237410071942446], [72.0, 1.0, 7.741935483870967], [113.0, 1.0, 1.5127175368139223], [121.0, 2.0, 3.158444270425476], [566.0, 2.0, 6.0212765957446805], [13522.0, 414.0, 231.14529914529913], [521.0, 0.0, 7.733412498144574], [34.0, 0.0, 1.375961149332254], [271.0, 0.0, 3.370646766169154], [391.0, 0.0, 8.650442477876105], [31.0, 0.0, 1.1289147851420247], [74.0, 0.0, 1.6856492027334853], [31.0, 0.0, 4.920634920634921], [13.0, 0.0, 2.3214285714285716], [128.0, 0.0, 3.4288775783552103], [259.0, 0.0, 2.8777777777777778], [203.0, 1.0, 8.374587458745875], [74.0, 0.0, 2.0273972602739727], [254.0, 1.0, 3.1319358816276206], [60.0, 0.0, 4.0], [1.0, 0.0, 0.3125], [24.0, 0.0, 1.0909090909090908], [117.0, 0.0, 2.5434782608695654], [724.0, 0.0, 12.613240418118467]], \"geo\": \"geo\", \"hoverlabel\": {\"namelength\": 0}, \"hovertemplate\": \"<b>%{hovertext}</b><br><br>Date=02/03/2020<br>size=%{marker.color}<br>Confirmed=%{customdata[0]}<br>Deaths=%{customdata[1]}<br>Severity=%{customdata[2]}<br>Lat=%{lat}<br>Long=%{lon}\", \"hovertext\": [\"Anhui\", \"Beijing\", \"Chongqing\", \"Fujian\", \"Gansu\", \"Guangdong\", \"Guangxi\", \"Guizhou\", \"Hainan\", \"Hebei\", \"Heilongjiang\", \"Henan\", \"Hubei\", \"Hunan\", \"Inner Mongolia\", \"Jiangsu\", \"Jiangxi\", \"Jilin\", \"Liaoning\", \"Ningxia\", \"Qinghai\", \"Shaanxi\", \"Shandong\", \"Shanghai\", \"Shanxi\", \"Sichuan\", \"Tianjin\", \"Tibet\", \"Xinjiang\", \"Yunnan\", \"Zhejiang\"], \"lat\": [31.825709999999997, 40.18238, 30.05718, 26.07783, 36.0611, 23.33841, 23.829079999999998, 26.81536, 19.19673, 38.0428, 47.861999999999995, 33.882020000000004, 30.975640000000002, 27.610409999999998, 44.09448, 32.97027, 27.614009999999997, 43.66657, 41.292840000000005, 37.26923, 35.65945, 35.19165, 36.34377, 31.20327, 37.577690000000004, 30.617140000000003, 39.293620000000004, 30.1534, 41.11981, 24.97411, 29.182509999999997], \"legendgroup\": \"\", \"lon\": [117.2264, 116.4142, 107.874, 117.9895, 103.8343, 113.42200000000001, 108.7881, 106.8748, 109.7455, 114.5149, 127.7622, 113.61399999999999, 112.2707, 111.7088, 113.9456, 119.464, 115.7221, 126.1917, 122.6086, 106.1655, 96.02564, 108.8701, 118.1529, 121.4554, 112.2922, 102.7103, 117.333, 88.7879, 85.17822, 101.4868, 120.0985], \"marker\": {\"color\": [2.56527681962207, 3.1372207655579047, 3.325121117522522, 2.154557073408039, 1.4663278211656205, 2.527828544703735, 1.620201121541877, 1.1505394418246793, 2.7824333745610095, 1.2299258257366263, 1.7772012464618283, 2.4538289662779436, 15.203463393098927, 2.780901382311961, 1.1730137038126427, 1.835932124608411, 2.9411634565042633, 1.0625040165298316, 1.2983255380425531, 2.2182504188289744, 1.5236235005501102, 1.851722867589859, 1.6964014199999298, 2.8938879485470537, 1.423867009335483, 1.7697276292208417, 2.0, 0.5590169943749475, 1.044465935734187, 1.5948285992135849, 3.5515124127783175], \"coloraxis\": \"coloraxis\", \"size\": [2.56527681962207, 3.1372207655579047, 3.325121117522522, 2.154557073408039, 1.4663278211656205, 2.527828544703735, 1.620201121541877, 1.1505394418246793, 2.7824333745610095, 1.2299258257366263, 1.7772012464618283, 2.4538289662779436, 15.203463393098927, 2.780901382311961, 1.1730137038126427, 1.835932124608411, 2.9411634565042633, 1.0625040165298316, 1.2983255380425531, 2.2182504188289744, 1.5236235005501102, 1.851722867589859, 1.6964014199999298, 2.8938879485470537, 1.423867009335483, 1.7697276292208417, 2.0, 0.5590169943749475, 1.044465935734187, 1.5948285992135849, 3.5515124127783175], \"sizemode\": \"area\", \"sizeref\": 0.08140788407607454}, \"name\": \"\", \"showlegend\": false, \"type\": \"scattergeo\"}], \"name\": \"02/03/2020\"}, {\"data\": [{\"customdata\": [[480.0, 0.0, 7.741935483870968], [228.0, 1.0, 10.584958217270195], [366.0, 2.0, 12.007874015748031], [194.0, 0.0, 5.031120331950207], [57.0, 0.0, 2.2283033620015638], [813.0, 0.0, 7.165520888418826], [139.0, 0.0, 2.873088052914427], [58.0, 0.0, 1.669064748201439], [80.0, 1.0, 8.602150537634408], [126.0, 1.0, 1.686746987951807], [155.0, 2.0, 4.045941007569825], [675.0, 2.0, 7.180851063829787], [16678.0, 479.0, 285.0940170940171], [593.0, 0.0, 8.802137449903517], [35.0, 0.0, 1.4164305949008498], [308.0, 0.0, 3.8308457711442783], [476.0, 0.0, 10.530973451327434], [42.0, 0.0, 1.5294974508375818], [81.0, 0.0, 1.845102505694761], [34.0, 0.0, 5.396825396825397], [15.0, 0.0, 2.678571428571429], [142.0, 0.0, 3.8039110634878117], [275.0, 0.0, 3.0555555555555554], [219.0, 1.0, 9.034653465346535], [81.0, 0.0, 2.219178082191781], [282.0, 1.0, 3.4771886559802714], [67.0, 0.0, 4.466666666666667], [1.0, 0.0, 0.3125], [29.0, 0.0, 1.3181818181818181], [122.0, 0.0, 2.652173913043478], [829.0, 0.0, 14.442508710801395]], \"geo\": \"geo\", \"hoverlabel\": {\"namelength\": 0}, \"hovertemplate\": \"<b>%{hovertext}</b><br><br>Date=02/04/2020<br>size=%{marker.color}<br>Confirmed=%{customdata[0]}<br>Deaths=%{customdata[1]}<br>Severity=%{customdata[2]}<br>Lat=%{lat}<br>Long=%{lon}\", \"hovertext\": [\"Anhui\", \"Beijing\", \"Chongqing\", \"Fujian\", \"Gansu\", \"Guangdong\", \"Guangxi\", \"Guizhou\", \"Hainan\", \"Hebei\", \"Heilongjiang\", \"Henan\", \"Hubei\", \"Hunan\", \"Inner Mongolia\", \"Jiangsu\", \"Jiangxi\", \"Jilin\", \"Liaoning\", \"Ningxia\", \"Qinghai\", \"Shaanxi\", \"Shandong\", \"Shanghai\", \"Shanxi\", \"Sichuan\", \"Tianjin\", \"Tibet\", \"Xinjiang\", \"Yunnan\", \"Zhejiang\"], \"lat\": [31.825709999999997, 40.18238, 30.05718, 26.07783, 36.0611, 23.33841, 23.829079999999998, 26.81536, 19.19673, 38.0428, 47.861999999999995, 33.882020000000004, 30.975640000000002, 27.610409999999998, 44.09448, 32.97027, 27.614009999999997, 43.66657, 41.292840000000005, 37.26923, 35.65945, 35.19165, 36.34377, 31.20327, 37.577690000000004, 30.617140000000003, 39.293620000000004, 30.1534, 41.11981, 24.97411, 29.182509999999997], \"legendgroup\": \"\", \"lon\": [117.2264, 116.4142, 107.874, 117.9895, 103.8343, 113.42200000000001, 108.7881, 106.8748, 109.7455, 114.5149, 127.7622, 113.61399999999999, 112.2707, 111.7088, 113.9456, 119.464, 115.7221, 126.1917, 122.6086, 106.1655, 96.02564, 108.8701, 118.1529, 121.4554, 112.2922, 102.7103, 117.333, 88.7879, 85.17822, 101.4868, 120.0985], \"marker\": {\"color\": [2.7824333745610095, 3.2534532757164647, 3.4652379450404314, 2.2430159009579507, 1.492750267794839, 2.676849059700383, 1.6950185995777236, 1.2919228878696434, 2.9329423004270656, 1.2987482388637943, 2.011452462170017, 2.6797110037893614, 16.884727332533892, 2.966839640072162, 1.1901388973144478, 1.9572546515832523, 3.2451461371296415, 1.2367285275425572, 1.3583455030642098, 2.323106841457232, 1.6366341767699428, 1.950361777590971, 1.7480147469502525, 3.0057700286859164, 1.4896905994842624, 1.864722139081389, 2.1134489978863145, 0.5590169943749475, 1.1481209945740989, 1.6285496348111341, 3.8003300791906742], \"coloraxis\": \"coloraxis\", \"size\": [2.7824333745610095, 3.2534532757164647, 3.4652379450404314, 2.2430159009579507, 1.492750267794839, 2.676849059700383, 1.6950185995777236, 1.2919228878696434, 2.9329423004270656, 1.2987482388637943, 2.011452462170017, 2.6797110037893614, 16.884727332533892, 2.966839640072162, 1.1901388973144478, 1.9572546515832523, 3.2451461371296415, 1.2367285275425572, 1.3583455030642098, 2.323106841457232, 1.6366341767699428, 1.950361777590971, 1.7480147469502525, 3.0057700286859164, 1.4896905994842624, 1.864722139081389, 2.1134489978863145, 0.5590169943749475, 1.1481209945740989, 1.6285496348111341, 3.8003300791906742], \"sizemode\": \"area\", \"sizeref\": 0.08140788407607454}, \"name\": \"\", \"showlegend\": false, \"type\": \"scattergeo\"}], \"name\": \"02/04/2020\"}, {\"data\": [{\"customdata\": [[530.0, 0.0, 8.548387096774194], [253.0, 1.0, 11.745589600742804], [389.0, 2.0, 12.762467191601049], [205.0, 0.0, 5.316390041493776], [62.0, 0.0, 2.4237685691946833], [895.0, 0.0, 7.8882425524413895], [150.0, 0.0, 3.100454733360893], [64.0, 1.0, 1.841726618705036], [99.0, 1.0, 10.64516129032258], [135.0, 1.0, 1.8072289156626504], [190.0, 2.0, 4.959540589924301], [764.0, 2.0, 8.127659574468085], [19665.0, 549.0, 336.15384615384613], [661.0, 0.0, 9.811488793231408], [42.0, 0.0, 1.6997167138810199], [341.0, 0.0, 4.241293532338308], [548.0, 0.0, 12.123893805309734], [54.0, 0.0, 1.9664967225054624], [89.0, 0.0, 2.0273348519362187], [34.0, 0.0, 5.396825396825397], [17.0, 0.0, 3.035714285714286], [165.0, 0.0, 4.420037503348514], [307.0, 0.0, 3.411111111111111], [243.0, 1.0, 10.024752475247526], [81.0, 0.0, 2.219178082191781], [301.0, 1.0, 3.7114673242909992], [69.0, 1.0, 4.6], [1.0, 0.0, 0.3125], [32.0, 0.0, 1.4545454545454546], [128.0, 0.0, 2.782608695652174], [895.0, 0.0, 15.59233449477352]], \"geo\": \"geo\", \"hoverlabel\": {\"namelength\": 0}, \"hovertemplate\": \"<b>%{hovertext}</b><br><br>Date=02/05/2020<br>size=%{marker.color}<br>Confirmed=%{customdata[0]}<br>Deaths=%{customdata[1]}<br>Severity=%{customdata[2]}<br>Lat=%{lat}<br>Long=%{lon}\", \"hovertext\": [\"Anhui\", \"Beijing\", \"Chongqing\", \"Fujian\", \"Gansu\", \"Guangdong\", \"Guangxi\", \"Guizhou\", \"Hainan\", \"Hebei\", \"Heilongjiang\", \"Henan\", \"Hubei\", \"Hunan\", \"Inner Mongolia\", \"Jiangsu\", \"Jiangxi\", \"Jilin\", \"Liaoning\", \"Ningxia\", \"Qinghai\", \"Shaanxi\", \"Shandong\", \"Shanghai\", \"Shanxi\", \"Sichuan\", \"Tianjin\", \"Tibet\", \"Xinjiang\", \"Yunnan\", \"Zhejiang\"], \"lat\": [31.825709999999997, 40.18238, 30.05718, 26.07783, 36.0611, 23.33841, 23.829079999999998, 26.81536, 19.19673, 38.0428, 47.861999999999995, 33.882020000000004, 30.975640000000002, 27.610409999999998, 44.09448, 32.97027, 27.614009999999997, 43.66657, 41.292840000000005, 37.26923, 35.65945, 35.19165, 36.34377, 31.20327, 37.577690000000004, 30.617140000000003, 39.293620000000004, 30.1534, 41.11981, 24.97411, 29.182509999999997], \"legendgroup\": \"\", \"lon\": [117.2264, 116.4142, 107.874, 117.9895, 103.8343, 113.42200000000001, 108.7881, 106.8748, 109.7455, 114.5149, 127.7622, 113.61399999999999, 112.2707, 111.7088, 113.9456, 119.464, 115.7221, 126.1917, 122.6086, 106.1655, 96.02564, 108.8701, 118.1529, 121.4554, 112.2922, 102.7103, 117.333, 88.7879, 85.17822, 101.4868, 120.0985], \"marker\": {\"color\": [2.9237624898021717, 3.4271839169707254, 3.572459543731888, 2.305729828382713, 1.5568457114289402, 2.8086015296658564, 1.7608108170274548, 1.3571022874879535, 3.2626923376749115, 1.3443321448446623, 2.22700260213685, 2.85090504480035, 18.334498797454106, 3.132329611204959, 1.3037318412468952, 2.059440101663146, 3.481938225372434, 1.4023183385043008, 1.4238450940801877, 2.323106841457232, 1.742330131092924, 2.102388523405822, 1.8469193569593425, 3.1661889512863137, 1.4896905994842624, 1.926516889178758, 2.1447610589527217, 0.5590169943749475, 1.2060453783110545, 1.6681153124565982, 3.9487130175252694], \"coloraxis\": \"coloraxis\", \"size\": [2.9237624898021717, 3.4271839169707254, 3.572459543731888, 2.305729828382713, 1.5568457114289402, 2.8086015296658564, 1.7608108170274548, 1.3571022874879535, 3.2626923376749115, 1.3443321448446623, 2.22700260213685, 2.85090504480035, 18.334498797454106, 3.132329611204959, 1.3037318412468952, 2.059440101663146, 3.481938225372434, 1.4023183385043008, 1.4238450940801877, 2.323106841457232, 1.742330131092924, 2.102388523405822, 1.8469193569593425, 3.1661889512863137, 1.4896905994842624, 1.926516889178758, 2.1447610589527217, 0.5590169943749475, 1.2060453783110545, 1.6681153124565982, 3.9487130175252694], \"sizemode\": \"area\", \"sizeref\": 0.08140788407607454}, \"name\": \"\", \"showlegend\": false, \"type\": \"scattergeo\"}], \"name\": \"02/05/2020\"}, {\"data\": [{\"customdata\": [[591.0, 0.0, 9.53225806451613], [274.0, 1.0, 12.720519962859797], [411.0, 2.0, 13.484251968503937], [215.0, 0.0, 5.575726141078838], [62.0, 0.0, 2.4237685691946833], [970.0, 0.0, 8.549268464657148], [168.0, 0.0, 3.4725093013642], [71.0, 1.0, 2.0431654676258995], [106.0, 1.0, 11.39784946236559], [157.0, 1.0, 2.101740294511379], [227.0, 3.0, 5.925345862699034], [851.0, 2.0, 9.053191489361701], [22112.0, 618.0, 377.982905982906], [711.0, 0.0, 10.553658898619563], [46.0, 0.0, 1.8615944961554025], [373.0, 0.0, 4.6393034825870645], [600.0, 0.0, 13.27433628318584], [59.0, 0.0, 2.1485797523670795], [94.0, 0.0, 2.14123006833713], [40.0, 0.0, 6.34920634920635], [18.0, 0.0, 3.2142857142857144], [173.0, 0.0, 4.6343423519957145], [347.0, 0.0, 3.8555555555555556], [257.0, 1.0, 10.602310231023104], [96.0, 0.0, 2.6301369863013697], [321.0, 1.0, 3.958076448828607], [79.0, 1.0, 5.266666666666667], [1.0, 0.0, 0.3125], [36.0, 0.0, 1.6363636363636365], [133.0, 0.0, 2.891304347826087], [954.0, 0.0, 16.62020905923345]], \"geo\": \"geo\", \"hoverlabel\": {\"namelength\": 0}, \"hovertemplate\": \"<b>%{hovertext}</b><br><br>Date=02/06/2020<br>size=%{marker.color}<br>Confirmed=%{customdata[0]}<br>Deaths=%{customdata[1]}<br>Severity=%{customdata[2]}<br>Lat=%{lat}<br>Long=%{lon}\", \"hovertext\": [\"Anhui\", \"Beijing\", \"Chongqing\", \"Fujian\", \"Gansu\", \"Guangdong\", \"Guangxi\", \"Guizhou\", \"Hainan\", \"Hebei\", \"Heilongjiang\", \"Henan\", \"Hubei\", \"Hunan\", \"Inner Mongolia\", \"Jiangsu\", \"Jiangxi\", \"Jilin\", \"Liaoning\", \"Ningxia\", \"Qinghai\", \"Shaanxi\", \"Shandong\", \"Shanghai\", \"Shanxi\", \"Sichuan\", \"Tianjin\", \"Tibet\", \"Xinjiang\", \"Yunnan\", \"Zhejiang\"], \"lat\": [31.825709999999997, 40.18238, 30.05718, 26.07783, 36.0611, 23.33841, 23.829079999999998, 26.81536, 19.19673, 38.0428, 47.861999999999995, 33.882020000000004, 30.975640000000002, 27.610409999999998, 44.09448, 32.97027, 27.614009999999997, 43.66657, 41.292840000000005, 37.26923, 35.65945, 35.19165, 36.34377, 31.20327, 37.577690000000004, 30.617140000000003, 39.293620000000004, 30.1534, 41.11981, 24.97411, 29.182509999999997], \"legendgroup\": \"\", \"lon\": [117.2264, 116.4142, 107.874, 117.9895, 103.8343, 113.42200000000001, 108.7881, 106.8748, 109.7455, 114.5149, 127.7622, 113.61399999999999, 112.2707, 111.7088, 113.9456, 119.464, 115.7221, 126.1917, 122.6086, 106.1655, 96.02564, 108.8701, 118.1529, 121.4554, 112.2922, 102.7103, 117.333, 88.7879, 85.17822, 101.4868, 120.0985], \"marker\": {\"color\": [3.087435515847437, 3.566583794453706, 3.6720909531905574, 2.361297554540477, 1.5568457114289402, 2.923913210862653, 1.8634670110748406, 1.4293933914867172, 3.3760701210676283, 1.4497380089213978, 2.434203332242201, 3.008852188021489, 19.441782479569767, 3.2486395458129183, 1.3644026151233375, 2.1539042417403484, 3.6433962566794516, 1.4658034494321124, 1.463294252136982, 2.519763153394848, 1.7928429140015905, 2.1527522737174647, 1.9635568633364189, 3.2561188907997667, 1.6217697081587663, 1.9894915050908377, 2.2949219304078006, 0.5590169943749475, 1.2792042981336627, 1.7003835884370582, 4.076789062391314], \"coloraxis\": \"coloraxis\", \"size\": [3.087435515847437, 3.566583794453706, 3.6720909531905574, 2.361297554540477, 1.5568457114289402, 2.923913210862653, 1.8634670110748406, 1.4293933914867172, 3.3760701210676283, 1.4497380089213978, 2.434203332242201, 3.008852188021489, 19.441782479569767, 3.2486395458129183, 1.3644026151233375, 2.1539042417403484, 3.6433962566794516, 1.4658034494321124, 1.463294252136982, 2.519763153394848, 1.7928429140015905, 2.1527522737174647, 1.9635568633364189, 3.2561188907997667, 1.6217697081587663, 1.9894915050908377, 2.2949219304078006, 0.5590169943749475, 1.2792042981336627, 1.7003835884370582, 4.076789062391314], \"sizemode\": \"area\", \"sizeref\": 0.08140788407607454}, \"name\": \"\", \"showlegend\": false, \"type\": \"scattergeo\"}], \"name\": \"02/06/2020\"}, {\"data\": [{\"customdata\": [[665.0, 0.0, 10.725806451612904], [297.0, 1.0, 13.788300835654598], [426.0, 2.0, 13.976377952755906], [224.0, 0.0, 5.809128630705394], [67.0, 0.0, 2.6192337763878033], [1034.0, 1.0, 9.113343909747929], [172.0, 0.0, 3.5551880942538236], [81.0, 1.0, 2.3309352517985613], [117.0, 2.0, 12.580645161290322], [172.0, 1.0, 2.3025435073627842], [277.0, 3.0, 7.230488123205429], [914.0, 3.0, 9.72340425531915], [24953.0, 699.0, 426.54700854700855], [772.0, 0.0, 11.459106427193111], [50.0, 0.0, 2.0234722784297854], [408.0, 0.0, 5.074626865671641], [661.0, 0.0, 14.623893805309734], [65.0, 1.0, 2.3670793882010197], [99.0, 0.0, 2.255125284738041], [43.0, 0.0, 6.825396825396826], [18.0, 0.0, 3.2142857142857144], [184.0, 0.0, 4.929011518885615], [386.0, 0.0, 4.288888888888889], [277.0, 1.0, 11.427392739273929], [104.0, 0.0, 2.8493150684931505], [344.0, 1.0, 4.241676942046856], [81.0, 1.0, 5.4], [1.0, 0.0, 0.3125], [39.0, 0.0, 1.7727272727272727], [138.0, 0.0, 3.0], [1006.0, 0.0, 17.526132404181187]], \"geo\": \"geo\", \"hoverlabel\": {\"namelength\": 0}, \"hovertemplate\": \"<b>%{hovertext}</b><br><br>Date=02/07/2020<br>size=%{marker.color}<br>Confirmed=%{customdata[0]}<br>Deaths=%{customdata[1]}<br>Severity=%{customdata[2]}<br>Lat=%{lat}<br>Long=%{lon}\", \"hovertext\": [\"Anhui\", \"Beijing\", \"Chongqing\", \"Fujian\", \"Gansu\", \"Guangdong\", \"Guangxi\", \"Guizhou\", \"Hainan\", \"Hebei\", \"Heilongjiang\", \"Henan\", \"Hubei\", \"Hunan\", \"Inner Mongolia\", \"Jiangsu\", \"Jiangxi\", \"Jilin\", \"Liaoning\", \"Ningxia\", \"Qinghai\", \"Shaanxi\", \"Shandong\", \"Shanghai\", \"Shanxi\", \"Sichuan\", \"Tianjin\", \"Tibet\", \"Xinjiang\", \"Yunnan\", \"Zhejiang\"], \"lat\": [31.825709999999997, 40.18238, 30.05718, 26.07783, 36.0611, 23.33841, 23.829079999999998, 26.81536, 19.19673, 38.0428, 47.861999999999995, 33.882020000000004, 30.975640000000002, 27.610409999999998, 44.09448, 32.97027, 27.614009999999997, 43.66657, 41.292840000000005, 37.26923, 35.65945, 35.19165, 36.34377, 31.20327, 37.577690000000004, 30.617140000000003, 39.293620000000004, 30.1534, 41.11981, 24.97411, 29.182509999999997], \"legendgroup\": \"\", \"lon\": [117.2264, 116.4142, 107.874, 117.9895, 103.8343, 113.42200000000001, 108.7881, 106.8748, 109.7455, 114.5149, 127.7622, 113.61399999999999, 112.2707, 111.7088, 113.9456, 119.464, 115.7221, 126.1917, 122.6086, 106.1655, 96.02564, 108.8701, 118.1529, 121.4554, 112.2922, 102.7103, 117.333, 88.7879, 85.17822, 101.4868, 120.0985], \"marker\": {\"color\": [3.275027702419157, 3.7132601357371393, 3.738499425271576, 2.4102133994120507, 1.6184047010521823, 3.018831547096977, 1.8855206427546276, 1.5267400734239478, 3.5469205180396024, 1.5174134266450867, 2.688956697904492, 3.118237363530741, 20.653014514762937, 3.385130193536596, 1.4224880591519162, 2.252693247131451, 3.824120004041418, 1.5385315688022199, 1.5017074564435116, 2.61254604273242, 1.7928429140015905, 2.2201377252066177, 2.070963275601209, 3.3804426839208395, 1.6879914302191081, 2.0595331854687013, 2.32379000772445, 0.5590169943749475, 1.3314380468978917, 1.7320508075688772, 4.186422387215746], \"coloraxis\": \"coloraxis\", \"size\": [3.275027702419157, 3.7132601357371393, 3.738499425271576, 2.4102133994120507, 1.6184047010521823, 3.018831547096977, 1.8855206427546276, 1.5267400734239478, 3.5469205180396024, 1.5174134266450867, 2.688956697904492, 3.118237363530741, 20.653014514762937, 3.385130193536596, 1.4224880591519162, 2.252693247131451, 3.824120004041418, 1.5385315688022199, 1.5017074564435116, 2.61254604273242, 1.7928429140015905, 2.2201377252066177, 2.070963275601209, 3.3804426839208395, 1.6879914302191081, 2.0595331854687013, 2.32379000772445, 0.5590169943749475, 1.3314380468978917, 1.7320508075688772, 4.186422387215746], \"sizemode\": \"area\", \"sizeref\": 0.08140788407607454}, \"name\": \"\", \"showlegend\": false, \"type\": \"scattergeo\"}], \"name\": \"02/07/2020\"}, {\"data\": [{\"customdata\": [[733.0, 0.0, 11.82258064516129], [315.0, 2.0, 14.623955431754876], [428.0, 2.0, 14.041994750656167], [239.0, 0.0, 6.198132780082987], [79.0, 1.0, 3.0883502736512902], [1095.0, 1.0, 9.650978318350079], [183.0, 0.0, 3.782554774700289], [89.0, 1.0, 2.5611510791366907], [124.0, 2.0, 13.333333333333332], [195.0, 1.0, 2.610441767068273], [295.0, 5.0, 7.7003393369877315], [981.0, 4.0, 10.436170212765957], [27100.0, 780.0, 463.2478632478632], [803.0, 1.0, 11.919251892533769], [52.0, 0.0, 2.1044111695669767], [439.0, 0.0, 5.460199004975124], [698.0, 0.0, 15.442477876106194], [69.0, 1.0, 2.512745812090313], [105.0, 0.0, 2.3917995444191344], [45.0, 0.0, 7.142857142857143], [18.0, 0.0, 3.2142857142857144], [195.0, 0.0, 5.223680685775516], [416.0, 0.0, 4.622222222222222], [286.0, 1.0, 11.798679867986799], [115.0, 0.0, 3.1506849315068495], [364.0, 1.0, 4.488286066584464], [88.0, 1.0, 5.866666666666666], [1.0, 0.0, 0.3125], [42.0, 0.0, 1.9090909090909092], [138.0, 0.0, 3.0], [1048.0, 0.0, 18.257839721254356]], \"geo\": \"geo\", \"hoverlabel\": {\"namelength\": 0}, \"hovertemplate\": \"<b>%{hovertext}</b><br><br>Date=02/08/2020<br>size=%{marker.color}<br>Confirmed=%{customdata[0]}<br>Deaths=%{customdata[1]}<br>Severity=%{customdata[2]}<br>Lat=%{lat}<br>Long=%{lon}\", \"hovertext\": [\"Anhui\", \"Beijing\", \"Chongqing\", \"Fujian\", \"Gansu\", \"Guangdong\", \"Guangxi\", \"Guizhou\", \"Hainan\", \"Hebei\", \"Heilongjiang\", \"Henan\", \"Hubei\", \"Hunan\", \"Inner Mongolia\", \"Jiangsu\", \"Jiangxi\", \"Jilin\", \"Liaoning\", \"Ningxia\", \"Qinghai\", \"Shaanxi\", \"Shandong\", \"Shanghai\", \"Shanxi\", \"Sichuan\", \"Tianjin\", \"Tibet\", \"Xinjiang\", \"Yunnan\", \"Zhejiang\"], \"lat\": [31.825709999999997, 40.18238, 30.05718, 26.07783, 36.0611, 23.33841, 23.829079999999998, 26.81536, 19.19673, 38.0428, 47.861999999999995, 33.882020000000004, 30.975640000000002, 27.610409999999998, 44.09448, 32.97027, 27.614009999999997, 43.66657, 41.292840000000005, 37.26923, 35.65945, 35.19165, 36.34377, 31.20327, 37.577690000000004, 30.617140000000003, 39.293620000000004, 30.1534, 41.11981, 24.97411, 29.182509999999997], \"legendgroup\": \"\", \"lon\": [117.2264, 116.4142, 107.874, 117.9895, 103.8343, 113.42200000000001, 108.7881, 106.8748, 109.7455, 114.5149, 127.7622, 113.61399999999999, 112.2707, 111.7088, 113.9456, 119.464, 115.7221, 126.1917, 122.6086, 106.1655, 96.02564, 108.8701, 118.1529, 121.4554, 112.2922, 102.7103, 117.333, 88.7879, 85.17822, 101.4868, 120.0985], \"marker\": {\"color\": [3.4383979765526402, 3.824128061631158, 3.7472649693684814, 2.489604944581165, 1.7573702722110927, 3.106602375321, 1.94487911570367, 1.6003596718040263, 3.651483716701107, 1.6156861598306378, 2.7749485287096283, 3.2305061852232937, 21.523193611726473, 3.4524269568716104, 1.4506588742936697, 2.336706871855159, 3.929691829661226, 1.585164285520688, 1.5465443881179533, 2.6726124191242437, 1.7928429140015905, 2.285537286017342, 2.1499353995462798, 3.434920649445457, 1.7750168820343228, 2.1185575438454496, 2.422120283277993, 0.5590169943749475, 1.381698559415515, 1.7320508075688772, 4.272919344108236], \"coloraxis\": \"coloraxis\", \"size\": [3.4383979765526402, 3.824128061631158, 3.7472649693684814, 2.489604944581165, 1.7573702722110927, 3.106602375321, 1.94487911570367, 1.6003596718040263, 3.651483716701107, 1.6156861598306378, 2.7749485287096283, 3.2305061852232937, 21.523193611726473, 3.4524269568716104, 1.4506588742936697, 2.336706871855159, 3.929691829661226, 1.585164285520688, 1.5465443881179533, 2.6726124191242437, 1.7928429140015905, 2.285537286017342, 2.1499353995462798, 3.434920649445457, 1.7750168820343228, 2.1185575438454496, 2.422120283277993, 0.5590169943749475, 1.381698559415515, 1.7320508075688772, 4.272919344108236], \"sizemode\": \"area\", \"sizeref\": 0.08140788407607454}, \"name\": \"\", \"showlegend\": false, \"type\": \"scattergeo\"}], \"name\": \"02/08/2020\"}, {\"data\": [{\"customdata\": [[779.0, 1.0, 12.564516129032258], [326.0, 2.0, 15.134633240482824], [468.0, 2.0, 15.354330708661417], [250.0, 0.0, 6.483402489626556], [83.0, 2.0, 3.244722439405786], [1131.0, 1.0, 9.968270756213645], [195.0, 1.0, 4.03059115336916], [99.0, 1.0, 2.8489208633093526], [131.0, 3.0, 14.086021505376342], [206.0, 2.0, 2.7576974564926373], [307.0, 6.0, 8.013573479509265], [1033.0, 6.0, 10.98936170212766], [29631.0, 871.0, 506.5128205128205], [838.0, 1.0, 12.438770966305476], [54.0, 0.0, 2.1853500607041685], [468.0, 0.0, 5.820895522388059], [740.0, 0.0, 16.371681415929203], [78.0, 1.0, 2.8404952658412235], [107.0, 0.0, 2.437357630979499], [45.0, 0.0, 7.142857142857143], [18.0, 0.0, 3.2142857142857144], [208.0, 0.0, 5.571926064827217], [444.0, 1.0, 4.933333333333334], [293.0, 1.0, 12.087458745874589], [119.0, 0.0, 3.26027397260274], [386.0, 1.0, 4.759556103575832], [91.0, 1.0, 6.066666666666666], [1.0, 0.0, 0.3125], [45.0, 0.0, 2.0454545454545454], [141.0, 0.0, 3.0652173913043477], [1075.0, 0.0, 18.72822299651568]], \"geo\": \"geo\", \"hoverlabel\": {\"namelength\": 0}, \"hovertemplate\": \"<b>%{hovertext}</b><br><br>Date=02/09/2020<br>size=%{marker.color}<br>Confirmed=%{customdata[0]}<br>Deaths=%{customdata[1]}<br>Severity=%{customdata[2]}<br>Lat=%{lat}<br>Long=%{lon}\", \"hovertext\": [\"Anhui\", \"Beijing\", \"Chongqing\", \"Fujian\", \"Gansu\", \"Guangdong\", \"Guangxi\", \"Guizhou\", \"Hainan\", \"Hebei\", \"Heilongjiang\", \"Henan\", \"Hubei\", \"Hunan\", \"Inner Mongolia\", \"Jiangsu\", \"Jiangxi\", \"Jilin\", \"Liaoning\", \"Ningxia\", \"Qinghai\", \"Shaanxi\", \"Shandong\", \"Shanghai\", \"Shanxi\", \"Sichuan\", \"Tianjin\", \"Tibet\", \"Xinjiang\", \"Yunnan\", \"Zhejiang\"], \"lat\": [31.825709999999997, 40.18238, 30.05718, 26.07783, 36.0611, 23.33841, 23.829079999999998, 26.81536, 19.19673, 38.0428, 47.861999999999995, 33.882020000000004, 30.975640000000002, 27.610409999999998, 44.09448, 32.97027, 27.614009999999997, 43.66657, 41.292840000000005, 37.26923, 35.65945, 35.19165, 36.34377, 31.20327, 37.577690000000004, 30.617140000000003, 39.293620000000004, 30.1534, 41.11981, 24.97411, 29.182509999999997], \"legendgroup\": \"\", \"lon\": [117.2264, 116.4142, 107.874, 117.9895, 103.8343, 113.42200000000001, 108.7881, 106.8748, 109.7455, 114.5149, 127.7622, 113.61399999999999, 112.2707, 111.7088, 113.9456, 119.464, 115.7221, 126.1917, 122.6086, 106.1655, 96.02564, 108.8701, 118.1529, 121.4554, 112.2922, 102.7103, 117.333, 88.7879, 85.17822, 101.4868, 120.0985], \"marker\": {\"color\": [3.5446461218339214, 3.8903255956902663, 3.9184602471712555, 2.5462526366459706, 1.8013113110747365, 3.157256840393832, 2.0076332218234385, 1.6878746586489628, 3.7531348903784876, 1.660631643830936, 2.8308255826718227, 3.3150206186579987, 22.50583969801661, 3.526864183138539, 1.4782929549666968, 2.4126532122101714, 4.04619344766525, 1.6853768913335745, 1.5612039043569865, 2.6726124191242437, 1.7928429140015905, 2.3604927589016698, 2.2211108331943574, 3.476702280304511, 1.8056228766281015, 2.1816406907590977, 2.463060426921489, 0.5590169943749475, 1.4301938838683885, 1.7507762253652943, 4.3276116965961355], \"coloraxis\": \"coloraxis\", \"size\": [3.5446461218339214, 3.8903255956902663, 3.9184602471712555, 2.5462526366459706, 1.8013113110747365, 3.157256840393832, 2.0076332218234385, 1.6878746586489628, 3.7531348903784876, 1.660631643830936, 2.8308255826718227, 3.3150206186579987, 22.50583969801661, 3.526864183138539, 1.4782929549666968, 2.4126532122101714, 4.04619344766525, 1.6853768913335745, 1.5612039043569865, 2.6726124191242437, 1.7928429140015905, 2.3604927589016698, 2.2211108331943574, 3.476702280304511, 1.8056228766281015, 2.1816406907590977, 2.463060426921489, 0.5590169943749475, 1.4301938838683885, 1.7507762253652943, 4.3276116965961355], \"sizemode\": \"area\", \"sizeref\": 0.08140788407607454}, \"name\": \"\", \"showlegend\": false, \"type\": \"scattergeo\"}], \"name\": \"02/09/2020\"}, {\"data\": [{\"customdata\": [[830.0, 3.0, 13.387096774193548], [337.0, 2.0, 15.645311049210772], [486.0, 2.0, 15.94488188976378], [261.0, 0.0, 6.768672199170124], [83.0, 2.0, 3.244722439405786], [1159.0, 1.0, 10.21505376344086], [210.0, 1.0, 4.34063662670525], [109.0, 1.0, 3.1366906474820144], [138.0, 3.0, 14.838709677419354], [218.0, 2.0, 2.9183400267737616], [331.0, 7.0, 8.640041764552336], [1073.0, 6.0, 11.414893617021276], [31728.0, 974.0, 542.3589743589744], [879.0, 1.0, 13.047350452723764], [58.0, 0.0, 2.347227842978551], [492.0, 0.0, 6.119402985074626], [771.0, 1.0, 17.057522123893804], [80.0, 1.0, 2.9133284777858703], [108.0, 0.0, 2.4601366742596813], [49.0, 0.0, 7.777777777777778], [18.0, 0.0, 3.2142857142857144], [213.0, 0.0, 5.705866595231718], [466.0, 1.0, 5.177777777777778], [299.0, 1.0, 12.334983498349835], [119.0, 0.0, 3.26027397260274], [405.0, 1.0, 4.9938347718865606], [95.0, 1.0, 6.333333333333333], [1.0, 0.0, 0.3125], [49.0, 0.0, 2.227272727272727], [149.0, 0.0, 3.239130434782609], [1092.0, 0.0, 19.024390243902438]], \"geo\": \"geo\", \"hoverlabel\": {\"namelength\": 0}, \"hovertemplate\": \"<b>%{hovertext}</b><br><br>Date=02/10/2020<br>size=%{marker.color}<br>Confirmed=%{customdata[0]}<br>Deaths=%{customdata[1]}<br>Severity=%{customdata[2]}<br>Lat=%{lat}<br>Long=%{lon}\", \"hovertext\": [\"Anhui\", \"Beijing\", \"Chongqing\", \"Fujian\", \"Gansu\", \"Guangdong\", \"Guangxi\", \"Guizhou\", \"Hainan\", \"Hebei\", \"Heilongjiang\", \"Henan\", \"Hubei\", \"Hunan\", \"Inner Mongolia\", \"Jiangsu\", \"Jiangxi\", \"Jilin\", \"Liaoning\", \"Ningxia\", \"Qinghai\", \"Shaanxi\", \"Shandong\", \"Shanghai\", \"Shanxi\", \"Sichuan\", \"Tianjin\", \"Tibet\", \"Xinjiang\", \"Yunnan\", \"Zhejiang\"], \"lat\": [31.825709999999997, 40.18238, 30.05718, 26.07783, 36.0611, 23.33841, 23.829079999999998, 26.81536, 19.19673, 38.0428, 47.861999999999995, 33.882020000000004, 30.975640000000002, 27.610409999999998, 44.09448, 32.97027, 27.614009999999997, 43.66657, 41.292840000000005, 37.26923, 35.65945, 35.19165, 36.34377, 31.20327, 37.577690000000004, 30.617140000000003, 39.293620000000004, 30.1534, 41.11981, 24.97411, 29.182509999999997], \"legendgroup\": \"\", \"lon\": [117.2264, 116.4142, 107.874, 117.9895, 103.8343, 113.42200000000001, 108.7881, 106.8748, 109.7455, 114.5149, 127.7622, 113.61399999999999, 112.2707, 111.7088, 113.9456, 119.464, 115.7221, 126.1917, 122.6086, 106.1655, 96.02564, 108.8701, 118.1529, 121.4554, 112.2922, 102.7103, 117.333, 88.7879, 85.17822, 101.4868, 120.0985], \"marker\": {\"color\": [3.6588381727255372, 3.9554154079199786, 3.993104292372512, 2.6016671960821824, 1.8013113110747365, 3.1960997736993226, 2.0834194552958487, 1.7710704806647346, 3.8521045776846914, 1.708314967087089, 2.9393947956258506, 3.3785934376632647, 23.288601812023288, 3.612111633480306, 1.5320665269427927, 2.4737427079376357, 4.130075316975927, 1.7068475262266019, 1.5684822836932781, 2.788866755113585, 1.7928429140015905, 2.3886955844627247, 2.2754730887834684, 3.5121195165241508, 1.8056228766281015, 2.234688965356602, 2.516611478423583, 0.5590169943749475, 1.4924050144892729, 1.7997584378973221, 4.361695799101817], \"coloraxis\": \"coloraxis\", \"size\": [3.6588381727255372, 3.9554154079199786, 3.993104292372512, 2.6016671960821824, 1.8013113110747365, 3.1960997736993226, 2.0834194552958487, 1.7710704806647346, 3.8521045776846914, 1.708314967087089, 2.9393947956258506, 3.3785934376632647, 23.288601812023288, 3.612111633480306, 1.5320665269427927, 2.4737427079376357, 4.130075316975927, 1.7068475262266019, 1.5684822836932781, 2.788866755113585, 1.7928429140015905, 2.3886955844627247, 2.2754730887834684, 3.5121195165241508, 1.8056228766281015, 2.234688965356602, 2.516611478423583, 0.5590169943749475, 1.4924050144892729, 1.7997584378973221, 4.361695799101817], \"sizemode\": \"area\", \"sizeref\": 0.08140788407607454}, \"name\": \"\", \"showlegend\": false, \"type\": \"scattergeo\"}], \"name\": \"02/10/2020\"}, {\"data\": [{\"customdata\": [[860.0, 4.0, 13.870967741935484], [342.0, 3.0, 15.877437325905293], [505.0, 3.0, 16.56824146981627], [267.0, 0.0, 6.924273858921161], [86.0, 2.0, 3.3620015637216576], [1177.0, 1.0, 10.373699982372642], [215.0, 1.0, 4.44398511781728], [127.0, 1.0, 3.6546762589928057], [144.0, 3.0, 15.483870967741934], [239.0, 2.0, 3.1994645247657294], [360.0, 8.0, 9.397024275646045], [1105.0, 7.0, 11.75531914893617], [33366.0, 1068.0, 570.3589743589744], [912.0, 1.0, 13.537182722279946], [58.0, 0.0, 2.347227842978551], [515.0, 0.0, 6.40547263681592], [804.0, 1.0, 17.787610619469024], [81.0, 1.0, 2.9497450837581938], [111.0, 0.0, 2.5284738041002277], [53.0, 0.0, 8.412698412698413], [18.0, 0.0, 3.2142857142857144], [219.0, 0.0, 5.866595231717118], [487.0, 1.0, 5.411111111111111], [303.0, 1.0, 12.5], [124.0, 0.0, 3.3972602739726026], [417.0, 1.0, 5.141800246609125], [106.0, 2.0, 7.066666666666666], [1.0, 0.0, 0.3125], [55.0, 0.0, 2.5], [153.0, 0.0, 3.3260869565217392], [1117.0, 0.0, 19.45993031358885]], \"geo\": \"geo\", \"hoverlabel\": {\"namelength\": 0}, \"hovertemplate\": \"<b>%{hovertext}</b><br><br>Date=02/11/2020<br>size=%{marker.color}<br>Confirmed=%{customdata[0]}<br>Deaths=%{customdata[1]}<br>Severity=%{customdata[2]}<br>Lat=%{lat}<br>Long=%{lon}\", \"hovertext\": [\"Anhui\", \"Beijing\", \"Chongqing\", \"Fujian\", \"Gansu\", \"Guangdong\", \"Guangxi\", \"Guizhou\", \"Hainan\", \"Hebei\", \"Heilongjiang\", \"Henan\", \"Hubei\", \"Hunan\", \"Inner Mongolia\", \"Jiangsu\", \"Jiangxi\", \"Jilin\", \"Liaoning\", \"Ningxia\", \"Qinghai\", \"Shaanxi\", \"Shandong\", \"Shanghai\", \"Shanxi\", \"Sichuan\", \"Tianjin\", \"Tibet\", \"Xinjiang\", \"Yunnan\", \"Zhejiang\"], \"lat\": [31.825709999999997, 40.18238, 30.05718, 26.07783, 36.0611, 23.33841, 23.829079999999998, 26.81536, 19.19673, 38.0428, 47.861999999999995, 33.882020000000004, 30.975640000000002, 27.610409999999998, 44.09448, 32.97027, 27.614009999999997, 43.66657, 41.292840000000005, 37.26923, 35.65945, 35.19165, 36.34377, 31.20327, 37.577690000000004, 30.617140000000003, 39.293620000000004, 30.1534, 41.11981, 24.97411, 29.182509999999997], \"legendgroup\": \"\", \"lon\": [117.2264, 116.4142, 107.874, 117.9895, 103.8343, 113.42200000000001, 108.7881, 106.8748, 109.7455, 114.5149, 127.7622, 113.61399999999999, 112.2707, 111.7088, 113.9456, 119.464, 115.7221, 126.1917, 122.6086, 106.1655, 96.02564, 108.8701, 118.1529, 121.4554, 112.2922, 102.7103, 117.333, 88.7879, 85.17822, 101.4868, 120.0985], \"marker\": {\"color\": [3.72437481222493, 3.9846502137459057, 4.070410479278014, 2.631401500896654, 1.8335761679629394, 3.220822873486315, 2.108076165089222, 1.9117207586341698, 3.934955014703718, 1.7887047058600056, 3.065456617805257, 3.4286030900260487, 23.882189480007362, 3.6792910624575415, 1.5320665269427927, 2.5309035218308735, 4.2175360839557765, 1.7174821931415165, 1.5901175441143425, 2.9004652062554404, 1.7928429140015905, 2.422105536866038, 2.3261795096490534, 3.5355339059327378, 1.8431658292114148, 2.2675538023626087, 2.6583202716502514, 0.5590169943749475, 1.5811388300841898, 1.8237562766229864, 4.4113411014779675], \"coloraxis\": \"coloraxis\", \"size\": [3.72437481222493, 3.9846502137459057, 4.070410479278014, 2.631401500896654, 1.8335761679629394, 3.220822873486315, 2.108076165089222, 1.9117207586341698, 3.934955014703718, 1.7887047058600056, 3.065456617805257, 3.4286030900260487, 23.882189480007362, 3.6792910624575415, 1.5320665269427927, 2.5309035218308735, 4.2175360839557765, 1.7174821931415165, 1.5901175441143425, 2.9004652062554404, 1.7928429140015905, 2.422105536866038, 2.3261795096490534, 3.5355339059327378, 1.8431658292114148, 2.2675538023626087, 2.6583202716502514, 0.5590169943749475, 1.5811388300841898, 1.8237562766229864, 4.4113411014779675], \"sizemode\": \"area\", \"sizeref\": 0.08140788407607454}, \"name\": \"\", \"showlegend\": false, \"type\": \"scattergeo\"}], \"name\": \"02/11/2020\"}, {\"data\": [{\"customdata\": [[889.0, 4.0, 14.338709677419354], [352.0, 3.0, 16.341689879294336], [518.0, 3.0, 16.99475065616798], [272.0, 0.0, 7.053941908713693], [87.0, 2.0, 3.4010946051602815], [1219.0, 1.0, 10.743874493213468], [222.0, 1.0, 4.588673005374122], [133.0, 1.0, 3.827338129496403], [157.0, 4.0, 16.881720430107524], [251.0, 2.0, 3.360107095046854], [378.0, 8.0, 9.866875489428347], [1135.0, 8.0, 12.074468085106384], [33366.0, 1068.0, 570.3589743589744], [946.0, 2.0, 14.04185839394389], [60.0, 0.0, 2.4281667341157425], [543.0, 0.0, 6.753731343283581], [844.0, 1.0, 18.672566371681416], [83.0, 1.0, 3.02257829570284], [116.0, 1.0, 2.642369020501139], [58.0, 0.0, 9.206349206349207], [18.0, 0.0, 3.2142857142857144], [225.0, 0.0, 6.027323868202519], [497.0, 2.0, 5.522222222222222], [311.0, 1.0, 12.830033003300331], [126.0, 0.0, 3.452054794520548], [436.0, 1.0, 5.3760789149198525], [112.0, 2.0, 7.466666666666667], [1.0, 0.0, 0.3125], [59.0, 0.0, 2.6818181818181817], [154.0, 0.0, 3.347826086956522], [1131.0, 0.0, 19.70383275261324]], \"geo\": \"geo\", \"hoverlabel\": {\"namelength\": 0}, \"hovertemplate\": \"<b>%{hovertext}</b><br><br>Date=02/12/2020<br>size=%{marker.color}<br>Confirmed=%{customdata[0]}<br>Deaths=%{customdata[1]}<br>Severity=%{customdata[2]}<br>Lat=%{lat}<br>Long=%{lon}\", \"hovertext\": [\"Anhui\", \"Beijing\", \"Chongqing\", \"Fujian\", \"Gansu\", \"Guangdong\", \"Guangxi\", \"Guizhou\", \"Hainan\", \"Hebei\", \"Heilongjiang\", \"Henan\", \"Hubei\", \"Hunan\", \"Inner Mongolia\", \"Jiangsu\", \"Jiangxi\", \"Jilin\", \"Liaoning\", \"Ningxia\", \"Qinghai\", \"Shaanxi\", \"Shandong\", \"Shanghai\", \"Shanxi\", \"Sichuan\", \"Tianjin\", \"Tibet\", \"Xinjiang\", \"Yunnan\", \"Zhejiang\"], \"lat\": [31.825709999999997, 40.18238, 30.05718, 26.07783, 36.0611, 23.33841, 23.829079999999998, 26.81536, 19.19673, 38.0428, 47.861999999999995, 33.882020000000004, 30.975640000000002, 27.610409999999998, 44.09448, 32.97027, 27.614009999999997, 43.66657, 41.292840000000005, 37.26923, 35.65945, 35.19165, 36.34377, 31.20327, 37.577690000000004, 30.617140000000003, 39.293620000000004, 30.1534, 41.11981, 24.97411, 29.182509999999997], \"legendgroup\": \"\", \"lon\": [117.2264, 116.4142, 107.874, 117.9895, 103.8343, 113.42200000000001, 108.7881, 106.8748, 109.7455, 114.5149, 127.7622, 113.61399999999999, 112.2707, 111.7088, 113.9456, 119.464, 115.7221, 126.1917, 122.6086, 106.1655, 96.02564, 108.8701, 118.1529, 121.4554, 112.2922, 102.7103, 117.333, 88.7879, 85.17822, 101.4868, 120.0985], \"marker\": {\"color\": [3.7866488716831608, 4.042485606566131, 4.122469000025104, 2.6559258100921594, 1.8442056840711345, 3.2777849980151945, 2.142118812151679, 1.9563583847282182, 4.108737084568387, 1.8330594903185369, 3.1411583037835498, 3.474833533438168, 23.882189480007362, 3.7472467751595824, 1.5582575955584952, 2.598794209490929, 4.321176503185378, 1.7385563826643184, 1.6255365331179545, 3.0341966327759984, 1.7928429140015905, 2.455060868533104, 2.3499408976019422, 3.581903544667323, 1.857970611855997, 2.318637296974206, 2.7325202042558927, 0.5590169943749475, 1.6376257758774382, 1.8297065576087663, 4.438899948479718], \"coloraxis\": \"coloraxis\", \"size\": [3.7866488716831608, 4.042485606566131, 4.122469000025104, 2.6559258100921594, 1.8442056840711345, 3.2777849980151945, 2.142118812151679, 1.9563583847282182, 4.108737084568387, 1.8330594903185369, 3.1411583037835498, 3.474833533438168, 23.882189480007362, 3.7472467751595824, 1.5582575955584952, 2.598794209490929, 4.321176503185378, 1.7385563826643184, 1.6255365331179545, 3.0341966327759984, 1.7928429140015905, 2.455060868533104, 2.3499408976019422, 3.581903544667323, 1.857970611855997, 2.318637296974206, 2.7325202042558927, 0.5590169943749475, 1.6376257758774382, 1.8297065576087663, 4.438899948479718], \"sizemode\": \"area\", \"sizeref\": 0.08140788407607454}, \"name\": \"\", \"showlegend\": false, \"type\": \"scattergeo\"}], \"name\": \"02/12/2020\"}, {\"data\": [{\"customdata\": [[910.0, 5.0, 14.67741935483871], [366.0, 3.0, 16.991643454038996], [529.0, 4.0, 17.355643044619423], [279.0, 0.0, 7.235477178423236], [90.0, 2.0, 3.5183737294761537], [1241.0, 2.0, 10.937775427463423], [222.0, 2.0, 4.588673005374122], [135.0, 1.0, 3.884892086330935], [157.0, 4.0, 16.881720430107524], [265.0, 3.0, 3.547523427041499], [395.0, 9.0, 10.310623858000522], [1169.0, 10.0, 12.436170212765957], [48206.0, 1310.0, 824.034188034188], [968.0, 2.0, 14.368413240314679], [61.0, 0.0, 2.468636179684338], [570.0, 0.0, 7.08955223880597], [872.0, 1.0, 19.292035398230087], [84.0, 1.0, 3.0589949016751636], [117.0, 1.0, 2.6651480637813214], [64.0, 0.0, 10.158730158730158], [18.0, 0.0, 3.2142857142857144], [229.0, 0.0, 6.134476292526118], [509.0, 2.0, 5.655555555555556], [315.0, 1.0, 12.995049504950495], [126.0, 0.0, 3.452054794520548], [451.0, 1.0, 5.561035758323058], [119.0, 3.0, 7.933333333333334], [1.0, 0.0, 0.3125], [63.0, 1.0, 2.8636363636363638], [156.0, 0.0, 3.391304347826087], [1145.0, 0.0, 19.94773519163763]], \"geo\": \"geo\", \"hoverlabel\": {\"namelength\": 0}, \"hovertemplate\": \"<b>%{hovertext}</b><br><br>Date=02/13/2020<br>size=%{marker.color}<br>Confirmed=%{customdata[0]}<br>Deaths=%{customdata[1]}<br>Severity=%{customdata[2]}<br>Lat=%{lat}<br>Long=%{lon}\", \"hovertext\": [\"Anhui\", \"Beijing\", \"Chongqing\", \"Fujian\", \"Gansu\", \"Guangdong\", \"Guangxi\", \"Guizhou\", \"Hainan\", \"Hebei\", \"Heilongjiang\", \"Henan\", \"Hubei\", \"Hunan\", \"Inner Mongolia\", \"Jiangsu\", \"Jiangxi\", \"Jilin\", \"Liaoning\", \"Ningxia\", \"Qinghai\", \"Shaanxi\", \"Shandong\", \"Shanghai\", \"Shanxi\", \"Sichuan\", \"Tianjin\", \"Tibet\", \"Xinjiang\", \"Yunnan\", \"Zhejiang\"], \"lat\": [31.825709999999997, 40.18238, 30.05718, 26.07783, 36.0611, 23.33841, 23.829079999999998, 26.81536, 19.19673, 38.0428, 47.861999999999995, 33.882020000000004, 30.975640000000002, 27.610409999999998, 44.09448, 32.97027, 27.614009999999997, 43.66657, 41.292840000000005, 37.26923, 35.65945, 35.19165, 36.34377, 31.20327, 37.577690000000004, 30.617140000000003, 39.293620000000004, 30.1534, 41.11981, 24.97411, 29.182509999999997], \"legendgroup\": \"\", \"lon\": [117.2264, 116.4142, 107.874, 117.9895, 103.8343, 113.42200000000001, 108.7881, 106.8748, 109.7455, 114.5149, 127.7622, 113.61399999999999, 112.2707, 111.7088, 113.9456, 119.464, 115.7221, 126.1917, 122.6086, 106.1655, 96.02564, 108.8701, 118.1529, 121.4554, 112.2922, 102.7103, 117.333, 88.7879, 85.17822, 101.4868, 120.0985], \"marker\": {\"color\": [3.831112025879524, 4.122092121003483, 4.166010447012756, 2.6898842314165186, 1.8757328513080305, 3.307230779287019, 2.142118812151679, 1.9710129594528127, 4.108737084568387, 1.8834870392549823, 3.211016016465898, 3.526495457641475, 28.70599568094073, 3.7905689863547765, 1.571189415597094, 2.66262130968825, 4.39226995962567, 1.7489982566243922, 1.6325281203646451, 3.187276291558383, 1.7928429140015905, 2.4767874944221835, 2.378141197564929, 3.6048646999506784, 1.857970611855997, 2.3581848439685675, 2.816617356570348, 0.5590169943749475, 1.6922282244532987, 1.841549442134554, 4.466288749245578], \"coloraxis\": \"coloraxis\", \"size\": [3.831112025879524, 4.122092121003483, 4.166010447012756, 2.6898842314165186, 1.8757328513080305, 3.307230779287019, 2.142118812151679, 1.9710129594528127, 4.108737084568387, 1.8834870392549823, 3.211016016465898, 3.526495457641475, 28.70599568094073, 3.7905689863547765, 1.571189415597094, 2.66262130968825, 4.39226995962567, 1.7489982566243922, 1.6325281203646451, 3.187276291558383, 1.7928429140015905, 2.4767874944221835, 2.378141197564929, 3.6048646999506784, 1.857970611855997, 2.3581848439685675, 2.816617356570348, 0.5590169943749475, 1.6922282244532987, 1.841549442134554, 4.466288749245578], \"sizemode\": \"area\", \"sizeref\": 0.08140788407607454}, \"name\": \"\", \"showlegend\": false, \"type\": \"scattergeo\"}], \"name\": \"02/13/2020\"}, {\"data\": [{\"customdata\": [[934.0, 6.0, 15.064516129032258], [372.0, 3.0, 17.270194986072426], [537.0, 5.0, 17.61811023622047], [281.0, 0.0, 7.287344398340249], [90.0, 2.0, 3.5183737294761537], [1261.0, 2.0, 11.114049004054293], [226.0, 2.0, 4.671351798263745], [140.0, 1.0, 4.028776978417266], [159.0, 4.0, 17.096774193548384], [283.0, 3.0, 3.788487282463186], [419.0, 11.0, 10.937092143043591], [1184.0, 11.0, 12.595744680851064], [54406.0, 1457.0, 930.017094017094], [988.0, 2.0, 14.665281282469941], [65.0, 0.0, 2.6305139619587212], [593.0, 0.0, 7.375621890547263], [900.0, 1.0, 19.91150442477876], [86.0, 1.0, 3.1318281136198105], [119.0, 1.0, 2.710706150341686], [67.0, 0.0, 10.634920634920634], [18.0, 0.0, 3.2142857142857144], [230.0, 0.0, 6.161264398607019], [523.0, 2.0, 5.811111111111111], [318.0, 1.0, 13.118811881188119], [127.0, 0.0, 3.4794520547945207], [463.0, 1.0, 5.7090012330456235], [120.0, 3.0, 8.0], [1.0, 0.0, 0.3125], [65.0, 1.0, 2.9545454545454546], [162.0, 0.0, 3.5217391304347827], [1155.0, 0.0, 20.121951219512194]], \"geo\": \"geo\", \"hoverlabel\": {\"namelength\": 0}, \"hovertemplate\": \"<b>%{hovertext}</b><br><br>Date=02/14/2020<br>size=%{marker.color}<br>Confirmed=%{customdata[0]}<br>Deaths=%{customdata[1]}<br>Severity=%{customdata[2]}<br>Lat=%{lat}<br>Long=%{lon}\", \"hovertext\": [\"Anhui\", \"Beijing\", \"Chongqing\", \"Fujian\", \"Gansu\", \"Guangdong\", \"Guangxi\", \"Guizhou\", \"Hainan\", \"Hebei\", \"Heilongjiang\", \"Henan\", \"Hubei\", \"Hunan\", \"Inner Mongolia\", \"Jiangsu\", \"Jiangxi\", \"Jilin\", \"Liaoning\", \"Ningxia\", \"Qinghai\", \"Shaanxi\", \"Shandong\", \"Shanghai\", \"Shanxi\", \"Sichuan\", \"Tianjin\", \"Tibet\", \"Xinjiang\", \"Yunnan\", \"Zhejiang\"], \"lat\": [31.825709999999997, 40.18238, 30.05718, 26.07783, 36.0611, 23.33841, 23.829079999999998, 26.81536, 19.19673, 38.0428, 47.861999999999995, 33.882020000000004, 30.975640000000002, 27.610409999999998, 44.09448, 32.97027, 27.614009999999997, 43.66657, 41.292840000000005, 37.26923, 35.65945, 35.19165, 36.34377, 31.20327, 37.577690000000004, 30.617140000000003, 39.293620000000004, 30.1534, 41.11981, 24.97411, 29.182509999999997], \"legendgroup\": \"\", \"lon\": [117.2264, 116.4142, 107.874, 117.9895, 103.8343, 113.42200000000001, 108.7881, 106.8748, 109.7455, 114.5149, 127.7622, 113.61399999999999, 112.2707, 111.7088, 113.9456, 119.464, 115.7221, 126.1917, 122.6086, 106.1655, 96.02564, 108.8701, 118.1529, 121.4554, 112.2922, 102.7103, 117.333, 88.7879, 85.17822, 101.4868, 120.0985], \"marker\": {\"color\": [3.8813034059491223, 4.155742410938439, 4.197393266805062, 2.699508177120464, 1.8757328513080305, 3.3337739881483106, 2.1613310246844986, 2.007181351651431, 4.134824566235959, 1.9464036792153847, 3.307127476080048, 3.5490484190626455, 30.49618163011714, 3.829527553428744, 1.621885927541984, 2.7158096197169757, 4.462230879815472, 1.7696971813335214, 1.6464222272374986, 3.261122603478844, 1.7928429140015905, 2.482189436486873, 2.4106246309019395, 3.621990044324821, 1.8653289401053426, 2.389351634449317, 2.8284271247461903, 0.5590169943749475, 1.7188791273808215, 1.8766297265136729, 4.485749794573054], \"coloraxis\": \"coloraxis\", \"size\": [3.8813034059491223, 4.155742410938439, 4.197393266805062, 2.699508177120464, 1.8757328513080305, 3.3337739881483106, 2.1613310246844986, 2.007181351651431, 4.134824566235959, 1.9464036792153847, 3.307127476080048, 3.5490484190626455, 30.49618163011714, 3.829527553428744, 1.621885927541984, 2.7158096197169757, 4.462230879815472, 1.7696971813335214, 1.6464222272374986, 3.261122603478844, 1.7928429140015905, 2.482189436486873, 2.4106246309019395, 3.621990044324821, 1.8653289401053426, 2.389351634449317, 2.8284271247461903, 0.5590169943749475, 1.7188791273808215, 1.8766297265136729, 4.485749794573054], \"sizemode\": \"area\", \"sizeref\": 0.08140788407607454}, \"name\": \"\", \"showlegend\": false, \"type\": \"scattergeo\"}], \"name\": \"02/14/2020\"}, {\"data\": [{\"customdata\": [[950.0, 6.0, 15.32258064516129], [375.0, 4.0, 17.40947075208914], [544.0, 5.0, 17.84776902887139], [285.0, 0.0, 7.391078838174273], [90.0, 2.0, 3.5183737294761537], [1294.0, 2.0, 11.404900405429228], [235.0, 2.0, 4.857379082265399], [143.0, 1.0, 4.115107913669065], [162.0, 4.0, 17.419354838709676], [291.0, 3.0, 3.895582329317269], [425.0, 11.0, 11.093709214304358], [1212.0, 13.0, 12.893617021276595], [56249.0, 1596.0, 961.5213675213676], [1001.0, 2.0, 14.858245509870862], [68.0, 0.0, 2.751922298664508], [604.0, 0.0, 7.512437810945273], [913.0, 1.0, 20.199115044247787], [88.0, 1.0, 3.2046613255644574], [119.0, 1.0, 2.710706150341686], [70.0, 0.0, 11.11111111111111], [18.0, 0.0, 3.2142857142857144], [232.0, 0.0, 6.214840610768819], [532.0, 2.0, 5.911111111111111], [326.0, 1.0, 13.44884488448845], [128.0, 0.0, 3.506849315068493], [470.0, 1.0, 5.7953144266337855], [122.0, 3.0, 8.133333333333333], [1.0, 0.0, 0.3125], [70.0, 1.0, 3.1818181818181817], [168.0, 0.0, 3.652173913043478], [1162.0, 0.0, 20.243902439024392]], \"geo\": \"geo\", \"hoverlabel\": {\"namelength\": 0}, \"hovertemplate\": \"<b>%{hovertext}</b><br><br>Date=02/15/2020<br>size=%{marker.color}<br>Confirmed=%{customdata[0]}<br>Deaths=%{customdata[1]}<br>Severity=%{customdata[2]}<br>Lat=%{lat}<br>Long=%{lon}\", \"hovertext\": [\"Anhui\", \"Beijing\", \"Chongqing\", \"Fujian\", \"Gansu\", \"Guangdong\", \"Guangxi\", \"Guizhou\", \"Hainan\", \"Hebei\", \"Heilongjiang\", \"Henan\", \"Hubei\", \"Hunan\", \"Inner Mongolia\", \"Jiangsu\", \"Jiangxi\", \"Jilin\", \"Liaoning\", \"Ningxia\", \"Qinghai\", \"Shaanxi\", \"Shandong\", \"Shanghai\", \"Shanxi\", \"Sichuan\", \"Tianjin\", \"Tibet\", \"Xinjiang\", \"Yunnan\", \"Zhejiang\"], \"lat\": [31.825709999999997, 40.18238, 30.05718, 26.07783, 36.0611, 23.33841, 23.829079999999998, 26.81536, 19.19673, 38.0428, 47.861999999999995, 33.882020000000004, 30.975640000000002, 27.610409999999998, 44.09448, 32.97027, 27.614009999999997, 43.66657, 41.292840000000005, 37.26923, 35.65945, 35.19165, 36.34377, 31.20327, 37.577690000000004, 30.617140000000003, 39.293620000000004, 30.1534, 41.11981, 24.97411, 29.182509999999997], \"legendgroup\": \"\", \"lon\": [117.2264, 116.4142, 107.874, 117.9895, 103.8343, 113.42200000000001, 108.7881, 106.8748, 109.7455, 114.5149, 127.7622, 113.61399999999999, 112.2707, 111.7088, 113.9456, 119.464, 115.7221, 126.1917, 122.6086, 106.1655, 96.02564, 108.8701, 118.1529, 121.4554, 112.2922, 102.7103, 117.333, 88.7879, 85.17822, 101.4868, 120.0985], \"marker\": {\"color\": [3.9144068062940636, 4.172465788007032, 4.224662001731191, 2.7186538650910075, 1.8757328513080305, 3.377114212671705, 2.20394625212717, 2.028572876105038, 4.173650061841514, 1.973722961643115, 3.330722025973401, 3.5907683051509456, 31.008408013333536, 3.8546394785856255, 1.658891888781336, 2.740882670043589, 4.494342559735271, 1.7901567879837947, 1.6464222272374986, 3.3333333333333335, 1.7928429140015905, 2.4929582047777736, 2.4312776705080625, 3.6672666775799723, 1.8726583551380889, 2.4073459299888302, 2.851899951494325, 0.5590169943749475, 1.7837651700316894, 1.9110661718118183, 4.499322442215538], \"coloraxis\": \"coloraxis\", \"size\": [3.9144068062940636, 4.172465788007032, 4.224662001731191, 2.7186538650910075, 1.8757328513080305, 3.377114212671705, 2.20394625212717, 2.028572876105038, 4.173650061841514, 1.973722961643115, 3.330722025973401, 3.5907683051509456, 31.008408013333536, 3.8546394785856255, 1.658891888781336, 2.740882670043589, 4.494342559735271, 1.7901567879837947, 1.6464222272374986, 3.3333333333333335, 1.7928429140015905, 2.4929582047777736, 2.4312776705080625, 3.6672666775799723, 1.8726583551380889, 2.4073459299888302, 2.851899951494325, 0.5590169943749475, 1.7837651700316894, 1.9110661718118183, 4.499322442215538], \"sizemode\": \"area\", \"sizeref\": 0.08140788407607454}, \"name\": \"\", \"showlegend\": false, \"type\": \"scattergeo\"}], \"name\": \"02/15/2020\"}, {\"data\": [{\"customdata\": [[962.0, 6.0, 15.516129032258064], [380.0, 4.0, 17.64159702878366], [551.0, 5.0, 18.07742782152231], [287.0, 0.0, 7.442946058091286], [90.0, 2.0, 3.5183737294761537], [1316.0, 2.0, 11.598801339679182], [237.0, 2.0, 4.898718478710211], [144.0, 1.0, 4.143884892086331], [162.0, 4.0, 17.419354838709676], [300.0, 3.0, 4.016064257028113], [445.0, 11.0, 11.615766118506917], [1231.0, 13.0, 13.095744680851064], [58182.0, 1696.0, 994.5641025641025], [1004.0, 3.0, 14.902775716194151], [70.0, 0.0, 2.8328611898016995], [617.0, 0.0, 7.67412935323383], [925.0, 1.0, 20.464601769911503], [89.0, 1.0, 3.241077931536781], [121.0, 1.0, 2.7562642369020502], [70.0, 0.0, 11.11111111111111], [18.0, 0.0, 3.2142857142857144], [236.0, 0.0, 6.32199303509242], [537.0, 2.0, 5.966666666666667], [328.0, 1.0, 13.531353135313532], [129.0, 0.0, 3.5342465753424657], [481.0, 3.0, 5.93094944512947], [124.0, 3.0, 8.266666666666667], [1.0, 0.0, 0.3125], [71.0, 1.0, 3.227272727272727], [171.0, 0.0, 3.717391304347826], [1167.0, 0.0, 20.331010452961674]], \"geo\": \"geo\", \"hoverlabel\": {\"namelength\": 0}, \"hovertemplate\": \"<b>%{hovertext}</b><br><br>Date=02/16/2020<br>size=%{marker.color}<br>Confirmed=%{customdata[0]}<br>Deaths=%{customdata[1]}<br>Severity=%{customdata[2]}<br>Lat=%{lat}<br>Long=%{lon}\", \"hovertext\": [\"Anhui\", \"Beijing\", \"Chongqing\", \"Fujian\", \"Gansu\", \"Guangdong\", \"Guangxi\", \"Guizhou\", \"Hainan\", \"Hebei\", \"Heilongjiang\", \"Henan\", \"Hubei\", \"Hunan\", \"Inner Mongolia\", \"Jiangsu\", \"Jiangxi\", \"Jilin\", \"Liaoning\", \"Ningxia\", \"Qinghai\", \"Shaanxi\", \"Shandong\", \"Shanghai\", \"Shanxi\", \"Sichuan\", \"Tianjin\", \"Tibet\", \"Xinjiang\", \"Yunnan\", \"Zhejiang\"], \"lat\": [31.825709999999997, 40.18238, 30.05718, 26.07783, 36.0611, 23.33841, 23.829079999999998, 26.81536, 19.19673, 38.0428, 47.861999999999995, 33.882020000000004, 30.975640000000002, 27.610409999999998, 44.09448, 32.97027, 27.614009999999997, 43.66657, 41.292840000000005, 37.26923, 35.65945, 35.19165, 36.34377, 31.20327, 37.577690000000004, 30.617140000000003, 39.293620000000004, 30.1534, 41.11981, 24.97411, 29.182509999999997], \"legendgroup\": \"\", \"lon\": [117.2264, 116.4142, 107.874, 117.9895, 103.8343, 113.42200000000001, 108.7881, 106.8748, 109.7455, 114.5149, 127.7622, 113.61399999999999, 112.2707, 111.7088, 113.9456, 119.464, 115.7221, 126.1917, 122.6086, 106.1655, 96.02564, 108.8701, 118.1529, 121.4554, 112.2922, 102.7103, 117.333, 88.7879, 85.17822, 101.4868, 120.0985], \"marker\": {\"color\": [3.939051793548552, 4.200190118171279, 4.2517558515891185, 2.728176324596943, 1.8757328513080305, 3.405701299245015, 2.2133048770357444, 2.03565343123193, 4.173650061841514, 2.004012040140506, 3.4081910331592207, 3.6188043164629757, 31.536710395412243, 3.860411340284109, 1.6831105696898525, 2.770221896028156, 4.523781799546868, 1.800299400526696, 1.6602000593007007, 3.3333333333333335, 1.7928429140015905, 2.514357380145555, 2.442676128074835, 3.678498761086312, 1.8799591951269756, 2.4353540697667495, 2.8751811537130436, 0.5590169943749475, 1.796461167760864, 1.9280537607514543, 4.508992177079228], \"coloraxis\": \"coloraxis\", \"size\": [3.939051793548552, 4.200190118171279, 4.2517558515891185, 2.728176324596943, 1.8757328513080305, 3.405701299245015, 2.2133048770357444, 2.03565343123193, 4.173650061841514, 2.004012040140506, 3.4081910331592207, 3.6188043164629757, 31.536710395412243, 3.860411340284109, 1.6831105696898525, 2.770221896028156, 4.523781799546868, 1.800299400526696, 1.6602000593007007, 3.3333333333333335, 1.7928429140015905, 2.514357380145555, 2.442676128074835, 3.678498761086312, 1.8799591951269756, 2.4353540697667495, 2.8751811537130436, 0.5590169943749475, 1.796461167760864, 1.9280537607514543, 4.508992177079228], \"sizemode\": \"area\", \"sizeref\": 0.08140788407607454}, \"name\": \"\", \"showlegend\": false, \"type\": \"scattergeo\"}], \"name\": \"02/16/2020\"}, {\"data\": [{\"customdata\": [[973.0, 6.0, 15.693548387096774], [381.0, 4.0, 17.688022284122564], [553.0, 5.0, 18.14304461942257], [290.0, 0.0, 7.520746887966805], [91.0, 2.0, 3.5574667709147776], [1322.0, 4.0, 11.651683412656443], [238.0, 2.0, 4.919388176932617], [146.0, 1.0, 4.201438848920863], [163.0, 4.0, 17.526881720430108], [301.0, 3.0, 4.029451137884872], [457.0, 11.0, 11.92900026102845], [1246.0, 16.0, 13.25531914893617], [59989.0, 1789.0, 1025.4529914529915], [1006.0, 3.0, 14.932462520409677], [72.0, 0.0, 2.913800080938891], [626.0, 0.0, 7.786069651741293], [930.0, 1.0, 20.575221238938052], [89.0, 1.0, 3.241077931536781], [121.0, 1.0, 2.7562642369020502], [70.0, 0.0, 11.11111111111111], [18.0, 0.0, 3.2142857142857144], [240.0, 0.0, 6.42914545941602], [541.0, 2.0, 6.011111111111111], [333.0, 1.0, 13.737623762376238], [130.0, 0.0, 3.5616438356164384], [495.0, 3.0, 6.103575832305796], [125.0, 3.0, 8.333333333333334], [1.0, 0.0, 0.3125], [75.0, 1.0, 3.409090909090909], [171.0, 0.0, 3.717391304347826], [1171.0, 0.0, 20.4006968641115]], \"geo\": \"geo\", \"hoverlabel\": {\"namelength\": 0}, \"hovertemplate\": \"<b>%{hovertext}</b><br><br>Date=02/17/2020<br>size=%{marker.color}<br>Confirmed=%{customdata[0]}<br>Deaths=%{customdata[1]}<br>Severity=%{customdata[2]}<br>Lat=%{lat}<br>Long=%{lon}\", \"hovertext\": [\"Anhui\", \"Beijing\", \"Chongqing\", \"Fujian\", \"Gansu\", \"Guangdong\", \"Guangxi\", \"Guizhou\", \"Hainan\", \"Hebei\", \"Heilongjiang\", \"Henan\", \"Hubei\", \"Hunan\", \"Inner Mongolia\", \"Jiangsu\", \"Jiangxi\", \"Jilin\", \"Liaoning\", \"Ningxia\", \"Qinghai\", \"Shaanxi\", \"Shandong\", \"Shanghai\", \"Shanxi\", \"Sichuan\", \"Tianjin\", \"Tibet\", \"Xinjiang\", \"Yunnan\", \"Zhejiang\"], \"lat\": [31.825709999999997, 40.18238, 30.05718, 26.07783, 36.0611, 23.33841, 23.829079999999998, 26.81536, 19.19673, 38.0428, 47.861999999999995, 33.882020000000004, 30.975640000000002, 27.610409999999998, 44.09448, 32.97027, 27.614009999999997, 43.66657, 41.292840000000005, 37.26923, 35.65945, 35.19165, 36.34377, 31.20327, 37.577690000000004, 30.617140000000003, 39.293620000000004, 30.1534, 41.11981, 24.97411, 29.182509999999997], \"legendgroup\": \"\", \"lon\": [117.2264, 116.4142, 107.874, 117.9895, 103.8343, 113.42200000000001, 108.7881, 106.8748, 109.7455, 114.5149, 127.7622, 113.61399999999999, 112.2707, 111.7088, 113.9456, 119.464, 115.7221, 126.1917, 122.6086, 106.1655, 96.02564, 108.8701, 118.1529, 121.4554, 112.2922, 102.7103, 117.333, 88.7879, 85.17822, 101.4868, 120.0985], \"marker\": {\"color\": [3.9615083474728126, 4.205713052993816, 4.259465297360993, 2.7423980177878637, 1.8861248025819441, 3.413456226855186, 2.2179693814236066, 2.0497411663234124, 4.186511879886417, 2.0073492814866256, 3.4538384821859363, 3.6407855126244626, 32.022694943633205, 3.8642544585482046, 1.7069856709822995, 2.7903529618564913, 4.535991759134716, 1.800299400526696, 1.6602000593007007, 3.3333333333333335, 1.7928429140015905, 2.535575962067794, 2.4517567397911058, 3.7064300563178363, 1.8872317917035095, 2.4705416070784554, 2.886751345948129, 0.5590169943749475, 1.846372364689991, 1.9280537607514543, 4.5167130597494785], \"coloraxis\": \"coloraxis\", \"size\": [3.9615083474728126, 4.205713052993816, 4.259465297360993, 2.7423980177878637, 1.8861248025819441, 3.413456226855186, 2.2179693814236066, 2.0497411663234124, 4.186511879886417, 2.0073492814866256, 3.4538384821859363, 3.6407855126244626, 32.022694943633205, 3.8642544585482046, 1.7069856709822995, 2.7903529618564913, 4.535991759134716, 1.800299400526696, 1.6602000593007007, 3.3333333333333335, 1.7928429140015905, 2.535575962067794, 2.4517567397911058, 3.7064300563178363, 1.8872317917035095, 2.4705416070784554, 2.886751345948129, 0.5590169943749475, 1.846372364689991, 1.9280537607514543, 4.5167130597494785], \"sizemode\": \"area\", \"sizeref\": 0.08140788407607454}, \"name\": \"\", \"showlegend\": false, \"type\": \"scattergeo\"}], \"name\": \"02/17/2020\"}, {\"data\": [{\"customdata\": [[982.0, 6.0, 15.838709677419354], [387.0, 4.0, 17.96657381615599], [555.0, 5.0, 18.208661417322833], [292.0, 0.0, 7.572614107883817], [91.0, 2.0, 3.5574667709147776], [1328.0, 4.0, 11.704565485633704], [242.0, 2.0, 5.00206696982224], [146.0, 2.0, 4.201438848920863], [163.0, 4.0, 17.526881720430108], [306.0, 4.0, 4.096385542168674], [464.0, 11.0, 12.111720177499347], [1257.0, 19.0, 13.372340425531915], [61682.0, 1921.0, 1054.3931623931624], [1007.0, 4.0, 14.94730592251744], [73.0, 0.0, 2.9542695265074865], [629.0, 0.0, 7.823383084577114], [933.0, 1.0, 20.641592920353983], [89.0, 1.0, 3.241077931536781], [121.0, 1.0, 2.7562642369020502], [70.0, 0.0, 11.11111111111111], [18.0, 0.0, 3.2142857142857144], [240.0, 0.0, 6.42914545941602], [543.0, 3.0, 6.033333333333333], [333.0, 1.0, 13.737623762376238], [131.0, 0.0, 3.589041095890411], [508.0, 3.0, 6.263871763255241], [128.0, 3.0, 8.533333333333333], [1.0, 0.0, 0.3125], [76.0, 1.0, 3.4545454545454546], [172.0, 0.0, 3.739130434782609], [1172.0, 0.0, 20.418118466898957]], \"geo\": \"geo\", \"hoverlabel\": {\"namelength\": 0}, \"hovertemplate\": \"<b>%{hovertext}</b><br><br>Date=02/18/2020<br>size=%{marker.color}<br>Confirmed=%{customdata[0]}<br>Deaths=%{customdata[1]}<br>Severity=%{customdata[2]}<br>Lat=%{lat}<br>Long=%{lon}\", \"hovertext\": [\"Anhui\", \"Beijing\", \"Chongqing\", \"Fujian\", \"Gansu\", \"Guangdong\", \"Guangxi\", \"Guizhou\", \"Hainan\", \"Hebei\", \"Heilongjiang\", \"Henan\", \"Hubei\", \"Hunan\", \"Inner Mongolia\", \"Jiangsu\", \"Jiangxi\", \"Jilin\", \"Liaoning\", \"Ningxia\", \"Qinghai\", \"Shaanxi\", \"Shandong\", \"Shanghai\", \"Shanxi\", \"Sichuan\", \"Tianjin\", \"Tibet\", \"Xinjiang\", \"Yunnan\", \"Zhejiang\"], \"lat\": [31.825709999999997, 40.18238, 30.05718, 26.07783, 36.0611, 23.33841, 23.829079999999998, 26.81536, 19.19673, 38.0428, 47.861999999999995, 33.882020000000004, 30.975640000000002, 27.610409999999998, 44.09448, 32.97027, 27.614009999999997, 43.66657, 41.292840000000005, 37.26923, 35.65945, 35.19165, 36.34377, 31.20327, 37.577690000000004, 30.617140000000003, 39.293620000000004, 30.1534, 41.11981, 24.97411, 29.182509999999997], \"legendgroup\": \"\", \"lon\": [117.2264, 116.4142, 107.874, 117.9895, 103.8343, 113.42200000000001, 108.7881, 106.8748, 109.7455, 114.5149, 127.7622, 113.61399999999999, 112.2707, 111.7088, 113.9456, 119.464, 115.7221, 126.1917, 122.6086, 106.1655, 96.02564, 108.8701, 118.1529, 121.4554, 112.2922, 102.7103, 117.333, 88.7879, 85.17822, 101.4868, 120.0985], \"marker\": {\"color\": [3.979787642251701, 4.238699543038642, 4.267160814560758, 2.7518383142699023, 1.8861248025819441, 3.421193576170998, 2.236530118246173, 2.0497411663234124, 4.186511879886417, 2.02395294959361, 3.4801896755061135, 3.6568210819688614, 32.4714207017981, 3.866174585105727, 1.7187988615621919, 2.7970311197012294, 4.543301984279053, 1.800299400526696, 1.6602000593007007, 3.3333333333333335, 1.7928429140015905, 2.535575962067794, 2.456284456925405, 3.7064300563178363, 1.8944764701337442, 2.5027728149504984, 2.9211869733608857, 0.5590169943749475, 1.8586407545691703, 1.933683126777138, 4.518641219094404], \"coloraxis\": \"coloraxis\", \"size\": [3.979787642251701, 4.238699543038642, 4.267160814560758, 2.7518383142699023, 1.8861248025819441, 3.421193576170998, 2.236530118246173, 2.0497411663234124, 4.186511879886417, 2.02395294959361, 3.4801896755061135, 3.6568210819688614, 32.4714207017981, 3.866174585105727, 1.7187988615621919, 2.7970311197012294, 4.543301984279053, 1.800299400526696, 1.6602000593007007, 3.3333333333333335, 1.7928429140015905, 2.535575962067794, 2.456284456925405, 3.7064300563178363, 1.8944764701337442, 2.5027728149504984, 2.9211869733608857, 0.5590169943749475, 1.8586407545691703, 1.933683126777138, 4.518641219094404], \"sizemode\": \"area\", \"sizeref\": 0.08140788407607454}, \"name\": \"\", \"showlegend\": false, \"type\": \"scattergeo\"}], \"name\": \"02/18/2020\"}, {\"data\": [{\"customdata\": [[986.0, 6.0, 15.903225806451612], [393.0, 4.0, 18.245125348189415], [560.0, 5.0, 18.37270341207349], [293.0, 0.0, 7.598547717842323], [91.0, 2.0, 3.5574667709147776], [1331.0, 5.0, 11.731006522122334], [244.0, 2.0, 5.043406366267052], [146.0, 2.0, 4.201438848920863], [168.0, 4.0, 18.064516129032256], [306.0, 4.0, 4.096385542168674], [470.0, 12.0, 12.268337248760114], [1262.0, 19.0, 13.425531914893616], [62031.0, 2029.0, 1060.3589743589744], [1008.0, 4.0, 14.962149324625203], [75.0, 0.0, 3.0352084176446783], [631.0, 0.0, 7.848258706467661], [934.0, 1.0, 20.66371681415929], [90.0, 1.0, 3.2774945375091042], [121.0, 1.0, 2.7562642369020502], [71.0, 0.0, 11.26984126984127], [18.0, 0.0, 3.2142857142857144], [242.0, 0.0, 6.48272167157782], [544.0, 3.0, 6.044444444444444], [333.0, 2.0, 13.737623762376238], [131.0, 0.0, 3.589041095890411], [514.0, 3.0, 6.3378545006165234], [130.0, 3.0, 8.666666666666666], [1.0, 0.0, 0.3125], [76.0, 1.0, 3.4545454545454546], [172.0, 1.0, 3.739130434782609], [1174.0, 0.0, 20.45296167247387]], \"geo\": \"geo\", \"hoverlabel\": {\"namelength\": 0}, \"hovertemplate\": \"<b>%{hovertext}</b><br><br>Date=02/19/2020<br>size=%{marker.color}<br>Confirmed=%{customdata[0]}<br>Deaths=%{customdata[1]}<br>Severity=%{customdata[2]}<br>Lat=%{lat}<br>Long=%{lon}\", \"hovertext\": [\"Anhui\", \"Beijing\", \"Chongqing\", \"Fujian\", \"Gansu\", \"Guangdong\", \"Guangxi\", \"Guizhou\", \"Hainan\", \"Hebei\", \"Heilongjiang\", \"Henan\", \"Hubei\", \"Hunan\", \"Inner Mongolia\", \"Jiangsu\", \"Jiangxi\", \"Jilin\", \"Liaoning\", \"Ningxia\", \"Qinghai\", \"Shaanxi\", \"Shandong\", \"Shanghai\", \"Shanxi\", \"Sichuan\", \"Tianjin\", \"Tibet\", \"Xinjiang\", \"Yunnan\", \"Zhejiang\"], \"lat\": [31.825709999999997, 40.18238, 30.05718, 26.07783, 36.0611, 23.33841, 23.829079999999998, 26.81536, 19.19673, 38.0428, 47.861999999999995, 33.882020000000004, 30.975640000000002, 27.610409999999998, 44.09448, 32.97027, 27.614009999999997, 43.66657, 41.292840000000005, 37.26923, 35.65945, 35.19165, 36.34377, 31.20327, 37.577690000000004, 30.617140000000003, 39.293620000000004, 30.1534, 41.11981, 24.97411, 29.182509999999997], \"legendgroup\": \"\", \"lon\": [117.2264, 116.4142, 107.874, 117.9895, 103.8343, 113.42200000000001, 108.7881, 106.8748, 109.7455, 114.5149, 127.7622, 113.61399999999999, 112.2707, 111.7088, 113.9456, 119.464, 115.7221, 126.1917, 122.6086, 106.1655, 96.02564, 108.8701, 118.1529, 121.4554, 112.2922, 102.7103, 117.333, 88.7879, 85.17822, 101.4868, 120.0985], \"marker\": {\"color\": [3.9878848787861982, 4.27143129971552, 4.286339162044167, 2.756546338780163, 1.8861248025819441, 3.425055696207338, 2.2457529619855903, 2.0497411663234124, 4.250237185032414, 2.02395294959361, 3.5026186273644058, 3.6640867777515336, 32.56315363042982, 3.8680937585101534, 1.7421849550620847, 2.8014743808337177, 4.545736113563929, 1.8103851903694705, 1.6602000593007007, 3.357058425145632, 1.7928429140015905, 2.5461189429360562, 2.4585451886114367, 3.7064300563178363, 1.8944764701337442, 2.5175095830237715, 2.943920288775949, 0.5590169943749475, 1.8586407545691703, 1.933683126777138, 4.522495071580938], \"coloraxis\": \"coloraxis\", \"size\": [3.9878848787861982, 4.27143129971552, 4.286339162044167, 2.756546338780163, 1.8861248025819441, 3.425055696207338, 2.2457529619855903, 2.0497411663234124, 4.250237185032414, 2.02395294959361, 3.5026186273644058, 3.6640867777515336, 32.56315363042982, 3.8680937585101534, 1.7421849550620847, 2.8014743808337177, 4.545736113563929, 1.8103851903694705, 1.6602000593007007, 3.357058425145632, 1.7928429140015905, 2.5461189429360562, 2.4585451886114367, 3.7064300563178363, 1.8944764701337442, 2.5175095830237715, 2.943920288775949, 0.5590169943749475, 1.8586407545691703, 1.933683126777138, 4.522495071580938], \"sizemode\": \"area\", \"sizeref\": 0.08140788407607454}, \"name\": \"\", \"showlegend\": false, \"type\": \"scattergeo\"}], \"name\": \"02/19/2020\"}]);\n",
       "                        }).then(function(){\n",
       "                            \n",
       "var gd = document.getElementById('b0f6927d-3816-47dd-a2af-bac9876f4411');\n",
       "var x = new MutationObserver(function (mutations, observer) {{\n",
       "        var display = window.getComputedStyle(gd).display;\n",
       "        if (!display || display === 'none') {{\n",
       "            console.log([gd, 'removed!']);\n",
       "            Plotly.purge(gd);\n",
       "            observer.disconnect();\n",
       "        }}\n",
       "}});\n",
       "\n",
       "// Listen for the removal of the full notebook cells\n",
       "var notebookContainer = gd.closest('#notebook-container');\n",
       "if (notebookContainer) {{\n",
       "    x.observe(notebookContainer, {childList: true});\n",
       "}}\n",
       "\n",
       "// Listen for the clearing of the current output cell\n",
       "var outputEl = gd.closest('.output');\n",
       "if (outputEl) {{\n",
       "    x.observe(outputEl, {childList: true});\n",
       "}}\n",
       "\n",
       "                        })\n",
       "                };\n",
       "                });\n",
       "            </script>\n",
       "        </div>"
      ]
     },
     "metadata": {},
     "output_type": "display_data"
    }
   ],
   "source": [
    "china_map = china.groupby(['Date', 'Province/State'])['Confirmed','Deaths','Severity', 'Lat','Long'].max()\n",
    "china_map = china_map.reset_index()\n",
    "china_map['size'] = china_map['Severity'].pow(0.5)\n",
    "china_map['Date'] = pd.to_datetime(china_map['Date'])\n",
    "china_map['Date'] = china_map['Date'].dt.strftime('%m/%d/%Y')\n",
    "\n",
    "fig = px.scatter_geo(china_map, lat='Lat', lon='Long', scope='asia',\n",
    "                     color=\"size\", size='size', hover_name='Province/State', \n",
    "                     hover_data=['Confirmed', 'Deaths', 'Severity'],\n",
    "                     animation_frame=\"Date\", \n",
    "                     title='Spread in China over time')\n",
    "fig.update(layout_coloraxis_showscale=False)\n",
    "fig.show()"
   ]
  },
  {
   "cell_type": "markdown",
   "metadata": {},
   "source": [
    "## Severity within China"
   ]
  },
  {
   "cell_type": "code",
   "execution_count": 87,
   "metadata": {},
   "outputs": [
    {
     "data": {
      "application/vnd.plotly.v1+json": {
       "config": {
        "plotlyServerURL": "https://plot.ly"
       },
       "data": [
        {
         "branchvalues": "total",
         "domain": {
          "x": [
           0,
           1
          ],
          "y": [
           0,
           1
          ]
         },
         "hoverlabel": {
          "namelength": 0
         },
         "hovertemplate": "labels=%{label}<br>Confirmed=%{value}<br>parent=%{parent}<br>id=%{id}",
         "ids": [
          "Anhui",
          "Beijing",
          "Chongqing",
          "Fujian",
          "Gansu",
          "Guangdong",
          "Guangxi",
          "Guizhou",
          "Hainan",
          "Hebei",
          "Heilongjiang",
          "Henan",
          "Hubei",
          "Hunan",
          "Inner Mongolia",
          "Jiangsu",
          "Jiangxi",
          "Jilin",
          "Liaoning",
          "Ningxia",
          "Qinghai",
          "Shaanxi",
          "Shandong",
          "Shanghai",
          "Shanxi",
          "Sichuan",
          "Tianjin",
          "Tibet",
          "Xinjiang",
          "Yunnan",
          "Zhejiang"
         ],
         "labels": [
          "Anhui",
          "Beijing",
          "Chongqing",
          "Fujian",
          "Gansu",
          "Guangdong",
          "Guangxi",
          "Guizhou",
          "Hainan",
          "Hebei",
          "Heilongjiang",
          "Henan",
          "Hubei",
          "Hunan",
          "Inner Mongolia",
          "Jiangsu",
          "Jiangxi",
          "Jilin",
          "Liaoning",
          "Ningxia",
          "Qinghai",
          "Shaanxi",
          "Shandong",
          "Shanghai",
          "Shanxi",
          "Sichuan",
          "Tianjin",
          "Tibet",
          "Xinjiang",
          "Yunnan",
          "Zhejiang"
         ],
         "name": "",
         "parents": [
          "",
          "",
          "",
          "",
          "",
          "",
          "",
          "",
          "",
          "",
          "",
          "",
          "",
          "",
          "",
          "",
          "",
          "",
          "",
          "",
          "",
          "",
          "",
          "",
          "",
          "",
          "",
          "",
          "",
          "",
          ""
         ],
         "type": "treemap",
         "values": [
          986,
          393,
          560,
          293,
          91,
          1331,
          244,
          146,
          168,
          306,
          470,
          1262,
          62031,
          1008,
          75,
          631,
          934,
          90,
          121,
          71,
          18,
          242,
          544,
          333,
          131,
          514,
          130,
          1,
          76,
          172,
          1174
         ]
        }
       ],
       "layout": {
        "legend": {
         "tracegroupgap": 0
        },
        "template": {
         "data": {
          "bar": [
           {
            "error_x": {
             "color": "#2a3f5f"
            },
            "error_y": {
             "color": "#2a3f5f"
            },
            "marker": {
             "line": {
              "color": "#E5ECF6",
              "width": 0.5
             }
            },
            "type": "bar"
           }
          ],
          "barpolar": [
           {
            "marker": {
             "line": {
              "color": "#E5ECF6",
              "width": 0.5
             }
            },
            "type": "barpolar"
           }
          ],
          "carpet": [
           {
            "aaxis": {
             "endlinecolor": "#2a3f5f",
             "gridcolor": "white",
             "linecolor": "white",
             "minorgridcolor": "white",
             "startlinecolor": "#2a3f5f"
            },
            "baxis": {
             "endlinecolor": "#2a3f5f",
             "gridcolor": "white",
             "linecolor": "white",
             "minorgridcolor": "white",
             "startlinecolor": "#2a3f5f"
            },
            "type": "carpet"
           }
          ],
          "choropleth": [
           {
            "colorbar": {
             "outlinewidth": 0,
             "ticks": ""
            },
            "type": "choropleth"
           }
          ],
          "contour": [
           {
            "colorbar": {
             "outlinewidth": 0,
             "ticks": ""
            },
            "colorscale": [
             [
              0,
              "#0d0887"
             ],
             [
              0.1111111111111111,
              "#46039f"
             ],
             [
              0.2222222222222222,
              "#7201a8"
             ],
             [
              0.3333333333333333,
              "#9c179e"
             ],
             [
              0.4444444444444444,
              "#bd3786"
             ],
             [
              0.5555555555555556,
              "#d8576b"
             ],
             [
              0.6666666666666666,
              "#ed7953"
             ],
             [
              0.7777777777777778,
              "#fb9f3a"
             ],
             [
              0.8888888888888888,
              "#fdca26"
             ],
             [
              1,
              "#f0f921"
             ]
            ],
            "type": "contour"
           }
          ],
          "contourcarpet": [
           {
            "colorbar": {
             "outlinewidth": 0,
             "ticks": ""
            },
            "type": "contourcarpet"
           }
          ],
          "heatmap": [
           {
            "colorbar": {
             "outlinewidth": 0,
             "ticks": ""
            },
            "colorscale": [
             [
              0,
              "#0d0887"
             ],
             [
              0.1111111111111111,
              "#46039f"
             ],
             [
              0.2222222222222222,
              "#7201a8"
             ],
             [
              0.3333333333333333,
              "#9c179e"
             ],
             [
              0.4444444444444444,
              "#bd3786"
             ],
             [
              0.5555555555555556,
              "#d8576b"
             ],
             [
              0.6666666666666666,
              "#ed7953"
             ],
             [
              0.7777777777777778,
              "#fb9f3a"
             ],
             [
              0.8888888888888888,
              "#fdca26"
             ],
             [
              1,
              "#f0f921"
             ]
            ],
            "type": "heatmap"
           }
          ],
          "heatmapgl": [
           {
            "colorbar": {
             "outlinewidth": 0,
             "ticks": ""
            },
            "colorscale": [
             [
              0,
              "#0d0887"
             ],
             [
              0.1111111111111111,
              "#46039f"
             ],
             [
              0.2222222222222222,
              "#7201a8"
             ],
             [
              0.3333333333333333,
              "#9c179e"
             ],
             [
              0.4444444444444444,
              "#bd3786"
             ],
             [
              0.5555555555555556,
              "#d8576b"
             ],
             [
              0.6666666666666666,
              "#ed7953"
             ],
             [
              0.7777777777777778,
              "#fb9f3a"
             ],
             [
              0.8888888888888888,
              "#fdca26"
             ],
             [
              1,
              "#f0f921"
             ]
            ],
            "type": "heatmapgl"
           }
          ],
          "histogram": [
           {
            "marker": {
             "colorbar": {
              "outlinewidth": 0,
              "ticks": ""
             }
            },
            "type": "histogram"
           }
          ],
          "histogram2d": [
           {
            "colorbar": {
             "outlinewidth": 0,
             "ticks": ""
            },
            "colorscale": [
             [
              0,
              "#0d0887"
             ],
             [
              0.1111111111111111,
              "#46039f"
             ],
             [
              0.2222222222222222,
              "#7201a8"
             ],
             [
              0.3333333333333333,
              "#9c179e"
             ],
             [
              0.4444444444444444,
              "#bd3786"
             ],
             [
              0.5555555555555556,
              "#d8576b"
             ],
             [
              0.6666666666666666,
              "#ed7953"
             ],
             [
              0.7777777777777778,
              "#fb9f3a"
             ],
             [
              0.8888888888888888,
              "#fdca26"
             ],
             [
              1,
              "#f0f921"
             ]
            ],
            "type": "histogram2d"
           }
          ],
          "histogram2dcontour": [
           {
            "colorbar": {
             "outlinewidth": 0,
             "ticks": ""
            },
            "colorscale": [
             [
              0,
              "#0d0887"
             ],
             [
              0.1111111111111111,
              "#46039f"
             ],
             [
              0.2222222222222222,
              "#7201a8"
             ],
             [
              0.3333333333333333,
              "#9c179e"
             ],
             [
              0.4444444444444444,
              "#bd3786"
             ],
             [
              0.5555555555555556,
              "#d8576b"
             ],
             [
              0.6666666666666666,
              "#ed7953"
             ],
             [
              0.7777777777777778,
              "#fb9f3a"
             ],
             [
              0.8888888888888888,
              "#fdca26"
             ],
             [
              1,
              "#f0f921"
             ]
            ],
            "type": "histogram2dcontour"
           }
          ],
          "mesh3d": [
           {
            "colorbar": {
             "outlinewidth": 0,
             "ticks": ""
            },
            "type": "mesh3d"
           }
          ],
          "parcoords": [
           {
            "line": {
             "colorbar": {
              "outlinewidth": 0,
              "ticks": ""
             }
            },
            "type": "parcoords"
           }
          ],
          "pie": [
           {
            "automargin": true,
            "type": "pie"
           }
          ],
          "scatter": [
           {
            "marker": {
             "colorbar": {
              "outlinewidth": 0,
              "ticks": ""
             }
            },
            "type": "scatter"
           }
          ],
          "scatter3d": [
           {
            "line": {
             "colorbar": {
              "outlinewidth": 0,
              "ticks": ""
             }
            },
            "marker": {
             "colorbar": {
              "outlinewidth": 0,
              "ticks": ""
             }
            },
            "type": "scatter3d"
           }
          ],
          "scattercarpet": [
           {
            "marker": {
             "colorbar": {
              "outlinewidth": 0,
              "ticks": ""
             }
            },
            "type": "scattercarpet"
           }
          ],
          "scattergeo": [
           {
            "marker": {
             "colorbar": {
              "outlinewidth": 0,
              "ticks": ""
             }
            },
            "type": "scattergeo"
           }
          ],
          "scattergl": [
           {
            "marker": {
             "colorbar": {
              "outlinewidth": 0,
              "ticks": ""
             }
            },
            "type": "scattergl"
           }
          ],
          "scattermapbox": [
           {
            "marker": {
             "colorbar": {
              "outlinewidth": 0,
              "ticks": ""
             }
            },
            "type": "scattermapbox"
           }
          ],
          "scatterpolar": [
           {
            "marker": {
             "colorbar": {
              "outlinewidth": 0,
              "ticks": ""
             }
            },
            "type": "scatterpolar"
           }
          ],
          "scatterpolargl": [
           {
            "marker": {
             "colorbar": {
              "outlinewidth": 0,
              "ticks": ""
             }
            },
            "type": "scatterpolargl"
           }
          ],
          "scatterternary": [
           {
            "marker": {
             "colorbar": {
              "outlinewidth": 0,
              "ticks": ""
             }
            },
            "type": "scatterternary"
           }
          ],
          "surface": [
           {
            "colorbar": {
             "outlinewidth": 0,
             "ticks": ""
            },
            "colorscale": [
             [
              0,
              "#0d0887"
             ],
             [
              0.1111111111111111,
              "#46039f"
             ],
             [
              0.2222222222222222,
              "#7201a8"
             ],
             [
              0.3333333333333333,
              "#9c179e"
             ],
             [
              0.4444444444444444,
              "#bd3786"
             ],
             [
              0.5555555555555556,
              "#d8576b"
             ],
             [
              0.6666666666666666,
              "#ed7953"
             ],
             [
              0.7777777777777778,
              "#fb9f3a"
             ],
             [
              0.8888888888888888,
              "#fdca26"
             ],
             [
              1,
              "#f0f921"
             ]
            ],
            "type": "surface"
           }
          ],
          "table": [
           {
            "cells": {
             "fill": {
              "color": "#EBF0F8"
             },
             "line": {
              "color": "white"
             }
            },
            "header": {
             "fill": {
              "color": "#C8D4E3"
             },
             "line": {
              "color": "white"
             }
            },
            "type": "table"
           }
          ]
         },
         "layout": {
          "annotationdefaults": {
           "arrowcolor": "#2a3f5f",
           "arrowhead": 0,
           "arrowwidth": 1
          },
          "coloraxis": {
           "colorbar": {
            "outlinewidth": 0,
            "ticks": ""
           }
          },
          "colorscale": {
           "diverging": [
            [
             0,
             "#8e0152"
            ],
            [
             0.1,
             "#c51b7d"
            ],
            [
             0.2,
             "#de77ae"
            ],
            [
             0.3,
             "#f1b6da"
            ],
            [
             0.4,
             "#fde0ef"
            ],
            [
             0.5,
             "#f7f7f7"
            ],
            [
             0.6,
             "#e6f5d0"
            ],
            [
             0.7,
             "#b8e186"
            ],
            [
             0.8,
             "#7fbc41"
            ],
            [
             0.9,
             "#4d9221"
            ],
            [
             1,
             "#276419"
            ]
           ],
           "sequential": [
            [
             0,
             "#0d0887"
            ],
            [
             0.1111111111111111,
             "#46039f"
            ],
            [
             0.2222222222222222,
             "#7201a8"
            ],
            [
             0.3333333333333333,
             "#9c179e"
            ],
            [
             0.4444444444444444,
             "#bd3786"
            ],
            [
             0.5555555555555556,
             "#d8576b"
            ],
            [
             0.6666666666666666,
             "#ed7953"
            ],
            [
             0.7777777777777778,
             "#fb9f3a"
            ],
            [
             0.8888888888888888,
             "#fdca26"
            ],
            [
             1,
             "#f0f921"
            ]
           ],
           "sequentialminus": [
            [
             0,
             "#0d0887"
            ],
            [
             0.1111111111111111,
             "#46039f"
            ],
            [
             0.2222222222222222,
             "#7201a8"
            ],
            [
             0.3333333333333333,
             "#9c179e"
            ],
            [
             0.4444444444444444,
             "#bd3786"
            ],
            [
             0.5555555555555556,
             "#d8576b"
            ],
            [
             0.6666666666666666,
             "#ed7953"
            ],
            [
             0.7777777777777778,
             "#fb9f3a"
            ],
            [
             0.8888888888888888,
             "#fdca26"
            ],
            [
             1,
             "#f0f921"
            ]
           ]
          },
          "colorway": [
           "#636efa",
           "#EF553B",
           "#00cc96",
           "#ab63fa",
           "#FFA15A",
           "#19d3f3",
           "#FF6692",
           "#B6E880",
           "#FF97FF",
           "#FECB52"
          ],
          "font": {
           "color": "#2a3f5f"
          },
          "geo": {
           "bgcolor": "white",
           "lakecolor": "white",
           "landcolor": "#E5ECF6",
           "showlakes": true,
           "showland": true,
           "subunitcolor": "white"
          },
          "hoverlabel": {
           "align": "left"
          },
          "hovermode": "closest",
          "mapbox": {
           "style": "light"
          },
          "paper_bgcolor": "white",
          "plot_bgcolor": "#E5ECF6",
          "polar": {
           "angularaxis": {
            "gridcolor": "white",
            "linecolor": "white",
            "ticks": ""
           },
           "bgcolor": "#E5ECF6",
           "radialaxis": {
            "gridcolor": "white",
            "linecolor": "white",
            "ticks": ""
           }
          },
          "scene": {
           "xaxis": {
            "backgroundcolor": "#E5ECF6",
            "gridcolor": "white",
            "gridwidth": 2,
            "linecolor": "white",
            "showbackground": true,
            "ticks": "",
            "zerolinecolor": "white"
           },
           "yaxis": {
            "backgroundcolor": "#E5ECF6",
            "gridcolor": "white",
            "gridwidth": 2,
            "linecolor": "white",
            "showbackground": true,
            "ticks": "",
            "zerolinecolor": "white"
           },
           "zaxis": {
            "backgroundcolor": "#E5ECF6",
            "gridcolor": "white",
            "gridwidth": 2,
            "linecolor": "white",
            "showbackground": true,
            "ticks": "",
            "zerolinecolor": "white"
           }
          },
          "shapedefaults": {
           "line": {
            "color": "#2a3f5f"
           }
          },
          "ternary": {
           "aaxis": {
            "gridcolor": "white",
            "linecolor": "white",
            "ticks": ""
           },
           "baxis": {
            "gridcolor": "white",
            "linecolor": "white",
            "ticks": ""
           },
           "bgcolor": "#E5ECF6",
           "caxis": {
            "gridcolor": "white",
            "linecolor": "white",
            "ticks": ""
           }
          },
          "title": {
           "x": 0.05
          },
          "xaxis": {
           "automargin": true,
           "gridcolor": "white",
           "linecolor": "white",
           "ticks": "",
           "title": {
            "standoff": 15
           },
           "zerolinecolor": "white",
           "zerolinewidth": 2
          },
          "yaxis": {
           "automargin": true,
           "gridcolor": "white",
           "linecolor": "white",
           "ticks": "",
           "title": {
            "standoff": 15
           },
           "zerolinecolor": "white",
           "zerolinewidth": 2
          }
         }
        },
        "title": {
         "text": "Number of Confirmed Cases in Chinese Provinces"
        }
       }
      },
      "text/html": [
       "<div>\n",
       "        \n",
       "        \n",
       "            <div id=\"70c05a4f-6482-4c9d-b182-311729239b33\" class=\"plotly-graph-div\" style=\"height:525px; width:100%;\"></div>\n",
       "            <script type=\"text/javascript\">\n",
       "                require([\"plotly\"], function(Plotly) {\n",
       "                    window.PLOTLYENV=window.PLOTLYENV || {};\n",
       "                    \n",
       "                if (document.getElementById(\"70c05a4f-6482-4c9d-b182-311729239b33\")) {\n",
       "                    Plotly.newPlot(\n",
       "                        '70c05a4f-6482-4c9d-b182-311729239b33',\n",
       "                        [{\"branchvalues\": \"total\", \"domain\": {\"x\": [0.0, 1.0], \"y\": [0.0, 1.0]}, \"hoverlabel\": {\"namelength\": 0}, \"hovertemplate\": \"labels=%{label}<br>Confirmed=%{value}<br>parent=%{parent}<br>id=%{id}\", \"ids\": [\"Anhui\", \"Beijing\", \"Chongqing\", \"Fujian\", \"Gansu\", \"Guangdong\", \"Guangxi\", \"Guizhou\", \"Hainan\", \"Hebei\", \"Heilongjiang\", \"Henan\", \"Hubei\", \"Hunan\", \"Inner Mongolia\", \"Jiangsu\", \"Jiangxi\", \"Jilin\", \"Liaoning\", \"Ningxia\", \"Qinghai\", \"Shaanxi\", \"Shandong\", \"Shanghai\", \"Shanxi\", \"Sichuan\", \"Tianjin\", \"Tibet\", \"Xinjiang\", \"Yunnan\", \"Zhejiang\"], \"labels\": [\"Anhui\", \"Beijing\", \"Chongqing\", \"Fujian\", \"Gansu\", \"Guangdong\", \"Guangxi\", \"Guizhou\", \"Hainan\", \"Hebei\", \"Heilongjiang\", \"Henan\", \"Hubei\", \"Hunan\", \"Inner Mongolia\", \"Jiangsu\", \"Jiangxi\", \"Jilin\", \"Liaoning\", \"Ningxia\", \"Qinghai\", \"Shaanxi\", \"Shandong\", \"Shanghai\", \"Shanxi\", \"Sichuan\", \"Tianjin\", \"Tibet\", \"Xinjiang\", \"Yunnan\", \"Zhejiang\"], \"name\": \"\", \"parents\": [\"\", \"\", \"\", \"\", \"\", \"\", \"\", \"\", \"\", \"\", \"\", \"\", \"\", \"\", \"\", \"\", \"\", \"\", \"\", \"\", \"\", \"\", \"\", \"\", \"\", \"\", \"\", \"\", \"\", \"\", \"\"], \"type\": \"treemap\", \"values\": [986, 393, 560, 293, 91, 1331, 244, 146, 168, 306, 470, 1262, 62031, 1008, 75, 631, 934, 90, 121, 71, 18, 242, 544, 333, 131, 514, 130, 1, 76, 172, 1174]}],\n",
       "                        {\"legend\": {\"tracegroupgap\": 0}, \"template\": {\"data\": {\"bar\": [{\"error_x\": {\"color\": \"#2a3f5f\"}, \"error_y\": {\"color\": \"#2a3f5f\"}, \"marker\": {\"line\": {\"color\": \"#E5ECF6\", \"width\": 0.5}}, \"type\": \"bar\"}], \"barpolar\": [{\"marker\": {\"line\": {\"color\": \"#E5ECF6\", \"width\": 0.5}}, \"type\": \"barpolar\"}], \"carpet\": [{\"aaxis\": {\"endlinecolor\": \"#2a3f5f\", \"gridcolor\": \"white\", \"linecolor\": \"white\", \"minorgridcolor\": \"white\", \"startlinecolor\": \"#2a3f5f\"}, \"baxis\": {\"endlinecolor\": \"#2a3f5f\", \"gridcolor\": \"white\", \"linecolor\": \"white\", \"minorgridcolor\": \"white\", \"startlinecolor\": \"#2a3f5f\"}, \"type\": \"carpet\"}], \"choropleth\": [{\"colorbar\": {\"outlinewidth\": 0, \"ticks\": \"\"}, \"type\": \"choropleth\"}], \"contour\": [{\"colorbar\": {\"outlinewidth\": 0, \"ticks\": \"\"}, \"colorscale\": [[0.0, \"#0d0887\"], [0.1111111111111111, \"#46039f\"], [0.2222222222222222, \"#7201a8\"], [0.3333333333333333, \"#9c179e\"], [0.4444444444444444, \"#bd3786\"], [0.5555555555555556, \"#d8576b\"], [0.6666666666666666, \"#ed7953\"], [0.7777777777777778, \"#fb9f3a\"], [0.8888888888888888, \"#fdca26\"], [1.0, \"#f0f921\"]], \"type\": \"contour\"}], \"contourcarpet\": [{\"colorbar\": {\"outlinewidth\": 0, \"ticks\": \"\"}, \"type\": \"contourcarpet\"}], \"heatmap\": [{\"colorbar\": {\"outlinewidth\": 0, \"ticks\": \"\"}, \"colorscale\": [[0.0, \"#0d0887\"], [0.1111111111111111, \"#46039f\"], [0.2222222222222222, \"#7201a8\"], [0.3333333333333333, \"#9c179e\"], [0.4444444444444444, \"#bd3786\"], [0.5555555555555556, \"#d8576b\"], [0.6666666666666666, \"#ed7953\"], [0.7777777777777778, \"#fb9f3a\"], [0.8888888888888888, \"#fdca26\"], [1.0, \"#f0f921\"]], \"type\": \"heatmap\"}], \"heatmapgl\": [{\"colorbar\": {\"outlinewidth\": 0, \"ticks\": \"\"}, \"colorscale\": [[0.0, \"#0d0887\"], [0.1111111111111111, \"#46039f\"], [0.2222222222222222, \"#7201a8\"], [0.3333333333333333, \"#9c179e\"], [0.4444444444444444, \"#bd3786\"], [0.5555555555555556, \"#d8576b\"], [0.6666666666666666, \"#ed7953\"], [0.7777777777777778, \"#fb9f3a\"], [0.8888888888888888, \"#fdca26\"], [1.0, \"#f0f921\"]], \"type\": \"heatmapgl\"}], \"histogram\": [{\"marker\": {\"colorbar\": {\"outlinewidth\": 0, \"ticks\": \"\"}}, \"type\": \"histogram\"}], \"histogram2d\": [{\"colorbar\": {\"outlinewidth\": 0, \"ticks\": \"\"}, \"colorscale\": [[0.0, \"#0d0887\"], [0.1111111111111111, \"#46039f\"], [0.2222222222222222, \"#7201a8\"], [0.3333333333333333, \"#9c179e\"], [0.4444444444444444, \"#bd3786\"], [0.5555555555555556, \"#d8576b\"], [0.6666666666666666, \"#ed7953\"], [0.7777777777777778, \"#fb9f3a\"], [0.8888888888888888, \"#fdca26\"], [1.0, \"#f0f921\"]], \"type\": \"histogram2d\"}], \"histogram2dcontour\": [{\"colorbar\": {\"outlinewidth\": 0, \"ticks\": \"\"}, \"colorscale\": [[0.0, \"#0d0887\"], [0.1111111111111111, \"#46039f\"], [0.2222222222222222, \"#7201a8\"], [0.3333333333333333, \"#9c179e\"], [0.4444444444444444, \"#bd3786\"], [0.5555555555555556, \"#d8576b\"], [0.6666666666666666, \"#ed7953\"], [0.7777777777777778, \"#fb9f3a\"], [0.8888888888888888, \"#fdca26\"], [1.0, \"#f0f921\"]], \"type\": \"histogram2dcontour\"}], \"mesh3d\": [{\"colorbar\": {\"outlinewidth\": 0, \"ticks\": \"\"}, \"type\": \"mesh3d\"}], \"parcoords\": [{\"line\": {\"colorbar\": {\"outlinewidth\": 0, \"ticks\": \"\"}}, \"type\": \"parcoords\"}], \"pie\": [{\"automargin\": true, \"type\": \"pie\"}], \"scatter\": [{\"marker\": {\"colorbar\": {\"outlinewidth\": 0, \"ticks\": \"\"}}, \"type\": \"scatter\"}], \"scatter3d\": [{\"line\": {\"colorbar\": {\"outlinewidth\": 0, \"ticks\": \"\"}}, \"marker\": {\"colorbar\": {\"outlinewidth\": 0, \"ticks\": \"\"}}, \"type\": \"scatter3d\"}], \"scattercarpet\": [{\"marker\": {\"colorbar\": {\"outlinewidth\": 0, \"ticks\": \"\"}}, \"type\": \"scattercarpet\"}], \"scattergeo\": [{\"marker\": {\"colorbar\": {\"outlinewidth\": 0, \"ticks\": \"\"}}, \"type\": \"scattergeo\"}], \"scattergl\": [{\"marker\": {\"colorbar\": {\"outlinewidth\": 0, \"ticks\": \"\"}}, \"type\": \"scattergl\"}], \"scattermapbox\": [{\"marker\": {\"colorbar\": {\"outlinewidth\": 0, \"ticks\": \"\"}}, \"type\": \"scattermapbox\"}], \"scatterpolar\": [{\"marker\": {\"colorbar\": {\"outlinewidth\": 0, \"ticks\": \"\"}}, \"type\": \"scatterpolar\"}], \"scatterpolargl\": [{\"marker\": {\"colorbar\": {\"outlinewidth\": 0, \"ticks\": \"\"}}, \"type\": \"scatterpolargl\"}], \"scatterternary\": [{\"marker\": {\"colorbar\": {\"outlinewidth\": 0, \"ticks\": \"\"}}, \"type\": \"scatterternary\"}], \"surface\": [{\"colorbar\": {\"outlinewidth\": 0, \"ticks\": \"\"}, \"colorscale\": [[0.0, \"#0d0887\"], [0.1111111111111111, \"#46039f\"], [0.2222222222222222, \"#7201a8\"], [0.3333333333333333, \"#9c179e\"], [0.4444444444444444, \"#bd3786\"], [0.5555555555555556, \"#d8576b\"], [0.6666666666666666, \"#ed7953\"], [0.7777777777777778, \"#fb9f3a\"], [0.8888888888888888, \"#fdca26\"], [1.0, \"#f0f921\"]], \"type\": \"surface\"}], \"table\": [{\"cells\": {\"fill\": {\"color\": \"#EBF0F8\"}, \"line\": {\"color\": \"white\"}}, \"header\": {\"fill\": {\"color\": \"#C8D4E3\"}, \"line\": {\"color\": \"white\"}}, \"type\": \"table\"}]}, \"layout\": {\"annotationdefaults\": {\"arrowcolor\": \"#2a3f5f\", \"arrowhead\": 0, \"arrowwidth\": 1}, \"coloraxis\": {\"colorbar\": {\"outlinewidth\": 0, \"ticks\": \"\"}}, \"colorscale\": {\"diverging\": [[0, \"#8e0152\"], [0.1, \"#c51b7d\"], [0.2, \"#de77ae\"], [0.3, \"#f1b6da\"], [0.4, \"#fde0ef\"], [0.5, \"#f7f7f7\"], [0.6, \"#e6f5d0\"], [0.7, \"#b8e186\"], [0.8, \"#7fbc41\"], [0.9, \"#4d9221\"], [1, \"#276419\"]], \"sequential\": [[0.0, \"#0d0887\"], [0.1111111111111111, \"#46039f\"], [0.2222222222222222, \"#7201a8\"], [0.3333333333333333, \"#9c179e\"], [0.4444444444444444, \"#bd3786\"], [0.5555555555555556, \"#d8576b\"], [0.6666666666666666, \"#ed7953\"], [0.7777777777777778, \"#fb9f3a\"], [0.8888888888888888, \"#fdca26\"], [1.0, \"#f0f921\"]], \"sequentialminus\": [[0.0, \"#0d0887\"], [0.1111111111111111, \"#46039f\"], [0.2222222222222222, \"#7201a8\"], [0.3333333333333333, \"#9c179e\"], [0.4444444444444444, \"#bd3786\"], [0.5555555555555556, \"#d8576b\"], [0.6666666666666666, \"#ed7953\"], [0.7777777777777778, \"#fb9f3a\"], [0.8888888888888888, \"#fdca26\"], [1.0, \"#f0f921\"]]}, \"colorway\": [\"#636efa\", \"#EF553B\", \"#00cc96\", \"#ab63fa\", \"#FFA15A\", \"#19d3f3\", \"#FF6692\", \"#B6E880\", \"#FF97FF\", \"#FECB52\"], \"font\": {\"color\": \"#2a3f5f\"}, \"geo\": {\"bgcolor\": \"white\", \"lakecolor\": \"white\", \"landcolor\": \"#E5ECF6\", \"showlakes\": true, \"showland\": true, \"subunitcolor\": \"white\"}, \"hoverlabel\": {\"align\": \"left\"}, \"hovermode\": \"closest\", \"mapbox\": {\"style\": \"light\"}, \"paper_bgcolor\": \"white\", \"plot_bgcolor\": \"#E5ECF6\", \"polar\": {\"angularaxis\": {\"gridcolor\": \"white\", \"linecolor\": \"white\", \"ticks\": \"\"}, \"bgcolor\": \"#E5ECF6\", \"radialaxis\": {\"gridcolor\": \"white\", \"linecolor\": \"white\", \"ticks\": \"\"}}, \"scene\": {\"xaxis\": {\"backgroundcolor\": \"#E5ECF6\", \"gridcolor\": \"white\", \"gridwidth\": 2, \"linecolor\": \"white\", \"showbackground\": true, \"ticks\": \"\", \"zerolinecolor\": \"white\"}, \"yaxis\": {\"backgroundcolor\": \"#E5ECF6\", \"gridcolor\": \"white\", \"gridwidth\": 2, \"linecolor\": \"white\", \"showbackground\": true, \"ticks\": \"\", \"zerolinecolor\": \"white\"}, \"zaxis\": {\"backgroundcolor\": \"#E5ECF6\", \"gridcolor\": \"white\", \"gridwidth\": 2, \"linecolor\": \"white\", \"showbackground\": true, \"ticks\": \"\", \"zerolinecolor\": \"white\"}}, \"shapedefaults\": {\"line\": {\"color\": \"#2a3f5f\"}}, \"ternary\": {\"aaxis\": {\"gridcolor\": \"white\", \"linecolor\": \"white\", \"ticks\": \"\"}, \"baxis\": {\"gridcolor\": \"white\", \"linecolor\": \"white\", \"ticks\": \"\"}, \"bgcolor\": \"#E5ECF6\", \"caxis\": {\"gridcolor\": \"white\", \"linecolor\": \"white\", \"ticks\": \"\"}}, \"title\": {\"x\": 0.05}, \"xaxis\": {\"automargin\": true, \"gridcolor\": \"white\", \"linecolor\": \"white\", \"ticks\": \"\", \"title\": {\"standoff\": 15}, \"zerolinecolor\": \"white\", \"zerolinewidth\": 2}, \"yaxis\": {\"automargin\": true, \"gridcolor\": \"white\", \"linecolor\": \"white\", \"ticks\": \"\", \"title\": {\"standoff\": 15}, \"zerolinecolor\": \"white\", \"zerolinewidth\": 2}}}, \"title\": {\"text\": \"Number of Confirmed Cases in Chinese Provinces\"}},\n",
       "                        {\"responsive\": true}\n",
       "                    ).then(function(){\n",
       "                            \n",
       "var gd = document.getElementById('70c05a4f-6482-4c9d-b182-311729239b33');\n",
       "var x = new MutationObserver(function (mutations, observer) {{\n",
       "        var display = window.getComputedStyle(gd).display;\n",
       "        if (!display || display === 'none') {{\n",
       "            console.log([gd, 'removed!']);\n",
       "            Plotly.purge(gd);\n",
       "            observer.disconnect();\n",
       "        }}\n",
       "}});\n",
       "\n",
       "// Listen for the removal of the full notebook cells\n",
       "var notebookContainer = gd.closest('#notebook-container');\n",
       "if (notebookContainer) {{\n",
       "    x.observe(notebookContainer, {childList: true});\n",
       "}}\n",
       "\n",
       "// Listen for the clearing of the current output cell\n",
       "var outputEl = gd.closest('.output');\n",
       "if (outputEl) {{\n",
       "    x.observe(outputEl, {childList: true});\n",
       "}}\n",
       "\n",
       "                        })\n",
       "                };\n",
       "                });\n",
       "            </script>\n",
       "        </div>"
      ]
     },
     "metadata": {},
     "output_type": "display_data"
    },
    {
     "data": {
      "application/vnd.plotly.v1+json": {
       "config": {
        "plotlyServerURL": "https://plot.ly"
       },
       "data": [
        {
         "branchvalues": "total",
         "domain": {
          "x": [
           0,
           1
          ],
          "y": [
           0,
           1
          ]
         },
         "hoverlabel": {
          "namelength": 0
         },
         "hovertemplate": "labels=%{label}<br>Confirmed=%{value}<br>parent=%{parent}<br>id=%{id}",
         "ids": [
          "Australia",
          "Belgium",
          "Cambodia",
          "Canada",
          "Egypt",
          "Finland",
          "France",
          "Germany",
          "Hong Kong",
          "India",
          "Iran",
          "Italy",
          "Japan",
          "Macau",
          "Malaysia",
          "Nepal",
          "Philippines",
          "Russia",
          "Singapore",
          "South Korea",
          "Spain",
          "Sri Lanka",
          "Sweden",
          "Taiwan",
          "Thailand",
          "UK",
          "US",
          "United Arab Emirates",
          "Vietnam"
         ],
         "labels": [
          "Australia",
          "Belgium",
          "Cambodia",
          "Canada",
          "Egypt",
          "Finland",
          "France",
          "Germany",
          "Hong Kong",
          "India",
          "Iran",
          "Italy",
          "Japan",
          "Macau",
          "Malaysia",
          "Nepal",
          "Philippines",
          "Russia",
          "Singapore",
          "South Korea",
          "Spain",
          "Sri Lanka",
          "Sweden",
          "Taiwan",
          "Thailand",
          "UK",
          "US",
          "United Arab Emirates",
          "Vietnam"
         ],
         "name": "",
         "parents": [
          "",
          "",
          "",
          "",
          "",
          "",
          "",
          "",
          "",
          "",
          "",
          "",
          "",
          "",
          "",
          "",
          "",
          "",
          "",
          "",
          "",
          "",
          "",
          "",
          "",
          "",
          "",
          "",
          ""
         ],
         "type": "treemap",
         "values": [
          15,
          1,
          1,
          8,
          1,
          1,
          12,
          16,
          63,
          3,
          2,
          3,
          84,
          10,
          22,
          1,
          3,
          2,
          84,
          31,
          2,
          1,
          1,
          23,
          35,
          9,
          15,
          9,
          16
         ]
        }
       ],
       "layout": {
        "legend": {
         "tracegroupgap": 0
        },
        "template": {
         "data": {
          "bar": [
           {
            "error_x": {
             "color": "#2a3f5f"
            },
            "error_y": {
             "color": "#2a3f5f"
            },
            "marker": {
             "line": {
              "color": "#E5ECF6",
              "width": 0.5
             }
            },
            "type": "bar"
           }
          ],
          "barpolar": [
           {
            "marker": {
             "line": {
              "color": "#E5ECF6",
              "width": 0.5
             }
            },
            "type": "barpolar"
           }
          ],
          "carpet": [
           {
            "aaxis": {
             "endlinecolor": "#2a3f5f",
             "gridcolor": "white",
             "linecolor": "white",
             "minorgridcolor": "white",
             "startlinecolor": "#2a3f5f"
            },
            "baxis": {
             "endlinecolor": "#2a3f5f",
             "gridcolor": "white",
             "linecolor": "white",
             "minorgridcolor": "white",
             "startlinecolor": "#2a3f5f"
            },
            "type": "carpet"
           }
          ],
          "choropleth": [
           {
            "colorbar": {
             "outlinewidth": 0,
             "ticks": ""
            },
            "type": "choropleth"
           }
          ],
          "contour": [
           {
            "colorbar": {
             "outlinewidth": 0,
             "ticks": ""
            },
            "colorscale": [
             [
              0,
              "#0d0887"
             ],
             [
              0.1111111111111111,
              "#46039f"
             ],
             [
              0.2222222222222222,
              "#7201a8"
             ],
             [
              0.3333333333333333,
              "#9c179e"
             ],
             [
              0.4444444444444444,
              "#bd3786"
             ],
             [
              0.5555555555555556,
              "#d8576b"
             ],
             [
              0.6666666666666666,
              "#ed7953"
             ],
             [
              0.7777777777777778,
              "#fb9f3a"
             ],
             [
              0.8888888888888888,
              "#fdca26"
             ],
             [
              1,
              "#f0f921"
             ]
            ],
            "type": "contour"
           }
          ],
          "contourcarpet": [
           {
            "colorbar": {
             "outlinewidth": 0,
             "ticks": ""
            },
            "type": "contourcarpet"
           }
          ],
          "heatmap": [
           {
            "colorbar": {
             "outlinewidth": 0,
             "ticks": ""
            },
            "colorscale": [
             [
              0,
              "#0d0887"
             ],
             [
              0.1111111111111111,
              "#46039f"
             ],
             [
              0.2222222222222222,
              "#7201a8"
             ],
             [
              0.3333333333333333,
              "#9c179e"
             ],
             [
              0.4444444444444444,
              "#bd3786"
             ],
             [
              0.5555555555555556,
              "#d8576b"
             ],
             [
              0.6666666666666666,
              "#ed7953"
             ],
             [
              0.7777777777777778,
              "#fb9f3a"
             ],
             [
              0.8888888888888888,
              "#fdca26"
             ],
             [
              1,
              "#f0f921"
             ]
            ],
            "type": "heatmap"
           }
          ],
          "heatmapgl": [
           {
            "colorbar": {
             "outlinewidth": 0,
             "ticks": ""
            },
            "colorscale": [
             [
              0,
              "#0d0887"
             ],
             [
              0.1111111111111111,
              "#46039f"
             ],
             [
              0.2222222222222222,
              "#7201a8"
             ],
             [
              0.3333333333333333,
              "#9c179e"
             ],
             [
              0.4444444444444444,
              "#bd3786"
             ],
             [
              0.5555555555555556,
              "#d8576b"
             ],
             [
              0.6666666666666666,
              "#ed7953"
             ],
             [
              0.7777777777777778,
              "#fb9f3a"
             ],
             [
              0.8888888888888888,
              "#fdca26"
             ],
             [
              1,
              "#f0f921"
             ]
            ],
            "type": "heatmapgl"
           }
          ],
          "histogram": [
           {
            "marker": {
             "colorbar": {
              "outlinewidth": 0,
              "ticks": ""
             }
            },
            "type": "histogram"
           }
          ],
          "histogram2d": [
           {
            "colorbar": {
             "outlinewidth": 0,
             "ticks": ""
            },
            "colorscale": [
             [
              0,
              "#0d0887"
             ],
             [
              0.1111111111111111,
              "#46039f"
             ],
             [
              0.2222222222222222,
              "#7201a8"
             ],
             [
              0.3333333333333333,
              "#9c179e"
             ],
             [
              0.4444444444444444,
              "#bd3786"
             ],
             [
              0.5555555555555556,
              "#d8576b"
             ],
             [
              0.6666666666666666,
              "#ed7953"
             ],
             [
              0.7777777777777778,
              "#fb9f3a"
             ],
             [
              0.8888888888888888,
              "#fdca26"
             ],
             [
              1,
              "#f0f921"
             ]
            ],
            "type": "histogram2d"
           }
          ],
          "histogram2dcontour": [
           {
            "colorbar": {
             "outlinewidth": 0,
             "ticks": ""
            },
            "colorscale": [
             [
              0,
              "#0d0887"
             ],
             [
              0.1111111111111111,
              "#46039f"
             ],
             [
              0.2222222222222222,
              "#7201a8"
             ],
             [
              0.3333333333333333,
              "#9c179e"
             ],
             [
              0.4444444444444444,
              "#bd3786"
             ],
             [
              0.5555555555555556,
              "#d8576b"
             ],
             [
              0.6666666666666666,
              "#ed7953"
             ],
             [
              0.7777777777777778,
              "#fb9f3a"
             ],
             [
              0.8888888888888888,
              "#fdca26"
             ],
             [
              1,
              "#f0f921"
             ]
            ],
            "type": "histogram2dcontour"
           }
          ],
          "mesh3d": [
           {
            "colorbar": {
             "outlinewidth": 0,
             "ticks": ""
            },
            "type": "mesh3d"
           }
          ],
          "parcoords": [
           {
            "line": {
             "colorbar": {
              "outlinewidth": 0,
              "ticks": ""
             }
            },
            "type": "parcoords"
           }
          ],
          "pie": [
           {
            "automargin": true,
            "type": "pie"
           }
          ],
          "scatter": [
           {
            "marker": {
             "colorbar": {
              "outlinewidth": 0,
              "ticks": ""
             }
            },
            "type": "scatter"
           }
          ],
          "scatter3d": [
           {
            "line": {
             "colorbar": {
              "outlinewidth": 0,
              "ticks": ""
             }
            },
            "marker": {
             "colorbar": {
              "outlinewidth": 0,
              "ticks": ""
             }
            },
            "type": "scatter3d"
           }
          ],
          "scattercarpet": [
           {
            "marker": {
             "colorbar": {
              "outlinewidth": 0,
              "ticks": ""
             }
            },
            "type": "scattercarpet"
           }
          ],
          "scattergeo": [
           {
            "marker": {
             "colorbar": {
              "outlinewidth": 0,
              "ticks": ""
             }
            },
            "type": "scattergeo"
           }
          ],
          "scattergl": [
           {
            "marker": {
             "colorbar": {
              "outlinewidth": 0,
              "ticks": ""
             }
            },
            "type": "scattergl"
           }
          ],
          "scattermapbox": [
           {
            "marker": {
             "colorbar": {
              "outlinewidth": 0,
              "ticks": ""
             }
            },
            "type": "scattermapbox"
           }
          ],
          "scatterpolar": [
           {
            "marker": {
             "colorbar": {
              "outlinewidth": 0,
              "ticks": ""
             }
            },
            "type": "scatterpolar"
           }
          ],
          "scatterpolargl": [
           {
            "marker": {
             "colorbar": {
              "outlinewidth": 0,
              "ticks": ""
             }
            },
            "type": "scatterpolargl"
           }
          ],
          "scatterternary": [
           {
            "marker": {
             "colorbar": {
              "outlinewidth": 0,
              "ticks": ""
             }
            },
            "type": "scatterternary"
           }
          ],
          "surface": [
           {
            "colorbar": {
             "outlinewidth": 0,
             "ticks": ""
            },
            "colorscale": [
             [
              0,
              "#0d0887"
             ],
             [
              0.1111111111111111,
              "#46039f"
             ],
             [
              0.2222222222222222,
              "#7201a8"
             ],
             [
              0.3333333333333333,
              "#9c179e"
             ],
             [
              0.4444444444444444,
              "#bd3786"
             ],
             [
              0.5555555555555556,
              "#d8576b"
             ],
             [
              0.6666666666666666,
              "#ed7953"
             ],
             [
              0.7777777777777778,
              "#fb9f3a"
             ],
             [
              0.8888888888888888,
              "#fdca26"
             ],
             [
              1,
              "#f0f921"
             ]
            ],
            "type": "surface"
           }
          ],
          "table": [
           {
            "cells": {
             "fill": {
              "color": "#EBF0F8"
             },
             "line": {
              "color": "white"
             }
            },
            "header": {
             "fill": {
              "color": "#C8D4E3"
             },
             "line": {
              "color": "white"
             }
            },
            "type": "table"
           }
          ]
         },
         "layout": {
          "annotationdefaults": {
           "arrowcolor": "#2a3f5f",
           "arrowhead": 0,
           "arrowwidth": 1
          },
          "coloraxis": {
           "colorbar": {
            "outlinewidth": 0,
            "ticks": ""
           }
          },
          "colorscale": {
           "diverging": [
            [
             0,
             "#8e0152"
            ],
            [
             0.1,
             "#c51b7d"
            ],
            [
             0.2,
             "#de77ae"
            ],
            [
             0.3,
             "#f1b6da"
            ],
            [
             0.4,
             "#fde0ef"
            ],
            [
             0.5,
             "#f7f7f7"
            ],
            [
             0.6,
             "#e6f5d0"
            ],
            [
             0.7,
             "#b8e186"
            ],
            [
             0.8,
             "#7fbc41"
            ],
            [
             0.9,
             "#4d9221"
            ],
            [
             1,
             "#276419"
            ]
           ],
           "sequential": [
            [
             0,
             "#0d0887"
            ],
            [
             0.1111111111111111,
             "#46039f"
            ],
            [
             0.2222222222222222,
             "#7201a8"
            ],
            [
             0.3333333333333333,
             "#9c179e"
            ],
            [
             0.4444444444444444,
             "#bd3786"
            ],
            [
             0.5555555555555556,
             "#d8576b"
            ],
            [
             0.6666666666666666,
             "#ed7953"
            ],
            [
             0.7777777777777778,
             "#fb9f3a"
            ],
            [
             0.8888888888888888,
             "#fdca26"
            ],
            [
             1,
             "#f0f921"
            ]
           ],
           "sequentialminus": [
            [
             0,
             "#0d0887"
            ],
            [
             0.1111111111111111,
             "#46039f"
            ],
            [
             0.2222222222222222,
             "#7201a8"
            ],
            [
             0.3333333333333333,
             "#9c179e"
            ],
            [
             0.4444444444444444,
             "#bd3786"
            ],
            [
             0.5555555555555556,
             "#d8576b"
            ],
            [
             0.6666666666666666,
             "#ed7953"
            ],
            [
             0.7777777777777778,
             "#fb9f3a"
            ],
            [
             0.8888888888888888,
             "#fdca26"
            ],
            [
             1,
             "#f0f921"
            ]
           ]
          },
          "colorway": [
           "#636efa",
           "#EF553B",
           "#00cc96",
           "#ab63fa",
           "#FFA15A",
           "#19d3f3",
           "#FF6692",
           "#B6E880",
           "#FF97FF",
           "#FECB52"
          ],
          "font": {
           "color": "#2a3f5f"
          },
          "geo": {
           "bgcolor": "white",
           "lakecolor": "white",
           "landcolor": "#E5ECF6",
           "showlakes": true,
           "showland": true,
           "subunitcolor": "white"
          },
          "hoverlabel": {
           "align": "left"
          },
          "hovermode": "closest",
          "mapbox": {
           "style": "light"
          },
          "paper_bgcolor": "white",
          "plot_bgcolor": "#E5ECF6",
          "polar": {
           "angularaxis": {
            "gridcolor": "white",
            "linecolor": "white",
            "ticks": ""
           },
           "bgcolor": "#E5ECF6",
           "radialaxis": {
            "gridcolor": "white",
            "linecolor": "white",
            "ticks": ""
           }
          },
          "scene": {
           "xaxis": {
            "backgroundcolor": "#E5ECF6",
            "gridcolor": "white",
            "gridwidth": 2,
            "linecolor": "white",
            "showbackground": true,
            "ticks": "",
            "zerolinecolor": "white"
           },
           "yaxis": {
            "backgroundcolor": "#E5ECF6",
            "gridcolor": "white",
            "gridwidth": 2,
            "linecolor": "white",
            "showbackground": true,
            "ticks": "",
            "zerolinecolor": "white"
           },
           "zaxis": {
            "backgroundcolor": "#E5ECF6",
            "gridcolor": "white",
            "gridwidth": 2,
            "linecolor": "white",
            "showbackground": true,
            "ticks": "",
            "zerolinecolor": "white"
           }
          },
          "shapedefaults": {
           "line": {
            "color": "#2a3f5f"
           }
          },
          "ternary": {
           "aaxis": {
            "gridcolor": "white",
            "linecolor": "white",
            "ticks": ""
           },
           "baxis": {
            "gridcolor": "white",
            "linecolor": "white",
            "ticks": ""
           },
           "bgcolor": "#E5ECF6",
           "caxis": {
            "gridcolor": "white",
            "linecolor": "white",
            "ticks": ""
           }
          },
          "title": {
           "x": 0.05
          },
          "xaxis": {
           "automargin": true,
           "gridcolor": "white",
           "linecolor": "white",
           "ticks": "",
           "title": {
            "standoff": 15
           },
           "zerolinecolor": "white",
           "zerolinewidth": 2
          },
          "yaxis": {
           "automargin": true,
           "gridcolor": "white",
           "linecolor": "white",
           "ticks": "",
           "title": {
            "standoff": 15
           },
           "zerolinecolor": "white",
           "zerolinewidth": 2
          }
         }
        },
        "title": {
         "text": "Number of Confirmed Cases outside china"
        }
       }
      },
      "text/html": [
       "<div>\n",
       "        \n",
       "        \n",
       "            <div id=\"99b4d76f-0959-4772-bbbb-ec9a84080e66\" class=\"plotly-graph-div\" style=\"height:525px; width:100%;\"></div>\n",
       "            <script type=\"text/javascript\">\n",
       "                require([\"plotly\"], function(Plotly) {\n",
       "                    window.PLOTLYENV=window.PLOTLYENV || {};\n",
       "                    \n",
       "                if (document.getElementById(\"99b4d76f-0959-4772-bbbb-ec9a84080e66\")) {\n",
       "                    Plotly.newPlot(\n",
       "                        '99b4d76f-0959-4772-bbbb-ec9a84080e66',\n",
       "                        [{\"branchvalues\": \"total\", \"domain\": {\"x\": [0.0, 1.0], \"y\": [0.0, 1.0]}, \"hoverlabel\": {\"namelength\": 0}, \"hovertemplate\": \"labels=%{label}<br>Confirmed=%{value}<br>parent=%{parent}<br>id=%{id}\", \"ids\": [\"Australia\", \"Belgium\", \"Cambodia\", \"Canada\", \"Egypt\", \"Finland\", \"France\", \"Germany\", \"Hong Kong\", \"India\", \"Iran\", \"Italy\", \"Japan\", \"Macau\", \"Malaysia\", \"Nepal\", \"Philippines\", \"Russia\", \"Singapore\", \"South Korea\", \"Spain\", \"Sri Lanka\", \"Sweden\", \"Taiwan\", \"Thailand\", \"UK\", \"US\", \"United Arab Emirates\", \"Vietnam\"], \"labels\": [\"Australia\", \"Belgium\", \"Cambodia\", \"Canada\", \"Egypt\", \"Finland\", \"France\", \"Germany\", \"Hong Kong\", \"India\", \"Iran\", \"Italy\", \"Japan\", \"Macau\", \"Malaysia\", \"Nepal\", \"Philippines\", \"Russia\", \"Singapore\", \"South Korea\", \"Spain\", \"Sri Lanka\", \"Sweden\", \"Taiwan\", \"Thailand\", \"UK\", \"US\", \"United Arab Emirates\", \"Vietnam\"], \"name\": \"\", \"parents\": [\"\", \"\", \"\", \"\", \"\", \"\", \"\", \"\", \"\", \"\", \"\", \"\", \"\", \"\", \"\", \"\", \"\", \"\", \"\", \"\", \"\", \"\", \"\", \"\", \"\", \"\", \"\", \"\", \"\"], \"type\": \"treemap\", \"values\": [15, 1, 1, 8, 1, 1, 12, 16, 63, 3, 2, 3, 84, 10, 22, 1, 3, 2, 84, 31, 2, 1, 1, 23, 35, 9, 15, 9, 16]}],\n",
       "                        {\"legend\": {\"tracegroupgap\": 0}, \"template\": {\"data\": {\"bar\": [{\"error_x\": {\"color\": \"#2a3f5f\"}, \"error_y\": {\"color\": \"#2a3f5f\"}, \"marker\": {\"line\": {\"color\": \"#E5ECF6\", \"width\": 0.5}}, \"type\": \"bar\"}], \"barpolar\": [{\"marker\": {\"line\": {\"color\": \"#E5ECF6\", \"width\": 0.5}}, \"type\": \"barpolar\"}], \"carpet\": [{\"aaxis\": {\"endlinecolor\": \"#2a3f5f\", \"gridcolor\": \"white\", \"linecolor\": \"white\", \"minorgridcolor\": \"white\", \"startlinecolor\": \"#2a3f5f\"}, \"baxis\": {\"endlinecolor\": \"#2a3f5f\", \"gridcolor\": \"white\", \"linecolor\": \"white\", \"minorgridcolor\": \"white\", \"startlinecolor\": \"#2a3f5f\"}, \"type\": \"carpet\"}], \"choropleth\": [{\"colorbar\": {\"outlinewidth\": 0, \"ticks\": \"\"}, \"type\": \"choropleth\"}], \"contour\": [{\"colorbar\": {\"outlinewidth\": 0, \"ticks\": \"\"}, \"colorscale\": [[0.0, \"#0d0887\"], [0.1111111111111111, \"#46039f\"], [0.2222222222222222, \"#7201a8\"], [0.3333333333333333, \"#9c179e\"], [0.4444444444444444, \"#bd3786\"], [0.5555555555555556, \"#d8576b\"], [0.6666666666666666, \"#ed7953\"], [0.7777777777777778, \"#fb9f3a\"], [0.8888888888888888, \"#fdca26\"], [1.0, \"#f0f921\"]], \"type\": \"contour\"}], \"contourcarpet\": [{\"colorbar\": {\"outlinewidth\": 0, \"ticks\": \"\"}, \"type\": \"contourcarpet\"}], \"heatmap\": [{\"colorbar\": {\"outlinewidth\": 0, \"ticks\": \"\"}, \"colorscale\": [[0.0, \"#0d0887\"], [0.1111111111111111, \"#46039f\"], [0.2222222222222222, \"#7201a8\"], [0.3333333333333333, \"#9c179e\"], [0.4444444444444444, \"#bd3786\"], [0.5555555555555556, \"#d8576b\"], [0.6666666666666666, \"#ed7953\"], [0.7777777777777778, \"#fb9f3a\"], [0.8888888888888888, \"#fdca26\"], [1.0, \"#f0f921\"]], \"type\": \"heatmap\"}], \"heatmapgl\": [{\"colorbar\": {\"outlinewidth\": 0, \"ticks\": \"\"}, \"colorscale\": [[0.0, \"#0d0887\"], [0.1111111111111111, \"#46039f\"], [0.2222222222222222, \"#7201a8\"], [0.3333333333333333, \"#9c179e\"], [0.4444444444444444, \"#bd3786\"], [0.5555555555555556, \"#d8576b\"], [0.6666666666666666, \"#ed7953\"], [0.7777777777777778, \"#fb9f3a\"], [0.8888888888888888, \"#fdca26\"], [1.0, \"#f0f921\"]], \"type\": \"heatmapgl\"}], \"histogram\": [{\"marker\": {\"colorbar\": {\"outlinewidth\": 0, \"ticks\": \"\"}}, \"type\": \"histogram\"}], \"histogram2d\": [{\"colorbar\": {\"outlinewidth\": 0, \"ticks\": \"\"}, \"colorscale\": [[0.0, \"#0d0887\"], [0.1111111111111111, \"#46039f\"], [0.2222222222222222, \"#7201a8\"], [0.3333333333333333, \"#9c179e\"], [0.4444444444444444, \"#bd3786\"], [0.5555555555555556, \"#d8576b\"], [0.6666666666666666, \"#ed7953\"], [0.7777777777777778, \"#fb9f3a\"], [0.8888888888888888, \"#fdca26\"], [1.0, \"#f0f921\"]], \"type\": \"histogram2d\"}], \"histogram2dcontour\": [{\"colorbar\": {\"outlinewidth\": 0, \"ticks\": \"\"}, \"colorscale\": [[0.0, \"#0d0887\"], [0.1111111111111111, \"#46039f\"], [0.2222222222222222, \"#7201a8\"], [0.3333333333333333, \"#9c179e\"], [0.4444444444444444, \"#bd3786\"], [0.5555555555555556, \"#d8576b\"], [0.6666666666666666, \"#ed7953\"], [0.7777777777777778, \"#fb9f3a\"], [0.8888888888888888, \"#fdca26\"], [1.0, \"#f0f921\"]], \"type\": \"histogram2dcontour\"}], \"mesh3d\": [{\"colorbar\": {\"outlinewidth\": 0, \"ticks\": \"\"}, \"type\": \"mesh3d\"}], \"parcoords\": [{\"line\": {\"colorbar\": {\"outlinewidth\": 0, \"ticks\": \"\"}}, \"type\": \"parcoords\"}], \"pie\": [{\"automargin\": true, \"type\": \"pie\"}], \"scatter\": [{\"marker\": {\"colorbar\": {\"outlinewidth\": 0, \"ticks\": \"\"}}, \"type\": \"scatter\"}], \"scatter3d\": [{\"line\": {\"colorbar\": {\"outlinewidth\": 0, \"ticks\": \"\"}}, \"marker\": {\"colorbar\": {\"outlinewidth\": 0, \"ticks\": \"\"}}, \"type\": \"scatter3d\"}], \"scattercarpet\": [{\"marker\": {\"colorbar\": {\"outlinewidth\": 0, \"ticks\": \"\"}}, \"type\": \"scattercarpet\"}], \"scattergeo\": [{\"marker\": {\"colorbar\": {\"outlinewidth\": 0, \"ticks\": \"\"}}, \"type\": \"scattergeo\"}], \"scattergl\": [{\"marker\": {\"colorbar\": {\"outlinewidth\": 0, \"ticks\": \"\"}}, \"type\": \"scattergl\"}], \"scattermapbox\": [{\"marker\": {\"colorbar\": {\"outlinewidth\": 0, \"ticks\": \"\"}}, \"type\": \"scattermapbox\"}], \"scatterpolar\": [{\"marker\": {\"colorbar\": {\"outlinewidth\": 0, \"ticks\": \"\"}}, \"type\": \"scatterpolar\"}], \"scatterpolargl\": [{\"marker\": {\"colorbar\": {\"outlinewidth\": 0, \"ticks\": \"\"}}, \"type\": \"scatterpolargl\"}], \"scatterternary\": [{\"marker\": {\"colorbar\": {\"outlinewidth\": 0, \"ticks\": \"\"}}, \"type\": \"scatterternary\"}], \"surface\": [{\"colorbar\": {\"outlinewidth\": 0, \"ticks\": \"\"}, \"colorscale\": [[0.0, \"#0d0887\"], [0.1111111111111111, \"#46039f\"], [0.2222222222222222, \"#7201a8\"], [0.3333333333333333, \"#9c179e\"], [0.4444444444444444, \"#bd3786\"], [0.5555555555555556, \"#d8576b\"], [0.6666666666666666, \"#ed7953\"], [0.7777777777777778, \"#fb9f3a\"], [0.8888888888888888, \"#fdca26\"], [1.0, \"#f0f921\"]], \"type\": \"surface\"}], \"table\": [{\"cells\": {\"fill\": {\"color\": \"#EBF0F8\"}, \"line\": {\"color\": \"white\"}}, \"header\": {\"fill\": {\"color\": \"#C8D4E3\"}, \"line\": {\"color\": \"white\"}}, \"type\": \"table\"}]}, \"layout\": {\"annotationdefaults\": {\"arrowcolor\": \"#2a3f5f\", \"arrowhead\": 0, \"arrowwidth\": 1}, \"coloraxis\": {\"colorbar\": {\"outlinewidth\": 0, \"ticks\": \"\"}}, \"colorscale\": {\"diverging\": [[0, \"#8e0152\"], [0.1, \"#c51b7d\"], [0.2, \"#de77ae\"], [0.3, \"#f1b6da\"], [0.4, \"#fde0ef\"], [0.5, \"#f7f7f7\"], [0.6, \"#e6f5d0\"], [0.7, \"#b8e186\"], [0.8, \"#7fbc41\"], [0.9, \"#4d9221\"], [1, \"#276419\"]], \"sequential\": [[0.0, \"#0d0887\"], [0.1111111111111111, \"#46039f\"], [0.2222222222222222, \"#7201a8\"], [0.3333333333333333, \"#9c179e\"], [0.4444444444444444, \"#bd3786\"], [0.5555555555555556, \"#d8576b\"], [0.6666666666666666, \"#ed7953\"], [0.7777777777777778, \"#fb9f3a\"], [0.8888888888888888, \"#fdca26\"], [1.0, \"#f0f921\"]], \"sequentialminus\": [[0.0, \"#0d0887\"], [0.1111111111111111, \"#46039f\"], [0.2222222222222222, \"#7201a8\"], [0.3333333333333333, \"#9c179e\"], [0.4444444444444444, \"#bd3786\"], [0.5555555555555556, \"#d8576b\"], [0.6666666666666666, \"#ed7953\"], [0.7777777777777778, \"#fb9f3a\"], [0.8888888888888888, \"#fdca26\"], [1.0, \"#f0f921\"]]}, \"colorway\": [\"#636efa\", \"#EF553B\", \"#00cc96\", \"#ab63fa\", \"#FFA15A\", \"#19d3f3\", \"#FF6692\", \"#B6E880\", \"#FF97FF\", \"#FECB52\"], \"font\": {\"color\": \"#2a3f5f\"}, \"geo\": {\"bgcolor\": \"white\", \"lakecolor\": \"white\", \"landcolor\": \"#E5ECF6\", \"showlakes\": true, \"showland\": true, \"subunitcolor\": \"white\"}, \"hoverlabel\": {\"align\": \"left\"}, \"hovermode\": \"closest\", \"mapbox\": {\"style\": \"light\"}, \"paper_bgcolor\": \"white\", \"plot_bgcolor\": \"#E5ECF6\", \"polar\": {\"angularaxis\": {\"gridcolor\": \"white\", \"linecolor\": \"white\", \"ticks\": \"\"}, \"bgcolor\": \"#E5ECF6\", \"radialaxis\": {\"gridcolor\": \"white\", \"linecolor\": \"white\", \"ticks\": \"\"}}, \"scene\": {\"xaxis\": {\"backgroundcolor\": \"#E5ECF6\", \"gridcolor\": \"white\", \"gridwidth\": 2, \"linecolor\": \"white\", \"showbackground\": true, \"ticks\": \"\", \"zerolinecolor\": \"white\"}, \"yaxis\": {\"backgroundcolor\": \"#E5ECF6\", \"gridcolor\": \"white\", \"gridwidth\": 2, \"linecolor\": \"white\", \"showbackground\": true, \"ticks\": \"\", \"zerolinecolor\": \"white\"}, \"zaxis\": {\"backgroundcolor\": \"#E5ECF6\", \"gridcolor\": \"white\", \"gridwidth\": 2, \"linecolor\": \"white\", \"showbackground\": true, \"ticks\": \"\", \"zerolinecolor\": \"white\"}}, \"shapedefaults\": {\"line\": {\"color\": \"#2a3f5f\"}}, \"ternary\": {\"aaxis\": {\"gridcolor\": \"white\", \"linecolor\": \"white\", \"ticks\": \"\"}, \"baxis\": {\"gridcolor\": \"white\", \"linecolor\": \"white\", \"ticks\": \"\"}, \"bgcolor\": \"#E5ECF6\", \"caxis\": {\"gridcolor\": \"white\", \"linecolor\": \"white\", \"ticks\": \"\"}}, \"title\": {\"x\": 0.05}, \"xaxis\": {\"automargin\": true, \"gridcolor\": \"white\", \"linecolor\": \"white\", \"ticks\": \"\", \"title\": {\"standoff\": 15}, \"zerolinecolor\": \"white\", \"zerolinewidth\": 2}, \"yaxis\": {\"automargin\": true, \"gridcolor\": \"white\", \"linecolor\": \"white\", \"ticks\": \"\", \"title\": {\"standoff\": 15}, \"zerolinecolor\": \"white\", \"zerolinewidth\": 2}}}, \"title\": {\"text\": \"Number of Confirmed Cases outside china\"}},\n",
       "                        {\"responsive\": true}\n",
       "                    ).then(function(){\n",
       "                            \n",
       "var gd = document.getElementById('99b4d76f-0959-4772-bbbb-ec9a84080e66');\n",
       "var x = new MutationObserver(function (mutations, observer) {{\n",
       "        var display = window.getComputedStyle(gd).display;\n",
       "        if (!display || display === 'none') {{\n",
       "            console.log([gd, 'removed!']);\n",
       "            Plotly.purge(gd);\n",
       "            observer.disconnect();\n",
       "        }}\n",
       "}});\n",
       "\n",
       "// Listen for the removal of the full notebook cells\n",
       "var notebookContainer = gd.closest('#notebook-container');\n",
       "if (notebookContainer) {{\n",
       "    x.observe(notebookContainer, {childList: true});\n",
       "}}\n",
       "\n",
       "// Listen for the clearing of the current output cell\n",
       "var outputEl = gd.closest('.output');\n",
       "if (outputEl) {{\n",
       "    x.observe(outputEl, {childList: true});\n",
       "}}\n",
       "\n",
       "                        })\n",
       "                };\n",
       "                });\n",
       "            </script>\n",
       "        </div>"
      ]
     },
     "metadata": {},
     "output_type": "display_data"
    }
   ],
   "source": [
    "fig = px.treemap(china_latest.sort_values(by='Confirmed', ascending=False).reset_index(drop=True), \n",
    "           path=[\"Province/State\"], values=\"Confirmed\", title='Number of Confirmed Cases in Chinese Provinces')\n",
    "fig.show()\n",
    "fig = px.treemap(row_latest, path=[\"Country/Region\"], \n",
    "                 values=\"Confirmed\", title='Number of Confirmed Cases outside china')\n",
    "fig.show()"
   ]
  },
  {
   "cell_type": "markdown",
   "metadata": {},
   "source": [
    "## China provinces vs Singapore"
   ]
  },
  {
   "cell_type": "code",
   "execution_count": 104,
   "metadata": {},
   "outputs": [
    {
     "data": {
      "text/plain": [
       "Sno                 int64\n",
       "Date               object\n",
       "Province/State     object\n",
       "Country            object\n",
       "Last Update        object\n",
       "Confirmed         float64\n",
       "Deaths            float64\n",
       "Recovered         float64\n",
       "dtype: object"
      ]
     },
     "execution_count": 104,
     "metadata": {},
     "output_type": "execute_result"
    }
   ],
   "source": [
    "df.dtypes"
   ]
  },
  {
   "cell_type": "code",
   "execution_count": 153,
   "metadata": {},
   "outputs": [],
   "source": [
    "df['Date'] = df['Date'].dt.strftime('%m/%d/%Y')\n",
    "df['Date'] = pd.to_datetime(df['Date'])\n",
    "df['Confirmed'] = df['Confirmed'].astype('int')\n",
    "df['Deaths'] = df['Deaths'].astype('int')\n",
    "df['Recovered'] = df['Recovered'].astype('int')\n",
    "\n",
    "# some Chinese data are labelled as China and some are labelled as 'Mainland China'\n",
    "df['Country'] = df['Country'].replace('Mainland China', 'China')"
   ]
  },
  {
   "cell_type": "code",
   "execution_count": 154,
   "metadata": {},
   "outputs": [
    {
     "data": {
      "text/plain": [
       "array(['China', 'US', 'Japan', 'Thailand', 'South Korea', 'Hong Kong',\n",
       "       'Macau', 'Taiwan', 'Singapore', 'Philippines', 'Malaysia',\n",
       "       'Vietnam', 'Australia', 'Mexico', 'Brazil', 'France', 'Nepal',\n",
       "       'Canada', 'Cambodia', 'Sri Lanka', 'Ivory Coast', 'Germany',\n",
       "       'Finland', 'United Arab Emirates', 'India', 'Italy', 'Sweden',\n",
       "       'Russia', 'Spain', 'UK', 'Belgium', 'Others', 'Egypt'],\n",
       "      dtype=object)"
      ]
     },
     "execution_count": 154,
     "metadata": {},
     "output_type": "execute_result"
    }
   ],
   "source": [
    "df['Country'].unique()"
   ]
  },
  {
   "cell_type": "code",
   "execution_count": 155,
   "metadata": {
    "scrolled": true
   },
   "outputs": [
    {
     "data": {
      "text/plain": [
       "Sno                        int64\n",
       "Date              datetime64[ns]\n",
       "Province/State            object\n",
       "Country                   object\n",
       "Last Update               object\n",
       "Confirmed                  int64\n",
       "Deaths                     int64\n",
       "Recovered                  int64\n",
       "dtype: object"
      ]
     },
     "execution_count": 155,
     "metadata": {},
     "output_type": "execute_result"
    }
   ],
   "source": [
    "df.dtypes"
   ]
  },
  {
   "cell_type": "code",
   "execution_count": 128,
   "metadata": {},
   "outputs": [
    {
     "data": {
      "text/plain": [
       "1719"
      ]
     },
     "execution_count": 128,
     "metadata": {},
     "output_type": "execute_result"
    }
   ],
   "source": [
    "len(df)"
   ]
  },
  {
   "cell_type": "code",
   "execution_count": 156,
   "metadata": {},
   "outputs": [],
   "source": [
    "df_China = df.loc[df['Country'] == 'China']\n",
    "df_China_without_Hubei = df_China.loc[df_China['Province/State'] != 'Hubei']\n",
    "df_Singapore = df.loc[df['Country'] == 'Singapore']"
   ]
  },
  {
   "cell_type": "code",
   "execution_count": 165,
   "metadata": {},
   "outputs": [],
   "source": [
    "df_China_grouped = df_China.groupby('Date')['Confirmed'].sum().reset_index()\n",
    "df_China_without_Hubei_grouped = df_China_without_Hubei.groupby('Date')['Confirmed'].sum().reset_index()\n",
    "df_Singapore_grouped = df_Singapore.groupby('Date')['Confirmed'].sum().reset_index()"
   ]
  },
  {
   "cell_type": "code",
   "execution_count": null,
   "metadata": {},
   "outputs": [],
   "source": []
  },
  {
   "cell_type": "code",
   "execution_count": 171,
   "metadata": {},
   "outputs": [
    {
     "data": {
      "application/vnd.plotly.v1+json": {
       "config": {
        "plotlyServerURL": "https://plot.ly"
       },
       "data": [
        {
         "hovertemplate": "<br><b>Date</b>: %{x} <br><b>Confirmed Cases:</b> %{y}<br>",
         "marker": {
          "color": "rgb(55, 83, 109)",
          "line": {
           "width": 2
          },
          "size": 5
         },
         "mode": "lines+markers",
         "name": "China Confirmed cases",
         "type": "scatter",
         "x": [
          "2020-01-22T00:00:00",
          "2020-01-23T00:00:00",
          "2020-01-24T00:00:00",
          "2020-01-25T00:00:00",
          "2020-01-26T00:00:00",
          "2020-01-27T00:00:00",
          "2020-01-28T00:00:00",
          "2020-01-29T00:00:00",
          "2020-01-30T00:00:00",
          "2020-01-31T00:00:00",
          "2020-02-01T00:00:00",
          "2020-02-02T00:00:00",
          "2020-02-03T00:00:00",
          "2020-02-04T00:00:00",
          "2020-02-05T00:00:00",
          "2020-02-06T00:00:00",
          "2020-02-07T00:00:00",
          "2020-02-08T00:00:00",
          "2020-02-09T00:00:00",
          "2020-02-10T00:00:00",
          "2020-02-11T00:00:00",
          "2020-02-12T00:00:00",
          "2020-02-13T00:00:00",
          "2020-02-14T00:00:00",
          "2020-02-15T00:00:00",
          "2020-02-16T00:00:00",
          "2020-02-17T00:00:00"
         ],
         "y": [
          549,
          639,
          916,
          1979,
          2737,
          4409,
          5970,
          7678,
          9658,
          11221,
          14375,
          17114,
          20400,
          24290,
          24405,
          30541,
          31215,
          37198,
          40160,
          42310,
          44641,
          59805,
          63841,
          66292,
          68347,
          70446,
          72364
         ]
        },
        {
         "hovertemplate": "<br><b>Date</b>: %{x} <br><b>Confirmed Cases:</b> %{y}<br>",
         "marker": {
          "color": "rgb(26, 118, 255)",
          "line": {
           "width": 2
          },
          "size": 5
         },
         "mode": "lines+markers",
         "name": "China Confirmed cases without Hubei",
         "type": "scatter",
         "x": [
          "2020-01-22T00:00:00",
          "2020-01-23T00:00:00",
          "2020-01-24T00:00:00",
          "2020-01-25T00:00:00",
          "2020-01-26T00:00:00",
          "2020-01-27T00:00:00",
          "2020-01-28T00:00:00",
          "2020-01-29T00:00:00",
          "2020-01-30T00:00:00",
          "2020-01-31T00:00:00",
          "2020-02-01T00:00:00",
          "2020-02-02T00:00:00",
          "2020-02-03T00:00:00",
          "2020-02-04T00:00:00",
          "2020-02-05T00:00:00",
          "2020-02-06T00:00:00",
          "2020-02-07T00:00:00",
          "2020-02-08T00:00:00",
          "2020-02-09T00:00:00",
          "2020-02-10T00:00:00",
          "2020-02-11T00:00:00",
          "2020-02-12T00:00:00",
          "2020-02-13T00:00:00",
          "2020-02-14T00:00:00",
          "2020-02-15T00:00:00",
          "2020-02-16T00:00:00",
          "2020-02-17T00:00:00"
         ],
         "y": [
          105,
          195,
          367,
          927,
          1314,
          1695,
          2416,
          3092,
          3852,
          4068,
          5301,
          5937,
          6878,
          7612,
          7727,
          8429,
          9103,
          10098,
          10529,
          10582,
          11275,
          11599,
          11855,
          11886,
          12098,
          12264,
          12375
         ]
        }
       ],
       "layout": {
        "hoverlabel": {
         "align": "left"
        },
        "template": {
         "data": {
          "bar": [
           {
            "error_x": {
             "color": "#2a3f5f"
            },
            "error_y": {
             "color": "#2a3f5f"
            },
            "marker": {
             "line": {
              "color": "#E5ECF6",
              "width": 0.5
             }
            },
            "type": "bar"
           }
          ],
          "barpolar": [
           {
            "marker": {
             "line": {
              "color": "#E5ECF6",
              "width": 0.5
             }
            },
            "type": "barpolar"
           }
          ],
          "carpet": [
           {
            "aaxis": {
             "endlinecolor": "#2a3f5f",
             "gridcolor": "white",
             "linecolor": "white",
             "minorgridcolor": "white",
             "startlinecolor": "#2a3f5f"
            },
            "baxis": {
             "endlinecolor": "#2a3f5f",
             "gridcolor": "white",
             "linecolor": "white",
             "minorgridcolor": "white",
             "startlinecolor": "#2a3f5f"
            },
            "type": "carpet"
           }
          ],
          "choropleth": [
           {
            "colorbar": {
             "outlinewidth": 0,
             "ticks": ""
            },
            "type": "choropleth"
           }
          ],
          "contour": [
           {
            "colorbar": {
             "outlinewidth": 0,
             "ticks": ""
            },
            "colorscale": [
             [
              0,
              "#0d0887"
             ],
             [
              0.1111111111111111,
              "#46039f"
             ],
             [
              0.2222222222222222,
              "#7201a8"
             ],
             [
              0.3333333333333333,
              "#9c179e"
             ],
             [
              0.4444444444444444,
              "#bd3786"
             ],
             [
              0.5555555555555556,
              "#d8576b"
             ],
             [
              0.6666666666666666,
              "#ed7953"
             ],
             [
              0.7777777777777778,
              "#fb9f3a"
             ],
             [
              0.8888888888888888,
              "#fdca26"
             ],
             [
              1,
              "#f0f921"
             ]
            ],
            "type": "contour"
           }
          ],
          "contourcarpet": [
           {
            "colorbar": {
             "outlinewidth": 0,
             "ticks": ""
            },
            "type": "contourcarpet"
           }
          ],
          "heatmap": [
           {
            "colorbar": {
             "outlinewidth": 0,
             "ticks": ""
            },
            "colorscale": [
             [
              0,
              "#0d0887"
             ],
             [
              0.1111111111111111,
              "#46039f"
             ],
             [
              0.2222222222222222,
              "#7201a8"
             ],
             [
              0.3333333333333333,
              "#9c179e"
             ],
             [
              0.4444444444444444,
              "#bd3786"
             ],
             [
              0.5555555555555556,
              "#d8576b"
             ],
             [
              0.6666666666666666,
              "#ed7953"
             ],
             [
              0.7777777777777778,
              "#fb9f3a"
             ],
             [
              0.8888888888888888,
              "#fdca26"
             ],
             [
              1,
              "#f0f921"
             ]
            ],
            "type": "heatmap"
           }
          ],
          "heatmapgl": [
           {
            "colorbar": {
             "outlinewidth": 0,
             "ticks": ""
            },
            "colorscale": [
             [
              0,
              "#0d0887"
             ],
             [
              0.1111111111111111,
              "#46039f"
             ],
             [
              0.2222222222222222,
              "#7201a8"
             ],
             [
              0.3333333333333333,
              "#9c179e"
             ],
             [
              0.4444444444444444,
              "#bd3786"
             ],
             [
              0.5555555555555556,
              "#d8576b"
             ],
             [
              0.6666666666666666,
              "#ed7953"
             ],
             [
              0.7777777777777778,
              "#fb9f3a"
             ],
             [
              0.8888888888888888,
              "#fdca26"
             ],
             [
              1,
              "#f0f921"
             ]
            ],
            "type": "heatmapgl"
           }
          ],
          "histogram": [
           {
            "marker": {
             "colorbar": {
              "outlinewidth": 0,
              "ticks": ""
             }
            },
            "type": "histogram"
           }
          ],
          "histogram2d": [
           {
            "colorbar": {
             "outlinewidth": 0,
             "ticks": ""
            },
            "colorscale": [
             [
              0,
              "#0d0887"
             ],
             [
              0.1111111111111111,
              "#46039f"
             ],
             [
              0.2222222222222222,
              "#7201a8"
             ],
             [
              0.3333333333333333,
              "#9c179e"
             ],
             [
              0.4444444444444444,
              "#bd3786"
             ],
             [
              0.5555555555555556,
              "#d8576b"
             ],
             [
              0.6666666666666666,
              "#ed7953"
             ],
             [
              0.7777777777777778,
              "#fb9f3a"
             ],
             [
              0.8888888888888888,
              "#fdca26"
             ],
             [
              1,
              "#f0f921"
             ]
            ],
            "type": "histogram2d"
           }
          ],
          "histogram2dcontour": [
           {
            "colorbar": {
             "outlinewidth": 0,
             "ticks": ""
            },
            "colorscale": [
             [
              0,
              "#0d0887"
             ],
             [
              0.1111111111111111,
              "#46039f"
             ],
             [
              0.2222222222222222,
              "#7201a8"
             ],
             [
              0.3333333333333333,
              "#9c179e"
             ],
             [
              0.4444444444444444,
              "#bd3786"
             ],
             [
              0.5555555555555556,
              "#d8576b"
             ],
             [
              0.6666666666666666,
              "#ed7953"
             ],
             [
              0.7777777777777778,
              "#fb9f3a"
             ],
             [
              0.8888888888888888,
              "#fdca26"
             ],
             [
              1,
              "#f0f921"
             ]
            ],
            "type": "histogram2dcontour"
           }
          ],
          "mesh3d": [
           {
            "colorbar": {
             "outlinewidth": 0,
             "ticks": ""
            },
            "type": "mesh3d"
           }
          ],
          "parcoords": [
           {
            "line": {
             "colorbar": {
              "outlinewidth": 0,
              "ticks": ""
             }
            },
            "type": "parcoords"
           }
          ],
          "pie": [
           {
            "automargin": true,
            "type": "pie"
           }
          ],
          "scatter": [
           {
            "marker": {
             "colorbar": {
              "outlinewidth": 0,
              "ticks": ""
             }
            },
            "type": "scatter"
           }
          ],
          "scatter3d": [
           {
            "line": {
             "colorbar": {
              "outlinewidth": 0,
              "ticks": ""
             }
            },
            "marker": {
             "colorbar": {
              "outlinewidth": 0,
              "ticks": ""
             }
            },
            "type": "scatter3d"
           }
          ],
          "scattercarpet": [
           {
            "marker": {
             "colorbar": {
              "outlinewidth": 0,
              "ticks": ""
             }
            },
            "type": "scattercarpet"
           }
          ],
          "scattergeo": [
           {
            "marker": {
             "colorbar": {
              "outlinewidth": 0,
              "ticks": ""
             }
            },
            "type": "scattergeo"
           }
          ],
          "scattergl": [
           {
            "marker": {
             "colorbar": {
              "outlinewidth": 0,
              "ticks": ""
             }
            },
            "type": "scattergl"
           }
          ],
          "scattermapbox": [
           {
            "marker": {
             "colorbar": {
              "outlinewidth": 0,
              "ticks": ""
             }
            },
            "type": "scattermapbox"
           }
          ],
          "scatterpolar": [
           {
            "marker": {
             "colorbar": {
              "outlinewidth": 0,
              "ticks": ""
             }
            },
            "type": "scatterpolar"
           }
          ],
          "scatterpolargl": [
           {
            "marker": {
             "colorbar": {
              "outlinewidth": 0,
              "ticks": ""
             }
            },
            "type": "scatterpolargl"
           }
          ],
          "scatterternary": [
           {
            "marker": {
             "colorbar": {
              "outlinewidth": 0,
              "ticks": ""
             }
            },
            "type": "scatterternary"
           }
          ],
          "surface": [
           {
            "colorbar": {
             "outlinewidth": 0,
             "ticks": ""
            },
            "colorscale": [
             [
              0,
              "#0d0887"
             ],
             [
              0.1111111111111111,
              "#46039f"
             ],
             [
              0.2222222222222222,
              "#7201a8"
             ],
             [
              0.3333333333333333,
              "#9c179e"
             ],
             [
              0.4444444444444444,
              "#bd3786"
             ],
             [
              0.5555555555555556,
              "#d8576b"
             ],
             [
              0.6666666666666666,
              "#ed7953"
             ],
             [
              0.7777777777777778,
              "#fb9f3a"
             ],
             [
              0.8888888888888888,
              "#fdca26"
             ],
             [
              1,
              "#f0f921"
             ]
            ],
            "type": "surface"
           }
          ],
          "table": [
           {
            "cells": {
             "fill": {
              "color": "#EBF0F8"
             },
             "line": {
              "color": "white"
             }
            },
            "header": {
             "fill": {
              "color": "#C8D4E3"
             },
             "line": {
              "color": "white"
             }
            },
            "type": "table"
           }
          ]
         },
         "layout": {
          "annotationdefaults": {
           "arrowcolor": "#2a3f5f",
           "arrowhead": 0,
           "arrowwidth": 1
          },
          "coloraxis": {
           "colorbar": {
            "outlinewidth": 0,
            "ticks": ""
           }
          },
          "colorscale": {
           "diverging": [
            [
             0,
             "#8e0152"
            ],
            [
             0.1,
             "#c51b7d"
            ],
            [
             0.2,
             "#de77ae"
            ],
            [
             0.3,
             "#f1b6da"
            ],
            [
             0.4,
             "#fde0ef"
            ],
            [
             0.5,
             "#f7f7f7"
            ],
            [
             0.6,
             "#e6f5d0"
            ],
            [
             0.7,
             "#b8e186"
            ],
            [
             0.8,
             "#7fbc41"
            ],
            [
             0.9,
             "#4d9221"
            ],
            [
             1,
             "#276419"
            ]
           ],
           "sequential": [
            [
             0,
             "#0d0887"
            ],
            [
             0.1111111111111111,
             "#46039f"
            ],
            [
             0.2222222222222222,
             "#7201a8"
            ],
            [
             0.3333333333333333,
             "#9c179e"
            ],
            [
             0.4444444444444444,
             "#bd3786"
            ],
            [
             0.5555555555555556,
             "#d8576b"
            ],
            [
             0.6666666666666666,
             "#ed7953"
            ],
            [
             0.7777777777777778,
             "#fb9f3a"
            ],
            [
             0.8888888888888888,
             "#fdca26"
            ],
            [
             1,
             "#f0f921"
            ]
           ],
           "sequentialminus": [
            [
             0,
             "#0d0887"
            ],
            [
             0.1111111111111111,
             "#46039f"
            ],
            [
             0.2222222222222222,
             "#7201a8"
            ],
            [
             0.3333333333333333,
             "#9c179e"
            ],
            [
             0.4444444444444444,
             "#bd3786"
            ],
            [
             0.5555555555555556,
             "#d8576b"
            ],
            [
             0.6666666666666666,
             "#ed7953"
            ],
            [
             0.7777777777777778,
             "#fb9f3a"
            ],
            [
             0.8888888888888888,
             "#fdca26"
            ],
            [
             1,
             "#f0f921"
            ]
           ]
          },
          "colorway": [
           "#636efa",
           "#EF553B",
           "#00cc96",
           "#ab63fa",
           "#FFA15A",
           "#19d3f3",
           "#FF6692",
           "#B6E880",
           "#FF97FF",
           "#FECB52"
          ],
          "font": {
           "color": "#2a3f5f"
          },
          "geo": {
           "bgcolor": "white",
           "lakecolor": "white",
           "landcolor": "#E5ECF6",
           "showlakes": true,
           "showland": true,
           "subunitcolor": "white"
          },
          "hoverlabel": {
           "align": "left"
          },
          "hovermode": "closest",
          "mapbox": {
           "style": "light"
          },
          "paper_bgcolor": "white",
          "plot_bgcolor": "#E5ECF6",
          "polar": {
           "angularaxis": {
            "gridcolor": "white",
            "linecolor": "white",
            "ticks": ""
           },
           "bgcolor": "#E5ECF6",
           "radialaxis": {
            "gridcolor": "white",
            "linecolor": "white",
            "ticks": ""
           }
          },
          "scene": {
           "xaxis": {
            "backgroundcolor": "#E5ECF6",
            "gridcolor": "white",
            "gridwidth": 2,
            "linecolor": "white",
            "showbackground": true,
            "ticks": "",
            "zerolinecolor": "white"
           },
           "yaxis": {
            "backgroundcolor": "#E5ECF6",
            "gridcolor": "white",
            "gridwidth": 2,
            "linecolor": "white",
            "showbackground": true,
            "ticks": "",
            "zerolinecolor": "white"
           },
           "zaxis": {
            "backgroundcolor": "#E5ECF6",
            "gridcolor": "white",
            "gridwidth": 2,
            "linecolor": "white",
            "showbackground": true,
            "ticks": "",
            "zerolinecolor": "white"
           }
          },
          "shapedefaults": {
           "line": {
            "color": "#2a3f5f"
           }
          },
          "ternary": {
           "aaxis": {
            "gridcolor": "white",
            "linecolor": "white",
            "ticks": ""
           },
           "baxis": {
            "gridcolor": "white",
            "linecolor": "white",
            "ticks": ""
           },
           "bgcolor": "#E5ECF6",
           "caxis": {
            "gridcolor": "white",
            "linecolor": "white",
            "ticks": ""
           }
          },
          "title": {
           "x": 0.05
          },
          "xaxis": {
           "automargin": true,
           "gridcolor": "white",
           "linecolor": "white",
           "ticks": "",
           "title": {
            "standoff": 15
           },
           "zerolinecolor": "white",
           "zerolinewidth": 2
          },
          "yaxis": {
           "automargin": true,
           "gridcolor": "white",
           "linecolor": "white",
           "ticks": "",
           "title": {
            "standoff": 15
           },
           "zerolinecolor": "white",
           "zerolinewidth": 2
          }
         }
        },
        "title": {
         "text": "Confermed case in China and China without Hubei",
         "x": 0.5,
         "xanchor": "center",
         "y": 0.95,
         "yanchor": "top"
        },
        "xaxis": {
         "zeroline": false
        },
        "yaxis": {
         "zeroline": false
        }
       }
      },
      "text/html": [
       "<div>\n",
       "        \n",
       "        \n",
       "            <div id=\"3cb87ed4-a8ad-4812-b065-7ac6881500c5\" class=\"plotly-graph-div\" style=\"height:525px; width:100%;\"></div>\n",
       "            <script type=\"text/javascript\">\n",
       "                require([\"plotly\"], function(Plotly) {\n",
       "                    window.PLOTLYENV=window.PLOTLYENV || {};\n",
       "                    \n",
       "                if (document.getElementById(\"3cb87ed4-a8ad-4812-b065-7ac6881500c5\")) {\n",
       "                    Plotly.newPlot(\n",
       "                        '3cb87ed4-a8ad-4812-b065-7ac6881500c5',\n",
       "                        [{\"hovertemplate\": \"<br><b>Date</b>: %{x} <br><b>Confirmed Cases:</b> %{y}<br>\", \"marker\": {\"color\": \"rgb(55, 83, 109)\", \"line\": {\"width\": 2}, \"size\": 5}, \"mode\": \"lines+markers\", \"name\": \"China Confirmed cases\", \"type\": \"scatter\", \"x\": [\"2020-01-22T00:00:00\", \"2020-01-23T00:00:00\", \"2020-01-24T00:00:00\", \"2020-01-25T00:00:00\", \"2020-01-26T00:00:00\", \"2020-01-27T00:00:00\", \"2020-01-28T00:00:00\", \"2020-01-29T00:00:00\", \"2020-01-30T00:00:00\", \"2020-01-31T00:00:00\", \"2020-02-01T00:00:00\", \"2020-02-02T00:00:00\", \"2020-02-03T00:00:00\", \"2020-02-04T00:00:00\", \"2020-02-05T00:00:00\", \"2020-02-06T00:00:00\", \"2020-02-07T00:00:00\", \"2020-02-08T00:00:00\", \"2020-02-09T00:00:00\", \"2020-02-10T00:00:00\", \"2020-02-11T00:00:00\", \"2020-02-12T00:00:00\", \"2020-02-13T00:00:00\", \"2020-02-14T00:00:00\", \"2020-02-15T00:00:00\", \"2020-02-16T00:00:00\", \"2020-02-17T00:00:00\"], \"y\": [549, 639, 916, 1979, 2737, 4409, 5970, 7678, 9658, 11221, 14375, 17114, 20400, 24290, 24405, 30541, 31215, 37198, 40160, 42310, 44641, 59805, 63841, 66292, 68347, 70446, 72364]}, {\"hovertemplate\": \"<br><b>Date</b>: %{x} <br><b>Confirmed Cases:</b> %{y}<br>\", \"marker\": {\"color\": \"rgb(26, 118, 255)\", \"line\": {\"width\": 2}, \"size\": 5}, \"mode\": \"lines+markers\", \"name\": \"China Confirmed cases without Hubei\", \"type\": \"scatter\", \"x\": [\"2020-01-22T00:00:00\", \"2020-01-23T00:00:00\", \"2020-01-24T00:00:00\", \"2020-01-25T00:00:00\", \"2020-01-26T00:00:00\", \"2020-01-27T00:00:00\", \"2020-01-28T00:00:00\", \"2020-01-29T00:00:00\", \"2020-01-30T00:00:00\", \"2020-01-31T00:00:00\", \"2020-02-01T00:00:00\", \"2020-02-02T00:00:00\", \"2020-02-03T00:00:00\", \"2020-02-04T00:00:00\", \"2020-02-05T00:00:00\", \"2020-02-06T00:00:00\", \"2020-02-07T00:00:00\", \"2020-02-08T00:00:00\", \"2020-02-09T00:00:00\", \"2020-02-10T00:00:00\", \"2020-02-11T00:00:00\", \"2020-02-12T00:00:00\", \"2020-02-13T00:00:00\", \"2020-02-14T00:00:00\", \"2020-02-15T00:00:00\", \"2020-02-16T00:00:00\", \"2020-02-17T00:00:00\"], \"y\": [105, 195, 367, 927, 1314, 1695, 2416, 3092, 3852, 4068, 5301, 5937, 6878, 7612, 7727, 8429, 9103, 10098, 10529, 10582, 11275, 11599, 11855, 11886, 12098, 12264, 12375]}],\n",
       "                        {\"hoverlabel\": {\"align\": \"left\"}, \"template\": {\"data\": {\"bar\": [{\"error_x\": {\"color\": \"#2a3f5f\"}, \"error_y\": {\"color\": \"#2a3f5f\"}, \"marker\": {\"line\": {\"color\": \"#E5ECF6\", \"width\": 0.5}}, \"type\": \"bar\"}], \"barpolar\": [{\"marker\": {\"line\": {\"color\": \"#E5ECF6\", \"width\": 0.5}}, \"type\": \"barpolar\"}], \"carpet\": [{\"aaxis\": {\"endlinecolor\": \"#2a3f5f\", \"gridcolor\": \"white\", \"linecolor\": \"white\", \"minorgridcolor\": \"white\", \"startlinecolor\": \"#2a3f5f\"}, \"baxis\": {\"endlinecolor\": \"#2a3f5f\", \"gridcolor\": \"white\", \"linecolor\": \"white\", \"minorgridcolor\": \"white\", \"startlinecolor\": \"#2a3f5f\"}, \"type\": \"carpet\"}], \"choropleth\": [{\"colorbar\": {\"outlinewidth\": 0, \"ticks\": \"\"}, \"type\": \"choropleth\"}], \"contour\": [{\"colorbar\": {\"outlinewidth\": 0, \"ticks\": \"\"}, \"colorscale\": [[0.0, \"#0d0887\"], [0.1111111111111111, \"#46039f\"], [0.2222222222222222, \"#7201a8\"], [0.3333333333333333, \"#9c179e\"], [0.4444444444444444, \"#bd3786\"], [0.5555555555555556, \"#d8576b\"], [0.6666666666666666, \"#ed7953\"], [0.7777777777777778, \"#fb9f3a\"], [0.8888888888888888, \"#fdca26\"], [1.0, \"#f0f921\"]], \"type\": \"contour\"}], \"contourcarpet\": [{\"colorbar\": {\"outlinewidth\": 0, \"ticks\": \"\"}, \"type\": \"contourcarpet\"}], \"heatmap\": [{\"colorbar\": {\"outlinewidth\": 0, \"ticks\": \"\"}, \"colorscale\": [[0.0, \"#0d0887\"], [0.1111111111111111, \"#46039f\"], [0.2222222222222222, \"#7201a8\"], [0.3333333333333333, \"#9c179e\"], [0.4444444444444444, \"#bd3786\"], [0.5555555555555556, \"#d8576b\"], [0.6666666666666666, \"#ed7953\"], [0.7777777777777778, \"#fb9f3a\"], [0.8888888888888888, \"#fdca26\"], [1.0, \"#f0f921\"]], \"type\": \"heatmap\"}], \"heatmapgl\": [{\"colorbar\": {\"outlinewidth\": 0, \"ticks\": \"\"}, \"colorscale\": [[0.0, \"#0d0887\"], [0.1111111111111111, \"#46039f\"], [0.2222222222222222, \"#7201a8\"], [0.3333333333333333, \"#9c179e\"], [0.4444444444444444, \"#bd3786\"], [0.5555555555555556, \"#d8576b\"], [0.6666666666666666, \"#ed7953\"], [0.7777777777777778, \"#fb9f3a\"], [0.8888888888888888, \"#fdca26\"], [1.0, \"#f0f921\"]], \"type\": \"heatmapgl\"}], \"histogram\": [{\"marker\": {\"colorbar\": {\"outlinewidth\": 0, \"ticks\": \"\"}}, \"type\": \"histogram\"}], \"histogram2d\": [{\"colorbar\": {\"outlinewidth\": 0, \"ticks\": \"\"}, \"colorscale\": [[0.0, \"#0d0887\"], [0.1111111111111111, \"#46039f\"], [0.2222222222222222, \"#7201a8\"], [0.3333333333333333, \"#9c179e\"], [0.4444444444444444, \"#bd3786\"], [0.5555555555555556, \"#d8576b\"], [0.6666666666666666, \"#ed7953\"], [0.7777777777777778, \"#fb9f3a\"], [0.8888888888888888, \"#fdca26\"], [1.0, \"#f0f921\"]], \"type\": \"histogram2d\"}], \"histogram2dcontour\": [{\"colorbar\": {\"outlinewidth\": 0, \"ticks\": \"\"}, \"colorscale\": [[0.0, \"#0d0887\"], [0.1111111111111111, \"#46039f\"], [0.2222222222222222, \"#7201a8\"], [0.3333333333333333, \"#9c179e\"], [0.4444444444444444, \"#bd3786\"], [0.5555555555555556, \"#d8576b\"], [0.6666666666666666, \"#ed7953\"], [0.7777777777777778, \"#fb9f3a\"], [0.8888888888888888, \"#fdca26\"], [1.0, \"#f0f921\"]], \"type\": \"histogram2dcontour\"}], \"mesh3d\": [{\"colorbar\": {\"outlinewidth\": 0, \"ticks\": \"\"}, \"type\": \"mesh3d\"}], \"parcoords\": [{\"line\": {\"colorbar\": {\"outlinewidth\": 0, \"ticks\": \"\"}}, \"type\": \"parcoords\"}], \"pie\": [{\"automargin\": true, \"type\": \"pie\"}], \"scatter\": [{\"marker\": {\"colorbar\": {\"outlinewidth\": 0, \"ticks\": \"\"}}, \"type\": \"scatter\"}], \"scatter3d\": [{\"line\": {\"colorbar\": {\"outlinewidth\": 0, \"ticks\": \"\"}}, \"marker\": {\"colorbar\": {\"outlinewidth\": 0, \"ticks\": \"\"}}, \"type\": \"scatter3d\"}], \"scattercarpet\": [{\"marker\": {\"colorbar\": {\"outlinewidth\": 0, \"ticks\": \"\"}}, \"type\": \"scattercarpet\"}], \"scattergeo\": [{\"marker\": {\"colorbar\": {\"outlinewidth\": 0, \"ticks\": \"\"}}, \"type\": \"scattergeo\"}], \"scattergl\": [{\"marker\": {\"colorbar\": {\"outlinewidth\": 0, \"ticks\": \"\"}}, \"type\": \"scattergl\"}], \"scattermapbox\": [{\"marker\": {\"colorbar\": {\"outlinewidth\": 0, \"ticks\": \"\"}}, \"type\": \"scattermapbox\"}], \"scatterpolar\": [{\"marker\": {\"colorbar\": {\"outlinewidth\": 0, \"ticks\": \"\"}}, \"type\": \"scatterpolar\"}], \"scatterpolargl\": [{\"marker\": {\"colorbar\": {\"outlinewidth\": 0, \"ticks\": \"\"}}, \"type\": \"scatterpolargl\"}], \"scatterternary\": [{\"marker\": {\"colorbar\": {\"outlinewidth\": 0, \"ticks\": \"\"}}, \"type\": \"scatterternary\"}], \"surface\": [{\"colorbar\": {\"outlinewidth\": 0, \"ticks\": \"\"}, \"colorscale\": [[0.0, \"#0d0887\"], [0.1111111111111111, \"#46039f\"], [0.2222222222222222, \"#7201a8\"], [0.3333333333333333, \"#9c179e\"], [0.4444444444444444, \"#bd3786\"], [0.5555555555555556, \"#d8576b\"], [0.6666666666666666, \"#ed7953\"], [0.7777777777777778, \"#fb9f3a\"], [0.8888888888888888, \"#fdca26\"], [1.0, \"#f0f921\"]], \"type\": \"surface\"}], \"table\": [{\"cells\": {\"fill\": {\"color\": \"#EBF0F8\"}, \"line\": {\"color\": \"white\"}}, \"header\": {\"fill\": {\"color\": \"#C8D4E3\"}, \"line\": {\"color\": \"white\"}}, \"type\": \"table\"}]}, \"layout\": {\"annotationdefaults\": {\"arrowcolor\": \"#2a3f5f\", \"arrowhead\": 0, \"arrowwidth\": 1}, \"coloraxis\": {\"colorbar\": {\"outlinewidth\": 0, \"ticks\": \"\"}}, \"colorscale\": {\"diverging\": [[0, \"#8e0152\"], [0.1, \"#c51b7d\"], [0.2, \"#de77ae\"], [0.3, \"#f1b6da\"], [0.4, \"#fde0ef\"], [0.5, \"#f7f7f7\"], [0.6, \"#e6f5d0\"], [0.7, \"#b8e186\"], [0.8, \"#7fbc41\"], [0.9, \"#4d9221\"], [1, \"#276419\"]], \"sequential\": [[0.0, \"#0d0887\"], [0.1111111111111111, \"#46039f\"], [0.2222222222222222, \"#7201a8\"], [0.3333333333333333, \"#9c179e\"], [0.4444444444444444, \"#bd3786\"], [0.5555555555555556, \"#d8576b\"], [0.6666666666666666, \"#ed7953\"], [0.7777777777777778, \"#fb9f3a\"], [0.8888888888888888, \"#fdca26\"], [1.0, \"#f0f921\"]], \"sequentialminus\": [[0.0, \"#0d0887\"], [0.1111111111111111, \"#46039f\"], [0.2222222222222222, \"#7201a8\"], [0.3333333333333333, \"#9c179e\"], [0.4444444444444444, \"#bd3786\"], [0.5555555555555556, \"#d8576b\"], [0.6666666666666666, \"#ed7953\"], [0.7777777777777778, \"#fb9f3a\"], [0.8888888888888888, \"#fdca26\"], [1.0, \"#f0f921\"]]}, \"colorway\": [\"#636efa\", \"#EF553B\", \"#00cc96\", \"#ab63fa\", \"#FFA15A\", \"#19d3f3\", \"#FF6692\", \"#B6E880\", \"#FF97FF\", \"#FECB52\"], \"font\": {\"color\": \"#2a3f5f\"}, \"geo\": {\"bgcolor\": \"white\", \"lakecolor\": \"white\", \"landcolor\": \"#E5ECF6\", \"showlakes\": true, \"showland\": true, \"subunitcolor\": \"white\"}, \"hoverlabel\": {\"align\": \"left\"}, \"hovermode\": \"closest\", \"mapbox\": {\"style\": \"light\"}, \"paper_bgcolor\": \"white\", \"plot_bgcolor\": \"#E5ECF6\", \"polar\": {\"angularaxis\": {\"gridcolor\": \"white\", \"linecolor\": \"white\", \"ticks\": \"\"}, \"bgcolor\": \"#E5ECF6\", \"radialaxis\": {\"gridcolor\": \"white\", \"linecolor\": \"white\", \"ticks\": \"\"}}, \"scene\": {\"xaxis\": {\"backgroundcolor\": \"#E5ECF6\", \"gridcolor\": \"white\", \"gridwidth\": 2, \"linecolor\": \"white\", \"showbackground\": true, \"ticks\": \"\", \"zerolinecolor\": \"white\"}, \"yaxis\": {\"backgroundcolor\": \"#E5ECF6\", \"gridcolor\": \"white\", \"gridwidth\": 2, \"linecolor\": \"white\", \"showbackground\": true, \"ticks\": \"\", \"zerolinecolor\": \"white\"}, \"zaxis\": {\"backgroundcolor\": \"#E5ECF6\", \"gridcolor\": \"white\", \"gridwidth\": 2, \"linecolor\": \"white\", \"showbackground\": true, \"ticks\": \"\", \"zerolinecolor\": \"white\"}}, \"shapedefaults\": {\"line\": {\"color\": \"#2a3f5f\"}}, \"ternary\": {\"aaxis\": {\"gridcolor\": \"white\", \"linecolor\": \"white\", \"ticks\": \"\"}, \"baxis\": {\"gridcolor\": \"white\", \"linecolor\": \"white\", \"ticks\": \"\"}, \"bgcolor\": \"#E5ECF6\", \"caxis\": {\"gridcolor\": \"white\", \"linecolor\": \"white\", \"ticks\": \"\"}}, \"title\": {\"x\": 0.05}, \"xaxis\": {\"automargin\": true, \"gridcolor\": \"white\", \"linecolor\": \"white\", \"ticks\": \"\", \"title\": {\"standoff\": 15}, \"zerolinecolor\": \"white\", \"zerolinewidth\": 2}, \"yaxis\": {\"automargin\": true, \"gridcolor\": \"white\", \"linecolor\": \"white\", \"ticks\": \"\", \"title\": {\"standoff\": 15}, \"zerolinecolor\": \"white\", \"zerolinewidth\": 2}}}, \"title\": {\"text\": \"Confermed case in China and China without Hubei\", \"x\": 0.5, \"xanchor\": \"center\", \"y\": 0.95, \"yanchor\": \"top\"}, \"xaxis\": {\"zeroline\": false}, \"yaxis\": {\"zeroline\": false}},\n",
       "                        {\"responsive\": true}\n",
       "                    ).then(function(){\n",
       "                            \n",
       "var gd = document.getElementById('3cb87ed4-a8ad-4812-b065-7ac6881500c5');\n",
       "var x = new MutationObserver(function (mutations, observer) {{\n",
       "        var display = window.getComputedStyle(gd).display;\n",
       "        if (!display || display === 'none') {{\n",
       "            console.log([gd, 'removed!']);\n",
       "            Plotly.purge(gd);\n",
       "            observer.disconnect();\n",
       "        }}\n",
       "}});\n",
       "\n",
       "// Listen for the removal of the full notebook cells\n",
       "var notebookContainer = gd.closest('#notebook-container');\n",
       "if (notebookContainer) {{\n",
       "    x.observe(notebookContainer, {childList: true});\n",
       "}}\n",
       "\n",
       "// Listen for the clearing of the current output cell\n",
       "var outputEl = gd.closest('.output');\n",
       "if (outputEl) {{\n",
       "    x.observe(outputEl, {childList: true});\n",
       "}}\n",
       "\n",
       "                        })\n",
       "                };\n",
       "                });\n",
       "            </script>\n",
       "        </div>"
      ]
     },
     "metadata": {},
     "output_type": "display_data"
    }
   ],
   "source": [
    "fig = go.Figure()\n",
    "\n",
    "fig.add_trace(\n",
    "    go.Scatter(\n",
    "        x=df_China_grouped.Date,\n",
    "        y=df_China_grouped.Confirmed,\n",
    "        name='China Confirmed cases',\n",
    "        mode='lines+markers',\n",
    "        marker_color = 'rgb(55, 83, 109)',\n",
    "        hovertemplate =\n",
    "        '<br><b>Date</b>: %{x} <br>' +\n",
    "        '<b>Confirmed Cases:</b> %{y}<br>'\n",
    "    )\n",
    ")\n",
    "fig.add_trace(\n",
    "    go.Scatter(\n",
    "        x=df_China_without_Hubei_grouped.Date,\n",
    "        y=df_China_without_Hubei_grouped.Confirmed,\n",
    "        name='China Confirmed cases without Hubei',\n",
    "        mode='lines+markers',\n",
    "        marker_color = 'rgb(26, 118, 255)',\n",
    "        hovertemplate =\n",
    "        '<br><b>Date</b>: %{x} <br>' +\n",
    "        '<b>Confirmed Cases:</b> %{y}<br>'\n",
    "    )\n",
    ")\n",
    "\n",
    "fig.update_traces(\n",
    "    mode='lines+markers',\n",
    "    marker_line_width=2,\n",
    "    marker_size=5\n",
    ")\n",
    "fig.update_layout(\n",
    "    title={'text': 'Confermed case in China and China without Hubei',\n",
    "           'y':0.95,\n",
    "           'x':0.5,\n",
    "           'xanchor': 'center',\n",
    "           'yanchor': 'top'},\n",
    "    yaxis_zeroline=False,\n",
    "    xaxis_zeroline=False,\n",
    "    hoverlabel_align = 'left',\n",
    ")\n",
    "\n",
    "fig.show()"
   ]
  },
  {
   "cell_type": "code",
   "execution_count": 173,
   "metadata": {},
   "outputs": [
    {
     "data": {
      "application/vnd.plotly.v1+json": {
       "config": {
        "plotlyServerURL": "https://plot.ly"
       },
       "data": [
        {
         "hovertemplate": "<br><b>Date</b>: %{x} <br><b>Confirmed Cases:</b> %{y}<br>",
         "marker": {
          "color": "rgb(55, 83, 109)",
          "line": {
           "width": 2
          },
          "size": 5
         },
         "mode": "lines+markers",
         "name": "China Confirmed cases in SG",
         "type": "scatter",
         "x": [
          "2020-01-23T00:00:00",
          "2020-01-24T00:00:00",
          "2020-01-25T00:00:00",
          "2020-01-26T00:00:00",
          "2020-01-27T00:00:00",
          "2020-01-28T00:00:00",
          "2020-01-29T00:00:00",
          "2020-01-30T00:00:00",
          "2020-01-31T00:00:00",
          "2020-02-01T00:00:00",
          "2020-02-02T00:00:00",
          "2020-02-03T00:00:00",
          "2020-02-04T00:00:00",
          "2020-02-05T00:00:00",
          "2020-02-06T00:00:00",
          "2020-02-07T00:00:00",
          "2020-02-08T00:00:00",
          "2020-02-09T00:00:00",
          "2020-02-10T00:00:00",
          "2020-02-11T00:00:00",
          "2020-02-12T00:00:00",
          "2020-02-13T00:00:00",
          "2020-02-14T00:00:00",
          "2020-02-15T00:00:00",
          "2020-02-16T00:00:00",
          "2020-02-17T00:00:00"
         ],
         "y": [
          1,
          3,
          3,
          4,
          5,
          7,
          10,
          10,
          16,
          18,
          18,
          18,
          24,
          28,
          28,
          30,
          40,
          43,
          45,
          47,
          50,
          58,
          67,
          72,
          75,
          77
         ]
        }
       ],
       "layout": {
        "hoverlabel": {
         "align": "left"
        },
        "template": {
         "data": {
          "bar": [
           {
            "error_x": {
             "color": "#2a3f5f"
            },
            "error_y": {
             "color": "#2a3f5f"
            },
            "marker": {
             "line": {
              "color": "#E5ECF6",
              "width": 0.5
             }
            },
            "type": "bar"
           }
          ],
          "barpolar": [
           {
            "marker": {
             "line": {
              "color": "#E5ECF6",
              "width": 0.5
             }
            },
            "type": "barpolar"
           }
          ],
          "carpet": [
           {
            "aaxis": {
             "endlinecolor": "#2a3f5f",
             "gridcolor": "white",
             "linecolor": "white",
             "minorgridcolor": "white",
             "startlinecolor": "#2a3f5f"
            },
            "baxis": {
             "endlinecolor": "#2a3f5f",
             "gridcolor": "white",
             "linecolor": "white",
             "minorgridcolor": "white",
             "startlinecolor": "#2a3f5f"
            },
            "type": "carpet"
           }
          ],
          "choropleth": [
           {
            "colorbar": {
             "outlinewidth": 0,
             "ticks": ""
            },
            "type": "choropleth"
           }
          ],
          "contour": [
           {
            "colorbar": {
             "outlinewidth": 0,
             "ticks": ""
            },
            "colorscale": [
             [
              0,
              "#0d0887"
             ],
             [
              0.1111111111111111,
              "#46039f"
             ],
             [
              0.2222222222222222,
              "#7201a8"
             ],
             [
              0.3333333333333333,
              "#9c179e"
             ],
             [
              0.4444444444444444,
              "#bd3786"
             ],
             [
              0.5555555555555556,
              "#d8576b"
             ],
             [
              0.6666666666666666,
              "#ed7953"
             ],
             [
              0.7777777777777778,
              "#fb9f3a"
             ],
             [
              0.8888888888888888,
              "#fdca26"
             ],
             [
              1,
              "#f0f921"
             ]
            ],
            "type": "contour"
           }
          ],
          "contourcarpet": [
           {
            "colorbar": {
             "outlinewidth": 0,
             "ticks": ""
            },
            "type": "contourcarpet"
           }
          ],
          "heatmap": [
           {
            "colorbar": {
             "outlinewidth": 0,
             "ticks": ""
            },
            "colorscale": [
             [
              0,
              "#0d0887"
             ],
             [
              0.1111111111111111,
              "#46039f"
             ],
             [
              0.2222222222222222,
              "#7201a8"
             ],
             [
              0.3333333333333333,
              "#9c179e"
             ],
             [
              0.4444444444444444,
              "#bd3786"
             ],
             [
              0.5555555555555556,
              "#d8576b"
             ],
             [
              0.6666666666666666,
              "#ed7953"
             ],
             [
              0.7777777777777778,
              "#fb9f3a"
             ],
             [
              0.8888888888888888,
              "#fdca26"
             ],
             [
              1,
              "#f0f921"
             ]
            ],
            "type": "heatmap"
           }
          ],
          "heatmapgl": [
           {
            "colorbar": {
             "outlinewidth": 0,
             "ticks": ""
            },
            "colorscale": [
             [
              0,
              "#0d0887"
             ],
             [
              0.1111111111111111,
              "#46039f"
             ],
             [
              0.2222222222222222,
              "#7201a8"
             ],
             [
              0.3333333333333333,
              "#9c179e"
             ],
             [
              0.4444444444444444,
              "#bd3786"
             ],
             [
              0.5555555555555556,
              "#d8576b"
             ],
             [
              0.6666666666666666,
              "#ed7953"
             ],
             [
              0.7777777777777778,
              "#fb9f3a"
             ],
             [
              0.8888888888888888,
              "#fdca26"
             ],
             [
              1,
              "#f0f921"
             ]
            ],
            "type": "heatmapgl"
           }
          ],
          "histogram": [
           {
            "marker": {
             "colorbar": {
              "outlinewidth": 0,
              "ticks": ""
             }
            },
            "type": "histogram"
           }
          ],
          "histogram2d": [
           {
            "colorbar": {
             "outlinewidth": 0,
             "ticks": ""
            },
            "colorscale": [
             [
              0,
              "#0d0887"
             ],
             [
              0.1111111111111111,
              "#46039f"
             ],
             [
              0.2222222222222222,
              "#7201a8"
             ],
             [
              0.3333333333333333,
              "#9c179e"
             ],
             [
              0.4444444444444444,
              "#bd3786"
             ],
             [
              0.5555555555555556,
              "#d8576b"
             ],
             [
              0.6666666666666666,
              "#ed7953"
             ],
             [
              0.7777777777777778,
              "#fb9f3a"
             ],
             [
              0.8888888888888888,
              "#fdca26"
             ],
             [
              1,
              "#f0f921"
             ]
            ],
            "type": "histogram2d"
           }
          ],
          "histogram2dcontour": [
           {
            "colorbar": {
             "outlinewidth": 0,
             "ticks": ""
            },
            "colorscale": [
             [
              0,
              "#0d0887"
             ],
             [
              0.1111111111111111,
              "#46039f"
             ],
             [
              0.2222222222222222,
              "#7201a8"
             ],
             [
              0.3333333333333333,
              "#9c179e"
             ],
             [
              0.4444444444444444,
              "#bd3786"
             ],
             [
              0.5555555555555556,
              "#d8576b"
             ],
             [
              0.6666666666666666,
              "#ed7953"
             ],
             [
              0.7777777777777778,
              "#fb9f3a"
             ],
             [
              0.8888888888888888,
              "#fdca26"
             ],
             [
              1,
              "#f0f921"
             ]
            ],
            "type": "histogram2dcontour"
           }
          ],
          "mesh3d": [
           {
            "colorbar": {
             "outlinewidth": 0,
             "ticks": ""
            },
            "type": "mesh3d"
           }
          ],
          "parcoords": [
           {
            "line": {
             "colorbar": {
              "outlinewidth": 0,
              "ticks": ""
             }
            },
            "type": "parcoords"
           }
          ],
          "pie": [
           {
            "automargin": true,
            "type": "pie"
           }
          ],
          "scatter": [
           {
            "marker": {
             "colorbar": {
              "outlinewidth": 0,
              "ticks": ""
             }
            },
            "type": "scatter"
           }
          ],
          "scatter3d": [
           {
            "line": {
             "colorbar": {
              "outlinewidth": 0,
              "ticks": ""
             }
            },
            "marker": {
             "colorbar": {
              "outlinewidth": 0,
              "ticks": ""
             }
            },
            "type": "scatter3d"
           }
          ],
          "scattercarpet": [
           {
            "marker": {
             "colorbar": {
              "outlinewidth": 0,
              "ticks": ""
             }
            },
            "type": "scattercarpet"
           }
          ],
          "scattergeo": [
           {
            "marker": {
             "colorbar": {
              "outlinewidth": 0,
              "ticks": ""
             }
            },
            "type": "scattergeo"
           }
          ],
          "scattergl": [
           {
            "marker": {
             "colorbar": {
              "outlinewidth": 0,
              "ticks": ""
             }
            },
            "type": "scattergl"
           }
          ],
          "scattermapbox": [
           {
            "marker": {
             "colorbar": {
              "outlinewidth": 0,
              "ticks": ""
             }
            },
            "type": "scattermapbox"
           }
          ],
          "scatterpolar": [
           {
            "marker": {
             "colorbar": {
              "outlinewidth": 0,
              "ticks": ""
             }
            },
            "type": "scatterpolar"
           }
          ],
          "scatterpolargl": [
           {
            "marker": {
             "colorbar": {
              "outlinewidth": 0,
              "ticks": ""
             }
            },
            "type": "scatterpolargl"
           }
          ],
          "scatterternary": [
           {
            "marker": {
             "colorbar": {
              "outlinewidth": 0,
              "ticks": ""
             }
            },
            "type": "scatterternary"
           }
          ],
          "surface": [
           {
            "colorbar": {
             "outlinewidth": 0,
             "ticks": ""
            },
            "colorscale": [
             [
              0,
              "#0d0887"
             ],
             [
              0.1111111111111111,
              "#46039f"
             ],
             [
              0.2222222222222222,
              "#7201a8"
             ],
             [
              0.3333333333333333,
              "#9c179e"
             ],
             [
              0.4444444444444444,
              "#bd3786"
             ],
             [
              0.5555555555555556,
              "#d8576b"
             ],
             [
              0.6666666666666666,
              "#ed7953"
             ],
             [
              0.7777777777777778,
              "#fb9f3a"
             ],
             [
              0.8888888888888888,
              "#fdca26"
             ],
             [
              1,
              "#f0f921"
             ]
            ],
            "type": "surface"
           }
          ],
          "table": [
           {
            "cells": {
             "fill": {
              "color": "#EBF0F8"
             },
             "line": {
              "color": "white"
             }
            },
            "header": {
             "fill": {
              "color": "#C8D4E3"
             },
             "line": {
              "color": "white"
             }
            },
            "type": "table"
           }
          ]
         },
         "layout": {
          "annotationdefaults": {
           "arrowcolor": "#2a3f5f",
           "arrowhead": 0,
           "arrowwidth": 1
          },
          "coloraxis": {
           "colorbar": {
            "outlinewidth": 0,
            "ticks": ""
           }
          },
          "colorscale": {
           "diverging": [
            [
             0,
             "#8e0152"
            ],
            [
             0.1,
             "#c51b7d"
            ],
            [
             0.2,
             "#de77ae"
            ],
            [
             0.3,
             "#f1b6da"
            ],
            [
             0.4,
             "#fde0ef"
            ],
            [
             0.5,
             "#f7f7f7"
            ],
            [
             0.6,
             "#e6f5d0"
            ],
            [
             0.7,
             "#b8e186"
            ],
            [
             0.8,
             "#7fbc41"
            ],
            [
             0.9,
             "#4d9221"
            ],
            [
             1,
             "#276419"
            ]
           ],
           "sequential": [
            [
             0,
             "#0d0887"
            ],
            [
             0.1111111111111111,
             "#46039f"
            ],
            [
             0.2222222222222222,
             "#7201a8"
            ],
            [
             0.3333333333333333,
             "#9c179e"
            ],
            [
             0.4444444444444444,
             "#bd3786"
            ],
            [
             0.5555555555555556,
             "#d8576b"
            ],
            [
             0.6666666666666666,
             "#ed7953"
            ],
            [
             0.7777777777777778,
             "#fb9f3a"
            ],
            [
             0.8888888888888888,
             "#fdca26"
            ],
            [
             1,
             "#f0f921"
            ]
           ],
           "sequentialminus": [
            [
             0,
             "#0d0887"
            ],
            [
             0.1111111111111111,
             "#46039f"
            ],
            [
             0.2222222222222222,
             "#7201a8"
            ],
            [
             0.3333333333333333,
             "#9c179e"
            ],
            [
             0.4444444444444444,
             "#bd3786"
            ],
            [
             0.5555555555555556,
             "#d8576b"
            ],
            [
             0.6666666666666666,
             "#ed7953"
            ],
            [
             0.7777777777777778,
             "#fb9f3a"
            ],
            [
             0.8888888888888888,
             "#fdca26"
            ],
            [
             1,
             "#f0f921"
            ]
           ]
          },
          "colorway": [
           "#636efa",
           "#EF553B",
           "#00cc96",
           "#ab63fa",
           "#FFA15A",
           "#19d3f3",
           "#FF6692",
           "#B6E880",
           "#FF97FF",
           "#FECB52"
          ],
          "font": {
           "color": "#2a3f5f"
          },
          "geo": {
           "bgcolor": "white",
           "lakecolor": "white",
           "landcolor": "#E5ECF6",
           "showlakes": true,
           "showland": true,
           "subunitcolor": "white"
          },
          "hoverlabel": {
           "align": "left"
          },
          "hovermode": "closest",
          "mapbox": {
           "style": "light"
          },
          "paper_bgcolor": "white",
          "plot_bgcolor": "#E5ECF6",
          "polar": {
           "angularaxis": {
            "gridcolor": "white",
            "linecolor": "white",
            "ticks": ""
           },
           "bgcolor": "#E5ECF6",
           "radialaxis": {
            "gridcolor": "white",
            "linecolor": "white",
            "ticks": ""
           }
          },
          "scene": {
           "xaxis": {
            "backgroundcolor": "#E5ECF6",
            "gridcolor": "white",
            "gridwidth": 2,
            "linecolor": "white",
            "showbackground": true,
            "ticks": "",
            "zerolinecolor": "white"
           },
           "yaxis": {
            "backgroundcolor": "#E5ECF6",
            "gridcolor": "white",
            "gridwidth": 2,
            "linecolor": "white",
            "showbackground": true,
            "ticks": "",
            "zerolinecolor": "white"
           },
           "zaxis": {
            "backgroundcolor": "#E5ECF6",
            "gridcolor": "white",
            "gridwidth": 2,
            "linecolor": "white",
            "showbackground": true,
            "ticks": "",
            "zerolinecolor": "white"
           }
          },
          "shapedefaults": {
           "line": {
            "color": "#2a3f5f"
           }
          },
          "ternary": {
           "aaxis": {
            "gridcolor": "white",
            "linecolor": "white",
            "ticks": ""
           },
           "baxis": {
            "gridcolor": "white",
            "linecolor": "white",
            "ticks": ""
           },
           "bgcolor": "#E5ECF6",
           "caxis": {
            "gridcolor": "white",
            "linecolor": "white",
            "ticks": ""
           }
          },
          "title": {
           "x": 0.05
          },
          "xaxis": {
           "automargin": true,
           "gridcolor": "white",
           "linecolor": "white",
           "ticks": "",
           "title": {
            "standoff": 15
           },
           "zerolinecolor": "white",
           "zerolinewidth": 2
          },
          "yaxis": {
           "automargin": true,
           "gridcolor": "white",
           "linecolor": "white",
           "ticks": "",
           "title": {
            "standoff": 15
           },
           "zerolinecolor": "white",
           "zerolinewidth": 2
          }
         }
        },
        "title": {
         "text": "Confermed case in Singapore",
         "x": 0.5,
         "xanchor": "center",
         "y": 0.95,
         "yanchor": "top"
        },
        "xaxis": {
         "zeroline": false
        },
        "yaxis": {
         "zeroline": false
        }
       }
      },
      "text/html": [
       "<div>\n",
       "        \n",
       "        \n",
       "            <div id=\"c89ac24a-6a3b-48fa-9587-8b7d704e68a0\" class=\"plotly-graph-div\" style=\"height:525px; width:100%;\"></div>\n",
       "            <script type=\"text/javascript\">\n",
       "                require([\"plotly\"], function(Plotly) {\n",
       "                    window.PLOTLYENV=window.PLOTLYENV || {};\n",
       "                    \n",
       "                if (document.getElementById(\"c89ac24a-6a3b-48fa-9587-8b7d704e68a0\")) {\n",
       "                    Plotly.newPlot(\n",
       "                        'c89ac24a-6a3b-48fa-9587-8b7d704e68a0',\n",
       "                        [{\"hovertemplate\": \"<br><b>Date</b>: %{x} <br><b>Confirmed Cases:</b> %{y}<br>\", \"marker\": {\"color\": \"rgb(55, 83, 109)\", \"line\": {\"width\": 2}, \"size\": 5}, \"mode\": \"lines+markers\", \"name\": \"China Confirmed cases in SG\", \"type\": \"scatter\", \"x\": [\"2020-01-23T00:00:00\", \"2020-01-24T00:00:00\", \"2020-01-25T00:00:00\", \"2020-01-26T00:00:00\", \"2020-01-27T00:00:00\", \"2020-01-28T00:00:00\", \"2020-01-29T00:00:00\", \"2020-01-30T00:00:00\", \"2020-01-31T00:00:00\", \"2020-02-01T00:00:00\", \"2020-02-02T00:00:00\", \"2020-02-03T00:00:00\", \"2020-02-04T00:00:00\", \"2020-02-05T00:00:00\", \"2020-02-06T00:00:00\", \"2020-02-07T00:00:00\", \"2020-02-08T00:00:00\", \"2020-02-09T00:00:00\", \"2020-02-10T00:00:00\", \"2020-02-11T00:00:00\", \"2020-02-12T00:00:00\", \"2020-02-13T00:00:00\", \"2020-02-14T00:00:00\", \"2020-02-15T00:00:00\", \"2020-02-16T00:00:00\", \"2020-02-17T00:00:00\"], \"y\": [1, 3, 3, 4, 5, 7, 10, 10, 16, 18, 18, 18, 24, 28, 28, 30, 40, 43, 45, 47, 50, 58, 67, 72, 75, 77]}],\n",
       "                        {\"hoverlabel\": {\"align\": \"left\"}, \"template\": {\"data\": {\"bar\": [{\"error_x\": {\"color\": \"#2a3f5f\"}, \"error_y\": {\"color\": \"#2a3f5f\"}, \"marker\": {\"line\": {\"color\": \"#E5ECF6\", \"width\": 0.5}}, \"type\": \"bar\"}], \"barpolar\": [{\"marker\": {\"line\": {\"color\": \"#E5ECF6\", \"width\": 0.5}}, \"type\": \"barpolar\"}], \"carpet\": [{\"aaxis\": {\"endlinecolor\": \"#2a3f5f\", \"gridcolor\": \"white\", \"linecolor\": \"white\", \"minorgridcolor\": \"white\", \"startlinecolor\": \"#2a3f5f\"}, \"baxis\": {\"endlinecolor\": \"#2a3f5f\", \"gridcolor\": \"white\", \"linecolor\": \"white\", \"minorgridcolor\": \"white\", \"startlinecolor\": \"#2a3f5f\"}, \"type\": \"carpet\"}], \"choropleth\": [{\"colorbar\": {\"outlinewidth\": 0, \"ticks\": \"\"}, \"type\": \"choropleth\"}], \"contour\": [{\"colorbar\": {\"outlinewidth\": 0, \"ticks\": \"\"}, \"colorscale\": [[0.0, \"#0d0887\"], [0.1111111111111111, \"#46039f\"], [0.2222222222222222, \"#7201a8\"], [0.3333333333333333, \"#9c179e\"], [0.4444444444444444, \"#bd3786\"], [0.5555555555555556, \"#d8576b\"], [0.6666666666666666, \"#ed7953\"], [0.7777777777777778, \"#fb9f3a\"], [0.8888888888888888, \"#fdca26\"], [1.0, \"#f0f921\"]], \"type\": \"contour\"}], \"contourcarpet\": [{\"colorbar\": {\"outlinewidth\": 0, \"ticks\": \"\"}, \"type\": \"contourcarpet\"}], \"heatmap\": [{\"colorbar\": {\"outlinewidth\": 0, \"ticks\": \"\"}, \"colorscale\": [[0.0, \"#0d0887\"], [0.1111111111111111, \"#46039f\"], [0.2222222222222222, \"#7201a8\"], [0.3333333333333333, \"#9c179e\"], [0.4444444444444444, \"#bd3786\"], [0.5555555555555556, \"#d8576b\"], [0.6666666666666666, \"#ed7953\"], [0.7777777777777778, \"#fb9f3a\"], [0.8888888888888888, \"#fdca26\"], [1.0, \"#f0f921\"]], \"type\": \"heatmap\"}], \"heatmapgl\": [{\"colorbar\": {\"outlinewidth\": 0, \"ticks\": \"\"}, \"colorscale\": [[0.0, \"#0d0887\"], [0.1111111111111111, \"#46039f\"], [0.2222222222222222, \"#7201a8\"], [0.3333333333333333, \"#9c179e\"], [0.4444444444444444, \"#bd3786\"], [0.5555555555555556, \"#d8576b\"], [0.6666666666666666, \"#ed7953\"], [0.7777777777777778, \"#fb9f3a\"], [0.8888888888888888, \"#fdca26\"], [1.0, \"#f0f921\"]], \"type\": \"heatmapgl\"}], \"histogram\": [{\"marker\": {\"colorbar\": {\"outlinewidth\": 0, \"ticks\": \"\"}}, \"type\": \"histogram\"}], \"histogram2d\": [{\"colorbar\": {\"outlinewidth\": 0, \"ticks\": \"\"}, \"colorscale\": [[0.0, \"#0d0887\"], [0.1111111111111111, \"#46039f\"], [0.2222222222222222, \"#7201a8\"], [0.3333333333333333, \"#9c179e\"], [0.4444444444444444, \"#bd3786\"], [0.5555555555555556, \"#d8576b\"], [0.6666666666666666, \"#ed7953\"], [0.7777777777777778, \"#fb9f3a\"], [0.8888888888888888, \"#fdca26\"], [1.0, \"#f0f921\"]], \"type\": \"histogram2d\"}], \"histogram2dcontour\": [{\"colorbar\": {\"outlinewidth\": 0, \"ticks\": \"\"}, \"colorscale\": [[0.0, \"#0d0887\"], [0.1111111111111111, \"#46039f\"], [0.2222222222222222, \"#7201a8\"], [0.3333333333333333, \"#9c179e\"], [0.4444444444444444, \"#bd3786\"], [0.5555555555555556, \"#d8576b\"], [0.6666666666666666, \"#ed7953\"], [0.7777777777777778, \"#fb9f3a\"], [0.8888888888888888, \"#fdca26\"], [1.0, \"#f0f921\"]], \"type\": \"histogram2dcontour\"}], \"mesh3d\": [{\"colorbar\": {\"outlinewidth\": 0, \"ticks\": \"\"}, \"type\": \"mesh3d\"}], \"parcoords\": [{\"line\": {\"colorbar\": {\"outlinewidth\": 0, \"ticks\": \"\"}}, \"type\": \"parcoords\"}], \"pie\": [{\"automargin\": true, \"type\": \"pie\"}], \"scatter\": [{\"marker\": {\"colorbar\": {\"outlinewidth\": 0, \"ticks\": \"\"}}, \"type\": \"scatter\"}], \"scatter3d\": [{\"line\": {\"colorbar\": {\"outlinewidth\": 0, \"ticks\": \"\"}}, \"marker\": {\"colorbar\": {\"outlinewidth\": 0, \"ticks\": \"\"}}, \"type\": \"scatter3d\"}], \"scattercarpet\": [{\"marker\": {\"colorbar\": {\"outlinewidth\": 0, \"ticks\": \"\"}}, \"type\": \"scattercarpet\"}], \"scattergeo\": [{\"marker\": {\"colorbar\": {\"outlinewidth\": 0, \"ticks\": \"\"}}, \"type\": \"scattergeo\"}], \"scattergl\": [{\"marker\": {\"colorbar\": {\"outlinewidth\": 0, \"ticks\": \"\"}}, \"type\": \"scattergl\"}], \"scattermapbox\": [{\"marker\": {\"colorbar\": {\"outlinewidth\": 0, \"ticks\": \"\"}}, \"type\": \"scattermapbox\"}], \"scatterpolar\": [{\"marker\": {\"colorbar\": {\"outlinewidth\": 0, \"ticks\": \"\"}}, \"type\": \"scatterpolar\"}], \"scatterpolargl\": [{\"marker\": {\"colorbar\": {\"outlinewidth\": 0, \"ticks\": \"\"}}, \"type\": \"scatterpolargl\"}], \"scatterternary\": [{\"marker\": {\"colorbar\": {\"outlinewidth\": 0, \"ticks\": \"\"}}, \"type\": \"scatterternary\"}], \"surface\": [{\"colorbar\": {\"outlinewidth\": 0, \"ticks\": \"\"}, \"colorscale\": [[0.0, \"#0d0887\"], [0.1111111111111111, \"#46039f\"], [0.2222222222222222, \"#7201a8\"], [0.3333333333333333, \"#9c179e\"], [0.4444444444444444, \"#bd3786\"], [0.5555555555555556, \"#d8576b\"], [0.6666666666666666, \"#ed7953\"], [0.7777777777777778, \"#fb9f3a\"], [0.8888888888888888, \"#fdca26\"], [1.0, \"#f0f921\"]], \"type\": \"surface\"}], \"table\": [{\"cells\": {\"fill\": {\"color\": \"#EBF0F8\"}, \"line\": {\"color\": \"white\"}}, \"header\": {\"fill\": {\"color\": \"#C8D4E3\"}, \"line\": {\"color\": \"white\"}}, \"type\": \"table\"}]}, \"layout\": {\"annotationdefaults\": {\"arrowcolor\": \"#2a3f5f\", \"arrowhead\": 0, \"arrowwidth\": 1}, \"coloraxis\": {\"colorbar\": {\"outlinewidth\": 0, \"ticks\": \"\"}}, \"colorscale\": {\"diverging\": [[0, \"#8e0152\"], [0.1, \"#c51b7d\"], [0.2, \"#de77ae\"], [0.3, \"#f1b6da\"], [0.4, \"#fde0ef\"], [0.5, \"#f7f7f7\"], [0.6, \"#e6f5d0\"], [0.7, \"#b8e186\"], [0.8, \"#7fbc41\"], [0.9, \"#4d9221\"], [1, \"#276419\"]], \"sequential\": [[0.0, \"#0d0887\"], [0.1111111111111111, \"#46039f\"], [0.2222222222222222, \"#7201a8\"], [0.3333333333333333, \"#9c179e\"], [0.4444444444444444, \"#bd3786\"], [0.5555555555555556, \"#d8576b\"], [0.6666666666666666, \"#ed7953\"], [0.7777777777777778, \"#fb9f3a\"], [0.8888888888888888, \"#fdca26\"], [1.0, \"#f0f921\"]], \"sequentialminus\": [[0.0, \"#0d0887\"], [0.1111111111111111, \"#46039f\"], [0.2222222222222222, \"#7201a8\"], [0.3333333333333333, \"#9c179e\"], [0.4444444444444444, \"#bd3786\"], [0.5555555555555556, \"#d8576b\"], [0.6666666666666666, \"#ed7953\"], [0.7777777777777778, \"#fb9f3a\"], [0.8888888888888888, \"#fdca26\"], [1.0, \"#f0f921\"]]}, \"colorway\": [\"#636efa\", \"#EF553B\", \"#00cc96\", \"#ab63fa\", \"#FFA15A\", \"#19d3f3\", \"#FF6692\", \"#B6E880\", \"#FF97FF\", \"#FECB52\"], \"font\": {\"color\": \"#2a3f5f\"}, \"geo\": {\"bgcolor\": \"white\", \"lakecolor\": \"white\", \"landcolor\": \"#E5ECF6\", \"showlakes\": true, \"showland\": true, \"subunitcolor\": \"white\"}, \"hoverlabel\": {\"align\": \"left\"}, \"hovermode\": \"closest\", \"mapbox\": {\"style\": \"light\"}, \"paper_bgcolor\": \"white\", \"plot_bgcolor\": \"#E5ECF6\", \"polar\": {\"angularaxis\": {\"gridcolor\": \"white\", \"linecolor\": \"white\", \"ticks\": \"\"}, \"bgcolor\": \"#E5ECF6\", \"radialaxis\": {\"gridcolor\": \"white\", \"linecolor\": \"white\", \"ticks\": \"\"}}, \"scene\": {\"xaxis\": {\"backgroundcolor\": \"#E5ECF6\", \"gridcolor\": \"white\", \"gridwidth\": 2, \"linecolor\": \"white\", \"showbackground\": true, \"ticks\": \"\", \"zerolinecolor\": \"white\"}, \"yaxis\": {\"backgroundcolor\": \"#E5ECF6\", \"gridcolor\": \"white\", \"gridwidth\": 2, \"linecolor\": \"white\", \"showbackground\": true, \"ticks\": \"\", \"zerolinecolor\": \"white\"}, \"zaxis\": {\"backgroundcolor\": \"#E5ECF6\", \"gridcolor\": \"white\", \"gridwidth\": 2, \"linecolor\": \"white\", \"showbackground\": true, \"ticks\": \"\", \"zerolinecolor\": \"white\"}}, \"shapedefaults\": {\"line\": {\"color\": \"#2a3f5f\"}}, \"ternary\": {\"aaxis\": {\"gridcolor\": \"white\", \"linecolor\": \"white\", \"ticks\": \"\"}, \"baxis\": {\"gridcolor\": \"white\", \"linecolor\": \"white\", \"ticks\": \"\"}, \"bgcolor\": \"#E5ECF6\", \"caxis\": {\"gridcolor\": \"white\", \"linecolor\": \"white\", \"ticks\": \"\"}}, \"title\": {\"x\": 0.05}, \"xaxis\": {\"automargin\": true, \"gridcolor\": \"white\", \"linecolor\": \"white\", \"ticks\": \"\", \"title\": {\"standoff\": 15}, \"zerolinecolor\": \"white\", \"zerolinewidth\": 2}, \"yaxis\": {\"automargin\": true, \"gridcolor\": \"white\", \"linecolor\": \"white\", \"ticks\": \"\", \"title\": {\"standoff\": 15}, \"zerolinecolor\": \"white\", \"zerolinewidth\": 2}}}, \"title\": {\"text\": \"Confermed case in Singapore\", \"x\": 0.5, \"xanchor\": \"center\", \"y\": 0.95, \"yanchor\": \"top\"}, \"xaxis\": {\"zeroline\": false}, \"yaxis\": {\"zeroline\": false}},\n",
       "                        {\"responsive\": true}\n",
       "                    ).then(function(){\n",
       "                            \n",
       "var gd = document.getElementById('c89ac24a-6a3b-48fa-9587-8b7d704e68a0');\n",
       "var x = new MutationObserver(function (mutations, observer) {{\n",
       "        var display = window.getComputedStyle(gd).display;\n",
       "        if (!display || display === 'none') {{\n",
       "            console.log([gd, 'removed!']);\n",
       "            Plotly.purge(gd);\n",
       "            observer.disconnect();\n",
       "        }}\n",
       "}});\n",
       "\n",
       "// Listen for the removal of the full notebook cells\n",
       "var notebookContainer = gd.closest('#notebook-container');\n",
       "if (notebookContainer) {{\n",
       "    x.observe(notebookContainer, {childList: true});\n",
       "}}\n",
       "\n",
       "// Listen for the clearing of the current output cell\n",
       "var outputEl = gd.closest('.output');\n",
       "if (outputEl) {{\n",
       "    x.observe(outputEl, {childList: true});\n",
       "}}\n",
       "\n",
       "                        })\n",
       "                };\n",
       "                });\n",
       "            </script>\n",
       "        </div>"
      ]
     },
     "metadata": {},
     "output_type": "display_data"
    }
   ],
   "source": [
    "fig = go.Figure()\n",
    "\n",
    "fig.add_trace(\n",
    "    go.Scatter(\n",
    "        x=df_Singapore_grouped.Date,\n",
    "        y=df_Singapore_grouped.Confirmed,\n",
    "        name='China Confirmed cases in SG',\n",
    "        mode='lines+markers',\n",
    "        marker_color = 'rgb(55, 83, 109)',\n",
    "        hovertemplate =\n",
    "        '<br><b>Date</b>: %{x} <br>' +\n",
    "        '<b>Confirmed Cases:</b> %{y}<br>'\n",
    "    )\n",
    ")\n",
    "\n",
    "fig.update_traces(\n",
    "    mode='lines+markers',\n",
    "    marker_line_width=2,\n",
    "    marker_size=5\n",
    ")\n",
    "fig.update_layout(\n",
    "    title={'text': 'Confermed case in Singapore',\n",
    "           'y':0.95,\n",
    "           'x':0.5,\n",
    "           'xanchor': 'center',\n",
    "           'yanchor': 'top'},\n",
    "    yaxis_zeroline=False,\n",
    "    xaxis_zeroline=False,\n",
    "    hoverlabel_align = 'left',\n",
    ")\n",
    "\n",
    "fig.show()"
   ]
  },
  {
   "cell_type": "markdown",
   "metadata": {},
   "source": [
    "# Time series prediction with Prophet"
   ]
  },
  {
   "cell_type": "markdown",
   "metadata": {},
   "source": [
    "#### First Let's try Prophet without tuning any hyper-parameters"
   ]
  },
  {
   "cell_type": "code",
   "execution_count": 177,
   "metadata": {},
   "outputs": [
    {
     "name": "stderr",
     "output_type": "stream",
     "text": [
      "INFO:fbprophet:n_changepoints greater than number of observations. Using 20.\n"
     ]
    }
   ],
   "source": [
    "m_d = Prophet(\n",
    "    yearly_seasonality=False,\n",
    "    weekly_seasonality = False,\n",
    "    daily_seasonality = False,\n",
    "    seasonality_mode = 'additive')\n",
    "\n",
    "df_China_without_Hubei_grouped.columns = ['ds','y']\n",
    "\n",
    "m_d.fit(df_China_without_Hubei_grouped)\n",
    "future_China_without_Hubei = m_d.make_future_dataframe(periods=7)\n",
    "fcst_daily_China_without_Hubei= m_d.predict(future_China_without_Hubei)"
   ]
  },
  {
   "cell_type": "code",
   "execution_count": 192,
   "metadata": {},
   "outputs": [],
   "source": [
    "# to quantify our prediction performance\n",
    "def mean_absolute_percentage_error(y_true, y_pred): \n",
    "    \"\"\"Calculates MAPE given y_true and y_pred\"\"\"\n",
    "    y_true, y_pred = np.array(y_true), np.array(y_pred)\n",
    "    return np.mean(np.abs((y_true - y_pred) / y_true)) * 100"
   ]
  },
  {
   "cell_type": "code",
   "execution_count": 195,
   "metadata": {},
   "outputs": [
    {
     "data": {
      "application/vnd.plotly.v1+json": {
       "config": {
        "linkText": "Export to plot.ly",
        "plotlyServerURL": "https://plot.ly",
        "showLink": false
       },
       "data": [
        {
         "mode": "markers",
         "name": "actual no. of Confirmed",
         "type": "scatter",
         "x": [
          "2020-01-22T00:00:00",
          "2020-01-23T00:00:00",
          "2020-01-24T00:00:00",
          "2020-01-25T00:00:00",
          "2020-01-26T00:00:00",
          "2020-01-27T00:00:00",
          "2020-01-28T00:00:00",
          "2020-01-29T00:00:00",
          "2020-01-30T00:00:00",
          "2020-01-31T00:00:00",
          "2020-02-01T00:00:00",
          "2020-02-02T00:00:00",
          "2020-02-03T00:00:00",
          "2020-02-04T00:00:00",
          "2020-02-05T00:00:00",
          "2020-02-06T00:00:00",
          "2020-02-07T00:00:00",
          "2020-02-08T00:00:00",
          "2020-02-09T00:00:00",
          "2020-02-10T00:00:00",
          "2020-02-11T00:00:00",
          "2020-02-12T00:00:00",
          "2020-02-13T00:00:00",
          "2020-02-14T00:00:00",
          "2020-02-15T00:00:00",
          "2020-02-16T00:00:00",
          "2020-02-17T00:00:00"
         ],
         "y": [
          105,
          195,
          367,
          927,
          1314,
          1695,
          2416,
          3092,
          3852,
          4068,
          5301,
          5937,
          6878,
          7612,
          7727,
          8429,
          9103,
          10098,
          10529,
          10582,
          11275,
          11599,
          11855,
          11886,
          12098,
          12264,
          12375
         ]
        },
        {
         "fill": "tonexty",
         "line": {
          "color": "#57b8ff"
         },
         "mode": "lines",
         "name": "upper_band",
         "type": "scatter",
         "x": [
          "2020-01-22T00:00:00",
          "2020-01-23T00:00:00",
          "2020-01-24T00:00:00",
          "2020-01-25T00:00:00",
          "2020-01-26T00:00:00",
          "2020-01-27T00:00:00",
          "2020-01-28T00:00:00",
          "2020-01-29T00:00:00",
          "2020-01-30T00:00:00",
          "2020-01-31T00:00:00",
          "2020-02-01T00:00:00",
          "2020-02-02T00:00:00",
          "2020-02-03T00:00:00",
          "2020-02-04T00:00:00",
          "2020-02-05T00:00:00",
          "2020-02-06T00:00:00",
          "2020-02-07T00:00:00",
          "2020-02-08T00:00:00",
          "2020-02-09T00:00:00",
          "2020-02-10T00:00:00",
          "2020-02-11T00:00:00",
          "2020-02-12T00:00:00",
          "2020-02-13T00:00:00",
          "2020-02-14T00:00:00",
          "2020-02-15T00:00:00",
          "2020-02-16T00:00:00",
          "2020-02-17T00:00:00",
          "2020-02-18T00:00:00",
          "2020-02-19T00:00:00",
          "2020-02-20T00:00:00",
          "2020-02-21T00:00:00",
          "2020-02-22T00:00:00",
          "2020-02-23T00:00:00",
          "2020-02-24T00:00:00"
         ],
         "y": [
          -319.939353303862,
          297.7238235867743,
          884.7548789465247,
          1571.7755282969845,
          2081.5678650147415,
          2748.2909771180716,
          3398.01300400218,
          3952.5934351349365,
          4643.4342410934405,
          5217.765853590355,
          5808.691531518059,
          6424.844935461073,
          7051.8334360348135,
          7609.706211525288,
          8257.389913394643,
          8847.842922126096,
          9443.901789307867,
          10066.411118959304,
          10691.004665159919,
          11021.341903320852,
          11405.05053080647,
          11693.634580607859,
          12062.924873685763,
          12406.838473074575,
          12787.971031385998,
          13092.946192261792,
          13466.707551633528,
          13782.696728845192,
          14166.06725997214,
          14522.486092575678,
          14896.995714297793,
          15204.84756938169,
          15622.171843908061,
          15930.224281682318
         ]
        },
        {
         "fill": "tonexty",
         "line": {
          "color": "#57b8ff"
         },
         "mode": "lines",
         "name": "lower_band",
         "type": "scatter",
         "x": [
          "2020-01-22T00:00:00",
          "2020-01-23T00:00:00",
          "2020-01-24T00:00:00",
          "2020-01-25T00:00:00",
          "2020-01-26T00:00:00",
          "2020-01-27T00:00:00",
          "2020-01-28T00:00:00",
          "2020-01-29T00:00:00",
          "2020-01-30T00:00:00",
          "2020-01-31T00:00:00",
          "2020-02-01T00:00:00",
          "2020-02-02T00:00:00",
          "2020-02-03T00:00:00",
          "2020-02-04T00:00:00",
          "2020-02-05T00:00:00",
          "2020-02-06T00:00:00",
          "2020-02-07T00:00:00",
          "2020-02-08T00:00:00",
          "2020-02-09T00:00:00",
          "2020-02-10T00:00:00",
          "2020-02-11T00:00:00",
          "2020-02-12T00:00:00",
          "2020-02-13T00:00:00",
          "2020-02-14T00:00:00",
          "2020-02-15T00:00:00",
          "2020-02-16T00:00:00",
          "2020-02-17T00:00:00",
          "2020-02-18T00:00:00",
          "2020-02-19T00:00:00",
          "2020-02-20T00:00:00",
          "2020-02-21T00:00:00",
          "2020-02-22T00:00:00",
          "2020-02-23T00:00:00",
          "2020-02-24T00:00:00"
         ],
         "y": [
          -1252.212647283444,
          -668.7034715387703,
          -4.538898509931135,
          586.4894486156463,
          1175.259900856333,
          1776.5922560012461,
          2414.9350506942124,
          2999.430823583408,
          3586.1507056337855,
          4230.413196955364,
          4855.718149055047,
          5463.388592383418,
          6078.33784765062,
          6685.959367384442,
          7305.997362654015,
          7920.142330305786,
          8503.47722034587,
          9114.26473023554,
          9701.972209093117,
          10071.533504803203,
          10432.975453664514,
          10764.431370042907,
          11080.563575207187,
          11463.988670510413,
          11798.15238757269,
          12113.622991817032,
          12514.81546257737,
          12855.444680809216,
          13229.15615997378,
          13565.668672576627,
          13889.710285612991,
          14217.854274439038,
          14579.905200509942,
          14865.483869823085
         ]
        },
        {
         "line": {
          "color": "#eb0e0e"
         },
         "mode": "lines+markers",
         "name": "prediction",
         "type": "scatter",
         "x": [
          "2020-01-22T00:00:00",
          "2020-01-23T00:00:00",
          "2020-01-24T00:00:00",
          "2020-01-25T00:00:00",
          "2020-01-26T00:00:00",
          "2020-01-27T00:00:00",
          "2020-01-28T00:00:00",
          "2020-01-29T00:00:00",
          "2020-01-30T00:00:00",
          "2020-01-31T00:00:00",
          "2020-02-01T00:00:00",
          "2020-02-02T00:00:00",
          "2020-02-03T00:00:00",
          "2020-02-04T00:00:00",
          "2020-02-05T00:00:00",
          "2020-02-06T00:00:00",
          "2020-02-07T00:00:00",
          "2020-02-08T00:00:00",
          "2020-02-09T00:00:00",
          "2020-02-10T00:00:00",
          "2020-02-11T00:00:00",
          "2020-02-12T00:00:00",
          "2020-02-13T00:00:00",
          "2020-02-14T00:00:00",
          "2020-02-15T00:00:00",
          "2020-02-16T00:00:00",
          "2020-02-17T00:00:00",
          "2020-02-18T00:00:00",
          "2020-02-19T00:00:00",
          "2020-02-20T00:00:00",
          "2020-02-21T00:00:00",
          "2020-02-22T00:00:00",
          "2020-02-23T00:00:00",
          "2020-02-24T00:00:00"
         ],
         "y": [
          -782.5789840036597,
          -172.7896917642256,
          436.99960018489253,
          1046.7888922009238,
          1656.5781859026483,
          2266.429760102292,
          2876.577086898831,
          3486.78707086452,
          4097.0120413669265,
          4707.366060937584,
          5317.72008077368,
          5928.074100527926,
          6538.428120219249,
          7148.782140124953,
          7759.1361601777435,
          8369.4897290761,
          8979.718730708808,
          9589.914603631873,
          10199.759943721074,
          10548.243710517609,
          10896.646931491825,
          11244.463822758486,
          11592.280714025146,
          11940.097605291807,
          12287.91449655847,
          12635.731387825128,
          12983.54827909179,
          13331.365170358453,
          13679.182061625112,
          14026.998952891774,
          14374.815844158433,
          14722.632735425095,
          15070.449626691756,
          15418.266517958416
         ]
        }
       ],
       "layout": {
        "template": {
         "data": {
          "bar": [
           {
            "error_x": {
             "color": "#2a3f5f"
            },
            "error_y": {
             "color": "#2a3f5f"
            },
            "marker": {
             "line": {
              "color": "#E5ECF6",
              "width": 0.5
             }
            },
            "type": "bar"
           }
          ],
          "barpolar": [
           {
            "marker": {
             "line": {
              "color": "#E5ECF6",
              "width": 0.5
             }
            },
            "type": "barpolar"
           }
          ],
          "carpet": [
           {
            "aaxis": {
             "endlinecolor": "#2a3f5f",
             "gridcolor": "white",
             "linecolor": "white",
             "minorgridcolor": "white",
             "startlinecolor": "#2a3f5f"
            },
            "baxis": {
             "endlinecolor": "#2a3f5f",
             "gridcolor": "white",
             "linecolor": "white",
             "minorgridcolor": "white",
             "startlinecolor": "#2a3f5f"
            },
            "type": "carpet"
           }
          ],
          "choropleth": [
           {
            "colorbar": {
             "outlinewidth": 0,
             "ticks": ""
            },
            "type": "choropleth"
           }
          ],
          "contour": [
           {
            "colorbar": {
             "outlinewidth": 0,
             "ticks": ""
            },
            "colorscale": [
             [
              0,
              "#0d0887"
             ],
             [
              0.1111111111111111,
              "#46039f"
             ],
             [
              0.2222222222222222,
              "#7201a8"
             ],
             [
              0.3333333333333333,
              "#9c179e"
             ],
             [
              0.4444444444444444,
              "#bd3786"
             ],
             [
              0.5555555555555556,
              "#d8576b"
             ],
             [
              0.6666666666666666,
              "#ed7953"
             ],
             [
              0.7777777777777778,
              "#fb9f3a"
             ],
             [
              0.8888888888888888,
              "#fdca26"
             ],
             [
              1,
              "#f0f921"
             ]
            ],
            "type": "contour"
           }
          ],
          "contourcarpet": [
           {
            "colorbar": {
             "outlinewidth": 0,
             "ticks": ""
            },
            "type": "contourcarpet"
           }
          ],
          "heatmap": [
           {
            "colorbar": {
             "outlinewidth": 0,
             "ticks": ""
            },
            "colorscale": [
             [
              0,
              "#0d0887"
             ],
             [
              0.1111111111111111,
              "#46039f"
             ],
             [
              0.2222222222222222,
              "#7201a8"
             ],
             [
              0.3333333333333333,
              "#9c179e"
             ],
             [
              0.4444444444444444,
              "#bd3786"
             ],
             [
              0.5555555555555556,
              "#d8576b"
             ],
             [
              0.6666666666666666,
              "#ed7953"
             ],
             [
              0.7777777777777778,
              "#fb9f3a"
             ],
             [
              0.8888888888888888,
              "#fdca26"
             ],
             [
              1,
              "#f0f921"
             ]
            ],
            "type": "heatmap"
           }
          ],
          "heatmapgl": [
           {
            "colorbar": {
             "outlinewidth": 0,
             "ticks": ""
            },
            "colorscale": [
             [
              0,
              "#0d0887"
             ],
             [
              0.1111111111111111,
              "#46039f"
             ],
             [
              0.2222222222222222,
              "#7201a8"
             ],
             [
              0.3333333333333333,
              "#9c179e"
             ],
             [
              0.4444444444444444,
              "#bd3786"
             ],
             [
              0.5555555555555556,
              "#d8576b"
             ],
             [
              0.6666666666666666,
              "#ed7953"
             ],
             [
              0.7777777777777778,
              "#fb9f3a"
             ],
             [
              0.8888888888888888,
              "#fdca26"
             ],
             [
              1,
              "#f0f921"
             ]
            ],
            "type": "heatmapgl"
           }
          ],
          "histogram": [
           {
            "marker": {
             "colorbar": {
              "outlinewidth": 0,
              "ticks": ""
             }
            },
            "type": "histogram"
           }
          ],
          "histogram2d": [
           {
            "colorbar": {
             "outlinewidth": 0,
             "ticks": ""
            },
            "colorscale": [
             [
              0,
              "#0d0887"
             ],
             [
              0.1111111111111111,
              "#46039f"
             ],
             [
              0.2222222222222222,
              "#7201a8"
             ],
             [
              0.3333333333333333,
              "#9c179e"
             ],
             [
              0.4444444444444444,
              "#bd3786"
             ],
             [
              0.5555555555555556,
              "#d8576b"
             ],
             [
              0.6666666666666666,
              "#ed7953"
             ],
             [
              0.7777777777777778,
              "#fb9f3a"
             ],
             [
              0.8888888888888888,
              "#fdca26"
             ],
             [
              1,
              "#f0f921"
             ]
            ],
            "type": "histogram2d"
           }
          ],
          "histogram2dcontour": [
           {
            "colorbar": {
             "outlinewidth": 0,
             "ticks": ""
            },
            "colorscale": [
             [
              0,
              "#0d0887"
             ],
             [
              0.1111111111111111,
              "#46039f"
             ],
             [
              0.2222222222222222,
              "#7201a8"
             ],
             [
              0.3333333333333333,
              "#9c179e"
             ],
             [
              0.4444444444444444,
              "#bd3786"
             ],
             [
              0.5555555555555556,
              "#d8576b"
             ],
             [
              0.6666666666666666,
              "#ed7953"
             ],
             [
              0.7777777777777778,
              "#fb9f3a"
             ],
             [
              0.8888888888888888,
              "#fdca26"
             ],
             [
              1,
              "#f0f921"
             ]
            ],
            "type": "histogram2dcontour"
           }
          ],
          "mesh3d": [
           {
            "colorbar": {
             "outlinewidth": 0,
             "ticks": ""
            },
            "type": "mesh3d"
           }
          ],
          "parcoords": [
           {
            "line": {
             "colorbar": {
              "outlinewidth": 0,
              "ticks": ""
             }
            },
            "type": "parcoords"
           }
          ],
          "pie": [
           {
            "automargin": true,
            "type": "pie"
           }
          ],
          "scatter": [
           {
            "marker": {
             "colorbar": {
              "outlinewidth": 0,
              "ticks": ""
             }
            },
            "type": "scatter"
           }
          ],
          "scatter3d": [
           {
            "line": {
             "colorbar": {
              "outlinewidth": 0,
              "ticks": ""
             }
            },
            "marker": {
             "colorbar": {
              "outlinewidth": 0,
              "ticks": ""
             }
            },
            "type": "scatter3d"
           }
          ],
          "scattercarpet": [
           {
            "marker": {
             "colorbar": {
              "outlinewidth": 0,
              "ticks": ""
             }
            },
            "type": "scattercarpet"
           }
          ],
          "scattergeo": [
           {
            "marker": {
             "colorbar": {
              "outlinewidth": 0,
              "ticks": ""
             }
            },
            "type": "scattergeo"
           }
          ],
          "scattergl": [
           {
            "marker": {
             "colorbar": {
              "outlinewidth": 0,
              "ticks": ""
             }
            },
            "type": "scattergl"
           }
          ],
          "scattermapbox": [
           {
            "marker": {
             "colorbar": {
              "outlinewidth": 0,
              "ticks": ""
             }
            },
            "type": "scattermapbox"
           }
          ],
          "scatterpolar": [
           {
            "marker": {
             "colorbar": {
              "outlinewidth": 0,
              "ticks": ""
             }
            },
            "type": "scatterpolar"
           }
          ],
          "scatterpolargl": [
           {
            "marker": {
             "colorbar": {
              "outlinewidth": 0,
              "ticks": ""
             }
            },
            "type": "scatterpolargl"
           }
          ],
          "scatterternary": [
           {
            "marker": {
             "colorbar": {
              "outlinewidth": 0,
              "ticks": ""
             }
            },
            "type": "scatterternary"
           }
          ],
          "surface": [
           {
            "colorbar": {
             "outlinewidth": 0,
             "ticks": ""
            },
            "colorscale": [
             [
              0,
              "#0d0887"
             ],
             [
              0.1111111111111111,
              "#46039f"
             ],
             [
              0.2222222222222222,
              "#7201a8"
             ],
             [
              0.3333333333333333,
              "#9c179e"
             ],
             [
              0.4444444444444444,
              "#bd3786"
             ],
             [
              0.5555555555555556,
              "#d8576b"
             ],
             [
              0.6666666666666666,
              "#ed7953"
             ],
             [
              0.7777777777777778,
              "#fb9f3a"
             ],
             [
              0.8888888888888888,
              "#fdca26"
             ],
             [
              1,
              "#f0f921"
             ]
            ],
            "type": "surface"
           }
          ],
          "table": [
           {
            "cells": {
             "fill": {
              "color": "#EBF0F8"
             },
             "line": {
              "color": "white"
             }
            },
            "header": {
             "fill": {
              "color": "#C8D4E3"
             },
             "line": {
              "color": "white"
             }
            },
            "type": "table"
           }
          ]
         },
         "layout": {
          "annotationdefaults": {
           "arrowcolor": "#2a3f5f",
           "arrowhead": 0,
           "arrowwidth": 1
          },
          "coloraxis": {
           "colorbar": {
            "outlinewidth": 0,
            "ticks": ""
           }
          },
          "colorscale": {
           "diverging": [
            [
             0,
             "#8e0152"
            ],
            [
             0.1,
             "#c51b7d"
            ],
            [
             0.2,
             "#de77ae"
            ],
            [
             0.3,
             "#f1b6da"
            ],
            [
             0.4,
             "#fde0ef"
            ],
            [
             0.5,
             "#f7f7f7"
            ],
            [
             0.6,
             "#e6f5d0"
            ],
            [
             0.7,
             "#b8e186"
            ],
            [
             0.8,
             "#7fbc41"
            ],
            [
             0.9,
             "#4d9221"
            ],
            [
             1,
             "#276419"
            ]
           ],
           "sequential": [
            [
             0,
             "#0d0887"
            ],
            [
             0.1111111111111111,
             "#46039f"
            ],
            [
             0.2222222222222222,
             "#7201a8"
            ],
            [
             0.3333333333333333,
             "#9c179e"
            ],
            [
             0.4444444444444444,
             "#bd3786"
            ],
            [
             0.5555555555555556,
             "#d8576b"
            ],
            [
             0.6666666666666666,
             "#ed7953"
            ],
            [
             0.7777777777777778,
             "#fb9f3a"
            ],
            [
             0.8888888888888888,
             "#fdca26"
            ],
            [
             1,
             "#f0f921"
            ]
           ],
           "sequentialminus": [
            [
             0,
             "#0d0887"
            ],
            [
             0.1111111111111111,
             "#46039f"
            ],
            [
             0.2222222222222222,
             "#7201a8"
            ],
            [
             0.3333333333333333,
             "#9c179e"
            ],
            [
             0.4444444444444444,
             "#bd3786"
            ],
            [
             0.5555555555555556,
             "#d8576b"
            ],
            [
             0.6666666666666666,
             "#ed7953"
            ],
            [
             0.7777777777777778,
             "#fb9f3a"
            ],
            [
             0.8888888888888888,
             "#fdca26"
            ],
            [
             1,
             "#f0f921"
            ]
           ]
          },
          "colorway": [
           "#636efa",
           "#EF553B",
           "#00cc96",
           "#ab63fa",
           "#FFA15A",
           "#19d3f3",
           "#FF6692",
           "#B6E880",
           "#FF97FF",
           "#FECB52"
          ],
          "font": {
           "color": "#2a3f5f"
          },
          "geo": {
           "bgcolor": "white",
           "lakecolor": "white",
           "landcolor": "#E5ECF6",
           "showlakes": true,
           "showland": true,
           "subunitcolor": "white"
          },
          "hoverlabel": {
           "align": "left"
          },
          "hovermode": "closest",
          "mapbox": {
           "style": "light"
          },
          "paper_bgcolor": "white",
          "plot_bgcolor": "#E5ECF6",
          "polar": {
           "angularaxis": {
            "gridcolor": "white",
            "linecolor": "white",
            "ticks": ""
           },
           "bgcolor": "#E5ECF6",
           "radialaxis": {
            "gridcolor": "white",
            "linecolor": "white",
            "ticks": ""
           }
          },
          "scene": {
           "xaxis": {
            "backgroundcolor": "#E5ECF6",
            "gridcolor": "white",
            "gridwidth": 2,
            "linecolor": "white",
            "showbackground": true,
            "ticks": "",
            "zerolinecolor": "white"
           },
           "yaxis": {
            "backgroundcolor": "#E5ECF6",
            "gridcolor": "white",
            "gridwidth": 2,
            "linecolor": "white",
            "showbackground": true,
            "ticks": "",
            "zerolinecolor": "white"
           },
           "zaxis": {
            "backgroundcolor": "#E5ECF6",
            "gridcolor": "white",
            "gridwidth": 2,
            "linecolor": "white",
            "showbackground": true,
            "ticks": "",
            "zerolinecolor": "white"
           }
          },
          "shapedefaults": {
           "line": {
            "color": "#2a3f5f"
           }
          },
          "ternary": {
           "aaxis": {
            "gridcolor": "white",
            "linecolor": "white",
            "ticks": ""
           },
           "baxis": {
            "gridcolor": "white",
            "linecolor": "white",
            "ticks": ""
           },
           "bgcolor": "#E5ECF6",
           "caxis": {
            "gridcolor": "white",
            "linecolor": "white",
            "ticks": ""
           }
          },
          "title": {
           "x": 0.05
          },
          "xaxis": {
           "automargin": true,
           "gridcolor": "white",
           "linecolor": "white",
           "ticks": "",
           "title": {
            "standoff": 15
           },
           "zerolinecolor": "white",
           "zerolinewidth": 2
          },
          "yaxis": {
           "automargin": true,
           "gridcolor": "white",
           "linecolor": "white",
           "ticks": "",
           "title": {
            "standoff": 15
           },
           "zerolinecolor": "white",
           "zerolinewidth": 2
          }
         }
        },
        "title": {
         "text": "Confirmed - Time Series Forecast - Daily Trend"
        },
        "xaxis": {
         "gridcolor": "rgb(255, 255, 255)",
         "gridwidth": 2,
         "ticklen": 5,
         "title": {
          "text": ""
         },
         "zerolinewidth": 1
        },
        "yaxis": {
         "gridcolor": "rgb(255, 255, 255)",
         "gridwidth": 2,
         "ticklen": 5,
         "title": {
          "text": "Confirmed nCov - Hubei"
         },
         "zerolinewidth": 1
        }
       }
      },
      "text/html": [
       "<div>\n",
       "        \n",
       "        \n",
       "            <div id=\"35de4dc1-860b-4cda-9528-975995242c71\" class=\"plotly-graph-div\" style=\"height:525px; width:100%;\"></div>\n",
       "            <script type=\"text/javascript\">\n",
       "                require([\"plotly\"], function(Plotly) {\n",
       "                    window.PLOTLYENV=window.PLOTLYENV || {};\n",
       "                    \n",
       "                if (document.getElementById(\"35de4dc1-860b-4cda-9528-975995242c71\")) {\n",
       "                    Plotly.newPlot(\n",
       "                        '35de4dc1-860b-4cda-9528-975995242c71',\n",
       "                        [{\"mode\": \"markers\", \"name\": \"actual no. of Confirmed\", \"type\": \"scatter\", \"x\": [\"2020-01-22T00:00:00\", \"2020-01-23T00:00:00\", \"2020-01-24T00:00:00\", \"2020-01-25T00:00:00\", \"2020-01-26T00:00:00\", \"2020-01-27T00:00:00\", \"2020-01-28T00:00:00\", \"2020-01-29T00:00:00\", \"2020-01-30T00:00:00\", \"2020-01-31T00:00:00\", \"2020-02-01T00:00:00\", \"2020-02-02T00:00:00\", \"2020-02-03T00:00:00\", \"2020-02-04T00:00:00\", \"2020-02-05T00:00:00\", \"2020-02-06T00:00:00\", \"2020-02-07T00:00:00\", \"2020-02-08T00:00:00\", \"2020-02-09T00:00:00\", \"2020-02-10T00:00:00\", \"2020-02-11T00:00:00\", \"2020-02-12T00:00:00\", \"2020-02-13T00:00:00\", \"2020-02-14T00:00:00\", \"2020-02-15T00:00:00\", \"2020-02-16T00:00:00\", \"2020-02-17T00:00:00\"], \"y\": [105, 195, 367, 927, 1314, 1695, 2416, 3092, 3852, 4068, 5301, 5937, 6878, 7612, 7727, 8429, 9103, 10098, 10529, 10582, 11275, 11599, 11855, 11886, 12098, 12264, 12375]}, {\"fill\": \"tonexty\", \"line\": {\"color\": \"#57b8ff\"}, \"mode\": \"lines\", \"name\": \"upper_band\", \"type\": \"scatter\", \"x\": [\"2020-01-22T00:00:00\", \"2020-01-23T00:00:00\", \"2020-01-24T00:00:00\", \"2020-01-25T00:00:00\", \"2020-01-26T00:00:00\", \"2020-01-27T00:00:00\", \"2020-01-28T00:00:00\", \"2020-01-29T00:00:00\", \"2020-01-30T00:00:00\", \"2020-01-31T00:00:00\", \"2020-02-01T00:00:00\", \"2020-02-02T00:00:00\", \"2020-02-03T00:00:00\", \"2020-02-04T00:00:00\", \"2020-02-05T00:00:00\", \"2020-02-06T00:00:00\", \"2020-02-07T00:00:00\", \"2020-02-08T00:00:00\", \"2020-02-09T00:00:00\", \"2020-02-10T00:00:00\", \"2020-02-11T00:00:00\", \"2020-02-12T00:00:00\", \"2020-02-13T00:00:00\", \"2020-02-14T00:00:00\", \"2020-02-15T00:00:00\", \"2020-02-16T00:00:00\", \"2020-02-17T00:00:00\", \"2020-02-18T00:00:00\", \"2020-02-19T00:00:00\", \"2020-02-20T00:00:00\", \"2020-02-21T00:00:00\", \"2020-02-22T00:00:00\", \"2020-02-23T00:00:00\", \"2020-02-24T00:00:00\"], \"y\": [-319.939353303862, 297.7238235867743, 884.7548789465247, 1571.7755282969845, 2081.5678650147415, 2748.2909771180716, 3398.01300400218, 3952.5934351349365, 4643.4342410934405, 5217.765853590355, 5808.691531518059, 6424.844935461073, 7051.8334360348135, 7609.706211525288, 8257.389913394643, 8847.842922126096, 9443.901789307867, 10066.411118959304, 10691.004665159919, 11021.341903320852, 11405.05053080647, 11693.634580607859, 12062.924873685763, 12406.838473074575, 12787.971031385998, 13092.946192261792, 13466.707551633528, 13782.696728845192, 14166.06725997214, 14522.486092575678, 14896.995714297793, 15204.84756938169, 15622.171843908061, 15930.224281682318]}, {\"fill\": \"tonexty\", \"line\": {\"color\": \"#57b8ff\"}, \"mode\": \"lines\", \"name\": \"lower_band\", \"type\": \"scatter\", \"x\": [\"2020-01-22T00:00:00\", \"2020-01-23T00:00:00\", \"2020-01-24T00:00:00\", \"2020-01-25T00:00:00\", \"2020-01-26T00:00:00\", \"2020-01-27T00:00:00\", \"2020-01-28T00:00:00\", \"2020-01-29T00:00:00\", \"2020-01-30T00:00:00\", \"2020-01-31T00:00:00\", \"2020-02-01T00:00:00\", \"2020-02-02T00:00:00\", \"2020-02-03T00:00:00\", \"2020-02-04T00:00:00\", \"2020-02-05T00:00:00\", \"2020-02-06T00:00:00\", \"2020-02-07T00:00:00\", \"2020-02-08T00:00:00\", \"2020-02-09T00:00:00\", \"2020-02-10T00:00:00\", \"2020-02-11T00:00:00\", \"2020-02-12T00:00:00\", \"2020-02-13T00:00:00\", \"2020-02-14T00:00:00\", \"2020-02-15T00:00:00\", \"2020-02-16T00:00:00\", \"2020-02-17T00:00:00\", \"2020-02-18T00:00:00\", \"2020-02-19T00:00:00\", \"2020-02-20T00:00:00\", \"2020-02-21T00:00:00\", \"2020-02-22T00:00:00\", \"2020-02-23T00:00:00\", \"2020-02-24T00:00:00\"], \"y\": [-1252.212647283444, -668.7034715387703, -4.538898509931135, 586.4894486156463, 1175.259900856333, 1776.5922560012461, 2414.9350506942124, 2999.430823583408, 3586.1507056337855, 4230.413196955364, 4855.718149055047, 5463.388592383418, 6078.33784765062, 6685.959367384442, 7305.997362654015, 7920.142330305786, 8503.47722034587, 9114.26473023554, 9701.972209093117, 10071.533504803203, 10432.975453664514, 10764.431370042907, 11080.563575207187, 11463.988670510413, 11798.15238757269, 12113.622991817032, 12514.81546257737, 12855.444680809216, 13229.15615997378, 13565.668672576627, 13889.710285612991, 14217.854274439038, 14579.905200509942, 14865.483869823085]}, {\"line\": {\"color\": \"#eb0e0e\"}, \"mode\": \"lines+markers\", \"name\": \"prediction\", \"type\": \"scatter\", \"x\": [\"2020-01-22T00:00:00\", \"2020-01-23T00:00:00\", \"2020-01-24T00:00:00\", \"2020-01-25T00:00:00\", \"2020-01-26T00:00:00\", \"2020-01-27T00:00:00\", \"2020-01-28T00:00:00\", \"2020-01-29T00:00:00\", \"2020-01-30T00:00:00\", \"2020-01-31T00:00:00\", \"2020-02-01T00:00:00\", \"2020-02-02T00:00:00\", \"2020-02-03T00:00:00\", \"2020-02-04T00:00:00\", \"2020-02-05T00:00:00\", \"2020-02-06T00:00:00\", \"2020-02-07T00:00:00\", \"2020-02-08T00:00:00\", \"2020-02-09T00:00:00\", \"2020-02-10T00:00:00\", \"2020-02-11T00:00:00\", \"2020-02-12T00:00:00\", \"2020-02-13T00:00:00\", \"2020-02-14T00:00:00\", \"2020-02-15T00:00:00\", \"2020-02-16T00:00:00\", \"2020-02-17T00:00:00\", \"2020-02-18T00:00:00\", \"2020-02-19T00:00:00\", \"2020-02-20T00:00:00\", \"2020-02-21T00:00:00\", \"2020-02-22T00:00:00\", \"2020-02-23T00:00:00\", \"2020-02-24T00:00:00\"], \"y\": [-782.5789840036597, -172.7896917642256, 436.99960018489253, 1046.7888922009238, 1656.5781859026483, 2266.429760102292, 2876.577086898831, 3486.78707086452, 4097.0120413669265, 4707.366060937584, 5317.72008077368, 5928.074100527926, 6538.428120219249, 7148.782140124953, 7759.1361601777435, 8369.4897290761, 8979.718730708808, 9589.914603631873, 10199.759943721074, 10548.243710517609, 10896.646931491825, 11244.463822758486, 11592.280714025146, 11940.097605291807, 12287.91449655847, 12635.731387825128, 12983.54827909179, 13331.365170358453, 13679.182061625112, 14026.998952891774, 14374.815844158433, 14722.632735425095, 15070.449626691756, 15418.266517958416]}],\n",
       "                        {\"template\": {\"data\": {\"bar\": [{\"error_x\": {\"color\": \"#2a3f5f\"}, \"error_y\": {\"color\": \"#2a3f5f\"}, \"marker\": {\"line\": {\"color\": \"#E5ECF6\", \"width\": 0.5}}, \"type\": \"bar\"}], \"barpolar\": [{\"marker\": {\"line\": {\"color\": \"#E5ECF6\", \"width\": 0.5}}, \"type\": \"barpolar\"}], \"carpet\": [{\"aaxis\": {\"endlinecolor\": \"#2a3f5f\", \"gridcolor\": \"white\", \"linecolor\": \"white\", \"minorgridcolor\": \"white\", \"startlinecolor\": \"#2a3f5f\"}, \"baxis\": {\"endlinecolor\": \"#2a3f5f\", \"gridcolor\": \"white\", \"linecolor\": \"white\", \"minorgridcolor\": \"white\", \"startlinecolor\": \"#2a3f5f\"}, \"type\": \"carpet\"}], \"choropleth\": [{\"colorbar\": {\"outlinewidth\": 0, \"ticks\": \"\"}, \"type\": \"choropleth\"}], \"contour\": [{\"colorbar\": {\"outlinewidth\": 0, \"ticks\": \"\"}, \"colorscale\": [[0.0, \"#0d0887\"], [0.1111111111111111, \"#46039f\"], [0.2222222222222222, \"#7201a8\"], [0.3333333333333333, \"#9c179e\"], [0.4444444444444444, \"#bd3786\"], [0.5555555555555556, \"#d8576b\"], [0.6666666666666666, \"#ed7953\"], [0.7777777777777778, \"#fb9f3a\"], [0.8888888888888888, \"#fdca26\"], [1.0, \"#f0f921\"]], \"type\": \"contour\"}], \"contourcarpet\": [{\"colorbar\": {\"outlinewidth\": 0, \"ticks\": \"\"}, \"type\": \"contourcarpet\"}], \"heatmap\": [{\"colorbar\": {\"outlinewidth\": 0, \"ticks\": \"\"}, \"colorscale\": [[0.0, \"#0d0887\"], [0.1111111111111111, \"#46039f\"], [0.2222222222222222, \"#7201a8\"], [0.3333333333333333, \"#9c179e\"], [0.4444444444444444, \"#bd3786\"], [0.5555555555555556, \"#d8576b\"], [0.6666666666666666, \"#ed7953\"], [0.7777777777777778, \"#fb9f3a\"], [0.8888888888888888, \"#fdca26\"], [1.0, \"#f0f921\"]], \"type\": \"heatmap\"}], \"heatmapgl\": [{\"colorbar\": {\"outlinewidth\": 0, \"ticks\": \"\"}, \"colorscale\": [[0.0, \"#0d0887\"], [0.1111111111111111, \"#46039f\"], [0.2222222222222222, \"#7201a8\"], [0.3333333333333333, \"#9c179e\"], [0.4444444444444444, \"#bd3786\"], [0.5555555555555556, \"#d8576b\"], [0.6666666666666666, \"#ed7953\"], [0.7777777777777778, \"#fb9f3a\"], [0.8888888888888888, \"#fdca26\"], [1.0, \"#f0f921\"]], \"type\": \"heatmapgl\"}], \"histogram\": [{\"marker\": {\"colorbar\": {\"outlinewidth\": 0, \"ticks\": \"\"}}, \"type\": \"histogram\"}], \"histogram2d\": [{\"colorbar\": {\"outlinewidth\": 0, \"ticks\": \"\"}, \"colorscale\": [[0.0, \"#0d0887\"], [0.1111111111111111, \"#46039f\"], [0.2222222222222222, \"#7201a8\"], [0.3333333333333333, \"#9c179e\"], [0.4444444444444444, \"#bd3786\"], [0.5555555555555556, \"#d8576b\"], [0.6666666666666666, \"#ed7953\"], [0.7777777777777778, \"#fb9f3a\"], [0.8888888888888888, \"#fdca26\"], [1.0, \"#f0f921\"]], \"type\": \"histogram2d\"}], \"histogram2dcontour\": [{\"colorbar\": {\"outlinewidth\": 0, \"ticks\": \"\"}, \"colorscale\": [[0.0, \"#0d0887\"], [0.1111111111111111, \"#46039f\"], [0.2222222222222222, \"#7201a8\"], [0.3333333333333333, \"#9c179e\"], [0.4444444444444444, \"#bd3786\"], [0.5555555555555556, \"#d8576b\"], [0.6666666666666666, \"#ed7953\"], [0.7777777777777778, \"#fb9f3a\"], [0.8888888888888888, \"#fdca26\"], [1.0, \"#f0f921\"]], \"type\": \"histogram2dcontour\"}], \"mesh3d\": [{\"colorbar\": {\"outlinewidth\": 0, \"ticks\": \"\"}, \"type\": \"mesh3d\"}], \"parcoords\": [{\"line\": {\"colorbar\": {\"outlinewidth\": 0, \"ticks\": \"\"}}, \"type\": \"parcoords\"}], \"pie\": [{\"automargin\": true, \"type\": \"pie\"}], \"scatter\": [{\"marker\": {\"colorbar\": {\"outlinewidth\": 0, \"ticks\": \"\"}}, \"type\": \"scatter\"}], \"scatter3d\": [{\"line\": {\"colorbar\": {\"outlinewidth\": 0, \"ticks\": \"\"}}, \"marker\": {\"colorbar\": {\"outlinewidth\": 0, \"ticks\": \"\"}}, \"type\": \"scatter3d\"}], \"scattercarpet\": [{\"marker\": {\"colorbar\": {\"outlinewidth\": 0, \"ticks\": \"\"}}, \"type\": \"scattercarpet\"}], \"scattergeo\": [{\"marker\": {\"colorbar\": {\"outlinewidth\": 0, \"ticks\": \"\"}}, \"type\": \"scattergeo\"}], \"scattergl\": [{\"marker\": {\"colorbar\": {\"outlinewidth\": 0, \"ticks\": \"\"}}, \"type\": \"scattergl\"}], \"scattermapbox\": [{\"marker\": {\"colorbar\": {\"outlinewidth\": 0, \"ticks\": \"\"}}, \"type\": \"scattermapbox\"}], \"scatterpolar\": [{\"marker\": {\"colorbar\": {\"outlinewidth\": 0, \"ticks\": \"\"}}, \"type\": \"scatterpolar\"}], \"scatterpolargl\": [{\"marker\": {\"colorbar\": {\"outlinewidth\": 0, \"ticks\": \"\"}}, \"type\": \"scatterpolargl\"}], \"scatterternary\": [{\"marker\": {\"colorbar\": {\"outlinewidth\": 0, \"ticks\": \"\"}}, \"type\": \"scatterternary\"}], \"surface\": [{\"colorbar\": {\"outlinewidth\": 0, \"ticks\": \"\"}, \"colorscale\": [[0.0, \"#0d0887\"], [0.1111111111111111, \"#46039f\"], [0.2222222222222222, \"#7201a8\"], [0.3333333333333333, \"#9c179e\"], [0.4444444444444444, \"#bd3786\"], [0.5555555555555556, \"#d8576b\"], [0.6666666666666666, \"#ed7953\"], [0.7777777777777778, \"#fb9f3a\"], [0.8888888888888888, \"#fdca26\"], [1.0, \"#f0f921\"]], \"type\": \"surface\"}], \"table\": [{\"cells\": {\"fill\": {\"color\": \"#EBF0F8\"}, \"line\": {\"color\": \"white\"}}, \"header\": {\"fill\": {\"color\": \"#C8D4E3\"}, \"line\": {\"color\": \"white\"}}, \"type\": \"table\"}]}, \"layout\": {\"annotationdefaults\": {\"arrowcolor\": \"#2a3f5f\", \"arrowhead\": 0, \"arrowwidth\": 1}, \"coloraxis\": {\"colorbar\": {\"outlinewidth\": 0, \"ticks\": \"\"}}, \"colorscale\": {\"diverging\": [[0, \"#8e0152\"], [0.1, \"#c51b7d\"], [0.2, \"#de77ae\"], [0.3, \"#f1b6da\"], [0.4, \"#fde0ef\"], [0.5, \"#f7f7f7\"], [0.6, \"#e6f5d0\"], [0.7, \"#b8e186\"], [0.8, \"#7fbc41\"], [0.9, \"#4d9221\"], [1, \"#276419\"]], \"sequential\": [[0.0, \"#0d0887\"], [0.1111111111111111, \"#46039f\"], [0.2222222222222222, \"#7201a8\"], [0.3333333333333333, \"#9c179e\"], [0.4444444444444444, \"#bd3786\"], [0.5555555555555556, \"#d8576b\"], [0.6666666666666666, \"#ed7953\"], [0.7777777777777778, \"#fb9f3a\"], [0.8888888888888888, \"#fdca26\"], [1.0, \"#f0f921\"]], \"sequentialminus\": [[0.0, \"#0d0887\"], [0.1111111111111111, \"#46039f\"], [0.2222222222222222, \"#7201a8\"], [0.3333333333333333, \"#9c179e\"], [0.4444444444444444, \"#bd3786\"], [0.5555555555555556, \"#d8576b\"], [0.6666666666666666, \"#ed7953\"], [0.7777777777777778, \"#fb9f3a\"], [0.8888888888888888, \"#fdca26\"], [1.0, \"#f0f921\"]]}, \"colorway\": [\"#636efa\", \"#EF553B\", \"#00cc96\", \"#ab63fa\", \"#FFA15A\", \"#19d3f3\", \"#FF6692\", \"#B6E880\", \"#FF97FF\", \"#FECB52\"], \"font\": {\"color\": \"#2a3f5f\"}, \"geo\": {\"bgcolor\": \"white\", \"lakecolor\": \"white\", \"landcolor\": \"#E5ECF6\", \"showlakes\": true, \"showland\": true, \"subunitcolor\": \"white\"}, \"hoverlabel\": {\"align\": \"left\"}, \"hovermode\": \"closest\", \"mapbox\": {\"style\": \"light\"}, \"paper_bgcolor\": \"white\", \"plot_bgcolor\": \"#E5ECF6\", \"polar\": {\"angularaxis\": {\"gridcolor\": \"white\", \"linecolor\": \"white\", \"ticks\": \"\"}, \"bgcolor\": \"#E5ECF6\", \"radialaxis\": {\"gridcolor\": \"white\", \"linecolor\": \"white\", \"ticks\": \"\"}}, \"scene\": {\"xaxis\": {\"backgroundcolor\": \"#E5ECF6\", \"gridcolor\": \"white\", \"gridwidth\": 2, \"linecolor\": \"white\", \"showbackground\": true, \"ticks\": \"\", \"zerolinecolor\": \"white\"}, \"yaxis\": {\"backgroundcolor\": \"#E5ECF6\", \"gridcolor\": \"white\", \"gridwidth\": 2, \"linecolor\": \"white\", \"showbackground\": true, \"ticks\": \"\", \"zerolinecolor\": \"white\"}, \"zaxis\": {\"backgroundcolor\": \"#E5ECF6\", \"gridcolor\": \"white\", \"gridwidth\": 2, \"linecolor\": \"white\", \"showbackground\": true, \"ticks\": \"\", \"zerolinecolor\": \"white\"}}, \"shapedefaults\": {\"line\": {\"color\": \"#2a3f5f\"}}, \"ternary\": {\"aaxis\": {\"gridcolor\": \"white\", \"linecolor\": \"white\", \"ticks\": \"\"}, \"baxis\": {\"gridcolor\": \"white\", \"linecolor\": \"white\", \"ticks\": \"\"}, \"bgcolor\": \"#E5ECF6\", \"caxis\": {\"gridcolor\": \"white\", \"linecolor\": \"white\", \"ticks\": \"\"}}, \"title\": {\"x\": 0.05}, \"xaxis\": {\"automargin\": true, \"gridcolor\": \"white\", \"linecolor\": \"white\", \"ticks\": \"\", \"title\": {\"standoff\": 15}, \"zerolinecolor\": \"white\", \"zerolinewidth\": 2}, \"yaxis\": {\"automargin\": true, \"gridcolor\": \"white\", \"linecolor\": \"white\", \"ticks\": \"\", \"title\": {\"standoff\": 15}, \"zerolinecolor\": \"white\", \"zerolinewidth\": 2}}}, \"title\": {\"text\": \"Confirmed - Time Series Forecast - Daily Trend\"}, \"xaxis\": {\"gridcolor\": \"rgb(255, 255, 255)\", \"gridwidth\": 2, \"ticklen\": 5, \"title\": {\"text\": \"\"}, \"zerolinewidth\": 1}, \"yaxis\": {\"gridcolor\": \"rgb(255, 255, 255)\", \"gridwidth\": 2, \"ticklen\": 5, \"title\": {\"text\": \"Confirmed nCov - Hubei\"}, \"zerolinewidth\": 1}},\n",
       "                        {\"responsive\": true}\n",
       "                    ).then(function(){\n",
       "                            \n",
       "var gd = document.getElementById('35de4dc1-860b-4cda-9528-975995242c71');\n",
       "var x = new MutationObserver(function (mutations, observer) {{\n",
       "        var display = window.getComputedStyle(gd).display;\n",
       "        if (!display || display === 'none') {{\n",
       "            console.log([gd, 'removed!']);\n",
       "            Plotly.purge(gd);\n",
       "            observer.disconnect();\n",
       "        }}\n",
       "}});\n",
       "\n",
       "// Listen for the removal of the full notebook cells\n",
       "var notebookContainer = gd.closest('#notebook-container');\n",
       "if (notebookContainer) {{\n",
       "    x.observe(notebookContainer, {childList: true});\n",
       "}}\n",
       "\n",
       "// Listen for the clearing of the current output cell\n",
       "var outputEl = gd.closest('.output');\n",
       "if (outputEl) {{\n",
       "    x.observe(outputEl, {childList: true});\n",
       "}}\n",
       "\n",
       "                        })\n",
       "                };\n",
       "                });\n",
       "            </script>\n",
       "        </div>"
      ]
     },
     "metadata": {},
     "output_type": "display_data"
    },
    {
     "name": "stdout",
     "output_type": "stream",
     "text": [
      "MAPE : 45.20949263289125\n"
     ]
    }
   ],
   "source": [
    "def plot_China_without_Hubei():\n",
    "    trace1 = {\n",
    "      \"fill\": None, \n",
    "      \"mode\": \"markers\", \n",
    "      \"name\": \"actual no. of Confirmed\", \n",
    "      \"type\": \"scatter\", \n",
    "      \"x\": df_China_without_Hubei_grouped.ds, \n",
    "      \"y\": df_China_without_Hubei_grouped.y\n",
    "    }\n",
    "    trace2 = {\n",
    "      \"fill\": \"tonexty\", \n",
    "      \"line\": {\"color\": \"#57b8ff\"}, \n",
    "      \"mode\": \"lines\", \n",
    "      \"name\": \"upper_band\", \n",
    "      \"type\": \"scatter\", \n",
    "      \"x\": fcst_daily_China_without_Hubei.ds, \n",
    "      \"y\": fcst_daily_China_without_Hubei.yhat_upper\n",
    "    }\n",
    "    trace3 = {\n",
    "      \"fill\": \"tonexty\", \n",
    "      \"line\": {\"color\": \"#57b8ff\"}, \n",
    "      \"mode\": \"lines\", \n",
    "      \"name\": \"lower_band\", \n",
    "      \"type\": \"scatter\", \n",
    "      \"x\": fcst_daily_China_without_Hubei.ds, \n",
    "      \"y\": fcst_daily_China_without_Hubei.yhat_lower\n",
    "    }\n",
    "    trace4 = {\n",
    "      \"line\": {\"color\": \"#eb0e0e\"}, \n",
    "      \"mode\": \"lines+markers\", \n",
    "      \"name\": \"prediction\", \n",
    "      \"type\": \"scatter\", \n",
    "      \"x\": fcst_daily_China_without_Hubei.ds, \n",
    "      \"y\": fcst_daily_China_without_Hubei.yhat\n",
    "    }\n",
    "    data = [trace1, trace2, trace3, trace4]\n",
    "    layout = {\n",
    "      \"title\": \"Confirmed - Time Series Forecast - Daily Trend\", \n",
    "      \"xaxis\": {\n",
    "        \"title\": \"\", \n",
    "        \"ticklen\": 5, \n",
    "        \"gridcolor\": \"rgb(255, 255, 255)\", \n",
    "        \"gridwidth\": 2, \n",
    "        \"zerolinewidth\": 1\n",
    "      }, \n",
    "      \"yaxis\": {\n",
    "        \"title\": \"Confirmed nCov - Hubei\", \n",
    "        \"ticklen\": 5, \n",
    "        \"gridcolor\": \"rgb(255, 255, 255)\", \n",
    "        \"gridwidth\": 2, \n",
    "        \"zerolinewidth\": 1\n",
    "      }, \n",
    "    }\n",
    "    fig = go.Figure(data=data, layout=layout)\n",
    "    iplot(fig)\n",
    "    max_date = df_China_without_Hubei_grouped.ds.max()\n",
    "    y_true = df_China_without_Hubei_grouped.y.values\n",
    "    y_pred_daily = fcst_daily_China_without_Hubei.loc[fcst_daily_China_without_Hubei['ds'] <= max_date].yhat.values\n",
    "    print('MAPE : {}'.format(mean_absolute_percentage_error(y_true,y_pred_daily)))\n",
    "    \n",
    "    return\n",
    "plot_China_without_Hubei()"
   ]
  },
  {
   "cell_type": "code",
   "execution_count": 196,
   "metadata": {},
   "outputs": [
    {
     "name": "stderr",
     "output_type": "stream",
     "text": [
      "INFO:fbprophet:n_changepoints greater than number of observations. Using 19.\n"
     ]
    }
   ],
   "source": [
    "m_d_SG = Prophet(\n",
    "    yearly_seasonality=False,\n",
    "    weekly_seasonality = False,\n",
    "    daily_seasonality = False,\n",
    "    seasonality_mode = 'additive')\n",
    "\n",
    "df_Singapore_grouped.columns = ['ds','y']\n",
    "\n",
    "m_d_SG.fit(df_Singapore_grouped)\n",
    "future_Singapore_grouped = m_d_SG.make_future_dataframe(periods=7)\n",
    "fcst_daily_Singapore_grouped= m_d_SG.predict(future_Singapore_grouped)"
   ]
  },
  {
   "cell_type": "code",
   "execution_count": 197,
   "metadata": {},
   "outputs": [
    {
     "data": {
      "application/vnd.plotly.v1+json": {
       "config": {
        "linkText": "Export to plot.ly",
        "plotlyServerURL": "https://plot.ly",
        "showLink": false
       },
       "data": [
        {
         "mode": "markers",
         "name": "actual no. of Confirmed",
         "type": "scatter",
         "x": [
          "2020-01-23T00:00:00",
          "2020-01-24T00:00:00",
          "2020-01-25T00:00:00",
          "2020-01-26T00:00:00",
          "2020-01-27T00:00:00",
          "2020-01-28T00:00:00",
          "2020-01-29T00:00:00",
          "2020-01-30T00:00:00",
          "2020-01-31T00:00:00",
          "2020-02-01T00:00:00",
          "2020-02-02T00:00:00",
          "2020-02-03T00:00:00",
          "2020-02-04T00:00:00",
          "2020-02-05T00:00:00",
          "2020-02-06T00:00:00",
          "2020-02-07T00:00:00",
          "2020-02-08T00:00:00",
          "2020-02-09T00:00:00",
          "2020-02-10T00:00:00",
          "2020-02-11T00:00:00",
          "2020-02-12T00:00:00",
          "2020-02-13T00:00:00",
          "2020-02-14T00:00:00",
          "2020-02-15T00:00:00",
          "2020-02-16T00:00:00",
          "2020-02-17T00:00:00"
         ],
         "y": [
          1,
          3,
          3,
          4,
          5,
          7,
          10,
          10,
          16,
          18,
          18,
          18,
          24,
          28,
          28,
          30,
          40,
          43,
          45,
          47,
          50,
          58,
          67,
          72,
          75,
          77
         ]
        },
        {
         "fill": "tonexty",
         "line": {
          "color": "#57b8ff"
         },
         "mode": "lines",
         "name": "upper_band",
         "type": "scatter",
         "x": [
          "2020-01-23T00:00:00",
          "2020-01-24T00:00:00",
          "2020-01-25T00:00:00",
          "2020-01-26T00:00:00",
          "2020-01-27T00:00:00",
          "2020-01-28T00:00:00",
          "2020-01-29T00:00:00",
          "2020-01-30T00:00:00",
          "2020-01-31T00:00:00",
          "2020-02-01T00:00:00",
          "2020-02-02T00:00:00",
          "2020-02-03T00:00:00",
          "2020-02-04T00:00:00",
          "2020-02-05T00:00:00",
          "2020-02-06T00:00:00",
          "2020-02-07T00:00:00",
          "2020-02-08T00:00:00",
          "2020-02-09T00:00:00",
          "2020-02-10T00:00:00",
          "2020-02-11T00:00:00",
          "2020-02-12T00:00:00",
          "2020-02-13T00:00:00",
          "2020-02-14T00:00:00",
          "2020-02-15T00:00:00",
          "2020-02-16T00:00:00",
          "2020-02-17T00:00:00",
          "2020-02-18T00:00:00",
          "2020-02-19T00:00:00",
          "2020-02-20T00:00:00",
          "2020-02-21T00:00:00",
          "2020-02-22T00:00:00",
          "2020-02-23T00:00:00",
          "2020-02-24T00:00:00"
         ],
         "y": [
          1.0699786171238348,
          3.143660405507746,
          5.106645156679178,
          7.357467082800503,
          9.430329355123765,
          11.342655678086924,
          13.52282862633099,
          15.605508103513472,
          17.87876169027836,
          19.547430632188394,
          21.81342963574785,
          24.053255708652287,
          26.007074065607604,
          29.227310643007062,
          31.739552784863303,
          35.92738580018709,
          39.99768198291253,
          44.727801660362914,
          49.04464484068756,
          53.27741484674641,
          57.72372669505175,
          62.29154438665677,
          66.76072181211926,
          70.94864294146244,
          75.33391729434615,
          79.84857286631694,
          83.98497125016202,
          88.55753065131984,
          93.05950646718121,
          97.2821373755338,
          101.92785365282276,
          106.42551984141205,
          111.04300560381438
         ]
        },
        {
         "fill": "tonexty",
         "line": {
          "color": "#57b8ff"
         },
         "mode": "lines",
         "name": "lower_band",
         "type": "scatter",
         "x": [
          "2020-01-23T00:00:00",
          "2020-01-24T00:00:00",
          "2020-01-25T00:00:00",
          "2020-01-26T00:00:00",
          "2020-01-27T00:00:00",
          "2020-01-28T00:00:00",
          "2020-01-29T00:00:00",
          "2020-01-30T00:00:00",
          "2020-01-31T00:00:00",
          "2020-02-01T00:00:00",
          "2020-02-02T00:00:00",
          "2020-02-03T00:00:00",
          "2020-02-04T00:00:00",
          "2020-02-05T00:00:00",
          "2020-02-06T00:00:00",
          "2020-02-07T00:00:00",
          "2020-02-08T00:00:00",
          "2020-02-09T00:00:00",
          "2020-02-10T00:00:00",
          "2020-02-11T00:00:00",
          "2020-02-12T00:00:00",
          "2020-02-13T00:00:00",
          "2020-02-14T00:00:00",
          "2020-02-15T00:00:00",
          "2020-02-16T00:00:00",
          "2020-02-17T00:00:00",
          "2020-02-18T00:00:00",
          "2020-02-19T00:00:00",
          "2020-02-20T00:00:00",
          "2020-02-21T00:00:00",
          "2020-02-22T00:00:00",
          "2020-02-23T00:00:00",
          "2020-02-24T00:00:00"
         ],
         "y": [
          -4.826213944262632,
          -2.9641170597919126,
          -0.5827861372925436,
          1.6020511521445473,
          3.4259191479692457,
          5.677388722859055,
          7.540489254804701,
          9.651415739369947,
          11.688590353184972,
          14.093741575928696,
          15.871695127878118,
          18.156121015032383,
          20.26829311627065,
          23.051737102215785,
          26.030841278729877,
          29.857228187268284,
          34.531389214125376,
          38.80155814334703,
          43.364372912181885,
          47.80851095519505,
          51.82433221126451,
          56.4872586280948,
          60.76164396615527,
          65.21198197405303,
          69.37976370297632,
          73.95743925751785,
          78.20774929076492,
          82.57092646867414,
          87.00033698422394,
          91.27421969540775,
          95.53349442953437,
          99.76063500782128,
          104.06033632069234
         ]
        },
        {
         "line": {
          "color": "#eb0e0e"
         },
         "mode": "lines+markers",
         "name": "prediction",
         "type": "scatter",
         "x": [
          "2020-01-23T00:00:00",
          "2020-01-24T00:00:00",
          "2020-01-25T00:00:00",
          "2020-01-26T00:00:00",
          "2020-01-27T00:00:00",
          "2020-01-28T00:00:00",
          "2020-01-29T00:00:00",
          "2020-01-30T00:00:00",
          "2020-01-31T00:00:00",
          "2020-02-01T00:00:00",
          "2020-02-02T00:00:00",
          "2020-02-03T00:00:00",
          "2020-02-04T00:00:00",
          "2020-02-05T00:00:00",
          "2020-02-06T00:00:00",
          "2020-02-07T00:00:00",
          "2020-02-08T00:00:00",
          "2020-02-09T00:00:00",
          "2020-02-10T00:00:00",
          "2020-02-11T00:00:00",
          "2020-02-12T00:00:00",
          "2020-02-13T00:00:00",
          "2020-02-14T00:00:00",
          "2020-02-15T00:00:00",
          "2020-02-16T00:00:00",
          "2020-02-17T00:00:00",
          "2020-02-18T00:00:00",
          "2020-02-19T00:00:00",
          "2020-02-20T00:00:00",
          "2020-02-21T00:00:00",
          "2020-02-22T00:00:00",
          "2020-02-23T00:00:00",
          "2020-02-24T00:00:00"
         ],
         "y": [
          -1.9103343666521309,
          0.1760934565093366,
          2.2625212503657295,
          4.348948998040042,
          6.4353767568533655,
          8.521804556860278,
          10.608337546997054,
          12.695132448970954,
          14.783029884436479,
          16.872847991830202,
          18.964928800552563,
          21.059480219085508,
          23.156103148965386,
          26.062451848788037,
          28.97131405874601,
          32.97429474532111,
          37.357696243961364,
          41.743991259570265,
          46.13071776808048,
          50.518598939523486,
          54.906944498734696,
          59.295290057945905,
          63.683635617157115,
          68.07198117636831,
          72.46032673557951,
          76.8486722947907,
          81.23701785400193,
          85.62536341321312,
          90.01370897242435,
          94.40205453163554,
          98.79040009084673,
          103.17874565005796,
          107.56709120926915
         ]
        }
       ],
       "layout": {
        "template": {
         "data": {
          "bar": [
           {
            "error_x": {
             "color": "#2a3f5f"
            },
            "error_y": {
             "color": "#2a3f5f"
            },
            "marker": {
             "line": {
              "color": "#E5ECF6",
              "width": 0.5
             }
            },
            "type": "bar"
           }
          ],
          "barpolar": [
           {
            "marker": {
             "line": {
              "color": "#E5ECF6",
              "width": 0.5
             }
            },
            "type": "barpolar"
           }
          ],
          "carpet": [
           {
            "aaxis": {
             "endlinecolor": "#2a3f5f",
             "gridcolor": "white",
             "linecolor": "white",
             "minorgridcolor": "white",
             "startlinecolor": "#2a3f5f"
            },
            "baxis": {
             "endlinecolor": "#2a3f5f",
             "gridcolor": "white",
             "linecolor": "white",
             "minorgridcolor": "white",
             "startlinecolor": "#2a3f5f"
            },
            "type": "carpet"
           }
          ],
          "choropleth": [
           {
            "colorbar": {
             "outlinewidth": 0,
             "ticks": ""
            },
            "type": "choropleth"
           }
          ],
          "contour": [
           {
            "colorbar": {
             "outlinewidth": 0,
             "ticks": ""
            },
            "colorscale": [
             [
              0,
              "#0d0887"
             ],
             [
              0.1111111111111111,
              "#46039f"
             ],
             [
              0.2222222222222222,
              "#7201a8"
             ],
             [
              0.3333333333333333,
              "#9c179e"
             ],
             [
              0.4444444444444444,
              "#bd3786"
             ],
             [
              0.5555555555555556,
              "#d8576b"
             ],
             [
              0.6666666666666666,
              "#ed7953"
             ],
             [
              0.7777777777777778,
              "#fb9f3a"
             ],
             [
              0.8888888888888888,
              "#fdca26"
             ],
             [
              1,
              "#f0f921"
             ]
            ],
            "type": "contour"
           }
          ],
          "contourcarpet": [
           {
            "colorbar": {
             "outlinewidth": 0,
             "ticks": ""
            },
            "type": "contourcarpet"
           }
          ],
          "heatmap": [
           {
            "colorbar": {
             "outlinewidth": 0,
             "ticks": ""
            },
            "colorscale": [
             [
              0,
              "#0d0887"
             ],
             [
              0.1111111111111111,
              "#46039f"
             ],
             [
              0.2222222222222222,
              "#7201a8"
             ],
             [
              0.3333333333333333,
              "#9c179e"
             ],
             [
              0.4444444444444444,
              "#bd3786"
             ],
             [
              0.5555555555555556,
              "#d8576b"
             ],
             [
              0.6666666666666666,
              "#ed7953"
             ],
             [
              0.7777777777777778,
              "#fb9f3a"
             ],
             [
              0.8888888888888888,
              "#fdca26"
             ],
             [
              1,
              "#f0f921"
             ]
            ],
            "type": "heatmap"
           }
          ],
          "heatmapgl": [
           {
            "colorbar": {
             "outlinewidth": 0,
             "ticks": ""
            },
            "colorscale": [
             [
              0,
              "#0d0887"
             ],
             [
              0.1111111111111111,
              "#46039f"
             ],
             [
              0.2222222222222222,
              "#7201a8"
             ],
             [
              0.3333333333333333,
              "#9c179e"
             ],
             [
              0.4444444444444444,
              "#bd3786"
             ],
             [
              0.5555555555555556,
              "#d8576b"
             ],
             [
              0.6666666666666666,
              "#ed7953"
             ],
             [
              0.7777777777777778,
              "#fb9f3a"
             ],
             [
              0.8888888888888888,
              "#fdca26"
             ],
             [
              1,
              "#f0f921"
             ]
            ],
            "type": "heatmapgl"
           }
          ],
          "histogram": [
           {
            "marker": {
             "colorbar": {
              "outlinewidth": 0,
              "ticks": ""
             }
            },
            "type": "histogram"
           }
          ],
          "histogram2d": [
           {
            "colorbar": {
             "outlinewidth": 0,
             "ticks": ""
            },
            "colorscale": [
             [
              0,
              "#0d0887"
             ],
             [
              0.1111111111111111,
              "#46039f"
             ],
             [
              0.2222222222222222,
              "#7201a8"
             ],
             [
              0.3333333333333333,
              "#9c179e"
             ],
             [
              0.4444444444444444,
              "#bd3786"
             ],
             [
              0.5555555555555556,
              "#d8576b"
             ],
             [
              0.6666666666666666,
              "#ed7953"
             ],
             [
              0.7777777777777778,
              "#fb9f3a"
             ],
             [
              0.8888888888888888,
              "#fdca26"
             ],
             [
              1,
              "#f0f921"
             ]
            ],
            "type": "histogram2d"
           }
          ],
          "histogram2dcontour": [
           {
            "colorbar": {
             "outlinewidth": 0,
             "ticks": ""
            },
            "colorscale": [
             [
              0,
              "#0d0887"
             ],
             [
              0.1111111111111111,
              "#46039f"
             ],
             [
              0.2222222222222222,
              "#7201a8"
             ],
             [
              0.3333333333333333,
              "#9c179e"
             ],
             [
              0.4444444444444444,
              "#bd3786"
             ],
             [
              0.5555555555555556,
              "#d8576b"
             ],
             [
              0.6666666666666666,
              "#ed7953"
             ],
             [
              0.7777777777777778,
              "#fb9f3a"
             ],
             [
              0.8888888888888888,
              "#fdca26"
             ],
             [
              1,
              "#f0f921"
             ]
            ],
            "type": "histogram2dcontour"
           }
          ],
          "mesh3d": [
           {
            "colorbar": {
             "outlinewidth": 0,
             "ticks": ""
            },
            "type": "mesh3d"
           }
          ],
          "parcoords": [
           {
            "line": {
             "colorbar": {
              "outlinewidth": 0,
              "ticks": ""
             }
            },
            "type": "parcoords"
           }
          ],
          "pie": [
           {
            "automargin": true,
            "type": "pie"
           }
          ],
          "scatter": [
           {
            "marker": {
             "colorbar": {
              "outlinewidth": 0,
              "ticks": ""
             }
            },
            "type": "scatter"
           }
          ],
          "scatter3d": [
           {
            "line": {
             "colorbar": {
              "outlinewidth": 0,
              "ticks": ""
             }
            },
            "marker": {
             "colorbar": {
              "outlinewidth": 0,
              "ticks": ""
             }
            },
            "type": "scatter3d"
           }
          ],
          "scattercarpet": [
           {
            "marker": {
             "colorbar": {
              "outlinewidth": 0,
              "ticks": ""
             }
            },
            "type": "scattercarpet"
           }
          ],
          "scattergeo": [
           {
            "marker": {
             "colorbar": {
              "outlinewidth": 0,
              "ticks": ""
             }
            },
            "type": "scattergeo"
           }
          ],
          "scattergl": [
           {
            "marker": {
             "colorbar": {
              "outlinewidth": 0,
              "ticks": ""
             }
            },
            "type": "scattergl"
           }
          ],
          "scattermapbox": [
           {
            "marker": {
             "colorbar": {
              "outlinewidth": 0,
              "ticks": ""
             }
            },
            "type": "scattermapbox"
           }
          ],
          "scatterpolar": [
           {
            "marker": {
             "colorbar": {
              "outlinewidth": 0,
              "ticks": ""
             }
            },
            "type": "scatterpolar"
           }
          ],
          "scatterpolargl": [
           {
            "marker": {
             "colorbar": {
              "outlinewidth": 0,
              "ticks": ""
             }
            },
            "type": "scatterpolargl"
           }
          ],
          "scatterternary": [
           {
            "marker": {
             "colorbar": {
              "outlinewidth": 0,
              "ticks": ""
             }
            },
            "type": "scatterternary"
           }
          ],
          "surface": [
           {
            "colorbar": {
             "outlinewidth": 0,
             "ticks": ""
            },
            "colorscale": [
             [
              0,
              "#0d0887"
             ],
             [
              0.1111111111111111,
              "#46039f"
             ],
             [
              0.2222222222222222,
              "#7201a8"
             ],
             [
              0.3333333333333333,
              "#9c179e"
             ],
             [
              0.4444444444444444,
              "#bd3786"
             ],
             [
              0.5555555555555556,
              "#d8576b"
             ],
             [
              0.6666666666666666,
              "#ed7953"
             ],
             [
              0.7777777777777778,
              "#fb9f3a"
             ],
             [
              0.8888888888888888,
              "#fdca26"
             ],
             [
              1,
              "#f0f921"
             ]
            ],
            "type": "surface"
           }
          ],
          "table": [
           {
            "cells": {
             "fill": {
              "color": "#EBF0F8"
             },
             "line": {
              "color": "white"
             }
            },
            "header": {
             "fill": {
              "color": "#C8D4E3"
             },
             "line": {
              "color": "white"
             }
            },
            "type": "table"
           }
          ]
         },
         "layout": {
          "annotationdefaults": {
           "arrowcolor": "#2a3f5f",
           "arrowhead": 0,
           "arrowwidth": 1
          },
          "coloraxis": {
           "colorbar": {
            "outlinewidth": 0,
            "ticks": ""
           }
          },
          "colorscale": {
           "diverging": [
            [
             0,
             "#8e0152"
            ],
            [
             0.1,
             "#c51b7d"
            ],
            [
             0.2,
             "#de77ae"
            ],
            [
             0.3,
             "#f1b6da"
            ],
            [
             0.4,
             "#fde0ef"
            ],
            [
             0.5,
             "#f7f7f7"
            ],
            [
             0.6,
             "#e6f5d0"
            ],
            [
             0.7,
             "#b8e186"
            ],
            [
             0.8,
             "#7fbc41"
            ],
            [
             0.9,
             "#4d9221"
            ],
            [
             1,
             "#276419"
            ]
           ],
           "sequential": [
            [
             0,
             "#0d0887"
            ],
            [
             0.1111111111111111,
             "#46039f"
            ],
            [
             0.2222222222222222,
             "#7201a8"
            ],
            [
             0.3333333333333333,
             "#9c179e"
            ],
            [
             0.4444444444444444,
             "#bd3786"
            ],
            [
             0.5555555555555556,
             "#d8576b"
            ],
            [
             0.6666666666666666,
             "#ed7953"
            ],
            [
             0.7777777777777778,
             "#fb9f3a"
            ],
            [
             0.8888888888888888,
             "#fdca26"
            ],
            [
             1,
             "#f0f921"
            ]
           ],
           "sequentialminus": [
            [
             0,
             "#0d0887"
            ],
            [
             0.1111111111111111,
             "#46039f"
            ],
            [
             0.2222222222222222,
             "#7201a8"
            ],
            [
             0.3333333333333333,
             "#9c179e"
            ],
            [
             0.4444444444444444,
             "#bd3786"
            ],
            [
             0.5555555555555556,
             "#d8576b"
            ],
            [
             0.6666666666666666,
             "#ed7953"
            ],
            [
             0.7777777777777778,
             "#fb9f3a"
            ],
            [
             0.8888888888888888,
             "#fdca26"
            ],
            [
             1,
             "#f0f921"
            ]
           ]
          },
          "colorway": [
           "#636efa",
           "#EF553B",
           "#00cc96",
           "#ab63fa",
           "#FFA15A",
           "#19d3f3",
           "#FF6692",
           "#B6E880",
           "#FF97FF",
           "#FECB52"
          ],
          "font": {
           "color": "#2a3f5f"
          },
          "geo": {
           "bgcolor": "white",
           "lakecolor": "white",
           "landcolor": "#E5ECF6",
           "showlakes": true,
           "showland": true,
           "subunitcolor": "white"
          },
          "hoverlabel": {
           "align": "left"
          },
          "hovermode": "closest",
          "mapbox": {
           "style": "light"
          },
          "paper_bgcolor": "white",
          "plot_bgcolor": "#E5ECF6",
          "polar": {
           "angularaxis": {
            "gridcolor": "white",
            "linecolor": "white",
            "ticks": ""
           },
           "bgcolor": "#E5ECF6",
           "radialaxis": {
            "gridcolor": "white",
            "linecolor": "white",
            "ticks": ""
           }
          },
          "scene": {
           "xaxis": {
            "backgroundcolor": "#E5ECF6",
            "gridcolor": "white",
            "gridwidth": 2,
            "linecolor": "white",
            "showbackground": true,
            "ticks": "",
            "zerolinecolor": "white"
           },
           "yaxis": {
            "backgroundcolor": "#E5ECF6",
            "gridcolor": "white",
            "gridwidth": 2,
            "linecolor": "white",
            "showbackground": true,
            "ticks": "",
            "zerolinecolor": "white"
           },
           "zaxis": {
            "backgroundcolor": "#E5ECF6",
            "gridcolor": "white",
            "gridwidth": 2,
            "linecolor": "white",
            "showbackground": true,
            "ticks": "",
            "zerolinecolor": "white"
           }
          },
          "shapedefaults": {
           "line": {
            "color": "#2a3f5f"
           }
          },
          "ternary": {
           "aaxis": {
            "gridcolor": "white",
            "linecolor": "white",
            "ticks": ""
           },
           "baxis": {
            "gridcolor": "white",
            "linecolor": "white",
            "ticks": ""
           },
           "bgcolor": "#E5ECF6",
           "caxis": {
            "gridcolor": "white",
            "linecolor": "white",
            "ticks": ""
           }
          },
          "title": {
           "x": 0.05
          },
          "xaxis": {
           "automargin": true,
           "gridcolor": "white",
           "linecolor": "white",
           "ticks": "",
           "title": {
            "standoff": 15
           },
           "zerolinecolor": "white",
           "zerolinewidth": 2
          },
          "yaxis": {
           "automargin": true,
           "gridcolor": "white",
           "linecolor": "white",
           "ticks": "",
           "title": {
            "standoff": 15
           },
           "zerolinecolor": "white",
           "zerolinewidth": 2
          }
         }
        },
        "title": {
         "text": "Confirmed - Time Series Forecast - Daily Trend"
        },
        "xaxis": {
         "gridcolor": "rgb(255, 255, 255)",
         "gridwidth": 2,
         "ticklen": 5,
         "title": {
          "text": ""
         },
         "zerolinewidth": 1
        },
        "yaxis": {
         "gridcolor": "rgb(255, 255, 255)",
         "gridwidth": 2,
         "ticklen": 5,
         "title": {
          "text": "Confirmed nCov - Hubei"
         },
         "zerolinewidth": 1
        }
       }
      },
      "text/html": [
       "<div>\n",
       "        \n",
       "        \n",
       "            <div id=\"cbbd43bd-d5e1-400b-97e1-dbfaa474f6a4\" class=\"plotly-graph-div\" style=\"height:525px; width:100%;\"></div>\n",
       "            <script type=\"text/javascript\">\n",
       "                require([\"plotly\"], function(Plotly) {\n",
       "                    window.PLOTLYENV=window.PLOTLYENV || {};\n",
       "                    \n",
       "                if (document.getElementById(\"cbbd43bd-d5e1-400b-97e1-dbfaa474f6a4\")) {\n",
       "                    Plotly.newPlot(\n",
       "                        'cbbd43bd-d5e1-400b-97e1-dbfaa474f6a4',\n",
       "                        [{\"mode\": \"markers\", \"name\": \"actual no. of Confirmed\", \"type\": \"scatter\", \"x\": [\"2020-01-23T00:00:00\", \"2020-01-24T00:00:00\", \"2020-01-25T00:00:00\", \"2020-01-26T00:00:00\", \"2020-01-27T00:00:00\", \"2020-01-28T00:00:00\", \"2020-01-29T00:00:00\", \"2020-01-30T00:00:00\", \"2020-01-31T00:00:00\", \"2020-02-01T00:00:00\", \"2020-02-02T00:00:00\", \"2020-02-03T00:00:00\", \"2020-02-04T00:00:00\", \"2020-02-05T00:00:00\", \"2020-02-06T00:00:00\", \"2020-02-07T00:00:00\", \"2020-02-08T00:00:00\", \"2020-02-09T00:00:00\", \"2020-02-10T00:00:00\", \"2020-02-11T00:00:00\", \"2020-02-12T00:00:00\", \"2020-02-13T00:00:00\", \"2020-02-14T00:00:00\", \"2020-02-15T00:00:00\", \"2020-02-16T00:00:00\", \"2020-02-17T00:00:00\"], \"y\": [1, 3, 3, 4, 5, 7, 10, 10, 16, 18, 18, 18, 24, 28, 28, 30, 40, 43, 45, 47, 50, 58, 67, 72, 75, 77]}, {\"fill\": \"tonexty\", \"line\": {\"color\": \"#57b8ff\"}, \"mode\": \"lines\", \"name\": \"upper_band\", \"type\": \"scatter\", \"x\": [\"2020-01-23T00:00:00\", \"2020-01-24T00:00:00\", \"2020-01-25T00:00:00\", \"2020-01-26T00:00:00\", \"2020-01-27T00:00:00\", \"2020-01-28T00:00:00\", \"2020-01-29T00:00:00\", \"2020-01-30T00:00:00\", \"2020-01-31T00:00:00\", \"2020-02-01T00:00:00\", \"2020-02-02T00:00:00\", \"2020-02-03T00:00:00\", \"2020-02-04T00:00:00\", \"2020-02-05T00:00:00\", \"2020-02-06T00:00:00\", \"2020-02-07T00:00:00\", \"2020-02-08T00:00:00\", \"2020-02-09T00:00:00\", \"2020-02-10T00:00:00\", \"2020-02-11T00:00:00\", \"2020-02-12T00:00:00\", \"2020-02-13T00:00:00\", \"2020-02-14T00:00:00\", \"2020-02-15T00:00:00\", \"2020-02-16T00:00:00\", \"2020-02-17T00:00:00\", \"2020-02-18T00:00:00\", \"2020-02-19T00:00:00\", \"2020-02-20T00:00:00\", \"2020-02-21T00:00:00\", \"2020-02-22T00:00:00\", \"2020-02-23T00:00:00\", \"2020-02-24T00:00:00\"], \"y\": [1.0699786171238348, 3.143660405507746, 5.106645156679178, 7.357467082800503, 9.430329355123765, 11.342655678086924, 13.52282862633099, 15.605508103513472, 17.87876169027836, 19.547430632188394, 21.81342963574785, 24.053255708652287, 26.007074065607604, 29.227310643007062, 31.739552784863303, 35.92738580018709, 39.99768198291253, 44.727801660362914, 49.04464484068756, 53.27741484674641, 57.72372669505175, 62.29154438665677, 66.76072181211926, 70.94864294146244, 75.33391729434615, 79.84857286631694, 83.98497125016202, 88.55753065131984, 93.05950646718121, 97.2821373755338, 101.92785365282276, 106.42551984141205, 111.04300560381438]}, {\"fill\": \"tonexty\", \"line\": {\"color\": \"#57b8ff\"}, \"mode\": \"lines\", \"name\": \"lower_band\", \"type\": \"scatter\", \"x\": [\"2020-01-23T00:00:00\", \"2020-01-24T00:00:00\", \"2020-01-25T00:00:00\", \"2020-01-26T00:00:00\", \"2020-01-27T00:00:00\", \"2020-01-28T00:00:00\", \"2020-01-29T00:00:00\", \"2020-01-30T00:00:00\", \"2020-01-31T00:00:00\", \"2020-02-01T00:00:00\", \"2020-02-02T00:00:00\", \"2020-02-03T00:00:00\", \"2020-02-04T00:00:00\", \"2020-02-05T00:00:00\", \"2020-02-06T00:00:00\", \"2020-02-07T00:00:00\", \"2020-02-08T00:00:00\", \"2020-02-09T00:00:00\", \"2020-02-10T00:00:00\", \"2020-02-11T00:00:00\", \"2020-02-12T00:00:00\", \"2020-02-13T00:00:00\", \"2020-02-14T00:00:00\", \"2020-02-15T00:00:00\", \"2020-02-16T00:00:00\", \"2020-02-17T00:00:00\", \"2020-02-18T00:00:00\", \"2020-02-19T00:00:00\", \"2020-02-20T00:00:00\", \"2020-02-21T00:00:00\", \"2020-02-22T00:00:00\", \"2020-02-23T00:00:00\", \"2020-02-24T00:00:00\"], \"y\": [-4.826213944262632, -2.9641170597919126, -0.5827861372925436, 1.6020511521445473, 3.4259191479692457, 5.677388722859055, 7.540489254804701, 9.651415739369947, 11.688590353184972, 14.093741575928696, 15.871695127878118, 18.156121015032383, 20.26829311627065, 23.051737102215785, 26.030841278729877, 29.857228187268284, 34.531389214125376, 38.80155814334703, 43.364372912181885, 47.80851095519505, 51.82433221126451, 56.4872586280948, 60.76164396615527, 65.21198197405303, 69.37976370297632, 73.95743925751785, 78.20774929076492, 82.57092646867414, 87.00033698422394, 91.27421969540775, 95.53349442953437, 99.76063500782128, 104.06033632069234]}, {\"line\": {\"color\": \"#eb0e0e\"}, \"mode\": \"lines+markers\", \"name\": \"prediction\", \"type\": \"scatter\", \"x\": [\"2020-01-23T00:00:00\", \"2020-01-24T00:00:00\", \"2020-01-25T00:00:00\", \"2020-01-26T00:00:00\", \"2020-01-27T00:00:00\", \"2020-01-28T00:00:00\", \"2020-01-29T00:00:00\", \"2020-01-30T00:00:00\", \"2020-01-31T00:00:00\", \"2020-02-01T00:00:00\", \"2020-02-02T00:00:00\", \"2020-02-03T00:00:00\", \"2020-02-04T00:00:00\", \"2020-02-05T00:00:00\", \"2020-02-06T00:00:00\", \"2020-02-07T00:00:00\", \"2020-02-08T00:00:00\", \"2020-02-09T00:00:00\", \"2020-02-10T00:00:00\", \"2020-02-11T00:00:00\", \"2020-02-12T00:00:00\", \"2020-02-13T00:00:00\", \"2020-02-14T00:00:00\", \"2020-02-15T00:00:00\", \"2020-02-16T00:00:00\", \"2020-02-17T00:00:00\", \"2020-02-18T00:00:00\", \"2020-02-19T00:00:00\", \"2020-02-20T00:00:00\", \"2020-02-21T00:00:00\", \"2020-02-22T00:00:00\", \"2020-02-23T00:00:00\", \"2020-02-24T00:00:00\"], \"y\": [-1.9103343666521309, 0.1760934565093366, 2.2625212503657295, 4.348948998040042, 6.4353767568533655, 8.521804556860278, 10.608337546997054, 12.695132448970954, 14.783029884436479, 16.872847991830202, 18.964928800552563, 21.059480219085508, 23.156103148965386, 26.062451848788037, 28.97131405874601, 32.97429474532111, 37.357696243961364, 41.743991259570265, 46.13071776808048, 50.518598939523486, 54.906944498734696, 59.295290057945905, 63.683635617157115, 68.07198117636831, 72.46032673557951, 76.8486722947907, 81.23701785400193, 85.62536341321312, 90.01370897242435, 94.40205453163554, 98.79040009084673, 103.17874565005796, 107.56709120926915]}],\n",
       "                        {\"template\": {\"data\": {\"bar\": [{\"error_x\": {\"color\": \"#2a3f5f\"}, \"error_y\": {\"color\": \"#2a3f5f\"}, \"marker\": {\"line\": {\"color\": \"#E5ECF6\", \"width\": 0.5}}, \"type\": \"bar\"}], \"barpolar\": [{\"marker\": {\"line\": {\"color\": \"#E5ECF6\", \"width\": 0.5}}, \"type\": \"barpolar\"}], \"carpet\": [{\"aaxis\": {\"endlinecolor\": \"#2a3f5f\", \"gridcolor\": \"white\", \"linecolor\": \"white\", \"minorgridcolor\": \"white\", \"startlinecolor\": \"#2a3f5f\"}, \"baxis\": {\"endlinecolor\": \"#2a3f5f\", \"gridcolor\": \"white\", \"linecolor\": \"white\", \"minorgridcolor\": \"white\", \"startlinecolor\": \"#2a3f5f\"}, \"type\": \"carpet\"}], \"choropleth\": [{\"colorbar\": {\"outlinewidth\": 0, \"ticks\": \"\"}, \"type\": \"choropleth\"}], \"contour\": [{\"colorbar\": {\"outlinewidth\": 0, \"ticks\": \"\"}, \"colorscale\": [[0.0, \"#0d0887\"], [0.1111111111111111, \"#46039f\"], [0.2222222222222222, \"#7201a8\"], [0.3333333333333333, \"#9c179e\"], [0.4444444444444444, \"#bd3786\"], [0.5555555555555556, \"#d8576b\"], [0.6666666666666666, \"#ed7953\"], [0.7777777777777778, \"#fb9f3a\"], [0.8888888888888888, \"#fdca26\"], [1.0, \"#f0f921\"]], \"type\": \"contour\"}], \"contourcarpet\": [{\"colorbar\": {\"outlinewidth\": 0, \"ticks\": \"\"}, \"type\": \"contourcarpet\"}], \"heatmap\": [{\"colorbar\": {\"outlinewidth\": 0, \"ticks\": \"\"}, \"colorscale\": [[0.0, \"#0d0887\"], [0.1111111111111111, \"#46039f\"], [0.2222222222222222, \"#7201a8\"], [0.3333333333333333, \"#9c179e\"], [0.4444444444444444, \"#bd3786\"], [0.5555555555555556, \"#d8576b\"], [0.6666666666666666, \"#ed7953\"], [0.7777777777777778, \"#fb9f3a\"], [0.8888888888888888, \"#fdca26\"], [1.0, \"#f0f921\"]], \"type\": \"heatmap\"}], \"heatmapgl\": [{\"colorbar\": {\"outlinewidth\": 0, \"ticks\": \"\"}, \"colorscale\": [[0.0, \"#0d0887\"], [0.1111111111111111, \"#46039f\"], [0.2222222222222222, \"#7201a8\"], [0.3333333333333333, \"#9c179e\"], [0.4444444444444444, \"#bd3786\"], [0.5555555555555556, \"#d8576b\"], [0.6666666666666666, \"#ed7953\"], [0.7777777777777778, \"#fb9f3a\"], [0.8888888888888888, \"#fdca26\"], [1.0, \"#f0f921\"]], \"type\": \"heatmapgl\"}], \"histogram\": [{\"marker\": {\"colorbar\": {\"outlinewidth\": 0, \"ticks\": \"\"}}, \"type\": \"histogram\"}], \"histogram2d\": [{\"colorbar\": {\"outlinewidth\": 0, \"ticks\": \"\"}, \"colorscale\": [[0.0, \"#0d0887\"], [0.1111111111111111, \"#46039f\"], [0.2222222222222222, \"#7201a8\"], [0.3333333333333333, \"#9c179e\"], [0.4444444444444444, \"#bd3786\"], [0.5555555555555556, \"#d8576b\"], [0.6666666666666666, \"#ed7953\"], [0.7777777777777778, \"#fb9f3a\"], [0.8888888888888888, \"#fdca26\"], [1.0, \"#f0f921\"]], \"type\": \"histogram2d\"}], \"histogram2dcontour\": [{\"colorbar\": {\"outlinewidth\": 0, \"ticks\": \"\"}, \"colorscale\": [[0.0, \"#0d0887\"], [0.1111111111111111, \"#46039f\"], [0.2222222222222222, \"#7201a8\"], [0.3333333333333333, \"#9c179e\"], [0.4444444444444444, \"#bd3786\"], [0.5555555555555556, \"#d8576b\"], [0.6666666666666666, \"#ed7953\"], [0.7777777777777778, \"#fb9f3a\"], [0.8888888888888888, \"#fdca26\"], [1.0, \"#f0f921\"]], \"type\": \"histogram2dcontour\"}], \"mesh3d\": [{\"colorbar\": {\"outlinewidth\": 0, \"ticks\": \"\"}, \"type\": \"mesh3d\"}], \"parcoords\": [{\"line\": {\"colorbar\": {\"outlinewidth\": 0, \"ticks\": \"\"}}, \"type\": \"parcoords\"}], \"pie\": [{\"automargin\": true, \"type\": \"pie\"}], \"scatter\": [{\"marker\": {\"colorbar\": {\"outlinewidth\": 0, \"ticks\": \"\"}}, \"type\": \"scatter\"}], \"scatter3d\": [{\"line\": {\"colorbar\": {\"outlinewidth\": 0, \"ticks\": \"\"}}, \"marker\": {\"colorbar\": {\"outlinewidth\": 0, \"ticks\": \"\"}}, \"type\": \"scatter3d\"}], \"scattercarpet\": [{\"marker\": {\"colorbar\": {\"outlinewidth\": 0, \"ticks\": \"\"}}, \"type\": \"scattercarpet\"}], \"scattergeo\": [{\"marker\": {\"colorbar\": {\"outlinewidth\": 0, \"ticks\": \"\"}}, \"type\": \"scattergeo\"}], \"scattergl\": [{\"marker\": {\"colorbar\": {\"outlinewidth\": 0, \"ticks\": \"\"}}, \"type\": \"scattergl\"}], \"scattermapbox\": [{\"marker\": {\"colorbar\": {\"outlinewidth\": 0, \"ticks\": \"\"}}, \"type\": \"scattermapbox\"}], \"scatterpolar\": [{\"marker\": {\"colorbar\": {\"outlinewidth\": 0, \"ticks\": \"\"}}, \"type\": \"scatterpolar\"}], \"scatterpolargl\": [{\"marker\": {\"colorbar\": {\"outlinewidth\": 0, \"ticks\": \"\"}}, \"type\": \"scatterpolargl\"}], \"scatterternary\": [{\"marker\": {\"colorbar\": {\"outlinewidth\": 0, \"ticks\": \"\"}}, \"type\": \"scatterternary\"}], \"surface\": [{\"colorbar\": {\"outlinewidth\": 0, \"ticks\": \"\"}, \"colorscale\": [[0.0, \"#0d0887\"], [0.1111111111111111, \"#46039f\"], [0.2222222222222222, \"#7201a8\"], [0.3333333333333333, \"#9c179e\"], [0.4444444444444444, \"#bd3786\"], [0.5555555555555556, \"#d8576b\"], [0.6666666666666666, \"#ed7953\"], [0.7777777777777778, \"#fb9f3a\"], [0.8888888888888888, \"#fdca26\"], [1.0, \"#f0f921\"]], \"type\": \"surface\"}], \"table\": [{\"cells\": {\"fill\": {\"color\": \"#EBF0F8\"}, \"line\": {\"color\": \"white\"}}, \"header\": {\"fill\": {\"color\": \"#C8D4E3\"}, \"line\": {\"color\": \"white\"}}, \"type\": \"table\"}]}, \"layout\": {\"annotationdefaults\": {\"arrowcolor\": \"#2a3f5f\", \"arrowhead\": 0, \"arrowwidth\": 1}, \"coloraxis\": {\"colorbar\": {\"outlinewidth\": 0, \"ticks\": \"\"}}, \"colorscale\": {\"diverging\": [[0, \"#8e0152\"], [0.1, \"#c51b7d\"], [0.2, \"#de77ae\"], [0.3, \"#f1b6da\"], [0.4, \"#fde0ef\"], [0.5, \"#f7f7f7\"], [0.6, \"#e6f5d0\"], [0.7, \"#b8e186\"], [0.8, \"#7fbc41\"], [0.9, \"#4d9221\"], [1, \"#276419\"]], \"sequential\": [[0.0, \"#0d0887\"], [0.1111111111111111, \"#46039f\"], [0.2222222222222222, \"#7201a8\"], [0.3333333333333333, \"#9c179e\"], [0.4444444444444444, \"#bd3786\"], [0.5555555555555556, \"#d8576b\"], [0.6666666666666666, \"#ed7953\"], [0.7777777777777778, \"#fb9f3a\"], [0.8888888888888888, \"#fdca26\"], [1.0, \"#f0f921\"]], \"sequentialminus\": [[0.0, \"#0d0887\"], [0.1111111111111111, \"#46039f\"], [0.2222222222222222, \"#7201a8\"], [0.3333333333333333, \"#9c179e\"], [0.4444444444444444, \"#bd3786\"], [0.5555555555555556, \"#d8576b\"], [0.6666666666666666, \"#ed7953\"], [0.7777777777777778, \"#fb9f3a\"], [0.8888888888888888, \"#fdca26\"], [1.0, \"#f0f921\"]]}, \"colorway\": [\"#636efa\", \"#EF553B\", \"#00cc96\", \"#ab63fa\", \"#FFA15A\", \"#19d3f3\", \"#FF6692\", \"#B6E880\", \"#FF97FF\", \"#FECB52\"], \"font\": {\"color\": \"#2a3f5f\"}, \"geo\": {\"bgcolor\": \"white\", \"lakecolor\": \"white\", \"landcolor\": \"#E5ECF6\", \"showlakes\": true, \"showland\": true, \"subunitcolor\": \"white\"}, \"hoverlabel\": {\"align\": \"left\"}, \"hovermode\": \"closest\", \"mapbox\": {\"style\": \"light\"}, \"paper_bgcolor\": \"white\", \"plot_bgcolor\": \"#E5ECF6\", \"polar\": {\"angularaxis\": {\"gridcolor\": \"white\", \"linecolor\": \"white\", \"ticks\": \"\"}, \"bgcolor\": \"#E5ECF6\", \"radialaxis\": {\"gridcolor\": \"white\", \"linecolor\": \"white\", \"ticks\": \"\"}}, \"scene\": {\"xaxis\": {\"backgroundcolor\": \"#E5ECF6\", \"gridcolor\": \"white\", \"gridwidth\": 2, \"linecolor\": \"white\", \"showbackground\": true, \"ticks\": \"\", \"zerolinecolor\": \"white\"}, \"yaxis\": {\"backgroundcolor\": \"#E5ECF6\", \"gridcolor\": \"white\", \"gridwidth\": 2, \"linecolor\": \"white\", \"showbackground\": true, \"ticks\": \"\", \"zerolinecolor\": \"white\"}, \"zaxis\": {\"backgroundcolor\": \"#E5ECF6\", \"gridcolor\": \"white\", \"gridwidth\": 2, \"linecolor\": \"white\", \"showbackground\": true, \"ticks\": \"\", \"zerolinecolor\": \"white\"}}, \"shapedefaults\": {\"line\": {\"color\": \"#2a3f5f\"}}, \"ternary\": {\"aaxis\": {\"gridcolor\": \"white\", \"linecolor\": \"white\", \"ticks\": \"\"}, \"baxis\": {\"gridcolor\": \"white\", \"linecolor\": \"white\", \"ticks\": \"\"}, \"bgcolor\": \"#E5ECF6\", \"caxis\": {\"gridcolor\": \"white\", \"linecolor\": \"white\", \"ticks\": \"\"}}, \"title\": {\"x\": 0.05}, \"xaxis\": {\"automargin\": true, \"gridcolor\": \"white\", \"linecolor\": \"white\", \"ticks\": \"\", \"title\": {\"standoff\": 15}, \"zerolinecolor\": \"white\", \"zerolinewidth\": 2}, \"yaxis\": {\"automargin\": true, \"gridcolor\": \"white\", \"linecolor\": \"white\", \"ticks\": \"\", \"title\": {\"standoff\": 15}, \"zerolinecolor\": \"white\", \"zerolinewidth\": 2}}}, \"title\": {\"text\": \"Confirmed - Time Series Forecast - Daily Trend\"}, \"xaxis\": {\"gridcolor\": \"rgb(255, 255, 255)\", \"gridwidth\": 2, \"ticklen\": 5, \"title\": {\"text\": \"\"}, \"zerolinewidth\": 1}, \"yaxis\": {\"gridcolor\": \"rgb(255, 255, 255)\", \"gridwidth\": 2, \"ticklen\": 5, \"title\": {\"text\": \"Confirmed nCov - Hubei\"}, \"zerolinewidth\": 1}},\n",
       "                        {\"responsive\": true}\n",
       "                    ).then(function(){\n",
       "                            \n",
       "var gd = document.getElementById('cbbd43bd-d5e1-400b-97e1-dbfaa474f6a4');\n",
       "var x = new MutationObserver(function (mutations, observer) {{\n",
       "        var display = window.getComputedStyle(gd).display;\n",
       "        if (!display || display === 'none') {{\n",
       "            console.log([gd, 'removed!']);\n",
       "            Plotly.purge(gd);\n",
       "            observer.disconnect();\n",
       "        }}\n",
       "}});\n",
       "\n",
       "// Listen for the removal of the full notebook cells\n",
       "var notebookContainer = gd.closest('#notebook-container');\n",
       "if (notebookContainer) {{\n",
       "    x.observe(notebookContainer, {childList: true});\n",
       "}}\n",
       "\n",
       "// Listen for the clearing of the current output cell\n",
       "var outputEl = gd.closest('.output');\n",
       "if (outputEl) {{\n",
       "    x.observe(outputEl, {childList: true});\n",
       "}}\n",
       "\n",
       "                        })\n",
       "                };\n",
       "                });\n",
       "            </script>\n",
       "        </div>"
      ]
     },
     "metadata": {},
     "output_type": "display_data"
    },
    {
     "name": "stdout",
     "output_type": "stream",
     "text": [
      "MAPE : 23.367637779329957\n"
     ]
    }
   ],
   "source": [
    "def plot_Singapore():\n",
    "    trace1 = {\n",
    "      \"fill\": None, \n",
    "      \"mode\": \"markers\", \n",
    "      \"name\": \"actual no. of Confirmed\", \n",
    "      \"type\": \"scatter\", \n",
    "      \"x\": df_Singapore_grouped.ds, \n",
    "      \"y\": df_Singapore_grouped.y\n",
    "    }\n",
    "    trace2 = {\n",
    "      \"fill\": \"tonexty\", \n",
    "      \"line\": {\"color\": \"#57b8ff\"}, \n",
    "      \"mode\": \"lines\", \n",
    "      \"name\": \"upper_band\", \n",
    "      \"type\": \"scatter\", \n",
    "      \"x\": fcst_daily_Singapore_grouped.ds, \n",
    "      \"y\": fcst_daily_Singapore_grouped.yhat_upper\n",
    "    }\n",
    "    trace3 = {\n",
    "      \"fill\": \"tonexty\", \n",
    "      \"line\": {\"color\": \"#57b8ff\"}, \n",
    "      \"mode\": \"lines\", \n",
    "      \"name\": \"lower_band\", \n",
    "      \"type\": \"scatter\", \n",
    "      \"x\": fcst_daily_Singapore_grouped.ds, \n",
    "      \"y\": fcst_daily_Singapore_grouped.yhat_lower\n",
    "    }\n",
    "    trace4 = {\n",
    "      \"line\": {\"color\": \"#eb0e0e\"}, \n",
    "      \"mode\": \"lines+markers\", \n",
    "      \"name\": \"prediction\", \n",
    "      \"type\": \"scatter\", \n",
    "      \"x\": fcst_daily_Singapore_grouped.ds, \n",
    "      \"y\": fcst_daily_Singapore_grouped.yhat\n",
    "    }\n",
    "    data = [trace1, trace2, trace3, trace4]\n",
    "    layout = {\n",
    "      \"title\": \"Confirmed - Time Series Forecast - Daily Trend\", \n",
    "      \"xaxis\": {\n",
    "        \"title\": \"\", \n",
    "        \"ticklen\": 5, \n",
    "        \"gridcolor\": \"rgb(255, 255, 255)\", \n",
    "        \"gridwidth\": 2, \n",
    "        \"zerolinewidth\": 1\n",
    "      }, \n",
    "      \"yaxis\": {\n",
    "        \"title\": \"Confirmed nCov - Hubei\", \n",
    "        \"ticklen\": 5, \n",
    "        \"gridcolor\": \"rgb(255, 255, 255)\", \n",
    "        \"gridwidth\": 2, \n",
    "        \"zerolinewidth\": 1\n",
    "      }, \n",
    "    }\n",
    "    fig = go.Figure(data=data, layout=layout)\n",
    "    iplot(fig)\n",
    "    max_date = df_Singapore_grouped.ds.max()\n",
    "    y_true = df_Singapore_grouped.y.values\n",
    "    y_pred_daily = fcst_daily_Singapore_grouped.loc[fcst_daily_Singapore_grouped['ds'] <= max_date].yhat.values\n",
    "\n",
    "    print('MAPE : {}'.format(mean_absolute_percentage_error(y_true,y_pred_daily)))\n",
    "    return\n",
    "    \n",
    "plot_Singapore()"
   ]
  },
  {
   "cell_type": "markdown",
   "metadata": {},
   "source": [
    "#### Prilimilary analysis\n",
    "It doesn't look like really good prediction. For China cities the prediciton doesn't capture the going down trend of the change.\n",
    "\n",
    "Now let's try to add in 'changepoint' features for more accurate modeling"
   ]
  },
  {
   "cell_type": "code",
   "execution_count": 206,
   "metadata": {},
   "outputs": [
    {
     "data": {
      "application/vnd.plotly.v1+json": {
       "config": {
        "linkText": "Export to plot.ly",
        "plotlyServerURL": "https://plot.ly",
        "showLink": false
       },
       "data": [
        {
         "mode": "markers",
         "name": "actual no. of Confirmed",
         "type": "scatter",
         "x": [
          "2020-01-22T00:00:00",
          "2020-01-23T00:00:00",
          "2020-01-24T00:00:00",
          "2020-01-25T00:00:00",
          "2020-01-26T00:00:00",
          "2020-01-27T00:00:00",
          "2020-01-28T00:00:00",
          "2020-01-29T00:00:00",
          "2020-01-30T00:00:00",
          "2020-01-31T00:00:00",
          "2020-02-01T00:00:00",
          "2020-02-02T00:00:00",
          "2020-02-03T00:00:00",
          "2020-02-04T00:00:00",
          "2020-02-05T00:00:00",
          "2020-02-06T00:00:00",
          "2020-02-07T00:00:00",
          "2020-02-08T00:00:00",
          "2020-02-09T00:00:00",
          "2020-02-10T00:00:00",
          "2020-02-11T00:00:00",
          "2020-02-12T00:00:00",
          "2020-02-13T00:00:00",
          "2020-02-14T00:00:00",
          "2020-02-15T00:00:00",
          "2020-02-16T00:00:00",
          "2020-02-17T00:00:00"
         ],
         "y": [
          105,
          195,
          367,
          927,
          1314,
          1695,
          2416,
          3092,
          3852,
          4068,
          5301,
          5937,
          6878,
          7612,
          7727,
          8429,
          9103,
          10098,
          10529,
          10582,
          11275,
          11599,
          11855,
          11886,
          12098,
          12264,
          12375
         ]
        },
        {
         "fill": "tonexty",
         "line": {
          "color": "#57b8ff"
         },
         "mode": "lines",
         "name": "upper_band",
         "type": "scatter",
         "x": [
          "2020-01-22T00:00:00",
          "2020-01-23T00:00:00",
          "2020-01-24T00:00:00",
          "2020-01-25T00:00:00",
          "2020-01-26T00:00:00",
          "2020-01-27T00:00:00",
          "2020-01-28T00:00:00",
          "2020-01-29T00:00:00",
          "2020-01-30T00:00:00",
          "2020-01-31T00:00:00",
          "2020-02-01T00:00:00",
          "2020-02-02T00:00:00",
          "2020-02-03T00:00:00",
          "2020-02-04T00:00:00",
          "2020-02-05T00:00:00",
          "2020-02-06T00:00:00",
          "2020-02-07T00:00:00",
          "2020-02-08T00:00:00",
          "2020-02-09T00:00:00",
          "2020-02-10T00:00:00",
          "2020-02-11T00:00:00",
          "2020-02-12T00:00:00",
          "2020-02-13T00:00:00",
          "2020-02-14T00:00:00",
          "2020-02-15T00:00:00",
          "2020-02-16T00:00:00",
          "2020-02-17T00:00:00",
          "2020-02-18T00:00:00",
          "2020-02-19T00:00:00",
          "2020-02-20T00:00:00",
          "2020-02-21T00:00:00",
          "2020-02-22T00:00:00",
          "2020-02-23T00:00:00",
          "2020-02-24T00:00:00"
         ],
         "y": [
          159.3130019302805,
          246.76041021576395,
          419.4467634854483,
          975.9356985861078,
          1312.923447714839,
          1859.64924274413,
          2410.1195987462297,
          3147.3941508829057,
          3906.975891073516,
          4124.252806438604,
          5353.132253794007,
          5991.22106617131,
          6929.428240431711,
          7664.324068352141,
          7782.156742350118,
          8428.41170405287,
          9264.703289676569,
          10095.834583302723,
          10576.447759182107,
          10636.464280156968,
          11327.388510007038,
          11687.368047363972,
          11837.649213995332,
          11992.63439771116,
          12144.961815669029,
          12293.215717158999,
          12446.88654948547,
          12739.406710478015,
          13446.316921085574,
          14322.839596306314,
          15321.22207255183,
          16550.71196216735,
          17846.28124873644,
          19289.15229049023
         ]
        },
        {
         "fill": "tonexty",
         "line": {
          "color": "#57b8ff"
         },
         "mode": "lines",
         "name": "lower_band",
         "type": "scatter",
         "x": [
          "2020-01-22T00:00:00",
          "2020-01-23T00:00:00",
          "2020-01-24T00:00:00",
          "2020-01-25T00:00:00",
          "2020-01-26T00:00:00",
          "2020-01-27T00:00:00",
          "2020-01-28T00:00:00",
          "2020-01-29T00:00:00",
          "2020-01-30T00:00:00",
          "2020-01-31T00:00:00",
          "2020-02-01T00:00:00",
          "2020-02-02T00:00:00",
          "2020-02-03T00:00:00",
          "2020-02-04T00:00:00",
          "2020-02-05T00:00:00",
          "2020-02-06T00:00:00",
          "2020-02-07T00:00:00",
          "2020-02-08T00:00:00",
          "2020-02-09T00:00:00",
          "2020-02-10T00:00:00",
          "2020-02-11T00:00:00",
          "2020-02-12T00:00:00",
          "2020-02-13T00:00:00",
          "2020-02-14T00:00:00",
          "2020-02-15T00:00:00",
          "2020-02-16T00:00:00",
          "2020-02-17T00:00:00",
          "2020-02-18T00:00:00",
          "2020-02-19T00:00:00",
          "2020-02-20T00:00:00",
          "2020-02-21T00:00:00",
          "2020-02-22T00:00:00",
          "2020-02-23T00:00:00",
          "2020-02-24T00:00:00"
         ],
         "y": [
          50.655388006247826,
          144.36724968551047,
          316.13012657763056,
          872.3997802350885,
          1209.3693284578965,
          1757.868000309433,
          2305.475741844725,
          3041.1676209328834,
          3800.485314201181,
          4015.190581508245,
          5246.747878905163,
          5885.43547201466,
          6824.240509474946,
          7557.1536608696,
          7674.772031736281,
          8320.61241184274,
          9153.576986050155,
          9987.577419392563,
          10477.016778640373,
          10527.353835833052,
          11222.511675778687,
          11581.897188690844,
          11730.016818562415,
          11883.223045376977,
          12035.391884178256,
          12189.238991616377,
          12341.067537863742,
          12343.568319241243,
          11936.39290864085,
          11254.786624569691,
          10553.26516105999,
          9777.364072457443,
          8782.806825824384,
          7673.261311185218
         ]
        },
        {
         "line": {
          "color": "#eb0e0e"
         },
         "mode": "lines+markers",
         "name": "prediction",
         "type": "scatter",
         "x": [
          "2020-01-22T00:00:00",
          "2020-01-23T00:00:00",
          "2020-01-24T00:00:00",
          "2020-01-25T00:00:00",
          "2020-01-26T00:00:00",
          "2020-01-27T00:00:00",
          "2020-01-28T00:00:00",
          "2020-01-29T00:00:00",
          "2020-01-30T00:00:00",
          "2020-01-31T00:00:00",
          "2020-02-01T00:00:00",
          "2020-02-02T00:00:00",
          "2020-02-03T00:00:00",
          "2020-02-04T00:00:00",
          "2020-02-05T00:00:00",
          "2020-02-06T00:00:00",
          "2020-02-07T00:00:00",
          "2020-02-08T00:00:00",
          "2020-02-09T00:00:00",
          "2020-02-10T00:00:00",
          "2020-02-11T00:00:00",
          "2020-02-12T00:00:00",
          "2020-02-13T00:00:00",
          "2020-02-14T00:00:00",
          "2020-02-15T00:00:00",
          "2020-02-16T00:00:00",
          "2020-02-17T00:00:00",
          "2020-02-18T00:00:00",
          "2020-02-19T00:00:00",
          "2020-02-20T00:00:00",
          "2020-02-21T00:00:00",
          "2020-02-22T00:00:00",
          "2020-02-23T00:00:00",
          "2020-02-24T00:00:00"
         ],
         "y": [
          104.84805230754492,
          195.15182941402523,
          367.3583245309131,
          926.2834951418689,
          1257.63190457557,
          1808.4527120876646,
          2359.2735195997593,
          3092.3584333526815,
          3851.2832547915236,
          4068.7167948362335,
          5300.283258504499,
          5937.716643877352,
          6877.641667639797,
          7611.641716690515,
          7727.358348833533,
          8375.67904444225,
          9209.999990263828,
          10044.320936085405,
          10528.641641666598,
          10582.716574155753,
          11274.641717713655,
          11632.879169573833,
          11784.860833584717,
          11936.8424975956,
          12088.824161606484,
          12240.805825617368,
          12392.78748962825,
          12544.769153639134,
          12696.750817650014,
          12848.7324816609,
          13000.714145671782,
          13152.695809682667,
          13304.67747369355,
          13456.659137704431
         ]
        }
       ],
       "layout": {
        "template": {
         "data": {
          "bar": [
           {
            "error_x": {
             "color": "#2a3f5f"
            },
            "error_y": {
             "color": "#2a3f5f"
            },
            "marker": {
             "line": {
              "color": "#E5ECF6",
              "width": 0.5
             }
            },
            "type": "bar"
           }
          ],
          "barpolar": [
           {
            "marker": {
             "line": {
              "color": "#E5ECF6",
              "width": 0.5
             }
            },
            "type": "barpolar"
           }
          ],
          "carpet": [
           {
            "aaxis": {
             "endlinecolor": "#2a3f5f",
             "gridcolor": "white",
             "linecolor": "white",
             "minorgridcolor": "white",
             "startlinecolor": "#2a3f5f"
            },
            "baxis": {
             "endlinecolor": "#2a3f5f",
             "gridcolor": "white",
             "linecolor": "white",
             "minorgridcolor": "white",
             "startlinecolor": "#2a3f5f"
            },
            "type": "carpet"
           }
          ],
          "choropleth": [
           {
            "colorbar": {
             "outlinewidth": 0,
             "ticks": ""
            },
            "type": "choropleth"
           }
          ],
          "contour": [
           {
            "colorbar": {
             "outlinewidth": 0,
             "ticks": ""
            },
            "colorscale": [
             [
              0,
              "#0d0887"
             ],
             [
              0.1111111111111111,
              "#46039f"
             ],
             [
              0.2222222222222222,
              "#7201a8"
             ],
             [
              0.3333333333333333,
              "#9c179e"
             ],
             [
              0.4444444444444444,
              "#bd3786"
             ],
             [
              0.5555555555555556,
              "#d8576b"
             ],
             [
              0.6666666666666666,
              "#ed7953"
             ],
             [
              0.7777777777777778,
              "#fb9f3a"
             ],
             [
              0.8888888888888888,
              "#fdca26"
             ],
             [
              1,
              "#f0f921"
             ]
            ],
            "type": "contour"
           }
          ],
          "contourcarpet": [
           {
            "colorbar": {
             "outlinewidth": 0,
             "ticks": ""
            },
            "type": "contourcarpet"
           }
          ],
          "heatmap": [
           {
            "colorbar": {
             "outlinewidth": 0,
             "ticks": ""
            },
            "colorscale": [
             [
              0,
              "#0d0887"
             ],
             [
              0.1111111111111111,
              "#46039f"
             ],
             [
              0.2222222222222222,
              "#7201a8"
             ],
             [
              0.3333333333333333,
              "#9c179e"
             ],
             [
              0.4444444444444444,
              "#bd3786"
             ],
             [
              0.5555555555555556,
              "#d8576b"
             ],
             [
              0.6666666666666666,
              "#ed7953"
             ],
             [
              0.7777777777777778,
              "#fb9f3a"
             ],
             [
              0.8888888888888888,
              "#fdca26"
             ],
             [
              1,
              "#f0f921"
             ]
            ],
            "type": "heatmap"
           }
          ],
          "heatmapgl": [
           {
            "colorbar": {
             "outlinewidth": 0,
             "ticks": ""
            },
            "colorscale": [
             [
              0,
              "#0d0887"
             ],
             [
              0.1111111111111111,
              "#46039f"
             ],
             [
              0.2222222222222222,
              "#7201a8"
             ],
             [
              0.3333333333333333,
              "#9c179e"
             ],
             [
              0.4444444444444444,
              "#bd3786"
             ],
             [
              0.5555555555555556,
              "#d8576b"
             ],
             [
              0.6666666666666666,
              "#ed7953"
             ],
             [
              0.7777777777777778,
              "#fb9f3a"
             ],
             [
              0.8888888888888888,
              "#fdca26"
             ],
             [
              1,
              "#f0f921"
             ]
            ],
            "type": "heatmapgl"
           }
          ],
          "histogram": [
           {
            "marker": {
             "colorbar": {
              "outlinewidth": 0,
              "ticks": ""
             }
            },
            "type": "histogram"
           }
          ],
          "histogram2d": [
           {
            "colorbar": {
             "outlinewidth": 0,
             "ticks": ""
            },
            "colorscale": [
             [
              0,
              "#0d0887"
             ],
             [
              0.1111111111111111,
              "#46039f"
             ],
             [
              0.2222222222222222,
              "#7201a8"
             ],
             [
              0.3333333333333333,
              "#9c179e"
             ],
             [
              0.4444444444444444,
              "#bd3786"
             ],
             [
              0.5555555555555556,
              "#d8576b"
             ],
             [
              0.6666666666666666,
              "#ed7953"
             ],
             [
              0.7777777777777778,
              "#fb9f3a"
             ],
             [
              0.8888888888888888,
              "#fdca26"
             ],
             [
              1,
              "#f0f921"
             ]
            ],
            "type": "histogram2d"
           }
          ],
          "histogram2dcontour": [
           {
            "colorbar": {
             "outlinewidth": 0,
             "ticks": ""
            },
            "colorscale": [
             [
              0,
              "#0d0887"
             ],
             [
              0.1111111111111111,
              "#46039f"
             ],
             [
              0.2222222222222222,
              "#7201a8"
             ],
             [
              0.3333333333333333,
              "#9c179e"
             ],
             [
              0.4444444444444444,
              "#bd3786"
             ],
             [
              0.5555555555555556,
              "#d8576b"
             ],
             [
              0.6666666666666666,
              "#ed7953"
             ],
             [
              0.7777777777777778,
              "#fb9f3a"
             ],
             [
              0.8888888888888888,
              "#fdca26"
             ],
             [
              1,
              "#f0f921"
             ]
            ],
            "type": "histogram2dcontour"
           }
          ],
          "mesh3d": [
           {
            "colorbar": {
             "outlinewidth": 0,
             "ticks": ""
            },
            "type": "mesh3d"
           }
          ],
          "parcoords": [
           {
            "line": {
             "colorbar": {
              "outlinewidth": 0,
              "ticks": ""
             }
            },
            "type": "parcoords"
           }
          ],
          "pie": [
           {
            "automargin": true,
            "type": "pie"
           }
          ],
          "scatter": [
           {
            "marker": {
             "colorbar": {
              "outlinewidth": 0,
              "ticks": ""
             }
            },
            "type": "scatter"
           }
          ],
          "scatter3d": [
           {
            "line": {
             "colorbar": {
              "outlinewidth": 0,
              "ticks": ""
             }
            },
            "marker": {
             "colorbar": {
              "outlinewidth": 0,
              "ticks": ""
             }
            },
            "type": "scatter3d"
           }
          ],
          "scattercarpet": [
           {
            "marker": {
             "colorbar": {
              "outlinewidth": 0,
              "ticks": ""
             }
            },
            "type": "scattercarpet"
           }
          ],
          "scattergeo": [
           {
            "marker": {
             "colorbar": {
              "outlinewidth": 0,
              "ticks": ""
             }
            },
            "type": "scattergeo"
           }
          ],
          "scattergl": [
           {
            "marker": {
             "colorbar": {
              "outlinewidth": 0,
              "ticks": ""
             }
            },
            "type": "scattergl"
           }
          ],
          "scattermapbox": [
           {
            "marker": {
             "colorbar": {
              "outlinewidth": 0,
              "ticks": ""
             }
            },
            "type": "scattermapbox"
           }
          ],
          "scatterpolar": [
           {
            "marker": {
             "colorbar": {
              "outlinewidth": 0,
              "ticks": ""
             }
            },
            "type": "scatterpolar"
           }
          ],
          "scatterpolargl": [
           {
            "marker": {
             "colorbar": {
              "outlinewidth": 0,
              "ticks": ""
             }
            },
            "type": "scatterpolargl"
           }
          ],
          "scatterternary": [
           {
            "marker": {
             "colorbar": {
              "outlinewidth": 0,
              "ticks": ""
             }
            },
            "type": "scatterternary"
           }
          ],
          "surface": [
           {
            "colorbar": {
             "outlinewidth": 0,
             "ticks": ""
            },
            "colorscale": [
             [
              0,
              "#0d0887"
             ],
             [
              0.1111111111111111,
              "#46039f"
             ],
             [
              0.2222222222222222,
              "#7201a8"
             ],
             [
              0.3333333333333333,
              "#9c179e"
             ],
             [
              0.4444444444444444,
              "#bd3786"
             ],
             [
              0.5555555555555556,
              "#d8576b"
             ],
             [
              0.6666666666666666,
              "#ed7953"
             ],
             [
              0.7777777777777778,
              "#fb9f3a"
             ],
             [
              0.8888888888888888,
              "#fdca26"
             ],
             [
              1,
              "#f0f921"
             ]
            ],
            "type": "surface"
           }
          ],
          "table": [
           {
            "cells": {
             "fill": {
              "color": "#EBF0F8"
             },
             "line": {
              "color": "white"
             }
            },
            "header": {
             "fill": {
              "color": "#C8D4E3"
             },
             "line": {
              "color": "white"
             }
            },
            "type": "table"
           }
          ]
         },
         "layout": {
          "annotationdefaults": {
           "arrowcolor": "#2a3f5f",
           "arrowhead": 0,
           "arrowwidth": 1
          },
          "coloraxis": {
           "colorbar": {
            "outlinewidth": 0,
            "ticks": ""
           }
          },
          "colorscale": {
           "diverging": [
            [
             0,
             "#8e0152"
            ],
            [
             0.1,
             "#c51b7d"
            ],
            [
             0.2,
             "#de77ae"
            ],
            [
             0.3,
             "#f1b6da"
            ],
            [
             0.4,
             "#fde0ef"
            ],
            [
             0.5,
             "#f7f7f7"
            ],
            [
             0.6,
             "#e6f5d0"
            ],
            [
             0.7,
             "#b8e186"
            ],
            [
             0.8,
             "#7fbc41"
            ],
            [
             0.9,
             "#4d9221"
            ],
            [
             1,
             "#276419"
            ]
           ],
           "sequential": [
            [
             0,
             "#0d0887"
            ],
            [
             0.1111111111111111,
             "#46039f"
            ],
            [
             0.2222222222222222,
             "#7201a8"
            ],
            [
             0.3333333333333333,
             "#9c179e"
            ],
            [
             0.4444444444444444,
             "#bd3786"
            ],
            [
             0.5555555555555556,
             "#d8576b"
            ],
            [
             0.6666666666666666,
             "#ed7953"
            ],
            [
             0.7777777777777778,
             "#fb9f3a"
            ],
            [
             0.8888888888888888,
             "#fdca26"
            ],
            [
             1,
             "#f0f921"
            ]
           ],
           "sequentialminus": [
            [
             0,
             "#0d0887"
            ],
            [
             0.1111111111111111,
             "#46039f"
            ],
            [
             0.2222222222222222,
             "#7201a8"
            ],
            [
             0.3333333333333333,
             "#9c179e"
            ],
            [
             0.4444444444444444,
             "#bd3786"
            ],
            [
             0.5555555555555556,
             "#d8576b"
            ],
            [
             0.6666666666666666,
             "#ed7953"
            ],
            [
             0.7777777777777778,
             "#fb9f3a"
            ],
            [
             0.8888888888888888,
             "#fdca26"
            ],
            [
             1,
             "#f0f921"
            ]
           ]
          },
          "colorway": [
           "#636efa",
           "#EF553B",
           "#00cc96",
           "#ab63fa",
           "#FFA15A",
           "#19d3f3",
           "#FF6692",
           "#B6E880",
           "#FF97FF",
           "#FECB52"
          ],
          "font": {
           "color": "#2a3f5f"
          },
          "geo": {
           "bgcolor": "white",
           "lakecolor": "white",
           "landcolor": "#E5ECF6",
           "showlakes": true,
           "showland": true,
           "subunitcolor": "white"
          },
          "hoverlabel": {
           "align": "left"
          },
          "hovermode": "closest",
          "mapbox": {
           "style": "light"
          },
          "paper_bgcolor": "white",
          "plot_bgcolor": "#E5ECF6",
          "polar": {
           "angularaxis": {
            "gridcolor": "white",
            "linecolor": "white",
            "ticks": ""
           },
           "bgcolor": "#E5ECF6",
           "radialaxis": {
            "gridcolor": "white",
            "linecolor": "white",
            "ticks": ""
           }
          },
          "scene": {
           "xaxis": {
            "backgroundcolor": "#E5ECF6",
            "gridcolor": "white",
            "gridwidth": 2,
            "linecolor": "white",
            "showbackground": true,
            "ticks": "",
            "zerolinecolor": "white"
           },
           "yaxis": {
            "backgroundcolor": "#E5ECF6",
            "gridcolor": "white",
            "gridwidth": 2,
            "linecolor": "white",
            "showbackground": true,
            "ticks": "",
            "zerolinecolor": "white"
           },
           "zaxis": {
            "backgroundcolor": "#E5ECF6",
            "gridcolor": "white",
            "gridwidth": 2,
            "linecolor": "white",
            "showbackground": true,
            "ticks": "",
            "zerolinecolor": "white"
           }
          },
          "shapedefaults": {
           "line": {
            "color": "#2a3f5f"
           }
          },
          "ternary": {
           "aaxis": {
            "gridcolor": "white",
            "linecolor": "white",
            "ticks": ""
           },
           "baxis": {
            "gridcolor": "white",
            "linecolor": "white",
            "ticks": ""
           },
           "bgcolor": "#E5ECF6",
           "caxis": {
            "gridcolor": "white",
            "linecolor": "white",
            "ticks": ""
           }
          },
          "title": {
           "x": 0.05
          },
          "xaxis": {
           "automargin": true,
           "gridcolor": "white",
           "linecolor": "white",
           "ticks": "",
           "title": {
            "standoff": 15
           },
           "zerolinecolor": "white",
           "zerolinewidth": 2
          },
          "yaxis": {
           "automargin": true,
           "gridcolor": "white",
           "linecolor": "white",
           "ticks": "",
           "title": {
            "standoff": 15
           },
           "zerolinecolor": "white",
           "zerolinewidth": 2
          }
         }
        },
        "title": {
         "text": "Confirmed - Time Series Forecast - Daily Trend"
        },
        "xaxis": {
         "gridcolor": "rgb(255, 255, 255)",
         "gridwidth": 2,
         "ticklen": 5,
         "title": {
          "text": ""
         },
         "zerolinewidth": 1
        },
        "yaxis": {
         "gridcolor": "rgb(255, 255, 255)",
         "gridwidth": 2,
         "ticklen": 5,
         "title": {
          "text": "Confirmed nCov - Hubei"
         },
         "zerolinewidth": 1
        }
       }
      },
      "text/html": [
       "<div>\n",
       "        \n",
       "        \n",
       "            <div id=\"a91bbe95-83f6-4f96-b66e-137ffbadef3d\" class=\"plotly-graph-div\" style=\"height:525px; width:100%;\"></div>\n",
       "            <script type=\"text/javascript\">\n",
       "                require([\"plotly\"], function(Plotly) {\n",
       "                    window.PLOTLYENV=window.PLOTLYENV || {};\n",
       "                    \n",
       "                if (document.getElementById(\"a91bbe95-83f6-4f96-b66e-137ffbadef3d\")) {\n",
       "                    Plotly.newPlot(\n",
       "                        'a91bbe95-83f6-4f96-b66e-137ffbadef3d',\n",
       "                        [{\"mode\": \"markers\", \"name\": \"actual no. of Confirmed\", \"type\": \"scatter\", \"x\": [\"2020-01-22T00:00:00\", \"2020-01-23T00:00:00\", \"2020-01-24T00:00:00\", \"2020-01-25T00:00:00\", \"2020-01-26T00:00:00\", \"2020-01-27T00:00:00\", \"2020-01-28T00:00:00\", \"2020-01-29T00:00:00\", \"2020-01-30T00:00:00\", \"2020-01-31T00:00:00\", \"2020-02-01T00:00:00\", \"2020-02-02T00:00:00\", \"2020-02-03T00:00:00\", \"2020-02-04T00:00:00\", \"2020-02-05T00:00:00\", \"2020-02-06T00:00:00\", \"2020-02-07T00:00:00\", \"2020-02-08T00:00:00\", \"2020-02-09T00:00:00\", \"2020-02-10T00:00:00\", \"2020-02-11T00:00:00\", \"2020-02-12T00:00:00\", \"2020-02-13T00:00:00\", \"2020-02-14T00:00:00\", \"2020-02-15T00:00:00\", \"2020-02-16T00:00:00\", \"2020-02-17T00:00:00\"], \"y\": [105, 195, 367, 927, 1314, 1695, 2416, 3092, 3852, 4068, 5301, 5937, 6878, 7612, 7727, 8429, 9103, 10098, 10529, 10582, 11275, 11599, 11855, 11886, 12098, 12264, 12375]}, {\"fill\": \"tonexty\", \"line\": {\"color\": \"#57b8ff\"}, \"mode\": \"lines\", \"name\": \"upper_band\", \"type\": \"scatter\", \"x\": [\"2020-01-22T00:00:00\", \"2020-01-23T00:00:00\", \"2020-01-24T00:00:00\", \"2020-01-25T00:00:00\", \"2020-01-26T00:00:00\", \"2020-01-27T00:00:00\", \"2020-01-28T00:00:00\", \"2020-01-29T00:00:00\", \"2020-01-30T00:00:00\", \"2020-01-31T00:00:00\", \"2020-02-01T00:00:00\", \"2020-02-02T00:00:00\", \"2020-02-03T00:00:00\", \"2020-02-04T00:00:00\", \"2020-02-05T00:00:00\", \"2020-02-06T00:00:00\", \"2020-02-07T00:00:00\", \"2020-02-08T00:00:00\", \"2020-02-09T00:00:00\", \"2020-02-10T00:00:00\", \"2020-02-11T00:00:00\", \"2020-02-12T00:00:00\", \"2020-02-13T00:00:00\", \"2020-02-14T00:00:00\", \"2020-02-15T00:00:00\", \"2020-02-16T00:00:00\", \"2020-02-17T00:00:00\", \"2020-02-18T00:00:00\", \"2020-02-19T00:00:00\", \"2020-02-20T00:00:00\", \"2020-02-21T00:00:00\", \"2020-02-22T00:00:00\", \"2020-02-23T00:00:00\", \"2020-02-24T00:00:00\"], \"y\": [159.3130019302805, 246.76041021576395, 419.4467634854483, 975.9356985861078, 1312.923447714839, 1859.64924274413, 2410.1195987462297, 3147.3941508829057, 3906.975891073516, 4124.252806438604, 5353.132253794007, 5991.22106617131, 6929.428240431711, 7664.324068352141, 7782.156742350118, 8428.41170405287, 9264.703289676569, 10095.834583302723, 10576.447759182107, 10636.464280156968, 11327.388510007038, 11687.368047363972, 11837.649213995332, 11992.63439771116, 12144.961815669029, 12293.215717158999, 12446.88654948547, 12739.406710478015, 13446.316921085574, 14322.839596306314, 15321.22207255183, 16550.71196216735, 17846.28124873644, 19289.15229049023]}, {\"fill\": \"tonexty\", \"line\": {\"color\": \"#57b8ff\"}, \"mode\": \"lines\", \"name\": \"lower_band\", \"type\": \"scatter\", \"x\": [\"2020-01-22T00:00:00\", \"2020-01-23T00:00:00\", \"2020-01-24T00:00:00\", \"2020-01-25T00:00:00\", \"2020-01-26T00:00:00\", \"2020-01-27T00:00:00\", \"2020-01-28T00:00:00\", \"2020-01-29T00:00:00\", \"2020-01-30T00:00:00\", \"2020-01-31T00:00:00\", \"2020-02-01T00:00:00\", \"2020-02-02T00:00:00\", \"2020-02-03T00:00:00\", \"2020-02-04T00:00:00\", \"2020-02-05T00:00:00\", \"2020-02-06T00:00:00\", \"2020-02-07T00:00:00\", \"2020-02-08T00:00:00\", \"2020-02-09T00:00:00\", \"2020-02-10T00:00:00\", \"2020-02-11T00:00:00\", \"2020-02-12T00:00:00\", \"2020-02-13T00:00:00\", \"2020-02-14T00:00:00\", \"2020-02-15T00:00:00\", \"2020-02-16T00:00:00\", \"2020-02-17T00:00:00\", \"2020-02-18T00:00:00\", \"2020-02-19T00:00:00\", \"2020-02-20T00:00:00\", \"2020-02-21T00:00:00\", \"2020-02-22T00:00:00\", \"2020-02-23T00:00:00\", \"2020-02-24T00:00:00\"], \"y\": [50.655388006247826, 144.36724968551047, 316.13012657763056, 872.3997802350885, 1209.3693284578965, 1757.868000309433, 2305.475741844725, 3041.1676209328834, 3800.485314201181, 4015.190581508245, 5246.747878905163, 5885.43547201466, 6824.240509474946, 7557.1536608696, 7674.772031736281, 8320.61241184274, 9153.576986050155, 9987.577419392563, 10477.016778640373, 10527.353835833052, 11222.511675778687, 11581.897188690844, 11730.016818562415, 11883.223045376977, 12035.391884178256, 12189.238991616377, 12341.067537863742, 12343.568319241243, 11936.39290864085, 11254.786624569691, 10553.26516105999, 9777.364072457443, 8782.806825824384, 7673.261311185218]}, {\"line\": {\"color\": \"#eb0e0e\"}, \"mode\": \"lines+markers\", \"name\": \"prediction\", \"type\": \"scatter\", \"x\": [\"2020-01-22T00:00:00\", \"2020-01-23T00:00:00\", \"2020-01-24T00:00:00\", \"2020-01-25T00:00:00\", \"2020-01-26T00:00:00\", \"2020-01-27T00:00:00\", \"2020-01-28T00:00:00\", \"2020-01-29T00:00:00\", \"2020-01-30T00:00:00\", \"2020-01-31T00:00:00\", \"2020-02-01T00:00:00\", \"2020-02-02T00:00:00\", \"2020-02-03T00:00:00\", \"2020-02-04T00:00:00\", \"2020-02-05T00:00:00\", \"2020-02-06T00:00:00\", \"2020-02-07T00:00:00\", \"2020-02-08T00:00:00\", \"2020-02-09T00:00:00\", \"2020-02-10T00:00:00\", \"2020-02-11T00:00:00\", \"2020-02-12T00:00:00\", \"2020-02-13T00:00:00\", \"2020-02-14T00:00:00\", \"2020-02-15T00:00:00\", \"2020-02-16T00:00:00\", \"2020-02-17T00:00:00\", \"2020-02-18T00:00:00\", \"2020-02-19T00:00:00\", \"2020-02-20T00:00:00\", \"2020-02-21T00:00:00\", \"2020-02-22T00:00:00\", \"2020-02-23T00:00:00\", \"2020-02-24T00:00:00\"], \"y\": [104.84805230754492, 195.15182941402523, 367.3583245309131, 926.2834951418689, 1257.63190457557, 1808.4527120876646, 2359.2735195997593, 3092.3584333526815, 3851.2832547915236, 4068.7167948362335, 5300.283258504499, 5937.716643877352, 6877.641667639797, 7611.641716690515, 7727.358348833533, 8375.67904444225, 9209.999990263828, 10044.320936085405, 10528.641641666598, 10582.716574155753, 11274.641717713655, 11632.879169573833, 11784.860833584717, 11936.8424975956, 12088.824161606484, 12240.805825617368, 12392.78748962825, 12544.769153639134, 12696.750817650014, 12848.7324816609, 13000.714145671782, 13152.695809682667, 13304.67747369355, 13456.659137704431]}],\n",
       "                        {\"template\": {\"data\": {\"bar\": [{\"error_x\": {\"color\": \"#2a3f5f\"}, \"error_y\": {\"color\": \"#2a3f5f\"}, \"marker\": {\"line\": {\"color\": \"#E5ECF6\", \"width\": 0.5}}, \"type\": \"bar\"}], \"barpolar\": [{\"marker\": {\"line\": {\"color\": \"#E5ECF6\", \"width\": 0.5}}, \"type\": \"barpolar\"}], \"carpet\": [{\"aaxis\": {\"endlinecolor\": \"#2a3f5f\", \"gridcolor\": \"white\", \"linecolor\": \"white\", \"minorgridcolor\": \"white\", \"startlinecolor\": \"#2a3f5f\"}, \"baxis\": {\"endlinecolor\": \"#2a3f5f\", \"gridcolor\": \"white\", \"linecolor\": \"white\", \"minorgridcolor\": \"white\", \"startlinecolor\": \"#2a3f5f\"}, \"type\": \"carpet\"}], \"choropleth\": [{\"colorbar\": {\"outlinewidth\": 0, \"ticks\": \"\"}, \"type\": \"choropleth\"}], \"contour\": [{\"colorbar\": {\"outlinewidth\": 0, \"ticks\": \"\"}, \"colorscale\": [[0.0, \"#0d0887\"], [0.1111111111111111, \"#46039f\"], [0.2222222222222222, \"#7201a8\"], [0.3333333333333333, \"#9c179e\"], [0.4444444444444444, \"#bd3786\"], [0.5555555555555556, \"#d8576b\"], [0.6666666666666666, \"#ed7953\"], [0.7777777777777778, \"#fb9f3a\"], [0.8888888888888888, \"#fdca26\"], [1.0, \"#f0f921\"]], \"type\": \"contour\"}], \"contourcarpet\": [{\"colorbar\": {\"outlinewidth\": 0, \"ticks\": \"\"}, \"type\": \"contourcarpet\"}], \"heatmap\": [{\"colorbar\": {\"outlinewidth\": 0, \"ticks\": \"\"}, \"colorscale\": [[0.0, \"#0d0887\"], [0.1111111111111111, \"#46039f\"], [0.2222222222222222, \"#7201a8\"], [0.3333333333333333, \"#9c179e\"], [0.4444444444444444, \"#bd3786\"], [0.5555555555555556, \"#d8576b\"], [0.6666666666666666, \"#ed7953\"], [0.7777777777777778, \"#fb9f3a\"], [0.8888888888888888, \"#fdca26\"], [1.0, \"#f0f921\"]], \"type\": \"heatmap\"}], \"heatmapgl\": [{\"colorbar\": {\"outlinewidth\": 0, \"ticks\": \"\"}, \"colorscale\": [[0.0, \"#0d0887\"], [0.1111111111111111, \"#46039f\"], [0.2222222222222222, \"#7201a8\"], [0.3333333333333333, \"#9c179e\"], [0.4444444444444444, \"#bd3786\"], [0.5555555555555556, \"#d8576b\"], [0.6666666666666666, \"#ed7953\"], [0.7777777777777778, \"#fb9f3a\"], [0.8888888888888888, \"#fdca26\"], [1.0, \"#f0f921\"]], \"type\": \"heatmapgl\"}], \"histogram\": [{\"marker\": {\"colorbar\": {\"outlinewidth\": 0, \"ticks\": \"\"}}, \"type\": \"histogram\"}], \"histogram2d\": [{\"colorbar\": {\"outlinewidth\": 0, \"ticks\": \"\"}, \"colorscale\": [[0.0, \"#0d0887\"], [0.1111111111111111, \"#46039f\"], [0.2222222222222222, \"#7201a8\"], [0.3333333333333333, \"#9c179e\"], [0.4444444444444444, \"#bd3786\"], [0.5555555555555556, \"#d8576b\"], [0.6666666666666666, \"#ed7953\"], [0.7777777777777778, \"#fb9f3a\"], [0.8888888888888888, \"#fdca26\"], [1.0, \"#f0f921\"]], \"type\": \"histogram2d\"}], \"histogram2dcontour\": [{\"colorbar\": {\"outlinewidth\": 0, \"ticks\": \"\"}, \"colorscale\": [[0.0, \"#0d0887\"], [0.1111111111111111, \"#46039f\"], [0.2222222222222222, \"#7201a8\"], [0.3333333333333333, \"#9c179e\"], [0.4444444444444444, \"#bd3786\"], [0.5555555555555556, \"#d8576b\"], [0.6666666666666666, \"#ed7953\"], [0.7777777777777778, \"#fb9f3a\"], [0.8888888888888888, \"#fdca26\"], [1.0, \"#f0f921\"]], \"type\": \"histogram2dcontour\"}], \"mesh3d\": [{\"colorbar\": {\"outlinewidth\": 0, \"ticks\": \"\"}, \"type\": \"mesh3d\"}], \"parcoords\": [{\"line\": {\"colorbar\": {\"outlinewidth\": 0, \"ticks\": \"\"}}, \"type\": \"parcoords\"}], \"pie\": [{\"automargin\": true, \"type\": \"pie\"}], \"scatter\": [{\"marker\": {\"colorbar\": {\"outlinewidth\": 0, \"ticks\": \"\"}}, \"type\": \"scatter\"}], \"scatter3d\": [{\"line\": {\"colorbar\": {\"outlinewidth\": 0, \"ticks\": \"\"}}, \"marker\": {\"colorbar\": {\"outlinewidth\": 0, \"ticks\": \"\"}}, \"type\": \"scatter3d\"}], \"scattercarpet\": [{\"marker\": {\"colorbar\": {\"outlinewidth\": 0, \"ticks\": \"\"}}, \"type\": \"scattercarpet\"}], \"scattergeo\": [{\"marker\": {\"colorbar\": {\"outlinewidth\": 0, \"ticks\": \"\"}}, \"type\": \"scattergeo\"}], \"scattergl\": [{\"marker\": {\"colorbar\": {\"outlinewidth\": 0, \"ticks\": \"\"}}, \"type\": \"scattergl\"}], \"scattermapbox\": [{\"marker\": {\"colorbar\": {\"outlinewidth\": 0, \"ticks\": \"\"}}, \"type\": \"scattermapbox\"}], \"scatterpolar\": [{\"marker\": {\"colorbar\": {\"outlinewidth\": 0, \"ticks\": \"\"}}, \"type\": \"scatterpolar\"}], \"scatterpolargl\": [{\"marker\": {\"colorbar\": {\"outlinewidth\": 0, \"ticks\": \"\"}}, \"type\": \"scatterpolargl\"}], \"scatterternary\": [{\"marker\": {\"colorbar\": {\"outlinewidth\": 0, \"ticks\": \"\"}}, \"type\": \"scatterternary\"}], \"surface\": [{\"colorbar\": {\"outlinewidth\": 0, \"ticks\": \"\"}, \"colorscale\": [[0.0, \"#0d0887\"], [0.1111111111111111, \"#46039f\"], [0.2222222222222222, \"#7201a8\"], [0.3333333333333333, \"#9c179e\"], [0.4444444444444444, \"#bd3786\"], [0.5555555555555556, \"#d8576b\"], [0.6666666666666666, \"#ed7953\"], [0.7777777777777778, \"#fb9f3a\"], [0.8888888888888888, \"#fdca26\"], [1.0, \"#f0f921\"]], \"type\": \"surface\"}], \"table\": [{\"cells\": {\"fill\": {\"color\": \"#EBF0F8\"}, \"line\": {\"color\": \"white\"}}, \"header\": {\"fill\": {\"color\": \"#C8D4E3\"}, \"line\": {\"color\": \"white\"}}, \"type\": \"table\"}]}, \"layout\": {\"annotationdefaults\": {\"arrowcolor\": \"#2a3f5f\", \"arrowhead\": 0, \"arrowwidth\": 1}, \"coloraxis\": {\"colorbar\": {\"outlinewidth\": 0, \"ticks\": \"\"}}, \"colorscale\": {\"diverging\": [[0, \"#8e0152\"], [0.1, \"#c51b7d\"], [0.2, \"#de77ae\"], [0.3, \"#f1b6da\"], [0.4, \"#fde0ef\"], [0.5, \"#f7f7f7\"], [0.6, \"#e6f5d0\"], [0.7, \"#b8e186\"], [0.8, \"#7fbc41\"], [0.9, \"#4d9221\"], [1, \"#276419\"]], \"sequential\": [[0.0, \"#0d0887\"], [0.1111111111111111, \"#46039f\"], [0.2222222222222222, \"#7201a8\"], [0.3333333333333333, \"#9c179e\"], [0.4444444444444444, \"#bd3786\"], [0.5555555555555556, \"#d8576b\"], [0.6666666666666666, \"#ed7953\"], [0.7777777777777778, \"#fb9f3a\"], [0.8888888888888888, \"#fdca26\"], [1.0, \"#f0f921\"]], \"sequentialminus\": [[0.0, \"#0d0887\"], [0.1111111111111111, \"#46039f\"], [0.2222222222222222, \"#7201a8\"], [0.3333333333333333, \"#9c179e\"], [0.4444444444444444, \"#bd3786\"], [0.5555555555555556, \"#d8576b\"], [0.6666666666666666, \"#ed7953\"], [0.7777777777777778, \"#fb9f3a\"], [0.8888888888888888, \"#fdca26\"], [1.0, \"#f0f921\"]]}, \"colorway\": [\"#636efa\", \"#EF553B\", \"#00cc96\", \"#ab63fa\", \"#FFA15A\", \"#19d3f3\", \"#FF6692\", \"#B6E880\", \"#FF97FF\", \"#FECB52\"], \"font\": {\"color\": \"#2a3f5f\"}, \"geo\": {\"bgcolor\": \"white\", \"lakecolor\": \"white\", \"landcolor\": \"#E5ECF6\", \"showlakes\": true, \"showland\": true, \"subunitcolor\": \"white\"}, \"hoverlabel\": {\"align\": \"left\"}, \"hovermode\": \"closest\", \"mapbox\": {\"style\": \"light\"}, \"paper_bgcolor\": \"white\", \"plot_bgcolor\": \"#E5ECF6\", \"polar\": {\"angularaxis\": {\"gridcolor\": \"white\", \"linecolor\": \"white\", \"ticks\": \"\"}, \"bgcolor\": \"#E5ECF6\", \"radialaxis\": {\"gridcolor\": \"white\", \"linecolor\": \"white\", \"ticks\": \"\"}}, \"scene\": {\"xaxis\": {\"backgroundcolor\": \"#E5ECF6\", \"gridcolor\": \"white\", \"gridwidth\": 2, \"linecolor\": \"white\", \"showbackground\": true, \"ticks\": \"\", \"zerolinecolor\": \"white\"}, \"yaxis\": {\"backgroundcolor\": \"#E5ECF6\", \"gridcolor\": \"white\", \"gridwidth\": 2, \"linecolor\": \"white\", \"showbackground\": true, \"ticks\": \"\", \"zerolinecolor\": \"white\"}, \"zaxis\": {\"backgroundcolor\": \"#E5ECF6\", \"gridcolor\": \"white\", \"gridwidth\": 2, \"linecolor\": \"white\", \"showbackground\": true, \"ticks\": \"\", \"zerolinecolor\": \"white\"}}, \"shapedefaults\": {\"line\": {\"color\": \"#2a3f5f\"}}, \"ternary\": {\"aaxis\": {\"gridcolor\": \"white\", \"linecolor\": \"white\", \"ticks\": \"\"}, \"baxis\": {\"gridcolor\": \"white\", \"linecolor\": \"white\", \"ticks\": \"\"}, \"bgcolor\": \"#E5ECF6\", \"caxis\": {\"gridcolor\": \"white\", \"linecolor\": \"white\", \"ticks\": \"\"}}, \"title\": {\"x\": 0.05}, \"xaxis\": {\"automargin\": true, \"gridcolor\": \"white\", \"linecolor\": \"white\", \"ticks\": \"\", \"title\": {\"standoff\": 15}, \"zerolinecolor\": \"white\", \"zerolinewidth\": 2}, \"yaxis\": {\"automargin\": true, \"gridcolor\": \"white\", \"linecolor\": \"white\", \"ticks\": \"\", \"title\": {\"standoff\": 15}, \"zerolinecolor\": \"white\", \"zerolinewidth\": 2}}}, \"title\": {\"text\": \"Confirmed - Time Series Forecast - Daily Trend\"}, \"xaxis\": {\"gridcolor\": \"rgb(255, 255, 255)\", \"gridwidth\": 2, \"ticklen\": 5, \"title\": {\"text\": \"\"}, \"zerolinewidth\": 1}, \"yaxis\": {\"gridcolor\": \"rgb(255, 255, 255)\", \"gridwidth\": 2, \"ticklen\": 5, \"title\": {\"text\": \"Confirmed nCov - Hubei\"}, \"zerolinewidth\": 1}},\n",
       "                        {\"responsive\": true}\n",
       "                    ).then(function(){\n",
       "                            \n",
       "var gd = document.getElementById('a91bbe95-83f6-4f96-b66e-137ffbadef3d');\n",
       "var x = new MutationObserver(function (mutations, observer) {{\n",
       "        var display = window.getComputedStyle(gd).display;\n",
       "        if (!display || display === 'none') {{\n",
       "            console.log([gd, 'removed!']);\n",
       "            Plotly.purge(gd);\n",
       "            observer.disconnect();\n",
       "        }}\n",
       "}});\n",
       "\n",
       "// Listen for the removal of the full notebook cells\n",
       "var notebookContainer = gd.closest('#notebook-container');\n",
       "if (notebookContainer) {{\n",
       "    x.observe(notebookContainer, {childList: true});\n",
       "}}\n",
       "\n",
       "// Listen for the clearing of the current output cell\n",
       "var outputEl = gd.closest('.output');\n",
       "if (outputEl) {{\n",
       "    x.observe(outputEl, {childList: true});\n",
       "}}\n",
       "\n",
       "                        })\n",
       "                };\n",
       "                });\n",
       "            </script>\n",
       "        </div>"
      ]
     },
     "metadata": {},
     "output_type": "display_data"
    },
    {
     "name": "stdout",
     "output_type": "stream",
     "text": [
      "MAPE : 0.6625833464120447\n"
     ]
    }
   ],
   "source": [
    "m_d = Prophet(\n",
    "    changepoint_range=0.85,\n",
    "    changepoint_prior_scale=20,\n",
    "    n_changepoints=19,\n",
    "    yearly_seasonality=False,\n",
    "    weekly_seasonality = False,\n",
    "    daily_seasonality = False,\n",
    "    seasonality_mode = 'additive')\n",
    "\n",
    "df_China_without_Hubei_grouped.columns = ['ds','y']\n",
    "\n",
    "m_d.fit(df_China_without_Hubei_grouped)\n",
    "future_China_without_Hubei = m_d.make_future_dataframe(periods=7)\n",
    "fcst_daily_China_without_Hubei= m_d.predict(future_China_without_Hubei)\n",
    "\n",
    "plot_China_without_Hubei()"
   ]
  },
  {
   "cell_type": "code",
   "execution_count": 213,
   "metadata": {},
   "outputs": [
    {
     "name": "stderr",
     "output_type": "stream",
     "text": [
      "INFO:fbprophet:n_changepoints greater than number of observations. Using 19.\n"
     ]
    },
    {
     "data": {
      "application/vnd.plotly.v1+json": {
       "config": {
        "linkText": "Export to plot.ly",
        "plotlyServerURL": "https://plot.ly",
        "showLink": false
       },
       "data": [
        {
         "mode": "markers",
         "name": "actual no. of Confirmed",
         "type": "scatter",
         "x": [
          "2020-01-23T00:00:00",
          "2020-01-24T00:00:00",
          "2020-01-25T00:00:00",
          "2020-01-26T00:00:00",
          "2020-01-27T00:00:00",
          "2020-01-28T00:00:00",
          "2020-01-29T00:00:00",
          "2020-01-30T00:00:00",
          "2020-01-31T00:00:00",
          "2020-02-01T00:00:00",
          "2020-02-02T00:00:00",
          "2020-02-03T00:00:00",
          "2020-02-04T00:00:00",
          "2020-02-05T00:00:00",
          "2020-02-06T00:00:00",
          "2020-02-07T00:00:00",
          "2020-02-08T00:00:00",
          "2020-02-09T00:00:00",
          "2020-02-10T00:00:00",
          "2020-02-11T00:00:00",
          "2020-02-12T00:00:00",
          "2020-02-13T00:00:00",
          "2020-02-14T00:00:00",
          "2020-02-15T00:00:00",
          "2020-02-16T00:00:00",
          "2020-02-17T00:00:00"
         ],
         "y": [
          1,
          3,
          3,
          4,
          5,
          7,
          10,
          10,
          16,
          18,
          18,
          18,
          24,
          28,
          28,
          30,
          40,
          43,
          45,
          47,
          50,
          58,
          67,
          72,
          75,
          77
         ]
        },
        {
         "fill": "tonexty",
         "line": {
          "color": "#57b8ff"
         },
         "mode": "lines",
         "name": "upper_band",
         "type": "scatter",
         "x": [
          "2020-01-23T00:00:00",
          "2020-01-24T00:00:00",
          "2020-01-25T00:00:00",
          "2020-01-26T00:00:00",
          "2020-01-27T00:00:00",
          "2020-01-28T00:00:00",
          "2020-01-29T00:00:00",
          "2020-01-30T00:00:00",
          "2020-01-31T00:00:00",
          "2020-02-01T00:00:00",
          "2020-02-02T00:00:00",
          "2020-02-03T00:00:00",
          "2020-02-04T00:00:00",
          "2020-02-05T00:00:00",
          "2020-02-06T00:00:00",
          "2020-02-07T00:00:00",
          "2020-02-08T00:00:00",
          "2020-02-09T00:00:00",
          "2020-02-10T00:00:00",
          "2020-02-11T00:00:00",
          "2020-02-12T00:00:00",
          "2020-02-13T00:00:00",
          "2020-02-14T00:00:00",
          "2020-02-15T00:00:00",
          "2020-02-16T00:00:00",
          "2020-02-17T00:00:00",
          "2020-02-18T00:00:00",
          "2020-02-19T00:00:00",
          "2020-02-20T00:00:00",
          "2020-02-21T00:00:00",
          "2020-02-22T00:00:00",
          "2020-02-23T00:00:00",
          "2020-02-24T00:00:00"
         ],
         "y": [
          2.413874582784056,
          4.446638537144653,
          4.455526878639286,
          5.530801218672836,
          6.600689796793602,
          8.525753490213994,
          11.507463564523256,
          11.48331826839617,
          17.45299409049186,
          19.460304090168734,
          19.573196562693244,
          19.490890614633336,
          25.446957627425913,
          29.427313500012055,
          29.53997750127007,
          31.538277065803594,
          41.42091503825682,
          44.43340624796369,
          46.59574363739793,
          48.71855496179326,
          54.23308825670175,
          59.77543198433616,
          65.15319846504369,
          70.70971434244882,
          76.18927134855997,
          81.68390901691166,
          87.98204549059543,
          96.58899628166492,
          107.45447048228226,
          118.53027405859756,
          131.68004669382674,
          144.676511475773,
          160.266801718624
         ]
        },
        {
         "fill": "tonexty",
         "line": {
          "color": "#57b8ff"
         },
         "mode": "lines",
         "name": "lower_band",
         "type": "scatter",
         "x": [
          "2020-01-23T00:00:00",
          "2020-01-24T00:00:00",
          "2020-01-25T00:00:00",
          "2020-01-26T00:00:00",
          "2020-01-27T00:00:00",
          "2020-01-28T00:00:00",
          "2020-01-29T00:00:00",
          "2020-01-30T00:00:00",
          "2020-01-31T00:00:00",
          "2020-02-01T00:00:00",
          "2020-02-02T00:00:00",
          "2020-02-03T00:00:00",
          "2020-02-04T00:00:00",
          "2020-02-05T00:00:00",
          "2020-02-06T00:00:00",
          "2020-02-07T00:00:00",
          "2020-02-08T00:00:00",
          "2020-02-09T00:00:00",
          "2020-02-10T00:00:00",
          "2020-02-11T00:00:00",
          "2020-02-12T00:00:00",
          "2020-02-13T00:00:00",
          "2020-02-14T00:00:00",
          "2020-02-15T00:00:00",
          "2020-02-16T00:00:00",
          "2020-02-17T00:00:00",
          "2020-02-18T00:00:00",
          "2020-02-19T00:00:00",
          "2020-02-20T00:00:00",
          "2020-02-21T00:00:00",
          "2020-02-22T00:00:00",
          "2020-02-23T00:00:00",
          "2020-02-24T00:00:00"
         ],
         "y": [
          -0.4538135894234382,
          1.3917738824294128,
          1.5667661976220943,
          2.378522056122246,
          3.5933092900765766,
          5.4605493467555,
          8.288345190639625,
          8.583510612159845,
          14.315113820920963,
          16.37827833795159,
          16.430450249871985,
          16.53873141952564,
          22.501337620516697,
          26.41651615435095,
          26.591410251499383,
          28.47081619813233,
          38.46165854590553,
          41.36349471514998,
          43.55862974244599,
          45.53470182844723,
          51.059224490324844,
          56.60794784342284,
          62.15479451949304,
          67.66391971152309,
          73.10605825123353,
          78.64170930826496,
          83.46373584644309,
          85.61916461003108,
          84.9085459975852,
          84.33560646480149,
          81.29144910340631,
          78.1227453543125,
          73.63447368800088
         ]
        },
        {
         "line": {
          "color": "#eb0e0e"
         },
         "mode": "lines+markers",
         "name": "prediction",
         "type": "scatter",
         "x": [
          "2020-01-23T00:00:00",
          "2020-01-24T00:00:00",
          "2020-01-25T00:00:00",
          "2020-01-26T00:00:00",
          "2020-01-27T00:00:00",
          "2020-01-28T00:00:00",
          "2020-01-29T00:00:00",
          "2020-01-30T00:00:00",
          "2020-01-31T00:00:00",
          "2020-02-01T00:00:00",
          "2020-02-02T00:00:00",
          "2020-02-03T00:00:00",
          "2020-02-04T00:00:00",
          "2020-02-05T00:00:00",
          "2020-02-06T00:00:00",
          "2020-02-07T00:00:00",
          "2020-02-08T00:00:00",
          "2020-02-09T00:00:00",
          "2020-02-10T00:00:00",
          "2020-02-11T00:00:00",
          "2020-02-12T00:00:00",
          "2020-02-13T00:00:00",
          "2020-02-14T00:00:00",
          "2020-02-15T00:00:00",
          "2020-02-16T00:00:00",
          "2020-02-17T00:00:00",
          "2020-02-18T00:00:00",
          "2020-02-19T00:00:00",
          "2020-02-20T00:00:00",
          "2020-02-21T00:00:00",
          "2020-02-22T00:00:00",
          "2020-02-23T00:00:00",
          "2020-02-24T00:00:00"
         ],
         "y": [
          1.0350978432923992,
          2.9169425725511595,
          3.047965364817835,
          3.9999688137081946,
          5.000015588364591,
          7.047949768468366,
          9.90410054396181,
          10.095899441347377,
          15.952050237653312,
          17.968033445482433,
          18.015983420580966,
          18.06393298998001,
          23.95205010781906,
          27.95205026542626,
          28.0479499867795,
          30.04794925892465,
          39.95205105830017,
          42.952065019494235,
          45.04791881401593,
          47.21686172886901,
          52.71600380317184,
          58.21514587747464,
          63.71428795177744,
          69.21343002608027,
          74.71257210038307,
          80.2117141746859,
          85.71085624898872,
          91.20999832329154,
          96.70914039759437,
          102.20828247189715,
          107.70742454619996,
          113.2065666205028,
          118.7057086948056
         ]
        }
       ],
       "layout": {
        "template": {
         "data": {
          "bar": [
           {
            "error_x": {
             "color": "#2a3f5f"
            },
            "error_y": {
             "color": "#2a3f5f"
            },
            "marker": {
             "line": {
              "color": "#E5ECF6",
              "width": 0.5
             }
            },
            "type": "bar"
           }
          ],
          "barpolar": [
           {
            "marker": {
             "line": {
              "color": "#E5ECF6",
              "width": 0.5
             }
            },
            "type": "barpolar"
           }
          ],
          "carpet": [
           {
            "aaxis": {
             "endlinecolor": "#2a3f5f",
             "gridcolor": "white",
             "linecolor": "white",
             "minorgridcolor": "white",
             "startlinecolor": "#2a3f5f"
            },
            "baxis": {
             "endlinecolor": "#2a3f5f",
             "gridcolor": "white",
             "linecolor": "white",
             "minorgridcolor": "white",
             "startlinecolor": "#2a3f5f"
            },
            "type": "carpet"
           }
          ],
          "choropleth": [
           {
            "colorbar": {
             "outlinewidth": 0,
             "ticks": ""
            },
            "type": "choropleth"
           }
          ],
          "contour": [
           {
            "colorbar": {
             "outlinewidth": 0,
             "ticks": ""
            },
            "colorscale": [
             [
              0,
              "#0d0887"
             ],
             [
              0.1111111111111111,
              "#46039f"
             ],
             [
              0.2222222222222222,
              "#7201a8"
             ],
             [
              0.3333333333333333,
              "#9c179e"
             ],
             [
              0.4444444444444444,
              "#bd3786"
             ],
             [
              0.5555555555555556,
              "#d8576b"
             ],
             [
              0.6666666666666666,
              "#ed7953"
             ],
             [
              0.7777777777777778,
              "#fb9f3a"
             ],
             [
              0.8888888888888888,
              "#fdca26"
             ],
             [
              1,
              "#f0f921"
             ]
            ],
            "type": "contour"
           }
          ],
          "contourcarpet": [
           {
            "colorbar": {
             "outlinewidth": 0,
             "ticks": ""
            },
            "type": "contourcarpet"
           }
          ],
          "heatmap": [
           {
            "colorbar": {
             "outlinewidth": 0,
             "ticks": ""
            },
            "colorscale": [
             [
              0,
              "#0d0887"
             ],
             [
              0.1111111111111111,
              "#46039f"
             ],
             [
              0.2222222222222222,
              "#7201a8"
             ],
             [
              0.3333333333333333,
              "#9c179e"
             ],
             [
              0.4444444444444444,
              "#bd3786"
             ],
             [
              0.5555555555555556,
              "#d8576b"
             ],
             [
              0.6666666666666666,
              "#ed7953"
             ],
             [
              0.7777777777777778,
              "#fb9f3a"
             ],
             [
              0.8888888888888888,
              "#fdca26"
             ],
             [
              1,
              "#f0f921"
             ]
            ],
            "type": "heatmap"
           }
          ],
          "heatmapgl": [
           {
            "colorbar": {
             "outlinewidth": 0,
             "ticks": ""
            },
            "colorscale": [
             [
              0,
              "#0d0887"
             ],
             [
              0.1111111111111111,
              "#46039f"
             ],
             [
              0.2222222222222222,
              "#7201a8"
             ],
             [
              0.3333333333333333,
              "#9c179e"
             ],
             [
              0.4444444444444444,
              "#bd3786"
             ],
             [
              0.5555555555555556,
              "#d8576b"
             ],
             [
              0.6666666666666666,
              "#ed7953"
             ],
             [
              0.7777777777777778,
              "#fb9f3a"
             ],
             [
              0.8888888888888888,
              "#fdca26"
             ],
             [
              1,
              "#f0f921"
             ]
            ],
            "type": "heatmapgl"
           }
          ],
          "histogram": [
           {
            "marker": {
             "colorbar": {
              "outlinewidth": 0,
              "ticks": ""
             }
            },
            "type": "histogram"
           }
          ],
          "histogram2d": [
           {
            "colorbar": {
             "outlinewidth": 0,
             "ticks": ""
            },
            "colorscale": [
             [
              0,
              "#0d0887"
             ],
             [
              0.1111111111111111,
              "#46039f"
             ],
             [
              0.2222222222222222,
              "#7201a8"
             ],
             [
              0.3333333333333333,
              "#9c179e"
             ],
             [
              0.4444444444444444,
              "#bd3786"
             ],
             [
              0.5555555555555556,
              "#d8576b"
             ],
             [
              0.6666666666666666,
              "#ed7953"
             ],
             [
              0.7777777777777778,
              "#fb9f3a"
             ],
             [
              0.8888888888888888,
              "#fdca26"
             ],
             [
              1,
              "#f0f921"
             ]
            ],
            "type": "histogram2d"
           }
          ],
          "histogram2dcontour": [
           {
            "colorbar": {
             "outlinewidth": 0,
             "ticks": ""
            },
            "colorscale": [
             [
              0,
              "#0d0887"
             ],
             [
              0.1111111111111111,
              "#46039f"
             ],
             [
              0.2222222222222222,
              "#7201a8"
             ],
             [
              0.3333333333333333,
              "#9c179e"
             ],
             [
              0.4444444444444444,
              "#bd3786"
             ],
             [
              0.5555555555555556,
              "#d8576b"
             ],
             [
              0.6666666666666666,
              "#ed7953"
             ],
             [
              0.7777777777777778,
              "#fb9f3a"
             ],
             [
              0.8888888888888888,
              "#fdca26"
             ],
             [
              1,
              "#f0f921"
             ]
            ],
            "type": "histogram2dcontour"
           }
          ],
          "mesh3d": [
           {
            "colorbar": {
             "outlinewidth": 0,
             "ticks": ""
            },
            "type": "mesh3d"
           }
          ],
          "parcoords": [
           {
            "line": {
             "colorbar": {
              "outlinewidth": 0,
              "ticks": ""
             }
            },
            "type": "parcoords"
           }
          ],
          "pie": [
           {
            "automargin": true,
            "type": "pie"
           }
          ],
          "scatter": [
           {
            "marker": {
             "colorbar": {
              "outlinewidth": 0,
              "ticks": ""
             }
            },
            "type": "scatter"
           }
          ],
          "scatter3d": [
           {
            "line": {
             "colorbar": {
              "outlinewidth": 0,
              "ticks": ""
             }
            },
            "marker": {
             "colorbar": {
              "outlinewidth": 0,
              "ticks": ""
             }
            },
            "type": "scatter3d"
           }
          ],
          "scattercarpet": [
           {
            "marker": {
             "colorbar": {
              "outlinewidth": 0,
              "ticks": ""
             }
            },
            "type": "scattercarpet"
           }
          ],
          "scattergeo": [
           {
            "marker": {
             "colorbar": {
              "outlinewidth": 0,
              "ticks": ""
             }
            },
            "type": "scattergeo"
           }
          ],
          "scattergl": [
           {
            "marker": {
             "colorbar": {
              "outlinewidth": 0,
              "ticks": ""
             }
            },
            "type": "scattergl"
           }
          ],
          "scattermapbox": [
           {
            "marker": {
             "colorbar": {
              "outlinewidth": 0,
              "ticks": ""
             }
            },
            "type": "scattermapbox"
           }
          ],
          "scatterpolar": [
           {
            "marker": {
             "colorbar": {
              "outlinewidth": 0,
              "ticks": ""
             }
            },
            "type": "scatterpolar"
           }
          ],
          "scatterpolargl": [
           {
            "marker": {
             "colorbar": {
              "outlinewidth": 0,
              "ticks": ""
             }
            },
            "type": "scatterpolargl"
           }
          ],
          "scatterternary": [
           {
            "marker": {
             "colorbar": {
              "outlinewidth": 0,
              "ticks": ""
             }
            },
            "type": "scatterternary"
           }
          ],
          "surface": [
           {
            "colorbar": {
             "outlinewidth": 0,
             "ticks": ""
            },
            "colorscale": [
             [
              0,
              "#0d0887"
             ],
             [
              0.1111111111111111,
              "#46039f"
             ],
             [
              0.2222222222222222,
              "#7201a8"
             ],
             [
              0.3333333333333333,
              "#9c179e"
             ],
             [
              0.4444444444444444,
              "#bd3786"
             ],
             [
              0.5555555555555556,
              "#d8576b"
             ],
             [
              0.6666666666666666,
              "#ed7953"
             ],
             [
              0.7777777777777778,
              "#fb9f3a"
             ],
             [
              0.8888888888888888,
              "#fdca26"
             ],
             [
              1,
              "#f0f921"
             ]
            ],
            "type": "surface"
           }
          ],
          "table": [
           {
            "cells": {
             "fill": {
              "color": "#EBF0F8"
             },
             "line": {
              "color": "white"
             }
            },
            "header": {
             "fill": {
              "color": "#C8D4E3"
             },
             "line": {
              "color": "white"
             }
            },
            "type": "table"
           }
          ]
         },
         "layout": {
          "annotationdefaults": {
           "arrowcolor": "#2a3f5f",
           "arrowhead": 0,
           "arrowwidth": 1
          },
          "coloraxis": {
           "colorbar": {
            "outlinewidth": 0,
            "ticks": ""
           }
          },
          "colorscale": {
           "diverging": [
            [
             0,
             "#8e0152"
            ],
            [
             0.1,
             "#c51b7d"
            ],
            [
             0.2,
             "#de77ae"
            ],
            [
             0.3,
             "#f1b6da"
            ],
            [
             0.4,
             "#fde0ef"
            ],
            [
             0.5,
             "#f7f7f7"
            ],
            [
             0.6,
             "#e6f5d0"
            ],
            [
             0.7,
             "#b8e186"
            ],
            [
             0.8,
             "#7fbc41"
            ],
            [
             0.9,
             "#4d9221"
            ],
            [
             1,
             "#276419"
            ]
           ],
           "sequential": [
            [
             0,
             "#0d0887"
            ],
            [
             0.1111111111111111,
             "#46039f"
            ],
            [
             0.2222222222222222,
             "#7201a8"
            ],
            [
             0.3333333333333333,
             "#9c179e"
            ],
            [
             0.4444444444444444,
             "#bd3786"
            ],
            [
             0.5555555555555556,
             "#d8576b"
            ],
            [
             0.6666666666666666,
             "#ed7953"
            ],
            [
             0.7777777777777778,
             "#fb9f3a"
            ],
            [
             0.8888888888888888,
             "#fdca26"
            ],
            [
             1,
             "#f0f921"
            ]
           ],
           "sequentialminus": [
            [
             0,
             "#0d0887"
            ],
            [
             0.1111111111111111,
             "#46039f"
            ],
            [
             0.2222222222222222,
             "#7201a8"
            ],
            [
             0.3333333333333333,
             "#9c179e"
            ],
            [
             0.4444444444444444,
             "#bd3786"
            ],
            [
             0.5555555555555556,
             "#d8576b"
            ],
            [
             0.6666666666666666,
             "#ed7953"
            ],
            [
             0.7777777777777778,
             "#fb9f3a"
            ],
            [
             0.8888888888888888,
             "#fdca26"
            ],
            [
             1,
             "#f0f921"
            ]
           ]
          },
          "colorway": [
           "#636efa",
           "#EF553B",
           "#00cc96",
           "#ab63fa",
           "#FFA15A",
           "#19d3f3",
           "#FF6692",
           "#B6E880",
           "#FF97FF",
           "#FECB52"
          ],
          "font": {
           "color": "#2a3f5f"
          },
          "geo": {
           "bgcolor": "white",
           "lakecolor": "white",
           "landcolor": "#E5ECF6",
           "showlakes": true,
           "showland": true,
           "subunitcolor": "white"
          },
          "hoverlabel": {
           "align": "left"
          },
          "hovermode": "closest",
          "mapbox": {
           "style": "light"
          },
          "paper_bgcolor": "white",
          "plot_bgcolor": "#E5ECF6",
          "polar": {
           "angularaxis": {
            "gridcolor": "white",
            "linecolor": "white",
            "ticks": ""
           },
           "bgcolor": "#E5ECF6",
           "radialaxis": {
            "gridcolor": "white",
            "linecolor": "white",
            "ticks": ""
           }
          },
          "scene": {
           "xaxis": {
            "backgroundcolor": "#E5ECF6",
            "gridcolor": "white",
            "gridwidth": 2,
            "linecolor": "white",
            "showbackground": true,
            "ticks": "",
            "zerolinecolor": "white"
           },
           "yaxis": {
            "backgroundcolor": "#E5ECF6",
            "gridcolor": "white",
            "gridwidth": 2,
            "linecolor": "white",
            "showbackground": true,
            "ticks": "",
            "zerolinecolor": "white"
           },
           "zaxis": {
            "backgroundcolor": "#E5ECF6",
            "gridcolor": "white",
            "gridwidth": 2,
            "linecolor": "white",
            "showbackground": true,
            "ticks": "",
            "zerolinecolor": "white"
           }
          },
          "shapedefaults": {
           "line": {
            "color": "#2a3f5f"
           }
          },
          "ternary": {
           "aaxis": {
            "gridcolor": "white",
            "linecolor": "white",
            "ticks": ""
           },
           "baxis": {
            "gridcolor": "white",
            "linecolor": "white",
            "ticks": ""
           },
           "bgcolor": "#E5ECF6",
           "caxis": {
            "gridcolor": "white",
            "linecolor": "white",
            "ticks": ""
           }
          },
          "title": {
           "x": 0.05
          },
          "xaxis": {
           "automargin": true,
           "gridcolor": "white",
           "linecolor": "white",
           "ticks": "",
           "title": {
            "standoff": 15
           },
           "zerolinecolor": "white",
           "zerolinewidth": 2
          },
          "yaxis": {
           "automargin": true,
           "gridcolor": "white",
           "linecolor": "white",
           "ticks": "",
           "title": {
            "standoff": 15
           },
           "zerolinecolor": "white",
           "zerolinewidth": 2
          }
         }
        },
        "title": {
         "text": "Confirmed - Time Series Forecast - Daily Trend"
        },
        "xaxis": {
         "gridcolor": "rgb(255, 255, 255)",
         "gridwidth": 2,
         "ticklen": 5,
         "title": {
          "text": ""
         },
         "zerolinewidth": 1
        },
        "yaxis": {
         "gridcolor": "rgb(255, 255, 255)",
         "gridwidth": 2,
         "ticklen": 5,
         "title": {
          "text": "Confirmed nCov - Hubei"
         },
         "zerolinewidth": 1
        }
       }
      },
      "text/html": [
       "<div>\n",
       "        \n",
       "        \n",
       "            <div id=\"3f5e0d36-2803-4155-8e2f-936fcd86411f\" class=\"plotly-graph-div\" style=\"height:525px; width:100%;\"></div>\n",
       "            <script type=\"text/javascript\">\n",
       "                require([\"plotly\"], function(Plotly) {\n",
       "                    window.PLOTLYENV=window.PLOTLYENV || {};\n",
       "                    \n",
       "                if (document.getElementById(\"3f5e0d36-2803-4155-8e2f-936fcd86411f\")) {\n",
       "                    Plotly.newPlot(\n",
       "                        '3f5e0d36-2803-4155-8e2f-936fcd86411f',\n",
       "                        [{\"mode\": \"markers\", \"name\": \"actual no. of Confirmed\", \"type\": \"scatter\", \"x\": [\"2020-01-23T00:00:00\", \"2020-01-24T00:00:00\", \"2020-01-25T00:00:00\", \"2020-01-26T00:00:00\", \"2020-01-27T00:00:00\", \"2020-01-28T00:00:00\", \"2020-01-29T00:00:00\", \"2020-01-30T00:00:00\", \"2020-01-31T00:00:00\", \"2020-02-01T00:00:00\", \"2020-02-02T00:00:00\", \"2020-02-03T00:00:00\", \"2020-02-04T00:00:00\", \"2020-02-05T00:00:00\", \"2020-02-06T00:00:00\", \"2020-02-07T00:00:00\", \"2020-02-08T00:00:00\", \"2020-02-09T00:00:00\", \"2020-02-10T00:00:00\", \"2020-02-11T00:00:00\", \"2020-02-12T00:00:00\", \"2020-02-13T00:00:00\", \"2020-02-14T00:00:00\", \"2020-02-15T00:00:00\", \"2020-02-16T00:00:00\", \"2020-02-17T00:00:00\"], \"y\": [1, 3, 3, 4, 5, 7, 10, 10, 16, 18, 18, 18, 24, 28, 28, 30, 40, 43, 45, 47, 50, 58, 67, 72, 75, 77]}, {\"fill\": \"tonexty\", \"line\": {\"color\": \"#57b8ff\"}, \"mode\": \"lines\", \"name\": \"upper_band\", \"type\": \"scatter\", \"x\": [\"2020-01-23T00:00:00\", \"2020-01-24T00:00:00\", \"2020-01-25T00:00:00\", \"2020-01-26T00:00:00\", \"2020-01-27T00:00:00\", \"2020-01-28T00:00:00\", \"2020-01-29T00:00:00\", \"2020-01-30T00:00:00\", \"2020-01-31T00:00:00\", \"2020-02-01T00:00:00\", \"2020-02-02T00:00:00\", \"2020-02-03T00:00:00\", \"2020-02-04T00:00:00\", \"2020-02-05T00:00:00\", \"2020-02-06T00:00:00\", \"2020-02-07T00:00:00\", \"2020-02-08T00:00:00\", \"2020-02-09T00:00:00\", \"2020-02-10T00:00:00\", \"2020-02-11T00:00:00\", \"2020-02-12T00:00:00\", \"2020-02-13T00:00:00\", \"2020-02-14T00:00:00\", \"2020-02-15T00:00:00\", \"2020-02-16T00:00:00\", \"2020-02-17T00:00:00\", \"2020-02-18T00:00:00\", \"2020-02-19T00:00:00\", \"2020-02-20T00:00:00\", \"2020-02-21T00:00:00\", \"2020-02-22T00:00:00\", \"2020-02-23T00:00:00\", \"2020-02-24T00:00:00\"], \"y\": [2.413874582784056, 4.446638537144653, 4.455526878639286, 5.530801218672836, 6.600689796793602, 8.525753490213994, 11.507463564523256, 11.48331826839617, 17.45299409049186, 19.460304090168734, 19.573196562693244, 19.490890614633336, 25.446957627425913, 29.427313500012055, 29.53997750127007, 31.538277065803594, 41.42091503825682, 44.43340624796369, 46.59574363739793, 48.71855496179326, 54.23308825670175, 59.77543198433616, 65.15319846504369, 70.70971434244882, 76.18927134855997, 81.68390901691166, 87.98204549059543, 96.58899628166492, 107.45447048228226, 118.53027405859756, 131.68004669382674, 144.676511475773, 160.266801718624]}, {\"fill\": \"tonexty\", \"line\": {\"color\": \"#57b8ff\"}, \"mode\": \"lines\", \"name\": \"lower_band\", \"type\": \"scatter\", \"x\": [\"2020-01-23T00:00:00\", \"2020-01-24T00:00:00\", \"2020-01-25T00:00:00\", \"2020-01-26T00:00:00\", \"2020-01-27T00:00:00\", \"2020-01-28T00:00:00\", \"2020-01-29T00:00:00\", \"2020-01-30T00:00:00\", \"2020-01-31T00:00:00\", \"2020-02-01T00:00:00\", \"2020-02-02T00:00:00\", \"2020-02-03T00:00:00\", \"2020-02-04T00:00:00\", \"2020-02-05T00:00:00\", \"2020-02-06T00:00:00\", \"2020-02-07T00:00:00\", \"2020-02-08T00:00:00\", \"2020-02-09T00:00:00\", \"2020-02-10T00:00:00\", \"2020-02-11T00:00:00\", \"2020-02-12T00:00:00\", \"2020-02-13T00:00:00\", \"2020-02-14T00:00:00\", \"2020-02-15T00:00:00\", \"2020-02-16T00:00:00\", \"2020-02-17T00:00:00\", \"2020-02-18T00:00:00\", \"2020-02-19T00:00:00\", \"2020-02-20T00:00:00\", \"2020-02-21T00:00:00\", \"2020-02-22T00:00:00\", \"2020-02-23T00:00:00\", \"2020-02-24T00:00:00\"], \"y\": [-0.4538135894234382, 1.3917738824294128, 1.5667661976220943, 2.378522056122246, 3.5933092900765766, 5.4605493467555, 8.288345190639625, 8.583510612159845, 14.315113820920963, 16.37827833795159, 16.430450249871985, 16.53873141952564, 22.501337620516697, 26.41651615435095, 26.591410251499383, 28.47081619813233, 38.46165854590553, 41.36349471514998, 43.55862974244599, 45.53470182844723, 51.059224490324844, 56.60794784342284, 62.15479451949304, 67.66391971152309, 73.10605825123353, 78.64170930826496, 83.46373584644309, 85.61916461003108, 84.9085459975852, 84.33560646480149, 81.29144910340631, 78.1227453543125, 73.63447368800088]}, {\"line\": {\"color\": \"#eb0e0e\"}, \"mode\": \"lines+markers\", \"name\": \"prediction\", \"type\": \"scatter\", \"x\": [\"2020-01-23T00:00:00\", \"2020-01-24T00:00:00\", \"2020-01-25T00:00:00\", \"2020-01-26T00:00:00\", \"2020-01-27T00:00:00\", \"2020-01-28T00:00:00\", \"2020-01-29T00:00:00\", \"2020-01-30T00:00:00\", \"2020-01-31T00:00:00\", \"2020-02-01T00:00:00\", \"2020-02-02T00:00:00\", \"2020-02-03T00:00:00\", \"2020-02-04T00:00:00\", \"2020-02-05T00:00:00\", \"2020-02-06T00:00:00\", \"2020-02-07T00:00:00\", \"2020-02-08T00:00:00\", \"2020-02-09T00:00:00\", \"2020-02-10T00:00:00\", \"2020-02-11T00:00:00\", \"2020-02-12T00:00:00\", \"2020-02-13T00:00:00\", \"2020-02-14T00:00:00\", \"2020-02-15T00:00:00\", \"2020-02-16T00:00:00\", \"2020-02-17T00:00:00\", \"2020-02-18T00:00:00\", \"2020-02-19T00:00:00\", \"2020-02-20T00:00:00\", \"2020-02-21T00:00:00\", \"2020-02-22T00:00:00\", \"2020-02-23T00:00:00\", \"2020-02-24T00:00:00\"], \"y\": [1.0350978432923992, 2.9169425725511595, 3.047965364817835, 3.9999688137081946, 5.000015588364591, 7.047949768468366, 9.90410054396181, 10.095899441347377, 15.952050237653312, 17.968033445482433, 18.015983420580966, 18.06393298998001, 23.95205010781906, 27.95205026542626, 28.0479499867795, 30.04794925892465, 39.95205105830017, 42.952065019494235, 45.04791881401593, 47.21686172886901, 52.71600380317184, 58.21514587747464, 63.71428795177744, 69.21343002608027, 74.71257210038307, 80.2117141746859, 85.71085624898872, 91.20999832329154, 96.70914039759437, 102.20828247189715, 107.70742454619996, 113.2065666205028, 118.7057086948056]}],\n",
       "                        {\"template\": {\"data\": {\"bar\": [{\"error_x\": {\"color\": \"#2a3f5f\"}, \"error_y\": {\"color\": \"#2a3f5f\"}, \"marker\": {\"line\": {\"color\": \"#E5ECF6\", \"width\": 0.5}}, \"type\": \"bar\"}], \"barpolar\": [{\"marker\": {\"line\": {\"color\": \"#E5ECF6\", \"width\": 0.5}}, \"type\": \"barpolar\"}], \"carpet\": [{\"aaxis\": {\"endlinecolor\": \"#2a3f5f\", \"gridcolor\": \"white\", \"linecolor\": \"white\", \"minorgridcolor\": \"white\", \"startlinecolor\": \"#2a3f5f\"}, \"baxis\": {\"endlinecolor\": \"#2a3f5f\", \"gridcolor\": \"white\", \"linecolor\": \"white\", \"minorgridcolor\": \"white\", \"startlinecolor\": \"#2a3f5f\"}, \"type\": \"carpet\"}], \"choropleth\": [{\"colorbar\": {\"outlinewidth\": 0, \"ticks\": \"\"}, \"type\": \"choropleth\"}], \"contour\": [{\"colorbar\": {\"outlinewidth\": 0, \"ticks\": \"\"}, \"colorscale\": [[0.0, \"#0d0887\"], [0.1111111111111111, \"#46039f\"], [0.2222222222222222, \"#7201a8\"], [0.3333333333333333, \"#9c179e\"], [0.4444444444444444, \"#bd3786\"], [0.5555555555555556, \"#d8576b\"], [0.6666666666666666, \"#ed7953\"], [0.7777777777777778, \"#fb9f3a\"], [0.8888888888888888, \"#fdca26\"], [1.0, \"#f0f921\"]], \"type\": \"contour\"}], \"contourcarpet\": [{\"colorbar\": {\"outlinewidth\": 0, \"ticks\": \"\"}, \"type\": \"contourcarpet\"}], \"heatmap\": [{\"colorbar\": {\"outlinewidth\": 0, \"ticks\": \"\"}, \"colorscale\": [[0.0, \"#0d0887\"], [0.1111111111111111, \"#46039f\"], [0.2222222222222222, \"#7201a8\"], [0.3333333333333333, \"#9c179e\"], [0.4444444444444444, \"#bd3786\"], [0.5555555555555556, \"#d8576b\"], [0.6666666666666666, \"#ed7953\"], [0.7777777777777778, \"#fb9f3a\"], [0.8888888888888888, \"#fdca26\"], [1.0, \"#f0f921\"]], \"type\": \"heatmap\"}], \"heatmapgl\": [{\"colorbar\": {\"outlinewidth\": 0, \"ticks\": \"\"}, \"colorscale\": [[0.0, \"#0d0887\"], [0.1111111111111111, \"#46039f\"], [0.2222222222222222, \"#7201a8\"], [0.3333333333333333, \"#9c179e\"], [0.4444444444444444, \"#bd3786\"], [0.5555555555555556, \"#d8576b\"], [0.6666666666666666, \"#ed7953\"], [0.7777777777777778, \"#fb9f3a\"], [0.8888888888888888, \"#fdca26\"], [1.0, \"#f0f921\"]], \"type\": \"heatmapgl\"}], \"histogram\": [{\"marker\": {\"colorbar\": {\"outlinewidth\": 0, \"ticks\": \"\"}}, \"type\": \"histogram\"}], \"histogram2d\": [{\"colorbar\": {\"outlinewidth\": 0, \"ticks\": \"\"}, \"colorscale\": [[0.0, \"#0d0887\"], [0.1111111111111111, \"#46039f\"], [0.2222222222222222, \"#7201a8\"], [0.3333333333333333, \"#9c179e\"], [0.4444444444444444, \"#bd3786\"], [0.5555555555555556, \"#d8576b\"], [0.6666666666666666, \"#ed7953\"], [0.7777777777777778, \"#fb9f3a\"], [0.8888888888888888, \"#fdca26\"], [1.0, \"#f0f921\"]], \"type\": \"histogram2d\"}], \"histogram2dcontour\": [{\"colorbar\": {\"outlinewidth\": 0, \"ticks\": \"\"}, \"colorscale\": [[0.0, \"#0d0887\"], [0.1111111111111111, \"#46039f\"], [0.2222222222222222, \"#7201a8\"], [0.3333333333333333, \"#9c179e\"], [0.4444444444444444, \"#bd3786\"], [0.5555555555555556, \"#d8576b\"], [0.6666666666666666, \"#ed7953\"], [0.7777777777777778, \"#fb9f3a\"], [0.8888888888888888, \"#fdca26\"], [1.0, \"#f0f921\"]], \"type\": \"histogram2dcontour\"}], \"mesh3d\": [{\"colorbar\": {\"outlinewidth\": 0, \"ticks\": \"\"}, \"type\": \"mesh3d\"}], \"parcoords\": [{\"line\": {\"colorbar\": {\"outlinewidth\": 0, \"ticks\": \"\"}}, \"type\": \"parcoords\"}], \"pie\": [{\"automargin\": true, \"type\": \"pie\"}], \"scatter\": [{\"marker\": {\"colorbar\": {\"outlinewidth\": 0, \"ticks\": \"\"}}, \"type\": \"scatter\"}], \"scatter3d\": [{\"line\": {\"colorbar\": {\"outlinewidth\": 0, \"ticks\": \"\"}}, \"marker\": {\"colorbar\": {\"outlinewidth\": 0, \"ticks\": \"\"}}, \"type\": \"scatter3d\"}], \"scattercarpet\": [{\"marker\": {\"colorbar\": {\"outlinewidth\": 0, \"ticks\": \"\"}}, \"type\": \"scattercarpet\"}], \"scattergeo\": [{\"marker\": {\"colorbar\": {\"outlinewidth\": 0, \"ticks\": \"\"}}, \"type\": \"scattergeo\"}], \"scattergl\": [{\"marker\": {\"colorbar\": {\"outlinewidth\": 0, \"ticks\": \"\"}}, \"type\": \"scattergl\"}], \"scattermapbox\": [{\"marker\": {\"colorbar\": {\"outlinewidth\": 0, \"ticks\": \"\"}}, \"type\": \"scattermapbox\"}], \"scatterpolar\": [{\"marker\": {\"colorbar\": {\"outlinewidth\": 0, \"ticks\": \"\"}}, \"type\": \"scatterpolar\"}], \"scatterpolargl\": [{\"marker\": {\"colorbar\": {\"outlinewidth\": 0, \"ticks\": \"\"}}, \"type\": \"scatterpolargl\"}], \"scatterternary\": [{\"marker\": {\"colorbar\": {\"outlinewidth\": 0, \"ticks\": \"\"}}, \"type\": \"scatterternary\"}], \"surface\": [{\"colorbar\": {\"outlinewidth\": 0, \"ticks\": \"\"}, \"colorscale\": [[0.0, \"#0d0887\"], [0.1111111111111111, \"#46039f\"], [0.2222222222222222, \"#7201a8\"], [0.3333333333333333, \"#9c179e\"], [0.4444444444444444, \"#bd3786\"], [0.5555555555555556, \"#d8576b\"], [0.6666666666666666, \"#ed7953\"], [0.7777777777777778, \"#fb9f3a\"], [0.8888888888888888, \"#fdca26\"], [1.0, \"#f0f921\"]], \"type\": \"surface\"}], \"table\": [{\"cells\": {\"fill\": {\"color\": \"#EBF0F8\"}, \"line\": {\"color\": \"white\"}}, \"header\": {\"fill\": {\"color\": \"#C8D4E3\"}, \"line\": {\"color\": \"white\"}}, \"type\": \"table\"}]}, \"layout\": {\"annotationdefaults\": {\"arrowcolor\": \"#2a3f5f\", \"arrowhead\": 0, \"arrowwidth\": 1}, \"coloraxis\": {\"colorbar\": {\"outlinewidth\": 0, \"ticks\": \"\"}}, \"colorscale\": {\"diverging\": [[0, \"#8e0152\"], [0.1, \"#c51b7d\"], [0.2, \"#de77ae\"], [0.3, \"#f1b6da\"], [0.4, \"#fde0ef\"], [0.5, \"#f7f7f7\"], [0.6, \"#e6f5d0\"], [0.7, \"#b8e186\"], [0.8, \"#7fbc41\"], [0.9, \"#4d9221\"], [1, \"#276419\"]], \"sequential\": [[0.0, \"#0d0887\"], [0.1111111111111111, \"#46039f\"], [0.2222222222222222, \"#7201a8\"], [0.3333333333333333, \"#9c179e\"], [0.4444444444444444, \"#bd3786\"], [0.5555555555555556, \"#d8576b\"], [0.6666666666666666, \"#ed7953\"], [0.7777777777777778, \"#fb9f3a\"], [0.8888888888888888, \"#fdca26\"], [1.0, \"#f0f921\"]], \"sequentialminus\": [[0.0, \"#0d0887\"], [0.1111111111111111, \"#46039f\"], [0.2222222222222222, \"#7201a8\"], [0.3333333333333333, \"#9c179e\"], [0.4444444444444444, \"#bd3786\"], [0.5555555555555556, \"#d8576b\"], [0.6666666666666666, \"#ed7953\"], [0.7777777777777778, \"#fb9f3a\"], [0.8888888888888888, \"#fdca26\"], [1.0, \"#f0f921\"]]}, \"colorway\": [\"#636efa\", \"#EF553B\", \"#00cc96\", \"#ab63fa\", \"#FFA15A\", \"#19d3f3\", \"#FF6692\", \"#B6E880\", \"#FF97FF\", \"#FECB52\"], \"font\": {\"color\": \"#2a3f5f\"}, \"geo\": {\"bgcolor\": \"white\", \"lakecolor\": \"white\", \"landcolor\": \"#E5ECF6\", \"showlakes\": true, \"showland\": true, \"subunitcolor\": \"white\"}, \"hoverlabel\": {\"align\": \"left\"}, \"hovermode\": \"closest\", \"mapbox\": {\"style\": \"light\"}, \"paper_bgcolor\": \"white\", \"plot_bgcolor\": \"#E5ECF6\", \"polar\": {\"angularaxis\": {\"gridcolor\": \"white\", \"linecolor\": \"white\", \"ticks\": \"\"}, \"bgcolor\": \"#E5ECF6\", \"radialaxis\": {\"gridcolor\": \"white\", \"linecolor\": \"white\", \"ticks\": \"\"}}, \"scene\": {\"xaxis\": {\"backgroundcolor\": \"#E5ECF6\", \"gridcolor\": \"white\", \"gridwidth\": 2, \"linecolor\": \"white\", \"showbackground\": true, \"ticks\": \"\", \"zerolinecolor\": \"white\"}, \"yaxis\": {\"backgroundcolor\": \"#E5ECF6\", \"gridcolor\": \"white\", \"gridwidth\": 2, \"linecolor\": \"white\", \"showbackground\": true, \"ticks\": \"\", \"zerolinecolor\": \"white\"}, \"zaxis\": {\"backgroundcolor\": \"#E5ECF6\", \"gridcolor\": \"white\", \"gridwidth\": 2, \"linecolor\": \"white\", \"showbackground\": true, \"ticks\": \"\", \"zerolinecolor\": \"white\"}}, \"shapedefaults\": {\"line\": {\"color\": \"#2a3f5f\"}}, \"ternary\": {\"aaxis\": {\"gridcolor\": \"white\", \"linecolor\": \"white\", \"ticks\": \"\"}, \"baxis\": {\"gridcolor\": \"white\", \"linecolor\": \"white\", \"ticks\": \"\"}, \"bgcolor\": \"#E5ECF6\", \"caxis\": {\"gridcolor\": \"white\", \"linecolor\": \"white\", \"ticks\": \"\"}}, \"title\": {\"x\": 0.05}, \"xaxis\": {\"automargin\": true, \"gridcolor\": \"white\", \"linecolor\": \"white\", \"ticks\": \"\", \"title\": {\"standoff\": 15}, \"zerolinecolor\": \"white\", \"zerolinewidth\": 2}, \"yaxis\": {\"automargin\": true, \"gridcolor\": \"white\", \"linecolor\": \"white\", \"ticks\": \"\", \"title\": {\"standoff\": 15}, \"zerolinecolor\": \"white\", \"zerolinewidth\": 2}}}, \"title\": {\"text\": \"Confirmed - Time Series Forecast - Daily Trend\"}, \"xaxis\": {\"gridcolor\": \"rgb(255, 255, 255)\", \"gridwidth\": 2, \"ticklen\": 5, \"title\": {\"text\": \"\"}, \"zerolinewidth\": 1}, \"yaxis\": {\"gridcolor\": \"rgb(255, 255, 255)\", \"gridwidth\": 2, \"ticklen\": 5, \"title\": {\"text\": \"Confirmed nCov - Hubei\"}, \"zerolinewidth\": 1}},\n",
       "                        {\"responsive\": true}\n",
       "                    ).then(function(){\n",
       "                            \n",
       "var gd = document.getElementById('3f5e0d36-2803-4155-8e2f-936fcd86411f');\n",
       "var x = new MutationObserver(function (mutations, observer) {{\n",
       "        var display = window.getComputedStyle(gd).display;\n",
       "        if (!display || display === 'none') {{\n",
       "            console.log([gd, 'removed!']);\n",
       "            Plotly.purge(gd);\n",
       "            observer.disconnect();\n",
       "        }}\n",
       "}});\n",
       "\n",
       "// Listen for the removal of the full notebook cells\n",
       "var notebookContainer = gd.closest('#notebook-container');\n",
       "if (notebookContainer) {{\n",
       "    x.observe(notebookContainer, {childList: true});\n",
       "}}\n",
       "\n",
       "// Listen for the clearing of the current output cell\n",
       "var outputEl = gd.closest('.output');\n",
       "if (outputEl) {{\n",
       "    x.observe(outputEl, {childList: true});\n",
       "}}\n",
       "\n",
       "                        })\n",
       "                };\n",
       "                });\n",
       "            </script>\n",
       "        </div>"
      ]
     },
     "metadata": {},
     "output_type": "display_data"
    },
    {
     "name": "stdout",
     "output_type": "stream",
     "text": [
      "MAPE : 1.2321322095806737\n"
     ]
    }
   ],
   "source": [
    "m_d_SG = Prophet(\n",
    "    changepoint_range=0.8,\n",
    "    changepoint_prior_scale=19,\n",
    "    n_changepoints=20,\n",
    "    yearly_seasonality=False,\n",
    "    weekly_seasonality = False,\n",
    "    daily_seasonality = False,\n",
    "    seasonality_mode = 'additive')\n",
    "\n",
    "df_Singapore_grouped.columns = ['ds','y']\n",
    "\n",
    "m_d_SG.fit(df_Singapore_grouped)\n",
    "future_Singapore_grouped = m_d_SG.make_future_dataframe(periods=7)\n",
    "fcst_daily_Singapore_grouped= m_d_SG.predict(future_Singapore_grouped)\n",
    "\n",
    "plot_Singapore()"
   ]
  },
  {
   "cell_type": "markdown",
   "metadata": {},
   "source": [
    "## A note on parameter tuning for Prophet"
   ]
  },
  {
   "cell_type": "markdown",
   "metadata": {},
   "source": [
    "Note that here we didn't touch the `seasonality`"
   ]
  },
  {
   "cell_type": "code",
   "execution_count": null,
   "metadata": {},
   "outputs": [],
   "source": []
  }
 ],
 "metadata": {
  "kernelspec": {
   "display_name": "Python 3",
   "language": "python",
   "name": "python3"
  },
  "language_info": {
   "codemirror_mode": {
    "name": "ipython",
    "version": 3
   },
   "file_extension": ".py",
   "mimetype": "text/x-python",
   "name": "python",
   "nbconvert_exporter": "python",
   "pygments_lexer": "ipython3",
   "version": "3.6.8"
  }
 },
 "nbformat": 4,
 "nbformat_minor": 2
}
