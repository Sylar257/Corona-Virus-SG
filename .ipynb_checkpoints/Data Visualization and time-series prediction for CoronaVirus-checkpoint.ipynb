{
 "cells": [
  {
   "cell_type": "code",
   "execution_count": 1,
   "metadata": {},
   "outputs": [],
   "source": [
    "import numpy as np\n",
    "import pandas as pd"
   ]
  },
  {
   "cell_type": "code",
   "execution_count": 6,
   "metadata": {
    "scrolled": true
   },
   "outputs": [],
   "source": [
    "from fbprophet import Prophet\n",
    "from fbprophet.diagnostics import cross_validation, performance_metrics\n",
    "from fbprophet.plot import plot_cross_validation_metric, add_changepoints_to_plot, plot_plotly\n",
    "import seaborn as sns\n",
    "import matplotlib.pyplot as plt\n",
    "import plotly.express as px"
   ]
  },
  {
   "cell_type": "markdown",
   "metadata": {},
   "source": [
    "## Read in the data from Kaggle"
   ]
  },
  {
   "cell_type": "code",
   "execution_count": 139,
   "metadata": {},
   "outputs": [],
   "source": [
    "df = pd.read_csv('2019_nCoV_data.csv')\n",
    "# conf_df = pd.read_csv('time_series_2019_ncov_confirmed.csv')\n",
    "# deaths_df = pd.read_csv('time_series_2019_ncov_deaths.csv')\n",
    "# recv_df = pd.read_csv('time_series_2019_ncov_recovered.csv')\n",
    "\n",
    "conf_df = pd.read_csv('time_series_2019-ncov-Confirmed.csv')\n",
    "deaths_df = pd.read_csv('time_series_2019-ncov-Deaths.csv')\n",
    "recv_df = pd.read_csv('time_series_2019-ncov-Recovered.csv')"
   ]
  },
  {
   "cell_type": "code",
   "execution_count": 140,
   "metadata": {
    "scrolled": false
   },
   "outputs": [
    {
     "data": {
      "text/html": [
       "<div>\n",
       "<style scoped>\n",
       "    .dataframe tbody tr th:only-of-type {\n",
       "        vertical-align: middle;\n",
       "    }\n",
       "\n",
       "    .dataframe tbody tr th {\n",
       "        vertical-align: top;\n",
       "    }\n",
       "\n",
       "    .dataframe thead th {\n",
       "        text-align: right;\n",
       "    }\n",
       "</style>\n",
       "<table border=\"1\" class=\"dataframe\">\n",
       "  <thead>\n",
       "    <tr style=\"text-align: right;\">\n",
       "      <th></th>\n",
       "      <th>Sno</th>\n",
       "      <th>Date</th>\n",
       "      <th>Province/State</th>\n",
       "      <th>Country</th>\n",
       "      <th>Last Update</th>\n",
       "      <th>Confirmed</th>\n",
       "      <th>Deaths</th>\n",
       "      <th>Recovered</th>\n",
       "    </tr>\n",
       "  </thead>\n",
       "  <tbody>\n",
       "    <tr>\n",
       "      <th>0</th>\n",
       "      <td>1</td>\n",
       "      <td>01/22/2020 12:00:00</td>\n",
       "      <td>Anhui</td>\n",
       "      <td>China</td>\n",
       "      <td>01/22/2020 12:00:00</td>\n",
       "      <td>1.0</td>\n",
       "      <td>0.0</td>\n",
       "      <td>0.0</td>\n",
       "    </tr>\n",
       "    <tr>\n",
       "      <th>1</th>\n",
       "      <td>2</td>\n",
       "      <td>01/22/2020 12:00:00</td>\n",
       "      <td>Beijing</td>\n",
       "      <td>China</td>\n",
       "      <td>01/22/2020 12:00:00</td>\n",
       "      <td>14.0</td>\n",
       "      <td>0.0</td>\n",
       "      <td>0.0</td>\n",
       "    </tr>\n",
       "    <tr>\n",
       "      <th>2</th>\n",
       "      <td>3</td>\n",
       "      <td>01/22/2020 12:00:00</td>\n",
       "      <td>Chongqing</td>\n",
       "      <td>China</td>\n",
       "      <td>01/22/2020 12:00:00</td>\n",
       "      <td>6.0</td>\n",
       "      <td>0.0</td>\n",
       "      <td>0.0</td>\n",
       "    </tr>\n",
       "    <tr>\n",
       "      <th>3</th>\n",
       "      <td>4</td>\n",
       "      <td>01/22/2020 12:00:00</td>\n",
       "      <td>Fujian</td>\n",
       "      <td>China</td>\n",
       "      <td>01/22/2020 12:00:00</td>\n",
       "      <td>1.0</td>\n",
       "      <td>0.0</td>\n",
       "      <td>0.0</td>\n",
       "    </tr>\n",
       "    <tr>\n",
       "      <th>4</th>\n",
       "      <td>5</td>\n",
       "      <td>01/22/2020 12:00:00</td>\n",
       "      <td>Gansu</td>\n",
       "      <td>China</td>\n",
       "      <td>01/22/2020 12:00:00</td>\n",
       "      <td>0.0</td>\n",
       "      <td>0.0</td>\n",
       "      <td>0.0</td>\n",
       "    </tr>\n",
       "  </tbody>\n",
       "</table>\n",
       "</div>"
      ],
      "text/plain": [
       "   Sno                 Date Province/State Country          Last Update  \\\n",
       "0    1  01/22/2020 12:00:00          Anhui   China  01/22/2020 12:00:00   \n",
       "1    2  01/22/2020 12:00:00        Beijing   China  01/22/2020 12:00:00   \n",
       "2    3  01/22/2020 12:00:00      Chongqing   China  01/22/2020 12:00:00   \n",
       "3    4  01/22/2020 12:00:00         Fujian   China  01/22/2020 12:00:00   \n",
       "4    5  01/22/2020 12:00:00          Gansu   China  01/22/2020 12:00:00   \n",
       "\n",
       "   Confirmed  Deaths  Recovered  \n",
       "0        1.0     0.0        0.0  \n",
       "1       14.0     0.0        0.0  \n",
       "2        6.0     0.0        0.0  \n",
       "3        1.0     0.0        0.0  \n",
       "4        0.0     0.0        0.0  "
      ]
     },
     "execution_count": 140,
     "metadata": {},
     "output_type": "execute_result"
    }
   ],
   "source": [
    "df.head()"
   ]
  },
  {
   "cell_type": "code",
   "execution_count": 141,
   "metadata": {},
   "outputs": [],
   "source": [
    "dates = list(conf_df.columns[4:])\n",
    "dates1 = list(recv_df.columns[4:])"
   ]
  },
  {
   "cell_type": "markdown",
   "metadata": {},
   "source": [
    "### We would want to aggregate the confirmed/death/recovered data under one date frame"
   ]
  },
  {
   "cell_type": "code",
   "execution_count": 142,
   "metadata": {
    "scrolled": true
   },
   "outputs": [],
   "source": [
    "conf_df_long = conf_df.melt(id_vars=['Province/State', 'Country/Region', 'Lat', 'Long'], \n",
    "                            value_vars=dates, var_name='Date', value_name='Confirmed')\n",
    "\n",
    "deaths_df_long = deaths_df.melt(id_vars=['Province/State', 'Country/Region', 'Lat', 'Long'], \n",
    "                            value_vars=dates, var_name='Date', value_name='Deaths')\n",
    "\n",
    "recv_df_long = recv_df.melt(id_vars=['Province/State', 'Country/Region', 'Lat', 'Long'], \n",
    "                            value_vars=dates, var_name='Date', value_name='Recovered')\n",
    "\n",
    "full_table = pd.concat([conf_df_long, deaths_df_long['Deaths'], recv_df_long['Recovered']], \n",
    "                       axis=1, sort=False)"
   ]
  },
  {
   "cell_type": "code",
   "execution_count": 144,
   "metadata": {},
   "outputs": [
    {
     "data": {
      "text/plain": [
       "Province/State            object\n",
       "Country/Region            object\n",
       "Lat                      float64\n",
       "Long                     float64\n",
       "Date              datetime64[ns]\n",
       "Confirmed                  int64\n",
       "Deaths                     int64\n",
       "Recovered                  int64\n",
       "dtype: object"
      ]
     },
     "execution_count": 144,
     "metadata": {},
     "output_type": "execute_result"
    }
   ],
   "source": [
    "full_table['Date'] = pd.to_datetime(full_table['Date'])\n",
    "full_table['Recovered'] = full_table['Recovered'].astype('int')\n",
    "full_table.dtypes"
   ]
  },
  {
   "cell_type": "code",
   "execution_count": 145,
   "metadata": {
    "scrolled": true
   },
   "outputs": [
    {
     "data": {
      "text/html": [
       "<div>\n",
       "<style scoped>\n",
       "    .dataframe tbody tr th:only-of-type {\n",
       "        vertical-align: middle;\n",
       "    }\n",
       "\n",
       "    .dataframe tbody tr th {\n",
       "        vertical-align: top;\n",
       "    }\n",
       "\n",
       "    .dataframe thead th {\n",
       "        text-align: right;\n",
       "    }\n",
       "</style>\n",
       "<table border=\"1\" class=\"dataframe\">\n",
       "  <thead>\n",
       "    <tr style=\"text-align: right;\">\n",
       "      <th></th>\n",
       "      <th>Province/State</th>\n",
       "      <th>Country/Region</th>\n",
       "      <th>Lat</th>\n",
       "      <th>Long</th>\n",
       "      <th>Date</th>\n",
       "      <th>Confirmed</th>\n",
       "      <th>Deaths</th>\n",
       "      <th>Recovered</th>\n",
       "    </tr>\n",
       "  </thead>\n",
       "  <tbody>\n",
       "    <tr>\n",
       "      <th>0</th>\n",
       "      <td>Anhui</td>\n",
       "      <td>Mainland China</td>\n",
       "      <td>31.82571</td>\n",
       "      <td>117.2264</td>\n",
       "      <td>2020-01-22</td>\n",
       "      <td>1</td>\n",
       "      <td>0</td>\n",
       "      <td>0</td>\n",
       "    </tr>\n",
       "    <tr>\n",
       "      <th>1</th>\n",
       "      <td>Beijing</td>\n",
       "      <td>Mainland China</td>\n",
       "      <td>40.18238</td>\n",
       "      <td>116.4142</td>\n",
       "      <td>2020-01-22</td>\n",
       "      <td>14</td>\n",
       "      <td>0</td>\n",
       "      <td>0</td>\n",
       "    </tr>\n",
       "    <tr>\n",
       "      <th>2</th>\n",
       "      <td>Chongqing</td>\n",
       "      <td>Mainland China</td>\n",
       "      <td>30.05718</td>\n",
       "      <td>107.8740</td>\n",
       "      <td>2020-01-22</td>\n",
       "      <td>6</td>\n",
       "      <td>0</td>\n",
       "      <td>0</td>\n",
       "    </tr>\n",
       "    <tr>\n",
       "      <th>3</th>\n",
       "      <td>Fujian</td>\n",
       "      <td>Mainland China</td>\n",
       "      <td>26.07783</td>\n",
       "      <td>117.9895</td>\n",
       "      <td>2020-01-22</td>\n",
       "      <td>1</td>\n",
       "      <td>0</td>\n",
       "      <td>0</td>\n",
       "    </tr>\n",
       "    <tr>\n",
       "      <th>4</th>\n",
       "      <td>Gansu</td>\n",
       "      <td>Mainland China</td>\n",
       "      <td>36.06110</td>\n",
       "      <td>103.8343</td>\n",
       "      <td>2020-01-22</td>\n",
       "      <td>0</td>\n",
       "      <td>0</td>\n",
       "      <td>0</td>\n",
       "    </tr>\n",
       "  </tbody>\n",
       "</table>\n",
       "</div>"
      ],
      "text/plain": [
       "  Province/State  Country/Region       Lat      Long       Date  Confirmed  \\\n",
       "0          Anhui  Mainland China  31.82571  117.2264 2020-01-22          1   \n",
       "1        Beijing  Mainland China  40.18238  116.4142 2020-01-22         14   \n",
       "2      Chongqing  Mainland China  30.05718  107.8740 2020-01-22          6   \n",
       "3         Fujian  Mainland China  26.07783  117.9895 2020-01-22          1   \n",
       "4          Gansu  Mainland China  36.06110  103.8343 2020-01-22          0   \n",
       "\n",
       "   Deaths  Recovered  \n",
       "0       0          0  \n",
       "1       0          0  \n",
       "2       0          0  \n",
       "3       0          0  \n",
       "4       0          0  "
      ]
     },
     "execution_count": 145,
     "metadata": {},
     "output_type": "execute_result"
    }
   ],
   "source": [
    "full_table.head()"
   ]
  },
  {
   "cell_type": "code",
   "execution_count": 146,
   "metadata": {},
   "outputs": [
    {
     "data": {
      "text/plain": [
       "array(['Mainland China', 'Thailand', 'Japan', 'South Korea', 'Taiwan',\n",
       "       'US', 'Macau', 'Hong Kong', 'Singapore', 'Vietnam', 'France',\n",
       "       'Nepal', 'Malaysia', 'Canada', 'Australia', 'Cambodia',\n",
       "       'Sri Lanka', 'Germany', 'Finland', 'United Arab Emirates',\n",
       "       'Philippines', 'India', 'Italy', 'UK', 'Russia', 'Sweden', 'Spain',\n",
       "       'Belgium', 'Others', 'Egypt', 'Iran'], dtype=object)"
      ]
     },
     "execution_count": 146,
     "metadata": {},
     "output_type": "execute_result"
    }
   ],
   "source": [
    "full_table['Country/Region'].unique()"
   ]
  },
  {
   "cell_type": "markdown",
   "metadata": {},
   "source": [
    "## Add a column for population of the city"
   ]
  },
  {
   "cell_type": "code",
   "execution_count": 147,
   "metadata": {},
   "outputs": [
    {
     "data": {
      "text/plain": [
       "array(['Anhui', 'Beijing', 'Chongqing', 'Fujian', 'Gansu', 'Guangdong',\n",
       "       'Guangxi', 'Guizhou', 'Hainan', 'Hebei', 'Heilongjiang', 'Henan',\n",
       "       'Hubei', 'Hunan', 'Inner Mongolia', 'Jiangsu', 'Jiangxi', 'Jilin',\n",
       "       'Liaoning', 'Ningxia', 'Qinghai', 'Shaanxi', 'Shandong',\n",
       "       'Shanghai', 'Shanxi', 'Sichuan', 'Tianjin', 'Tibet', 'Xinjiang',\n",
       "       'Yunnan', 'Zhejiang', nan, 'Taiwan', 'Seattle, WA', 'Chicago, IL',\n",
       "       'Tempe, AZ', 'Macau', 'Hong Kong', 'Toronto, ON',\n",
       "       'British Columbia', 'Orange, CA', 'Los Angeles, CA',\n",
       "       'New South Wales', 'Victoria', 'Queensland', 'London, ON',\n",
       "       'Santa Clara, CA', 'South Australia', 'Boston, MA',\n",
       "       'San Benito, CA', 'Madison, WI', 'Diamond Princess cruise ship',\n",
       "       'San Diego County, CA', 'San Antonio, TX'], dtype=object)"
      ]
     },
     "execution_count": 147,
     "metadata": {},
     "output_type": "execute_result"
    }
   ],
   "source": [
    "full_table['Province/State'].unique()"
   ]
  },
  {
   "cell_type": "code",
   "execution_count": 151,
   "metadata": {},
   "outputs": [],
   "source": [
    "def label_race (row):\n",
    "    if row['Province/State'] == 'Anhui' :\n",
    "        return 62.0\n",
    "    if row['Province/State'] == 'Beijing' :\n",
    "        return 21.54\n",
    "    if row['Province/State'] == 'Chongqing':\n",
    "        return 30.48\n",
    "    if row['Province/State'] == 'Fujian':\n",
    "        return 38.56\n",
    "    if row['Province/State']  == 'Gansu':\n",
    "        return 25.58\n",
    "    if row['Province/State']  == 'Guangdong':\n",
    "        return 113.46 \n",
    "    if row['Province/State']  == 'Guangxi':\n",
    "        return 48.38 \n",
    "    if row['Province/State']  == 'Guizhou':\n",
    "        return 34.75 \n",
    "    if row['Province/State']  == 'Hainan':\n",
    "        return 9.3\n",
    "    if row['Province/State']  == 'Hebei':\n",
    "        return 74.7\n",
    "    if row['Province/State']  == 'Heilongjiang':\n",
    "        return 38.31\n",
    "    if row['Province/State']  == 'Henan':\n",
    "        return 94 \n",
    "    if row['Province/State']  == 'Hubei':\n",
    "        return 58.5\n",
    "    if row['Province/State']  == 'Hunan':\n",
    "        return 67.37\n",
    "    if row['Province/State']  == 'Inner Mongolia':\n",
    "        return 24.71\n",
    "    if row['Province/State']  == 'Jiangsu':\n",
    "        return 80.4\n",
    "    if row['Province/State']  == 'Jiangxi':\n",
    "        return 45.2\n",
    "    if row['Province/State']  == 'Jilin':\n",
    "        return 27.46\n",
    "    if row['Province/State']  == 'Liaoning':\n",
    "        return 43.9 \n",
    "    if row['Province/State']  == 'Ningxia':\n",
    "        return 6.3\n",
    "    if row['Province/State']  == 'Qinghai':\n",
    "        return 5.6 \n",
    "    if row['Province/State']  == 'Shaanxi':\n",
    "        return 37.33\n",
    "    if row['Province/State']  == 'Shandong':\n",
    "        return 90.0\n",
    "    if row['Province/State']  == 'Shanghai':\n",
    "        return 24.24\n",
    "    if row['Province/State']  == 'Shanxi':\n",
    "        return 36.5\n",
    "    if row['Province/State']  == 'Sichuan':\n",
    "        return 81.1\n",
    "    if row['Province/State']  == 'Tianjin':\n",
    "        return 15.0 \n",
    "    if row['Province/State']  == 'Tibet':\n",
    "        return 3.2\n",
    "    if row['Province/State']  == 'Xinjiang':\n",
    "        return 22.0\n",
    "    if row['Province/State']  == 'Yunnan':\n",
    "        return 46.0\n",
    "    if row['Province/State']  == 'Zhejiang':\n",
    "        return 57.4\n",
    "    if row['Province/State']  == 'Taiwan':\n",
    "        return 23.78\n",
    "    if row['Province/State']  == 'Seattle, WA':\n",
    "        return 0.72\n",
    "    if row['Province/State']  == 'Chicago, IL':\n",
    "        return 2.7\n",
    "    if row['Province/State']  == 'Tempe, AZ':\n",
    "        return 0.185\n",
    "    if row['Province/State']  == 'Macau':\n",
    "        return 0.62\n",
    "    if row['Province/State']  == 'Hong Kong':\n",
    "        return 7.4\n",
    "    if row['Province/State']  == 'Toronto, ON':\n",
    "        return 2.93\n",
    "    if row['Province/State']  == 'British Columbia':\n",
    "        return 5.07\n",
    "    if row['Province/State']  == 'Orange, CA':\n",
    "        return 0.14\n",
    "    if row['Province/State']  == 'Los Angeles, CA':\n",
    "        return 4.0\n",
    "    if row['Province/State']  == 'New South Wales':\n",
    "        return 7.54\n",
    "    if row['Province/State']  == 'Victoria':\n",
    "        return 6.4\n",
    "    if row['Province/State']  == 'Queensland':\n",
    "        return 5.07\n",
    "    if row['Province/State']  == 'London, ON':\n",
    "        return 0.4\n",
    "    if row['Province/State']  == 'Santa Clara, CA':\n",
    "        return 0.127\n",
    "    if row['Province/State']  == 'South Australia':\n",
    "        return 1.677\n",
    "    if row['Province/State']  == 'Boston, MA':\n",
    "        return 0.685\n",
    "    if row['Province/State']  == 'San Benito, CA':\n",
    "        return 0.06\n",
    "    if row['Province/State']  == 'Madison, WI':\n",
    "        return 0.255\n",
    "    if row['Province/State']  == 'Diamond Princess cruise ship':\n",
    "        return 4/1000\n",
    "    \n",
    "    # Below are countries without going to specific cities\n",
    "    if row['Country/Region']  == 'Thailand':\n",
    "        return 69.04\n",
    "    if row['Country/Region']  == 'Japan':\n",
    "        return 126.8\n",
    "    if row['Country/Region']  == 'South Korea':\n",
    "        return 51.47\n",
    "    if row['Country/Region']  == 'Singapore':\n",
    "        return 5.6\n",
    "    if row['Country/Region']  == 'Vietnam':\n",
    "        return 95.54\n",
    "    if row['Country/Region']  == 'France':\n",
    "        return 67.0\n",
    "    if row['Country/Region']  == 'Nepal':\n",
    "        return 29.3\n",
    "    if row['Country/Region']  == 'Malaysia':\n",
    "        return 31.62\n",
    "    if row['Country/Region']  == 'Cambodia':\n",
    "        return 16.01\n",
    "    if row['Country/Region']  == 'Sri Lanka':\n",
    "        return 21.44\n",
    "    if row['Country/Region']  == 'Germany':\n",
    "        return 82.79\n",
    "    if row['Country/Region']  == 'Finland':\n",
    "        return 5.5\n",
    "    if row['Country/Region']  == 'United Arab Emirates':\n",
    "        return 9.4\n",
    "    if row['Country/Region']  == 'Philippines':\n",
    "        return 104.9\n",
    "    if row['Country/Region']  == 'India':\n",
    "        return 1339\n",
    "    if row['Country/Region']  == 'Italy':\n",
    "        return 60.48\n",
    "    if row['Country/Region']  == 'UK':\n",
    "        return 66.44\n",
    "    if row['Country/Region']  == 'Russia':\n",
    "        return 144.5\n",
    "    if row['Country/Region']  == 'Sweden':\n",
    "        return 10.12\n",
    "    if row['Country/Region']  == 'Spain':\n",
    "        return 46.66\n",
    "    if row['Country/Region']  == 'Belgium':\n",
    "        return 11.4\n",
    "        \n",
    "    return 10"
   ]
  },
  {
   "cell_type": "code",
   "execution_count": 152,
   "metadata": {},
   "outputs": [
    {
     "data": {
      "text/plain": [
       "array([], dtype=object)"
      ]
     },
     "execution_count": 152,
     "metadata": {},
     "output_type": "execute_result"
    }
   ],
   "source": [
    "full_table.loc[full_table['Province/State'].isna()]['Country/Region'].unique()"
   ]
  },
  {
   "cell_type": "markdown",
   "metadata": {},
   "source": [
    "## Create a new column for the population of the country"
   ]
  },
  {
   "cell_type": "code",
   "execution_count": 153,
   "metadata": {},
   "outputs": [],
   "source": [
    "full_table['population'] = full_table.apply (lambda row: label_race(row), axis=1)"
   ]
  },
  {
   "cell_type": "code",
   "execution_count": 154,
   "metadata": {},
   "outputs": [
    {
     "data": {
      "text/html": [
       "<div>\n",
       "<style scoped>\n",
       "    .dataframe tbody tr th:only-of-type {\n",
       "        vertical-align: middle;\n",
       "    }\n",
       "\n",
       "    .dataframe tbody tr th {\n",
       "        vertical-align: top;\n",
       "    }\n",
       "\n",
       "    .dataframe thead th {\n",
       "        text-align: right;\n",
       "    }\n",
       "</style>\n",
       "<table border=\"1\" class=\"dataframe\">\n",
       "  <thead>\n",
       "    <tr style=\"text-align: right;\">\n",
       "      <th></th>\n",
       "      <th>Province/State</th>\n",
       "      <th>Country/Region</th>\n",
       "      <th>Lat</th>\n",
       "      <th>Long</th>\n",
       "      <th>Date</th>\n",
       "      <th>Confirmed</th>\n",
       "      <th>Deaths</th>\n",
       "      <th>Recovered</th>\n",
       "      <th>population</th>\n",
       "    </tr>\n",
       "  </thead>\n",
       "  <tbody>\n",
       "    <tr>\n",
       "      <th>0</th>\n",
       "      <td>Anhui</td>\n",
       "      <td>Mainland China</td>\n",
       "      <td>31.82571</td>\n",
       "      <td>117.2264</td>\n",
       "      <td>2020-01-22</td>\n",
       "      <td>1</td>\n",
       "      <td>0</td>\n",
       "      <td>0</td>\n",
       "      <td>62.00</td>\n",
       "    </tr>\n",
       "    <tr>\n",
       "      <th>1</th>\n",
       "      <td>Beijing</td>\n",
       "      <td>Mainland China</td>\n",
       "      <td>40.18238</td>\n",
       "      <td>116.4142</td>\n",
       "      <td>2020-01-22</td>\n",
       "      <td>14</td>\n",
       "      <td>0</td>\n",
       "      <td>0</td>\n",
       "      <td>21.54</td>\n",
       "    </tr>\n",
       "    <tr>\n",
       "      <th>2</th>\n",
       "      <td>Chongqing</td>\n",
       "      <td>Mainland China</td>\n",
       "      <td>30.05718</td>\n",
       "      <td>107.8740</td>\n",
       "      <td>2020-01-22</td>\n",
       "      <td>6</td>\n",
       "      <td>0</td>\n",
       "      <td>0</td>\n",
       "      <td>30.48</td>\n",
       "    </tr>\n",
       "    <tr>\n",
       "      <th>3</th>\n",
       "      <td>Fujian</td>\n",
       "      <td>Mainland China</td>\n",
       "      <td>26.07783</td>\n",
       "      <td>117.9895</td>\n",
       "      <td>2020-01-22</td>\n",
       "      <td>1</td>\n",
       "      <td>0</td>\n",
       "      <td>0</td>\n",
       "      <td>38.56</td>\n",
       "    </tr>\n",
       "    <tr>\n",
       "      <th>4</th>\n",
       "      <td>Gansu</td>\n",
       "      <td>Mainland China</td>\n",
       "      <td>36.06110</td>\n",
       "      <td>103.8343</td>\n",
       "      <td>2020-01-22</td>\n",
       "      <td>0</td>\n",
       "      <td>0</td>\n",
       "      <td>0</td>\n",
       "      <td>25.58</td>\n",
       "    </tr>\n",
       "  </tbody>\n",
       "</table>\n",
       "</div>"
      ],
      "text/plain": [
       "  Province/State  Country/Region       Lat      Long       Date  Confirmed  \\\n",
       "0          Anhui  Mainland China  31.82571  117.2264 2020-01-22          1   \n",
       "1        Beijing  Mainland China  40.18238  116.4142 2020-01-22         14   \n",
       "2      Chongqing  Mainland China  30.05718  107.8740 2020-01-22          6   \n",
       "3         Fujian  Mainland China  26.07783  117.9895 2020-01-22          1   \n",
       "4          Gansu  Mainland China  36.06110  103.8343 2020-01-22          0   \n",
       "\n",
       "   Deaths  Recovered  population  \n",
       "0       0          0       62.00  \n",
       "1       0          0       21.54  \n",
       "2       0          0       30.48  \n",
       "3       0          0       38.56  \n",
       "4       0          0       25.58  "
      ]
     },
     "execution_count": 154,
     "metadata": {},
     "output_type": "execute_result"
    }
   ],
   "source": [
    "# filling missing values with 0 in columns ('Confirmed', 'Deaths', 'Recovered')\n",
    "full_table[['Confirmed', 'Deaths', 'Recovered']] = full_table[['Confirmed', 'Deaths', 'Recovered']].fillna(0)\n",
    "full_table[['Province/State']] = full_table[['Province/State']].fillna('NA')\n",
    "\n",
    "# cases in the Diamond Princess cruise ship\n",
    "ship = full_table[full_table['Province/State']=='Diamond Princess cruise ship']\n",
    "\n",
    "# full table\n",
    "full_table = full_table[full_table['Province/State']!='Diamond Princess cruise ship']\n",
    "\n",
    "\n",
    "\n",
    "full_table.head()"
   ]
  },
  {
   "cell_type": "markdown",
   "metadata": {},
   "source": [
    "## Severity computed by No.Confirmed / Population"
   ]
  },
  {
   "cell_type": "code",
   "execution_count": 155,
   "metadata": {},
   "outputs": [],
   "source": [
    "# derived dataframes\n",
    "china = full_table[full_table['Country/Region']=='Mainland China']\n",
    "row = full_table[full_table['Country/Region']!='Mainland China']\n",
    "\n",
    "full_latest = full_table[full_table['Date'] == max(full_table['Date'])].reset_index()\n",
    "china_latest = full_latest[full_latest['Country/Region']=='Mainland China']\n",
    "row_latest = full_latest[full_latest['Country/Region']!='Mainland China']\n",
    "\n",
    "full_latest_grouped = full_latest.groupby('Country/Region')['Confirmed', 'Deaths', 'Recovered','population'].sum().reset_index()\n",
    "china_latest_grouped = china_latest.groupby('Province/State')['Confirmed', 'Deaths', 'Recovered','population'].sum().reset_index()\n",
    "row_latest_grouped = row_latest.groupby('Country/Region')['Confirmed', 'Deaths', 'Recovered','population'].sum().reset_index()"
   ]
  },
  {
   "cell_type": "code",
   "execution_count": 202,
   "metadata": {},
   "outputs": [],
   "source": [
    "full_latest_grouped['Severity'] = full_latest_grouped['Confirmed']/full_latest_grouped['population']"
   ]
  },
  {
   "cell_type": "code",
   "execution_count": 200,
   "metadata": {
    "collapsed": true
   },
   "outputs": [
    {
     "data": {
      "application/vnd.plotly.v1+json": {
       "config": {
        "plotlyServerURL": "https://plot.ly"
       },
       "data": [
        {
         "coloraxis": "coloraxis",
         "geo": "geo",
         "hoverlabel": {
          "namelength": 0
         },
         "hovertemplate": "<b>%{hovertext}</b><br><br>Province/State=%{location}<br>Severity=%{z}",
         "hovertext": [
          "Anhui",
          "Beijing",
          "Chongqing",
          "Fujian",
          "Gansu",
          "Guangdong",
          "Guangxi",
          "Guizhou",
          "Hainan",
          "Hebei",
          "Heilongjiang",
          "Henan",
          "Hubei",
          "Hunan",
          "Inner Mongolia",
          "Jiangsu",
          "Jiangxi",
          "Jilin",
          "Liaoning",
          "Ningxia",
          "Qinghai",
          "Shaanxi",
          "Shandong",
          "Shanghai",
          "Shanxi",
          "Sichuan",
          "Tianjin",
          "Tibet",
          "Xinjiang",
          "Yunnan",
          "Zhejiang"
         ],
         "locationmode": "country names",
         "locations": [
          "Anhui",
          "Beijing",
          "Chongqing",
          "Fujian",
          "Gansu",
          "Guangdong",
          "Guangxi",
          "Guizhou",
          "Hainan",
          "Hebei",
          "Heilongjiang",
          "Henan",
          "Hubei",
          "Hunan",
          "Inner Mongolia",
          "Jiangsu",
          "Jiangxi",
          "Jilin",
          "Liaoning",
          "Ningxia",
          "Qinghai",
          "Shaanxi",
          "Shandong",
          "Shanghai",
          "Shanxi",
          "Sichuan",
          "Tianjin",
          "Tibet",
          "Xinjiang",
          "Yunnan",
          "Zhejiang"
         ],
         "name": "",
         "type": "choropleth",
         "z": [
          15.903225806451612,
          18.245125348189415,
          18.37270341207349,
          7.598547717842323,
          3.5574667709147776,
          11.731006522122334,
          5.043406366267052,
          4.201438848920863,
          18.064516129032256,
          4.096385542168674,
          12.268337248760114,
          13.425531914893616,
          1060.3589743589744,
          14.962149324625203,
          3.0352084176446783,
          7.848258706467661,
          20.66371681415929,
          3.2774945375091042,
          2.7562642369020502,
          11.26984126984127,
          3.2142857142857144,
          6.48272167157782,
          6.044444444444444,
          13.737623762376238,
          3.589041095890411,
          6.3378545006165234,
          8.666666666666666,
          0.3125,
          3.4545454545454546,
          3.739130434782609,
          20.45296167247387
         ]
        }
       ],
       "layout": {
        "coloraxis": {
         "colorbar": {
          "title": {
           "text": "Severity"
          }
         },
         "colorscale": [
          [
           0,
           "#440154"
          ],
          [
           0.1111111111111111,
           "#482878"
          ],
          [
           0.2222222222222222,
           "#3e4989"
          ],
          [
           0.3333333333333333,
           "#31688e"
          ],
          [
           0.4444444444444444,
           "#26828e"
          ],
          [
           0.5555555555555556,
           "#1f9e89"
          ],
          [
           0.6666666666666666,
           "#35b779"
          ],
          [
           0.7777777777777778,
           "#6ece58"
          ],
          [
           0.8888888888888888,
           "#b5de2b"
          ],
          [
           1,
           "#fde725"
          ]
         ],
         "showscale": false
        },
        "geo": {
         "center": {},
         "domain": {
          "x": [
           0,
           1
          ],
          "y": [
           0,
           1
          ]
         }
        },
        "legend": {
         "tracegroupgap": 0
        },
        "template": {
         "data": {
          "bar": [
           {
            "error_x": {
             "color": "#2a3f5f"
            },
            "error_y": {
             "color": "#2a3f5f"
            },
            "marker": {
             "line": {
              "color": "#E5ECF6",
              "width": 0.5
             }
            },
            "type": "bar"
           }
          ],
          "barpolar": [
           {
            "marker": {
             "line": {
              "color": "#E5ECF6",
              "width": 0.5
             }
            },
            "type": "barpolar"
           }
          ],
          "carpet": [
           {
            "aaxis": {
             "endlinecolor": "#2a3f5f",
             "gridcolor": "white",
             "linecolor": "white",
             "minorgridcolor": "white",
             "startlinecolor": "#2a3f5f"
            },
            "baxis": {
             "endlinecolor": "#2a3f5f",
             "gridcolor": "white",
             "linecolor": "white",
             "minorgridcolor": "white",
             "startlinecolor": "#2a3f5f"
            },
            "type": "carpet"
           }
          ],
          "choropleth": [
           {
            "colorbar": {
             "outlinewidth": 0,
             "ticks": ""
            },
            "type": "choropleth"
           }
          ],
          "contour": [
           {
            "colorbar": {
             "outlinewidth": 0,
             "ticks": ""
            },
            "colorscale": [
             [
              0,
              "#0d0887"
             ],
             [
              0.1111111111111111,
              "#46039f"
             ],
             [
              0.2222222222222222,
              "#7201a8"
             ],
             [
              0.3333333333333333,
              "#9c179e"
             ],
             [
              0.4444444444444444,
              "#bd3786"
             ],
             [
              0.5555555555555556,
              "#d8576b"
             ],
             [
              0.6666666666666666,
              "#ed7953"
             ],
             [
              0.7777777777777778,
              "#fb9f3a"
             ],
             [
              0.8888888888888888,
              "#fdca26"
             ],
             [
              1,
              "#f0f921"
             ]
            ],
            "type": "contour"
           }
          ],
          "contourcarpet": [
           {
            "colorbar": {
             "outlinewidth": 0,
             "ticks": ""
            },
            "type": "contourcarpet"
           }
          ],
          "heatmap": [
           {
            "colorbar": {
             "outlinewidth": 0,
             "ticks": ""
            },
            "colorscale": [
             [
              0,
              "#0d0887"
             ],
             [
              0.1111111111111111,
              "#46039f"
             ],
             [
              0.2222222222222222,
              "#7201a8"
             ],
             [
              0.3333333333333333,
              "#9c179e"
             ],
             [
              0.4444444444444444,
              "#bd3786"
             ],
             [
              0.5555555555555556,
              "#d8576b"
             ],
             [
              0.6666666666666666,
              "#ed7953"
             ],
             [
              0.7777777777777778,
              "#fb9f3a"
             ],
             [
              0.8888888888888888,
              "#fdca26"
             ],
             [
              1,
              "#f0f921"
             ]
            ],
            "type": "heatmap"
           }
          ],
          "heatmapgl": [
           {
            "colorbar": {
             "outlinewidth": 0,
             "ticks": ""
            },
            "colorscale": [
             [
              0,
              "#0d0887"
             ],
             [
              0.1111111111111111,
              "#46039f"
             ],
             [
              0.2222222222222222,
              "#7201a8"
             ],
             [
              0.3333333333333333,
              "#9c179e"
             ],
             [
              0.4444444444444444,
              "#bd3786"
             ],
             [
              0.5555555555555556,
              "#d8576b"
             ],
             [
              0.6666666666666666,
              "#ed7953"
             ],
             [
              0.7777777777777778,
              "#fb9f3a"
             ],
             [
              0.8888888888888888,
              "#fdca26"
             ],
             [
              1,
              "#f0f921"
             ]
            ],
            "type": "heatmapgl"
           }
          ],
          "histogram": [
           {
            "marker": {
             "colorbar": {
              "outlinewidth": 0,
              "ticks": ""
             }
            },
            "type": "histogram"
           }
          ],
          "histogram2d": [
           {
            "colorbar": {
             "outlinewidth": 0,
             "ticks": ""
            },
            "colorscale": [
             [
              0,
              "#0d0887"
             ],
             [
              0.1111111111111111,
              "#46039f"
             ],
             [
              0.2222222222222222,
              "#7201a8"
             ],
             [
              0.3333333333333333,
              "#9c179e"
             ],
             [
              0.4444444444444444,
              "#bd3786"
             ],
             [
              0.5555555555555556,
              "#d8576b"
             ],
             [
              0.6666666666666666,
              "#ed7953"
             ],
             [
              0.7777777777777778,
              "#fb9f3a"
             ],
             [
              0.8888888888888888,
              "#fdca26"
             ],
             [
              1,
              "#f0f921"
             ]
            ],
            "type": "histogram2d"
           }
          ],
          "histogram2dcontour": [
           {
            "colorbar": {
             "outlinewidth": 0,
             "ticks": ""
            },
            "colorscale": [
             [
              0,
              "#0d0887"
             ],
             [
              0.1111111111111111,
              "#46039f"
             ],
             [
              0.2222222222222222,
              "#7201a8"
             ],
             [
              0.3333333333333333,
              "#9c179e"
             ],
             [
              0.4444444444444444,
              "#bd3786"
             ],
             [
              0.5555555555555556,
              "#d8576b"
             ],
             [
              0.6666666666666666,
              "#ed7953"
             ],
             [
              0.7777777777777778,
              "#fb9f3a"
             ],
             [
              0.8888888888888888,
              "#fdca26"
             ],
             [
              1,
              "#f0f921"
             ]
            ],
            "type": "histogram2dcontour"
           }
          ],
          "mesh3d": [
           {
            "colorbar": {
             "outlinewidth": 0,
             "ticks": ""
            },
            "type": "mesh3d"
           }
          ],
          "parcoords": [
           {
            "line": {
             "colorbar": {
              "outlinewidth": 0,
              "ticks": ""
             }
            },
            "type": "parcoords"
           }
          ],
          "pie": [
           {
            "automargin": true,
            "type": "pie"
           }
          ],
          "scatter": [
           {
            "marker": {
             "colorbar": {
              "outlinewidth": 0,
              "ticks": ""
             }
            },
            "type": "scatter"
           }
          ],
          "scatter3d": [
           {
            "line": {
             "colorbar": {
              "outlinewidth": 0,
              "ticks": ""
             }
            },
            "marker": {
             "colorbar": {
              "outlinewidth": 0,
              "ticks": ""
             }
            },
            "type": "scatter3d"
           }
          ],
          "scattercarpet": [
           {
            "marker": {
             "colorbar": {
              "outlinewidth": 0,
              "ticks": ""
             }
            },
            "type": "scattercarpet"
           }
          ],
          "scattergeo": [
           {
            "marker": {
             "colorbar": {
              "outlinewidth": 0,
              "ticks": ""
             }
            },
            "type": "scattergeo"
           }
          ],
          "scattergl": [
           {
            "marker": {
             "colorbar": {
              "outlinewidth": 0,
              "ticks": ""
             }
            },
            "type": "scattergl"
           }
          ],
          "scattermapbox": [
           {
            "marker": {
             "colorbar": {
              "outlinewidth": 0,
              "ticks": ""
             }
            },
            "type": "scattermapbox"
           }
          ],
          "scatterpolar": [
           {
            "marker": {
             "colorbar": {
              "outlinewidth": 0,
              "ticks": ""
             }
            },
            "type": "scatterpolar"
           }
          ],
          "scatterpolargl": [
           {
            "marker": {
             "colorbar": {
              "outlinewidth": 0,
              "ticks": ""
             }
            },
            "type": "scatterpolargl"
           }
          ],
          "scatterternary": [
           {
            "marker": {
             "colorbar": {
              "outlinewidth": 0,
              "ticks": ""
             }
            },
            "type": "scatterternary"
           }
          ],
          "surface": [
           {
            "colorbar": {
             "outlinewidth": 0,
             "ticks": ""
            },
            "colorscale": [
             [
              0,
              "#0d0887"
             ],
             [
              0.1111111111111111,
              "#46039f"
             ],
             [
              0.2222222222222222,
              "#7201a8"
             ],
             [
              0.3333333333333333,
              "#9c179e"
             ],
             [
              0.4444444444444444,
              "#bd3786"
             ],
             [
              0.5555555555555556,
              "#d8576b"
             ],
             [
              0.6666666666666666,
              "#ed7953"
             ],
             [
              0.7777777777777778,
              "#fb9f3a"
             ],
             [
              0.8888888888888888,
              "#fdca26"
             ],
             [
              1,
              "#f0f921"
             ]
            ],
            "type": "surface"
           }
          ],
          "table": [
           {
            "cells": {
             "fill": {
              "color": "#EBF0F8"
             },
             "line": {
              "color": "white"
             }
            },
            "header": {
             "fill": {
              "color": "#C8D4E3"
             },
             "line": {
              "color": "white"
             }
            },
            "type": "table"
           }
          ]
         },
         "layout": {
          "annotationdefaults": {
           "arrowcolor": "#2a3f5f",
           "arrowhead": 0,
           "arrowwidth": 1
          },
          "coloraxis": {
           "colorbar": {
            "outlinewidth": 0,
            "ticks": ""
           }
          },
          "colorscale": {
           "diverging": [
            [
             0,
             "#8e0152"
            ],
            [
             0.1,
             "#c51b7d"
            ],
            [
             0.2,
             "#de77ae"
            ],
            [
             0.3,
             "#f1b6da"
            ],
            [
             0.4,
             "#fde0ef"
            ],
            [
             0.5,
             "#f7f7f7"
            ],
            [
             0.6,
             "#e6f5d0"
            ],
            [
             0.7,
             "#b8e186"
            ],
            [
             0.8,
             "#7fbc41"
            ],
            [
             0.9,
             "#4d9221"
            ],
            [
             1,
             "#276419"
            ]
           ],
           "sequential": [
            [
             0,
             "#0d0887"
            ],
            [
             0.1111111111111111,
             "#46039f"
            ],
            [
             0.2222222222222222,
             "#7201a8"
            ],
            [
             0.3333333333333333,
             "#9c179e"
            ],
            [
             0.4444444444444444,
             "#bd3786"
            ],
            [
             0.5555555555555556,
             "#d8576b"
            ],
            [
             0.6666666666666666,
             "#ed7953"
            ],
            [
             0.7777777777777778,
             "#fb9f3a"
            ],
            [
             0.8888888888888888,
             "#fdca26"
            ],
            [
             1,
             "#f0f921"
            ]
           ],
           "sequentialminus": [
            [
             0,
             "#0d0887"
            ],
            [
             0.1111111111111111,
             "#46039f"
            ],
            [
             0.2222222222222222,
             "#7201a8"
            ],
            [
             0.3333333333333333,
             "#9c179e"
            ],
            [
             0.4444444444444444,
             "#bd3786"
            ],
            [
             0.5555555555555556,
             "#d8576b"
            ],
            [
             0.6666666666666666,
             "#ed7953"
            ],
            [
             0.7777777777777778,
             "#fb9f3a"
            ],
            [
             0.8888888888888888,
             "#fdca26"
            ],
            [
             1,
             "#f0f921"
            ]
           ]
          },
          "colorway": [
           "#636efa",
           "#EF553B",
           "#00cc96",
           "#ab63fa",
           "#FFA15A",
           "#19d3f3",
           "#FF6692",
           "#B6E880",
           "#FF97FF",
           "#FECB52"
          ],
          "font": {
           "color": "#2a3f5f"
          },
          "geo": {
           "bgcolor": "white",
           "lakecolor": "white",
           "landcolor": "#E5ECF6",
           "showlakes": true,
           "showland": true,
           "subunitcolor": "white"
          },
          "hoverlabel": {
           "align": "left"
          },
          "hovermode": "closest",
          "mapbox": {
           "style": "light"
          },
          "paper_bgcolor": "white",
          "plot_bgcolor": "#E5ECF6",
          "polar": {
           "angularaxis": {
            "gridcolor": "white",
            "linecolor": "white",
            "ticks": ""
           },
           "bgcolor": "#E5ECF6",
           "radialaxis": {
            "gridcolor": "white",
            "linecolor": "white",
            "ticks": ""
           }
          },
          "scene": {
           "xaxis": {
            "backgroundcolor": "#E5ECF6",
            "gridcolor": "white",
            "gridwidth": 2,
            "linecolor": "white",
            "showbackground": true,
            "ticks": "",
            "zerolinecolor": "white"
           },
           "yaxis": {
            "backgroundcolor": "#E5ECF6",
            "gridcolor": "white",
            "gridwidth": 2,
            "linecolor": "white",
            "showbackground": true,
            "ticks": "",
            "zerolinecolor": "white"
           },
           "zaxis": {
            "backgroundcolor": "#E5ECF6",
            "gridcolor": "white",
            "gridwidth": 2,
            "linecolor": "white",
            "showbackground": true,
            "ticks": "",
            "zerolinecolor": "white"
           }
          },
          "shapedefaults": {
           "line": {
            "color": "#2a3f5f"
           }
          },
          "ternary": {
           "aaxis": {
            "gridcolor": "white",
            "linecolor": "white",
            "ticks": ""
           },
           "baxis": {
            "gridcolor": "white",
            "linecolor": "white",
            "ticks": ""
           },
           "bgcolor": "#E5ECF6",
           "caxis": {
            "gridcolor": "white",
            "linecolor": "white",
            "ticks": ""
           }
          },
          "title": {
           "x": 0.05
          },
          "xaxis": {
           "automargin": true,
           "gridcolor": "white",
           "linecolor": "white",
           "ticks": "",
           "title": {
            "standoff": 15
           },
           "zerolinecolor": "white",
           "zerolinewidth": 2
          },
          "yaxis": {
           "automargin": true,
           "gridcolor": "white",
           "linecolor": "white",
           "ticks": "",
           "title": {
            "standoff": 15
           },
           "zerolinecolor": "white",
           "zerolinewidth": 2
          }
         }
        },
        "title": {
         "text": "Severity in China"
        }
       }
      },
      "text/html": [
       "<div>\n",
       "        \n",
       "        \n",
       "            <div id=\"2b59abff-49b9-4681-9f39-30cc167d1f41\" class=\"plotly-graph-div\" style=\"height:525px; width:100%;\"></div>\n",
       "            <script type=\"text/javascript\">\n",
       "                require([\"plotly\"], function(Plotly) {\n",
       "                    window.PLOTLYENV=window.PLOTLYENV || {};\n",
       "                    \n",
       "                if (document.getElementById(\"2b59abff-49b9-4681-9f39-30cc167d1f41\")) {\n",
       "                    Plotly.newPlot(\n",
       "                        '2b59abff-49b9-4681-9f39-30cc167d1f41',\n",
       "                        [{\"coloraxis\": \"coloraxis\", \"geo\": \"geo\", \"hoverlabel\": {\"namelength\": 0}, \"hovertemplate\": \"<b>%{hovertext}</b><br><br>Province/State=%{location}<br>Severity=%{z}\", \"hovertext\": [\"Anhui\", \"Beijing\", \"Chongqing\", \"Fujian\", \"Gansu\", \"Guangdong\", \"Guangxi\", \"Guizhou\", \"Hainan\", \"Hebei\", \"Heilongjiang\", \"Henan\", \"Hubei\", \"Hunan\", \"Inner Mongolia\", \"Jiangsu\", \"Jiangxi\", \"Jilin\", \"Liaoning\", \"Ningxia\", \"Qinghai\", \"Shaanxi\", \"Shandong\", \"Shanghai\", \"Shanxi\", \"Sichuan\", \"Tianjin\", \"Tibet\", \"Xinjiang\", \"Yunnan\", \"Zhejiang\"], \"locationmode\": \"country names\", \"locations\": [\"Anhui\", \"Beijing\", \"Chongqing\", \"Fujian\", \"Gansu\", \"Guangdong\", \"Guangxi\", \"Guizhou\", \"Hainan\", \"Hebei\", \"Heilongjiang\", \"Henan\", \"Hubei\", \"Hunan\", \"Inner Mongolia\", \"Jiangsu\", \"Jiangxi\", \"Jilin\", \"Liaoning\", \"Ningxia\", \"Qinghai\", \"Shaanxi\", \"Shandong\", \"Shanghai\", \"Shanxi\", \"Sichuan\", \"Tianjin\", \"Tibet\", \"Xinjiang\", \"Yunnan\", \"Zhejiang\"], \"name\": \"\", \"type\": \"choropleth\", \"z\": [15.903225806451612, 18.245125348189415, 18.37270341207349, 7.598547717842323, 3.5574667709147776, 11.731006522122334, 5.043406366267052, 4.201438848920863, 18.064516129032256, 4.096385542168674, 12.268337248760114, 13.425531914893616, 1060.3589743589744, 14.962149324625203, 3.0352084176446783, 7.848258706467661, 20.66371681415929, 3.2774945375091042, 2.7562642369020502, 11.26984126984127, 3.2142857142857144, 6.48272167157782, 6.044444444444444, 13.737623762376238, 3.589041095890411, 6.3378545006165234, 8.666666666666666, 0.3125, 3.4545454545454546, 3.739130434782609, 20.45296167247387]}],\n",
       "                        {\"coloraxis\": {\"colorbar\": {\"title\": {\"text\": \"Severity\"}}, \"colorscale\": [[0.0, \"#440154\"], [0.1111111111111111, \"#482878\"], [0.2222222222222222, \"#3e4989\"], [0.3333333333333333, \"#31688e\"], [0.4444444444444444, \"#26828e\"], [0.5555555555555556, \"#1f9e89\"], [0.6666666666666666, \"#35b779\"], [0.7777777777777778, \"#6ece58\"], [0.8888888888888888, \"#b5de2b\"], [1.0, \"#fde725\"]], \"showscale\": false}, \"geo\": {\"center\": {}, \"domain\": {\"x\": [0.0, 1.0], \"y\": [0.0, 1.0]}}, \"legend\": {\"tracegroupgap\": 0}, \"template\": {\"data\": {\"bar\": [{\"error_x\": {\"color\": \"#2a3f5f\"}, \"error_y\": {\"color\": \"#2a3f5f\"}, \"marker\": {\"line\": {\"color\": \"#E5ECF6\", \"width\": 0.5}}, \"type\": \"bar\"}], \"barpolar\": [{\"marker\": {\"line\": {\"color\": \"#E5ECF6\", \"width\": 0.5}}, \"type\": \"barpolar\"}], \"carpet\": [{\"aaxis\": {\"endlinecolor\": \"#2a3f5f\", \"gridcolor\": \"white\", \"linecolor\": \"white\", \"minorgridcolor\": \"white\", \"startlinecolor\": \"#2a3f5f\"}, \"baxis\": {\"endlinecolor\": \"#2a3f5f\", \"gridcolor\": \"white\", \"linecolor\": \"white\", \"minorgridcolor\": \"white\", \"startlinecolor\": \"#2a3f5f\"}, \"type\": \"carpet\"}], \"choropleth\": [{\"colorbar\": {\"outlinewidth\": 0, \"ticks\": \"\"}, \"type\": \"choropleth\"}], \"contour\": [{\"colorbar\": {\"outlinewidth\": 0, \"ticks\": \"\"}, \"colorscale\": [[0.0, \"#0d0887\"], [0.1111111111111111, \"#46039f\"], [0.2222222222222222, \"#7201a8\"], [0.3333333333333333, \"#9c179e\"], [0.4444444444444444, \"#bd3786\"], [0.5555555555555556, \"#d8576b\"], [0.6666666666666666, \"#ed7953\"], [0.7777777777777778, \"#fb9f3a\"], [0.8888888888888888, \"#fdca26\"], [1.0, \"#f0f921\"]], \"type\": \"contour\"}], \"contourcarpet\": [{\"colorbar\": {\"outlinewidth\": 0, \"ticks\": \"\"}, \"type\": \"contourcarpet\"}], \"heatmap\": [{\"colorbar\": {\"outlinewidth\": 0, \"ticks\": \"\"}, \"colorscale\": [[0.0, \"#0d0887\"], [0.1111111111111111, \"#46039f\"], [0.2222222222222222, \"#7201a8\"], [0.3333333333333333, \"#9c179e\"], [0.4444444444444444, \"#bd3786\"], [0.5555555555555556, \"#d8576b\"], [0.6666666666666666, \"#ed7953\"], [0.7777777777777778, \"#fb9f3a\"], [0.8888888888888888, \"#fdca26\"], [1.0, \"#f0f921\"]], \"type\": \"heatmap\"}], \"heatmapgl\": [{\"colorbar\": {\"outlinewidth\": 0, \"ticks\": \"\"}, \"colorscale\": [[0.0, \"#0d0887\"], [0.1111111111111111, \"#46039f\"], [0.2222222222222222, \"#7201a8\"], [0.3333333333333333, \"#9c179e\"], [0.4444444444444444, \"#bd3786\"], [0.5555555555555556, \"#d8576b\"], [0.6666666666666666, \"#ed7953\"], [0.7777777777777778, \"#fb9f3a\"], [0.8888888888888888, \"#fdca26\"], [1.0, \"#f0f921\"]], \"type\": \"heatmapgl\"}], \"histogram\": [{\"marker\": {\"colorbar\": {\"outlinewidth\": 0, \"ticks\": \"\"}}, \"type\": \"histogram\"}], \"histogram2d\": [{\"colorbar\": {\"outlinewidth\": 0, \"ticks\": \"\"}, \"colorscale\": [[0.0, \"#0d0887\"], [0.1111111111111111, \"#46039f\"], [0.2222222222222222, \"#7201a8\"], [0.3333333333333333, \"#9c179e\"], [0.4444444444444444, \"#bd3786\"], [0.5555555555555556, \"#d8576b\"], [0.6666666666666666, \"#ed7953\"], [0.7777777777777778, \"#fb9f3a\"], [0.8888888888888888, \"#fdca26\"], [1.0, \"#f0f921\"]], \"type\": \"histogram2d\"}], \"histogram2dcontour\": [{\"colorbar\": {\"outlinewidth\": 0, \"ticks\": \"\"}, \"colorscale\": [[0.0, \"#0d0887\"], [0.1111111111111111, \"#46039f\"], [0.2222222222222222, \"#7201a8\"], [0.3333333333333333, \"#9c179e\"], [0.4444444444444444, \"#bd3786\"], [0.5555555555555556, \"#d8576b\"], [0.6666666666666666, \"#ed7953\"], [0.7777777777777778, \"#fb9f3a\"], [0.8888888888888888, \"#fdca26\"], [1.0, \"#f0f921\"]], \"type\": \"histogram2dcontour\"}], \"mesh3d\": [{\"colorbar\": {\"outlinewidth\": 0, \"ticks\": \"\"}, \"type\": \"mesh3d\"}], \"parcoords\": [{\"line\": {\"colorbar\": {\"outlinewidth\": 0, \"ticks\": \"\"}}, \"type\": \"parcoords\"}], \"pie\": [{\"automargin\": true, \"type\": \"pie\"}], \"scatter\": [{\"marker\": {\"colorbar\": {\"outlinewidth\": 0, \"ticks\": \"\"}}, \"type\": \"scatter\"}], \"scatter3d\": [{\"line\": {\"colorbar\": {\"outlinewidth\": 0, \"ticks\": \"\"}}, \"marker\": {\"colorbar\": {\"outlinewidth\": 0, \"ticks\": \"\"}}, \"type\": \"scatter3d\"}], \"scattercarpet\": [{\"marker\": {\"colorbar\": {\"outlinewidth\": 0, \"ticks\": \"\"}}, \"type\": \"scattercarpet\"}], \"scattergeo\": [{\"marker\": {\"colorbar\": {\"outlinewidth\": 0, \"ticks\": \"\"}}, \"type\": \"scattergeo\"}], \"scattergl\": [{\"marker\": {\"colorbar\": {\"outlinewidth\": 0, \"ticks\": \"\"}}, \"type\": \"scattergl\"}], \"scattermapbox\": [{\"marker\": {\"colorbar\": {\"outlinewidth\": 0, \"ticks\": \"\"}}, \"type\": \"scattermapbox\"}], \"scatterpolar\": [{\"marker\": {\"colorbar\": {\"outlinewidth\": 0, \"ticks\": \"\"}}, \"type\": \"scatterpolar\"}], \"scatterpolargl\": [{\"marker\": {\"colorbar\": {\"outlinewidth\": 0, \"ticks\": \"\"}}, \"type\": \"scatterpolargl\"}], \"scatterternary\": [{\"marker\": {\"colorbar\": {\"outlinewidth\": 0, \"ticks\": \"\"}}, \"type\": \"scatterternary\"}], \"surface\": [{\"colorbar\": {\"outlinewidth\": 0, \"ticks\": \"\"}, \"colorscale\": [[0.0, \"#0d0887\"], [0.1111111111111111, \"#46039f\"], [0.2222222222222222, \"#7201a8\"], [0.3333333333333333, \"#9c179e\"], [0.4444444444444444, \"#bd3786\"], [0.5555555555555556, \"#d8576b\"], [0.6666666666666666, \"#ed7953\"], [0.7777777777777778, \"#fb9f3a\"], [0.8888888888888888, \"#fdca26\"], [1.0, \"#f0f921\"]], \"type\": \"surface\"}], \"table\": [{\"cells\": {\"fill\": {\"color\": \"#EBF0F8\"}, \"line\": {\"color\": \"white\"}}, \"header\": {\"fill\": {\"color\": \"#C8D4E3\"}, \"line\": {\"color\": \"white\"}}, \"type\": \"table\"}]}, \"layout\": {\"annotationdefaults\": {\"arrowcolor\": \"#2a3f5f\", \"arrowhead\": 0, \"arrowwidth\": 1}, \"coloraxis\": {\"colorbar\": {\"outlinewidth\": 0, \"ticks\": \"\"}}, \"colorscale\": {\"diverging\": [[0, \"#8e0152\"], [0.1, \"#c51b7d\"], [0.2, \"#de77ae\"], [0.3, \"#f1b6da\"], [0.4, \"#fde0ef\"], [0.5, \"#f7f7f7\"], [0.6, \"#e6f5d0\"], [0.7, \"#b8e186\"], [0.8, \"#7fbc41\"], [0.9, \"#4d9221\"], [1, \"#276419\"]], \"sequential\": [[0.0, \"#0d0887\"], [0.1111111111111111, \"#46039f\"], [0.2222222222222222, \"#7201a8\"], [0.3333333333333333, \"#9c179e\"], [0.4444444444444444, \"#bd3786\"], [0.5555555555555556, \"#d8576b\"], [0.6666666666666666, \"#ed7953\"], [0.7777777777777778, \"#fb9f3a\"], [0.8888888888888888, \"#fdca26\"], [1.0, \"#f0f921\"]], \"sequentialminus\": [[0.0, \"#0d0887\"], [0.1111111111111111, \"#46039f\"], [0.2222222222222222, \"#7201a8\"], [0.3333333333333333, \"#9c179e\"], [0.4444444444444444, \"#bd3786\"], [0.5555555555555556, \"#d8576b\"], [0.6666666666666666, \"#ed7953\"], [0.7777777777777778, \"#fb9f3a\"], [0.8888888888888888, \"#fdca26\"], [1.0, \"#f0f921\"]]}, \"colorway\": [\"#636efa\", \"#EF553B\", \"#00cc96\", \"#ab63fa\", \"#FFA15A\", \"#19d3f3\", \"#FF6692\", \"#B6E880\", \"#FF97FF\", \"#FECB52\"], \"font\": {\"color\": \"#2a3f5f\"}, \"geo\": {\"bgcolor\": \"white\", \"lakecolor\": \"white\", \"landcolor\": \"#E5ECF6\", \"showlakes\": true, \"showland\": true, \"subunitcolor\": \"white\"}, \"hoverlabel\": {\"align\": \"left\"}, \"hovermode\": \"closest\", \"mapbox\": {\"style\": \"light\"}, \"paper_bgcolor\": \"white\", \"plot_bgcolor\": \"#E5ECF6\", \"polar\": {\"angularaxis\": {\"gridcolor\": \"white\", \"linecolor\": \"white\", \"ticks\": \"\"}, \"bgcolor\": \"#E5ECF6\", \"radialaxis\": {\"gridcolor\": \"white\", \"linecolor\": \"white\", \"ticks\": \"\"}}, \"scene\": {\"xaxis\": {\"backgroundcolor\": \"#E5ECF6\", \"gridcolor\": \"white\", \"gridwidth\": 2, \"linecolor\": \"white\", \"showbackground\": true, \"ticks\": \"\", \"zerolinecolor\": \"white\"}, \"yaxis\": {\"backgroundcolor\": \"#E5ECF6\", \"gridcolor\": \"white\", \"gridwidth\": 2, \"linecolor\": \"white\", \"showbackground\": true, \"ticks\": \"\", \"zerolinecolor\": \"white\"}, \"zaxis\": {\"backgroundcolor\": \"#E5ECF6\", \"gridcolor\": \"white\", \"gridwidth\": 2, \"linecolor\": \"white\", \"showbackground\": true, \"ticks\": \"\", \"zerolinecolor\": \"white\"}}, \"shapedefaults\": {\"line\": {\"color\": \"#2a3f5f\"}}, \"ternary\": {\"aaxis\": {\"gridcolor\": \"white\", \"linecolor\": \"white\", \"ticks\": \"\"}, \"baxis\": {\"gridcolor\": \"white\", \"linecolor\": \"white\", \"ticks\": \"\"}, \"bgcolor\": \"#E5ECF6\", \"caxis\": {\"gridcolor\": \"white\", \"linecolor\": \"white\", \"ticks\": \"\"}}, \"title\": {\"x\": 0.05}, \"xaxis\": {\"automargin\": true, \"gridcolor\": \"white\", \"linecolor\": \"white\", \"ticks\": \"\", \"title\": {\"standoff\": 15}, \"zerolinecolor\": \"white\", \"zerolinewidth\": 2}, \"yaxis\": {\"automargin\": true, \"gridcolor\": \"white\", \"linecolor\": \"white\", \"ticks\": \"\", \"title\": {\"standoff\": 15}, \"zerolinecolor\": \"white\", \"zerolinewidth\": 2}}}, \"title\": {\"text\": \"Severity in China\"}},\n",
       "                        {\"responsive\": true}\n",
       "                    ).then(function(){\n",
       "                            \n",
       "var gd = document.getElementById('2b59abff-49b9-4681-9f39-30cc167d1f41');\n",
       "var x = new MutationObserver(function (mutations, observer) {{\n",
       "        var display = window.getComputedStyle(gd).display;\n",
       "        if (!display || display === 'none') {{\n",
       "            console.log([gd, 'removed!']);\n",
       "            Plotly.purge(gd);\n",
       "            observer.disconnect();\n",
       "        }}\n",
       "}});\n",
       "\n",
       "// Listen for the removal of the full notebook cells\n",
       "var notebookContainer = gd.closest('#notebook-container');\n",
       "if (notebookContainer) {{\n",
       "    x.observe(notebookContainer, {childList: true});\n",
       "}}\n",
       "\n",
       "// Listen for the clearing of the current output cell\n",
       "var outputEl = gd.closest('.output');\n",
       "if (outputEl) {{\n",
       "    x.observe(outputEl, {childList: true});\n",
       "}}\n",
       "\n",
       "                        })\n",
       "                };\n",
       "                });\n",
       "            </script>\n",
       "        </div>"
      ]
     },
     "metadata": {},
     "output_type": "display_data"
    }
   ],
   "source": [
    "fig = px.choropleth(china_latest_grouped, locations='Province/State', locationmode='country names', color='Severity',\n",
    "                    hover_name='Province/State',color_continuous_scale=\"Viridis\", title='Severity in China'\n",
    "                   )\n",
    "fig.update(layout_coloraxis_showscale=False)\n",
    "fig.show()"
   ]
  },
  {
   "cell_type": "code",
   "execution_count": null,
   "metadata": {},
   "outputs": [],
   "source": []
  },
  {
   "cell_type": "code",
   "execution_count": 175,
   "metadata": {},
   "outputs": [
    {
     "data": {
      "text/html": [
       "<style  type=\"text/css\" >\n",
       "    #T_4875a4de_53c0_11ea_999a_71276007fdd7row0_col0 {\n",
       "            background-color:  #f2f2f2;\n",
       "            color:  #000000;\n",
       "        }    #T_4875a4de_53c0_11ea_999a_71276007fdd7row0_col1 {\n",
       "            background-color:  #f2f2f2;\n",
       "            color:  #000000;\n",
       "        }    #T_4875a4de_53c0_11ea_999a_71276007fdd7row0_col2 {\n",
       "            background-color:  #f2f2f2;\n",
       "            color:  #000000;\n",
       "        }    #T_4875a4de_53c0_11ea_999a_71276007fdd7row0_col3 {\n",
       "            background-color:  #f2f2f2;\n",
       "            color:  #000000;\n",
       "        }    #T_4875a4de_53c0_11ea_999a_71276007fdd7row1_col0 {\n",
       "            background-color:  #f2f2f2;\n",
       "            color:  #000000;\n",
       "        }    #T_4875a4de_53c0_11ea_999a_71276007fdd7row1_col1 {\n",
       "            background-color:  #f2f2f2;\n",
       "            color:  #000000;\n",
       "        }    #T_4875a4de_53c0_11ea_999a_71276007fdd7row1_col2 {\n",
       "            background-color:  #f2f2f2;\n",
       "            color:  #000000;\n",
       "        }    #T_4875a4de_53c0_11ea_999a_71276007fdd7row1_col3 {\n",
       "            background-color:  #f2f2f2;\n",
       "            color:  #000000;\n",
       "        }    #T_4875a4de_53c0_11ea_999a_71276007fdd7row2_col0 {\n",
       "            background-color:  #f2f2f2;\n",
       "            color:  #000000;\n",
       "        }    #T_4875a4de_53c0_11ea_999a_71276007fdd7row2_col1 {\n",
       "            background-color:  #f2f2f2;\n",
       "            color:  #000000;\n",
       "        }    #T_4875a4de_53c0_11ea_999a_71276007fdd7row2_col2 {\n",
       "            background-color:  #f2f2f2;\n",
       "            color:  #000000;\n",
       "        }    #T_4875a4de_53c0_11ea_999a_71276007fdd7row2_col3 {\n",
       "            background-color:  #f2f2f2;\n",
       "            color:  #000000;\n",
       "        }    #T_4875a4de_53c0_11ea_999a_71276007fdd7row3_col0 {\n",
       "            background-color:  #f2f2f2;\n",
       "            color:  #000000;\n",
       "        }    #T_4875a4de_53c0_11ea_999a_71276007fdd7row3_col1 {\n",
       "            background-color:  #f2f2f2;\n",
       "            color:  #000000;\n",
       "        }    #T_4875a4de_53c0_11ea_999a_71276007fdd7row3_col2 {\n",
       "            background-color:  #f2f2f2;\n",
       "            color:  #000000;\n",
       "        }    #T_4875a4de_53c0_11ea_999a_71276007fdd7row3_col3 {\n",
       "            background-color:  #f2f2f2;\n",
       "            color:  #000000;\n",
       "        }    #T_4875a4de_53c0_11ea_999a_71276007fdd7row4_col0 {\n",
       "            background-color:  #f2f2f2;\n",
       "            color:  #000000;\n",
       "        }    #T_4875a4de_53c0_11ea_999a_71276007fdd7row4_col1 {\n",
       "            background-color:  #f2f2f2;\n",
       "            color:  #000000;\n",
       "        }    #T_4875a4de_53c0_11ea_999a_71276007fdd7row4_col2 {\n",
       "            background-color:  #f2f2f2;\n",
       "            color:  #000000;\n",
       "        }    #T_4875a4de_53c0_11ea_999a_71276007fdd7row4_col3 {\n",
       "            background-color:  #f2f2f2;\n",
       "            color:  #000000;\n",
       "        }    #T_4875a4de_53c0_11ea_999a_71276007fdd7row5_col0 {\n",
       "            background-color:  #f2f2f2;\n",
       "            color:  #000000;\n",
       "        }    #T_4875a4de_53c0_11ea_999a_71276007fdd7row5_col1 {\n",
       "            background-color:  #f2f2f2;\n",
       "            color:  #000000;\n",
       "        }    #T_4875a4de_53c0_11ea_999a_71276007fdd7row5_col2 {\n",
       "            background-color:  #f2f2f2;\n",
       "            color:  #000000;\n",
       "        }    #T_4875a4de_53c0_11ea_999a_71276007fdd7row5_col3 {\n",
       "            background-color:  #f2f2f2;\n",
       "            color:  #000000;\n",
       "        }    #T_4875a4de_53c0_11ea_999a_71276007fdd7row6_col0 {\n",
       "            background-color:  #f2f2f2;\n",
       "            color:  #000000;\n",
       "        }    #T_4875a4de_53c0_11ea_999a_71276007fdd7row6_col1 {\n",
       "            background-color:  #f2f2f2;\n",
       "            color:  #000000;\n",
       "        }    #T_4875a4de_53c0_11ea_999a_71276007fdd7row6_col2 {\n",
       "            background-color:  #f2f2f2;\n",
       "            color:  #000000;\n",
       "        }    #T_4875a4de_53c0_11ea_999a_71276007fdd7row6_col3 {\n",
       "            background-color:  #f2f2f2;\n",
       "            color:  #000000;\n",
       "        }    #T_4875a4de_53c0_11ea_999a_71276007fdd7row7_col0 {\n",
       "            background-color:  #f2f2f2;\n",
       "            color:  #000000;\n",
       "        }    #T_4875a4de_53c0_11ea_999a_71276007fdd7row7_col1 {\n",
       "            background-color:  #f2f2f2;\n",
       "            color:  #000000;\n",
       "        }    #T_4875a4de_53c0_11ea_999a_71276007fdd7row7_col2 {\n",
       "            background-color:  #f2f2f2;\n",
       "            color:  #000000;\n",
       "        }    #T_4875a4de_53c0_11ea_999a_71276007fdd7row7_col3 {\n",
       "            background-color:  #f2f2f2;\n",
       "            color:  #000000;\n",
       "        }    #T_4875a4de_53c0_11ea_999a_71276007fdd7row8_col0 {\n",
       "            background-color:  #f2f2f2;\n",
       "            color:  #000000;\n",
       "        }    #T_4875a4de_53c0_11ea_999a_71276007fdd7row8_col1 {\n",
       "            background-color:  #f2f2f2;\n",
       "            color:  #000000;\n",
       "        }    #T_4875a4de_53c0_11ea_999a_71276007fdd7row8_col2 {\n",
       "            background-color:  #f2f2f2;\n",
       "            color:  #000000;\n",
       "        }    #T_4875a4de_53c0_11ea_999a_71276007fdd7row8_col3 {\n",
       "            background-color:  #f2f2f2;\n",
       "            color:  #000000;\n",
       "        }    #T_4875a4de_53c0_11ea_999a_71276007fdd7row9_col0 {\n",
       "            background-color:  #f2f2f2;\n",
       "            color:  #000000;\n",
       "        }    #T_4875a4de_53c0_11ea_999a_71276007fdd7row9_col1 {\n",
       "            background-color:  #f2f2f2;\n",
       "            color:  #000000;\n",
       "        }    #T_4875a4de_53c0_11ea_999a_71276007fdd7row9_col2 {\n",
       "            background-color:  #f2f2f2;\n",
       "            color:  #000000;\n",
       "        }    #T_4875a4de_53c0_11ea_999a_71276007fdd7row9_col3 {\n",
       "            background-color:  #f2f2f2;\n",
       "            color:  #000000;\n",
       "        }    #T_4875a4de_53c0_11ea_999a_71276007fdd7row10_col0 {\n",
       "            background-color:  #f2f2f2;\n",
       "            color:  #000000;\n",
       "        }    #T_4875a4de_53c0_11ea_999a_71276007fdd7row10_col1 {\n",
       "            background-color:  #f2f2f2;\n",
       "            color:  #000000;\n",
       "        }    #T_4875a4de_53c0_11ea_999a_71276007fdd7row10_col2 {\n",
       "            background-color:  #f2f2f2;\n",
       "            color:  #000000;\n",
       "        }    #T_4875a4de_53c0_11ea_999a_71276007fdd7row10_col3 {\n",
       "            background-color:  #f2f2f2;\n",
       "            color:  #000000;\n",
       "        }    #T_4875a4de_53c0_11ea_999a_71276007fdd7row11_col0 {\n",
       "            background-color:  #f2f2f2;\n",
       "            color:  #000000;\n",
       "        }    #T_4875a4de_53c0_11ea_999a_71276007fdd7row11_col1 {\n",
       "            background-color:  #f2f2f2;\n",
       "            color:  #000000;\n",
       "        }    #T_4875a4de_53c0_11ea_999a_71276007fdd7row11_col2 {\n",
       "            background-color:  #f2f2f2;\n",
       "            color:  #000000;\n",
       "        }    #T_4875a4de_53c0_11ea_999a_71276007fdd7row11_col3 {\n",
       "            background-color:  #f2f2f2;\n",
       "            color:  #000000;\n",
       "        }    #T_4875a4de_53c0_11ea_999a_71276007fdd7row12_col0 {\n",
       "            background-color:  #f2f2f2;\n",
       "            color:  #000000;\n",
       "        }    #T_4875a4de_53c0_11ea_999a_71276007fdd7row12_col1 {\n",
       "            background-color:  #f2f2f2;\n",
       "            color:  #000000;\n",
       "        }    #T_4875a4de_53c0_11ea_999a_71276007fdd7row12_col2 {\n",
       "            background-color:  #f2f2f2;\n",
       "            color:  #000000;\n",
       "        }    #T_4875a4de_53c0_11ea_999a_71276007fdd7row12_col3 {\n",
       "            background-color:  #f2f2f2;\n",
       "            color:  #000000;\n",
       "        }    #T_4875a4de_53c0_11ea_999a_71276007fdd7row13_col0 {\n",
       "            background-color:  #f2f2f2;\n",
       "            color:  #000000;\n",
       "        }    #T_4875a4de_53c0_11ea_999a_71276007fdd7row13_col1 {\n",
       "            background-color:  #f2f2f2;\n",
       "            color:  #000000;\n",
       "        }    #T_4875a4de_53c0_11ea_999a_71276007fdd7row13_col2 {\n",
       "            background-color:  #f2f2f2;\n",
       "            color:  #000000;\n",
       "        }    #T_4875a4de_53c0_11ea_999a_71276007fdd7row13_col3 {\n",
       "            background-color:  #f2f2f2;\n",
       "            color:  #000000;\n",
       "        }    #T_4875a4de_53c0_11ea_999a_71276007fdd7row14_col0 {\n",
       "            background-color:  #f2f2f2;\n",
       "            color:  #000000;\n",
       "        }    #T_4875a4de_53c0_11ea_999a_71276007fdd7row14_col1 {\n",
       "            background-color:  #f2f2f2;\n",
       "            color:  #000000;\n",
       "        }    #T_4875a4de_53c0_11ea_999a_71276007fdd7row14_col2 {\n",
       "            background-color:  #f2f2f2;\n",
       "            color:  #000000;\n",
       "        }    #T_4875a4de_53c0_11ea_999a_71276007fdd7row14_col3 {\n",
       "            background-color:  #f2f2f2;\n",
       "            color:  #000000;\n",
       "        }    #T_4875a4de_53c0_11ea_999a_71276007fdd7row15_col0 {\n",
       "            background-color:  #f2f2f2;\n",
       "            color:  #000000;\n",
       "        }    #T_4875a4de_53c0_11ea_999a_71276007fdd7row15_col1 {\n",
       "            background-color:  #f2f2f2;\n",
       "            color:  #000000;\n",
       "        }    #T_4875a4de_53c0_11ea_999a_71276007fdd7row15_col2 {\n",
       "            background-color:  #f2f2f2;\n",
       "            color:  #000000;\n",
       "        }    #T_4875a4de_53c0_11ea_999a_71276007fdd7row15_col3 {\n",
       "            background-color:  #f2f2f2;\n",
       "            color:  #000000;\n",
       "        }    #T_4875a4de_53c0_11ea_999a_71276007fdd7row16_col0 {\n",
       "            background-color:  #f2f2f2;\n",
       "            color:  #000000;\n",
       "        }    #T_4875a4de_53c0_11ea_999a_71276007fdd7row16_col1 {\n",
       "            background-color:  #f2f2f2;\n",
       "            color:  #000000;\n",
       "        }    #T_4875a4de_53c0_11ea_999a_71276007fdd7row16_col2 {\n",
       "            background-color:  #f2f2f2;\n",
       "            color:  #000000;\n",
       "        }    #T_4875a4de_53c0_11ea_999a_71276007fdd7row16_col3 {\n",
       "            background-color:  #f2f2f2;\n",
       "            color:  #000000;\n",
       "        }    #T_4875a4de_53c0_11ea_999a_71276007fdd7row17_col0 {\n",
       "            background-color:  #f2f2f2;\n",
       "            color:  #000000;\n",
       "        }    #T_4875a4de_53c0_11ea_999a_71276007fdd7row17_col1 {\n",
       "            background-color:  #f2f2f2;\n",
       "            color:  #000000;\n",
       "        }    #T_4875a4de_53c0_11ea_999a_71276007fdd7row17_col2 {\n",
       "            background-color:  #f2f2f2;\n",
       "            color:  #000000;\n",
       "        }    #T_4875a4de_53c0_11ea_999a_71276007fdd7row17_col3 {\n",
       "            background-color:  #f2f2f2;\n",
       "            color:  #000000;\n",
       "        }    #T_4875a4de_53c0_11ea_999a_71276007fdd7row18_col0 {\n",
       "            background-color:  #f2f2f2;\n",
       "            color:  #000000;\n",
       "        }    #T_4875a4de_53c0_11ea_999a_71276007fdd7row18_col1 {\n",
       "            background-color:  #f2f2f2;\n",
       "            color:  #000000;\n",
       "        }    #T_4875a4de_53c0_11ea_999a_71276007fdd7row18_col2 {\n",
       "            background-color:  #f2f2f2;\n",
       "            color:  #000000;\n",
       "        }    #T_4875a4de_53c0_11ea_999a_71276007fdd7row18_col3 {\n",
       "            background-color:  #f2f2f2;\n",
       "            color:  #000000;\n",
       "        }    #T_4875a4de_53c0_11ea_999a_71276007fdd7row19_col0 {\n",
       "            background-color:  #f2f2f2;\n",
       "            color:  #000000;\n",
       "        }    #T_4875a4de_53c0_11ea_999a_71276007fdd7row19_col1 {\n",
       "            background-color:  #f2f2f2;\n",
       "            color:  #000000;\n",
       "        }    #T_4875a4de_53c0_11ea_999a_71276007fdd7row19_col2 {\n",
       "            background-color:  #f2f2f2;\n",
       "            color:  #000000;\n",
       "        }    #T_4875a4de_53c0_11ea_999a_71276007fdd7row19_col3 {\n",
       "            background-color:  #f2f2f2;\n",
       "            color:  #000000;\n",
       "        }    #T_4875a4de_53c0_11ea_999a_71276007fdd7row20_col0 {\n",
       "            background-color:  #f2f2f2;\n",
       "            color:  #000000;\n",
       "        }    #T_4875a4de_53c0_11ea_999a_71276007fdd7row20_col1 {\n",
       "            background-color:  #f2f2f2;\n",
       "            color:  #000000;\n",
       "        }    #T_4875a4de_53c0_11ea_999a_71276007fdd7row20_col2 {\n",
       "            background-color:  #f2f2f2;\n",
       "            color:  #000000;\n",
       "        }    #T_4875a4de_53c0_11ea_999a_71276007fdd7row20_col3 {\n",
       "            background-color:  #f2f2f2;\n",
       "            color:  #000000;\n",
       "        }    #T_4875a4de_53c0_11ea_999a_71276007fdd7row21_col0 {\n",
       "            background-color:  #f2f2f2;\n",
       "            color:  #000000;\n",
       "        }    #T_4875a4de_53c0_11ea_999a_71276007fdd7row21_col1 {\n",
       "            background-color:  #f2f2f2;\n",
       "            color:  #000000;\n",
       "        }    #T_4875a4de_53c0_11ea_999a_71276007fdd7row21_col2 {\n",
       "            background-color:  #f2f2f2;\n",
       "            color:  #000000;\n",
       "        }    #T_4875a4de_53c0_11ea_999a_71276007fdd7row21_col3 {\n",
       "            background-color:  #f2f2f2;\n",
       "            color:  #000000;\n",
       "        }    #T_4875a4de_53c0_11ea_999a_71276007fdd7row22_col0 {\n",
       "            background-color:  #f2f2f2;\n",
       "            color:  #000000;\n",
       "        }    #T_4875a4de_53c0_11ea_999a_71276007fdd7row22_col1 {\n",
       "            background-color:  #f2f2f2;\n",
       "            color:  #000000;\n",
       "        }    #T_4875a4de_53c0_11ea_999a_71276007fdd7row22_col2 {\n",
       "            background-color:  #f2f2f2;\n",
       "            color:  #000000;\n",
       "        }    #T_4875a4de_53c0_11ea_999a_71276007fdd7row22_col3 {\n",
       "            background-color:  #f2f2f2;\n",
       "            color:  #000000;\n",
       "        }    #T_4875a4de_53c0_11ea_999a_71276007fdd7row23_col0 {\n",
       "            background-color:  #f2f2f2;\n",
       "            color:  #000000;\n",
       "        }    #T_4875a4de_53c0_11ea_999a_71276007fdd7row23_col1 {\n",
       "            background-color:  #f2f2f2;\n",
       "            color:  #000000;\n",
       "        }    #T_4875a4de_53c0_11ea_999a_71276007fdd7row23_col2 {\n",
       "            background-color:  #f2f2f2;\n",
       "            color:  #000000;\n",
       "        }    #T_4875a4de_53c0_11ea_999a_71276007fdd7row23_col3 {\n",
       "            background-color:  #f2f2f2;\n",
       "            color:  #000000;\n",
       "        }    #T_4875a4de_53c0_11ea_999a_71276007fdd7row24_col0 {\n",
       "            background-color:  #f2f2f2;\n",
       "            color:  #000000;\n",
       "        }    #T_4875a4de_53c0_11ea_999a_71276007fdd7row24_col1 {\n",
       "            background-color:  #f2f2f2;\n",
       "            color:  #000000;\n",
       "        }    #T_4875a4de_53c0_11ea_999a_71276007fdd7row24_col2 {\n",
       "            background-color:  #f2f2f2;\n",
       "            color:  #000000;\n",
       "        }    #T_4875a4de_53c0_11ea_999a_71276007fdd7row24_col3 {\n",
       "            background-color:  #f2f2f2;\n",
       "            color:  #000000;\n",
       "        }    #T_4875a4de_53c0_11ea_999a_71276007fdd7row25_col0 {\n",
       "            background-color:  #f2f2f2;\n",
       "            color:  #000000;\n",
       "        }    #T_4875a4de_53c0_11ea_999a_71276007fdd7row25_col1 {\n",
       "            background-color:  #f2f2f2;\n",
       "            color:  #000000;\n",
       "        }    #T_4875a4de_53c0_11ea_999a_71276007fdd7row25_col2 {\n",
       "            background-color:  #f2f2f2;\n",
       "            color:  #000000;\n",
       "        }    #T_4875a4de_53c0_11ea_999a_71276007fdd7row25_col3 {\n",
       "            background-color:  #f2f2f2;\n",
       "            color:  #000000;\n",
       "        }    #T_4875a4de_53c0_11ea_999a_71276007fdd7row26_col0 {\n",
       "            background-color:  #f2f2f2;\n",
       "            color:  #000000;\n",
       "        }    #T_4875a4de_53c0_11ea_999a_71276007fdd7row26_col1 {\n",
       "            background-color:  #f2f2f2;\n",
       "            color:  #000000;\n",
       "        }    #T_4875a4de_53c0_11ea_999a_71276007fdd7row26_col2 {\n",
       "            background-color:  #f2f2f2;\n",
       "            color:  #000000;\n",
       "        }    #T_4875a4de_53c0_11ea_999a_71276007fdd7row26_col3 {\n",
       "            background-color:  #f2f2f2;\n",
       "            color:  #000000;\n",
       "        }    #T_4875a4de_53c0_11ea_999a_71276007fdd7row27_col0 {\n",
       "            background-color:  #f2f2f2;\n",
       "            color:  #000000;\n",
       "        }    #T_4875a4de_53c0_11ea_999a_71276007fdd7row27_col1 {\n",
       "            background-color:  #f2f2f2;\n",
       "            color:  #000000;\n",
       "        }    #T_4875a4de_53c0_11ea_999a_71276007fdd7row27_col2 {\n",
       "            background-color:  #f2f2f2;\n",
       "            color:  #000000;\n",
       "        }    #T_4875a4de_53c0_11ea_999a_71276007fdd7row27_col3 {\n",
       "            background-color:  #f2f2f2;\n",
       "            color:  #000000;\n",
       "        }    #T_4875a4de_53c0_11ea_999a_71276007fdd7row28_col0 {\n",
       "            background-color:  #f2f2f2;\n",
       "            color:  #000000;\n",
       "        }    #T_4875a4de_53c0_11ea_999a_71276007fdd7row28_col1 {\n",
       "            background-color:  #f2f2f2;\n",
       "            color:  #000000;\n",
       "        }    #T_4875a4de_53c0_11ea_999a_71276007fdd7row28_col2 {\n",
       "            background-color:  #f2f2f2;\n",
       "            color:  #000000;\n",
       "        }    #T_4875a4de_53c0_11ea_999a_71276007fdd7row28_col3 {\n",
       "            background-color:  #f2f2f2;\n",
       "            color:  #000000;\n",
       "        }    #T_4875a4de_53c0_11ea_999a_71276007fdd7row29_col0 {\n",
       "            background-color:  #f2f2f2;\n",
       "            color:  #000000;\n",
       "        }    #T_4875a4de_53c0_11ea_999a_71276007fdd7row29_col1 {\n",
       "            background-color:  #f2f2f2;\n",
       "            color:  #000000;\n",
       "        }    #T_4875a4de_53c0_11ea_999a_71276007fdd7row29_col2 {\n",
       "            background-color:  #f2f2f2;\n",
       "            color:  #000000;\n",
       "        }    #T_4875a4de_53c0_11ea_999a_71276007fdd7row29_col3 {\n",
       "            background-color:  #f2f2f2;\n",
       "            color:  #000000;\n",
       "        }    #T_4875a4de_53c0_11ea_999a_71276007fdd7row30_col0 {\n",
       "            background-color:  #f2f2f2;\n",
       "            color:  #000000;\n",
       "        }    #T_4875a4de_53c0_11ea_999a_71276007fdd7row30_col1 {\n",
       "            background-color:  #f2f2f2;\n",
       "            color:  #000000;\n",
       "        }    #T_4875a4de_53c0_11ea_999a_71276007fdd7row30_col2 {\n",
       "            background-color:  #f2f2f2;\n",
       "            color:  #000000;\n",
       "        }    #T_4875a4de_53c0_11ea_999a_71276007fdd7row30_col3 {\n",
       "            background-color:  #f2f2f2;\n",
       "            color:  #000000;\n",
       "        }    #T_4875a4de_53c0_11ea_999a_71276007fdd7row31_col0 {\n",
       "            background-color:  #fbb4ae;\n",
       "            color:  #000000;\n",
       "        }    #T_4875a4de_53c0_11ea_999a_71276007fdd7row31_col1 {\n",
       "            background-color:  #fbb4ae;\n",
       "            color:  #000000;\n",
       "        }    #T_4875a4de_53c0_11ea_999a_71276007fdd7row31_col2 {\n",
       "            background-color:  #fbb4ae;\n",
       "            color:  #000000;\n",
       "        }    #T_4875a4de_53c0_11ea_999a_71276007fdd7row31_col3 {\n",
       "            background-color:  #fbb4ae;\n",
       "            color:  #000000;\n",
       "        }    #T_4875a4de_53c0_11ea_999a_71276007fdd7row32_col0 {\n",
       "            background-color:  #f2f2f2;\n",
       "            color:  #000000;\n",
       "        }    #T_4875a4de_53c0_11ea_999a_71276007fdd7row32_col1 {\n",
       "            background-color:  #f2f2f2;\n",
       "            color:  #000000;\n",
       "        }    #T_4875a4de_53c0_11ea_999a_71276007fdd7row32_col2 {\n",
       "            background-color:  #f2f2f2;\n",
       "            color:  #000000;\n",
       "        }    #T_4875a4de_53c0_11ea_999a_71276007fdd7row32_col3 {\n",
       "            background-color:  #f2f2f2;\n",
       "            color:  #000000;\n",
       "        }    #T_4875a4de_53c0_11ea_999a_71276007fdd7row33_col0 {\n",
       "            background-color:  #f2f2f2;\n",
       "            color:  #000000;\n",
       "        }    #T_4875a4de_53c0_11ea_999a_71276007fdd7row33_col1 {\n",
       "            background-color:  #f2f2f2;\n",
       "            color:  #000000;\n",
       "        }    #T_4875a4de_53c0_11ea_999a_71276007fdd7row33_col2 {\n",
       "            background-color:  #f2f2f2;\n",
       "            color:  #000000;\n",
       "        }    #T_4875a4de_53c0_11ea_999a_71276007fdd7row33_col3 {\n",
       "            background-color:  #f2f2f2;\n",
       "            color:  #000000;\n",
       "        }    #T_4875a4de_53c0_11ea_999a_71276007fdd7row34_col0 {\n",
       "            background-color:  #f2f2f2;\n",
       "            color:  #000000;\n",
       "        }    #T_4875a4de_53c0_11ea_999a_71276007fdd7row34_col1 {\n",
       "            background-color:  #f2f2f2;\n",
       "            color:  #000000;\n",
       "        }    #T_4875a4de_53c0_11ea_999a_71276007fdd7row34_col2 {\n",
       "            background-color:  #f2f2f2;\n",
       "            color:  #000000;\n",
       "        }    #T_4875a4de_53c0_11ea_999a_71276007fdd7row34_col3 {\n",
       "            background-color:  #f2f2f2;\n",
       "            color:  #000000;\n",
       "        }    #T_4875a4de_53c0_11ea_999a_71276007fdd7row35_col0 {\n",
       "            background-color:  #f2f2f2;\n",
       "            color:  #000000;\n",
       "        }    #T_4875a4de_53c0_11ea_999a_71276007fdd7row35_col1 {\n",
       "            background-color:  #f2f2f2;\n",
       "            color:  #000000;\n",
       "        }    #T_4875a4de_53c0_11ea_999a_71276007fdd7row35_col2 {\n",
       "            background-color:  #f2f2f2;\n",
       "            color:  #000000;\n",
       "        }    #T_4875a4de_53c0_11ea_999a_71276007fdd7row35_col3 {\n",
       "            background-color:  #f2f2f2;\n",
       "            color:  #000000;\n",
       "        }    #T_4875a4de_53c0_11ea_999a_71276007fdd7row36_col0 {\n",
       "            background-color:  #f2f2f2;\n",
       "            color:  #000000;\n",
       "        }    #T_4875a4de_53c0_11ea_999a_71276007fdd7row36_col1 {\n",
       "            background-color:  #f2f2f2;\n",
       "            color:  #000000;\n",
       "        }    #T_4875a4de_53c0_11ea_999a_71276007fdd7row36_col2 {\n",
       "            background-color:  #f2f2f2;\n",
       "            color:  #000000;\n",
       "        }    #T_4875a4de_53c0_11ea_999a_71276007fdd7row36_col3 {\n",
       "            background-color:  #f2f2f2;\n",
       "            color:  #000000;\n",
       "        }    #T_4875a4de_53c0_11ea_999a_71276007fdd7row37_col0 {\n",
       "            background-color:  #f2f2f2;\n",
       "            color:  #000000;\n",
       "        }    #T_4875a4de_53c0_11ea_999a_71276007fdd7row37_col1 {\n",
       "            background-color:  #f2f2f2;\n",
       "            color:  #000000;\n",
       "        }    #T_4875a4de_53c0_11ea_999a_71276007fdd7row37_col2 {\n",
       "            background-color:  #f2f2f2;\n",
       "            color:  #000000;\n",
       "        }    #T_4875a4de_53c0_11ea_999a_71276007fdd7row37_col3 {\n",
       "            background-color:  #f2f2f2;\n",
       "            color:  #000000;\n",
       "        }    #T_4875a4de_53c0_11ea_999a_71276007fdd7row38_col0 {\n",
       "            background-color:  #f2f2f2;\n",
       "            color:  #000000;\n",
       "        }    #T_4875a4de_53c0_11ea_999a_71276007fdd7row38_col1 {\n",
       "            background-color:  #f2f2f2;\n",
       "            color:  #000000;\n",
       "        }    #T_4875a4de_53c0_11ea_999a_71276007fdd7row38_col2 {\n",
       "            background-color:  #f2f2f2;\n",
       "            color:  #000000;\n",
       "        }    #T_4875a4de_53c0_11ea_999a_71276007fdd7row38_col3 {\n",
       "            background-color:  #f2f2f2;\n",
       "            color:  #000000;\n",
       "        }    #T_4875a4de_53c0_11ea_999a_71276007fdd7row39_col0 {\n",
       "            background-color:  #f2f2f2;\n",
       "            color:  #000000;\n",
       "        }    #T_4875a4de_53c0_11ea_999a_71276007fdd7row39_col1 {\n",
       "            background-color:  #f2f2f2;\n",
       "            color:  #000000;\n",
       "        }    #T_4875a4de_53c0_11ea_999a_71276007fdd7row39_col2 {\n",
       "            background-color:  #f2f2f2;\n",
       "            color:  #000000;\n",
       "        }    #T_4875a4de_53c0_11ea_999a_71276007fdd7row39_col3 {\n",
       "            background-color:  #f2f2f2;\n",
       "            color:  #000000;\n",
       "        }    #T_4875a4de_53c0_11ea_999a_71276007fdd7row40_col0 {\n",
       "            background-color:  #f2f2f2;\n",
       "            color:  #000000;\n",
       "        }    #T_4875a4de_53c0_11ea_999a_71276007fdd7row40_col1 {\n",
       "            background-color:  #f2f2f2;\n",
       "            color:  #000000;\n",
       "        }    #T_4875a4de_53c0_11ea_999a_71276007fdd7row40_col2 {\n",
       "            background-color:  #f2f2f2;\n",
       "            color:  #000000;\n",
       "        }    #T_4875a4de_53c0_11ea_999a_71276007fdd7row40_col3 {\n",
       "            background-color:  #f2f2f2;\n",
       "            color:  #000000;\n",
       "        }    #T_4875a4de_53c0_11ea_999a_71276007fdd7row41_col0 {\n",
       "            background-color:  #f2f2f2;\n",
       "            color:  #000000;\n",
       "        }    #T_4875a4de_53c0_11ea_999a_71276007fdd7row41_col1 {\n",
       "            background-color:  #f2f2f2;\n",
       "            color:  #000000;\n",
       "        }    #T_4875a4de_53c0_11ea_999a_71276007fdd7row41_col2 {\n",
       "            background-color:  #f2f2f2;\n",
       "            color:  #000000;\n",
       "        }    #T_4875a4de_53c0_11ea_999a_71276007fdd7row41_col3 {\n",
       "            background-color:  #f2f2f2;\n",
       "            color:  #000000;\n",
       "        }    #T_4875a4de_53c0_11ea_999a_71276007fdd7row42_col0 {\n",
       "            background-color:  #f2f2f2;\n",
       "            color:  #000000;\n",
       "        }    #T_4875a4de_53c0_11ea_999a_71276007fdd7row42_col1 {\n",
       "            background-color:  #f2f2f2;\n",
       "            color:  #000000;\n",
       "        }    #T_4875a4de_53c0_11ea_999a_71276007fdd7row42_col2 {\n",
       "            background-color:  #f2f2f2;\n",
       "            color:  #000000;\n",
       "        }    #T_4875a4de_53c0_11ea_999a_71276007fdd7row42_col3 {\n",
       "            background-color:  #f2f2f2;\n",
       "            color:  #000000;\n",
       "        }    #T_4875a4de_53c0_11ea_999a_71276007fdd7row43_col0 {\n",
       "            background-color:  #f2f2f2;\n",
       "            color:  #000000;\n",
       "        }    #T_4875a4de_53c0_11ea_999a_71276007fdd7row43_col1 {\n",
       "            background-color:  #f2f2f2;\n",
       "            color:  #000000;\n",
       "        }    #T_4875a4de_53c0_11ea_999a_71276007fdd7row43_col2 {\n",
       "            background-color:  #f2f2f2;\n",
       "            color:  #000000;\n",
       "        }    #T_4875a4de_53c0_11ea_999a_71276007fdd7row43_col3 {\n",
       "            background-color:  #f2f2f2;\n",
       "            color:  #000000;\n",
       "        }    #T_4875a4de_53c0_11ea_999a_71276007fdd7row44_col0 {\n",
       "            background-color:  #f2f2f2;\n",
       "            color:  #000000;\n",
       "        }    #T_4875a4de_53c0_11ea_999a_71276007fdd7row44_col1 {\n",
       "            background-color:  #f2f2f2;\n",
       "            color:  #000000;\n",
       "        }    #T_4875a4de_53c0_11ea_999a_71276007fdd7row44_col2 {\n",
       "            background-color:  #f2f2f2;\n",
       "            color:  #000000;\n",
       "        }    #T_4875a4de_53c0_11ea_999a_71276007fdd7row44_col3 {\n",
       "            background-color:  #f2f2f2;\n",
       "            color:  #000000;\n",
       "        }    #T_4875a4de_53c0_11ea_999a_71276007fdd7row45_col0 {\n",
       "            background-color:  #f2f2f2;\n",
       "            color:  #000000;\n",
       "        }    #T_4875a4de_53c0_11ea_999a_71276007fdd7row45_col1 {\n",
       "            background-color:  #f2f2f2;\n",
       "            color:  #000000;\n",
       "        }    #T_4875a4de_53c0_11ea_999a_71276007fdd7row45_col2 {\n",
       "            background-color:  #f2f2f2;\n",
       "            color:  #000000;\n",
       "        }    #T_4875a4de_53c0_11ea_999a_71276007fdd7row45_col3 {\n",
       "            background-color:  #f2f2f2;\n",
       "            color:  #000000;\n",
       "        }    #T_4875a4de_53c0_11ea_999a_71276007fdd7row46_col0 {\n",
       "            background-color:  #f2f2f2;\n",
       "            color:  #000000;\n",
       "        }    #T_4875a4de_53c0_11ea_999a_71276007fdd7row46_col1 {\n",
       "            background-color:  #f2f2f2;\n",
       "            color:  #000000;\n",
       "        }    #T_4875a4de_53c0_11ea_999a_71276007fdd7row46_col2 {\n",
       "            background-color:  #f2f2f2;\n",
       "            color:  #000000;\n",
       "        }    #T_4875a4de_53c0_11ea_999a_71276007fdd7row46_col3 {\n",
       "            background-color:  #f2f2f2;\n",
       "            color:  #000000;\n",
       "        }    #T_4875a4de_53c0_11ea_999a_71276007fdd7row47_col0 {\n",
       "            background-color:  #f2f2f2;\n",
       "            color:  #000000;\n",
       "        }    #T_4875a4de_53c0_11ea_999a_71276007fdd7row47_col1 {\n",
       "            background-color:  #f2f2f2;\n",
       "            color:  #000000;\n",
       "        }    #T_4875a4de_53c0_11ea_999a_71276007fdd7row47_col2 {\n",
       "            background-color:  #f2f2f2;\n",
       "            color:  #000000;\n",
       "        }    #T_4875a4de_53c0_11ea_999a_71276007fdd7row47_col3 {\n",
       "            background-color:  #f2f2f2;\n",
       "            color:  #000000;\n",
       "        }    #T_4875a4de_53c0_11ea_999a_71276007fdd7row48_col0 {\n",
       "            background-color:  #f2f2f2;\n",
       "            color:  #000000;\n",
       "        }    #T_4875a4de_53c0_11ea_999a_71276007fdd7row48_col1 {\n",
       "            background-color:  #f2f2f2;\n",
       "            color:  #000000;\n",
       "        }    #T_4875a4de_53c0_11ea_999a_71276007fdd7row48_col2 {\n",
       "            background-color:  #f2f2f2;\n",
       "            color:  #000000;\n",
       "        }    #T_4875a4de_53c0_11ea_999a_71276007fdd7row48_col3 {\n",
       "            background-color:  #f2f2f2;\n",
       "            color:  #000000;\n",
       "        }    #T_4875a4de_53c0_11ea_999a_71276007fdd7row49_col0 {\n",
       "            background-color:  #f2f2f2;\n",
       "            color:  #000000;\n",
       "        }    #T_4875a4de_53c0_11ea_999a_71276007fdd7row49_col1 {\n",
       "            background-color:  #f2f2f2;\n",
       "            color:  #000000;\n",
       "        }    #T_4875a4de_53c0_11ea_999a_71276007fdd7row49_col2 {\n",
       "            background-color:  #f2f2f2;\n",
       "            color:  #000000;\n",
       "        }    #T_4875a4de_53c0_11ea_999a_71276007fdd7row49_col3 {\n",
       "            background-color:  #f2f2f2;\n",
       "            color:  #000000;\n",
       "        }    #T_4875a4de_53c0_11ea_999a_71276007fdd7row50_col0 {\n",
       "            background-color:  #f2f2f2;\n",
       "            color:  #000000;\n",
       "        }    #T_4875a4de_53c0_11ea_999a_71276007fdd7row50_col1 {\n",
       "            background-color:  #f2f2f2;\n",
       "            color:  #000000;\n",
       "        }    #T_4875a4de_53c0_11ea_999a_71276007fdd7row50_col2 {\n",
       "            background-color:  #f2f2f2;\n",
       "            color:  #000000;\n",
       "        }    #T_4875a4de_53c0_11ea_999a_71276007fdd7row50_col3 {\n",
       "            background-color:  #f2f2f2;\n",
       "            color:  #000000;\n",
       "        }    #T_4875a4de_53c0_11ea_999a_71276007fdd7row51_col0 {\n",
       "            background-color:  #f2f2f2;\n",
       "            color:  #000000;\n",
       "        }    #T_4875a4de_53c0_11ea_999a_71276007fdd7row51_col1 {\n",
       "            background-color:  #f2f2f2;\n",
       "            color:  #000000;\n",
       "        }    #T_4875a4de_53c0_11ea_999a_71276007fdd7row51_col2 {\n",
       "            background-color:  #f2f2f2;\n",
       "            color:  #000000;\n",
       "        }    #T_4875a4de_53c0_11ea_999a_71276007fdd7row51_col3 {\n",
       "            background-color:  #f2f2f2;\n",
       "            color:  #000000;\n",
       "        }    #T_4875a4de_53c0_11ea_999a_71276007fdd7row52_col0 {\n",
       "            background-color:  #f2f2f2;\n",
       "            color:  #000000;\n",
       "        }    #T_4875a4de_53c0_11ea_999a_71276007fdd7row52_col1 {\n",
       "            background-color:  #f2f2f2;\n",
       "            color:  #000000;\n",
       "        }    #T_4875a4de_53c0_11ea_999a_71276007fdd7row52_col2 {\n",
       "            background-color:  #f2f2f2;\n",
       "            color:  #000000;\n",
       "        }    #T_4875a4de_53c0_11ea_999a_71276007fdd7row52_col3 {\n",
       "            background-color:  #f2f2f2;\n",
       "            color:  #000000;\n",
       "        }    #T_4875a4de_53c0_11ea_999a_71276007fdd7row53_col0 {\n",
       "            background-color:  #f2f2f2;\n",
       "            color:  #000000;\n",
       "        }    #T_4875a4de_53c0_11ea_999a_71276007fdd7row53_col1 {\n",
       "            background-color:  #f2f2f2;\n",
       "            color:  #000000;\n",
       "        }    #T_4875a4de_53c0_11ea_999a_71276007fdd7row53_col2 {\n",
       "            background-color:  #f2f2f2;\n",
       "            color:  #000000;\n",
       "        }    #T_4875a4de_53c0_11ea_999a_71276007fdd7row53_col3 {\n",
       "            background-color:  #f2f2f2;\n",
       "            color:  #000000;\n",
       "        }    #T_4875a4de_53c0_11ea_999a_71276007fdd7row54_col0 {\n",
       "            background-color:  #f2f2f2;\n",
       "            color:  #000000;\n",
       "        }    #T_4875a4de_53c0_11ea_999a_71276007fdd7row54_col1 {\n",
       "            background-color:  #f2f2f2;\n",
       "            color:  #000000;\n",
       "        }    #T_4875a4de_53c0_11ea_999a_71276007fdd7row54_col2 {\n",
       "            background-color:  #f2f2f2;\n",
       "            color:  #000000;\n",
       "        }    #T_4875a4de_53c0_11ea_999a_71276007fdd7row54_col3 {\n",
       "            background-color:  #f2f2f2;\n",
       "            color:  #000000;\n",
       "        }    #T_4875a4de_53c0_11ea_999a_71276007fdd7row55_col0 {\n",
       "            background-color:  #f2f2f2;\n",
       "            color:  #000000;\n",
       "        }    #T_4875a4de_53c0_11ea_999a_71276007fdd7row55_col1 {\n",
       "            background-color:  #f2f2f2;\n",
       "            color:  #000000;\n",
       "        }    #T_4875a4de_53c0_11ea_999a_71276007fdd7row55_col2 {\n",
       "            background-color:  #f2f2f2;\n",
       "            color:  #000000;\n",
       "        }    #T_4875a4de_53c0_11ea_999a_71276007fdd7row55_col3 {\n",
       "            background-color:  #f2f2f2;\n",
       "            color:  #000000;\n",
       "        }    #T_4875a4de_53c0_11ea_999a_71276007fdd7row56_col0 {\n",
       "            background-color:  #f2f2f2;\n",
       "            color:  #000000;\n",
       "        }    #T_4875a4de_53c0_11ea_999a_71276007fdd7row56_col1 {\n",
       "            background-color:  #f2f2f2;\n",
       "            color:  #000000;\n",
       "        }    #T_4875a4de_53c0_11ea_999a_71276007fdd7row56_col2 {\n",
       "            background-color:  #f2f2f2;\n",
       "            color:  #000000;\n",
       "        }    #T_4875a4de_53c0_11ea_999a_71276007fdd7row56_col3 {\n",
       "            background-color:  #f2f2f2;\n",
       "            color:  #000000;\n",
       "        }    #T_4875a4de_53c0_11ea_999a_71276007fdd7row57_col0 {\n",
       "            background-color:  #f2f2f2;\n",
       "            color:  #000000;\n",
       "        }    #T_4875a4de_53c0_11ea_999a_71276007fdd7row57_col1 {\n",
       "            background-color:  #f2f2f2;\n",
       "            color:  #000000;\n",
       "        }    #T_4875a4de_53c0_11ea_999a_71276007fdd7row57_col2 {\n",
       "            background-color:  #f2f2f2;\n",
       "            color:  #000000;\n",
       "        }    #T_4875a4de_53c0_11ea_999a_71276007fdd7row57_col3 {\n",
       "            background-color:  #f2f2f2;\n",
       "            color:  #000000;\n",
       "        }    #T_4875a4de_53c0_11ea_999a_71276007fdd7row58_col0 {\n",
       "            background-color:  #f2f2f2;\n",
       "            color:  #000000;\n",
       "        }    #T_4875a4de_53c0_11ea_999a_71276007fdd7row58_col1 {\n",
       "            background-color:  #f2f2f2;\n",
       "            color:  #000000;\n",
       "        }    #T_4875a4de_53c0_11ea_999a_71276007fdd7row58_col2 {\n",
       "            background-color:  #f2f2f2;\n",
       "            color:  #000000;\n",
       "        }    #T_4875a4de_53c0_11ea_999a_71276007fdd7row58_col3 {\n",
       "            background-color:  #f2f2f2;\n",
       "            color:  #000000;\n",
       "        }    #T_4875a4de_53c0_11ea_999a_71276007fdd7row59_col0 {\n",
       "            background-color:  #f2f2f2;\n",
       "            color:  #000000;\n",
       "        }    #T_4875a4de_53c0_11ea_999a_71276007fdd7row59_col1 {\n",
       "            background-color:  #f2f2f2;\n",
       "            color:  #000000;\n",
       "        }    #T_4875a4de_53c0_11ea_999a_71276007fdd7row59_col2 {\n",
       "            background-color:  #f2f2f2;\n",
       "            color:  #000000;\n",
       "        }    #T_4875a4de_53c0_11ea_999a_71276007fdd7row59_col3 {\n",
       "            background-color:  #f2f2f2;\n",
       "            color:  #000000;\n",
       "        }    #T_4875a4de_53c0_11ea_999a_71276007fdd7row60_col0 {\n",
       "            background-color:  #f2f2f2;\n",
       "            color:  #000000;\n",
       "        }    #T_4875a4de_53c0_11ea_999a_71276007fdd7row60_col1 {\n",
       "            background-color:  #f2f2f2;\n",
       "            color:  #000000;\n",
       "        }    #T_4875a4de_53c0_11ea_999a_71276007fdd7row60_col2 {\n",
       "            background-color:  #f2f2f2;\n",
       "            color:  #000000;\n",
       "        }    #T_4875a4de_53c0_11ea_999a_71276007fdd7row60_col3 {\n",
       "            background-color:  #f2f2f2;\n",
       "            color:  #000000;\n",
       "        }    #T_4875a4de_53c0_11ea_999a_71276007fdd7row61_col0 {\n",
       "            background-color:  #f2f2f2;\n",
       "            color:  #000000;\n",
       "        }    #T_4875a4de_53c0_11ea_999a_71276007fdd7row61_col1 {\n",
       "            background-color:  #f2f2f2;\n",
       "            color:  #000000;\n",
       "        }    #T_4875a4de_53c0_11ea_999a_71276007fdd7row61_col2 {\n",
       "            background-color:  #f2f2f2;\n",
       "            color:  #000000;\n",
       "        }    #T_4875a4de_53c0_11ea_999a_71276007fdd7row61_col3 {\n",
       "            background-color:  #f2f2f2;\n",
       "            color:  #000000;\n",
       "        }    #T_4875a4de_53c0_11ea_999a_71276007fdd7row62_col0 {\n",
       "            background-color:  #f2f2f2;\n",
       "            color:  #000000;\n",
       "        }    #T_4875a4de_53c0_11ea_999a_71276007fdd7row62_col1 {\n",
       "            background-color:  #f2f2f2;\n",
       "            color:  #000000;\n",
       "        }    #T_4875a4de_53c0_11ea_999a_71276007fdd7row62_col2 {\n",
       "            background-color:  #f2f2f2;\n",
       "            color:  #000000;\n",
       "        }    #T_4875a4de_53c0_11ea_999a_71276007fdd7row62_col3 {\n",
       "            background-color:  #f2f2f2;\n",
       "            color:  #000000;\n",
       "        }    #T_4875a4de_53c0_11ea_999a_71276007fdd7row63_col0 {\n",
       "            background-color:  #f2f2f2;\n",
       "            color:  #000000;\n",
       "        }    #T_4875a4de_53c0_11ea_999a_71276007fdd7row63_col1 {\n",
       "            background-color:  #f2f2f2;\n",
       "            color:  #000000;\n",
       "        }    #T_4875a4de_53c0_11ea_999a_71276007fdd7row63_col2 {\n",
       "            background-color:  #f2f2f2;\n",
       "            color:  #000000;\n",
       "        }    #T_4875a4de_53c0_11ea_999a_71276007fdd7row63_col3 {\n",
       "            background-color:  #f2f2f2;\n",
       "            color:  #000000;\n",
       "        }    #T_4875a4de_53c0_11ea_999a_71276007fdd7row64_col0 {\n",
       "            background-color:  #f2f2f2;\n",
       "            color:  #000000;\n",
       "        }    #T_4875a4de_53c0_11ea_999a_71276007fdd7row64_col1 {\n",
       "            background-color:  #f2f2f2;\n",
       "            color:  #000000;\n",
       "        }    #T_4875a4de_53c0_11ea_999a_71276007fdd7row64_col2 {\n",
       "            background-color:  #f2f2f2;\n",
       "            color:  #000000;\n",
       "        }    #T_4875a4de_53c0_11ea_999a_71276007fdd7row64_col3 {\n",
       "            background-color:  #f2f2f2;\n",
       "            color:  #000000;\n",
       "        }    #T_4875a4de_53c0_11ea_999a_71276007fdd7row65_col0 {\n",
       "            background-color:  #f2f2f2;\n",
       "            color:  #000000;\n",
       "        }    #T_4875a4de_53c0_11ea_999a_71276007fdd7row65_col1 {\n",
       "            background-color:  #f2f2f2;\n",
       "            color:  #000000;\n",
       "        }    #T_4875a4de_53c0_11ea_999a_71276007fdd7row65_col2 {\n",
       "            background-color:  #f2f2f2;\n",
       "            color:  #000000;\n",
       "        }    #T_4875a4de_53c0_11ea_999a_71276007fdd7row65_col3 {\n",
       "            background-color:  #f2f2f2;\n",
       "            color:  #000000;\n",
       "        }    #T_4875a4de_53c0_11ea_999a_71276007fdd7row66_col0 {\n",
       "            background-color:  #f2f2f2;\n",
       "            color:  #000000;\n",
       "        }    #T_4875a4de_53c0_11ea_999a_71276007fdd7row66_col1 {\n",
       "            background-color:  #f2f2f2;\n",
       "            color:  #000000;\n",
       "        }    #T_4875a4de_53c0_11ea_999a_71276007fdd7row66_col2 {\n",
       "            background-color:  #f2f2f2;\n",
       "            color:  #000000;\n",
       "        }    #T_4875a4de_53c0_11ea_999a_71276007fdd7row66_col3 {\n",
       "            background-color:  #f2f2f2;\n",
       "            color:  #000000;\n",
       "        }    #T_4875a4de_53c0_11ea_999a_71276007fdd7row67_col0 {\n",
       "            background-color:  #f2f2f2;\n",
       "            color:  #000000;\n",
       "        }    #T_4875a4de_53c0_11ea_999a_71276007fdd7row67_col1 {\n",
       "            background-color:  #f2f2f2;\n",
       "            color:  #000000;\n",
       "        }    #T_4875a4de_53c0_11ea_999a_71276007fdd7row67_col2 {\n",
       "            background-color:  #f2f2f2;\n",
       "            color:  #000000;\n",
       "        }    #T_4875a4de_53c0_11ea_999a_71276007fdd7row67_col3 {\n",
       "            background-color:  #f2f2f2;\n",
       "            color:  #000000;\n",
       "        }    #T_4875a4de_53c0_11ea_999a_71276007fdd7row68_col0 {\n",
       "            background-color:  #f2f2f2;\n",
       "            color:  #000000;\n",
       "        }    #T_4875a4de_53c0_11ea_999a_71276007fdd7row68_col1 {\n",
       "            background-color:  #f2f2f2;\n",
       "            color:  #000000;\n",
       "        }    #T_4875a4de_53c0_11ea_999a_71276007fdd7row68_col2 {\n",
       "            background-color:  #f2f2f2;\n",
       "            color:  #000000;\n",
       "        }    #T_4875a4de_53c0_11ea_999a_71276007fdd7row68_col3 {\n",
       "            background-color:  #f2f2f2;\n",
       "            color:  #000000;\n",
       "        }    #T_4875a4de_53c0_11ea_999a_71276007fdd7row69_col0 {\n",
       "            background-color:  #f2f2f2;\n",
       "            color:  #000000;\n",
       "        }    #T_4875a4de_53c0_11ea_999a_71276007fdd7row69_col1 {\n",
       "            background-color:  #f2f2f2;\n",
       "            color:  #000000;\n",
       "        }    #T_4875a4de_53c0_11ea_999a_71276007fdd7row69_col2 {\n",
       "            background-color:  #f2f2f2;\n",
       "            color:  #000000;\n",
       "        }    #T_4875a4de_53c0_11ea_999a_71276007fdd7row69_col3 {\n",
       "            background-color:  #f2f2f2;\n",
       "            color:  #000000;\n",
       "        }    #T_4875a4de_53c0_11ea_999a_71276007fdd7row70_col0 {\n",
       "            background-color:  #f2f2f2;\n",
       "            color:  #000000;\n",
       "        }    #T_4875a4de_53c0_11ea_999a_71276007fdd7row70_col1 {\n",
       "            background-color:  #f2f2f2;\n",
       "            color:  #000000;\n",
       "        }    #T_4875a4de_53c0_11ea_999a_71276007fdd7row70_col2 {\n",
       "            background-color:  #f2f2f2;\n",
       "            color:  #000000;\n",
       "        }    #T_4875a4de_53c0_11ea_999a_71276007fdd7row70_col3 {\n",
       "            background-color:  #f2f2f2;\n",
       "            color:  #000000;\n",
       "        }    #T_4875a4de_53c0_11ea_999a_71276007fdd7row71_col0 {\n",
       "            background-color:  #f2f2f2;\n",
       "            color:  #000000;\n",
       "        }    #T_4875a4de_53c0_11ea_999a_71276007fdd7row71_col1 {\n",
       "            background-color:  #f2f2f2;\n",
       "            color:  #000000;\n",
       "        }    #T_4875a4de_53c0_11ea_999a_71276007fdd7row71_col2 {\n",
       "            background-color:  #f2f2f2;\n",
       "            color:  #000000;\n",
       "        }    #T_4875a4de_53c0_11ea_999a_71276007fdd7row71_col3 {\n",
       "            background-color:  #f2f2f2;\n",
       "            color:  #000000;\n",
       "        }    #T_4875a4de_53c0_11ea_999a_71276007fdd7row72_col0 {\n",
       "            background-color:  #f2f2f2;\n",
       "            color:  #000000;\n",
       "        }    #T_4875a4de_53c0_11ea_999a_71276007fdd7row72_col1 {\n",
       "            background-color:  #f2f2f2;\n",
       "            color:  #000000;\n",
       "        }    #T_4875a4de_53c0_11ea_999a_71276007fdd7row72_col2 {\n",
       "            background-color:  #f2f2f2;\n",
       "            color:  #000000;\n",
       "        }    #T_4875a4de_53c0_11ea_999a_71276007fdd7row72_col3 {\n",
       "            background-color:  #f2f2f2;\n",
       "            color:  #000000;\n",
       "        }    #T_4875a4de_53c0_11ea_999a_71276007fdd7row73_col0 {\n",
       "            background-color:  #f2f2f2;\n",
       "            color:  #000000;\n",
       "        }    #T_4875a4de_53c0_11ea_999a_71276007fdd7row73_col1 {\n",
       "            background-color:  #f2f2f2;\n",
       "            color:  #000000;\n",
       "        }    #T_4875a4de_53c0_11ea_999a_71276007fdd7row73_col2 {\n",
       "            background-color:  #f2f2f2;\n",
       "            color:  #000000;\n",
       "        }    #T_4875a4de_53c0_11ea_999a_71276007fdd7row73_col3 {\n",
       "            background-color:  #f2f2f2;\n",
       "            color:  #000000;\n",
       "        }    #T_4875a4de_53c0_11ea_999a_71276007fdd7row74_col0 {\n",
       "            background-color:  #f2f2f2;\n",
       "            color:  #000000;\n",
       "        }    #T_4875a4de_53c0_11ea_999a_71276007fdd7row74_col1 {\n",
       "            background-color:  #f2f2f2;\n",
       "            color:  #000000;\n",
       "        }    #T_4875a4de_53c0_11ea_999a_71276007fdd7row74_col2 {\n",
       "            background-color:  #f2f2f2;\n",
       "            color:  #000000;\n",
       "        }    #T_4875a4de_53c0_11ea_999a_71276007fdd7row74_col3 {\n",
       "            background-color:  #f2f2f2;\n",
       "            color:  #000000;\n",
       "        }</style><table id=\"T_4875a4de_53c0_11ea_999a_71276007fdd7\" ><thead>    <tr>        <th class=\"blank\" ></th>        <th class=\"blank level0\" ></th>        <th class=\"col_heading level0 col0\" >Confirmed</th>        <th class=\"col_heading level0 col1\" >Deaths</th>        <th class=\"col_heading level0 col2\" >Recovered</th>        <th class=\"col_heading level0 col3\" >severity</th>    </tr>    <tr>        <th class=\"index_name level0\" >Country/Region</th>        <th class=\"index_name level1\" >Province/State</th>        <th class=\"blank\" ></th>        <th class=\"blank\" ></th>        <th class=\"blank\" ></th>        <th class=\"blank\" ></th>    </tr></thead><tbody>\n",
       "                <tr>\n",
       "                        <th id=\"T_4875a4de_53c0_11ea_999a_71276007fdd7level0_row0\" class=\"row_heading level0 row0\" rowspan=4>Australia</th>\n",
       "                        <th id=\"T_4875a4de_53c0_11ea_999a_71276007fdd7level1_row0\" class=\"row_heading level1 row0\" >New South Wales</th>\n",
       "                        <td id=\"T_4875a4de_53c0_11ea_999a_71276007fdd7row0_col0\" class=\"data row0 col0\" >4</td>\n",
       "                        <td id=\"T_4875a4de_53c0_11ea_999a_71276007fdd7row0_col1\" class=\"data row0 col1\" >0</td>\n",
       "                        <td id=\"T_4875a4de_53c0_11ea_999a_71276007fdd7row0_col2\" class=\"data row0 col2\" >4</td>\n",
       "                        <td id=\"T_4875a4de_53c0_11ea_999a_71276007fdd7row0_col3\" class=\"data row0 col3\" >0.530504</td>\n",
       "            </tr>\n",
       "            <tr>\n",
       "                                <th id=\"T_4875a4de_53c0_11ea_999a_71276007fdd7level1_row1\" class=\"row_heading level1 row1\" >Queensland</th>\n",
       "                        <td id=\"T_4875a4de_53c0_11ea_999a_71276007fdd7row1_col0\" class=\"data row1 col0\" >5</td>\n",
       "                        <td id=\"T_4875a4de_53c0_11ea_999a_71276007fdd7row1_col1\" class=\"data row1 col1\" >0</td>\n",
       "                        <td id=\"T_4875a4de_53c0_11ea_999a_71276007fdd7row1_col2\" class=\"data row1 col2\" >0</td>\n",
       "                        <td id=\"T_4875a4de_53c0_11ea_999a_71276007fdd7row1_col3\" class=\"data row1 col3\" >0.986193</td>\n",
       "            </tr>\n",
       "            <tr>\n",
       "                                <th id=\"T_4875a4de_53c0_11ea_999a_71276007fdd7level1_row2\" class=\"row_heading level1 row2\" >South Australia</th>\n",
       "                        <td id=\"T_4875a4de_53c0_11ea_999a_71276007fdd7row2_col0\" class=\"data row2 col0\" >2</td>\n",
       "                        <td id=\"T_4875a4de_53c0_11ea_999a_71276007fdd7row2_col1\" class=\"data row2 col1\" >0</td>\n",
       "                        <td id=\"T_4875a4de_53c0_11ea_999a_71276007fdd7row2_col2\" class=\"data row2 col2\" >2</td>\n",
       "                        <td id=\"T_4875a4de_53c0_11ea_999a_71276007fdd7row2_col3\" class=\"data row2 col3\" >1.19261</td>\n",
       "            </tr>\n",
       "            <tr>\n",
       "                                <th id=\"T_4875a4de_53c0_11ea_999a_71276007fdd7level1_row3\" class=\"row_heading level1 row3\" >Victoria</th>\n",
       "                        <td id=\"T_4875a4de_53c0_11ea_999a_71276007fdd7row3_col0\" class=\"data row3 col0\" >4</td>\n",
       "                        <td id=\"T_4875a4de_53c0_11ea_999a_71276007fdd7row3_col1\" class=\"data row3 col1\" >0</td>\n",
       "                        <td id=\"T_4875a4de_53c0_11ea_999a_71276007fdd7row3_col2\" class=\"data row3 col2\" >4</td>\n",
       "                        <td id=\"T_4875a4de_53c0_11ea_999a_71276007fdd7row3_col3\" class=\"data row3 col3\" >0.625</td>\n",
       "            </tr>\n",
       "            <tr>\n",
       "                        <th id=\"T_4875a4de_53c0_11ea_999a_71276007fdd7level0_row4\" class=\"row_heading level0 row4\" >Belgium</th>\n",
       "                        <th id=\"T_4875a4de_53c0_11ea_999a_71276007fdd7level1_row4\" class=\"row_heading level1 row4\" >NA</th>\n",
       "                        <td id=\"T_4875a4de_53c0_11ea_999a_71276007fdd7row4_col0\" class=\"data row4 col0\" >1</td>\n",
       "                        <td id=\"T_4875a4de_53c0_11ea_999a_71276007fdd7row4_col1\" class=\"data row4 col1\" >0</td>\n",
       "                        <td id=\"T_4875a4de_53c0_11ea_999a_71276007fdd7row4_col2\" class=\"data row4 col2\" >1</td>\n",
       "                        <td id=\"T_4875a4de_53c0_11ea_999a_71276007fdd7row4_col3\" class=\"data row4 col3\" >0.0877193</td>\n",
       "            </tr>\n",
       "            <tr>\n",
       "                        <th id=\"T_4875a4de_53c0_11ea_999a_71276007fdd7level0_row5\" class=\"row_heading level0 row5\" >Cambodia</th>\n",
       "                        <th id=\"T_4875a4de_53c0_11ea_999a_71276007fdd7level1_row5\" class=\"row_heading level1 row5\" >NA</th>\n",
       "                        <td id=\"T_4875a4de_53c0_11ea_999a_71276007fdd7row5_col0\" class=\"data row5 col0\" >1</td>\n",
       "                        <td id=\"T_4875a4de_53c0_11ea_999a_71276007fdd7row5_col1\" class=\"data row5 col1\" >0</td>\n",
       "                        <td id=\"T_4875a4de_53c0_11ea_999a_71276007fdd7row5_col2\" class=\"data row5 col2\" >1</td>\n",
       "                        <td id=\"T_4875a4de_53c0_11ea_999a_71276007fdd7row5_col3\" class=\"data row5 col3\" >0.062461</td>\n",
       "            </tr>\n",
       "            <tr>\n",
       "                        <th id=\"T_4875a4de_53c0_11ea_999a_71276007fdd7level0_row6\" class=\"row_heading level0 row6\" rowspan=3>Canada</th>\n",
       "                        <th id=\"T_4875a4de_53c0_11ea_999a_71276007fdd7level1_row6\" class=\"row_heading level1 row6\" >British Columbia</th>\n",
       "                        <td id=\"T_4875a4de_53c0_11ea_999a_71276007fdd7row6_col0\" class=\"data row6 col0\" >5</td>\n",
       "                        <td id=\"T_4875a4de_53c0_11ea_999a_71276007fdd7row6_col1\" class=\"data row6 col1\" >0</td>\n",
       "                        <td id=\"T_4875a4de_53c0_11ea_999a_71276007fdd7row6_col2\" class=\"data row6 col2\" >0</td>\n",
       "                        <td id=\"T_4875a4de_53c0_11ea_999a_71276007fdd7row6_col3\" class=\"data row6 col3\" >0.986193</td>\n",
       "            </tr>\n",
       "            <tr>\n",
       "                                <th id=\"T_4875a4de_53c0_11ea_999a_71276007fdd7level1_row7\" class=\"row_heading level1 row7\" >London, ON</th>\n",
       "                        <td id=\"T_4875a4de_53c0_11ea_999a_71276007fdd7row7_col0\" class=\"data row7 col0\" >1</td>\n",
       "                        <td id=\"T_4875a4de_53c0_11ea_999a_71276007fdd7row7_col1\" class=\"data row7 col1\" >0</td>\n",
       "                        <td id=\"T_4875a4de_53c0_11ea_999a_71276007fdd7row7_col2\" class=\"data row7 col2\" >1</td>\n",
       "                        <td id=\"T_4875a4de_53c0_11ea_999a_71276007fdd7row7_col3\" class=\"data row7 col3\" >2.5</td>\n",
       "            </tr>\n",
       "            <tr>\n",
       "                                <th id=\"T_4875a4de_53c0_11ea_999a_71276007fdd7level1_row8\" class=\"row_heading level1 row8\" >Toronto, ON</th>\n",
       "                        <td id=\"T_4875a4de_53c0_11ea_999a_71276007fdd7row8_col0\" class=\"data row8 col0\" >2</td>\n",
       "                        <td id=\"T_4875a4de_53c0_11ea_999a_71276007fdd7row8_col1\" class=\"data row8 col1\" >0</td>\n",
       "                        <td id=\"T_4875a4de_53c0_11ea_999a_71276007fdd7row8_col2\" class=\"data row8 col2\" >0</td>\n",
       "                        <td id=\"T_4875a4de_53c0_11ea_999a_71276007fdd7row8_col3\" class=\"data row8 col3\" >0.682594</td>\n",
       "            </tr>\n",
       "            <tr>\n",
       "                        <th id=\"T_4875a4de_53c0_11ea_999a_71276007fdd7level0_row9\" class=\"row_heading level0 row9\" >Egypt</th>\n",
       "                        <th id=\"T_4875a4de_53c0_11ea_999a_71276007fdd7level1_row9\" class=\"row_heading level1 row9\" >NA</th>\n",
       "                        <td id=\"T_4875a4de_53c0_11ea_999a_71276007fdd7row9_col0\" class=\"data row9 col0\" >1</td>\n",
       "                        <td id=\"T_4875a4de_53c0_11ea_999a_71276007fdd7row9_col1\" class=\"data row9 col1\" >0</td>\n",
       "                        <td id=\"T_4875a4de_53c0_11ea_999a_71276007fdd7row9_col2\" class=\"data row9 col2\" >0</td>\n",
       "                        <td id=\"T_4875a4de_53c0_11ea_999a_71276007fdd7row9_col3\" class=\"data row9 col3\" >0.1</td>\n",
       "            </tr>\n",
       "            <tr>\n",
       "                        <th id=\"T_4875a4de_53c0_11ea_999a_71276007fdd7level0_row10\" class=\"row_heading level0 row10\" >Finland</th>\n",
       "                        <th id=\"T_4875a4de_53c0_11ea_999a_71276007fdd7level1_row10\" class=\"row_heading level1 row10\" >NA</th>\n",
       "                        <td id=\"T_4875a4de_53c0_11ea_999a_71276007fdd7row10_col0\" class=\"data row10 col0\" >1</td>\n",
       "                        <td id=\"T_4875a4de_53c0_11ea_999a_71276007fdd7row10_col1\" class=\"data row10 col1\" >0</td>\n",
       "                        <td id=\"T_4875a4de_53c0_11ea_999a_71276007fdd7row10_col2\" class=\"data row10 col2\" >1</td>\n",
       "                        <td id=\"T_4875a4de_53c0_11ea_999a_71276007fdd7row10_col3\" class=\"data row10 col3\" >0.181818</td>\n",
       "            </tr>\n",
       "            <tr>\n",
       "                        <th id=\"T_4875a4de_53c0_11ea_999a_71276007fdd7level0_row11\" class=\"row_heading level0 row11\" >France</th>\n",
       "                        <th id=\"T_4875a4de_53c0_11ea_999a_71276007fdd7level1_row11\" class=\"row_heading level1 row11\" >NA</th>\n",
       "                        <td id=\"T_4875a4de_53c0_11ea_999a_71276007fdd7row11_col0\" class=\"data row11 col0\" >12</td>\n",
       "                        <td id=\"T_4875a4de_53c0_11ea_999a_71276007fdd7row11_col1\" class=\"data row11 col1\" >1</td>\n",
       "                        <td id=\"T_4875a4de_53c0_11ea_999a_71276007fdd7row11_col2\" class=\"data row11 col2\" >4</td>\n",
       "                        <td id=\"T_4875a4de_53c0_11ea_999a_71276007fdd7row11_col3\" class=\"data row11 col3\" >0.179104</td>\n",
       "            </tr>\n",
       "            <tr>\n",
       "                        <th id=\"T_4875a4de_53c0_11ea_999a_71276007fdd7level0_row12\" class=\"row_heading level0 row12\" >Germany</th>\n",
       "                        <th id=\"T_4875a4de_53c0_11ea_999a_71276007fdd7level1_row12\" class=\"row_heading level1 row12\" >NA</th>\n",
       "                        <td id=\"T_4875a4de_53c0_11ea_999a_71276007fdd7row12_col0\" class=\"data row12 col0\" >16</td>\n",
       "                        <td id=\"T_4875a4de_53c0_11ea_999a_71276007fdd7row12_col1\" class=\"data row12 col1\" >0</td>\n",
       "                        <td id=\"T_4875a4de_53c0_11ea_999a_71276007fdd7row12_col2\" class=\"data row12 col2\" >12</td>\n",
       "                        <td id=\"T_4875a4de_53c0_11ea_999a_71276007fdd7row12_col3\" class=\"data row12 col3\" >0.19326</td>\n",
       "            </tr>\n",
       "            <tr>\n",
       "                        <th id=\"T_4875a4de_53c0_11ea_999a_71276007fdd7level0_row13\" class=\"row_heading level0 row13\" >Hong Kong</th>\n",
       "                        <th id=\"T_4875a4de_53c0_11ea_999a_71276007fdd7level1_row13\" class=\"row_heading level1 row13\" >Hong Kong</th>\n",
       "                        <td id=\"T_4875a4de_53c0_11ea_999a_71276007fdd7row13_col0\" class=\"data row13 col0\" >63</td>\n",
       "                        <td id=\"T_4875a4de_53c0_11ea_999a_71276007fdd7row13_col1\" class=\"data row13 col1\" >2</td>\n",
       "                        <td id=\"T_4875a4de_53c0_11ea_999a_71276007fdd7row13_col2\" class=\"data row13 col2\" >5</td>\n",
       "                        <td id=\"T_4875a4de_53c0_11ea_999a_71276007fdd7row13_col3\" class=\"data row13 col3\" >8.51351</td>\n",
       "            </tr>\n",
       "            <tr>\n",
       "                        <th id=\"T_4875a4de_53c0_11ea_999a_71276007fdd7level0_row14\" class=\"row_heading level0 row14\" >India</th>\n",
       "                        <th id=\"T_4875a4de_53c0_11ea_999a_71276007fdd7level1_row14\" class=\"row_heading level1 row14\" >NA</th>\n",
       "                        <td id=\"T_4875a4de_53c0_11ea_999a_71276007fdd7row14_col0\" class=\"data row14 col0\" >3</td>\n",
       "                        <td id=\"T_4875a4de_53c0_11ea_999a_71276007fdd7row14_col1\" class=\"data row14 col1\" >0</td>\n",
       "                        <td id=\"T_4875a4de_53c0_11ea_999a_71276007fdd7row14_col2\" class=\"data row14 col2\" >3</td>\n",
       "                        <td id=\"T_4875a4de_53c0_11ea_999a_71276007fdd7row14_col3\" class=\"data row14 col3\" >0.00224048</td>\n",
       "            </tr>\n",
       "            <tr>\n",
       "                        <th id=\"T_4875a4de_53c0_11ea_999a_71276007fdd7level0_row15\" class=\"row_heading level0 row15\" >Iran</th>\n",
       "                        <th id=\"T_4875a4de_53c0_11ea_999a_71276007fdd7level1_row15\" class=\"row_heading level1 row15\" >NA</th>\n",
       "                        <td id=\"T_4875a4de_53c0_11ea_999a_71276007fdd7row15_col0\" class=\"data row15 col0\" >2</td>\n",
       "                        <td id=\"T_4875a4de_53c0_11ea_999a_71276007fdd7row15_col1\" class=\"data row15 col1\" >2</td>\n",
       "                        <td id=\"T_4875a4de_53c0_11ea_999a_71276007fdd7row15_col2\" class=\"data row15 col2\" >0</td>\n",
       "                        <td id=\"T_4875a4de_53c0_11ea_999a_71276007fdd7row15_col3\" class=\"data row15 col3\" >0.2</td>\n",
       "            </tr>\n",
       "            <tr>\n",
       "                        <th id=\"T_4875a4de_53c0_11ea_999a_71276007fdd7level0_row16\" class=\"row_heading level0 row16\" >Italy</th>\n",
       "                        <th id=\"T_4875a4de_53c0_11ea_999a_71276007fdd7level1_row16\" class=\"row_heading level1 row16\" >NA</th>\n",
       "                        <td id=\"T_4875a4de_53c0_11ea_999a_71276007fdd7row16_col0\" class=\"data row16 col0\" >3</td>\n",
       "                        <td id=\"T_4875a4de_53c0_11ea_999a_71276007fdd7row16_col1\" class=\"data row16 col1\" >0</td>\n",
       "                        <td id=\"T_4875a4de_53c0_11ea_999a_71276007fdd7row16_col2\" class=\"data row16 col2\" >0</td>\n",
       "                        <td id=\"T_4875a4de_53c0_11ea_999a_71276007fdd7row16_col3\" class=\"data row16 col3\" >0.0496032</td>\n",
       "            </tr>\n",
       "            <tr>\n",
       "                        <th id=\"T_4875a4de_53c0_11ea_999a_71276007fdd7level0_row17\" class=\"row_heading level0 row17\" >Japan</th>\n",
       "                        <th id=\"T_4875a4de_53c0_11ea_999a_71276007fdd7level1_row17\" class=\"row_heading level1 row17\" >NA</th>\n",
       "                        <td id=\"T_4875a4de_53c0_11ea_999a_71276007fdd7row17_col0\" class=\"data row17 col0\" >84</td>\n",
       "                        <td id=\"T_4875a4de_53c0_11ea_999a_71276007fdd7row17_col1\" class=\"data row17 col1\" >1</td>\n",
       "                        <td id=\"T_4875a4de_53c0_11ea_999a_71276007fdd7row17_col2\" class=\"data row17 col2\" >18</td>\n",
       "                        <td id=\"T_4875a4de_53c0_11ea_999a_71276007fdd7row17_col3\" class=\"data row17 col3\" >0.662461</td>\n",
       "            </tr>\n",
       "            <tr>\n",
       "                        <th id=\"T_4875a4de_53c0_11ea_999a_71276007fdd7level0_row18\" class=\"row_heading level0 row18\" >Macau</th>\n",
       "                        <th id=\"T_4875a4de_53c0_11ea_999a_71276007fdd7level1_row18\" class=\"row_heading level1 row18\" >Macau</th>\n",
       "                        <td id=\"T_4875a4de_53c0_11ea_999a_71276007fdd7row18_col0\" class=\"data row18 col0\" >10</td>\n",
       "                        <td id=\"T_4875a4de_53c0_11ea_999a_71276007fdd7row18_col1\" class=\"data row18 col1\" >0</td>\n",
       "                        <td id=\"T_4875a4de_53c0_11ea_999a_71276007fdd7row18_col2\" class=\"data row18 col2\" >5</td>\n",
       "                        <td id=\"T_4875a4de_53c0_11ea_999a_71276007fdd7row18_col3\" class=\"data row18 col3\" >16.129</td>\n",
       "            </tr>\n",
       "            <tr>\n",
       "                        <th id=\"T_4875a4de_53c0_11ea_999a_71276007fdd7level0_row19\" class=\"row_heading level0 row19\" rowspan=31>Mainland China</th>\n",
       "                        <th id=\"T_4875a4de_53c0_11ea_999a_71276007fdd7level1_row19\" class=\"row_heading level1 row19\" >Anhui</th>\n",
       "                        <td id=\"T_4875a4de_53c0_11ea_999a_71276007fdd7row19_col0\" class=\"data row19 col0\" >986</td>\n",
       "                        <td id=\"T_4875a4de_53c0_11ea_999a_71276007fdd7row19_col1\" class=\"data row19 col1\" >6</td>\n",
       "                        <td id=\"T_4875a4de_53c0_11ea_999a_71276007fdd7row19_col2\" class=\"data row19 col2\" >413</td>\n",
       "                        <td id=\"T_4875a4de_53c0_11ea_999a_71276007fdd7row19_col3\" class=\"data row19 col3\" >15.9032</td>\n",
       "            </tr>\n",
       "            <tr>\n",
       "                                <th id=\"T_4875a4de_53c0_11ea_999a_71276007fdd7level1_row20\" class=\"row_heading level1 row20\" >Beijing</th>\n",
       "                        <td id=\"T_4875a4de_53c0_11ea_999a_71276007fdd7row20_col0\" class=\"data row20 col0\" >393</td>\n",
       "                        <td id=\"T_4875a4de_53c0_11ea_999a_71276007fdd7row20_col1\" class=\"data row20 col1\" >4</td>\n",
       "                        <td id=\"T_4875a4de_53c0_11ea_999a_71276007fdd7row20_col2\" class=\"data row20 col2\" >145</td>\n",
       "                        <td id=\"T_4875a4de_53c0_11ea_999a_71276007fdd7row20_col3\" class=\"data row20 col3\" >18.2451</td>\n",
       "            </tr>\n",
       "            <tr>\n",
       "                                <th id=\"T_4875a4de_53c0_11ea_999a_71276007fdd7level1_row21\" class=\"row_heading level1 row21\" >Chongqing</th>\n",
       "                        <td id=\"T_4875a4de_53c0_11ea_999a_71276007fdd7row21_col0\" class=\"data row21 col0\" >560</td>\n",
       "                        <td id=\"T_4875a4de_53c0_11ea_999a_71276007fdd7row21_col1\" class=\"data row21 col1\" >5</td>\n",
       "                        <td id=\"T_4875a4de_53c0_11ea_999a_71276007fdd7row21_col2\" class=\"data row21 col2\" >274</td>\n",
       "                        <td id=\"T_4875a4de_53c0_11ea_999a_71276007fdd7row21_col3\" class=\"data row21 col3\" >18.3727</td>\n",
       "            </tr>\n",
       "            <tr>\n",
       "                                <th id=\"T_4875a4de_53c0_11ea_999a_71276007fdd7level1_row22\" class=\"row_heading level1 row22\" >Fujian</th>\n",
       "                        <td id=\"T_4875a4de_53c0_11ea_999a_71276007fdd7row22_col0\" class=\"data row22 col0\" >293</td>\n",
       "                        <td id=\"T_4875a4de_53c0_11ea_999a_71276007fdd7row22_col1\" class=\"data row22 col1\" >0</td>\n",
       "                        <td id=\"T_4875a4de_53c0_11ea_999a_71276007fdd7row22_col2\" class=\"data row22 col2\" >112</td>\n",
       "                        <td id=\"T_4875a4de_53c0_11ea_999a_71276007fdd7row22_col3\" class=\"data row22 col3\" >7.59855</td>\n",
       "            </tr>\n",
       "            <tr>\n",
       "                                <th id=\"T_4875a4de_53c0_11ea_999a_71276007fdd7level1_row23\" class=\"row_heading level1 row23\" >Gansu</th>\n",
       "                        <td id=\"T_4875a4de_53c0_11ea_999a_71276007fdd7row23_col0\" class=\"data row23 col0\" >91</td>\n",
       "                        <td id=\"T_4875a4de_53c0_11ea_999a_71276007fdd7row23_col1\" class=\"data row23 col1\" >2</td>\n",
       "                        <td id=\"T_4875a4de_53c0_11ea_999a_71276007fdd7row23_col2\" class=\"data row23 col2\" >65</td>\n",
       "                        <td id=\"T_4875a4de_53c0_11ea_999a_71276007fdd7row23_col3\" class=\"data row23 col3\" >3.55747</td>\n",
       "            </tr>\n",
       "            <tr>\n",
       "                                <th id=\"T_4875a4de_53c0_11ea_999a_71276007fdd7level1_row24\" class=\"row_heading level1 row24\" >Guangdong</th>\n",
       "                        <td id=\"T_4875a4de_53c0_11ea_999a_71276007fdd7row24_col0\" class=\"data row24 col0\" >1331</td>\n",
       "                        <td id=\"T_4875a4de_53c0_11ea_999a_71276007fdd7row24_col1\" class=\"data row24 col1\" >5</td>\n",
       "                        <td id=\"T_4875a4de_53c0_11ea_999a_71276007fdd7row24_col2\" class=\"data row24 col2\" >606</td>\n",
       "                        <td id=\"T_4875a4de_53c0_11ea_999a_71276007fdd7row24_col3\" class=\"data row24 col3\" >11.731</td>\n",
       "            </tr>\n",
       "            <tr>\n",
       "                                <th id=\"T_4875a4de_53c0_11ea_999a_71276007fdd7level1_row25\" class=\"row_heading level1 row25\" >Guangxi</th>\n",
       "                        <td id=\"T_4875a4de_53c0_11ea_999a_71276007fdd7row25_col0\" class=\"data row25 col0\" >244</td>\n",
       "                        <td id=\"T_4875a4de_53c0_11ea_999a_71276007fdd7row25_col1\" class=\"data row25 col1\" >2</td>\n",
       "                        <td id=\"T_4875a4de_53c0_11ea_999a_71276007fdd7row25_col2\" class=\"data row25 col2\" >86</td>\n",
       "                        <td id=\"T_4875a4de_53c0_11ea_999a_71276007fdd7row25_col3\" class=\"data row25 col3\" >5.04341</td>\n",
       "            </tr>\n",
       "            <tr>\n",
       "                                <th id=\"T_4875a4de_53c0_11ea_999a_71276007fdd7level1_row26\" class=\"row_heading level1 row26\" >Guizhou</th>\n",
       "                        <td id=\"T_4875a4de_53c0_11ea_999a_71276007fdd7row26_col0\" class=\"data row26 col0\" >146</td>\n",
       "                        <td id=\"T_4875a4de_53c0_11ea_999a_71276007fdd7row26_col1\" class=\"data row26 col1\" >2</td>\n",
       "                        <td id=\"T_4875a4de_53c0_11ea_999a_71276007fdd7row26_col2\" class=\"data row26 col2\" >70</td>\n",
       "                        <td id=\"T_4875a4de_53c0_11ea_999a_71276007fdd7row26_col3\" class=\"data row26 col3\" >4.20144</td>\n",
       "            </tr>\n",
       "            <tr>\n",
       "                                <th id=\"T_4875a4de_53c0_11ea_999a_71276007fdd7level1_row27\" class=\"row_heading level1 row27\" >Hainan</th>\n",
       "                        <td id=\"T_4875a4de_53c0_11ea_999a_71276007fdd7row27_col0\" class=\"data row27 col0\" >168</td>\n",
       "                        <td id=\"T_4875a4de_53c0_11ea_999a_71276007fdd7row27_col1\" class=\"data row27 col1\" >4</td>\n",
       "                        <td id=\"T_4875a4de_53c0_11ea_999a_71276007fdd7row27_col2\" class=\"data row27 col2\" >84</td>\n",
       "                        <td id=\"T_4875a4de_53c0_11ea_999a_71276007fdd7row27_col3\" class=\"data row27 col3\" >18.0645</td>\n",
       "            </tr>\n",
       "            <tr>\n",
       "                                <th id=\"T_4875a4de_53c0_11ea_999a_71276007fdd7level1_row28\" class=\"row_heading level1 row28\" >Hebei</th>\n",
       "                        <td id=\"T_4875a4de_53c0_11ea_999a_71276007fdd7row28_col0\" class=\"data row28 col0\" >306</td>\n",
       "                        <td id=\"T_4875a4de_53c0_11ea_999a_71276007fdd7row28_col1\" class=\"data row28 col1\" >4</td>\n",
       "                        <td id=\"T_4875a4de_53c0_11ea_999a_71276007fdd7row28_col2\" class=\"data row28 col2\" >152</td>\n",
       "                        <td id=\"T_4875a4de_53c0_11ea_999a_71276007fdd7row28_col3\" class=\"data row28 col3\" >4.09639</td>\n",
       "            </tr>\n",
       "            <tr>\n",
       "                                <th id=\"T_4875a4de_53c0_11ea_999a_71276007fdd7level1_row29\" class=\"row_heading level1 row29\" >Heilongjiang</th>\n",
       "                        <td id=\"T_4875a4de_53c0_11ea_999a_71276007fdd7row29_col0\" class=\"data row29 col0\" >470</td>\n",
       "                        <td id=\"T_4875a4de_53c0_11ea_999a_71276007fdd7row29_col1\" class=\"data row29 col1\" >12</td>\n",
       "                        <td id=\"T_4875a4de_53c0_11ea_999a_71276007fdd7row29_col2\" class=\"data row29 col2\" >120</td>\n",
       "                        <td id=\"T_4875a4de_53c0_11ea_999a_71276007fdd7row29_col3\" class=\"data row29 col3\" >12.2683</td>\n",
       "            </tr>\n",
       "            <tr>\n",
       "                                <th id=\"T_4875a4de_53c0_11ea_999a_71276007fdd7level1_row30\" class=\"row_heading level1 row30\" >Henan</th>\n",
       "                        <td id=\"T_4875a4de_53c0_11ea_999a_71276007fdd7row30_col0\" class=\"data row30 col0\" >1262</td>\n",
       "                        <td id=\"T_4875a4de_53c0_11ea_999a_71276007fdd7row30_col1\" class=\"data row30 col1\" >19</td>\n",
       "                        <td id=\"T_4875a4de_53c0_11ea_999a_71276007fdd7row30_col2\" class=\"data row30 col2\" >573</td>\n",
       "                        <td id=\"T_4875a4de_53c0_11ea_999a_71276007fdd7row30_col3\" class=\"data row30 col3\" >13.4255</td>\n",
       "            </tr>\n",
       "            <tr>\n",
       "                                <th id=\"T_4875a4de_53c0_11ea_999a_71276007fdd7level1_row31\" class=\"row_heading level1 row31\" >Hubei</th>\n",
       "                        <td id=\"T_4875a4de_53c0_11ea_999a_71276007fdd7row31_col0\" class=\"data row31 col0\" >62031</td>\n",
       "                        <td id=\"T_4875a4de_53c0_11ea_999a_71276007fdd7row31_col1\" class=\"data row31 col1\" >2029</td>\n",
       "                        <td id=\"T_4875a4de_53c0_11ea_999a_71276007fdd7row31_col2\" class=\"data row31 col2\" >10337</td>\n",
       "                        <td id=\"T_4875a4de_53c0_11ea_999a_71276007fdd7row31_col3\" class=\"data row31 col3\" >1060.36</td>\n",
       "            </tr>\n",
       "            <tr>\n",
       "                                <th id=\"T_4875a4de_53c0_11ea_999a_71276007fdd7level1_row32\" class=\"row_heading level1 row32\" >Hunan</th>\n",
       "                        <td id=\"T_4875a4de_53c0_11ea_999a_71276007fdd7row32_col0\" class=\"data row32 col0\" >1008</td>\n",
       "                        <td id=\"T_4875a4de_53c0_11ea_999a_71276007fdd7row32_col1\" class=\"data row32 col1\" >4</td>\n",
       "                        <td id=\"T_4875a4de_53c0_11ea_999a_71276007fdd7row32_col2\" class=\"data row32 col2\" >561</td>\n",
       "                        <td id=\"T_4875a4de_53c0_11ea_999a_71276007fdd7row32_col3\" class=\"data row32 col3\" >14.9621</td>\n",
       "            </tr>\n",
       "            <tr>\n",
       "                                <th id=\"T_4875a4de_53c0_11ea_999a_71276007fdd7level1_row33\" class=\"row_heading level1 row33\" >Inner Mongolia</th>\n",
       "                        <td id=\"T_4875a4de_53c0_11ea_999a_71276007fdd7row33_col0\" class=\"data row33 col0\" >75</td>\n",
       "                        <td id=\"T_4875a4de_53c0_11ea_999a_71276007fdd7row33_col1\" class=\"data row33 col1\" >0</td>\n",
       "                        <td id=\"T_4875a4de_53c0_11ea_999a_71276007fdd7row33_col2\" class=\"data row33 col2\" >10</td>\n",
       "                        <td id=\"T_4875a4de_53c0_11ea_999a_71276007fdd7row33_col3\" class=\"data row33 col3\" >3.03521</td>\n",
       "            </tr>\n",
       "            <tr>\n",
       "                                <th id=\"T_4875a4de_53c0_11ea_999a_71276007fdd7level1_row34\" class=\"row_heading level1 row34\" >Jiangsu</th>\n",
       "                        <td id=\"T_4875a4de_53c0_11ea_999a_71276007fdd7row34_col0\" class=\"data row34 col0\" >631</td>\n",
       "                        <td id=\"T_4875a4de_53c0_11ea_999a_71276007fdd7row34_col1\" class=\"data row34 col1\" >0</td>\n",
       "                        <td id=\"T_4875a4de_53c0_11ea_999a_71276007fdd7row34_col2\" class=\"data row34 col2\" >318</td>\n",
       "                        <td id=\"T_4875a4de_53c0_11ea_999a_71276007fdd7row34_col3\" class=\"data row34 col3\" >7.84826</td>\n",
       "            </tr>\n",
       "            <tr>\n",
       "                                <th id=\"T_4875a4de_53c0_11ea_999a_71276007fdd7level1_row35\" class=\"row_heading level1 row35\" >Jiangxi</th>\n",
       "                        <td id=\"T_4875a4de_53c0_11ea_999a_71276007fdd7row35_col0\" class=\"data row35 col0\" >934</td>\n",
       "                        <td id=\"T_4875a4de_53c0_11ea_999a_71276007fdd7row35_col1\" class=\"data row35 col1\" >1</td>\n",
       "                        <td id=\"T_4875a4de_53c0_11ea_999a_71276007fdd7row35_col2\" class=\"data row35 col2\" >362</td>\n",
       "                        <td id=\"T_4875a4de_53c0_11ea_999a_71276007fdd7row35_col3\" class=\"data row35 col3\" >20.6637</td>\n",
       "            </tr>\n",
       "            <tr>\n",
       "                                <th id=\"T_4875a4de_53c0_11ea_999a_71276007fdd7level1_row36\" class=\"row_heading level1 row36\" >Jilin</th>\n",
       "                        <td id=\"T_4875a4de_53c0_11ea_999a_71276007fdd7row36_col0\" class=\"data row36 col0\" >90</td>\n",
       "                        <td id=\"T_4875a4de_53c0_11ea_999a_71276007fdd7row36_col1\" class=\"data row36 col1\" >1</td>\n",
       "                        <td id=\"T_4875a4de_53c0_11ea_999a_71276007fdd7row36_col2\" class=\"data row36 col2\" >37</td>\n",
       "                        <td id=\"T_4875a4de_53c0_11ea_999a_71276007fdd7row36_col3\" class=\"data row36 col3\" >3.27749</td>\n",
       "            </tr>\n",
       "            <tr>\n",
       "                                <th id=\"T_4875a4de_53c0_11ea_999a_71276007fdd7level1_row37\" class=\"row_heading level1 row37\" >Liaoning</th>\n",
       "                        <td id=\"T_4875a4de_53c0_11ea_999a_71276007fdd7row37_col0\" class=\"data row37 col0\" >121</td>\n",
       "                        <td id=\"T_4875a4de_53c0_11ea_999a_71276007fdd7row37_col1\" class=\"data row37 col1\" >1</td>\n",
       "                        <td id=\"T_4875a4de_53c0_11ea_999a_71276007fdd7row37_col2\" class=\"data row37 col2\" >55</td>\n",
       "                        <td id=\"T_4875a4de_53c0_11ea_999a_71276007fdd7row37_col3\" class=\"data row37 col3\" >2.75626</td>\n",
       "            </tr>\n",
       "            <tr>\n",
       "                                <th id=\"T_4875a4de_53c0_11ea_999a_71276007fdd7level1_row38\" class=\"row_heading level1 row38\" >Ningxia</th>\n",
       "                        <td id=\"T_4875a4de_53c0_11ea_999a_71276007fdd7row38_col0\" class=\"data row38 col0\" >71</td>\n",
       "                        <td id=\"T_4875a4de_53c0_11ea_999a_71276007fdd7row38_col1\" class=\"data row38 col1\" >0</td>\n",
       "                        <td id=\"T_4875a4de_53c0_11ea_999a_71276007fdd7row38_col2\" class=\"data row38 col2\" >42</td>\n",
       "                        <td id=\"T_4875a4de_53c0_11ea_999a_71276007fdd7row38_col3\" class=\"data row38 col3\" >11.2698</td>\n",
       "            </tr>\n",
       "            <tr>\n",
       "                                <th id=\"T_4875a4de_53c0_11ea_999a_71276007fdd7level1_row39\" class=\"row_heading level1 row39\" >Qinghai</th>\n",
       "                        <td id=\"T_4875a4de_53c0_11ea_999a_71276007fdd7row39_col0\" class=\"data row39 col0\" >18</td>\n",
       "                        <td id=\"T_4875a4de_53c0_11ea_999a_71276007fdd7row39_col1\" class=\"data row39 col1\" >0</td>\n",
       "                        <td id=\"T_4875a4de_53c0_11ea_999a_71276007fdd7row39_col2\" class=\"data row39 col2\" >16</td>\n",
       "                        <td id=\"T_4875a4de_53c0_11ea_999a_71276007fdd7row39_col3\" class=\"data row39 col3\" >3.21429</td>\n",
       "            </tr>\n",
       "            <tr>\n",
       "                                <th id=\"T_4875a4de_53c0_11ea_999a_71276007fdd7level1_row40\" class=\"row_heading level1 row40\" >Shaanxi</th>\n",
       "                        <td id=\"T_4875a4de_53c0_11ea_999a_71276007fdd7row40_col0\" class=\"data row40 col0\" >242</td>\n",
       "                        <td id=\"T_4875a4de_53c0_11ea_999a_71276007fdd7row40_col1\" class=\"data row40 col1\" >0</td>\n",
       "                        <td id=\"T_4875a4de_53c0_11ea_999a_71276007fdd7row40_col2\" class=\"data row40 col2\" >102</td>\n",
       "                        <td id=\"T_4875a4de_53c0_11ea_999a_71276007fdd7row40_col3\" class=\"data row40 col3\" >6.48272</td>\n",
       "            </tr>\n",
       "            <tr>\n",
       "                                <th id=\"T_4875a4de_53c0_11ea_999a_71276007fdd7level1_row41\" class=\"row_heading level1 row41\" >Shandong</th>\n",
       "                        <td id=\"T_4875a4de_53c0_11ea_999a_71276007fdd7row41_col0\" class=\"data row41 col0\" >544</td>\n",
       "                        <td id=\"T_4875a4de_53c0_11ea_999a_71276007fdd7row41_col1\" class=\"data row41 col1\" >3</td>\n",
       "                        <td id=\"T_4875a4de_53c0_11ea_999a_71276007fdd7row41_col2\" class=\"data row41 col2\" >231</td>\n",
       "                        <td id=\"T_4875a4de_53c0_11ea_999a_71276007fdd7row41_col3\" class=\"data row41 col3\" >6.04444</td>\n",
       "            </tr>\n",
       "            <tr>\n",
       "                                <th id=\"T_4875a4de_53c0_11ea_999a_71276007fdd7level1_row42\" class=\"row_heading level1 row42\" >Shanghai</th>\n",
       "                        <td id=\"T_4875a4de_53c0_11ea_999a_71276007fdd7row42_col0\" class=\"data row42 col0\" >333</td>\n",
       "                        <td id=\"T_4875a4de_53c0_11ea_999a_71276007fdd7row42_col1\" class=\"data row42 col1\" >2</td>\n",
       "                        <td id=\"T_4875a4de_53c0_11ea_999a_71276007fdd7row42_col2\" class=\"data row42 col2\" >186</td>\n",
       "                        <td id=\"T_4875a4de_53c0_11ea_999a_71276007fdd7row42_col3\" class=\"data row42 col3\" >13.7376</td>\n",
       "            </tr>\n",
       "            <tr>\n",
       "                                <th id=\"T_4875a4de_53c0_11ea_999a_71276007fdd7level1_row43\" class=\"row_heading level1 row43\" >Shanxi</th>\n",
       "                        <td id=\"T_4875a4de_53c0_11ea_999a_71276007fdd7row43_col0\" class=\"data row43 col0\" >131</td>\n",
       "                        <td id=\"T_4875a4de_53c0_11ea_999a_71276007fdd7row43_col1\" class=\"data row43 col1\" >0</td>\n",
       "                        <td id=\"T_4875a4de_53c0_11ea_999a_71276007fdd7row43_col2\" class=\"data row43 col2\" >68</td>\n",
       "                        <td id=\"T_4875a4de_53c0_11ea_999a_71276007fdd7row43_col3\" class=\"data row43 col3\" >3.58904</td>\n",
       "            </tr>\n",
       "            <tr>\n",
       "                                <th id=\"T_4875a4de_53c0_11ea_999a_71276007fdd7level1_row44\" class=\"row_heading level1 row44\" >Sichuan</th>\n",
       "                        <td id=\"T_4875a4de_53c0_11ea_999a_71276007fdd7row44_col0\" class=\"data row44 col0\" >514</td>\n",
       "                        <td id=\"T_4875a4de_53c0_11ea_999a_71276007fdd7row44_col1\" class=\"data row44 col1\" >3</td>\n",
       "                        <td id=\"T_4875a4de_53c0_11ea_999a_71276007fdd7row44_col2\" class=\"data row44 col2\" >188</td>\n",
       "                        <td id=\"T_4875a4de_53c0_11ea_999a_71276007fdd7row44_col3\" class=\"data row44 col3\" >6.33785</td>\n",
       "            </tr>\n",
       "            <tr>\n",
       "                                <th id=\"T_4875a4de_53c0_11ea_999a_71276007fdd7level1_row45\" class=\"row_heading level1 row45\" >Tianjin</th>\n",
       "                        <td id=\"T_4875a4de_53c0_11ea_999a_71276007fdd7row45_col0\" class=\"data row45 col0\" >130</td>\n",
       "                        <td id=\"T_4875a4de_53c0_11ea_999a_71276007fdd7row45_col1\" class=\"data row45 col1\" >3</td>\n",
       "                        <td id=\"T_4875a4de_53c0_11ea_999a_71276007fdd7row45_col2\" class=\"data row45 col2\" >54</td>\n",
       "                        <td id=\"T_4875a4de_53c0_11ea_999a_71276007fdd7row45_col3\" class=\"data row45 col3\" >8.66667</td>\n",
       "            </tr>\n",
       "            <tr>\n",
       "                                <th id=\"T_4875a4de_53c0_11ea_999a_71276007fdd7level1_row46\" class=\"row_heading level1 row46\" >Tibet</th>\n",
       "                        <td id=\"T_4875a4de_53c0_11ea_999a_71276007fdd7row46_col0\" class=\"data row46 col0\" >1</td>\n",
       "                        <td id=\"T_4875a4de_53c0_11ea_999a_71276007fdd7row46_col1\" class=\"data row46 col1\" >0</td>\n",
       "                        <td id=\"T_4875a4de_53c0_11ea_999a_71276007fdd7row46_col2\" class=\"data row46 col2\" >1</td>\n",
       "                        <td id=\"T_4875a4de_53c0_11ea_999a_71276007fdd7row46_col3\" class=\"data row46 col3\" >0.3125</td>\n",
       "            </tr>\n",
       "            <tr>\n",
       "                                <th id=\"T_4875a4de_53c0_11ea_999a_71276007fdd7level1_row47\" class=\"row_heading level1 row47\" >Xinjiang</th>\n",
       "                        <td id=\"T_4875a4de_53c0_11ea_999a_71276007fdd7row47_col0\" class=\"data row47 col0\" >76</td>\n",
       "                        <td id=\"T_4875a4de_53c0_11ea_999a_71276007fdd7row47_col1\" class=\"data row47 col1\" >1</td>\n",
       "                        <td id=\"T_4875a4de_53c0_11ea_999a_71276007fdd7row47_col2\" class=\"data row47 col2\" >20</td>\n",
       "                        <td id=\"T_4875a4de_53c0_11ea_999a_71276007fdd7row47_col3\" class=\"data row47 col3\" >3.45455</td>\n",
       "            </tr>\n",
       "            <tr>\n",
       "                                <th id=\"T_4875a4de_53c0_11ea_999a_71276007fdd7level1_row48\" class=\"row_heading level1 row48\" >Yunnan</th>\n",
       "                        <td id=\"T_4875a4de_53c0_11ea_999a_71276007fdd7row48_col0\" class=\"data row48 col0\" >172</td>\n",
       "                        <td id=\"T_4875a4de_53c0_11ea_999a_71276007fdd7row48_col1\" class=\"data row48 col1\" >1</td>\n",
       "                        <td id=\"T_4875a4de_53c0_11ea_999a_71276007fdd7row48_col2\" class=\"data row48 col2\" >60</td>\n",
       "                        <td id=\"T_4875a4de_53c0_11ea_999a_71276007fdd7row48_col3\" class=\"data row48 col3\" >3.73913</td>\n",
       "            </tr>\n",
       "            <tr>\n",
       "                                <th id=\"T_4875a4de_53c0_11ea_999a_71276007fdd7level1_row49\" class=\"row_heading level1 row49\" >Zhejiang</th>\n",
       "                        <td id=\"T_4875a4de_53c0_11ea_999a_71276007fdd7row49_col0\" class=\"data row49 col0\" >1174</td>\n",
       "                        <td id=\"T_4875a4de_53c0_11ea_999a_71276007fdd7row49_col1\" class=\"data row49 col1\" >0</td>\n",
       "                        <td id=\"T_4875a4de_53c0_11ea_999a_71276007fdd7row49_col2\" class=\"data row49 col2\" >604</td>\n",
       "                        <td id=\"T_4875a4de_53c0_11ea_999a_71276007fdd7row49_col3\" class=\"data row49 col3\" >20.453</td>\n",
       "            </tr>\n",
       "            <tr>\n",
       "                        <th id=\"T_4875a4de_53c0_11ea_999a_71276007fdd7level0_row50\" class=\"row_heading level0 row50\" >Malaysia</th>\n",
       "                        <th id=\"T_4875a4de_53c0_11ea_999a_71276007fdd7level1_row50\" class=\"row_heading level1 row50\" >NA</th>\n",
       "                        <td id=\"T_4875a4de_53c0_11ea_999a_71276007fdd7row50_col0\" class=\"data row50 col0\" >22</td>\n",
       "                        <td id=\"T_4875a4de_53c0_11ea_999a_71276007fdd7row50_col1\" class=\"data row50 col1\" >0</td>\n",
       "                        <td id=\"T_4875a4de_53c0_11ea_999a_71276007fdd7row50_col2\" class=\"data row50 col2\" >15</td>\n",
       "                        <td id=\"T_4875a4de_53c0_11ea_999a_71276007fdd7row50_col3\" class=\"data row50 col3\" >0.695762</td>\n",
       "            </tr>\n",
       "            <tr>\n",
       "                        <th id=\"T_4875a4de_53c0_11ea_999a_71276007fdd7level0_row51\" class=\"row_heading level0 row51\" >Nepal</th>\n",
       "                        <th id=\"T_4875a4de_53c0_11ea_999a_71276007fdd7level1_row51\" class=\"row_heading level1 row51\" >NA</th>\n",
       "                        <td id=\"T_4875a4de_53c0_11ea_999a_71276007fdd7row51_col0\" class=\"data row51 col0\" >1</td>\n",
       "                        <td id=\"T_4875a4de_53c0_11ea_999a_71276007fdd7row51_col1\" class=\"data row51 col1\" >0</td>\n",
       "                        <td id=\"T_4875a4de_53c0_11ea_999a_71276007fdd7row51_col2\" class=\"data row51 col2\" >1</td>\n",
       "                        <td id=\"T_4875a4de_53c0_11ea_999a_71276007fdd7row51_col3\" class=\"data row51 col3\" >0.0341297</td>\n",
       "            </tr>\n",
       "            <tr>\n",
       "                        <th id=\"T_4875a4de_53c0_11ea_999a_71276007fdd7level0_row52\" class=\"row_heading level0 row52\" >Philippines</th>\n",
       "                        <th id=\"T_4875a4de_53c0_11ea_999a_71276007fdd7level1_row52\" class=\"row_heading level1 row52\" >NA</th>\n",
       "                        <td id=\"T_4875a4de_53c0_11ea_999a_71276007fdd7row52_col0\" class=\"data row52 col0\" >3</td>\n",
       "                        <td id=\"T_4875a4de_53c0_11ea_999a_71276007fdd7row52_col1\" class=\"data row52 col1\" >1</td>\n",
       "                        <td id=\"T_4875a4de_53c0_11ea_999a_71276007fdd7row52_col2\" class=\"data row52 col2\" >1</td>\n",
       "                        <td id=\"T_4875a4de_53c0_11ea_999a_71276007fdd7row52_col3\" class=\"data row52 col3\" >0.0285987</td>\n",
       "            </tr>\n",
       "            <tr>\n",
       "                        <th id=\"T_4875a4de_53c0_11ea_999a_71276007fdd7level0_row53\" class=\"row_heading level0 row53\" >Russia</th>\n",
       "                        <th id=\"T_4875a4de_53c0_11ea_999a_71276007fdd7level1_row53\" class=\"row_heading level1 row53\" >NA</th>\n",
       "                        <td id=\"T_4875a4de_53c0_11ea_999a_71276007fdd7row53_col0\" class=\"data row53 col0\" >2</td>\n",
       "                        <td id=\"T_4875a4de_53c0_11ea_999a_71276007fdd7row53_col1\" class=\"data row53 col1\" >0</td>\n",
       "                        <td id=\"T_4875a4de_53c0_11ea_999a_71276007fdd7row53_col2\" class=\"data row53 col2\" >2</td>\n",
       "                        <td id=\"T_4875a4de_53c0_11ea_999a_71276007fdd7row53_col3\" class=\"data row53 col3\" >0.0138408</td>\n",
       "            </tr>\n",
       "            <tr>\n",
       "                        <th id=\"T_4875a4de_53c0_11ea_999a_71276007fdd7level0_row54\" class=\"row_heading level0 row54\" >Singapore</th>\n",
       "                        <th id=\"T_4875a4de_53c0_11ea_999a_71276007fdd7level1_row54\" class=\"row_heading level1 row54\" >NA</th>\n",
       "                        <td id=\"T_4875a4de_53c0_11ea_999a_71276007fdd7row54_col0\" class=\"data row54 col0\" >84</td>\n",
       "                        <td id=\"T_4875a4de_53c0_11ea_999a_71276007fdd7row54_col1\" class=\"data row54 col1\" >0</td>\n",
       "                        <td id=\"T_4875a4de_53c0_11ea_999a_71276007fdd7row54_col2\" class=\"data row54 col2\" >34</td>\n",
       "                        <td id=\"T_4875a4de_53c0_11ea_999a_71276007fdd7row54_col3\" class=\"data row54 col3\" >15</td>\n",
       "            </tr>\n",
       "            <tr>\n",
       "                        <th id=\"T_4875a4de_53c0_11ea_999a_71276007fdd7level0_row55\" class=\"row_heading level0 row55\" >South Korea</th>\n",
       "                        <th id=\"T_4875a4de_53c0_11ea_999a_71276007fdd7level1_row55\" class=\"row_heading level1 row55\" >NA</th>\n",
       "                        <td id=\"T_4875a4de_53c0_11ea_999a_71276007fdd7row55_col0\" class=\"data row55 col0\" >31</td>\n",
       "                        <td id=\"T_4875a4de_53c0_11ea_999a_71276007fdd7row55_col1\" class=\"data row55 col1\" >0</td>\n",
       "                        <td id=\"T_4875a4de_53c0_11ea_999a_71276007fdd7row55_col2\" class=\"data row55 col2\" >12</td>\n",
       "                        <td id=\"T_4875a4de_53c0_11ea_999a_71276007fdd7row55_col3\" class=\"data row55 col3\" >0.602293</td>\n",
       "            </tr>\n",
       "            <tr>\n",
       "                        <th id=\"T_4875a4de_53c0_11ea_999a_71276007fdd7level0_row56\" class=\"row_heading level0 row56\" >Spain</th>\n",
       "                        <th id=\"T_4875a4de_53c0_11ea_999a_71276007fdd7level1_row56\" class=\"row_heading level1 row56\" >NA</th>\n",
       "                        <td id=\"T_4875a4de_53c0_11ea_999a_71276007fdd7row56_col0\" class=\"data row56 col0\" >2</td>\n",
       "                        <td id=\"T_4875a4de_53c0_11ea_999a_71276007fdd7row56_col1\" class=\"data row56 col1\" >0</td>\n",
       "                        <td id=\"T_4875a4de_53c0_11ea_999a_71276007fdd7row56_col2\" class=\"data row56 col2\" >2</td>\n",
       "                        <td id=\"T_4875a4de_53c0_11ea_999a_71276007fdd7row56_col3\" class=\"data row56 col3\" >0.0428633</td>\n",
       "            </tr>\n",
       "            <tr>\n",
       "                        <th id=\"T_4875a4de_53c0_11ea_999a_71276007fdd7level0_row57\" class=\"row_heading level0 row57\" >Sri Lanka</th>\n",
       "                        <th id=\"T_4875a4de_53c0_11ea_999a_71276007fdd7level1_row57\" class=\"row_heading level1 row57\" >NA</th>\n",
       "                        <td id=\"T_4875a4de_53c0_11ea_999a_71276007fdd7row57_col0\" class=\"data row57 col0\" >1</td>\n",
       "                        <td id=\"T_4875a4de_53c0_11ea_999a_71276007fdd7row57_col1\" class=\"data row57 col1\" >0</td>\n",
       "                        <td id=\"T_4875a4de_53c0_11ea_999a_71276007fdd7row57_col2\" class=\"data row57 col2\" >1</td>\n",
       "                        <td id=\"T_4875a4de_53c0_11ea_999a_71276007fdd7row57_col3\" class=\"data row57 col3\" >0.0466418</td>\n",
       "            </tr>\n",
       "            <tr>\n",
       "                        <th id=\"T_4875a4de_53c0_11ea_999a_71276007fdd7level0_row58\" class=\"row_heading level0 row58\" >Sweden</th>\n",
       "                        <th id=\"T_4875a4de_53c0_11ea_999a_71276007fdd7level1_row58\" class=\"row_heading level1 row58\" >NA</th>\n",
       "                        <td id=\"T_4875a4de_53c0_11ea_999a_71276007fdd7row58_col0\" class=\"data row58 col0\" >1</td>\n",
       "                        <td id=\"T_4875a4de_53c0_11ea_999a_71276007fdd7row58_col1\" class=\"data row58 col1\" >0</td>\n",
       "                        <td id=\"T_4875a4de_53c0_11ea_999a_71276007fdd7row58_col2\" class=\"data row58 col2\" >0</td>\n",
       "                        <td id=\"T_4875a4de_53c0_11ea_999a_71276007fdd7row58_col3\" class=\"data row58 col3\" >0.0988142</td>\n",
       "            </tr>\n",
       "            <tr>\n",
       "                        <th id=\"T_4875a4de_53c0_11ea_999a_71276007fdd7level0_row59\" class=\"row_heading level0 row59\" >Taiwan</th>\n",
       "                        <th id=\"T_4875a4de_53c0_11ea_999a_71276007fdd7level1_row59\" class=\"row_heading level1 row59\" >Taiwan</th>\n",
       "                        <td id=\"T_4875a4de_53c0_11ea_999a_71276007fdd7row59_col0\" class=\"data row59 col0\" >23</td>\n",
       "                        <td id=\"T_4875a4de_53c0_11ea_999a_71276007fdd7row59_col1\" class=\"data row59 col1\" >1</td>\n",
       "                        <td id=\"T_4875a4de_53c0_11ea_999a_71276007fdd7row59_col2\" class=\"data row59 col2\" >2</td>\n",
       "                        <td id=\"T_4875a4de_53c0_11ea_999a_71276007fdd7row59_col3\" class=\"data row59 col3\" >0.967199</td>\n",
       "            </tr>\n",
       "            <tr>\n",
       "                        <th id=\"T_4875a4de_53c0_11ea_999a_71276007fdd7level0_row60\" class=\"row_heading level0 row60\" >Thailand</th>\n",
       "                        <th id=\"T_4875a4de_53c0_11ea_999a_71276007fdd7level1_row60\" class=\"row_heading level1 row60\" >NA</th>\n",
       "                        <td id=\"T_4875a4de_53c0_11ea_999a_71276007fdd7row60_col0\" class=\"data row60 col0\" >35</td>\n",
       "                        <td id=\"T_4875a4de_53c0_11ea_999a_71276007fdd7row60_col1\" class=\"data row60 col1\" >0</td>\n",
       "                        <td id=\"T_4875a4de_53c0_11ea_999a_71276007fdd7row60_col2\" class=\"data row60 col2\" >15</td>\n",
       "                        <td id=\"T_4875a4de_53c0_11ea_999a_71276007fdd7row60_col3\" class=\"data row60 col3\" >0.506952</td>\n",
       "            </tr>\n",
       "            <tr>\n",
       "                        <th id=\"T_4875a4de_53c0_11ea_999a_71276007fdd7level0_row61\" class=\"row_heading level0 row61\" >UK</th>\n",
       "                        <th id=\"T_4875a4de_53c0_11ea_999a_71276007fdd7level1_row61\" class=\"row_heading level1 row61\" >NA</th>\n",
       "                        <td id=\"T_4875a4de_53c0_11ea_999a_71276007fdd7row61_col0\" class=\"data row61 col0\" >9</td>\n",
       "                        <td id=\"T_4875a4de_53c0_11ea_999a_71276007fdd7row61_col1\" class=\"data row61 col1\" >0</td>\n",
       "                        <td id=\"T_4875a4de_53c0_11ea_999a_71276007fdd7row61_col2\" class=\"data row61 col2\" >8</td>\n",
       "                        <td id=\"T_4875a4de_53c0_11ea_999a_71276007fdd7row61_col3\" class=\"data row61 col3\" >0.135461</td>\n",
       "            </tr>\n",
       "            <tr>\n",
       "                        <th id=\"T_4875a4de_53c0_11ea_999a_71276007fdd7level0_row62\" class=\"row_heading level0 row62\" rowspan=11>US</th>\n",
       "                        <th id=\"T_4875a4de_53c0_11ea_999a_71276007fdd7level1_row62\" class=\"row_heading level1 row62\" >Boston, MA</th>\n",
       "                        <td id=\"T_4875a4de_53c0_11ea_999a_71276007fdd7row62_col0\" class=\"data row62 col0\" >1</td>\n",
       "                        <td id=\"T_4875a4de_53c0_11ea_999a_71276007fdd7row62_col1\" class=\"data row62 col1\" >0</td>\n",
       "                        <td id=\"T_4875a4de_53c0_11ea_999a_71276007fdd7row62_col2\" class=\"data row62 col2\" >0</td>\n",
       "                        <td id=\"T_4875a4de_53c0_11ea_999a_71276007fdd7row62_col3\" class=\"data row62 col3\" >1.45985</td>\n",
       "            </tr>\n",
       "            <tr>\n",
       "                                <th id=\"T_4875a4de_53c0_11ea_999a_71276007fdd7level1_row63\" class=\"row_heading level1 row63\" >Chicago, IL</th>\n",
       "                        <td id=\"T_4875a4de_53c0_11ea_999a_71276007fdd7row63_col0\" class=\"data row63 col0\" >2</td>\n",
       "                        <td id=\"T_4875a4de_53c0_11ea_999a_71276007fdd7row63_col1\" class=\"data row63 col1\" >0</td>\n",
       "                        <td id=\"T_4875a4de_53c0_11ea_999a_71276007fdd7row63_col2\" class=\"data row63 col2\" >2</td>\n",
       "                        <td id=\"T_4875a4de_53c0_11ea_999a_71276007fdd7row63_col3\" class=\"data row63 col3\" >0.740741</td>\n",
       "            </tr>\n",
       "            <tr>\n",
       "                                <th id=\"T_4875a4de_53c0_11ea_999a_71276007fdd7level1_row64\" class=\"row_heading level1 row64\" >Los Angeles, CA</th>\n",
       "                        <td id=\"T_4875a4de_53c0_11ea_999a_71276007fdd7row64_col0\" class=\"data row64 col0\" >1</td>\n",
       "                        <td id=\"T_4875a4de_53c0_11ea_999a_71276007fdd7row64_col1\" class=\"data row64 col1\" >0</td>\n",
       "                        <td id=\"T_4875a4de_53c0_11ea_999a_71276007fdd7row64_col2\" class=\"data row64 col2\" >0</td>\n",
       "                        <td id=\"T_4875a4de_53c0_11ea_999a_71276007fdd7row64_col3\" class=\"data row64 col3\" >0.25</td>\n",
       "            </tr>\n",
       "            <tr>\n",
       "                                <th id=\"T_4875a4de_53c0_11ea_999a_71276007fdd7level1_row65\" class=\"row_heading level1 row65\" >Madison, WI</th>\n",
       "                        <td id=\"T_4875a4de_53c0_11ea_999a_71276007fdd7row65_col0\" class=\"data row65 col0\" >1</td>\n",
       "                        <td id=\"T_4875a4de_53c0_11ea_999a_71276007fdd7row65_col1\" class=\"data row65 col1\" >0</td>\n",
       "                        <td id=\"T_4875a4de_53c0_11ea_999a_71276007fdd7row65_col2\" class=\"data row65 col2\" >0</td>\n",
       "                        <td id=\"T_4875a4de_53c0_11ea_999a_71276007fdd7row65_col3\" class=\"data row65 col3\" >3.92157</td>\n",
       "            </tr>\n",
       "            <tr>\n",
       "                                <th id=\"T_4875a4de_53c0_11ea_999a_71276007fdd7level1_row66\" class=\"row_heading level1 row66\" >Orange, CA</th>\n",
       "                        <td id=\"T_4875a4de_53c0_11ea_999a_71276007fdd7row66_col0\" class=\"data row66 col0\" >1</td>\n",
       "                        <td id=\"T_4875a4de_53c0_11ea_999a_71276007fdd7row66_col1\" class=\"data row66 col1\" >0</td>\n",
       "                        <td id=\"T_4875a4de_53c0_11ea_999a_71276007fdd7row66_col2\" class=\"data row66 col2\" >0</td>\n",
       "                        <td id=\"T_4875a4de_53c0_11ea_999a_71276007fdd7row66_col3\" class=\"data row66 col3\" >7.14286</td>\n",
       "            </tr>\n",
       "            <tr>\n",
       "                                <th id=\"T_4875a4de_53c0_11ea_999a_71276007fdd7level1_row67\" class=\"row_heading level1 row67\" >San Antonio, TX</th>\n",
       "                        <td id=\"T_4875a4de_53c0_11ea_999a_71276007fdd7row67_col0\" class=\"data row67 col0\" >1</td>\n",
       "                        <td id=\"T_4875a4de_53c0_11ea_999a_71276007fdd7row67_col1\" class=\"data row67 col1\" >0</td>\n",
       "                        <td id=\"T_4875a4de_53c0_11ea_999a_71276007fdd7row67_col2\" class=\"data row67 col2\" >0</td>\n",
       "                        <td id=\"T_4875a4de_53c0_11ea_999a_71276007fdd7row67_col3\" class=\"data row67 col3\" >0.1</td>\n",
       "            </tr>\n",
       "            <tr>\n",
       "                                <th id=\"T_4875a4de_53c0_11ea_999a_71276007fdd7level1_row68\" class=\"row_heading level1 row68\" >San Benito, CA</th>\n",
       "                        <td id=\"T_4875a4de_53c0_11ea_999a_71276007fdd7row68_col0\" class=\"data row68 col0\" >2</td>\n",
       "                        <td id=\"T_4875a4de_53c0_11ea_999a_71276007fdd7row68_col1\" class=\"data row68 col1\" >0</td>\n",
       "                        <td id=\"T_4875a4de_53c0_11ea_999a_71276007fdd7row68_col2\" class=\"data row68 col2\" >0</td>\n",
       "                        <td id=\"T_4875a4de_53c0_11ea_999a_71276007fdd7row68_col3\" class=\"data row68 col3\" >33.3333</td>\n",
       "            </tr>\n",
       "            <tr>\n",
       "                                <th id=\"T_4875a4de_53c0_11ea_999a_71276007fdd7level1_row69\" class=\"row_heading level1 row69\" >San Diego County, CA</th>\n",
       "                        <td id=\"T_4875a4de_53c0_11ea_999a_71276007fdd7row69_col0\" class=\"data row69 col0\" >2</td>\n",
       "                        <td id=\"T_4875a4de_53c0_11ea_999a_71276007fdd7row69_col1\" class=\"data row69 col1\" >0</td>\n",
       "                        <td id=\"T_4875a4de_53c0_11ea_999a_71276007fdd7row69_col2\" class=\"data row69 col2\" >0</td>\n",
       "                        <td id=\"T_4875a4de_53c0_11ea_999a_71276007fdd7row69_col3\" class=\"data row69 col3\" >0.2</td>\n",
       "            </tr>\n",
       "            <tr>\n",
       "                                <th id=\"T_4875a4de_53c0_11ea_999a_71276007fdd7level1_row70\" class=\"row_heading level1 row70\" >Santa Clara, CA</th>\n",
       "                        <td id=\"T_4875a4de_53c0_11ea_999a_71276007fdd7row70_col0\" class=\"data row70 col0\" >2</td>\n",
       "                        <td id=\"T_4875a4de_53c0_11ea_999a_71276007fdd7row70_col1\" class=\"data row70 col1\" >0</td>\n",
       "                        <td id=\"T_4875a4de_53c0_11ea_999a_71276007fdd7row70_col2\" class=\"data row70 col2\" >0</td>\n",
       "                        <td id=\"T_4875a4de_53c0_11ea_999a_71276007fdd7row70_col3\" class=\"data row70 col3\" >15.748</td>\n",
       "            </tr>\n",
       "            <tr>\n",
       "                                <th id=\"T_4875a4de_53c0_11ea_999a_71276007fdd7level1_row71\" class=\"row_heading level1 row71\" >Seattle, WA</th>\n",
       "                        <td id=\"T_4875a4de_53c0_11ea_999a_71276007fdd7row71_col0\" class=\"data row71 col0\" >1</td>\n",
       "                        <td id=\"T_4875a4de_53c0_11ea_999a_71276007fdd7row71_col1\" class=\"data row71 col1\" >0</td>\n",
       "                        <td id=\"T_4875a4de_53c0_11ea_999a_71276007fdd7row71_col2\" class=\"data row71 col2\" >1</td>\n",
       "                        <td id=\"T_4875a4de_53c0_11ea_999a_71276007fdd7row71_col3\" class=\"data row71 col3\" >1.38889</td>\n",
       "            </tr>\n",
       "            <tr>\n",
       "                                <th id=\"T_4875a4de_53c0_11ea_999a_71276007fdd7level1_row72\" class=\"row_heading level1 row72\" >Tempe, AZ</th>\n",
       "                        <td id=\"T_4875a4de_53c0_11ea_999a_71276007fdd7row72_col0\" class=\"data row72 col0\" >1</td>\n",
       "                        <td id=\"T_4875a4de_53c0_11ea_999a_71276007fdd7row72_col1\" class=\"data row72 col1\" >0</td>\n",
       "                        <td id=\"T_4875a4de_53c0_11ea_999a_71276007fdd7row72_col2\" class=\"data row72 col2\" >0</td>\n",
       "                        <td id=\"T_4875a4de_53c0_11ea_999a_71276007fdd7row72_col3\" class=\"data row72 col3\" >5.40541</td>\n",
       "            </tr>\n",
       "            <tr>\n",
       "                        <th id=\"T_4875a4de_53c0_11ea_999a_71276007fdd7level0_row73\" class=\"row_heading level0 row73\" >United Arab Emirates</th>\n",
       "                        <th id=\"T_4875a4de_53c0_11ea_999a_71276007fdd7level1_row73\" class=\"row_heading level1 row73\" >NA</th>\n",
       "                        <td id=\"T_4875a4de_53c0_11ea_999a_71276007fdd7row73_col0\" class=\"data row73 col0\" >9</td>\n",
       "                        <td id=\"T_4875a4de_53c0_11ea_999a_71276007fdd7row73_col1\" class=\"data row73 col1\" >0</td>\n",
       "                        <td id=\"T_4875a4de_53c0_11ea_999a_71276007fdd7row73_col2\" class=\"data row73 col2\" >4</td>\n",
       "                        <td id=\"T_4875a4de_53c0_11ea_999a_71276007fdd7row73_col3\" class=\"data row73 col3\" >0.957447</td>\n",
       "            </tr>\n",
       "            <tr>\n",
       "                        <th id=\"T_4875a4de_53c0_11ea_999a_71276007fdd7level0_row74\" class=\"row_heading level0 row74\" >Vietnam</th>\n",
       "                        <th id=\"T_4875a4de_53c0_11ea_999a_71276007fdd7level1_row74\" class=\"row_heading level1 row74\" >NA</th>\n",
       "                        <td id=\"T_4875a4de_53c0_11ea_999a_71276007fdd7row74_col0\" class=\"data row74 col0\" >16</td>\n",
       "                        <td id=\"T_4875a4de_53c0_11ea_999a_71276007fdd7row74_col1\" class=\"data row74 col1\" >0</td>\n",
       "                        <td id=\"T_4875a4de_53c0_11ea_999a_71276007fdd7row74_col2\" class=\"data row74 col2\" >7</td>\n",
       "                        <td id=\"T_4875a4de_53c0_11ea_999a_71276007fdd7row74_col3\" class=\"data row74 col3\" >0.167469</td>\n",
       "            </tr>\n",
       "    </tbody></table>"
      ],
      "text/plain": [
       "<pandas.io.formats.style.Styler at 0x7fc733b14b38>"
      ]
     },
     "execution_count": 175,
     "metadata": {},
     "output_type": "execute_result"
    }
   ],
   "source": [
    "temp = full_latest.groupby(['Country/Region', 'Province/State'])['Confirmed', 'Deaths', 'Recovered','population'].max()\n",
    "temp['severity'] = temp.Confirmed/temp.population\n",
    "temp.drop(columns='population', inplace = True)\n",
    "temp.style.background_gradient(cmap='Pastel1_r')"
   ]
  },
  {
   "cell_type": "code",
   "execution_count": null,
   "metadata": {},
   "outputs": [],
   "source": []
  },
  {
   "cell_type": "code",
   "execution_count": null,
   "metadata": {},
   "outputs": [],
   "source": []
  },
  {
   "cell_type": "code",
   "execution_count": null,
   "metadata": {},
   "outputs": [],
   "source": []
  },
  {
   "cell_type": "code",
   "execution_count": 191,
   "metadata": {},
   "outputs": [
    {
     "data": {
      "text/html": [
       "<div>\n",
       "<style scoped>\n",
       "    .dataframe tbody tr th:only-of-type {\n",
       "        vertical-align: middle;\n",
       "    }\n",
       "\n",
       "    .dataframe tbody tr th {\n",
       "        vertical-align: top;\n",
       "    }\n",
       "\n",
       "    .dataframe thead th {\n",
       "        text-align: right;\n",
       "    }\n",
       "</style>\n",
       "<table border=\"1\" class=\"dataframe\">\n",
       "  <thead>\n",
       "    <tr style=\"text-align: right;\">\n",
       "      <th></th>\n",
       "      <th>Province/State</th>\n",
       "      <th>Country/Region</th>\n",
       "      <th>Lat</th>\n",
       "      <th>Long</th>\n",
       "      <th>Date</th>\n",
       "      <th>Confirmed</th>\n",
       "      <th>Deaths</th>\n",
       "      <th>Recovered</th>\n",
       "      <th>population</th>\n",
       "    </tr>\n",
       "  </thead>\n",
       "  <tbody>\n",
       "    <tr>\n",
       "      <th>0</th>\n",
       "      <td>Anhui</td>\n",
       "      <td>Mainland China</td>\n",
       "      <td>31.82571</td>\n",
       "      <td>117.2264</td>\n",
       "      <td>2020-01-22</td>\n",
       "      <td>1</td>\n",
       "      <td>0</td>\n",
       "      <td>0</td>\n",
       "      <td>62.00</td>\n",
       "    </tr>\n",
       "    <tr>\n",
       "      <th>1</th>\n",
       "      <td>Beijing</td>\n",
       "      <td>Mainland China</td>\n",
       "      <td>40.18238</td>\n",
       "      <td>116.4142</td>\n",
       "      <td>2020-01-22</td>\n",
       "      <td>14</td>\n",
       "      <td>0</td>\n",
       "      <td>0</td>\n",
       "      <td>21.54</td>\n",
       "    </tr>\n",
       "    <tr>\n",
       "      <th>2</th>\n",
       "      <td>Chongqing</td>\n",
       "      <td>Mainland China</td>\n",
       "      <td>30.05718</td>\n",
       "      <td>107.8740</td>\n",
       "      <td>2020-01-22</td>\n",
       "      <td>6</td>\n",
       "      <td>0</td>\n",
       "      <td>0</td>\n",
       "      <td>30.48</td>\n",
       "    </tr>\n",
       "    <tr>\n",
       "      <th>3</th>\n",
       "      <td>Fujian</td>\n",
       "      <td>Mainland China</td>\n",
       "      <td>26.07783</td>\n",
       "      <td>117.9895</td>\n",
       "      <td>2020-01-22</td>\n",
       "      <td>1</td>\n",
       "      <td>0</td>\n",
       "      <td>0</td>\n",
       "      <td>38.56</td>\n",
       "    </tr>\n",
       "    <tr>\n",
       "      <th>4</th>\n",
       "      <td>Gansu</td>\n",
       "      <td>Mainland China</td>\n",
       "      <td>36.06110</td>\n",
       "      <td>103.8343</td>\n",
       "      <td>2020-01-22</td>\n",
       "      <td>0</td>\n",
       "      <td>0</td>\n",
       "      <td>0</td>\n",
       "      <td>25.58</td>\n",
       "    </tr>\n",
       "  </tbody>\n",
       "</table>\n",
       "</div>"
      ],
      "text/plain": [
       "  Province/State  Country/Region       Lat      Long       Date  Confirmed  \\\n",
       "0          Anhui  Mainland China  31.82571  117.2264 2020-01-22          1   \n",
       "1        Beijing  Mainland China  40.18238  116.4142 2020-01-22         14   \n",
       "2      Chongqing  Mainland China  30.05718  107.8740 2020-01-22          6   \n",
       "3         Fujian  Mainland China  26.07783  117.9895 2020-01-22          1   \n",
       "4          Gansu  Mainland China  36.06110  103.8343 2020-01-22          0   \n",
       "\n",
       "   Deaths  Recovered  population  \n",
       "0       0          0       62.00  \n",
       "1       0          0       21.54  \n",
       "2       0          0       30.48  \n",
       "3       0          0       38.56  \n",
       "4       0          0       25.58  "
      ]
     },
     "execution_count": 191,
     "metadata": {},
     "output_type": "execute_result"
    }
   ],
   "source": [
    "full_table.head()"
   ]
  },
  {
   "cell_type": "code",
   "execution_count": 193,
   "metadata": {},
   "outputs": [
    {
     "data": {
      "application/vnd.plotly.v1+json": {
       "config": {
        "plotlyServerURL": "https://plot.ly"
       },
       "data": [
        {
         "branchvalues": "total",
         "domain": {
          "x": [
           0,
           1
          ],
          "y": [
           0,
           1
          ]
         },
         "hoverlabel": {
          "namelength": 0
         },
         "hovertemplate": "labels=%{label}<br>Confirmed=%{value}<br>parent=%{parent}<br>id=%{id}",
         "ids": [
          "Anhui",
          "Beijing",
          "Chongqing",
          "Fujian",
          "Gansu",
          "Guangdong",
          "Guangxi",
          "Guizhou",
          "Hainan",
          "Hebei",
          "Heilongjiang",
          "Henan",
          "Hubei",
          "Hunan",
          "Inner Mongolia",
          "Jiangsu",
          "Jiangxi",
          "Jilin",
          "Liaoning",
          "Ningxia",
          "Qinghai",
          "Shaanxi",
          "Shandong",
          "Shanghai",
          "Shanxi",
          "Sichuan",
          "Tianjin",
          "Tibet",
          "Xinjiang",
          "Yunnan",
          "Zhejiang"
         ],
         "labels": [
          "Anhui",
          "Beijing",
          "Chongqing",
          "Fujian",
          "Gansu",
          "Guangdong",
          "Guangxi",
          "Guizhou",
          "Hainan",
          "Hebei",
          "Heilongjiang",
          "Henan",
          "Hubei",
          "Hunan",
          "Inner Mongolia",
          "Jiangsu",
          "Jiangxi",
          "Jilin",
          "Liaoning",
          "Ningxia",
          "Qinghai",
          "Shaanxi",
          "Shandong",
          "Shanghai",
          "Shanxi",
          "Sichuan",
          "Tianjin",
          "Tibet",
          "Xinjiang",
          "Yunnan",
          "Zhejiang"
         ],
         "name": "",
         "parents": [
          "",
          "",
          "",
          "",
          "",
          "",
          "",
          "",
          "",
          "",
          "",
          "",
          "",
          "",
          "",
          "",
          "",
          "",
          "",
          "",
          "",
          "",
          "",
          "",
          "",
          "",
          "",
          "",
          "",
          "",
          ""
         ],
         "type": "treemap",
         "values": [
          986,
          393,
          560,
          293,
          91,
          1331,
          244,
          146,
          168,
          306,
          470,
          1262,
          62031,
          1008,
          75,
          631,
          934,
          90,
          121,
          71,
          18,
          242,
          544,
          333,
          131,
          514,
          130,
          1,
          76,
          172,
          1174
         ]
        }
       ],
       "layout": {
        "legend": {
         "tracegroupgap": 0
        },
        "template": {
         "data": {
          "bar": [
           {
            "error_x": {
             "color": "#2a3f5f"
            },
            "error_y": {
             "color": "#2a3f5f"
            },
            "marker": {
             "line": {
              "color": "#E5ECF6",
              "width": 0.5
             }
            },
            "type": "bar"
           }
          ],
          "barpolar": [
           {
            "marker": {
             "line": {
              "color": "#E5ECF6",
              "width": 0.5
             }
            },
            "type": "barpolar"
           }
          ],
          "carpet": [
           {
            "aaxis": {
             "endlinecolor": "#2a3f5f",
             "gridcolor": "white",
             "linecolor": "white",
             "minorgridcolor": "white",
             "startlinecolor": "#2a3f5f"
            },
            "baxis": {
             "endlinecolor": "#2a3f5f",
             "gridcolor": "white",
             "linecolor": "white",
             "minorgridcolor": "white",
             "startlinecolor": "#2a3f5f"
            },
            "type": "carpet"
           }
          ],
          "choropleth": [
           {
            "colorbar": {
             "outlinewidth": 0,
             "ticks": ""
            },
            "type": "choropleth"
           }
          ],
          "contour": [
           {
            "colorbar": {
             "outlinewidth": 0,
             "ticks": ""
            },
            "colorscale": [
             [
              0,
              "#0d0887"
             ],
             [
              0.1111111111111111,
              "#46039f"
             ],
             [
              0.2222222222222222,
              "#7201a8"
             ],
             [
              0.3333333333333333,
              "#9c179e"
             ],
             [
              0.4444444444444444,
              "#bd3786"
             ],
             [
              0.5555555555555556,
              "#d8576b"
             ],
             [
              0.6666666666666666,
              "#ed7953"
             ],
             [
              0.7777777777777778,
              "#fb9f3a"
             ],
             [
              0.8888888888888888,
              "#fdca26"
             ],
             [
              1,
              "#f0f921"
             ]
            ],
            "type": "contour"
           }
          ],
          "contourcarpet": [
           {
            "colorbar": {
             "outlinewidth": 0,
             "ticks": ""
            },
            "type": "contourcarpet"
           }
          ],
          "heatmap": [
           {
            "colorbar": {
             "outlinewidth": 0,
             "ticks": ""
            },
            "colorscale": [
             [
              0,
              "#0d0887"
             ],
             [
              0.1111111111111111,
              "#46039f"
             ],
             [
              0.2222222222222222,
              "#7201a8"
             ],
             [
              0.3333333333333333,
              "#9c179e"
             ],
             [
              0.4444444444444444,
              "#bd3786"
             ],
             [
              0.5555555555555556,
              "#d8576b"
             ],
             [
              0.6666666666666666,
              "#ed7953"
             ],
             [
              0.7777777777777778,
              "#fb9f3a"
             ],
             [
              0.8888888888888888,
              "#fdca26"
             ],
             [
              1,
              "#f0f921"
             ]
            ],
            "type": "heatmap"
           }
          ],
          "heatmapgl": [
           {
            "colorbar": {
             "outlinewidth": 0,
             "ticks": ""
            },
            "colorscale": [
             [
              0,
              "#0d0887"
             ],
             [
              0.1111111111111111,
              "#46039f"
             ],
             [
              0.2222222222222222,
              "#7201a8"
             ],
             [
              0.3333333333333333,
              "#9c179e"
             ],
             [
              0.4444444444444444,
              "#bd3786"
             ],
             [
              0.5555555555555556,
              "#d8576b"
             ],
             [
              0.6666666666666666,
              "#ed7953"
             ],
             [
              0.7777777777777778,
              "#fb9f3a"
             ],
             [
              0.8888888888888888,
              "#fdca26"
             ],
             [
              1,
              "#f0f921"
             ]
            ],
            "type": "heatmapgl"
           }
          ],
          "histogram": [
           {
            "marker": {
             "colorbar": {
              "outlinewidth": 0,
              "ticks": ""
             }
            },
            "type": "histogram"
           }
          ],
          "histogram2d": [
           {
            "colorbar": {
             "outlinewidth": 0,
             "ticks": ""
            },
            "colorscale": [
             [
              0,
              "#0d0887"
             ],
             [
              0.1111111111111111,
              "#46039f"
             ],
             [
              0.2222222222222222,
              "#7201a8"
             ],
             [
              0.3333333333333333,
              "#9c179e"
             ],
             [
              0.4444444444444444,
              "#bd3786"
             ],
             [
              0.5555555555555556,
              "#d8576b"
             ],
             [
              0.6666666666666666,
              "#ed7953"
             ],
             [
              0.7777777777777778,
              "#fb9f3a"
             ],
             [
              0.8888888888888888,
              "#fdca26"
             ],
             [
              1,
              "#f0f921"
             ]
            ],
            "type": "histogram2d"
           }
          ],
          "histogram2dcontour": [
           {
            "colorbar": {
             "outlinewidth": 0,
             "ticks": ""
            },
            "colorscale": [
             [
              0,
              "#0d0887"
             ],
             [
              0.1111111111111111,
              "#46039f"
             ],
             [
              0.2222222222222222,
              "#7201a8"
             ],
             [
              0.3333333333333333,
              "#9c179e"
             ],
             [
              0.4444444444444444,
              "#bd3786"
             ],
             [
              0.5555555555555556,
              "#d8576b"
             ],
             [
              0.6666666666666666,
              "#ed7953"
             ],
             [
              0.7777777777777778,
              "#fb9f3a"
             ],
             [
              0.8888888888888888,
              "#fdca26"
             ],
             [
              1,
              "#f0f921"
             ]
            ],
            "type": "histogram2dcontour"
           }
          ],
          "mesh3d": [
           {
            "colorbar": {
             "outlinewidth": 0,
             "ticks": ""
            },
            "type": "mesh3d"
           }
          ],
          "parcoords": [
           {
            "line": {
             "colorbar": {
              "outlinewidth": 0,
              "ticks": ""
             }
            },
            "type": "parcoords"
           }
          ],
          "pie": [
           {
            "automargin": true,
            "type": "pie"
           }
          ],
          "scatter": [
           {
            "marker": {
             "colorbar": {
              "outlinewidth": 0,
              "ticks": ""
             }
            },
            "type": "scatter"
           }
          ],
          "scatter3d": [
           {
            "line": {
             "colorbar": {
              "outlinewidth": 0,
              "ticks": ""
             }
            },
            "marker": {
             "colorbar": {
              "outlinewidth": 0,
              "ticks": ""
             }
            },
            "type": "scatter3d"
           }
          ],
          "scattercarpet": [
           {
            "marker": {
             "colorbar": {
              "outlinewidth": 0,
              "ticks": ""
             }
            },
            "type": "scattercarpet"
           }
          ],
          "scattergeo": [
           {
            "marker": {
             "colorbar": {
              "outlinewidth": 0,
              "ticks": ""
             }
            },
            "type": "scattergeo"
           }
          ],
          "scattergl": [
           {
            "marker": {
             "colorbar": {
              "outlinewidth": 0,
              "ticks": ""
             }
            },
            "type": "scattergl"
           }
          ],
          "scattermapbox": [
           {
            "marker": {
             "colorbar": {
              "outlinewidth": 0,
              "ticks": ""
             }
            },
            "type": "scattermapbox"
           }
          ],
          "scatterpolar": [
           {
            "marker": {
             "colorbar": {
              "outlinewidth": 0,
              "ticks": ""
             }
            },
            "type": "scatterpolar"
           }
          ],
          "scatterpolargl": [
           {
            "marker": {
             "colorbar": {
              "outlinewidth": 0,
              "ticks": ""
             }
            },
            "type": "scatterpolargl"
           }
          ],
          "scatterternary": [
           {
            "marker": {
             "colorbar": {
              "outlinewidth": 0,
              "ticks": ""
             }
            },
            "type": "scatterternary"
           }
          ],
          "surface": [
           {
            "colorbar": {
             "outlinewidth": 0,
             "ticks": ""
            },
            "colorscale": [
             [
              0,
              "#0d0887"
             ],
             [
              0.1111111111111111,
              "#46039f"
             ],
             [
              0.2222222222222222,
              "#7201a8"
             ],
             [
              0.3333333333333333,
              "#9c179e"
             ],
             [
              0.4444444444444444,
              "#bd3786"
             ],
             [
              0.5555555555555556,
              "#d8576b"
             ],
             [
              0.6666666666666666,
              "#ed7953"
             ],
             [
              0.7777777777777778,
              "#fb9f3a"
             ],
             [
              0.8888888888888888,
              "#fdca26"
             ],
             [
              1,
              "#f0f921"
             ]
            ],
            "type": "surface"
           }
          ],
          "table": [
           {
            "cells": {
             "fill": {
              "color": "#EBF0F8"
             },
             "line": {
              "color": "white"
             }
            },
            "header": {
             "fill": {
              "color": "#C8D4E3"
             },
             "line": {
              "color": "white"
             }
            },
            "type": "table"
           }
          ]
         },
         "layout": {
          "annotationdefaults": {
           "arrowcolor": "#2a3f5f",
           "arrowhead": 0,
           "arrowwidth": 1
          },
          "coloraxis": {
           "colorbar": {
            "outlinewidth": 0,
            "ticks": ""
           }
          },
          "colorscale": {
           "diverging": [
            [
             0,
             "#8e0152"
            ],
            [
             0.1,
             "#c51b7d"
            ],
            [
             0.2,
             "#de77ae"
            ],
            [
             0.3,
             "#f1b6da"
            ],
            [
             0.4,
             "#fde0ef"
            ],
            [
             0.5,
             "#f7f7f7"
            ],
            [
             0.6,
             "#e6f5d0"
            ],
            [
             0.7,
             "#b8e186"
            ],
            [
             0.8,
             "#7fbc41"
            ],
            [
             0.9,
             "#4d9221"
            ],
            [
             1,
             "#276419"
            ]
           ],
           "sequential": [
            [
             0,
             "#0d0887"
            ],
            [
             0.1111111111111111,
             "#46039f"
            ],
            [
             0.2222222222222222,
             "#7201a8"
            ],
            [
             0.3333333333333333,
             "#9c179e"
            ],
            [
             0.4444444444444444,
             "#bd3786"
            ],
            [
             0.5555555555555556,
             "#d8576b"
            ],
            [
             0.6666666666666666,
             "#ed7953"
            ],
            [
             0.7777777777777778,
             "#fb9f3a"
            ],
            [
             0.8888888888888888,
             "#fdca26"
            ],
            [
             1,
             "#f0f921"
            ]
           ],
           "sequentialminus": [
            [
             0,
             "#0d0887"
            ],
            [
             0.1111111111111111,
             "#46039f"
            ],
            [
             0.2222222222222222,
             "#7201a8"
            ],
            [
             0.3333333333333333,
             "#9c179e"
            ],
            [
             0.4444444444444444,
             "#bd3786"
            ],
            [
             0.5555555555555556,
             "#d8576b"
            ],
            [
             0.6666666666666666,
             "#ed7953"
            ],
            [
             0.7777777777777778,
             "#fb9f3a"
            ],
            [
             0.8888888888888888,
             "#fdca26"
            ],
            [
             1,
             "#f0f921"
            ]
           ]
          },
          "colorway": [
           "#636efa",
           "#EF553B",
           "#00cc96",
           "#ab63fa",
           "#FFA15A",
           "#19d3f3",
           "#FF6692",
           "#B6E880",
           "#FF97FF",
           "#FECB52"
          ],
          "font": {
           "color": "#2a3f5f"
          },
          "geo": {
           "bgcolor": "white",
           "lakecolor": "white",
           "landcolor": "#E5ECF6",
           "showlakes": true,
           "showland": true,
           "subunitcolor": "white"
          },
          "hoverlabel": {
           "align": "left"
          },
          "hovermode": "closest",
          "mapbox": {
           "style": "light"
          },
          "paper_bgcolor": "white",
          "plot_bgcolor": "#E5ECF6",
          "polar": {
           "angularaxis": {
            "gridcolor": "white",
            "linecolor": "white",
            "ticks": ""
           },
           "bgcolor": "#E5ECF6",
           "radialaxis": {
            "gridcolor": "white",
            "linecolor": "white",
            "ticks": ""
           }
          },
          "scene": {
           "xaxis": {
            "backgroundcolor": "#E5ECF6",
            "gridcolor": "white",
            "gridwidth": 2,
            "linecolor": "white",
            "showbackground": true,
            "ticks": "",
            "zerolinecolor": "white"
           },
           "yaxis": {
            "backgroundcolor": "#E5ECF6",
            "gridcolor": "white",
            "gridwidth": 2,
            "linecolor": "white",
            "showbackground": true,
            "ticks": "",
            "zerolinecolor": "white"
           },
           "zaxis": {
            "backgroundcolor": "#E5ECF6",
            "gridcolor": "white",
            "gridwidth": 2,
            "linecolor": "white",
            "showbackground": true,
            "ticks": "",
            "zerolinecolor": "white"
           }
          },
          "shapedefaults": {
           "line": {
            "color": "#2a3f5f"
           }
          },
          "ternary": {
           "aaxis": {
            "gridcolor": "white",
            "linecolor": "white",
            "ticks": ""
           },
           "baxis": {
            "gridcolor": "white",
            "linecolor": "white",
            "ticks": ""
           },
           "bgcolor": "#E5ECF6",
           "caxis": {
            "gridcolor": "white",
            "linecolor": "white",
            "ticks": ""
           }
          },
          "title": {
           "x": 0.05
          },
          "xaxis": {
           "automargin": true,
           "gridcolor": "white",
           "linecolor": "white",
           "ticks": "",
           "title": {
            "standoff": 15
           },
           "zerolinecolor": "white",
           "zerolinewidth": 2
          },
          "yaxis": {
           "automargin": true,
           "gridcolor": "white",
           "linecolor": "white",
           "ticks": "",
           "title": {
            "standoff": 15
           },
           "zerolinecolor": "white",
           "zerolinewidth": 2
          }
         }
        },
        "title": {
         "text": "Number of Confirmed Cases in Chinese Provinces"
        }
       }
      },
      "text/html": [
       "<div>\n",
       "        \n",
       "        \n",
       "            <div id=\"668e3729-fdff-4887-a5db-f1dbbe3a68ab\" class=\"plotly-graph-div\" style=\"height:525px; width:100%;\"></div>\n",
       "            <script type=\"text/javascript\">\n",
       "                require([\"plotly\"], function(Plotly) {\n",
       "                    window.PLOTLYENV=window.PLOTLYENV || {};\n",
       "                    \n",
       "                if (document.getElementById(\"668e3729-fdff-4887-a5db-f1dbbe3a68ab\")) {\n",
       "                    Plotly.newPlot(\n",
       "                        '668e3729-fdff-4887-a5db-f1dbbe3a68ab',\n",
       "                        [{\"branchvalues\": \"total\", \"domain\": {\"x\": [0.0, 1.0], \"y\": [0.0, 1.0]}, \"hoverlabel\": {\"namelength\": 0}, \"hovertemplate\": \"labels=%{label}<br>Confirmed=%{value}<br>parent=%{parent}<br>id=%{id}\", \"ids\": [\"Anhui\", \"Beijing\", \"Chongqing\", \"Fujian\", \"Gansu\", \"Guangdong\", \"Guangxi\", \"Guizhou\", \"Hainan\", \"Hebei\", \"Heilongjiang\", \"Henan\", \"Hubei\", \"Hunan\", \"Inner Mongolia\", \"Jiangsu\", \"Jiangxi\", \"Jilin\", \"Liaoning\", \"Ningxia\", \"Qinghai\", \"Shaanxi\", \"Shandong\", \"Shanghai\", \"Shanxi\", \"Sichuan\", \"Tianjin\", \"Tibet\", \"Xinjiang\", \"Yunnan\", \"Zhejiang\"], \"labels\": [\"Anhui\", \"Beijing\", \"Chongqing\", \"Fujian\", \"Gansu\", \"Guangdong\", \"Guangxi\", \"Guizhou\", \"Hainan\", \"Hebei\", \"Heilongjiang\", \"Henan\", \"Hubei\", \"Hunan\", \"Inner Mongolia\", \"Jiangsu\", \"Jiangxi\", \"Jilin\", \"Liaoning\", \"Ningxia\", \"Qinghai\", \"Shaanxi\", \"Shandong\", \"Shanghai\", \"Shanxi\", \"Sichuan\", \"Tianjin\", \"Tibet\", \"Xinjiang\", \"Yunnan\", \"Zhejiang\"], \"name\": \"\", \"parents\": [\"\", \"\", \"\", \"\", \"\", \"\", \"\", \"\", \"\", \"\", \"\", \"\", \"\", \"\", \"\", \"\", \"\", \"\", \"\", \"\", \"\", \"\", \"\", \"\", \"\", \"\", \"\", \"\", \"\", \"\", \"\"], \"type\": \"treemap\", \"values\": [986, 393, 560, 293, 91, 1331, 244, 146, 168, 306, 470, 1262, 62031, 1008, 75, 631, 934, 90, 121, 71, 18, 242, 544, 333, 131, 514, 130, 1, 76, 172, 1174]}],\n",
       "                        {\"legend\": {\"tracegroupgap\": 0}, \"template\": {\"data\": {\"bar\": [{\"error_x\": {\"color\": \"#2a3f5f\"}, \"error_y\": {\"color\": \"#2a3f5f\"}, \"marker\": {\"line\": {\"color\": \"#E5ECF6\", \"width\": 0.5}}, \"type\": \"bar\"}], \"barpolar\": [{\"marker\": {\"line\": {\"color\": \"#E5ECF6\", \"width\": 0.5}}, \"type\": \"barpolar\"}], \"carpet\": [{\"aaxis\": {\"endlinecolor\": \"#2a3f5f\", \"gridcolor\": \"white\", \"linecolor\": \"white\", \"minorgridcolor\": \"white\", \"startlinecolor\": \"#2a3f5f\"}, \"baxis\": {\"endlinecolor\": \"#2a3f5f\", \"gridcolor\": \"white\", \"linecolor\": \"white\", \"minorgridcolor\": \"white\", \"startlinecolor\": \"#2a3f5f\"}, \"type\": \"carpet\"}], \"choropleth\": [{\"colorbar\": {\"outlinewidth\": 0, \"ticks\": \"\"}, \"type\": \"choropleth\"}], \"contour\": [{\"colorbar\": {\"outlinewidth\": 0, \"ticks\": \"\"}, \"colorscale\": [[0.0, \"#0d0887\"], [0.1111111111111111, \"#46039f\"], [0.2222222222222222, \"#7201a8\"], [0.3333333333333333, \"#9c179e\"], [0.4444444444444444, \"#bd3786\"], [0.5555555555555556, \"#d8576b\"], [0.6666666666666666, \"#ed7953\"], [0.7777777777777778, \"#fb9f3a\"], [0.8888888888888888, \"#fdca26\"], [1.0, \"#f0f921\"]], \"type\": \"contour\"}], \"contourcarpet\": [{\"colorbar\": {\"outlinewidth\": 0, \"ticks\": \"\"}, \"type\": \"contourcarpet\"}], \"heatmap\": [{\"colorbar\": {\"outlinewidth\": 0, \"ticks\": \"\"}, \"colorscale\": [[0.0, \"#0d0887\"], [0.1111111111111111, \"#46039f\"], [0.2222222222222222, \"#7201a8\"], [0.3333333333333333, \"#9c179e\"], [0.4444444444444444, \"#bd3786\"], [0.5555555555555556, \"#d8576b\"], [0.6666666666666666, \"#ed7953\"], [0.7777777777777778, \"#fb9f3a\"], [0.8888888888888888, \"#fdca26\"], [1.0, \"#f0f921\"]], \"type\": \"heatmap\"}], \"heatmapgl\": [{\"colorbar\": {\"outlinewidth\": 0, \"ticks\": \"\"}, \"colorscale\": [[0.0, \"#0d0887\"], [0.1111111111111111, \"#46039f\"], [0.2222222222222222, \"#7201a8\"], [0.3333333333333333, \"#9c179e\"], [0.4444444444444444, \"#bd3786\"], [0.5555555555555556, \"#d8576b\"], [0.6666666666666666, \"#ed7953\"], [0.7777777777777778, \"#fb9f3a\"], [0.8888888888888888, \"#fdca26\"], [1.0, \"#f0f921\"]], \"type\": \"heatmapgl\"}], \"histogram\": [{\"marker\": {\"colorbar\": {\"outlinewidth\": 0, \"ticks\": \"\"}}, \"type\": \"histogram\"}], \"histogram2d\": [{\"colorbar\": {\"outlinewidth\": 0, \"ticks\": \"\"}, \"colorscale\": [[0.0, \"#0d0887\"], [0.1111111111111111, \"#46039f\"], [0.2222222222222222, \"#7201a8\"], [0.3333333333333333, \"#9c179e\"], [0.4444444444444444, \"#bd3786\"], [0.5555555555555556, \"#d8576b\"], [0.6666666666666666, \"#ed7953\"], [0.7777777777777778, \"#fb9f3a\"], [0.8888888888888888, \"#fdca26\"], [1.0, \"#f0f921\"]], \"type\": \"histogram2d\"}], \"histogram2dcontour\": [{\"colorbar\": {\"outlinewidth\": 0, \"ticks\": \"\"}, \"colorscale\": [[0.0, \"#0d0887\"], [0.1111111111111111, \"#46039f\"], [0.2222222222222222, \"#7201a8\"], [0.3333333333333333, \"#9c179e\"], [0.4444444444444444, \"#bd3786\"], [0.5555555555555556, \"#d8576b\"], [0.6666666666666666, \"#ed7953\"], [0.7777777777777778, \"#fb9f3a\"], [0.8888888888888888, \"#fdca26\"], [1.0, \"#f0f921\"]], \"type\": \"histogram2dcontour\"}], \"mesh3d\": [{\"colorbar\": {\"outlinewidth\": 0, \"ticks\": \"\"}, \"type\": \"mesh3d\"}], \"parcoords\": [{\"line\": {\"colorbar\": {\"outlinewidth\": 0, \"ticks\": \"\"}}, \"type\": \"parcoords\"}], \"pie\": [{\"automargin\": true, \"type\": \"pie\"}], \"scatter\": [{\"marker\": {\"colorbar\": {\"outlinewidth\": 0, \"ticks\": \"\"}}, \"type\": \"scatter\"}], \"scatter3d\": [{\"line\": {\"colorbar\": {\"outlinewidth\": 0, \"ticks\": \"\"}}, \"marker\": {\"colorbar\": {\"outlinewidth\": 0, \"ticks\": \"\"}}, \"type\": \"scatter3d\"}], \"scattercarpet\": [{\"marker\": {\"colorbar\": {\"outlinewidth\": 0, \"ticks\": \"\"}}, \"type\": \"scattercarpet\"}], \"scattergeo\": [{\"marker\": {\"colorbar\": {\"outlinewidth\": 0, \"ticks\": \"\"}}, \"type\": \"scattergeo\"}], \"scattergl\": [{\"marker\": {\"colorbar\": {\"outlinewidth\": 0, \"ticks\": \"\"}}, \"type\": \"scattergl\"}], \"scattermapbox\": [{\"marker\": {\"colorbar\": {\"outlinewidth\": 0, \"ticks\": \"\"}}, \"type\": \"scattermapbox\"}], \"scatterpolar\": [{\"marker\": {\"colorbar\": {\"outlinewidth\": 0, \"ticks\": \"\"}}, \"type\": \"scatterpolar\"}], \"scatterpolargl\": [{\"marker\": {\"colorbar\": {\"outlinewidth\": 0, \"ticks\": \"\"}}, \"type\": \"scatterpolargl\"}], \"scatterternary\": [{\"marker\": {\"colorbar\": {\"outlinewidth\": 0, \"ticks\": \"\"}}, \"type\": \"scatterternary\"}], \"surface\": [{\"colorbar\": {\"outlinewidth\": 0, \"ticks\": \"\"}, \"colorscale\": [[0.0, \"#0d0887\"], [0.1111111111111111, \"#46039f\"], [0.2222222222222222, \"#7201a8\"], [0.3333333333333333, \"#9c179e\"], [0.4444444444444444, \"#bd3786\"], [0.5555555555555556, \"#d8576b\"], [0.6666666666666666, \"#ed7953\"], [0.7777777777777778, \"#fb9f3a\"], [0.8888888888888888, \"#fdca26\"], [1.0, \"#f0f921\"]], \"type\": \"surface\"}], \"table\": [{\"cells\": {\"fill\": {\"color\": \"#EBF0F8\"}, \"line\": {\"color\": \"white\"}}, \"header\": {\"fill\": {\"color\": \"#C8D4E3\"}, \"line\": {\"color\": \"white\"}}, \"type\": \"table\"}]}, \"layout\": {\"annotationdefaults\": {\"arrowcolor\": \"#2a3f5f\", \"arrowhead\": 0, \"arrowwidth\": 1}, \"coloraxis\": {\"colorbar\": {\"outlinewidth\": 0, \"ticks\": \"\"}}, \"colorscale\": {\"diverging\": [[0, \"#8e0152\"], [0.1, \"#c51b7d\"], [0.2, \"#de77ae\"], [0.3, \"#f1b6da\"], [0.4, \"#fde0ef\"], [0.5, \"#f7f7f7\"], [0.6, \"#e6f5d0\"], [0.7, \"#b8e186\"], [0.8, \"#7fbc41\"], [0.9, \"#4d9221\"], [1, \"#276419\"]], \"sequential\": [[0.0, \"#0d0887\"], [0.1111111111111111, \"#46039f\"], [0.2222222222222222, \"#7201a8\"], [0.3333333333333333, \"#9c179e\"], [0.4444444444444444, \"#bd3786\"], [0.5555555555555556, \"#d8576b\"], [0.6666666666666666, \"#ed7953\"], [0.7777777777777778, \"#fb9f3a\"], [0.8888888888888888, \"#fdca26\"], [1.0, \"#f0f921\"]], \"sequentialminus\": [[0.0, \"#0d0887\"], [0.1111111111111111, \"#46039f\"], [0.2222222222222222, \"#7201a8\"], [0.3333333333333333, \"#9c179e\"], [0.4444444444444444, \"#bd3786\"], [0.5555555555555556, \"#d8576b\"], [0.6666666666666666, \"#ed7953\"], [0.7777777777777778, \"#fb9f3a\"], [0.8888888888888888, \"#fdca26\"], [1.0, \"#f0f921\"]]}, \"colorway\": [\"#636efa\", \"#EF553B\", \"#00cc96\", \"#ab63fa\", \"#FFA15A\", \"#19d3f3\", \"#FF6692\", \"#B6E880\", \"#FF97FF\", \"#FECB52\"], \"font\": {\"color\": \"#2a3f5f\"}, \"geo\": {\"bgcolor\": \"white\", \"lakecolor\": \"white\", \"landcolor\": \"#E5ECF6\", \"showlakes\": true, \"showland\": true, \"subunitcolor\": \"white\"}, \"hoverlabel\": {\"align\": \"left\"}, \"hovermode\": \"closest\", \"mapbox\": {\"style\": \"light\"}, \"paper_bgcolor\": \"white\", \"plot_bgcolor\": \"#E5ECF6\", \"polar\": {\"angularaxis\": {\"gridcolor\": \"white\", \"linecolor\": \"white\", \"ticks\": \"\"}, \"bgcolor\": \"#E5ECF6\", \"radialaxis\": {\"gridcolor\": \"white\", \"linecolor\": \"white\", \"ticks\": \"\"}}, \"scene\": {\"xaxis\": {\"backgroundcolor\": \"#E5ECF6\", \"gridcolor\": \"white\", \"gridwidth\": 2, \"linecolor\": \"white\", \"showbackground\": true, \"ticks\": \"\", \"zerolinecolor\": \"white\"}, \"yaxis\": {\"backgroundcolor\": \"#E5ECF6\", \"gridcolor\": \"white\", \"gridwidth\": 2, \"linecolor\": \"white\", \"showbackground\": true, \"ticks\": \"\", \"zerolinecolor\": \"white\"}, \"zaxis\": {\"backgroundcolor\": \"#E5ECF6\", \"gridcolor\": \"white\", \"gridwidth\": 2, \"linecolor\": \"white\", \"showbackground\": true, \"ticks\": \"\", \"zerolinecolor\": \"white\"}}, \"shapedefaults\": {\"line\": {\"color\": \"#2a3f5f\"}}, \"ternary\": {\"aaxis\": {\"gridcolor\": \"white\", \"linecolor\": \"white\", \"ticks\": \"\"}, \"baxis\": {\"gridcolor\": \"white\", \"linecolor\": \"white\", \"ticks\": \"\"}, \"bgcolor\": \"#E5ECF6\", \"caxis\": {\"gridcolor\": \"white\", \"linecolor\": \"white\", \"ticks\": \"\"}}, \"title\": {\"x\": 0.05}, \"xaxis\": {\"automargin\": true, \"gridcolor\": \"white\", \"linecolor\": \"white\", \"ticks\": \"\", \"title\": {\"standoff\": 15}, \"zerolinecolor\": \"white\", \"zerolinewidth\": 2}, \"yaxis\": {\"automargin\": true, \"gridcolor\": \"white\", \"linecolor\": \"white\", \"ticks\": \"\", \"title\": {\"standoff\": 15}, \"zerolinecolor\": \"white\", \"zerolinewidth\": 2}}}, \"title\": {\"text\": \"Number of Confirmed Cases in Chinese Provinces\"}},\n",
       "                        {\"responsive\": true}\n",
       "                    ).then(function(){\n",
       "                            \n",
       "var gd = document.getElementById('668e3729-fdff-4887-a5db-f1dbbe3a68ab');\n",
       "var x = new MutationObserver(function (mutations, observer) {{\n",
       "        var display = window.getComputedStyle(gd).display;\n",
       "        if (!display || display === 'none') {{\n",
       "            console.log([gd, 'removed!']);\n",
       "            Plotly.purge(gd);\n",
       "            observer.disconnect();\n",
       "        }}\n",
       "}});\n",
       "\n",
       "// Listen for the removal of the full notebook cells\n",
       "var notebookContainer = gd.closest('#notebook-container');\n",
       "if (notebookContainer) {{\n",
       "    x.observe(notebookContainer, {childList: true});\n",
       "}}\n",
       "\n",
       "// Listen for the clearing of the current output cell\n",
       "var outputEl = gd.closest('.output');\n",
       "if (outputEl) {{\n",
       "    x.observe(outputEl, {childList: true});\n",
       "}}\n",
       "\n",
       "                        })\n",
       "                };\n",
       "                });\n",
       "            </script>\n",
       "        </div>"
      ]
     },
     "metadata": {},
     "output_type": "display_data"
    },
    {
     "data": {
      "application/vnd.plotly.v1+json": {
       "config": {
        "plotlyServerURL": "https://plot.ly"
       },
       "data": [
        {
         "branchvalues": "total",
         "domain": {
          "x": [
           0,
           1
          ],
          "y": [
           0,
           1
          ]
         },
         "hoverlabel": {
          "namelength": 0
         },
         "hovertemplate": "labels=%{label}<br>Deaths=%{value}<br>parent=%{parent}<br>id=%{id}",
         "ids": [
          "Anhui",
          "Beijing",
          "Chongqing",
          "Fujian",
          "Gansu",
          "Guangdong",
          "Guangxi",
          "Guizhou",
          "Hainan",
          "Hebei",
          "Heilongjiang",
          "Henan",
          "Hubei",
          "Hunan",
          "Inner Mongolia",
          "Jiangsu",
          "Jiangxi",
          "Jilin",
          "Liaoning",
          "Ningxia",
          "Qinghai",
          "Shaanxi",
          "Shandong",
          "Shanghai",
          "Shanxi",
          "Sichuan",
          "Tianjin",
          "Tibet",
          "Xinjiang",
          "Yunnan",
          "Zhejiang"
         ],
         "labels": [
          "Anhui",
          "Beijing",
          "Chongqing",
          "Fujian",
          "Gansu",
          "Guangdong",
          "Guangxi",
          "Guizhou",
          "Hainan",
          "Hebei",
          "Heilongjiang",
          "Henan",
          "Hubei",
          "Hunan",
          "Inner Mongolia",
          "Jiangsu",
          "Jiangxi",
          "Jilin",
          "Liaoning",
          "Ningxia",
          "Qinghai",
          "Shaanxi",
          "Shandong",
          "Shanghai",
          "Shanxi",
          "Sichuan",
          "Tianjin",
          "Tibet",
          "Xinjiang",
          "Yunnan",
          "Zhejiang"
         ],
         "name": "",
         "parents": [
          "",
          "",
          "",
          "",
          "",
          "",
          "",
          "",
          "",
          "",
          "",
          "",
          "",
          "",
          "",
          "",
          "",
          "",
          "",
          "",
          "",
          "",
          "",
          "",
          "",
          "",
          "",
          "",
          "",
          "",
          ""
         ],
         "type": "treemap",
         "values": [
          6,
          4,
          5,
          0,
          2,
          5,
          2,
          2,
          4,
          4,
          12,
          19,
          2029,
          4,
          0,
          0,
          1,
          1,
          1,
          0,
          0,
          0,
          3,
          2,
          0,
          3,
          3,
          0,
          1,
          1,
          0
         ]
        }
       ],
       "layout": {
        "legend": {
         "tracegroupgap": 0
        },
        "template": {
         "data": {
          "bar": [
           {
            "error_x": {
             "color": "#2a3f5f"
            },
            "error_y": {
             "color": "#2a3f5f"
            },
            "marker": {
             "line": {
              "color": "#E5ECF6",
              "width": 0.5
             }
            },
            "type": "bar"
           }
          ],
          "barpolar": [
           {
            "marker": {
             "line": {
              "color": "#E5ECF6",
              "width": 0.5
             }
            },
            "type": "barpolar"
           }
          ],
          "carpet": [
           {
            "aaxis": {
             "endlinecolor": "#2a3f5f",
             "gridcolor": "white",
             "linecolor": "white",
             "minorgridcolor": "white",
             "startlinecolor": "#2a3f5f"
            },
            "baxis": {
             "endlinecolor": "#2a3f5f",
             "gridcolor": "white",
             "linecolor": "white",
             "minorgridcolor": "white",
             "startlinecolor": "#2a3f5f"
            },
            "type": "carpet"
           }
          ],
          "choropleth": [
           {
            "colorbar": {
             "outlinewidth": 0,
             "ticks": ""
            },
            "type": "choropleth"
           }
          ],
          "contour": [
           {
            "colorbar": {
             "outlinewidth": 0,
             "ticks": ""
            },
            "colorscale": [
             [
              0,
              "#0d0887"
             ],
             [
              0.1111111111111111,
              "#46039f"
             ],
             [
              0.2222222222222222,
              "#7201a8"
             ],
             [
              0.3333333333333333,
              "#9c179e"
             ],
             [
              0.4444444444444444,
              "#bd3786"
             ],
             [
              0.5555555555555556,
              "#d8576b"
             ],
             [
              0.6666666666666666,
              "#ed7953"
             ],
             [
              0.7777777777777778,
              "#fb9f3a"
             ],
             [
              0.8888888888888888,
              "#fdca26"
             ],
             [
              1,
              "#f0f921"
             ]
            ],
            "type": "contour"
           }
          ],
          "contourcarpet": [
           {
            "colorbar": {
             "outlinewidth": 0,
             "ticks": ""
            },
            "type": "contourcarpet"
           }
          ],
          "heatmap": [
           {
            "colorbar": {
             "outlinewidth": 0,
             "ticks": ""
            },
            "colorscale": [
             [
              0,
              "#0d0887"
             ],
             [
              0.1111111111111111,
              "#46039f"
             ],
             [
              0.2222222222222222,
              "#7201a8"
             ],
             [
              0.3333333333333333,
              "#9c179e"
             ],
             [
              0.4444444444444444,
              "#bd3786"
             ],
             [
              0.5555555555555556,
              "#d8576b"
             ],
             [
              0.6666666666666666,
              "#ed7953"
             ],
             [
              0.7777777777777778,
              "#fb9f3a"
             ],
             [
              0.8888888888888888,
              "#fdca26"
             ],
             [
              1,
              "#f0f921"
             ]
            ],
            "type": "heatmap"
           }
          ],
          "heatmapgl": [
           {
            "colorbar": {
             "outlinewidth": 0,
             "ticks": ""
            },
            "colorscale": [
             [
              0,
              "#0d0887"
             ],
             [
              0.1111111111111111,
              "#46039f"
             ],
             [
              0.2222222222222222,
              "#7201a8"
             ],
             [
              0.3333333333333333,
              "#9c179e"
             ],
             [
              0.4444444444444444,
              "#bd3786"
             ],
             [
              0.5555555555555556,
              "#d8576b"
             ],
             [
              0.6666666666666666,
              "#ed7953"
             ],
             [
              0.7777777777777778,
              "#fb9f3a"
             ],
             [
              0.8888888888888888,
              "#fdca26"
             ],
             [
              1,
              "#f0f921"
             ]
            ],
            "type": "heatmapgl"
           }
          ],
          "histogram": [
           {
            "marker": {
             "colorbar": {
              "outlinewidth": 0,
              "ticks": ""
             }
            },
            "type": "histogram"
           }
          ],
          "histogram2d": [
           {
            "colorbar": {
             "outlinewidth": 0,
             "ticks": ""
            },
            "colorscale": [
             [
              0,
              "#0d0887"
             ],
             [
              0.1111111111111111,
              "#46039f"
             ],
             [
              0.2222222222222222,
              "#7201a8"
             ],
             [
              0.3333333333333333,
              "#9c179e"
             ],
             [
              0.4444444444444444,
              "#bd3786"
             ],
             [
              0.5555555555555556,
              "#d8576b"
             ],
             [
              0.6666666666666666,
              "#ed7953"
             ],
             [
              0.7777777777777778,
              "#fb9f3a"
             ],
             [
              0.8888888888888888,
              "#fdca26"
             ],
             [
              1,
              "#f0f921"
             ]
            ],
            "type": "histogram2d"
           }
          ],
          "histogram2dcontour": [
           {
            "colorbar": {
             "outlinewidth": 0,
             "ticks": ""
            },
            "colorscale": [
             [
              0,
              "#0d0887"
             ],
             [
              0.1111111111111111,
              "#46039f"
             ],
             [
              0.2222222222222222,
              "#7201a8"
             ],
             [
              0.3333333333333333,
              "#9c179e"
             ],
             [
              0.4444444444444444,
              "#bd3786"
             ],
             [
              0.5555555555555556,
              "#d8576b"
             ],
             [
              0.6666666666666666,
              "#ed7953"
             ],
             [
              0.7777777777777778,
              "#fb9f3a"
             ],
             [
              0.8888888888888888,
              "#fdca26"
             ],
             [
              1,
              "#f0f921"
             ]
            ],
            "type": "histogram2dcontour"
           }
          ],
          "mesh3d": [
           {
            "colorbar": {
             "outlinewidth": 0,
             "ticks": ""
            },
            "type": "mesh3d"
           }
          ],
          "parcoords": [
           {
            "line": {
             "colorbar": {
              "outlinewidth": 0,
              "ticks": ""
             }
            },
            "type": "parcoords"
           }
          ],
          "pie": [
           {
            "automargin": true,
            "type": "pie"
           }
          ],
          "scatter": [
           {
            "marker": {
             "colorbar": {
              "outlinewidth": 0,
              "ticks": ""
             }
            },
            "type": "scatter"
           }
          ],
          "scatter3d": [
           {
            "line": {
             "colorbar": {
              "outlinewidth": 0,
              "ticks": ""
             }
            },
            "marker": {
             "colorbar": {
              "outlinewidth": 0,
              "ticks": ""
             }
            },
            "type": "scatter3d"
           }
          ],
          "scattercarpet": [
           {
            "marker": {
             "colorbar": {
              "outlinewidth": 0,
              "ticks": ""
             }
            },
            "type": "scattercarpet"
           }
          ],
          "scattergeo": [
           {
            "marker": {
             "colorbar": {
              "outlinewidth": 0,
              "ticks": ""
             }
            },
            "type": "scattergeo"
           }
          ],
          "scattergl": [
           {
            "marker": {
             "colorbar": {
              "outlinewidth": 0,
              "ticks": ""
             }
            },
            "type": "scattergl"
           }
          ],
          "scattermapbox": [
           {
            "marker": {
             "colorbar": {
              "outlinewidth": 0,
              "ticks": ""
             }
            },
            "type": "scattermapbox"
           }
          ],
          "scatterpolar": [
           {
            "marker": {
             "colorbar": {
              "outlinewidth": 0,
              "ticks": ""
             }
            },
            "type": "scatterpolar"
           }
          ],
          "scatterpolargl": [
           {
            "marker": {
             "colorbar": {
              "outlinewidth": 0,
              "ticks": ""
             }
            },
            "type": "scatterpolargl"
           }
          ],
          "scatterternary": [
           {
            "marker": {
             "colorbar": {
              "outlinewidth": 0,
              "ticks": ""
             }
            },
            "type": "scatterternary"
           }
          ],
          "surface": [
           {
            "colorbar": {
             "outlinewidth": 0,
             "ticks": ""
            },
            "colorscale": [
             [
              0,
              "#0d0887"
             ],
             [
              0.1111111111111111,
              "#46039f"
             ],
             [
              0.2222222222222222,
              "#7201a8"
             ],
             [
              0.3333333333333333,
              "#9c179e"
             ],
             [
              0.4444444444444444,
              "#bd3786"
             ],
             [
              0.5555555555555556,
              "#d8576b"
             ],
             [
              0.6666666666666666,
              "#ed7953"
             ],
             [
              0.7777777777777778,
              "#fb9f3a"
             ],
             [
              0.8888888888888888,
              "#fdca26"
             ],
             [
              1,
              "#f0f921"
             ]
            ],
            "type": "surface"
           }
          ],
          "table": [
           {
            "cells": {
             "fill": {
              "color": "#EBF0F8"
             },
             "line": {
              "color": "white"
             }
            },
            "header": {
             "fill": {
              "color": "#C8D4E3"
             },
             "line": {
              "color": "white"
             }
            },
            "type": "table"
           }
          ]
         },
         "layout": {
          "annotationdefaults": {
           "arrowcolor": "#2a3f5f",
           "arrowhead": 0,
           "arrowwidth": 1
          },
          "coloraxis": {
           "colorbar": {
            "outlinewidth": 0,
            "ticks": ""
           }
          },
          "colorscale": {
           "diverging": [
            [
             0,
             "#8e0152"
            ],
            [
             0.1,
             "#c51b7d"
            ],
            [
             0.2,
             "#de77ae"
            ],
            [
             0.3,
             "#f1b6da"
            ],
            [
             0.4,
             "#fde0ef"
            ],
            [
             0.5,
             "#f7f7f7"
            ],
            [
             0.6,
             "#e6f5d0"
            ],
            [
             0.7,
             "#b8e186"
            ],
            [
             0.8,
             "#7fbc41"
            ],
            [
             0.9,
             "#4d9221"
            ],
            [
             1,
             "#276419"
            ]
           ],
           "sequential": [
            [
             0,
             "#0d0887"
            ],
            [
             0.1111111111111111,
             "#46039f"
            ],
            [
             0.2222222222222222,
             "#7201a8"
            ],
            [
             0.3333333333333333,
             "#9c179e"
            ],
            [
             0.4444444444444444,
             "#bd3786"
            ],
            [
             0.5555555555555556,
             "#d8576b"
            ],
            [
             0.6666666666666666,
             "#ed7953"
            ],
            [
             0.7777777777777778,
             "#fb9f3a"
            ],
            [
             0.8888888888888888,
             "#fdca26"
            ],
            [
             1,
             "#f0f921"
            ]
           ],
           "sequentialminus": [
            [
             0,
             "#0d0887"
            ],
            [
             0.1111111111111111,
             "#46039f"
            ],
            [
             0.2222222222222222,
             "#7201a8"
            ],
            [
             0.3333333333333333,
             "#9c179e"
            ],
            [
             0.4444444444444444,
             "#bd3786"
            ],
            [
             0.5555555555555556,
             "#d8576b"
            ],
            [
             0.6666666666666666,
             "#ed7953"
            ],
            [
             0.7777777777777778,
             "#fb9f3a"
            ],
            [
             0.8888888888888888,
             "#fdca26"
            ],
            [
             1,
             "#f0f921"
            ]
           ]
          },
          "colorway": [
           "#636efa",
           "#EF553B",
           "#00cc96",
           "#ab63fa",
           "#FFA15A",
           "#19d3f3",
           "#FF6692",
           "#B6E880",
           "#FF97FF",
           "#FECB52"
          ],
          "font": {
           "color": "#2a3f5f"
          },
          "geo": {
           "bgcolor": "white",
           "lakecolor": "white",
           "landcolor": "#E5ECF6",
           "showlakes": true,
           "showland": true,
           "subunitcolor": "white"
          },
          "hoverlabel": {
           "align": "left"
          },
          "hovermode": "closest",
          "mapbox": {
           "style": "light"
          },
          "paper_bgcolor": "white",
          "plot_bgcolor": "#E5ECF6",
          "polar": {
           "angularaxis": {
            "gridcolor": "white",
            "linecolor": "white",
            "ticks": ""
           },
           "bgcolor": "#E5ECF6",
           "radialaxis": {
            "gridcolor": "white",
            "linecolor": "white",
            "ticks": ""
           }
          },
          "scene": {
           "xaxis": {
            "backgroundcolor": "#E5ECF6",
            "gridcolor": "white",
            "gridwidth": 2,
            "linecolor": "white",
            "showbackground": true,
            "ticks": "",
            "zerolinecolor": "white"
           },
           "yaxis": {
            "backgroundcolor": "#E5ECF6",
            "gridcolor": "white",
            "gridwidth": 2,
            "linecolor": "white",
            "showbackground": true,
            "ticks": "",
            "zerolinecolor": "white"
           },
           "zaxis": {
            "backgroundcolor": "#E5ECF6",
            "gridcolor": "white",
            "gridwidth": 2,
            "linecolor": "white",
            "showbackground": true,
            "ticks": "",
            "zerolinecolor": "white"
           }
          },
          "shapedefaults": {
           "line": {
            "color": "#2a3f5f"
           }
          },
          "ternary": {
           "aaxis": {
            "gridcolor": "white",
            "linecolor": "white",
            "ticks": ""
           },
           "baxis": {
            "gridcolor": "white",
            "linecolor": "white",
            "ticks": ""
           },
           "bgcolor": "#E5ECF6",
           "caxis": {
            "gridcolor": "white",
            "linecolor": "white",
            "ticks": ""
           }
          },
          "title": {
           "x": 0.05
          },
          "xaxis": {
           "automargin": true,
           "gridcolor": "white",
           "linecolor": "white",
           "ticks": "",
           "title": {
            "standoff": 15
           },
           "zerolinecolor": "white",
           "zerolinewidth": 2
          },
          "yaxis": {
           "automargin": true,
           "gridcolor": "white",
           "linecolor": "white",
           "ticks": "",
           "title": {
            "standoff": 15
           },
           "zerolinecolor": "white",
           "zerolinewidth": 2
          }
         }
        },
        "title": {
         "text": "Number of Deaths Reported in Chinese Provinces"
        }
       }
      },
      "text/html": [
       "<div>\n",
       "        \n",
       "        \n",
       "            <div id=\"8264926d-eb0f-489f-bfe8-32cf20190870\" class=\"plotly-graph-div\" style=\"height:525px; width:100%;\"></div>\n",
       "            <script type=\"text/javascript\">\n",
       "                require([\"plotly\"], function(Plotly) {\n",
       "                    window.PLOTLYENV=window.PLOTLYENV || {};\n",
       "                    \n",
       "                if (document.getElementById(\"8264926d-eb0f-489f-bfe8-32cf20190870\")) {\n",
       "                    Plotly.newPlot(\n",
       "                        '8264926d-eb0f-489f-bfe8-32cf20190870',\n",
       "                        [{\"branchvalues\": \"total\", \"domain\": {\"x\": [0.0, 1.0], \"y\": [0.0, 1.0]}, \"hoverlabel\": {\"namelength\": 0}, \"hovertemplate\": \"labels=%{label}<br>Deaths=%{value}<br>parent=%{parent}<br>id=%{id}\", \"ids\": [\"Anhui\", \"Beijing\", \"Chongqing\", \"Fujian\", \"Gansu\", \"Guangdong\", \"Guangxi\", \"Guizhou\", \"Hainan\", \"Hebei\", \"Heilongjiang\", \"Henan\", \"Hubei\", \"Hunan\", \"Inner Mongolia\", \"Jiangsu\", \"Jiangxi\", \"Jilin\", \"Liaoning\", \"Ningxia\", \"Qinghai\", \"Shaanxi\", \"Shandong\", \"Shanghai\", \"Shanxi\", \"Sichuan\", \"Tianjin\", \"Tibet\", \"Xinjiang\", \"Yunnan\", \"Zhejiang\"], \"labels\": [\"Anhui\", \"Beijing\", \"Chongqing\", \"Fujian\", \"Gansu\", \"Guangdong\", \"Guangxi\", \"Guizhou\", \"Hainan\", \"Hebei\", \"Heilongjiang\", \"Henan\", \"Hubei\", \"Hunan\", \"Inner Mongolia\", \"Jiangsu\", \"Jiangxi\", \"Jilin\", \"Liaoning\", \"Ningxia\", \"Qinghai\", \"Shaanxi\", \"Shandong\", \"Shanghai\", \"Shanxi\", \"Sichuan\", \"Tianjin\", \"Tibet\", \"Xinjiang\", \"Yunnan\", \"Zhejiang\"], \"name\": \"\", \"parents\": [\"\", \"\", \"\", \"\", \"\", \"\", \"\", \"\", \"\", \"\", \"\", \"\", \"\", \"\", \"\", \"\", \"\", \"\", \"\", \"\", \"\", \"\", \"\", \"\", \"\", \"\", \"\", \"\", \"\", \"\", \"\"], \"type\": \"treemap\", \"values\": [6, 4, 5, 0, 2, 5, 2, 2, 4, 4, 12, 19, 2029, 4, 0, 0, 1, 1, 1, 0, 0, 0, 3, 2, 0, 3, 3, 0, 1, 1, 0]}],\n",
       "                        {\"legend\": {\"tracegroupgap\": 0}, \"template\": {\"data\": {\"bar\": [{\"error_x\": {\"color\": \"#2a3f5f\"}, \"error_y\": {\"color\": \"#2a3f5f\"}, \"marker\": {\"line\": {\"color\": \"#E5ECF6\", \"width\": 0.5}}, \"type\": \"bar\"}], \"barpolar\": [{\"marker\": {\"line\": {\"color\": \"#E5ECF6\", \"width\": 0.5}}, \"type\": \"barpolar\"}], \"carpet\": [{\"aaxis\": {\"endlinecolor\": \"#2a3f5f\", \"gridcolor\": \"white\", \"linecolor\": \"white\", \"minorgridcolor\": \"white\", \"startlinecolor\": \"#2a3f5f\"}, \"baxis\": {\"endlinecolor\": \"#2a3f5f\", \"gridcolor\": \"white\", \"linecolor\": \"white\", \"minorgridcolor\": \"white\", \"startlinecolor\": \"#2a3f5f\"}, \"type\": \"carpet\"}], \"choropleth\": [{\"colorbar\": {\"outlinewidth\": 0, \"ticks\": \"\"}, \"type\": \"choropleth\"}], \"contour\": [{\"colorbar\": {\"outlinewidth\": 0, \"ticks\": \"\"}, \"colorscale\": [[0.0, \"#0d0887\"], [0.1111111111111111, \"#46039f\"], [0.2222222222222222, \"#7201a8\"], [0.3333333333333333, \"#9c179e\"], [0.4444444444444444, \"#bd3786\"], [0.5555555555555556, \"#d8576b\"], [0.6666666666666666, \"#ed7953\"], [0.7777777777777778, \"#fb9f3a\"], [0.8888888888888888, \"#fdca26\"], [1.0, \"#f0f921\"]], \"type\": \"contour\"}], \"contourcarpet\": [{\"colorbar\": {\"outlinewidth\": 0, \"ticks\": \"\"}, \"type\": \"contourcarpet\"}], \"heatmap\": [{\"colorbar\": {\"outlinewidth\": 0, \"ticks\": \"\"}, \"colorscale\": [[0.0, \"#0d0887\"], [0.1111111111111111, \"#46039f\"], [0.2222222222222222, \"#7201a8\"], [0.3333333333333333, \"#9c179e\"], [0.4444444444444444, \"#bd3786\"], [0.5555555555555556, \"#d8576b\"], [0.6666666666666666, \"#ed7953\"], [0.7777777777777778, \"#fb9f3a\"], [0.8888888888888888, \"#fdca26\"], [1.0, \"#f0f921\"]], \"type\": \"heatmap\"}], \"heatmapgl\": [{\"colorbar\": {\"outlinewidth\": 0, \"ticks\": \"\"}, \"colorscale\": [[0.0, \"#0d0887\"], [0.1111111111111111, \"#46039f\"], [0.2222222222222222, \"#7201a8\"], [0.3333333333333333, \"#9c179e\"], [0.4444444444444444, \"#bd3786\"], [0.5555555555555556, \"#d8576b\"], [0.6666666666666666, \"#ed7953\"], [0.7777777777777778, \"#fb9f3a\"], [0.8888888888888888, \"#fdca26\"], [1.0, \"#f0f921\"]], \"type\": \"heatmapgl\"}], \"histogram\": [{\"marker\": {\"colorbar\": {\"outlinewidth\": 0, \"ticks\": \"\"}}, \"type\": \"histogram\"}], \"histogram2d\": [{\"colorbar\": {\"outlinewidth\": 0, \"ticks\": \"\"}, \"colorscale\": [[0.0, \"#0d0887\"], [0.1111111111111111, \"#46039f\"], [0.2222222222222222, \"#7201a8\"], [0.3333333333333333, \"#9c179e\"], [0.4444444444444444, \"#bd3786\"], [0.5555555555555556, \"#d8576b\"], [0.6666666666666666, \"#ed7953\"], [0.7777777777777778, \"#fb9f3a\"], [0.8888888888888888, \"#fdca26\"], [1.0, \"#f0f921\"]], \"type\": \"histogram2d\"}], \"histogram2dcontour\": [{\"colorbar\": {\"outlinewidth\": 0, \"ticks\": \"\"}, \"colorscale\": [[0.0, \"#0d0887\"], [0.1111111111111111, \"#46039f\"], [0.2222222222222222, \"#7201a8\"], [0.3333333333333333, \"#9c179e\"], [0.4444444444444444, \"#bd3786\"], [0.5555555555555556, \"#d8576b\"], [0.6666666666666666, \"#ed7953\"], [0.7777777777777778, \"#fb9f3a\"], [0.8888888888888888, \"#fdca26\"], [1.0, \"#f0f921\"]], \"type\": \"histogram2dcontour\"}], \"mesh3d\": [{\"colorbar\": {\"outlinewidth\": 0, \"ticks\": \"\"}, \"type\": \"mesh3d\"}], \"parcoords\": [{\"line\": {\"colorbar\": {\"outlinewidth\": 0, \"ticks\": \"\"}}, \"type\": \"parcoords\"}], \"pie\": [{\"automargin\": true, \"type\": \"pie\"}], \"scatter\": [{\"marker\": {\"colorbar\": {\"outlinewidth\": 0, \"ticks\": \"\"}}, \"type\": \"scatter\"}], \"scatter3d\": [{\"line\": {\"colorbar\": {\"outlinewidth\": 0, \"ticks\": \"\"}}, \"marker\": {\"colorbar\": {\"outlinewidth\": 0, \"ticks\": \"\"}}, \"type\": \"scatter3d\"}], \"scattercarpet\": [{\"marker\": {\"colorbar\": {\"outlinewidth\": 0, \"ticks\": \"\"}}, \"type\": \"scattercarpet\"}], \"scattergeo\": [{\"marker\": {\"colorbar\": {\"outlinewidth\": 0, \"ticks\": \"\"}}, \"type\": \"scattergeo\"}], \"scattergl\": [{\"marker\": {\"colorbar\": {\"outlinewidth\": 0, \"ticks\": \"\"}}, \"type\": \"scattergl\"}], \"scattermapbox\": [{\"marker\": {\"colorbar\": {\"outlinewidth\": 0, \"ticks\": \"\"}}, \"type\": \"scattermapbox\"}], \"scatterpolar\": [{\"marker\": {\"colorbar\": {\"outlinewidth\": 0, \"ticks\": \"\"}}, \"type\": \"scatterpolar\"}], \"scatterpolargl\": [{\"marker\": {\"colorbar\": {\"outlinewidth\": 0, \"ticks\": \"\"}}, \"type\": \"scatterpolargl\"}], \"scatterternary\": [{\"marker\": {\"colorbar\": {\"outlinewidth\": 0, \"ticks\": \"\"}}, \"type\": \"scatterternary\"}], \"surface\": [{\"colorbar\": {\"outlinewidth\": 0, \"ticks\": \"\"}, \"colorscale\": [[0.0, \"#0d0887\"], [0.1111111111111111, \"#46039f\"], [0.2222222222222222, \"#7201a8\"], [0.3333333333333333, \"#9c179e\"], [0.4444444444444444, \"#bd3786\"], [0.5555555555555556, \"#d8576b\"], [0.6666666666666666, \"#ed7953\"], [0.7777777777777778, \"#fb9f3a\"], [0.8888888888888888, \"#fdca26\"], [1.0, \"#f0f921\"]], \"type\": \"surface\"}], \"table\": [{\"cells\": {\"fill\": {\"color\": \"#EBF0F8\"}, \"line\": {\"color\": \"white\"}}, \"header\": {\"fill\": {\"color\": \"#C8D4E3\"}, \"line\": {\"color\": \"white\"}}, \"type\": \"table\"}]}, \"layout\": {\"annotationdefaults\": {\"arrowcolor\": \"#2a3f5f\", \"arrowhead\": 0, \"arrowwidth\": 1}, \"coloraxis\": {\"colorbar\": {\"outlinewidth\": 0, \"ticks\": \"\"}}, \"colorscale\": {\"diverging\": [[0, \"#8e0152\"], [0.1, \"#c51b7d\"], [0.2, \"#de77ae\"], [0.3, \"#f1b6da\"], [0.4, \"#fde0ef\"], [0.5, \"#f7f7f7\"], [0.6, \"#e6f5d0\"], [0.7, \"#b8e186\"], [0.8, \"#7fbc41\"], [0.9, \"#4d9221\"], [1, \"#276419\"]], \"sequential\": [[0.0, \"#0d0887\"], [0.1111111111111111, \"#46039f\"], [0.2222222222222222, \"#7201a8\"], [0.3333333333333333, \"#9c179e\"], [0.4444444444444444, \"#bd3786\"], [0.5555555555555556, \"#d8576b\"], [0.6666666666666666, \"#ed7953\"], [0.7777777777777778, \"#fb9f3a\"], [0.8888888888888888, \"#fdca26\"], [1.0, \"#f0f921\"]], \"sequentialminus\": [[0.0, \"#0d0887\"], [0.1111111111111111, \"#46039f\"], [0.2222222222222222, \"#7201a8\"], [0.3333333333333333, \"#9c179e\"], [0.4444444444444444, \"#bd3786\"], [0.5555555555555556, \"#d8576b\"], [0.6666666666666666, \"#ed7953\"], [0.7777777777777778, \"#fb9f3a\"], [0.8888888888888888, \"#fdca26\"], [1.0, \"#f0f921\"]]}, \"colorway\": [\"#636efa\", \"#EF553B\", \"#00cc96\", \"#ab63fa\", \"#FFA15A\", \"#19d3f3\", \"#FF6692\", \"#B6E880\", \"#FF97FF\", \"#FECB52\"], \"font\": {\"color\": \"#2a3f5f\"}, \"geo\": {\"bgcolor\": \"white\", \"lakecolor\": \"white\", \"landcolor\": \"#E5ECF6\", \"showlakes\": true, \"showland\": true, \"subunitcolor\": \"white\"}, \"hoverlabel\": {\"align\": \"left\"}, \"hovermode\": \"closest\", \"mapbox\": {\"style\": \"light\"}, \"paper_bgcolor\": \"white\", \"plot_bgcolor\": \"#E5ECF6\", \"polar\": {\"angularaxis\": {\"gridcolor\": \"white\", \"linecolor\": \"white\", \"ticks\": \"\"}, \"bgcolor\": \"#E5ECF6\", \"radialaxis\": {\"gridcolor\": \"white\", \"linecolor\": \"white\", \"ticks\": \"\"}}, \"scene\": {\"xaxis\": {\"backgroundcolor\": \"#E5ECF6\", \"gridcolor\": \"white\", \"gridwidth\": 2, \"linecolor\": \"white\", \"showbackground\": true, \"ticks\": \"\", \"zerolinecolor\": \"white\"}, \"yaxis\": {\"backgroundcolor\": \"#E5ECF6\", \"gridcolor\": \"white\", \"gridwidth\": 2, \"linecolor\": \"white\", \"showbackground\": true, \"ticks\": \"\", \"zerolinecolor\": \"white\"}, \"zaxis\": {\"backgroundcolor\": \"#E5ECF6\", \"gridcolor\": \"white\", \"gridwidth\": 2, \"linecolor\": \"white\", \"showbackground\": true, \"ticks\": \"\", \"zerolinecolor\": \"white\"}}, \"shapedefaults\": {\"line\": {\"color\": \"#2a3f5f\"}}, \"ternary\": {\"aaxis\": {\"gridcolor\": \"white\", \"linecolor\": \"white\", \"ticks\": \"\"}, \"baxis\": {\"gridcolor\": \"white\", \"linecolor\": \"white\", \"ticks\": \"\"}, \"bgcolor\": \"#E5ECF6\", \"caxis\": {\"gridcolor\": \"white\", \"linecolor\": \"white\", \"ticks\": \"\"}}, \"title\": {\"x\": 0.05}, \"xaxis\": {\"automargin\": true, \"gridcolor\": \"white\", \"linecolor\": \"white\", \"ticks\": \"\", \"title\": {\"standoff\": 15}, \"zerolinecolor\": \"white\", \"zerolinewidth\": 2}, \"yaxis\": {\"automargin\": true, \"gridcolor\": \"white\", \"linecolor\": \"white\", \"ticks\": \"\", \"title\": {\"standoff\": 15}, \"zerolinecolor\": \"white\", \"zerolinewidth\": 2}}}, \"title\": {\"text\": \"Number of Deaths Reported in Chinese Provinces\"}},\n",
       "                        {\"responsive\": true}\n",
       "                    ).then(function(){\n",
       "                            \n",
       "var gd = document.getElementById('8264926d-eb0f-489f-bfe8-32cf20190870');\n",
       "var x = new MutationObserver(function (mutations, observer) {{\n",
       "        var display = window.getComputedStyle(gd).display;\n",
       "        if (!display || display === 'none') {{\n",
       "            console.log([gd, 'removed!']);\n",
       "            Plotly.purge(gd);\n",
       "            observer.disconnect();\n",
       "        }}\n",
       "}});\n",
       "\n",
       "// Listen for the removal of the full notebook cells\n",
       "var notebookContainer = gd.closest('#notebook-container');\n",
       "if (notebookContainer) {{\n",
       "    x.observe(notebookContainer, {childList: true});\n",
       "}}\n",
       "\n",
       "// Listen for the clearing of the current output cell\n",
       "var outputEl = gd.closest('.output');\n",
       "if (outputEl) {{\n",
       "    x.observe(outputEl, {childList: true});\n",
       "}}\n",
       "\n",
       "                        })\n",
       "                };\n",
       "                });\n",
       "            </script>\n",
       "        </div>"
      ]
     },
     "metadata": {},
     "output_type": "display_data"
    }
   ],
   "source": [
    "fig = px.treemap(china_latest.sort_values(by='Confirmed', ascending=False).reset_index(drop=True), \n",
    "           path=[\"Province/State\"], values=\"Confirmed\", title='Number of Confirmed Cases in Chinese Provinces')\n",
    "fig.show()\n",
    "\n",
    "fig = px.treemap(china_latest.sort_values(by='Deaths', ascending=False).reset_index(drop=True), \n",
    "           path=[\"Province/State\"], values=\"Deaths\", title='Number of Deaths Reported in Chinese Provinces')\n",
    "fig.show()"
   ]
  },
  {
   "cell_type": "code",
   "execution_count": 194,
   "metadata": {},
   "outputs": [
    {
     "data": {
      "application/vnd.plotly.v1+json": {
       "config": {
        "plotlyServerURL": "https://plot.ly"
       },
       "data": [
        {
         "branchvalues": "total",
         "domain": {
          "x": [
           0,
           1
          ],
          "y": [
           0,
           1
          ]
         },
         "hoverlabel": {
          "namelength": 0
         },
         "hovertemplate": "labels=%{label}<br>Confirmed=%{value}<br>parent=%{parent}<br>id=%{id}",
         "ids": [
          "Australia",
          "Belgium",
          "Cambodia",
          "Canada",
          "Egypt",
          "Finland",
          "France",
          "Germany",
          "Hong Kong",
          "India",
          "Iran",
          "Italy",
          "Japan",
          "Macau",
          "Malaysia",
          "Nepal",
          "Philippines",
          "Russia",
          "Singapore",
          "South Korea",
          "Spain",
          "Sri Lanka",
          "Sweden",
          "Taiwan",
          "Thailand",
          "UK",
          "US",
          "United Arab Emirates",
          "Vietnam"
         ],
         "labels": [
          "Australia",
          "Belgium",
          "Cambodia",
          "Canada",
          "Egypt",
          "Finland",
          "France",
          "Germany",
          "Hong Kong",
          "India",
          "Iran",
          "Italy",
          "Japan",
          "Macau",
          "Malaysia",
          "Nepal",
          "Philippines",
          "Russia",
          "Singapore",
          "South Korea",
          "Spain",
          "Sri Lanka",
          "Sweden",
          "Taiwan",
          "Thailand",
          "UK",
          "US",
          "United Arab Emirates",
          "Vietnam"
         ],
         "name": "",
         "parents": [
          "",
          "",
          "",
          "",
          "",
          "",
          "",
          "",
          "",
          "",
          "",
          "",
          "",
          "",
          "",
          "",
          "",
          "",
          "",
          "",
          "",
          "",
          "",
          "",
          "",
          "",
          "",
          "",
          ""
         ],
         "type": "treemap",
         "values": [
          15,
          1,
          1,
          8,
          1,
          1,
          12,
          16,
          63,
          3,
          2,
          3,
          84,
          10,
          22,
          1,
          3,
          2,
          84,
          31,
          2,
          1,
          1,
          23,
          35,
          9,
          15,
          9,
          16
         ]
        }
       ],
       "layout": {
        "legend": {
         "tracegroupgap": 0
        },
        "template": {
         "data": {
          "bar": [
           {
            "error_x": {
             "color": "#2a3f5f"
            },
            "error_y": {
             "color": "#2a3f5f"
            },
            "marker": {
             "line": {
              "color": "#E5ECF6",
              "width": 0.5
             }
            },
            "type": "bar"
           }
          ],
          "barpolar": [
           {
            "marker": {
             "line": {
              "color": "#E5ECF6",
              "width": 0.5
             }
            },
            "type": "barpolar"
           }
          ],
          "carpet": [
           {
            "aaxis": {
             "endlinecolor": "#2a3f5f",
             "gridcolor": "white",
             "linecolor": "white",
             "minorgridcolor": "white",
             "startlinecolor": "#2a3f5f"
            },
            "baxis": {
             "endlinecolor": "#2a3f5f",
             "gridcolor": "white",
             "linecolor": "white",
             "minorgridcolor": "white",
             "startlinecolor": "#2a3f5f"
            },
            "type": "carpet"
           }
          ],
          "choropleth": [
           {
            "colorbar": {
             "outlinewidth": 0,
             "ticks": ""
            },
            "type": "choropleth"
           }
          ],
          "contour": [
           {
            "colorbar": {
             "outlinewidth": 0,
             "ticks": ""
            },
            "colorscale": [
             [
              0,
              "#0d0887"
             ],
             [
              0.1111111111111111,
              "#46039f"
             ],
             [
              0.2222222222222222,
              "#7201a8"
             ],
             [
              0.3333333333333333,
              "#9c179e"
             ],
             [
              0.4444444444444444,
              "#bd3786"
             ],
             [
              0.5555555555555556,
              "#d8576b"
             ],
             [
              0.6666666666666666,
              "#ed7953"
             ],
             [
              0.7777777777777778,
              "#fb9f3a"
             ],
             [
              0.8888888888888888,
              "#fdca26"
             ],
             [
              1,
              "#f0f921"
             ]
            ],
            "type": "contour"
           }
          ],
          "contourcarpet": [
           {
            "colorbar": {
             "outlinewidth": 0,
             "ticks": ""
            },
            "type": "contourcarpet"
           }
          ],
          "heatmap": [
           {
            "colorbar": {
             "outlinewidth": 0,
             "ticks": ""
            },
            "colorscale": [
             [
              0,
              "#0d0887"
             ],
             [
              0.1111111111111111,
              "#46039f"
             ],
             [
              0.2222222222222222,
              "#7201a8"
             ],
             [
              0.3333333333333333,
              "#9c179e"
             ],
             [
              0.4444444444444444,
              "#bd3786"
             ],
             [
              0.5555555555555556,
              "#d8576b"
             ],
             [
              0.6666666666666666,
              "#ed7953"
             ],
             [
              0.7777777777777778,
              "#fb9f3a"
             ],
             [
              0.8888888888888888,
              "#fdca26"
             ],
             [
              1,
              "#f0f921"
             ]
            ],
            "type": "heatmap"
           }
          ],
          "heatmapgl": [
           {
            "colorbar": {
             "outlinewidth": 0,
             "ticks": ""
            },
            "colorscale": [
             [
              0,
              "#0d0887"
             ],
             [
              0.1111111111111111,
              "#46039f"
             ],
             [
              0.2222222222222222,
              "#7201a8"
             ],
             [
              0.3333333333333333,
              "#9c179e"
             ],
             [
              0.4444444444444444,
              "#bd3786"
             ],
             [
              0.5555555555555556,
              "#d8576b"
             ],
             [
              0.6666666666666666,
              "#ed7953"
             ],
             [
              0.7777777777777778,
              "#fb9f3a"
             ],
             [
              0.8888888888888888,
              "#fdca26"
             ],
             [
              1,
              "#f0f921"
             ]
            ],
            "type": "heatmapgl"
           }
          ],
          "histogram": [
           {
            "marker": {
             "colorbar": {
              "outlinewidth": 0,
              "ticks": ""
             }
            },
            "type": "histogram"
           }
          ],
          "histogram2d": [
           {
            "colorbar": {
             "outlinewidth": 0,
             "ticks": ""
            },
            "colorscale": [
             [
              0,
              "#0d0887"
             ],
             [
              0.1111111111111111,
              "#46039f"
             ],
             [
              0.2222222222222222,
              "#7201a8"
             ],
             [
              0.3333333333333333,
              "#9c179e"
             ],
             [
              0.4444444444444444,
              "#bd3786"
             ],
             [
              0.5555555555555556,
              "#d8576b"
             ],
             [
              0.6666666666666666,
              "#ed7953"
             ],
             [
              0.7777777777777778,
              "#fb9f3a"
             ],
             [
              0.8888888888888888,
              "#fdca26"
             ],
             [
              1,
              "#f0f921"
             ]
            ],
            "type": "histogram2d"
           }
          ],
          "histogram2dcontour": [
           {
            "colorbar": {
             "outlinewidth": 0,
             "ticks": ""
            },
            "colorscale": [
             [
              0,
              "#0d0887"
             ],
             [
              0.1111111111111111,
              "#46039f"
             ],
             [
              0.2222222222222222,
              "#7201a8"
             ],
             [
              0.3333333333333333,
              "#9c179e"
             ],
             [
              0.4444444444444444,
              "#bd3786"
             ],
             [
              0.5555555555555556,
              "#d8576b"
             ],
             [
              0.6666666666666666,
              "#ed7953"
             ],
             [
              0.7777777777777778,
              "#fb9f3a"
             ],
             [
              0.8888888888888888,
              "#fdca26"
             ],
             [
              1,
              "#f0f921"
             ]
            ],
            "type": "histogram2dcontour"
           }
          ],
          "mesh3d": [
           {
            "colorbar": {
             "outlinewidth": 0,
             "ticks": ""
            },
            "type": "mesh3d"
           }
          ],
          "parcoords": [
           {
            "line": {
             "colorbar": {
              "outlinewidth": 0,
              "ticks": ""
             }
            },
            "type": "parcoords"
           }
          ],
          "pie": [
           {
            "automargin": true,
            "type": "pie"
           }
          ],
          "scatter": [
           {
            "marker": {
             "colorbar": {
              "outlinewidth": 0,
              "ticks": ""
             }
            },
            "type": "scatter"
           }
          ],
          "scatter3d": [
           {
            "line": {
             "colorbar": {
              "outlinewidth": 0,
              "ticks": ""
             }
            },
            "marker": {
             "colorbar": {
              "outlinewidth": 0,
              "ticks": ""
             }
            },
            "type": "scatter3d"
           }
          ],
          "scattercarpet": [
           {
            "marker": {
             "colorbar": {
              "outlinewidth": 0,
              "ticks": ""
             }
            },
            "type": "scattercarpet"
           }
          ],
          "scattergeo": [
           {
            "marker": {
             "colorbar": {
              "outlinewidth": 0,
              "ticks": ""
             }
            },
            "type": "scattergeo"
           }
          ],
          "scattergl": [
           {
            "marker": {
             "colorbar": {
              "outlinewidth": 0,
              "ticks": ""
             }
            },
            "type": "scattergl"
           }
          ],
          "scattermapbox": [
           {
            "marker": {
             "colorbar": {
              "outlinewidth": 0,
              "ticks": ""
             }
            },
            "type": "scattermapbox"
           }
          ],
          "scatterpolar": [
           {
            "marker": {
             "colorbar": {
              "outlinewidth": 0,
              "ticks": ""
             }
            },
            "type": "scatterpolar"
           }
          ],
          "scatterpolargl": [
           {
            "marker": {
             "colorbar": {
              "outlinewidth": 0,
              "ticks": ""
             }
            },
            "type": "scatterpolargl"
           }
          ],
          "scatterternary": [
           {
            "marker": {
             "colorbar": {
              "outlinewidth": 0,
              "ticks": ""
             }
            },
            "type": "scatterternary"
           }
          ],
          "surface": [
           {
            "colorbar": {
             "outlinewidth": 0,
             "ticks": ""
            },
            "colorscale": [
             [
              0,
              "#0d0887"
             ],
             [
              0.1111111111111111,
              "#46039f"
             ],
             [
              0.2222222222222222,
              "#7201a8"
             ],
             [
              0.3333333333333333,
              "#9c179e"
             ],
             [
              0.4444444444444444,
              "#bd3786"
             ],
             [
              0.5555555555555556,
              "#d8576b"
             ],
             [
              0.6666666666666666,
              "#ed7953"
             ],
             [
              0.7777777777777778,
              "#fb9f3a"
             ],
             [
              0.8888888888888888,
              "#fdca26"
             ],
             [
              1,
              "#f0f921"
             ]
            ],
            "type": "surface"
           }
          ],
          "table": [
           {
            "cells": {
             "fill": {
              "color": "#EBF0F8"
             },
             "line": {
              "color": "white"
             }
            },
            "header": {
             "fill": {
              "color": "#C8D4E3"
             },
             "line": {
              "color": "white"
             }
            },
            "type": "table"
           }
          ]
         },
         "layout": {
          "annotationdefaults": {
           "arrowcolor": "#2a3f5f",
           "arrowhead": 0,
           "arrowwidth": 1
          },
          "coloraxis": {
           "colorbar": {
            "outlinewidth": 0,
            "ticks": ""
           }
          },
          "colorscale": {
           "diverging": [
            [
             0,
             "#8e0152"
            ],
            [
             0.1,
             "#c51b7d"
            ],
            [
             0.2,
             "#de77ae"
            ],
            [
             0.3,
             "#f1b6da"
            ],
            [
             0.4,
             "#fde0ef"
            ],
            [
             0.5,
             "#f7f7f7"
            ],
            [
             0.6,
             "#e6f5d0"
            ],
            [
             0.7,
             "#b8e186"
            ],
            [
             0.8,
             "#7fbc41"
            ],
            [
             0.9,
             "#4d9221"
            ],
            [
             1,
             "#276419"
            ]
           ],
           "sequential": [
            [
             0,
             "#0d0887"
            ],
            [
             0.1111111111111111,
             "#46039f"
            ],
            [
             0.2222222222222222,
             "#7201a8"
            ],
            [
             0.3333333333333333,
             "#9c179e"
            ],
            [
             0.4444444444444444,
             "#bd3786"
            ],
            [
             0.5555555555555556,
             "#d8576b"
            ],
            [
             0.6666666666666666,
             "#ed7953"
            ],
            [
             0.7777777777777778,
             "#fb9f3a"
            ],
            [
             0.8888888888888888,
             "#fdca26"
            ],
            [
             1,
             "#f0f921"
            ]
           ],
           "sequentialminus": [
            [
             0,
             "#0d0887"
            ],
            [
             0.1111111111111111,
             "#46039f"
            ],
            [
             0.2222222222222222,
             "#7201a8"
            ],
            [
             0.3333333333333333,
             "#9c179e"
            ],
            [
             0.4444444444444444,
             "#bd3786"
            ],
            [
             0.5555555555555556,
             "#d8576b"
            ],
            [
             0.6666666666666666,
             "#ed7953"
            ],
            [
             0.7777777777777778,
             "#fb9f3a"
            ],
            [
             0.8888888888888888,
             "#fdca26"
            ],
            [
             1,
             "#f0f921"
            ]
           ]
          },
          "colorway": [
           "#636efa",
           "#EF553B",
           "#00cc96",
           "#ab63fa",
           "#FFA15A",
           "#19d3f3",
           "#FF6692",
           "#B6E880",
           "#FF97FF",
           "#FECB52"
          ],
          "font": {
           "color": "#2a3f5f"
          },
          "geo": {
           "bgcolor": "white",
           "lakecolor": "white",
           "landcolor": "#E5ECF6",
           "showlakes": true,
           "showland": true,
           "subunitcolor": "white"
          },
          "hoverlabel": {
           "align": "left"
          },
          "hovermode": "closest",
          "mapbox": {
           "style": "light"
          },
          "paper_bgcolor": "white",
          "plot_bgcolor": "#E5ECF6",
          "polar": {
           "angularaxis": {
            "gridcolor": "white",
            "linecolor": "white",
            "ticks": ""
           },
           "bgcolor": "#E5ECF6",
           "radialaxis": {
            "gridcolor": "white",
            "linecolor": "white",
            "ticks": ""
           }
          },
          "scene": {
           "xaxis": {
            "backgroundcolor": "#E5ECF6",
            "gridcolor": "white",
            "gridwidth": 2,
            "linecolor": "white",
            "showbackground": true,
            "ticks": "",
            "zerolinecolor": "white"
           },
           "yaxis": {
            "backgroundcolor": "#E5ECF6",
            "gridcolor": "white",
            "gridwidth": 2,
            "linecolor": "white",
            "showbackground": true,
            "ticks": "",
            "zerolinecolor": "white"
           },
           "zaxis": {
            "backgroundcolor": "#E5ECF6",
            "gridcolor": "white",
            "gridwidth": 2,
            "linecolor": "white",
            "showbackground": true,
            "ticks": "",
            "zerolinecolor": "white"
           }
          },
          "shapedefaults": {
           "line": {
            "color": "#2a3f5f"
           }
          },
          "ternary": {
           "aaxis": {
            "gridcolor": "white",
            "linecolor": "white",
            "ticks": ""
           },
           "baxis": {
            "gridcolor": "white",
            "linecolor": "white",
            "ticks": ""
           },
           "bgcolor": "#E5ECF6",
           "caxis": {
            "gridcolor": "white",
            "linecolor": "white",
            "ticks": ""
           }
          },
          "title": {
           "x": 0.05
          },
          "xaxis": {
           "automargin": true,
           "gridcolor": "white",
           "linecolor": "white",
           "ticks": "",
           "title": {
            "standoff": 15
           },
           "zerolinecolor": "white",
           "zerolinewidth": 2
          },
          "yaxis": {
           "automargin": true,
           "gridcolor": "white",
           "linecolor": "white",
           "ticks": "",
           "title": {
            "standoff": 15
           },
           "zerolinecolor": "white",
           "zerolinewidth": 2
          }
         }
        },
        "title": {
         "text": "Number of Confirmed Cases outside china"
        }
       }
      },
      "text/html": [
       "<div>\n",
       "        \n",
       "        \n",
       "            <div id=\"ccceb681-7a93-48ea-aba9-e7414e698e13\" class=\"plotly-graph-div\" style=\"height:525px; width:100%;\"></div>\n",
       "            <script type=\"text/javascript\">\n",
       "                require([\"plotly\"], function(Plotly) {\n",
       "                    window.PLOTLYENV=window.PLOTLYENV || {};\n",
       "                    \n",
       "                if (document.getElementById(\"ccceb681-7a93-48ea-aba9-e7414e698e13\")) {\n",
       "                    Plotly.newPlot(\n",
       "                        'ccceb681-7a93-48ea-aba9-e7414e698e13',\n",
       "                        [{\"branchvalues\": \"total\", \"domain\": {\"x\": [0.0, 1.0], \"y\": [0.0, 1.0]}, \"hoverlabel\": {\"namelength\": 0}, \"hovertemplate\": \"labels=%{label}<br>Confirmed=%{value}<br>parent=%{parent}<br>id=%{id}\", \"ids\": [\"Australia\", \"Belgium\", \"Cambodia\", \"Canada\", \"Egypt\", \"Finland\", \"France\", \"Germany\", \"Hong Kong\", \"India\", \"Iran\", \"Italy\", \"Japan\", \"Macau\", \"Malaysia\", \"Nepal\", \"Philippines\", \"Russia\", \"Singapore\", \"South Korea\", \"Spain\", \"Sri Lanka\", \"Sweden\", \"Taiwan\", \"Thailand\", \"UK\", \"US\", \"United Arab Emirates\", \"Vietnam\"], \"labels\": [\"Australia\", \"Belgium\", \"Cambodia\", \"Canada\", \"Egypt\", \"Finland\", \"France\", \"Germany\", \"Hong Kong\", \"India\", \"Iran\", \"Italy\", \"Japan\", \"Macau\", \"Malaysia\", \"Nepal\", \"Philippines\", \"Russia\", \"Singapore\", \"South Korea\", \"Spain\", \"Sri Lanka\", \"Sweden\", \"Taiwan\", \"Thailand\", \"UK\", \"US\", \"United Arab Emirates\", \"Vietnam\"], \"name\": \"\", \"parents\": [\"\", \"\", \"\", \"\", \"\", \"\", \"\", \"\", \"\", \"\", \"\", \"\", \"\", \"\", \"\", \"\", \"\", \"\", \"\", \"\", \"\", \"\", \"\", \"\", \"\", \"\", \"\", \"\", \"\"], \"type\": \"treemap\", \"values\": [15, 1, 1, 8, 1, 1, 12, 16, 63, 3, 2, 3, 84, 10, 22, 1, 3, 2, 84, 31, 2, 1, 1, 23, 35, 9, 15, 9, 16]}],\n",
       "                        {\"legend\": {\"tracegroupgap\": 0}, \"template\": {\"data\": {\"bar\": [{\"error_x\": {\"color\": \"#2a3f5f\"}, \"error_y\": {\"color\": \"#2a3f5f\"}, \"marker\": {\"line\": {\"color\": \"#E5ECF6\", \"width\": 0.5}}, \"type\": \"bar\"}], \"barpolar\": [{\"marker\": {\"line\": {\"color\": \"#E5ECF6\", \"width\": 0.5}}, \"type\": \"barpolar\"}], \"carpet\": [{\"aaxis\": {\"endlinecolor\": \"#2a3f5f\", \"gridcolor\": \"white\", \"linecolor\": \"white\", \"minorgridcolor\": \"white\", \"startlinecolor\": \"#2a3f5f\"}, \"baxis\": {\"endlinecolor\": \"#2a3f5f\", \"gridcolor\": \"white\", \"linecolor\": \"white\", \"minorgridcolor\": \"white\", \"startlinecolor\": \"#2a3f5f\"}, \"type\": \"carpet\"}], \"choropleth\": [{\"colorbar\": {\"outlinewidth\": 0, \"ticks\": \"\"}, \"type\": \"choropleth\"}], \"contour\": [{\"colorbar\": {\"outlinewidth\": 0, \"ticks\": \"\"}, \"colorscale\": [[0.0, \"#0d0887\"], [0.1111111111111111, \"#46039f\"], [0.2222222222222222, \"#7201a8\"], [0.3333333333333333, \"#9c179e\"], [0.4444444444444444, \"#bd3786\"], [0.5555555555555556, \"#d8576b\"], [0.6666666666666666, \"#ed7953\"], [0.7777777777777778, \"#fb9f3a\"], [0.8888888888888888, \"#fdca26\"], [1.0, \"#f0f921\"]], \"type\": \"contour\"}], \"contourcarpet\": [{\"colorbar\": {\"outlinewidth\": 0, \"ticks\": \"\"}, \"type\": \"contourcarpet\"}], \"heatmap\": [{\"colorbar\": {\"outlinewidth\": 0, \"ticks\": \"\"}, \"colorscale\": [[0.0, \"#0d0887\"], [0.1111111111111111, \"#46039f\"], [0.2222222222222222, \"#7201a8\"], [0.3333333333333333, \"#9c179e\"], [0.4444444444444444, \"#bd3786\"], [0.5555555555555556, \"#d8576b\"], [0.6666666666666666, \"#ed7953\"], [0.7777777777777778, \"#fb9f3a\"], [0.8888888888888888, \"#fdca26\"], [1.0, \"#f0f921\"]], \"type\": \"heatmap\"}], \"heatmapgl\": [{\"colorbar\": {\"outlinewidth\": 0, \"ticks\": \"\"}, \"colorscale\": [[0.0, \"#0d0887\"], [0.1111111111111111, \"#46039f\"], [0.2222222222222222, \"#7201a8\"], [0.3333333333333333, \"#9c179e\"], [0.4444444444444444, \"#bd3786\"], [0.5555555555555556, \"#d8576b\"], [0.6666666666666666, \"#ed7953\"], [0.7777777777777778, \"#fb9f3a\"], [0.8888888888888888, \"#fdca26\"], [1.0, \"#f0f921\"]], \"type\": \"heatmapgl\"}], \"histogram\": [{\"marker\": {\"colorbar\": {\"outlinewidth\": 0, \"ticks\": \"\"}}, \"type\": \"histogram\"}], \"histogram2d\": [{\"colorbar\": {\"outlinewidth\": 0, \"ticks\": \"\"}, \"colorscale\": [[0.0, \"#0d0887\"], [0.1111111111111111, \"#46039f\"], [0.2222222222222222, \"#7201a8\"], [0.3333333333333333, \"#9c179e\"], [0.4444444444444444, \"#bd3786\"], [0.5555555555555556, \"#d8576b\"], [0.6666666666666666, \"#ed7953\"], [0.7777777777777778, \"#fb9f3a\"], [0.8888888888888888, \"#fdca26\"], [1.0, \"#f0f921\"]], \"type\": \"histogram2d\"}], \"histogram2dcontour\": [{\"colorbar\": {\"outlinewidth\": 0, \"ticks\": \"\"}, \"colorscale\": [[0.0, \"#0d0887\"], [0.1111111111111111, \"#46039f\"], [0.2222222222222222, \"#7201a8\"], [0.3333333333333333, \"#9c179e\"], [0.4444444444444444, \"#bd3786\"], [0.5555555555555556, \"#d8576b\"], [0.6666666666666666, \"#ed7953\"], [0.7777777777777778, \"#fb9f3a\"], [0.8888888888888888, \"#fdca26\"], [1.0, \"#f0f921\"]], \"type\": \"histogram2dcontour\"}], \"mesh3d\": [{\"colorbar\": {\"outlinewidth\": 0, \"ticks\": \"\"}, \"type\": \"mesh3d\"}], \"parcoords\": [{\"line\": {\"colorbar\": {\"outlinewidth\": 0, \"ticks\": \"\"}}, \"type\": \"parcoords\"}], \"pie\": [{\"automargin\": true, \"type\": \"pie\"}], \"scatter\": [{\"marker\": {\"colorbar\": {\"outlinewidth\": 0, \"ticks\": \"\"}}, \"type\": \"scatter\"}], \"scatter3d\": [{\"line\": {\"colorbar\": {\"outlinewidth\": 0, \"ticks\": \"\"}}, \"marker\": {\"colorbar\": {\"outlinewidth\": 0, \"ticks\": \"\"}}, \"type\": \"scatter3d\"}], \"scattercarpet\": [{\"marker\": {\"colorbar\": {\"outlinewidth\": 0, \"ticks\": \"\"}}, \"type\": \"scattercarpet\"}], \"scattergeo\": [{\"marker\": {\"colorbar\": {\"outlinewidth\": 0, \"ticks\": \"\"}}, \"type\": \"scattergeo\"}], \"scattergl\": [{\"marker\": {\"colorbar\": {\"outlinewidth\": 0, \"ticks\": \"\"}}, \"type\": \"scattergl\"}], \"scattermapbox\": [{\"marker\": {\"colorbar\": {\"outlinewidth\": 0, \"ticks\": \"\"}}, \"type\": \"scattermapbox\"}], \"scatterpolar\": [{\"marker\": {\"colorbar\": {\"outlinewidth\": 0, \"ticks\": \"\"}}, \"type\": \"scatterpolar\"}], \"scatterpolargl\": [{\"marker\": {\"colorbar\": {\"outlinewidth\": 0, \"ticks\": \"\"}}, \"type\": \"scatterpolargl\"}], \"scatterternary\": [{\"marker\": {\"colorbar\": {\"outlinewidth\": 0, \"ticks\": \"\"}}, \"type\": \"scatterternary\"}], \"surface\": [{\"colorbar\": {\"outlinewidth\": 0, \"ticks\": \"\"}, \"colorscale\": [[0.0, \"#0d0887\"], [0.1111111111111111, \"#46039f\"], [0.2222222222222222, \"#7201a8\"], [0.3333333333333333, \"#9c179e\"], [0.4444444444444444, \"#bd3786\"], [0.5555555555555556, \"#d8576b\"], [0.6666666666666666, \"#ed7953\"], [0.7777777777777778, \"#fb9f3a\"], [0.8888888888888888, \"#fdca26\"], [1.0, \"#f0f921\"]], \"type\": \"surface\"}], \"table\": [{\"cells\": {\"fill\": {\"color\": \"#EBF0F8\"}, \"line\": {\"color\": \"white\"}}, \"header\": {\"fill\": {\"color\": \"#C8D4E3\"}, \"line\": {\"color\": \"white\"}}, \"type\": \"table\"}]}, \"layout\": {\"annotationdefaults\": {\"arrowcolor\": \"#2a3f5f\", \"arrowhead\": 0, \"arrowwidth\": 1}, \"coloraxis\": {\"colorbar\": {\"outlinewidth\": 0, \"ticks\": \"\"}}, \"colorscale\": {\"diverging\": [[0, \"#8e0152\"], [0.1, \"#c51b7d\"], [0.2, \"#de77ae\"], [0.3, \"#f1b6da\"], [0.4, \"#fde0ef\"], [0.5, \"#f7f7f7\"], [0.6, \"#e6f5d0\"], [0.7, \"#b8e186\"], [0.8, \"#7fbc41\"], [0.9, \"#4d9221\"], [1, \"#276419\"]], \"sequential\": [[0.0, \"#0d0887\"], [0.1111111111111111, \"#46039f\"], [0.2222222222222222, \"#7201a8\"], [0.3333333333333333, \"#9c179e\"], [0.4444444444444444, \"#bd3786\"], [0.5555555555555556, \"#d8576b\"], [0.6666666666666666, \"#ed7953\"], [0.7777777777777778, \"#fb9f3a\"], [0.8888888888888888, \"#fdca26\"], [1.0, \"#f0f921\"]], \"sequentialminus\": [[0.0, \"#0d0887\"], [0.1111111111111111, \"#46039f\"], [0.2222222222222222, \"#7201a8\"], [0.3333333333333333, \"#9c179e\"], [0.4444444444444444, \"#bd3786\"], [0.5555555555555556, \"#d8576b\"], [0.6666666666666666, \"#ed7953\"], [0.7777777777777778, \"#fb9f3a\"], [0.8888888888888888, \"#fdca26\"], [1.0, \"#f0f921\"]]}, \"colorway\": [\"#636efa\", \"#EF553B\", \"#00cc96\", \"#ab63fa\", \"#FFA15A\", \"#19d3f3\", \"#FF6692\", \"#B6E880\", \"#FF97FF\", \"#FECB52\"], \"font\": {\"color\": \"#2a3f5f\"}, \"geo\": {\"bgcolor\": \"white\", \"lakecolor\": \"white\", \"landcolor\": \"#E5ECF6\", \"showlakes\": true, \"showland\": true, \"subunitcolor\": \"white\"}, \"hoverlabel\": {\"align\": \"left\"}, \"hovermode\": \"closest\", \"mapbox\": {\"style\": \"light\"}, \"paper_bgcolor\": \"white\", \"plot_bgcolor\": \"#E5ECF6\", \"polar\": {\"angularaxis\": {\"gridcolor\": \"white\", \"linecolor\": \"white\", \"ticks\": \"\"}, \"bgcolor\": \"#E5ECF6\", \"radialaxis\": {\"gridcolor\": \"white\", \"linecolor\": \"white\", \"ticks\": \"\"}}, \"scene\": {\"xaxis\": {\"backgroundcolor\": \"#E5ECF6\", \"gridcolor\": \"white\", \"gridwidth\": 2, \"linecolor\": \"white\", \"showbackground\": true, \"ticks\": \"\", \"zerolinecolor\": \"white\"}, \"yaxis\": {\"backgroundcolor\": \"#E5ECF6\", \"gridcolor\": \"white\", \"gridwidth\": 2, \"linecolor\": \"white\", \"showbackground\": true, \"ticks\": \"\", \"zerolinecolor\": \"white\"}, \"zaxis\": {\"backgroundcolor\": \"#E5ECF6\", \"gridcolor\": \"white\", \"gridwidth\": 2, \"linecolor\": \"white\", \"showbackground\": true, \"ticks\": \"\", \"zerolinecolor\": \"white\"}}, \"shapedefaults\": {\"line\": {\"color\": \"#2a3f5f\"}}, \"ternary\": {\"aaxis\": {\"gridcolor\": \"white\", \"linecolor\": \"white\", \"ticks\": \"\"}, \"baxis\": {\"gridcolor\": \"white\", \"linecolor\": \"white\", \"ticks\": \"\"}, \"bgcolor\": \"#E5ECF6\", \"caxis\": {\"gridcolor\": \"white\", \"linecolor\": \"white\", \"ticks\": \"\"}}, \"title\": {\"x\": 0.05}, \"xaxis\": {\"automargin\": true, \"gridcolor\": \"white\", \"linecolor\": \"white\", \"ticks\": \"\", \"title\": {\"standoff\": 15}, \"zerolinecolor\": \"white\", \"zerolinewidth\": 2}, \"yaxis\": {\"automargin\": true, \"gridcolor\": \"white\", \"linecolor\": \"white\", \"ticks\": \"\", \"title\": {\"standoff\": 15}, \"zerolinecolor\": \"white\", \"zerolinewidth\": 2}}}, \"title\": {\"text\": \"Number of Confirmed Cases outside china\"}},\n",
       "                        {\"responsive\": true}\n",
       "                    ).then(function(){\n",
       "                            \n",
       "var gd = document.getElementById('ccceb681-7a93-48ea-aba9-e7414e698e13');\n",
       "var x = new MutationObserver(function (mutations, observer) {{\n",
       "        var display = window.getComputedStyle(gd).display;\n",
       "        if (!display || display === 'none') {{\n",
       "            console.log([gd, 'removed!']);\n",
       "            Plotly.purge(gd);\n",
       "            observer.disconnect();\n",
       "        }}\n",
       "}});\n",
       "\n",
       "// Listen for the removal of the full notebook cells\n",
       "var notebookContainer = gd.closest('#notebook-container');\n",
       "if (notebookContainer) {{\n",
       "    x.observe(notebookContainer, {childList: true});\n",
       "}}\n",
       "\n",
       "// Listen for the clearing of the current output cell\n",
       "var outputEl = gd.closest('.output');\n",
       "if (outputEl) {{\n",
       "    x.observe(outputEl, {childList: true});\n",
       "}}\n",
       "\n",
       "                        })\n",
       "                };\n",
       "                });\n",
       "            </script>\n",
       "        </div>"
      ]
     },
     "metadata": {},
     "output_type": "display_data"
    },
    {
     "data": {
      "application/vnd.plotly.v1+json": {
       "config": {
        "plotlyServerURL": "https://plot.ly"
       },
       "data": [
        {
         "branchvalues": "total",
         "domain": {
          "x": [
           0,
           1
          ],
          "y": [
           0,
           1
          ]
         },
         "hoverlabel": {
          "namelength": 0
         },
         "hovertemplate": "labels=%{label}<br>Deaths=%{value}<br>parent=%{parent}<br>id=%{id}",
         "ids": [
          "Australia",
          "Belgium",
          "Cambodia",
          "Canada",
          "Egypt",
          "Finland",
          "France",
          "Germany",
          "Hong Kong",
          "India",
          "Iran",
          "Italy",
          "Japan",
          "Macau",
          "Malaysia",
          "Nepal",
          "Philippines",
          "Russia",
          "Singapore",
          "South Korea",
          "Spain",
          "Sri Lanka",
          "Sweden",
          "Taiwan",
          "Thailand",
          "UK",
          "US",
          "United Arab Emirates",
          "Vietnam"
         ],
         "labels": [
          "Australia",
          "Belgium",
          "Cambodia",
          "Canada",
          "Egypt",
          "Finland",
          "France",
          "Germany",
          "Hong Kong",
          "India",
          "Iran",
          "Italy",
          "Japan",
          "Macau",
          "Malaysia",
          "Nepal",
          "Philippines",
          "Russia",
          "Singapore",
          "South Korea",
          "Spain",
          "Sri Lanka",
          "Sweden",
          "Taiwan",
          "Thailand",
          "UK",
          "US",
          "United Arab Emirates",
          "Vietnam"
         ],
         "name": "",
         "parents": [
          "",
          "",
          "",
          "",
          "",
          "",
          "",
          "",
          "",
          "",
          "",
          "",
          "",
          "",
          "",
          "",
          "",
          "",
          "",
          "",
          "",
          "",
          "",
          "",
          "",
          "",
          "",
          "",
          ""
         ],
         "type": "treemap",
         "values": [
          0,
          0,
          0,
          0,
          0,
          0,
          1,
          0,
          2,
          0,
          2,
          0,
          1,
          0,
          0,
          0,
          1,
          0,
          0,
          0,
          0,
          0,
          0,
          1,
          0,
          0,
          0,
          0,
          0
         ]
        }
       ],
       "layout": {
        "legend": {
         "tracegroupgap": 0
        },
        "template": {
         "data": {
          "bar": [
           {
            "error_x": {
             "color": "#2a3f5f"
            },
            "error_y": {
             "color": "#2a3f5f"
            },
            "marker": {
             "line": {
              "color": "#E5ECF6",
              "width": 0.5
             }
            },
            "type": "bar"
           }
          ],
          "barpolar": [
           {
            "marker": {
             "line": {
              "color": "#E5ECF6",
              "width": 0.5
             }
            },
            "type": "barpolar"
           }
          ],
          "carpet": [
           {
            "aaxis": {
             "endlinecolor": "#2a3f5f",
             "gridcolor": "white",
             "linecolor": "white",
             "minorgridcolor": "white",
             "startlinecolor": "#2a3f5f"
            },
            "baxis": {
             "endlinecolor": "#2a3f5f",
             "gridcolor": "white",
             "linecolor": "white",
             "minorgridcolor": "white",
             "startlinecolor": "#2a3f5f"
            },
            "type": "carpet"
           }
          ],
          "choropleth": [
           {
            "colorbar": {
             "outlinewidth": 0,
             "ticks": ""
            },
            "type": "choropleth"
           }
          ],
          "contour": [
           {
            "colorbar": {
             "outlinewidth": 0,
             "ticks": ""
            },
            "colorscale": [
             [
              0,
              "#0d0887"
             ],
             [
              0.1111111111111111,
              "#46039f"
             ],
             [
              0.2222222222222222,
              "#7201a8"
             ],
             [
              0.3333333333333333,
              "#9c179e"
             ],
             [
              0.4444444444444444,
              "#bd3786"
             ],
             [
              0.5555555555555556,
              "#d8576b"
             ],
             [
              0.6666666666666666,
              "#ed7953"
             ],
             [
              0.7777777777777778,
              "#fb9f3a"
             ],
             [
              0.8888888888888888,
              "#fdca26"
             ],
             [
              1,
              "#f0f921"
             ]
            ],
            "type": "contour"
           }
          ],
          "contourcarpet": [
           {
            "colorbar": {
             "outlinewidth": 0,
             "ticks": ""
            },
            "type": "contourcarpet"
           }
          ],
          "heatmap": [
           {
            "colorbar": {
             "outlinewidth": 0,
             "ticks": ""
            },
            "colorscale": [
             [
              0,
              "#0d0887"
             ],
             [
              0.1111111111111111,
              "#46039f"
             ],
             [
              0.2222222222222222,
              "#7201a8"
             ],
             [
              0.3333333333333333,
              "#9c179e"
             ],
             [
              0.4444444444444444,
              "#bd3786"
             ],
             [
              0.5555555555555556,
              "#d8576b"
             ],
             [
              0.6666666666666666,
              "#ed7953"
             ],
             [
              0.7777777777777778,
              "#fb9f3a"
             ],
             [
              0.8888888888888888,
              "#fdca26"
             ],
             [
              1,
              "#f0f921"
             ]
            ],
            "type": "heatmap"
           }
          ],
          "heatmapgl": [
           {
            "colorbar": {
             "outlinewidth": 0,
             "ticks": ""
            },
            "colorscale": [
             [
              0,
              "#0d0887"
             ],
             [
              0.1111111111111111,
              "#46039f"
             ],
             [
              0.2222222222222222,
              "#7201a8"
             ],
             [
              0.3333333333333333,
              "#9c179e"
             ],
             [
              0.4444444444444444,
              "#bd3786"
             ],
             [
              0.5555555555555556,
              "#d8576b"
             ],
             [
              0.6666666666666666,
              "#ed7953"
             ],
             [
              0.7777777777777778,
              "#fb9f3a"
             ],
             [
              0.8888888888888888,
              "#fdca26"
             ],
             [
              1,
              "#f0f921"
             ]
            ],
            "type": "heatmapgl"
           }
          ],
          "histogram": [
           {
            "marker": {
             "colorbar": {
              "outlinewidth": 0,
              "ticks": ""
             }
            },
            "type": "histogram"
           }
          ],
          "histogram2d": [
           {
            "colorbar": {
             "outlinewidth": 0,
             "ticks": ""
            },
            "colorscale": [
             [
              0,
              "#0d0887"
             ],
             [
              0.1111111111111111,
              "#46039f"
             ],
             [
              0.2222222222222222,
              "#7201a8"
             ],
             [
              0.3333333333333333,
              "#9c179e"
             ],
             [
              0.4444444444444444,
              "#bd3786"
             ],
             [
              0.5555555555555556,
              "#d8576b"
             ],
             [
              0.6666666666666666,
              "#ed7953"
             ],
             [
              0.7777777777777778,
              "#fb9f3a"
             ],
             [
              0.8888888888888888,
              "#fdca26"
             ],
             [
              1,
              "#f0f921"
             ]
            ],
            "type": "histogram2d"
           }
          ],
          "histogram2dcontour": [
           {
            "colorbar": {
             "outlinewidth": 0,
             "ticks": ""
            },
            "colorscale": [
             [
              0,
              "#0d0887"
             ],
             [
              0.1111111111111111,
              "#46039f"
             ],
             [
              0.2222222222222222,
              "#7201a8"
             ],
             [
              0.3333333333333333,
              "#9c179e"
             ],
             [
              0.4444444444444444,
              "#bd3786"
             ],
             [
              0.5555555555555556,
              "#d8576b"
             ],
             [
              0.6666666666666666,
              "#ed7953"
             ],
             [
              0.7777777777777778,
              "#fb9f3a"
             ],
             [
              0.8888888888888888,
              "#fdca26"
             ],
             [
              1,
              "#f0f921"
             ]
            ],
            "type": "histogram2dcontour"
           }
          ],
          "mesh3d": [
           {
            "colorbar": {
             "outlinewidth": 0,
             "ticks": ""
            },
            "type": "mesh3d"
           }
          ],
          "parcoords": [
           {
            "line": {
             "colorbar": {
              "outlinewidth": 0,
              "ticks": ""
             }
            },
            "type": "parcoords"
           }
          ],
          "pie": [
           {
            "automargin": true,
            "type": "pie"
           }
          ],
          "scatter": [
           {
            "marker": {
             "colorbar": {
              "outlinewidth": 0,
              "ticks": ""
             }
            },
            "type": "scatter"
           }
          ],
          "scatter3d": [
           {
            "line": {
             "colorbar": {
              "outlinewidth": 0,
              "ticks": ""
             }
            },
            "marker": {
             "colorbar": {
              "outlinewidth": 0,
              "ticks": ""
             }
            },
            "type": "scatter3d"
           }
          ],
          "scattercarpet": [
           {
            "marker": {
             "colorbar": {
              "outlinewidth": 0,
              "ticks": ""
             }
            },
            "type": "scattercarpet"
           }
          ],
          "scattergeo": [
           {
            "marker": {
             "colorbar": {
              "outlinewidth": 0,
              "ticks": ""
             }
            },
            "type": "scattergeo"
           }
          ],
          "scattergl": [
           {
            "marker": {
             "colorbar": {
              "outlinewidth": 0,
              "ticks": ""
             }
            },
            "type": "scattergl"
           }
          ],
          "scattermapbox": [
           {
            "marker": {
             "colorbar": {
              "outlinewidth": 0,
              "ticks": ""
             }
            },
            "type": "scattermapbox"
           }
          ],
          "scatterpolar": [
           {
            "marker": {
             "colorbar": {
              "outlinewidth": 0,
              "ticks": ""
             }
            },
            "type": "scatterpolar"
           }
          ],
          "scatterpolargl": [
           {
            "marker": {
             "colorbar": {
              "outlinewidth": 0,
              "ticks": ""
             }
            },
            "type": "scatterpolargl"
           }
          ],
          "scatterternary": [
           {
            "marker": {
             "colorbar": {
              "outlinewidth": 0,
              "ticks": ""
             }
            },
            "type": "scatterternary"
           }
          ],
          "surface": [
           {
            "colorbar": {
             "outlinewidth": 0,
             "ticks": ""
            },
            "colorscale": [
             [
              0,
              "#0d0887"
             ],
             [
              0.1111111111111111,
              "#46039f"
             ],
             [
              0.2222222222222222,
              "#7201a8"
             ],
             [
              0.3333333333333333,
              "#9c179e"
             ],
             [
              0.4444444444444444,
              "#bd3786"
             ],
             [
              0.5555555555555556,
              "#d8576b"
             ],
             [
              0.6666666666666666,
              "#ed7953"
             ],
             [
              0.7777777777777778,
              "#fb9f3a"
             ],
             [
              0.8888888888888888,
              "#fdca26"
             ],
             [
              1,
              "#f0f921"
             ]
            ],
            "type": "surface"
           }
          ],
          "table": [
           {
            "cells": {
             "fill": {
              "color": "#EBF0F8"
             },
             "line": {
              "color": "white"
             }
            },
            "header": {
             "fill": {
              "color": "#C8D4E3"
             },
             "line": {
              "color": "white"
             }
            },
            "type": "table"
           }
          ]
         },
         "layout": {
          "annotationdefaults": {
           "arrowcolor": "#2a3f5f",
           "arrowhead": 0,
           "arrowwidth": 1
          },
          "coloraxis": {
           "colorbar": {
            "outlinewidth": 0,
            "ticks": ""
           }
          },
          "colorscale": {
           "diverging": [
            [
             0,
             "#8e0152"
            ],
            [
             0.1,
             "#c51b7d"
            ],
            [
             0.2,
             "#de77ae"
            ],
            [
             0.3,
             "#f1b6da"
            ],
            [
             0.4,
             "#fde0ef"
            ],
            [
             0.5,
             "#f7f7f7"
            ],
            [
             0.6,
             "#e6f5d0"
            ],
            [
             0.7,
             "#b8e186"
            ],
            [
             0.8,
             "#7fbc41"
            ],
            [
             0.9,
             "#4d9221"
            ],
            [
             1,
             "#276419"
            ]
           ],
           "sequential": [
            [
             0,
             "#0d0887"
            ],
            [
             0.1111111111111111,
             "#46039f"
            ],
            [
             0.2222222222222222,
             "#7201a8"
            ],
            [
             0.3333333333333333,
             "#9c179e"
            ],
            [
             0.4444444444444444,
             "#bd3786"
            ],
            [
             0.5555555555555556,
             "#d8576b"
            ],
            [
             0.6666666666666666,
             "#ed7953"
            ],
            [
             0.7777777777777778,
             "#fb9f3a"
            ],
            [
             0.8888888888888888,
             "#fdca26"
            ],
            [
             1,
             "#f0f921"
            ]
           ],
           "sequentialminus": [
            [
             0,
             "#0d0887"
            ],
            [
             0.1111111111111111,
             "#46039f"
            ],
            [
             0.2222222222222222,
             "#7201a8"
            ],
            [
             0.3333333333333333,
             "#9c179e"
            ],
            [
             0.4444444444444444,
             "#bd3786"
            ],
            [
             0.5555555555555556,
             "#d8576b"
            ],
            [
             0.6666666666666666,
             "#ed7953"
            ],
            [
             0.7777777777777778,
             "#fb9f3a"
            ],
            [
             0.8888888888888888,
             "#fdca26"
            ],
            [
             1,
             "#f0f921"
            ]
           ]
          },
          "colorway": [
           "#636efa",
           "#EF553B",
           "#00cc96",
           "#ab63fa",
           "#FFA15A",
           "#19d3f3",
           "#FF6692",
           "#B6E880",
           "#FF97FF",
           "#FECB52"
          ],
          "font": {
           "color": "#2a3f5f"
          },
          "geo": {
           "bgcolor": "white",
           "lakecolor": "white",
           "landcolor": "#E5ECF6",
           "showlakes": true,
           "showland": true,
           "subunitcolor": "white"
          },
          "hoverlabel": {
           "align": "left"
          },
          "hovermode": "closest",
          "mapbox": {
           "style": "light"
          },
          "paper_bgcolor": "white",
          "plot_bgcolor": "#E5ECF6",
          "polar": {
           "angularaxis": {
            "gridcolor": "white",
            "linecolor": "white",
            "ticks": ""
           },
           "bgcolor": "#E5ECF6",
           "radialaxis": {
            "gridcolor": "white",
            "linecolor": "white",
            "ticks": ""
           }
          },
          "scene": {
           "xaxis": {
            "backgroundcolor": "#E5ECF6",
            "gridcolor": "white",
            "gridwidth": 2,
            "linecolor": "white",
            "showbackground": true,
            "ticks": "",
            "zerolinecolor": "white"
           },
           "yaxis": {
            "backgroundcolor": "#E5ECF6",
            "gridcolor": "white",
            "gridwidth": 2,
            "linecolor": "white",
            "showbackground": true,
            "ticks": "",
            "zerolinecolor": "white"
           },
           "zaxis": {
            "backgroundcolor": "#E5ECF6",
            "gridcolor": "white",
            "gridwidth": 2,
            "linecolor": "white",
            "showbackground": true,
            "ticks": "",
            "zerolinecolor": "white"
           }
          },
          "shapedefaults": {
           "line": {
            "color": "#2a3f5f"
           }
          },
          "ternary": {
           "aaxis": {
            "gridcolor": "white",
            "linecolor": "white",
            "ticks": ""
           },
           "baxis": {
            "gridcolor": "white",
            "linecolor": "white",
            "ticks": ""
           },
           "bgcolor": "#E5ECF6",
           "caxis": {
            "gridcolor": "white",
            "linecolor": "white",
            "ticks": ""
           }
          },
          "title": {
           "x": 0.05
          },
          "xaxis": {
           "automargin": true,
           "gridcolor": "white",
           "linecolor": "white",
           "ticks": "",
           "title": {
            "standoff": 15
           },
           "zerolinecolor": "white",
           "zerolinewidth": 2
          },
          "yaxis": {
           "automargin": true,
           "gridcolor": "white",
           "linecolor": "white",
           "ticks": "",
           "title": {
            "standoff": 15
           },
           "zerolinecolor": "white",
           "zerolinewidth": 2
          }
         }
        },
        "title": {
         "text": "Number of Deaths outside china"
        }
       }
      },
      "text/html": [
       "<div>\n",
       "        \n",
       "        \n",
       "            <div id=\"0a1c211e-f609-4df4-a3f7-d3cfbea8e1bf\" class=\"plotly-graph-div\" style=\"height:525px; width:100%;\"></div>\n",
       "            <script type=\"text/javascript\">\n",
       "                require([\"plotly\"], function(Plotly) {\n",
       "                    window.PLOTLYENV=window.PLOTLYENV || {};\n",
       "                    \n",
       "                if (document.getElementById(\"0a1c211e-f609-4df4-a3f7-d3cfbea8e1bf\")) {\n",
       "                    Plotly.newPlot(\n",
       "                        '0a1c211e-f609-4df4-a3f7-d3cfbea8e1bf',\n",
       "                        [{\"branchvalues\": \"total\", \"domain\": {\"x\": [0.0, 1.0], \"y\": [0.0, 1.0]}, \"hoverlabel\": {\"namelength\": 0}, \"hovertemplate\": \"labels=%{label}<br>Deaths=%{value}<br>parent=%{parent}<br>id=%{id}\", \"ids\": [\"Australia\", \"Belgium\", \"Cambodia\", \"Canada\", \"Egypt\", \"Finland\", \"France\", \"Germany\", \"Hong Kong\", \"India\", \"Iran\", \"Italy\", \"Japan\", \"Macau\", \"Malaysia\", \"Nepal\", \"Philippines\", \"Russia\", \"Singapore\", \"South Korea\", \"Spain\", \"Sri Lanka\", \"Sweden\", \"Taiwan\", \"Thailand\", \"UK\", \"US\", \"United Arab Emirates\", \"Vietnam\"], \"labels\": [\"Australia\", \"Belgium\", \"Cambodia\", \"Canada\", \"Egypt\", \"Finland\", \"France\", \"Germany\", \"Hong Kong\", \"India\", \"Iran\", \"Italy\", \"Japan\", \"Macau\", \"Malaysia\", \"Nepal\", \"Philippines\", \"Russia\", \"Singapore\", \"South Korea\", \"Spain\", \"Sri Lanka\", \"Sweden\", \"Taiwan\", \"Thailand\", \"UK\", \"US\", \"United Arab Emirates\", \"Vietnam\"], \"name\": \"\", \"parents\": [\"\", \"\", \"\", \"\", \"\", \"\", \"\", \"\", \"\", \"\", \"\", \"\", \"\", \"\", \"\", \"\", \"\", \"\", \"\", \"\", \"\", \"\", \"\", \"\", \"\", \"\", \"\", \"\", \"\"], \"type\": \"treemap\", \"values\": [0, 0, 0, 0, 0, 0, 1, 0, 2, 0, 2, 0, 1, 0, 0, 0, 1, 0, 0, 0, 0, 0, 0, 1, 0, 0, 0, 0, 0]}],\n",
       "                        {\"legend\": {\"tracegroupgap\": 0}, \"template\": {\"data\": {\"bar\": [{\"error_x\": {\"color\": \"#2a3f5f\"}, \"error_y\": {\"color\": \"#2a3f5f\"}, \"marker\": {\"line\": {\"color\": \"#E5ECF6\", \"width\": 0.5}}, \"type\": \"bar\"}], \"barpolar\": [{\"marker\": {\"line\": {\"color\": \"#E5ECF6\", \"width\": 0.5}}, \"type\": \"barpolar\"}], \"carpet\": [{\"aaxis\": {\"endlinecolor\": \"#2a3f5f\", \"gridcolor\": \"white\", \"linecolor\": \"white\", \"minorgridcolor\": \"white\", \"startlinecolor\": \"#2a3f5f\"}, \"baxis\": {\"endlinecolor\": \"#2a3f5f\", \"gridcolor\": \"white\", \"linecolor\": \"white\", \"minorgridcolor\": \"white\", \"startlinecolor\": \"#2a3f5f\"}, \"type\": \"carpet\"}], \"choropleth\": [{\"colorbar\": {\"outlinewidth\": 0, \"ticks\": \"\"}, \"type\": \"choropleth\"}], \"contour\": [{\"colorbar\": {\"outlinewidth\": 0, \"ticks\": \"\"}, \"colorscale\": [[0.0, \"#0d0887\"], [0.1111111111111111, \"#46039f\"], [0.2222222222222222, \"#7201a8\"], [0.3333333333333333, \"#9c179e\"], [0.4444444444444444, \"#bd3786\"], [0.5555555555555556, \"#d8576b\"], [0.6666666666666666, \"#ed7953\"], [0.7777777777777778, \"#fb9f3a\"], [0.8888888888888888, \"#fdca26\"], [1.0, \"#f0f921\"]], \"type\": \"contour\"}], \"contourcarpet\": [{\"colorbar\": {\"outlinewidth\": 0, \"ticks\": \"\"}, \"type\": \"contourcarpet\"}], \"heatmap\": [{\"colorbar\": {\"outlinewidth\": 0, \"ticks\": \"\"}, \"colorscale\": [[0.0, \"#0d0887\"], [0.1111111111111111, \"#46039f\"], [0.2222222222222222, \"#7201a8\"], [0.3333333333333333, \"#9c179e\"], [0.4444444444444444, \"#bd3786\"], [0.5555555555555556, \"#d8576b\"], [0.6666666666666666, \"#ed7953\"], [0.7777777777777778, \"#fb9f3a\"], [0.8888888888888888, \"#fdca26\"], [1.0, \"#f0f921\"]], \"type\": \"heatmap\"}], \"heatmapgl\": [{\"colorbar\": {\"outlinewidth\": 0, \"ticks\": \"\"}, \"colorscale\": [[0.0, \"#0d0887\"], [0.1111111111111111, \"#46039f\"], [0.2222222222222222, \"#7201a8\"], [0.3333333333333333, \"#9c179e\"], [0.4444444444444444, \"#bd3786\"], [0.5555555555555556, \"#d8576b\"], [0.6666666666666666, \"#ed7953\"], [0.7777777777777778, \"#fb9f3a\"], [0.8888888888888888, \"#fdca26\"], [1.0, \"#f0f921\"]], \"type\": \"heatmapgl\"}], \"histogram\": [{\"marker\": {\"colorbar\": {\"outlinewidth\": 0, \"ticks\": \"\"}}, \"type\": \"histogram\"}], \"histogram2d\": [{\"colorbar\": {\"outlinewidth\": 0, \"ticks\": \"\"}, \"colorscale\": [[0.0, \"#0d0887\"], [0.1111111111111111, \"#46039f\"], [0.2222222222222222, \"#7201a8\"], [0.3333333333333333, \"#9c179e\"], [0.4444444444444444, \"#bd3786\"], [0.5555555555555556, \"#d8576b\"], [0.6666666666666666, \"#ed7953\"], [0.7777777777777778, \"#fb9f3a\"], [0.8888888888888888, \"#fdca26\"], [1.0, \"#f0f921\"]], \"type\": \"histogram2d\"}], \"histogram2dcontour\": [{\"colorbar\": {\"outlinewidth\": 0, \"ticks\": \"\"}, \"colorscale\": [[0.0, \"#0d0887\"], [0.1111111111111111, \"#46039f\"], [0.2222222222222222, \"#7201a8\"], [0.3333333333333333, \"#9c179e\"], [0.4444444444444444, \"#bd3786\"], [0.5555555555555556, \"#d8576b\"], [0.6666666666666666, \"#ed7953\"], [0.7777777777777778, \"#fb9f3a\"], [0.8888888888888888, \"#fdca26\"], [1.0, \"#f0f921\"]], \"type\": \"histogram2dcontour\"}], \"mesh3d\": [{\"colorbar\": {\"outlinewidth\": 0, \"ticks\": \"\"}, \"type\": \"mesh3d\"}], \"parcoords\": [{\"line\": {\"colorbar\": {\"outlinewidth\": 0, \"ticks\": \"\"}}, \"type\": \"parcoords\"}], \"pie\": [{\"automargin\": true, \"type\": \"pie\"}], \"scatter\": [{\"marker\": {\"colorbar\": {\"outlinewidth\": 0, \"ticks\": \"\"}}, \"type\": \"scatter\"}], \"scatter3d\": [{\"line\": {\"colorbar\": {\"outlinewidth\": 0, \"ticks\": \"\"}}, \"marker\": {\"colorbar\": {\"outlinewidth\": 0, \"ticks\": \"\"}}, \"type\": \"scatter3d\"}], \"scattercarpet\": [{\"marker\": {\"colorbar\": {\"outlinewidth\": 0, \"ticks\": \"\"}}, \"type\": \"scattercarpet\"}], \"scattergeo\": [{\"marker\": {\"colorbar\": {\"outlinewidth\": 0, \"ticks\": \"\"}}, \"type\": \"scattergeo\"}], \"scattergl\": [{\"marker\": {\"colorbar\": {\"outlinewidth\": 0, \"ticks\": \"\"}}, \"type\": \"scattergl\"}], \"scattermapbox\": [{\"marker\": {\"colorbar\": {\"outlinewidth\": 0, \"ticks\": \"\"}}, \"type\": \"scattermapbox\"}], \"scatterpolar\": [{\"marker\": {\"colorbar\": {\"outlinewidth\": 0, \"ticks\": \"\"}}, \"type\": \"scatterpolar\"}], \"scatterpolargl\": [{\"marker\": {\"colorbar\": {\"outlinewidth\": 0, \"ticks\": \"\"}}, \"type\": \"scatterpolargl\"}], \"scatterternary\": [{\"marker\": {\"colorbar\": {\"outlinewidth\": 0, \"ticks\": \"\"}}, \"type\": \"scatterternary\"}], \"surface\": [{\"colorbar\": {\"outlinewidth\": 0, \"ticks\": \"\"}, \"colorscale\": [[0.0, \"#0d0887\"], [0.1111111111111111, \"#46039f\"], [0.2222222222222222, \"#7201a8\"], [0.3333333333333333, \"#9c179e\"], [0.4444444444444444, \"#bd3786\"], [0.5555555555555556, \"#d8576b\"], [0.6666666666666666, \"#ed7953\"], [0.7777777777777778, \"#fb9f3a\"], [0.8888888888888888, \"#fdca26\"], [1.0, \"#f0f921\"]], \"type\": \"surface\"}], \"table\": [{\"cells\": {\"fill\": {\"color\": \"#EBF0F8\"}, \"line\": {\"color\": \"white\"}}, \"header\": {\"fill\": {\"color\": \"#C8D4E3\"}, \"line\": {\"color\": \"white\"}}, \"type\": \"table\"}]}, \"layout\": {\"annotationdefaults\": {\"arrowcolor\": \"#2a3f5f\", \"arrowhead\": 0, \"arrowwidth\": 1}, \"coloraxis\": {\"colorbar\": {\"outlinewidth\": 0, \"ticks\": \"\"}}, \"colorscale\": {\"diverging\": [[0, \"#8e0152\"], [0.1, \"#c51b7d\"], [0.2, \"#de77ae\"], [0.3, \"#f1b6da\"], [0.4, \"#fde0ef\"], [0.5, \"#f7f7f7\"], [0.6, \"#e6f5d0\"], [0.7, \"#b8e186\"], [0.8, \"#7fbc41\"], [0.9, \"#4d9221\"], [1, \"#276419\"]], \"sequential\": [[0.0, \"#0d0887\"], [0.1111111111111111, \"#46039f\"], [0.2222222222222222, \"#7201a8\"], [0.3333333333333333, \"#9c179e\"], [0.4444444444444444, \"#bd3786\"], [0.5555555555555556, \"#d8576b\"], [0.6666666666666666, \"#ed7953\"], [0.7777777777777778, \"#fb9f3a\"], [0.8888888888888888, \"#fdca26\"], [1.0, \"#f0f921\"]], \"sequentialminus\": [[0.0, \"#0d0887\"], [0.1111111111111111, \"#46039f\"], [0.2222222222222222, \"#7201a8\"], [0.3333333333333333, \"#9c179e\"], [0.4444444444444444, \"#bd3786\"], [0.5555555555555556, \"#d8576b\"], [0.6666666666666666, \"#ed7953\"], [0.7777777777777778, \"#fb9f3a\"], [0.8888888888888888, \"#fdca26\"], [1.0, \"#f0f921\"]]}, \"colorway\": [\"#636efa\", \"#EF553B\", \"#00cc96\", \"#ab63fa\", \"#FFA15A\", \"#19d3f3\", \"#FF6692\", \"#B6E880\", \"#FF97FF\", \"#FECB52\"], \"font\": {\"color\": \"#2a3f5f\"}, \"geo\": {\"bgcolor\": \"white\", \"lakecolor\": \"white\", \"landcolor\": \"#E5ECF6\", \"showlakes\": true, \"showland\": true, \"subunitcolor\": \"white\"}, \"hoverlabel\": {\"align\": \"left\"}, \"hovermode\": \"closest\", \"mapbox\": {\"style\": \"light\"}, \"paper_bgcolor\": \"white\", \"plot_bgcolor\": \"#E5ECF6\", \"polar\": {\"angularaxis\": {\"gridcolor\": \"white\", \"linecolor\": \"white\", \"ticks\": \"\"}, \"bgcolor\": \"#E5ECF6\", \"radialaxis\": {\"gridcolor\": \"white\", \"linecolor\": \"white\", \"ticks\": \"\"}}, \"scene\": {\"xaxis\": {\"backgroundcolor\": \"#E5ECF6\", \"gridcolor\": \"white\", \"gridwidth\": 2, \"linecolor\": \"white\", \"showbackground\": true, \"ticks\": \"\", \"zerolinecolor\": \"white\"}, \"yaxis\": {\"backgroundcolor\": \"#E5ECF6\", \"gridcolor\": \"white\", \"gridwidth\": 2, \"linecolor\": \"white\", \"showbackground\": true, \"ticks\": \"\", \"zerolinecolor\": \"white\"}, \"zaxis\": {\"backgroundcolor\": \"#E5ECF6\", \"gridcolor\": \"white\", \"gridwidth\": 2, \"linecolor\": \"white\", \"showbackground\": true, \"ticks\": \"\", \"zerolinecolor\": \"white\"}}, \"shapedefaults\": {\"line\": {\"color\": \"#2a3f5f\"}}, \"ternary\": {\"aaxis\": {\"gridcolor\": \"white\", \"linecolor\": \"white\", \"ticks\": \"\"}, \"baxis\": {\"gridcolor\": \"white\", \"linecolor\": \"white\", \"ticks\": \"\"}, \"bgcolor\": \"#E5ECF6\", \"caxis\": {\"gridcolor\": \"white\", \"linecolor\": \"white\", \"ticks\": \"\"}}, \"title\": {\"x\": 0.05}, \"xaxis\": {\"automargin\": true, \"gridcolor\": \"white\", \"linecolor\": \"white\", \"ticks\": \"\", \"title\": {\"standoff\": 15}, \"zerolinecolor\": \"white\", \"zerolinewidth\": 2}, \"yaxis\": {\"automargin\": true, \"gridcolor\": \"white\", \"linecolor\": \"white\", \"ticks\": \"\", \"title\": {\"standoff\": 15}, \"zerolinecolor\": \"white\", \"zerolinewidth\": 2}}}, \"title\": {\"text\": \"Number of Deaths outside china\"}},\n",
       "                        {\"responsive\": true}\n",
       "                    ).then(function(){\n",
       "                            \n",
       "var gd = document.getElementById('0a1c211e-f609-4df4-a3f7-d3cfbea8e1bf');\n",
       "var x = new MutationObserver(function (mutations, observer) {{\n",
       "        var display = window.getComputedStyle(gd).display;\n",
       "        if (!display || display === 'none') {{\n",
       "            console.log([gd, 'removed!']);\n",
       "            Plotly.purge(gd);\n",
       "            observer.disconnect();\n",
       "        }}\n",
       "}});\n",
       "\n",
       "// Listen for the removal of the full notebook cells\n",
       "var notebookContainer = gd.closest('#notebook-container');\n",
       "if (notebookContainer) {{\n",
       "    x.observe(notebookContainer, {childList: true});\n",
       "}}\n",
       "\n",
       "// Listen for the clearing of the current output cell\n",
       "var outputEl = gd.closest('.output');\n",
       "if (outputEl) {{\n",
       "    x.observe(outputEl, {childList: true});\n",
       "}}\n",
       "\n",
       "                        })\n",
       "                };\n",
       "                });\n",
       "            </script>\n",
       "        </div>"
      ]
     },
     "metadata": {},
     "output_type": "display_data"
    }
   ],
   "source": [
    "fig = px.treemap(row_latest, path=[\"Country/Region\"], \n",
    "                 values=\"Confirmed\", title='Number of Confirmed Cases outside china')\n",
    "fig.show()\n",
    "\n",
    "fig = px.treemap(row_latest, path=[\"Country/Region\"], \n",
    "                 values=\"Deaths\", title='Number of Deaths outside china')\n",
    "fig.show()"
   ]
  },
  {
   "cell_type": "code",
   "execution_count": null,
   "metadata": {},
   "outputs": [],
   "source": []
  },
  {
   "cell_type": "code",
   "execution_count": 190,
   "metadata": {},
   "outputs": [
    {
     "data": {
      "application/vnd.plotly.v1+json": {
       "config": {
        "plotlyServerURL": "https://plot.ly"
       },
       "data": [
        {
         "geo": "geo",
         "hoverlabel": {
          "namelength": 0
         },
         "hovertemplate": "<b>%{hovertext}</b><br><br>Date=01/22/2020<br>Confirmed=%{marker.color}<br>Country/Region=%{location}",
         "hovertext": [
          "Australia",
          "Belgium",
          "Cambodia",
          "Canada",
          "Egypt",
          "Finland",
          "France",
          "Germany",
          "Hong Kong",
          "India",
          "Iran",
          "Italy",
          "Japan",
          "Macau",
          "Malaysia",
          "Nepal",
          "Philippines",
          "Russia",
          "Singapore",
          "South Korea",
          "Spain",
          "Sri Lanka",
          "Sweden",
          "Taiwan",
          "Thailand",
          "UK",
          "US",
          "United Arab Emirates",
          "Vietnam"
         ],
         "legendgroup": "",
         "locationmode": "country names",
         "locations": [
          "Australia",
          "Belgium",
          "Cambodia",
          "Canada",
          "Egypt",
          "Finland",
          "France",
          "Germany",
          "Hong Kong",
          "India",
          "Iran",
          "Italy",
          "Japan",
          "Macau",
          "Malaysia",
          "Nepal",
          "Philippines",
          "Russia",
          "Singapore",
          "South Korea",
          "Spain",
          "Sri Lanka",
          "Sweden",
          "Taiwan",
          "Thailand",
          "UK",
          "US",
          "United Arab Emirates",
          "Vietnam"
         ],
         "marker": {
          "color": [
           0,
           0,
           0,
           0,
           0,
           0,
           0,
           0,
           0,
           0,
           0,
           0,
           2,
           1,
           0,
           0,
           0,
           0,
           0,
           1,
           0,
           0,
           0,
           1,
           2,
           0,
           1,
           0,
           0
          ],
          "coloraxis": "coloraxis",
          "size": [
           0,
           0,
           0,
           0,
           0,
           0,
           0,
           0,
           0,
           0,
           0,
           0,
           2,
           1,
           0,
           0,
           0,
           0,
           0,
           1,
           0,
           0,
           0,
           1,
           2,
           0,
           1,
           0,
           0
          ],
          "sizemode": "area",
          "sizeref": 0.21
         },
         "name": "",
         "showlegend": false,
         "type": "scattergeo"
        }
       ],
       "frames": [
        {
         "data": [
          {
           "geo": "geo",
           "hoverlabel": {
            "namelength": 0
           },
           "hovertemplate": "<b>%{hovertext}</b><br><br>Date=01/22/2020<br>Confirmed=%{marker.color}<br>Country/Region=%{location}",
           "hovertext": [
            "Australia",
            "Belgium",
            "Cambodia",
            "Canada",
            "Egypt",
            "Finland",
            "France",
            "Germany",
            "Hong Kong",
            "India",
            "Iran",
            "Italy",
            "Japan",
            "Macau",
            "Malaysia",
            "Nepal",
            "Philippines",
            "Russia",
            "Singapore",
            "South Korea",
            "Spain",
            "Sri Lanka",
            "Sweden",
            "Taiwan",
            "Thailand",
            "UK",
            "US",
            "United Arab Emirates",
            "Vietnam"
           ],
           "legendgroup": "",
           "locationmode": "country names",
           "locations": [
            "Australia",
            "Belgium",
            "Cambodia",
            "Canada",
            "Egypt",
            "Finland",
            "France",
            "Germany",
            "Hong Kong",
            "India",
            "Iran",
            "Italy",
            "Japan",
            "Macau",
            "Malaysia",
            "Nepal",
            "Philippines",
            "Russia",
            "Singapore",
            "South Korea",
            "Spain",
            "Sri Lanka",
            "Sweden",
            "Taiwan",
            "Thailand",
            "UK",
            "US",
            "United Arab Emirates",
            "Vietnam"
           ],
           "marker": {
            "color": [
             0,
             0,
             0,
             0,
             0,
             0,
             0,
             0,
             0,
             0,
             0,
             0,
             2,
             1,
             0,
             0,
             0,
             0,
             0,
             1,
             0,
             0,
             0,
             1,
             2,
             0,
             1,
             0,
             0
            ],
            "coloraxis": "coloraxis",
            "size": [
             0,
             0,
             0,
             0,
             0,
             0,
             0,
             0,
             0,
             0,
             0,
             0,
             2,
             1,
             0,
             0,
             0,
             0,
             0,
             1,
             0,
             0,
             0,
             1,
             2,
             0,
             1,
             0,
             0
            ],
            "sizemode": "area",
            "sizeref": 0.21
           },
           "name": "",
           "showlegend": false,
           "type": "scattergeo"
          }
         ],
         "name": "01/22/2020"
        },
        {
         "data": [
          {
           "geo": "geo",
           "hoverlabel": {
            "namelength": 0
           },
           "hovertemplate": "<b>%{hovertext}</b><br><br>Date=01/23/2020<br>Confirmed=%{marker.color}<br>Country/Region=%{location}",
           "hovertext": [
            "Australia",
            "Belgium",
            "Cambodia",
            "Canada",
            "Egypt",
            "Finland",
            "France",
            "Germany",
            "Hong Kong",
            "India",
            "Iran",
            "Italy",
            "Japan",
            "Macau",
            "Malaysia",
            "Nepal",
            "Philippines",
            "Russia",
            "Singapore",
            "South Korea",
            "Spain",
            "Sri Lanka",
            "Sweden",
            "Taiwan",
            "Thailand",
            "UK",
            "US",
            "United Arab Emirates",
            "Vietnam"
           ],
           "legendgroup": "",
           "locationmode": "country names",
           "locations": [
            "Australia",
            "Belgium",
            "Cambodia",
            "Canada",
            "Egypt",
            "Finland",
            "France",
            "Germany",
            "Hong Kong",
            "India",
            "Iran",
            "Italy",
            "Japan",
            "Macau",
            "Malaysia",
            "Nepal",
            "Philippines",
            "Russia",
            "Singapore",
            "South Korea",
            "Spain",
            "Sri Lanka",
            "Sweden",
            "Taiwan",
            "Thailand",
            "UK",
            "US",
            "United Arab Emirates",
            "Vietnam"
           ],
           "marker": {
            "color": [
             0,
             0,
             0,
             0,
             0,
             0,
             0,
             0,
             2,
             0,
             0,
             0,
             1,
             2,
             0,
             0,
             0,
             0,
             1,
             1,
             0,
             0,
             0,
             1,
             3,
             0,
             1,
             0,
             2
            ],
            "coloraxis": "coloraxis",
            "size": [
             0,
             0,
             0,
             0,
             0,
             0,
             0,
             0,
             2,
             0,
             0,
             0,
             1,
             2,
             0,
             0,
             0,
             0,
             1,
             1,
             0,
             0,
             0,
             1,
             3,
             0,
             1,
             0,
             2
            ],
            "sizemode": "area",
            "sizeref": 0.21
           },
           "name": "",
           "showlegend": false,
           "type": "scattergeo"
          }
         ],
         "name": "01/23/2020"
        },
        {
         "data": [
          {
           "geo": "geo",
           "hoverlabel": {
            "namelength": 0
           },
           "hovertemplate": "<b>%{hovertext}</b><br><br>Date=01/24/2020<br>Confirmed=%{marker.color}<br>Country/Region=%{location}",
           "hovertext": [
            "Australia",
            "Belgium",
            "Cambodia",
            "Canada",
            "Egypt",
            "Finland",
            "France",
            "Germany",
            "Hong Kong",
            "India",
            "Iran",
            "Italy",
            "Japan",
            "Macau",
            "Malaysia",
            "Nepal",
            "Philippines",
            "Russia",
            "Singapore",
            "South Korea",
            "Spain",
            "Sri Lanka",
            "Sweden",
            "Taiwan",
            "Thailand",
            "UK",
            "US",
            "United Arab Emirates",
            "Vietnam"
           ],
           "legendgroup": "",
           "locationmode": "country names",
           "locations": [
            "Australia",
            "Belgium",
            "Cambodia",
            "Canada",
            "Egypt",
            "Finland",
            "France",
            "Germany",
            "Hong Kong",
            "India",
            "Iran",
            "Italy",
            "Japan",
            "Macau",
            "Malaysia",
            "Nepal",
            "Philippines",
            "Russia",
            "Singapore",
            "South Korea",
            "Spain",
            "Sri Lanka",
            "Sweden",
            "Taiwan",
            "Thailand",
            "UK",
            "US",
            "United Arab Emirates",
            "Vietnam"
           ],
           "marker": {
            "color": [
             0,
             0,
             0,
             0,
             0,
             0,
             2,
             0,
             2,
             0,
             0,
             0,
             2,
             2,
             0,
             0,
             0,
             0,
             3,
             2,
             0,
             0,
             0,
             3,
             5,
             0,
             1,
             0,
             2
            ],
            "coloraxis": "coloraxis",
            "size": [
             0,
             0,
             0,
             0,
             0,
             0,
             2,
             0,
             2,
             0,
             0,
             0,
             2,
             2,
             0,
             0,
             0,
             0,
             3,
             2,
             0,
             0,
             0,
             3,
             5,
             0,
             1,
             0,
             2
            ],
            "sizemode": "area",
            "sizeref": 0.21
           },
           "name": "",
           "showlegend": false,
           "type": "scattergeo"
          }
         ],
         "name": "01/24/2020"
        },
        {
         "data": [
          {
           "geo": "geo",
           "hoverlabel": {
            "namelength": 0
           },
           "hovertemplate": "<b>%{hovertext}</b><br><br>Date=01/25/2020<br>Confirmed=%{marker.color}<br>Country/Region=%{location}",
           "hovertext": [
            "Australia",
            "Belgium",
            "Cambodia",
            "Canada",
            "Egypt",
            "Finland",
            "France",
            "Germany",
            "Hong Kong",
            "India",
            "Iran",
            "Italy",
            "Japan",
            "Macau",
            "Malaysia",
            "Nepal",
            "Philippines",
            "Russia",
            "Singapore",
            "South Korea",
            "Spain",
            "Sri Lanka",
            "Sweden",
            "Taiwan",
            "Thailand",
            "UK",
            "US",
            "United Arab Emirates",
            "Vietnam"
           ],
           "legendgroup": "",
           "locationmode": "country names",
           "locations": [
            "Australia",
            "Belgium",
            "Cambodia",
            "Canada",
            "Egypt",
            "Finland",
            "France",
            "Germany",
            "Hong Kong",
            "India",
            "Iran",
            "Italy",
            "Japan",
            "Macau",
            "Malaysia",
            "Nepal",
            "Philippines",
            "Russia",
            "Singapore",
            "South Korea",
            "Spain",
            "Sri Lanka",
            "Sweden",
            "Taiwan",
            "Thailand",
            "UK",
            "US",
            "United Arab Emirates",
            "Vietnam"
           ],
           "marker": {
            "color": [
             0,
             0,
             0,
             0,
             0,
             0,
             3,
             0,
             5,
             0,
             0,
             0,
             2,
             2,
             3,
             1,
             0,
             0,
             3,
             2,
             0,
             0,
             0,
             3,
             7,
             0,
             1,
             0,
             2
            ],
            "coloraxis": "coloraxis",
            "size": [
             0,
             0,
             0,
             0,
             0,
             0,
             3,
             0,
             5,
             0,
             0,
             0,
             2,
             2,
             3,
             1,
             0,
             0,
             3,
             2,
             0,
             0,
             0,
             3,
             7,
             0,
             1,
             0,
             2
            ],
            "sizemode": "area",
            "sizeref": 0.21
           },
           "name": "",
           "showlegend": false,
           "type": "scattergeo"
          }
         ],
         "name": "01/25/2020"
        },
        {
         "data": [
          {
           "geo": "geo",
           "hoverlabel": {
            "namelength": 0
           },
           "hovertemplate": "<b>%{hovertext}</b><br><br>Date=01/26/2020<br>Confirmed=%{marker.color}<br>Country/Region=%{location}",
           "hovertext": [
            "Australia",
            "Belgium",
            "Cambodia",
            "Canada",
            "Egypt",
            "Finland",
            "France",
            "Germany",
            "Hong Kong",
            "India",
            "Iran",
            "Italy",
            "Japan",
            "Macau",
            "Malaysia",
            "Nepal",
            "Philippines",
            "Russia",
            "Singapore",
            "South Korea",
            "Spain",
            "Sri Lanka",
            "Sweden",
            "Taiwan",
            "Thailand",
            "UK",
            "US",
            "United Arab Emirates",
            "Vietnam"
           ],
           "legendgroup": "",
           "locationmode": "country names",
           "locations": [
            "Australia",
            "Belgium",
            "Cambodia",
            "Canada",
            "Egypt",
            "Finland",
            "France",
            "Germany",
            "Hong Kong",
            "India",
            "Iran",
            "Italy",
            "Japan",
            "Macau",
            "Malaysia",
            "Nepal",
            "Philippines",
            "Russia",
            "Singapore",
            "South Korea",
            "Spain",
            "Sri Lanka",
            "Sweden",
            "Taiwan",
            "Thailand",
            "UK",
            "US",
            "United Arab Emirates",
            "Vietnam"
           ],
           "marker": {
            "color": [
             3,
             0,
             0,
             1,
             0,
             0,
             3,
             0,
             8,
             0,
             0,
             0,
             4,
             5,
             4,
             1,
             0,
             0,
             4,
             3,
             0,
             0,
             0,
             4,
             8,
             0,
             1,
             0,
             2
            ],
            "coloraxis": "coloraxis",
            "size": [
             3,
             0,
             0,
             1,
             0,
             0,
             3,
             0,
             8,
             0,
             0,
             0,
             4,
             5,
             4,
             1,
             0,
             0,
             4,
             3,
             0,
             0,
             0,
             4,
             8,
             0,
             1,
             0,
             2
            ],
            "sizemode": "area",
            "sizeref": 0.21
           },
           "name": "",
           "showlegend": false,
           "type": "scattergeo"
          }
         ],
         "name": "01/26/2020"
        },
        {
         "data": [
          {
           "geo": "geo",
           "hoverlabel": {
            "namelength": 0
           },
           "hovertemplate": "<b>%{hovertext}</b><br><br>Date=01/27/2020<br>Confirmed=%{marker.color}<br>Country/Region=%{location}",
           "hovertext": [
            "Australia",
            "Belgium",
            "Cambodia",
            "Canada",
            "Egypt",
            "Finland",
            "France",
            "Germany",
            "Hong Kong",
            "India",
            "Iran",
            "Italy",
            "Japan",
            "Macau",
            "Malaysia",
            "Nepal",
            "Philippines",
            "Russia",
            "Singapore",
            "South Korea",
            "Spain",
            "Sri Lanka",
            "Sweden",
            "Taiwan",
            "Thailand",
            "UK",
            "US",
            "United Arab Emirates",
            "Vietnam"
           ],
           "legendgroup": "",
           "locationmode": "country names",
           "locations": [
            "Australia",
            "Belgium",
            "Cambodia",
            "Canada",
            "Egypt",
            "Finland",
            "France",
            "Germany",
            "Hong Kong",
            "India",
            "Iran",
            "Italy",
            "Japan",
            "Macau",
            "Malaysia",
            "Nepal",
            "Philippines",
            "Russia",
            "Singapore",
            "South Korea",
            "Spain",
            "Sri Lanka",
            "Sweden",
            "Taiwan",
            "Thailand",
            "UK",
            "US",
            "United Arab Emirates",
            "Vietnam"
           ],
           "marker": {
            "color": [
             4,
             0,
             1,
             1,
             0,
             0,
             3,
             1,
             8,
             0,
             0,
             0,
             4,
             6,
             4,
             1,
             0,
             0,
             5,
             4,
             0,
             1,
             0,
             5,
             8,
             0,
             1,
             0,
             2
            ],
            "coloraxis": "coloraxis",
            "size": [
             4,
             0,
             1,
             1,
             0,
             0,
             3,
             1,
             8,
             0,
             0,
             0,
             4,
             6,
             4,
             1,
             0,
             0,
             5,
             4,
             0,
             1,
             0,
             5,
             8,
             0,
             1,
             0,
             2
            ],
            "sizemode": "area",
            "sizeref": 0.21
           },
           "name": "",
           "showlegend": false,
           "type": "scattergeo"
          }
         ],
         "name": "01/27/2020"
        },
        {
         "data": [
          {
           "geo": "geo",
           "hoverlabel": {
            "namelength": 0
           },
           "hovertemplate": "<b>%{hovertext}</b><br><br>Date=01/28/2020<br>Confirmed=%{marker.color}<br>Country/Region=%{location}",
           "hovertext": [
            "Australia",
            "Belgium",
            "Cambodia",
            "Canada",
            "Egypt",
            "Finland",
            "France",
            "Germany",
            "Hong Kong",
            "India",
            "Iran",
            "Italy",
            "Japan",
            "Macau",
            "Malaysia",
            "Nepal",
            "Philippines",
            "Russia",
            "Singapore",
            "South Korea",
            "Spain",
            "Sri Lanka",
            "Sweden",
            "Taiwan",
            "Thailand",
            "UK",
            "US",
            "United Arab Emirates",
            "Vietnam"
           ],
           "legendgroup": "",
           "locationmode": "country names",
           "locations": [
            "Australia",
            "Belgium",
            "Cambodia",
            "Canada",
            "Egypt",
            "Finland",
            "France",
            "Germany",
            "Hong Kong",
            "India",
            "Iran",
            "Italy",
            "Japan",
            "Macau",
            "Malaysia",
            "Nepal",
            "Philippines",
            "Russia",
            "Singapore",
            "South Korea",
            "Spain",
            "Sri Lanka",
            "Sweden",
            "Taiwan",
            "Thailand",
            "UK",
            "US",
            "United Arab Emirates",
            "Vietnam"
           ],
           "marker": {
            "color": [
             4,
             0,
             1,
             1,
             0,
             0,
             4,
             4,
             8,
             0,
             0,
             0,
             7,
             7,
             4,
             1,
             0,
             0,
             7,
             4,
             0,
             1,
             0,
             8,
             14,
             0,
             1,
             0,
             2
            ],
            "coloraxis": "coloraxis",
            "size": [
             4,
             0,
             1,
             1,
             0,
             0,
             4,
             4,
             8,
             0,
             0,
             0,
             7,
             7,
             4,
             1,
             0,
             0,
             7,
             4,
             0,
             1,
             0,
             8,
             14,
             0,
             1,
             0,
             2
            ],
            "sizemode": "area",
            "sizeref": 0.21
           },
           "name": "",
           "showlegend": false,
           "type": "scattergeo"
          }
         ],
         "name": "01/28/2020"
        },
        {
         "data": [
          {
           "geo": "geo",
           "hoverlabel": {
            "namelength": 0
           },
           "hovertemplate": "<b>%{hovertext}</b><br><br>Date=01/29/2020<br>Confirmed=%{marker.color}<br>Country/Region=%{location}",
           "hovertext": [
            "Australia",
            "Belgium",
            "Cambodia",
            "Canada",
            "Egypt",
            "Finland",
            "France",
            "Germany",
            "Hong Kong",
            "India",
            "Iran",
            "Italy",
            "Japan",
            "Macau",
            "Malaysia",
            "Nepal",
            "Philippines",
            "Russia",
            "Singapore",
            "South Korea",
            "Spain",
            "Sri Lanka",
            "Sweden",
            "Taiwan",
            "Thailand",
            "UK",
            "US",
            "United Arab Emirates",
            "Vietnam"
           ],
           "legendgroup": "",
           "locationmode": "country names",
           "locations": [
            "Australia",
            "Belgium",
            "Cambodia",
            "Canada",
            "Egypt",
            "Finland",
            "France",
            "Germany",
            "Hong Kong",
            "India",
            "Iran",
            "Italy",
            "Japan",
            "Macau",
            "Malaysia",
            "Nepal",
            "Philippines",
            "Russia",
            "Singapore",
            "South Korea",
            "Spain",
            "Sri Lanka",
            "Sweden",
            "Taiwan",
            "Thailand",
            "UK",
            "US",
            "United Arab Emirates",
            "Vietnam"
           ],
           "marker": {
            "color": [
             4,
             0,
             1,
             1,
             0,
             1,
             5,
             4,
             10,
             0,
             0,
             0,
             7,
             7,
             7,
             1,
             0,
             0,
             7,
             4,
             0,
             1,
             0,
             8,
             14,
             0,
             1,
             4,
             2
            ],
            "coloraxis": "coloraxis",
            "size": [
             4,
             0,
             1,
             1,
             0,
             1,
             5,
             4,
             10,
             0,
             0,
             0,
             7,
             7,
             7,
             1,
             0,
             0,
             7,
             4,
             0,
             1,
             0,
             8,
             14,
             0,
             1,
             4,
             2
            ],
            "sizemode": "area",
            "sizeref": 0.21
           },
           "name": "",
           "showlegend": false,
           "type": "scattergeo"
          }
         ],
         "name": "01/29/2020"
        },
        {
         "data": [
          {
           "geo": "geo",
           "hoverlabel": {
            "namelength": 0
           },
           "hovertemplate": "<b>%{hovertext}</b><br><br>Date=01/30/2020<br>Confirmed=%{marker.color}<br>Country/Region=%{location}",
           "hovertext": [
            "Australia",
            "Belgium",
            "Cambodia",
            "Canada",
            "Egypt",
            "Finland",
            "France",
            "Germany",
            "Hong Kong",
            "India",
            "Iran",
            "Italy",
            "Japan",
            "Macau",
            "Malaysia",
            "Nepal",
            "Philippines",
            "Russia",
            "Singapore",
            "South Korea",
            "Spain",
            "Sri Lanka",
            "Sweden",
            "Taiwan",
            "Thailand",
            "UK",
            "US",
            "United Arab Emirates",
            "Vietnam"
           ],
           "legendgroup": "",
           "locationmode": "country names",
           "locations": [
            "Australia",
            "Belgium",
            "Cambodia",
            "Canada",
            "Egypt",
            "Finland",
            "France",
            "Germany",
            "Hong Kong",
            "India",
            "Iran",
            "Italy",
            "Japan",
            "Macau",
            "Malaysia",
            "Nepal",
            "Philippines",
            "Russia",
            "Singapore",
            "South Korea",
            "Spain",
            "Sri Lanka",
            "Sweden",
            "Taiwan",
            "Thailand",
            "UK",
            "US",
            "United Arab Emirates",
            "Vietnam"
           ],
           "marker": {
            "color": [
             4,
             0,
             1,
             1,
             0,
             1,
             5,
             4,
             10,
             1,
             0,
             0,
             11,
             7,
             8,
             1,
             1,
             0,
             10,
             4,
             0,
             1,
             0,
             9,
             14,
             0,
             1,
             4,
             2
            ],
            "coloraxis": "coloraxis",
            "size": [
             4,
             0,
             1,
             1,
             0,
             1,
             5,
             4,
             10,
             1,
             0,
             0,
             11,
             7,
             8,
             1,
             1,
             0,
             10,
             4,
             0,
             1,
             0,
             9,
             14,
             0,
             1,
             4,
             2
            ],
            "sizemode": "area",
            "sizeref": 0.21
           },
           "name": "",
           "showlegend": false,
           "type": "scattergeo"
          }
         ],
         "name": "01/30/2020"
        },
        {
         "data": [
          {
           "geo": "geo",
           "hoverlabel": {
            "namelength": 0
           },
           "hovertemplate": "<b>%{hovertext}</b><br><br>Date=01/31/2020<br>Confirmed=%{marker.color}<br>Country/Region=%{location}",
           "hovertext": [
            "Australia",
            "Belgium",
            "Cambodia",
            "Canada",
            "Egypt",
            "Finland",
            "France",
            "Germany",
            "Hong Kong",
            "India",
            "Iran",
            "Italy",
            "Japan",
            "Macau",
            "Malaysia",
            "Nepal",
            "Philippines",
            "Russia",
            "Singapore",
            "South Korea",
            "Spain",
            "Sri Lanka",
            "Sweden",
            "Taiwan",
            "Thailand",
            "UK",
            "US",
            "United Arab Emirates",
            "Vietnam"
           ],
           "legendgroup": "",
           "locationmode": "country names",
           "locations": [
            "Australia",
            "Belgium",
            "Cambodia",
            "Canada",
            "Egypt",
            "Finland",
            "France",
            "Germany",
            "Hong Kong",
            "India",
            "Iran",
            "Italy",
            "Japan",
            "Macau",
            "Malaysia",
            "Nepal",
            "Philippines",
            "Russia",
            "Singapore",
            "South Korea",
            "Spain",
            "Sri Lanka",
            "Sweden",
            "Taiwan",
            "Thailand",
            "UK",
            "US",
            "United Arab Emirates",
            "Vietnam"
           ],
           "marker": {
            "color": [
             4,
             0,
             1,
             2,
             0,
             1,
             5,
             5,
             12,
             1,
             0,
             2,
             15,
             7,
             8,
             1,
             1,
             2,
             13,
             11,
             0,
             1,
             1,
             10,
             19,
             2,
             2,
             4,
             2
            ],
            "coloraxis": "coloraxis",
            "size": [
             4,
             0,
             1,
             2,
             0,
             1,
             5,
             5,
             12,
             1,
             0,
             2,
             15,
             7,
             8,
             1,
             1,
             2,
             13,
             11,
             0,
             1,
             1,
             10,
             19,
             2,
             2,
             4,
             2
            ],
            "sizemode": "area",
            "sizeref": 0.21
           },
           "name": "",
           "showlegend": false,
           "type": "scattergeo"
          }
         ],
         "name": "01/31/2020"
        },
        {
         "data": [
          {
           "geo": "geo",
           "hoverlabel": {
            "namelength": 0
           },
           "hovertemplate": "<b>%{hovertext}</b><br><br>Date=02/01/2020<br>Confirmed=%{marker.color}<br>Country/Region=%{location}",
           "hovertext": [
            "Australia",
            "Belgium",
            "Cambodia",
            "Canada",
            "Egypt",
            "Finland",
            "France",
            "Germany",
            "Hong Kong",
            "India",
            "Iran",
            "Italy",
            "Japan",
            "Macau",
            "Malaysia",
            "Nepal",
            "Philippines",
            "Russia",
            "Singapore",
            "South Korea",
            "Spain",
            "Sri Lanka",
            "Sweden",
            "Taiwan",
            "Thailand",
            "UK",
            "US",
            "United Arab Emirates",
            "Vietnam"
           ],
           "legendgroup": "",
           "locationmode": "country names",
           "locations": [
            "Australia",
            "Belgium",
            "Cambodia",
            "Canada",
            "Egypt",
            "Finland",
            "France",
            "Germany",
            "Hong Kong",
            "India",
            "Iran",
            "Italy",
            "Japan",
            "Macau",
            "Malaysia",
            "Nepal",
            "Philippines",
            "Russia",
            "Singapore",
            "South Korea",
            "Spain",
            "Sri Lanka",
            "Sweden",
            "Taiwan",
            "Thailand",
            "UK",
            "US",
            "United Arab Emirates",
            "Vietnam"
           ],
           "marker": {
            "color": [
             4,
             0,
             1,
             2,
             0,
             1,
             6,
             8,
             13,
             1,
             0,
             2,
             20,
             7,
             8,
             1,
             1,
             2,
             16,
             12,
             1,
             1,
             1,
             10,
             19,
             2,
             2,
             4,
             6
            ],
            "coloraxis": "coloraxis",
            "size": [
             4,
             0,
             1,
             2,
             0,
             1,
             6,
             8,
             13,
             1,
             0,
             2,
             20,
             7,
             8,
             1,
             1,
             2,
             16,
             12,
             1,
             1,
             1,
             10,
             19,
             2,
             2,
             4,
             6
            ],
            "sizemode": "area",
            "sizeref": 0.21
           },
           "name": "",
           "showlegend": false,
           "type": "scattergeo"
          }
         ],
         "name": "02/01/2020"
        },
        {
         "data": [
          {
           "geo": "geo",
           "hoverlabel": {
            "namelength": 0
           },
           "hovertemplate": "<b>%{hovertext}</b><br><br>Date=02/02/2020<br>Confirmed=%{marker.color}<br>Country/Region=%{location}",
           "hovertext": [
            "Australia",
            "Belgium",
            "Cambodia",
            "Canada",
            "Egypt",
            "Finland",
            "France",
            "Germany",
            "Hong Kong",
            "India",
            "Iran",
            "Italy",
            "Japan",
            "Macau",
            "Malaysia",
            "Nepal",
            "Philippines",
            "Russia",
            "Singapore",
            "South Korea",
            "Spain",
            "Sri Lanka",
            "Sweden",
            "Taiwan",
            "Thailand",
            "UK",
            "US",
            "United Arab Emirates",
            "Vietnam"
           ],
           "legendgroup": "",
           "locationmode": "country names",
           "locations": [
            "Australia",
            "Belgium",
            "Cambodia",
            "Canada",
            "Egypt",
            "Finland",
            "France",
            "Germany",
            "Hong Kong",
            "India",
            "Iran",
            "Italy",
            "Japan",
            "Macau",
            "Malaysia",
            "Nepal",
            "Philippines",
            "Russia",
            "Singapore",
            "South Korea",
            "Spain",
            "Sri Lanka",
            "Sweden",
            "Taiwan",
            "Thailand",
            "UK",
            "US",
            "United Arab Emirates",
            "Vietnam"
           ],
           "marker": {
            "color": [
             4,
             0,
             1,
             2,
             0,
             1,
             6,
             10,
             15,
             2,
             0,
             2,
             20,
             8,
             8,
             1,
             2,
             2,
             18,
             15,
             1,
             1,
             1,
             10,
             19,
             2,
             2,
             5,
             6
            ],
            "coloraxis": "coloraxis",
            "size": [
             4,
             0,
             1,
             2,
             0,
             1,
             6,
             10,
             15,
             2,
             0,
             2,
             20,
             8,
             8,
             1,
             2,
             2,
             18,
             15,
             1,
             1,
             1,
             10,
             19,
             2,
             2,
             5,
             6
            ],
            "sizemode": "area",
            "sizeref": 0.21
           },
           "name": "",
           "showlegend": false,
           "type": "scattergeo"
          }
         ],
         "name": "02/02/2020"
        },
        {
         "data": [
          {
           "geo": "geo",
           "hoverlabel": {
            "namelength": 0
           },
           "hovertemplate": "<b>%{hovertext}</b><br><br>Date=02/03/2020<br>Confirmed=%{marker.color}<br>Country/Region=%{location}",
           "hovertext": [
            "Australia",
            "Belgium",
            "Cambodia",
            "Canada",
            "Egypt",
            "Finland",
            "France",
            "Germany",
            "Hong Kong",
            "India",
            "Iran",
            "Italy",
            "Japan",
            "Macau",
            "Malaysia",
            "Nepal",
            "Philippines",
            "Russia",
            "Singapore",
            "South Korea",
            "Spain",
            "Sri Lanka",
            "Sweden",
            "Taiwan",
            "Thailand",
            "UK",
            "US",
            "United Arab Emirates",
            "Vietnam"
           ],
           "legendgroup": "",
           "locationmode": "country names",
           "locations": [
            "Australia",
            "Belgium",
            "Cambodia",
            "Canada",
            "Egypt",
            "Finland",
            "France",
            "Germany",
            "Hong Kong",
            "India",
            "Iran",
            "Italy",
            "Japan",
            "Macau",
            "Malaysia",
            "Nepal",
            "Philippines",
            "Russia",
            "Singapore",
            "South Korea",
            "Spain",
            "Sri Lanka",
            "Sweden",
            "Taiwan",
            "Thailand",
            "UK",
            "US",
            "United Arab Emirates",
            "Vietnam"
           ],
           "marker": {
            "color": [
             4,
             0,
             1,
             2,
             0,
             1,
             6,
             12,
             15,
             3,
             0,
             2,
             20,
             8,
             8,
             1,
             2,
             2,
             18,
             15,
             1,
             1,
             1,
             10,
             19,
             2,
             2,
             5,
             8
            ],
            "coloraxis": "coloraxis",
            "size": [
             4,
             0,
             1,
             2,
             0,
             1,
             6,
             12,
             15,
             3,
             0,
             2,
             20,
             8,
             8,
             1,
             2,
             2,
             18,
             15,
             1,
             1,
             1,
             10,
             19,
             2,
             2,
             5,
             8
            ],
            "sizemode": "area",
            "sizeref": 0.21
           },
           "name": "",
           "showlegend": false,
           "type": "scattergeo"
          }
         ],
         "name": "02/03/2020"
        },
        {
         "data": [
          {
           "geo": "geo",
           "hoverlabel": {
            "namelength": 0
           },
           "hovertemplate": "<b>%{hovertext}</b><br><br>Date=02/04/2020<br>Confirmed=%{marker.color}<br>Country/Region=%{location}",
           "hovertext": [
            "Australia",
            "Belgium",
            "Cambodia",
            "Canada",
            "Egypt",
            "Finland",
            "France",
            "Germany",
            "Hong Kong",
            "India",
            "Iran",
            "Italy",
            "Japan",
            "Macau",
            "Malaysia",
            "Nepal",
            "Philippines",
            "Russia",
            "Singapore",
            "South Korea",
            "Spain",
            "Sri Lanka",
            "Sweden",
            "Taiwan",
            "Thailand",
            "UK",
            "US",
            "United Arab Emirates",
            "Vietnam"
           ],
           "legendgroup": "",
           "locationmode": "country names",
           "locations": [
            "Australia",
            "Belgium",
            "Cambodia",
            "Canada",
            "Egypt",
            "Finland",
            "France",
            "Germany",
            "Hong Kong",
            "India",
            "Iran",
            "Italy",
            "Japan",
            "Macau",
            "Malaysia",
            "Nepal",
            "Philippines",
            "Russia",
            "Singapore",
            "South Korea",
            "Spain",
            "Sri Lanka",
            "Sweden",
            "Taiwan",
            "Thailand",
            "UK",
            "US",
            "United Arab Emirates",
            "Vietnam"
           ],
           "marker": {
            "color": [
             4,
             1,
             1,
             2,
             0,
             1,
             6,
             12,
             17,
             3,
             0,
             2,
             22,
             10,
             10,
             1,
             2,
             2,
             24,
             16,
             1,
             1,
             1,
             11,
             25,
             2,
             2,
             5,
             8
            ],
            "coloraxis": "coloraxis",
            "size": [
             4,
             1,
             1,
             2,
             0,
             1,
             6,
             12,
             17,
             3,
             0,
             2,
             22,
             10,
             10,
             1,
             2,
             2,
             24,
             16,
             1,
             1,
             1,
             11,
             25,
             2,
             2,
             5,
             8
            ],
            "sizemode": "area",
            "sizeref": 0.21
           },
           "name": "",
           "showlegend": false,
           "type": "scattergeo"
          }
         ],
         "name": "02/04/2020"
        },
        {
         "data": [
          {
           "geo": "geo",
           "hoverlabel": {
            "namelength": 0
           },
           "hovertemplate": "<b>%{hovertext}</b><br><br>Date=02/05/2020<br>Confirmed=%{marker.color}<br>Country/Region=%{location}",
           "hovertext": [
            "Australia",
            "Belgium",
            "Cambodia",
            "Canada",
            "Egypt",
            "Finland",
            "France",
            "Germany",
            "Hong Kong",
            "India",
            "Iran",
            "Italy",
            "Japan",
            "Macau",
            "Malaysia",
            "Nepal",
            "Philippines",
            "Russia",
            "Singapore",
            "South Korea",
            "Spain",
            "Sri Lanka",
            "Sweden",
            "Taiwan",
            "Thailand",
            "UK",
            "US",
            "United Arab Emirates",
            "Vietnam"
           ],
           "legendgroup": "",
           "locationmode": "country names",
           "locations": [
            "Australia",
            "Belgium",
            "Cambodia",
            "Canada",
            "Egypt",
            "Finland",
            "France",
            "Germany",
            "Hong Kong",
            "India",
            "Iran",
            "Italy",
            "Japan",
            "Macau",
            "Malaysia",
            "Nepal",
            "Philippines",
            "Russia",
            "Singapore",
            "South Korea",
            "Spain",
            "Sri Lanka",
            "Sweden",
            "Taiwan",
            "Thailand",
            "UK",
            "US",
            "United Arab Emirates",
            "Vietnam"
           ],
           "marker": {
            "color": [
             4,
             1,
             1,
             2,
             0,
             1,
             6,
             12,
             21,
             3,
             0,
             2,
             22,
             10,
             12,
             1,
             2,
             2,
             28,
             19,
             1,
             1,
             1,
             11,
             25,
             2,
             2,
             5,
             8
            ],
            "coloraxis": "coloraxis",
            "size": [
             4,
             1,
             1,
             2,
             0,
             1,
             6,
             12,
             21,
             3,
             0,
             2,
             22,
             10,
             12,
             1,
             2,
             2,
             28,
             19,
             1,
             1,
             1,
             11,
             25,
             2,
             2,
             5,
             8
            ],
            "sizemode": "area",
            "sizeref": 0.21
           },
           "name": "",
           "showlegend": false,
           "type": "scattergeo"
          }
         ],
         "name": "02/05/2020"
        },
        {
         "data": [
          {
           "geo": "geo",
           "hoverlabel": {
            "namelength": 0
           },
           "hovertemplate": "<b>%{hovertext}</b><br><br>Date=02/06/2020<br>Confirmed=%{marker.color}<br>Country/Region=%{location}",
           "hovertext": [
            "Australia",
            "Belgium",
            "Cambodia",
            "Canada",
            "Egypt",
            "Finland",
            "France",
            "Germany",
            "Hong Kong",
            "India",
            "Iran",
            "Italy",
            "Japan",
            "Macau",
            "Malaysia",
            "Nepal",
            "Philippines",
            "Russia",
            "Singapore",
            "South Korea",
            "Spain",
            "Sri Lanka",
            "Sweden",
            "Taiwan",
            "Thailand",
            "UK",
            "US",
            "United Arab Emirates",
            "Vietnam"
           ],
           "legendgroup": "",
           "locationmode": "country names",
           "locations": [
            "Australia",
            "Belgium",
            "Cambodia",
            "Canada",
            "Egypt",
            "Finland",
            "France",
            "Germany",
            "Hong Kong",
            "India",
            "Iran",
            "Italy",
            "Japan",
            "Macau",
            "Malaysia",
            "Nepal",
            "Philippines",
            "Russia",
            "Singapore",
            "South Korea",
            "Spain",
            "Sri Lanka",
            "Sweden",
            "Taiwan",
            "Thailand",
            "UK",
            "US",
            "United Arab Emirates",
            "Vietnam"
           ],
           "marker": {
            "color": [
             4,
             1,
             1,
             2,
             0,
             1,
             6,
             12,
             24,
             3,
             0,
             2,
             45,
             10,
             12,
             1,
             2,
             2,
             28,
             23,
             1,
             1,
             1,
             16,
             25,
             2,
             2,
             5,
             10
            ],
            "coloraxis": "coloraxis",
            "size": [
             4,
             1,
             1,
             2,
             0,
             1,
             6,
             12,
             24,
             3,
             0,
             2,
             45,
             10,
             12,
             1,
             2,
             2,
             28,
             23,
             1,
             1,
             1,
             16,
             25,
             2,
             2,
             5,
             10
            ],
            "sizemode": "area",
            "sizeref": 0.21
           },
           "name": "",
           "showlegend": false,
           "type": "scattergeo"
          }
         ],
         "name": "02/06/2020"
        },
        {
         "data": [
          {
           "geo": "geo",
           "hoverlabel": {
            "namelength": 0
           },
           "hovertemplate": "<b>%{hovertext}</b><br><br>Date=02/07/2020<br>Confirmed=%{marker.color}<br>Country/Region=%{location}",
           "hovertext": [
            "Australia",
            "Belgium",
            "Cambodia",
            "Canada",
            "Egypt",
            "Finland",
            "France",
            "Germany",
            "Hong Kong",
            "India",
            "Iran",
            "Italy",
            "Japan",
            "Macau",
            "Malaysia",
            "Nepal",
            "Philippines",
            "Russia",
            "Singapore",
            "South Korea",
            "Spain",
            "Sri Lanka",
            "Sweden",
            "Taiwan",
            "Thailand",
            "UK",
            "US",
            "United Arab Emirates",
            "Vietnam"
           ],
           "legendgroup": "",
           "locationmode": "country names",
           "locations": [
            "Australia",
            "Belgium",
            "Cambodia",
            "Canada",
            "Egypt",
            "Finland",
            "France",
            "Germany",
            "Hong Kong",
            "India",
            "Iran",
            "Italy",
            "Japan",
            "Macau",
            "Malaysia",
            "Nepal",
            "Philippines",
            "Russia",
            "Singapore",
            "South Korea",
            "Spain",
            "Sri Lanka",
            "Sweden",
            "Taiwan",
            "Thailand",
            "UK",
            "US",
            "United Arab Emirates",
            "Vietnam"
           ],
           "marker": {
            "color": [
             5,
             1,
             1,
             4,
             0,
             1,
             6,
             13,
             25,
             3,
             0,
             3,
             25,
             10,
             12,
             1,
             3,
             2,
             30,
             24,
             1,
             1,
             1,
             16,
             25,
             3,
             2,
             5,
             10
            ],
            "coloraxis": "coloraxis",
            "size": [
             5,
             1,
             1,
             4,
             0,
             1,
             6,
             13,
             25,
             3,
             0,
             3,
             25,
             10,
             12,
             1,
             3,
             2,
             30,
             24,
             1,
             1,
             1,
             16,
             25,
             3,
             2,
             5,
             10
            ],
            "sizemode": "area",
            "sizeref": 0.21
           },
           "name": "",
           "showlegend": false,
           "type": "scattergeo"
          }
         ],
         "name": "02/07/2020"
        },
        {
         "data": [
          {
           "geo": "geo",
           "hoverlabel": {
            "namelength": 0
           },
           "hovertemplate": "<b>%{hovertext}</b><br><br>Date=02/08/2020<br>Confirmed=%{marker.color}<br>Country/Region=%{location}",
           "hovertext": [
            "Australia",
            "Belgium",
            "Cambodia",
            "Canada",
            "Egypt",
            "Finland",
            "France",
            "Germany",
            "Hong Kong",
            "India",
            "Iran",
            "Italy",
            "Japan",
            "Macau",
            "Malaysia",
            "Nepal",
            "Philippines",
            "Russia",
            "Singapore",
            "South Korea",
            "Spain",
            "Sri Lanka",
            "Sweden",
            "Taiwan",
            "Thailand",
            "UK",
            "US",
            "United Arab Emirates",
            "Vietnam"
           ],
           "legendgroup": "",
           "locationmode": "country names",
           "locations": [
            "Australia",
            "Belgium",
            "Cambodia",
            "Canada",
            "Egypt",
            "Finland",
            "France",
            "Germany",
            "Hong Kong",
            "India",
            "Iran",
            "Italy",
            "Japan",
            "Macau",
            "Malaysia",
            "Nepal",
            "Philippines",
            "Russia",
            "Singapore",
            "South Korea",
            "Spain",
            "Sri Lanka",
            "Sweden",
            "Taiwan",
            "Thailand",
            "UK",
            "US",
            "United Arab Emirates",
            "Vietnam"
           ],
           "marker": {
            "color": [
             5,
             1,
             1,
             4,
             0,
             1,
             11,
             13,
             26,
             3,
             0,
             3,
             25,
             10,
             16,
             1,
             3,
             2,
             33,
             24,
             1,
             1,
             1,
             17,
             32,
             3,
             2,
             7,
             13
            ],
            "coloraxis": "coloraxis",
            "size": [
             5,
             1,
             1,
             4,
             0,
             1,
             11,
             13,
             26,
             3,
             0,
             3,
             25,
             10,
             16,
             1,
             3,
             2,
             33,
             24,
             1,
             1,
             1,
             17,
             32,
             3,
             2,
             7,
             13
            ],
            "sizemode": "area",
            "sizeref": 0.21
           },
           "name": "",
           "showlegend": false,
           "type": "scattergeo"
          }
         ],
         "name": "02/08/2020"
        },
        {
         "data": [
          {
           "geo": "geo",
           "hoverlabel": {
            "namelength": 0
           },
           "hovertemplate": "<b>%{hovertext}</b><br><br>Date=02/09/2020<br>Confirmed=%{marker.color}<br>Country/Region=%{location}",
           "hovertext": [
            "Australia",
            "Belgium",
            "Cambodia",
            "Canada",
            "Egypt",
            "Finland",
            "France",
            "Germany",
            "Hong Kong",
            "India",
            "Iran",
            "Italy",
            "Japan",
            "Macau",
            "Malaysia",
            "Nepal",
            "Philippines",
            "Russia",
            "Singapore",
            "South Korea",
            "Spain",
            "Sri Lanka",
            "Sweden",
            "Taiwan",
            "Thailand",
            "UK",
            "US",
            "United Arab Emirates",
            "Vietnam"
           ],
           "legendgroup": "",
           "locationmode": "country names",
           "locations": [
            "Australia",
            "Belgium",
            "Cambodia",
            "Canada",
            "Egypt",
            "Finland",
            "France",
            "Germany",
            "Hong Kong",
            "India",
            "Iran",
            "Italy",
            "Japan",
            "Macau",
            "Malaysia",
            "Nepal",
            "Philippines",
            "Russia",
            "Singapore",
            "South Korea",
            "Spain",
            "Sri Lanka",
            "Sweden",
            "Taiwan",
            "Thailand",
            "UK",
            "US",
            "United Arab Emirates",
            "Vietnam"
           ],
           "marker": {
            "color": [
             5,
             1,
             1,
             4,
             0,
             1,
             11,
             14,
             29,
             3,
             0,
             3,
             26,
             10,
             16,
             1,
             3,
             2,
             40,
             25,
             2,
             1,
             1,
             18,
             32,
             3,
             2,
             7,
             13
            ],
            "coloraxis": "coloraxis",
            "size": [
             5,
             1,
             1,
             4,
             0,
             1,
             11,
             14,
             29,
             3,
             0,
             3,
             26,
             10,
             16,
             1,
             3,
             2,
             40,
             25,
             2,
             1,
             1,
             18,
             32,
             3,
             2,
             7,
             13
            ],
            "sizemode": "area",
            "sizeref": 0.21
           },
           "name": "",
           "showlegend": false,
           "type": "scattergeo"
          }
         ],
         "name": "02/09/2020"
        },
        {
         "data": [
          {
           "geo": "geo",
           "hoverlabel": {
            "namelength": 0
           },
           "hovertemplate": "<b>%{hovertext}</b><br><br>Date=02/10/2020<br>Confirmed=%{marker.color}<br>Country/Region=%{location}",
           "hovertext": [
            "Australia",
            "Belgium",
            "Cambodia",
            "Canada",
            "Egypt",
            "Finland",
            "France",
            "Germany",
            "Hong Kong",
            "India",
            "Iran",
            "Italy",
            "Japan",
            "Macau",
            "Malaysia",
            "Nepal",
            "Philippines",
            "Russia",
            "Singapore",
            "South Korea",
            "Spain",
            "Sri Lanka",
            "Sweden",
            "Taiwan",
            "Thailand",
            "UK",
            "US",
            "United Arab Emirates",
            "Vietnam"
           ],
           "legendgroup": "",
           "locationmode": "country names",
           "locations": [
            "Australia",
            "Belgium",
            "Cambodia",
            "Canada",
            "Egypt",
            "Finland",
            "France",
            "Germany",
            "Hong Kong",
            "India",
            "Iran",
            "Italy",
            "Japan",
            "Macau",
            "Malaysia",
            "Nepal",
            "Philippines",
            "Russia",
            "Singapore",
            "South Korea",
            "Spain",
            "Sri Lanka",
            "Sweden",
            "Taiwan",
            "Thailand",
            "UK",
            "US",
            "United Arab Emirates",
            "Vietnam"
           ],
           "marker": {
            "color": [
             5,
             1,
             1,
             4,
             0,
             1,
             11,
             14,
             38,
             3,
             0,
             3,
             26,
             10,
             18,
             1,
             3,
             2,
             45,
             27,
             2,
             1,
             1,
             18,
             32,
             8,
             2,
             8,
             14
            ],
            "coloraxis": "coloraxis",
            "size": [
             5,
             1,
             1,
             4,
             0,
             1,
             11,
             14,
             38,
             3,
             0,
             3,
             26,
             10,
             18,
             1,
             3,
             2,
             45,
             27,
             2,
             1,
             1,
             18,
             32,
             8,
             2,
             8,
             14
            ],
            "sizemode": "area",
            "sizeref": 0.21
           },
           "name": "",
           "showlegend": false,
           "type": "scattergeo"
          }
         ],
         "name": "02/10/2020"
        },
        {
         "data": [
          {
           "geo": "geo",
           "hoverlabel": {
            "namelength": 0
           },
           "hovertemplate": "<b>%{hovertext}</b><br><br>Date=02/11/2020<br>Confirmed=%{marker.color}<br>Country/Region=%{location}",
           "hovertext": [
            "Australia",
            "Belgium",
            "Cambodia",
            "Canada",
            "Egypt",
            "Finland",
            "France",
            "Germany",
            "Hong Kong",
            "India",
            "Iran",
            "Italy",
            "Japan",
            "Macau",
            "Malaysia",
            "Nepal",
            "Philippines",
            "Russia",
            "Singapore",
            "South Korea",
            "Spain",
            "Sri Lanka",
            "Sweden",
            "Taiwan",
            "Thailand",
            "UK",
            "US",
            "United Arab Emirates",
            "Vietnam"
           ],
           "legendgroup": "",
           "locationmode": "country names",
           "locations": [
            "Australia",
            "Belgium",
            "Cambodia",
            "Canada",
            "Egypt",
            "Finland",
            "France",
            "Germany",
            "Hong Kong",
            "India",
            "Iran",
            "Italy",
            "Japan",
            "Macau",
            "Malaysia",
            "Nepal",
            "Philippines",
            "Russia",
            "Singapore",
            "South Korea",
            "Spain",
            "Sri Lanka",
            "Sweden",
            "Taiwan",
            "Thailand",
            "UK",
            "US",
            "United Arab Emirates",
            "Vietnam"
           ],
           "marker": {
            "color": [
             5,
             1,
             1,
             4,
             0,
             1,
             11,
             16,
             49,
             3,
             0,
             3,
             26,
             10,
             18,
             1,
             3,
             2,
             47,
             28,
             2,
             1,
             1,
             18,
             33,
             8,
             2,
             8,
             15
            ],
            "coloraxis": "coloraxis",
            "size": [
             5,
             1,
             1,
             4,
             0,
             1,
             11,
             16,
             49,
             3,
             0,
             3,
             26,
             10,
             18,
             1,
             3,
             2,
             47,
             28,
             2,
             1,
             1,
             18,
             33,
             8,
             2,
             8,
             15
            ],
            "sizemode": "area",
            "sizeref": 0.21
           },
           "name": "",
           "showlegend": false,
           "type": "scattergeo"
          }
         ],
         "name": "02/11/2020"
        },
        {
         "data": [
          {
           "geo": "geo",
           "hoverlabel": {
            "namelength": 0
           },
           "hovertemplate": "<b>%{hovertext}</b><br><br>Date=02/12/2020<br>Confirmed=%{marker.color}<br>Country/Region=%{location}",
           "hovertext": [
            "Australia",
            "Belgium",
            "Cambodia",
            "Canada",
            "Egypt",
            "Finland",
            "France",
            "Germany",
            "Hong Kong",
            "India",
            "Iran",
            "Italy",
            "Japan",
            "Macau",
            "Malaysia",
            "Nepal",
            "Philippines",
            "Russia",
            "Singapore",
            "South Korea",
            "Spain",
            "Sri Lanka",
            "Sweden",
            "Taiwan",
            "Thailand",
            "UK",
            "US",
            "United Arab Emirates",
            "Vietnam"
           ],
           "legendgroup": "",
           "locationmode": "country names",
           "locations": [
            "Australia",
            "Belgium",
            "Cambodia",
            "Canada",
            "Egypt",
            "Finland",
            "France",
            "Germany",
            "Hong Kong",
            "India",
            "Iran",
            "Italy",
            "Japan",
            "Macau",
            "Malaysia",
            "Nepal",
            "Philippines",
            "Russia",
            "Singapore",
            "South Korea",
            "Spain",
            "Sri Lanka",
            "Sweden",
            "Taiwan",
            "Thailand",
            "UK",
            "US",
            "United Arab Emirates",
            "Vietnam"
           ],
           "marker": {
            "color": [
             5,
             1,
             1,
             4,
             0,
             1,
             11,
             16,
             50,
             3,
             0,
             3,
             28,
             10,
             18,
             1,
             3,
             2,
             50,
             28,
             2,
             1,
             1,
             18,
             33,
             9,
             2,
             8,
             15
            ],
            "coloraxis": "coloraxis",
            "size": [
             5,
             1,
             1,
             4,
             0,
             1,
             11,
             16,
             50,
             3,
             0,
             3,
             28,
             10,
             18,
             1,
             3,
             2,
             50,
             28,
             2,
             1,
             1,
             18,
             33,
             9,
             2,
             8,
             15
            ],
            "sizemode": "area",
            "sizeref": 0.21
           },
           "name": "",
           "showlegend": false,
           "type": "scattergeo"
          }
         ],
         "name": "02/12/2020"
        },
        {
         "data": [
          {
           "geo": "geo",
           "hoverlabel": {
            "namelength": 0
           },
           "hovertemplate": "<b>%{hovertext}</b><br><br>Date=02/13/2020<br>Confirmed=%{marker.color}<br>Country/Region=%{location}",
           "hovertext": [
            "Australia",
            "Belgium",
            "Cambodia",
            "Canada",
            "Egypt",
            "Finland",
            "France",
            "Germany",
            "Hong Kong",
            "India",
            "Iran",
            "Italy",
            "Japan",
            "Macau",
            "Malaysia",
            "Nepal",
            "Philippines",
            "Russia",
            "Singapore",
            "South Korea",
            "Spain",
            "Sri Lanka",
            "Sweden",
            "Taiwan",
            "Thailand",
            "UK",
            "US",
            "United Arab Emirates",
            "Vietnam"
           ],
           "legendgroup": "",
           "locationmode": "country names",
           "locations": [
            "Australia",
            "Belgium",
            "Cambodia",
            "Canada",
            "Egypt",
            "Finland",
            "France",
            "Germany",
            "Hong Kong",
            "India",
            "Iran",
            "Italy",
            "Japan",
            "Macau",
            "Malaysia",
            "Nepal",
            "Philippines",
            "Russia",
            "Singapore",
            "South Korea",
            "Spain",
            "Sri Lanka",
            "Sweden",
            "Taiwan",
            "Thailand",
            "UK",
            "US",
            "United Arab Emirates",
            "Vietnam"
           ],
           "marker": {
            "color": [
             5,
             1,
             1,
             4,
             0,
             1,
             11,
             16,
             53,
             3,
             0,
             3,
             28,
             10,
             19,
             1,
             3,
             2,
             58,
             28,
             2,
             1,
             1,
             18,
             33,
             9,
             2,
             8,
             16
            ],
            "coloraxis": "coloraxis",
            "size": [
             5,
             1,
             1,
             4,
             0,
             1,
             11,
             16,
             53,
             3,
             0,
             3,
             28,
             10,
             19,
             1,
             3,
             2,
             58,
             28,
             2,
             1,
             1,
             18,
             33,
             9,
             2,
             8,
             16
            ],
            "sizemode": "area",
            "sizeref": 0.21
           },
           "name": "",
           "showlegend": false,
           "type": "scattergeo"
          }
         ],
         "name": "02/13/2020"
        },
        {
         "data": [
          {
           "geo": "geo",
           "hoverlabel": {
            "namelength": 0
           },
           "hovertemplate": "<b>%{hovertext}</b><br><br>Date=02/14/2020<br>Confirmed=%{marker.color}<br>Country/Region=%{location}",
           "hovertext": [
            "Australia",
            "Belgium",
            "Cambodia",
            "Canada",
            "Egypt",
            "Finland",
            "France",
            "Germany",
            "Hong Kong",
            "India",
            "Iran",
            "Italy",
            "Japan",
            "Macau",
            "Malaysia",
            "Nepal",
            "Philippines",
            "Russia",
            "Singapore",
            "South Korea",
            "Spain",
            "Sri Lanka",
            "Sweden",
            "Taiwan",
            "Thailand",
            "UK",
            "US",
            "United Arab Emirates",
            "Vietnam"
           ],
           "legendgroup": "",
           "locationmode": "country names",
           "locations": [
            "Australia",
            "Belgium",
            "Cambodia",
            "Canada",
            "Egypt",
            "Finland",
            "France",
            "Germany",
            "Hong Kong",
            "India",
            "Iran",
            "Italy",
            "Japan",
            "Macau",
            "Malaysia",
            "Nepal",
            "Philippines",
            "Russia",
            "Singapore",
            "South Korea",
            "Spain",
            "Sri Lanka",
            "Sweden",
            "Taiwan",
            "Thailand",
            "UK",
            "US",
            "United Arab Emirates",
            "Vietnam"
           ],
           "marker": {
            "color": [
             5,
             1,
             1,
             4,
             1,
             1,
             11,
             16,
             56,
             3,
             0,
             3,
             29,
             10,
             19,
             1,
             3,
             2,
             67,
             28,
             2,
             1,
             1,
             18,
             33,
             9,
             2,
             8,
             16
            ],
            "coloraxis": "coloraxis",
            "size": [
             5,
             1,
             1,
             4,
             1,
             1,
             11,
             16,
             56,
             3,
             0,
             3,
             29,
             10,
             19,
             1,
             3,
             2,
             67,
             28,
             2,
             1,
             1,
             18,
             33,
             9,
             2,
             8,
             16
            ],
            "sizemode": "area",
            "sizeref": 0.21
           },
           "name": "",
           "showlegend": false,
           "type": "scattergeo"
          }
         ],
         "name": "02/14/2020"
        },
        {
         "data": [
          {
           "geo": "geo",
           "hoverlabel": {
            "namelength": 0
           },
           "hovertemplate": "<b>%{hovertext}</b><br><br>Date=02/15/2020<br>Confirmed=%{marker.color}<br>Country/Region=%{location}",
           "hovertext": [
            "Australia",
            "Belgium",
            "Cambodia",
            "Canada",
            "Egypt",
            "Finland",
            "France",
            "Germany",
            "Hong Kong",
            "India",
            "Iran",
            "Italy",
            "Japan",
            "Macau",
            "Malaysia",
            "Nepal",
            "Philippines",
            "Russia",
            "Singapore",
            "South Korea",
            "Spain",
            "Sri Lanka",
            "Sweden",
            "Taiwan",
            "Thailand",
            "UK",
            "US",
            "United Arab Emirates",
            "Vietnam"
           ],
           "legendgroup": "",
           "locationmode": "country names",
           "locations": [
            "Australia",
            "Belgium",
            "Cambodia",
            "Canada",
            "Egypt",
            "Finland",
            "France",
            "Germany",
            "Hong Kong",
            "India",
            "Iran",
            "Italy",
            "Japan",
            "Macau",
            "Malaysia",
            "Nepal",
            "Philippines",
            "Russia",
            "Singapore",
            "South Korea",
            "Spain",
            "Sri Lanka",
            "Sweden",
            "Taiwan",
            "Thailand",
            "UK",
            "US",
            "United Arab Emirates",
            "Vietnam"
           ],
           "marker": {
            "color": [
             5,
             1,
             1,
             4,
             1,
             1,
             12,
             16,
             56,
             3,
             0,
             3,
             43,
             10,
             22,
             1,
             3,
             2,
             72,
             28,
             2,
             1,
             1,
             18,
             33,
             9,
             2,
             8,
             16
            ],
            "coloraxis": "coloraxis",
            "size": [
             5,
             1,
             1,
             4,
             1,
             1,
             12,
             16,
             56,
             3,
             0,
             3,
             43,
             10,
             22,
             1,
             3,
             2,
             72,
             28,
             2,
             1,
             1,
             18,
             33,
             9,
             2,
             8,
             16
            ],
            "sizemode": "area",
            "sizeref": 0.21
           },
           "name": "",
           "showlegend": false,
           "type": "scattergeo"
          }
         ],
         "name": "02/15/2020"
        },
        {
         "data": [
          {
           "geo": "geo",
           "hoverlabel": {
            "namelength": 0
           },
           "hovertemplate": "<b>%{hovertext}</b><br><br>Date=02/16/2020<br>Confirmed=%{marker.color}<br>Country/Region=%{location}",
           "hovertext": [
            "Australia",
            "Belgium",
            "Cambodia",
            "Canada",
            "Egypt",
            "Finland",
            "France",
            "Germany",
            "Hong Kong",
            "India",
            "Iran",
            "Italy",
            "Japan",
            "Macau",
            "Malaysia",
            "Nepal",
            "Philippines",
            "Russia",
            "Singapore",
            "South Korea",
            "Spain",
            "Sri Lanka",
            "Sweden",
            "Taiwan",
            "Thailand",
            "UK",
            "US",
            "United Arab Emirates",
            "Vietnam"
           ],
           "legendgroup": "",
           "locationmode": "country names",
           "locations": [
            "Australia",
            "Belgium",
            "Cambodia",
            "Canada",
            "Egypt",
            "Finland",
            "France",
            "Germany",
            "Hong Kong",
            "India",
            "Iran",
            "Italy",
            "Japan",
            "Macau",
            "Malaysia",
            "Nepal",
            "Philippines",
            "Russia",
            "Singapore",
            "South Korea",
            "Spain",
            "Sri Lanka",
            "Sweden",
            "Taiwan",
            "Thailand",
            "UK",
            "US",
            "United Arab Emirates",
            "Vietnam"
           ],
           "marker": {
            "color": [
             5,
             1,
             1,
             4,
             1,
             1,
             12,
             16,
             57,
             3,
             0,
             3,
             59,
             10,
             22,
             1,
             3,
             2,
             75,
             29,
             2,
             1,
             1,
             20,
             34,
             9,
             2,
             9,
             16
            ],
            "coloraxis": "coloraxis",
            "size": [
             5,
             1,
             1,
             4,
             1,
             1,
             12,
             16,
             57,
             3,
             0,
             3,
             59,
             10,
             22,
             1,
             3,
             2,
             75,
             29,
             2,
             1,
             1,
             20,
             34,
             9,
             2,
             9,
             16
            ],
            "sizemode": "area",
            "sizeref": 0.21
           },
           "name": "",
           "showlegend": false,
           "type": "scattergeo"
          }
         ],
         "name": "02/16/2020"
        },
        {
         "data": [
          {
           "geo": "geo",
           "hoverlabel": {
            "namelength": 0
           },
           "hovertemplate": "<b>%{hovertext}</b><br><br>Date=02/17/2020<br>Confirmed=%{marker.color}<br>Country/Region=%{location}",
           "hovertext": [
            "Australia",
            "Belgium",
            "Cambodia",
            "Canada",
            "Egypt",
            "Finland",
            "France",
            "Germany",
            "Hong Kong",
            "India",
            "Iran",
            "Italy",
            "Japan",
            "Macau",
            "Malaysia",
            "Nepal",
            "Philippines",
            "Russia",
            "Singapore",
            "South Korea",
            "Spain",
            "Sri Lanka",
            "Sweden",
            "Taiwan",
            "Thailand",
            "UK",
            "US",
            "United Arab Emirates",
            "Vietnam"
           ],
           "legendgroup": "",
           "locationmode": "country names",
           "locations": [
            "Australia",
            "Belgium",
            "Cambodia",
            "Canada",
            "Egypt",
            "Finland",
            "France",
            "Germany",
            "Hong Kong",
            "India",
            "Iran",
            "Italy",
            "Japan",
            "Macau",
            "Malaysia",
            "Nepal",
            "Philippines",
            "Russia",
            "Singapore",
            "South Korea",
            "Spain",
            "Sri Lanka",
            "Sweden",
            "Taiwan",
            "Thailand",
            "UK",
            "US",
            "United Arab Emirates",
            "Vietnam"
           ],
           "marker": {
            "color": [
             5,
             1,
             1,
             5,
             1,
             1,
             12,
             16,
             60,
             3,
             0,
             3,
             66,
             10,
             22,
             1,
             3,
             2,
             77,
             30,
             2,
             1,
             1,
             22,
             35,
             9,
             2,
             9,
             16
            ],
            "coloraxis": "coloraxis",
            "size": [
             5,
             1,
             1,
             5,
             1,
             1,
             12,
             16,
             60,
             3,
             0,
             3,
             66,
             10,
             22,
             1,
             3,
             2,
             77,
             30,
             2,
             1,
             1,
             22,
             35,
             9,
             2,
             9,
             16
            ],
            "sizemode": "area",
            "sizeref": 0.21
           },
           "name": "",
           "showlegend": false,
           "type": "scattergeo"
          }
         ],
         "name": "02/17/2020"
        },
        {
         "data": [
          {
           "geo": "geo",
           "hoverlabel": {
            "namelength": 0
           },
           "hovertemplate": "<b>%{hovertext}</b><br><br>Date=02/18/2020<br>Confirmed=%{marker.color}<br>Country/Region=%{location}",
           "hovertext": [
            "Australia",
            "Belgium",
            "Cambodia",
            "Canada",
            "Egypt",
            "Finland",
            "France",
            "Germany",
            "Hong Kong",
            "India",
            "Iran",
            "Italy",
            "Japan",
            "Macau",
            "Malaysia",
            "Nepal",
            "Philippines",
            "Russia",
            "Singapore",
            "South Korea",
            "Spain",
            "Sri Lanka",
            "Sweden",
            "Taiwan",
            "Thailand",
            "UK",
            "US",
            "United Arab Emirates",
            "Vietnam"
           ],
           "legendgroup": "",
           "locationmode": "country names",
           "locations": [
            "Australia",
            "Belgium",
            "Cambodia",
            "Canada",
            "Egypt",
            "Finland",
            "France",
            "Germany",
            "Hong Kong",
            "India",
            "Iran",
            "Italy",
            "Japan",
            "Macau",
            "Malaysia",
            "Nepal",
            "Philippines",
            "Russia",
            "Singapore",
            "South Korea",
            "Spain",
            "Sri Lanka",
            "Sweden",
            "Taiwan",
            "Thailand",
            "UK",
            "US",
            "United Arab Emirates",
            "Vietnam"
           ],
           "marker": {
            "color": [
             5,
             1,
             1,
             5,
             1,
             1,
             12,
             16,
             62,
             3,
             0,
             3,
             74,
             10,
             22,
             1,
             3,
             2,
             81,
             31,
             2,
             1,
             1,
             22,
             35,
             9,
             2,
             9,
             16
            ],
            "coloraxis": "coloraxis",
            "size": [
             5,
             1,
             1,
             5,
             1,
             1,
             12,
             16,
             62,
             3,
             0,
             3,
             74,
             10,
             22,
             1,
             3,
             2,
             81,
             31,
             2,
             1,
             1,
             22,
             35,
             9,
             2,
             9,
             16
            ],
            "sizemode": "area",
            "sizeref": 0.21
           },
           "name": "",
           "showlegend": false,
           "type": "scattergeo"
          }
         ],
         "name": "02/18/2020"
        },
        {
         "data": [
          {
           "geo": "geo",
           "hoverlabel": {
            "namelength": 0
           },
           "hovertemplate": "<b>%{hovertext}</b><br><br>Date=02/19/2020<br>Confirmed=%{marker.color}<br>Country/Region=%{location}",
           "hovertext": [
            "Australia",
            "Belgium",
            "Cambodia",
            "Canada",
            "Egypt",
            "Finland",
            "France",
            "Germany",
            "Hong Kong",
            "India",
            "Iran",
            "Italy",
            "Japan",
            "Macau",
            "Malaysia",
            "Nepal",
            "Philippines",
            "Russia",
            "Singapore",
            "South Korea",
            "Spain",
            "Sri Lanka",
            "Sweden",
            "Taiwan",
            "Thailand",
            "UK",
            "US",
            "United Arab Emirates",
            "Vietnam"
           ],
           "legendgroup": "",
           "locationmode": "country names",
           "locations": [
            "Australia",
            "Belgium",
            "Cambodia",
            "Canada",
            "Egypt",
            "Finland",
            "France",
            "Germany",
            "Hong Kong",
            "India",
            "Iran",
            "Italy",
            "Japan",
            "Macau",
            "Malaysia",
            "Nepal",
            "Philippines",
            "Russia",
            "Singapore",
            "South Korea",
            "Spain",
            "Sri Lanka",
            "Sweden",
            "Taiwan",
            "Thailand",
            "UK",
            "US",
            "United Arab Emirates",
            "Vietnam"
           ],
           "marker": {
            "color": [
             5,
             1,
             1,
             5,
             1,
             1,
             12,
             16,
             63,
             3,
             2,
             3,
             84,
             10,
             22,
             1,
             3,
             2,
             84,
             31,
             2,
             1,
             1,
             23,
             35,
             9,
             2,
             9,
             16
            ],
            "coloraxis": "coloraxis",
            "size": [
             5,
             1,
             1,
             5,
             1,
             1,
             12,
             16,
             63,
             3,
             2,
             3,
             84,
             10,
             22,
             1,
             3,
             2,
             84,
             31,
             2,
             1,
             1,
             23,
             35,
             9,
             2,
             9,
             16
            ],
            "sizemode": "area",
            "sizeref": 0.21
           },
           "name": "",
           "showlegend": false,
           "type": "scattergeo"
          }
         ],
         "name": "02/19/2020"
        }
       ],
       "layout": {
        "coloraxis": {
         "cmax": 86,
         "cmin": 0,
         "colorbar": {
          "title": {
           "text": "Confirmed"
          }
         },
         "colorscale": [
          [
           0,
           "#0d0887"
          ],
          [
           0.1111111111111111,
           "#46039f"
          ],
          [
           0.2222222222222222,
           "#7201a8"
          ],
          [
           0.3333333333333333,
           "#9c179e"
          ],
          [
           0.4444444444444444,
           "#bd3786"
          ],
          [
           0.5555555555555556,
           "#d8576b"
          ],
          [
           0.6666666666666666,
           "#ed7953"
          ],
          [
           0.7777777777777778,
           "#fb9f3a"
          ],
          [
           0.8888888888888888,
           "#fdca26"
          ],
          [
           1,
           "#f0f921"
          ]
         ],
         "showscale": false
        },
        "geo": {
         "center": {},
         "domain": {
          "x": [
           0,
           1
          ],
          "y": [
           0,
           1
          ]
         },
         "projection": {
          "type": "natural earth"
         }
        },
        "legend": {
         "itemsizing": "constant",
         "tracegroupgap": 0
        },
        "sliders": [
         {
          "active": 0,
          "currentvalue": {
           "prefix": "Date="
          },
          "len": 0.9,
          "pad": {
           "b": 10,
           "t": 60
          },
          "steps": [
           {
            "args": [
             [
              "01/22/2020"
             ],
             {
              "frame": {
               "duration": 0,
               "redraw": true
              },
              "fromcurrent": true,
              "mode": "immediate",
              "transition": {
               "duration": 0,
               "easing": "linear"
              }
             }
            ],
            "label": "01/22/2020",
            "method": "animate"
           },
           {
            "args": [
             [
              "01/23/2020"
             ],
             {
              "frame": {
               "duration": 0,
               "redraw": true
              },
              "fromcurrent": true,
              "mode": "immediate",
              "transition": {
               "duration": 0,
               "easing": "linear"
              }
             }
            ],
            "label": "01/23/2020",
            "method": "animate"
           },
           {
            "args": [
             [
              "01/24/2020"
             ],
             {
              "frame": {
               "duration": 0,
               "redraw": true
              },
              "fromcurrent": true,
              "mode": "immediate",
              "transition": {
               "duration": 0,
               "easing": "linear"
              }
             }
            ],
            "label": "01/24/2020",
            "method": "animate"
           },
           {
            "args": [
             [
              "01/25/2020"
             ],
             {
              "frame": {
               "duration": 0,
               "redraw": true
              },
              "fromcurrent": true,
              "mode": "immediate",
              "transition": {
               "duration": 0,
               "easing": "linear"
              }
             }
            ],
            "label": "01/25/2020",
            "method": "animate"
           },
           {
            "args": [
             [
              "01/26/2020"
             ],
             {
              "frame": {
               "duration": 0,
               "redraw": true
              },
              "fromcurrent": true,
              "mode": "immediate",
              "transition": {
               "duration": 0,
               "easing": "linear"
              }
             }
            ],
            "label": "01/26/2020",
            "method": "animate"
           },
           {
            "args": [
             [
              "01/27/2020"
             ],
             {
              "frame": {
               "duration": 0,
               "redraw": true
              },
              "fromcurrent": true,
              "mode": "immediate",
              "transition": {
               "duration": 0,
               "easing": "linear"
              }
             }
            ],
            "label": "01/27/2020",
            "method": "animate"
           },
           {
            "args": [
             [
              "01/28/2020"
             ],
             {
              "frame": {
               "duration": 0,
               "redraw": true
              },
              "fromcurrent": true,
              "mode": "immediate",
              "transition": {
               "duration": 0,
               "easing": "linear"
              }
             }
            ],
            "label": "01/28/2020",
            "method": "animate"
           },
           {
            "args": [
             [
              "01/29/2020"
             ],
             {
              "frame": {
               "duration": 0,
               "redraw": true
              },
              "fromcurrent": true,
              "mode": "immediate",
              "transition": {
               "duration": 0,
               "easing": "linear"
              }
             }
            ],
            "label": "01/29/2020",
            "method": "animate"
           },
           {
            "args": [
             [
              "01/30/2020"
             ],
             {
              "frame": {
               "duration": 0,
               "redraw": true
              },
              "fromcurrent": true,
              "mode": "immediate",
              "transition": {
               "duration": 0,
               "easing": "linear"
              }
             }
            ],
            "label": "01/30/2020",
            "method": "animate"
           },
           {
            "args": [
             [
              "01/31/2020"
             ],
             {
              "frame": {
               "duration": 0,
               "redraw": true
              },
              "fromcurrent": true,
              "mode": "immediate",
              "transition": {
               "duration": 0,
               "easing": "linear"
              }
             }
            ],
            "label": "01/31/2020",
            "method": "animate"
           },
           {
            "args": [
             [
              "02/01/2020"
             ],
             {
              "frame": {
               "duration": 0,
               "redraw": true
              },
              "fromcurrent": true,
              "mode": "immediate",
              "transition": {
               "duration": 0,
               "easing": "linear"
              }
             }
            ],
            "label": "02/01/2020",
            "method": "animate"
           },
           {
            "args": [
             [
              "02/02/2020"
             ],
             {
              "frame": {
               "duration": 0,
               "redraw": true
              },
              "fromcurrent": true,
              "mode": "immediate",
              "transition": {
               "duration": 0,
               "easing": "linear"
              }
             }
            ],
            "label": "02/02/2020",
            "method": "animate"
           },
           {
            "args": [
             [
              "02/03/2020"
             ],
             {
              "frame": {
               "duration": 0,
               "redraw": true
              },
              "fromcurrent": true,
              "mode": "immediate",
              "transition": {
               "duration": 0,
               "easing": "linear"
              }
             }
            ],
            "label": "02/03/2020",
            "method": "animate"
           },
           {
            "args": [
             [
              "02/04/2020"
             ],
             {
              "frame": {
               "duration": 0,
               "redraw": true
              },
              "fromcurrent": true,
              "mode": "immediate",
              "transition": {
               "duration": 0,
               "easing": "linear"
              }
             }
            ],
            "label": "02/04/2020",
            "method": "animate"
           },
           {
            "args": [
             [
              "02/05/2020"
             ],
             {
              "frame": {
               "duration": 0,
               "redraw": true
              },
              "fromcurrent": true,
              "mode": "immediate",
              "transition": {
               "duration": 0,
               "easing": "linear"
              }
             }
            ],
            "label": "02/05/2020",
            "method": "animate"
           },
           {
            "args": [
             [
              "02/06/2020"
             ],
             {
              "frame": {
               "duration": 0,
               "redraw": true
              },
              "fromcurrent": true,
              "mode": "immediate",
              "transition": {
               "duration": 0,
               "easing": "linear"
              }
             }
            ],
            "label": "02/06/2020",
            "method": "animate"
           },
           {
            "args": [
             [
              "02/07/2020"
             ],
             {
              "frame": {
               "duration": 0,
               "redraw": true
              },
              "fromcurrent": true,
              "mode": "immediate",
              "transition": {
               "duration": 0,
               "easing": "linear"
              }
             }
            ],
            "label": "02/07/2020",
            "method": "animate"
           },
           {
            "args": [
             [
              "02/08/2020"
             ],
             {
              "frame": {
               "duration": 0,
               "redraw": true
              },
              "fromcurrent": true,
              "mode": "immediate",
              "transition": {
               "duration": 0,
               "easing": "linear"
              }
             }
            ],
            "label": "02/08/2020",
            "method": "animate"
           },
           {
            "args": [
             [
              "02/09/2020"
             ],
             {
              "frame": {
               "duration": 0,
               "redraw": true
              },
              "fromcurrent": true,
              "mode": "immediate",
              "transition": {
               "duration": 0,
               "easing": "linear"
              }
             }
            ],
            "label": "02/09/2020",
            "method": "animate"
           },
           {
            "args": [
             [
              "02/10/2020"
             ],
             {
              "frame": {
               "duration": 0,
               "redraw": true
              },
              "fromcurrent": true,
              "mode": "immediate",
              "transition": {
               "duration": 0,
               "easing": "linear"
              }
             }
            ],
            "label": "02/10/2020",
            "method": "animate"
           },
           {
            "args": [
             [
              "02/11/2020"
             ],
             {
              "frame": {
               "duration": 0,
               "redraw": true
              },
              "fromcurrent": true,
              "mode": "immediate",
              "transition": {
               "duration": 0,
               "easing": "linear"
              }
             }
            ],
            "label": "02/11/2020",
            "method": "animate"
           },
           {
            "args": [
             [
              "02/12/2020"
             ],
             {
              "frame": {
               "duration": 0,
               "redraw": true
              },
              "fromcurrent": true,
              "mode": "immediate",
              "transition": {
               "duration": 0,
               "easing": "linear"
              }
             }
            ],
            "label": "02/12/2020",
            "method": "animate"
           },
           {
            "args": [
             [
              "02/13/2020"
             ],
             {
              "frame": {
               "duration": 0,
               "redraw": true
              },
              "fromcurrent": true,
              "mode": "immediate",
              "transition": {
               "duration": 0,
               "easing": "linear"
              }
             }
            ],
            "label": "02/13/2020",
            "method": "animate"
           },
           {
            "args": [
             [
              "02/14/2020"
             ],
             {
              "frame": {
               "duration": 0,
               "redraw": true
              },
              "fromcurrent": true,
              "mode": "immediate",
              "transition": {
               "duration": 0,
               "easing": "linear"
              }
             }
            ],
            "label": "02/14/2020",
            "method": "animate"
           },
           {
            "args": [
             [
              "02/15/2020"
             ],
             {
              "frame": {
               "duration": 0,
               "redraw": true
              },
              "fromcurrent": true,
              "mode": "immediate",
              "transition": {
               "duration": 0,
               "easing": "linear"
              }
             }
            ],
            "label": "02/15/2020",
            "method": "animate"
           },
           {
            "args": [
             [
              "02/16/2020"
             ],
             {
              "frame": {
               "duration": 0,
               "redraw": true
              },
              "fromcurrent": true,
              "mode": "immediate",
              "transition": {
               "duration": 0,
               "easing": "linear"
              }
             }
            ],
            "label": "02/16/2020",
            "method": "animate"
           },
           {
            "args": [
             [
              "02/17/2020"
             ],
             {
              "frame": {
               "duration": 0,
               "redraw": true
              },
              "fromcurrent": true,
              "mode": "immediate",
              "transition": {
               "duration": 0,
               "easing": "linear"
              }
             }
            ],
            "label": "02/17/2020",
            "method": "animate"
           },
           {
            "args": [
             [
              "02/18/2020"
             ],
             {
              "frame": {
               "duration": 0,
               "redraw": true
              },
              "fromcurrent": true,
              "mode": "immediate",
              "transition": {
               "duration": 0,
               "easing": "linear"
              }
             }
            ],
            "label": "02/18/2020",
            "method": "animate"
           },
           {
            "args": [
             [
              "02/19/2020"
             ],
             {
              "frame": {
               "duration": 0,
               "redraw": true
              },
              "fromcurrent": true,
              "mode": "immediate",
              "transition": {
               "duration": 0,
               "easing": "linear"
              }
             }
            ],
            "label": "02/19/2020",
            "method": "animate"
           }
          ],
          "x": 0.1,
          "xanchor": "left",
          "y": 0,
          "yanchor": "top"
         }
        ],
        "template": {
         "data": {
          "bar": [
           {
            "error_x": {
             "color": "#2a3f5f"
            },
            "error_y": {
             "color": "#2a3f5f"
            },
            "marker": {
             "line": {
              "color": "#E5ECF6",
              "width": 0.5
             }
            },
            "type": "bar"
           }
          ],
          "barpolar": [
           {
            "marker": {
             "line": {
              "color": "#E5ECF6",
              "width": 0.5
             }
            },
            "type": "barpolar"
           }
          ],
          "carpet": [
           {
            "aaxis": {
             "endlinecolor": "#2a3f5f",
             "gridcolor": "white",
             "linecolor": "white",
             "minorgridcolor": "white",
             "startlinecolor": "#2a3f5f"
            },
            "baxis": {
             "endlinecolor": "#2a3f5f",
             "gridcolor": "white",
             "linecolor": "white",
             "minorgridcolor": "white",
             "startlinecolor": "#2a3f5f"
            },
            "type": "carpet"
           }
          ],
          "choropleth": [
           {
            "colorbar": {
             "outlinewidth": 0,
             "ticks": ""
            },
            "type": "choropleth"
           }
          ],
          "contour": [
           {
            "colorbar": {
             "outlinewidth": 0,
             "ticks": ""
            },
            "colorscale": [
             [
              0,
              "#0d0887"
             ],
             [
              0.1111111111111111,
              "#46039f"
             ],
             [
              0.2222222222222222,
              "#7201a8"
             ],
             [
              0.3333333333333333,
              "#9c179e"
             ],
             [
              0.4444444444444444,
              "#bd3786"
             ],
             [
              0.5555555555555556,
              "#d8576b"
             ],
             [
              0.6666666666666666,
              "#ed7953"
             ],
             [
              0.7777777777777778,
              "#fb9f3a"
             ],
             [
              0.8888888888888888,
              "#fdca26"
             ],
             [
              1,
              "#f0f921"
             ]
            ],
            "type": "contour"
           }
          ],
          "contourcarpet": [
           {
            "colorbar": {
             "outlinewidth": 0,
             "ticks": ""
            },
            "type": "contourcarpet"
           }
          ],
          "heatmap": [
           {
            "colorbar": {
             "outlinewidth": 0,
             "ticks": ""
            },
            "colorscale": [
             [
              0,
              "#0d0887"
             ],
             [
              0.1111111111111111,
              "#46039f"
             ],
             [
              0.2222222222222222,
              "#7201a8"
             ],
             [
              0.3333333333333333,
              "#9c179e"
             ],
             [
              0.4444444444444444,
              "#bd3786"
             ],
             [
              0.5555555555555556,
              "#d8576b"
             ],
             [
              0.6666666666666666,
              "#ed7953"
             ],
             [
              0.7777777777777778,
              "#fb9f3a"
             ],
             [
              0.8888888888888888,
              "#fdca26"
             ],
             [
              1,
              "#f0f921"
             ]
            ],
            "type": "heatmap"
           }
          ],
          "heatmapgl": [
           {
            "colorbar": {
             "outlinewidth": 0,
             "ticks": ""
            },
            "colorscale": [
             [
              0,
              "#0d0887"
             ],
             [
              0.1111111111111111,
              "#46039f"
             ],
             [
              0.2222222222222222,
              "#7201a8"
             ],
             [
              0.3333333333333333,
              "#9c179e"
             ],
             [
              0.4444444444444444,
              "#bd3786"
             ],
             [
              0.5555555555555556,
              "#d8576b"
             ],
             [
              0.6666666666666666,
              "#ed7953"
             ],
             [
              0.7777777777777778,
              "#fb9f3a"
             ],
             [
              0.8888888888888888,
              "#fdca26"
             ],
             [
              1,
              "#f0f921"
             ]
            ],
            "type": "heatmapgl"
           }
          ],
          "histogram": [
           {
            "marker": {
             "colorbar": {
              "outlinewidth": 0,
              "ticks": ""
             }
            },
            "type": "histogram"
           }
          ],
          "histogram2d": [
           {
            "colorbar": {
             "outlinewidth": 0,
             "ticks": ""
            },
            "colorscale": [
             [
              0,
              "#0d0887"
             ],
             [
              0.1111111111111111,
              "#46039f"
             ],
             [
              0.2222222222222222,
              "#7201a8"
             ],
             [
              0.3333333333333333,
              "#9c179e"
             ],
             [
              0.4444444444444444,
              "#bd3786"
             ],
             [
              0.5555555555555556,
              "#d8576b"
             ],
             [
              0.6666666666666666,
              "#ed7953"
             ],
             [
              0.7777777777777778,
              "#fb9f3a"
             ],
             [
              0.8888888888888888,
              "#fdca26"
             ],
             [
              1,
              "#f0f921"
             ]
            ],
            "type": "histogram2d"
           }
          ],
          "histogram2dcontour": [
           {
            "colorbar": {
             "outlinewidth": 0,
             "ticks": ""
            },
            "colorscale": [
             [
              0,
              "#0d0887"
             ],
             [
              0.1111111111111111,
              "#46039f"
             ],
             [
              0.2222222222222222,
              "#7201a8"
             ],
             [
              0.3333333333333333,
              "#9c179e"
             ],
             [
              0.4444444444444444,
              "#bd3786"
             ],
             [
              0.5555555555555556,
              "#d8576b"
             ],
             [
              0.6666666666666666,
              "#ed7953"
             ],
             [
              0.7777777777777778,
              "#fb9f3a"
             ],
             [
              0.8888888888888888,
              "#fdca26"
             ],
             [
              1,
              "#f0f921"
             ]
            ],
            "type": "histogram2dcontour"
           }
          ],
          "mesh3d": [
           {
            "colorbar": {
             "outlinewidth": 0,
             "ticks": ""
            },
            "type": "mesh3d"
           }
          ],
          "parcoords": [
           {
            "line": {
             "colorbar": {
              "outlinewidth": 0,
              "ticks": ""
             }
            },
            "type": "parcoords"
           }
          ],
          "pie": [
           {
            "automargin": true,
            "type": "pie"
           }
          ],
          "scatter": [
           {
            "marker": {
             "colorbar": {
              "outlinewidth": 0,
              "ticks": ""
             }
            },
            "type": "scatter"
           }
          ],
          "scatter3d": [
           {
            "line": {
             "colorbar": {
              "outlinewidth": 0,
              "ticks": ""
             }
            },
            "marker": {
             "colorbar": {
              "outlinewidth": 0,
              "ticks": ""
             }
            },
            "type": "scatter3d"
           }
          ],
          "scattercarpet": [
           {
            "marker": {
             "colorbar": {
              "outlinewidth": 0,
              "ticks": ""
             }
            },
            "type": "scattercarpet"
           }
          ],
          "scattergeo": [
           {
            "marker": {
             "colorbar": {
              "outlinewidth": 0,
              "ticks": ""
             }
            },
            "type": "scattergeo"
           }
          ],
          "scattergl": [
           {
            "marker": {
             "colorbar": {
              "outlinewidth": 0,
              "ticks": ""
             }
            },
            "type": "scattergl"
           }
          ],
          "scattermapbox": [
           {
            "marker": {
             "colorbar": {
              "outlinewidth": 0,
              "ticks": ""
             }
            },
            "type": "scattermapbox"
           }
          ],
          "scatterpolar": [
           {
            "marker": {
             "colorbar": {
              "outlinewidth": 0,
              "ticks": ""
             }
            },
            "type": "scatterpolar"
           }
          ],
          "scatterpolargl": [
           {
            "marker": {
             "colorbar": {
              "outlinewidth": 0,
              "ticks": ""
             }
            },
            "type": "scatterpolargl"
           }
          ],
          "scatterternary": [
           {
            "marker": {
             "colorbar": {
              "outlinewidth": 0,
              "ticks": ""
             }
            },
            "type": "scatterternary"
           }
          ],
          "surface": [
           {
            "colorbar": {
             "outlinewidth": 0,
             "ticks": ""
            },
            "colorscale": [
             [
              0,
              "#0d0887"
             ],
             [
              0.1111111111111111,
              "#46039f"
             ],
             [
              0.2222222222222222,
              "#7201a8"
             ],
             [
              0.3333333333333333,
              "#9c179e"
             ],
             [
              0.4444444444444444,
              "#bd3786"
             ],
             [
              0.5555555555555556,
              "#d8576b"
             ],
             [
              0.6666666666666666,
              "#ed7953"
             ],
             [
              0.7777777777777778,
              "#fb9f3a"
             ],
             [
              0.8888888888888888,
              "#fdca26"
             ],
             [
              1,
              "#f0f921"
             ]
            ],
            "type": "surface"
           }
          ],
          "table": [
           {
            "cells": {
             "fill": {
              "color": "#EBF0F8"
             },
             "line": {
              "color": "white"
             }
            },
            "header": {
             "fill": {
              "color": "#C8D4E3"
             },
             "line": {
              "color": "white"
             }
            },
            "type": "table"
           }
          ]
         },
         "layout": {
          "annotationdefaults": {
           "arrowcolor": "#2a3f5f",
           "arrowhead": 0,
           "arrowwidth": 1
          },
          "coloraxis": {
           "colorbar": {
            "outlinewidth": 0,
            "ticks": ""
           }
          },
          "colorscale": {
           "diverging": [
            [
             0,
             "#8e0152"
            ],
            [
             0.1,
             "#c51b7d"
            ],
            [
             0.2,
             "#de77ae"
            ],
            [
             0.3,
             "#f1b6da"
            ],
            [
             0.4,
             "#fde0ef"
            ],
            [
             0.5,
             "#f7f7f7"
            ],
            [
             0.6,
             "#e6f5d0"
            ],
            [
             0.7,
             "#b8e186"
            ],
            [
             0.8,
             "#7fbc41"
            ],
            [
             0.9,
             "#4d9221"
            ],
            [
             1,
             "#276419"
            ]
           ],
           "sequential": [
            [
             0,
             "#0d0887"
            ],
            [
             0.1111111111111111,
             "#46039f"
            ],
            [
             0.2222222222222222,
             "#7201a8"
            ],
            [
             0.3333333333333333,
             "#9c179e"
            ],
            [
             0.4444444444444444,
             "#bd3786"
            ],
            [
             0.5555555555555556,
             "#d8576b"
            ],
            [
             0.6666666666666666,
             "#ed7953"
            ],
            [
             0.7777777777777778,
             "#fb9f3a"
            ],
            [
             0.8888888888888888,
             "#fdca26"
            ],
            [
             1,
             "#f0f921"
            ]
           ],
           "sequentialminus": [
            [
             0,
             "#0d0887"
            ],
            [
             0.1111111111111111,
             "#46039f"
            ],
            [
             0.2222222222222222,
             "#7201a8"
            ],
            [
             0.3333333333333333,
             "#9c179e"
            ],
            [
             0.4444444444444444,
             "#bd3786"
            ],
            [
             0.5555555555555556,
             "#d8576b"
            ],
            [
             0.6666666666666666,
             "#ed7953"
            ],
            [
             0.7777777777777778,
             "#fb9f3a"
            ],
            [
             0.8888888888888888,
             "#fdca26"
            ],
            [
             1,
             "#f0f921"
            ]
           ]
          },
          "colorway": [
           "#636efa",
           "#EF553B",
           "#00cc96",
           "#ab63fa",
           "#FFA15A",
           "#19d3f3",
           "#FF6692",
           "#B6E880",
           "#FF97FF",
           "#FECB52"
          ],
          "font": {
           "color": "#2a3f5f"
          },
          "geo": {
           "bgcolor": "white",
           "lakecolor": "white",
           "landcolor": "#E5ECF6",
           "showlakes": true,
           "showland": true,
           "subunitcolor": "white"
          },
          "hoverlabel": {
           "align": "left"
          },
          "hovermode": "closest",
          "mapbox": {
           "style": "light"
          },
          "paper_bgcolor": "white",
          "plot_bgcolor": "#E5ECF6",
          "polar": {
           "angularaxis": {
            "gridcolor": "white",
            "linecolor": "white",
            "ticks": ""
           },
           "bgcolor": "#E5ECF6",
           "radialaxis": {
            "gridcolor": "white",
            "linecolor": "white",
            "ticks": ""
           }
          },
          "scene": {
           "xaxis": {
            "backgroundcolor": "#E5ECF6",
            "gridcolor": "white",
            "gridwidth": 2,
            "linecolor": "white",
            "showbackground": true,
            "ticks": "",
            "zerolinecolor": "white"
           },
           "yaxis": {
            "backgroundcolor": "#E5ECF6",
            "gridcolor": "white",
            "gridwidth": 2,
            "linecolor": "white",
            "showbackground": true,
            "ticks": "",
            "zerolinecolor": "white"
           },
           "zaxis": {
            "backgroundcolor": "#E5ECF6",
            "gridcolor": "white",
            "gridwidth": 2,
            "linecolor": "white",
            "showbackground": true,
            "ticks": "",
            "zerolinecolor": "white"
           }
          },
          "shapedefaults": {
           "line": {
            "color": "#2a3f5f"
           }
          },
          "ternary": {
           "aaxis": {
            "gridcolor": "white",
            "linecolor": "white",
            "ticks": ""
           },
           "baxis": {
            "gridcolor": "white",
            "linecolor": "white",
            "ticks": ""
           },
           "bgcolor": "#E5ECF6",
           "caxis": {
            "gridcolor": "white",
            "linecolor": "white",
            "ticks": ""
           }
          },
          "title": {
           "x": 0.05
          },
          "xaxis": {
           "automargin": true,
           "gridcolor": "white",
           "linecolor": "white",
           "ticks": "",
           "title": {
            "standoff": 15
           },
           "zerolinecolor": "white",
           "zerolinewidth": 2
          },
          "yaxis": {
           "automargin": true,
           "gridcolor": "white",
           "linecolor": "white",
           "ticks": "",
           "title": {
            "standoff": 15
           },
           "zerolinecolor": "white",
           "zerolinewidth": 2
          }
         }
        },
        "title": {
         "text": "Spread outside China over time"
        },
        "updatemenus": [
         {
          "buttons": [
           {
            "args": [
             null,
             {
              "frame": {
               "duration": 500,
               "redraw": true
              },
              "fromcurrent": true,
              "mode": "immediate",
              "transition": {
               "duration": 500,
               "easing": "linear"
              }
             }
            ],
            "label": "&#9654;",
            "method": "animate"
           },
           {
            "args": [
             [
              null
             ],
             {
              "frame": {
               "duration": 0,
               "redraw": true
              },
              "fromcurrent": true,
              "mode": "immediate",
              "transition": {
               "duration": 0,
               "easing": "linear"
              }
             }
            ],
            "label": "&#9724;",
            "method": "animate"
           }
          ],
          "direction": "left",
          "pad": {
           "r": 10,
           "t": 70
          },
          "showactive": false,
          "type": "buttons",
          "x": 0.1,
          "xanchor": "right",
          "y": 0,
          "yanchor": "top"
         }
        ]
       }
      },
      "text/html": [
       "<div>\n",
       "        \n",
       "        \n",
       "            <div id=\"43f939d4-5d04-4b0b-8c7c-717ccdadede1\" class=\"plotly-graph-div\" style=\"height:525px; width:100%;\"></div>\n",
       "            <script type=\"text/javascript\">\n",
       "                require([\"plotly\"], function(Plotly) {\n",
       "                    window.PLOTLYENV=window.PLOTLYENV || {};\n",
       "                    \n",
       "                if (document.getElementById(\"43f939d4-5d04-4b0b-8c7c-717ccdadede1\")) {\n",
       "                    Plotly.newPlot(\n",
       "                        '43f939d4-5d04-4b0b-8c7c-717ccdadede1',\n",
       "                        [{\"geo\": \"geo\", \"hoverlabel\": {\"namelength\": 0}, \"hovertemplate\": \"<b>%{hovertext}</b><br><br>Date=01/22/2020<br>Confirmed=%{marker.color}<br>Country/Region=%{location}\", \"hovertext\": [\"Australia\", \"Belgium\", \"Cambodia\", \"Canada\", \"Egypt\", \"Finland\", \"France\", \"Germany\", \"Hong Kong\", \"India\", \"Iran\", \"Italy\", \"Japan\", \"Macau\", \"Malaysia\", \"Nepal\", \"Philippines\", \"Russia\", \"Singapore\", \"South Korea\", \"Spain\", \"Sri Lanka\", \"Sweden\", \"Taiwan\", \"Thailand\", \"UK\", \"US\", \"United Arab Emirates\", \"Vietnam\"], \"legendgroup\": \"\", \"locationmode\": \"country names\", \"locations\": [\"Australia\", \"Belgium\", \"Cambodia\", \"Canada\", \"Egypt\", \"Finland\", \"France\", \"Germany\", \"Hong Kong\", \"India\", \"Iran\", \"Italy\", \"Japan\", \"Macau\", \"Malaysia\", \"Nepal\", \"Philippines\", \"Russia\", \"Singapore\", \"South Korea\", \"Spain\", \"Sri Lanka\", \"Sweden\", \"Taiwan\", \"Thailand\", \"UK\", \"US\", \"United Arab Emirates\", \"Vietnam\"], \"marker\": {\"color\": [0, 0, 0, 0, 0, 0, 0, 0, 0, 0, 0, 0, 2, 1, 0, 0, 0, 0, 0, 1, 0, 0, 0, 1, 2, 0, 1, 0, 0], \"coloraxis\": \"coloraxis\", \"size\": [0, 0, 0, 0, 0, 0, 0, 0, 0, 0, 0, 0, 2, 1, 0, 0, 0, 0, 0, 1, 0, 0, 0, 1, 2, 0, 1, 0, 0], \"sizemode\": \"area\", \"sizeref\": 0.21}, \"name\": \"\", \"showlegend\": false, \"type\": \"scattergeo\"}],\n",
       "                        {\"coloraxis\": {\"cmax\": 86, \"cmin\": 0, \"colorbar\": {\"title\": {\"text\": \"Confirmed\"}}, \"colorscale\": [[0.0, \"#0d0887\"], [0.1111111111111111, \"#46039f\"], [0.2222222222222222, \"#7201a8\"], [0.3333333333333333, \"#9c179e\"], [0.4444444444444444, \"#bd3786\"], [0.5555555555555556, \"#d8576b\"], [0.6666666666666666, \"#ed7953\"], [0.7777777777777778, \"#fb9f3a\"], [0.8888888888888888, \"#fdca26\"], [1.0, \"#f0f921\"]], \"showscale\": false}, \"geo\": {\"center\": {}, \"domain\": {\"x\": [0.0, 1.0], \"y\": [0.0, 1.0]}, \"projection\": {\"type\": \"natural earth\"}}, \"legend\": {\"itemsizing\": \"constant\", \"tracegroupgap\": 0}, \"sliders\": [{\"active\": 0, \"currentvalue\": {\"prefix\": \"Date=\"}, \"len\": 0.9, \"pad\": {\"b\": 10, \"t\": 60}, \"steps\": [{\"args\": [[\"01/22/2020\"], {\"frame\": {\"duration\": 0, \"redraw\": true}, \"fromcurrent\": true, \"mode\": \"immediate\", \"transition\": {\"duration\": 0, \"easing\": \"linear\"}}], \"label\": \"01/22/2020\", \"method\": \"animate\"}, {\"args\": [[\"01/23/2020\"], {\"frame\": {\"duration\": 0, \"redraw\": true}, \"fromcurrent\": true, \"mode\": \"immediate\", \"transition\": {\"duration\": 0, \"easing\": \"linear\"}}], \"label\": \"01/23/2020\", \"method\": \"animate\"}, {\"args\": [[\"01/24/2020\"], {\"frame\": {\"duration\": 0, \"redraw\": true}, \"fromcurrent\": true, \"mode\": \"immediate\", \"transition\": {\"duration\": 0, \"easing\": \"linear\"}}], \"label\": \"01/24/2020\", \"method\": \"animate\"}, {\"args\": [[\"01/25/2020\"], {\"frame\": {\"duration\": 0, \"redraw\": true}, \"fromcurrent\": true, \"mode\": \"immediate\", \"transition\": {\"duration\": 0, \"easing\": \"linear\"}}], \"label\": \"01/25/2020\", \"method\": \"animate\"}, {\"args\": [[\"01/26/2020\"], {\"frame\": {\"duration\": 0, \"redraw\": true}, \"fromcurrent\": true, \"mode\": \"immediate\", \"transition\": {\"duration\": 0, \"easing\": \"linear\"}}], \"label\": \"01/26/2020\", \"method\": \"animate\"}, {\"args\": [[\"01/27/2020\"], {\"frame\": {\"duration\": 0, \"redraw\": true}, \"fromcurrent\": true, \"mode\": \"immediate\", \"transition\": {\"duration\": 0, \"easing\": \"linear\"}}], \"label\": \"01/27/2020\", \"method\": \"animate\"}, {\"args\": [[\"01/28/2020\"], {\"frame\": {\"duration\": 0, \"redraw\": true}, \"fromcurrent\": true, \"mode\": \"immediate\", \"transition\": {\"duration\": 0, \"easing\": \"linear\"}}], \"label\": \"01/28/2020\", \"method\": \"animate\"}, {\"args\": [[\"01/29/2020\"], {\"frame\": {\"duration\": 0, \"redraw\": true}, \"fromcurrent\": true, \"mode\": \"immediate\", \"transition\": {\"duration\": 0, \"easing\": \"linear\"}}], \"label\": \"01/29/2020\", \"method\": \"animate\"}, {\"args\": [[\"01/30/2020\"], {\"frame\": {\"duration\": 0, \"redraw\": true}, \"fromcurrent\": true, \"mode\": \"immediate\", \"transition\": {\"duration\": 0, \"easing\": \"linear\"}}], \"label\": \"01/30/2020\", \"method\": \"animate\"}, {\"args\": [[\"01/31/2020\"], {\"frame\": {\"duration\": 0, \"redraw\": true}, \"fromcurrent\": true, \"mode\": \"immediate\", \"transition\": {\"duration\": 0, \"easing\": \"linear\"}}], \"label\": \"01/31/2020\", \"method\": \"animate\"}, {\"args\": [[\"02/01/2020\"], {\"frame\": {\"duration\": 0, \"redraw\": true}, \"fromcurrent\": true, \"mode\": \"immediate\", \"transition\": {\"duration\": 0, \"easing\": \"linear\"}}], \"label\": \"02/01/2020\", \"method\": \"animate\"}, {\"args\": [[\"02/02/2020\"], {\"frame\": {\"duration\": 0, \"redraw\": true}, \"fromcurrent\": true, \"mode\": \"immediate\", \"transition\": {\"duration\": 0, \"easing\": \"linear\"}}], \"label\": \"02/02/2020\", \"method\": \"animate\"}, {\"args\": [[\"02/03/2020\"], {\"frame\": {\"duration\": 0, \"redraw\": true}, \"fromcurrent\": true, \"mode\": \"immediate\", \"transition\": {\"duration\": 0, \"easing\": \"linear\"}}], \"label\": \"02/03/2020\", \"method\": \"animate\"}, {\"args\": [[\"02/04/2020\"], {\"frame\": {\"duration\": 0, \"redraw\": true}, \"fromcurrent\": true, \"mode\": \"immediate\", \"transition\": {\"duration\": 0, \"easing\": \"linear\"}}], \"label\": \"02/04/2020\", \"method\": \"animate\"}, {\"args\": [[\"02/05/2020\"], {\"frame\": {\"duration\": 0, \"redraw\": true}, \"fromcurrent\": true, \"mode\": \"immediate\", \"transition\": {\"duration\": 0, \"easing\": \"linear\"}}], \"label\": \"02/05/2020\", \"method\": \"animate\"}, {\"args\": [[\"02/06/2020\"], {\"frame\": {\"duration\": 0, \"redraw\": true}, \"fromcurrent\": true, \"mode\": \"immediate\", \"transition\": {\"duration\": 0, \"easing\": \"linear\"}}], \"label\": \"02/06/2020\", \"method\": \"animate\"}, {\"args\": [[\"02/07/2020\"], {\"frame\": {\"duration\": 0, \"redraw\": true}, \"fromcurrent\": true, \"mode\": \"immediate\", \"transition\": {\"duration\": 0, \"easing\": \"linear\"}}], \"label\": \"02/07/2020\", \"method\": \"animate\"}, {\"args\": [[\"02/08/2020\"], {\"frame\": {\"duration\": 0, \"redraw\": true}, \"fromcurrent\": true, \"mode\": \"immediate\", \"transition\": {\"duration\": 0, \"easing\": \"linear\"}}], \"label\": \"02/08/2020\", \"method\": \"animate\"}, {\"args\": [[\"02/09/2020\"], {\"frame\": {\"duration\": 0, \"redraw\": true}, \"fromcurrent\": true, \"mode\": \"immediate\", \"transition\": {\"duration\": 0, \"easing\": \"linear\"}}], \"label\": \"02/09/2020\", \"method\": \"animate\"}, {\"args\": [[\"02/10/2020\"], {\"frame\": {\"duration\": 0, \"redraw\": true}, \"fromcurrent\": true, \"mode\": \"immediate\", \"transition\": {\"duration\": 0, \"easing\": \"linear\"}}], \"label\": \"02/10/2020\", \"method\": \"animate\"}, {\"args\": [[\"02/11/2020\"], {\"frame\": {\"duration\": 0, \"redraw\": true}, \"fromcurrent\": true, \"mode\": \"immediate\", \"transition\": {\"duration\": 0, \"easing\": \"linear\"}}], \"label\": \"02/11/2020\", \"method\": \"animate\"}, {\"args\": [[\"02/12/2020\"], {\"frame\": {\"duration\": 0, \"redraw\": true}, \"fromcurrent\": true, \"mode\": \"immediate\", \"transition\": {\"duration\": 0, \"easing\": \"linear\"}}], \"label\": \"02/12/2020\", \"method\": \"animate\"}, {\"args\": [[\"02/13/2020\"], {\"frame\": {\"duration\": 0, \"redraw\": true}, \"fromcurrent\": true, \"mode\": \"immediate\", \"transition\": {\"duration\": 0, \"easing\": \"linear\"}}], \"label\": \"02/13/2020\", \"method\": \"animate\"}, {\"args\": [[\"02/14/2020\"], {\"frame\": {\"duration\": 0, \"redraw\": true}, \"fromcurrent\": true, \"mode\": \"immediate\", \"transition\": {\"duration\": 0, \"easing\": \"linear\"}}], \"label\": \"02/14/2020\", \"method\": \"animate\"}, {\"args\": [[\"02/15/2020\"], {\"frame\": {\"duration\": 0, \"redraw\": true}, \"fromcurrent\": true, \"mode\": \"immediate\", \"transition\": {\"duration\": 0, \"easing\": \"linear\"}}], \"label\": \"02/15/2020\", \"method\": \"animate\"}, {\"args\": [[\"02/16/2020\"], {\"frame\": {\"duration\": 0, \"redraw\": true}, \"fromcurrent\": true, \"mode\": \"immediate\", \"transition\": {\"duration\": 0, \"easing\": \"linear\"}}], \"label\": \"02/16/2020\", \"method\": \"animate\"}, {\"args\": [[\"02/17/2020\"], {\"frame\": {\"duration\": 0, \"redraw\": true}, \"fromcurrent\": true, \"mode\": \"immediate\", \"transition\": {\"duration\": 0, \"easing\": \"linear\"}}], \"label\": \"02/17/2020\", \"method\": \"animate\"}, {\"args\": [[\"02/18/2020\"], {\"frame\": {\"duration\": 0, \"redraw\": true}, \"fromcurrent\": true, \"mode\": \"immediate\", \"transition\": {\"duration\": 0, \"easing\": \"linear\"}}], \"label\": \"02/18/2020\", \"method\": \"animate\"}, {\"args\": [[\"02/19/2020\"], {\"frame\": {\"duration\": 0, \"redraw\": true}, \"fromcurrent\": true, \"mode\": \"immediate\", \"transition\": {\"duration\": 0, \"easing\": \"linear\"}}], \"label\": \"02/19/2020\", \"method\": \"animate\"}], \"x\": 0.1, \"xanchor\": \"left\", \"y\": 0, \"yanchor\": \"top\"}], \"template\": {\"data\": {\"bar\": [{\"error_x\": {\"color\": \"#2a3f5f\"}, \"error_y\": {\"color\": \"#2a3f5f\"}, \"marker\": {\"line\": {\"color\": \"#E5ECF6\", \"width\": 0.5}}, \"type\": \"bar\"}], \"barpolar\": [{\"marker\": {\"line\": {\"color\": \"#E5ECF6\", \"width\": 0.5}}, \"type\": \"barpolar\"}], \"carpet\": [{\"aaxis\": {\"endlinecolor\": \"#2a3f5f\", \"gridcolor\": \"white\", \"linecolor\": \"white\", \"minorgridcolor\": \"white\", \"startlinecolor\": \"#2a3f5f\"}, \"baxis\": {\"endlinecolor\": \"#2a3f5f\", \"gridcolor\": \"white\", \"linecolor\": \"white\", \"minorgridcolor\": \"white\", \"startlinecolor\": \"#2a3f5f\"}, \"type\": \"carpet\"}], \"choropleth\": [{\"colorbar\": {\"outlinewidth\": 0, \"ticks\": \"\"}, \"type\": \"choropleth\"}], \"contour\": [{\"colorbar\": {\"outlinewidth\": 0, \"ticks\": \"\"}, \"colorscale\": [[0.0, \"#0d0887\"], [0.1111111111111111, \"#46039f\"], [0.2222222222222222, \"#7201a8\"], [0.3333333333333333, \"#9c179e\"], [0.4444444444444444, \"#bd3786\"], [0.5555555555555556, \"#d8576b\"], [0.6666666666666666, \"#ed7953\"], [0.7777777777777778, \"#fb9f3a\"], [0.8888888888888888, \"#fdca26\"], [1.0, \"#f0f921\"]], \"type\": \"contour\"}], \"contourcarpet\": [{\"colorbar\": {\"outlinewidth\": 0, \"ticks\": \"\"}, \"type\": \"contourcarpet\"}], \"heatmap\": [{\"colorbar\": {\"outlinewidth\": 0, \"ticks\": \"\"}, \"colorscale\": [[0.0, \"#0d0887\"], [0.1111111111111111, \"#46039f\"], [0.2222222222222222, \"#7201a8\"], [0.3333333333333333, \"#9c179e\"], [0.4444444444444444, \"#bd3786\"], [0.5555555555555556, \"#d8576b\"], [0.6666666666666666, \"#ed7953\"], [0.7777777777777778, \"#fb9f3a\"], [0.8888888888888888, \"#fdca26\"], [1.0, \"#f0f921\"]], \"type\": \"heatmap\"}], \"heatmapgl\": [{\"colorbar\": {\"outlinewidth\": 0, \"ticks\": \"\"}, \"colorscale\": [[0.0, \"#0d0887\"], [0.1111111111111111, \"#46039f\"], [0.2222222222222222, \"#7201a8\"], [0.3333333333333333, \"#9c179e\"], [0.4444444444444444, \"#bd3786\"], [0.5555555555555556, \"#d8576b\"], [0.6666666666666666, \"#ed7953\"], [0.7777777777777778, \"#fb9f3a\"], [0.8888888888888888, \"#fdca26\"], [1.0, \"#f0f921\"]], \"type\": \"heatmapgl\"}], \"histogram\": [{\"marker\": {\"colorbar\": {\"outlinewidth\": 0, \"ticks\": \"\"}}, \"type\": \"histogram\"}], \"histogram2d\": [{\"colorbar\": {\"outlinewidth\": 0, \"ticks\": \"\"}, \"colorscale\": [[0.0, \"#0d0887\"], [0.1111111111111111, \"#46039f\"], [0.2222222222222222, \"#7201a8\"], [0.3333333333333333, \"#9c179e\"], [0.4444444444444444, \"#bd3786\"], [0.5555555555555556, \"#d8576b\"], [0.6666666666666666, \"#ed7953\"], [0.7777777777777778, \"#fb9f3a\"], [0.8888888888888888, \"#fdca26\"], [1.0, \"#f0f921\"]], \"type\": \"histogram2d\"}], \"histogram2dcontour\": [{\"colorbar\": {\"outlinewidth\": 0, \"ticks\": \"\"}, \"colorscale\": [[0.0, \"#0d0887\"], [0.1111111111111111, \"#46039f\"], [0.2222222222222222, \"#7201a8\"], [0.3333333333333333, \"#9c179e\"], [0.4444444444444444, \"#bd3786\"], [0.5555555555555556, \"#d8576b\"], [0.6666666666666666, \"#ed7953\"], [0.7777777777777778, \"#fb9f3a\"], [0.8888888888888888, \"#fdca26\"], [1.0, \"#f0f921\"]], \"type\": \"histogram2dcontour\"}], \"mesh3d\": [{\"colorbar\": {\"outlinewidth\": 0, \"ticks\": \"\"}, \"type\": \"mesh3d\"}], \"parcoords\": [{\"line\": {\"colorbar\": {\"outlinewidth\": 0, \"ticks\": \"\"}}, \"type\": \"parcoords\"}], \"pie\": [{\"automargin\": true, \"type\": \"pie\"}], \"scatter\": [{\"marker\": {\"colorbar\": {\"outlinewidth\": 0, \"ticks\": \"\"}}, \"type\": \"scatter\"}], \"scatter3d\": [{\"line\": {\"colorbar\": {\"outlinewidth\": 0, \"ticks\": \"\"}}, \"marker\": {\"colorbar\": {\"outlinewidth\": 0, \"ticks\": \"\"}}, \"type\": \"scatter3d\"}], \"scattercarpet\": [{\"marker\": {\"colorbar\": {\"outlinewidth\": 0, \"ticks\": \"\"}}, \"type\": \"scattercarpet\"}], \"scattergeo\": [{\"marker\": {\"colorbar\": {\"outlinewidth\": 0, \"ticks\": \"\"}}, \"type\": \"scattergeo\"}], \"scattergl\": [{\"marker\": {\"colorbar\": {\"outlinewidth\": 0, \"ticks\": \"\"}}, \"type\": \"scattergl\"}], \"scattermapbox\": [{\"marker\": {\"colorbar\": {\"outlinewidth\": 0, \"ticks\": \"\"}}, \"type\": \"scattermapbox\"}], \"scatterpolar\": [{\"marker\": {\"colorbar\": {\"outlinewidth\": 0, \"ticks\": \"\"}}, \"type\": \"scatterpolar\"}], \"scatterpolargl\": [{\"marker\": {\"colorbar\": {\"outlinewidth\": 0, \"ticks\": \"\"}}, \"type\": \"scatterpolargl\"}], \"scatterternary\": [{\"marker\": {\"colorbar\": {\"outlinewidth\": 0, \"ticks\": \"\"}}, \"type\": \"scatterternary\"}], \"surface\": [{\"colorbar\": {\"outlinewidth\": 0, \"ticks\": \"\"}, \"colorscale\": [[0.0, \"#0d0887\"], [0.1111111111111111, \"#46039f\"], [0.2222222222222222, \"#7201a8\"], [0.3333333333333333, \"#9c179e\"], [0.4444444444444444, \"#bd3786\"], [0.5555555555555556, \"#d8576b\"], [0.6666666666666666, \"#ed7953\"], [0.7777777777777778, \"#fb9f3a\"], [0.8888888888888888, \"#fdca26\"], [1.0, \"#f0f921\"]], \"type\": \"surface\"}], \"table\": [{\"cells\": {\"fill\": {\"color\": \"#EBF0F8\"}, \"line\": {\"color\": \"white\"}}, \"header\": {\"fill\": {\"color\": \"#C8D4E3\"}, \"line\": {\"color\": \"white\"}}, \"type\": \"table\"}]}, \"layout\": {\"annotationdefaults\": {\"arrowcolor\": \"#2a3f5f\", \"arrowhead\": 0, \"arrowwidth\": 1}, \"coloraxis\": {\"colorbar\": {\"outlinewidth\": 0, \"ticks\": \"\"}}, \"colorscale\": {\"diverging\": [[0, \"#8e0152\"], [0.1, \"#c51b7d\"], [0.2, \"#de77ae\"], [0.3, \"#f1b6da\"], [0.4, \"#fde0ef\"], [0.5, \"#f7f7f7\"], [0.6, \"#e6f5d0\"], [0.7, \"#b8e186\"], [0.8, \"#7fbc41\"], [0.9, \"#4d9221\"], [1, \"#276419\"]], \"sequential\": [[0.0, \"#0d0887\"], [0.1111111111111111, \"#46039f\"], [0.2222222222222222, \"#7201a8\"], [0.3333333333333333, \"#9c179e\"], [0.4444444444444444, \"#bd3786\"], [0.5555555555555556, \"#d8576b\"], [0.6666666666666666, \"#ed7953\"], [0.7777777777777778, \"#fb9f3a\"], [0.8888888888888888, \"#fdca26\"], [1.0, \"#f0f921\"]], \"sequentialminus\": [[0.0, \"#0d0887\"], [0.1111111111111111, \"#46039f\"], [0.2222222222222222, \"#7201a8\"], [0.3333333333333333, \"#9c179e\"], [0.4444444444444444, \"#bd3786\"], [0.5555555555555556, \"#d8576b\"], [0.6666666666666666, \"#ed7953\"], [0.7777777777777778, \"#fb9f3a\"], [0.8888888888888888, \"#fdca26\"], [1.0, \"#f0f921\"]]}, \"colorway\": [\"#636efa\", \"#EF553B\", \"#00cc96\", \"#ab63fa\", \"#FFA15A\", \"#19d3f3\", \"#FF6692\", \"#B6E880\", \"#FF97FF\", \"#FECB52\"], \"font\": {\"color\": \"#2a3f5f\"}, \"geo\": {\"bgcolor\": \"white\", \"lakecolor\": \"white\", \"landcolor\": \"#E5ECF6\", \"showlakes\": true, \"showland\": true, \"subunitcolor\": \"white\"}, \"hoverlabel\": {\"align\": \"left\"}, \"hovermode\": \"closest\", \"mapbox\": {\"style\": \"light\"}, \"paper_bgcolor\": \"white\", \"plot_bgcolor\": \"#E5ECF6\", \"polar\": {\"angularaxis\": {\"gridcolor\": \"white\", \"linecolor\": \"white\", \"ticks\": \"\"}, \"bgcolor\": \"#E5ECF6\", \"radialaxis\": {\"gridcolor\": \"white\", \"linecolor\": \"white\", \"ticks\": \"\"}}, \"scene\": {\"xaxis\": {\"backgroundcolor\": \"#E5ECF6\", \"gridcolor\": \"white\", \"gridwidth\": 2, \"linecolor\": \"white\", \"showbackground\": true, \"ticks\": \"\", \"zerolinecolor\": \"white\"}, \"yaxis\": {\"backgroundcolor\": \"#E5ECF6\", \"gridcolor\": \"white\", \"gridwidth\": 2, \"linecolor\": \"white\", \"showbackground\": true, \"ticks\": \"\", \"zerolinecolor\": \"white\"}, \"zaxis\": {\"backgroundcolor\": \"#E5ECF6\", \"gridcolor\": \"white\", \"gridwidth\": 2, \"linecolor\": \"white\", \"showbackground\": true, \"ticks\": \"\", \"zerolinecolor\": \"white\"}}, \"shapedefaults\": {\"line\": {\"color\": \"#2a3f5f\"}}, \"ternary\": {\"aaxis\": {\"gridcolor\": \"white\", \"linecolor\": \"white\", \"ticks\": \"\"}, \"baxis\": {\"gridcolor\": \"white\", \"linecolor\": \"white\", \"ticks\": \"\"}, \"bgcolor\": \"#E5ECF6\", \"caxis\": {\"gridcolor\": \"white\", \"linecolor\": \"white\", \"ticks\": \"\"}}, \"title\": {\"x\": 0.05}, \"xaxis\": {\"automargin\": true, \"gridcolor\": \"white\", \"linecolor\": \"white\", \"ticks\": \"\", \"title\": {\"standoff\": 15}, \"zerolinecolor\": \"white\", \"zerolinewidth\": 2}, \"yaxis\": {\"automargin\": true, \"gridcolor\": \"white\", \"linecolor\": \"white\", \"ticks\": \"\", \"title\": {\"standoff\": 15}, \"zerolinecolor\": \"white\", \"zerolinewidth\": 2}}}, \"title\": {\"text\": \"Spread outside China over time\"}, \"updatemenus\": [{\"buttons\": [{\"args\": [null, {\"frame\": {\"duration\": 500, \"redraw\": true}, \"fromcurrent\": true, \"mode\": \"immediate\", \"transition\": {\"duration\": 500, \"easing\": \"linear\"}}], \"label\": \"&#9654;\", \"method\": \"animate\"}, {\"args\": [[null], {\"frame\": {\"duration\": 0, \"redraw\": true}, \"fromcurrent\": true, \"mode\": \"immediate\", \"transition\": {\"duration\": 0, \"easing\": \"linear\"}}], \"label\": \"&#9724;\", \"method\": \"animate\"}], \"direction\": \"left\", \"pad\": {\"r\": 10, \"t\": 70}, \"showactive\": false, \"type\": \"buttons\", \"x\": 0.1, \"xanchor\": \"right\", \"y\": 0, \"yanchor\": \"top\"}]},\n",
       "                        {\"responsive\": true}\n",
       "                    ).then(function(){\n",
       "                            Plotly.addFrames('43f939d4-5d04-4b0b-8c7c-717ccdadede1', [{\"data\": [{\"geo\": \"geo\", \"hoverlabel\": {\"namelength\": 0}, \"hovertemplate\": \"<b>%{hovertext}</b><br><br>Date=01/22/2020<br>Confirmed=%{marker.color}<br>Country/Region=%{location}\", \"hovertext\": [\"Australia\", \"Belgium\", \"Cambodia\", \"Canada\", \"Egypt\", \"Finland\", \"France\", \"Germany\", \"Hong Kong\", \"India\", \"Iran\", \"Italy\", \"Japan\", \"Macau\", \"Malaysia\", \"Nepal\", \"Philippines\", \"Russia\", \"Singapore\", \"South Korea\", \"Spain\", \"Sri Lanka\", \"Sweden\", \"Taiwan\", \"Thailand\", \"UK\", \"US\", \"United Arab Emirates\", \"Vietnam\"], \"legendgroup\": \"\", \"locationmode\": \"country names\", \"locations\": [\"Australia\", \"Belgium\", \"Cambodia\", \"Canada\", \"Egypt\", \"Finland\", \"France\", \"Germany\", \"Hong Kong\", \"India\", \"Iran\", \"Italy\", \"Japan\", \"Macau\", \"Malaysia\", \"Nepal\", \"Philippines\", \"Russia\", \"Singapore\", \"South Korea\", \"Spain\", \"Sri Lanka\", \"Sweden\", \"Taiwan\", \"Thailand\", \"UK\", \"US\", \"United Arab Emirates\", \"Vietnam\"], \"marker\": {\"color\": [0, 0, 0, 0, 0, 0, 0, 0, 0, 0, 0, 0, 2, 1, 0, 0, 0, 0, 0, 1, 0, 0, 0, 1, 2, 0, 1, 0, 0], \"coloraxis\": \"coloraxis\", \"size\": [0, 0, 0, 0, 0, 0, 0, 0, 0, 0, 0, 0, 2, 1, 0, 0, 0, 0, 0, 1, 0, 0, 0, 1, 2, 0, 1, 0, 0], \"sizemode\": \"area\", \"sizeref\": 0.21}, \"name\": \"\", \"showlegend\": false, \"type\": \"scattergeo\"}], \"name\": \"01/22/2020\"}, {\"data\": [{\"geo\": \"geo\", \"hoverlabel\": {\"namelength\": 0}, \"hovertemplate\": \"<b>%{hovertext}</b><br><br>Date=01/23/2020<br>Confirmed=%{marker.color}<br>Country/Region=%{location}\", \"hovertext\": [\"Australia\", \"Belgium\", \"Cambodia\", \"Canada\", \"Egypt\", \"Finland\", \"France\", \"Germany\", \"Hong Kong\", \"India\", \"Iran\", \"Italy\", \"Japan\", \"Macau\", \"Malaysia\", \"Nepal\", \"Philippines\", \"Russia\", \"Singapore\", \"South Korea\", \"Spain\", \"Sri Lanka\", \"Sweden\", \"Taiwan\", \"Thailand\", \"UK\", \"US\", \"United Arab Emirates\", \"Vietnam\"], \"legendgroup\": \"\", \"locationmode\": \"country names\", \"locations\": [\"Australia\", \"Belgium\", \"Cambodia\", \"Canada\", \"Egypt\", \"Finland\", \"France\", \"Germany\", \"Hong Kong\", \"India\", \"Iran\", \"Italy\", \"Japan\", \"Macau\", \"Malaysia\", \"Nepal\", \"Philippines\", \"Russia\", \"Singapore\", \"South Korea\", \"Spain\", \"Sri Lanka\", \"Sweden\", \"Taiwan\", \"Thailand\", \"UK\", \"US\", \"United Arab Emirates\", \"Vietnam\"], \"marker\": {\"color\": [0, 0, 0, 0, 0, 0, 0, 0, 2, 0, 0, 0, 1, 2, 0, 0, 0, 0, 1, 1, 0, 0, 0, 1, 3, 0, 1, 0, 2], \"coloraxis\": \"coloraxis\", \"size\": [0, 0, 0, 0, 0, 0, 0, 0, 2, 0, 0, 0, 1, 2, 0, 0, 0, 0, 1, 1, 0, 0, 0, 1, 3, 0, 1, 0, 2], \"sizemode\": \"area\", \"sizeref\": 0.21}, \"name\": \"\", \"showlegend\": false, \"type\": \"scattergeo\"}], \"name\": \"01/23/2020\"}, {\"data\": [{\"geo\": \"geo\", \"hoverlabel\": {\"namelength\": 0}, \"hovertemplate\": \"<b>%{hovertext}</b><br><br>Date=01/24/2020<br>Confirmed=%{marker.color}<br>Country/Region=%{location}\", \"hovertext\": [\"Australia\", \"Belgium\", \"Cambodia\", \"Canada\", \"Egypt\", \"Finland\", \"France\", \"Germany\", \"Hong Kong\", \"India\", \"Iran\", \"Italy\", \"Japan\", \"Macau\", \"Malaysia\", \"Nepal\", \"Philippines\", \"Russia\", \"Singapore\", \"South Korea\", \"Spain\", \"Sri Lanka\", \"Sweden\", \"Taiwan\", \"Thailand\", \"UK\", \"US\", \"United Arab Emirates\", \"Vietnam\"], \"legendgroup\": \"\", \"locationmode\": \"country names\", \"locations\": [\"Australia\", \"Belgium\", \"Cambodia\", \"Canada\", \"Egypt\", \"Finland\", \"France\", \"Germany\", \"Hong Kong\", \"India\", \"Iran\", \"Italy\", \"Japan\", \"Macau\", \"Malaysia\", \"Nepal\", \"Philippines\", \"Russia\", \"Singapore\", \"South Korea\", \"Spain\", \"Sri Lanka\", \"Sweden\", \"Taiwan\", \"Thailand\", \"UK\", \"US\", \"United Arab Emirates\", \"Vietnam\"], \"marker\": {\"color\": [0, 0, 0, 0, 0, 0, 2, 0, 2, 0, 0, 0, 2, 2, 0, 0, 0, 0, 3, 2, 0, 0, 0, 3, 5, 0, 1, 0, 2], \"coloraxis\": \"coloraxis\", \"size\": [0, 0, 0, 0, 0, 0, 2, 0, 2, 0, 0, 0, 2, 2, 0, 0, 0, 0, 3, 2, 0, 0, 0, 3, 5, 0, 1, 0, 2], \"sizemode\": \"area\", \"sizeref\": 0.21}, \"name\": \"\", \"showlegend\": false, \"type\": \"scattergeo\"}], \"name\": \"01/24/2020\"}, {\"data\": [{\"geo\": \"geo\", \"hoverlabel\": {\"namelength\": 0}, \"hovertemplate\": \"<b>%{hovertext}</b><br><br>Date=01/25/2020<br>Confirmed=%{marker.color}<br>Country/Region=%{location}\", \"hovertext\": [\"Australia\", \"Belgium\", \"Cambodia\", \"Canada\", \"Egypt\", \"Finland\", \"France\", \"Germany\", \"Hong Kong\", \"India\", \"Iran\", \"Italy\", \"Japan\", \"Macau\", \"Malaysia\", \"Nepal\", \"Philippines\", \"Russia\", \"Singapore\", \"South Korea\", \"Spain\", \"Sri Lanka\", \"Sweden\", \"Taiwan\", \"Thailand\", \"UK\", \"US\", \"United Arab Emirates\", \"Vietnam\"], \"legendgroup\": \"\", \"locationmode\": \"country names\", \"locations\": [\"Australia\", \"Belgium\", \"Cambodia\", \"Canada\", \"Egypt\", \"Finland\", \"France\", \"Germany\", \"Hong Kong\", \"India\", \"Iran\", \"Italy\", \"Japan\", \"Macau\", \"Malaysia\", \"Nepal\", \"Philippines\", \"Russia\", \"Singapore\", \"South Korea\", \"Spain\", \"Sri Lanka\", \"Sweden\", \"Taiwan\", \"Thailand\", \"UK\", \"US\", \"United Arab Emirates\", \"Vietnam\"], \"marker\": {\"color\": [0, 0, 0, 0, 0, 0, 3, 0, 5, 0, 0, 0, 2, 2, 3, 1, 0, 0, 3, 2, 0, 0, 0, 3, 7, 0, 1, 0, 2], \"coloraxis\": \"coloraxis\", \"size\": [0, 0, 0, 0, 0, 0, 3, 0, 5, 0, 0, 0, 2, 2, 3, 1, 0, 0, 3, 2, 0, 0, 0, 3, 7, 0, 1, 0, 2], \"sizemode\": \"area\", \"sizeref\": 0.21}, \"name\": \"\", \"showlegend\": false, \"type\": \"scattergeo\"}], \"name\": \"01/25/2020\"}, {\"data\": [{\"geo\": \"geo\", \"hoverlabel\": {\"namelength\": 0}, \"hovertemplate\": \"<b>%{hovertext}</b><br><br>Date=01/26/2020<br>Confirmed=%{marker.color}<br>Country/Region=%{location}\", \"hovertext\": [\"Australia\", \"Belgium\", \"Cambodia\", \"Canada\", \"Egypt\", \"Finland\", \"France\", \"Germany\", \"Hong Kong\", \"India\", \"Iran\", \"Italy\", \"Japan\", \"Macau\", \"Malaysia\", \"Nepal\", \"Philippines\", \"Russia\", \"Singapore\", \"South Korea\", \"Spain\", \"Sri Lanka\", \"Sweden\", \"Taiwan\", \"Thailand\", \"UK\", \"US\", \"United Arab Emirates\", \"Vietnam\"], \"legendgroup\": \"\", \"locationmode\": \"country names\", \"locations\": [\"Australia\", \"Belgium\", \"Cambodia\", \"Canada\", \"Egypt\", \"Finland\", \"France\", \"Germany\", \"Hong Kong\", \"India\", \"Iran\", \"Italy\", \"Japan\", \"Macau\", \"Malaysia\", \"Nepal\", \"Philippines\", \"Russia\", \"Singapore\", \"South Korea\", \"Spain\", \"Sri Lanka\", \"Sweden\", \"Taiwan\", \"Thailand\", \"UK\", \"US\", \"United Arab Emirates\", \"Vietnam\"], \"marker\": {\"color\": [3, 0, 0, 1, 0, 0, 3, 0, 8, 0, 0, 0, 4, 5, 4, 1, 0, 0, 4, 3, 0, 0, 0, 4, 8, 0, 1, 0, 2], \"coloraxis\": \"coloraxis\", \"size\": [3, 0, 0, 1, 0, 0, 3, 0, 8, 0, 0, 0, 4, 5, 4, 1, 0, 0, 4, 3, 0, 0, 0, 4, 8, 0, 1, 0, 2], \"sizemode\": \"area\", \"sizeref\": 0.21}, \"name\": \"\", \"showlegend\": false, \"type\": \"scattergeo\"}], \"name\": \"01/26/2020\"}, {\"data\": [{\"geo\": \"geo\", \"hoverlabel\": {\"namelength\": 0}, \"hovertemplate\": \"<b>%{hovertext}</b><br><br>Date=01/27/2020<br>Confirmed=%{marker.color}<br>Country/Region=%{location}\", \"hovertext\": [\"Australia\", \"Belgium\", \"Cambodia\", \"Canada\", \"Egypt\", \"Finland\", \"France\", \"Germany\", \"Hong Kong\", \"India\", \"Iran\", \"Italy\", \"Japan\", \"Macau\", \"Malaysia\", \"Nepal\", \"Philippines\", \"Russia\", \"Singapore\", \"South Korea\", \"Spain\", \"Sri Lanka\", \"Sweden\", \"Taiwan\", \"Thailand\", \"UK\", \"US\", \"United Arab Emirates\", \"Vietnam\"], \"legendgroup\": \"\", \"locationmode\": \"country names\", \"locations\": [\"Australia\", \"Belgium\", \"Cambodia\", \"Canada\", \"Egypt\", \"Finland\", \"France\", \"Germany\", \"Hong Kong\", \"India\", \"Iran\", \"Italy\", \"Japan\", \"Macau\", \"Malaysia\", \"Nepal\", \"Philippines\", \"Russia\", \"Singapore\", \"South Korea\", \"Spain\", \"Sri Lanka\", \"Sweden\", \"Taiwan\", \"Thailand\", \"UK\", \"US\", \"United Arab Emirates\", \"Vietnam\"], \"marker\": {\"color\": [4, 0, 1, 1, 0, 0, 3, 1, 8, 0, 0, 0, 4, 6, 4, 1, 0, 0, 5, 4, 0, 1, 0, 5, 8, 0, 1, 0, 2], \"coloraxis\": \"coloraxis\", \"size\": [4, 0, 1, 1, 0, 0, 3, 1, 8, 0, 0, 0, 4, 6, 4, 1, 0, 0, 5, 4, 0, 1, 0, 5, 8, 0, 1, 0, 2], \"sizemode\": \"area\", \"sizeref\": 0.21}, \"name\": \"\", \"showlegend\": false, \"type\": \"scattergeo\"}], \"name\": \"01/27/2020\"}, {\"data\": [{\"geo\": \"geo\", \"hoverlabel\": {\"namelength\": 0}, \"hovertemplate\": \"<b>%{hovertext}</b><br><br>Date=01/28/2020<br>Confirmed=%{marker.color}<br>Country/Region=%{location}\", \"hovertext\": [\"Australia\", \"Belgium\", \"Cambodia\", \"Canada\", \"Egypt\", \"Finland\", \"France\", \"Germany\", \"Hong Kong\", \"India\", \"Iran\", \"Italy\", \"Japan\", \"Macau\", \"Malaysia\", \"Nepal\", \"Philippines\", \"Russia\", \"Singapore\", \"South Korea\", \"Spain\", \"Sri Lanka\", \"Sweden\", \"Taiwan\", \"Thailand\", \"UK\", \"US\", \"United Arab Emirates\", \"Vietnam\"], \"legendgroup\": \"\", \"locationmode\": \"country names\", \"locations\": [\"Australia\", \"Belgium\", \"Cambodia\", \"Canada\", \"Egypt\", \"Finland\", \"France\", \"Germany\", \"Hong Kong\", \"India\", \"Iran\", \"Italy\", \"Japan\", \"Macau\", \"Malaysia\", \"Nepal\", \"Philippines\", \"Russia\", \"Singapore\", \"South Korea\", \"Spain\", \"Sri Lanka\", \"Sweden\", \"Taiwan\", \"Thailand\", \"UK\", \"US\", \"United Arab Emirates\", \"Vietnam\"], \"marker\": {\"color\": [4, 0, 1, 1, 0, 0, 4, 4, 8, 0, 0, 0, 7, 7, 4, 1, 0, 0, 7, 4, 0, 1, 0, 8, 14, 0, 1, 0, 2], \"coloraxis\": \"coloraxis\", \"size\": [4, 0, 1, 1, 0, 0, 4, 4, 8, 0, 0, 0, 7, 7, 4, 1, 0, 0, 7, 4, 0, 1, 0, 8, 14, 0, 1, 0, 2], \"sizemode\": \"area\", \"sizeref\": 0.21}, \"name\": \"\", \"showlegend\": false, \"type\": \"scattergeo\"}], \"name\": \"01/28/2020\"}, {\"data\": [{\"geo\": \"geo\", \"hoverlabel\": {\"namelength\": 0}, \"hovertemplate\": \"<b>%{hovertext}</b><br><br>Date=01/29/2020<br>Confirmed=%{marker.color}<br>Country/Region=%{location}\", \"hovertext\": [\"Australia\", \"Belgium\", \"Cambodia\", \"Canada\", \"Egypt\", \"Finland\", \"France\", \"Germany\", \"Hong Kong\", \"India\", \"Iran\", \"Italy\", \"Japan\", \"Macau\", \"Malaysia\", \"Nepal\", \"Philippines\", \"Russia\", \"Singapore\", \"South Korea\", \"Spain\", \"Sri Lanka\", \"Sweden\", \"Taiwan\", \"Thailand\", \"UK\", \"US\", \"United Arab Emirates\", \"Vietnam\"], \"legendgroup\": \"\", \"locationmode\": \"country names\", \"locations\": [\"Australia\", \"Belgium\", \"Cambodia\", \"Canada\", \"Egypt\", \"Finland\", \"France\", \"Germany\", \"Hong Kong\", \"India\", \"Iran\", \"Italy\", \"Japan\", \"Macau\", \"Malaysia\", \"Nepal\", \"Philippines\", \"Russia\", \"Singapore\", \"South Korea\", \"Spain\", \"Sri Lanka\", \"Sweden\", \"Taiwan\", \"Thailand\", \"UK\", \"US\", \"United Arab Emirates\", \"Vietnam\"], \"marker\": {\"color\": [4, 0, 1, 1, 0, 1, 5, 4, 10, 0, 0, 0, 7, 7, 7, 1, 0, 0, 7, 4, 0, 1, 0, 8, 14, 0, 1, 4, 2], \"coloraxis\": \"coloraxis\", \"size\": [4, 0, 1, 1, 0, 1, 5, 4, 10, 0, 0, 0, 7, 7, 7, 1, 0, 0, 7, 4, 0, 1, 0, 8, 14, 0, 1, 4, 2], \"sizemode\": \"area\", \"sizeref\": 0.21}, \"name\": \"\", \"showlegend\": false, \"type\": \"scattergeo\"}], \"name\": \"01/29/2020\"}, {\"data\": [{\"geo\": \"geo\", \"hoverlabel\": {\"namelength\": 0}, \"hovertemplate\": \"<b>%{hovertext}</b><br><br>Date=01/30/2020<br>Confirmed=%{marker.color}<br>Country/Region=%{location}\", \"hovertext\": [\"Australia\", \"Belgium\", \"Cambodia\", \"Canada\", \"Egypt\", \"Finland\", \"France\", \"Germany\", \"Hong Kong\", \"India\", \"Iran\", \"Italy\", \"Japan\", \"Macau\", \"Malaysia\", \"Nepal\", \"Philippines\", \"Russia\", \"Singapore\", \"South Korea\", \"Spain\", \"Sri Lanka\", \"Sweden\", \"Taiwan\", \"Thailand\", \"UK\", \"US\", \"United Arab Emirates\", \"Vietnam\"], \"legendgroup\": \"\", \"locationmode\": \"country names\", \"locations\": [\"Australia\", \"Belgium\", \"Cambodia\", \"Canada\", \"Egypt\", \"Finland\", \"France\", \"Germany\", \"Hong Kong\", \"India\", \"Iran\", \"Italy\", \"Japan\", \"Macau\", \"Malaysia\", \"Nepal\", \"Philippines\", \"Russia\", \"Singapore\", \"South Korea\", \"Spain\", \"Sri Lanka\", \"Sweden\", \"Taiwan\", \"Thailand\", \"UK\", \"US\", \"United Arab Emirates\", \"Vietnam\"], \"marker\": {\"color\": [4, 0, 1, 1, 0, 1, 5, 4, 10, 1, 0, 0, 11, 7, 8, 1, 1, 0, 10, 4, 0, 1, 0, 9, 14, 0, 1, 4, 2], \"coloraxis\": \"coloraxis\", \"size\": [4, 0, 1, 1, 0, 1, 5, 4, 10, 1, 0, 0, 11, 7, 8, 1, 1, 0, 10, 4, 0, 1, 0, 9, 14, 0, 1, 4, 2], \"sizemode\": \"area\", \"sizeref\": 0.21}, \"name\": \"\", \"showlegend\": false, \"type\": \"scattergeo\"}], \"name\": \"01/30/2020\"}, {\"data\": [{\"geo\": \"geo\", \"hoverlabel\": {\"namelength\": 0}, \"hovertemplate\": \"<b>%{hovertext}</b><br><br>Date=01/31/2020<br>Confirmed=%{marker.color}<br>Country/Region=%{location}\", \"hovertext\": [\"Australia\", \"Belgium\", \"Cambodia\", \"Canada\", \"Egypt\", \"Finland\", \"France\", \"Germany\", \"Hong Kong\", \"India\", \"Iran\", \"Italy\", \"Japan\", \"Macau\", \"Malaysia\", \"Nepal\", \"Philippines\", \"Russia\", \"Singapore\", \"South Korea\", \"Spain\", \"Sri Lanka\", \"Sweden\", \"Taiwan\", \"Thailand\", \"UK\", \"US\", \"United Arab Emirates\", \"Vietnam\"], \"legendgroup\": \"\", \"locationmode\": \"country names\", \"locations\": [\"Australia\", \"Belgium\", \"Cambodia\", \"Canada\", \"Egypt\", \"Finland\", \"France\", \"Germany\", \"Hong Kong\", \"India\", \"Iran\", \"Italy\", \"Japan\", \"Macau\", \"Malaysia\", \"Nepal\", \"Philippines\", \"Russia\", \"Singapore\", \"South Korea\", \"Spain\", \"Sri Lanka\", \"Sweden\", \"Taiwan\", \"Thailand\", \"UK\", \"US\", \"United Arab Emirates\", \"Vietnam\"], \"marker\": {\"color\": [4, 0, 1, 2, 0, 1, 5, 5, 12, 1, 0, 2, 15, 7, 8, 1, 1, 2, 13, 11, 0, 1, 1, 10, 19, 2, 2, 4, 2], \"coloraxis\": \"coloraxis\", \"size\": [4, 0, 1, 2, 0, 1, 5, 5, 12, 1, 0, 2, 15, 7, 8, 1, 1, 2, 13, 11, 0, 1, 1, 10, 19, 2, 2, 4, 2], \"sizemode\": \"area\", \"sizeref\": 0.21}, \"name\": \"\", \"showlegend\": false, \"type\": \"scattergeo\"}], \"name\": \"01/31/2020\"}, {\"data\": [{\"geo\": \"geo\", \"hoverlabel\": {\"namelength\": 0}, \"hovertemplate\": \"<b>%{hovertext}</b><br><br>Date=02/01/2020<br>Confirmed=%{marker.color}<br>Country/Region=%{location}\", \"hovertext\": [\"Australia\", \"Belgium\", \"Cambodia\", \"Canada\", \"Egypt\", \"Finland\", \"France\", \"Germany\", \"Hong Kong\", \"India\", \"Iran\", \"Italy\", \"Japan\", \"Macau\", \"Malaysia\", \"Nepal\", \"Philippines\", \"Russia\", \"Singapore\", \"South Korea\", \"Spain\", \"Sri Lanka\", \"Sweden\", \"Taiwan\", \"Thailand\", \"UK\", \"US\", \"United Arab Emirates\", \"Vietnam\"], \"legendgroup\": \"\", \"locationmode\": \"country names\", \"locations\": [\"Australia\", \"Belgium\", \"Cambodia\", \"Canada\", \"Egypt\", \"Finland\", \"France\", \"Germany\", \"Hong Kong\", \"India\", \"Iran\", \"Italy\", \"Japan\", \"Macau\", \"Malaysia\", \"Nepal\", \"Philippines\", \"Russia\", \"Singapore\", \"South Korea\", \"Spain\", \"Sri Lanka\", \"Sweden\", \"Taiwan\", \"Thailand\", \"UK\", \"US\", \"United Arab Emirates\", \"Vietnam\"], \"marker\": {\"color\": [4, 0, 1, 2, 0, 1, 6, 8, 13, 1, 0, 2, 20, 7, 8, 1, 1, 2, 16, 12, 1, 1, 1, 10, 19, 2, 2, 4, 6], \"coloraxis\": \"coloraxis\", \"size\": [4, 0, 1, 2, 0, 1, 6, 8, 13, 1, 0, 2, 20, 7, 8, 1, 1, 2, 16, 12, 1, 1, 1, 10, 19, 2, 2, 4, 6], \"sizemode\": \"area\", \"sizeref\": 0.21}, \"name\": \"\", \"showlegend\": false, \"type\": \"scattergeo\"}], \"name\": \"02/01/2020\"}, {\"data\": [{\"geo\": \"geo\", \"hoverlabel\": {\"namelength\": 0}, \"hovertemplate\": \"<b>%{hovertext}</b><br><br>Date=02/02/2020<br>Confirmed=%{marker.color}<br>Country/Region=%{location}\", \"hovertext\": [\"Australia\", \"Belgium\", \"Cambodia\", \"Canada\", \"Egypt\", \"Finland\", \"France\", \"Germany\", \"Hong Kong\", \"India\", \"Iran\", \"Italy\", \"Japan\", \"Macau\", \"Malaysia\", \"Nepal\", \"Philippines\", \"Russia\", \"Singapore\", \"South Korea\", \"Spain\", \"Sri Lanka\", \"Sweden\", \"Taiwan\", \"Thailand\", \"UK\", \"US\", \"United Arab Emirates\", \"Vietnam\"], \"legendgroup\": \"\", \"locationmode\": \"country names\", \"locations\": [\"Australia\", \"Belgium\", \"Cambodia\", \"Canada\", \"Egypt\", \"Finland\", \"France\", \"Germany\", \"Hong Kong\", \"India\", \"Iran\", \"Italy\", \"Japan\", \"Macau\", \"Malaysia\", \"Nepal\", \"Philippines\", \"Russia\", \"Singapore\", \"South Korea\", \"Spain\", \"Sri Lanka\", \"Sweden\", \"Taiwan\", \"Thailand\", \"UK\", \"US\", \"United Arab Emirates\", \"Vietnam\"], \"marker\": {\"color\": [4, 0, 1, 2, 0, 1, 6, 10, 15, 2, 0, 2, 20, 8, 8, 1, 2, 2, 18, 15, 1, 1, 1, 10, 19, 2, 2, 5, 6], \"coloraxis\": \"coloraxis\", \"size\": [4, 0, 1, 2, 0, 1, 6, 10, 15, 2, 0, 2, 20, 8, 8, 1, 2, 2, 18, 15, 1, 1, 1, 10, 19, 2, 2, 5, 6], \"sizemode\": \"area\", \"sizeref\": 0.21}, \"name\": \"\", \"showlegend\": false, \"type\": \"scattergeo\"}], \"name\": \"02/02/2020\"}, {\"data\": [{\"geo\": \"geo\", \"hoverlabel\": {\"namelength\": 0}, \"hovertemplate\": \"<b>%{hovertext}</b><br><br>Date=02/03/2020<br>Confirmed=%{marker.color}<br>Country/Region=%{location}\", \"hovertext\": [\"Australia\", \"Belgium\", \"Cambodia\", \"Canada\", \"Egypt\", \"Finland\", \"France\", \"Germany\", \"Hong Kong\", \"India\", \"Iran\", \"Italy\", \"Japan\", \"Macau\", \"Malaysia\", \"Nepal\", \"Philippines\", \"Russia\", \"Singapore\", \"South Korea\", \"Spain\", \"Sri Lanka\", \"Sweden\", \"Taiwan\", \"Thailand\", \"UK\", \"US\", \"United Arab Emirates\", \"Vietnam\"], \"legendgroup\": \"\", \"locationmode\": \"country names\", \"locations\": [\"Australia\", \"Belgium\", \"Cambodia\", \"Canada\", \"Egypt\", \"Finland\", \"France\", \"Germany\", \"Hong Kong\", \"India\", \"Iran\", \"Italy\", \"Japan\", \"Macau\", \"Malaysia\", \"Nepal\", \"Philippines\", \"Russia\", \"Singapore\", \"South Korea\", \"Spain\", \"Sri Lanka\", \"Sweden\", \"Taiwan\", \"Thailand\", \"UK\", \"US\", \"United Arab Emirates\", \"Vietnam\"], \"marker\": {\"color\": [4, 0, 1, 2, 0, 1, 6, 12, 15, 3, 0, 2, 20, 8, 8, 1, 2, 2, 18, 15, 1, 1, 1, 10, 19, 2, 2, 5, 8], \"coloraxis\": \"coloraxis\", \"size\": [4, 0, 1, 2, 0, 1, 6, 12, 15, 3, 0, 2, 20, 8, 8, 1, 2, 2, 18, 15, 1, 1, 1, 10, 19, 2, 2, 5, 8], \"sizemode\": \"area\", \"sizeref\": 0.21}, \"name\": \"\", \"showlegend\": false, \"type\": \"scattergeo\"}], \"name\": \"02/03/2020\"}, {\"data\": [{\"geo\": \"geo\", \"hoverlabel\": {\"namelength\": 0}, \"hovertemplate\": \"<b>%{hovertext}</b><br><br>Date=02/04/2020<br>Confirmed=%{marker.color}<br>Country/Region=%{location}\", \"hovertext\": [\"Australia\", \"Belgium\", \"Cambodia\", \"Canada\", \"Egypt\", \"Finland\", \"France\", \"Germany\", \"Hong Kong\", \"India\", \"Iran\", \"Italy\", \"Japan\", \"Macau\", \"Malaysia\", \"Nepal\", \"Philippines\", \"Russia\", \"Singapore\", \"South Korea\", \"Spain\", \"Sri Lanka\", \"Sweden\", \"Taiwan\", \"Thailand\", \"UK\", \"US\", \"United Arab Emirates\", \"Vietnam\"], \"legendgroup\": \"\", \"locationmode\": \"country names\", \"locations\": [\"Australia\", \"Belgium\", \"Cambodia\", \"Canada\", \"Egypt\", \"Finland\", \"France\", \"Germany\", \"Hong Kong\", \"India\", \"Iran\", \"Italy\", \"Japan\", \"Macau\", \"Malaysia\", \"Nepal\", \"Philippines\", \"Russia\", \"Singapore\", \"South Korea\", \"Spain\", \"Sri Lanka\", \"Sweden\", \"Taiwan\", \"Thailand\", \"UK\", \"US\", \"United Arab Emirates\", \"Vietnam\"], \"marker\": {\"color\": [4, 1, 1, 2, 0, 1, 6, 12, 17, 3, 0, 2, 22, 10, 10, 1, 2, 2, 24, 16, 1, 1, 1, 11, 25, 2, 2, 5, 8], \"coloraxis\": \"coloraxis\", \"size\": [4, 1, 1, 2, 0, 1, 6, 12, 17, 3, 0, 2, 22, 10, 10, 1, 2, 2, 24, 16, 1, 1, 1, 11, 25, 2, 2, 5, 8], \"sizemode\": \"area\", \"sizeref\": 0.21}, \"name\": \"\", \"showlegend\": false, \"type\": \"scattergeo\"}], \"name\": \"02/04/2020\"}, {\"data\": [{\"geo\": \"geo\", \"hoverlabel\": {\"namelength\": 0}, \"hovertemplate\": \"<b>%{hovertext}</b><br><br>Date=02/05/2020<br>Confirmed=%{marker.color}<br>Country/Region=%{location}\", \"hovertext\": [\"Australia\", \"Belgium\", \"Cambodia\", \"Canada\", \"Egypt\", \"Finland\", \"France\", \"Germany\", \"Hong Kong\", \"India\", \"Iran\", \"Italy\", \"Japan\", \"Macau\", \"Malaysia\", \"Nepal\", \"Philippines\", \"Russia\", \"Singapore\", \"South Korea\", \"Spain\", \"Sri Lanka\", \"Sweden\", \"Taiwan\", \"Thailand\", \"UK\", \"US\", \"United Arab Emirates\", \"Vietnam\"], \"legendgroup\": \"\", \"locationmode\": \"country names\", \"locations\": [\"Australia\", \"Belgium\", \"Cambodia\", \"Canada\", \"Egypt\", \"Finland\", \"France\", \"Germany\", \"Hong Kong\", \"India\", \"Iran\", \"Italy\", \"Japan\", \"Macau\", \"Malaysia\", \"Nepal\", \"Philippines\", \"Russia\", \"Singapore\", \"South Korea\", \"Spain\", \"Sri Lanka\", \"Sweden\", \"Taiwan\", \"Thailand\", \"UK\", \"US\", \"United Arab Emirates\", \"Vietnam\"], \"marker\": {\"color\": [4, 1, 1, 2, 0, 1, 6, 12, 21, 3, 0, 2, 22, 10, 12, 1, 2, 2, 28, 19, 1, 1, 1, 11, 25, 2, 2, 5, 8], \"coloraxis\": \"coloraxis\", \"size\": [4, 1, 1, 2, 0, 1, 6, 12, 21, 3, 0, 2, 22, 10, 12, 1, 2, 2, 28, 19, 1, 1, 1, 11, 25, 2, 2, 5, 8], \"sizemode\": \"area\", \"sizeref\": 0.21}, \"name\": \"\", \"showlegend\": false, \"type\": \"scattergeo\"}], \"name\": \"02/05/2020\"}, {\"data\": [{\"geo\": \"geo\", \"hoverlabel\": {\"namelength\": 0}, \"hovertemplate\": \"<b>%{hovertext}</b><br><br>Date=02/06/2020<br>Confirmed=%{marker.color}<br>Country/Region=%{location}\", \"hovertext\": [\"Australia\", \"Belgium\", \"Cambodia\", \"Canada\", \"Egypt\", \"Finland\", \"France\", \"Germany\", \"Hong Kong\", \"India\", \"Iran\", \"Italy\", \"Japan\", \"Macau\", \"Malaysia\", \"Nepal\", \"Philippines\", \"Russia\", \"Singapore\", \"South Korea\", \"Spain\", \"Sri Lanka\", \"Sweden\", \"Taiwan\", \"Thailand\", \"UK\", \"US\", \"United Arab Emirates\", \"Vietnam\"], \"legendgroup\": \"\", \"locationmode\": \"country names\", \"locations\": [\"Australia\", \"Belgium\", \"Cambodia\", \"Canada\", \"Egypt\", \"Finland\", \"France\", \"Germany\", \"Hong Kong\", \"India\", \"Iran\", \"Italy\", \"Japan\", \"Macau\", \"Malaysia\", \"Nepal\", \"Philippines\", \"Russia\", \"Singapore\", \"South Korea\", \"Spain\", \"Sri Lanka\", \"Sweden\", \"Taiwan\", \"Thailand\", \"UK\", \"US\", \"United Arab Emirates\", \"Vietnam\"], \"marker\": {\"color\": [4, 1, 1, 2, 0, 1, 6, 12, 24, 3, 0, 2, 45, 10, 12, 1, 2, 2, 28, 23, 1, 1, 1, 16, 25, 2, 2, 5, 10], \"coloraxis\": \"coloraxis\", \"size\": [4, 1, 1, 2, 0, 1, 6, 12, 24, 3, 0, 2, 45, 10, 12, 1, 2, 2, 28, 23, 1, 1, 1, 16, 25, 2, 2, 5, 10], \"sizemode\": \"area\", \"sizeref\": 0.21}, \"name\": \"\", \"showlegend\": false, \"type\": \"scattergeo\"}], \"name\": \"02/06/2020\"}, {\"data\": [{\"geo\": \"geo\", \"hoverlabel\": {\"namelength\": 0}, \"hovertemplate\": \"<b>%{hovertext}</b><br><br>Date=02/07/2020<br>Confirmed=%{marker.color}<br>Country/Region=%{location}\", \"hovertext\": [\"Australia\", \"Belgium\", \"Cambodia\", \"Canada\", \"Egypt\", \"Finland\", \"France\", \"Germany\", \"Hong Kong\", \"India\", \"Iran\", \"Italy\", \"Japan\", \"Macau\", \"Malaysia\", \"Nepal\", \"Philippines\", \"Russia\", \"Singapore\", \"South Korea\", \"Spain\", \"Sri Lanka\", \"Sweden\", \"Taiwan\", \"Thailand\", \"UK\", \"US\", \"United Arab Emirates\", \"Vietnam\"], \"legendgroup\": \"\", \"locationmode\": \"country names\", \"locations\": [\"Australia\", \"Belgium\", \"Cambodia\", \"Canada\", \"Egypt\", \"Finland\", \"France\", \"Germany\", \"Hong Kong\", \"India\", \"Iran\", \"Italy\", \"Japan\", \"Macau\", \"Malaysia\", \"Nepal\", \"Philippines\", \"Russia\", \"Singapore\", \"South Korea\", \"Spain\", \"Sri Lanka\", \"Sweden\", \"Taiwan\", \"Thailand\", \"UK\", \"US\", \"United Arab Emirates\", \"Vietnam\"], \"marker\": {\"color\": [5, 1, 1, 4, 0, 1, 6, 13, 25, 3, 0, 3, 25, 10, 12, 1, 3, 2, 30, 24, 1, 1, 1, 16, 25, 3, 2, 5, 10], \"coloraxis\": \"coloraxis\", \"size\": [5, 1, 1, 4, 0, 1, 6, 13, 25, 3, 0, 3, 25, 10, 12, 1, 3, 2, 30, 24, 1, 1, 1, 16, 25, 3, 2, 5, 10], \"sizemode\": \"area\", \"sizeref\": 0.21}, \"name\": \"\", \"showlegend\": false, \"type\": \"scattergeo\"}], \"name\": \"02/07/2020\"}, {\"data\": [{\"geo\": \"geo\", \"hoverlabel\": {\"namelength\": 0}, \"hovertemplate\": \"<b>%{hovertext}</b><br><br>Date=02/08/2020<br>Confirmed=%{marker.color}<br>Country/Region=%{location}\", \"hovertext\": [\"Australia\", \"Belgium\", \"Cambodia\", \"Canada\", \"Egypt\", \"Finland\", \"France\", \"Germany\", \"Hong Kong\", \"India\", \"Iran\", \"Italy\", \"Japan\", \"Macau\", \"Malaysia\", \"Nepal\", \"Philippines\", \"Russia\", \"Singapore\", \"South Korea\", \"Spain\", \"Sri Lanka\", \"Sweden\", \"Taiwan\", \"Thailand\", \"UK\", \"US\", \"United Arab Emirates\", \"Vietnam\"], \"legendgroup\": \"\", \"locationmode\": \"country names\", \"locations\": [\"Australia\", \"Belgium\", \"Cambodia\", \"Canada\", \"Egypt\", \"Finland\", \"France\", \"Germany\", \"Hong Kong\", \"India\", \"Iran\", \"Italy\", \"Japan\", \"Macau\", \"Malaysia\", \"Nepal\", \"Philippines\", \"Russia\", \"Singapore\", \"South Korea\", \"Spain\", \"Sri Lanka\", \"Sweden\", \"Taiwan\", \"Thailand\", \"UK\", \"US\", \"United Arab Emirates\", \"Vietnam\"], \"marker\": {\"color\": [5, 1, 1, 4, 0, 1, 11, 13, 26, 3, 0, 3, 25, 10, 16, 1, 3, 2, 33, 24, 1, 1, 1, 17, 32, 3, 2, 7, 13], \"coloraxis\": \"coloraxis\", \"size\": [5, 1, 1, 4, 0, 1, 11, 13, 26, 3, 0, 3, 25, 10, 16, 1, 3, 2, 33, 24, 1, 1, 1, 17, 32, 3, 2, 7, 13], \"sizemode\": \"area\", \"sizeref\": 0.21}, \"name\": \"\", \"showlegend\": false, \"type\": \"scattergeo\"}], \"name\": \"02/08/2020\"}, {\"data\": [{\"geo\": \"geo\", \"hoverlabel\": {\"namelength\": 0}, \"hovertemplate\": \"<b>%{hovertext}</b><br><br>Date=02/09/2020<br>Confirmed=%{marker.color}<br>Country/Region=%{location}\", \"hovertext\": [\"Australia\", \"Belgium\", \"Cambodia\", \"Canada\", \"Egypt\", \"Finland\", \"France\", \"Germany\", \"Hong Kong\", \"India\", \"Iran\", \"Italy\", \"Japan\", \"Macau\", \"Malaysia\", \"Nepal\", \"Philippines\", \"Russia\", \"Singapore\", \"South Korea\", \"Spain\", \"Sri Lanka\", \"Sweden\", \"Taiwan\", \"Thailand\", \"UK\", \"US\", \"United Arab Emirates\", \"Vietnam\"], \"legendgroup\": \"\", \"locationmode\": \"country names\", \"locations\": [\"Australia\", \"Belgium\", \"Cambodia\", \"Canada\", \"Egypt\", \"Finland\", \"France\", \"Germany\", \"Hong Kong\", \"India\", \"Iran\", \"Italy\", \"Japan\", \"Macau\", \"Malaysia\", \"Nepal\", \"Philippines\", \"Russia\", \"Singapore\", \"South Korea\", \"Spain\", \"Sri Lanka\", \"Sweden\", \"Taiwan\", \"Thailand\", \"UK\", \"US\", \"United Arab Emirates\", \"Vietnam\"], \"marker\": {\"color\": [5, 1, 1, 4, 0, 1, 11, 14, 29, 3, 0, 3, 26, 10, 16, 1, 3, 2, 40, 25, 2, 1, 1, 18, 32, 3, 2, 7, 13], \"coloraxis\": \"coloraxis\", \"size\": [5, 1, 1, 4, 0, 1, 11, 14, 29, 3, 0, 3, 26, 10, 16, 1, 3, 2, 40, 25, 2, 1, 1, 18, 32, 3, 2, 7, 13], \"sizemode\": \"area\", \"sizeref\": 0.21}, \"name\": \"\", \"showlegend\": false, \"type\": \"scattergeo\"}], \"name\": \"02/09/2020\"}, {\"data\": [{\"geo\": \"geo\", \"hoverlabel\": {\"namelength\": 0}, \"hovertemplate\": \"<b>%{hovertext}</b><br><br>Date=02/10/2020<br>Confirmed=%{marker.color}<br>Country/Region=%{location}\", \"hovertext\": [\"Australia\", \"Belgium\", \"Cambodia\", \"Canada\", \"Egypt\", \"Finland\", \"France\", \"Germany\", \"Hong Kong\", \"India\", \"Iran\", \"Italy\", \"Japan\", \"Macau\", \"Malaysia\", \"Nepal\", \"Philippines\", \"Russia\", \"Singapore\", \"South Korea\", \"Spain\", \"Sri Lanka\", \"Sweden\", \"Taiwan\", \"Thailand\", \"UK\", \"US\", \"United Arab Emirates\", \"Vietnam\"], \"legendgroup\": \"\", \"locationmode\": \"country names\", \"locations\": [\"Australia\", \"Belgium\", \"Cambodia\", \"Canada\", \"Egypt\", \"Finland\", \"France\", \"Germany\", \"Hong Kong\", \"India\", \"Iran\", \"Italy\", \"Japan\", \"Macau\", \"Malaysia\", \"Nepal\", \"Philippines\", \"Russia\", \"Singapore\", \"South Korea\", \"Spain\", \"Sri Lanka\", \"Sweden\", \"Taiwan\", \"Thailand\", \"UK\", \"US\", \"United Arab Emirates\", \"Vietnam\"], \"marker\": {\"color\": [5, 1, 1, 4, 0, 1, 11, 14, 38, 3, 0, 3, 26, 10, 18, 1, 3, 2, 45, 27, 2, 1, 1, 18, 32, 8, 2, 8, 14], \"coloraxis\": \"coloraxis\", \"size\": [5, 1, 1, 4, 0, 1, 11, 14, 38, 3, 0, 3, 26, 10, 18, 1, 3, 2, 45, 27, 2, 1, 1, 18, 32, 8, 2, 8, 14], \"sizemode\": \"area\", \"sizeref\": 0.21}, \"name\": \"\", \"showlegend\": false, \"type\": \"scattergeo\"}], \"name\": \"02/10/2020\"}, {\"data\": [{\"geo\": \"geo\", \"hoverlabel\": {\"namelength\": 0}, \"hovertemplate\": \"<b>%{hovertext}</b><br><br>Date=02/11/2020<br>Confirmed=%{marker.color}<br>Country/Region=%{location}\", \"hovertext\": [\"Australia\", \"Belgium\", \"Cambodia\", \"Canada\", \"Egypt\", \"Finland\", \"France\", \"Germany\", \"Hong Kong\", \"India\", \"Iran\", \"Italy\", \"Japan\", \"Macau\", \"Malaysia\", \"Nepal\", \"Philippines\", \"Russia\", \"Singapore\", \"South Korea\", \"Spain\", \"Sri Lanka\", \"Sweden\", \"Taiwan\", \"Thailand\", \"UK\", \"US\", \"United Arab Emirates\", \"Vietnam\"], \"legendgroup\": \"\", \"locationmode\": \"country names\", \"locations\": [\"Australia\", \"Belgium\", \"Cambodia\", \"Canada\", \"Egypt\", \"Finland\", \"France\", \"Germany\", \"Hong Kong\", \"India\", \"Iran\", \"Italy\", \"Japan\", \"Macau\", \"Malaysia\", \"Nepal\", \"Philippines\", \"Russia\", \"Singapore\", \"South Korea\", \"Spain\", \"Sri Lanka\", \"Sweden\", \"Taiwan\", \"Thailand\", \"UK\", \"US\", \"United Arab Emirates\", \"Vietnam\"], \"marker\": {\"color\": [5, 1, 1, 4, 0, 1, 11, 16, 49, 3, 0, 3, 26, 10, 18, 1, 3, 2, 47, 28, 2, 1, 1, 18, 33, 8, 2, 8, 15], \"coloraxis\": \"coloraxis\", \"size\": [5, 1, 1, 4, 0, 1, 11, 16, 49, 3, 0, 3, 26, 10, 18, 1, 3, 2, 47, 28, 2, 1, 1, 18, 33, 8, 2, 8, 15], \"sizemode\": \"area\", \"sizeref\": 0.21}, \"name\": \"\", \"showlegend\": false, \"type\": \"scattergeo\"}], \"name\": \"02/11/2020\"}, {\"data\": [{\"geo\": \"geo\", \"hoverlabel\": {\"namelength\": 0}, \"hovertemplate\": \"<b>%{hovertext}</b><br><br>Date=02/12/2020<br>Confirmed=%{marker.color}<br>Country/Region=%{location}\", \"hovertext\": [\"Australia\", \"Belgium\", \"Cambodia\", \"Canada\", \"Egypt\", \"Finland\", \"France\", \"Germany\", \"Hong Kong\", \"India\", \"Iran\", \"Italy\", \"Japan\", \"Macau\", \"Malaysia\", \"Nepal\", \"Philippines\", \"Russia\", \"Singapore\", \"South Korea\", \"Spain\", \"Sri Lanka\", \"Sweden\", \"Taiwan\", \"Thailand\", \"UK\", \"US\", \"United Arab Emirates\", \"Vietnam\"], \"legendgroup\": \"\", \"locationmode\": \"country names\", \"locations\": [\"Australia\", \"Belgium\", \"Cambodia\", \"Canada\", \"Egypt\", \"Finland\", \"France\", \"Germany\", \"Hong Kong\", \"India\", \"Iran\", \"Italy\", \"Japan\", \"Macau\", \"Malaysia\", \"Nepal\", \"Philippines\", \"Russia\", \"Singapore\", \"South Korea\", \"Spain\", \"Sri Lanka\", \"Sweden\", \"Taiwan\", \"Thailand\", \"UK\", \"US\", \"United Arab Emirates\", \"Vietnam\"], \"marker\": {\"color\": [5, 1, 1, 4, 0, 1, 11, 16, 50, 3, 0, 3, 28, 10, 18, 1, 3, 2, 50, 28, 2, 1, 1, 18, 33, 9, 2, 8, 15], \"coloraxis\": \"coloraxis\", \"size\": [5, 1, 1, 4, 0, 1, 11, 16, 50, 3, 0, 3, 28, 10, 18, 1, 3, 2, 50, 28, 2, 1, 1, 18, 33, 9, 2, 8, 15], \"sizemode\": \"area\", \"sizeref\": 0.21}, \"name\": \"\", \"showlegend\": false, \"type\": \"scattergeo\"}], \"name\": \"02/12/2020\"}, {\"data\": [{\"geo\": \"geo\", \"hoverlabel\": {\"namelength\": 0}, \"hovertemplate\": \"<b>%{hovertext}</b><br><br>Date=02/13/2020<br>Confirmed=%{marker.color}<br>Country/Region=%{location}\", \"hovertext\": [\"Australia\", \"Belgium\", \"Cambodia\", \"Canada\", \"Egypt\", \"Finland\", \"France\", \"Germany\", \"Hong Kong\", \"India\", \"Iran\", \"Italy\", \"Japan\", \"Macau\", \"Malaysia\", \"Nepal\", \"Philippines\", \"Russia\", \"Singapore\", \"South Korea\", \"Spain\", \"Sri Lanka\", \"Sweden\", \"Taiwan\", \"Thailand\", \"UK\", \"US\", \"United Arab Emirates\", \"Vietnam\"], \"legendgroup\": \"\", \"locationmode\": \"country names\", \"locations\": [\"Australia\", \"Belgium\", \"Cambodia\", \"Canada\", \"Egypt\", \"Finland\", \"France\", \"Germany\", \"Hong Kong\", \"India\", \"Iran\", \"Italy\", \"Japan\", \"Macau\", \"Malaysia\", \"Nepal\", \"Philippines\", \"Russia\", \"Singapore\", \"South Korea\", \"Spain\", \"Sri Lanka\", \"Sweden\", \"Taiwan\", \"Thailand\", \"UK\", \"US\", \"United Arab Emirates\", \"Vietnam\"], \"marker\": {\"color\": [5, 1, 1, 4, 0, 1, 11, 16, 53, 3, 0, 3, 28, 10, 19, 1, 3, 2, 58, 28, 2, 1, 1, 18, 33, 9, 2, 8, 16], \"coloraxis\": \"coloraxis\", \"size\": [5, 1, 1, 4, 0, 1, 11, 16, 53, 3, 0, 3, 28, 10, 19, 1, 3, 2, 58, 28, 2, 1, 1, 18, 33, 9, 2, 8, 16], \"sizemode\": \"area\", \"sizeref\": 0.21}, \"name\": \"\", \"showlegend\": false, \"type\": \"scattergeo\"}], \"name\": \"02/13/2020\"}, {\"data\": [{\"geo\": \"geo\", \"hoverlabel\": {\"namelength\": 0}, \"hovertemplate\": \"<b>%{hovertext}</b><br><br>Date=02/14/2020<br>Confirmed=%{marker.color}<br>Country/Region=%{location}\", \"hovertext\": [\"Australia\", \"Belgium\", \"Cambodia\", \"Canada\", \"Egypt\", \"Finland\", \"France\", \"Germany\", \"Hong Kong\", \"India\", \"Iran\", \"Italy\", \"Japan\", \"Macau\", \"Malaysia\", \"Nepal\", \"Philippines\", \"Russia\", \"Singapore\", \"South Korea\", \"Spain\", \"Sri Lanka\", \"Sweden\", \"Taiwan\", \"Thailand\", \"UK\", \"US\", \"United Arab Emirates\", \"Vietnam\"], \"legendgroup\": \"\", \"locationmode\": \"country names\", \"locations\": [\"Australia\", \"Belgium\", \"Cambodia\", \"Canada\", \"Egypt\", \"Finland\", \"France\", \"Germany\", \"Hong Kong\", \"India\", \"Iran\", \"Italy\", \"Japan\", \"Macau\", \"Malaysia\", \"Nepal\", \"Philippines\", \"Russia\", \"Singapore\", \"South Korea\", \"Spain\", \"Sri Lanka\", \"Sweden\", \"Taiwan\", \"Thailand\", \"UK\", \"US\", \"United Arab Emirates\", \"Vietnam\"], \"marker\": {\"color\": [5, 1, 1, 4, 1, 1, 11, 16, 56, 3, 0, 3, 29, 10, 19, 1, 3, 2, 67, 28, 2, 1, 1, 18, 33, 9, 2, 8, 16], \"coloraxis\": \"coloraxis\", \"size\": [5, 1, 1, 4, 1, 1, 11, 16, 56, 3, 0, 3, 29, 10, 19, 1, 3, 2, 67, 28, 2, 1, 1, 18, 33, 9, 2, 8, 16], \"sizemode\": \"area\", \"sizeref\": 0.21}, \"name\": \"\", \"showlegend\": false, \"type\": \"scattergeo\"}], \"name\": \"02/14/2020\"}, {\"data\": [{\"geo\": \"geo\", \"hoverlabel\": {\"namelength\": 0}, \"hovertemplate\": \"<b>%{hovertext}</b><br><br>Date=02/15/2020<br>Confirmed=%{marker.color}<br>Country/Region=%{location}\", \"hovertext\": [\"Australia\", \"Belgium\", \"Cambodia\", \"Canada\", \"Egypt\", \"Finland\", \"France\", \"Germany\", \"Hong Kong\", \"India\", \"Iran\", \"Italy\", \"Japan\", \"Macau\", \"Malaysia\", \"Nepal\", \"Philippines\", \"Russia\", \"Singapore\", \"South Korea\", \"Spain\", \"Sri Lanka\", \"Sweden\", \"Taiwan\", \"Thailand\", \"UK\", \"US\", \"United Arab Emirates\", \"Vietnam\"], \"legendgroup\": \"\", \"locationmode\": \"country names\", \"locations\": [\"Australia\", \"Belgium\", \"Cambodia\", \"Canada\", \"Egypt\", \"Finland\", \"France\", \"Germany\", \"Hong Kong\", \"India\", \"Iran\", \"Italy\", \"Japan\", \"Macau\", \"Malaysia\", \"Nepal\", \"Philippines\", \"Russia\", \"Singapore\", \"South Korea\", \"Spain\", \"Sri Lanka\", \"Sweden\", \"Taiwan\", \"Thailand\", \"UK\", \"US\", \"United Arab Emirates\", \"Vietnam\"], \"marker\": {\"color\": [5, 1, 1, 4, 1, 1, 12, 16, 56, 3, 0, 3, 43, 10, 22, 1, 3, 2, 72, 28, 2, 1, 1, 18, 33, 9, 2, 8, 16], \"coloraxis\": \"coloraxis\", \"size\": [5, 1, 1, 4, 1, 1, 12, 16, 56, 3, 0, 3, 43, 10, 22, 1, 3, 2, 72, 28, 2, 1, 1, 18, 33, 9, 2, 8, 16], \"sizemode\": \"area\", \"sizeref\": 0.21}, \"name\": \"\", \"showlegend\": false, \"type\": \"scattergeo\"}], \"name\": \"02/15/2020\"}, {\"data\": [{\"geo\": \"geo\", \"hoverlabel\": {\"namelength\": 0}, \"hovertemplate\": \"<b>%{hovertext}</b><br><br>Date=02/16/2020<br>Confirmed=%{marker.color}<br>Country/Region=%{location}\", \"hovertext\": [\"Australia\", \"Belgium\", \"Cambodia\", \"Canada\", \"Egypt\", \"Finland\", \"France\", \"Germany\", \"Hong Kong\", \"India\", \"Iran\", \"Italy\", \"Japan\", \"Macau\", \"Malaysia\", \"Nepal\", \"Philippines\", \"Russia\", \"Singapore\", \"South Korea\", \"Spain\", \"Sri Lanka\", \"Sweden\", \"Taiwan\", \"Thailand\", \"UK\", \"US\", \"United Arab Emirates\", \"Vietnam\"], \"legendgroup\": \"\", \"locationmode\": \"country names\", \"locations\": [\"Australia\", \"Belgium\", \"Cambodia\", \"Canada\", \"Egypt\", \"Finland\", \"France\", \"Germany\", \"Hong Kong\", \"India\", \"Iran\", \"Italy\", \"Japan\", \"Macau\", \"Malaysia\", \"Nepal\", \"Philippines\", \"Russia\", \"Singapore\", \"South Korea\", \"Spain\", \"Sri Lanka\", \"Sweden\", \"Taiwan\", \"Thailand\", \"UK\", \"US\", \"United Arab Emirates\", \"Vietnam\"], \"marker\": {\"color\": [5, 1, 1, 4, 1, 1, 12, 16, 57, 3, 0, 3, 59, 10, 22, 1, 3, 2, 75, 29, 2, 1, 1, 20, 34, 9, 2, 9, 16], \"coloraxis\": \"coloraxis\", \"size\": [5, 1, 1, 4, 1, 1, 12, 16, 57, 3, 0, 3, 59, 10, 22, 1, 3, 2, 75, 29, 2, 1, 1, 20, 34, 9, 2, 9, 16], \"sizemode\": \"area\", \"sizeref\": 0.21}, \"name\": \"\", \"showlegend\": false, \"type\": \"scattergeo\"}], \"name\": \"02/16/2020\"}, {\"data\": [{\"geo\": \"geo\", \"hoverlabel\": {\"namelength\": 0}, \"hovertemplate\": \"<b>%{hovertext}</b><br><br>Date=02/17/2020<br>Confirmed=%{marker.color}<br>Country/Region=%{location}\", \"hovertext\": [\"Australia\", \"Belgium\", \"Cambodia\", \"Canada\", \"Egypt\", \"Finland\", \"France\", \"Germany\", \"Hong Kong\", \"India\", \"Iran\", \"Italy\", \"Japan\", \"Macau\", \"Malaysia\", \"Nepal\", \"Philippines\", \"Russia\", \"Singapore\", \"South Korea\", \"Spain\", \"Sri Lanka\", \"Sweden\", \"Taiwan\", \"Thailand\", \"UK\", \"US\", \"United Arab Emirates\", \"Vietnam\"], \"legendgroup\": \"\", \"locationmode\": \"country names\", \"locations\": [\"Australia\", \"Belgium\", \"Cambodia\", \"Canada\", \"Egypt\", \"Finland\", \"France\", \"Germany\", \"Hong Kong\", \"India\", \"Iran\", \"Italy\", \"Japan\", \"Macau\", \"Malaysia\", \"Nepal\", \"Philippines\", \"Russia\", \"Singapore\", \"South Korea\", \"Spain\", \"Sri Lanka\", \"Sweden\", \"Taiwan\", \"Thailand\", \"UK\", \"US\", \"United Arab Emirates\", \"Vietnam\"], \"marker\": {\"color\": [5, 1, 1, 5, 1, 1, 12, 16, 60, 3, 0, 3, 66, 10, 22, 1, 3, 2, 77, 30, 2, 1, 1, 22, 35, 9, 2, 9, 16], \"coloraxis\": \"coloraxis\", \"size\": [5, 1, 1, 5, 1, 1, 12, 16, 60, 3, 0, 3, 66, 10, 22, 1, 3, 2, 77, 30, 2, 1, 1, 22, 35, 9, 2, 9, 16], \"sizemode\": \"area\", \"sizeref\": 0.21}, \"name\": \"\", \"showlegend\": false, \"type\": \"scattergeo\"}], \"name\": \"02/17/2020\"}, {\"data\": [{\"geo\": \"geo\", \"hoverlabel\": {\"namelength\": 0}, \"hovertemplate\": \"<b>%{hovertext}</b><br><br>Date=02/18/2020<br>Confirmed=%{marker.color}<br>Country/Region=%{location}\", \"hovertext\": [\"Australia\", \"Belgium\", \"Cambodia\", \"Canada\", \"Egypt\", \"Finland\", \"France\", \"Germany\", \"Hong Kong\", \"India\", \"Iran\", \"Italy\", \"Japan\", \"Macau\", \"Malaysia\", \"Nepal\", \"Philippines\", \"Russia\", \"Singapore\", \"South Korea\", \"Spain\", \"Sri Lanka\", \"Sweden\", \"Taiwan\", \"Thailand\", \"UK\", \"US\", \"United Arab Emirates\", \"Vietnam\"], \"legendgroup\": \"\", \"locationmode\": \"country names\", \"locations\": [\"Australia\", \"Belgium\", \"Cambodia\", \"Canada\", \"Egypt\", \"Finland\", \"France\", \"Germany\", \"Hong Kong\", \"India\", \"Iran\", \"Italy\", \"Japan\", \"Macau\", \"Malaysia\", \"Nepal\", \"Philippines\", \"Russia\", \"Singapore\", \"South Korea\", \"Spain\", \"Sri Lanka\", \"Sweden\", \"Taiwan\", \"Thailand\", \"UK\", \"US\", \"United Arab Emirates\", \"Vietnam\"], \"marker\": {\"color\": [5, 1, 1, 5, 1, 1, 12, 16, 62, 3, 0, 3, 74, 10, 22, 1, 3, 2, 81, 31, 2, 1, 1, 22, 35, 9, 2, 9, 16], \"coloraxis\": \"coloraxis\", \"size\": [5, 1, 1, 5, 1, 1, 12, 16, 62, 3, 0, 3, 74, 10, 22, 1, 3, 2, 81, 31, 2, 1, 1, 22, 35, 9, 2, 9, 16], \"sizemode\": \"area\", \"sizeref\": 0.21}, \"name\": \"\", \"showlegend\": false, \"type\": \"scattergeo\"}], \"name\": \"02/18/2020\"}, {\"data\": [{\"geo\": \"geo\", \"hoverlabel\": {\"namelength\": 0}, \"hovertemplate\": \"<b>%{hovertext}</b><br><br>Date=02/19/2020<br>Confirmed=%{marker.color}<br>Country/Region=%{location}\", \"hovertext\": [\"Australia\", \"Belgium\", \"Cambodia\", \"Canada\", \"Egypt\", \"Finland\", \"France\", \"Germany\", \"Hong Kong\", \"India\", \"Iran\", \"Italy\", \"Japan\", \"Macau\", \"Malaysia\", \"Nepal\", \"Philippines\", \"Russia\", \"Singapore\", \"South Korea\", \"Spain\", \"Sri Lanka\", \"Sweden\", \"Taiwan\", \"Thailand\", \"UK\", \"US\", \"United Arab Emirates\", \"Vietnam\"], \"legendgroup\": \"\", \"locationmode\": \"country names\", \"locations\": [\"Australia\", \"Belgium\", \"Cambodia\", \"Canada\", \"Egypt\", \"Finland\", \"France\", \"Germany\", \"Hong Kong\", \"India\", \"Iran\", \"Italy\", \"Japan\", \"Macau\", \"Malaysia\", \"Nepal\", \"Philippines\", \"Russia\", \"Singapore\", \"South Korea\", \"Spain\", \"Sri Lanka\", \"Sweden\", \"Taiwan\", \"Thailand\", \"UK\", \"US\", \"United Arab Emirates\", \"Vietnam\"], \"marker\": {\"color\": [5, 1, 1, 5, 1, 1, 12, 16, 63, 3, 2, 3, 84, 10, 22, 1, 3, 2, 84, 31, 2, 1, 1, 23, 35, 9, 2, 9, 16], \"coloraxis\": \"coloraxis\", \"size\": [5, 1, 1, 5, 1, 1, 12, 16, 63, 3, 2, 3, 84, 10, 22, 1, 3, 2, 84, 31, 2, 1, 1, 23, 35, 9, 2, 9, 16], \"sizemode\": \"area\", \"sizeref\": 0.21}, \"name\": \"\", \"showlegend\": false, \"type\": \"scattergeo\"}], \"name\": \"02/19/2020\"}]);\n",
       "                        }).then(function(){\n",
       "                            \n",
       "var gd = document.getElementById('43f939d4-5d04-4b0b-8c7c-717ccdadede1');\n",
       "var x = new MutationObserver(function (mutations, observer) {{\n",
       "        var display = window.getComputedStyle(gd).display;\n",
       "        if (!display || display === 'none') {{\n",
       "            console.log([gd, 'removed!']);\n",
       "            Plotly.purge(gd);\n",
       "            observer.disconnect();\n",
       "        }}\n",
       "}});\n",
       "\n",
       "// Listen for the removal of the full notebook cells\n",
       "var notebookContainer = gd.closest('#notebook-container');\n",
       "if (notebookContainer) {{\n",
       "    x.observe(notebookContainer, {childList: true});\n",
       "}}\n",
       "\n",
       "// Listen for the clearing of the current output cell\n",
       "var outputEl = gd.closest('.output');\n",
       "if (outputEl) {{\n",
       "    x.observe(outputEl, {childList: true});\n",
       "}}\n",
       "\n",
       "                        })\n",
       "                };\n",
       "                });\n",
       "            </script>\n",
       "        </div>"
      ]
     },
     "metadata": {},
     "output_type": "display_data"
    },
    {
     "data": {
      "application/vnd.plotly.v1+json": {
       "config": {
        "plotlyServerURL": "https://plot.ly"
       },
       "data": [
        {
         "customdata": [
          [
           1,
           0,
           0
          ],
          [
           14,
           0,
           0
          ],
          [
           6,
           0,
           0
          ],
          [
           1,
           0,
           0
          ],
          [
           0,
           0,
           0
          ],
          [
           26,
           0,
           0
          ],
          [
           2,
           0,
           0
          ],
          [
           1,
           0,
           0
          ],
          [
           4,
           0,
           0
          ],
          [
           1,
           0,
           0
          ],
          [
           0,
           0,
           0
          ],
          [
           5,
           0,
           0
          ],
          [
           444,
           17,
           28
          ],
          [
           4,
           0,
           0
          ],
          [
           0,
           0,
           0
          ],
          [
           1,
           0,
           0
          ],
          [
           2,
           0,
           0
          ],
          [
           0,
           0,
           0
          ],
          [
           2,
           0,
           0
          ],
          [
           1,
           0,
           0
          ],
          [
           0,
           0,
           0
          ],
          [
           0,
           0,
           0
          ],
          [
           2,
           0,
           0
          ],
          [
           9,
           0,
           0
          ],
          [
           1,
           0,
           0
          ],
          [
           5,
           0,
           0
          ],
          [
           4,
           0,
           0
          ],
          [
           0,
           0,
           0
          ],
          [
           0,
           0,
           0
          ],
          [
           1,
           0,
           0
          ],
          [
           10,
           0,
           0
          ]
         ],
         "geo": "geo",
         "hoverlabel": {
          "namelength": 0
         },
         "hovertemplate": "<b>%{hovertext}</b><br><br>Date=01/22/2020<br>size=%{marker.color}<br>Confirmed=%{customdata[0]}<br>Deaths=%{customdata[1]}<br>Recovered=%{customdata[2]}<br>Lat=%{lat}<br>Long=%{lon}",
         "hovertext": [
          "Anhui",
          "Beijing",
          "Chongqing",
          "Fujian",
          "Gansu",
          "Guangdong",
          "Guangxi",
          "Guizhou",
          "Hainan",
          "Hebei",
          "Heilongjiang",
          "Henan",
          "Hubei",
          "Hunan",
          "Inner Mongolia",
          "Jiangsu",
          "Jiangxi",
          "Jilin",
          "Liaoning",
          "Ningxia",
          "Qinghai",
          "Shaanxi",
          "Shandong",
          "Shanghai",
          "Shanxi",
          "Sichuan",
          "Tianjin",
          "Tibet",
          "Xinjiang",
          "Yunnan",
          "Zhejiang"
         ],
         "lat": [
          31.825709999999997,
          40.18238,
          30.05718,
          26.07783,
          36.0611,
          23.33841,
          23.829079999999998,
          26.81536,
          19.19673,
          38.0428,
          47.861999999999995,
          33.882020000000004,
          30.975640000000002,
          27.610409999999998,
          44.09448,
          32.97027,
          27.614009999999997,
          43.66657,
          41.292840000000005,
          37.26923,
          35.65945,
          35.19165,
          36.34377,
          31.20327,
          37.577690000000004,
          30.617140000000003,
          39.293620000000004,
          30.1534,
          41.11981,
          24.97411,
          29.182509999999997
         ],
         "legendgroup": "",
         "lon": [
          117.2264,
          116.4142,
          107.874,
          117.9895,
          103.8343,
          113.42200000000001,
          108.7881,
          106.8748,
          109.7455,
          114.5149,
          127.7622,
          113.61399999999999,
          112.2707,
          111.7088,
          113.9456,
          119.464,
          115.7221,
          126.1917,
          122.6086,
          106.1655,
          96.02564,
          108.8701,
          118.1529,
          121.4554,
          112.2922,
          102.7103,
          117.333,
          88.7879,
          85.17822,
          101.4868,
          120.0985
         ],
         "marker": {
          "color": [
           1,
           3.7416573867739413,
           2.449489742783178,
           1,
           0,
           5.0990195135927845,
           1.4142135623730951,
           1,
           2,
           1,
           0,
           2.23606797749979,
           21.071307505705477,
           2,
           0,
           1,
           1.4142135623730951,
           0,
           1.4142135623730951,
           1,
           0,
           0,
           1.4142135623730951,
           3,
           1,
           2.23606797749979,
           2,
           0,
           0,
           1,
           3.1622776601683795
          ],
          "coloraxis": "coloraxis",
          "size": [
           1,
           3.7416573867739413,
           2.449489742783178,
           1,
           0,
           5.0990195135927845,
           1.4142135623730951,
           1,
           2,
           1,
           0,
           2.23606797749979,
           21.071307505705477,
           2,
           0,
           1,
           1.4142135623730951,
           0,
           1.4142135623730951,
           1,
           0,
           0,
           1.4142135623730951,
           3,
           1,
           2.23606797749979,
           2,
           0,
           0,
           1,
           3.1622776601683795
          ],
          "sizemode": "area",
          "sizeref": 0.622650584196305
         },
         "name": "",
         "showlegend": false,
         "type": "scattergeo"
        }
       ],
       "frames": [
        {
         "data": [
          {
           "customdata": [
            [
             1,
             0,
             0
            ],
            [
             14,
             0,
             0
            ],
            [
             6,
             0,
             0
            ],
            [
             1,
             0,
             0
            ],
            [
             0,
             0,
             0
            ],
            [
             26,
             0,
             0
            ],
            [
             2,
             0,
             0
            ],
            [
             1,
             0,
             0
            ],
            [
             4,
             0,
             0
            ],
            [
             1,
             0,
             0
            ],
            [
             0,
             0,
             0
            ],
            [
             5,
             0,
             0
            ],
            [
             444,
             17,
             28
            ],
            [
             4,
             0,
             0
            ],
            [
             0,
             0,
             0
            ],
            [
             1,
             0,
             0
            ],
            [
             2,
             0,
             0
            ],
            [
             0,
             0,
             0
            ],
            [
             2,
             0,
             0
            ],
            [
             1,
             0,
             0
            ],
            [
             0,
             0,
             0
            ],
            [
             0,
             0,
             0
            ],
            [
             2,
             0,
             0
            ],
            [
             9,
             0,
             0
            ],
            [
             1,
             0,
             0
            ],
            [
             5,
             0,
             0
            ],
            [
             4,
             0,
             0
            ],
            [
             0,
             0,
             0
            ],
            [
             0,
             0,
             0
            ],
            [
             1,
             0,
             0
            ],
            [
             10,
             0,
             0
            ]
           ],
           "geo": "geo",
           "hoverlabel": {
            "namelength": 0
           },
           "hovertemplate": "<b>%{hovertext}</b><br><br>Date=01/22/2020<br>size=%{marker.color}<br>Confirmed=%{customdata[0]}<br>Deaths=%{customdata[1]}<br>Recovered=%{customdata[2]}<br>Lat=%{lat}<br>Long=%{lon}",
           "hovertext": [
            "Anhui",
            "Beijing",
            "Chongqing",
            "Fujian",
            "Gansu",
            "Guangdong",
            "Guangxi",
            "Guizhou",
            "Hainan",
            "Hebei",
            "Heilongjiang",
            "Henan",
            "Hubei",
            "Hunan",
            "Inner Mongolia",
            "Jiangsu",
            "Jiangxi",
            "Jilin",
            "Liaoning",
            "Ningxia",
            "Qinghai",
            "Shaanxi",
            "Shandong",
            "Shanghai",
            "Shanxi",
            "Sichuan",
            "Tianjin",
            "Tibet",
            "Xinjiang",
            "Yunnan",
            "Zhejiang"
           ],
           "lat": [
            31.825709999999997,
            40.18238,
            30.05718,
            26.07783,
            36.0611,
            23.33841,
            23.829079999999998,
            26.81536,
            19.19673,
            38.0428,
            47.861999999999995,
            33.882020000000004,
            30.975640000000002,
            27.610409999999998,
            44.09448,
            32.97027,
            27.614009999999997,
            43.66657,
            41.292840000000005,
            37.26923,
            35.65945,
            35.19165,
            36.34377,
            31.20327,
            37.577690000000004,
            30.617140000000003,
            39.293620000000004,
            30.1534,
            41.11981,
            24.97411,
            29.182509999999997
           ],
           "legendgroup": "",
           "lon": [
            117.2264,
            116.4142,
            107.874,
            117.9895,
            103.8343,
            113.42200000000001,
            108.7881,
            106.8748,
            109.7455,
            114.5149,
            127.7622,
            113.61399999999999,
            112.2707,
            111.7088,
            113.9456,
            119.464,
            115.7221,
            126.1917,
            122.6086,
            106.1655,
            96.02564,
            108.8701,
            118.1529,
            121.4554,
            112.2922,
            102.7103,
            117.333,
            88.7879,
            85.17822,
            101.4868,
            120.0985
           ],
           "marker": {
            "color": [
             1,
             3.7416573867739413,
             2.449489742783178,
             1,
             0,
             5.0990195135927845,
             1.4142135623730951,
             1,
             2,
             1,
             0,
             2.23606797749979,
             21.071307505705477,
             2,
             0,
             1,
             1.4142135623730951,
             0,
             1.4142135623730951,
             1,
             0,
             0,
             1.4142135623730951,
             3,
             1,
             2.23606797749979,
             2,
             0,
             0,
             1,
             3.1622776601683795
            ],
            "coloraxis": "coloraxis",
            "size": [
             1,
             3.7416573867739413,
             2.449489742783178,
             1,
             0,
             5.0990195135927845,
             1.4142135623730951,
             1,
             2,
             1,
             0,
             2.23606797749979,
             21.071307505705477,
             2,
             0,
             1,
             1.4142135623730951,
             0,
             1.4142135623730951,
             1,
             0,
             0,
             1.4142135623730951,
             3,
             1,
             2.23606797749979,
             2,
             0,
             0,
             1,
             3.1622776601683795
            ],
            "sizemode": "area",
            "sizeref": 0.622650584196305
           },
           "name": "",
           "showlegend": false,
           "type": "scattergeo"
          }
         ],
         "name": "01/22/2020"
        },
        {
         "data": [
          {
           "customdata": [
            [
             9,
             0,
             0
            ],
            [
             22,
             0,
             0
            ],
            [
             9,
             0,
             0
            ],
            [
             5,
             0,
             0
            ],
            [
             2,
             0,
             0
            ],
            [
             32,
             0,
             2
            ],
            [
             5,
             0,
             0
            ],
            [
             3,
             0,
             0
            ],
            [
             5,
             0,
             0
            ],
            [
             1,
             1,
             0
            ],
            [
             2,
             0,
             0
            ],
            [
             5,
             0,
             0
            ],
            [
             444,
             17,
             28
            ],
            [
             9,
             0,
             0
            ],
            [
             0,
             0,
             0
            ],
            [
             5,
             0,
             0
            ],
            [
             7,
             0,
             0
            ],
            [
             1,
             0,
             0
            ],
            [
             3,
             0,
             0
            ],
            [
             1,
             0,
             0
            ],
            [
             0,
             0,
             0
            ],
            [
             3,
             0,
             0
            ],
            [
             6,
             0,
             0
            ],
            [
             16,
             0,
             0
            ],
            [
             1,
             0,
             0
            ],
            [
             8,
             0,
             0
            ],
            [
             4,
             0,
             0
            ],
            [
             0,
             0,
             0
            ],
            [
             2,
             0,
             0
            ],
            [
             2,
             0,
             0
            ],
            [
             27,
             0,
             0
            ]
           ],
           "geo": "geo",
           "hoverlabel": {
            "namelength": 0
           },
           "hovertemplate": "<b>%{hovertext}</b><br><br>Date=01/23/2020<br>size=%{marker.color}<br>Confirmed=%{customdata[0]}<br>Deaths=%{customdata[1]}<br>Recovered=%{customdata[2]}<br>Lat=%{lat}<br>Long=%{lon}",
           "hovertext": [
            "Anhui",
            "Beijing",
            "Chongqing",
            "Fujian",
            "Gansu",
            "Guangdong",
            "Guangxi",
            "Guizhou",
            "Hainan",
            "Hebei",
            "Heilongjiang",
            "Henan",
            "Hubei",
            "Hunan",
            "Inner Mongolia",
            "Jiangsu",
            "Jiangxi",
            "Jilin",
            "Liaoning",
            "Ningxia",
            "Qinghai",
            "Shaanxi",
            "Shandong",
            "Shanghai",
            "Shanxi",
            "Sichuan",
            "Tianjin",
            "Tibet",
            "Xinjiang",
            "Yunnan",
            "Zhejiang"
           ],
           "lat": [
            31.825709999999997,
            40.18238,
            30.05718,
            26.07783,
            36.0611,
            23.33841,
            23.829079999999998,
            26.81536,
            19.19673,
            38.0428,
            47.861999999999995,
            33.882020000000004,
            30.975640000000002,
            27.610409999999998,
            44.09448,
            32.97027,
            27.614009999999997,
            43.66657,
            41.292840000000005,
            37.26923,
            35.65945,
            35.19165,
            36.34377,
            31.20327,
            37.577690000000004,
            30.617140000000003,
            39.293620000000004,
            30.1534,
            41.11981,
            24.97411,
            29.182509999999997
           ],
           "legendgroup": "",
           "lon": [
            117.2264,
            116.4142,
            107.874,
            117.9895,
            103.8343,
            113.42200000000001,
            108.7881,
            106.8748,
            109.7455,
            114.5149,
            127.7622,
            113.61399999999999,
            112.2707,
            111.7088,
            113.9456,
            119.464,
            115.7221,
            126.1917,
            122.6086,
            106.1655,
            96.02564,
            108.8701,
            118.1529,
            121.4554,
            112.2922,
            102.7103,
            117.333,
            88.7879,
            85.17822,
            101.4868,
            120.0985
           ],
           "marker": {
            "color": [
             3,
             4.69041575982343,
             3,
             2.23606797749979,
             1.4142135623730951,
             5.656854249492381,
             2.23606797749979,
             1.7320508075688772,
             2.23606797749979,
             1,
             1.4142135623730951,
             2.23606797749979,
             21.071307505705477,
             3,
             0,
             2.23606797749979,
             2.6457513110645907,
             1,
             1.7320508075688772,
             1,
             0,
             1.7320508075688772,
             2.449489742783178,
             4,
             1,
             2.8284271247461903,
             2,
             0,
             1.4142135623730951,
             1.4142135623730951,
             5.196152422706632
            ],
            "coloraxis": "coloraxis",
            "size": [
             3,
             4.69041575982343,
             3,
             2.23606797749979,
             1.4142135623730951,
             5.656854249492381,
             2.23606797749979,
             1.7320508075688772,
             2.23606797749979,
             1,
             1.4142135623730951,
             2.23606797749979,
             21.071307505705477,
             3,
             0,
             2.23606797749979,
             2.6457513110645907,
             1,
             1.7320508075688772,
             1,
             0,
             1.7320508075688772,
             2.449489742783178,
             4,
             1,
             2.8284271247461903,
             2,
             0,
             1.4142135623730951,
             1.4142135623730951,
             5.196152422706632
            ],
            "sizemode": "area",
            "sizeref": 0.622650584196305
           },
           "name": "",
           "showlegend": false,
           "type": "scattergeo"
          }
         ],
         "name": "01/23/2020"
        },
        {
         "data": [
          {
           "customdata": [
            [
             15,
             0,
             0
            ],
            [
             36,
             0,
             1
            ],
            [
             27,
             0,
             0
            ],
            [
             10,
             0,
             0
            ],
            [
             2,
             0,
             0
            ],
            [
             53,
             0,
             2
            ],
            [
             23,
             0,
             0
            ],
            [
             3,
             0,
             0
            ],
            [
             8,
             0,
             0
            ],
            [
             2,
             1,
             0
            ],
            [
             4,
             1,
             0
            ],
            [
             9,
             0,
             0
            ],
            [
             549,
             24,
             31
            ],
            [
             24,
             0,
             0
            ],
            [
             1,
             0,
             0
            ],
            [
             9,
             0,
             0
            ],
            [
             18,
             0,
             0
            ],
            [
             3,
             0,
             0
            ],
            [
             4,
             0,
             0
            ],
            [
             2,
             0,
             0
            ],
            [
             0,
             0,
             0
            ],
            [
             5,
             0,
             0
            ],
            [
             15,
             0,
             0
            ],
            [
             20,
             0,
             1
            ],
            [
             1,
             0,
             0
            ],
            [
             15,
             0,
             0
            ],
            [
             8,
             0,
             0
            ],
            [
             0,
             0,
             0
            ],
            [
             2,
             0,
             0
            ],
            [
             5,
             0,
             0
            ],
            [
             43,
             0,
             1
            ]
           ],
           "geo": "geo",
           "hoverlabel": {
            "namelength": 0
           },
           "hovertemplate": "<b>%{hovertext}</b><br><br>Date=01/24/2020<br>size=%{marker.color}<br>Confirmed=%{customdata[0]}<br>Deaths=%{customdata[1]}<br>Recovered=%{customdata[2]}<br>Lat=%{lat}<br>Long=%{lon}",
           "hovertext": [
            "Anhui",
            "Beijing",
            "Chongqing",
            "Fujian",
            "Gansu",
            "Guangdong",
            "Guangxi",
            "Guizhou",
            "Hainan",
            "Hebei",
            "Heilongjiang",
            "Henan",
            "Hubei",
            "Hunan",
            "Inner Mongolia",
            "Jiangsu",
            "Jiangxi",
            "Jilin",
            "Liaoning",
            "Ningxia",
            "Qinghai",
            "Shaanxi",
            "Shandong",
            "Shanghai",
            "Shanxi",
            "Sichuan",
            "Tianjin",
            "Tibet",
            "Xinjiang",
            "Yunnan",
            "Zhejiang"
           ],
           "lat": [
            31.825709999999997,
            40.18238,
            30.05718,
            26.07783,
            36.0611,
            23.33841,
            23.829079999999998,
            26.81536,
            19.19673,
            38.0428,
            47.861999999999995,
            33.882020000000004,
            30.975640000000002,
            27.610409999999998,
            44.09448,
            32.97027,
            27.614009999999997,
            43.66657,
            41.292840000000005,
            37.26923,
            35.65945,
            35.19165,
            36.34377,
            31.20327,
            37.577690000000004,
            30.617140000000003,
            39.293620000000004,
            30.1534,
            41.11981,
            24.97411,
            29.182509999999997
           ],
           "legendgroup": "",
           "lon": [
            117.2264,
            116.4142,
            107.874,
            117.9895,
            103.8343,
            113.42200000000001,
            108.7881,
            106.8748,
            109.7455,
            114.5149,
            127.7622,
            113.61399999999999,
            112.2707,
            111.7088,
            113.9456,
            119.464,
            115.7221,
            126.1917,
            122.6086,
            106.1655,
            96.02564,
            108.8701,
            118.1529,
            121.4554,
            112.2922,
            102.7103,
            117.333,
            88.7879,
            85.17822,
            101.4868,
            120.0985
           ],
           "marker": {
            "color": [
             3.872983346207417,
             6,
             5.196152422706632,
             3.1622776601683795,
             1.4142135623730951,
             7.280109889280518,
             4.795831523312719,
             1.7320508075688772,
             2.8284271247461903,
             1.4142135623730951,
             2,
             3,
             23.430749027719962,
             4.898979485566356,
             1,
             3,
             4.242640687119285,
             1.7320508075688772,
             2,
             1.4142135623730951,
             0,
             2.23606797749979,
             3.872983346207417,
             4.47213595499958,
             1,
             3.872983346207417,
             2.8284271247461903,
             0,
             1.4142135623730951,
             2.23606797749979,
             6.557438524302
            ],
            "coloraxis": "coloraxis",
            "size": [
             3.872983346207417,
             6,
             5.196152422706632,
             3.1622776601683795,
             1.4142135623730951,
             7.280109889280518,
             4.795831523312719,
             1.7320508075688772,
             2.8284271247461903,
             1.4142135623730951,
             2,
             3,
             23.430749027719962,
             4.898979485566356,
             1,
             3,
             4.242640687119285,
             1.7320508075688772,
             2,
             1.4142135623730951,
             0,
             2.23606797749979,
             3.872983346207417,
             4.47213595499958,
             1,
             3.872983346207417,
             2.8284271247461903,
             0,
             1.4142135623730951,
             2.23606797749979,
             6.557438524302
            ],
            "sizemode": "area",
            "sizeref": 0.622650584196305
           },
           "name": "",
           "showlegend": false,
           "type": "scattergeo"
          }
         ],
         "name": "01/24/2020"
        },
        {
         "data": [
          {
           "customdata": [
            [
             39,
             0,
             0
            ],
            [
             41,
             0,
             2
            ],
            [
             57,
             0,
             0
            ],
            [
             18,
             0,
             0
            ],
            [
             4,
             0,
             0
            ],
            [
             78,
             0,
             2
            ],
            [
             23,
             0,
             0
            ],
            [
             4,
             0,
             0
            ],
            [
             19,
             0,
             0
            ],
            [
             8,
             1,
             0
            ],
            [
             9,
             1,
             0
            ],
            [
             32,
             0,
             0
            ],
            [
             761,
             40,
             32
            ],
            [
             43,
             0,
             0
            ],
            [
             7,
             0,
             0
            ],
            [
             18,
             0,
             1
            ],
            [
             18,
             0,
             0
            ],
            [
             4,
             0,
             0
            ],
            [
             17,
             0,
             0
            ],
            [
             3,
             0,
             0
            ],
            [
             1,
             0,
             0
            ],
            [
             15,
             0,
             0
            ],
            [
             27,
             0,
             0
            ],
            [
             33,
             0,
             1
            ],
            [
             6,
             0,
             0
            ],
            [
             28,
             0,
             0
            ],
            [
             10,
             0,
             0
            ],
            [
             0,
             0,
             0
            ],
            [
             3,
             0,
             0
            ],
            [
             11,
             0,
             0
            ],
            [
             62,
             0,
             1
            ]
           ],
           "geo": "geo",
           "hoverlabel": {
            "namelength": 0
           },
           "hovertemplate": "<b>%{hovertext}</b><br><br>Date=01/25/2020<br>size=%{marker.color}<br>Confirmed=%{customdata[0]}<br>Deaths=%{customdata[1]}<br>Recovered=%{customdata[2]}<br>Lat=%{lat}<br>Long=%{lon}",
           "hovertext": [
            "Anhui",
            "Beijing",
            "Chongqing",
            "Fujian",
            "Gansu",
            "Guangdong",
            "Guangxi",
            "Guizhou",
            "Hainan",
            "Hebei",
            "Heilongjiang",
            "Henan",
            "Hubei",
            "Hunan",
            "Inner Mongolia",
            "Jiangsu",
            "Jiangxi",
            "Jilin",
            "Liaoning",
            "Ningxia",
            "Qinghai",
            "Shaanxi",
            "Shandong",
            "Shanghai",
            "Shanxi",
            "Sichuan",
            "Tianjin",
            "Tibet",
            "Xinjiang",
            "Yunnan",
            "Zhejiang"
           ],
           "lat": [
            31.825709999999997,
            40.18238,
            30.05718,
            26.07783,
            36.0611,
            23.33841,
            23.829079999999998,
            26.81536,
            19.19673,
            38.0428,
            47.861999999999995,
            33.882020000000004,
            30.975640000000002,
            27.610409999999998,
            44.09448,
            32.97027,
            27.614009999999997,
            43.66657,
            41.292840000000005,
            37.26923,
            35.65945,
            35.19165,
            36.34377,
            31.20327,
            37.577690000000004,
            30.617140000000003,
            39.293620000000004,
            30.1534,
            41.11981,
            24.97411,
            29.182509999999997
           ],
           "legendgroup": "",
           "lon": [
            117.2264,
            116.4142,
            107.874,
            117.9895,
            103.8343,
            113.42200000000001,
            108.7881,
            106.8748,
            109.7455,
            114.5149,
            127.7622,
            113.61399999999999,
            112.2707,
            111.7088,
            113.9456,
            119.464,
            115.7221,
            126.1917,
            122.6086,
            106.1655,
            96.02564,
            108.8701,
            118.1529,
            121.4554,
            112.2922,
            102.7103,
            117.333,
            88.7879,
            85.17822,
            101.4868,
            120.0985
           ],
           "marker": {
            "color": [
             6.244997998398398,
             6.4031242374328485,
             7.54983443527075,
             4.242640687119285,
             2,
             8.831760866327848,
             4.795831523312719,
             2,
             4.358898943540674,
             2.8284271247461903,
             3,
             5.656854249492381,
             27.586228448267445,
             6.557438524302,
             2.6457513110645907,
             4.242640687119285,
             4.242640687119285,
             2,
             4.123105625617661,
             1.7320508075688772,
             1,
             3.872983346207417,
             5.196152422706632,
             5.744562646538029,
             2.449489742783178,
             5.291502622129181,
             3.1622776601683795,
             0,
             1.7320508075688772,
             3.3166247903554,
             7.874007874011811
            ],
            "coloraxis": "coloraxis",
            "size": [
             6.244997998398398,
             6.4031242374328485,
             7.54983443527075,
             4.242640687119285,
             2,
             8.831760866327848,
             4.795831523312719,
             2,
             4.358898943540674,
             2.8284271247461903,
             3,
             5.656854249492381,
             27.586228448267445,
             6.557438524302,
             2.6457513110645907,
             4.242640687119285,
             4.242640687119285,
             2,
             4.123105625617661,
             1.7320508075688772,
             1,
             3.872983346207417,
             5.196152422706632,
             5.744562646538029,
             2.449489742783178,
             5.291502622129181,
             3.1622776601683795,
             0,
             1.7320508075688772,
             3.3166247903554,
             7.874007874011811
            ],
            "sizemode": "area",
            "sizeref": 0.622650584196305
           },
           "name": "",
           "showlegend": false,
           "type": "scattergeo"
          }
         ],
         "name": "01/25/2020"
        },
        {
         "data": [
          {
           "customdata": [
            [
             60,
             0,
             0
            ],
            [
             68,
             0,
             2
            ],
            [
             75,
             0,
             0
            ],
            [
             35,
             0,
             0
            ],
            [
             7,
             0,
             0
            ],
            [
             111,
             0,
             2
            ],
            [
             36,
             0,
             0
            ],
            [
             5,
             0,
             0
            ],
            [
             22,
             0,
             0
            ],
            [
             13,
             1,
             0
            ],
            [
             15,
             1,
             0
            ],
            [
             83,
             1,
             0
            ],
            [
             1058,
             52,
             42
            ],
            [
             69,
             0,
             0
            ],
            [
             7,
             0,
             0
            ],
            [
             33,
             0,
             1
            ],
            [
             36,
             0,
             0
            ],
            [
             4,
             0,
             0
            ],
            [
             21,
             0,
             0
            ],
            [
             4,
             0,
             0
            ],
            [
             1,
             0,
             0
            ],
            [
             22,
             0,
             0
            ],
            [
             46,
             0,
             0
            ],
            [
             40,
             1,
             1
            ],
            [
             9,
             0,
             0
            ],
            [
             44,
             0,
             0
            ],
            [
             14,
             0,
             0
            ],
            [
             0,
             0,
             0
            ],
            [
             4,
             0,
             0
            ],
            [
             16,
             0,
             0
            ],
            [
             104,
             0,
             1
            ]
           ],
           "geo": "geo",
           "hoverlabel": {
            "namelength": 0
           },
           "hovertemplate": "<b>%{hovertext}</b><br><br>Date=01/26/2020<br>size=%{marker.color}<br>Confirmed=%{customdata[0]}<br>Deaths=%{customdata[1]}<br>Recovered=%{customdata[2]}<br>Lat=%{lat}<br>Long=%{lon}",
           "hovertext": [
            "Anhui",
            "Beijing",
            "Chongqing",
            "Fujian",
            "Gansu",
            "Guangdong",
            "Guangxi",
            "Guizhou",
            "Hainan",
            "Hebei",
            "Heilongjiang",
            "Henan",
            "Hubei",
            "Hunan",
            "Inner Mongolia",
            "Jiangsu",
            "Jiangxi",
            "Jilin",
            "Liaoning",
            "Ningxia",
            "Qinghai",
            "Shaanxi",
            "Shandong",
            "Shanghai",
            "Shanxi",
            "Sichuan",
            "Tianjin",
            "Tibet",
            "Xinjiang",
            "Yunnan",
            "Zhejiang"
           ],
           "lat": [
            31.825709999999997,
            40.18238,
            30.05718,
            26.07783,
            36.0611,
            23.33841,
            23.829079999999998,
            26.81536,
            19.19673,
            38.0428,
            47.861999999999995,
            33.882020000000004,
            30.975640000000002,
            27.610409999999998,
            44.09448,
            32.97027,
            27.614009999999997,
            43.66657,
            41.292840000000005,
            37.26923,
            35.65945,
            35.19165,
            36.34377,
            31.20327,
            37.577690000000004,
            30.617140000000003,
            39.293620000000004,
            30.1534,
            41.11981,
            24.97411,
            29.182509999999997
           ],
           "legendgroup": "",
           "lon": [
            117.2264,
            116.4142,
            107.874,
            117.9895,
            103.8343,
            113.42200000000001,
            108.7881,
            106.8748,
            109.7455,
            114.5149,
            127.7622,
            113.61399999999999,
            112.2707,
            111.7088,
            113.9456,
            119.464,
            115.7221,
            126.1917,
            122.6086,
            106.1655,
            96.02564,
            108.8701,
            118.1529,
            121.4554,
            112.2922,
            102.7103,
            117.333,
            88.7879,
            85.17822,
            101.4868,
            120.0985
           ],
           "marker": {
            "color": [
             7.745966692414834,
             8.246211251235321,
             8.660254037844387,
             5.916079783099616,
             2.6457513110645907,
             10.535653752852738,
             6,
             2.23606797749979,
             4.69041575982343,
             3.605551275463989,
             3.872983346207417,
             9.1104335791443,
             32.526911934581186,
             8.306623862918075,
             2.6457513110645907,
             5.744562646538029,
             6,
             2,
             4.58257569495584,
             2,
             1,
             4.69041575982343,
             6.782329983125268,
             6.324555320336759,
             3,
             6.6332495807108,
             3.7416573867739413,
             0,
             2,
             4,
             10.198039027185569
            ],
            "coloraxis": "coloraxis",
            "size": [
             7.745966692414834,
             8.246211251235321,
             8.660254037844387,
             5.916079783099616,
             2.6457513110645907,
             10.535653752852738,
             6,
             2.23606797749979,
             4.69041575982343,
             3.605551275463989,
             3.872983346207417,
             9.1104335791443,
             32.526911934581186,
             8.306623862918075,
             2.6457513110645907,
             5.744562646538029,
             6,
             2,
             4.58257569495584,
             2,
             1,
             4.69041575982343,
             6.782329983125268,
             6.324555320336759,
             3,
             6.6332495807108,
             3.7416573867739413,
             0,
             2,
             4,
             10.198039027185569
            ],
            "sizemode": "area",
            "sizeref": 0.622650584196305
           },
           "name": "",
           "showlegend": false,
           "type": "scattergeo"
          }
         ],
         "name": "01/26/2020"
        },
        {
         "data": [
          {
           "customdata": [
            [
             70,
             0,
             0
            ],
            [
             80,
             1,
             2
            ],
            [
             110,
             0,
             0
            ],
            [
             59,
             0,
             0
            ],
            [
             14,
             0,
             0
            ],
            [
             151,
             0,
             4
            ],
            [
             46,
             0,
             0
            ],
            [
             7,
             0,
             0
            ],
            [
             33,
             1,
             0
            ],
            [
             18,
             1,
             0
            ],
            [
             21,
             1,
             0
            ],
            [
             128,
             1,
             0
            ],
            [
             1423,
             76,
             45
            ],
            [
             100,
             0,
             0
            ],
            [
             11,
             0,
             0
            ],
            [
             47,
             0,
             1
            ],
            [
             72,
             0,
             2
            ],
            [
             6,
             0,
             0
            ],
            [
             27,
             0,
             0
            ],
            [
             7,
             0,
             0
            ],
            [
             6,
             0,
             0
            ],
            [
             35,
             0,
             0
            ],
            [
             75,
             0,
             0
            ],
            [
             53,
             1,
             3
            ],
            [
             13,
             0,
             0
            ],
            [
             69,
             0,
             0
            ],
            [
             23,
             0,
             0
            ],
            [
             0,
             0,
             0
            ],
            [
             5,
             0,
             0
            ],
            [
             26,
             0,
             0
            ],
            [
             128,
             0,
             1
            ]
           ],
           "geo": "geo",
           "hoverlabel": {
            "namelength": 0
           },
           "hovertemplate": "<b>%{hovertext}</b><br><br>Date=01/27/2020<br>size=%{marker.color}<br>Confirmed=%{customdata[0]}<br>Deaths=%{customdata[1]}<br>Recovered=%{customdata[2]}<br>Lat=%{lat}<br>Long=%{lon}",
           "hovertext": [
            "Anhui",
            "Beijing",
            "Chongqing",
            "Fujian",
            "Gansu",
            "Guangdong",
            "Guangxi",
            "Guizhou",
            "Hainan",
            "Hebei",
            "Heilongjiang",
            "Henan",
            "Hubei",
            "Hunan",
            "Inner Mongolia",
            "Jiangsu",
            "Jiangxi",
            "Jilin",
            "Liaoning",
            "Ningxia",
            "Qinghai",
            "Shaanxi",
            "Shandong",
            "Shanghai",
            "Shanxi",
            "Sichuan",
            "Tianjin",
            "Tibet",
            "Xinjiang",
            "Yunnan",
            "Zhejiang"
           ],
           "lat": [
            31.825709999999997,
            40.18238,
            30.05718,
            26.07783,
            36.0611,
            23.33841,
            23.829079999999998,
            26.81536,
            19.19673,
            38.0428,
            47.861999999999995,
            33.882020000000004,
            30.975640000000002,
            27.610409999999998,
            44.09448,
            32.97027,
            27.614009999999997,
            43.66657,
            41.292840000000005,
            37.26923,
            35.65945,
            35.19165,
            36.34377,
            31.20327,
            37.577690000000004,
            30.617140000000003,
            39.293620000000004,
            30.1534,
            41.11981,
            24.97411,
            29.182509999999997
           ],
           "legendgroup": "",
           "lon": [
            117.2264,
            116.4142,
            107.874,
            117.9895,
            103.8343,
            113.42200000000001,
            108.7881,
            106.8748,
            109.7455,
            114.5149,
            127.7622,
            113.61399999999999,
            112.2707,
            111.7088,
            113.9456,
            119.464,
            115.7221,
            126.1917,
            122.6086,
            106.1655,
            96.02564,
            108.8701,
            118.1529,
            121.4554,
            112.2922,
            102.7103,
            117.333,
            88.7879,
            85.17822,
            101.4868,
            120.0985
           ],
           "marker": {
            "color": [
             8.366600265340756,
             8.94427190999916,
             10.488088481701515,
             7.681145747868608,
             3.7416573867739413,
             12.288205727444508,
             6.782329983125268,
             2.6457513110645907,
             5.744562646538029,
             4.242640687119285,
             4.58257569495584,
             11.313708498984761,
             37.72267222772003,
             10,
             3.3166247903554,
             6.855654600401044,
             8.48528137423857,
             2.449489742783178,
             5.196152422706632,
             2.6457513110645907,
             2.449489742783178,
             5.916079783099616,
             8.660254037844387,
             7.280109889280518,
             3.605551275463989,
             8.306623862918075,
             4.795831523312719,
             0,
             2.23606797749979,
             5.0990195135927845,
             11.313708498984761
            ],
            "coloraxis": "coloraxis",
            "size": [
             8.366600265340756,
             8.94427190999916,
             10.488088481701515,
             7.681145747868608,
             3.7416573867739413,
             12.288205727444508,
             6.782329983125268,
             2.6457513110645907,
             5.744562646538029,
             4.242640687119285,
             4.58257569495584,
             11.313708498984761,
             37.72267222772003,
             10,
             3.3166247903554,
             6.855654600401044,
             8.48528137423857,
             2.449489742783178,
             5.196152422706632,
             2.6457513110645907,
             2.449489742783178,
             5.916079783099616,
             8.660254037844387,
             7.280109889280518,
             3.605551275463989,
             8.306623862918075,
             4.795831523312719,
             0,
             2.23606797749979,
             5.0990195135927845,
             11.313708498984761
            ],
            "sizemode": "area",
            "sizeref": 0.622650584196305
           },
           "name": "",
           "showlegend": false,
           "type": "scattergeo"
          }
         ],
         "name": "01/27/2020"
        },
        {
         "data": [
          {
           "customdata": [
            [
             106,
             0,
             0
            ],
            [
             91,
             1,
             4
            ],
            [
             132,
             0,
             0
            ],
            [
             80,
             0,
             0
            ],
            [
             19,
             0,
             0
            ],
            [
             207,
             0,
             4
            ],
            [
             51,
             0,
             2
            ],
            [
             9,
             0,
             0
            ],
            [
             40,
             1,
             0
            ],
            [
             33,
             1,
             0
            ],
            [
             33,
             1,
             0
            ],
            [
             168,
             1,
             0
            ],
            [
             3554,
             125,
             80
            ],
            [
             143,
             0,
             0
            ],
            [
             15,
             0,
             0
            ],
            [
             70,
             0,
             1
            ],
            [
             109,
             0,
             3
            ],
            [
             8,
             0,
             0
            ],
            [
             34,
             0,
             0
            ],
            [
             11,
             0,
             0
            ],
            [
             6,
             0,
             0
            ],
            [
             46,
             0,
             0
            ],
            [
             95,
             0,
             0
            ],
            [
             66,
             1,
             4
            ],
            [
             27,
             0,
             0
            ],
            [
             90,
             0,
             0
            ],
            [
             24,
             0,
             0
            ],
            [
             0,
             0,
             0
            ],
            [
             10,
             0,
             0
            ],
            [
             44,
             0,
             0
            ],
            [
             173,
             0,
             3
            ]
           ],
           "geo": "geo",
           "hoverlabel": {
            "namelength": 0
           },
           "hovertemplate": "<b>%{hovertext}</b><br><br>Date=01/28/2020<br>size=%{marker.color}<br>Confirmed=%{customdata[0]}<br>Deaths=%{customdata[1]}<br>Recovered=%{customdata[2]}<br>Lat=%{lat}<br>Long=%{lon}",
           "hovertext": [
            "Anhui",
            "Beijing",
            "Chongqing",
            "Fujian",
            "Gansu",
            "Guangdong",
            "Guangxi",
            "Guizhou",
            "Hainan",
            "Hebei",
            "Heilongjiang",
            "Henan",
            "Hubei",
            "Hunan",
            "Inner Mongolia",
            "Jiangsu",
            "Jiangxi",
            "Jilin",
            "Liaoning",
            "Ningxia",
            "Qinghai",
            "Shaanxi",
            "Shandong",
            "Shanghai",
            "Shanxi",
            "Sichuan",
            "Tianjin",
            "Tibet",
            "Xinjiang",
            "Yunnan",
            "Zhejiang"
           ],
           "lat": [
            31.825709999999997,
            40.18238,
            30.05718,
            26.07783,
            36.0611,
            23.33841,
            23.829079999999998,
            26.81536,
            19.19673,
            38.0428,
            47.861999999999995,
            33.882020000000004,
            30.975640000000002,
            27.610409999999998,
            44.09448,
            32.97027,
            27.614009999999997,
            43.66657,
            41.292840000000005,
            37.26923,
            35.65945,
            35.19165,
            36.34377,
            31.20327,
            37.577690000000004,
            30.617140000000003,
            39.293620000000004,
            30.1534,
            41.11981,
            24.97411,
            29.182509999999997
           ],
           "legendgroup": "",
           "lon": [
            117.2264,
            116.4142,
            107.874,
            117.9895,
            103.8343,
            113.42200000000001,
            108.7881,
            106.8748,
            109.7455,
            114.5149,
            127.7622,
            113.61399999999999,
            112.2707,
            111.7088,
            113.9456,
            119.464,
            115.7221,
            126.1917,
            122.6086,
            106.1655,
            96.02564,
            108.8701,
            118.1529,
            121.4554,
            112.2922,
            102.7103,
            117.333,
            88.7879,
            85.17822,
            101.4868,
            120.0985
           ],
           "marker": {
            "color": [
             10.295630140987,
             9.539392014169456,
             11.489125293076057,
             8.94427190999916,
             4.358898943540674,
             14.38749456993816,
             7.14142842854285,
             3,
             6.324555320336759,
             5.744562646538029,
             5.744562646538029,
             12.96148139681572,
             59.61543424315552,
             11.958260743101398,
             3.872983346207417,
             8.366600265340756,
             10.44030650891055,
             2.8284271247461903,
             5.830951894845301,
             3.3166247903554,
             2.449489742783178,
             6.782329983125268,
             9.746794344808963,
             8.12403840463596,
             5.196152422706632,
             9.486832980505138,
             4.898979485566356,
             0,
             3.1622776601683795,
             6.6332495807108,
             13.152946437965905
            ],
            "coloraxis": "coloraxis",
            "size": [
             10.295630140987,
             9.539392014169456,
             11.489125293076057,
             8.94427190999916,
             4.358898943540674,
             14.38749456993816,
             7.14142842854285,
             3,
             6.324555320336759,
             5.744562646538029,
             5.744562646538029,
             12.96148139681572,
             59.61543424315552,
             11.958260743101398,
             3.872983346207417,
             8.366600265340756,
             10.44030650891055,
             2.8284271247461903,
             5.830951894845301,
             3.3166247903554,
             2.449489742783178,
             6.782329983125268,
             9.746794344808963,
             8.12403840463596,
             5.196152422706632,
             9.486832980505138,
             4.898979485566356,
             0,
             3.1622776601683795,
             6.6332495807108,
             13.152946437965905
            ],
            "sizemode": "area",
            "sizeref": 0.622650584196305
           },
           "name": "",
           "showlegend": false,
           "type": "scattergeo"
          }
         ],
         "name": "01/28/2020"
        },
        {
         "data": [
          {
           "customdata": [
            [
             152,
             0,
             2
            ],
            [
             111,
             1,
             4
            ],
            [
             147,
             0,
             1
            ],
            [
             84,
             0,
             0
            ],
            [
             24,
             0,
             0
            ],
            [
             277,
             0,
             5
            ],
            [
             58,
             0,
             2
            ],
            [
             9,
             0,
             1
            ],
            [
             43,
             1,
             0
            ],
            [
             48,
             1,
             0
            ],
            [
             38,
             1,
             0
            ],
            [
             206,
             2,
             1
            ],
            [
             3554,
             125,
             88
            ],
            [
             221,
             0,
             0
            ],
            [
             16,
             0,
             0
            ],
            [
             99,
             0,
             1
            ],
            [
             109,
             0,
             3
            ],
            [
             9,
             0,
             0
            ],
            [
             39,
             0,
             1
            ],
            [
             12,
             0,
             0
            ],
            [
             6,
             0,
             0
            ],
            [
             56,
             0,
             0
            ],
            [
             130,
             0,
             1
            ],
            [
             96,
             1,
             5
            ],
            [
             27,
             0,
             1
            ],
            [
             108,
             1,
             1
            ],
            [
             27,
             0,
             0
            ],
            [
             0,
             0,
             0
            ],
            [
             13,
             0,
             0
            ],
            [
             55,
             0,
             0
            ],
            [
             296,
             0,
             3
            ]
           ],
           "geo": "geo",
           "hoverlabel": {
            "namelength": 0
           },
           "hovertemplate": "<b>%{hovertext}</b><br><br>Date=01/29/2020<br>size=%{marker.color}<br>Confirmed=%{customdata[0]}<br>Deaths=%{customdata[1]}<br>Recovered=%{customdata[2]}<br>Lat=%{lat}<br>Long=%{lon}",
           "hovertext": [
            "Anhui",
            "Beijing",
            "Chongqing",
            "Fujian",
            "Gansu",
            "Guangdong",
            "Guangxi",
            "Guizhou",
            "Hainan",
            "Hebei",
            "Heilongjiang",
            "Henan",
            "Hubei",
            "Hunan",
            "Inner Mongolia",
            "Jiangsu",
            "Jiangxi",
            "Jilin",
            "Liaoning",
            "Ningxia",
            "Qinghai",
            "Shaanxi",
            "Shandong",
            "Shanghai",
            "Shanxi",
            "Sichuan",
            "Tianjin",
            "Tibet",
            "Xinjiang",
            "Yunnan",
            "Zhejiang"
           ],
           "lat": [
            31.825709999999997,
            40.18238,
            30.05718,
            26.07783,
            36.0611,
            23.33841,
            23.829079999999998,
            26.81536,
            19.19673,
            38.0428,
            47.861999999999995,
            33.882020000000004,
            30.975640000000002,
            27.610409999999998,
            44.09448,
            32.97027,
            27.614009999999997,
            43.66657,
            41.292840000000005,
            37.26923,
            35.65945,
            35.19165,
            36.34377,
            31.20327,
            37.577690000000004,
            30.617140000000003,
            39.293620000000004,
            30.1534,
            41.11981,
            24.97411,
            29.182509999999997
           ],
           "legendgroup": "",
           "lon": [
            117.2264,
            116.4142,
            107.874,
            117.9895,
            103.8343,
            113.42200000000001,
            108.7881,
            106.8748,
            109.7455,
            114.5149,
            127.7622,
            113.61399999999999,
            112.2707,
            111.7088,
            113.9456,
            119.464,
            115.7221,
            126.1917,
            122.6086,
            106.1655,
            96.02564,
            108.8701,
            118.1529,
            121.4554,
            112.2922,
            102.7103,
            117.333,
            88.7879,
            85.17822,
            101.4868,
            120.0985
           ],
           "marker": {
            "color": [
             12.328828005937952,
             10.535653752852738,
             12.12435565298214,
             9.16515138991168,
             4.898979485566356,
             16.64331697709324,
             7.615773105863909,
             3,
             6.557438524302,
             6.928203230275509,
             6.164414002968976,
             14.352700094407323,
             59.61543424315552,
             14.866068747318506,
             4,
             9.9498743710662,
             10.44030650891055,
             3,
             6.244997998398398,
             3.4641016151377544,
             2.449489742783178,
             7.483314773547883,
             11.40175425099138,
             9.797958971132712,
             5.196152422706632,
             10.392304845413264,
             5.196152422706632,
             0,
             3.605551275463989,
             7.416198487095663,
             17.204650534085253
            ],
            "coloraxis": "coloraxis",
            "size": [
             12.328828005937952,
             10.535653752852738,
             12.12435565298214,
             9.16515138991168,
             4.898979485566356,
             16.64331697709324,
             7.615773105863909,
             3,
             6.557438524302,
             6.928203230275509,
             6.164414002968976,
             14.352700094407323,
             59.61543424315552,
             14.866068747318506,
             4,
             9.9498743710662,
             10.44030650891055,
             3,
             6.244997998398398,
             3.4641016151377544,
             2.449489742783178,
             7.483314773547883,
             11.40175425099138,
             9.797958971132712,
             5.196152422706632,
             10.392304845413264,
             5.196152422706632,
             0,
             3.605551275463989,
             7.416198487095663,
             17.204650534085253
            ],
            "sizemode": "area",
            "sizeref": 0.622650584196305
           },
           "name": "",
           "showlegend": false,
           "type": "scattergeo"
          }
         ],
         "name": "01/29/2020"
        },
        {
         "data": [
          {
           "customdata": [
            [
             200,
             0,
             2
            ],
            [
             114,
             1,
             4
            ],
            [
             182,
             0,
             1
            ],
            [
             101,
             0,
             0
            ],
            [
             26,
             0,
             0
            ],
            [
             354,
             0,
             10
            ],
            [
             78,
             0,
             2
            ],
            [
             12,
             0,
             1
            ],
            [
             46,
             1,
             1
            ],
            [
             65,
             1,
             0
            ],
            [
             44,
             2,
             0
            ],
            [
             278,
             2,
             2
            ],
            [
             4903,
             162,
             90
            ],
            [
             277,
             0,
             2
            ],
            [
             19,
             0,
             0
            ],
            [
             129,
             0,
             1
            ],
            [
             162,
             0,
             5
            ],
            [
             14,
             0,
             1
            ],
            [
             41,
             0,
             1
            ],
            [
             17,
             0,
             0
            ],
            [
             8,
             0,
             0
            ],
            [
             63,
             0,
             0
            ],
            [
             158,
             0,
             1
            ],
            [
             112,
             1,
             5
            ],
            [
             35,
             0,
             1
            ],
            [
             142,
             1,
             1
            ],
            [
             31,
             0,
             0
            ],
            [
             1,
             0,
             0
            ],
            [
             14,
             0,
             0
            ],
            [
             70,
             0,
             0
            ],
            [
             428,
             0,
             4
            ]
           ],
           "geo": "geo",
           "hoverlabel": {
            "namelength": 0
           },
           "hovertemplate": "<b>%{hovertext}</b><br><br>Date=01/30/2020<br>size=%{marker.color}<br>Confirmed=%{customdata[0]}<br>Deaths=%{customdata[1]}<br>Recovered=%{customdata[2]}<br>Lat=%{lat}<br>Long=%{lon}",
           "hovertext": [
            "Anhui",
            "Beijing",
            "Chongqing",
            "Fujian",
            "Gansu",
            "Guangdong",
            "Guangxi",
            "Guizhou",
            "Hainan",
            "Hebei",
            "Heilongjiang",
            "Henan",
            "Hubei",
            "Hunan",
            "Inner Mongolia",
            "Jiangsu",
            "Jiangxi",
            "Jilin",
            "Liaoning",
            "Ningxia",
            "Qinghai",
            "Shaanxi",
            "Shandong",
            "Shanghai",
            "Shanxi",
            "Sichuan",
            "Tianjin",
            "Tibet",
            "Xinjiang",
            "Yunnan",
            "Zhejiang"
           ],
           "lat": [
            31.825709999999997,
            40.18238,
            30.05718,
            26.07783,
            36.0611,
            23.33841,
            23.829079999999998,
            26.81536,
            19.19673,
            38.0428,
            47.861999999999995,
            33.882020000000004,
            30.975640000000002,
            27.610409999999998,
            44.09448,
            32.97027,
            27.614009999999997,
            43.66657,
            41.292840000000005,
            37.26923,
            35.65945,
            35.19165,
            36.34377,
            31.20327,
            37.577690000000004,
            30.617140000000003,
            39.293620000000004,
            30.1534,
            41.11981,
            24.97411,
            29.182509999999997
           ],
           "legendgroup": "",
           "lon": [
            117.2264,
            116.4142,
            107.874,
            117.9895,
            103.8343,
            113.42200000000001,
            108.7881,
            106.8748,
            109.7455,
            114.5149,
            127.7622,
            113.61399999999999,
            112.2707,
            111.7088,
            113.9456,
            119.464,
            115.7221,
            126.1917,
            122.6086,
            106.1655,
            96.02564,
            108.8701,
            118.1529,
            121.4554,
            112.2922,
            102.7103,
            117.333,
            88.7879,
            85.17822,
            101.4868,
            120.0985
           ],
           "marker": {
            "color": [
             14.142135623730951,
             10.677078252031311,
             13.490737563232042,
             10.04987562112089,
             5.0990195135927845,
             18.81488772222678,
             8.831760866327848,
             3.4641016151377544,
             6.782329983125268,
             8.06225774829855,
             6.6332495807108,
             16.673332000533065,
             70.02142529254886,
             16.64331697709324,
             4.358898943540674,
             11.357816691600547,
             12.727922061357855,
             3.7416573867739413,
             6.4031242374328485,
             4.123105625617661,
             2.8284271247461903,
             7.937253933193772,
             12.569805089976535,
             10.583005244258363,
             5.916079783099616,
             11.916375287812984,
             5.5677643628300215,
             1,
             3.7416573867739413,
             8.366600265340756,
             20.688160865577203
            ],
            "coloraxis": "coloraxis",
            "size": [
             14.142135623730951,
             10.677078252031311,
             13.490737563232042,
             10.04987562112089,
             5.0990195135927845,
             18.81488772222678,
             8.831760866327848,
             3.4641016151377544,
             6.782329983125268,
             8.06225774829855,
             6.6332495807108,
             16.673332000533065,
             70.02142529254886,
             16.64331697709324,
             4.358898943540674,
             11.357816691600547,
             12.727922061357855,
             3.7416573867739413,
             6.4031242374328485,
             4.123105625617661,
             2.8284271247461903,
             7.937253933193772,
             12.569805089976535,
             10.583005244258363,
             5.916079783099616,
             11.916375287812984,
             5.5677643628300215,
             1,
             3.7416573867739413,
             8.366600265340756,
             20.688160865577203
            ],
            "sizemode": "area",
            "sizeref": 0.622650584196305
           },
           "name": "",
           "showlegend": false,
           "type": "scattergeo"
          }
         ],
         "name": "01/30/2020"
        },
        {
         "data": [
          {
           "customdata": [
            [
             237,
             0,
             3
            ],
            [
             139,
             1,
             5
            ],
            [
             211,
             0,
             1
            ],
            [
             120,
             0,
             0
            ],
            [
             29,
             0,
             0
            ],
            [
             436,
             0,
             11
            ],
            [
             87,
             0,
             2
            ],
            [
             29,
             0,
             2
            ],
            [
             52,
             1,
             1
            ],
            [
             82,
             1,
             0
            ],
            [
             59,
             2,
             0
            ],
            [
             352,
             2,
             3
            ],
            [
             5806,
             204,
             141
            ],
            [
             332,
             0,
             2
            ],
            [
             20,
             0,
             1
            ],
            [
             168,
             0,
             5
            ],
            [
             240,
             0,
             7
            ],
            [
             14,
             0,
             1
            ],
            [
             48,
             0,
             1
            ],
            [
             21,
             0,
             0
            ],
            [
             8,
             0,
             0
            ],
            [
             87,
             0,
             0
            ],
            [
             184,
             0,
             2
            ],
            [
             135,
             1,
             9
            ],
            [
             39,
             0,
             1
            ],
            [
             177,
             1,
             1
            ],
            [
             32,
             0,
             0
            ],
            [
             1,
             0,
             0
            ],
            [
             17,
             0,
             0
            ],
            [
             83,
             0,
             1
            ],
            [
             538,
             0,
             14
            ]
           ],
           "geo": "geo",
           "hoverlabel": {
            "namelength": 0
           },
           "hovertemplate": "<b>%{hovertext}</b><br><br>Date=01/31/2020<br>size=%{marker.color}<br>Confirmed=%{customdata[0]}<br>Deaths=%{customdata[1]}<br>Recovered=%{customdata[2]}<br>Lat=%{lat}<br>Long=%{lon}",
           "hovertext": [
            "Anhui",
            "Beijing",
            "Chongqing",
            "Fujian",
            "Gansu",
            "Guangdong",
            "Guangxi",
            "Guizhou",
            "Hainan",
            "Hebei",
            "Heilongjiang",
            "Henan",
            "Hubei",
            "Hunan",
            "Inner Mongolia",
            "Jiangsu",
            "Jiangxi",
            "Jilin",
            "Liaoning",
            "Ningxia",
            "Qinghai",
            "Shaanxi",
            "Shandong",
            "Shanghai",
            "Shanxi",
            "Sichuan",
            "Tianjin",
            "Tibet",
            "Xinjiang",
            "Yunnan",
            "Zhejiang"
           ],
           "lat": [
            31.825709999999997,
            40.18238,
            30.05718,
            26.07783,
            36.0611,
            23.33841,
            23.829079999999998,
            26.81536,
            19.19673,
            38.0428,
            47.861999999999995,
            33.882020000000004,
            30.975640000000002,
            27.610409999999998,
            44.09448,
            32.97027,
            27.614009999999997,
            43.66657,
            41.292840000000005,
            37.26923,
            35.65945,
            35.19165,
            36.34377,
            31.20327,
            37.577690000000004,
            30.617140000000003,
            39.293620000000004,
            30.1534,
            41.11981,
            24.97411,
            29.182509999999997
           ],
           "legendgroup": "",
           "lon": [
            117.2264,
            116.4142,
            107.874,
            117.9895,
            103.8343,
            113.42200000000001,
            108.7881,
            106.8748,
            109.7455,
            114.5149,
            127.7622,
            113.61399999999999,
            112.2707,
            111.7088,
            113.9456,
            119.464,
            115.7221,
            126.1917,
            122.6086,
            106.1655,
            96.02564,
            108.8701,
            118.1529,
            121.4554,
            112.2922,
            102.7103,
            117.333,
            88.7879,
            85.17822,
            101.4868,
            120.0985
           ],
           "marker": {
            "color": [
             15.394804318340652,
             11.789826122551595,
             14.52583904633395,
             10.954451150103322,
             5.385164807134504,
             20.8806130178211,
             9.327379053088816,
             5.385164807134504,
             7.211102550927978,
             9.055385138137417,
             7.681145747868608,
             18.76166303929372,
             76.19711280619497,
             18.2208671582886,
             4.47213595499958,
             12.96148139681572,
             15.491933384829668,
             3.7416573867739413,
             6.928203230275509,
             4.58257569495584,
             2.8284271247461903,
             9.327379053088816,
             13.564659966250536,
             11.61895003862225,
             6.244997998398398,
             13.30413469565007,
             5.656854249492381,
             1,
             4.123105625617661,
             9.1104335791443,
             23.194827009486403
            ],
            "coloraxis": "coloraxis",
            "size": [
             15.394804318340652,
             11.789826122551595,
             14.52583904633395,
             10.954451150103322,
             5.385164807134504,
             20.8806130178211,
             9.327379053088816,
             5.385164807134504,
             7.211102550927978,
             9.055385138137417,
             7.681145747868608,
             18.76166303929372,
             76.19711280619497,
             18.2208671582886,
             4.47213595499958,
             12.96148139681572,
             15.491933384829668,
             3.7416573867739413,
             6.928203230275509,
             4.58257569495584,
             2.8284271247461903,
             9.327379053088816,
             13.564659966250536,
             11.61895003862225,
             6.244997998398398,
             13.30413469565007,
             5.656854249492381,
             1,
             4.123105625617661,
             9.1104335791443,
             23.194827009486403
            ],
            "sizemode": "area",
            "sizeref": 0.622650584196305
           },
           "name": "",
           "showlegend": false,
           "type": "scattergeo"
          }
         ],
         "name": "01/31/2020"
        },
        {
         "data": [
          {
           "customdata": [
            [
             297,
             0,
             5
            ],
            [
             168,
             1,
             9
            ],
            [
             247,
             1,
             3
            ],
            [
             144,
             0,
             0
            ],
            [
             40,
             0,
             0
            ],
            [
             535,
             0,
             14
            ],
            [
             100,
             0,
             2
            ],
            [
             29,
             0,
             2
            ],
            [
             62,
             1,
             1
            ],
            [
             96,
             1,
             0
            ],
            [
             80,
             2,
             2
            ],
            [
             422,
             2,
             3
            ],
            [
             7153,
             249,
             168
            ],
            [
             389,
             0,
             8
            ],
            [
             23,
             0,
             1
            ],
            [
             202,
             0,
             6
            ],
            [
             286,
             0,
             9
            ],
            [
             17,
             0,
             1
            ],
            [
             64,
             0,
             1
            ],
            [
             26,
             0,
             0
            ],
            [
             9,
             0,
             0
            ],
            [
             101,
             0,
             0
            ],
            [
             206,
             0,
             3
            ],
            [
             169,
             1,
             10
            ],
            [
             47,
             0,
             1
            ],
            [
             207,
             1,
             3
            ],
            [
             41,
             0,
             0
            ],
            [
             1,
             0,
             0
            ],
            [
             18,
             0,
             0
            ],
            [
             93,
             0,
             2
            ],
            [
             599,
             0,
             21
            ]
           ],
           "geo": "geo",
           "hoverlabel": {
            "namelength": 0
           },
           "hovertemplate": "<b>%{hovertext}</b><br><br>Date=02/01/2020<br>size=%{marker.color}<br>Confirmed=%{customdata[0]}<br>Deaths=%{customdata[1]}<br>Recovered=%{customdata[2]}<br>Lat=%{lat}<br>Long=%{lon}",
           "hovertext": [
            "Anhui",
            "Beijing",
            "Chongqing",
            "Fujian",
            "Gansu",
            "Guangdong",
            "Guangxi",
            "Guizhou",
            "Hainan",
            "Hebei",
            "Heilongjiang",
            "Henan",
            "Hubei",
            "Hunan",
            "Inner Mongolia",
            "Jiangsu",
            "Jiangxi",
            "Jilin",
            "Liaoning",
            "Ningxia",
            "Qinghai",
            "Shaanxi",
            "Shandong",
            "Shanghai",
            "Shanxi",
            "Sichuan",
            "Tianjin",
            "Tibet",
            "Xinjiang",
            "Yunnan",
            "Zhejiang"
           ],
           "lat": [
            31.825709999999997,
            40.18238,
            30.05718,
            26.07783,
            36.0611,
            23.33841,
            23.829079999999998,
            26.81536,
            19.19673,
            38.0428,
            47.861999999999995,
            33.882020000000004,
            30.975640000000002,
            27.610409999999998,
            44.09448,
            32.97027,
            27.614009999999997,
            43.66657,
            41.292840000000005,
            37.26923,
            35.65945,
            35.19165,
            36.34377,
            31.20327,
            37.577690000000004,
            30.617140000000003,
            39.293620000000004,
            30.1534,
            41.11981,
            24.97411,
            29.182509999999997
           ],
           "legendgroup": "",
           "lon": [
            117.2264,
            116.4142,
            107.874,
            117.9895,
            103.8343,
            113.42200000000001,
            108.7881,
            106.8748,
            109.7455,
            114.5149,
            127.7622,
            113.61399999999999,
            112.2707,
            111.7088,
            113.9456,
            119.464,
            115.7221,
            126.1917,
            122.6086,
            106.1655,
            96.02564,
            108.8701,
            118.1529,
            121.4554,
            112.2922,
            102.7103,
            117.333,
            88.7879,
            85.17822,
            101.4868,
            120.0985
           ],
           "marker": {
            "color": [
             17.233687939614086,
             12.96148139681572,
             15.716233645501712,
             12,
             6.324555320336759,
             23.130067012440755,
             10,
             5.385164807134504,
             7.874007874011811,
             9.797958971132712,
             8.94427190999916,
             20.54263858417414,
             84.57541013793548,
             19.72308292331602,
             4.795831523312719,
             14.212670403551895,
             16.911534525287763,
             4.123105625617661,
             8,
             5.0990195135927845,
             3,
             10.04987562112089,
             14.352700094407323,
             13,
             6.855654600401044,
             14.38749456993816,
             6.4031242374328485,
             1,
             4.242640687119285,
             9.643650760992955,
             24.474476501040833
            ],
            "coloraxis": "coloraxis",
            "size": [
             17.233687939614086,
             12.96148139681572,
             15.716233645501712,
             12,
             6.324555320336759,
             23.130067012440755,
             10,
             5.385164807134504,
             7.874007874011811,
             9.797958971132712,
             8.94427190999916,
             20.54263858417414,
             84.57541013793548,
             19.72308292331602,
             4.795831523312719,
             14.212670403551895,
             16.911534525287763,
             4.123105625617661,
             8,
             5.0990195135927845,
             3,
             10.04987562112089,
             14.352700094407323,
             13,
             6.855654600401044,
             14.38749456993816,
             6.4031242374328485,
             1,
             4.242640687119285,
             9.643650760992955,
             24.474476501040833
            ],
            "sizemode": "area",
            "sizeref": 0.622650584196305
           },
           "name": "",
           "showlegend": false,
           "type": "scattergeo"
          }
         ],
         "name": "02/01/2020"
        },
        {
         "data": [
          {
           "customdata": [
            [
             340,
             0,
             7
            ],
            [
             191,
             1,
             9
            ],
            [
             300,
             2,
             7
            ],
            [
             159,
             0,
             0
            ],
            [
             51,
             0,
             3
            ],
            [
             632,
             0,
             15
            ],
            [
             111,
             0,
             2
            ],
            [
             38,
             0,
             2
            ],
            [
             64,
             1,
             4
            ],
            [
             104,
             1,
             3
            ],
            [
             95,
             2,
             2
            ],
            [
             493,
             2,
             10
            ],
            [
             11177,
             350,
             295
            ],
            [
             463,
             0,
             16
            ],
            [
             27,
             0,
             1
            ],
            [
             236,
             0,
             7
            ],
            [
             333,
             0,
             12
            ],
            [
             23,
             0,
             1
            ],
            [
             70,
             0,
             1
            ],
            [
             28,
             0,
             0
            ],
            [
             11,
             0,
             0
            ],
            [
             116,
             0,
             0
            ],
            [
             230,
             0,
             6
            ],
            [
             182,
             1,
             10
            ],
            [
             66,
             0,
             3
            ],
            [
             231,
             1,
             11
            ],
            [
             48,
             0,
             1
            ],
            [
             1,
             0,
             0
            ],
            [
             21,
             0,
             0
            ],
            [
             105,
             0,
             3
            ],
            [
             661,
             0,
             32
            ]
           ],
           "geo": "geo",
           "hoverlabel": {
            "namelength": 0
           },
           "hovertemplate": "<b>%{hovertext}</b><br><br>Date=02/02/2020<br>size=%{marker.color}<br>Confirmed=%{customdata[0]}<br>Deaths=%{customdata[1]}<br>Recovered=%{customdata[2]}<br>Lat=%{lat}<br>Long=%{lon}",
           "hovertext": [
            "Anhui",
            "Beijing",
            "Chongqing",
            "Fujian",
            "Gansu",
            "Guangdong",
            "Guangxi",
            "Guizhou",
            "Hainan",
            "Hebei",
            "Heilongjiang",
            "Henan",
            "Hubei",
            "Hunan",
            "Inner Mongolia",
            "Jiangsu",
            "Jiangxi",
            "Jilin",
            "Liaoning",
            "Ningxia",
            "Qinghai",
            "Shaanxi",
            "Shandong",
            "Shanghai",
            "Shanxi",
            "Sichuan",
            "Tianjin",
            "Tibet",
            "Xinjiang",
            "Yunnan",
            "Zhejiang"
           ],
           "lat": [
            31.825709999999997,
            40.18238,
            30.05718,
            26.07783,
            36.0611,
            23.33841,
            23.829079999999998,
            26.81536,
            19.19673,
            38.0428,
            47.861999999999995,
            33.882020000000004,
            30.975640000000002,
            27.610409999999998,
            44.09448,
            32.97027,
            27.614009999999997,
            43.66657,
            41.292840000000005,
            37.26923,
            35.65945,
            35.19165,
            36.34377,
            31.20327,
            37.577690000000004,
            30.617140000000003,
            39.293620000000004,
            30.1534,
            41.11981,
            24.97411,
            29.182509999999997
           ],
           "legendgroup": "",
           "lon": [
            117.2264,
            116.4142,
            107.874,
            117.9895,
            103.8343,
            113.42200000000001,
            108.7881,
            106.8748,
            109.7455,
            114.5149,
            127.7622,
            113.61399999999999,
            112.2707,
            111.7088,
            113.9456,
            119.464,
            115.7221,
            126.1917,
            122.6086,
            106.1655,
            96.02564,
            108.8701,
            118.1529,
            121.4554,
            112.2922,
            102.7103,
            117.333,
            88.7879,
            85.17822,
            101.4868,
            120.0985
           ],
           "marker": {
            "color": [
             18.439088914585774,
             13.820274961085254,
             17.320508075688775,
             12.609520212918492,
             7.14142842854285,
             25.13961017995307,
             10.535653752852738,
             6.164414002968976,
             8,
             10.198039027185569,
             9.746794344808963,
             22.20360331117452,
             105.72133181151285,
             21.517434791350013,
             5.196152422706632,
             15.362291495737216,
             18.24828759089466,
             4.795831523312719,
             8.366600265340756,
             5.291502622129181,
             3.3166247903554,
             10.770329614269007,
             15.165750888103101,
             13.490737563232042,
             8.12403840463596,
             15.198684153570664,
             6.928203230275509,
             1,
             4.58257569495584,
             10.246950765959598,
             25.709920264364882
            ],
            "coloraxis": "coloraxis",
            "size": [
             18.439088914585774,
             13.820274961085254,
             17.320508075688775,
             12.609520212918492,
             7.14142842854285,
             25.13961017995307,
             10.535653752852738,
             6.164414002968976,
             8,
             10.198039027185569,
             9.746794344808963,
             22.20360331117452,
             105.72133181151285,
             21.517434791350013,
             5.196152422706632,
             15.362291495737216,
             18.24828759089466,
             4.795831523312719,
             8.366600265340756,
             5.291502622129181,
             3.3166247903554,
             10.770329614269007,
             15.165750888103101,
             13.490737563232042,
             8.12403840463596,
             15.198684153570664,
             6.928203230275509,
             1,
             4.58257569495584,
             10.246950765959598,
             25.709920264364882
            ],
            "sizemode": "area",
            "sizeref": 0.622650584196305
           },
           "name": "",
           "showlegend": false,
           "type": "scattergeo"
          }
         ],
         "name": "02/02/2020"
        },
        {
         "data": [
          {
           "customdata": [
            [
             408,
             0,
             14
            ],
            [
             212,
             1,
             12
            ],
            [
             337,
             2,
             9
            ],
            [
             179,
             0,
             1
            ],
            [
             55,
             0,
             3
            ],
            [
             725,
             0,
             21
            ],
            [
             127,
             0,
             7
            ],
            [
             46,
             0,
             2
            ],
            [
             72,
             1,
             4
            ],
            [
             113,
             1,
             3
            ],
            [
             121,
             2,
             2
            ],
            [
             566,
             2,
             16
            ],
            [
             13522,
             414,
             386
            ],
            [
             521,
             0,
             22
            ],
            [
             34,
             0,
             1
            ],
            [
             271,
             0,
             8
            ],
            [
             391,
             0,
             18
            ],
            [
             31,
             0,
             1
            ],
            [
             74,
             0,
             1
            ],
            [
             31,
             0,
             1
            ],
            [
             13,
             0,
             0
            ],
            [
             128,
             0,
             0
            ],
            [
             259,
             0,
             7
            ],
            [
             203,
             1,
             10
            ],
            [
             74,
             0,
             2
            ],
            [
             254,
             1,
             14
            ],
            [
             60,
             0,
             1
            ],
            [
             1,
             0,
             0
            ],
            [
             24,
             0,
             0
            ],
            [
             117,
             0,
             5
            ],
            [
             724,
             0,
             43
            ]
           ],
           "geo": "geo",
           "hoverlabel": {
            "namelength": 0
           },
           "hovertemplate": "<b>%{hovertext}</b><br><br>Date=02/03/2020<br>size=%{marker.color}<br>Confirmed=%{customdata[0]}<br>Deaths=%{customdata[1]}<br>Recovered=%{customdata[2]}<br>Lat=%{lat}<br>Long=%{lon}",
           "hovertext": [
            "Anhui",
            "Beijing",
            "Chongqing",
            "Fujian",
            "Gansu",
            "Guangdong",
            "Guangxi",
            "Guizhou",
            "Hainan",
            "Hebei",
            "Heilongjiang",
            "Henan",
            "Hubei",
            "Hunan",
            "Inner Mongolia",
            "Jiangsu",
            "Jiangxi",
            "Jilin",
            "Liaoning",
            "Ningxia",
            "Qinghai",
            "Shaanxi",
            "Shandong",
            "Shanghai",
            "Shanxi",
            "Sichuan",
            "Tianjin",
            "Tibet",
            "Xinjiang",
            "Yunnan",
            "Zhejiang"
           ],
           "lat": [
            31.825709999999997,
            40.18238,
            30.05718,
            26.07783,
            36.0611,
            23.33841,
            23.829079999999998,
            26.81536,
            19.19673,
            38.0428,
            47.861999999999995,
            33.882020000000004,
            30.975640000000002,
            27.610409999999998,
            44.09448,
            32.97027,
            27.614009999999997,
            43.66657,
            41.292840000000005,
            37.26923,
            35.65945,
            35.19165,
            36.34377,
            31.20327,
            37.577690000000004,
            30.617140000000003,
            39.293620000000004,
            30.1534,
            41.11981,
            24.97411,
            29.182509999999997
           ],
           "legendgroup": "",
           "lon": [
            117.2264,
            116.4142,
            107.874,
            117.9895,
            103.8343,
            113.42200000000001,
            108.7881,
            106.8748,
            109.7455,
            114.5149,
            127.7622,
            113.61399999999999,
            112.2707,
            111.7088,
            113.9456,
            119.464,
            115.7221,
            126.1917,
            122.6086,
            106.1655,
            96.02564,
            108.8701,
            118.1529,
            121.4554,
            112.2922,
            102.7103,
            117.333,
            88.7879,
            85.17822,
            101.4868,
            120.0985
           ],
           "marker": {
            "color": [
             20.199009876724155,
             14.560219778561036,
             18.35755975068582,
             13.379088160259652,
             7.416198487095663,
             26.92582403567252,
             11.269427669584644,
             6.782329983125268,
             8.48528137423857,
             10.63014581273465,
             11,
             23.790754506740637,
             116.2841347734075,
             22.825424421026653,
             5.830951894845301,
             16.46207763315433,
             19.77371993328519,
             5.5677643628300215,
             8.602325267042627,
             5.5677643628300215,
             3.605551275463989,
             11.313708498984761,
             16.09347693943108,
             14.247806848775006,
             8.602325267042627,
             15.937377450509228,
             7.745966692414834,
             1,
             4.898979485566356,
             10.816653826391969,
             26.90724809414742
            ],
            "coloraxis": "coloraxis",
            "size": [
             20.199009876724155,
             14.560219778561036,
             18.35755975068582,
             13.379088160259652,
             7.416198487095663,
             26.92582403567252,
             11.269427669584644,
             6.782329983125268,
             8.48528137423857,
             10.63014581273465,
             11,
             23.790754506740637,
             116.2841347734075,
             22.825424421026653,
             5.830951894845301,
             16.46207763315433,
             19.77371993328519,
             5.5677643628300215,
             8.602325267042627,
             5.5677643628300215,
             3.605551275463989,
             11.313708498984761,
             16.09347693943108,
             14.247806848775006,
             8.602325267042627,
             15.937377450509228,
             7.745966692414834,
             1,
             4.898979485566356,
             10.816653826391969,
             26.90724809414742
            ],
            "sizemode": "area",
            "sizeref": 0.622650584196305
           },
           "name": "",
           "showlegend": false,
           "type": "scattergeo"
          }
         ],
         "name": "02/03/2020"
        },
        {
         "data": [
          {
           "customdata": [
            [
             480,
             0,
             20
            ],
            [
             228,
             1,
             23
            ],
            [
             366,
             2,
             9
            ],
            [
             194,
             0,
             3
            ],
            [
             57,
             0,
             4
            ],
            [
             813,
             0,
             30
            ],
            [
             139,
             0,
             10
            ],
            [
             58,
             0,
             2
            ],
            [
             80,
             1,
             5
            ],
            [
             126,
             1,
             4
            ],
            [
             155,
             2,
             4
            ],
            [
             675,
             2,
             27
            ],
            [
             16678,
             479,
             522
            ],
            [
             593,
             0,
             31
            ],
            [
             35,
             0,
             1
            ],
            [
             308,
             0,
             12
            ],
            [
             476,
             0,
             20
            ],
            [
             42,
             0,
             1
            ],
            [
             81,
             0,
             2
            ],
            [
             34,
             0,
             1
            ],
            [
             15,
             0,
             0
            ],
            [
             142,
             0,
             2
            ],
            [
             275,
             0,
             11
            ],
            [
             219,
             1,
             12
            ],
            [
             81,
             0,
             4
            ],
            [
             282,
             1,
             14
            ],
            [
             67,
             0,
             2
            ],
            [
             1,
             0,
             0
            ],
            [
             29,
             0,
             0
            ],
            [
             122,
             0,
             5
            ],
            [
             829,
             0,
             62
            ]
           ],
           "geo": "geo",
           "hoverlabel": {
            "namelength": 0
           },
           "hovertemplate": "<b>%{hovertext}</b><br><br>Date=02/04/2020<br>size=%{marker.color}<br>Confirmed=%{customdata[0]}<br>Deaths=%{customdata[1]}<br>Recovered=%{customdata[2]}<br>Lat=%{lat}<br>Long=%{lon}",
           "hovertext": [
            "Anhui",
            "Beijing",
            "Chongqing",
            "Fujian",
            "Gansu",
            "Guangdong",
            "Guangxi",
            "Guizhou",
            "Hainan",
            "Hebei",
            "Heilongjiang",
            "Henan",
            "Hubei",
            "Hunan",
            "Inner Mongolia",
            "Jiangsu",
            "Jiangxi",
            "Jilin",
            "Liaoning",
            "Ningxia",
            "Qinghai",
            "Shaanxi",
            "Shandong",
            "Shanghai",
            "Shanxi",
            "Sichuan",
            "Tianjin",
            "Tibet",
            "Xinjiang",
            "Yunnan",
            "Zhejiang"
           ],
           "lat": [
            31.825709999999997,
            40.18238,
            30.05718,
            26.07783,
            36.0611,
            23.33841,
            23.829079999999998,
            26.81536,
            19.19673,
            38.0428,
            47.861999999999995,
            33.882020000000004,
            30.975640000000002,
            27.610409999999998,
            44.09448,
            32.97027,
            27.614009999999997,
            43.66657,
            41.292840000000005,
            37.26923,
            35.65945,
            35.19165,
            36.34377,
            31.20327,
            37.577690000000004,
            30.617140000000003,
            39.293620000000004,
            30.1534,
            41.11981,
            24.97411,
            29.182509999999997
           ],
           "legendgroup": "",
           "lon": [
            117.2264,
            116.4142,
            107.874,
            117.9895,
            103.8343,
            113.42200000000001,
            108.7881,
            106.8748,
            109.7455,
            114.5149,
            127.7622,
            113.61399999999999,
            112.2707,
            111.7088,
            113.9456,
            119.464,
            115.7221,
            126.1917,
            122.6086,
            106.1655,
            96.02564,
            108.8701,
            118.1529,
            121.4554,
            112.2922,
            102.7103,
            117.333,
            88.7879,
            85.17822,
            101.4868,
            120.0985
           ],
           "marker": {
            "color": [
             21.908902300206645,
             15.0996688705415,
             19.131126469708992,
             13.92838827718412,
             7.54983443527075,
             28.513154858766505,
             11.789826122551595,
             7.615773105863909,
             8.94427190999916,
             11.224972160321824,
             12.449899597988733,
             25.98076211353316,
             129.14333122542564,
             24.351591323771842,
             5.916079783099616,
             17.549928774784245,
             21.817424229271428,
             6.48074069840786,
             9,
             5.830951894845301,
             3.872983346207417,
             11.916375287812984,
             16.583123951777,
             14.798648586948742,
             9,
             16.792855623746664,
             8.18535277187245,
             1,
             5.385164807134504,
             11.045361017187261,
             28.792360097775937
            ],
            "coloraxis": "coloraxis",
            "size": [
             21.908902300206645,
             15.0996688705415,
             19.131126469708992,
             13.92838827718412,
             7.54983443527075,
             28.513154858766505,
             11.789826122551595,
             7.615773105863909,
             8.94427190999916,
             11.224972160321824,
             12.449899597988733,
             25.98076211353316,
             129.14333122542564,
             24.351591323771842,
             5.916079783099616,
             17.549928774784245,
             21.817424229271428,
             6.48074069840786,
             9,
             5.830951894845301,
             3.872983346207417,
             11.916375287812984,
             16.583123951777,
             14.798648586948742,
             9,
             16.792855623746664,
             8.18535277187245,
             1,
             5.385164807134504,
             11.045361017187261,
             28.792360097775937
            ],
            "sizemode": "area",
            "sizeref": 0.622650584196305
           },
           "name": "",
           "showlegend": false,
           "type": "scattergeo"
          }
         ],
         "name": "02/04/2020"
        },
        {
         "data": [
          {
           "customdata": [
            [
             530,
             0,
             23
            ],
            [
             253,
             1,
             24
            ],
            [
             389,
             2,
             15
            ],
            [
             205,
             0,
             11
            ],
            [
             62,
             0,
             6
            ],
            [
             895,
             0,
             49
            ],
            [
             150,
             0,
             13
            ],
            [
             64,
             1,
             9
            ],
            [
             99,
             1,
             5
            ],
            [
             135,
             1,
             6
            ],
            [
             190,
             2,
             7
            ],
            [
             764,
             2,
             47
            ],
            [
             19665,
             549,
             633
            ],
            [
             661,
             0,
             54
            ],
            [
             42,
             0,
             3
            ],
            [
             341,
             0,
             23
            ],
            [
             548,
             0,
             27
            ],
            [
             54,
             0,
             2
            ],
            [
             89,
             0,
             4
            ],
            [
             34,
             0,
             1
            ],
            [
             17,
             0,
             3
            ],
            [
             165,
             0,
             6
            ],
            [
             307,
             0,
             15
            ],
            [
             243,
             1,
             15
            ],
            [
             81,
             0,
             5
            ],
            [
             301,
             1,
             24
            ],
            [
             69,
             1,
             2
            ],
            [
             1,
             0,
             0
            ],
            [
             32,
             0,
             0
            ],
            [
             128,
             0,
             5
            ],
            [
             895,
             0,
             78
            ]
           ],
           "geo": "geo",
           "hoverlabel": {
            "namelength": 0
           },
           "hovertemplate": "<b>%{hovertext}</b><br><br>Date=02/05/2020<br>size=%{marker.color}<br>Confirmed=%{customdata[0]}<br>Deaths=%{customdata[1]}<br>Recovered=%{customdata[2]}<br>Lat=%{lat}<br>Long=%{lon}",
           "hovertext": [
            "Anhui",
            "Beijing",
            "Chongqing",
            "Fujian",
            "Gansu",
            "Guangdong",
            "Guangxi",
            "Guizhou",
            "Hainan",
            "Hebei",
            "Heilongjiang",
            "Henan",
            "Hubei",
            "Hunan",
            "Inner Mongolia",
            "Jiangsu",
            "Jiangxi",
            "Jilin",
            "Liaoning",
            "Ningxia",
            "Qinghai",
            "Shaanxi",
            "Shandong",
            "Shanghai",
            "Shanxi",
            "Sichuan",
            "Tianjin",
            "Tibet",
            "Xinjiang",
            "Yunnan",
            "Zhejiang"
           ],
           "lat": [
            31.825709999999997,
            40.18238,
            30.05718,
            26.07783,
            36.0611,
            23.33841,
            23.829079999999998,
            26.81536,
            19.19673,
            38.0428,
            47.861999999999995,
            33.882020000000004,
            30.975640000000002,
            27.610409999999998,
            44.09448,
            32.97027,
            27.614009999999997,
            43.66657,
            41.292840000000005,
            37.26923,
            35.65945,
            35.19165,
            36.34377,
            31.20327,
            37.577690000000004,
            30.617140000000003,
            39.293620000000004,
            30.1534,
            41.11981,
            24.97411,
            29.182509999999997
           ],
           "legendgroup": "",
           "lon": [
            117.2264,
            116.4142,
            107.874,
            117.9895,
            103.8343,
            113.42200000000001,
            108.7881,
            106.8748,
            109.7455,
            114.5149,
            127.7622,
            113.61399999999999,
            112.2707,
            111.7088,
            113.9456,
            119.464,
            115.7221,
            126.1917,
            122.6086,
            106.1655,
            96.02564,
            108.8701,
            118.1529,
            121.4554,
            112.2922,
            102.7103,
            117.333,
            88.7879,
            85.17822,
            101.4868,
            120.0985
           ],
           "marker": {
            "color": [
             23.021728866442675,
             15.905973720586866,
             19.72308292331602,
             14.317821063276353,
             7.874007874011811,
             29.916550603303182,
             12.24744871391589,
             8,
             9.9498743710662,
             11.61895003862225,
             13.784048752090222,
             27.640549922170507,
             140.23195071024293,
             25.709920264364882,
             6.48074069840786,
             18.466185312619388,
             23.40939982143925,
             7.3484692283495345,
             9.433981132056603,
             5.830951894845301,
             4.123105625617661,
             12.84523257866513,
             17.52141546793523,
             15.588457268119896,
             9,
             17.349351572897472,
             8.306623862918075,
             1,
             5.656854249492381,
             11.313708498984761,
             29.916550603303182
            ],
            "coloraxis": "coloraxis",
            "size": [
             23.021728866442675,
             15.905973720586866,
             19.72308292331602,
             14.317821063276353,
             7.874007874011811,
             29.916550603303182,
             12.24744871391589,
             8,
             9.9498743710662,
             11.61895003862225,
             13.784048752090222,
             27.640549922170507,
             140.23195071024293,
             25.709920264364882,
             6.48074069840786,
             18.466185312619388,
             23.40939982143925,
             7.3484692283495345,
             9.433981132056603,
             5.830951894845301,
             4.123105625617661,
             12.84523257866513,
             17.52141546793523,
             15.588457268119896,
             9,
             17.349351572897472,
             8.306623862918075,
             1,
             5.656854249492381,
             11.313708498984761,
             29.916550603303182
            ],
            "sizemode": "area",
            "sizeref": 0.622650584196305
           },
           "name": "",
           "showlegend": false,
           "type": "scattergeo"
          }
         ],
         "name": "02/05/2020"
        },
        {
         "data": [
          {
           "customdata": [
            [
             591,
             0,
             34
            ],
            [
             274,
             1,
             31
            ],
            [
             411,
             2,
             24
            ],
            [
             215,
             0,
             14
            ],
            [
             62,
             0,
             6
            ],
            [
             970,
             0,
             69
            ],
            [
             168,
             0,
             14
            ],
            [
             71,
             1,
             6
            ],
            [
             106,
             1,
             8
            ],
            [
             157,
             1,
             13
            ],
            [
             227,
             3,
             8
            ],
            [
             851,
             2,
             56
            ],
            [
             22112,
             618,
             817
            ],
            [
             711,
             0,
             81
            ],
            [
             46,
             0,
             4
            ],
            [
             373,
             0,
             34
            ],
            [
             600,
             0,
             37
            ],
            [
             59,
             0,
             4
            ],
            [
             94,
             0,
             5
            ],
            [
             40,
             0,
             1
            ],
            [
             18,
             0,
             3
            ],
            [
             173,
             0,
             9
            ],
            [
             347,
             0,
             27
            ],
            [
             257,
             1,
             25
            ],
            [
             96,
             0,
             12
            ],
            [
             321,
             1,
             31
            ],
            [
             79,
             1,
             2
            ],
            [
             1,
             0,
             0
            ],
            [
             36,
             0,
             0
            ],
            [
             133,
             0,
             7
            ],
            [
             954,
             0,
             94
            ]
           ],
           "geo": "geo",
           "hoverlabel": {
            "namelength": 0
           },
           "hovertemplate": "<b>%{hovertext}</b><br><br>Date=02/06/2020<br>size=%{marker.color}<br>Confirmed=%{customdata[0]}<br>Deaths=%{customdata[1]}<br>Recovered=%{customdata[2]}<br>Lat=%{lat}<br>Long=%{lon}",
           "hovertext": [
            "Anhui",
            "Beijing",
            "Chongqing",
            "Fujian",
            "Gansu",
            "Guangdong",
            "Guangxi",
            "Guizhou",
            "Hainan",
            "Hebei",
            "Heilongjiang",
            "Henan",
            "Hubei",
            "Hunan",
            "Inner Mongolia",
            "Jiangsu",
            "Jiangxi",
            "Jilin",
            "Liaoning",
            "Ningxia",
            "Qinghai",
            "Shaanxi",
            "Shandong",
            "Shanghai",
            "Shanxi",
            "Sichuan",
            "Tianjin",
            "Tibet",
            "Xinjiang",
            "Yunnan",
            "Zhejiang"
           ],
           "lat": [
            31.825709999999997,
            40.18238,
            30.05718,
            26.07783,
            36.0611,
            23.33841,
            23.829079999999998,
            26.81536,
            19.19673,
            38.0428,
            47.861999999999995,
            33.882020000000004,
            30.975640000000002,
            27.610409999999998,
            44.09448,
            32.97027,
            27.614009999999997,
            43.66657,
            41.292840000000005,
            37.26923,
            35.65945,
            35.19165,
            36.34377,
            31.20327,
            37.577690000000004,
            30.617140000000003,
            39.293620000000004,
            30.1534,
            41.11981,
            24.97411,
            29.182509999999997
           ],
           "legendgroup": "",
           "lon": [
            117.2264,
            116.4142,
            107.874,
            117.9895,
            103.8343,
            113.42200000000001,
            108.7881,
            106.8748,
            109.7455,
            114.5149,
            127.7622,
            113.61399999999999,
            112.2707,
            111.7088,
            113.9456,
            119.464,
            115.7221,
            126.1917,
            122.6086,
            106.1655,
            96.02564,
            108.8701,
            118.1529,
            121.4554,
            112.2922,
            102.7103,
            117.333,
            88.7879,
            85.17822,
            101.4868,
            120.0985
           ],
           "marker": {
            "color": [
             24.310491562286437,
             16.55294535724685,
             20.273134932713294,
             14.66287829861518,
             7.874007874011811,
             31.144823004794873,
             12.96148139681572,
             8.426149773176359,
             10.295630140987,
             12.529964086141668,
             15.066519173319364,
             29.171904291629644,
             148.70104236352884,
             26.664583251946766,
             6.782329983125268,
             19.313207915827967,
             24.49489742783178,
             7.681145747868608,
             9.695359714832659,
             6.324555320336759,
             4.242640687119285,
             13.152946437965905,
             18.627936010197157,
             16.0312195418814,
             9.797958971132712,
             17.916472867168917,
             8.888194417315589,
             1,
             6,
             11.532562594670797,
             30.886890422961002
            ],
            "coloraxis": "coloraxis",
            "size": [
             24.310491562286437,
             16.55294535724685,
             20.273134932713294,
             14.66287829861518,
             7.874007874011811,
             31.144823004794873,
             12.96148139681572,
             8.426149773176359,
             10.295630140987,
             12.529964086141668,
             15.066519173319364,
             29.171904291629644,
             148.70104236352884,
             26.664583251946766,
             6.782329983125268,
             19.313207915827967,
             24.49489742783178,
             7.681145747868608,
             9.695359714832659,
             6.324555320336759,
             4.242640687119285,
             13.152946437965905,
             18.627936010197157,
             16.0312195418814,
             9.797958971132712,
             17.916472867168917,
             8.888194417315589,
             1,
             6,
             11.532562594670797,
             30.886890422961002
            ],
            "sizemode": "area",
            "sizeref": 0.622650584196305
           },
           "name": "",
           "showlegend": false,
           "type": "scattergeo"
          }
         ],
         "name": "02/06/2020"
        },
        {
         "data": [
          {
           "customdata": [
            [
             665,
             0,
             47
            ],
            [
             297,
             1,
             33
            ],
            [
             426,
             2,
             31
            ],
            [
             224,
             0,
             20
            ],
            [
             67,
             0,
             9
            ],
            [
             1034,
             1,
             88
            ],
            [
             172,
             0,
             17
            ],
            [
             81,
             1,
             6
            ],
            [
             117,
             2,
             10
            ],
            [
             172,
             1,
             22
            ],
            [
             277,
             3,
             12
            ],
            [
             914,
             3,
             86
            ],
            [
             24953,
             699,
             1115
            ],
            [
             772,
             0,
             112
            ],
            [
             50,
             0,
             5
            ],
            [
             408,
             0,
             43
            ],
            [
             661,
             0,
             45
            ],
            [
             65,
             1,
             4
            ],
            [
             99,
             0,
             7
            ],
            [
             43,
             0,
             5
            ],
            [
             18,
             0,
             3
            ],
            [
             184,
             0,
             17
            ],
            [
             386,
             0,
             37
            ],
            [
             277,
             1,
             30
            ],
            [
             104,
             0,
             15
            ],
            [
             344,
             1,
             42
            ],
            [
             81,
             1,
             2
            ],
            [
             1,
             0,
             0
            ],
            [
             39,
             0,
             0
            ],
            [
             138,
             0,
             12
            ],
            [
             1006,
             0,
             123
            ]
           ],
           "geo": "geo",
           "hoverlabel": {
            "namelength": 0
           },
           "hovertemplate": "<b>%{hovertext}</b><br><br>Date=02/07/2020<br>size=%{marker.color}<br>Confirmed=%{customdata[0]}<br>Deaths=%{customdata[1]}<br>Recovered=%{customdata[2]}<br>Lat=%{lat}<br>Long=%{lon}",
           "hovertext": [
            "Anhui",
            "Beijing",
            "Chongqing",
            "Fujian",
            "Gansu",
            "Guangdong",
            "Guangxi",
            "Guizhou",
            "Hainan",
            "Hebei",
            "Heilongjiang",
            "Henan",
            "Hubei",
            "Hunan",
            "Inner Mongolia",
            "Jiangsu",
            "Jiangxi",
            "Jilin",
            "Liaoning",
            "Ningxia",
            "Qinghai",
            "Shaanxi",
            "Shandong",
            "Shanghai",
            "Shanxi",
            "Sichuan",
            "Tianjin",
            "Tibet",
            "Xinjiang",
            "Yunnan",
            "Zhejiang"
           ],
           "lat": [
            31.825709999999997,
            40.18238,
            30.05718,
            26.07783,
            36.0611,
            23.33841,
            23.829079999999998,
            26.81536,
            19.19673,
            38.0428,
            47.861999999999995,
            33.882020000000004,
            30.975640000000002,
            27.610409999999998,
            44.09448,
            32.97027,
            27.614009999999997,
            43.66657,
            41.292840000000005,
            37.26923,
            35.65945,
            35.19165,
            36.34377,
            31.20327,
            37.577690000000004,
            30.617140000000003,
            39.293620000000004,
            30.1534,
            41.11981,
            24.97411,
            29.182509999999997
           ],
           "legendgroup": "",
           "lon": [
            117.2264,
            116.4142,
            107.874,
            117.9895,
            103.8343,
            113.42200000000001,
            108.7881,
            106.8748,
            109.7455,
            114.5149,
            127.7622,
            113.61399999999999,
            112.2707,
            111.7088,
            113.9456,
            119.464,
            115.7221,
            126.1917,
            122.6086,
            106.1655,
            96.02564,
            108.8701,
            118.1529,
            121.4554,
            112.2922,
            102.7103,
            117.333,
            88.7879,
            85.17822,
            101.4868,
            120.0985
           ],
           "marker": {
            "color": [
             25.787593916455254,
             17.233687939614086,
             20.639767440550294,
             14.966629547095765,
             8.18535277187245,
             32.155870381627054,
             13.114877048604,
             9,
             10.816653826391969,
             13.114877048604,
             16.64331697709324,
             30.23243291566195,
             157.96518603793686,
             27.784887978899608,
             7.0710678118654755,
             20.199009876724155,
             25.709920264364882,
             8.06225774829855,
             9.9498743710662,
             6.557438524302,
             4.242640687119285,
             13.564659966250536,
             19.6468827043885,
             16.64331697709324,
             10.198039027185569,
             18.547236990991408,
             9,
             1,
             6.244997998398398,
             11.74734012447073,
             31.71750305430741
            ],
            "coloraxis": "coloraxis",
            "size": [
             25.787593916455254,
             17.233687939614086,
             20.639767440550294,
             14.966629547095765,
             8.18535277187245,
             32.155870381627054,
             13.114877048604,
             9,
             10.816653826391969,
             13.114877048604,
             16.64331697709324,
             30.23243291566195,
             157.96518603793686,
             27.784887978899608,
             7.0710678118654755,
             20.199009876724155,
             25.709920264364882,
             8.06225774829855,
             9.9498743710662,
             6.557438524302,
             4.242640687119285,
             13.564659966250536,
             19.6468827043885,
             16.64331697709324,
             10.198039027185569,
             18.547236990991408,
             9,
             1,
             6.244997998398398,
             11.74734012447073,
             31.71750305430741
            ],
            "sizemode": "area",
            "sizeref": 0.622650584196305
           },
           "name": "",
           "showlegend": false,
           "type": "scattergeo"
          }
         ],
         "name": "02/07/2020"
        },
        {
         "data": [
          {
           "customdata": [
            [
             733,
             0,
             59
            ],
            [
             315,
             2,
             34
            ],
            [
             428,
             2,
             39
            ],
            [
             239,
             0,
             24
            ],
            [
             79,
             1,
             12
            ],
            [
             1095,
             1,
             112
            ],
            [
             183,
             0,
             17
            ],
            [
             89,
             1,
             7
            ],
            [
             124,
             2,
             14
            ],
            [
             195,
             1,
             30
            ],
            [
             295,
             5,
             13
            ],
            [
             981,
             4,
             116
            ],
            [
             27100,
             780,
             1439
            ],
            [
             803,
             1,
             156
            ],
            [
             52,
             0,
             5
            ],
            [
             439,
             0,
             51
            ],
            [
             698,
             0,
             55
            ],
            [
             69,
             1,
             4
            ],
            [
             105,
             0,
             8
            ],
            [
             45,
             0,
             15
            ],
            [
             18,
             0,
             3
            ],
            [
             195,
             0,
             20
            ],
            [
             416,
             0,
             44
            ],
            [
             286,
             1,
             41
            ],
            [
             115,
             0,
             21
            ],
            [
             364,
             1,
             60
            ],
            [
             88,
             1,
             4
            ],
            [
             1,
             0,
             0
            ],
            [
             42,
             0,
             0
            ],
            [
             138,
             0,
             17
            ],
            [
             1048,
             0,
             175
            ]
           ],
           "geo": "geo",
           "hoverlabel": {
            "namelength": 0
           },
           "hovertemplate": "<b>%{hovertext}</b><br><br>Date=02/08/2020<br>size=%{marker.color}<br>Confirmed=%{customdata[0]}<br>Deaths=%{customdata[1]}<br>Recovered=%{customdata[2]}<br>Lat=%{lat}<br>Long=%{lon}",
           "hovertext": [
            "Anhui",
            "Beijing",
            "Chongqing",
            "Fujian",
            "Gansu",
            "Guangdong",
            "Guangxi",
            "Guizhou",
            "Hainan",
            "Hebei",
            "Heilongjiang",
            "Henan",
            "Hubei",
            "Hunan",
            "Inner Mongolia",
            "Jiangsu",
            "Jiangxi",
            "Jilin",
            "Liaoning",
            "Ningxia",
            "Qinghai",
            "Shaanxi",
            "Shandong",
            "Shanghai",
            "Shanxi",
            "Sichuan",
            "Tianjin",
            "Tibet",
            "Xinjiang",
            "Yunnan",
            "Zhejiang"
           ],
           "lat": [
            31.825709999999997,
            40.18238,
            30.05718,
            26.07783,
            36.0611,
            23.33841,
            23.829079999999998,
            26.81536,
            19.19673,
            38.0428,
            47.861999999999995,
            33.882020000000004,
            30.975640000000002,
            27.610409999999998,
            44.09448,
            32.97027,
            27.614009999999997,
            43.66657,
            41.292840000000005,
            37.26923,
            35.65945,
            35.19165,
            36.34377,
            31.20327,
            37.577690000000004,
            30.617140000000003,
            39.293620000000004,
            30.1534,
            41.11981,
            24.97411,
            29.182509999999997
           ],
           "legendgroup": "",
           "lon": [
            117.2264,
            116.4142,
            107.874,
            117.9895,
            103.8343,
            113.42200000000001,
            108.7881,
            106.8748,
            109.7455,
            114.5149,
            127.7622,
            113.61399999999999,
            112.2707,
            111.7088,
            113.9456,
            119.464,
            115.7221,
            126.1917,
            122.6086,
            106.1655,
            96.02564,
            108.8701,
            118.1529,
            121.4554,
            112.2922,
            102.7103,
            117.333,
            88.7879,
            85.17822,
            101.4868,
            120.0985
           ],
           "marker": {
            "color": [
             27.073972741361768,
             17.74823934929885,
             20.688160865577203,
             15.459624833740307,
             8.888194417315589,
             33.090784215548595,
             13.527749258468683,
             9.433981132056603,
             11.135528725660043,
             13.96424004376894,
             17.175564037317667,
             31.32091952673165,
             164.62077633154328,
             28.337254630609507,
             7.211102550927978,
             20.952326839756964,
             26.419689627245813,
             8.306623862918075,
             10.246950765959598,
             6.708203932499369,
             4.242640687119285,
             13.96424004376894,
             20.396078054371138,
             16.911534525287763,
             10.723805294763608,
             19.078784028338912,
             9.38083151964686,
             1,
             6.48074069840786,
             11.74734012447073,
             32.37282811247729
            ],
            "coloraxis": "coloraxis",
            "size": [
             27.073972741361768,
             17.74823934929885,
             20.688160865577203,
             15.459624833740307,
             8.888194417315589,
             33.090784215548595,
             13.527749258468683,
             9.433981132056603,
             11.135528725660043,
             13.96424004376894,
             17.175564037317667,
             31.32091952673165,
             164.62077633154328,
             28.337254630609507,
             7.211102550927978,
             20.952326839756964,
             26.419689627245813,
             8.306623862918075,
             10.246950765959598,
             6.708203932499369,
             4.242640687119285,
             13.96424004376894,
             20.396078054371138,
             16.911534525287763,
             10.723805294763608,
             19.078784028338912,
             9.38083151964686,
             1,
             6.48074069840786,
             11.74734012447073,
             32.37282811247729
            ],
            "sizemode": "area",
            "sizeref": 0.622650584196305
           },
           "name": "",
           "showlegend": false,
           "type": "scattergeo"
          }
         ],
         "name": "02/08/2020"
        },
        {
         "data": [
          {
           "customdata": [
            [
             779,
             1,
             72
            ],
            [
             326,
             2,
             37
            ],
            [
             468,
             2,
             51
            ],
            [
             250,
             0,
             35
            ],
            [
             83,
             2,
             16
            ],
            [
             1131,
             1,
             141
            ],
            [
             195,
             1,
             18
            ],
            [
             99,
             1,
             7
            ],
            [
             131,
             3,
             19
            ],
            [
             206,
             2,
             34
            ],
            [
             307,
             6,
             14
            ],
            [
             1033,
             6,
             153
            ],
            [
             29631,
             871,
             1795
            ],
            [
             838,
             1,
             186
            ],
            [
             54,
             0,
             5
            ],
            [
             468,
             0,
             71
            ],
            [
             740,
             0,
             73
            ],
            [
             78,
             1,
             12
            ],
            [
             107,
             0,
             12
            ],
            [
             45,
             0,
             13
            ],
            [
             18,
             0,
             3
            ],
            [
             208,
             0,
             25
            ],
            [
             444,
             1,
             63
            ],
            [
             293,
             1,
             44
            ],
            [
             119,
             0,
             25
            ],
            [
             386,
             1,
             71
            ],
            [
             91,
             1,
             4
            ],
            [
             1,
             0,
             0
            ],
            [
             45,
             0,
             0
            ],
            [
             141,
             0,
             18
            ],
            [
             1075,
             0,
             201
            ]
           ],
           "geo": "geo",
           "hoverlabel": {
            "namelength": 0
           },
           "hovertemplate": "<b>%{hovertext}</b><br><br>Date=02/09/2020<br>size=%{marker.color}<br>Confirmed=%{customdata[0]}<br>Deaths=%{customdata[1]}<br>Recovered=%{customdata[2]}<br>Lat=%{lat}<br>Long=%{lon}",
           "hovertext": [
            "Anhui",
            "Beijing",
            "Chongqing",
            "Fujian",
            "Gansu",
            "Guangdong",
            "Guangxi",
            "Guizhou",
            "Hainan",
            "Hebei",
            "Heilongjiang",
            "Henan",
            "Hubei",
            "Hunan",
            "Inner Mongolia",
            "Jiangsu",
            "Jiangxi",
            "Jilin",
            "Liaoning",
            "Ningxia",
            "Qinghai",
            "Shaanxi",
            "Shandong",
            "Shanghai",
            "Shanxi",
            "Sichuan",
            "Tianjin",
            "Tibet",
            "Xinjiang",
            "Yunnan",
            "Zhejiang"
           ],
           "lat": [
            31.825709999999997,
            40.18238,
            30.05718,
            26.07783,
            36.0611,
            23.33841,
            23.829079999999998,
            26.81536,
            19.19673,
            38.0428,
            47.861999999999995,
            33.882020000000004,
            30.975640000000002,
            27.610409999999998,
            44.09448,
            32.97027,
            27.614009999999997,
            43.66657,
            41.292840000000005,
            37.26923,
            35.65945,
            35.19165,
            36.34377,
            31.20327,
            37.577690000000004,
            30.617140000000003,
            39.293620000000004,
            30.1534,
            41.11981,
            24.97411,
            29.182509999999997
           ],
           "legendgroup": "",
           "lon": [
            117.2264,
            116.4142,
            107.874,
            117.9895,
            103.8343,
            113.42200000000001,
            108.7881,
            106.8748,
            109.7455,
            114.5149,
            127.7622,
            113.61399999999999,
            112.2707,
            111.7088,
            113.9456,
            119.464,
            115.7221,
            126.1917,
            122.6086,
            106.1655,
            96.02564,
            108.8701,
            118.1529,
            121.4554,
            112.2922,
            102.7103,
            117.333,
            88.7879,
            85.17822,
            101.4868,
            120.0985
           ],
           "marker": {
            "color": [
             27.910571473905726,
             18.05547008526779,
             21.633307652783937,
             15.811388300841896,
             9.1104335791443,
             33.63034344160047,
             13.96424004376894,
             9.9498743710662,
             11.445523142259598,
             14.352700094407323,
             17.52141546793523,
             32.14031735997639,
             172.13657368496678,
             28.948229652260256,
             7.3484692283495345,
             21.633307652783937,
             27.202941017470888,
             8.831760866327848,
             10.344080432788601,
             6.708203932499369,
             4.242640687119285,
             14.422205101855956,
             21.071307505705477,
             17.11724276862369,
             10.908712114635714,
             19.6468827043885,
             9.539392014169456,
             1,
             6.708203932499369,
             11.874342087037917,
             32.78719262151
            ],
            "coloraxis": "coloraxis",
            "size": [
             27.910571473905726,
             18.05547008526779,
             21.633307652783937,
             15.811388300841896,
             9.1104335791443,
             33.63034344160047,
             13.96424004376894,
             9.9498743710662,
             11.445523142259598,
             14.352700094407323,
             17.52141546793523,
             32.14031735997639,
             172.13657368496678,
             28.948229652260256,
             7.3484692283495345,
             21.633307652783937,
             27.202941017470888,
             8.831760866327848,
             10.344080432788601,
             6.708203932499369,
             4.242640687119285,
             14.422205101855956,
             21.071307505705477,
             17.11724276862369,
             10.908712114635714,
             19.6468827043885,
             9.539392014169456,
             1,
             6.708203932499369,
             11.874342087037917,
             32.78719262151
            ],
            "sizemode": "area",
            "sizeref": 0.622650584196305
           },
           "name": "",
           "showlegend": false,
           "type": "scattergeo"
          }
         ],
         "name": "02/09/2020"
        },
        {
         "data": [
          {
           "customdata": [
            [
             830,
             3,
             88
            ],
            [
             337,
             2,
             44
            ],
            [
             486,
             2,
             66
            ],
            [
             261,
             0,
             39
            ],
            [
             83,
             2,
             17
            ],
            [
             1159,
             1,
             167
            ],
            [
             210,
             1,
             24
            ],
            [
             109,
             1,
             10
            ],
            [
             138,
             3,
             19
            ],
            [
             218,
             2,
             41
            ],
            [
             331,
             7,
             30
            ],
            [
             1073,
             6,
             191
            ],
            [
             31728,
             974,
             2222
            ],
            [
             879,
             1,
             208
            ],
            [
             58,
             0,
             5
            ],
            [
             492,
             0,
             81
            ],
            [
             771,
             1,
             105
            ],
            [
             80,
             1,
             13
            ],
            [
             108,
             0,
             13
            ],
            [
             49,
             0,
             13
            ],
            [
             18,
             0,
             3
            ],
            [
             213,
             0,
             30
            ],
            [
             466,
             1,
             66
            ],
            [
             299,
             1,
             48
            ],
            [
             119,
             0,
             25
            ],
            [
             405,
             1,
             80
            ],
            [
             95,
             1,
             8
            ],
            [
             1,
             0,
             0
            ],
            [
             49,
             0,
             0
            ],
            [
             149,
             0,
             19
            ],
            [
             1092,
             0,
             242
            ]
           ],
           "geo": "geo",
           "hoverlabel": {
            "namelength": 0
           },
           "hovertemplate": "<b>%{hovertext}</b><br><br>Date=02/10/2020<br>size=%{marker.color}<br>Confirmed=%{customdata[0]}<br>Deaths=%{customdata[1]}<br>Recovered=%{customdata[2]}<br>Lat=%{lat}<br>Long=%{lon}",
           "hovertext": [
            "Anhui",
            "Beijing",
            "Chongqing",
            "Fujian",
            "Gansu",
            "Guangdong",
            "Guangxi",
            "Guizhou",
            "Hainan",
            "Hebei",
            "Heilongjiang",
            "Henan",
            "Hubei",
            "Hunan",
            "Inner Mongolia",
            "Jiangsu",
            "Jiangxi",
            "Jilin",
            "Liaoning",
            "Ningxia",
            "Qinghai",
            "Shaanxi",
            "Shandong",
            "Shanghai",
            "Shanxi",
            "Sichuan",
            "Tianjin",
            "Tibet",
            "Xinjiang",
            "Yunnan",
            "Zhejiang"
           ],
           "lat": [
            31.825709999999997,
            40.18238,
            30.05718,
            26.07783,
            36.0611,
            23.33841,
            23.829079999999998,
            26.81536,
            19.19673,
            38.0428,
            47.861999999999995,
            33.882020000000004,
            30.975640000000002,
            27.610409999999998,
            44.09448,
            32.97027,
            27.614009999999997,
            43.66657,
            41.292840000000005,
            37.26923,
            35.65945,
            35.19165,
            36.34377,
            31.20327,
            37.577690000000004,
            30.617140000000003,
            39.293620000000004,
            30.1534,
            41.11981,
            24.97411,
            29.182509999999997
           ],
           "legendgroup": "",
           "lon": [
            117.2264,
            116.4142,
            107.874,
            117.9895,
            103.8343,
            113.42200000000001,
            108.7881,
            106.8748,
            109.7455,
            114.5149,
            127.7622,
            113.61399999999999,
            112.2707,
            111.7088,
            113.9456,
            119.464,
            115.7221,
            126.1917,
            122.6086,
            106.1655,
            96.02564,
            108.8701,
            118.1529,
            121.4554,
            112.2922,
            102.7103,
            117.333,
            88.7879,
            85.17822,
            101.4868,
            120.0985
           ],
           "marker": {
            "color": [
             28.809720581775867,
             18.35755975068582,
             22.045407685048602,
             16.15549442140351,
             9.1104335791443,
             34.044089061098404,
             14.491376746189438,
             10.44030650891055,
             11.74734012447073,
             14.7648230602334,
             18.193405398660254,
             32.7566787083184,
             178.12355262569855,
             29.647934160747187,
             7.615773105863909,
             22.181073012818835,
             27.76688675382964,
             8.94427190999916,
             10.392304845413264,
             7,
             4.242640687119285,
             14.594519519326424,
             21.587033144922902,
             17.291616465790582,
             10.908712114635714,
             20.12461179749811,
             9.746794344808963,
             1,
             7,
             12.206555615733702,
             33.04542328371661
            ],
            "coloraxis": "coloraxis",
            "size": [
             28.809720581775867,
             18.35755975068582,
             22.045407685048602,
             16.15549442140351,
             9.1104335791443,
             34.044089061098404,
             14.491376746189438,
             10.44030650891055,
             11.74734012447073,
             14.7648230602334,
             18.193405398660254,
             32.7566787083184,
             178.12355262569855,
             29.647934160747187,
             7.615773105863909,
             22.181073012818835,
             27.76688675382964,
             8.94427190999916,
             10.392304845413264,
             7,
             4.242640687119285,
             14.594519519326424,
             21.587033144922902,
             17.291616465790582,
             10.908712114635714,
             20.12461179749811,
             9.746794344808963,
             1,
             7,
             12.206555615733702,
             33.04542328371661
            ],
            "sizemode": "area",
            "sizeref": 0.622650584196305
           },
           "name": "",
           "showlegend": false,
           "type": "scattergeo"
          }
         ],
         "name": "02/10/2020"
        },
        {
         "data": [
          {
           "customdata": [
            [
             860,
             4,
             105
            ],
            [
             342,
             3,
             48
            ],
            [
             505,
             3,
             79
            ],
            [
             267,
             0,
             45
            ],
            [
             86,
             2,
             24
            ],
            [
             1177,
             1,
             212
            ],
            [
             215,
             1,
             33
            ],
            [
             127,
             1,
             17
            ],
            [
             144,
             3,
             20
            ],
            [
             239,
             2,
             48
            ],
            [
             360,
             8,
             28
            ],
            [
             1105,
             7,
             218
            ],
            [
             33366,
             1068,
             2639
            ],
            [
             912,
             1,
             247
            ],
            [
             58,
             0,
             5
            ],
            [
             515,
             0,
             93
            ],
            [
             804,
             1,
             128
            ],
            [
             81,
             1,
             18
            ],
            [
             111,
             0,
             19
            ],
            [
             53,
             0,
             22
            ],
            [
             18,
             0,
             5
            ],
            [
             219,
             0,
             32
            ],
            [
             487,
             1,
             80
            ],
            [
             303,
             1,
             52
            ],
            [
             124,
             0,
             30
            ],
            [
             417,
             1,
             85
            ],
            [
             106,
             2,
             10
            ],
            [
             1,
             0,
             0
            ],
            [
             55,
             0,
             3
            ],
            [
             153,
             0,
             20
            ],
            [
             1117,
             0,
             270
            ]
           ],
           "geo": "geo",
           "hoverlabel": {
            "namelength": 0
           },
           "hovertemplate": "<b>%{hovertext}</b><br><br>Date=02/11/2020<br>size=%{marker.color}<br>Confirmed=%{customdata[0]}<br>Deaths=%{customdata[1]}<br>Recovered=%{customdata[2]}<br>Lat=%{lat}<br>Long=%{lon}",
           "hovertext": [
            "Anhui",
            "Beijing",
            "Chongqing",
            "Fujian",
            "Gansu",
            "Guangdong",
            "Guangxi",
            "Guizhou",
            "Hainan",
            "Hebei",
            "Heilongjiang",
            "Henan",
            "Hubei",
            "Hunan",
            "Inner Mongolia",
            "Jiangsu",
            "Jiangxi",
            "Jilin",
            "Liaoning",
            "Ningxia",
            "Qinghai",
            "Shaanxi",
            "Shandong",
            "Shanghai",
            "Shanxi",
            "Sichuan",
            "Tianjin",
            "Tibet",
            "Xinjiang",
            "Yunnan",
            "Zhejiang"
           ],
           "lat": [
            31.825709999999997,
            40.18238,
            30.05718,
            26.07783,
            36.0611,
            23.33841,
            23.829079999999998,
            26.81536,
            19.19673,
            38.0428,
            47.861999999999995,
            33.882020000000004,
            30.975640000000002,
            27.610409999999998,
            44.09448,
            32.97027,
            27.614009999999997,
            43.66657,
            41.292840000000005,
            37.26923,
            35.65945,
            35.19165,
            36.34377,
            31.20327,
            37.577690000000004,
            30.617140000000003,
            39.293620000000004,
            30.1534,
            41.11981,
            24.97411,
            29.182509999999997
           ],
           "legendgroup": "",
           "lon": [
            117.2264,
            116.4142,
            107.874,
            117.9895,
            103.8343,
            113.42200000000001,
            108.7881,
            106.8748,
            109.7455,
            114.5149,
            127.7622,
            113.61399999999999,
            112.2707,
            111.7088,
            113.9456,
            119.464,
            115.7221,
            126.1917,
            122.6086,
            106.1655,
            96.02564,
            108.8701,
            118.1529,
            121.4554,
            112.2922,
            102.7103,
            117.333,
            88.7879,
            85.17822,
            101.4868,
            120.0985
           ],
           "marker": {
            "color": [
             29.32575659723036,
             18.49324200890693,
             22.47220505424423,
             16.34013463836819,
             9.273618495495704,
             34.307433596816885,
             14.66287829861518,
             11.269427669584644,
             12,
             15.459624833740307,
             18.973665961010276,
             33.24154027718932,
             182.6636252788168,
             30.199337741083,
             7.615773105863909,
             22.693611435820433,
             28.35489375751565,
             9,
             10.535653752852738,
             7.280109889280518,
             4.242640687119285,
             14.798648586948742,
             22.06807649071391,
             17.406895185529212,
             11.135528725660043,
             20.42057785666214,
             10.295630140987,
             1,
             7.416198487095663,
             12.36931687685298,
             33.421549934136806
            ],
            "coloraxis": "coloraxis",
            "size": [
             29.32575659723036,
             18.49324200890693,
             22.47220505424423,
             16.34013463836819,
             9.273618495495704,
             34.307433596816885,
             14.66287829861518,
             11.269427669584644,
             12,
             15.459624833740307,
             18.973665961010276,
             33.24154027718932,
             182.6636252788168,
             30.199337741083,
             7.615773105863909,
             22.693611435820433,
             28.35489375751565,
             9,
             10.535653752852738,
             7.280109889280518,
             4.242640687119285,
             14.798648586948742,
             22.06807649071391,
             17.406895185529212,
             11.135528725660043,
             20.42057785666214,
             10.295630140987,
             1,
             7.416198487095663,
             12.36931687685298,
             33.421549934136806
            ],
            "sizemode": "area",
            "sizeref": 0.622650584196305
           },
           "name": "",
           "showlegend": false,
           "type": "scattergeo"
          }
         ],
         "name": "02/11/2020"
        },
        {
         "data": [
          {
           "customdata": [
            [
             889,
             4,
             127
            ],
            [
             352,
             3,
             56
            ],
            [
             518,
             3,
             102
            ],
            [
             272,
             0,
             53
            ],
            [
             87,
             2,
             31
            ],
            [
             1219,
             1,
             275
            ],
            [
             222,
             1,
             32
            ],
            [
             133,
             1,
             18
            ],
            [
             157,
             4,
             27
            ],
            [
             251,
             2,
             54
            ],
            [
             378,
             8,
             31
            ],
            [
             1135,
             8,
             246
            ],
            [
             33366,
             1068,
             2686
            ],
            [
             946,
             2,
             304
            ],
            [
             60,
             0,
             6
            ],
            [
             543,
             0,
             125
            ],
            [
             844,
             1,
             152
            ],
            [
             83,
             1,
             22
            ],
            [
             116,
             1,
             20
            ],
            [
             58,
             0,
             24
            ],
            [
             18,
             0,
             9
            ],
            [
             225,
             0,
             43
            ],
            [
             497,
             2,
             92
            ],
            [
             311,
             1,
             57
            ],
            [
             126,
             0,
             33
            ],
            [
             436,
             1,
             92
            ],
            [
             112,
             2,
             11
            ],
            [
             1,
             0,
             1
            ],
            [
             59,
             0,
             3
            ],
            [
             154,
             0,
             26
            ],
            [
             1131,
             0,
             321
            ]
           ],
           "geo": "geo",
           "hoverlabel": {
            "namelength": 0
           },
           "hovertemplate": "<b>%{hovertext}</b><br><br>Date=02/12/2020<br>size=%{marker.color}<br>Confirmed=%{customdata[0]}<br>Deaths=%{customdata[1]}<br>Recovered=%{customdata[2]}<br>Lat=%{lat}<br>Long=%{lon}",
           "hovertext": [
            "Anhui",
            "Beijing",
            "Chongqing",
            "Fujian",
            "Gansu",
            "Guangdong",
            "Guangxi",
            "Guizhou",
            "Hainan",
            "Hebei",
            "Heilongjiang",
            "Henan",
            "Hubei",
            "Hunan",
            "Inner Mongolia",
            "Jiangsu",
            "Jiangxi",
            "Jilin",
            "Liaoning",
            "Ningxia",
            "Qinghai",
            "Shaanxi",
            "Shandong",
            "Shanghai",
            "Shanxi",
            "Sichuan",
            "Tianjin",
            "Tibet",
            "Xinjiang",
            "Yunnan",
            "Zhejiang"
           ],
           "lat": [
            31.825709999999997,
            40.18238,
            30.05718,
            26.07783,
            36.0611,
            23.33841,
            23.829079999999998,
            26.81536,
            19.19673,
            38.0428,
            47.861999999999995,
            33.882020000000004,
            30.975640000000002,
            27.610409999999998,
            44.09448,
            32.97027,
            27.614009999999997,
            43.66657,
            41.292840000000005,
            37.26923,
            35.65945,
            35.19165,
            36.34377,
            31.20327,
            37.577690000000004,
            30.617140000000003,
            39.293620000000004,
            30.1534,
            41.11981,
            24.97411,
            29.182509999999997
           ],
           "legendgroup": "",
           "lon": [
            117.2264,
            116.4142,
            107.874,
            117.9895,
            103.8343,
            113.42200000000001,
            108.7881,
            106.8748,
            109.7455,
            114.5149,
            127.7622,
            113.61399999999999,
            112.2707,
            111.7088,
            113.9456,
            119.464,
            115.7221,
            126.1917,
            122.6086,
            106.1655,
            96.02564,
            108.8701,
            118.1529,
            121.4554,
            112.2922,
            102.7103,
            117.333,
            88.7879,
            85.17822,
            101.4868,
            120.0985
           ],
           "marker": {
            "color": [
             29.816103031751148,
             18.76166303929372,
             22.759613353482084,
             16.492422502470642,
             9.327379053088816,
             34.91418050019218,
             14.89966442575134,
             11.532562594670797,
             12.529964086141668,
             15.84297951775486,
             19.44222209522358,
             33.689761055846034,
             182.6636252788168,
             30.757112998459398,
             7.745966692414834,
             23.302360395462088,
             29.0516780926679,
             9.1104335791443,
             10.770329614269007,
             7.615773105863909,
             4.242640687119285,
             15,
             22.293496809607955,
             17.635192088548397,
             11.224972160321824,
             20.8806130178211,
             10.583005244258363,
             1,
             7.681145747868608,
             12.409673645990857,
             33.63034344160047
            ],
            "coloraxis": "coloraxis",
            "size": [
             29.816103031751148,
             18.76166303929372,
             22.759613353482084,
             16.492422502470642,
             9.327379053088816,
             34.91418050019218,
             14.89966442575134,
             11.532562594670797,
             12.529964086141668,
             15.84297951775486,
             19.44222209522358,
             33.689761055846034,
             182.6636252788168,
             30.757112998459398,
             7.745966692414834,
             23.302360395462088,
             29.0516780926679,
             9.1104335791443,
             10.770329614269007,
             7.615773105863909,
             4.242640687119285,
             15,
             22.293496809607955,
             17.635192088548397,
             11.224972160321824,
             20.8806130178211,
             10.583005244258363,
             1,
             7.681145747868608,
             12.409673645990857,
             33.63034344160047
            ],
            "sizemode": "area",
            "sizeref": 0.622650584196305
           },
           "name": "",
           "showlegend": false,
           "type": "scattergeo"
          }
         ],
         "name": "02/12/2020"
        },
        {
         "data": [
          {
           "customdata": [
            [
             910,
             5,
             157
            ],
            [
             366,
             3,
             69
            ],
            [
             529,
             4,
             128
            ],
            [
             279,
             0,
             57
            ],
            [
             90,
             2,
             39
            ],
            [
             1241,
             2,
             314
            ],
            [
             222,
             2,
             33
            ],
            [
             135,
             1,
             27
            ],
            [
             157,
             4,
             30
            ],
            [
             265,
             3,
             68
            ],
            [
             395,
             9,
             33
            ],
            [
             1169,
             10,
             296
            ],
            [
             48206,
             1310,
             3459
            ],
            [
             968,
             2,
             339
            ],
            [
             61,
             0,
             6
            ],
            [
             570,
             0,
             139
            ],
            [
             872,
             1,
             170
            ],
            [
             84,
             1,
             24
            ],
            [
             117,
             1,
             22
            ],
            [
             64,
             0,
             24
            ],
            [
             18,
             0,
             11
            ],
            [
             229,
             0,
             46
            ],
            [
             509,
             2,
             105
            ],
            [
             315,
             1,
             62
            ],
            [
             126,
             0,
             36
            ],
            [
             451,
             1,
             104
            ],
            [
             119,
             3,
             21
            ],
            [
             1,
             0,
             1
            ],
            [
             63,
             1,
             6
            ],
            [
             156,
             0,
             27
            ],
            [
             1145,
             0,
             360
            ]
           ],
           "geo": "geo",
           "hoverlabel": {
            "namelength": 0
           },
           "hovertemplate": "<b>%{hovertext}</b><br><br>Date=02/13/2020<br>size=%{marker.color}<br>Confirmed=%{customdata[0]}<br>Deaths=%{customdata[1]}<br>Recovered=%{customdata[2]}<br>Lat=%{lat}<br>Long=%{lon}",
           "hovertext": [
            "Anhui",
            "Beijing",
            "Chongqing",
            "Fujian",
            "Gansu",
            "Guangdong",
            "Guangxi",
            "Guizhou",
            "Hainan",
            "Hebei",
            "Heilongjiang",
            "Henan",
            "Hubei",
            "Hunan",
            "Inner Mongolia",
            "Jiangsu",
            "Jiangxi",
            "Jilin",
            "Liaoning",
            "Ningxia",
            "Qinghai",
            "Shaanxi",
            "Shandong",
            "Shanghai",
            "Shanxi",
            "Sichuan",
            "Tianjin",
            "Tibet",
            "Xinjiang",
            "Yunnan",
            "Zhejiang"
           ],
           "lat": [
            31.825709999999997,
            40.18238,
            30.05718,
            26.07783,
            36.0611,
            23.33841,
            23.829079999999998,
            26.81536,
            19.19673,
            38.0428,
            47.861999999999995,
            33.882020000000004,
            30.975640000000002,
            27.610409999999998,
            44.09448,
            32.97027,
            27.614009999999997,
            43.66657,
            41.292840000000005,
            37.26923,
            35.65945,
            35.19165,
            36.34377,
            31.20327,
            37.577690000000004,
            30.617140000000003,
            39.293620000000004,
            30.1534,
            41.11981,
            24.97411,
            29.182509999999997
           ],
           "legendgroup": "",
           "lon": [
            117.2264,
            116.4142,
            107.874,
            117.9895,
            103.8343,
            113.42200000000001,
            108.7881,
            106.8748,
            109.7455,
            114.5149,
            127.7622,
            113.61399999999999,
            112.2707,
            111.7088,
            113.9456,
            119.464,
            115.7221,
            126.1917,
            122.6086,
            106.1655,
            96.02564,
            108.8701,
            118.1529,
            121.4554,
            112.2922,
            102.7103,
            117.333,
            88.7879,
            85.17822,
            101.4868,
            120.0985
           ],
           "marker": {
            "color": [
             30.166206257996713,
             19.131126469708992,
             23,
             16.703293088490067,
             9.486832980505138,
             35.22782990761707,
             14.89966442575134,
             11.61895003862225,
             12.529964086141668,
             16.278820596099706,
             19.87460691435179,
             34.19064199455752,
             219.5586482013405,
             31.11269837220809,
             7.810249675906654,
             23.874672772626646,
             29.5296461204668,
             9.16515138991168,
             10.816653826391969,
             8,
             4.242640687119285,
             15.132745950421556,
             22.561028345356956,
             17.74823934929885,
             11.224972160321824,
             21.236760581595302,
             10.908712114635714,
             1,
             7.937253933193772,
             12.489995996796797,
             33.83784863137726
            ],
            "coloraxis": "coloraxis",
            "size": [
             30.166206257996713,
             19.131126469708992,
             23,
             16.703293088490067,
             9.486832980505138,
             35.22782990761707,
             14.89966442575134,
             11.61895003862225,
             12.529964086141668,
             16.278820596099706,
             19.87460691435179,
             34.19064199455752,
             219.5586482013405,
             31.11269837220809,
             7.810249675906654,
             23.874672772626646,
             29.5296461204668,
             9.16515138991168,
             10.816653826391969,
             8,
             4.242640687119285,
             15.132745950421556,
             22.561028345356956,
             17.74823934929885,
             11.224972160321824,
             21.236760581595302,
             10.908712114635714,
             1,
             7.937253933193772,
             12.489995996796797,
             33.83784863137726
            ],
            "sizemode": "area",
            "sizeref": 0.622650584196305
           },
           "name": "",
           "showlegend": false,
           "type": "scattergeo"
          }
         ],
         "name": "02/13/2020"
        },
        {
         "data": [
          {
           "customdata": [
            [
             934,
             6,
             193
            ],
            [
             372,
             3,
             80
            ],
            [
             537,
             5,
             152
            ],
            [
             281,
             0,
             63
            ],
            [
             90,
             2,
             39
            ],
            [
             1261,
             2,
             362
            ],
            [
             226,
             2,
             36
            ],
            [
             140,
             1,
             28
            ],
            [
             159,
             4,
             43
            ],
            [
             283,
             3,
             87
            ],
            [
             419,
             11,
             47
            ],
            [
             1184,
             11,
             357
            ],
            [
             54406,
             1457,
             4774
            ],
            [
             988,
             2,
             364
            ],
            [
             65,
             0,
             6
            ],
            [
             593,
             0,
             157
            ],
            [
             900,
             1,
             187
            ],
            [
             86,
             1,
             25
            ],
            [
             119,
             1,
             29
            ],
            [
             67,
             0,
             24
            ],
            [
             18,
             0,
             11
            ],
            [
             230,
             0,
             54
            ],
            [
             523,
             2,
             136
            ],
            [
             318,
             1,
             90
            ],
            [
             127,
             0,
             38
            ],
            [
             463,
             1,
             114
            ],
            [
             120,
             3,
             31
            ],
            [
             1,
             0,
             1
            ],
            [
             65,
             1,
             6
            ],
            [
             162,
             0,
             36
            ],
            [
             1155,
             0,
             403
            ]
           ],
           "geo": "geo",
           "hoverlabel": {
            "namelength": 0
           },
           "hovertemplate": "<b>%{hovertext}</b><br><br>Date=02/14/2020<br>size=%{marker.color}<br>Confirmed=%{customdata[0]}<br>Deaths=%{customdata[1]}<br>Recovered=%{customdata[2]}<br>Lat=%{lat}<br>Long=%{lon}",
           "hovertext": [
            "Anhui",
            "Beijing",
            "Chongqing",
            "Fujian",
            "Gansu",
            "Guangdong",
            "Guangxi",
            "Guizhou",
            "Hainan",
            "Hebei",
            "Heilongjiang",
            "Henan",
            "Hubei",
            "Hunan",
            "Inner Mongolia",
            "Jiangsu",
            "Jiangxi",
            "Jilin",
            "Liaoning",
            "Ningxia",
            "Qinghai",
            "Shaanxi",
            "Shandong",
            "Shanghai",
            "Shanxi",
            "Sichuan",
            "Tianjin",
            "Tibet",
            "Xinjiang",
            "Yunnan",
            "Zhejiang"
           ],
           "lat": [
            31.825709999999997,
            40.18238,
            30.05718,
            26.07783,
            36.0611,
            23.33841,
            23.829079999999998,
            26.81536,
            19.19673,
            38.0428,
            47.861999999999995,
            33.882020000000004,
            30.975640000000002,
            27.610409999999998,
            44.09448,
            32.97027,
            27.614009999999997,
            43.66657,
            41.292840000000005,
            37.26923,
            35.65945,
            35.19165,
            36.34377,
            31.20327,
            37.577690000000004,
            30.617140000000003,
            39.293620000000004,
            30.1534,
            41.11981,
            24.97411,
            29.182509999999997
           ],
           "legendgroup": "",
           "lon": [
            117.2264,
            116.4142,
            107.874,
            117.9895,
            103.8343,
            113.42200000000001,
            108.7881,
            106.8748,
            109.7455,
            114.5149,
            127.7622,
            113.61399999999999,
            112.2707,
            111.7088,
            113.9456,
            119.464,
            115.7221,
            126.1917,
            122.6086,
            106.1655,
            96.02564,
            108.8701,
            118.1529,
            121.4554,
            112.2922,
            102.7103,
            117.333,
            88.7879,
            85.17822,
            101.4868,
            120.0985
           ],
           "marker": {
            "color": [
             30.56141357987225,
             19.28730152198591,
             23.173260452512935,
             16.76305461424021,
             9.486832980505138,
             35.510561809129406,
             15.033296378372908,
             11.832159566199232,
             12.609520212918492,
             16.822603841260722,
             20.46948949045872,
             34.40930106817051,
             233.25093783305567,
             31.432467291003423,
             8.06225774829855,
             24.351591323771842,
             30,
             9.273618495495704,
             10.908712114635714,
             8.18535277187245,
             4.242640687119285,
             15.165750888103101,
             22.869193252058544,
             17.832554500127006,
             11.269427669584644,
             21.517434791350013,
             10.954451150103322,
             1,
             8.06225774829855,
             12.727922061357855,
             33.98529093593286
            ],
            "coloraxis": "coloraxis",
            "size": [
             30.56141357987225,
             19.28730152198591,
             23.173260452512935,
             16.76305461424021,
             9.486832980505138,
             35.510561809129406,
             15.033296378372908,
             11.832159566199232,
             12.609520212918492,
             16.822603841260722,
             20.46948949045872,
             34.40930106817051,
             233.25093783305567,
             31.432467291003423,
             8.06225774829855,
             24.351591323771842,
             30,
             9.273618495495704,
             10.908712114635714,
             8.18535277187245,
             4.242640687119285,
             15.165750888103101,
             22.869193252058544,
             17.832554500127006,
             11.269427669584644,
             21.517434791350013,
             10.954451150103322,
             1,
             8.06225774829855,
             12.727922061357855,
             33.98529093593286
            ],
            "sizemode": "area",
            "sizeref": 0.622650584196305
           },
           "name": "",
           "showlegend": false,
           "type": "scattergeo"
          }
         ],
         "name": "02/14/2020"
        },
        {
         "data": [
          {
           "customdata": [
            [
             950,
             6,
             221
            ],
            [
             375,
             4,
             98
            ],
            [
             544,
             5,
             184
            ],
            [
             285,
             0,
             71
            ],
            [
             90,
             2,
             49
            ],
            [
             1294,
             2,
             410
            ],
            [
             235,
             2,
             44
            ],
            [
             143,
             1,
             41
            ],
            [
             162,
             4,
             39
            ],
            [
             291,
             3,
             101
            ],
            [
             425,
             11,
             68
            ],
            [
             1212,
             13,
             391
            ],
            [
             56249,
             1596,
             5623
            ],
            [
             1001,
             2,
             425
            ],
            [
             68,
             0,
             7
            ],
            [
             604,
             0,
             186
            ],
            [
             913,
             1,
             210
            ],
            [
             88,
             1,
             26
            ],
            [
             119,
             1,
             31
            ],
            [
             70,
             0,
             33
            ],
            [
             18,
             0,
             13
            ],
            [
             232,
             0,
             60
            ],
            [
             532,
             2,
             156
            ],
            [
             326,
             1,
             124
            ],
            [
             128,
             0,
             46
            ],
            [
             470,
             1,
             119
            ],
            [
             122,
             3,
             37
            ],
            [
             1,
             0,
             1
            ],
            [
             70,
             1,
             10
            ],
            [
             168,
             0,
             42
            ],
            [
             1162,
             0,
             428
            ]
           ],
           "geo": "geo",
           "hoverlabel": {
            "namelength": 0
           },
           "hovertemplate": "<b>%{hovertext}</b><br><br>Date=02/15/2020<br>size=%{marker.color}<br>Confirmed=%{customdata[0]}<br>Deaths=%{customdata[1]}<br>Recovered=%{customdata[2]}<br>Lat=%{lat}<br>Long=%{lon}",
           "hovertext": [
            "Anhui",
            "Beijing",
            "Chongqing",
            "Fujian",
            "Gansu",
            "Guangdong",
            "Guangxi",
            "Guizhou",
            "Hainan",
            "Hebei",
            "Heilongjiang",
            "Henan",
            "Hubei",
            "Hunan",
            "Inner Mongolia",
            "Jiangsu",
            "Jiangxi",
            "Jilin",
            "Liaoning",
            "Ningxia",
            "Qinghai",
            "Shaanxi",
            "Shandong",
            "Shanghai",
            "Shanxi",
            "Sichuan",
            "Tianjin",
            "Tibet",
            "Xinjiang",
            "Yunnan",
            "Zhejiang"
           ],
           "lat": [
            31.825709999999997,
            40.18238,
            30.05718,
            26.07783,
            36.0611,
            23.33841,
            23.829079999999998,
            26.81536,
            19.19673,
            38.0428,
            47.861999999999995,
            33.882020000000004,
            30.975640000000002,
            27.610409999999998,
            44.09448,
            32.97027,
            27.614009999999997,
            43.66657,
            41.292840000000005,
            37.26923,
            35.65945,
            35.19165,
            36.34377,
            31.20327,
            37.577690000000004,
            30.617140000000003,
            39.293620000000004,
            30.1534,
            41.11981,
            24.97411,
            29.182509999999997
           ],
           "legendgroup": "",
           "lon": [
            117.2264,
            116.4142,
            107.874,
            117.9895,
            103.8343,
            113.42200000000001,
            108.7881,
            106.8748,
            109.7455,
            114.5149,
            127.7622,
            113.61399999999999,
            112.2707,
            111.7088,
            113.9456,
            119.464,
            115.7221,
            126.1917,
            122.6086,
            106.1655,
            96.02564,
            108.8701,
            118.1529,
            121.4554,
            112.2922,
            102.7103,
            117.333,
            88.7879,
            85.17822,
            101.4868,
            120.0985
           ],
           "marker": {
            "color": [
             30.822070014844883,
             19.364916731037084,
             23.323807579381203,
             16.881943016134134,
             9.486832980505138,
             35.9722114972099,
             15.329709716755891,
             11.958260743101398,
             12.727922061357855,
             17.05872210923198,
             20.615528128088304,
             34.813790371058424,
             237.16871631815187,
             31.63858403911275,
             8.246211251235321,
             24.576411454889016,
             30.215889859476256,
             9.38083151964686,
             10.908712114635714,
             8.366600265340756,
             4.242640687119285,
             15.231546211727817,
             23.065125189341593,
             18.05547008526779,
             11.313708498984761,
             21.6794833886788,
             11.045361017187261,
             1,
             8.366600265340756,
             12.96148139681572,
             34.08812109811862
            ],
            "coloraxis": "coloraxis",
            "size": [
             30.822070014844883,
             19.364916731037084,
             23.323807579381203,
             16.881943016134134,
             9.486832980505138,
             35.9722114972099,
             15.329709716755891,
             11.958260743101398,
             12.727922061357855,
             17.05872210923198,
             20.615528128088304,
             34.813790371058424,
             237.16871631815187,
             31.63858403911275,
             8.246211251235321,
             24.576411454889016,
             30.215889859476256,
             9.38083151964686,
             10.908712114635714,
             8.366600265340756,
             4.242640687119285,
             15.231546211727817,
             23.065125189341593,
             18.05547008526779,
             11.313708498984761,
             21.6794833886788,
             11.045361017187261,
             1,
             8.366600265340756,
             12.96148139681572,
             34.08812109811862
            ],
            "sizemode": "area",
            "sizeref": 0.622650584196305
           },
           "name": "",
           "showlegend": false,
           "type": "scattergeo"
          }
         ],
         "name": "02/15/2020"
        },
        {
         "data": [
          {
           "customdata": [
            [
             962,
             6,
             255
            ],
            [
             380,
             4,
             108
            ],
            [
             551,
             5,
             207
            ],
            [
             287,
             0,
             82
            ],
            [
             90,
             2,
             54
            ],
            [
             1316,
             2,
             465
            ],
            [
             237,
             2,
             49
            ],
            [
             144,
             1,
             46
            ],
            [
             162,
             4,
             52
            ],
            [
             300,
             3,
             105
            ],
            [
             445,
             11,
             79
            ],
            [
             1231,
             13,
             440
            ],
            [
             58182,
             1696,
             6639
            ],
            [
             1004,
             3,
             464
            ],
            [
             70,
             0,
             8
            ],
            [
             617,
             0,
             218
            ],
            [
             925,
             1,
             240
            ],
            [
             89,
             1,
             30
            ],
            [
             121,
             1,
             40
            ],
            [
             70,
             0,
             33
            ],
            [
             18,
             0,
             13
            ],
            [
             236,
             0,
             71
            ],
            [
             537,
             2,
             173
            ],
            [
             328,
             1,
             140
            ],
            [
             129,
             0,
             50
            ],
            [
             481,
             3,
             131
            ],
            [
             124,
             3,
             45
            ],
            [
             1,
             0,
             1
            ],
            [
             71,
             1,
             12
            ],
            [
             171,
             0,
             42
            ],
            [
             1167,
             0,
             456
            ]
           ],
           "geo": "geo",
           "hoverlabel": {
            "namelength": 0
           },
           "hovertemplate": "<b>%{hovertext}</b><br><br>Date=02/16/2020<br>size=%{marker.color}<br>Confirmed=%{customdata[0]}<br>Deaths=%{customdata[1]}<br>Recovered=%{customdata[2]}<br>Lat=%{lat}<br>Long=%{lon}",
           "hovertext": [
            "Anhui",
            "Beijing",
            "Chongqing",
            "Fujian",
            "Gansu",
            "Guangdong",
            "Guangxi",
            "Guizhou",
            "Hainan",
            "Hebei",
            "Heilongjiang",
            "Henan",
            "Hubei",
            "Hunan",
            "Inner Mongolia",
            "Jiangsu",
            "Jiangxi",
            "Jilin",
            "Liaoning",
            "Ningxia",
            "Qinghai",
            "Shaanxi",
            "Shandong",
            "Shanghai",
            "Shanxi",
            "Sichuan",
            "Tianjin",
            "Tibet",
            "Xinjiang",
            "Yunnan",
            "Zhejiang"
           ],
           "lat": [
            31.825709999999997,
            40.18238,
            30.05718,
            26.07783,
            36.0611,
            23.33841,
            23.829079999999998,
            26.81536,
            19.19673,
            38.0428,
            47.861999999999995,
            33.882020000000004,
            30.975640000000002,
            27.610409999999998,
            44.09448,
            32.97027,
            27.614009999999997,
            43.66657,
            41.292840000000005,
            37.26923,
            35.65945,
            35.19165,
            36.34377,
            31.20327,
            37.577690000000004,
            30.617140000000003,
            39.293620000000004,
            30.1534,
            41.11981,
            24.97411,
            29.182509999999997
           ],
           "legendgroup": "",
           "lon": [
            117.2264,
            116.4142,
            107.874,
            117.9895,
            103.8343,
            113.42200000000001,
            108.7881,
            106.8748,
            109.7455,
            114.5149,
            127.7622,
            113.61399999999999,
            112.2707,
            111.7088,
            113.9456,
            119.464,
            115.7221,
            126.1917,
            122.6086,
            106.1655,
            96.02564,
            108.8701,
            118.1529,
            121.4554,
            112.2922,
            102.7103,
            117.333,
            88.7879,
            85.17822,
            101.4868,
            120.0985
           ],
           "marker": {
            "color": [
             31.016124838541646,
             19.493588689617926,
             23.473389188611005,
             16.941074346097416,
             9.486832980505138,
             36.27671429443411,
             15.394804318340652,
             12,
             12.727922061357855,
             17.320508075688775,
             21.095023109728988,
             35.08560958569767,
             241.20945255109717,
             31.68595903550972,
             8.366600265340756,
             24.839484696748443,
             30.4138126514911,
             9.433981132056603,
             11,
             8.366600265340756,
             4.242640687119285,
             15.362291495737216,
             23.173260452512935,
             18.110770276274835,
             11.357816691600547,
             21.93171219946131,
             11.135528725660043,
             1,
             8.426149773176359,
             13.076696830622021,
             34.161381705077446
            ],
            "coloraxis": "coloraxis",
            "size": [
             31.016124838541646,
             19.493588689617926,
             23.473389188611005,
             16.941074346097416,
             9.486832980505138,
             36.27671429443411,
             15.394804318340652,
             12,
             12.727922061357855,
             17.320508075688775,
             21.095023109728988,
             35.08560958569767,
             241.20945255109717,
             31.68595903550972,
             8.366600265340756,
             24.839484696748443,
             30.4138126514911,
             9.433981132056603,
             11,
             8.366600265340756,
             4.242640687119285,
             15.362291495737216,
             23.173260452512935,
             18.110770276274835,
             11.357816691600547,
             21.93171219946131,
             11.135528725660043,
             1,
             8.426149773176359,
             13.076696830622021,
             34.161381705077446
            ],
            "sizemode": "area",
            "sizeref": 0.622650584196305
           },
           "name": "",
           "showlegend": false,
           "type": "scattergeo"
          }
         ],
         "name": "02/16/2020"
        },
        {
         "data": [
          {
           "customdata": [
            [
             973,
             6,
             280
            ],
            [
             381,
             4,
             114
            ],
            [
             553,
             5,
             225
            ],
            [
             290,
             0,
             90
            ],
            [
             91,
             2,
             58
            ],
            [
             1322,
             4,
             524
            ],
            [
             238,
             2,
             53
            ],
            [
             146,
             1,
             57
            ],
            [
             163,
             4,
             59
            ],
            [
             301,
             3,
             122
            ],
            [
             457,
             11,
             85
            ],
            [
             1246,
             16,
             509
            ],
            [
             59989,
             1789,
             7862
            ],
            [
             1006,
             3,
             498
            ],
            [
             72,
             0,
             8
            ],
            [
             626,
             0,
             258
            ],
            [
             930,
             1,
             275
            ],
            [
             89,
             1,
             34
            ],
            [
             121,
             1,
             43
            ],
            [
             70,
             0,
             35
            ],
            [
             18,
             0,
             13
            ],
            [
             240,
             0,
             79
            ],
            [
             541,
             2,
             191
            ],
            [
             333,
             1,
             161
            ],
            [
             130,
             0,
             53
            ],
            [
             495,
             3,
             156
            ],
            [
             125,
             3,
             46
            ],
            [
             1,
             0,
             1
            ],
            [
             75,
             1,
             12
            ],
            [
             171,
             0,
             47
            ],
            [
             1171,
             0,
             507
            ]
           ],
           "geo": "geo",
           "hoverlabel": {
            "namelength": 0
           },
           "hovertemplate": "<b>%{hovertext}</b><br><br>Date=02/17/2020<br>size=%{marker.color}<br>Confirmed=%{customdata[0]}<br>Deaths=%{customdata[1]}<br>Recovered=%{customdata[2]}<br>Lat=%{lat}<br>Long=%{lon}",
           "hovertext": [
            "Anhui",
            "Beijing",
            "Chongqing",
            "Fujian",
            "Gansu",
            "Guangdong",
            "Guangxi",
            "Guizhou",
            "Hainan",
            "Hebei",
            "Heilongjiang",
            "Henan",
            "Hubei",
            "Hunan",
            "Inner Mongolia",
            "Jiangsu",
            "Jiangxi",
            "Jilin",
            "Liaoning",
            "Ningxia",
            "Qinghai",
            "Shaanxi",
            "Shandong",
            "Shanghai",
            "Shanxi",
            "Sichuan",
            "Tianjin",
            "Tibet",
            "Xinjiang",
            "Yunnan",
            "Zhejiang"
           ],
           "lat": [
            31.825709999999997,
            40.18238,
            30.05718,
            26.07783,
            36.0611,
            23.33841,
            23.829079999999998,
            26.81536,
            19.19673,
            38.0428,
            47.861999999999995,
            33.882020000000004,
            30.975640000000002,
            27.610409999999998,
            44.09448,
            32.97027,
            27.614009999999997,
            43.66657,
            41.292840000000005,
            37.26923,
            35.65945,
            35.19165,
            36.34377,
            31.20327,
            37.577690000000004,
            30.617140000000003,
            39.293620000000004,
            30.1534,
            41.11981,
            24.97411,
            29.182509999999997
           ],
           "legendgroup": "",
           "lon": [
            117.2264,
            116.4142,
            107.874,
            117.9895,
            103.8343,
            113.42200000000001,
            108.7881,
            106.8748,
            109.7455,
            114.5149,
            127.7622,
            113.61399999999999,
            112.2707,
            111.7088,
            113.9456,
            119.464,
            115.7221,
            126.1917,
            122.6086,
            106.1655,
            96.02564,
            108.8701,
            118.1529,
            121.4554,
            112.2922,
            102.7103,
            117.333,
            88.7879,
            85.17822,
            101.4868,
            120.0985
           ],
           "marker": {
            "color": [
             31.192947920964443,
             19.519221295943137,
             23.515952032609693,
             17.029386365926403,
             9.539392014169456,
             36.359317925395686,
             15.427248620541512,
             12.083045973594572,
             12.767145334803704,
             17.349351572897472,
             21.37755832643195,
             35.298725189445584,
             244.92651959312204,
             31.71750305430741,
             8.48528137423857,
             25.019992006393608,
             30.495901363953813,
             9.433981132056603,
             11,
             8.366600265340756,
             4.242640687119285,
             15.491933384829668,
             23.259406699226016,
             18.24828759089466,
             11.40175425099138,
             22.24859546128699,
             11.180339887498949,
             1,
             8.660254037844387,
             13.076696830622021,
             34.219877264537345
            ],
            "coloraxis": "coloraxis",
            "size": [
             31.192947920964443,
             19.519221295943137,
             23.515952032609693,
             17.029386365926403,
             9.539392014169456,
             36.359317925395686,
             15.427248620541512,
             12.083045973594572,
             12.767145334803704,
             17.349351572897472,
             21.37755832643195,
             35.298725189445584,
             244.92651959312204,
             31.71750305430741,
             8.48528137423857,
             25.019992006393608,
             30.495901363953813,
             9.433981132056603,
             11,
             8.366600265340756,
             4.242640687119285,
             15.491933384829668,
             23.259406699226016,
             18.24828759089466,
             11.40175425099138,
             22.24859546128699,
             11.180339887498949,
             1,
             8.660254037844387,
             13.076696830622021,
             34.219877264537345
            ],
            "sizemode": "area",
            "sizeref": 0.622650584196305
           },
           "name": "",
           "showlegend": false,
           "type": "scattergeo"
          }
         ],
         "name": "02/17/2020"
        },
        {
         "data": [
          {
           "customdata": [
            [
             982,
             6,
             361
            ],
            [
             387,
             4,
             122
            ],
            [
             555,
             5,
             254
            ],
            [
             292,
             0,
             93
            ],
            [
             91,
             2,
             62
            ],
            [
             1328,
             4,
             565
            ],
            [
             242,
             2,
             69
            ],
            [
             146,
             2,
             66
            ],
            [
             163,
             4,
             79
            ],
            [
             306,
             4,
             136
            ],
            [
             464,
             11,
             111
            ],
            [
             1257,
             19,
             522
            ],
            [
             61682,
             1921,
             9128
            ],
            [
             1007,
             4,
             527
            ],
            [
             73,
             0,
             8
            ],
            [
             629,
             0,
             280
            ],
            [
             933,
             1,
             310
            ],
            [
             89,
             1,
             36
            ],
            [
             121,
             1,
             53
            ],
            [
             70,
             0,
             42
            ],
            [
             18,
             0,
             15
            ],
            [
             240,
             0,
             89
            ],
            [
             543,
             3,
             211
            ],
            [
             333,
             1,
             177
            ],
            [
             131,
             0,
             61
            ],
            [
             508,
             3,
             169
            ],
            [
             128,
             3,
             48
            ],
            [
             1,
             0,
             1
            ],
            [
             76,
             1,
             12
            ],
            [
             172,
             0,
             57
            ],
            [
             1172,
             0,
             535
            ]
           ],
           "geo": "geo",
           "hoverlabel": {
            "namelength": 0
           },
           "hovertemplate": "<b>%{hovertext}</b><br><br>Date=02/18/2020<br>size=%{marker.color}<br>Confirmed=%{customdata[0]}<br>Deaths=%{customdata[1]}<br>Recovered=%{customdata[2]}<br>Lat=%{lat}<br>Long=%{lon}",
           "hovertext": [
            "Anhui",
            "Beijing",
            "Chongqing",
            "Fujian",
            "Gansu",
            "Guangdong",
            "Guangxi",
            "Guizhou",
            "Hainan",
            "Hebei",
            "Heilongjiang",
            "Henan",
            "Hubei",
            "Hunan",
            "Inner Mongolia",
            "Jiangsu",
            "Jiangxi",
            "Jilin",
            "Liaoning",
            "Ningxia",
            "Qinghai",
            "Shaanxi",
            "Shandong",
            "Shanghai",
            "Shanxi",
            "Sichuan",
            "Tianjin",
            "Tibet",
            "Xinjiang",
            "Yunnan",
            "Zhejiang"
           ],
           "lat": [
            31.825709999999997,
            40.18238,
            30.05718,
            26.07783,
            36.0611,
            23.33841,
            23.829079999999998,
            26.81536,
            19.19673,
            38.0428,
            47.861999999999995,
            33.882020000000004,
            30.975640000000002,
            27.610409999999998,
            44.09448,
            32.97027,
            27.614009999999997,
            43.66657,
            41.292840000000005,
            37.26923,
            35.65945,
            35.19165,
            36.34377,
            31.20327,
            37.577690000000004,
            30.617140000000003,
            39.293620000000004,
            30.1534,
            41.11981,
            24.97411,
            29.182509999999997
           ],
           "legendgroup": "",
           "lon": [
            117.2264,
            116.4142,
            107.874,
            117.9895,
            103.8343,
            113.42200000000001,
            108.7881,
            106.8748,
            109.7455,
            114.5149,
            127.7622,
            113.61399999999999,
            112.2707,
            111.7088,
            113.9456,
            119.464,
            115.7221,
            126.1917,
            122.6086,
            106.1655,
            96.02564,
            108.8701,
            118.1529,
            121.4554,
            112.2922,
            102.7103,
            117.333,
            88.7879,
            85.17822,
            101.4868,
            120.0985
           ],
           "marker": {
            "color": [
             31.336879231984796,
             19.672315572906,
             23.558437978779494,
             17.08800749063506,
             9.539392014169456,
             36.4417343165772,
             15.556349186104045,
             12.083045973594572,
             12.767145334803704,
             17.4928556845359,
             21.540659228538015,
             35.45419580247167,
             248.35861168882386,
             31.73326330524486,
             8.54400374531753,
             25.079872407968907,
             30.54504869860253,
             9.433981132056603,
             11,
             8.366600265340756,
             4.242640687119285,
             15.491933384829668,
             23.302360395462088,
             18.24828759089466,
             11.445523142259598,
             22.538855339169288,
             11.313708498984761,
             1,
             8.717797887081348,
             13.114877048604,
             34.23448553724738
            ],
            "coloraxis": "coloraxis",
            "size": [
             31.336879231984796,
             19.672315572906,
             23.558437978779494,
             17.08800749063506,
             9.539392014169456,
             36.4417343165772,
             15.556349186104045,
             12.083045973594572,
             12.767145334803704,
             17.4928556845359,
             21.540659228538015,
             35.45419580247167,
             248.35861168882386,
             31.73326330524486,
             8.54400374531753,
             25.079872407968907,
             30.54504869860253,
             9.433981132056603,
             11,
             8.366600265340756,
             4.242640687119285,
             15.491933384829668,
             23.302360395462088,
             18.24828759089466,
             11.445523142259598,
             22.538855339169288,
             11.313708498984761,
             1,
             8.717797887081348,
             13.114877048604,
             34.23448553724738
            ],
            "sizemode": "area",
            "sizeref": 0.622650584196305
           },
           "name": "",
           "showlegend": false,
           "type": "scattergeo"
          }
         ],
         "name": "02/18/2020"
        },
        {
         "data": [
          {
           "customdata": [
            [
             986,
             6,
             413
            ],
            [
             393,
             4,
             145
            ],
            [
             560,
             5,
             274
            ],
            [
             293,
             0,
             112
            ],
            [
             91,
             2,
             65
            ],
            [
             1331,
             5,
             606
            ],
            [
             244,
             2,
             86
            ],
            [
             146,
             2,
             70
            ],
            [
             168,
             4,
             84
            ],
            [
             306,
             4,
             152
            ],
            [
             470,
             12,
             120
            ],
            [
             1262,
             19,
             573
            ],
            [
             62031,
             2029,
             10337
            ],
            [
             1008,
             4,
             561
            ],
            [
             75,
             0,
             10
            ],
            [
             631,
             0,
             318
            ],
            [
             934,
             1,
             362
            ],
            [
             90,
             1,
             37
            ],
            [
             121,
             1,
             55
            ],
            [
             71,
             0,
             42
            ],
            [
             18,
             0,
             16
            ],
            [
             242,
             0,
             102
            ],
            [
             544,
             3,
             231
            ],
            [
             333,
             2,
             186
            ],
            [
             131,
             0,
             68
            ],
            [
             514,
             3,
             188
            ],
            [
             130,
             3,
             54
            ],
            [
             1,
             0,
             1
            ],
            [
             76,
             1,
             20
            ],
            [
             172,
             1,
             60
            ],
            [
             1174,
             0,
             604
            ]
           ],
           "geo": "geo",
           "hoverlabel": {
            "namelength": 0
           },
           "hovertemplate": "<b>%{hovertext}</b><br><br>Date=02/19/2020<br>size=%{marker.color}<br>Confirmed=%{customdata[0]}<br>Deaths=%{customdata[1]}<br>Recovered=%{customdata[2]}<br>Lat=%{lat}<br>Long=%{lon}",
           "hovertext": [
            "Anhui",
            "Beijing",
            "Chongqing",
            "Fujian",
            "Gansu",
            "Guangdong",
            "Guangxi",
            "Guizhou",
            "Hainan",
            "Hebei",
            "Heilongjiang",
            "Henan",
            "Hubei",
            "Hunan",
            "Inner Mongolia",
            "Jiangsu",
            "Jiangxi",
            "Jilin",
            "Liaoning",
            "Ningxia",
            "Qinghai",
            "Shaanxi",
            "Shandong",
            "Shanghai",
            "Shanxi",
            "Sichuan",
            "Tianjin",
            "Tibet",
            "Xinjiang",
            "Yunnan",
            "Zhejiang"
           ],
           "lat": [
            31.825709999999997,
            40.18238,
            30.05718,
            26.07783,
            36.0611,
            23.33841,
            23.829079999999998,
            26.81536,
            19.19673,
            38.0428,
            47.861999999999995,
            33.882020000000004,
            30.975640000000002,
            27.610409999999998,
            44.09448,
            32.97027,
            27.614009999999997,
            43.66657,
            41.292840000000005,
            37.26923,
            35.65945,
            35.19165,
            36.34377,
            31.20327,
            37.577690000000004,
            30.617140000000003,
            39.293620000000004,
            30.1534,
            41.11981,
            24.97411,
            29.182509999999997
           ],
           "legendgroup": "",
           "lon": [
            117.2264,
            116.4142,
            107.874,
            117.9895,
            103.8343,
            113.42200000000001,
            108.7881,
            106.8748,
            109.7455,
            114.5149,
            127.7622,
            113.61399999999999,
            112.2707,
            111.7088,
            113.9456,
            119.464,
            115.7221,
            126.1917,
            122.6086,
            106.1655,
            96.02564,
            108.8701,
            118.1529,
            121.4554,
            112.2922,
            102.7103,
            117.333,
            88.7879,
            85.17822,
            101.4868,
            120.0985
           ],
           "marker": {
            "color": [
             31.400636936215164,
             19.82422760159901,
             23.664319132398465,
             17.11724276862369,
             9.539392014169456,
             36.4828726939094,
             15.620499351813308,
             12.083045973594572,
             12.96148139681572,
             17.4928556845359,
             21.6794833886788,
             35.52463933666322,
             249.06023367852202,
             31.74901573277509,
             8.660254037844387,
             25.11971337416094,
             30.56141357987225,
             9.486832980505138,
             11,
             8.426149773176359,
             4.242640687119285,
             15.556349186104045,
             23.323807579381203,
             18.24828759089466,
             11.445523142259598,
             22.67156809750927,
             11.40175425099138,
             1,
             8.717797887081348,
             13.114877048604,
             34.26368339802363
            ],
            "coloraxis": "coloraxis",
            "size": [
             31.400636936215164,
             19.82422760159901,
             23.664319132398465,
             17.11724276862369,
             9.539392014169456,
             36.4828726939094,
             15.620499351813308,
             12.083045973594572,
             12.96148139681572,
             17.4928556845359,
             21.6794833886788,
             35.52463933666322,
             249.06023367852202,
             31.74901573277509,
             8.660254037844387,
             25.11971337416094,
             30.56141357987225,
             9.486832980505138,
             11,
             8.426149773176359,
             4.242640687119285,
             15.556349186104045,
             23.323807579381203,
             18.24828759089466,
             11.445523142259598,
             22.67156809750927,
             11.40175425099138,
             1,
             8.717797887081348,
             13.114877048604,
             34.26368339802363
            ],
            "sizemode": "area",
            "sizeref": 0.622650584196305
           },
           "name": "",
           "showlegend": false,
           "type": "scattergeo"
          }
         ],
         "name": "02/19/2020"
        }
       ],
       "layout": {
        "coloraxis": {
         "colorbar": {
          "title": {
           "text": "size"
          }
         },
         "colorscale": [
          [
           0,
           "#0d0887"
          ],
          [
           0.1111111111111111,
           "#46039f"
          ],
          [
           0.2222222222222222,
           "#7201a8"
          ],
          [
           0.3333333333333333,
           "#9c179e"
          ],
          [
           0.4444444444444444,
           "#bd3786"
          ],
          [
           0.5555555555555556,
           "#d8576b"
          ],
          [
           0.6666666666666666,
           "#ed7953"
          ],
          [
           0.7777777777777778,
           "#fb9f3a"
          ],
          [
           0.8888888888888888,
           "#fdca26"
          ],
          [
           1,
           "#f0f921"
          ]
         ],
         "showscale": false
        },
        "geo": {
         "center": {},
         "domain": {
          "x": [
           0,
           1
          ],
          "y": [
           0,
           1
          ]
         },
         "projection": {
          "type": "natural earth"
         },
         "scope": "asia"
        },
        "legend": {
         "itemsizing": "constant",
         "tracegroupgap": 0
        },
        "sliders": [
         {
          "active": 0,
          "currentvalue": {
           "prefix": "Date="
          },
          "len": 0.9,
          "pad": {
           "b": 10,
           "t": 60
          },
          "steps": [
           {
            "args": [
             [
              "01/22/2020"
             ],
             {
              "frame": {
               "duration": 0,
               "redraw": true
              },
              "fromcurrent": true,
              "mode": "immediate",
              "transition": {
               "duration": 0,
               "easing": "linear"
              }
             }
            ],
            "label": "01/22/2020",
            "method": "animate"
           },
           {
            "args": [
             [
              "01/23/2020"
             ],
             {
              "frame": {
               "duration": 0,
               "redraw": true
              },
              "fromcurrent": true,
              "mode": "immediate",
              "transition": {
               "duration": 0,
               "easing": "linear"
              }
             }
            ],
            "label": "01/23/2020",
            "method": "animate"
           },
           {
            "args": [
             [
              "01/24/2020"
             ],
             {
              "frame": {
               "duration": 0,
               "redraw": true
              },
              "fromcurrent": true,
              "mode": "immediate",
              "transition": {
               "duration": 0,
               "easing": "linear"
              }
             }
            ],
            "label": "01/24/2020",
            "method": "animate"
           },
           {
            "args": [
             [
              "01/25/2020"
             ],
             {
              "frame": {
               "duration": 0,
               "redraw": true
              },
              "fromcurrent": true,
              "mode": "immediate",
              "transition": {
               "duration": 0,
               "easing": "linear"
              }
             }
            ],
            "label": "01/25/2020",
            "method": "animate"
           },
           {
            "args": [
             [
              "01/26/2020"
             ],
             {
              "frame": {
               "duration": 0,
               "redraw": true
              },
              "fromcurrent": true,
              "mode": "immediate",
              "transition": {
               "duration": 0,
               "easing": "linear"
              }
             }
            ],
            "label": "01/26/2020",
            "method": "animate"
           },
           {
            "args": [
             [
              "01/27/2020"
             ],
             {
              "frame": {
               "duration": 0,
               "redraw": true
              },
              "fromcurrent": true,
              "mode": "immediate",
              "transition": {
               "duration": 0,
               "easing": "linear"
              }
             }
            ],
            "label": "01/27/2020",
            "method": "animate"
           },
           {
            "args": [
             [
              "01/28/2020"
             ],
             {
              "frame": {
               "duration": 0,
               "redraw": true
              },
              "fromcurrent": true,
              "mode": "immediate",
              "transition": {
               "duration": 0,
               "easing": "linear"
              }
             }
            ],
            "label": "01/28/2020",
            "method": "animate"
           },
           {
            "args": [
             [
              "01/29/2020"
             ],
             {
              "frame": {
               "duration": 0,
               "redraw": true
              },
              "fromcurrent": true,
              "mode": "immediate",
              "transition": {
               "duration": 0,
               "easing": "linear"
              }
             }
            ],
            "label": "01/29/2020",
            "method": "animate"
           },
           {
            "args": [
             [
              "01/30/2020"
             ],
             {
              "frame": {
               "duration": 0,
               "redraw": true
              },
              "fromcurrent": true,
              "mode": "immediate",
              "transition": {
               "duration": 0,
               "easing": "linear"
              }
             }
            ],
            "label": "01/30/2020",
            "method": "animate"
           },
           {
            "args": [
             [
              "01/31/2020"
             ],
             {
              "frame": {
               "duration": 0,
               "redraw": true
              },
              "fromcurrent": true,
              "mode": "immediate",
              "transition": {
               "duration": 0,
               "easing": "linear"
              }
             }
            ],
            "label": "01/31/2020",
            "method": "animate"
           },
           {
            "args": [
             [
              "02/01/2020"
             ],
             {
              "frame": {
               "duration": 0,
               "redraw": true
              },
              "fromcurrent": true,
              "mode": "immediate",
              "transition": {
               "duration": 0,
               "easing": "linear"
              }
             }
            ],
            "label": "02/01/2020",
            "method": "animate"
           },
           {
            "args": [
             [
              "02/02/2020"
             ],
             {
              "frame": {
               "duration": 0,
               "redraw": true
              },
              "fromcurrent": true,
              "mode": "immediate",
              "transition": {
               "duration": 0,
               "easing": "linear"
              }
             }
            ],
            "label": "02/02/2020",
            "method": "animate"
           },
           {
            "args": [
             [
              "02/03/2020"
             ],
             {
              "frame": {
               "duration": 0,
               "redraw": true
              },
              "fromcurrent": true,
              "mode": "immediate",
              "transition": {
               "duration": 0,
               "easing": "linear"
              }
             }
            ],
            "label": "02/03/2020",
            "method": "animate"
           },
           {
            "args": [
             [
              "02/04/2020"
             ],
             {
              "frame": {
               "duration": 0,
               "redraw": true
              },
              "fromcurrent": true,
              "mode": "immediate",
              "transition": {
               "duration": 0,
               "easing": "linear"
              }
             }
            ],
            "label": "02/04/2020",
            "method": "animate"
           },
           {
            "args": [
             [
              "02/05/2020"
             ],
             {
              "frame": {
               "duration": 0,
               "redraw": true
              },
              "fromcurrent": true,
              "mode": "immediate",
              "transition": {
               "duration": 0,
               "easing": "linear"
              }
             }
            ],
            "label": "02/05/2020",
            "method": "animate"
           },
           {
            "args": [
             [
              "02/06/2020"
             ],
             {
              "frame": {
               "duration": 0,
               "redraw": true
              },
              "fromcurrent": true,
              "mode": "immediate",
              "transition": {
               "duration": 0,
               "easing": "linear"
              }
             }
            ],
            "label": "02/06/2020",
            "method": "animate"
           },
           {
            "args": [
             [
              "02/07/2020"
             ],
             {
              "frame": {
               "duration": 0,
               "redraw": true
              },
              "fromcurrent": true,
              "mode": "immediate",
              "transition": {
               "duration": 0,
               "easing": "linear"
              }
             }
            ],
            "label": "02/07/2020",
            "method": "animate"
           },
           {
            "args": [
             [
              "02/08/2020"
             ],
             {
              "frame": {
               "duration": 0,
               "redraw": true
              },
              "fromcurrent": true,
              "mode": "immediate",
              "transition": {
               "duration": 0,
               "easing": "linear"
              }
             }
            ],
            "label": "02/08/2020",
            "method": "animate"
           },
           {
            "args": [
             [
              "02/09/2020"
             ],
             {
              "frame": {
               "duration": 0,
               "redraw": true
              },
              "fromcurrent": true,
              "mode": "immediate",
              "transition": {
               "duration": 0,
               "easing": "linear"
              }
             }
            ],
            "label": "02/09/2020",
            "method": "animate"
           },
           {
            "args": [
             [
              "02/10/2020"
             ],
             {
              "frame": {
               "duration": 0,
               "redraw": true
              },
              "fromcurrent": true,
              "mode": "immediate",
              "transition": {
               "duration": 0,
               "easing": "linear"
              }
             }
            ],
            "label": "02/10/2020",
            "method": "animate"
           },
           {
            "args": [
             [
              "02/11/2020"
             ],
             {
              "frame": {
               "duration": 0,
               "redraw": true
              },
              "fromcurrent": true,
              "mode": "immediate",
              "transition": {
               "duration": 0,
               "easing": "linear"
              }
             }
            ],
            "label": "02/11/2020",
            "method": "animate"
           },
           {
            "args": [
             [
              "02/12/2020"
             ],
             {
              "frame": {
               "duration": 0,
               "redraw": true
              },
              "fromcurrent": true,
              "mode": "immediate",
              "transition": {
               "duration": 0,
               "easing": "linear"
              }
             }
            ],
            "label": "02/12/2020",
            "method": "animate"
           },
           {
            "args": [
             [
              "02/13/2020"
             ],
             {
              "frame": {
               "duration": 0,
               "redraw": true
              },
              "fromcurrent": true,
              "mode": "immediate",
              "transition": {
               "duration": 0,
               "easing": "linear"
              }
             }
            ],
            "label": "02/13/2020",
            "method": "animate"
           },
           {
            "args": [
             [
              "02/14/2020"
             ],
             {
              "frame": {
               "duration": 0,
               "redraw": true
              },
              "fromcurrent": true,
              "mode": "immediate",
              "transition": {
               "duration": 0,
               "easing": "linear"
              }
             }
            ],
            "label": "02/14/2020",
            "method": "animate"
           },
           {
            "args": [
             [
              "02/15/2020"
             ],
             {
              "frame": {
               "duration": 0,
               "redraw": true
              },
              "fromcurrent": true,
              "mode": "immediate",
              "transition": {
               "duration": 0,
               "easing": "linear"
              }
             }
            ],
            "label": "02/15/2020",
            "method": "animate"
           },
           {
            "args": [
             [
              "02/16/2020"
             ],
             {
              "frame": {
               "duration": 0,
               "redraw": true
              },
              "fromcurrent": true,
              "mode": "immediate",
              "transition": {
               "duration": 0,
               "easing": "linear"
              }
             }
            ],
            "label": "02/16/2020",
            "method": "animate"
           },
           {
            "args": [
             [
              "02/17/2020"
             ],
             {
              "frame": {
               "duration": 0,
               "redraw": true
              },
              "fromcurrent": true,
              "mode": "immediate",
              "transition": {
               "duration": 0,
               "easing": "linear"
              }
             }
            ],
            "label": "02/17/2020",
            "method": "animate"
           },
           {
            "args": [
             [
              "02/18/2020"
             ],
             {
              "frame": {
               "duration": 0,
               "redraw": true
              },
              "fromcurrent": true,
              "mode": "immediate",
              "transition": {
               "duration": 0,
               "easing": "linear"
              }
             }
            ],
            "label": "02/18/2020",
            "method": "animate"
           },
           {
            "args": [
             [
              "02/19/2020"
             ],
             {
              "frame": {
               "duration": 0,
               "redraw": true
              },
              "fromcurrent": true,
              "mode": "immediate",
              "transition": {
               "duration": 0,
               "easing": "linear"
              }
             }
            ],
            "label": "02/19/2020",
            "method": "animate"
           }
          ],
          "x": 0.1,
          "xanchor": "left",
          "y": 0,
          "yanchor": "top"
         }
        ],
        "template": {
         "data": {
          "bar": [
           {
            "error_x": {
             "color": "#2a3f5f"
            },
            "error_y": {
             "color": "#2a3f5f"
            },
            "marker": {
             "line": {
              "color": "#E5ECF6",
              "width": 0.5
             }
            },
            "type": "bar"
           }
          ],
          "barpolar": [
           {
            "marker": {
             "line": {
              "color": "#E5ECF6",
              "width": 0.5
             }
            },
            "type": "barpolar"
           }
          ],
          "carpet": [
           {
            "aaxis": {
             "endlinecolor": "#2a3f5f",
             "gridcolor": "white",
             "linecolor": "white",
             "minorgridcolor": "white",
             "startlinecolor": "#2a3f5f"
            },
            "baxis": {
             "endlinecolor": "#2a3f5f",
             "gridcolor": "white",
             "linecolor": "white",
             "minorgridcolor": "white",
             "startlinecolor": "#2a3f5f"
            },
            "type": "carpet"
           }
          ],
          "choropleth": [
           {
            "colorbar": {
             "outlinewidth": 0,
             "ticks": ""
            },
            "type": "choropleth"
           }
          ],
          "contour": [
           {
            "colorbar": {
             "outlinewidth": 0,
             "ticks": ""
            },
            "colorscale": [
             [
              0,
              "#0d0887"
             ],
             [
              0.1111111111111111,
              "#46039f"
             ],
             [
              0.2222222222222222,
              "#7201a8"
             ],
             [
              0.3333333333333333,
              "#9c179e"
             ],
             [
              0.4444444444444444,
              "#bd3786"
             ],
             [
              0.5555555555555556,
              "#d8576b"
             ],
             [
              0.6666666666666666,
              "#ed7953"
             ],
             [
              0.7777777777777778,
              "#fb9f3a"
             ],
             [
              0.8888888888888888,
              "#fdca26"
             ],
             [
              1,
              "#f0f921"
             ]
            ],
            "type": "contour"
           }
          ],
          "contourcarpet": [
           {
            "colorbar": {
             "outlinewidth": 0,
             "ticks": ""
            },
            "type": "contourcarpet"
           }
          ],
          "heatmap": [
           {
            "colorbar": {
             "outlinewidth": 0,
             "ticks": ""
            },
            "colorscale": [
             [
              0,
              "#0d0887"
             ],
             [
              0.1111111111111111,
              "#46039f"
             ],
             [
              0.2222222222222222,
              "#7201a8"
             ],
             [
              0.3333333333333333,
              "#9c179e"
             ],
             [
              0.4444444444444444,
              "#bd3786"
             ],
             [
              0.5555555555555556,
              "#d8576b"
             ],
             [
              0.6666666666666666,
              "#ed7953"
             ],
             [
              0.7777777777777778,
              "#fb9f3a"
             ],
             [
              0.8888888888888888,
              "#fdca26"
             ],
             [
              1,
              "#f0f921"
             ]
            ],
            "type": "heatmap"
           }
          ],
          "heatmapgl": [
           {
            "colorbar": {
             "outlinewidth": 0,
             "ticks": ""
            },
            "colorscale": [
             [
              0,
              "#0d0887"
             ],
             [
              0.1111111111111111,
              "#46039f"
             ],
             [
              0.2222222222222222,
              "#7201a8"
             ],
             [
              0.3333333333333333,
              "#9c179e"
             ],
             [
              0.4444444444444444,
              "#bd3786"
             ],
             [
              0.5555555555555556,
              "#d8576b"
             ],
             [
              0.6666666666666666,
              "#ed7953"
             ],
             [
              0.7777777777777778,
              "#fb9f3a"
             ],
             [
              0.8888888888888888,
              "#fdca26"
             ],
             [
              1,
              "#f0f921"
             ]
            ],
            "type": "heatmapgl"
           }
          ],
          "histogram": [
           {
            "marker": {
             "colorbar": {
              "outlinewidth": 0,
              "ticks": ""
             }
            },
            "type": "histogram"
           }
          ],
          "histogram2d": [
           {
            "colorbar": {
             "outlinewidth": 0,
             "ticks": ""
            },
            "colorscale": [
             [
              0,
              "#0d0887"
             ],
             [
              0.1111111111111111,
              "#46039f"
             ],
             [
              0.2222222222222222,
              "#7201a8"
             ],
             [
              0.3333333333333333,
              "#9c179e"
             ],
             [
              0.4444444444444444,
              "#bd3786"
             ],
             [
              0.5555555555555556,
              "#d8576b"
             ],
             [
              0.6666666666666666,
              "#ed7953"
             ],
             [
              0.7777777777777778,
              "#fb9f3a"
             ],
             [
              0.8888888888888888,
              "#fdca26"
             ],
             [
              1,
              "#f0f921"
             ]
            ],
            "type": "histogram2d"
           }
          ],
          "histogram2dcontour": [
           {
            "colorbar": {
             "outlinewidth": 0,
             "ticks": ""
            },
            "colorscale": [
             [
              0,
              "#0d0887"
             ],
             [
              0.1111111111111111,
              "#46039f"
             ],
             [
              0.2222222222222222,
              "#7201a8"
             ],
             [
              0.3333333333333333,
              "#9c179e"
             ],
             [
              0.4444444444444444,
              "#bd3786"
             ],
             [
              0.5555555555555556,
              "#d8576b"
             ],
             [
              0.6666666666666666,
              "#ed7953"
             ],
             [
              0.7777777777777778,
              "#fb9f3a"
             ],
             [
              0.8888888888888888,
              "#fdca26"
             ],
             [
              1,
              "#f0f921"
             ]
            ],
            "type": "histogram2dcontour"
           }
          ],
          "mesh3d": [
           {
            "colorbar": {
             "outlinewidth": 0,
             "ticks": ""
            },
            "type": "mesh3d"
           }
          ],
          "parcoords": [
           {
            "line": {
             "colorbar": {
              "outlinewidth": 0,
              "ticks": ""
             }
            },
            "type": "parcoords"
           }
          ],
          "pie": [
           {
            "automargin": true,
            "type": "pie"
           }
          ],
          "scatter": [
           {
            "marker": {
             "colorbar": {
              "outlinewidth": 0,
              "ticks": ""
             }
            },
            "type": "scatter"
           }
          ],
          "scatter3d": [
           {
            "line": {
             "colorbar": {
              "outlinewidth": 0,
              "ticks": ""
             }
            },
            "marker": {
             "colorbar": {
              "outlinewidth": 0,
              "ticks": ""
             }
            },
            "type": "scatter3d"
           }
          ],
          "scattercarpet": [
           {
            "marker": {
             "colorbar": {
              "outlinewidth": 0,
              "ticks": ""
             }
            },
            "type": "scattercarpet"
           }
          ],
          "scattergeo": [
           {
            "marker": {
             "colorbar": {
              "outlinewidth": 0,
              "ticks": ""
             }
            },
            "type": "scattergeo"
           }
          ],
          "scattergl": [
           {
            "marker": {
             "colorbar": {
              "outlinewidth": 0,
              "ticks": ""
             }
            },
            "type": "scattergl"
           }
          ],
          "scattermapbox": [
           {
            "marker": {
             "colorbar": {
              "outlinewidth": 0,
              "ticks": ""
             }
            },
            "type": "scattermapbox"
           }
          ],
          "scatterpolar": [
           {
            "marker": {
             "colorbar": {
              "outlinewidth": 0,
              "ticks": ""
             }
            },
            "type": "scatterpolar"
           }
          ],
          "scatterpolargl": [
           {
            "marker": {
             "colorbar": {
              "outlinewidth": 0,
              "ticks": ""
             }
            },
            "type": "scatterpolargl"
           }
          ],
          "scatterternary": [
           {
            "marker": {
             "colorbar": {
              "outlinewidth": 0,
              "ticks": ""
             }
            },
            "type": "scatterternary"
           }
          ],
          "surface": [
           {
            "colorbar": {
             "outlinewidth": 0,
             "ticks": ""
            },
            "colorscale": [
             [
              0,
              "#0d0887"
             ],
             [
              0.1111111111111111,
              "#46039f"
             ],
             [
              0.2222222222222222,
              "#7201a8"
             ],
             [
              0.3333333333333333,
              "#9c179e"
             ],
             [
              0.4444444444444444,
              "#bd3786"
             ],
             [
              0.5555555555555556,
              "#d8576b"
             ],
             [
              0.6666666666666666,
              "#ed7953"
             ],
             [
              0.7777777777777778,
              "#fb9f3a"
             ],
             [
              0.8888888888888888,
              "#fdca26"
             ],
             [
              1,
              "#f0f921"
             ]
            ],
            "type": "surface"
           }
          ],
          "table": [
           {
            "cells": {
             "fill": {
              "color": "#EBF0F8"
             },
             "line": {
              "color": "white"
             }
            },
            "header": {
             "fill": {
              "color": "#C8D4E3"
             },
             "line": {
              "color": "white"
             }
            },
            "type": "table"
           }
          ]
         },
         "layout": {
          "annotationdefaults": {
           "arrowcolor": "#2a3f5f",
           "arrowhead": 0,
           "arrowwidth": 1
          },
          "coloraxis": {
           "colorbar": {
            "outlinewidth": 0,
            "ticks": ""
           }
          },
          "colorscale": {
           "diverging": [
            [
             0,
             "#8e0152"
            ],
            [
             0.1,
             "#c51b7d"
            ],
            [
             0.2,
             "#de77ae"
            ],
            [
             0.3,
             "#f1b6da"
            ],
            [
             0.4,
             "#fde0ef"
            ],
            [
             0.5,
             "#f7f7f7"
            ],
            [
             0.6,
             "#e6f5d0"
            ],
            [
             0.7,
             "#b8e186"
            ],
            [
             0.8,
             "#7fbc41"
            ],
            [
             0.9,
             "#4d9221"
            ],
            [
             1,
             "#276419"
            ]
           ],
           "sequential": [
            [
             0,
             "#0d0887"
            ],
            [
             0.1111111111111111,
             "#46039f"
            ],
            [
             0.2222222222222222,
             "#7201a8"
            ],
            [
             0.3333333333333333,
             "#9c179e"
            ],
            [
             0.4444444444444444,
             "#bd3786"
            ],
            [
             0.5555555555555556,
             "#d8576b"
            ],
            [
             0.6666666666666666,
             "#ed7953"
            ],
            [
             0.7777777777777778,
             "#fb9f3a"
            ],
            [
             0.8888888888888888,
             "#fdca26"
            ],
            [
             1,
             "#f0f921"
            ]
           ],
           "sequentialminus": [
            [
             0,
             "#0d0887"
            ],
            [
             0.1111111111111111,
             "#46039f"
            ],
            [
             0.2222222222222222,
             "#7201a8"
            ],
            [
             0.3333333333333333,
             "#9c179e"
            ],
            [
             0.4444444444444444,
             "#bd3786"
            ],
            [
             0.5555555555555556,
             "#d8576b"
            ],
            [
             0.6666666666666666,
             "#ed7953"
            ],
            [
             0.7777777777777778,
             "#fb9f3a"
            ],
            [
             0.8888888888888888,
             "#fdca26"
            ],
            [
             1,
             "#f0f921"
            ]
           ]
          },
          "colorway": [
           "#636efa",
           "#EF553B",
           "#00cc96",
           "#ab63fa",
           "#FFA15A",
           "#19d3f3",
           "#FF6692",
           "#B6E880",
           "#FF97FF",
           "#FECB52"
          ],
          "font": {
           "color": "#2a3f5f"
          },
          "geo": {
           "bgcolor": "white",
           "lakecolor": "white",
           "landcolor": "#E5ECF6",
           "showlakes": true,
           "showland": true,
           "subunitcolor": "white"
          },
          "hoverlabel": {
           "align": "left"
          },
          "hovermode": "closest",
          "mapbox": {
           "style": "light"
          },
          "paper_bgcolor": "white",
          "plot_bgcolor": "#E5ECF6",
          "polar": {
           "angularaxis": {
            "gridcolor": "white",
            "linecolor": "white",
            "ticks": ""
           },
           "bgcolor": "#E5ECF6",
           "radialaxis": {
            "gridcolor": "white",
            "linecolor": "white",
            "ticks": ""
           }
          },
          "scene": {
           "xaxis": {
            "backgroundcolor": "#E5ECF6",
            "gridcolor": "white",
            "gridwidth": 2,
            "linecolor": "white",
            "showbackground": true,
            "ticks": "",
            "zerolinecolor": "white"
           },
           "yaxis": {
            "backgroundcolor": "#E5ECF6",
            "gridcolor": "white",
            "gridwidth": 2,
            "linecolor": "white",
            "showbackground": true,
            "ticks": "",
            "zerolinecolor": "white"
           },
           "zaxis": {
            "backgroundcolor": "#E5ECF6",
            "gridcolor": "white",
            "gridwidth": 2,
            "linecolor": "white",
            "showbackground": true,
            "ticks": "",
            "zerolinecolor": "white"
           }
          },
          "shapedefaults": {
           "line": {
            "color": "#2a3f5f"
           }
          },
          "ternary": {
           "aaxis": {
            "gridcolor": "white",
            "linecolor": "white",
            "ticks": ""
           },
           "baxis": {
            "gridcolor": "white",
            "linecolor": "white",
            "ticks": ""
           },
           "bgcolor": "#E5ECF6",
           "caxis": {
            "gridcolor": "white",
            "linecolor": "white",
            "ticks": ""
           }
          },
          "title": {
           "x": 0.05
          },
          "xaxis": {
           "automargin": true,
           "gridcolor": "white",
           "linecolor": "white",
           "ticks": "",
           "title": {
            "standoff": 15
           },
           "zerolinecolor": "white",
           "zerolinewidth": 2
          },
          "yaxis": {
           "automargin": true,
           "gridcolor": "white",
           "linecolor": "white",
           "ticks": "",
           "title": {
            "standoff": 15
           },
           "zerolinecolor": "white",
           "zerolinewidth": 2
          }
         }
        },
        "title": {
         "text": "Spread in China over time"
        },
        "updatemenus": [
         {
          "buttons": [
           {
            "args": [
             null,
             {
              "frame": {
               "duration": 500,
               "redraw": true
              },
              "fromcurrent": true,
              "mode": "immediate",
              "transition": {
               "duration": 500,
               "easing": "linear"
              }
             }
            ],
            "label": "&#9654;",
            "method": "animate"
           },
           {
            "args": [
             [
              null
             ],
             {
              "frame": {
               "duration": 0,
               "redraw": true
              },
              "fromcurrent": true,
              "mode": "immediate",
              "transition": {
               "duration": 0,
               "easing": "linear"
              }
             }
            ],
            "label": "&#9724;",
            "method": "animate"
           }
          ],
          "direction": "left",
          "pad": {
           "r": 10,
           "t": 70
          },
          "showactive": false,
          "type": "buttons",
          "x": 0.1,
          "xanchor": "right",
          "y": 0,
          "yanchor": "top"
         }
        ]
       }
      },
      "text/html": [
       "<div>\n",
       "        \n",
       "        \n",
       "            <div id=\"8b861663-7a88-40de-a2ae-82d6277ab449\" class=\"plotly-graph-div\" style=\"height:525px; width:100%;\"></div>\n",
       "            <script type=\"text/javascript\">\n",
       "                require([\"plotly\"], function(Plotly) {\n",
       "                    window.PLOTLYENV=window.PLOTLYENV || {};\n",
       "                    \n",
       "                if (document.getElementById(\"8b861663-7a88-40de-a2ae-82d6277ab449\")) {\n",
       "                    Plotly.newPlot(\n",
       "                        '8b861663-7a88-40de-a2ae-82d6277ab449',\n",
       "                        [{\"customdata\": [[1, 0, 0], [14, 0, 0], [6, 0, 0], [1, 0, 0], [0, 0, 0], [26, 0, 0], [2, 0, 0], [1, 0, 0], [4, 0, 0], [1, 0, 0], [0, 0, 0], [5, 0, 0], [444, 17, 28], [4, 0, 0], [0, 0, 0], [1, 0, 0], [2, 0, 0], [0, 0, 0], [2, 0, 0], [1, 0, 0], [0, 0, 0], [0, 0, 0], [2, 0, 0], [9, 0, 0], [1, 0, 0], [5, 0, 0], [4, 0, 0], [0, 0, 0], [0, 0, 0], [1, 0, 0], [10, 0, 0]], \"geo\": \"geo\", \"hoverlabel\": {\"namelength\": 0}, \"hovertemplate\": \"<b>%{hovertext}</b><br><br>Date=01/22/2020<br>size=%{marker.color}<br>Confirmed=%{customdata[0]}<br>Deaths=%{customdata[1]}<br>Recovered=%{customdata[2]}<br>Lat=%{lat}<br>Long=%{lon}\", \"hovertext\": [\"Anhui\", \"Beijing\", \"Chongqing\", \"Fujian\", \"Gansu\", \"Guangdong\", \"Guangxi\", \"Guizhou\", \"Hainan\", \"Hebei\", \"Heilongjiang\", \"Henan\", \"Hubei\", \"Hunan\", \"Inner Mongolia\", \"Jiangsu\", \"Jiangxi\", \"Jilin\", \"Liaoning\", \"Ningxia\", \"Qinghai\", \"Shaanxi\", \"Shandong\", \"Shanghai\", \"Shanxi\", \"Sichuan\", \"Tianjin\", \"Tibet\", \"Xinjiang\", \"Yunnan\", \"Zhejiang\"], \"lat\": [31.825709999999997, 40.18238, 30.05718, 26.07783, 36.0611, 23.33841, 23.829079999999998, 26.81536, 19.19673, 38.0428, 47.861999999999995, 33.882020000000004, 30.975640000000002, 27.610409999999998, 44.09448, 32.97027, 27.614009999999997, 43.66657, 41.292840000000005, 37.26923, 35.65945, 35.19165, 36.34377, 31.20327, 37.577690000000004, 30.617140000000003, 39.293620000000004, 30.1534, 41.11981, 24.97411, 29.182509999999997], \"legendgroup\": \"\", \"lon\": [117.2264, 116.4142, 107.874, 117.9895, 103.8343, 113.42200000000001, 108.7881, 106.8748, 109.7455, 114.5149, 127.7622, 113.61399999999999, 112.2707, 111.7088, 113.9456, 119.464, 115.7221, 126.1917, 122.6086, 106.1655, 96.02564, 108.8701, 118.1529, 121.4554, 112.2922, 102.7103, 117.333, 88.7879, 85.17822, 101.4868, 120.0985], \"marker\": {\"color\": [1.0, 3.7416573867739413, 2.449489742783178, 1.0, 0.0, 5.0990195135927845, 1.4142135623730951, 1.0, 2.0, 1.0, 0.0, 2.23606797749979, 21.071307505705477, 2.0, 0.0, 1.0, 1.4142135623730951, 0.0, 1.4142135623730951, 1.0, 0.0, 0.0, 1.4142135623730951, 3.0, 1.0, 2.23606797749979, 2.0, 0.0, 0.0, 1.0, 3.1622776601683795], \"coloraxis\": \"coloraxis\", \"size\": [1.0, 3.7416573867739413, 2.449489742783178, 1.0, 0.0, 5.0990195135927845, 1.4142135623730951, 1.0, 2.0, 1.0, 0.0, 2.23606797749979, 21.071307505705477, 2.0, 0.0, 1.0, 1.4142135623730951, 0.0, 1.4142135623730951, 1.0, 0.0, 0.0, 1.4142135623730951, 3.0, 1.0, 2.23606797749979, 2.0, 0.0, 0.0, 1.0, 3.1622776601683795], \"sizemode\": \"area\", \"sizeref\": 0.622650584196305}, \"name\": \"\", \"showlegend\": false, \"type\": \"scattergeo\"}],\n",
       "                        {\"coloraxis\": {\"colorbar\": {\"title\": {\"text\": \"size\"}}, \"colorscale\": [[0.0, \"#0d0887\"], [0.1111111111111111, \"#46039f\"], [0.2222222222222222, \"#7201a8\"], [0.3333333333333333, \"#9c179e\"], [0.4444444444444444, \"#bd3786\"], [0.5555555555555556, \"#d8576b\"], [0.6666666666666666, \"#ed7953\"], [0.7777777777777778, \"#fb9f3a\"], [0.8888888888888888, \"#fdca26\"], [1.0, \"#f0f921\"]], \"showscale\": false}, \"geo\": {\"center\": {}, \"domain\": {\"x\": [0.0, 1.0], \"y\": [0.0, 1.0]}, \"projection\": {\"type\": \"natural earth\"}, \"scope\": \"asia\"}, \"legend\": {\"itemsizing\": \"constant\", \"tracegroupgap\": 0}, \"sliders\": [{\"active\": 0, \"currentvalue\": {\"prefix\": \"Date=\"}, \"len\": 0.9, \"pad\": {\"b\": 10, \"t\": 60}, \"steps\": [{\"args\": [[\"01/22/2020\"], {\"frame\": {\"duration\": 0, \"redraw\": true}, \"fromcurrent\": true, \"mode\": \"immediate\", \"transition\": {\"duration\": 0, \"easing\": \"linear\"}}], \"label\": \"01/22/2020\", \"method\": \"animate\"}, {\"args\": [[\"01/23/2020\"], {\"frame\": {\"duration\": 0, \"redraw\": true}, \"fromcurrent\": true, \"mode\": \"immediate\", \"transition\": {\"duration\": 0, \"easing\": \"linear\"}}], \"label\": \"01/23/2020\", \"method\": \"animate\"}, {\"args\": [[\"01/24/2020\"], {\"frame\": {\"duration\": 0, \"redraw\": true}, \"fromcurrent\": true, \"mode\": \"immediate\", \"transition\": {\"duration\": 0, \"easing\": \"linear\"}}], \"label\": \"01/24/2020\", \"method\": \"animate\"}, {\"args\": [[\"01/25/2020\"], {\"frame\": {\"duration\": 0, \"redraw\": true}, \"fromcurrent\": true, \"mode\": \"immediate\", \"transition\": {\"duration\": 0, \"easing\": \"linear\"}}], \"label\": \"01/25/2020\", \"method\": \"animate\"}, {\"args\": [[\"01/26/2020\"], {\"frame\": {\"duration\": 0, \"redraw\": true}, \"fromcurrent\": true, \"mode\": \"immediate\", \"transition\": {\"duration\": 0, \"easing\": \"linear\"}}], \"label\": \"01/26/2020\", \"method\": \"animate\"}, {\"args\": [[\"01/27/2020\"], {\"frame\": {\"duration\": 0, \"redraw\": true}, \"fromcurrent\": true, \"mode\": \"immediate\", \"transition\": {\"duration\": 0, \"easing\": \"linear\"}}], \"label\": \"01/27/2020\", \"method\": \"animate\"}, {\"args\": [[\"01/28/2020\"], {\"frame\": {\"duration\": 0, \"redraw\": true}, \"fromcurrent\": true, \"mode\": \"immediate\", \"transition\": {\"duration\": 0, \"easing\": \"linear\"}}], \"label\": \"01/28/2020\", \"method\": \"animate\"}, {\"args\": [[\"01/29/2020\"], {\"frame\": {\"duration\": 0, \"redraw\": true}, \"fromcurrent\": true, \"mode\": \"immediate\", \"transition\": {\"duration\": 0, \"easing\": \"linear\"}}], \"label\": \"01/29/2020\", \"method\": \"animate\"}, {\"args\": [[\"01/30/2020\"], {\"frame\": {\"duration\": 0, \"redraw\": true}, \"fromcurrent\": true, \"mode\": \"immediate\", \"transition\": {\"duration\": 0, \"easing\": \"linear\"}}], \"label\": \"01/30/2020\", \"method\": \"animate\"}, {\"args\": [[\"01/31/2020\"], {\"frame\": {\"duration\": 0, \"redraw\": true}, \"fromcurrent\": true, \"mode\": \"immediate\", \"transition\": {\"duration\": 0, \"easing\": \"linear\"}}], \"label\": \"01/31/2020\", \"method\": \"animate\"}, {\"args\": [[\"02/01/2020\"], {\"frame\": {\"duration\": 0, \"redraw\": true}, \"fromcurrent\": true, \"mode\": \"immediate\", \"transition\": {\"duration\": 0, \"easing\": \"linear\"}}], \"label\": \"02/01/2020\", \"method\": \"animate\"}, {\"args\": [[\"02/02/2020\"], {\"frame\": {\"duration\": 0, \"redraw\": true}, \"fromcurrent\": true, \"mode\": \"immediate\", \"transition\": {\"duration\": 0, \"easing\": \"linear\"}}], \"label\": \"02/02/2020\", \"method\": \"animate\"}, {\"args\": [[\"02/03/2020\"], {\"frame\": {\"duration\": 0, \"redraw\": true}, \"fromcurrent\": true, \"mode\": \"immediate\", \"transition\": {\"duration\": 0, \"easing\": \"linear\"}}], \"label\": \"02/03/2020\", \"method\": \"animate\"}, {\"args\": [[\"02/04/2020\"], {\"frame\": {\"duration\": 0, \"redraw\": true}, \"fromcurrent\": true, \"mode\": \"immediate\", \"transition\": {\"duration\": 0, \"easing\": \"linear\"}}], \"label\": \"02/04/2020\", \"method\": \"animate\"}, {\"args\": [[\"02/05/2020\"], {\"frame\": {\"duration\": 0, \"redraw\": true}, \"fromcurrent\": true, \"mode\": \"immediate\", \"transition\": {\"duration\": 0, \"easing\": \"linear\"}}], \"label\": \"02/05/2020\", \"method\": \"animate\"}, {\"args\": [[\"02/06/2020\"], {\"frame\": {\"duration\": 0, \"redraw\": true}, \"fromcurrent\": true, \"mode\": \"immediate\", \"transition\": {\"duration\": 0, \"easing\": \"linear\"}}], \"label\": \"02/06/2020\", \"method\": \"animate\"}, {\"args\": [[\"02/07/2020\"], {\"frame\": {\"duration\": 0, \"redraw\": true}, \"fromcurrent\": true, \"mode\": \"immediate\", \"transition\": {\"duration\": 0, \"easing\": \"linear\"}}], \"label\": \"02/07/2020\", \"method\": \"animate\"}, {\"args\": [[\"02/08/2020\"], {\"frame\": {\"duration\": 0, \"redraw\": true}, \"fromcurrent\": true, \"mode\": \"immediate\", \"transition\": {\"duration\": 0, \"easing\": \"linear\"}}], \"label\": \"02/08/2020\", \"method\": \"animate\"}, {\"args\": [[\"02/09/2020\"], {\"frame\": {\"duration\": 0, \"redraw\": true}, \"fromcurrent\": true, \"mode\": \"immediate\", \"transition\": {\"duration\": 0, \"easing\": \"linear\"}}], \"label\": \"02/09/2020\", \"method\": \"animate\"}, {\"args\": [[\"02/10/2020\"], {\"frame\": {\"duration\": 0, \"redraw\": true}, \"fromcurrent\": true, \"mode\": \"immediate\", \"transition\": {\"duration\": 0, \"easing\": \"linear\"}}], \"label\": \"02/10/2020\", \"method\": \"animate\"}, {\"args\": [[\"02/11/2020\"], {\"frame\": {\"duration\": 0, \"redraw\": true}, \"fromcurrent\": true, \"mode\": \"immediate\", \"transition\": {\"duration\": 0, \"easing\": \"linear\"}}], \"label\": \"02/11/2020\", \"method\": \"animate\"}, {\"args\": [[\"02/12/2020\"], {\"frame\": {\"duration\": 0, \"redraw\": true}, \"fromcurrent\": true, \"mode\": \"immediate\", \"transition\": {\"duration\": 0, \"easing\": \"linear\"}}], \"label\": \"02/12/2020\", \"method\": \"animate\"}, {\"args\": [[\"02/13/2020\"], {\"frame\": {\"duration\": 0, \"redraw\": true}, \"fromcurrent\": true, \"mode\": \"immediate\", \"transition\": {\"duration\": 0, \"easing\": \"linear\"}}], \"label\": \"02/13/2020\", \"method\": \"animate\"}, {\"args\": [[\"02/14/2020\"], {\"frame\": {\"duration\": 0, \"redraw\": true}, \"fromcurrent\": true, \"mode\": \"immediate\", \"transition\": {\"duration\": 0, \"easing\": \"linear\"}}], \"label\": \"02/14/2020\", \"method\": \"animate\"}, {\"args\": [[\"02/15/2020\"], {\"frame\": {\"duration\": 0, \"redraw\": true}, \"fromcurrent\": true, \"mode\": \"immediate\", \"transition\": {\"duration\": 0, \"easing\": \"linear\"}}], \"label\": \"02/15/2020\", \"method\": \"animate\"}, {\"args\": [[\"02/16/2020\"], {\"frame\": {\"duration\": 0, \"redraw\": true}, \"fromcurrent\": true, \"mode\": \"immediate\", \"transition\": {\"duration\": 0, \"easing\": \"linear\"}}], \"label\": \"02/16/2020\", \"method\": \"animate\"}, {\"args\": [[\"02/17/2020\"], {\"frame\": {\"duration\": 0, \"redraw\": true}, \"fromcurrent\": true, \"mode\": \"immediate\", \"transition\": {\"duration\": 0, \"easing\": \"linear\"}}], \"label\": \"02/17/2020\", \"method\": \"animate\"}, {\"args\": [[\"02/18/2020\"], {\"frame\": {\"duration\": 0, \"redraw\": true}, \"fromcurrent\": true, \"mode\": \"immediate\", \"transition\": {\"duration\": 0, \"easing\": \"linear\"}}], \"label\": \"02/18/2020\", \"method\": \"animate\"}, {\"args\": [[\"02/19/2020\"], {\"frame\": {\"duration\": 0, \"redraw\": true}, \"fromcurrent\": true, \"mode\": \"immediate\", \"transition\": {\"duration\": 0, \"easing\": \"linear\"}}], \"label\": \"02/19/2020\", \"method\": \"animate\"}], \"x\": 0.1, \"xanchor\": \"left\", \"y\": 0, \"yanchor\": \"top\"}], \"template\": {\"data\": {\"bar\": [{\"error_x\": {\"color\": \"#2a3f5f\"}, \"error_y\": {\"color\": \"#2a3f5f\"}, \"marker\": {\"line\": {\"color\": \"#E5ECF6\", \"width\": 0.5}}, \"type\": \"bar\"}], \"barpolar\": [{\"marker\": {\"line\": {\"color\": \"#E5ECF6\", \"width\": 0.5}}, \"type\": \"barpolar\"}], \"carpet\": [{\"aaxis\": {\"endlinecolor\": \"#2a3f5f\", \"gridcolor\": \"white\", \"linecolor\": \"white\", \"minorgridcolor\": \"white\", \"startlinecolor\": \"#2a3f5f\"}, \"baxis\": {\"endlinecolor\": \"#2a3f5f\", \"gridcolor\": \"white\", \"linecolor\": \"white\", \"minorgridcolor\": \"white\", \"startlinecolor\": \"#2a3f5f\"}, \"type\": \"carpet\"}], \"choropleth\": [{\"colorbar\": {\"outlinewidth\": 0, \"ticks\": \"\"}, \"type\": \"choropleth\"}], \"contour\": [{\"colorbar\": {\"outlinewidth\": 0, \"ticks\": \"\"}, \"colorscale\": [[0.0, \"#0d0887\"], [0.1111111111111111, \"#46039f\"], [0.2222222222222222, \"#7201a8\"], [0.3333333333333333, \"#9c179e\"], [0.4444444444444444, \"#bd3786\"], [0.5555555555555556, \"#d8576b\"], [0.6666666666666666, \"#ed7953\"], [0.7777777777777778, \"#fb9f3a\"], [0.8888888888888888, \"#fdca26\"], [1.0, \"#f0f921\"]], \"type\": \"contour\"}], \"contourcarpet\": [{\"colorbar\": {\"outlinewidth\": 0, \"ticks\": \"\"}, \"type\": \"contourcarpet\"}], \"heatmap\": [{\"colorbar\": {\"outlinewidth\": 0, \"ticks\": \"\"}, \"colorscale\": [[0.0, \"#0d0887\"], [0.1111111111111111, \"#46039f\"], [0.2222222222222222, \"#7201a8\"], [0.3333333333333333, \"#9c179e\"], [0.4444444444444444, \"#bd3786\"], [0.5555555555555556, \"#d8576b\"], [0.6666666666666666, \"#ed7953\"], [0.7777777777777778, \"#fb9f3a\"], [0.8888888888888888, \"#fdca26\"], [1.0, \"#f0f921\"]], \"type\": \"heatmap\"}], \"heatmapgl\": [{\"colorbar\": {\"outlinewidth\": 0, \"ticks\": \"\"}, \"colorscale\": [[0.0, \"#0d0887\"], [0.1111111111111111, \"#46039f\"], [0.2222222222222222, \"#7201a8\"], [0.3333333333333333, \"#9c179e\"], [0.4444444444444444, \"#bd3786\"], [0.5555555555555556, \"#d8576b\"], [0.6666666666666666, \"#ed7953\"], [0.7777777777777778, \"#fb9f3a\"], [0.8888888888888888, \"#fdca26\"], [1.0, \"#f0f921\"]], \"type\": \"heatmapgl\"}], \"histogram\": [{\"marker\": {\"colorbar\": {\"outlinewidth\": 0, \"ticks\": \"\"}}, \"type\": \"histogram\"}], \"histogram2d\": [{\"colorbar\": {\"outlinewidth\": 0, \"ticks\": \"\"}, \"colorscale\": [[0.0, \"#0d0887\"], [0.1111111111111111, \"#46039f\"], [0.2222222222222222, \"#7201a8\"], [0.3333333333333333, \"#9c179e\"], [0.4444444444444444, \"#bd3786\"], [0.5555555555555556, \"#d8576b\"], [0.6666666666666666, \"#ed7953\"], [0.7777777777777778, \"#fb9f3a\"], [0.8888888888888888, \"#fdca26\"], [1.0, \"#f0f921\"]], \"type\": \"histogram2d\"}], \"histogram2dcontour\": [{\"colorbar\": {\"outlinewidth\": 0, \"ticks\": \"\"}, \"colorscale\": [[0.0, \"#0d0887\"], [0.1111111111111111, \"#46039f\"], [0.2222222222222222, \"#7201a8\"], [0.3333333333333333, \"#9c179e\"], [0.4444444444444444, \"#bd3786\"], [0.5555555555555556, \"#d8576b\"], [0.6666666666666666, \"#ed7953\"], [0.7777777777777778, \"#fb9f3a\"], [0.8888888888888888, \"#fdca26\"], [1.0, \"#f0f921\"]], \"type\": \"histogram2dcontour\"}], \"mesh3d\": [{\"colorbar\": {\"outlinewidth\": 0, \"ticks\": \"\"}, \"type\": \"mesh3d\"}], \"parcoords\": [{\"line\": {\"colorbar\": {\"outlinewidth\": 0, \"ticks\": \"\"}}, \"type\": \"parcoords\"}], \"pie\": [{\"automargin\": true, \"type\": \"pie\"}], \"scatter\": [{\"marker\": {\"colorbar\": {\"outlinewidth\": 0, \"ticks\": \"\"}}, \"type\": \"scatter\"}], \"scatter3d\": [{\"line\": {\"colorbar\": {\"outlinewidth\": 0, \"ticks\": \"\"}}, \"marker\": {\"colorbar\": {\"outlinewidth\": 0, \"ticks\": \"\"}}, \"type\": \"scatter3d\"}], \"scattercarpet\": [{\"marker\": {\"colorbar\": {\"outlinewidth\": 0, \"ticks\": \"\"}}, \"type\": \"scattercarpet\"}], \"scattergeo\": [{\"marker\": {\"colorbar\": {\"outlinewidth\": 0, \"ticks\": \"\"}}, \"type\": \"scattergeo\"}], \"scattergl\": [{\"marker\": {\"colorbar\": {\"outlinewidth\": 0, \"ticks\": \"\"}}, \"type\": \"scattergl\"}], \"scattermapbox\": [{\"marker\": {\"colorbar\": {\"outlinewidth\": 0, \"ticks\": \"\"}}, \"type\": \"scattermapbox\"}], \"scatterpolar\": [{\"marker\": {\"colorbar\": {\"outlinewidth\": 0, \"ticks\": \"\"}}, \"type\": \"scatterpolar\"}], \"scatterpolargl\": [{\"marker\": {\"colorbar\": {\"outlinewidth\": 0, \"ticks\": \"\"}}, \"type\": \"scatterpolargl\"}], \"scatterternary\": [{\"marker\": {\"colorbar\": {\"outlinewidth\": 0, \"ticks\": \"\"}}, \"type\": \"scatterternary\"}], \"surface\": [{\"colorbar\": {\"outlinewidth\": 0, \"ticks\": \"\"}, \"colorscale\": [[0.0, \"#0d0887\"], [0.1111111111111111, \"#46039f\"], [0.2222222222222222, \"#7201a8\"], [0.3333333333333333, \"#9c179e\"], [0.4444444444444444, \"#bd3786\"], [0.5555555555555556, \"#d8576b\"], [0.6666666666666666, \"#ed7953\"], [0.7777777777777778, \"#fb9f3a\"], [0.8888888888888888, \"#fdca26\"], [1.0, \"#f0f921\"]], \"type\": \"surface\"}], \"table\": [{\"cells\": {\"fill\": {\"color\": \"#EBF0F8\"}, \"line\": {\"color\": \"white\"}}, \"header\": {\"fill\": {\"color\": \"#C8D4E3\"}, \"line\": {\"color\": \"white\"}}, \"type\": \"table\"}]}, \"layout\": {\"annotationdefaults\": {\"arrowcolor\": \"#2a3f5f\", \"arrowhead\": 0, \"arrowwidth\": 1}, \"coloraxis\": {\"colorbar\": {\"outlinewidth\": 0, \"ticks\": \"\"}}, \"colorscale\": {\"diverging\": [[0, \"#8e0152\"], [0.1, \"#c51b7d\"], [0.2, \"#de77ae\"], [0.3, \"#f1b6da\"], [0.4, \"#fde0ef\"], [0.5, \"#f7f7f7\"], [0.6, \"#e6f5d0\"], [0.7, \"#b8e186\"], [0.8, \"#7fbc41\"], [0.9, \"#4d9221\"], [1, \"#276419\"]], \"sequential\": [[0.0, \"#0d0887\"], [0.1111111111111111, \"#46039f\"], [0.2222222222222222, \"#7201a8\"], [0.3333333333333333, \"#9c179e\"], [0.4444444444444444, \"#bd3786\"], [0.5555555555555556, \"#d8576b\"], [0.6666666666666666, \"#ed7953\"], [0.7777777777777778, \"#fb9f3a\"], [0.8888888888888888, \"#fdca26\"], [1.0, \"#f0f921\"]], \"sequentialminus\": [[0.0, \"#0d0887\"], [0.1111111111111111, \"#46039f\"], [0.2222222222222222, \"#7201a8\"], [0.3333333333333333, \"#9c179e\"], [0.4444444444444444, \"#bd3786\"], [0.5555555555555556, \"#d8576b\"], [0.6666666666666666, \"#ed7953\"], [0.7777777777777778, \"#fb9f3a\"], [0.8888888888888888, \"#fdca26\"], [1.0, \"#f0f921\"]]}, \"colorway\": [\"#636efa\", \"#EF553B\", \"#00cc96\", \"#ab63fa\", \"#FFA15A\", \"#19d3f3\", \"#FF6692\", \"#B6E880\", \"#FF97FF\", \"#FECB52\"], \"font\": {\"color\": \"#2a3f5f\"}, \"geo\": {\"bgcolor\": \"white\", \"lakecolor\": \"white\", \"landcolor\": \"#E5ECF6\", \"showlakes\": true, \"showland\": true, \"subunitcolor\": \"white\"}, \"hoverlabel\": {\"align\": \"left\"}, \"hovermode\": \"closest\", \"mapbox\": {\"style\": \"light\"}, \"paper_bgcolor\": \"white\", \"plot_bgcolor\": \"#E5ECF6\", \"polar\": {\"angularaxis\": {\"gridcolor\": \"white\", \"linecolor\": \"white\", \"ticks\": \"\"}, \"bgcolor\": \"#E5ECF6\", \"radialaxis\": {\"gridcolor\": \"white\", \"linecolor\": \"white\", \"ticks\": \"\"}}, \"scene\": {\"xaxis\": {\"backgroundcolor\": \"#E5ECF6\", \"gridcolor\": \"white\", \"gridwidth\": 2, \"linecolor\": \"white\", \"showbackground\": true, \"ticks\": \"\", \"zerolinecolor\": \"white\"}, \"yaxis\": {\"backgroundcolor\": \"#E5ECF6\", \"gridcolor\": \"white\", \"gridwidth\": 2, \"linecolor\": \"white\", \"showbackground\": true, \"ticks\": \"\", \"zerolinecolor\": \"white\"}, \"zaxis\": {\"backgroundcolor\": \"#E5ECF6\", \"gridcolor\": \"white\", \"gridwidth\": 2, \"linecolor\": \"white\", \"showbackground\": true, \"ticks\": \"\", \"zerolinecolor\": \"white\"}}, \"shapedefaults\": {\"line\": {\"color\": \"#2a3f5f\"}}, \"ternary\": {\"aaxis\": {\"gridcolor\": \"white\", \"linecolor\": \"white\", \"ticks\": \"\"}, \"baxis\": {\"gridcolor\": \"white\", \"linecolor\": \"white\", \"ticks\": \"\"}, \"bgcolor\": \"#E5ECF6\", \"caxis\": {\"gridcolor\": \"white\", \"linecolor\": \"white\", \"ticks\": \"\"}}, \"title\": {\"x\": 0.05}, \"xaxis\": {\"automargin\": true, \"gridcolor\": \"white\", \"linecolor\": \"white\", \"ticks\": \"\", \"title\": {\"standoff\": 15}, \"zerolinecolor\": \"white\", \"zerolinewidth\": 2}, \"yaxis\": {\"automargin\": true, \"gridcolor\": \"white\", \"linecolor\": \"white\", \"ticks\": \"\", \"title\": {\"standoff\": 15}, \"zerolinecolor\": \"white\", \"zerolinewidth\": 2}}}, \"title\": {\"text\": \"Spread in China over time\"}, \"updatemenus\": [{\"buttons\": [{\"args\": [null, {\"frame\": {\"duration\": 500, \"redraw\": true}, \"fromcurrent\": true, \"mode\": \"immediate\", \"transition\": {\"duration\": 500, \"easing\": \"linear\"}}], \"label\": \"&#9654;\", \"method\": \"animate\"}, {\"args\": [[null], {\"frame\": {\"duration\": 0, \"redraw\": true}, \"fromcurrent\": true, \"mode\": \"immediate\", \"transition\": {\"duration\": 0, \"easing\": \"linear\"}}], \"label\": \"&#9724;\", \"method\": \"animate\"}], \"direction\": \"left\", \"pad\": {\"r\": 10, \"t\": 70}, \"showactive\": false, \"type\": \"buttons\", \"x\": 0.1, \"xanchor\": \"right\", \"y\": 0, \"yanchor\": \"top\"}]},\n",
       "                        {\"responsive\": true}\n",
       "                    ).then(function(){\n",
       "                            Plotly.addFrames('8b861663-7a88-40de-a2ae-82d6277ab449', [{\"data\": [{\"customdata\": [[1, 0, 0], [14, 0, 0], [6, 0, 0], [1, 0, 0], [0, 0, 0], [26, 0, 0], [2, 0, 0], [1, 0, 0], [4, 0, 0], [1, 0, 0], [0, 0, 0], [5, 0, 0], [444, 17, 28], [4, 0, 0], [0, 0, 0], [1, 0, 0], [2, 0, 0], [0, 0, 0], [2, 0, 0], [1, 0, 0], [0, 0, 0], [0, 0, 0], [2, 0, 0], [9, 0, 0], [1, 0, 0], [5, 0, 0], [4, 0, 0], [0, 0, 0], [0, 0, 0], [1, 0, 0], [10, 0, 0]], \"geo\": \"geo\", \"hoverlabel\": {\"namelength\": 0}, \"hovertemplate\": \"<b>%{hovertext}</b><br><br>Date=01/22/2020<br>size=%{marker.color}<br>Confirmed=%{customdata[0]}<br>Deaths=%{customdata[1]}<br>Recovered=%{customdata[2]}<br>Lat=%{lat}<br>Long=%{lon}\", \"hovertext\": [\"Anhui\", \"Beijing\", \"Chongqing\", \"Fujian\", \"Gansu\", \"Guangdong\", \"Guangxi\", \"Guizhou\", \"Hainan\", \"Hebei\", \"Heilongjiang\", \"Henan\", \"Hubei\", \"Hunan\", \"Inner Mongolia\", \"Jiangsu\", \"Jiangxi\", \"Jilin\", \"Liaoning\", \"Ningxia\", \"Qinghai\", \"Shaanxi\", \"Shandong\", \"Shanghai\", \"Shanxi\", \"Sichuan\", \"Tianjin\", \"Tibet\", \"Xinjiang\", \"Yunnan\", \"Zhejiang\"], \"lat\": [31.825709999999997, 40.18238, 30.05718, 26.07783, 36.0611, 23.33841, 23.829079999999998, 26.81536, 19.19673, 38.0428, 47.861999999999995, 33.882020000000004, 30.975640000000002, 27.610409999999998, 44.09448, 32.97027, 27.614009999999997, 43.66657, 41.292840000000005, 37.26923, 35.65945, 35.19165, 36.34377, 31.20327, 37.577690000000004, 30.617140000000003, 39.293620000000004, 30.1534, 41.11981, 24.97411, 29.182509999999997], \"legendgroup\": \"\", \"lon\": [117.2264, 116.4142, 107.874, 117.9895, 103.8343, 113.42200000000001, 108.7881, 106.8748, 109.7455, 114.5149, 127.7622, 113.61399999999999, 112.2707, 111.7088, 113.9456, 119.464, 115.7221, 126.1917, 122.6086, 106.1655, 96.02564, 108.8701, 118.1529, 121.4554, 112.2922, 102.7103, 117.333, 88.7879, 85.17822, 101.4868, 120.0985], \"marker\": {\"color\": [1.0, 3.7416573867739413, 2.449489742783178, 1.0, 0.0, 5.0990195135927845, 1.4142135623730951, 1.0, 2.0, 1.0, 0.0, 2.23606797749979, 21.071307505705477, 2.0, 0.0, 1.0, 1.4142135623730951, 0.0, 1.4142135623730951, 1.0, 0.0, 0.0, 1.4142135623730951, 3.0, 1.0, 2.23606797749979, 2.0, 0.0, 0.0, 1.0, 3.1622776601683795], \"coloraxis\": \"coloraxis\", \"size\": [1.0, 3.7416573867739413, 2.449489742783178, 1.0, 0.0, 5.0990195135927845, 1.4142135623730951, 1.0, 2.0, 1.0, 0.0, 2.23606797749979, 21.071307505705477, 2.0, 0.0, 1.0, 1.4142135623730951, 0.0, 1.4142135623730951, 1.0, 0.0, 0.0, 1.4142135623730951, 3.0, 1.0, 2.23606797749979, 2.0, 0.0, 0.0, 1.0, 3.1622776601683795], \"sizemode\": \"area\", \"sizeref\": 0.622650584196305}, \"name\": \"\", \"showlegend\": false, \"type\": \"scattergeo\"}], \"name\": \"01/22/2020\"}, {\"data\": [{\"customdata\": [[9, 0, 0], [22, 0, 0], [9, 0, 0], [5, 0, 0], [2, 0, 0], [32, 0, 2], [5, 0, 0], [3, 0, 0], [5, 0, 0], [1, 1, 0], [2, 0, 0], [5, 0, 0], [444, 17, 28], [9, 0, 0], [0, 0, 0], [5, 0, 0], [7, 0, 0], [1, 0, 0], [3, 0, 0], [1, 0, 0], [0, 0, 0], [3, 0, 0], [6, 0, 0], [16, 0, 0], [1, 0, 0], [8, 0, 0], [4, 0, 0], [0, 0, 0], [2, 0, 0], [2, 0, 0], [27, 0, 0]], \"geo\": \"geo\", \"hoverlabel\": {\"namelength\": 0}, \"hovertemplate\": \"<b>%{hovertext}</b><br><br>Date=01/23/2020<br>size=%{marker.color}<br>Confirmed=%{customdata[0]}<br>Deaths=%{customdata[1]}<br>Recovered=%{customdata[2]}<br>Lat=%{lat}<br>Long=%{lon}\", \"hovertext\": [\"Anhui\", \"Beijing\", \"Chongqing\", \"Fujian\", \"Gansu\", \"Guangdong\", \"Guangxi\", \"Guizhou\", \"Hainan\", \"Hebei\", \"Heilongjiang\", \"Henan\", \"Hubei\", \"Hunan\", \"Inner Mongolia\", \"Jiangsu\", \"Jiangxi\", \"Jilin\", \"Liaoning\", \"Ningxia\", \"Qinghai\", \"Shaanxi\", \"Shandong\", \"Shanghai\", \"Shanxi\", \"Sichuan\", \"Tianjin\", \"Tibet\", \"Xinjiang\", \"Yunnan\", \"Zhejiang\"], \"lat\": [31.825709999999997, 40.18238, 30.05718, 26.07783, 36.0611, 23.33841, 23.829079999999998, 26.81536, 19.19673, 38.0428, 47.861999999999995, 33.882020000000004, 30.975640000000002, 27.610409999999998, 44.09448, 32.97027, 27.614009999999997, 43.66657, 41.292840000000005, 37.26923, 35.65945, 35.19165, 36.34377, 31.20327, 37.577690000000004, 30.617140000000003, 39.293620000000004, 30.1534, 41.11981, 24.97411, 29.182509999999997], \"legendgroup\": \"\", \"lon\": [117.2264, 116.4142, 107.874, 117.9895, 103.8343, 113.42200000000001, 108.7881, 106.8748, 109.7455, 114.5149, 127.7622, 113.61399999999999, 112.2707, 111.7088, 113.9456, 119.464, 115.7221, 126.1917, 122.6086, 106.1655, 96.02564, 108.8701, 118.1529, 121.4554, 112.2922, 102.7103, 117.333, 88.7879, 85.17822, 101.4868, 120.0985], \"marker\": {\"color\": [3.0, 4.69041575982343, 3.0, 2.23606797749979, 1.4142135623730951, 5.656854249492381, 2.23606797749979, 1.7320508075688772, 2.23606797749979, 1.0, 1.4142135623730951, 2.23606797749979, 21.071307505705477, 3.0, 0.0, 2.23606797749979, 2.6457513110645907, 1.0, 1.7320508075688772, 1.0, 0.0, 1.7320508075688772, 2.449489742783178, 4.0, 1.0, 2.8284271247461903, 2.0, 0.0, 1.4142135623730951, 1.4142135623730951, 5.196152422706632], \"coloraxis\": \"coloraxis\", \"size\": [3.0, 4.69041575982343, 3.0, 2.23606797749979, 1.4142135623730951, 5.656854249492381, 2.23606797749979, 1.7320508075688772, 2.23606797749979, 1.0, 1.4142135623730951, 2.23606797749979, 21.071307505705477, 3.0, 0.0, 2.23606797749979, 2.6457513110645907, 1.0, 1.7320508075688772, 1.0, 0.0, 1.7320508075688772, 2.449489742783178, 4.0, 1.0, 2.8284271247461903, 2.0, 0.0, 1.4142135623730951, 1.4142135623730951, 5.196152422706632], \"sizemode\": \"area\", \"sizeref\": 0.622650584196305}, \"name\": \"\", \"showlegend\": false, \"type\": \"scattergeo\"}], \"name\": \"01/23/2020\"}, {\"data\": [{\"customdata\": [[15, 0, 0], [36, 0, 1], [27, 0, 0], [10, 0, 0], [2, 0, 0], [53, 0, 2], [23, 0, 0], [3, 0, 0], [8, 0, 0], [2, 1, 0], [4, 1, 0], [9, 0, 0], [549, 24, 31], [24, 0, 0], [1, 0, 0], [9, 0, 0], [18, 0, 0], [3, 0, 0], [4, 0, 0], [2, 0, 0], [0, 0, 0], [5, 0, 0], [15, 0, 0], [20, 0, 1], [1, 0, 0], [15, 0, 0], [8, 0, 0], [0, 0, 0], [2, 0, 0], [5, 0, 0], [43, 0, 1]], \"geo\": \"geo\", \"hoverlabel\": {\"namelength\": 0}, \"hovertemplate\": \"<b>%{hovertext}</b><br><br>Date=01/24/2020<br>size=%{marker.color}<br>Confirmed=%{customdata[0]}<br>Deaths=%{customdata[1]}<br>Recovered=%{customdata[2]}<br>Lat=%{lat}<br>Long=%{lon}\", \"hovertext\": [\"Anhui\", \"Beijing\", \"Chongqing\", \"Fujian\", \"Gansu\", \"Guangdong\", \"Guangxi\", \"Guizhou\", \"Hainan\", \"Hebei\", \"Heilongjiang\", \"Henan\", \"Hubei\", \"Hunan\", \"Inner Mongolia\", \"Jiangsu\", \"Jiangxi\", \"Jilin\", \"Liaoning\", \"Ningxia\", \"Qinghai\", \"Shaanxi\", \"Shandong\", \"Shanghai\", \"Shanxi\", \"Sichuan\", \"Tianjin\", \"Tibet\", \"Xinjiang\", \"Yunnan\", \"Zhejiang\"], \"lat\": [31.825709999999997, 40.18238, 30.05718, 26.07783, 36.0611, 23.33841, 23.829079999999998, 26.81536, 19.19673, 38.0428, 47.861999999999995, 33.882020000000004, 30.975640000000002, 27.610409999999998, 44.09448, 32.97027, 27.614009999999997, 43.66657, 41.292840000000005, 37.26923, 35.65945, 35.19165, 36.34377, 31.20327, 37.577690000000004, 30.617140000000003, 39.293620000000004, 30.1534, 41.11981, 24.97411, 29.182509999999997], \"legendgroup\": \"\", \"lon\": [117.2264, 116.4142, 107.874, 117.9895, 103.8343, 113.42200000000001, 108.7881, 106.8748, 109.7455, 114.5149, 127.7622, 113.61399999999999, 112.2707, 111.7088, 113.9456, 119.464, 115.7221, 126.1917, 122.6086, 106.1655, 96.02564, 108.8701, 118.1529, 121.4554, 112.2922, 102.7103, 117.333, 88.7879, 85.17822, 101.4868, 120.0985], \"marker\": {\"color\": [3.872983346207417, 6.0, 5.196152422706632, 3.1622776601683795, 1.4142135623730951, 7.280109889280518, 4.795831523312719, 1.7320508075688772, 2.8284271247461903, 1.4142135623730951, 2.0, 3.0, 23.430749027719962, 4.898979485566356, 1.0, 3.0, 4.242640687119285, 1.7320508075688772, 2.0, 1.4142135623730951, 0.0, 2.23606797749979, 3.872983346207417, 4.47213595499958, 1.0, 3.872983346207417, 2.8284271247461903, 0.0, 1.4142135623730951, 2.23606797749979, 6.557438524302], \"coloraxis\": \"coloraxis\", \"size\": [3.872983346207417, 6.0, 5.196152422706632, 3.1622776601683795, 1.4142135623730951, 7.280109889280518, 4.795831523312719, 1.7320508075688772, 2.8284271247461903, 1.4142135623730951, 2.0, 3.0, 23.430749027719962, 4.898979485566356, 1.0, 3.0, 4.242640687119285, 1.7320508075688772, 2.0, 1.4142135623730951, 0.0, 2.23606797749979, 3.872983346207417, 4.47213595499958, 1.0, 3.872983346207417, 2.8284271247461903, 0.0, 1.4142135623730951, 2.23606797749979, 6.557438524302], \"sizemode\": \"area\", \"sizeref\": 0.622650584196305}, \"name\": \"\", \"showlegend\": false, \"type\": \"scattergeo\"}], \"name\": \"01/24/2020\"}, {\"data\": [{\"customdata\": [[39, 0, 0], [41, 0, 2], [57, 0, 0], [18, 0, 0], [4, 0, 0], [78, 0, 2], [23, 0, 0], [4, 0, 0], [19, 0, 0], [8, 1, 0], [9, 1, 0], [32, 0, 0], [761, 40, 32], [43, 0, 0], [7, 0, 0], [18, 0, 1], [18, 0, 0], [4, 0, 0], [17, 0, 0], [3, 0, 0], [1, 0, 0], [15, 0, 0], [27, 0, 0], [33, 0, 1], [6, 0, 0], [28, 0, 0], [10, 0, 0], [0, 0, 0], [3, 0, 0], [11, 0, 0], [62, 0, 1]], \"geo\": \"geo\", \"hoverlabel\": {\"namelength\": 0}, \"hovertemplate\": \"<b>%{hovertext}</b><br><br>Date=01/25/2020<br>size=%{marker.color}<br>Confirmed=%{customdata[0]}<br>Deaths=%{customdata[1]}<br>Recovered=%{customdata[2]}<br>Lat=%{lat}<br>Long=%{lon}\", \"hovertext\": [\"Anhui\", \"Beijing\", \"Chongqing\", \"Fujian\", \"Gansu\", \"Guangdong\", \"Guangxi\", \"Guizhou\", \"Hainan\", \"Hebei\", \"Heilongjiang\", \"Henan\", \"Hubei\", \"Hunan\", \"Inner Mongolia\", \"Jiangsu\", \"Jiangxi\", \"Jilin\", \"Liaoning\", \"Ningxia\", \"Qinghai\", \"Shaanxi\", \"Shandong\", \"Shanghai\", \"Shanxi\", \"Sichuan\", \"Tianjin\", \"Tibet\", \"Xinjiang\", \"Yunnan\", \"Zhejiang\"], \"lat\": [31.825709999999997, 40.18238, 30.05718, 26.07783, 36.0611, 23.33841, 23.829079999999998, 26.81536, 19.19673, 38.0428, 47.861999999999995, 33.882020000000004, 30.975640000000002, 27.610409999999998, 44.09448, 32.97027, 27.614009999999997, 43.66657, 41.292840000000005, 37.26923, 35.65945, 35.19165, 36.34377, 31.20327, 37.577690000000004, 30.617140000000003, 39.293620000000004, 30.1534, 41.11981, 24.97411, 29.182509999999997], \"legendgroup\": \"\", \"lon\": [117.2264, 116.4142, 107.874, 117.9895, 103.8343, 113.42200000000001, 108.7881, 106.8748, 109.7455, 114.5149, 127.7622, 113.61399999999999, 112.2707, 111.7088, 113.9456, 119.464, 115.7221, 126.1917, 122.6086, 106.1655, 96.02564, 108.8701, 118.1529, 121.4554, 112.2922, 102.7103, 117.333, 88.7879, 85.17822, 101.4868, 120.0985], \"marker\": {\"color\": [6.244997998398398, 6.4031242374328485, 7.54983443527075, 4.242640687119285, 2.0, 8.831760866327848, 4.795831523312719, 2.0, 4.358898943540674, 2.8284271247461903, 3.0, 5.656854249492381, 27.586228448267445, 6.557438524302, 2.6457513110645907, 4.242640687119285, 4.242640687119285, 2.0, 4.123105625617661, 1.7320508075688772, 1.0, 3.872983346207417, 5.196152422706632, 5.744562646538029, 2.449489742783178, 5.291502622129181, 3.1622776601683795, 0.0, 1.7320508075688772, 3.3166247903554, 7.874007874011811], \"coloraxis\": \"coloraxis\", \"size\": [6.244997998398398, 6.4031242374328485, 7.54983443527075, 4.242640687119285, 2.0, 8.831760866327848, 4.795831523312719, 2.0, 4.358898943540674, 2.8284271247461903, 3.0, 5.656854249492381, 27.586228448267445, 6.557438524302, 2.6457513110645907, 4.242640687119285, 4.242640687119285, 2.0, 4.123105625617661, 1.7320508075688772, 1.0, 3.872983346207417, 5.196152422706632, 5.744562646538029, 2.449489742783178, 5.291502622129181, 3.1622776601683795, 0.0, 1.7320508075688772, 3.3166247903554, 7.874007874011811], \"sizemode\": \"area\", \"sizeref\": 0.622650584196305}, \"name\": \"\", \"showlegend\": false, \"type\": \"scattergeo\"}], \"name\": \"01/25/2020\"}, {\"data\": [{\"customdata\": [[60, 0, 0], [68, 0, 2], [75, 0, 0], [35, 0, 0], [7, 0, 0], [111, 0, 2], [36, 0, 0], [5, 0, 0], [22, 0, 0], [13, 1, 0], [15, 1, 0], [83, 1, 0], [1058, 52, 42], [69, 0, 0], [7, 0, 0], [33, 0, 1], [36, 0, 0], [4, 0, 0], [21, 0, 0], [4, 0, 0], [1, 0, 0], [22, 0, 0], [46, 0, 0], [40, 1, 1], [9, 0, 0], [44, 0, 0], [14, 0, 0], [0, 0, 0], [4, 0, 0], [16, 0, 0], [104, 0, 1]], \"geo\": \"geo\", \"hoverlabel\": {\"namelength\": 0}, \"hovertemplate\": \"<b>%{hovertext}</b><br><br>Date=01/26/2020<br>size=%{marker.color}<br>Confirmed=%{customdata[0]}<br>Deaths=%{customdata[1]}<br>Recovered=%{customdata[2]}<br>Lat=%{lat}<br>Long=%{lon}\", \"hovertext\": [\"Anhui\", \"Beijing\", \"Chongqing\", \"Fujian\", \"Gansu\", \"Guangdong\", \"Guangxi\", \"Guizhou\", \"Hainan\", \"Hebei\", \"Heilongjiang\", \"Henan\", \"Hubei\", \"Hunan\", \"Inner Mongolia\", \"Jiangsu\", \"Jiangxi\", \"Jilin\", \"Liaoning\", \"Ningxia\", \"Qinghai\", \"Shaanxi\", \"Shandong\", \"Shanghai\", \"Shanxi\", \"Sichuan\", \"Tianjin\", \"Tibet\", \"Xinjiang\", \"Yunnan\", \"Zhejiang\"], \"lat\": [31.825709999999997, 40.18238, 30.05718, 26.07783, 36.0611, 23.33841, 23.829079999999998, 26.81536, 19.19673, 38.0428, 47.861999999999995, 33.882020000000004, 30.975640000000002, 27.610409999999998, 44.09448, 32.97027, 27.614009999999997, 43.66657, 41.292840000000005, 37.26923, 35.65945, 35.19165, 36.34377, 31.20327, 37.577690000000004, 30.617140000000003, 39.293620000000004, 30.1534, 41.11981, 24.97411, 29.182509999999997], \"legendgroup\": \"\", \"lon\": [117.2264, 116.4142, 107.874, 117.9895, 103.8343, 113.42200000000001, 108.7881, 106.8748, 109.7455, 114.5149, 127.7622, 113.61399999999999, 112.2707, 111.7088, 113.9456, 119.464, 115.7221, 126.1917, 122.6086, 106.1655, 96.02564, 108.8701, 118.1529, 121.4554, 112.2922, 102.7103, 117.333, 88.7879, 85.17822, 101.4868, 120.0985], \"marker\": {\"color\": [7.745966692414834, 8.246211251235321, 8.660254037844387, 5.916079783099616, 2.6457513110645907, 10.535653752852738, 6.0, 2.23606797749979, 4.69041575982343, 3.605551275463989, 3.872983346207417, 9.1104335791443, 32.526911934581186, 8.306623862918075, 2.6457513110645907, 5.744562646538029, 6.0, 2.0, 4.58257569495584, 2.0, 1.0, 4.69041575982343, 6.782329983125268, 6.324555320336759, 3.0, 6.6332495807108, 3.7416573867739413, 0.0, 2.0, 4.0, 10.198039027185569], \"coloraxis\": \"coloraxis\", \"size\": [7.745966692414834, 8.246211251235321, 8.660254037844387, 5.916079783099616, 2.6457513110645907, 10.535653752852738, 6.0, 2.23606797749979, 4.69041575982343, 3.605551275463989, 3.872983346207417, 9.1104335791443, 32.526911934581186, 8.306623862918075, 2.6457513110645907, 5.744562646538029, 6.0, 2.0, 4.58257569495584, 2.0, 1.0, 4.69041575982343, 6.782329983125268, 6.324555320336759, 3.0, 6.6332495807108, 3.7416573867739413, 0.0, 2.0, 4.0, 10.198039027185569], \"sizemode\": \"area\", \"sizeref\": 0.622650584196305}, \"name\": \"\", \"showlegend\": false, \"type\": \"scattergeo\"}], \"name\": \"01/26/2020\"}, {\"data\": [{\"customdata\": [[70, 0, 0], [80, 1, 2], [110, 0, 0], [59, 0, 0], [14, 0, 0], [151, 0, 4], [46, 0, 0], [7, 0, 0], [33, 1, 0], [18, 1, 0], [21, 1, 0], [128, 1, 0], [1423, 76, 45], [100, 0, 0], [11, 0, 0], [47, 0, 1], [72, 0, 2], [6, 0, 0], [27, 0, 0], [7, 0, 0], [6, 0, 0], [35, 0, 0], [75, 0, 0], [53, 1, 3], [13, 0, 0], [69, 0, 0], [23, 0, 0], [0, 0, 0], [5, 0, 0], [26, 0, 0], [128, 0, 1]], \"geo\": \"geo\", \"hoverlabel\": {\"namelength\": 0}, \"hovertemplate\": \"<b>%{hovertext}</b><br><br>Date=01/27/2020<br>size=%{marker.color}<br>Confirmed=%{customdata[0]}<br>Deaths=%{customdata[1]}<br>Recovered=%{customdata[2]}<br>Lat=%{lat}<br>Long=%{lon}\", \"hovertext\": [\"Anhui\", \"Beijing\", \"Chongqing\", \"Fujian\", \"Gansu\", \"Guangdong\", \"Guangxi\", \"Guizhou\", \"Hainan\", \"Hebei\", \"Heilongjiang\", \"Henan\", \"Hubei\", \"Hunan\", \"Inner Mongolia\", \"Jiangsu\", \"Jiangxi\", \"Jilin\", \"Liaoning\", \"Ningxia\", \"Qinghai\", \"Shaanxi\", \"Shandong\", \"Shanghai\", \"Shanxi\", \"Sichuan\", \"Tianjin\", \"Tibet\", \"Xinjiang\", \"Yunnan\", \"Zhejiang\"], \"lat\": [31.825709999999997, 40.18238, 30.05718, 26.07783, 36.0611, 23.33841, 23.829079999999998, 26.81536, 19.19673, 38.0428, 47.861999999999995, 33.882020000000004, 30.975640000000002, 27.610409999999998, 44.09448, 32.97027, 27.614009999999997, 43.66657, 41.292840000000005, 37.26923, 35.65945, 35.19165, 36.34377, 31.20327, 37.577690000000004, 30.617140000000003, 39.293620000000004, 30.1534, 41.11981, 24.97411, 29.182509999999997], \"legendgroup\": \"\", \"lon\": [117.2264, 116.4142, 107.874, 117.9895, 103.8343, 113.42200000000001, 108.7881, 106.8748, 109.7455, 114.5149, 127.7622, 113.61399999999999, 112.2707, 111.7088, 113.9456, 119.464, 115.7221, 126.1917, 122.6086, 106.1655, 96.02564, 108.8701, 118.1529, 121.4554, 112.2922, 102.7103, 117.333, 88.7879, 85.17822, 101.4868, 120.0985], \"marker\": {\"color\": [8.366600265340756, 8.94427190999916, 10.488088481701515, 7.681145747868608, 3.7416573867739413, 12.288205727444508, 6.782329983125268, 2.6457513110645907, 5.744562646538029, 4.242640687119285, 4.58257569495584, 11.313708498984761, 37.72267222772003, 10.0, 3.3166247903554, 6.855654600401044, 8.48528137423857, 2.449489742783178, 5.196152422706632, 2.6457513110645907, 2.449489742783178, 5.916079783099616, 8.660254037844387, 7.280109889280518, 3.605551275463989, 8.306623862918075, 4.795831523312719, 0.0, 2.23606797749979, 5.0990195135927845, 11.313708498984761], \"coloraxis\": \"coloraxis\", \"size\": [8.366600265340756, 8.94427190999916, 10.488088481701515, 7.681145747868608, 3.7416573867739413, 12.288205727444508, 6.782329983125268, 2.6457513110645907, 5.744562646538029, 4.242640687119285, 4.58257569495584, 11.313708498984761, 37.72267222772003, 10.0, 3.3166247903554, 6.855654600401044, 8.48528137423857, 2.449489742783178, 5.196152422706632, 2.6457513110645907, 2.449489742783178, 5.916079783099616, 8.660254037844387, 7.280109889280518, 3.605551275463989, 8.306623862918075, 4.795831523312719, 0.0, 2.23606797749979, 5.0990195135927845, 11.313708498984761], \"sizemode\": \"area\", \"sizeref\": 0.622650584196305}, \"name\": \"\", \"showlegend\": false, \"type\": \"scattergeo\"}], \"name\": \"01/27/2020\"}, {\"data\": [{\"customdata\": [[106, 0, 0], [91, 1, 4], [132, 0, 0], [80, 0, 0], [19, 0, 0], [207, 0, 4], [51, 0, 2], [9, 0, 0], [40, 1, 0], [33, 1, 0], [33, 1, 0], [168, 1, 0], [3554, 125, 80], [143, 0, 0], [15, 0, 0], [70, 0, 1], [109, 0, 3], [8, 0, 0], [34, 0, 0], [11, 0, 0], [6, 0, 0], [46, 0, 0], [95, 0, 0], [66, 1, 4], [27, 0, 0], [90, 0, 0], [24, 0, 0], [0, 0, 0], [10, 0, 0], [44, 0, 0], [173, 0, 3]], \"geo\": \"geo\", \"hoverlabel\": {\"namelength\": 0}, \"hovertemplate\": \"<b>%{hovertext}</b><br><br>Date=01/28/2020<br>size=%{marker.color}<br>Confirmed=%{customdata[0]}<br>Deaths=%{customdata[1]}<br>Recovered=%{customdata[2]}<br>Lat=%{lat}<br>Long=%{lon}\", \"hovertext\": [\"Anhui\", \"Beijing\", \"Chongqing\", \"Fujian\", \"Gansu\", \"Guangdong\", \"Guangxi\", \"Guizhou\", \"Hainan\", \"Hebei\", \"Heilongjiang\", \"Henan\", \"Hubei\", \"Hunan\", \"Inner Mongolia\", \"Jiangsu\", \"Jiangxi\", \"Jilin\", \"Liaoning\", \"Ningxia\", \"Qinghai\", \"Shaanxi\", \"Shandong\", \"Shanghai\", \"Shanxi\", \"Sichuan\", \"Tianjin\", \"Tibet\", \"Xinjiang\", \"Yunnan\", \"Zhejiang\"], \"lat\": [31.825709999999997, 40.18238, 30.05718, 26.07783, 36.0611, 23.33841, 23.829079999999998, 26.81536, 19.19673, 38.0428, 47.861999999999995, 33.882020000000004, 30.975640000000002, 27.610409999999998, 44.09448, 32.97027, 27.614009999999997, 43.66657, 41.292840000000005, 37.26923, 35.65945, 35.19165, 36.34377, 31.20327, 37.577690000000004, 30.617140000000003, 39.293620000000004, 30.1534, 41.11981, 24.97411, 29.182509999999997], \"legendgroup\": \"\", \"lon\": [117.2264, 116.4142, 107.874, 117.9895, 103.8343, 113.42200000000001, 108.7881, 106.8748, 109.7455, 114.5149, 127.7622, 113.61399999999999, 112.2707, 111.7088, 113.9456, 119.464, 115.7221, 126.1917, 122.6086, 106.1655, 96.02564, 108.8701, 118.1529, 121.4554, 112.2922, 102.7103, 117.333, 88.7879, 85.17822, 101.4868, 120.0985], \"marker\": {\"color\": [10.295630140987, 9.539392014169456, 11.489125293076057, 8.94427190999916, 4.358898943540674, 14.38749456993816, 7.14142842854285, 3.0, 6.324555320336759, 5.744562646538029, 5.744562646538029, 12.96148139681572, 59.61543424315552, 11.958260743101398, 3.872983346207417, 8.366600265340756, 10.44030650891055, 2.8284271247461903, 5.830951894845301, 3.3166247903554, 2.449489742783178, 6.782329983125268, 9.746794344808963, 8.12403840463596, 5.196152422706632, 9.486832980505138, 4.898979485566356, 0.0, 3.1622776601683795, 6.6332495807108, 13.152946437965905], \"coloraxis\": \"coloraxis\", \"size\": [10.295630140987, 9.539392014169456, 11.489125293076057, 8.94427190999916, 4.358898943540674, 14.38749456993816, 7.14142842854285, 3.0, 6.324555320336759, 5.744562646538029, 5.744562646538029, 12.96148139681572, 59.61543424315552, 11.958260743101398, 3.872983346207417, 8.366600265340756, 10.44030650891055, 2.8284271247461903, 5.830951894845301, 3.3166247903554, 2.449489742783178, 6.782329983125268, 9.746794344808963, 8.12403840463596, 5.196152422706632, 9.486832980505138, 4.898979485566356, 0.0, 3.1622776601683795, 6.6332495807108, 13.152946437965905], \"sizemode\": \"area\", \"sizeref\": 0.622650584196305}, \"name\": \"\", \"showlegend\": false, \"type\": \"scattergeo\"}], \"name\": \"01/28/2020\"}, {\"data\": [{\"customdata\": [[152, 0, 2], [111, 1, 4], [147, 0, 1], [84, 0, 0], [24, 0, 0], [277, 0, 5], [58, 0, 2], [9, 0, 1], [43, 1, 0], [48, 1, 0], [38, 1, 0], [206, 2, 1], [3554, 125, 88], [221, 0, 0], [16, 0, 0], [99, 0, 1], [109, 0, 3], [9, 0, 0], [39, 0, 1], [12, 0, 0], [6, 0, 0], [56, 0, 0], [130, 0, 1], [96, 1, 5], [27, 0, 1], [108, 1, 1], [27, 0, 0], [0, 0, 0], [13, 0, 0], [55, 0, 0], [296, 0, 3]], \"geo\": \"geo\", \"hoverlabel\": {\"namelength\": 0}, \"hovertemplate\": \"<b>%{hovertext}</b><br><br>Date=01/29/2020<br>size=%{marker.color}<br>Confirmed=%{customdata[0]}<br>Deaths=%{customdata[1]}<br>Recovered=%{customdata[2]}<br>Lat=%{lat}<br>Long=%{lon}\", \"hovertext\": [\"Anhui\", \"Beijing\", \"Chongqing\", \"Fujian\", \"Gansu\", \"Guangdong\", \"Guangxi\", \"Guizhou\", \"Hainan\", \"Hebei\", \"Heilongjiang\", \"Henan\", \"Hubei\", \"Hunan\", \"Inner Mongolia\", \"Jiangsu\", \"Jiangxi\", \"Jilin\", \"Liaoning\", \"Ningxia\", \"Qinghai\", \"Shaanxi\", \"Shandong\", \"Shanghai\", \"Shanxi\", \"Sichuan\", \"Tianjin\", \"Tibet\", \"Xinjiang\", \"Yunnan\", \"Zhejiang\"], \"lat\": [31.825709999999997, 40.18238, 30.05718, 26.07783, 36.0611, 23.33841, 23.829079999999998, 26.81536, 19.19673, 38.0428, 47.861999999999995, 33.882020000000004, 30.975640000000002, 27.610409999999998, 44.09448, 32.97027, 27.614009999999997, 43.66657, 41.292840000000005, 37.26923, 35.65945, 35.19165, 36.34377, 31.20327, 37.577690000000004, 30.617140000000003, 39.293620000000004, 30.1534, 41.11981, 24.97411, 29.182509999999997], \"legendgroup\": \"\", \"lon\": [117.2264, 116.4142, 107.874, 117.9895, 103.8343, 113.42200000000001, 108.7881, 106.8748, 109.7455, 114.5149, 127.7622, 113.61399999999999, 112.2707, 111.7088, 113.9456, 119.464, 115.7221, 126.1917, 122.6086, 106.1655, 96.02564, 108.8701, 118.1529, 121.4554, 112.2922, 102.7103, 117.333, 88.7879, 85.17822, 101.4868, 120.0985], \"marker\": {\"color\": [12.328828005937952, 10.535653752852738, 12.12435565298214, 9.16515138991168, 4.898979485566356, 16.64331697709324, 7.615773105863909, 3.0, 6.557438524302, 6.928203230275509, 6.164414002968976, 14.352700094407323, 59.61543424315552, 14.866068747318506, 4.0, 9.9498743710662, 10.44030650891055, 3.0, 6.244997998398398, 3.4641016151377544, 2.449489742783178, 7.483314773547883, 11.40175425099138, 9.797958971132712, 5.196152422706632, 10.392304845413264, 5.196152422706632, 0.0, 3.605551275463989, 7.416198487095663, 17.204650534085253], \"coloraxis\": \"coloraxis\", \"size\": [12.328828005937952, 10.535653752852738, 12.12435565298214, 9.16515138991168, 4.898979485566356, 16.64331697709324, 7.615773105863909, 3.0, 6.557438524302, 6.928203230275509, 6.164414002968976, 14.352700094407323, 59.61543424315552, 14.866068747318506, 4.0, 9.9498743710662, 10.44030650891055, 3.0, 6.244997998398398, 3.4641016151377544, 2.449489742783178, 7.483314773547883, 11.40175425099138, 9.797958971132712, 5.196152422706632, 10.392304845413264, 5.196152422706632, 0.0, 3.605551275463989, 7.416198487095663, 17.204650534085253], \"sizemode\": \"area\", \"sizeref\": 0.622650584196305}, \"name\": \"\", \"showlegend\": false, \"type\": \"scattergeo\"}], \"name\": \"01/29/2020\"}, {\"data\": [{\"customdata\": [[200, 0, 2], [114, 1, 4], [182, 0, 1], [101, 0, 0], [26, 0, 0], [354, 0, 10], [78, 0, 2], [12, 0, 1], [46, 1, 1], [65, 1, 0], [44, 2, 0], [278, 2, 2], [4903, 162, 90], [277, 0, 2], [19, 0, 0], [129, 0, 1], [162, 0, 5], [14, 0, 1], [41, 0, 1], [17, 0, 0], [8, 0, 0], [63, 0, 0], [158, 0, 1], [112, 1, 5], [35, 0, 1], [142, 1, 1], [31, 0, 0], [1, 0, 0], [14, 0, 0], [70, 0, 0], [428, 0, 4]], \"geo\": \"geo\", \"hoverlabel\": {\"namelength\": 0}, \"hovertemplate\": \"<b>%{hovertext}</b><br><br>Date=01/30/2020<br>size=%{marker.color}<br>Confirmed=%{customdata[0]}<br>Deaths=%{customdata[1]}<br>Recovered=%{customdata[2]}<br>Lat=%{lat}<br>Long=%{lon}\", \"hovertext\": [\"Anhui\", \"Beijing\", \"Chongqing\", \"Fujian\", \"Gansu\", \"Guangdong\", \"Guangxi\", \"Guizhou\", \"Hainan\", \"Hebei\", \"Heilongjiang\", \"Henan\", \"Hubei\", \"Hunan\", \"Inner Mongolia\", \"Jiangsu\", \"Jiangxi\", \"Jilin\", \"Liaoning\", \"Ningxia\", \"Qinghai\", \"Shaanxi\", \"Shandong\", \"Shanghai\", \"Shanxi\", \"Sichuan\", \"Tianjin\", \"Tibet\", \"Xinjiang\", \"Yunnan\", \"Zhejiang\"], \"lat\": [31.825709999999997, 40.18238, 30.05718, 26.07783, 36.0611, 23.33841, 23.829079999999998, 26.81536, 19.19673, 38.0428, 47.861999999999995, 33.882020000000004, 30.975640000000002, 27.610409999999998, 44.09448, 32.97027, 27.614009999999997, 43.66657, 41.292840000000005, 37.26923, 35.65945, 35.19165, 36.34377, 31.20327, 37.577690000000004, 30.617140000000003, 39.293620000000004, 30.1534, 41.11981, 24.97411, 29.182509999999997], \"legendgroup\": \"\", \"lon\": [117.2264, 116.4142, 107.874, 117.9895, 103.8343, 113.42200000000001, 108.7881, 106.8748, 109.7455, 114.5149, 127.7622, 113.61399999999999, 112.2707, 111.7088, 113.9456, 119.464, 115.7221, 126.1917, 122.6086, 106.1655, 96.02564, 108.8701, 118.1529, 121.4554, 112.2922, 102.7103, 117.333, 88.7879, 85.17822, 101.4868, 120.0985], \"marker\": {\"color\": [14.142135623730951, 10.677078252031311, 13.490737563232042, 10.04987562112089, 5.0990195135927845, 18.81488772222678, 8.831760866327848, 3.4641016151377544, 6.782329983125268, 8.06225774829855, 6.6332495807108, 16.673332000533065, 70.02142529254886, 16.64331697709324, 4.358898943540674, 11.357816691600547, 12.727922061357855, 3.7416573867739413, 6.4031242374328485, 4.123105625617661, 2.8284271247461903, 7.937253933193772, 12.569805089976535, 10.583005244258363, 5.916079783099616, 11.916375287812984, 5.5677643628300215, 1.0, 3.7416573867739413, 8.366600265340756, 20.688160865577203], \"coloraxis\": \"coloraxis\", \"size\": [14.142135623730951, 10.677078252031311, 13.490737563232042, 10.04987562112089, 5.0990195135927845, 18.81488772222678, 8.831760866327848, 3.4641016151377544, 6.782329983125268, 8.06225774829855, 6.6332495807108, 16.673332000533065, 70.02142529254886, 16.64331697709324, 4.358898943540674, 11.357816691600547, 12.727922061357855, 3.7416573867739413, 6.4031242374328485, 4.123105625617661, 2.8284271247461903, 7.937253933193772, 12.569805089976535, 10.583005244258363, 5.916079783099616, 11.916375287812984, 5.5677643628300215, 1.0, 3.7416573867739413, 8.366600265340756, 20.688160865577203], \"sizemode\": \"area\", \"sizeref\": 0.622650584196305}, \"name\": \"\", \"showlegend\": false, \"type\": \"scattergeo\"}], \"name\": \"01/30/2020\"}, {\"data\": [{\"customdata\": [[237, 0, 3], [139, 1, 5], [211, 0, 1], [120, 0, 0], [29, 0, 0], [436, 0, 11], [87, 0, 2], [29, 0, 2], [52, 1, 1], [82, 1, 0], [59, 2, 0], [352, 2, 3], [5806, 204, 141], [332, 0, 2], [20, 0, 1], [168, 0, 5], [240, 0, 7], [14, 0, 1], [48, 0, 1], [21, 0, 0], [8, 0, 0], [87, 0, 0], [184, 0, 2], [135, 1, 9], [39, 0, 1], [177, 1, 1], [32, 0, 0], [1, 0, 0], [17, 0, 0], [83, 0, 1], [538, 0, 14]], \"geo\": \"geo\", \"hoverlabel\": {\"namelength\": 0}, \"hovertemplate\": \"<b>%{hovertext}</b><br><br>Date=01/31/2020<br>size=%{marker.color}<br>Confirmed=%{customdata[0]}<br>Deaths=%{customdata[1]}<br>Recovered=%{customdata[2]}<br>Lat=%{lat}<br>Long=%{lon}\", \"hovertext\": [\"Anhui\", \"Beijing\", \"Chongqing\", \"Fujian\", \"Gansu\", \"Guangdong\", \"Guangxi\", \"Guizhou\", \"Hainan\", \"Hebei\", \"Heilongjiang\", \"Henan\", \"Hubei\", \"Hunan\", \"Inner Mongolia\", \"Jiangsu\", \"Jiangxi\", \"Jilin\", \"Liaoning\", \"Ningxia\", \"Qinghai\", \"Shaanxi\", \"Shandong\", \"Shanghai\", \"Shanxi\", \"Sichuan\", \"Tianjin\", \"Tibet\", \"Xinjiang\", \"Yunnan\", \"Zhejiang\"], \"lat\": [31.825709999999997, 40.18238, 30.05718, 26.07783, 36.0611, 23.33841, 23.829079999999998, 26.81536, 19.19673, 38.0428, 47.861999999999995, 33.882020000000004, 30.975640000000002, 27.610409999999998, 44.09448, 32.97027, 27.614009999999997, 43.66657, 41.292840000000005, 37.26923, 35.65945, 35.19165, 36.34377, 31.20327, 37.577690000000004, 30.617140000000003, 39.293620000000004, 30.1534, 41.11981, 24.97411, 29.182509999999997], \"legendgroup\": \"\", \"lon\": [117.2264, 116.4142, 107.874, 117.9895, 103.8343, 113.42200000000001, 108.7881, 106.8748, 109.7455, 114.5149, 127.7622, 113.61399999999999, 112.2707, 111.7088, 113.9456, 119.464, 115.7221, 126.1917, 122.6086, 106.1655, 96.02564, 108.8701, 118.1529, 121.4554, 112.2922, 102.7103, 117.333, 88.7879, 85.17822, 101.4868, 120.0985], \"marker\": {\"color\": [15.394804318340652, 11.789826122551595, 14.52583904633395, 10.954451150103322, 5.385164807134504, 20.8806130178211, 9.327379053088816, 5.385164807134504, 7.211102550927978, 9.055385138137417, 7.681145747868608, 18.76166303929372, 76.19711280619497, 18.2208671582886, 4.47213595499958, 12.96148139681572, 15.491933384829668, 3.7416573867739413, 6.928203230275509, 4.58257569495584, 2.8284271247461903, 9.327379053088816, 13.564659966250536, 11.61895003862225, 6.244997998398398, 13.30413469565007, 5.656854249492381, 1.0, 4.123105625617661, 9.1104335791443, 23.194827009486403], \"coloraxis\": \"coloraxis\", \"size\": [15.394804318340652, 11.789826122551595, 14.52583904633395, 10.954451150103322, 5.385164807134504, 20.8806130178211, 9.327379053088816, 5.385164807134504, 7.211102550927978, 9.055385138137417, 7.681145747868608, 18.76166303929372, 76.19711280619497, 18.2208671582886, 4.47213595499958, 12.96148139681572, 15.491933384829668, 3.7416573867739413, 6.928203230275509, 4.58257569495584, 2.8284271247461903, 9.327379053088816, 13.564659966250536, 11.61895003862225, 6.244997998398398, 13.30413469565007, 5.656854249492381, 1.0, 4.123105625617661, 9.1104335791443, 23.194827009486403], \"sizemode\": \"area\", \"sizeref\": 0.622650584196305}, \"name\": \"\", \"showlegend\": false, \"type\": \"scattergeo\"}], \"name\": \"01/31/2020\"}, {\"data\": [{\"customdata\": [[297, 0, 5], [168, 1, 9], [247, 1, 3], [144, 0, 0], [40, 0, 0], [535, 0, 14], [100, 0, 2], [29, 0, 2], [62, 1, 1], [96, 1, 0], [80, 2, 2], [422, 2, 3], [7153, 249, 168], [389, 0, 8], [23, 0, 1], [202, 0, 6], [286, 0, 9], [17, 0, 1], [64, 0, 1], [26, 0, 0], [9, 0, 0], [101, 0, 0], [206, 0, 3], [169, 1, 10], [47, 0, 1], [207, 1, 3], [41, 0, 0], [1, 0, 0], [18, 0, 0], [93, 0, 2], [599, 0, 21]], \"geo\": \"geo\", \"hoverlabel\": {\"namelength\": 0}, \"hovertemplate\": \"<b>%{hovertext}</b><br><br>Date=02/01/2020<br>size=%{marker.color}<br>Confirmed=%{customdata[0]}<br>Deaths=%{customdata[1]}<br>Recovered=%{customdata[2]}<br>Lat=%{lat}<br>Long=%{lon}\", \"hovertext\": [\"Anhui\", \"Beijing\", \"Chongqing\", \"Fujian\", \"Gansu\", \"Guangdong\", \"Guangxi\", \"Guizhou\", \"Hainan\", \"Hebei\", \"Heilongjiang\", \"Henan\", \"Hubei\", \"Hunan\", \"Inner Mongolia\", \"Jiangsu\", \"Jiangxi\", \"Jilin\", \"Liaoning\", \"Ningxia\", \"Qinghai\", \"Shaanxi\", \"Shandong\", \"Shanghai\", \"Shanxi\", \"Sichuan\", \"Tianjin\", \"Tibet\", \"Xinjiang\", \"Yunnan\", \"Zhejiang\"], \"lat\": [31.825709999999997, 40.18238, 30.05718, 26.07783, 36.0611, 23.33841, 23.829079999999998, 26.81536, 19.19673, 38.0428, 47.861999999999995, 33.882020000000004, 30.975640000000002, 27.610409999999998, 44.09448, 32.97027, 27.614009999999997, 43.66657, 41.292840000000005, 37.26923, 35.65945, 35.19165, 36.34377, 31.20327, 37.577690000000004, 30.617140000000003, 39.293620000000004, 30.1534, 41.11981, 24.97411, 29.182509999999997], \"legendgroup\": \"\", \"lon\": [117.2264, 116.4142, 107.874, 117.9895, 103.8343, 113.42200000000001, 108.7881, 106.8748, 109.7455, 114.5149, 127.7622, 113.61399999999999, 112.2707, 111.7088, 113.9456, 119.464, 115.7221, 126.1917, 122.6086, 106.1655, 96.02564, 108.8701, 118.1529, 121.4554, 112.2922, 102.7103, 117.333, 88.7879, 85.17822, 101.4868, 120.0985], \"marker\": {\"color\": [17.233687939614086, 12.96148139681572, 15.716233645501712, 12.0, 6.324555320336759, 23.130067012440755, 10.0, 5.385164807134504, 7.874007874011811, 9.797958971132712, 8.94427190999916, 20.54263858417414, 84.57541013793548, 19.72308292331602, 4.795831523312719, 14.212670403551895, 16.911534525287763, 4.123105625617661, 8.0, 5.0990195135927845, 3.0, 10.04987562112089, 14.352700094407323, 13.0, 6.855654600401044, 14.38749456993816, 6.4031242374328485, 1.0, 4.242640687119285, 9.643650760992955, 24.474476501040833], \"coloraxis\": \"coloraxis\", \"size\": [17.233687939614086, 12.96148139681572, 15.716233645501712, 12.0, 6.324555320336759, 23.130067012440755, 10.0, 5.385164807134504, 7.874007874011811, 9.797958971132712, 8.94427190999916, 20.54263858417414, 84.57541013793548, 19.72308292331602, 4.795831523312719, 14.212670403551895, 16.911534525287763, 4.123105625617661, 8.0, 5.0990195135927845, 3.0, 10.04987562112089, 14.352700094407323, 13.0, 6.855654600401044, 14.38749456993816, 6.4031242374328485, 1.0, 4.242640687119285, 9.643650760992955, 24.474476501040833], \"sizemode\": \"area\", \"sizeref\": 0.622650584196305}, \"name\": \"\", \"showlegend\": false, \"type\": \"scattergeo\"}], \"name\": \"02/01/2020\"}, {\"data\": [{\"customdata\": [[340, 0, 7], [191, 1, 9], [300, 2, 7], [159, 0, 0], [51, 0, 3], [632, 0, 15], [111, 0, 2], [38, 0, 2], [64, 1, 4], [104, 1, 3], [95, 2, 2], [493, 2, 10], [11177, 350, 295], [463, 0, 16], [27, 0, 1], [236, 0, 7], [333, 0, 12], [23, 0, 1], [70, 0, 1], [28, 0, 0], [11, 0, 0], [116, 0, 0], [230, 0, 6], [182, 1, 10], [66, 0, 3], [231, 1, 11], [48, 0, 1], [1, 0, 0], [21, 0, 0], [105, 0, 3], [661, 0, 32]], \"geo\": \"geo\", \"hoverlabel\": {\"namelength\": 0}, \"hovertemplate\": \"<b>%{hovertext}</b><br><br>Date=02/02/2020<br>size=%{marker.color}<br>Confirmed=%{customdata[0]}<br>Deaths=%{customdata[1]}<br>Recovered=%{customdata[2]}<br>Lat=%{lat}<br>Long=%{lon}\", \"hovertext\": [\"Anhui\", \"Beijing\", \"Chongqing\", \"Fujian\", \"Gansu\", \"Guangdong\", \"Guangxi\", \"Guizhou\", \"Hainan\", \"Hebei\", \"Heilongjiang\", \"Henan\", \"Hubei\", \"Hunan\", \"Inner Mongolia\", \"Jiangsu\", \"Jiangxi\", \"Jilin\", \"Liaoning\", \"Ningxia\", \"Qinghai\", \"Shaanxi\", \"Shandong\", \"Shanghai\", \"Shanxi\", \"Sichuan\", \"Tianjin\", \"Tibet\", \"Xinjiang\", \"Yunnan\", \"Zhejiang\"], \"lat\": [31.825709999999997, 40.18238, 30.05718, 26.07783, 36.0611, 23.33841, 23.829079999999998, 26.81536, 19.19673, 38.0428, 47.861999999999995, 33.882020000000004, 30.975640000000002, 27.610409999999998, 44.09448, 32.97027, 27.614009999999997, 43.66657, 41.292840000000005, 37.26923, 35.65945, 35.19165, 36.34377, 31.20327, 37.577690000000004, 30.617140000000003, 39.293620000000004, 30.1534, 41.11981, 24.97411, 29.182509999999997], \"legendgroup\": \"\", \"lon\": [117.2264, 116.4142, 107.874, 117.9895, 103.8343, 113.42200000000001, 108.7881, 106.8748, 109.7455, 114.5149, 127.7622, 113.61399999999999, 112.2707, 111.7088, 113.9456, 119.464, 115.7221, 126.1917, 122.6086, 106.1655, 96.02564, 108.8701, 118.1529, 121.4554, 112.2922, 102.7103, 117.333, 88.7879, 85.17822, 101.4868, 120.0985], \"marker\": {\"color\": [18.439088914585774, 13.820274961085254, 17.320508075688775, 12.609520212918492, 7.14142842854285, 25.13961017995307, 10.535653752852738, 6.164414002968976, 8.0, 10.198039027185569, 9.746794344808963, 22.20360331117452, 105.72133181151285, 21.517434791350013, 5.196152422706632, 15.362291495737216, 18.24828759089466, 4.795831523312719, 8.366600265340756, 5.291502622129181, 3.3166247903554, 10.770329614269007, 15.165750888103101, 13.490737563232042, 8.12403840463596, 15.198684153570664, 6.928203230275509, 1.0, 4.58257569495584, 10.246950765959598, 25.709920264364882], \"coloraxis\": \"coloraxis\", \"size\": [18.439088914585774, 13.820274961085254, 17.320508075688775, 12.609520212918492, 7.14142842854285, 25.13961017995307, 10.535653752852738, 6.164414002968976, 8.0, 10.198039027185569, 9.746794344808963, 22.20360331117452, 105.72133181151285, 21.517434791350013, 5.196152422706632, 15.362291495737216, 18.24828759089466, 4.795831523312719, 8.366600265340756, 5.291502622129181, 3.3166247903554, 10.770329614269007, 15.165750888103101, 13.490737563232042, 8.12403840463596, 15.198684153570664, 6.928203230275509, 1.0, 4.58257569495584, 10.246950765959598, 25.709920264364882], \"sizemode\": \"area\", \"sizeref\": 0.622650584196305}, \"name\": \"\", \"showlegend\": false, \"type\": \"scattergeo\"}], \"name\": \"02/02/2020\"}, {\"data\": [{\"customdata\": [[408, 0, 14], [212, 1, 12], [337, 2, 9], [179, 0, 1], [55, 0, 3], [725, 0, 21], [127, 0, 7], [46, 0, 2], [72, 1, 4], [113, 1, 3], [121, 2, 2], [566, 2, 16], [13522, 414, 386], [521, 0, 22], [34, 0, 1], [271, 0, 8], [391, 0, 18], [31, 0, 1], [74, 0, 1], [31, 0, 1], [13, 0, 0], [128, 0, 0], [259, 0, 7], [203, 1, 10], [74, 0, 2], [254, 1, 14], [60, 0, 1], [1, 0, 0], [24, 0, 0], [117, 0, 5], [724, 0, 43]], \"geo\": \"geo\", \"hoverlabel\": {\"namelength\": 0}, \"hovertemplate\": \"<b>%{hovertext}</b><br><br>Date=02/03/2020<br>size=%{marker.color}<br>Confirmed=%{customdata[0]}<br>Deaths=%{customdata[1]}<br>Recovered=%{customdata[2]}<br>Lat=%{lat}<br>Long=%{lon}\", \"hovertext\": [\"Anhui\", \"Beijing\", \"Chongqing\", \"Fujian\", \"Gansu\", \"Guangdong\", \"Guangxi\", \"Guizhou\", \"Hainan\", \"Hebei\", \"Heilongjiang\", \"Henan\", \"Hubei\", \"Hunan\", \"Inner Mongolia\", \"Jiangsu\", \"Jiangxi\", \"Jilin\", \"Liaoning\", \"Ningxia\", \"Qinghai\", \"Shaanxi\", \"Shandong\", \"Shanghai\", \"Shanxi\", \"Sichuan\", \"Tianjin\", \"Tibet\", \"Xinjiang\", \"Yunnan\", \"Zhejiang\"], \"lat\": [31.825709999999997, 40.18238, 30.05718, 26.07783, 36.0611, 23.33841, 23.829079999999998, 26.81536, 19.19673, 38.0428, 47.861999999999995, 33.882020000000004, 30.975640000000002, 27.610409999999998, 44.09448, 32.97027, 27.614009999999997, 43.66657, 41.292840000000005, 37.26923, 35.65945, 35.19165, 36.34377, 31.20327, 37.577690000000004, 30.617140000000003, 39.293620000000004, 30.1534, 41.11981, 24.97411, 29.182509999999997], \"legendgroup\": \"\", \"lon\": [117.2264, 116.4142, 107.874, 117.9895, 103.8343, 113.42200000000001, 108.7881, 106.8748, 109.7455, 114.5149, 127.7622, 113.61399999999999, 112.2707, 111.7088, 113.9456, 119.464, 115.7221, 126.1917, 122.6086, 106.1655, 96.02564, 108.8701, 118.1529, 121.4554, 112.2922, 102.7103, 117.333, 88.7879, 85.17822, 101.4868, 120.0985], \"marker\": {\"color\": [20.199009876724155, 14.560219778561036, 18.35755975068582, 13.379088160259652, 7.416198487095663, 26.92582403567252, 11.269427669584644, 6.782329983125268, 8.48528137423857, 10.63014581273465, 11.0, 23.790754506740637, 116.2841347734075, 22.825424421026653, 5.830951894845301, 16.46207763315433, 19.77371993328519, 5.5677643628300215, 8.602325267042627, 5.5677643628300215, 3.605551275463989, 11.313708498984761, 16.09347693943108, 14.247806848775006, 8.602325267042627, 15.937377450509228, 7.745966692414834, 1.0, 4.898979485566356, 10.816653826391969, 26.90724809414742], \"coloraxis\": \"coloraxis\", \"size\": [20.199009876724155, 14.560219778561036, 18.35755975068582, 13.379088160259652, 7.416198487095663, 26.92582403567252, 11.269427669584644, 6.782329983125268, 8.48528137423857, 10.63014581273465, 11.0, 23.790754506740637, 116.2841347734075, 22.825424421026653, 5.830951894845301, 16.46207763315433, 19.77371993328519, 5.5677643628300215, 8.602325267042627, 5.5677643628300215, 3.605551275463989, 11.313708498984761, 16.09347693943108, 14.247806848775006, 8.602325267042627, 15.937377450509228, 7.745966692414834, 1.0, 4.898979485566356, 10.816653826391969, 26.90724809414742], \"sizemode\": \"area\", \"sizeref\": 0.622650584196305}, \"name\": \"\", \"showlegend\": false, \"type\": \"scattergeo\"}], \"name\": \"02/03/2020\"}, {\"data\": [{\"customdata\": [[480, 0, 20], [228, 1, 23], [366, 2, 9], [194, 0, 3], [57, 0, 4], [813, 0, 30], [139, 0, 10], [58, 0, 2], [80, 1, 5], [126, 1, 4], [155, 2, 4], [675, 2, 27], [16678, 479, 522], [593, 0, 31], [35, 0, 1], [308, 0, 12], [476, 0, 20], [42, 0, 1], [81, 0, 2], [34, 0, 1], [15, 0, 0], [142, 0, 2], [275, 0, 11], [219, 1, 12], [81, 0, 4], [282, 1, 14], [67, 0, 2], [1, 0, 0], [29, 0, 0], [122, 0, 5], [829, 0, 62]], \"geo\": \"geo\", \"hoverlabel\": {\"namelength\": 0}, \"hovertemplate\": \"<b>%{hovertext}</b><br><br>Date=02/04/2020<br>size=%{marker.color}<br>Confirmed=%{customdata[0]}<br>Deaths=%{customdata[1]}<br>Recovered=%{customdata[2]}<br>Lat=%{lat}<br>Long=%{lon}\", \"hovertext\": [\"Anhui\", \"Beijing\", \"Chongqing\", \"Fujian\", \"Gansu\", \"Guangdong\", \"Guangxi\", \"Guizhou\", \"Hainan\", \"Hebei\", \"Heilongjiang\", \"Henan\", \"Hubei\", \"Hunan\", \"Inner Mongolia\", \"Jiangsu\", \"Jiangxi\", \"Jilin\", \"Liaoning\", \"Ningxia\", \"Qinghai\", \"Shaanxi\", \"Shandong\", \"Shanghai\", \"Shanxi\", \"Sichuan\", \"Tianjin\", \"Tibet\", \"Xinjiang\", \"Yunnan\", \"Zhejiang\"], \"lat\": [31.825709999999997, 40.18238, 30.05718, 26.07783, 36.0611, 23.33841, 23.829079999999998, 26.81536, 19.19673, 38.0428, 47.861999999999995, 33.882020000000004, 30.975640000000002, 27.610409999999998, 44.09448, 32.97027, 27.614009999999997, 43.66657, 41.292840000000005, 37.26923, 35.65945, 35.19165, 36.34377, 31.20327, 37.577690000000004, 30.617140000000003, 39.293620000000004, 30.1534, 41.11981, 24.97411, 29.182509999999997], \"legendgroup\": \"\", \"lon\": [117.2264, 116.4142, 107.874, 117.9895, 103.8343, 113.42200000000001, 108.7881, 106.8748, 109.7455, 114.5149, 127.7622, 113.61399999999999, 112.2707, 111.7088, 113.9456, 119.464, 115.7221, 126.1917, 122.6086, 106.1655, 96.02564, 108.8701, 118.1529, 121.4554, 112.2922, 102.7103, 117.333, 88.7879, 85.17822, 101.4868, 120.0985], \"marker\": {\"color\": [21.908902300206645, 15.0996688705415, 19.131126469708992, 13.92838827718412, 7.54983443527075, 28.513154858766505, 11.789826122551595, 7.615773105863909, 8.94427190999916, 11.224972160321824, 12.449899597988733, 25.98076211353316, 129.14333122542564, 24.351591323771842, 5.916079783099616, 17.549928774784245, 21.817424229271428, 6.48074069840786, 9.0, 5.830951894845301, 3.872983346207417, 11.916375287812984, 16.583123951777, 14.798648586948742, 9.0, 16.792855623746664, 8.18535277187245, 1.0, 5.385164807134504, 11.045361017187261, 28.792360097775937], \"coloraxis\": \"coloraxis\", \"size\": [21.908902300206645, 15.0996688705415, 19.131126469708992, 13.92838827718412, 7.54983443527075, 28.513154858766505, 11.789826122551595, 7.615773105863909, 8.94427190999916, 11.224972160321824, 12.449899597988733, 25.98076211353316, 129.14333122542564, 24.351591323771842, 5.916079783099616, 17.549928774784245, 21.817424229271428, 6.48074069840786, 9.0, 5.830951894845301, 3.872983346207417, 11.916375287812984, 16.583123951777, 14.798648586948742, 9.0, 16.792855623746664, 8.18535277187245, 1.0, 5.385164807134504, 11.045361017187261, 28.792360097775937], \"sizemode\": \"area\", \"sizeref\": 0.622650584196305}, \"name\": \"\", \"showlegend\": false, \"type\": \"scattergeo\"}], \"name\": \"02/04/2020\"}, {\"data\": [{\"customdata\": [[530, 0, 23], [253, 1, 24], [389, 2, 15], [205, 0, 11], [62, 0, 6], [895, 0, 49], [150, 0, 13], [64, 1, 9], [99, 1, 5], [135, 1, 6], [190, 2, 7], [764, 2, 47], [19665, 549, 633], [661, 0, 54], [42, 0, 3], [341, 0, 23], [548, 0, 27], [54, 0, 2], [89, 0, 4], [34, 0, 1], [17, 0, 3], [165, 0, 6], [307, 0, 15], [243, 1, 15], [81, 0, 5], [301, 1, 24], [69, 1, 2], [1, 0, 0], [32, 0, 0], [128, 0, 5], [895, 0, 78]], \"geo\": \"geo\", \"hoverlabel\": {\"namelength\": 0}, \"hovertemplate\": \"<b>%{hovertext}</b><br><br>Date=02/05/2020<br>size=%{marker.color}<br>Confirmed=%{customdata[0]}<br>Deaths=%{customdata[1]}<br>Recovered=%{customdata[2]}<br>Lat=%{lat}<br>Long=%{lon}\", \"hovertext\": [\"Anhui\", \"Beijing\", \"Chongqing\", \"Fujian\", \"Gansu\", \"Guangdong\", \"Guangxi\", \"Guizhou\", \"Hainan\", \"Hebei\", \"Heilongjiang\", \"Henan\", \"Hubei\", \"Hunan\", \"Inner Mongolia\", \"Jiangsu\", \"Jiangxi\", \"Jilin\", \"Liaoning\", \"Ningxia\", \"Qinghai\", \"Shaanxi\", \"Shandong\", \"Shanghai\", \"Shanxi\", \"Sichuan\", \"Tianjin\", \"Tibet\", \"Xinjiang\", \"Yunnan\", \"Zhejiang\"], \"lat\": [31.825709999999997, 40.18238, 30.05718, 26.07783, 36.0611, 23.33841, 23.829079999999998, 26.81536, 19.19673, 38.0428, 47.861999999999995, 33.882020000000004, 30.975640000000002, 27.610409999999998, 44.09448, 32.97027, 27.614009999999997, 43.66657, 41.292840000000005, 37.26923, 35.65945, 35.19165, 36.34377, 31.20327, 37.577690000000004, 30.617140000000003, 39.293620000000004, 30.1534, 41.11981, 24.97411, 29.182509999999997], \"legendgroup\": \"\", \"lon\": [117.2264, 116.4142, 107.874, 117.9895, 103.8343, 113.42200000000001, 108.7881, 106.8748, 109.7455, 114.5149, 127.7622, 113.61399999999999, 112.2707, 111.7088, 113.9456, 119.464, 115.7221, 126.1917, 122.6086, 106.1655, 96.02564, 108.8701, 118.1529, 121.4554, 112.2922, 102.7103, 117.333, 88.7879, 85.17822, 101.4868, 120.0985], \"marker\": {\"color\": [23.021728866442675, 15.905973720586866, 19.72308292331602, 14.317821063276353, 7.874007874011811, 29.916550603303182, 12.24744871391589, 8.0, 9.9498743710662, 11.61895003862225, 13.784048752090222, 27.640549922170507, 140.23195071024293, 25.709920264364882, 6.48074069840786, 18.466185312619388, 23.40939982143925, 7.3484692283495345, 9.433981132056603, 5.830951894845301, 4.123105625617661, 12.84523257866513, 17.52141546793523, 15.588457268119896, 9.0, 17.349351572897472, 8.306623862918075, 1.0, 5.656854249492381, 11.313708498984761, 29.916550603303182], \"coloraxis\": \"coloraxis\", \"size\": [23.021728866442675, 15.905973720586866, 19.72308292331602, 14.317821063276353, 7.874007874011811, 29.916550603303182, 12.24744871391589, 8.0, 9.9498743710662, 11.61895003862225, 13.784048752090222, 27.640549922170507, 140.23195071024293, 25.709920264364882, 6.48074069840786, 18.466185312619388, 23.40939982143925, 7.3484692283495345, 9.433981132056603, 5.830951894845301, 4.123105625617661, 12.84523257866513, 17.52141546793523, 15.588457268119896, 9.0, 17.349351572897472, 8.306623862918075, 1.0, 5.656854249492381, 11.313708498984761, 29.916550603303182], \"sizemode\": \"area\", \"sizeref\": 0.622650584196305}, \"name\": \"\", \"showlegend\": false, \"type\": \"scattergeo\"}], \"name\": \"02/05/2020\"}, {\"data\": [{\"customdata\": [[591, 0, 34], [274, 1, 31], [411, 2, 24], [215, 0, 14], [62, 0, 6], [970, 0, 69], [168, 0, 14], [71, 1, 6], [106, 1, 8], [157, 1, 13], [227, 3, 8], [851, 2, 56], [22112, 618, 817], [711, 0, 81], [46, 0, 4], [373, 0, 34], [600, 0, 37], [59, 0, 4], [94, 0, 5], [40, 0, 1], [18, 0, 3], [173, 0, 9], [347, 0, 27], [257, 1, 25], [96, 0, 12], [321, 1, 31], [79, 1, 2], [1, 0, 0], [36, 0, 0], [133, 0, 7], [954, 0, 94]], \"geo\": \"geo\", \"hoverlabel\": {\"namelength\": 0}, \"hovertemplate\": \"<b>%{hovertext}</b><br><br>Date=02/06/2020<br>size=%{marker.color}<br>Confirmed=%{customdata[0]}<br>Deaths=%{customdata[1]}<br>Recovered=%{customdata[2]}<br>Lat=%{lat}<br>Long=%{lon}\", \"hovertext\": [\"Anhui\", \"Beijing\", \"Chongqing\", \"Fujian\", \"Gansu\", \"Guangdong\", \"Guangxi\", \"Guizhou\", \"Hainan\", \"Hebei\", \"Heilongjiang\", \"Henan\", \"Hubei\", \"Hunan\", \"Inner Mongolia\", \"Jiangsu\", \"Jiangxi\", \"Jilin\", \"Liaoning\", \"Ningxia\", \"Qinghai\", \"Shaanxi\", \"Shandong\", \"Shanghai\", \"Shanxi\", \"Sichuan\", \"Tianjin\", \"Tibet\", \"Xinjiang\", \"Yunnan\", \"Zhejiang\"], \"lat\": [31.825709999999997, 40.18238, 30.05718, 26.07783, 36.0611, 23.33841, 23.829079999999998, 26.81536, 19.19673, 38.0428, 47.861999999999995, 33.882020000000004, 30.975640000000002, 27.610409999999998, 44.09448, 32.97027, 27.614009999999997, 43.66657, 41.292840000000005, 37.26923, 35.65945, 35.19165, 36.34377, 31.20327, 37.577690000000004, 30.617140000000003, 39.293620000000004, 30.1534, 41.11981, 24.97411, 29.182509999999997], \"legendgroup\": \"\", \"lon\": [117.2264, 116.4142, 107.874, 117.9895, 103.8343, 113.42200000000001, 108.7881, 106.8748, 109.7455, 114.5149, 127.7622, 113.61399999999999, 112.2707, 111.7088, 113.9456, 119.464, 115.7221, 126.1917, 122.6086, 106.1655, 96.02564, 108.8701, 118.1529, 121.4554, 112.2922, 102.7103, 117.333, 88.7879, 85.17822, 101.4868, 120.0985], \"marker\": {\"color\": [24.310491562286437, 16.55294535724685, 20.273134932713294, 14.66287829861518, 7.874007874011811, 31.144823004794873, 12.96148139681572, 8.426149773176359, 10.295630140987, 12.529964086141668, 15.066519173319364, 29.171904291629644, 148.70104236352884, 26.664583251946766, 6.782329983125268, 19.313207915827967, 24.49489742783178, 7.681145747868608, 9.695359714832659, 6.324555320336759, 4.242640687119285, 13.152946437965905, 18.627936010197157, 16.0312195418814, 9.797958971132712, 17.916472867168917, 8.888194417315589, 1.0, 6.0, 11.532562594670797, 30.886890422961002], \"coloraxis\": \"coloraxis\", \"size\": [24.310491562286437, 16.55294535724685, 20.273134932713294, 14.66287829861518, 7.874007874011811, 31.144823004794873, 12.96148139681572, 8.426149773176359, 10.295630140987, 12.529964086141668, 15.066519173319364, 29.171904291629644, 148.70104236352884, 26.664583251946766, 6.782329983125268, 19.313207915827967, 24.49489742783178, 7.681145747868608, 9.695359714832659, 6.324555320336759, 4.242640687119285, 13.152946437965905, 18.627936010197157, 16.0312195418814, 9.797958971132712, 17.916472867168917, 8.888194417315589, 1.0, 6.0, 11.532562594670797, 30.886890422961002], \"sizemode\": \"area\", \"sizeref\": 0.622650584196305}, \"name\": \"\", \"showlegend\": false, \"type\": \"scattergeo\"}], \"name\": \"02/06/2020\"}, {\"data\": [{\"customdata\": [[665, 0, 47], [297, 1, 33], [426, 2, 31], [224, 0, 20], [67, 0, 9], [1034, 1, 88], [172, 0, 17], [81, 1, 6], [117, 2, 10], [172, 1, 22], [277, 3, 12], [914, 3, 86], [24953, 699, 1115], [772, 0, 112], [50, 0, 5], [408, 0, 43], [661, 0, 45], [65, 1, 4], [99, 0, 7], [43, 0, 5], [18, 0, 3], [184, 0, 17], [386, 0, 37], [277, 1, 30], [104, 0, 15], [344, 1, 42], [81, 1, 2], [1, 0, 0], [39, 0, 0], [138, 0, 12], [1006, 0, 123]], \"geo\": \"geo\", \"hoverlabel\": {\"namelength\": 0}, \"hovertemplate\": \"<b>%{hovertext}</b><br><br>Date=02/07/2020<br>size=%{marker.color}<br>Confirmed=%{customdata[0]}<br>Deaths=%{customdata[1]}<br>Recovered=%{customdata[2]}<br>Lat=%{lat}<br>Long=%{lon}\", \"hovertext\": [\"Anhui\", \"Beijing\", \"Chongqing\", \"Fujian\", \"Gansu\", \"Guangdong\", \"Guangxi\", \"Guizhou\", \"Hainan\", \"Hebei\", \"Heilongjiang\", \"Henan\", \"Hubei\", \"Hunan\", \"Inner Mongolia\", \"Jiangsu\", \"Jiangxi\", \"Jilin\", \"Liaoning\", \"Ningxia\", \"Qinghai\", \"Shaanxi\", \"Shandong\", \"Shanghai\", \"Shanxi\", \"Sichuan\", \"Tianjin\", \"Tibet\", \"Xinjiang\", \"Yunnan\", \"Zhejiang\"], \"lat\": [31.825709999999997, 40.18238, 30.05718, 26.07783, 36.0611, 23.33841, 23.829079999999998, 26.81536, 19.19673, 38.0428, 47.861999999999995, 33.882020000000004, 30.975640000000002, 27.610409999999998, 44.09448, 32.97027, 27.614009999999997, 43.66657, 41.292840000000005, 37.26923, 35.65945, 35.19165, 36.34377, 31.20327, 37.577690000000004, 30.617140000000003, 39.293620000000004, 30.1534, 41.11981, 24.97411, 29.182509999999997], \"legendgroup\": \"\", \"lon\": [117.2264, 116.4142, 107.874, 117.9895, 103.8343, 113.42200000000001, 108.7881, 106.8748, 109.7455, 114.5149, 127.7622, 113.61399999999999, 112.2707, 111.7088, 113.9456, 119.464, 115.7221, 126.1917, 122.6086, 106.1655, 96.02564, 108.8701, 118.1529, 121.4554, 112.2922, 102.7103, 117.333, 88.7879, 85.17822, 101.4868, 120.0985], \"marker\": {\"color\": [25.787593916455254, 17.233687939614086, 20.639767440550294, 14.966629547095765, 8.18535277187245, 32.155870381627054, 13.114877048604, 9.0, 10.816653826391969, 13.114877048604, 16.64331697709324, 30.23243291566195, 157.96518603793686, 27.784887978899608, 7.0710678118654755, 20.199009876724155, 25.709920264364882, 8.06225774829855, 9.9498743710662, 6.557438524302, 4.242640687119285, 13.564659966250536, 19.6468827043885, 16.64331697709324, 10.198039027185569, 18.547236990991408, 9.0, 1.0, 6.244997998398398, 11.74734012447073, 31.71750305430741], \"coloraxis\": \"coloraxis\", \"size\": [25.787593916455254, 17.233687939614086, 20.639767440550294, 14.966629547095765, 8.18535277187245, 32.155870381627054, 13.114877048604, 9.0, 10.816653826391969, 13.114877048604, 16.64331697709324, 30.23243291566195, 157.96518603793686, 27.784887978899608, 7.0710678118654755, 20.199009876724155, 25.709920264364882, 8.06225774829855, 9.9498743710662, 6.557438524302, 4.242640687119285, 13.564659966250536, 19.6468827043885, 16.64331697709324, 10.198039027185569, 18.547236990991408, 9.0, 1.0, 6.244997998398398, 11.74734012447073, 31.71750305430741], \"sizemode\": \"area\", \"sizeref\": 0.622650584196305}, \"name\": \"\", \"showlegend\": false, \"type\": \"scattergeo\"}], \"name\": \"02/07/2020\"}, {\"data\": [{\"customdata\": [[733, 0, 59], [315, 2, 34], [428, 2, 39], [239, 0, 24], [79, 1, 12], [1095, 1, 112], [183, 0, 17], [89, 1, 7], [124, 2, 14], [195, 1, 30], [295, 5, 13], [981, 4, 116], [27100, 780, 1439], [803, 1, 156], [52, 0, 5], [439, 0, 51], [698, 0, 55], [69, 1, 4], [105, 0, 8], [45, 0, 15], [18, 0, 3], [195, 0, 20], [416, 0, 44], [286, 1, 41], [115, 0, 21], [364, 1, 60], [88, 1, 4], [1, 0, 0], [42, 0, 0], [138, 0, 17], [1048, 0, 175]], \"geo\": \"geo\", \"hoverlabel\": {\"namelength\": 0}, \"hovertemplate\": \"<b>%{hovertext}</b><br><br>Date=02/08/2020<br>size=%{marker.color}<br>Confirmed=%{customdata[0]}<br>Deaths=%{customdata[1]}<br>Recovered=%{customdata[2]}<br>Lat=%{lat}<br>Long=%{lon}\", \"hovertext\": [\"Anhui\", \"Beijing\", \"Chongqing\", \"Fujian\", \"Gansu\", \"Guangdong\", \"Guangxi\", \"Guizhou\", \"Hainan\", \"Hebei\", \"Heilongjiang\", \"Henan\", \"Hubei\", \"Hunan\", \"Inner Mongolia\", \"Jiangsu\", \"Jiangxi\", \"Jilin\", \"Liaoning\", \"Ningxia\", \"Qinghai\", \"Shaanxi\", \"Shandong\", \"Shanghai\", \"Shanxi\", \"Sichuan\", \"Tianjin\", \"Tibet\", \"Xinjiang\", \"Yunnan\", \"Zhejiang\"], \"lat\": [31.825709999999997, 40.18238, 30.05718, 26.07783, 36.0611, 23.33841, 23.829079999999998, 26.81536, 19.19673, 38.0428, 47.861999999999995, 33.882020000000004, 30.975640000000002, 27.610409999999998, 44.09448, 32.97027, 27.614009999999997, 43.66657, 41.292840000000005, 37.26923, 35.65945, 35.19165, 36.34377, 31.20327, 37.577690000000004, 30.617140000000003, 39.293620000000004, 30.1534, 41.11981, 24.97411, 29.182509999999997], \"legendgroup\": \"\", \"lon\": [117.2264, 116.4142, 107.874, 117.9895, 103.8343, 113.42200000000001, 108.7881, 106.8748, 109.7455, 114.5149, 127.7622, 113.61399999999999, 112.2707, 111.7088, 113.9456, 119.464, 115.7221, 126.1917, 122.6086, 106.1655, 96.02564, 108.8701, 118.1529, 121.4554, 112.2922, 102.7103, 117.333, 88.7879, 85.17822, 101.4868, 120.0985], \"marker\": {\"color\": [27.073972741361768, 17.74823934929885, 20.688160865577203, 15.459624833740307, 8.888194417315589, 33.090784215548595, 13.527749258468683, 9.433981132056603, 11.135528725660043, 13.96424004376894, 17.175564037317667, 31.32091952673165, 164.62077633154328, 28.337254630609507, 7.211102550927978, 20.952326839756964, 26.419689627245813, 8.306623862918075, 10.246950765959598, 6.708203932499369, 4.242640687119285, 13.96424004376894, 20.396078054371138, 16.911534525287763, 10.723805294763608, 19.078784028338912, 9.38083151964686, 1.0, 6.48074069840786, 11.74734012447073, 32.37282811247729], \"coloraxis\": \"coloraxis\", \"size\": [27.073972741361768, 17.74823934929885, 20.688160865577203, 15.459624833740307, 8.888194417315589, 33.090784215548595, 13.527749258468683, 9.433981132056603, 11.135528725660043, 13.96424004376894, 17.175564037317667, 31.32091952673165, 164.62077633154328, 28.337254630609507, 7.211102550927978, 20.952326839756964, 26.419689627245813, 8.306623862918075, 10.246950765959598, 6.708203932499369, 4.242640687119285, 13.96424004376894, 20.396078054371138, 16.911534525287763, 10.723805294763608, 19.078784028338912, 9.38083151964686, 1.0, 6.48074069840786, 11.74734012447073, 32.37282811247729], \"sizemode\": \"area\", \"sizeref\": 0.622650584196305}, \"name\": \"\", \"showlegend\": false, \"type\": \"scattergeo\"}], \"name\": \"02/08/2020\"}, {\"data\": [{\"customdata\": [[779, 1, 72], [326, 2, 37], [468, 2, 51], [250, 0, 35], [83, 2, 16], [1131, 1, 141], [195, 1, 18], [99, 1, 7], [131, 3, 19], [206, 2, 34], [307, 6, 14], [1033, 6, 153], [29631, 871, 1795], [838, 1, 186], [54, 0, 5], [468, 0, 71], [740, 0, 73], [78, 1, 12], [107, 0, 12], [45, 0, 13], [18, 0, 3], [208, 0, 25], [444, 1, 63], [293, 1, 44], [119, 0, 25], [386, 1, 71], [91, 1, 4], [1, 0, 0], [45, 0, 0], [141, 0, 18], [1075, 0, 201]], \"geo\": \"geo\", \"hoverlabel\": {\"namelength\": 0}, \"hovertemplate\": \"<b>%{hovertext}</b><br><br>Date=02/09/2020<br>size=%{marker.color}<br>Confirmed=%{customdata[0]}<br>Deaths=%{customdata[1]}<br>Recovered=%{customdata[2]}<br>Lat=%{lat}<br>Long=%{lon}\", \"hovertext\": [\"Anhui\", \"Beijing\", \"Chongqing\", \"Fujian\", \"Gansu\", \"Guangdong\", \"Guangxi\", \"Guizhou\", \"Hainan\", \"Hebei\", \"Heilongjiang\", \"Henan\", \"Hubei\", \"Hunan\", \"Inner Mongolia\", \"Jiangsu\", \"Jiangxi\", \"Jilin\", \"Liaoning\", \"Ningxia\", \"Qinghai\", \"Shaanxi\", \"Shandong\", \"Shanghai\", \"Shanxi\", \"Sichuan\", \"Tianjin\", \"Tibet\", \"Xinjiang\", \"Yunnan\", \"Zhejiang\"], \"lat\": [31.825709999999997, 40.18238, 30.05718, 26.07783, 36.0611, 23.33841, 23.829079999999998, 26.81536, 19.19673, 38.0428, 47.861999999999995, 33.882020000000004, 30.975640000000002, 27.610409999999998, 44.09448, 32.97027, 27.614009999999997, 43.66657, 41.292840000000005, 37.26923, 35.65945, 35.19165, 36.34377, 31.20327, 37.577690000000004, 30.617140000000003, 39.293620000000004, 30.1534, 41.11981, 24.97411, 29.182509999999997], \"legendgroup\": \"\", \"lon\": [117.2264, 116.4142, 107.874, 117.9895, 103.8343, 113.42200000000001, 108.7881, 106.8748, 109.7455, 114.5149, 127.7622, 113.61399999999999, 112.2707, 111.7088, 113.9456, 119.464, 115.7221, 126.1917, 122.6086, 106.1655, 96.02564, 108.8701, 118.1529, 121.4554, 112.2922, 102.7103, 117.333, 88.7879, 85.17822, 101.4868, 120.0985], \"marker\": {\"color\": [27.910571473905726, 18.05547008526779, 21.633307652783937, 15.811388300841896, 9.1104335791443, 33.63034344160047, 13.96424004376894, 9.9498743710662, 11.445523142259598, 14.352700094407323, 17.52141546793523, 32.14031735997639, 172.13657368496678, 28.948229652260256, 7.3484692283495345, 21.633307652783937, 27.202941017470888, 8.831760866327848, 10.344080432788601, 6.708203932499369, 4.242640687119285, 14.422205101855956, 21.071307505705477, 17.11724276862369, 10.908712114635714, 19.6468827043885, 9.539392014169456, 1.0, 6.708203932499369, 11.874342087037917, 32.78719262151], \"coloraxis\": \"coloraxis\", \"size\": [27.910571473905726, 18.05547008526779, 21.633307652783937, 15.811388300841896, 9.1104335791443, 33.63034344160047, 13.96424004376894, 9.9498743710662, 11.445523142259598, 14.352700094407323, 17.52141546793523, 32.14031735997639, 172.13657368496678, 28.948229652260256, 7.3484692283495345, 21.633307652783937, 27.202941017470888, 8.831760866327848, 10.344080432788601, 6.708203932499369, 4.242640687119285, 14.422205101855956, 21.071307505705477, 17.11724276862369, 10.908712114635714, 19.6468827043885, 9.539392014169456, 1.0, 6.708203932499369, 11.874342087037917, 32.78719262151], \"sizemode\": \"area\", \"sizeref\": 0.622650584196305}, \"name\": \"\", \"showlegend\": false, \"type\": \"scattergeo\"}], \"name\": \"02/09/2020\"}, {\"data\": [{\"customdata\": [[830, 3, 88], [337, 2, 44], [486, 2, 66], [261, 0, 39], [83, 2, 17], [1159, 1, 167], [210, 1, 24], [109, 1, 10], [138, 3, 19], [218, 2, 41], [331, 7, 30], [1073, 6, 191], [31728, 974, 2222], [879, 1, 208], [58, 0, 5], [492, 0, 81], [771, 1, 105], [80, 1, 13], [108, 0, 13], [49, 0, 13], [18, 0, 3], [213, 0, 30], [466, 1, 66], [299, 1, 48], [119, 0, 25], [405, 1, 80], [95, 1, 8], [1, 0, 0], [49, 0, 0], [149, 0, 19], [1092, 0, 242]], \"geo\": \"geo\", \"hoverlabel\": {\"namelength\": 0}, \"hovertemplate\": \"<b>%{hovertext}</b><br><br>Date=02/10/2020<br>size=%{marker.color}<br>Confirmed=%{customdata[0]}<br>Deaths=%{customdata[1]}<br>Recovered=%{customdata[2]}<br>Lat=%{lat}<br>Long=%{lon}\", \"hovertext\": [\"Anhui\", \"Beijing\", \"Chongqing\", \"Fujian\", \"Gansu\", \"Guangdong\", \"Guangxi\", \"Guizhou\", \"Hainan\", \"Hebei\", \"Heilongjiang\", \"Henan\", \"Hubei\", \"Hunan\", \"Inner Mongolia\", \"Jiangsu\", \"Jiangxi\", \"Jilin\", \"Liaoning\", \"Ningxia\", \"Qinghai\", \"Shaanxi\", \"Shandong\", \"Shanghai\", \"Shanxi\", \"Sichuan\", \"Tianjin\", \"Tibet\", \"Xinjiang\", \"Yunnan\", \"Zhejiang\"], \"lat\": [31.825709999999997, 40.18238, 30.05718, 26.07783, 36.0611, 23.33841, 23.829079999999998, 26.81536, 19.19673, 38.0428, 47.861999999999995, 33.882020000000004, 30.975640000000002, 27.610409999999998, 44.09448, 32.97027, 27.614009999999997, 43.66657, 41.292840000000005, 37.26923, 35.65945, 35.19165, 36.34377, 31.20327, 37.577690000000004, 30.617140000000003, 39.293620000000004, 30.1534, 41.11981, 24.97411, 29.182509999999997], \"legendgroup\": \"\", \"lon\": [117.2264, 116.4142, 107.874, 117.9895, 103.8343, 113.42200000000001, 108.7881, 106.8748, 109.7455, 114.5149, 127.7622, 113.61399999999999, 112.2707, 111.7088, 113.9456, 119.464, 115.7221, 126.1917, 122.6086, 106.1655, 96.02564, 108.8701, 118.1529, 121.4554, 112.2922, 102.7103, 117.333, 88.7879, 85.17822, 101.4868, 120.0985], \"marker\": {\"color\": [28.809720581775867, 18.35755975068582, 22.045407685048602, 16.15549442140351, 9.1104335791443, 34.044089061098404, 14.491376746189438, 10.44030650891055, 11.74734012447073, 14.7648230602334, 18.193405398660254, 32.7566787083184, 178.12355262569855, 29.647934160747187, 7.615773105863909, 22.181073012818835, 27.76688675382964, 8.94427190999916, 10.392304845413264, 7.0, 4.242640687119285, 14.594519519326424, 21.587033144922902, 17.291616465790582, 10.908712114635714, 20.12461179749811, 9.746794344808963, 1.0, 7.0, 12.206555615733702, 33.04542328371661], \"coloraxis\": \"coloraxis\", \"size\": [28.809720581775867, 18.35755975068582, 22.045407685048602, 16.15549442140351, 9.1104335791443, 34.044089061098404, 14.491376746189438, 10.44030650891055, 11.74734012447073, 14.7648230602334, 18.193405398660254, 32.7566787083184, 178.12355262569855, 29.647934160747187, 7.615773105863909, 22.181073012818835, 27.76688675382964, 8.94427190999916, 10.392304845413264, 7.0, 4.242640687119285, 14.594519519326424, 21.587033144922902, 17.291616465790582, 10.908712114635714, 20.12461179749811, 9.746794344808963, 1.0, 7.0, 12.206555615733702, 33.04542328371661], \"sizemode\": \"area\", \"sizeref\": 0.622650584196305}, \"name\": \"\", \"showlegend\": false, \"type\": \"scattergeo\"}], \"name\": \"02/10/2020\"}, {\"data\": [{\"customdata\": [[860, 4, 105], [342, 3, 48], [505, 3, 79], [267, 0, 45], [86, 2, 24], [1177, 1, 212], [215, 1, 33], [127, 1, 17], [144, 3, 20], [239, 2, 48], [360, 8, 28], [1105, 7, 218], [33366, 1068, 2639], [912, 1, 247], [58, 0, 5], [515, 0, 93], [804, 1, 128], [81, 1, 18], [111, 0, 19], [53, 0, 22], [18, 0, 5], [219, 0, 32], [487, 1, 80], [303, 1, 52], [124, 0, 30], [417, 1, 85], [106, 2, 10], [1, 0, 0], [55, 0, 3], [153, 0, 20], [1117, 0, 270]], \"geo\": \"geo\", \"hoverlabel\": {\"namelength\": 0}, \"hovertemplate\": \"<b>%{hovertext}</b><br><br>Date=02/11/2020<br>size=%{marker.color}<br>Confirmed=%{customdata[0]}<br>Deaths=%{customdata[1]}<br>Recovered=%{customdata[2]}<br>Lat=%{lat}<br>Long=%{lon}\", \"hovertext\": [\"Anhui\", \"Beijing\", \"Chongqing\", \"Fujian\", \"Gansu\", \"Guangdong\", \"Guangxi\", \"Guizhou\", \"Hainan\", \"Hebei\", \"Heilongjiang\", \"Henan\", \"Hubei\", \"Hunan\", \"Inner Mongolia\", \"Jiangsu\", \"Jiangxi\", \"Jilin\", \"Liaoning\", \"Ningxia\", \"Qinghai\", \"Shaanxi\", \"Shandong\", \"Shanghai\", \"Shanxi\", \"Sichuan\", \"Tianjin\", \"Tibet\", \"Xinjiang\", \"Yunnan\", \"Zhejiang\"], \"lat\": [31.825709999999997, 40.18238, 30.05718, 26.07783, 36.0611, 23.33841, 23.829079999999998, 26.81536, 19.19673, 38.0428, 47.861999999999995, 33.882020000000004, 30.975640000000002, 27.610409999999998, 44.09448, 32.97027, 27.614009999999997, 43.66657, 41.292840000000005, 37.26923, 35.65945, 35.19165, 36.34377, 31.20327, 37.577690000000004, 30.617140000000003, 39.293620000000004, 30.1534, 41.11981, 24.97411, 29.182509999999997], \"legendgroup\": \"\", \"lon\": [117.2264, 116.4142, 107.874, 117.9895, 103.8343, 113.42200000000001, 108.7881, 106.8748, 109.7455, 114.5149, 127.7622, 113.61399999999999, 112.2707, 111.7088, 113.9456, 119.464, 115.7221, 126.1917, 122.6086, 106.1655, 96.02564, 108.8701, 118.1529, 121.4554, 112.2922, 102.7103, 117.333, 88.7879, 85.17822, 101.4868, 120.0985], \"marker\": {\"color\": [29.32575659723036, 18.49324200890693, 22.47220505424423, 16.34013463836819, 9.273618495495704, 34.307433596816885, 14.66287829861518, 11.269427669584644, 12.0, 15.459624833740307, 18.973665961010276, 33.24154027718932, 182.6636252788168, 30.199337741083, 7.615773105863909, 22.693611435820433, 28.35489375751565, 9.0, 10.535653752852738, 7.280109889280518, 4.242640687119285, 14.798648586948742, 22.06807649071391, 17.406895185529212, 11.135528725660043, 20.42057785666214, 10.295630140987, 1.0, 7.416198487095663, 12.36931687685298, 33.421549934136806], \"coloraxis\": \"coloraxis\", \"size\": [29.32575659723036, 18.49324200890693, 22.47220505424423, 16.34013463836819, 9.273618495495704, 34.307433596816885, 14.66287829861518, 11.269427669584644, 12.0, 15.459624833740307, 18.973665961010276, 33.24154027718932, 182.6636252788168, 30.199337741083, 7.615773105863909, 22.693611435820433, 28.35489375751565, 9.0, 10.535653752852738, 7.280109889280518, 4.242640687119285, 14.798648586948742, 22.06807649071391, 17.406895185529212, 11.135528725660043, 20.42057785666214, 10.295630140987, 1.0, 7.416198487095663, 12.36931687685298, 33.421549934136806], \"sizemode\": \"area\", \"sizeref\": 0.622650584196305}, \"name\": \"\", \"showlegend\": false, \"type\": \"scattergeo\"}], \"name\": \"02/11/2020\"}, {\"data\": [{\"customdata\": [[889, 4, 127], [352, 3, 56], [518, 3, 102], [272, 0, 53], [87, 2, 31], [1219, 1, 275], [222, 1, 32], [133, 1, 18], [157, 4, 27], [251, 2, 54], [378, 8, 31], [1135, 8, 246], [33366, 1068, 2686], [946, 2, 304], [60, 0, 6], [543, 0, 125], [844, 1, 152], [83, 1, 22], [116, 1, 20], [58, 0, 24], [18, 0, 9], [225, 0, 43], [497, 2, 92], [311, 1, 57], [126, 0, 33], [436, 1, 92], [112, 2, 11], [1, 0, 1], [59, 0, 3], [154, 0, 26], [1131, 0, 321]], \"geo\": \"geo\", \"hoverlabel\": {\"namelength\": 0}, \"hovertemplate\": \"<b>%{hovertext}</b><br><br>Date=02/12/2020<br>size=%{marker.color}<br>Confirmed=%{customdata[0]}<br>Deaths=%{customdata[1]}<br>Recovered=%{customdata[2]}<br>Lat=%{lat}<br>Long=%{lon}\", \"hovertext\": [\"Anhui\", \"Beijing\", \"Chongqing\", \"Fujian\", \"Gansu\", \"Guangdong\", \"Guangxi\", \"Guizhou\", \"Hainan\", \"Hebei\", \"Heilongjiang\", \"Henan\", \"Hubei\", \"Hunan\", \"Inner Mongolia\", \"Jiangsu\", \"Jiangxi\", \"Jilin\", \"Liaoning\", \"Ningxia\", \"Qinghai\", \"Shaanxi\", \"Shandong\", \"Shanghai\", \"Shanxi\", \"Sichuan\", \"Tianjin\", \"Tibet\", \"Xinjiang\", \"Yunnan\", \"Zhejiang\"], \"lat\": [31.825709999999997, 40.18238, 30.05718, 26.07783, 36.0611, 23.33841, 23.829079999999998, 26.81536, 19.19673, 38.0428, 47.861999999999995, 33.882020000000004, 30.975640000000002, 27.610409999999998, 44.09448, 32.97027, 27.614009999999997, 43.66657, 41.292840000000005, 37.26923, 35.65945, 35.19165, 36.34377, 31.20327, 37.577690000000004, 30.617140000000003, 39.293620000000004, 30.1534, 41.11981, 24.97411, 29.182509999999997], \"legendgroup\": \"\", \"lon\": [117.2264, 116.4142, 107.874, 117.9895, 103.8343, 113.42200000000001, 108.7881, 106.8748, 109.7455, 114.5149, 127.7622, 113.61399999999999, 112.2707, 111.7088, 113.9456, 119.464, 115.7221, 126.1917, 122.6086, 106.1655, 96.02564, 108.8701, 118.1529, 121.4554, 112.2922, 102.7103, 117.333, 88.7879, 85.17822, 101.4868, 120.0985], \"marker\": {\"color\": [29.816103031751148, 18.76166303929372, 22.759613353482084, 16.492422502470642, 9.327379053088816, 34.91418050019218, 14.89966442575134, 11.532562594670797, 12.529964086141668, 15.84297951775486, 19.44222209522358, 33.689761055846034, 182.6636252788168, 30.757112998459398, 7.745966692414834, 23.302360395462088, 29.0516780926679, 9.1104335791443, 10.770329614269007, 7.615773105863909, 4.242640687119285, 15.0, 22.293496809607955, 17.635192088548397, 11.224972160321824, 20.8806130178211, 10.583005244258363, 1.0, 7.681145747868608, 12.409673645990857, 33.63034344160047], \"coloraxis\": \"coloraxis\", \"size\": [29.816103031751148, 18.76166303929372, 22.759613353482084, 16.492422502470642, 9.327379053088816, 34.91418050019218, 14.89966442575134, 11.532562594670797, 12.529964086141668, 15.84297951775486, 19.44222209522358, 33.689761055846034, 182.6636252788168, 30.757112998459398, 7.745966692414834, 23.302360395462088, 29.0516780926679, 9.1104335791443, 10.770329614269007, 7.615773105863909, 4.242640687119285, 15.0, 22.293496809607955, 17.635192088548397, 11.224972160321824, 20.8806130178211, 10.583005244258363, 1.0, 7.681145747868608, 12.409673645990857, 33.63034344160047], \"sizemode\": \"area\", \"sizeref\": 0.622650584196305}, \"name\": \"\", \"showlegend\": false, \"type\": \"scattergeo\"}], \"name\": \"02/12/2020\"}, {\"data\": [{\"customdata\": [[910, 5, 157], [366, 3, 69], [529, 4, 128], [279, 0, 57], [90, 2, 39], [1241, 2, 314], [222, 2, 33], [135, 1, 27], [157, 4, 30], [265, 3, 68], [395, 9, 33], [1169, 10, 296], [48206, 1310, 3459], [968, 2, 339], [61, 0, 6], [570, 0, 139], [872, 1, 170], [84, 1, 24], [117, 1, 22], [64, 0, 24], [18, 0, 11], [229, 0, 46], [509, 2, 105], [315, 1, 62], [126, 0, 36], [451, 1, 104], [119, 3, 21], [1, 0, 1], [63, 1, 6], [156, 0, 27], [1145, 0, 360]], \"geo\": \"geo\", \"hoverlabel\": {\"namelength\": 0}, \"hovertemplate\": \"<b>%{hovertext}</b><br><br>Date=02/13/2020<br>size=%{marker.color}<br>Confirmed=%{customdata[0]}<br>Deaths=%{customdata[1]}<br>Recovered=%{customdata[2]}<br>Lat=%{lat}<br>Long=%{lon}\", \"hovertext\": [\"Anhui\", \"Beijing\", \"Chongqing\", \"Fujian\", \"Gansu\", \"Guangdong\", \"Guangxi\", \"Guizhou\", \"Hainan\", \"Hebei\", \"Heilongjiang\", \"Henan\", \"Hubei\", \"Hunan\", \"Inner Mongolia\", \"Jiangsu\", \"Jiangxi\", \"Jilin\", \"Liaoning\", \"Ningxia\", \"Qinghai\", \"Shaanxi\", \"Shandong\", \"Shanghai\", \"Shanxi\", \"Sichuan\", \"Tianjin\", \"Tibet\", \"Xinjiang\", \"Yunnan\", \"Zhejiang\"], \"lat\": [31.825709999999997, 40.18238, 30.05718, 26.07783, 36.0611, 23.33841, 23.829079999999998, 26.81536, 19.19673, 38.0428, 47.861999999999995, 33.882020000000004, 30.975640000000002, 27.610409999999998, 44.09448, 32.97027, 27.614009999999997, 43.66657, 41.292840000000005, 37.26923, 35.65945, 35.19165, 36.34377, 31.20327, 37.577690000000004, 30.617140000000003, 39.293620000000004, 30.1534, 41.11981, 24.97411, 29.182509999999997], \"legendgroup\": \"\", \"lon\": [117.2264, 116.4142, 107.874, 117.9895, 103.8343, 113.42200000000001, 108.7881, 106.8748, 109.7455, 114.5149, 127.7622, 113.61399999999999, 112.2707, 111.7088, 113.9456, 119.464, 115.7221, 126.1917, 122.6086, 106.1655, 96.02564, 108.8701, 118.1529, 121.4554, 112.2922, 102.7103, 117.333, 88.7879, 85.17822, 101.4868, 120.0985], \"marker\": {\"color\": [30.166206257996713, 19.131126469708992, 23.0, 16.703293088490067, 9.486832980505138, 35.22782990761707, 14.89966442575134, 11.61895003862225, 12.529964086141668, 16.278820596099706, 19.87460691435179, 34.19064199455752, 219.5586482013405, 31.11269837220809, 7.810249675906654, 23.874672772626646, 29.5296461204668, 9.16515138991168, 10.816653826391969, 8.0, 4.242640687119285, 15.132745950421556, 22.561028345356956, 17.74823934929885, 11.224972160321824, 21.236760581595302, 10.908712114635714, 1.0, 7.937253933193772, 12.489995996796797, 33.83784863137726], \"coloraxis\": \"coloraxis\", \"size\": [30.166206257996713, 19.131126469708992, 23.0, 16.703293088490067, 9.486832980505138, 35.22782990761707, 14.89966442575134, 11.61895003862225, 12.529964086141668, 16.278820596099706, 19.87460691435179, 34.19064199455752, 219.5586482013405, 31.11269837220809, 7.810249675906654, 23.874672772626646, 29.5296461204668, 9.16515138991168, 10.816653826391969, 8.0, 4.242640687119285, 15.132745950421556, 22.561028345356956, 17.74823934929885, 11.224972160321824, 21.236760581595302, 10.908712114635714, 1.0, 7.937253933193772, 12.489995996796797, 33.83784863137726], \"sizemode\": \"area\", \"sizeref\": 0.622650584196305}, \"name\": \"\", \"showlegend\": false, \"type\": \"scattergeo\"}], \"name\": \"02/13/2020\"}, {\"data\": [{\"customdata\": [[934, 6, 193], [372, 3, 80], [537, 5, 152], [281, 0, 63], [90, 2, 39], [1261, 2, 362], [226, 2, 36], [140, 1, 28], [159, 4, 43], [283, 3, 87], [419, 11, 47], [1184, 11, 357], [54406, 1457, 4774], [988, 2, 364], [65, 0, 6], [593, 0, 157], [900, 1, 187], [86, 1, 25], [119, 1, 29], [67, 0, 24], [18, 0, 11], [230, 0, 54], [523, 2, 136], [318, 1, 90], [127, 0, 38], [463, 1, 114], [120, 3, 31], [1, 0, 1], [65, 1, 6], [162, 0, 36], [1155, 0, 403]], \"geo\": \"geo\", \"hoverlabel\": {\"namelength\": 0}, \"hovertemplate\": \"<b>%{hovertext}</b><br><br>Date=02/14/2020<br>size=%{marker.color}<br>Confirmed=%{customdata[0]}<br>Deaths=%{customdata[1]}<br>Recovered=%{customdata[2]}<br>Lat=%{lat}<br>Long=%{lon}\", \"hovertext\": [\"Anhui\", \"Beijing\", \"Chongqing\", \"Fujian\", \"Gansu\", \"Guangdong\", \"Guangxi\", \"Guizhou\", \"Hainan\", \"Hebei\", \"Heilongjiang\", \"Henan\", \"Hubei\", \"Hunan\", \"Inner Mongolia\", \"Jiangsu\", \"Jiangxi\", \"Jilin\", \"Liaoning\", \"Ningxia\", \"Qinghai\", \"Shaanxi\", \"Shandong\", \"Shanghai\", \"Shanxi\", \"Sichuan\", \"Tianjin\", \"Tibet\", \"Xinjiang\", \"Yunnan\", \"Zhejiang\"], \"lat\": [31.825709999999997, 40.18238, 30.05718, 26.07783, 36.0611, 23.33841, 23.829079999999998, 26.81536, 19.19673, 38.0428, 47.861999999999995, 33.882020000000004, 30.975640000000002, 27.610409999999998, 44.09448, 32.97027, 27.614009999999997, 43.66657, 41.292840000000005, 37.26923, 35.65945, 35.19165, 36.34377, 31.20327, 37.577690000000004, 30.617140000000003, 39.293620000000004, 30.1534, 41.11981, 24.97411, 29.182509999999997], \"legendgroup\": \"\", \"lon\": [117.2264, 116.4142, 107.874, 117.9895, 103.8343, 113.42200000000001, 108.7881, 106.8748, 109.7455, 114.5149, 127.7622, 113.61399999999999, 112.2707, 111.7088, 113.9456, 119.464, 115.7221, 126.1917, 122.6086, 106.1655, 96.02564, 108.8701, 118.1529, 121.4554, 112.2922, 102.7103, 117.333, 88.7879, 85.17822, 101.4868, 120.0985], \"marker\": {\"color\": [30.56141357987225, 19.28730152198591, 23.173260452512935, 16.76305461424021, 9.486832980505138, 35.510561809129406, 15.033296378372908, 11.832159566199232, 12.609520212918492, 16.822603841260722, 20.46948949045872, 34.40930106817051, 233.25093783305567, 31.432467291003423, 8.06225774829855, 24.351591323771842, 30.0, 9.273618495495704, 10.908712114635714, 8.18535277187245, 4.242640687119285, 15.165750888103101, 22.869193252058544, 17.832554500127006, 11.269427669584644, 21.517434791350013, 10.954451150103322, 1.0, 8.06225774829855, 12.727922061357855, 33.98529093593286], \"coloraxis\": \"coloraxis\", \"size\": [30.56141357987225, 19.28730152198591, 23.173260452512935, 16.76305461424021, 9.486832980505138, 35.510561809129406, 15.033296378372908, 11.832159566199232, 12.609520212918492, 16.822603841260722, 20.46948949045872, 34.40930106817051, 233.25093783305567, 31.432467291003423, 8.06225774829855, 24.351591323771842, 30.0, 9.273618495495704, 10.908712114635714, 8.18535277187245, 4.242640687119285, 15.165750888103101, 22.869193252058544, 17.832554500127006, 11.269427669584644, 21.517434791350013, 10.954451150103322, 1.0, 8.06225774829855, 12.727922061357855, 33.98529093593286], \"sizemode\": \"area\", \"sizeref\": 0.622650584196305}, \"name\": \"\", \"showlegend\": false, \"type\": \"scattergeo\"}], \"name\": \"02/14/2020\"}, {\"data\": [{\"customdata\": [[950, 6, 221], [375, 4, 98], [544, 5, 184], [285, 0, 71], [90, 2, 49], [1294, 2, 410], [235, 2, 44], [143, 1, 41], [162, 4, 39], [291, 3, 101], [425, 11, 68], [1212, 13, 391], [56249, 1596, 5623], [1001, 2, 425], [68, 0, 7], [604, 0, 186], [913, 1, 210], [88, 1, 26], [119, 1, 31], [70, 0, 33], [18, 0, 13], [232, 0, 60], [532, 2, 156], [326, 1, 124], [128, 0, 46], [470, 1, 119], [122, 3, 37], [1, 0, 1], [70, 1, 10], [168, 0, 42], [1162, 0, 428]], \"geo\": \"geo\", \"hoverlabel\": {\"namelength\": 0}, \"hovertemplate\": \"<b>%{hovertext}</b><br><br>Date=02/15/2020<br>size=%{marker.color}<br>Confirmed=%{customdata[0]}<br>Deaths=%{customdata[1]}<br>Recovered=%{customdata[2]}<br>Lat=%{lat}<br>Long=%{lon}\", \"hovertext\": [\"Anhui\", \"Beijing\", \"Chongqing\", \"Fujian\", \"Gansu\", \"Guangdong\", \"Guangxi\", \"Guizhou\", \"Hainan\", \"Hebei\", \"Heilongjiang\", \"Henan\", \"Hubei\", \"Hunan\", \"Inner Mongolia\", \"Jiangsu\", \"Jiangxi\", \"Jilin\", \"Liaoning\", \"Ningxia\", \"Qinghai\", \"Shaanxi\", \"Shandong\", \"Shanghai\", \"Shanxi\", \"Sichuan\", \"Tianjin\", \"Tibet\", \"Xinjiang\", \"Yunnan\", \"Zhejiang\"], \"lat\": [31.825709999999997, 40.18238, 30.05718, 26.07783, 36.0611, 23.33841, 23.829079999999998, 26.81536, 19.19673, 38.0428, 47.861999999999995, 33.882020000000004, 30.975640000000002, 27.610409999999998, 44.09448, 32.97027, 27.614009999999997, 43.66657, 41.292840000000005, 37.26923, 35.65945, 35.19165, 36.34377, 31.20327, 37.577690000000004, 30.617140000000003, 39.293620000000004, 30.1534, 41.11981, 24.97411, 29.182509999999997], \"legendgroup\": \"\", \"lon\": [117.2264, 116.4142, 107.874, 117.9895, 103.8343, 113.42200000000001, 108.7881, 106.8748, 109.7455, 114.5149, 127.7622, 113.61399999999999, 112.2707, 111.7088, 113.9456, 119.464, 115.7221, 126.1917, 122.6086, 106.1655, 96.02564, 108.8701, 118.1529, 121.4554, 112.2922, 102.7103, 117.333, 88.7879, 85.17822, 101.4868, 120.0985], \"marker\": {\"color\": [30.822070014844883, 19.364916731037084, 23.323807579381203, 16.881943016134134, 9.486832980505138, 35.9722114972099, 15.329709716755891, 11.958260743101398, 12.727922061357855, 17.05872210923198, 20.615528128088304, 34.813790371058424, 237.16871631815187, 31.63858403911275, 8.246211251235321, 24.576411454889016, 30.215889859476256, 9.38083151964686, 10.908712114635714, 8.366600265340756, 4.242640687119285, 15.231546211727817, 23.065125189341593, 18.05547008526779, 11.313708498984761, 21.6794833886788, 11.045361017187261, 1.0, 8.366600265340756, 12.96148139681572, 34.08812109811862], \"coloraxis\": \"coloraxis\", \"size\": [30.822070014844883, 19.364916731037084, 23.323807579381203, 16.881943016134134, 9.486832980505138, 35.9722114972099, 15.329709716755891, 11.958260743101398, 12.727922061357855, 17.05872210923198, 20.615528128088304, 34.813790371058424, 237.16871631815187, 31.63858403911275, 8.246211251235321, 24.576411454889016, 30.215889859476256, 9.38083151964686, 10.908712114635714, 8.366600265340756, 4.242640687119285, 15.231546211727817, 23.065125189341593, 18.05547008526779, 11.313708498984761, 21.6794833886788, 11.045361017187261, 1.0, 8.366600265340756, 12.96148139681572, 34.08812109811862], \"sizemode\": \"area\", \"sizeref\": 0.622650584196305}, \"name\": \"\", \"showlegend\": false, \"type\": \"scattergeo\"}], \"name\": \"02/15/2020\"}, {\"data\": [{\"customdata\": [[962, 6, 255], [380, 4, 108], [551, 5, 207], [287, 0, 82], [90, 2, 54], [1316, 2, 465], [237, 2, 49], [144, 1, 46], [162, 4, 52], [300, 3, 105], [445, 11, 79], [1231, 13, 440], [58182, 1696, 6639], [1004, 3, 464], [70, 0, 8], [617, 0, 218], [925, 1, 240], [89, 1, 30], [121, 1, 40], [70, 0, 33], [18, 0, 13], [236, 0, 71], [537, 2, 173], [328, 1, 140], [129, 0, 50], [481, 3, 131], [124, 3, 45], [1, 0, 1], [71, 1, 12], [171, 0, 42], [1167, 0, 456]], \"geo\": \"geo\", \"hoverlabel\": {\"namelength\": 0}, \"hovertemplate\": \"<b>%{hovertext}</b><br><br>Date=02/16/2020<br>size=%{marker.color}<br>Confirmed=%{customdata[0]}<br>Deaths=%{customdata[1]}<br>Recovered=%{customdata[2]}<br>Lat=%{lat}<br>Long=%{lon}\", \"hovertext\": [\"Anhui\", \"Beijing\", \"Chongqing\", \"Fujian\", \"Gansu\", \"Guangdong\", \"Guangxi\", \"Guizhou\", \"Hainan\", \"Hebei\", \"Heilongjiang\", \"Henan\", \"Hubei\", \"Hunan\", \"Inner Mongolia\", \"Jiangsu\", \"Jiangxi\", \"Jilin\", \"Liaoning\", \"Ningxia\", \"Qinghai\", \"Shaanxi\", \"Shandong\", \"Shanghai\", \"Shanxi\", \"Sichuan\", \"Tianjin\", \"Tibet\", \"Xinjiang\", \"Yunnan\", \"Zhejiang\"], \"lat\": [31.825709999999997, 40.18238, 30.05718, 26.07783, 36.0611, 23.33841, 23.829079999999998, 26.81536, 19.19673, 38.0428, 47.861999999999995, 33.882020000000004, 30.975640000000002, 27.610409999999998, 44.09448, 32.97027, 27.614009999999997, 43.66657, 41.292840000000005, 37.26923, 35.65945, 35.19165, 36.34377, 31.20327, 37.577690000000004, 30.617140000000003, 39.293620000000004, 30.1534, 41.11981, 24.97411, 29.182509999999997], \"legendgroup\": \"\", \"lon\": [117.2264, 116.4142, 107.874, 117.9895, 103.8343, 113.42200000000001, 108.7881, 106.8748, 109.7455, 114.5149, 127.7622, 113.61399999999999, 112.2707, 111.7088, 113.9456, 119.464, 115.7221, 126.1917, 122.6086, 106.1655, 96.02564, 108.8701, 118.1529, 121.4554, 112.2922, 102.7103, 117.333, 88.7879, 85.17822, 101.4868, 120.0985], \"marker\": {\"color\": [31.016124838541646, 19.493588689617926, 23.473389188611005, 16.941074346097416, 9.486832980505138, 36.27671429443411, 15.394804318340652, 12.0, 12.727922061357855, 17.320508075688775, 21.095023109728988, 35.08560958569767, 241.20945255109717, 31.68595903550972, 8.366600265340756, 24.839484696748443, 30.4138126514911, 9.433981132056603, 11.0, 8.366600265340756, 4.242640687119285, 15.362291495737216, 23.173260452512935, 18.110770276274835, 11.357816691600547, 21.93171219946131, 11.135528725660043, 1.0, 8.426149773176359, 13.076696830622021, 34.161381705077446], \"coloraxis\": \"coloraxis\", \"size\": [31.016124838541646, 19.493588689617926, 23.473389188611005, 16.941074346097416, 9.486832980505138, 36.27671429443411, 15.394804318340652, 12.0, 12.727922061357855, 17.320508075688775, 21.095023109728988, 35.08560958569767, 241.20945255109717, 31.68595903550972, 8.366600265340756, 24.839484696748443, 30.4138126514911, 9.433981132056603, 11.0, 8.366600265340756, 4.242640687119285, 15.362291495737216, 23.173260452512935, 18.110770276274835, 11.357816691600547, 21.93171219946131, 11.135528725660043, 1.0, 8.426149773176359, 13.076696830622021, 34.161381705077446], \"sizemode\": \"area\", \"sizeref\": 0.622650584196305}, \"name\": \"\", \"showlegend\": false, \"type\": \"scattergeo\"}], \"name\": \"02/16/2020\"}, {\"data\": [{\"customdata\": [[973, 6, 280], [381, 4, 114], [553, 5, 225], [290, 0, 90], [91, 2, 58], [1322, 4, 524], [238, 2, 53], [146, 1, 57], [163, 4, 59], [301, 3, 122], [457, 11, 85], [1246, 16, 509], [59989, 1789, 7862], [1006, 3, 498], [72, 0, 8], [626, 0, 258], [930, 1, 275], [89, 1, 34], [121, 1, 43], [70, 0, 35], [18, 0, 13], [240, 0, 79], [541, 2, 191], [333, 1, 161], [130, 0, 53], [495, 3, 156], [125, 3, 46], [1, 0, 1], [75, 1, 12], [171, 0, 47], [1171, 0, 507]], \"geo\": \"geo\", \"hoverlabel\": {\"namelength\": 0}, \"hovertemplate\": \"<b>%{hovertext}</b><br><br>Date=02/17/2020<br>size=%{marker.color}<br>Confirmed=%{customdata[0]}<br>Deaths=%{customdata[1]}<br>Recovered=%{customdata[2]}<br>Lat=%{lat}<br>Long=%{lon}\", \"hovertext\": [\"Anhui\", \"Beijing\", \"Chongqing\", \"Fujian\", \"Gansu\", \"Guangdong\", \"Guangxi\", \"Guizhou\", \"Hainan\", \"Hebei\", \"Heilongjiang\", \"Henan\", \"Hubei\", \"Hunan\", \"Inner Mongolia\", \"Jiangsu\", \"Jiangxi\", \"Jilin\", \"Liaoning\", \"Ningxia\", \"Qinghai\", \"Shaanxi\", \"Shandong\", \"Shanghai\", \"Shanxi\", \"Sichuan\", \"Tianjin\", \"Tibet\", \"Xinjiang\", \"Yunnan\", \"Zhejiang\"], \"lat\": [31.825709999999997, 40.18238, 30.05718, 26.07783, 36.0611, 23.33841, 23.829079999999998, 26.81536, 19.19673, 38.0428, 47.861999999999995, 33.882020000000004, 30.975640000000002, 27.610409999999998, 44.09448, 32.97027, 27.614009999999997, 43.66657, 41.292840000000005, 37.26923, 35.65945, 35.19165, 36.34377, 31.20327, 37.577690000000004, 30.617140000000003, 39.293620000000004, 30.1534, 41.11981, 24.97411, 29.182509999999997], \"legendgroup\": \"\", \"lon\": [117.2264, 116.4142, 107.874, 117.9895, 103.8343, 113.42200000000001, 108.7881, 106.8748, 109.7455, 114.5149, 127.7622, 113.61399999999999, 112.2707, 111.7088, 113.9456, 119.464, 115.7221, 126.1917, 122.6086, 106.1655, 96.02564, 108.8701, 118.1529, 121.4554, 112.2922, 102.7103, 117.333, 88.7879, 85.17822, 101.4868, 120.0985], \"marker\": {\"color\": [31.192947920964443, 19.519221295943137, 23.515952032609693, 17.029386365926403, 9.539392014169456, 36.359317925395686, 15.427248620541512, 12.083045973594572, 12.767145334803704, 17.349351572897472, 21.37755832643195, 35.298725189445584, 244.92651959312204, 31.71750305430741, 8.48528137423857, 25.019992006393608, 30.495901363953813, 9.433981132056603, 11.0, 8.366600265340756, 4.242640687119285, 15.491933384829668, 23.259406699226016, 18.24828759089466, 11.40175425099138, 22.24859546128699, 11.180339887498949, 1.0, 8.660254037844387, 13.076696830622021, 34.219877264537345], \"coloraxis\": \"coloraxis\", \"size\": [31.192947920964443, 19.519221295943137, 23.515952032609693, 17.029386365926403, 9.539392014169456, 36.359317925395686, 15.427248620541512, 12.083045973594572, 12.767145334803704, 17.349351572897472, 21.37755832643195, 35.298725189445584, 244.92651959312204, 31.71750305430741, 8.48528137423857, 25.019992006393608, 30.495901363953813, 9.433981132056603, 11.0, 8.366600265340756, 4.242640687119285, 15.491933384829668, 23.259406699226016, 18.24828759089466, 11.40175425099138, 22.24859546128699, 11.180339887498949, 1.0, 8.660254037844387, 13.076696830622021, 34.219877264537345], \"sizemode\": \"area\", \"sizeref\": 0.622650584196305}, \"name\": \"\", \"showlegend\": false, \"type\": \"scattergeo\"}], \"name\": \"02/17/2020\"}, {\"data\": [{\"customdata\": [[982, 6, 361], [387, 4, 122], [555, 5, 254], [292, 0, 93], [91, 2, 62], [1328, 4, 565], [242, 2, 69], [146, 2, 66], [163, 4, 79], [306, 4, 136], [464, 11, 111], [1257, 19, 522], [61682, 1921, 9128], [1007, 4, 527], [73, 0, 8], [629, 0, 280], [933, 1, 310], [89, 1, 36], [121, 1, 53], [70, 0, 42], [18, 0, 15], [240, 0, 89], [543, 3, 211], [333, 1, 177], [131, 0, 61], [508, 3, 169], [128, 3, 48], [1, 0, 1], [76, 1, 12], [172, 0, 57], [1172, 0, 535]], \"geo\": \"geo\", \"hoverlabel\": {\"namelength\": 0}, \"hovertemplate\": \"<b>%{hovertext}</b><br><br>Date=02/18/2020<br>size=%{marker.color}<br>Confirmed=%{customdata[0]}<br>Deaths=%{customdata[1]}<br>Recovered=%{customdata[2]}<br>Lat=%{lat}<br>Long=%{lon}\", \"hovertext\": [\"Anhui\", \"Beijing\", \"Chongqing\", \"Fujian\", \"Gansu\", \"Guangdong\", \"Guangxi\", \"Guizhou\", \"Hainan\", \"Hebei\", \"Heilongjiang\", \"Henan\", \"Hubei\", \"Hunan\", \"Inner Mongolia\", \"Jiangsu\", \"Jiangxi\", \"Jilin\", \"Liaoning\", \"Ningxia\", \"Qinghai\", \"Shaanxi\", \"Shandong\", \"Shanghai\", \"Shanxi\", \"Sichuan\", \"Tianjin\", \"Tibet\", \"Xinjiang\", \"Yunnan\", \"Zhejiang\"], \"lat\": [31.825709999999997, 40.18238, 30.05718, 26.07783, 36.0611, 23.33841, 23.829079999999998, 26.81536, 19.19673, 38.0428, 47.861999999999995, 33.882020000000004, 30.975640000000002, 27.610409999999998, 44.09448, 32.97027, 27.614009999999997, 43.66657, 41.292840000000005, 37.26923, 35.65945, 35.19165, 36.34377, 31.20327, 37.577690000000004, 30.617140000000003, 39.293620000000004, 30.1534, 41.11981, 24.97411, 29.182509999999997], \"legendgroup\": \"\", \"lon\": [117.2264, 116.4142, 107.874, 117.9895, 103.8343, 113.42200000000001, 108.7881, 106.8748, 109.7455, 114.5149, 127.7622, 113.61399999999999, 112.2707, 111.7088, 113.9456, 119.464, 115.7221, 126.1917, 122.6086, 106.1655, 96.02564, 108.8701, 118.1529, 121.4554, 112.2922, 102.7103, 117.333, 88.7879, 85.17822, 101.4868, 120.0985], \"marker\": {\"color\": [31.336879231984796, 19.672315572906, 23.558437978779494, 17.08800749063506, 9.539392014169456, 36.4417343165772, 15.556349186104045, 12.083045973594572, 12.767145334803704, 17.4928556845359, 21.540659228538015, 35.45419580247167, 248.35861168882386, 31.73326330524486, 8.54400374531753, 25.079872407968907, 30.54504869860253, 9.433981132056603, 11.0, 8.366600265340756, 4.242640687119285, 15.491933384829668, 23.302360395462088, 18.24828759089466, 11.445523142259598, 22.538855339169288, 11.313708498984761, 1.0, 8.717797887081348, 13.114877048604, 34.23448553724738], \"coloraxis\": \"coloraxis\", \"size\": [31.336879231984796, 19.672315572906, 23.558437978779494, 17.08800749063506, 9.539392014169456, 36.4417343165772, 15.556349186104045, 12.083045973594572, 12.767145334803704, 17.4928556845359, 21.540659228538015, 35.45419580247167, 248.35861168882386, 31.73326330524486, 8.54400374531753, 25.079872407968907, 30.54504869860253, 9.433981132056603, 11.0, 8.366600265340756, 4.242640687119285, 15.491933384829668, 23.302360395462088, 18.24828759089466, 11.445523142259598, 22.538855339169288, 11.313708498984761, 1.0, 8.717797887081348, 13.114877048604, 34.23448553724738], \"sizemode\": \"area\", \"sizeref\": 0.622650584196305}, \"name\": \"\", \"showlegend\": false, \"type\": \"scattergeo\"}], \"name\": \"02/18/2020\"}, {\"data\": [{\"customdata\": [[986, 6, 413], [393, 4, 145], [560, 5, 274], [293, 0, 112], [91, 2, 65], [1331, 5, 606], [244, 2, 86], [146, 2, 70], [168, 4, 84], [306, 4, 152], [470, 12, 120], [1262, 19, 573], [62031, 2029, 10337], [1008, 4, 561], [75, 0, 10], [631, 0, 318], [934, 1, 362], [90, 1, 37], [121, 1, 55], [71, 0, 42], [18, 0, 16], [242, 0, 102], [544, 3, 231], [333, 2, 186], [131, 0, 68], [514, 3, 188], [130, 3, 54], [1, 0, 1], [76, 1, 20], [172, 1, 60], [1174, 0, 604]], \"geo\": \"geo\", \"hoverlabel\": {\"namelength\": 0}, \"hovertemplate\": \"<b>%{hovertext}</b><br><br>Date=02/19/2020<br>size=%{marker.color}<br>Confirmed=%{customdata[0]}<br>Deaths=%{customdata[1]}<br>Recovered=%{customdata[2]}<br>Lat=%{lat}<br>Long=%{lon}\", \"hovertext\": [\"Anhui\", \"Beijing\", \"Chongqing\", \"Fujian\", \"Gansu\", \"Guangdong\", \"Guangxi\", \"Guizhou\", \"Hainan\", \"Hebei\", \"Heilongjiang\", \"Henan\", \"Hubei\", \"Hunan\", \"Inner Mongolia\", \"Jiangsu\", \"Jiangxi\", \"Jilin\", \"Liaoning\", \"Ningxia\", \"Qinghai\", \"Shaanxi\", \"Shandong\", \"Shanghai\", \"Shanxi\", \"Sichuan\", \"Tianjin\", \"Tibet\", \"Xinjiang\", \"Yunnan\", \"Zhejiang\"], \"lat\": [31.825709999999997, 40.18238, 30.05718, 26.07783, 36.0611, 23.33841, 23.829079999999998, 26.81536, 19.19673, 38.0428, 47.861999999999995, 33.882020000000004, 30.975640000000002, 27.610409999999998, 44.09448, 32.97027, 27.614009999999997, 43.66657, 41.292840000000005, 37.26923, 35.65945, 35.19165, 36.34377, 31.20327, 37.577690000000004, 30.617140000000003, 39.293620000000004, 30.1534, 41.11981, 24.97411, 29.182509999999997], \"legendgroup\": \"\", \"lon\": [117.2264, 116.4142, 107.874, 117.9895, 103.8343, 113.42200000000001, 108.7881, 106.8748, 109.7455, 114.5149, 127.7622, 113.61399999999999, 112.2707, 111.7088, 113.9456, 119.464, 115.7221, 126.1917, 122.6086, 106.1655, 96.02564, 108.8701, 118.1529, 121.4554, 112.2922, 102.7103, 117.333, 88.7879, 85.17822, 101.4868, 120.0985], \"marker\": {\"color\": [31.400636936215164, 19.82422760159901, 23.664319132398465, 17.11724276862369, 9.539392014169456, 36.4828726939094, 15.620499351813308, 12.083045973594572, 12.96148139681572, 17.4928556845359, 21.6794833886788, 35.52463933666322, 249.06023367852202, 31.74901573277509, 8.660254037844387, 25.11971337416094, 30.56141357987225, 9.486832980505138, 11.0, 8.426149773176359, 4.242640687119285, 15.556349186104045, 23.323807579381203, 18.24828759089466, 11.445523142259598, 22.67156809750927, 11.40175425099138, 1.0, 8.717797887081348, 13.114877048604, 34.26368339802363], \"coloraxis\": \"coloraxis\", \"size\": [31.400636936215164, 19.82422760159901, 23.664319132398465, 17.11724276862369, 9.539392014169456, 36.4828726939094, 15.620499351813308, 12.083045973594572, 12.96148139681572, 17.4928556845359, 21.6794833886788, 35.52463933666322, 249.06023367852202, 31.74901573277509, 8.660254037844387, 25.11971337416094, 30.56141357987225, 9.486832980505138, 11.0, 8.426149773176359, 4.242640687119285, 15.556349186104045, 23.323807579381203, 18.24828759089466, 11.445523142259598, 22.67156809750927, 11.40175425099138, 1.0, 8.717797887081348, 13.114877048604, 34.26368339802363], \"sizemode\": \"area\", \"sizeref\": 0.622650584196305}, \"name\": \"\", \"showlegend\": false, \"type\": \"scattergeo\"}], \"name\": \"02/19/2020\"}]);\n",
       "                        }).then(function(){\n",
       "                            \n",
       "var gd = document.getElementById('8b861663-7a88-40de-a2ae-82d6277ab449');\n",
       "var x = new MutationObserver(function (mutations, observer) {{\n",
       "        var display = window.getComputedStyle(gd).display;\n",
       "        if (!display || display === 'none') {{\n",
       "            console.log([gd, 'removed!']);\n",
       "            Plotly.purge(gd);\n",
       "            observer.disconnect();\n",
       "        }}\n",
       "}});\n",
       "\n",
       "// Listen for the removal of the full notebook cells\n",
       "var notebookContainer = gd.closest('#notebook-container');\n",
       "if (notebookContainer) {{\n",
       "    x.observe(notebookContainer, {childList: true});\n",
       "}}\n",
       "\n",
       "// Listen for the clearing of the current output cell\n",
       "var outputEl = gd.closest('.output');\n",
       "if (outputEl) {{\n",
       "    x.observe(outputEl, {childList: true});\n",
       "}}\n",
       "\n",
       "                        })\n",
       "                };\n",
       "                });\n",
       "            </script>\n",
       "        </div>"
      ]
     },
     "metadata": {},
     "output_type": "display_data"
    }
   ],
   "source": [
    "formated_gdf = full_table.groupby(['Date', 'Country/Region'])['Confirmed', 'Deaths', 'Recovered'].max()\n",
    "formated_gdf = formated_gdf.reset_index()\n",
    "formated_gdf = formated_gdf[formated_gdf['Country/Region']!='Mainland China']\n",
    "formated_gdf['Date'] = pd.to_datetime(formated_gdf['Date'])\n",
    "formated_gdf['Date'] = formated_gdf['Date'].dt.strftime('%m/%d/%Y')\n",
    "\n",
    "fig = px.scatter_geo(formated_gdf[formated_gdf['Country/Region']!='Mainland China'], \n",
    "                     locations=\"Country/Region\", locationmode='country names', \n",
    "                     color=\"Confirmed\", size='Confirmed', hover_name=\"Country/Region\", \n",
    "                     range_color= [0, max(formated_gdf['Confirmed'])+2], \n",
    "                     projection=\"natural earth\", animation_frame=\"Date\", \n",
    "                     title='Spread outside China over time')\n",
    "fig.update(layout_coloraxis_showscale=False)\n",
    "fig.show()\n",
    "\n",
    "# -----------------------------------------------------------------------------------\n",
    "\n",
    "china_map = china.groupby(['Date', 'Province/State'])['Confirmed', 'Deaths', 'Recovered', \n",
    "                                                      'Lat', 'Long'].max()\n",
    "china_map = china_map.reset_index()\n",
    "china_map['size'] = china_map['Confirmed'].pow(0.5)\n",
    "china_map['Date'] = pd.to_datetime(china_map['Date'])\n",
    "china_map['Date'] = china_map['Date'].dt.strftime('%m/%d/%Y')\n",
    "china_map.head()\n",
    "\n",
    "fig = px.scatter_geo(china_map, lat='Lat', lon='Long', scope='asia',\n",
    "                     color=\"size\", size='size', hover_name='Province/State', \n",
    "                     hover_data=['Confirmed', 'Deaths', 'Recovered'],\n",
    "                     projection=\"natural earth\", animation_frame=\"Date\", \n",
    "                     title='Spread in China over time')\n",
    "fig.update(layout_coloraxis_showscale=False)\n",
    "fig.show()"
   ]
  },
  {
   "cell_type": "code",
   "execution_count": null,
   "metadata": {},
   "outputs": [],
   "source": []
  }
 ],
 "metadata": {
  "kernelspec": {
   "display_name": "Python 3",
   "language": "python",
   "name": "python3"
  },
  "language_info": {
   "codemirror_mode": {
    "name": "ipython",
    "version": 3
   },
   "file_extension": ".py",
   "mimetype": "text/x-python",
   "name": "python",
   "nbconvert_exporter": "python",
   "pygments_lexer": "ipython3",
   "version": "3.6.8"
  }
 },
 "nbformat": 4,
 "nbformat_minor": 2
}
